{
 "cells": [
  {
   "cell_type": "markdown",
   "metadata": {},
   "source": [
    "# Creating a Search Index\n",
    "\n",
    "The Python Library [Whoosh](https://whoosh.readthedocs.io) provides powerful text searching, although the search interface is pretty \"close-to-the-metal\".  This is a playground to see if we can make searching with Whoosh easy enough without getting distracted."
   ]
  },
  {
   "cell_type": "code",
   "execution_count": 86,
   "metadata": {},
   "outputs": [],
   "source": [
    "import os, os.path\n",
    "import json\n",
    "from pathlib import Path\n",
    "import shutil\n",
    "\n",
    "from IPython.display import HTML\n",
    "\n",
    "from whoosh import index\n",
    "from whoosh.fields import Schema, TEXT, KEYWORD, ID, STORED, NUMERIC\n",
    "from whoosh.analysis import StemmingAnalyzer\n",
    "\n",
    "DOCUMENT_TEXT_PATH = Path('../data/DocumentCloud/text')\n",
    "INDEX_DIR = \"../whoosh_index\"\n"
   ]
  },
  {
   "cell_type": "code",
   "execution_count": 79,
   "metadata": {},
   "outputs": [],
   "source": [
    "def create_index(doc_json_array):\n",
    "\n",
    "    schema = Schema(id=ID(stored=True),\n",
    "                    title=TEXT(stored=True),\n",
    "                    source=TEXT(stored=True),\n",
    "                    content=TEXT(analyzer=StemmingAnalyzer(),stored=False),\n",
    "                    pages=NUMERIC,\n",
    "                    url=STORED,\n",
    "                    thumbnail=STORED)\n",
    "    \n",
    "    if not os.path.exists(INDEX_DIR):\n",
    "        os.mkdir(INDEX_DIR)\n",
    "    ix = index.create_in(INDEX_DIR, schema)\n",
    "\n",
    "    try:\n",
    "        writer = ix.writer()\n",
    "\n",
    "#         # optimization from https://whoosh.readthedocs.io/en/latest/batch.html#stemminganalyzer-cache\n",
    "#         stem_ana = writer.schema[\"content\"].format.analyzer\n",
    "#         # Set the cachesize to -1 to indicate unbounded caching\n",
    "#         stem_ana.cachesize = -1\n",
    "#         # Reset the analyzer to pick up the changed attribute\n",
    "#         stem_ana.clear()\n",
    "\n",
    "        for i,doc in enumerate(doc_json_array):\n",
    "            body_file = DOCUMENT_TEXT_PATH / f\"{doc['id']}.txt\"\n",
    "            body = open(body_file).read()\n",
    "            if i % 1000 == 0:\n",
    "                print(f\"{i} Doc {body_file} len {len(body)}\")\n",
    "            writer.add_document(\n",
    "                id=doc['id'],\n",
    "                title=doc['title'],\n",
    "                source=doc['source'],\n",
    "                pages=doc['pages'],\n",
    "                url=doc['canonical_url'],\n",
    "                content=body,\n",
    "                thumbnail=doc['resources']['thumbnail']\n",
    "            )\n",
    "        writer.commit()\n",
    "    except Exception as e:\n",
    "        writer.cancel()\n",
    "        print(e)\n",
    "\n",
    "def index_all_documents():\n",
    "    if os.path.exists(INDEX_DIR):\n",
    "        print(\"Deleting pre-existing index\")\n",
    "        shutil.rmtree(INDEX_DIR)\n",
    "    docs = json.load(open('../data/DocumentCloud/filtered_documents.json'))\n",
    "    create_index(docs)"
   ]
  },
  {
   "cell_type": "code",
   "execution_count": 80,
   "metadata": {},
   "outputs": [
    {
     "name": "stdout",
     "output_type": "stream",
     "text": [
      "0 Doc ../data/DocumentCloud/text/6572198-Committee-on-License-and-Consumer-Protection.txt len 813\n",
      "1000 Doc ../data/DocumentCloud/text/6453704-ADA-Advisory-Committee-Meeting-2019-10-15.txt len 892\n",
      "2000 Doc ../data/DocumentCloud/text/6207843-Agency-Involvement-Oversight-Subcommittee-2014.txt len 468\n",
      "3000 Doc ../data/DocumentCloud/text/6173400-Board-of-Commissioners-2014-06-17-June-17-2014-pdf.txt len 27895\n",
      "4000 Doc ../data/DocumentCloud/text/6161318-Board-of-Commissioners-2009-12-03-Agenda.txt len 22006\n",
      "5000 Doc ../data/DocumentCloud/text/6156916-Board-of-Commissioners-2007-12-04-Minutes.txt len 499861\n",
      "6000 Doc ../data/DocumentCloud/text/6155868-Rules-Committee-2016-03-22-Agenda.txt len 1935\n",
      "7000 Doc ../data/DocumentCloud/text/6139426-Litigation-Committee-2014-09-08-Minutes.txt len 4117\n",
      "8000 Doc ../data/DocumentCloud/text/6138371-Board-of-Commissioners-Zoning-and-Building.txt len 6252\n",
      "9000 Doc ../data/DocumentCloud/text/6137360-Riverboat-Video-Gaming-2014-02-25-Minutes.txt len 5647\n",
      "10000 Doc ../data/DocumentCloud/text/6135148-Committee-on-Aviation-2013-11-22-Agenda.txt len 450\n",
      "11000 Doc ../data/DocumentCloud/text/6134083-Riverboat-Video-Gaming-2014-04-29-Agenda-Video.txt len 4063\n",
      "12000 Doc ../data/DocumentCloud/text/6133013-Local-Panel-Meeting-2010-03-30-Minutes.txt len 3090\n",
      "13000 Doc ../data/DocumentCloud/text/6005306-Board-of-Directors-2009-02-26-Minutes.txt len 129769\n",
      "14000 Doc ../data/DocumentCloud/text/5980331-Strategic-Opportunities-Committee-2017-04-27.txt len 17870\n",
      "15000 Doc ../data/DocumentCloud/text/5754354-Meetings-of-the-Board-of-Directors-2019-02-27.txt len 8555\n",
      "16000 Doc ../data/DocumentCloud/text/5665115-Board-of-Commissioners-2018-02-22-Agenda.txt len 1790\n",
      "17000 Doc ../data/DocumentCloud/text/5638503-Committee-on-Aviation-2018-03-27-Agenda.txt len 1107\n",
      "18000 Doc ../data/DocumentCloud/text/5630825-Board-of-Commissioners-2008-09-16-2008-09-16.txt len 4176\n",
      "19000 Doc ../data/DocumentCloud/text/5016633-Board-of-Health-Meeting-2018-02-21-Agenda.txt len 1041\n",
      "CPU times: user 12min 14s, sys: 22.6 s, total: 12min 36s\n",
      "Wall time: 12min 57s\n"
     ]
    }
   ],
   "source": [
    "# This should only need to be run once, unless things change.\n",
    "# First full run with full text index: \n",
    "#   Wall time: 12min 57s\n",
    "# %time index_all_documents()"
   ]
  },
  {
   "cell_type": "code",
   "execution_count": 105,
   "metadata": {},
   "outputs": [],
   "source": [
    "# these may end up interesting https://whoosh.readthedocs.io/en/latest/recipes.html\n",
    "from whoosh.qparser import MultifieldParser\n",
    "\n",
    "class Searcher(object):\n",
    "    def __init__(self,index_dir='../whoosh_index/'):\n",
    "        ix = index.open_dir(index_dir)\n",
    "        self.searcher = ix.searcher()\n",
    "        self.parser = MultifieldParser([\"title\", \"content\"], schema=ix.schema)\n",
    "\n",
    "    def search(self,q):\n",
    "        q = self.parser.parse(q)\n",
    "        markup = []\n",
    "        for hit in self.searcher.search(q):\n",
    "            markup.append(f\"\"\"<p><a href=\"{hit['url']}\">{hit['title']}</a></p>\"\"\")\n",
    "        return HTML(''.join(markup))\n"
   ]
  },
  {
   "cell_type": "code",
   "execution_count": 106,
   "metadata": {},
   "outputs": [
    {
     "data": {
      "text/html": [
       "<p><a href=\"https://www.documentcloud.org/documents/6133277-Committee-on-Human-Relations-inactive-2012-05-29.html\">Committee on Human Relations (inactive) 2012-05-29 - Summary</a></p><p><a href=\"https://www.documentcloud.org/documents/6134280-Committee-on-Human-Relations-inactive-2012-05-29.html\">Committee on Human Relations (inactive) 2012-05-29 - Agenda</a></p><p><a href=\"https://www.documentcloud.org/documents/6132877-Committee-on-Special-Events-Cultural-Affairs-and.html\">Committee on Special Events, Cultural Affairs and Recreation 2015-10-20 - Summary</a></p><p><a href=\"https://www.documentcloud.org/documents/6133058-Committee-on-Special-Events-Cultural-Affairs-and.html\">Committee on Special Events, Cultural Affairs and Recreation 2015-10-20 - Agenda</a></p><p><a href=\"https://www.documentcloud.org/documents/6137720-Committee-on-Human-Relations-inactive-2017-10-04.html\">Committee on Human Relations (inactive) 2017-10-04 - Agenda</a></p><p><a href=\"https://www.documentcloud.org/documents/5766981-Committee-on-Special-Events-Cultural-Affairs-and.html\">Committee on Special Events, Cultural Affairs and Recreation 2019-03-11 - Summary</a></p><p><a href=\"https://www.documentcloud.org/documents/6135242-Committee-on-Human-Relations-inactive-2017-09-13.html\">Committee on Human Relations (inactive) 2017-09-13 - Summary</a></p><p><a href=\"https://www.documentcloud.org/documents/6134434-Committee-on-Human-Relations-inactive-2017-10-04.html\">Committee on Human Relations (inactive) 2017-10-04 - Summary</a></p><p><a href=\"https://www.documentcloud.org/documents/5730336-Committee-on-Special-Events-Cultural-Affairs-and.html\">Committee on Special Events, Cultural Affairs and Recreation 2019-03-11 - Agenda</a></p><p><a href=\"https://www.documentcloud.org/documents/6230895-Committee-on-Special-Events-Cultural-Affairs-and.html\">Committee on Special Events, Cultural Affairs and Recreation 2019-03-11 - Notice</a></p>"
      ],
      "text/plain": [
       "<IPython.core.display.HTML object>"
      ]
     },
     "execution_count": 106,
     "metadata": {},
     "output_type": "execute_result"
    }
   ],
   "source": [
    "s = Searcher()\n",
    "s.search('rahm emanuel')"
   ]
  }
 ],
 "metadata": {
  "kernelspec": {
   "display_name": "Python 3",
   "language": "python",
   "name": "python3"
  },
  "language_info": {
   "codemirror_mode": {
    "name": "ipython",
    "version": 3
   },
   "file_extension": ".py",
   "mimetype": "text/x-python",
   "name": "python",
   "nbconvert_exporter": "python",
   "pygments_lexer": "ipython3",
   "version": "3.7.6"
  }
 },
 "nbformat": 4,
 "nbformat_minor": 4
}
