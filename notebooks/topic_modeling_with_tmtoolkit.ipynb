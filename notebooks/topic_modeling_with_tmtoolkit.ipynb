{
 "cells": [
  {
   "cell_type": "markdown",
   "metadata": {
    "colab_type": "text",
    "id": "xbXAJnld0veS"
   },
   "source": [
    "# Topic modeling with tmtoolkit\n",
    "\n",
    "Adapted from: https://github.com/WZBSocialScienceCenter/tmtoolkit/blob/master/doc/source/topic_modeling.ipynb\n",
    "\n",
    "## An example document-term matrix\n",
    "\n",
    "tmtoolkit supports topic models that are computed from document-term matrices (DTMs)."
   ]
  },
  {
   "cell_type": "code",
   "execution_count": 1,
   "metadata": {
    "colab": {},
    "colab_type": "code",
    "id": "VwPzhqm201BF"
   },
   "outputs": [],
   "source": [
    "#!pip install tmtoolkit['lda']"
   ]
  },
  {
   "cell_type": "code",
   "execution_count": 167,
   "metadata": {},
   "outputs": [],
   "source": [
    "import random\n",
    "import os\n",
    "import logging\n",
    "import warnings\n",
    "\n",
    "import nltk\n",
    "import numpy as np\n",
    "from tmtoolkit.topicmod import tm_lda\n",
    "from tmtoolkit.topicmod.model_io import print_ldamodel_topic_words\n",
    "from tmtoolkit.topicmod.tm_lda import compute_models_parallel\n",
    "from tmtoolkit.topicmod.tm_lda import evaluate_topic_models\n",
    "from tmtoolkit.topicmod.evaluate import results_by_parameter\n",
    "from tmtoolkit.corpus import Corpus"
   ]
  },
  {
   "cell_type": "code",
   "execution_count": 131,
   "metadata": {
    "colab": {
     "base_uri": "https://localhost:8080/",
     "height": 34
    },
    "colab_type": "code",
    "id": "uquaYEIC0vea",
    "outputId": "cf55d7dd-7d7d-43f3-d149-b529257abe91",
    "pycharm": {
     "is_executing": false
    }
   },
   "outputs": [
    {
     "data": {
      "text/plain": [
       "<Corpus [380 documents]>"
      ]
     },
     "execution_count": 131,
     "metadata": {},
     "output_type": "execute_result"
    }
   ],
   "source": [
    "random.seed(20191120)   # to make the sampling reproducible\n",
    "np.set_printoptions(precision=5)\n",
    "\n",
    "DATADIR = '../data/DocumentCloud/subset'\n",
    "corpus = Corpus()\n",
    "\n",
    "\n",
    "def documents(datadir=DATADIR):\n",
    "    for fn in os.listdir(datadir):\n",
    "        yield open(os.path.join(datadir, fn)).read()\n",
    "\n",
    "for i, doc in enumerate(documents()):\n",
    "    corpus.add_doc(str(i), doc)\n",
    "\n",
    "corpus"
   ]
  },
  {
   "cell_type": "code",
   "execution_count": 132,
   "metadata": {
    "colab": {
     "base_uri": "https://localhost:8080/",
     "height": 352
    },
    "colab_type": "code",
    "id": "VkYKc8LhGAMR",
    "outputId": "cb1112b9-0a37-458f-91d7-5a07c74359a8"
   },
   "outputs": [
    {
     "data": {
      "text/plain": [
       "(array([369.,   1.,   0.,   0.,   2.,   2.,   1.,   3.,   1.,   1.]),\n",
       " array([   53. ,  4324.4,  8595.8, 12867.2, 17138.6, 21410. , 25681.4,\n",
       "        29952.8, 34224.2, 38495.6, 42767. ]),\n",
       " <a list of 10 Patch objects>)"
      ]
     },
     "execution_count": 132,
     "metadata": {},
     "output_type": "execute_result"
    },
    {
     "data": {
      "image/png": "[encoded data removed]",
      "text/plain": [
       "<Figure size 432x288 with 1 Axes>"
      ]
     },
     "metadata": {
      "needs_background": "light"
     },
     "output_type": "display_data"
    }
   ],
   "source": [
    "import matplotlib\n",
    "\n",
    "matplotlib.pyplot.hist(corpus.doc_lengths.values())"
   ]
  },
  {
   "cell_type": "code",
   "execution_count": 133,
   "metadata": {
    "colab": {
     "base_uri": "https://localhost:8080/",
     "height": 52
    },
    "colab_type": "code",
    "id": "Ainw8SuLGwWl",
    "outputId": "3c62cfe8-b9cf-46c4-82c9-15a43ed09c78"
   },
   "outputs": [
    {
     "name": "stdout",
     "output_type": "stream",
     "text": [
      "Mean doc length: 2103.1315789473683\n",
      "Std: 4715.31671961518\n"
     ]
    }
   ],
   "source": [
    "from statistics import mean, stdev\n",
    "print('Mean doc length:', mean(corpus.doc_lengths.values()))\n",
    "print('Std:', stdev(corpus.doc_lengths.values()))"
   ]
  },
  {
   "cell_type": "code",
   "execution_count": 5,
   "metadata": {
    "colab": {
     "base_uri": "https://localhost:8080/",
     "height": 34
    },
    "colab_type": "code",
    "id": "HyR3svJQHQXy",
    "outputId": "9670823e-f730-4a48-9cf6-afcec886cc3f"
   },
   "outputs": [],
   "source": [
    "# For topic modeling, document sizes should be similar.\n",
    "# If there is a lot of variance, we might look at a subset of documents of similar size\n",
    "#corpus = corpus.filter_by_min_length(100).filter_by_max_length(1000)\n",
    "#corpus"
   ]
  },
  {
   "cell_type": "code",
   "execution_count": 134,
   "metadata": {
    "colab": {},
    "colab_type": "code",
    "id": "qypuHbTlK706"
   },
   "outputs": [],
   "source": [
    "# A large corpus can be heavy to process. If necessary, \n",
    "#corpus = corpus.sample(500)"
   ]
  },
  {
   "cell_type": "code",
   "execution_count": 156,
   "metadata": {
    "colab": {
     "base_uri": "https://localhost:8080/",
     "height": 34
    },
    "colab_type": "code",
    "id": "1SzUJFa30ve_",
    "outputId": "3bada786-59a9-4b63-b3ea-945d29de1024",
    "pycharm": {
     "is_executing": false
    }
   },
   "outputs": [
    {
     "data": {
      "text/plain": [
       "7374"
      ]
     },
     "execution_count": 156,
     "metadata": {},
     "output_type": "execute_result"
    }
   ],
   "source": [
    "from tmtoolkit.preprocess import TMPreproc\n",
    "\n",
    "preproc = TMPreproc(corpus) \\\n",
    "    .tokens_to_lowercase() \\\n",
    "    .remove_special_chars_in_tokens()\n",
    "\n",
    "# We will want to manage the vocab size to make processing manageable\n",
    "preproc.vocabulary_size"
   ]
  },
  {
   "cell_type": "markdown",
   "metadata": {
    "colab_type": "text",
    "id": "QpqtMtLf0vfO"
   },
   "source": [
    "Clean up a bit. Some of these things only become clear after you've made a pass through the data."
   ]
  },
  {
   "cell_type": "code",
   "execution_count": 157,
   "metadata": {
    "colab": {
     "base_uri": "https://localhost:8080/",
     "height": 34
    },
    "colab_type": "code",
    "id": "pNdROi_d0vfR",
    "outputId": "60cc432c-540e-4b5e-a60b-7f6579f191e6",
    "pycharm": {
     "is_executing": false
    }
   },
   "outputs": [
    {
     "data": {
      "text/plain": [
       "(380, 847)"
      ]
     },
     "execution_count": 157,
     "metadata": {},
     "output_type": "execute_result"
    }
   ],
   "source": [
    "preproc = preproc \\\n",
    "    .add_stopwords(['mr', 'mrs', 'ms']) \\\n",
    "    .clean_tokens(remove_numbers=True, remove_shorter_than=2) \\\n",
    "    .remove_common_tokens(df_threshold=0.8) \\\n",
    "    .remove_uncommon_tokens(df_threshold=0.02)\n",
    "\n",
    "preproc.n_docs, preproc.vocabulary_size"
   ]
  },
  {
   "cell_type": "markdown",
   "metadata": {
    "colab_type": "text",
    "id": "r4B68dNG0vfy"
   },
   "source": [
    "We will create the document labels, vocabulary arrays and DTMs for both versions now:"
   ]
  },
  {
   "cell_type": "code",
   "execution_count": 158,
   "metadata": {
    "colab": {
     "base_uri": "https://localhost:8080/",
     "height": 52
    },
    "colab_type": "code",
    "id": "gvTU-DSK0vfz",
    "outputId": "adf1d30d-c285-4452-a156-65e93d09e00a",
    "pycharm": {
     "is_executing": false
    }
   },
   "outputs": [
    {
     "data": {
      "text/plain": [
       "array(['0', '1', '10', '100', '101', '102', '103', '104', '105', '106'],\n",
       "      dtype='<U3')"
      ]
     },
     "execution_count": 158,
     "metadata": {},
     "output_type": "execute_result"
    }
   ],
   "source": [
    "doc_labels = np.array(preproc.doc_labels)\n",
    "doc_labels[:10]"
   ]
  },
  {
   "cell_type": "code",
   "execution_count": 159,
   "metadata": {
    "colab": {
     "base_uri": "https://localhost:8080/",
     "height": 86
    },
    "colab_type": "code",
    "id": "wi1B_0eS0vgG",
    "outputId": "0db78dff-6d2d-4222-e469-7f83657981de",
    "pycharm": {
     "is_executing": false
    }
   },
   "outputs": [
    {
     "data": {
      "text/plain": [
       "<380x847 sparse matrix of type '<class 'numpy.int32'>'\n",
       "\twith 29060 stored elements in Compressed Sparse Row format>"
      ]
     },
     "execution_count": 159,
     "metadata": {},
     "output_type": "execute_result"
    }
   ],
   "source": [
    "vocab = np.array(preproc.vocabulary)\n",
    "dtm = preproc.dtm\n",
    "\n",
    "del preproc # once we have the dtm, we no longer need the preprocessed corpus\n",
    "dtm"
   ]
  },
  {
   "cell_type": "markdown",
   "metadata": {
    "colab_type": "text",
    "id": "4-47yr2q0vgQ"
   },
   "source": [
    "We now have a sparse DTM, a list of document labels `doc_labels` that represent the rows of both DTMs and vocabulary array `vocab` that represent the columns of the DTM. We will use this data for the remainder of the notebook."
   ]
  },
  {
   "cell_type": "code",
   "execution_count": 160,
   "metadata": {
    "colab": {
     "base_uri": "https://localhost:8080/",
     "height": 173
    },
    "colab_type": "code",
    "id": "kOZpg0YA0vgW",
    "outputId": "b5627eaa-bb62-4508-b7bc-a463322ec6c4",
    "pycharm": {
     "is_executing": false
    }
   },
   "outputs": [
    {
     "data": {
      "text/plain": [
       "defaultdict(list,\n",
       "            {'main': [({'n_topics': 10,\n",
       "                'n_iter': 1000,\n",
       "                'random_state': 20191122},\n",
       "               <lda.lda.LDA at 0x11ecbd550>)]})"
      ]
     },
     "execution_count": 160,
     "metadata": {},
     "output_type": "execute_result"
    }
   ],
   "source": [
    "# suppress the \"INFO\" messages and warnings from lda\n",
    "logger = logging.getLogger('lda')\n",
    "logger.addHandler(logging.NullHandler())\n",
    "logger.propagate = False\n",
    "\n",
    "warnings.filterwarnings('ignore')\n",
    "\n",
    "# set data to use. We could have multiple DTMs here to process in parallel if needed. See the original tutorial for details\n",
    "dtms = {\n",
    "    'main': dtm_bg,\n",
    "}\n",
    "\n",
    "# and fixed hyperparameters\n",
    "lda_params = {\n",
    "    'n_topics': 10,\n",
    "    'n_iter': 1000,\n",
    "    'random_state': 20191122  # to make results reproducible\n",
    "}\n",
    "\n",
    "models = compute_models_parallel(dtms, constant_parameters=lda_params)\n",
    "models"
   ]
  },
  {
   "cell_type": "markdown",
   "metadata": {
    "colab_type": "text",
    "id": "I-N9dtMP0vgf"
   },
   "source": [
    "DTMs can be accessed via the labels that we used in the `dtms` dict:"
   ]
  },
  {
   "cell_type": "code",
   "execution_count": 161,
   "metadata": {
    "colab": {
     "base_uri": "https://localhost:8080/",
     "height": 52
    },
    "colab_type": "code",
    "id": "bnFPgOnu0vgj",
    "outputId": "05d9d560-ef74-41dd-a8fa-3080d7eb6d0b",
    "pycharm": {
     "is_executing": false
    }
   },
   "outputs": [
    {
     "data": {
      "text/plain": [
       "[({'n_topics': 10, 'n_iter': 1000, 'random_state': 20191122},\n",
       "  <lda.lda.LDA at 0x11ecbd550>)]"
      ]
     },
     "execution_count": 161,
     "metadata": {},
     "output_type": "execute_result"
    }
   ],
   "source": [
    "models['main']"
   ]
  },
  {
   "cell_type": "markdown",
   "metadata": {
    "colab_type": "text",
    "id": "ToKXKj3y0vgp"
   },
   "source": [
    "We can see that for each input DTM, we get a list of 2-tuples. The first element in each tuple is a dict that represents the hyperparameters that were used to compute the model, the second element is the actual topic model (the `<lda.lda.LDA ...>` object). This structure looks a bit complex, but this is because it also supports varying parameters. Since we only have one fixed set of hyperparameters per DTM, we only have a list of length 1 for each DTM.\n",
    "\n",
    "We will now access the models and print the top words per topic by using [print_ldamodel_topic_words()](api.rst#tmtoolkit.topicmod.model_io.print_ldamodel_topic_words):"
   ]
  },
  {
   "cell_type": "code",
   "execution_count": 162,
   "metadata": {
    "colab": {
     "base_uri": "https://localhost:8080/",
     "height": 712
    },
    "colab_type": "code",
    "id": "LLZv_6mZ0vg2",
    "outputId": "bd659684-ba73-4d1c-e954-a328af3efb10",
    "pycharm": {
     "is_executing": false
    }
   },
   "outputs": [
    {
     "name": "stdout",
     "output_type": "stream",
     "text": [
      "topic_1\n",
      "> #1. chicago (0.058228)\n",
      "> #2. transit (0.057528)\n",
      "> #3. matters (0.046611)\n",
      "topic_2\n",
      "> #1. board (0.087891)\n",
      "> #2. report (0.045678)\n",
      "> #3. transit (0.037927)\n",
      "topic_3\n",
      "> #1. business (0.030595)\n",
      "> #2. minutes (0.023932)\n",
      "> #3. motion (0.023023)\n",
      "topic_4\n",
      "> #1. ada (0.069917)\n",
      "> #2. service (0.045373)\n",
      "> #3. customer (0.039175)\n",
      "topic_5\n",
      "> #1. ordinance (0.054461)\n",
      "> #2. authorizing (0.046015)\n",
      "> #3. chicago (0.040594)\n",
      "topic_6\n",
      "> #1. review (0.042499)\n",
      "> #2. period (0.038591)\n",
      "> #3. months (0.034683)\n",
      "topic_7\n",
      "> #1. number (0.110868)\n",
      "> #2. contract (0.108432)\n",
      "> #3. minutes (0.050766)\n",
      "topic_8\n",
      "> #1. complaints (0.021829)\n",
      "> #2. bus (0.020754)\n",
      "> #3. cta (0.020010)\n",
      "topic_9\n",
      "> #1. chicago (0.103655)\n",
      "> #2. transit (0.080765)\n",
      "> #3. retirement (0.050966)\n",
      "topic_10\n",
      "> #1. motion (0.066071)\n",
      "> #2. agenda (0.063169)\n",
      "> #3. approved (0.060950)\n"
     ]
    }
   ],
   "source": [
    "model = models['main'][0][1]\n",
    "print_ldamodel_topic_words(model.topic_word_, vocab, top_n=3)"
   ]
  },
  {
   "cell_type": "markdown",
   "metadata": {
    "colab_type": "text",
    "id": "4xeB9t5Q0vhR"
   },
   "source": [
    "## Evaluation of topic models\n",
    "\n",
    "tmtoolkit provides several metrics for comparing and evaluating topic models. This can be used for finding a good hyperparameter set for a given dataset, e.g. a good combination of the number of topics and concentration paramaters (often called alpha and beta in literature). For some background on hyperparameters in topic modeling, see [this blog post](https://datascience.blog.wzb.eu/2017/11/09/topic-modeling-evaluation-in-python-with-tmtoolkit/).\n",
    "\n",
    "For each candidate hyperparameter set, a model can be generated and evaluated in parallel. We will do this now for the DTM. Our candidate values for the number of topics `k` range between 5 and 100, with steps of 5. We make the concentration parameter for a prior over the document-specific topic distributions, alpha, depending on `k` as `1/k`:"
   ]
  },
  {
   "cell_type": "code",
   "execution_count": 163,
   "metadata": {
    "colab": {
     "base_uri": "https://localhost:8080/",
     "height": 1000
    },
    "colab_type": "code",
    "id": "b9cJwKJY0vhV",
    "outputId": "e89cf512-7d85-4906-b14b-2ae69e83bd39",
    "pycharm": {
     "is_executing": false
    },
    "scrolled": true
   },
   "outputs": [
    {
     "data": {
      "text/plain": [
       "[{'n_topics': 5, 'alpha': 0.2},\n",
       " {'n_topics': 10, 'alpha': 0.1},\n",
       " {'n_topics': 15, 'alpha': 0.06666666666666667},\n",
       " {'n_topics': 20, 'alpha': 0.05},\n",
       " {'n_topics': 25, 'alpha': 0.04},\n",
       " {'n_topics': 30, 'alpha': 0.03333333333333333},\n",
       " {'n_topics': 35, 'alpha': 0.02857142857142857},\n",
       " {'n_topics': 40, 'alpha': 0.025},\n",
       " {'n_topics': 45, 'alpha': 0.022222222222222223},\n",
       " {'n_topics': 50, 'alpha': 0.02},\n",
       " {'n_topics': 55, 'alpha': 0.01818181818181818},\n",
       " {'n_topics': 60, 'alpha': 0.016666666666666666},\n",
       " {'n_topics': 65, 'alpha': 0.015384615384615385},\n",
       " {'n_topics': 70, 'alpha': 0.014285714285714285},\n",
       " {'n_topics': 75, 'alpha': 0.013333333333333334},\n",
       " {'n_topics': 80, 'alpha': 0.0125},\n",
       " {'n_topics': 85, 'alpha': 0.011764705882352941},\n",
       " {'n_topics': 90, 'alpha': 0.011111111111111112},\n",
       " {'n_topics': 95, 'alpha': 0.010526315789473684},\n",
       " {'n_topics': 100, 'alpha': 0.01}]"
      ]
     },
     "execution_count": 163,
     "metadata": {},
     "output_type": "execute_result"
    }
   ],
   "source": [
    "var_params = [{'n_topics': k, 'alpha': 1/k} for k in range(5, 101, 5)]\n",
    "var_params"
   ]
  },
  {
   "cell_type": "markdown",
   "metadata": {
    "colab_type": "text",
    "id": "g1-G-tLi0vhg"
   },
   "source": [
    "The heart of the model evaluation process is the function [evaluate_topic_models()](api.rst#tmtoolkit.topicmod.tm_lda.evaluate_topic_models), which is available for all three topic modeling packages. We stick with lda and import that function from [topicmod.tm_lda](api.rst#module-tmtoolkit.topicmod.tm_lda). It is similar to [compute_models_parallel()](api.rst#tmtoolkit.topicmod.tm_lda.compute_models_parallel) as it accepts varying and constant hyperparameters. However, it doesn't only compute the models in parallel, but also applies several metrics to these models in order to evaluate them. This can be controlled with the `metric` parameter that accepts a string or a list of strings that specify the used metric(s). These metrics refer to functions that are implemented in [topicmod.evaluate](api.rst#module-tmtoolkit.topicmod.evaluate).\n",
    "\n",
    "Each topic modeling sub-module defines two important sequences: `AVAILABLE_METRICS` and `DEFAULT_METRICS`. The former lists all available metrics for that sub-module, the latter lists the default metrics that are used when you don't specify anything with the `metric` parameter. Let's have a look at both sequences in [topicmod.tm_lda](api.rst#module-tmtoolkit.topicmod.tm_lda):"
   ]
  },
  {
   "cell_type": "code",
   "execution_count": 165,
   "metadata": {
    "colab": {
     "base_uri": "https://localhost:8080/",
     "height": 156
    },
    "colab_type": "code",
    "id": "-J6xa1Ka0vhj",
    "outputId": "f40f506e-bfc6-4cdf-81f3-1f7fa212e546",
    "pycharm": {
     "is_executing": false
    }
   },
   "outputs": [
    {
     "data": {
      "text/plain": [
       "('loglikelihood',\n",
       " 'cao_juan_2009',\n",
       " 'arun_2010',\n",
       " 'coherence_mimno_2011',\n",
       " 'coherence_gensim_u_mass',\n",
       " 'coherence_gensim_c_v',\n",
       " 'coherence_gensim_c_uci',\n",
       " 'coherence_gensim_c_npmi')"
      ]
     },
     "execution_count": 165,
     "metadata": {},
     "output_type": "execute_result"
    }
   ],
   "source": [
    "tm_lda.AVAILABLE_METRICS"
   ]
  },
  {
   "cell_type": "code",
   "execution_count": 166,
   "metadata": {
    "colab": {
     "base_uri": "https://localhost:8080/",
     "height": 34
    },
    "colab_type": "code",
    "id": "ztxVyDIV0vhq",
    "outputId": "aa805b71-4c50-438f-81e6-ef4623292faf",
    "pycharm": {
     "is_executing": false
    }
   },
   "outputs": [
    {
     "data": {
      "text/plain": [
       "('cao_juan_2009', 'arun_2010', 'coherence_mimno_2011')"
      ]
     },
     "execution_count": 166,
     "metadata": {},
     "output_type": "execute_result"
    }
   ],
   "source": [
    "tm_lda.DEFAULT_METRICS"
   ]
  },
  {
   "cell_type": "markdown",
   "metadata": {
    "colab_type": "text",
    "id": "B0dvRY-r0vh2"
   },
   "source": [
    "For details about the metrics and the academic references, see the respective implementations in the [topicmod.evaluate](api.rst#module-tmtoolkit.topicmod.evaluate) module.\n",
    "\n",
    "We will now run the model evaluations with [evaluate_topic_models()](api.rst#tmtoolkit.topicmod.tm_lda.evaluate_topic_models) using our previously generated list of varying hyperparameters `var_params`, some constant hyperparameters and the default set of metrics. We also set `return_models=True` which means to retain the generated models in the evaluation results:"
   ]
  },
  {
   "cell_type": "code",
   "execution_count": 168,
   "metadata": {
    "colab": {
     "base_uri": "https://localhost:8080/",
     "height": 486
    },
    "colab_type": "code",
    "id": "cjG0Kdqs0vh4",
    "outputId": "3f857e0a-87c9-464c-aed2-9edc288fdb5e",
    "pycharm": {
     "is_executing": false
    }
   },
   "outputs": [
    {
     "data": {
      "text/plain": [
       "[({'n_topics': 5,\n",
       "   'alpha': 0.2,\n",
       "   'n_iter': 1000,\n",
       "   'eta': 0.1,\n",
       "   'random_state': 20191122},\n",
       "  {'model': <lda.lda.LDA at 0x11ecbdda0>,\n",
       "   'cao_juan_2009': 0.2592877097581513,\n",
       "   'arun_2010': 29.09189098357808,\n",
       "   'coherence_mimno_2011': -0.7548877424201579}),\n",
       " ({'n_topics': 10,\n",
       "   'alpha': 0.1,\n",
       "   'n_iter': 1000,\n",
       "   'eta': 0.1,\n",
       "   'random_state': 20191122},\n",
       "  {'model': <lda.lda.LDA at 0x11ecbb518>,\n",
       "   'cao_juan_2009': 0.19570685151606443,\n",
       "   'arun_2010': 21.57542019020007,\n",
       "   'coherence_mimno_2011': -0.7966463708154714}),\n",
       " ({'n_topics': 15,\n",
       "   'alpha': 0.06666666666666667,\n",
       "   'n_iter': 1000,\n",
       "   'eta': 0.1,\n",
       "   'random_state': 20191122},\n",
       "  {'model': <lda.lda.LDA at 0x11ecbb588>,\n",
       "   'cao_juan_2009': 0.18842223070410002,\n",
       "   'arun_2010': 16.27946823102553,\n",
       "   'coherence_mimno_2011': -1.1446349530298472})]"
      ]
     },
     "execution_count": 168,
     "metadata": {},
     "output_type": "execute_result"
    }
   ],
   "source": [
    "# This step will take some time, depending on the corpus size, vocabulary size,\n",
    "# number of steps in var_params, the number of iterations calculated.\n",
    "\n",
    "# During experimentation, you may want to tweak these values to make things\n",
    "# run a bit faster until you have a sense of what the right parameters should be\n",
    "\n",
    "const_params = {\n",
    "    'n_iter': 1000,\n",
    "    'eta': 0.1,       # \"eta\" aka \"beta\"\n",
    "    'random_state': 20191122  # to make results reproducible\n",
    "}\n",
    "\n",
    "eval_results = evaluate_topic_models(dtm_bg,\n",
    "                                     varying_parameters=var_params,\n",
    "                                     constant_parameters=const_params,\n",
    "                                     return_models=True)\n",
    "eval_results[:3]  # only show first three models"
   ]
  },
  {
   "cell_type": "markdown",
   "metadata": {
    "colab_type": "text",
    "id": "ofoR2i6M0vh8"
   },
   "source": [
    "The evaluation results are a list with pairs of hyperparameters and their evaluation results for each metric. Additionally, there is the generated model for each hyperparameter set.\n",
    "\n",
    "We now use [results_by_parameter()](api.rst#tmtoolkit.topicmod.evaluate.results_by_parameter), which takes the \"raw\" evaluation results and sorts them by a specific hyperparameter, in this case `n_topics`. This is important because this is the way that the function for visualizing evaluation results, [plot_eval_results()](api.rst#tmtoolkit.topicmod.visualize.plot_eval_results), expects the input."
   ]
  },
  {
   "cell_type": "code",
   "execution_count": 169,
   "metadata": {
    "colab": {
     "base_uri": "https://localhost:8080/",
     "height": 278
    },
    "colab_type": "code",
    "id": "TfVQEr4x0vh_",
    "outputId": "de25794b-17a7-4e5b-e69e-f4e570a11a3d",
    "pycharm": {
     "is_executing": false
    }
   },
   "outputs": [
    {
     "data": {
      "text/plain": [
       "[(5,\n",
       "  {'model': <lda.lda.LDA at 0x11ecbdda0>,\n",
       "   'cao_juan_2009': 0.2592877097581513,\n",
       "   'arun_2010': 29.09189098357808,\n",
       "   'coherence_mimno_2011': -0.7548877424201579}),\n",
       " (10,\n",
       "  {'model': <lda.lda.LDA at 0x11ecbb518>,\n",
       "   'cao_juan_2009': 0.19570685151606443,\n",
       "   'arun_2010': 21.57542019020007,\n",
       "   'coherence_mimno_2011': -0.7966463708154714}),\n",
       " (15,\n",
       "  {'model': <lda.lda.LDA at 0x11ecbb588>,\n",
       "   'cao_juan_2009': 0.18842223070410002,\n",
       "   'arun_2010': 16.27946823102553,\n",
       "   'coherence_mimno_2011': -1.1446349530298472})]"
      ]
     },
     "execution_count": 169,
     "metadata": {},
     "output_type": "execute_result"
    }
   ],
   "source": [
    "eval_results_by_topics = results_by_parameter(eval_results, 'n_topics')\n",
    "eval_results_by_topics[:3]  # again only the first three models"
   ]
  },
  {
   "cell_type": "markdown",
   "metadata": {
    "colab_type": "text",
    "id": "_0BTC-0S0viK"
   },
   "source": [
    "We can now see the results for each metric across the specified range of number of topics using [plot_eval_results()](api.rst#tmtoolkit.topicmod.visualize.plot_eval_results):"
   ]
  },
  {
   "cell_type": "code",
   "execution_count": 170,
   "metadata": {
    "colab": {
     "base_uri": "https://localhost:8080/",
     "height": 390
    },
    "colab_type": "code",
    "id": "gx-5ab2L0viL",
    "outputId": "8d8a4c5e-2602-424f-c65b-a842d6221bf1",
    "pycharm": {
     "is_executing": false
    }
   },
   "outputs": [
    {
     "data": {
      "image/png": "[encoded data removed]",
      "text/plain": [
       "<Figure size 576x432 with 3 Axes>"
      ]
     },
     "metadata": {
      "needs_background": "light"
     },
     "output_type": "display_data"
    }
   ],
   "source": [
    "from tmtoolkit.topicmod.visualize import plot_eval_results\n",
    "\n",
    "plot_eval_results(eval_results_by_topics);"
   ]
  },
  {
   "cell_type": "markdown",
   "metadata": {
    "colab_type": "text",
    "id": "xBe6QIz30viT"
   },
   "source": [
    "These results suggest to set the number of topics, `n_topics`, to about 30. We don't have to generate a model with these hyperparameters again, because it's already in the evaluation results (thanks to `return_models=True`). We extract the model from there in order to use it in the rest of the chapter."
   ]
  },
  {
   "cell_type": "code",
   "execution_count": 171,
   "metadata": {
    "colab": {
     "base_uri": "https://localhost:8080/",
     "height": 34
    },
    "colab_type": "code",
    "id": "Bap7FMZ50viZ",
    "outputId": "68f4c909-1bff-4873-f83e-69a1c21983f0",
    "pycharm": {
     "is_executing": false
    }
   },
   "outputs": [
    {
     "data": {
      "text/plain": [
       "(30, 0.03333333333333333, 0.1)"
      ]
     },
     "execution_count": 171,
     "metadata": {},
     "output_type": "execute_result"
    }
   ],
   "source": [
    "best_tm = [m for k, m in eval_results_by_topics if k == 30][0]['model']\n",
    "best_tm.n_topics, best_tm.alpha, best_tm.eta  # just to make sure"
   ]
  },
  {
   "cell_type": "markdown",
   "metadata": {
    "colab_type": "text",
    "id": "uFnnlHJ_0vid"
   },
   "source": [
    "## Common statistics and tools for topic models\n",
    "\n",
    "The [topicmod.model_stats](api.rst#module-tmtoolkit.topicmod.model_stats) module mostly contains functions that compute statistics from the document-topic and topic-word distribution of a topic model and also some helper functions for working with such distributions. We'll start with an important helper function, [generate_topic_labels_from_top_words()](api.rst#tmtoolkit.topicmod.model_stats.generate_topic_labels_from_top_words)."
   ]
  },
  {
   "cell_type": "markdown",
   "metadata": {
    "colab_type": "text",
    "id": "wzgrRDhx0vie"
   },
   "source": [
    "### Generating labels for topics\n",
    "\n",
    "In topic modeling, topics are numbered because they're *abstract* – they're simply a probability distribution across all words in the vocabulary. Still, it's useful to give them labels for better identification. The function [generate_topic_labels_from_top_words()](api.rst#tmtoolkit.topicmod.model_stats.generate_topic_labels_from_top_words) is very useful for that, as it finds labels according to the most \"relevant\" words in each topic. We'll later see how we can identify the most relevant words per topic using a special [relevance statistic](#Topic-word-relevance). Note that you can adjust the weight of the relevance measure for the ranking by using the parameter `lambda_` which is in range $[0, 1]$.\n",
    "\n",
    "The function requires at least the topic-word and document-topic distributions from the model, the document lengths and the vocabulary. It then finds the minimum number of relevant words that uniquely label each topic. You can also use a fixed number for that minimum number with the parameter `n_words`."
   ]
  },
  {
   "cell_type": "code",
   "execution_count": 172,
   "metadata": {
    "colab": {
     "base_uri": "https://localhost:8080/",
     "height": 139
    },
    "colab_type": "code",
    "id": "yD1Ut4t20vik",
    "outputId": "7e0ab9f6-b205-4f40-dc1c-a5dcda70d8c6",
    "pycharm": {
     "is_executing": false
    }
   },
   "outputs": [
    {
     "data": {
      "text/plain": [
       "array(['1_ordinance_improvement', '2_matters_authority', '3_work_members',\n",
       "       '4_people_issues', '5_approve_ordinance', '6_upon_invoice',\n",
       "       '7_pm_intake', '8_america_agreement', '9_processing_reference',\n",
       "       '10_employee_retirement', '11_planning_strategic',\n",
       "       '12_litigation_bills', '13_appointing_settlement',\n",
       "       '14_board_motion', '15_december_red', '16_obligations_secured',\n",
       "       '17_facilitator_program', '18_station_asap',\n",
       "       '19_delivery_strategic', '20_operators_wheelchair',\n",
       "       '21_operating_state', '22_bus_cta', '23_month_total',\n",
       "       '24_city_agreement', '25_bargaining_tentative', '26_period_months',\n",
       "       '27_matters_transit', '28_clock_afternoon', '29_august_july',\n",
       "       '30_number_contract'], dtype='<U24')"
      ]
     },
     "execution_count": 172,
     "metadata": {},
     "output_type": "execute_result"
    }
   ],
   "source": [
    "from tmtoolkit.bow.bow_stats import doc_lengths\n",
    "from tmtoolkit.topicmod.model_stats import generate_topic_labels_from_top_words\n",
    "\n",
    "doc_lengths_bg = doc_lengths(dtm_bg)\n",
    "topic_labels = generate_topic_labels_from_top_words(\n",
    "    best_tm.topic_word_,\n",
    "    best_tm.doc_topic_,\n",
    "    doc_lengths_bg,\n",
    "    vocab_bg,\n",
    "    lambda_=0.6\n",
    ")\n",
    "\n",
    "topic_labels"
   ]
  },
  {
   "cell_type": "markdown",
   "metadata": {
    "colab_type": "text",
    "id": "mxsMlY1p0viq"
   },
   "source": [
    "As we can see, two words are necessary to label each topic uniquely. By default, each label is prefixed with a number. You can change that with the parameter `labels_format`.\n",
    "\n",
    "Let's have a look at the top words for a specific topic. We can use [ldamodel_top_topic_words()](api.rst#tmtoolkit.topicmod.model_io.ldamodel_top_topic_words) for that from the module [topicmod.model_io](api.rst#module-tmtoolkit.topicmod.model_io), which we will have a closer look at [later](#Displaying-and-exporting-topic-modeling-results):"
   ]
  },
  {
   "cell_type": "code",
   "execution_count": 173,
   "metadata": {
    "colab": {
     "base_uri": "https://localhost:8080/",
     "height": 129
    },
    "colab_type": "code",
    "id": "tdViR68F0vir",
    "outputId": "b8f95d93-9096-43e8-ae05-ac08752cb866",
    "pycharm": {
     "is_executing": false
    }
   },
   "outputs": [
    {
     "data": {
      "text/html": [
       "<div>\n",
       "<style scoped>\n",
       "    .dataframe tbody tr th:only-of-type {\n",
       "        vertical-align: middle;\n",
       "    }\n",
       "\n",
       "    .dataframe tbody tr th {\n",
       "        vertical-align: top;\n",
       "    }\n",
       "\n",
       "    .dataframe thead th {\n",
       "        text-align: right;\n",
       "    }\n",
       "</style>\n",
       "<table border=\"1\" class=\"dataframe\">\n",
       "  <thead>\n",
       "    <tr style=\"text-align: right;\">\n",
       "      <th></th>\n",
       "      <th>rank_1</th>\n",
       "      <th>rank_2</th>\n",
       "      <th>rank_3</th>\n",
       "      <th>rank_4</th>\n",
       "      <th>rank_5</th>\n",
       "      <th>rank_6</th>\n",
       "      <th>rank_7</th>\n",
       "      <th>rank_8</th>\n",
       "      <th>rank_9</th>\n",
       "      <th>rank_10</th>\n",
       "    </tr>\n",
       "    <tr>\n",
       "      <th>topic</th>\n",
       "      <th></th>\n",
       "      <th></th>\n",
       "      <th></th>\n",
       "      <th></th>\n",
       "      <th></th>\n",
       "      <th></th>\n",
       "      <th></th>\n",
       "      <th></th>\n",
       "      <th></th>\n",
       "      <th></th>\n",
       "    </tr>\n",
       "  </thead>\n",
       "  <tbody>\n",
       "    <tr>\n",
       "      <th>1_ordinance_improvement</th>\n",
       "      <td>ordinance (0.07731)</td>\n",
       "      <td>authorizing (0.03241)</td>\n",
       "      <td>october (0.03241)</td>\n",
       "      <td>program (0.03241)</td>\n",
       "      <td>year (0.0282)</td>\n",
       "      <td>november (0.0268)</td>\n",
       "      <td>years (0.0268)</td>\n",
       "      <td>red (0.0268)</td>\n",
       "      <td>capital (0.0254)</td>\n",
       "      <td>improvement (0.0254)</td>\n",
       "    </tr>\n",
       "  </tbody>\n",
       "</table>\n",
       "</div>"
      ],
      "text/plain": [
       "                                      rank_1                 rank_2  \\\n",
       "topic                                                                 \n",
       "1_ordinance_improvement  ordinance (0.07731)  authorizing (0.03241)   \n",
       "\n",
       "                                    rank_3             rank_4         rank_5  \\\n",
       "topic                                                                          \n",
       "1_ordinance_improvement  october (0.03241)  program (0.03241)  year (0.0282)   \n",
       "\n",
       "                                    rank_6          rank_7        rank_8  \\\n",
       "topic                                                                      \n",
       "1_ordinance_improvement  november (0.0268)  years (0.0268)  red (0.0268)   \n",
       "\n",
       "                                   rank_9               rank_10  \n",
       "topic                                                            \n",
       "1_ordinance_improvement  capital (0.0254)  improvement (0.0254)  "
      ]
     },
     "execution_count": 173,
     "metadata": {},
     "output_type": "execute_result"
    }
   ],
   "source": [
    "from tmtoolkit.topicmod.model_io import ldamodel_top_topic_words\n",
    "\n",
    "top_topic_word = ldamodel_top_topic_words(best_tm.topic_word_,\n",
    "                                          vocab_bg,\n",
    "                                          row_labels=topic_labels)\n",
    "top_topic_word[top_topic_word.index == '1_ordinance_improvement']"
   ]
  },
  {
   "cell_type": "markdown",
   "metadata": {
    "colab_type": "text",
    "id": "GWOGsr1O0vi1"
   },
   "source": [
    "### Marginal topic and word distributions\n",
    "\n",
    "We'll now focus on the marginal topic and word distributions. Let's get the marginal topic distribution first by using [marginal_topic_distrib()](api.rst#tmtoolkit.topicmod.model_stats.marginal_topic_distrib):"
   ]
  },
  {
   "cell_type": "code",
   "execution_count": 174,
   "metadata": {
    "colab": {
     "base_uri": "https://localhost:8080/",
     "height": 69
    },
    "colab_type": "code",
    "id": "NcKdDQwx0vi2",
    "outputId": "991df222-21ec-4a31-e32b-ff7baba5cc9b",
    "pycharm": {
     "is_executing": false
    },
    "scrolled": true
   },
   "outputs": [
    {
     "data": {
      "text/plain": [
       "array([0.01153, 0.03918, 0.06735, 0.04553, 0.05355, 0.02481, 0.02093,\n",
       "       0.02769, 0.00093, 0.03854, 0.01279, 0.02359, 0.00546, 0.14823,\n",
       "       0.00557, 0.01287, 0.03378, 0.02724, 0.01891, 0.00759, 0.00639,\n",
       "       0.09251, 0.01125, 0.01026, 0.00639, 0.07788, 0.07672, 0.01495,\n",
       "       0.00453, 0.07304])"
      ]
     },
     "execution_count": 174,
     "metadata": {},
     "output_type": "execute_result"
    }
   ],
   "source": [
    "from tmtoolkit.topicmod.model_stats import marginal_topic_distrib\n",
    "\n",
    "marg_topic = marginal_topic_distrib(best_tm.doc_topic_, doc_lengths_bg)\n",
    "marg_topic"
   ]
  },
  {
   "cell_type": "markdown",
   "metadata": {
    "colab_type": "text",
    "id": "waKzdPAX0vjA"
   },
   "source": [
    "The marginal topic distribution can be interpreted as the \"importance\" of each topic for the whole corpus. Let's get the sorted indices into `topic_labels` with `np.argsort()` and get the top five topics:"
   ]
  },
  {
   "cell_type": "code",
   "execution_count": 175,
   "metadata": {
    "colab": {
     "base_uri": "https://localhost:8080/",
     "height": 52
    },
    "colab_type": "code",
    "id": "1ICrmFJG0vjF",
    "outputId": "c4111099-a6a4-464d-c1a3-fd5545359b0f",
    "pycharm": {
     "is_executing": false
    }
   },
   "outputs": [
    {
     "data": {
      "text/plain": [
       "array(['14_board_motion', '22_bus_cta', '26_period_months',\n",
       "       '27_matters_transit', '30_number_contract'], dtype='<U24')"
      ]
     },
     "execution_count": 175,
     "metadata": {},
     "output_type": "execute_result"
    }
   ],
   "source": [
    "# np.argsort() gives ascending order, hence reverse via [::-1]\n",
    "topic_labels[np.argsort(marg_topic)[::-1][:5]]"
   ]
  },
  {
   "cell_type": "markdown",
   "metadata": {
    "colab_type": "text",
    "id": "e6TyZkMF0vjL"
   },
   "source": [
    "Likewise, we can get the marginal word distribution with [marginal_word_distrib()](api.rst#tmtoolkit.topicmod.model_stats.marginal_word_distrib) from the model's topic-word distribution and the marginal topic distribution. We'll use this to list the most probable words for the corpus. As expected, these are mostly quite common words:"
   ]
  },
  {
   "cell_type": "code",
   "execution_count": 176,
   "metadata": {
    "colab": {
     "base_uri": "https://localhost:8080/",
     "height": 52
    },
    "colab_type": "code",
    "id": "EfC7vp6G0vjM",
    "outputId": "b996185c-5a14-4ab6-98e6-53bc6be6fcb6",
    "pycharm": {
     "is_executing": false
    }
   },
   "outputs": [
    {
     "data": {
      "text/plain": [
       "array(['board', 'chicago', 'transit', 'motion', 'chairman', 'report',\n",
       "       'ordinance', 'cta', 'minutes', 'finance'], dtype='<U20')"
      ]
     },
     "execution_count": 176,
     "metadata": {},
     "output_type": "execute_result"
    }
   ],
   "source": [
    "from tmtoolkit.topicmod.model_stats import marginal_word_distrib\n",
    "\n",
    "marg_word = marginal_word_distrib(best_tm.topic_word_, marg_topic)\n",
    "vocab_bg[np.argsort(marg_word)[::-1][:10]]"
   ]
  },
  {
   "cell_type": "markdown",
   "metadata": {
    "colab_type": "text",
    "id": "XUYURIxC0vjQ"
   },
   "source": [
    "Two helper functions exist for this purpose: [most_probable_words()](api.rst#tmtoolkit.topicmod.model_stats.most_probable_words) and [least_probable_words()](api.rst#tmtoolkit.topicmod.model_stats.least_probable_words) sort the vocabulary according to the marginal probability:"
   ]
  },
  {
   "cell_type": "code",
   "execution_count": 177,
   "metadata": {
    "colab": {
     "base_uri": "https://localhost:8080/",
     "height": 52
    },
    "colab_type": "code",
    "id": "7I09QG0M0vjT",
    "outputId": "d6942a49-684b-4fb7-ba2d-364bc4e481ff",
    "pycharm": {
     "is_executing": false
    }
   },
   "outputs": [
    {
     "data": {
      "text/plain": [
       "array(['board', 'chicago', 'transit', 'motion', 'chairman', 'report',\n",
       "       'ordinance', 'cta', 'minutes', 'finance'], dtype='<U20')"
      ]
     },
     "execution_count": 177,
     "metadata": {},
     "output_type": "execute_result"
    }
   ],
   "source": [
    "from tmtoolkit.topicmod.model_stats import most_probable_words, least_probable_words\n",
    "\n",
    "most_probable_words(vocab_bg, best_tm.topic_word_,\n",
    "                    best_tm.doc_topic_, doc_lengths_bg,\n",
    "                    n=10)"
   ]
  },
  {
   "cell_type": "code",
   "execution_count": 178,
   "metadata": {
    "colab": {
     "base_uri": "https://localhost:8080/",
     "height": 52
    },
    "colab_type": "code",
    "id": "eKc3sS8H0vjb",
    "outputId": "7ddfe65c-b5b0-4d1e-b2a9-c50cc8c400e9",
    "pycharm": {
     "is_executing": false
    }
   },
   "outputs": [
    {
     "data": {
      "text/plain": [
       "array(['reference', 'processing', 'occurred', 'school', 'cultural',\n",
       "       'goose', 'island', 'circuit', 'took', 'shipbob'], dtype='<U20')"
      ]
     },
     "execution_count": 178,
     "metadata": {},
     "output_type": "execute_result"
    }
   ],
   "source": [
    "least_probable_words(vocab_bg, best_tm.topic_word_,\n",
    "                     best_tm.doc_topic_, doc_lengths_bg,\n",
    "                     n=10)"
   ]
  },
  {
   "cell_type": "markdown",
   "metadata": {
    "colab_type": "text",
    "id": "dzd2Z98r0vjg"
   },
   "source": [
    "### Word distinctiveness and saliency\n",
    "\n",
    "Word *distinctiveness* and *saliency* (see below) help to identify the most \"informative\" words in a corpus given its topic model. Both measures are introduced in [Chuang et al. 2012](https://dl.acm.org/citation.cfm?id=2254572).\n",
    "\n",
    "Word distinctiveness is calculated for each word $w$ as\n",
    "\n",
    "$\\text{distinctiveness}(w) = \\sum_T(P(T|w) \\log \\frac{P(T|w)}{P(T)})$.\n",
    "\n",
    "where $P(T)$ is the marginal topic distribution and $P(T|w)$ is the probability of a topic given a word $w$.\n",
    "\n",
    "We can calculate this measure using [word_distinctiveness()](api.rst#tmtoolkit.topicmod.model_stats.word_distinctiveness). To use this measure directly to rank words, we can use [most_distinct_words()](api.rst#tmtoolkit.topicmod.model_stats.most_distinct_words) and [least_distinct_words()](api.rst#tmtoolkit.topicmod.model_stats.least_distinct_words):"
   ]
  },
  {
   "cell_type": "code",
   "execution_count": 179,
   "metadata": {
    "colab": {
     "base_uri": "https://localhost:8080/",
     "height": 52
    },
    "colab_type": "code",
    "id": "zuuCFEBL0vjg",
    "outputId": "240c4eef-3a1d-4d42-868b-f9c499e5e1d1",
    "pycharm": {
     "is_executing": false
    }
   },
   "outputs": [
    {
     "data": {
      "text/plain": [
       "array([1.31988, 1.56021, 1.47991, 1.20678, 1.18357, 2.58626, 3.09589,\n",
       "       1.42295, 1.44057, 1.53686])"
      ]
     },
     "execution_count": 179,
     "metadata": {},
     "output_type": "execute_result"
    }
   ],
   "source": [
    "from tmtoolkit.topicmod.model_stats import word_distinctiveness, \\\n",
    "    most_distinct_words, least_distinct_words\n",
    "\n",
    "word_distinct = word_distinctiveness(best_tm.topic_word_, marg_topic)\n",
    "word_distinct[:10]   # first 10 words in vocab"
   ]
  },
  {
   "cell_type": "code",
   "execution_count": 180,
   "metadata": {
    "colab": {
     "base_uri": "https://localhost:8080/",
     "height": 69
    },
    "colab_type": "code",
    "id": "6kNrWudE0vjp",
    "outputId": "fc3b5375-1f03-4488-e6ea-1b72e12efc54",
    "pycharm": {
     "is_executing": false
    }
   },
   "outputs": [
    {
     "data": {
      "text/plain": [
       "array(['processing', 'reference', 'occurred', 'request', 'bargaining',\n",
       "       'appointing', 'tentative', 'containing', 'august', 'circuit'],\n",
       "      dtype='<U20')"
      ]
     },
     "execution_count": 180,
     "metadata": {},
     "output_type": "execute_result"
    }
   ],
   "source": [
    "most_distinct_words(vocab_bg, best_tm.topic_word_,\n",
    "                    best_tm.doc_topic_, doc_lengths_bg,\n",
    "                    n=10)"
   ]
  },
  {
   "cell_type": "code",
   "execution_count": 181,
   "metadata": {
    "colab": {
     "base_uri": "https://localhost:8080/",
     "height": 52
    },
    "colab_type": "code",
    "id": "tsPkRucB0vjt",
    "outputId": "0f0a6d6d-3d8c-4c12-fb78-4057373fbaf2",
    "pycharm": {
     "is_executing": false
    }
   },
   "outputs": [
    {
     "data": {
      "text/plain": [
       "array(['board', 'january', 'chairman', 'item', 'street', 'illinois',\n",
       "       'may', 'asked', 'yes', 'seven'], dtype='<U20')"
      ]
     },
     "execution_count": 181,
     "metadata": {},
     "output_type": "execute_result"
    }
   ],
   "source": [
    "least_distinct_words(vocab_bg, best_tm.topic_word_,\n",
    "                     best_tm.doc_topic_, doc_lengths_bg,\n",
    "                     n=10)"
   ]
  },
  {
   "cell_type": "markdown",
   "metadata": {
    "colab_type": "text",
    "id": "rwCBN2BA0vj5"
   },
   "source": [
    "Word *saliency* weights each words' distinctiveness by it's marginal probability $P(w)$:\n",
    "\n",
    "$\\text{saliency}(w) = P(w) \\cdot \\text{distinctiveness}(w)$.\n",
    "\n",
    "The respective functions in tmtoolkit are [word_saliency()](api.rst#tmtoolkit.topicmod.model_stats.word_saliency), [most_salient_words()](api.rst#tmtoolkit.topicmod.model_stats.most_salient_words) and [least_salient_words()](api.rst#tmtoolkit.topicmod.model_stats.least_salient_words):"
   ]
  },
  {
   "cell_type": "code",
   "execution_count": 182,
   "metadata": {
    "colab": {
     "base_uri": "https://localhost:8080/",
     "height": 52
    },
    "colab_type": "code",
    "id": "E_m050hw0vj6",
    "outputId": "5ab2851c-5a11-44a2-bcd6-03024c761305",
    "pycharm": {
     "is_executing": false
    }
   },
   "outputs": [
    {
     "data": {
      "text/plain": [
       "array([0.00053, 0.0004 , 0.00038, 0.00066, 0.00044, 0.00185, 0.00091,\n",
       "       0.0004 , 0.00038, 0.00029])"
      ]
     },
     "execution_count": 182,
     "metadata": {},
     "output_type": "execute_result"
    }
   ],
   "source": [
    "from tmtoolkit.topicmod.model_stats import word_saliency, \\\n",
    "    most_salient_words, least_salient_words\n",
    "\n",
    "word_sal = word_saliency(best_tm.topic_word_, best_tm.doc_topic_, doc_lengths_bg)\n",
    "word_sal[:10]   # first 10 words in vocab"
   ]
  },
  {
   "cell_type": "code",
   "execution_count": 183,
   "metadata": {
    "colab": {
     "base_uri": "https://localhost:8080/",
     "height": 52
    },
    "colab_type": "code",
    "id": "2dJIASuj0vkB",
    "outputId": "bb711a0e-4935-4400-b5af-84b29b75aa51",
    "pycharm": {
     "is_executing": false
    }
   },
   "outputs": [
    {
     "data": {
      "text/plain": [
       "array(['transit', 'chicago', 'report', 'ordinance', 'board', 'motion',\n",
       "       'authorizing', 'approve', 'authority', 'matters'], dtype='<U20')"
      ]
     },
     "execution_count": 183,
     "metadata": {},
     "output_type": "execute_result"
    }
   ],
   "source": [
    "most_salient_words(vocab_bg, best_tm.topic_word_,\n",
    "                   best_tm.doc_topic_, doc_lengths_bg,\n",
    "                   n=10)"
   ]
  },
  {
   "cell_type": "code",
   "execution_count": 184,
   "metadata": {
    "colab": {
     "base_uri": "https://localhost:8080/",
     "height": 52
    },
    "colab_type": "code",
    "id": "gm6fq_Ys0vkE",
    "outputId": "a997e5c3-16d4-4b6c-92a9-e9b047740fab",
    "pycharm": {
     "is_executing": false
    }
   },
   "outputs": [
    {
     "data": {
      "text/plain": [
       "array(['convened', '5b', 'recessed', 'c2', 'tickets', 'digital', 'g2',\n",
       "       'effective', 'corrections', 'garland'], dtype='<U20')"
      ]
     },
     "execution_count": 184,
     "metadata": {},
     "output_type": "execute_result"
    }
   ],
   "source": [
    "least_salient_words(vocab_bg, best_tm.topic_word_,\n",
    "                    best_tm.doc_topic_, doc_lengths_bg,\n",
    "                    n=10)"
   ]
  },
  {
   "cell_type": "markdown",
   "metadata": {
    "colab_type": "text",
    "id": "dt_e-97h0vkL"
   },
   "source": [
    "### Topic-word relevance\n",
    "\n",
    "The topic-word relevance measure as introduced by [Sievert and Shirley 2014](https://www.aclweb.org/anthology/W14-3110/) helps to identify the most relevant words within a topic by also accounting for the marginal probability of each word across the corpus. This is done by integrating a *lift* value, which is the \"ratio of a term's probability within a topic to its marginal probability across the corpus.\" (ibid.)\n",
    "\n",
    "Thus for each word $w$, given a topic-word distribution $\\phi$, a topic $t$ and a weight parameter $\\lambda$, it is calculated as:\n",
    "\n",
    "$\\text{relevance}_{\\phi, \\lambda}(w, t) = \\lambda \\log \\phi_{t,w} + (1-\\lambda) \\log \\frac{\\phi_{t,w}}{p(w)}$.\n",
    "\n",
    "The first term $\\log \\phi_{t,w}$ is the log of the topic-word distribution, the second term $\\log \\frac{\\phi_{t,w}}{p(w)}$ is the *log lift* and $\\lambda$ can be used to control the weight between both terms. The lower $\\lambda$, the more weight is put on the lift term, i.e. the more different are the results from the original topic-word distribution.\n",
    "\n",
    "This measure is implemented in [topic_word_relevance()](api.rst#tmtoolkit.topicmod.model_stats.topic_word_relevance). It returns a matrix of the same shape as the topic-word distribution, i.e. each row represents a topic with a (log-transformed) distribution across all words in the vocabulary. Please note that the lambda parameter ends with an underscore: `lambda_`."
   ]
  },
  {
   "cell_type": "code",
   "execution_count": 185,
   "metadata": {
    "colab": {
     "base_uri": "https://localhost:8080/",
     "height": 139
    },
    "colab_type": "code",
    "id": "VYtGAEgr0vkO",
    "outputId": "e16dded4-54d5-4c45-a48d-1e0b6cdcd86c",
    "pycharm": {
     "is_executing": false
    }
   },
   "outputs": [
    {
     "data": {
      "text/plain": [
       "array([[-5.74396, -5.56788, -5.56992, ..., -1.14647, -6.59201, -6.21149],\n",
       "       [-6.89921, -6.72313, -6.72517, ..., -7.55399, -7.74726, -7.36675],\n",
       "       [-7.41599, -7.23992, -7.24196, ..., -8.07078, -8.26405, -7.88353],\n",
       "       ...,\n",
       "       [-5.98691, -5.81083, -5.81287, ..., -6.6417 , -6.83496, -6.45445],\n",
       "       [-4.95471, -4.77864, -4.78068, ..., -5.6095 , -5.80277, -5.42225],\n",
       "       [-3.78777, -3.61169, -3.39548, ..., -5.75823, -2.51751, -2.22909]])"
      ]
     },
     "execution_count": 185,
     "metadata": {},
     "output_type": "execute_result"
    }
   ],
   "source": [
    "from tmtoolkit.topicmod.model_stats import topic_word_relevance\n",
    "\n",
    "topic_word_rel = topic_word_relevance(best_tm.topic_word_, best_tm.doc_topic_,\n",
    "                                      doc_lengths_bg, lambda_=0.6)\n",
    "topic_word_rel"
   ]
  },
  {
   "cell_type": "markdown",
   "metadata": {
    "colab_type": "text",
    "id": "KzQJQ3b10vkX"
   },
   "source": [
    "To confirm that it's 30 topics across all words in the vocabulary:"
   ]
  },
  {
   "cell_type": "code",
   "execution_count": 186,
   "metadata": {
    "colab": {
     "base_uri": "https://localhost:8080/",
     "height": 34
    },
    "colab_type": "code",
    "id": "H2iapXkI0vkY",
    "outputId": "bf92a1e7-e597-4453-c3a0-a46285d98c5e",
    "pycharm": {
     "is_executing": false
    }
   },
   "outputs": [
    {
     "data": {
      "text/plain": [
       "(30, 847)"
      ]
     },
     "execution_count": 186,
     "metadata": {},
     "output_type": "execute_result"
    }
   ],
   "source": [
    "topic_word_rel.shape"
   ]
  },
  {
   "cell_type": "markdown",
   "metadata": {
    "colab_type": "text",
    "id": "qPrdyR350vkg"
   },
   "source": [
    "Two functions can be used to get the most or least relevant words for a topic: [most_relevant_words_for_topic()](api.rst#tmtoolkit.topicmod.model_stats.most_relevant_words_for_topic) and [least_relevant_words_for_topic()](api.rst#tmtoolkit.topicmod.model_stats.least_relevant_words_for_topic). You can select the topic with the `topic` parameter which is a **zero-based topic index**.\n",
    "\n",
    "We'll do it for topic with index 9, which is:"
   ]
  },
  {
   "cell_type": "code",
   "execution_count": 187,
   "metadata": {
    "colab": {
     "base_uri": "https://localhost:8080/",
     "height": 34
    },
    "colab_type": "code",
    "id": "xF1aMyO80vkh",
    "outputId": "80209cb8-cb64-4a0e-b448-def7fe72fd46",
    "pycharm": {
     "is_executing": false
    }
   },
   "outputs": [
    {
     "data": {
      "text/plain": [
       "'10_employee_retirement'"
      ]
     },
     "execution_count": 187,
     "metadata": {},
     "output_type": "execute_result"
    }
   ],
   "source": [
    "topic_labels[9]"
   ]
  },
  {
   "cell_type": "code",
   "execution_count": 188,
   "metadata": {
    "colab": {
     "base_uri": "https://localhost:8080/",
     "height": 52
    },
    "colab_type": "code",
    "id": "Q03nyH7M0vkp",
    "outputId": "7837d7fe-b40b-4dc8-8f46-84fe3190c7cc",
    "pycharm": {
     "is_executing": false
    }
   },
   "outputs": [
    {
     "data": {
      "text/plain": [
       "array(['employee', 'retirement', 'chicago', 'transit', 'review',\n",
       "       'secretary', 'authority', 'scheduled', 'discuss', 'room'],\n",
       "      dtype='<U20')"
      ]
     },
     "execution_count": 188,
     "metadata": {},
     "output_type": "execute_result"
    }
   ],
   "source": [
    "from tmtoolkit.topicmod.model_stats import most_relevant_words_for_topic, \\\n",
    "    least_relevant_words_for_topic\n",
    "\n",
    "most_relevant_words_for_topic(vocab_bg, topic_word_rel, topic=9, n=10)"
   ]
  },
  {
   "cell_type": "code",
   "execution_count": 189,
   "metadata": {
    "colab": {
     "base_uri": "https://localhost:8080/",
     "height": 52
    },
    "colab_type": "code",
    "id": "1RmwUmXc0vkw",
    "outputId": "801a0b05-3fd7-4890-b8d4-9fe3c5718c07",
    "pycharm": {
     "is_executing": false
    }
   },
   "outputs": [
    {
     "data": {
      "text/plain": [
       "array(['motion', 'report', 'ordinance', 'cta', 'minutes', 'finance',\n",
       "       'approved', 'agenda', 'authorizing', 'asked'], dtype='<U20')"
      ]
     },
     "execution_count": 189,
     "metadata": {},
     "output_type": "execute_result"
    }
   ],
   "source": [
    "least_relevant_words_for_topic(vocab_bg, topic_word_rel, topic=9, n=10)"
   ]
  },
  {
   "cell_type": "markdown",
   "metadata": {
    "colab_type": "text",
    "id": "fbH4u_Du0vkz"
   },
   "source": [
    "### Topic coherence\n",
    "\n",
    "We already used the *coherence* metric ([Mimno et al. 2011](https://dl.acm.org/citation.cfm?id=2145462)) for topic model evaluation. However, this metric cannot only be used to assess the overall quality of a topic model, but also to evaluate the individual topics' coherence."
   ]
  },
  {
   "cell_type": "code",
   "execution_count": 190,
   "metadata": {
    "colab": {
     "base_uri": "https://localhost:8080/",
     "height": 69
    },
    "colab_type": "code",
    "id": "tmZddOgG0vkz",
    "outputId": "654a876d-f2ae-4d56-c7dd-1d1b927603de"
   },
   "outputs": [
    {
     "data": {
      "text/plain": [
       "array([ -1.84061,  -0.76131,  -1.11392,  -0.82402,  -0.70654,  -0.98943,\n",
       "        -1.0153 ,  -0.95402, -11.22628,  -0.43683,  -1.1155 ,  -0.60367,\n",
       "        -2.13232,  -0.72167,  -1.49026,  -1.2518 ,  -1.06737,  -0.89906,\n",
       "        -0.65323,  -0.9285 ,  -1.63877,  -1.09899,  -1.29222,  -1.92288,\n",
       "        -1.41615,  -0.64051,  -0.48102,  -0.90097,  -4.29823,  -0.46498])"
      ]
     },
     "execution_count": 190,
     "metadata": {},
     "output_type": "execute_result"
    }
   ],
   "source": [
    "from tmtoolkit.topicmod.evaluate import metric_coherence_mimno_2011\n",
    "\n",
    "# use top 20 words per topic for metric\n",
    "coh = metric_coherence_mimno_2011(best_tm.topic_word_, dtm_bg, top_n=20)\n",
    "coh"
   ]
  },
  {
   "cell_type": "markdown",
   "metadata": {
    "colab_type": "text",
    "id": "aqdkXk7E0vk3"
   },
   "source": [
    "This generates a coherence value for each topic. Let's show the distribution of these values:"
   ]
  },
  {
   "cell_type": "code",
   "execution_count": 191,
   "metadata": {
    "colab": {
     "base_uri": "https://localhost:8080/",
     "height": 279
    },
    "colab_type": "code",
    "id": "BS5UKf2T0vk3",
    "outputId": "942be437-fffb-4d9b-96be-5ed8e657db92",
    "scrolled": true
   },
   "outputs": [
    {
     "data": {
      "image/png": "[encoded data removed]",
      "text/plain": [
       "<Figure size 432x288 with 1 Axes>"
      ]
     },
     "metadata": {
      "needs_background": "light"
     },
     "output_type": "display_data"
    }
   ],
   "source": [
    "import matplotlib.pyplot as plt\n",
    "\n",
    "plt.hist(coh, bins=20)\n",
    "plt.xlabel('coherence')\n",
    "plt.ylabel('n')\n",
    "plt.show();"
   ]
  },
  {
   "cell_type": "markdown",
   "metadata": {
    "colab_type": "text",
    "id": "xpHcb9Yk0vk8"
   },
   "source": [
    "And print the best and worst topics according to this metric:"
   ]
  },
  {
   "cell_type": "code",
   "execution_count": 192,
   "metadata": {
    "colab": {
     "base_uri": "https://localhost:8080/",
     "height": 52
    },
    "colab_type": "code",
    "id": "kJ7Nf0hJ0vk9",
    "outputId": "51263c36-51dd-4848-b07d-4738f78f80eb"
   },
   "outputs": [
    {
     "data": {
      "text/plain": [
       "array(['10_employee_retirement', '30_number_contract',\n",
       "       '27_matters_transit', '12_litigation_bills', '26_period_months'],\n",
       "      dtype='<U24')"
      ]
     },
     "execution_count": 192,
     "metadata": {},
     "output_type": "execute_result"
    }
   ],
   "source": [
    "import numpy as np\n",
    "\n",
    "top10_t_indices = np.argsort(coh)[::-1][:5]\n",
    "bottom10_t_indices = np.argsort(coh)[:5]\n",
    "\n",
    "topic_labels[top10_t_indices]"
   ]
  },
  {
   "cell_type": "code",
   "execution_count": 193,
   "metadata": {
    "colab": {
     "base_uri": "https://localhost:8080/",
     "height": 52
    },
    "colab_type": "code",
    "id": "ce4osHrF0vk_",
    "outputId": "101d2681-428c-4da8-ecd5-1dd14954341c"
   },
   "outputs": [
    {
     "data": {
      "text/plain": [
       "array(['9_processing_reference', '29_august_july',\n",
       "       '13_appointing_settlement', '24_city_agreement',\n",
       "       '1_ordinance_improvement'], dtype='<U24')"
      ]
     },
     "execution_count": 193,
     "metadata": {},
     "output_type": "execute_result"
    }
   ],
   "source": [
    "topic_labels[bottom10_t_indices]"
   ]
  },
  {
   "cell_type": "markdown",
   "metadata": {
    "colab_type": "text",
    "id": "akxEPKhF0vlD"
   },
   "source": [
    "More coherence metrics can be used with the function [metric_coherence_gensim()](api.rst#tmtoolkit.topicmod.evaluate.metric_coherence_gensim). This requires that [gensim](https://radimrehurek.com/gensim/) is installed. Furthemore, most metrics require that a parameter `texts` is passed which is the tokenized text that was used to create the document-term matrix."
   ]
  },
  {
   "cell_type": "markdown",
   "metadata": {
    "colab_type": "text",
    "id": "ELRVUOaj0vlD"
   },
   "source": [
    "### Filtering topics\n",
    "\n",
    "With the function [filter_topics()](api.rst#tmtoolkit.topicmod.model_stats.filter_topics), you can filter the topics according to their topic-word distribution and the following search criteria:\n",
    "\n",
    "- `search_pattern`: one or more search patterns according to the [common parameters for pattern matching](preprocessing.ipynb#Common-parameters-for-pattern-matching-functions)\n",
    "- `top_n`: pattern match(es) must occur in the first `top_n` most probable words in the topic\n",
    "- `thresh`: matched words' probability must be above this threshold\n",
    "\n",
    "You must specify at least one of `top_n` and `thresh`, but you can also specify both. The function returns an array of topic indices (which start with zero!).\n",
    "\n",
    "Let's find all topics that have the word \"police\" in the top 5 most probable words:"
   ]
  },
  {
   "cell_type": "code",
   "execution_count": 194,
   "metadata": {
    "colab": {
     "base_uri": "https://localhost:8080/",
     "height": 34
    },
    "colab_type": "code",
    "id": "A691x2-h0vlE",
    "outputId": "a2fc745d-ce8b-4881-8126-134560725ea3",
    "pycharm": {
     "is_executing": false
    }
   },
   "outputs": [
    {
     "data": {
      "text/plain": [
       "array([ 1, 25, 29])"
      ]
     },
     "execution_count": 194,
     "metadata": {},
     "output_type": "execute_result"
    }
   ],
   "source": [
    "from tmtoolkit.topicmod.model_stats import filter_topics\n",
    "\n",
    "found_topics = filter_topics('finance', vocab_bg,\n",
    "                             best_tm.topic_word_, top_n=5)\n",
    "found_topics"
   ]
  },
  {
   "cell_type": "markdown",
   "metadata": {
    "colab_type": "text",
    "id": "VfQJTQJG0vlI"
   },
   "source": [
    "We can use these indices with our `topic_labels`:"
   ]
  },
  {
   "cell_type": "code",
   "execution_count": 195,
   "metadata": {
    "colab": {
     "base_uri": "https://localhost:8080/",
     "height": 34
    },
    "colab_type": "code",
    "id": "GuLta7XH0vlI",
    "outputId": "6b196e14-e439-466e-9611-e595730122af",
    "pycharm": {
     "is_executing": false
    }
   },
   "outputs": [
    {
     "data": {
      "text/plain": [
       "array(['2_matters_authority', '26_period_months', '30_number_contract'],\n",
       "      dtype='<U24')"
      ]
     },
     "execution_count": 195,
     "metadata": {},
     "output_type": "execute_result"
    }
   ],
   "source": [
    "topic_labels[found_topics]"
   ]
  },
  {
   "cell_type": "markdown",
   "metadata": {
    "colab_type": "text",
    "id": "fGWIPUYx0vlM"
   },
   "source": [
    "Next, we want to select all topics where *any* of the words matched by the glob patterns (`match_type='glob'`) `\"trump\"` *or* `\"russia*\"` achieve at least a probability of 0.01 (`thresh=0.01`):"
   ]
  },
  {
   "cell_type": "code",
   "execution_count": 196,
   "metadata": {
    "colab": {
     "base_uri": "https://localhost:8080/",
     "height": 86
    },
    "colab_type": "code",
    "id": "l0YXN2zW0vlN",
    "outputId": "b2d63b36-9130-4750-892f-3bf6cfcf8ea7",
    "pycharm": {
     "is_executing": false
    }
   },
   "outputs": [
    {
     "data": {
      "text/plain": [
       "array(['2_matters_authority', '5_approve_ordinance', '21_operating_state',\n",
       "       '26_period_months', '30_number_contract'], dtype='<U24')"
      ]
     },
     "execution_count": 196,
     "metadata": {},
     "output_type": "execute_result"
    }
   ],
   "source": [
    "found_topics = filter_topics(['finance', 'contract*'], vocab_bg,\n",
    "                             best_tm.topic_word_, thresh=0.01, match_type='glob')\n",
    "topic_labels[found_topics]"
   ]
  },
  {
   "cell_type": "markdown",
   "metadata": {
    "colab_type": "text",
    "id": "kUJONQqr0vlR"
   },
   "source": [
    "When we specify `cond='all'`, *all* patterns must have at least one match (here in the top 50 list of words per topic):"
   ]
  },
  {
   "cell_type": "code",
   "execution_count": 197,
   "metadata": {
    "colab": {
     "base_uri": "https://localhost:8080/",
     "height": 52
    },
    "colab_type": "code",
    "id": "Gqkpf4Vn0vlT",
    "outputId": "7a22c2c1-2a4b-4f66-c07c-026a27abb4b6",
    "pycharm": {
     "is_executing": false
    }
   },
   "outputs": [
    {
     "data": {
      "text/plain": [
       "array(['26_period_months', '30_number_contract'], dtype='<U24')"
      ]
     },
     "execution_count": 197,
     "metadata": {},
     "output_type": "execute_result"
    }
   ],
   "source": [
    "found_topics = filter_topics(['finance', 'contract*'], vocab_bg,\n",
    "                             best_tm.topic_word_, top_n=50, match_type='glob',\n",
    "                             cond='all')\n",
    "topic_labels[found_topics]"
   ]
  },
  {
   "cell_type": "markdown",
   "metadata": {
    "colab_type": "text",
    "id": "PgIsGwaS0vlg"
   },
   "source": [
    "### Excluding topics\n",
    "\n",
    "It is often the case that some topics of a topic model rank a lot of uninformative (e.g. very common) words the highest. This results in some uninformative topics, which you may want to exclude from further analysis. Note that if a large fraction of topics seems uninformative, it points to a problem with your topic model and/or your preprocessing steps. You should [evaluate](#Evaluation-of-topic-models) your candidate models carefully with the mentioned metrics and/or adjust your text preprocessing pipeline.\n",
    "\n",
    "The function [exclude_topics()](api.rst#tmtoolkit.topicmod.model_stats.exclude_topics) allows to remove a specified set of topics from the document-topic and topic-word distributions. You need to pass the **zero-based** indices of the topics that you want to remove, and both distributions.\n",
    "\n",
    "In this example, I identified the following topics as uninformative (by looking at the top ranked words either by topic-word distribution or topic-word relevance):"
   ]
  },
  {
   "cell_type": "code",
   "execution_count": 198,
   "metadata": {
    "colab": {
     "base_uri": "https://localhost:8080/",
     "height": 52
    },
    "colab_type": "code",
    "id": "l4nywyY40vlq",
    "outputId": "405cbbee-3c59-4af8-c78a-59d473350f5f",
    "pycharm": {
     "is_executing": false
    }
   },
   "outputs": [
    {
     "data": {
      "text/plain": [
       "array(['9_processing_reference', '29_august_july',\n",
       "       '13_appointing_settlement', '24_city_agreement',\n",
       "       '1_ordinance_improvement'], dtype='<U24')"
      ]
     },
     "execution_count": 198,
     "metadata": {},
     "output_type": "execute_result"
    }
   ],
   "source": [
    "topic_labels[bottom10_t_indices]"
   ]
  },
  {
   "cell_type": "markdown",
   "metadata": {
    "colab_type": "text",
    "id": "FwrGKNPO0vls"
   },
   "source": [
    "We can now pass these indices to [exclude_topics()](api.rst#tmtoolkit.topicmod.model_stats.exclude_topics) along with the topic model distributions. We'll get back new, filtered, distributions."
   ]
  },
  {
   "cell_type": "code",
   "execution_count": 199,
   "metadata": {
    "colab": {
     "base_uri": "https://localhost:8080/",
     "height": 34
    },
    "colab_type": "code",
    "id": "f-3F96J90vlu",
    "outputId": "629b6a3d-091a-44e0-f6d1-879ed8384ccb",
    "pycharm": {
     "is_executing": false
    }
   },
   "outputs": [
    {
     "data": {
      "text/plain": [
       "((380, 25), (25, 847))"
      ]
     },
     "execution_count": 199,
     "metadata": {},
     "output_type": "execute_result"
    }
   ],
   "source": [
    "from tmtoolkit.topicmod.model_stats import exclude_topics\n",
    "\n",
    "new_doc_topic, new_topic_word, new_topic_mapping = \\\n",
    "    exclude_topics(uninform_topics, best_tm.doc_topic_,\n",
    "                best_tm.topic_word_, return_new_topic_mapping=True)\n",
    "new_doc_topic.shape, new_topic_word.shape"
   ]
  },
  {
   "cell_type": "markdown",
   "metadata": {
    "colab_type": "text",
    "id": "o2k_bwA20vlw"
   },
   "source": [
    "We can see in the new distributions' shapes that we now have 45 instead of 50 topics, because we removed five of them. We shouldn't forget to also update the topic labels and remove the unwanted topics:"
   ]
  },
  {
   "cell_type": "code",
   "execution_count": 200,
   "metadata": {
    "colab": {
     "base_uri": "https://localhost:8080/",
     "height": 104
    },
    "colab_type": "code",
    "id": "laksfCZx0vlx",
    "outputId": "7329d157-2f3e-4c05-8d93-83414a26cef9",
    "pycharm": {
     "is_executing": false
    }
   },
   "outputs": [
    {
     "data": {
      "text/plain": [
       "array(['1_ordinance_improvement', '2_matters_authority', '3_work_members',\n",
       "       '4_people_issues', '5_approve_ordinance', '6_upon_invoice',\n",
       "       '7_pm_intake', '8_america_agreement', '10_employee_retirement',\n",
       "       '12_litigation_bills', '13_appointing_settlement',\n",
       "       '15_december_red', '18_station_asap', '19_delivery_strategic',\n",
       "       '20_operators_wheelchair', '21_operating_state', '22_bus_cta',\n",
       "       '23_month_total', '24_city_agreement', '25_bargaining_tentative',\n",
       "       '26_period_months', '27_matters_transit', '28_clock_afternoon',\n",
       "       '29_august_july', '30_number_contract'], dtype='<U24')"
      ]
     },
     "execution_count": 200,
     "metadata": {},
     "output_type": "execute_result"
    }
   ],
   "source": [
    "new_topic_labels = np.delete(topic_labels, uninform_topics)\n",
    "new_topic_labels"
   ]
  },
  {
   "cell_type": "markdown",
   "metadata": {
    "colab_type": "text",
    "id": "2uES92CG0vl0"
   },
   "source": [
    "## Displaying topic modeling results\n",
    "\n",
    "The [topicmod.model_io](api.rst#module-tmtoolkit.topicmod.model_io) module provides several functions for displaying and exporting topic modeling results, i.e. results derived from the document-topic and topic-word distribution of a given topic model.\n",
    "\n",
    "We already used [ldamodel_top_topic_words()](api.rst#tmtoolkit.topicmod.model_io.ldamodel_top_topic_words) briefly, which generates a dataframe with the top words from a topic-word distribution. You can also use the topic-word relevance matrix instead. With `top_n` we can control the number of top words:"
   ]
  },
  {
   "cell_type": "code",
   "execution_count": 201,
   "metadata": {
    "colab": {
     "base_uri": "https://localhost:8080/",
     "height": 175
    },
    "colab_type": "code",
    "id": "pra_Fppa0vl1",
    "outputId": "f2c9ab46-2746-4316-8da3-4f8ba44e14e0",
    "pycharm": {
     "is_executing": false
    }
   },
   "outputs": [
    {
     "data": {
      "text/html": [
       "<div>\n",
       "<style scoped>\n",
       "    .dataframe tbody tr th:only-of-type {\n",
       "        vertical-align: middle;\n",
       "    }\n",
       "\n",
       "    .dataframe tbody tr th {\n",
       "        vertical-align: top;\n",
       "    }\n",
       "\n",
       "    .dataframe thead th {\n",
       "        text-align: right;\n",
       "    }\n",
       "</style>\n",
       "<table border=\"1\" class=\"dataframe\">\n",
       "  <thead>\n",
       "    <tr style=\"text-align: right;\">\n",
       "      <th></th>\n",
       "      <th>rank_1</th>\n",
       "      <th>rank_2</th>\n",
       "      <th>rank_3</th>\n",
       "      <th>rank_4</th>\n",
       "      <th>rank_5</th>\n",
       "    </tr>\n",
       "    <tr>\n",
       "      <th>topic</th>\n",
       "      <th></th>\n",
       "      <th></th>\n",
       "      <th></th>\n",
       "      <th></th>\n",
       "      <th></th>\n",
       "    </tr>\n",
       "  </thead>\n",
       "  <tbody>\n",
       "    <tr>\n",
       "      <th>topic_1</th>\n",
       "      <td>ordinance (-0.7302)</td>\n",
       "      <td>improvement (-0.7359)</td>\n",
       "      <td>fiscal (-0.8337)</td>\n",
       "      <td>approving (-0.9402)</td>\n",
       "      <td>liability (-0.9426)</td>\n",
       "    </tr>\n",
       "    <tr>\n",
       "      <th>topic_2</th>\n",
       "      <td>matters (-0.743)</td>\n",
       "      <td>authority (-1.298)</td>\n",
       "      <td>legal (-1.308)</td>\n",
       "      <td>transit (-1.358)</td>\n",
       "      <td>general (-1.451)</td>\n",
       "    </tr>\n",
       "    <tr>\n",
       "      <th>topic_3</th>\n",
       "      <td>work (-1.153)</td>\n",
       "      <td>members (-1.385)</td>\n",
       "      <td>new (-1.405)</td>\n",
       "      <td>quarter (-1.556)</td>\n",
       "      <td>going (-1.571)</td>\n",
       "    </tr>\n",
       "  </tbody>\n",
       "</table>\n",
       "</div>"
      ],
      "text/plain": [
       "                      rank_1                 rank_2            rank_3  \\\n",
       "topic                                                                   \n",
       "topic_1  ordinance (-0.7302)  improvement (-0.7359)  fiscal (-0.8337)   \n",
       "topic_2     matters (-0.743)     authority (-1.298)    legal (-1.308)   \n",
       "topic_3        work (-1.153)       members (-1.385)      new (-1.405)   \n",
       "\n",
       "                      rank_4               rank_5  \n",
       "topic                                              \n",
       "topic_1  approving (-0.9402)  liability (-0.9426)  \n",
       "topic_2     transit (-1.358)     general (-1.451)  \n",
       "topic_3     quarter (-1.556)       going (-1.571)  "
      ]
     },
     "execution_count": 201,
     "metadata": {},
     "output_type": "execute_result"
    }
   ],
   "source": [
    "# using relevance matrix here and showing only the first 3 topics\n",
    "ldamodel_top_topic_words(topic_word_rel, vocab_bg, top_n=5)[:3]"
   ]
  },
  {
   "cell_type": "markdown",
   "metadata": {
    "colab_type": "text",
    "id": "vL0bSpoL0vl3"
   },
   "source": [
    "Note that the values in parantheses are the corresponding values from the matrix for that word in that topic. They're negative because of the log transformation that is applied in the topic-word relevance measure.\n",
    "\n",
    "A similar function can be used for the document-topic distribution: [ldamodel_top_doc_topics()](api.rst#tmtoolkit.topicmod.model_io.ldamodel_top_doc_topics). Here, `top_n` controls the number of top-ranked topics to export. This time, we use the filtered document-topic distribution `new_doc_topics`:"
   ]
  },
  {
   "cell_type": "code",
   "execution_count": 202,
   "metadata": {
    "colab": {
     "base_uri": "https://localhost:8080/",
     "height": 238
    },
    "colab_type": "code",
    "id": "xInkNFyD0vl4",
    "outputId": "28ab6bae-0364-44f3-9e3f-6e2c488fe1cf",
    "pycharm": {
     "is_executing": false
    }
   },
   "outputs": [
    {
     "data": {
      "text/html": [
       "<div>\n",
       "<style scoped>\n",
       "    .dataframe tbody tr th:only-of-type {\n",
       "        vertical-align: middle;\n",
       "    }\n",
       "\n",
       "    .dataframe tbody tr th {\n",
       "        vertical-align: top;\n",
       "    }\n",
       "\n",
       "    .dataframe thead th {\n",
       "        text-align: right;\n",
       "    }\n",
       "</style>\n",
       "<table border=\"1\" class=\"dataframe\">\n",
       "  <thead>\n",
       "    <tr style=\"text-align: right;\">\n",
       "      <th></th>\n",
       "      <th>rank_1</th>\n",
       "      <th>rank_2</th>\n",
       "      <th>rank_3</th>\n",
       "    </tr>\n",
       "    <tr>\n",
       "      <th>document</th>\n",
       "      <th></th>\n",
       "      <th></th>\n",
       "      <th></th>\n",
       "    </tr>\n",
       "  </thead>\n",
       "  <tbody>\n",
       "    <tr>\n",
       "      <th>0</th>\n",
       "      <td>30_number_contract (0.8046)</td>\n",
       "      <td>1_ordinance_improvement (0.1909)</td>\n",
       "      <td>28_clock_afternoon (0.0001986)</td>\n",
       "    </tr>\n",
       "    <tr>\n",
       "      <th>1</th>\n",
       "      <td>30_number_contract (0.977)</td>\n",
       "      <td>27_matters_transit (0.008482)</td>\n",
       "      <td>23_month_total (0.008482)</td>\n",
       "    </tr>\n",
       "    <tr>\n",
       "      <th>10</th>\n",
       "      <td>5_approve_ordinance (0.5369)</td>\n",
       "      <td>1_ordinance_improvement (0.2828)</td>\n",
       "      <td>13_appointing_settlement (0.1699)</td>\n",
       "    </tr>\n",
       "    <tr>\n",
       "      <th>100</th>\n",
       "      <td>26_period_months (0.6616)</td>\n",
       "      <td>24_city_agreement (0.1634)</td>\n",
       "      <td>1_ordinance_improvement (0.1204)</td>\n",
       "    </tr>\n",
       "    <tr>\n",
       "      <th>101</th>\n",
       "      <td>10_employee_retirement (0.947)</td>\n",
       "      <td>15_december_red (0.03849)</td>\n",
       "      <td>30_number_contract (0.0006309)</td>\n",
       "    </tr>\n",
       "  </tbody>\n",
       "</table>\n",
       "</div>"
      ],
      "text/plain": [
       "                                  rank_1                            rank_2  \\\n",
       "document                                                                     \n",
       "0            30_number_contract (0.8046)  1_ordinance_improvement (0.1909)   \n",
       "1             30_number_contract (0.977)     27_matters_transit (0.008482)   \n",
       "10          5_approve_ordinance (0.5369)  1_ordinance_improvement (0.2828)   \n",
       "100            26_period_months (0.6616)        24_city_agreement (0.1634)   \n",
       "101       10_employee_retirement (0.947)         15_december_red (0.03849)   \n",
       "\n",
       "                                     rank_3  \n",
       "document                                     \n",
       "0            28_clock_afternoon (0.0001986)  \n",
       "1                 23_month_total (0.008482)  \n",
       "10        13_appointing_settlement (0.1699)  \n",
       "100        1_ordinance_improvement (0.1204)  \n",
       "101          30_number_contract (0.0006309)  "
      ]
     },
     "execution_count": 202,
     "metadata": {},
     "output_type": "execute_result"
    }
   ],
   "source": [
    "from tmtoolkit.topicmod.model_io import ldamodel_top_doc_topics\n",
    "\n",
    "ldamodel_top_doc_topics(new_doc_topic, doc_labels, top_n=3,\n",
    "                        topic_labels=new_topic_labels)[:5]"
   ]
  },
  {
   "cell_type": "markdown",
   "metadata": {
    "colab_type": "text",
    "id": "CmE58wRl0vl6"
   },
   "source": [
    "Let's have a look at one of these documents:"
   ]
  },
  {
   "cell_type": "code",
   "execution_count": 203,
   "metadata": {
    "colab": {
     "base_uri": "https://localhost:8080/",
     "height": 54
    },
    "colab_type": "code",
    "id": "WguELHW00vl6",
    "outputId": "178ee4e2-e8c2-4da3-9956-6bcbb94853e3",
    "pycharm": {
     "is_executing": false
    }
   },
   "outputs": [
    {
     "name": "stdout",
     "output_type": "stream",
     "text": [
      "CHICAGO TRANSIT AUTHORITY\n",
      "Office of the Secretary\n",
      "NOTICE OF COMMITTEE MEETING\n",
      "September 12, 2018\n",
      "TO THE CHAIRMAN AND MEMBERS\n",
      "OF THE TRANSIT BOARD:\n",
      "A meeting of the Committee on Strategic Planning and Service\n",
      "Delivery has been called by the Chairman, Mr. Kevin Irvine, and will be held on\n",
      "Wednesday, September 12, 2018 at 9:15 a.m., at the offices of the Chicago\n",
      "Transit Authority, 567 West Lake Street, Second Floor, Boardroom,\n",
      "Chicago, Illinois, for the purpose of considering:\n",
      "- Operational related ...\n"
     ]
    }
   ],
   "source": [
    "print(corpus['70'][:500], '...')"
   ]
  },
  {
   "cell_type": "markdown",
   "metadata": {
    "colab_type": "text",
    "id": "JyZxl5gt0vl-"
   },
   "source": [
    "There are also two functions that generate datatables for the full topic-word and document-topic distributions: [ldamodel_full_topic_words()](api.rst#tmtoolkit.topicmod.model_io.ldamodel_full_topic_words) and [ldamodel_full_doc_topics()](api.rst#tmtoolkit.topicmod.model_io.ldamodel_full_doc_topics). The output of both functions is naturally quite big, as long as you're not working with a \"toy dataset\"."
   ]
  },
  {
   "cell_type": "code",
   "execution_count": 204,
   "metadata": {
    "colab": {
     "base_uri": "https://localhost:8080/",
     "height": 256
    },
    "colab_type": "code",
    "id": "lSFNH2sj0vl-",
    "outputId": "6092260c-0dd0-46e5-8026-387f638bf7c3",
    "pycharm": {
     "is_executing": false
    }
   },
   "outputs": [
    {
     "data": {
      "text/html": [
       "<div>\n",
       "<style scoped>\n",
       "    .dataframe tbody tr th:only-of-type {\n",
       "        vertical-align: middle;\n",
       "    }\n",
       "\n",
       "    .dataframe tbody tr th {\n",
       "        vertical-align: top;\n",
       "    }\n",
       "\n",
       "    .dataframe thead th {\n",
       "        text-align: right;\n",
       "    }\n",
       "</style>\n",
       "<table border=\"1\" class=\"dataframe\">\n",
       "  <thead>\n",
       "    <tr style=\"text-align: right;\">\n",
       "      <th></th>\n",
       "      <th>_topic</th>\n",
       "      <th>10th</th>\n",
       "      <th>11th</th>\n",
       "      <th>12th</th>\n",
       "      <th>13th</th>\n",
       "      <th>14th</th>\n",
       "      <th>2nd</th>\n",
       "      <th>31st</th>\n",
       "      <th>4a</th>\n",
       "      <th>5a</th>\n",
       "      <th>...</th>\n",
       "      <th>work</th>\n",
       "      <th>working</th>\n",
       "      <th>would</th>\n",
       "      <th>written</th>\n",
       "      <th>wwwtransitchicagocom</th>\n",
       "      <th>yarch</th>\n",
       "      <th>year</th>\n",
       "      <th>years</th>\n",
       "      <th>yes</th>\n",
       "      <th>youngblood</th>\n",
       "    </tr>\n",
       "  </thead>\n",
       "  <tbody>\n",
       "    <tr>\n",
       "      <th>0</th>\n",
       "      <td>1_ordinance_improvement</td>\n",
       "      <td>0.000140</td>\n",
       "      <td>0.000140</td>\n",
       "      <td>0.000140</td>\n",
       "      <td>0.000140</td>\n",
       "      <td>0.000140</td>\n",
       "      <td>0.000140</td>\n",
       "      <td>0.000140</td>\n",
       "      <td>0.000140</td>\n",
       "      <td>0.000140</td>\n",
       "      <td>...</td>\n",
       "      <td>0.002947</td>\n",
       "      <td>0.000140</td>\n",
       "      <td>0.000140</td>\n",
       "      <td>0.000140</td>\n",
       "      <td>0.000140</td>\n",
       "      <td>0.000140</td>\n",
       "      <td>0.028203</td>\n",
       "      <td>0.026799</td>\n",
       "      <td>0.000140</td>\n",
       "      <td>0.000140</td>\n",
       "    </tr>\n",
       "    <tr>\n",
       "      <th>1</th>\n",
       "      <td>2_matters_authority</td>\n",
       "      <td>0.000044</td>\n",
       "      <td>0.000044</td>\n",
       "      <td>0.000044</td>\n",
       "      <td>0.000044</td>\n",
       "      <td>0.000044</td>\n",
       "      <td>0.000044</td>\n",
       "      <td>0.000044</td>\n",
       "      <td>0.000044</td>\n",
       "      <td>0.000044</td>\n",
       "      <td>...</td>\n",
       "      <td>0.000044</td>\n",
       "      <td>0.000044</td>\n",
       "      <td>0.000044</td>\n",
       "      <td>0.000044</td>\n",
       "      <td>0.000044</td>\n",
       "      <td>0.000044</td>\n",
       "      <td>0.000044</td>\n",
       "      <td>0.000044</td>\n",
       "      <td>0.000044</td>\n",
       "      <td>0.000044</td>\n",
       "    </tr>\n",
       "    <tr>\n",
       "      <th>2</th>\n",
       "      <td>3_work_members</td>\n",
       "      <td>0.000026</td>\n",
       "      <td>0.000026</td>\n",
       "      <td>0.000026</td>\n",
       "      <td>0.000026</td>\n",
       "      <td>0.000026</td>\n",
       "      <td>0.000026</td>\n",
       "      <td>0.000026</td>\n",
       "      <td>0.000026</td>\n",
       "      <td>0.000026</td>\n",
       "      <td>...</td>\n",
       "      <td>0.027177</td>\n",
       "      <td>0.005562</td>\n",
       "      <td>0.016369</td>\n",
       "      <td>0.001081</td>\n",
       "      <td>0.000026</td>\n",
       "      <td>0.000026</td>\n",
       "      <td>0.002662</td>\n",
       "      <td>0.000026</td>\n",
       "      <td>0.000026</td>\n",
       "      <td>0.000026</td>\n",
       "    </tr>\n",
       "    <tr>\n",
       "      <th>3</th>\n",
       "      <td>4_people_issues</td>\n",
       "      <td>0.000425</td>\n",
       "      <td>0.000039</td>\n",
       "      <td>0.000039</td>\n",
       "      <td>0.000039</td>\n",
       "      <td>0.000039</td>\n",
       "      <td>0.000039</td>\n",
       "      <td>0.000039</td>\n",
       "      <td>0.000039</td>\n",
       "      <td>0.000039</td>\n",
       "      <td>...</td>\n",
       "      <td>0.000039</td>\n",
       "      <td>0.000039</td>\n",
       "      <td>0.019747</td>\n",
       "      <td>0.000812</td>\n",
       "      <td>0.000039</td>\n",
       "      <td>0.000039</td>\n",
       "      <td>0.001971</td>\n",
       "      <td>0.000039</td>\n",
       "      <td>0.000425</td>\n",
       "      <td>0.000039</td>\n",
       "    </tr>\n",
       "    <tr>\n",
       "      <th>4</th>\n",
       "      <td>5_approve_ordinance</td>\n",
       "      <td>0.000033</td>\n",
       "      <td>0.000033</td>\n",
       "      <td>0.000033</td>\n",
       "      <td>0.000033</td>\n",
       "      <td>0.000033</td>\n",
       "      <td>0.000033</td>\n",
       "      <td>0.000033</td>\n",
       "      <td>0.000033</td>\n",
       "      <td>0.000033</td>\n",
       "      <td>...</td>\n",
       "      <td>0.000033</td>\n",
       "      <td>0.000033</td>\n",
       "      <td>0.000033</td>\n",
       "      <td>0.000033</td>\n",
       "      <td>0.000033</td>\n",
       "      <td>0.000033</td>\n",
       "      <td>0.000033</td>\n",
       "      <td>0.000033</td>\n",
       "      <td>0.000033</td>\n",
       "      <td>0.000688</td>\n",
       "    </tr>\n",
       "  </tbody>\n",
       "</table>\n",
       "<p>5 rows × 848 columns</p>\n",
       "</div>"
      ],
      "text/plain": [
       "                    _topic      10th      11th      12th      13th      14th  \\\n",
       "0  1_ordinance_improvement  0.000140  0.000140  0.000140  0.000140  0.000140   \n",
       "1      2_matters_authority  0.000044  0.000044  0.000044  0.000044  0.000044   \n",
       "2           3_work_members  0.000026  0.000026  0.000026  0.000026  0.000026   \n",
       "3          4_people_issues  0.000425  0.000039  0.000039  0.000039  0.000039   \n",
       "4      5_approve_ordinance  0.000033  0.000033  0.000033  0.000033  0.000033   \n",
       "\n",
       "        2nd      31st        4a        5a  ...      work   working     would  \\\n",
       "0  0.000140  0.000140  0.000140  0.000140  ...  0.002947  0.000140  0.000140   \n",
       "1  0.000044  0.000044  0.000044  0.000044  ...  0.000044  0.000044  0.000044   \n",
       "2  0.000026  0.000026  0.000026  0.000026  ...  0.027177  0.005562  0.016369   \n",
       "3  0.000039  0.000039  0.000039  0.000039  ...  0.000039  0.000039  0.019747   \n",
       "4  0.000033  0.000033  0.000033  0.000033  ...  0.000033  0.000033  0.000033   \n",
       "\n",
       "    written  wwwtransitchicagocom     yarch      year     years       yes  \\\n",
       "0  0.000140              0.000140  0.000140  0.028203  0.026799  0.000140   \n",
       "1  0.000044              0.000044  0.000044  0.000044  0.000044  0.000044   \n",
       "2  0.001081              0.000026  0.000026  0.002662  0.000026  0.000026   \n",
       "3  0.000812              0.000039  0.000039  0.001971  0.000039  0.000425   \n",
       "4  0.000033              0.000033  0.000033  0.000033  0.000033  0.000033   \n",
       "\n",
       "   youngblood  \n",
       "0    0.000140  \n",
       "1    0.000044  \n",
       "2    0.000026  \n",
       "3    0.000039  \n",
       "4    0.000688  \n",
       "\n",
       "[5 rows x 848 columns]"
      ]
     },
     "execution_count": 204,
     "metadata": {},
     "output_type": "execute_result"
    }
   ],
   "source": [
    "from tmtoolkit.topicmod.model_io import ldamodel_full_topic_words\n",
    "\n",
    "datatable_topic_word = ldamodel_full_topic_words(new_topic_word,\n",
    "                                                 vocab_bg,\n",
    "                                                 row_labels=new_topic_labels)\n",
    "# displaying only the first 5 topics with the first\n",
    "# 10 words from the vocabulary (which are all numbers)\n",
    "#datatable_topic_word[:5, :10]\n",
    "datatable_topic_word[:5]"
   ]
  },
  {
   "cell_type": "code",
   "execution_count": 205,
   "metadata": {
    "colab": {
     "base_uri": "https://localhost:8080/",
     "height": 163
    },
    "colab_type": "code",
    "id": "WVwFOblv0vmB",
    "outputId": "754d37dd-8ae5-4d44-dbb8-37a19bce67ca",
    "pycharm": {
     "is_executing": false
    }
   },
   "outputs": [
    {
     "data": {
      "text/html": [
       "<div>\n",
       "<style scoped>\n",
       "    .dataframe tbody tr th:only-of-type {\n",
       "        vertical-align: middle;\n",
       "    }\n",
       "\n",
       "    .dataframe tbody tr th {\n",
       "        vertical-align: top;\n",
       "    }\n",
       "\n",
       "    .dataframe thead th {\n",
       "        text-align: right;\n",
       "    }\n",
       "</style>\n",
       "<table border=\"1\" class=\"dataframe\">\n",
       "  <thead>\n",
       "    <tr style=\"text-align: right;\">\n",
       "      <th></th>\n",
       "      <th>_doc</th>\n",
       "      <th>1_ordinance_improvement</th>\n",
       "      <th>2_matters_authority</th>\n",
       "      <th>3_work_members</th>\n",
       "      <th>4_people_issues</th>\n",
       "      <th>5_approve_ordinance</th>\n",
       "      <th>6_upon_invoice</th>\n",
       "      <th>7_pm_intake</th>\n",
       "      <th>8_america_agreement</th>\n",
       "      <th>10_employee_retirement</th>\n",
       "      <th>...</th>\n",
       "      <th>21_operating_state</th>\n",
       "      <th>22_bus_cta</th>\n",
       "      <th>23_month_total</th>\n",
       "      <th>24_city_agreement</th>\n",
       "      <th>25_bargaining_tentative</th>\n",
       "      <th>26_period_months</th>\n",
       "      <th>27_matters_transit</th>\n",
       "      <th>28_clock_afternoon</th>\n",
       "      <th>29_august_july</th>\n",
       "      <th>30_number_contract</th>\n",
       "    </tr>\n",
       "  </thead>\n",
       "  <tbody>\n",
       "    <tr>\n",
       "      <th>0</th>\n",
       "      <td>0</td>\n",
       "      <td>0.190864</td>\n",
       "      <td>0.000199</td>\n",
       "      <td>0.000199</td>\n",
       "      <td>0.000199</td>\n",
       "      <td>0.000199</td>\n",
       "      <td>0.000199</td>\n",
       "      <td>0.000199</td>\n",
       "      <td>0.000199</td>\n",
       "      <td>0.000199</td>\n",
       "      <td>...</td>\n",
       "      <td>0.000199</td>\n",
       "      <td>0.000199</td>\n",
       "      <td>0.000199</td>\n",
       "      <td>0.000199</td>\n",
       "      <td>0.000199</td>\n",
       "      <td>0.000199</td>\n",
       "      <td>0.000199</td>\n",
       "      <td>0.000199</td>\n",
       "      <td>0.000199</td>\n",
       "      <td>0.804568</td>\n",
       "    </tr>\n",
       "    <tr>\n",
       "      <th>1</th>\n",
       "      <td>1</td>\n",
       "      <td>0.000274</td>\n",
       "      <td>0.000274</td>\n",
       "      <td>0.000274</td>\n",
       "      <td>0.000274</td>\n",
       "      <td>0.000274</td>\n",
       "      <td>0.000274</td>\n",
       "      <td>0.000274</td>\n",
       "      <td>0.000274</td>\n",
       "      <td>0.000274</td>\n",
       "      <td>...</td>\n",
       "      <td>0.000274</td>\n",
       "      <td>0.000274</td>\n",
       "      <td>0.008482</td>\n",
       "      <td>0.000274</td>\n",
       "      <td>0.000274</td>\n",
       "      <td>0.000274</td>\n",
       "      <td>0.008482</td>\n",
       "      <td>0.000274</td>\n",
       "      <td>0.000274</td>\n",
       "      <td>0.977018</td>\n",
       "    </tr>\n",
       "    <tr>\n",
       "      <th>2</th>\n",
       "      <td>10</td>\n",
       "      <td>0.282824</td>\n",
       "      <td>0.000471</td>\n",
       "      <td>0.000471</td>\n",
       "      <td>0.000471</td>\n",
       "      <td>0.536941</td>\n",
       "      <td>0.000471</td>\n",
       "      <td>0.000471</td>\n",
       "      <td>0.000471</td>\n",
       "      <td>0.000471</td>\n",
       "      <td>...</td>\n",
       "      <td>0.000471</td>\n",
       "      <td>0.000471</td>\n",
       "      <td>0.000471</td>\n",
       "      <td>0.000471</td>\n",
       "      <td>0.000471</td>\n",
       "      <td>0.000471</td>\n",
       "      <td>0.000471</td>\n",
       "      <td>0.000471</td>\n",
       "      <td>0.000471</td>\n",
       "      <td>0.000471</td>\n",
       "    </tr>\n",
       "  </tbody>\n",
       "</table>\n",
       "<p>3 rows × 26 columns</p>\n",
       "</div>"
      ],
      "text/plain": [
       "  _doc  1_ordinance_improvement  2_matters_authority  3_work_members  \\\n",
       "0    0                 0.190864             0.000199        0.000199   \n",
       "1    1                 0.000274             0.000274        0.000274   \n",
       "2   10                 0.282824             0.000471        0.000471   \n",
       "\n",
       "   4_people_issues  5_approve_ordinance  6_upon_invoice  7_pm_intake  \\\n",
       "0         0.000199             0.000199        0.000199     0.000199   \n",
       "1         0.000274             0.000274        0.000274     0.000274   \n",
       "2         0.000471             0.536941        0.000471     0.000471   \n",
       "\n",
       "   8_america_agreement  10_employee_retirement  ...  21_operating_state  \\\n",
       "0             0.000199                0.000199  ...            0.000199   \n",
       "1             0.000274                0.000274  ...            0.000274   \n",
       "2             0.000471                0.000471  ...            0.000471   \n",
       "\n",
       "   22_bus_cta  23_month_total  24_city_agreement  25_bargaining_tentative  \\\n",
       "0    0.000199        0.000199           0.000199                 0.000199   \n",
       "1    0.000274        0.008482           0.000274                 0.000274   \n",
       "2    0.000471        0.000471           0.000471                 0.000471   \n",
       "\n",
       "   26_period_months  27_matters_transit  28_clock_afternoon  29_august_july  \\\n",
       "0          0.000199            0.000199            0.000199        0.000199   \n",
       "1          0.000274            0.008482            0.000274        0.000274   \n",
       "2          0.000471            0.000471            0.000471        0.000471   \n",
       "\n",
       "   30_number_contract  \n",
       "0            0.804568  \n",
       "1            0.977018  \n",
       "2            0.000471  \n",
       "\n",
       "[3 rows x 26 columns]"
      ]
     },
     "execution_count": 205,
     "metadata": {},
     "output_type": "execute_result"
    }
   ],
   "source": [
    "from tmtoolkit.topicmod.model_io import ldamodel_full_doc_topics\n",
    "\n",
    "datatable_doc_topic = ldamodel_full_doc_topics(new_doc_topic,\n",
    "                                               doc_labels,\n",
    "                                               topic_labels=new_topic_labels)\n",
    "# displaying only the first 3 documents with the first\n",
    "# 5 topics\n",
    "#datatable_doc_topic[:3, :5]\n",
    "datatable_doc_topic[:3]"
   ]
  },
  {
   "cell_type": "markdown",
   "metadata": {
    "colab_type": "text",
    "id": "CPD3eOTS0vmE"
   },
   "source": [
    "For quick inspection of topics there's also a pair of print functions. We already used [print_ldamodel_topic_words()](api.rst#tmtoolkit.topicmod.model_io.print_ldamodel_topic_words), but we haven't tried [print_ldamodel_doc_topics()](api.rst#tmtoolkit.topicmod.model_io.print_ldamodel_doc_topics) yet. This prints the `top_n` most probable topics for each document:"
   ]
  },
  {
   "cell_type": "code",
   "execution_count": 206,
   "metadata": {
    "colab": {
     "base_uri": "https://localhost:8080/",
     "height": 364
    },
    "colab_type": "code",
    "id": "sLtMhP8S0vmG",
    "outputId": "b5c11d57-c000-4566-abd0-0df6e8078823",
    "pycharm": {
     "is_executing": false
    }
   },
   "outputs": [
    {
     "name": "stdout",
     "output_type": "stream",
     "text": [
      "0\n",
      "> #1. 30_number_contract (0.804568)\n",
      "> #2. 1_ordinance_improvement (0.190864)\n",
      "> #3. 28_clock_afternoon (0.000199)\n",
      "1\n",
      "> #1. 30_number_contract (0.977018)\n",
      "> #2. 27_matters_transit (0.008482)\n",
      "> #3. 23_month_total (0.008482)\n",
      "10\n",
      "> #1. 5_approve_ordinance (0.536941)\n",
      "> #2. 1_ordinance_improvement (0.282824)\n",
      "> #3. 13_appointing_settlement (0.169882)\n",
      "100\n",
      "> #1. 26_period_months (0.661560)\n",
      "> #2. 24_city_agreement (0.163350)\n",
      "> #3. 1_ordinance_improvement (0.120401)\n",
      "101\n",
      "> #1. 10_employee_retirement (0.947003)\n",
      "> #2. 15_december_red (0.038486)\n",
      "> #3. 30_number_contract (0.000631)\n"
     ]
    }
   ],
   "source": [
    "from tmtoolkit.topicmod.model_io import print_ldamodel_doc_topics\n",
    "\n",
    "# subsetting new_doc_topic and doc_labels to get only the first\n",
    "# five documents\n",
    "print_ldamodel_doc_topics(new_doc_topic[:5, :], doc_labels[:5],\n",
    "                          val_labels=new_topic_labels)"
   ]
  },
  {
   "cell_type": "markdown",
   "metadata": {
    "colab_type": "text",
    "id": "ma1CFeoy0vmQ"
   },
   "source": [
    "## Visualizing topic models\n",
    "\n",
    "The [topicmod.visualize](api.rst#visualize-topic-models-and-topic-model-evaluation-results) module contains several functions to visualize topic models and evaluation results. We've already used [plot_eval_results()](api.rst#tmtoolkit.topicmod.visualize.plot_eval_results) during [topic model evaluation](#Evaluation-of-topic-models) so we'll now focus on visualizing topic models.\n",
    "\n",
    "### Heatmaps\n",
    "\n",
    "Let's start with heatmap visualizations of document-topic or topic-word distributions from our topic model. This can be done with [plot_doc_topic_heatmap()](api.rst#tmtoolkit.topicmod.visualize.plot_doc_topic_heatmap) and [plot_topic_word_heatmap()](api.rst#tmtoolkit.topicmod.visualize.plot_topic_word_heatmap) respectively. Both functions draw on a [matplotlib](https://matplotlib.org/) figure and *Axes* object, which you must create before using these functions.\n",
    "\n",
    "Heatmap visualizations essentially shade cells in a 2D matrix (like the document-topic or topic-word distributions) according to their value, i.e. the respective probability for a topic in a given document or a word in a given topic. Since these matrices are usually quite large, i.e. with hundreds of rows and/or columns, it doesn't make sense to plot a heatmap of the whole matrix, but rather a certain subset of interest. When we want to visualize a document-topic distribution, we can optionally select a subset of the documents with the `which_documents` parameter and a subset of the topics with the `which_topics` parameter. Let's draw a heatmap of a subset of documents across all topics at first:"
   ]
  },
  {
   "cell_type": "code",
   "execution_count": 210,
   "metadata": {
    "colab": {
     "base_uri": "https://localhost:8080/",
     "height": 611
    },
    "colab_type": "code",
    "id": "rQp-hJNj0vmS",
    "outputId": "0b87cfb7-90c9-43e3-a687-566764cac7d2",
    "pycharm": {
     "is_executing": false
    }
   },
   "outputs": [
    {
     "data": {
      "image/png": "[encoded data removed]",
      "text/plain": [
       "<Figure size 2304x576 with 1 Axes>"
      ]
     },
     "metadata": {
      "needs_background": "light"
     },
     "output_type": "display_data"
    }
   ],
   "source": [
    "import matplotlib.pyplot as plt\n",
    "from tmtoolkit.topicmod.visualize import plot_doc_topic_heatmap\n",
    "\n",
    "# create a figure of certain size and\n",
    "# Axes object to draw on\n",
    "fig, ax = plt.subplots(figsize=(32, 8))\n",
    "\n",
    "which_docs = list(corpus.keys())[:10]\n",
    "\n",
    "plot_doc_topic_heatmap(fig, ax, new_doc_topic, doc_labels,\n",
    "                       topic_labels=new_topic_labels,\n",
    "                       which_documents=which_docs);"
   ]
  },
  {
   "cell_type": "code",
   "execution_count": 211,
   "metadata": {
    "colab": {
     "base_uri": "https://localhost:8080/",
     "height": 600
    },
    "colab_type": "code",
    "id": "STAB54dJ0vmV",
    "outputId": "f0039f5c-1c8f-41ef-e79d-9f51436984d1",
    "pycharm": {
     "is_executing": false
    }
   },
   "outputs": [
    {
     "data": {
      "image/png": "[encoded data removed]",
      "text/plain": [
       "<Figure size 432x576 with 1 Axes>"
      ]
     },
     "metadata": {
      "needs_background": "light"
     },
     "output_type": "display_data"
    }
   ],
   "source": [
    "fig, ax = plt.subplots(figsize=(6, 8))\n",
    "\n",
    "which_topics = [\n",
    "    '10_employee_retirement',\n",
    "    '13_appointing_settlement',\n",
    "    '15_december_red',\n",
    "    '18_station_asap',\n",
    "    '19_delivery_strategic'\n",
    "]\n",
    "\n",
    "plot_doc_topic_heatmap(fig, ax, new_doc_topic, doc_labels,\n",
    "                       topic_labels=new_topic_labels,\n",
    "                       which_documents=which_docs,\n",
    "                       which_topics=which_topics);"
   ]
  },
  {
   "cell_type": "markdown",
   "metadata": {
    "colab_type": "text",
    "id": "MWkeljpQ0vmW",
    "pycharm": {
     "is_executing": false,
     "name": "#%% md\n"
    }
   },
   "source": [
    "Similarily, we can work with [plot_topic_word_heatmap()](api.rst#tmtoolkit.topicmod.visualize.plot_topic_word_heatmap) to visualize a topic-word distribution. We can also select a subset of topics and words from the vocabulary:"
   ]
  },
  {
   "cell_type": "code",
   "execution_count": 212,
   "metadata": {
    "colab": {
     "base_uri": "https://localhost:8080/",
     "height": 524
    },
    "colab_type": "code",
    "id": "673Z1am90vmX",
    "outputId": "66ac9209-d7e5-4252-b85a-254ec59e6c98",
    "pycharm": {
     "name": "#%%\n"
    }
   },
   "outputs": [
    {
     "data": {
      "image/png": "[encoded data removed]",
      "text/plain": [
       "<Figure size 864x576 with 1 Axes>"
      ]
     },
     "metadata": {
      "needs_background": "light"
     },
     "output_type": "display_data"
    }
   ],
   "source": [
    "from tmtoolkit.topicmod.visualize import plot_topic_word_heatmap\n",
    "\n",
    "fig, ax = plt.subplots(figsize=(12, 8))\n",
    "\n",
    "which_words = ['finance', 'budget', 'project', 'contract']\n",
    "\n",
    "plot_topic_word_heatmap(fig, ax, new_topic_word, vocab_bg,\n",
    "                        topic_labels=new_topic_labels,\n",
    "                        which_topics=which_topics,\n",
    "                        which_words=which_words);"
   ]
  },
  {
   "cell_type": "markdown",
   "metadata": {
    "colab_type": "text",
    "id": "Yv6qhC0I0vmZ"
   },
   "source": [
    "Note that there's also a generic heatmap plotting function [plot_heatmap()](api.rst#plot-heatmaps-for-topic-models) for any kind of 2D matrices. "
   ]
  },
  {
   "cell_type": "markdown",
   "metadata": {
    "colab_type": "text",
    "id": "e8PSsTHv0vma"
   },
   "source": [
    "### Word clouds\n",
    "\n",
    "Thanks to the [wordlcloud package](https://pypi.org/project/wordcloud/), topic-word and document-topic distributions can also be visualized as \"word clouds\" with tmtoolkit. The function [generate_wordclouds_for_topic_words()](api.rst#tmtoolkit.topicmod.visualize.generate_wordclouds_for_topic_words) generates a word cloud for each topic by scaling a topic's word by its probability (weight). You can choose to display only the top `top_n` words per topic. The result of this function will be a dictionary mapping topic labels to the respective word cloud image."
   ]
  },
  {
   "cell_type": "code",
   "execution_count": 213,
   "metadata": {
    "colab": {
     "base_uri": "https://localhost:8080/",
     "height": 54
    },
    "colab_type": "code",
    "id": "igAfqUQb0vma",
    "outputId": "c7c41a65-291c-4772-e4ce-cd2d42d9812a"
   },
   "outputs": [
    {
     "data": {
      "text/plain": [
       "dict_keys(['1_ordinance_improvement', '2_matters_authority', '3_work_members', '4_people_issues', '5_approve_ordinance', '6_upon_invoice', '7_pm_intake', '8_america_agreement', '10_employee_retirement', '12_litigation_bills', '13_appointing_settlement', '15_december_red', '18_station_asap', '19_delivery_strategic', '20_operators_wheelchair', '21_operating_state', '22_bus_cta', '23_month_total', '24_city_agreement', '25_bargaining_tentative', '26_period_months', '27_matters_transit', '28_clock_afternoon', '29_august_july', '30_number_contract'])"
      ]
     },
     "execution_count": 213,
     "metadata": {},
     "output_type": "execute_result"
    }
   ],
   "source": [
    "from tmtoolkit.topicmod.visualize import generate_wordclouds_for_topic_words\n",
    "\n",
    "# some options for wordcloud output\n",
    "img_w = 400   # image width\n",
    "img_h = 300   # image height\n",
    "\n",
    "topic_clouds = generate_wordclouds_for_topic_words(\n",
    "    new_topic_word, vocab_bg,\n",
    "    top_n=20, topic_labels=new_topic_labels,\n",
    "    width=img_w, height=img_h\n",
    ")\n",
    "\n",
    "# show all generated word clouds\n",
    "topic_clouds.keys()"
   ]
  },
  {
   "cell_type": "markdown",
   "metadata": {
    "colab_type": "text",
    "id": "pvlS1CDQ0vmg"
   },
   "source": [
    "Let's select specific topics and display their word cloud:"
   ]
  },
  {
   "cell_type": "code",
   "execution_count": 214,
   "metadata": {
    "colab": {
     "base_uri": "https://localhost:8080/",
     "height": 317
    },
    "colab_type": "code",
    "id": "_jnC6h0U0vmj",
    "outputId": "68a676f5-ae0b-4a34-a07c-851ccd963ff8"
   },
   "outputs": [
    {
     "data": {
      "image/png": "[encoded data removed]",
      "text/plain": [
       "<PIL.Image.Image image mode=RGBA size=400x300 at 0x11D1E54E0>"
      ]
     },
     "execution_count": 214,
     "metadata": {},
     "output_type": "execute_result"
    }
   ],
   "source": [
    "topic_clouds['13_appointing_settlement']"
   ]
  },
  {
   "cell_type": "code",
   "execution_count": 215,
   "metadata": {
    "colab": {
     "base_uri": "https://localhost:8080/",
     "height": 317
    },
    "colab_type": "code",
    "id": "Kq9Qu7si0vmk",
    "outputId": "84b964d7-3d1b-4baa-fba3-9f2e808840b6"
   },
   "outputs": [
    {
     "data": {
      "image/png": "[encoded data removed]",
      "text/plain": [
       "<PIL.Image.Image image mode=RGBA size=400x300 at 0x11D1E5898>"
      ]
     },
     "execution_count": 215,
     "metadata": {},
     "output_type": "execute_result"
    }
   ],
   "source": [
    "topic_clouds['10_employee_retirement']"
   ]
  },
  {
   "cell_type": "markdown",
   "metadata": {
    "colab_type": "text",
    "id": "YMmAtJcM0vmm"
   },
   "source": [
    "The same can be done for the document-topic distribution using [generate_wordclouds_for_document_topics()](api.rst#tmtoolkit.topicmod.visualize.generate_wordclouds_for_document_topics). Here, a word cloud for each document will be generated that contains the `top_n` most probable topics for this document:"
   ]
  },
  {
   "cell_type": "code",
   "execution_count": 216,
   "metadata": {
    "colab": {
     "base_uri": "https://localhost:8080/",
     "height": 34
    },
    "colab_type": "code",
    "id": "McXp5Cmo0vmn",
    "outputId": "3f24f25e-8c92-4050-d3e5-c28a351dbba6"
   },
   "outputs": [
    {
     "data": {
      "text/plain": [
       "['0', '1', '10', '100', '101']"
      ]
     },
     "execution_count": 216,
     "metadata": {},
     "output_type": "execute_result"
    }
   ],
   "source": [
    "from tmtoolkit.topicmod.visualize import generate_wordclouds_for_document_topics\n",
    "\n",
    "doc_clouds = generate_wordclouds_for_document_topics(\n",
    "    new_doc_topic, doc_labels, topic_labels=new_topic_labels,\n",
    "    top_n=5, width=img_w, height=img_h)\n",
    "\n",
    "# show only the first 5 documents for\n",
    "# which word clouds were generated\n",
    "list(doc_clouds.keys())[:5]"
   ]
  },
  {
   "cell_type": "markdown",
   "metadata": {
    "colab_type": "text",
    "id": "d6eD3h5o0vmp"
   },
   "source": [
    "To display a specific document's topic word cloud:"
   ]
  },
  {
   "cell_type": "code",
   "execution_count": 217,
   "metadata": {
    "colab": {
     "base_uri": "https://localhost:8080/",
     "height": 317
    },
    "colab_type": "code",
    "id": "tnZM2cwN0vmq",
    "outputId": "2c384d12-c2dc-4d96-ab3b-2116bc89c410"
   },
   "outputs": [
    {
     "data": {
      "image/png": "[encoded data removed]",
      "text/plain": [
       "<PIL.Image.Image image mode=RGBA size=400x300 at 0x11D1E59E8>"
      ]
     },
     "execution_count": 217,
     "metadata": {},
     "output_type": "execute_result"
    }
   ],
   "source": [
    "doc_clouds['1']"
   ]
  },
  {
   "cell_type": "markdown",
   "metadata": {
    "colab_type": "text",
    "id": "2uKYt1Gb0vmv"
   },
   "source": [
    "### Interactive visualization with pyLDAVis\n",
    "\n",
    "The [pyLDAVis package](https://pyldavis.readthedocs.io/) offers a great interactive tool to explore a topic model. The tmtoolkit function [parameters_for_ldavis()](api.rst#tmtoolkit.topicmod.visualize.generate_wordclouds_for_document_topics) allows to prepare your topic model data for this package so that you can easily pass it on to pyLDAVis."
   ]
  },
  {
   "cell_type": "code",
   "execution_count": 218,
   "metadata": {
    "colab": {},
    "colab_type": "code",
    "id": "moDxDnXj0vmw"
   },
   "outputs": [],
   "source": [
    "from tmtoolkit.topicmod.visualize import parameters_for_ldavis\n",
    "\n",
    "ldavis_params = parameters_for_ldavis(new_topic_word,\n",
    "                                      new_doc_topic,\n",
    "                                      dtm_bg,\n",
    "                                      vocab_bg)"
   ]
  },
  {
   "cell_type": "markdown",
   "metadata": {
    "colab_type": "text",
    "id": "z9Ko16Pl0vmx"
   },
   "source": [
    "If you have installed the package, you can now start the LDAVis explorer with the following lines of code in a Jupyter notebook:\n",
    "\n",
    "    import pyLDAvis\n",
    "    pyLDAVis.prepare(**ldavis_params)"
   ]
  },
  {
   "cell_type": "code",
   "execution_count": 220,
   "metadata": {
    "colab": {},
    "colab_type": "code",
    "id": "kyKlwr4Z06xy"
   },
   "outputs": [],
   "source": [
    "# !pip install pyldavis"
   ]
  },
  {
   "cell_type": "code",
   "execution_count": 221,
   "metadata": {
    "colab": {
     "base_uri": "https://localhost:8080/",
     "height": 882
    },
    "colab_type": "code",
    "id": "TYZZoDIu05K1",
    "outputId": "a837d2a6-b095-45f0-e8d2-95c97660b97c"
   },
   "outputs": [
    {
     "data": {
      "text/html": [
       "\n",
       "<link rel=\"stylesheet\" type=\"text/css\" href=\"https://cdn.rawgit.com/bmabey/pyLDAvis/files/ldavis.v1.0.0.css\">\n",
       "\n",
       "\n",
       "<div id=\"ldavis_el5365448461818569673077770\"></div>\n",
       "<script type=\"text/javascript\">\n",
       "\n",
       "var ldavis_el5365448461818569673077770_data = {\"mdsDat\": {\"x\": [0.1129260911085885, -0.30168521827223427, 0.03955974423757664, 0.16383017313910386, -0.13327219238700153, 0.01904187425518686, -0.012019257128839564, 0.09281005963783664, -0.3195454076290175, -0.09848254745926964, -0.04008299577684095, 0.1363828665699896, 0.1540991111869735, -0.036135090906038815, 0.12692296076324383, 0.1256698780964985, 0.07693932332557242, 0.12771752837758474, 0.12712271496455704, 0.107296934842899, 0.006164620938640015, -0.3202188300143553, -0.22683914892931784, 0.12704484246547187, -0.05524803540680832], \"y\": [0.18466549542079136, 0.05753078127407274, -0.11950017178665616, -0.09912242431538835, 0.19306077167833605, -0.16924100895075717, -0.18489955137914685, 0.23333293807515007, -0.03059107631438351, -0.17018390345291554, 0.03589359698870193, 0.03593101452024605, -0.0584191696819895, 0.02948995505053768, -0.0690663428043953, 0.051337457196560306, -0.13152128762840093, -0.10217363755140314, 0.11385342379350624, 0.037451884456487915, 0.1525807976088012, -0.017663691856565352, -0.058876810893931895, -0.030654616571548055, 0.11678557712429034], \"topics\": [1, 2, 3, 4, 5, 6, 7, 8, 9, 10, 11, 12, 13, 14, 15, 16, 17, 18, 19, 20, 21, 22, 23, 24, 25], \"cluster\": [1, 1, 1, 1, 1, 1, 1, 1, 1, 1, 1, 1, 1, 1, 1, 1, 1, 1, 1, 1, 1, 1, 1, 1, 1], \"Freq\": [1.325512881866843, 4.114896248307174, 7.802634207770404, 5.139575944343537, 9.24216531453196, 2.625649372463689, 2.243319196140163, 3.153469477822065, 4.1798579785339305, 2.505850818284796, 3.0332357650664292, 1.5927256100940244, 3.3898422985503593, 3.936427844662777, 0.942765172421612, 1.2349155555091993, 10.565784366083193, 1.2862730096258845, 1.1627782444767556, 2.5741122023145073, 8.523528502515013, 8.202452557457276, 1.5979774494089827, 1.354574346765752, 8.269675634983669]}, \"tinfo\": {\"Category\": [\"Default\", \"Default\", \"Default\", \"Default\", \"Default\", \"Default\", \"Default\", \"Default\", \"Default\", \"Default\", \"Default\", \"Default\", \"Default\", \"Default\", \"Default\", \"Default\", \"Default\", \"Default\", \"Default\", \"Default\", \"Default\", \"Default\", \"Default\", \"Default\", \"Default\", \"Default\", \"Default\", \"Default\", \"Default\", \"Default\", \"Topic1\", \"Topic1\", \"Topic1\", \"Topic1\", \"Topic1\", \"Topic1\", \"Topic1\", \"Topic1\", \"Topic1\", \"Topic1\", \"Topic1\", \"Topic1\", \"Topic1\", \"Topic1\", \"Topic1\", \"Topic1\", \"Topic1\", \"Topic1\", \"Topic1\", \"Topic1\", \"Topic1\", \"Topic1\", \"Topic1\", \"Topic1\", \"Topic1\", \"Topic1\", \"Topic1\", \"Topic1\", \"Topic1\", \"Topic1\", \"Topic1\", \"Topic1\", \"Topic1\", \"Topic1\", \"Topic1\", \"Topic1\", \"Topic1\", \"Topic1\", \"Topic1\", \"Topic1\", \"Topic1\", \"Topic1\", \"Topic1\", \"Topic1\", \"Topic1\", \"Topic1\", \"Topic2\", \"Topic2\", \"Topic2\", \"Topic2\", \"Topic2\", \"Topic2\", \"Topic2\", \"Topic2\", \"Topic2\", \"Topic2\", \"Topic2\", \"Topic2\", \"Topic2\", \"Topic2\", \"Topic2\", \"Topic2\", \"Topic2\", \"Topic2\", \"Topic2\", \"Topic2\", \"Topic2\", \"Topic2\", \"Topic2\", \"Topic2\", \"Topic2\", \"Topic2\", \"Topic2\", \"Topic2\", \"Topic2\", \"Topic2\", \"Topic2\", \"Topic2\", \"Topic2\", \"Topic2\", \"Topic2\", \"Topic2\", \"Topic2\", \"Topic2\", \"Topic2\", \"Topic2\", \"Topic2\", \"Topic3\", \"Topic3\", \"Topic3\", \"Topic3\", \"Topic3\", \"Topic3\", \"Topic3\", \"Topic3\", \"Topic3\", \"Topic3\", \"Topic3\", \"Topic3\", \"Topic3\", \"Topic3\", \"Topic3\", \"Topic3\", \"Topic3\", \"Topic3\", \"Topic3\", \"Topic3\", \"Topic3\", \"Topic3\", \"Topic3\", \"Topic3\", \"Topic3\", \"Topic3\", \"Topic3\", \"Topic3\", \"Topic3\", \"Topic3\", \"Topic3\", \"Topic3\", \"Topic3\", \"Topic3\", \"Topic3\", \"Topic3\", \"Topic3\", \"Topic3\", \"Topic3\", \"Topic3\", \"Topic3\", \"Topic3\", \"Topic3\", \"Topic3\", \"Topic3\", \"Topic3\", \"Topic3\", \"Topic3\", \"Topic3\", \"Topic3\", \"Topic3\", \"Topic3\", \"Topic3\", \"Topic3\", \"Topic3\", \"Topic3\", \"Topic4\", \"Topic4\", \"Topic4\", \"Topic4\", \"Topic4\", \"Topic4\", \"Topic4\", \"Topic4\", \"Topic4\", \"Topic4\", \"Topic4\", \"Topic4\", \"Topic4\", \"Topic4\", \"Topic4\", \"Topic4\", \"Topic4\", \"Topic4\", \"Topic4\", \"Topic4\", \"Topic4\", \"Topic4\", \"Topic4\", \"Topic4\", \"Topic4\", \"Topic4\", \"Topic4\", \"Topic4\", \"Topic4\", \"Topic4\", \"Topic4\", \"Topic4\", \"Topic4\", \"Topic4\", \"Topic4\", \"Topic4\", \"Topic4\", \"Topic4\", \"Topic4\", \"Topic4\", \"Topic4\", \"Topic4\", \"Topic4\", \"Topic4\", \"Topic4\", \"Topic4\", \"Topic4\", \"Topic4\", \"Topic4\", \"Topic4\", \"Topic4\", \"Topic4\", \"Topic4\", \"Topic5\", \"Topic5\", \"Topic5\", \"Topic5\", \"Topic5\", \"Topic5\", \"Topic5\", \"Topic5\", \"Topic5\", \"Topic5\", \"Topic5\", \"Topic5\", \"Topic5\", \"Topic5\", \"Topic5\", \"Topic5\", \"Topic5\", \"Topic5\", \"Topic5\", \"Topic5\", \"Topic5\", \"Topic5\", \"Topic5\", \"Topic5\", \"Topic5\", \"Topic5\", \"Topic5\", \"Topic5\", \"Topic5\", \"Topic5\", \"Topic5\", \"Topic5\", \"Topic5\", \"Topic5\", \"Topic5\", \"Topic5\", \"Topic5\", \"Topic5\", \"Topic5\", \"Topic5\", \"Topic5\", \"Topic5\", \"Topic5\", \"Topic5\", \"Topic5\", \"Topic5\", \"Topic5\", \"Topic5\", \"Topic5\", \"Topic6\", \"Topic6\", \"Topic6\", \"Topic6\", \"Topic6\", \"Topic6\", \"Topic6\", \"Topic6\", \"Topic6\", \"Topic6\", \"Topic6\", \"Topic6\", \"Topic6\", \"Topic6\", \"Topic6\", \"Topic6\", \"Topic6\", \"Topic6\", \"Topic6\", \"Topic6\", \"Topic6\", \"Topic6\", \"Topic6\", \"Topic6\", \"Topic6\", \"Topic6\", \"Topic6\", \"Topic6\", \"Topic6\", \"Topic6\", \"Topic6\", \"Topic6\", \"Topic6\", \"Topic6\", \"Topic6\", \"Topic6\", \"Topic6\", \"Topic6\", \"Topic6\", \"Topic6\", \"Topic6\", \"Topic6\", \"Topic6\", \"Topic6\", \"Topic6\", \"Topic6\", \"Topic6\", \"Topic6\", \"Topic6\", \"Topic7\", \"Topic7\", \"Topic7\", \"Topic7\", \"Topic7\", \"Topic7\", \"Topic7\", \"Topic7\", \"Topic7\", \"Topic7\", \"Topic7\", \"Topic7\", \"Topic7\", \"Topic7\", \"Topic7\", \"Topic7\", \"Topic7\", \"Topic7\", \"Topic7\", \"Topic7\", \"Topic7\", \"Topic7\", \"Topic7\", \"Topic7\", \"Topic7\", \"Topic7\", \"Topic7\", \"Topic7\", \"Topic7\", \"Topic7\", \"Topic7\", \"Topic7\", \"Topic7\", \"Topic7\", \"Topic7\", \"Topic7\", \"Topic7\", \"Topic7\", \"Topic7\", \"Topic7\", \"Topic7\", \"Topic7\", \"Topic7\", \"Topic7\", \"Topic7\", \"Topic7\", \"Topic7\", \"Topic7\", \"Topic7\", \"Topic7\", \"Topic8\", \"Topic8\", \"Topic8\", \"Topic8\", \"Topic8\", \"Topic8\", \"Topic8\", \"Topic8\", \"Topic8\", \"Topic8\", \"Topic8\", \"Topic8\", \"Topic8\", \"Topic8\", \"Topic8\", \"Topic8\", \"Topic8\", \"Topic8\", \"Topic8\", \"Topic8\", \"Topic8\", \"Topic8\", \"Topic8\", \"Topic8\", \"Topic8\", \"Topic8\", \"Topic8\", \"Topic8\", \"Topic8\", \"Topic8\", \"Topic8\", \"Topic8\", \"Topic8\", \"Topic8\", \"Topic8\", \"Topic8\", \"Topic8\", \"Topic8\", \"Topic8\", \"Topic8\", \"Topic8\", \"Topic8\", \"Topic8\", \"Topic8\", \"Topic8\", \"Topic8\", \"Topic9\", \"Topic9\", \"Topic9\", \"Topic9\", \"Topic9\", \"Topic9\", \"Topic9\", \"Topic9\", \"Topic9\", \"Topic9\", \"Topic9\", \"Topic9\", \"Topic9\", \"Topic9\", \"Topic9\", \"Topic9\", \"Topic9\", \"Topic9\", \"Topic9\", \"Topic9\", \"Topic9\", \"Topic9\", \"Topic9\", \"Topic9\", \"Topic9\", \"Topic9\", \"Topic9\", \"Topic9\", \"Topic9\", \"Topic9\", \"Topic9\", \"Topic9\", \"Topic9\", \"Topic9\", \"Topic9\", \"Topic9\", \"Topic9\", \"Topic9\", \"Topic10\", \"Topic10\", \"Topic10\", \"Topic10\", \"Topic10\", \"Topic10\", \"Topic10\", \"Topic10\", \"Topic10\", \"Topic10\", \"Topic10\", \"Topic10\", \"Topic10\", \"Topic10\", \"Topic10\", \"Topic10\", \"Topic10\", \"Topic10\", \"Topic10\", \"Topic10\", \"Topic10\", \"Topic10\", \"Topic10\", \"Topic10\", \"Topic10\", \"Topic10\", \"Topic10\", \"Topic10\", \"Topic10\", \"Topic10\", \"Topic10\", \"Topic10\", \"Topic10\", \"Topic10\", \"Topic10\", \"Topic10\", \"Topic10\", \"Topic10\", \"Topic10\", \"Topic10\", \"Topic10\", \"Topic10\", \"Topic11\", \"Topic11\", \"Topic11\", \"Topic11\", \"Topic11\", \"Topic11\", \"Topic11\", \"Topic11\", \"Topic11\", \"Topic11\", \"Topic11\", \"Topic11\", \"Topic11\", \"Topic11\", \"Topic11\", \"Topic11\", \"Topic11\", \"Topic11\", \"Topic11\", \"Topic11\", \"Topic11\", \"Topic11\", \"Topic11\", \"Topic11\", \"Topic11\", \"Topic11\", \"Topic11\", \"Topic11\", \"Topic11\", \"Topic11\", \"Topic11\", \"Topic11\", \"Topic11\", \"Topic11\", \"Topic11\", \"Topic11\", \"Topic11\", \"Topic11\", \"Topic11\", \"Topic11\", \"Topic12\", \"Topic12\", \"Topic12\", \"Topic12\", \"Topic12\", \"Topic12\", \"Topic12\", \"Topic12\", \"Topic12\", \"Topic12\", \"Topic12\", \"Topic12\", \"Topic12\", \"Topic12\", \"Topic12\", \"Topic12\", \"Topic12\", \"Topic12\", \"Topic12\", \"Topic12\", \"Topic12\", \"Topic12\", \"Topic12\", \"Topic12\", \"Topic12\", \"Topic12\", \"Topic12\", \"Topic12\", \"Topic12\", \"Topic12\", \"Topic12\", \"Topic12\", \"Topic12\", \"Topic12\", \"Topic12\", \"Topic12\", \"Topic12\", \"Topic12\", \"Topic13\", \"Topic13\", \"Topic13\", \"Topic13\", \"Topic13\", \"Topic13\", \"Topic13\", \"Topic13\", \"Topic13\", \"Topic13\", \"Topic13\", \"Topic13\", \"Topic13\", \"Topic13\", \"Topic13\", \"Topic13\", \"Topic13\", \"Topic13\", \"Topic13\", \"Topic13\", \"Topic13\", \"Topic13\", \"Topic13\", \"Topic13\", \"Topic13\", \"Topic13\", \"Topic13\", \"Topic13\", \"Topic13\", \"Topic13\", \"Topic13\", \"Topic13\", \"Topic13\", \"Topic13\", \"Topic13\", \"Topic13\", \"Topic13\", \"Topic13\", \"Topic13\", \"Topic13\", \"Topic13\", \"Topic13\", \"Topic13\", \"Topic13\", \"Topic13\", \"Topic13\", \"Topic13\", \"Topic13\", \"Topic13\", \"Topic13\", \"Topic14\", \"Topic14\", \"Topic14\", \"Topic14\", \"Topic14\", \"Topic14\", \"Topic14\", \"Topic14\", \"Topic14\", \"Topic14\", \"Topic14\", \"Topic14\", \"Topic14\", \"Topic14\", \"Topic14\", \"Topic14\", \"Topic14\", \"Topic14\", \"Topic14\", \"Topic14\", \"Topic14\", \"Topic14\", \"Topic14\", \"Topic14\", \"Topic14\", \"Topic14\", \"Topic14\", \"Topic14\", \"Topic14\", \"Topic14\", \"Topic14\", \"Topic14\", \"Topic14\", \"Topic14\", \"Topic14\", \"Topic14\", \"Topic14\", \"Topic14\", \"Topic14\", \"Topic14\", \"Topic14\", \"Topic14\", \"Topic14\", \"Topic14\", \"Topic14\", \"Topic14\", \"Topic14\", \"Topic14\", \"Topic14\", \"Topic14\", \"Topic14\", \"Topic15\", \"Topic15\", \"Topic15\", \"Topic15\", \"Topic15\", \"Topic15\", \"Topic15\", \"Topic15\", \"Topic15\", \"Topic15\", \"Topic15\", \"Topic15\", \"Topic15\", \"Topic15\", \"Topic15\", \"Topic15\", \"Topic15\", \"Topic15\", \"Topic15\", \"Topic15\", \"Topic15\", \"Topic15\", \"Topic15\", \"Topic15\", \"Topic15\", \"Topic15\", \"Topic15\", \"Topic15\", \"Topic15\", \"Topic15\", \"Topic15\", \"Topic15\", \"Topic15\", \"Topic15\", \"Topic15\", \"Topic15\", \"Topic15\", \"Topic15\", \"Topic15\", \"Topic16\", \"Topic16\", \"Topic16\", \"Topic16\", \"Topic16\", \"Topic16\", \"Topic16\", \"Topic16\", \"Topic16\", \"Topic16\", \"Topic16\", \"Topic16\", \"Topic16\", \"Topic16\", \"Topic16\", \"Topic16\", \"Topic16\", \"Topic16\", \"Topic16\", \"Topic16\", \"Topic16\", \"Topic16\", \"Topic16\", \"Topic16\", \"Topic16\", \"Topic16\", \"Topic16\", \"Topic16\", \"Topic16\", \"Topic16\", \"Topic16\", \"Topic16\", \"Topic16\", \"Topic16\", \"Topic16\", \"Topic16\", \"Topic16\", \"Topic16\", \"Topic16\", \"Topic16\", \"Topic16\", \"Topic16\", \"Topic17\", \"Topic17\", \"Topic17\", \"Topic17\", \"Topic17\", \"Topic17\", \"Topic17\", \"Topic17\", \"Topic17\", \"Topic17\", \"Topic17\", \"Topic17\", \"Topic17\", \"Topic17\", \"Topic17\", \"Topic17\", \"Topic17\", \"Topic17\", \"Topic17\", \"Topic17\", \"Topic17\", \"Topic17\", \"Topic17\", \"Topic17\", \"Topic17\", \"Topic17\", \"Topic17\", \"Topic17\", \"Topic17\", \"Topic17\", \"Topic17\", \"Topic17\", \"Topic17\", \"Topic17\", \"Topic17\", \"Topic17\", \"Topic17\", \"Topic17\", \"Topic17\", \"Topic17\", \"Topic17\", \"Topic17\", \"Topic17\", \"Topic17\", \"Topic17\", \"Topic17\", \"Topic17\", \"Topic17\", \"Topic17\", \"Topic17\", \"Topic18\", \"Topic18\", \"Topic18\", \"Topic18\", \"Topic18\", \"Topic18\", \"Topic18\", \"Topic18\", \"Topic18\", \"Topic18\", \"Topic18\", \"Topic18\", \"Topic18\", \"Topic18\", \"Topic18\", \"Topic18\", \"Topic18\", \"Topic18\", \"Topic18\", \"Topic18\", \"Topic18\", \"Topic18\", \"Topic18\", \"Topic18\", \"Topic18\", \"Topic18\", \"Topic18\", \"Topic18\", \"Topic18\", \"Topic18\", \"Topic18\", \"Topic18\", \"Topic18\", \"Topic18\", \"Topic18\", \"Topic18\", \"Topic18\", \"Topic18\", \"Topic19\", \"Topic19\", \"Topic19\", \"Topic19\", \"Topic19\", \"Topic19\", \"Topic19\", \"Topic19\", \"Topic19\", \"Topic19\", \"Topic19\", \"Topic19\", \"Topic19\", \"Topic19\", \"Topic19\", \"Topic19\", \"Topic19\", \"Topic19\", \"Topic19\", \"Topic19\", \"Topic19\", \"Topic19\", \"Topic19\", \"Topic19\", \"Topic19\", \"Topic19\", \"Topic19\", \"Topic19\", \"Topic19\", \"Topic19\", \"Topic19\", \"Topic19\", \"Topic19\", \"Topic19\", \"Topic19\", \"Topic19\", \"Topic19\", \"Topic19\", \"Topic19\", \"Topic19\", \"Topic19\", \"Topic19\", \"Topic19\", \"Topic19\", \"Topic19\", \"Topic20\", \"Topic20\", \"Topic20\", \"Topic20\", \"Topic20\", \"Topic20\", \"Topic20\", \"Topic20\", \"Topic20\", \"Topic20\", \"Topic20\", \"Topic20\", \"Topic20\", \"Topic20\", \"Topic20\", \"Topic20\", \"Topic20\", \"Topic20\", \"Topic20\", \"Topic20\", \"Topic20\", \"Topic20\", \"Topic20\", \"Topic20\", \"Topic20\", \"Topic20\", \"Topic20\", \"Topic20\", \"Topic20\", \"Topic20\", \"Topic20\", \"Topic20\", \"Topic20\", \"Topic20\", \"Topic20\", \"Topic20\", \"Topic20\", \"Topic20\", \"Topic20\", \"Topic20\", \"Topic21\", \"Topic21\", \"Topic21\", \"Topic21\", \"Topic21\", \"Topic21\", \"Topic21\", \"Topic21\", \"Topic21\", \"Topic21\", \"Topic21\", \"Topic21\", \"Topic21\", \"Topic21\", \"Topic21\", \"Topic21\", \"Topic21\", \"Topic21\", \"Topic21\", \"Topic21\", \"Topic21\", \"Topic21\", \"Topic21\", \"Topic21\", \"Topic21\", \"Topic21\", \"Topic21\", \"Topic21\", \"Topic21\", \"Topic21\", \"Topic21\", \"Topic21\", \"Topic21\", \"Topic21\", \"Topic21\", \"Topic21\", \"Topic21\", \"Topic21\", \"Topic21\", \"Topic21\", \"Topic21\", \"Topic21\", \"Topic21\", \"Topic21\", \"Topic21\", \"Topic21\", \"Topic21\", \"Topic21\", \"Topic21\", \"Topic21\", \"Topic21\", \"Topic21\", \"Topic22\", \"Topic22\", \"Topic22\", \"Topic22\", \"Topic22\", \"Topic22\", \"Topic22\", \"Topic22\", \"Topic22\", \"Topic22\", \"Topic22\", \"Topic22\", \"Topic22\", \"Topic22\", \"Topic22\", \"Topic22\", \"Topic22\", \"Topic22\", \"Topic22\", \"Topic22\", \"Topic22\", \"Topic22\", \"Topic22\", \"Topic22\", \"Topic22\", \"Topic22\", \"Topic22\", \"Topic22\", \"Topic22\", \"Topic22\", \"Topic22\", \"Topic22\", \"Topic22\", \"Topic22\", \"Topic22\", \"Topic22\", \"Topic22\", \"Topic22\", \"Topic22\", \"Topic22\", \"Topic22\", \"Topic22\", \"Topic22\", \"Topic22\", \"Topic22\", \"Topic22\", \"Topic22\", \"Topic22\", \"Topic22\", \"Topic22\", \"Topic22\", \"Topic22\", \"Topic22\", \"Topic22\", \"Topic22\", \"Topic22\", \"Topic23\", \"Topic23\", \"Topic23\", \"Topic23\", \"Topic23\", \"Topic23\", \"Topic23\", \"Topic23\", \"Topic23\", \"Topic23\", \"Topic23\", \"Topic23\", \"Topic23\", \"Topic23\", \"Topic23\", \"Topic23\", \"Topic23\", \"Topic23\", \"Topic23\", \"Topic23\", \"Topic23\", \"Topic23\", \"Topic23\", \"Topic23\", \"Topic23\", \"Topic23\", \"Topic23\", \"Topic23\", \"Topic23\", \"Topic23\", \"Topic23\", \"Topic23\", \"Topic23\", \"Topic23\", \"Topic23\", \"Topic23\", \"Topic23\", \"Topic23\", \"Topic23\", \"Topic23\", \"Topic23\", \"Topic23\", \"Topic23\", \"Topic24\", \"Topic24\", \"Topic24\", \"Topic24\", \"Topic24\", \"Topic24\", \"Topic24\", \"Topic24\", \"Topic24\", \"Topic24\", \"Topic24\", \"Topic24\", \"Topic24\", \"Topic24\", \"Topic24\", \"Topic24\", \"Topic24\", \"Topic24\", \"Topic24\", \"Topic24\", \"Topic24\", \"Topic24\", \"Topic24\", \"Topic24\", \"Topic24\", \"Topic24\", \"Topic24\", \"Topic24\", \"Topic24\", \"Topic24\", \"Topic24\", \"Topic24\", \"Topic24\", \"Topic24\", \"Topic24\", \"Topic24\", \"Topic24\", \"Topic24\", \"Topic25\", \"Topic25\", \"Topic25\", \"Topic25\", \"Topic25\", \"Topic25\", \"Topic25\", \"Topic25\", \"Topic25\", \"Topic25\", \"Topic25\", \"Topic25\", \"Topic25\", \"Topic25\", \"Topic25\", \"Topic25\", \"Topic25\", \"Topic25\", \"Topic25\", \"Topic25\", \"Topic25\", \"Topic25\", \"Topic25\", \"Topic25\", \"Topic25\", \"Topic25\", \"Topic25\", \"Topic25\", \"Topic25\", \"Topic25\", \"Topic25\", \"Topic25\", \"Topic25\", \"Topic25\", \"Topic25\", \"Topic25\", \"Topic25\", \"Topic25\", \"Topic25\", \"Topic25\", \"Topic25\", \"Topic25\", \"Topic25\", \"Topic25\", \"Topic25\", \"Topic25\", \"Topic25\", \"Topic25\", \"Topic25\", \"Topic25\", \"Topic25\", \"Topic25\", \"Topic25\", \"Topic25\"], \"Freq\": [1206.0, 995.0, 619.0, 457.0, 484.0, 519.0, 510.0, 193.0, 866.0, 383.0, 262.0, 294.0, 343.0, 295.0, 414.0, 317.0, 415.0, 472.0, 585.0, 336.0, 397.0, 283.0, 330.0, 182.0, 459.0, 425.0, 365.0, 270.0, 531.0, 271.0, 9.345090858635503, 9.345090858635503, 9.345090858635503, 8.318157797246986, 7.29122473585847, 6.264291674469953, 5.237358613081436, 5.237358613081436, 18.587488411132156, 16.533622288355122, 6.264291674469953, 13.45282310418957, 4.210425551692919, 4.210425551692919, 5.237358613081436, 5.237358613081436, 11.398956981412537, 2.1565594289158856, 2.1565594289158856, 9.345090858635503, 3.183492490304402, 23.72215371807474, 7.29122473585847, 4.210425551692919, 6.264291674469953, 4.210425551692919, 7.29122473585847, 3.183492490304402, 18.587488411132156, 3.183492490304402, 19.614421472520675, 19.614421472520675, 20.64135453390919, 23.72215371807474, 56.58401168250728, 19.614421472520675, 13.45282310418957, 12.425890042801054, 16.533622288355122, 11.398956981412537, 23.72215371807474, 12.425890042801054, 9.345090858635503, 8.318157797246986, 9.345090858635503, 7.29122473585847, 31.22894002637137, 34.24137797103742, 30.224794044816022, 35.24552395259277, 145.7015819236812, 28.216502081705322, 34.24137797103742, 34.24137797103742, 30.224794044816022, 12.15016637681973, 26.208210118594625, 31.22894002637137, 26.208210118594625, 28.216502081705322, 30.224794044816022, 32.233086007926715, 62.35746545458721, 30.224794044816022, 30.224794044816022, 34.24137797103742, 27.21235610014997, 33.23723198948207, 30.224794044816022, 30.224794044816022, 28.216502081705322, 32.233086007926715, 50.30771367592301, 27.21235610014997, 32.233086007926715, 86.45696901191559, 115.57720247702072, 63.36161143614255, 111.56061855079933, 54.324297602144405, 59.34502750992116, 35.24552395259277, 34.24137797103742, 33.23723198948207, 36.249669934148116, 33.23723198948207, 31.22894002637137, 40.9968422385182, 50.082015033757685, 29.640376244468836, 26.23343644625403, 23.962143247444157, 45.53942863613794, 29.640376244468836, 34.182962642088576, 20.555203449229346, 56.8958946301873, 25.09778984684909, 117.08516439864891, 18.283910250419474, 22.826496648039218, 14.876970452204663, 14.876970452204663, 35.31860924149352, 12.605677253394791, 62.57412762721198, 11.470030653989856, 16.0126170516096, 21.69085004863428, 19.41955684982441, 16.0126170516096, 26.23343644625403, 60.302834428402114, 39.86119563911326, 14.876970452204663, 25.09778984684909, 11.470030653989856, 44.403782036733006, 38.72554903970832, 30.77602284387377, 29.640376244468836, 61.43848102780704, 136.39115658853282, 127.30598379329332, 77.33753341947615, 70.52365382304653, 44.403782036733006, 37.58990244030338, 86.42270621471563, 88.6939994135255, 38.72554903970832, 70.52365382304653, 37.58990244030338, 35.31860924149352, 53.48895483197249, 36.454255840898455, 51.21766163316262, 40.9968422385182, 36.454255840898455, 48.946368434352756, 36.454255840898455, 38.72554903970832, 36.454255840898455, 41.78335218751576, 57.13681493358454, 37.396648545781815, 22.043185799713036, 26.429889441446974, 24.236537620580005, 39.59000036664879, 16.559806247545612, 15.463130337112128, 13.26977851624516, 12.173102605811676, 142.6775359473963, 26.429889441446974, 11.076426695378192, 11.076426695378192, 14.366454426678644, 43.976704008382725, 35.20329672491485, 13.26977851624516, 23.139861710146523, 23.139861710146523, 17.6564821579791, 19.849833978846068, 8.883074874511223, 23.139861710146523, 93.32711997788951, 7.786398964077738, 17.6564821579791, 26.429889441446974, 17.6564821579791, 19.849833978846068, 28.623241262313943, 59.33016675445151, 35.20329672491485, 28.623241262313943, 64.81354630661893, 26.429889441446974, 34.10662081448136, 57.13681493358454, 49.46008356055014, 56.040139023151056, 29.719917172747426, 33.00994490404788, 42.88002809794924, 23.139861710146523, 25.33321353101349, 43.976704008382725, 30.816593083180912, 34.10662081448136, 26.429889441446974, 30.816593083180912, 31.913268993614395, 26.429889441446974, 73.7213258437363, 424.7752584329567, 41.959303371378255, 18.55570786543022, 21.899078651994223, 15.212337078866216, 58.67615730419827, 23.570764045276224, 8.52559550573821, 122.20020224891432, 23.570764045276224, 118.85683146235033, 15.212337078866216, 117.18514606906832, 30.257505618404238, 13.540651685584216, 73.7213258437363, 67.03458427060828, 62.01952809076227, 18.55570786543022, 63.691213484044276, 13.540651685584216, 177.36582022722038, 62.01952809076227, 15.212337078866216, 281.01031461070454, 5.182224719174206, 8.52559550573821, 214.14289887942445, 67.03458427060828, 142.26042696829836, 63.691213484044276, 244.23323595850047, 145.60379775486237, 291.04042697039654, 62.01952809076227, 68.70626966389028, 57.00447191091627, 53.661101124352264, 60.347842697480274, 72.04964045045429, 65.36289887732627, 57.00447191091627, 58.67615730419827, 103.81166292281232, 77.06469663030029, 68.70626966389028, 70.37795505717227, 63.691213484044276, 33.07897584148005, 33.07897584148005, 25.08405720909817, 24.08469238005043, 31.080246183384585, 23.0853275510027, 24.08469238005043, 12.0923144314776, 12.0923144314776, 65.0586503710076, 17.089138576716284, 12.0923144314776, 72.05420417434175, 11.092949602429867, 6.096125457191188, 21.086597892907225, 10.093584773382132, 8.09485511528666, 11.092949602429867, 12.0923144314776, 11.092949602429867, 10.093584773382132, 7.095490286238923, 6.096125457191188, 6.096125457191188, 7.095490286238923, 46.070718619100624, 5.096760628143452, 3.0980309700479807, 3.0980309700479807, 19.087868234811754, 5.096760628143452, 27.08278686719364, 52.06690759338703, 27.08278686719364, 69.05610968719854, 27.08278686719364, 20.08723306385949, 20.08723306385949, 24.08469238005043, 34.078340670527794, 22.08596272195496, 22.08596272195496, 23.0853275510027, 15.09040891862081, 15.09040891862081, 16.08977374766855, 15.09040891862081, 14.091044089573074, 15.087467954219052, 11.090787701445793, 10.091617638252478, 9.092447575059163, 7.094107448672534, 8.093277511865848, 9.092447575059163, 2.098257132705961, 13.089127827832423, 13.089127827832423, 13.089127827832423, 32.0733590285054, 7.094107448672534, 10.091617638252478, 12.089957764639106, 7.094107448672534, 10.091617638252478, 9.092447575059163, 21.082488333378944, 9.092447575059163, 12.089957764639106, 5.095767322285904, 49.05925010279175, 8.093277511865848, 8.093277511865848, 12.089957764639106, 7.094107448672534, 13.089127827832423, 13.089127827832423, 15.087467954219052, 17.08580808060568, 27.07750871253883, 45.06256985001849, 57.05261060833827, 27.07750871253883, 29.075848838925456, 36.07003928127866, 17.08580808060568, 24.079998522958885, 27.07750871253883, 18.084978143799, 18.084978143799, 16.08663801741237, 18.084978143799, 14.088297891025736, 12.089957764639106, 12.089957764639106, 12.089957764639106, 12.089957764639106, 12.089957764639106, 39.04953184951218, 42.294645299610146, 20.66055563229038, 9.843510798630493, 28.2324870158523, 8.761806315264504, 15.252033215460433, 27.150782532486307, 15.252033215460433, 8.761806315264504, 27.150782532486307, 12.00691976536247, 7.680101831898516, 7.680101831898516, 7.680101831898516, 18.4971466655584, 15.252033215460433, 16.333737698826422, 17.415442182192415, 14.170328732094445, 10.925215281996481, 19.57885114892439, 16.333737698826422, 6.598397348532528, 6.598397348532528, 9.843510798630493, 9.843510798630493, 15.252033215460433, 14.170328732094445, 16.333737698826422, 79.07259773405373, 103.95180085147146, 88.80793808434763, 29.314191499218285, 32.55930494931625, 19.57885114892439, 23.905669082388343, 44.458054266342124, 22.823964599022354, 18.4971466655584, 20.66055563229038, 27.150782532486307, 20.66055563229038, 15.252033215460433, 15.252033215460433, 15.252033215460433, 39.22599345692107, 39.22599345692107, 114.38340874183542, 115.41296237587534, 41.2851007250009, 15.546259874002834, 7.309830801683452, 87.61501425679742, 46.43286889520052, 45.4033152611606, 46.43286889520052, 5.250723533603606, 15.546259874002834, 41.2851007250009, 44.37376162712067, 117.47206964395518, 38.19643982288114, 37.16688618884121, 30.989564384601678, 44.37376162712067, 44.37376162712067, 44.37376162712067, 37.16688618884121, 43.34420799308076, 6.280277167643529, 44.37376162712067, 225.5752012181471, 94.82188969507689, 173.06796588211103, 37.16688618884121, 36.13733255480129, 46.43286889520052, 85.55590698871758, 43.34420799308076, 43.34420799308076, 43.34420799308076, 42.31465435904083, 38.19643982288114, 19.742297732139612, 50.19061761752906, 33.4931518739284, 26.617724803034005, 29.564336404845886, 8.93805519216271, 35.45755960846965, 7.955851324892081, 35.45755960846965, 5.009239723080199, 35.45755960846965, 36.43976347574028, 36.43976347574028, 5.991443590350827, 6.973647457621454, 5.991443590350827, 4.027035855809572, 32.51094800665777, 29.564336404845886, 31.52874413938714, 6.973647457621454, 5.991443590350827, 5.009239723080199, 44.297394413905295, 17.777889997598358, 5.991443590350827, 35.45755960846965, 32.51094800665777, 35.45755960846965, 36.43976347574028, 72.78130656475348, 37.421967343010905, 33.4931518739284, 35.45755960846965, 35.45755960846965, 33.4931518739284, 41.350782812093414, 35.45755960846965, 34.475355741199024, 37.421967343010905, 21.706705466680866, 34.475355741199024, 45.0247477945028, 71.77212272193022, 40.5668519732649, 49.482643615740706, 36.108956152027, 49.482643615740706, 31.651060330789097, 27.1931645095512, 27.1931645095512, 36.108956152027, 36.108956152027, 4.903685403361692, 13.819477045837495, 13.819477045837495, 40.5668519732649, 27.1931645095512, 27.1931645095512, 13.819477045837495, 9.361581224599593, 40.5668519732649, 4.903685403361692, 4.903685403361692, 9.361581224599593, 36.108956152027, 4.903685403361692, 9.361581224599593, 4.903685403361692, 4.903685403361692, 4.903685403361692, 13.819477045837495, 94.06160182811972, 138.64056004049874, 13.819477045837495, 31.651060330789097, 40.5668519732649, 49.482643615740706, 9.361581224599593, 18.277372867075396, 9.361581224599593, 9.361581224599593, 85.4786500745587, 14.05444111738027, 20.9664613390427, 18.662454598488555, 69.35060289067971, 48.61454222569242, 7.1424208957178426, 9.446427636271984, 11.750434376826128, 7.1424208957178426, 9.446427636271984, 7.1424208957178426, 37.09450852292171, 39.39851526347584, 27.878481560705126, 14.05444111738027, 48.61454222569242, 2.534407414609557, 4.8384141551637, 4.8384141551637, 9.446427636271984, 2.534407414609557, 2.534407414609557, 4.8384141551637, 9.446427636271984, 2.534407414609557, 7.1424208957178426, 30.182488301259273, 2.534407414609557, 2.534407414609557, 4.8384141551637, 7.1424208957178426, 9.446427636271984, 11.750434376826128, 9.446427636271984, 11.750434376826128, 7.1424208957178426, 4.8384141551637, 58.25074753575933, 21.47328982479112, 32.1506162570077, 27.405137842689218, 19.100550617631882, 15.541441806893017, 25.03239863552998, 17.914181014052257, 27.405137842689218, 19.100550617631882, 16.72781141047264, 15.541441806893017, 23.84602903195036, 7.23685458183568, 7.23685458183568, 14.355072203313398, 9.60959378899492, 25.03239863552998, 10.795963392574539, 7.23685458183568, 7.23685458183568, 7.23685458183568, 19.100550617631882, 146.04209820065117, 13.168702599733779, 7.23685458183568, 15.541441806893017, 23.84602903195036, 9.60959378899492, 10.795963392574539, 26.218768239109597, 25.03239863552998, 45.200681896383514, 16.72781141047264, 35.70972506774656, 39.26883387848542, 21.47328982479112, 23.84602903195036, 17.914181014052257, 34.52335546416693, 25.03239863552998, 27.405137842689218, 39.26883387848542, 25.03239863552998, 25.03239863552998, 25.03239863552998, 25.03239863552998, 22.65965942837074, 22.65965942837074, 22.65965942837074, 17.523873295164247, 23.300974381482135, 27.152375105694052, 61.81498162360136, 13.672472570952324, 59.8892812614954, 4.043970760422519, 4.043970760422519, 5.96967112252848, 57.96358089938944, 34.855176554117904, 29.078075467800016, 27.152375105694052, 29.078075467800016, 27.152375105694052, 19.44957365727021, 27.152375105694052, 25.22667474358809, 27.152375105694052, 25.22667474358809, 7.895371484634441, 61.81498162360136, 2.1182703983165574, 2.1182703983165574, 29.078075467800016, 25.22667474358809, 5.96967112252848, 50.26077945096559, 27.152375105694052, 25.22667474358809, 61.81498162360136, 27.152375105694052, 23.300974381482135, 75.2948841583431, 71.44348343413117, 27.152375105694052, 15.598172933058287, 48.335079088859636, 65.66638234781328, 48.335079088859636, 31.00377582990598, 52.18647981307155, 57.96358089938944, 44.483678364647716, 42.55797800254175, 29.078075467800016, 29.078075467800016, 29.078075467800016, 29.078075467800016, 29.078075467800016, 27.152375105694052, 12.81013287169461, 3.2819348679548175, 23.397019542516603, 11.75144420461241, 14.927510205859008, 5.399312202119215, 14.927510205859008, 15.986198872941207, 6.458000869201414, 7.5166895362836135, 6.458000869201414, 12.81013287169461, 9.634066870448011, 5.399312202119215, 15.986198872941207, 6.458000869201414, 1.1645575337904193, 3.2819348679548175, 8.575378203365812, 3.2819348679548175, 1.1645575337904193, 1.1645575337904193, 4.3406235350370155, 2.2232462008726186, 5.399312202119215, 5.399312202119215, 6.458000869201414, 8.575378203365812, 8.575378203365812, 2.2232462008726186, 7.5166895362836135, 13.868821538776809, 4.3406235350370155, 8.575378203365812, 12.81013287169461, 5.399312202119215, 7.5166895362836135, 9.634066870448011, 5.399312202119215, 8.168996859203178, 27.390165939681243, 30.593694119760922, 8.168996859203178, 4.9654686791235, 9.770760949243016, 6.567232769163339, 4.9654686791235, 11.372525039282856, 9.770760949243016, 4.9654686791235, 12.974289129322694, 8.168996859203178, 6.567232769163339, 8.168996859203178, 8.168996859203178, 4.9654686791235, 9.770760949243016, 4.9654686791235, 27.390165939681243, 1.761940499043823, 6.567232769163339, 4.9654686791235, 4.9654686791235, 4.9654686791235, 8.168996859203178, 3.3637045890836617, 4.9654686791235, 1.761940499043823, 4.9654686791235, 6.567232769163339, 14.576053219362532, 33.797222299840605, 11.372525039282856, 9.770760949243016, 16.17781730940237, 9.770760949243016, 6.567232769163339, 6.567232769163339, 11.372525039282856, 8.168996859203178, 6.567232769163339, 210.57199568307624, 103.65409301128444, 72.14144801328266, 42.87970622942386, 40.62880301528087, 65.38873837085372, 105.90499622542742, 35.001544979923416, 33.876093372851926, 25.99793212335147, 23.74702890920849, 20.370674087994015, 36.126996586994906, 19.24522248092252, 18.11977087385103, 41.75425462235237, 16.994319266779534, 22.621577302137, 15.868867659708041, 15.868867659708041, 84.52141569106907, 39.50335140820938, 30.499738551637446, 54.13422230013879, 15.868867659708041, 27.12338373042297, 18.11977087385103, 51.8833190859958, 109.28135104664192, 13.617964445565057, 287.1027049639377, 171.181189435574, 77.76870604864011, 180.18480229214592, 108.15589943957042, 330.9953176397259, 190.31386675578935, 60.886931942567735, 49.632415871852814, 67.6396415849967, 72.14144801328266, 129.53947997392876, 80.0196092627831, 108.15589943957042, 82.27051247692609, 144.17035086585815, 58.636028728424755, 86.77231890521206, 51.8833190859958, 42.87970622942386, 17.40706239847354, 19.442976129289153, 6.209536878987635, 6.209536878987635, 11.29932120602668, 9.263407475211062, 4.173623148172016, 17.40706239847354, 8.245450609803251, 13.3352349368423, 41.83802716826095, 42.85598403366876, 7.227493744395443, 2.137709417356399, 11.29932120602668, 6.209536878987635, 5.191580013579825, 10.281364340618872, 5.191580013579825, 5.191580013579825, 15.371148667657916, 13.3352349368423, 26.568674187143817, 4.173623148172016, 6.209536878987635, 13.3352349368423, 12.317278071434487, 12.317278071434487, 6.209536878987635, 15.371148667657916, 27.586631052551628, 24.532760456328198, 9.263407475211062, 6.209536878987635, 7.227493744395443, 6.209536878987635, 8.245450609803251, 6.209536878987635, 8.09167737250554, 7.0927048573814, 9.09064988762968, 8.09167737250554, 41.05777037160219, 8.09167737250554, 23.076265099367657, 9.09064988762968, 8.09167737250554, 13.086539948126244, 5.094759827133118, 8.09167737250554, 10.089622402753822, 6.093732342257259, 3.0968147968848365, 23.076265099367657, 5.094759827133118, 6.093732342257259, 8.09167737250554, 3.0968147968848365, 3.0968147968848365, 4.0957873120089765, 2.097842281760696, 3.0968147968848365, 10.089622402753822, 46.05263294722289, 4.0957873120089765, 5.094759827133118, 8.09167737250554, 4.0957873120089765, 7.0927048573814, 13.086539948126244, 6.093732342257259, 11.088594917877963, 6.093732342257259, 6.093732342257259, 10.089622402753822, 7.0927048573814, 12.087567433002103, 10.089622402753822, 17.082430008622808, 8.09167737250554, 8.09167737250554, 7.0927048573814, 6.093732342257259, 60.14946098831567, 56.82628634807723, 50.17993706760035, 56.82628634807723, 33.56406386640818, 13.625016024977578, 53.50311170783879, 6.978666744500712, 16.948190665216014, 23.59453994569288, 56.82628634807723, 13.625016024977578, 10.301841384739145, 3.655492104262278, 13.625016024977578, 6.978666744500712, 60.14946098831567, 16.948190665216014, 96.70438203093843, 50.17993706760035, 6.978666744500712, 6.978666744500712, 30.24088922616975, 13.625016024977578, 10.301841384739145, 6.978666744500712, 10.301841384739145, 3.655492104262278, 90.05803275046156, 6.978666744500712, 56.82628634807723, 16.948190665216014, 30.24088922616975, 13.625016024977578, 16.948190665216014, 13.625016024977578, 13.625016024977578, 10.301841384739145, 10.301841384739145, 10.301841384739145, 82.49248652825699, 45.04453544539065, 42.904652526369716, 37.55494522881739, 94.26184258287212, 32.20523793126505, 30.06535501224412, 25.78558917420225, 23.645706255181317, 21.505823336160383, 132.77973512524892, 19.365940417139452, 41.834711066859256, 18.295998957628985, 22.57576479567085, 17.226057498118518, 159.5282716130106, 51.46418420245345, 133.84967658475938, 21.505823336160383, 10.806408741055714, 79.28266214972557, 23.645706255181317, 34.34512085028599, 9.736467281545247, 38.62488668832785, 96.40172550189304, 38.62488668832785, 11.876350200566181, 11.876350200566181, 17.226057498118518, 30.06535501224412, 57.883832959516255, 48.25435982392205, 82.49248652825699, 106.03119863748725, 68.58324755462091, 168.08780328909432, 107.10114009699771, 110.3109644755291, 46.114476904901124, 46.114476904901124, 34.34512085028599, 41.834711066859256, 64.30348171657906, 61.09365733804765, 40.76476960734878, 60.02371587853718, 60.02371587853718, 43.97459398588018, 50.394242742942986, 39.694828147838315, 13.605789729640994, 13.605789729640994, 37.49381749923969, 23.991888759901297, 13.605789729640994, 47.87991652949999, 25.030498662927325, 23.991888759901297, 23.991888759901297, 36.45520759621366, 23.991888759901297, 23.991888759901297, 23.991888759901297, 36.45520759621366, 23.991888759901297, 57.227405656734256, 23.991888759901297, 13.605789729640994, 54.11157594765616, 42.68686701436984, 22.953278856875265, 187.053643534988, 57.227405656734256, 22.953278856875265, 117.46678003224399, 44.7640868204219, 23.991888759901297, 56.18879575370823, 54.11157594765616, 57.227405656734256, 55.1501858506822, 103.9648512929056, 244.17718820141968, 263.91077635891423, 257.67911694075804, 130.96870877158238, 56.18879575370823, 54.11157594765616, 96.6945819717234, 59.30462546278632, 58.26601555976029, 115.38956022619193, 53.072966044630135, 54.11157594765616, 65.5362848809425, 49.95713633555205, 54.11157594765616, 60.34323536581235, 75.92238391120279, 56.18879575370823, 66.57489478396852, 56.18879575370823, 57.227405656734256, 56.18879575370823, 55.1501858506822, 54.11157594765616, 32.139791418744885, 10.777996518068523, 18.545921936496292, 10.777996518068523, 10.777996518068523, 12.719977872675466, 21.458893968406702, 10.777996518068523, 11.748987195371996, 21.458893968406702, 21.458893968406702, 21.458893968406702, 41.84969819177959, 10.777996518068523, 11.748987195371996, 3.010071099640759, 10.777996518068523, 10.777996518068523, 33.110782096048354, 10.777996518068523, 9.807005840765054, 11.748987195371996, 10.777996518068523, 10.777996518068523, 10.777996518068523, 10.777996518068523, 10.777996518068523, 10.777996518068523, 10.777996518068523, 35.05276345065529, 60.29852106054553, 21.458893968406702, 42.82068886908306, 22.429884645710175, 11.748987195371996, 11.748987195371996, 11.748987195371996, 11.748987195371996, 11.748987195371996, 11.748987195371996, 10.777996518068523, 10.777996518068523, 10.777996518068523, 148.10956917201847, 9.473466982921618, 11.784068686073232, 7.162865279770005, 60.306704452257144, 2.541661873466776, 7.162865279770005, 7.162865279770005, 101.8975351089862, 7.162865279770005, 2.541661873466776, 11.784068686073232, 7.162865279770005, 2.541661873466776, 2.541661873466776, 4.852263576618391, 4.852263576618391, 2.541661873466776, 4.852263576618391, 2.541661873466776, 16.405272092376464, 4.852263576618391, 2.541661873466776, 4.852263576618391, 2.541661873466776, 7.162865279770005, 7.162865279770005, 4.852263576618391, 2.541661873466776, 2.541661873466776, 11.784068686073232, 4.852263576618391, 11.784068686073232, 4.852263576618391, 4.852263576618391, 4.852263576618391, 2.541661873466776, 2.541661873466776, 38.79106950197294, 106.2057486934359, 285.2414540871572, 31.054958775083755, 18.89821334711503, 34.370434800893406, 21.108530697654793, 15.58273732130537, 14.477578646035486, 14.477578646035486, 20.003372022384912, 74.15614711060925, 28.844641424543987, 86.31289253857798, 12.267261295495718, 21.108530697654793, 288.5569301129669, 68.63035373425983, 28.844641424543987, 5.636309243876411, 37.68591082670306, 16.687895996575257, 37.68591082670306, 152.62241305477104, 36.580752151433174, 35.47559347616329, 8.951785269686065, 73.05098843533936, 36.580752151433174, 35.47559347616329, 36.580752151433174, 221.1422509215039, 36.580752151433174, 50.94781492994168, 116.15217677086486, 56.4736083062911, 106.2057486934359, 145.99146100315173, 39.89622817724283, 75.26130578587913, 90.73352723965752, 37.68591082670306, 107.31090736870577, 38.79106950197294, 50.94781492994168, 66.42003638372006, 38.79106950197294, 87.41805121384786, 52.05297360521156, 70.8406710847996, 77.4716231364189, 61.999401682640524, 49.842656254671795, 43.211704203052484], \"Term\": [\"chicago\", \"transit\", \"ordinance\", \"approve\", \"report\", \"authorizing\", \"authority\", \"august\", \"board\", \"matters\", \"july\", \"agreement\", \"ada\", \"station\", \"contract\", \"number\", \"review\", \"motion\", \"cta\", \"service\", \"bus\", \"budget\", \"new\", \"red\", \"finance\", \"business\", \"regular\", \"secretary\", \"chairman\", \"approved\", \"liability\", \"protective\", \"blanket\", \"railroad\", \"amendments\", \"agreements\", \"adopting\", \"shipbob\", \"improvement\", \"fiscal\", \"engineering\", \"approving\", \"dba\", \"future\", \"costs\", \"interest\", \"insurance\", \"estimated\", \"allow\", \"financial\", \"goal\", \"program\", \"materials\", \"concession\", \"amending\", \"retail\", \"lease\", \"consenting\", \"capital\", \"facilities\", \"years\", \"november\", \"year\", \"october\", \"ordinance\", \"red\", \"two\", \"purple\", \"purchase\", \"policy\", \"authorizing\", \"pm\", \"modernization\", \"plan\", \"west\", \"grant\", \"alejandro\", \"legal\", \"relating\", \"projects\", \"matters\", \"estate\", \"policy\", \"capital\", \"purpose\", \"immediately\", \"considering\", \"silva\", \"real\", \"boardroom\", \"transact\", \"gregory\", \"general\", \"offices\", \"longhini\", \"construction\", \"properly\", \"recommendations\", \"assistant\", \"related\", \"called\", \"andor\", \"secretary\", \"notice\", \"second\", \"authority\", \"transit\", \"finance\", \"chicago\", \"chairman\", \"board\", \"held\", \"audit\", \"budget\", \"cta\", \"may\", \"business\", \"shaw\", \"elevators\", \"copy\", \"noted\", \"reflects\", \"side\", \"wanted\", \"advance\", \"quincy\", \"going\", \"ramp\", \"work\", \"address\", \"still\", \"category\", \"overall\", \"kennelly\", \"mentioned\", \"quarter\", \"kate\", \"generally\", \"ongoing\", \"good\", \"happen\", \"voted\", \"escalator\", \"completed\", \"kneel\", \"due\", \"melissa\", \"terminal\", \"questions\", \"facilitator\", \"end\", \"serpe\", \"members\", \"new\", \"customer\", \"would\", \"projects\", \"know\", \"complaints\", \"report\", \"access\", \"minutes\", \"update\", \"well\", \"service\", \"amy\", \"may\", \"construction\", \"programs\", \"board\", \"three\", \"review\", \"january\", \"like\", \"train\", \"get\", \"say\", \"assistance\", \"way\", \"police\", \"statistics\", \"top\", \"better\", \"blind\", \"people\", \"right\", \"officer\", \"might\", \"within\", \"announcements\", \"see\", \"using\", \"different\", \"rules\", \"need\", \"pass\", \"weeks\", \"able\", \"issues\", \"excused\", \"something\", \"priority\", \"person\", \"many\", \"security\", \"information\", \"safety\", \"anyone\", \"rail\", \"help\", \"additional\", \"one\", \"department\", \"would\", \"platform\", \"well\", \"customer\", \"go\", \"issue\", \"asked\", \"stations\", \"also\", \"know\", \"public\", \"call\", \"called\", \"acquisition\", \"approve\", \"easement\", \"rights\", \"resolution\", \"broadway\", \"comments\", \"page\", \"recess\", \"property\", \"permanent\", \"located\", \"relocation\", \"north\", \"clark\", \"setting\", \"avenue\", \"modernization\", \"purple\", \"payment\", \"executive\", \"expenses\", \"regular\", \"session\", \"air\", \"ordinance\", \"citizens\", \"presentation\", \"authorizing\", \"construction\", \"illinois\", \"project\", \"board\", \"report\", \"chicago\", \"red\", \"public\", \"recommendations\", \"sales\", \"purchase\", \"budget\", \"audit\", \"roll\", \"adjourn\", \"transit\", \"finance\", \"street\", \"business\", \"new\", \"invoice\", \"mckone\", \"burke\", \"janice\", \"morgan\", \"serritella\", \"warren\", \"nonmembers\", \"rachel\", \"upon\", \"yarch\", \"administrator\", \"seconded\", \"discussion\", \"short\", \"irving\", \"case\", \"tom\", \"participants\", \"submitted\", \"adjourned\", \"discussed\", \"advised\", \"overunderpayments\", \"covered\", \"act\", \"fuller\", \"supplemental\", \"irs\", \"brief\", \"litigation\", \"performance\", \"session\", \"approved\", \"executive\", \"motion\", \"april\", \"plan\", \"present\", \"order\", \"minutes\", \"pm\", \"retirement\", \"business\", \"old\", \"march\", \"review\", \"general\", \"may\", \"intake\", \"streets\", \"headquarters\", \"se\", \"reasonable\", \"accommodation\", \"corner\", \"wayfinding\", \"elevatorescalator\", \"including\", \"phone\", \"advisory\", \"tuesday\", \"interpreters\", \"anyone\", \"requests\", \"days\", \"transitchicagocom\", \"update\", \"jefferson\", \"language\", \"unit\", \"pm\", \"physically\", \"american\", \"announcements\", \"aserpe\", \"sign\", \"efficiencies\", \"old\", \"comment\", \"customer\", \"ada\", \"report\", \"public\", \"call\", \"business\", \"monday\", \"service\", \"cta\", \"lake\", \"held\", \"roll\", \"minutes\", \"construction\", \"adjournment\", \"april\", \"order\", \"general\", \"approval\", \"bank\", \"america\", \"na\", \"boulevard\", \"lease\", \"shuffle\", \"fleet\", \"copromotional\", \"operate\", \"geographic\", \"license\", \"concession\", \"excess\", \"marathon\", \"shamrock\", \"maintain\", \"green\", \"advertising\", \"install\", \"funds\", \"doors\", \"trade\", \"space\", \"assignment\", \"mobile\", \"facility\", \"coverage\", \"fiscal\", \"insurance\", \"east\", \"agreement\", \"ordinance\", \"authorizing\", \"june\", \"year\", \"intergovernmental\", \"department\", \"bus\", \"planning\", \"city\", \"located\", \"chicago\", \"illinois\", \"access\", \"line\", \"strategic\", \"scheduled\", \"discuss\", \"employee\", \"retirement\", \"room\", \"compensation\", \"conference\", \"secretary\", \"gregory\", \"longhini\", \"notice\", \"thursday\", \"deferred\", \"offices\", \"assistant\", \"review\", \"properly\", \"transact\", \"monday\", \"office\", \"second\", \"floor\", \"come\", \"lake\", \"special\", \"west\", \"chicago\", \"authority\", \"transit\", \"pm\", \"time\", \"may\", \"board\", \"street\", \"members\", \"illinois\", \"chairman\", \"business\", \"potential\", \"litigation\", \"bills\", \"2nd\", \"pending\", \"nd\", \"adjournment\", \"overunderpayments\", \"old\", \"irs\", \"room\", \"administration\", \"next\", \"conference\", \"performance\", \"supplemental\", \"preliminary\", \"session\", \"monday\", \"executive\", \"application\", \"coverage\", \"participants\", \"retirement\", \"update\", \"investment\", \"approval\", \"employee\", \"floor\", \"order\", \"business\", \"lake\", \"pm\", \"agenda\", \"general\", \"call\", \"review\", \"street\", \"new\", \"minutes\", \"none\", \"board\", \"committees\", \"appointing\", \"circuit\", \"settlement\", \"standing\", \"court\", \"trust\", \"health\", \"temporary\", \"cook\", \"county\", \"johnny\", \"kedzie\", \"independent\", \"member\", \"recommendation\", \"certain\", \"robert\", \"adjacent\", \"employees\", \"pursuant\", \"shortterm\", \"michael\", \"plan\", \"morey\", \"garage\", \"case\", \"act\", \"experiment\", \"sublease\", \"authority\", \"transit\", \"wilson\", \"retirement\", \"members\", \"chicago\", \"absent\", \"illinois\", \"minutes\", \"assistant\", \"december\", \"montrose\", \"district\", \"phase\", \"red\", \"november\", \"community\", \"dates\", \"air\", \"utility\", \"development\", \"times\", \"purple\", \"modernization\", \"park\", \"clark\", \"project\", \"directors\", \"parking\", \"representative\", \"irving\", \"appro\", \"citizens\", \"categories\", \"inc\", \"andre\", \"payment\", \"october\", \"preliminary\", \"cars\", \"permanent\", \"wilson\", \"september\", \"pm\", \"meetings\", \"time\", \"following\", \"training\", \"asap\", \"structural\", \"question\", \"signage\", \"house\", \"final\", \"signal\", \"bylaws\", \"steel\", \"changes\", \"building\", \"level\", \"track\", \"summer\", \"website\", \"design\", \"pierre\", \"made\", \"ogden\", \"making\", \"escalators\", \"topics\", \"systems\", \"station\", \"since\", \"taking\", \"start\", \"could\", \"express\", \"four\", \"platform\", \"support\", \"advisory\", \"received\", \"elevator\", \"regarding\", \"issue\", \"first\", \"working\", \"following\", \"stations\", \"year\", \"ada\", \"would\", \"second\", \"project\", \"period\", \"years\", \"stated\", \"number\", \"ad\", \"full\", \"placed\", \"delivery\", \"experiment\", \"strategic\", \"31st\", \"island\", \"routes\", \"irvine\", \"rosales\", \"notices\", \"commenced\", \"noticed\", \"unanimous\", \"route\", \"agendas\", \"voice\", \"wwwtransitchicagocom\", \"vote\", \"university\", \"planning\", \"goose\", \"commi\", \"alva\", \"miller\", \"10th\", \"peterson\", \"reviewed\", \"action\", \"approval\", \"posted\", \"found\", \"agenda\", \"service\", \"th\", \"absent\", \"july\", \"minutes\", \"approved\", \"moved\", \"chairman\", \"board\", \"motion\", \"ordinance\", \"meetings\", \"roll\", \"asked\", \"call\", \"transit\", \"business\", \"assist\", \"outstanding\", \"operators\", \"complaint\", \"wheelchair\", \"mobile\", \"someone\", \"disabilities\", \"hearing\", \"materials\", \"person\", \"staff\", \"make\", \"day\", \"training\", \"pilot\", \"secured\", \"anticipated\", \"request\", \"utility\", \"recent\", \"announce\", \"procedures\", \"emergency\", \"received\", \"accommodations\", \"language\", \"disability\", \"first\", \"forward\", \"management\", \"december\", \"facilitator\", \"serpe\", \"time\", \"fare\", \"november\", \"chairman\", \"come\", \"revenues\", \"operating\", \"state\", \"activities\", \"issued\", \"free\", \"tax\", \"school\", \"revenue\", \"special\", \"consenting\", \"portion\", \"procedures\", \"day\", \"ride\", \"pilot\", \"facilities\", \"include\", \"cumberland\", \"capital\", \"carter\", \"expenses\", \"million\", \"conduct\", \"labor\", \"funding\", \"diesel\", \"rta\", \"bill\", \"group\", \"financial\", \"program\", \"budget\", \"city\", \"policy\", \"service\", \"year\", \"cook\", \"county\", \"finance\", \"west\", \"lake\", \"vs\", \"totaled\", \"operator\", \"individuals\", \"etc\", \"customers\", \"davis\", \"seating\", \"especially\", \"failure\", \"packets\", \"answer\", \"addition\", \"angela\", \"filler\", \"added\", \"completion\", \"said\", \"chief\", \"providing\", \"vice\", \"sent\", \"hard\", \"disability\", \"followup\", \"specific\", \"armstrong\", \"efficiencies\", \"stated\", \"although\", \"bus\", \"also\", \"explained\", \"complaints\", \"fuller\", \"cta\", \"ada\", \"provided\", \"blue\", \"regarding\", \"manager\", \"station\", \"related\", \"asked\", \"line\", \"chairman\", \"elevator\", \"service\", \"october\", \"general\", \"hardship\", \"requests\", \"david\", \"site\", \"participant\", \"education\", \"meet\", \"current\", \"specialist\", \"investment\", \"total\", \"month\", \"amount\", \"chris\", \"compensation\", \"advised\", \"followed\", \"primary\", \"calls\", \"previous\", \"deferred\", \"bills\", \"plan\", \"tom\", \"group\", \"pending\", \"reported\", \"request\", \"financial\", \"employees\", \"new\", \"report\", \"meetings\", \"medical\", \"quarter\", \"phone\", \"cta\", \"minutes\", \"cultural\", \"affairs\", \"parking\", \"events\", \"city\", \"university\", \"intergovernmental\", \"development\", \"improvements\", \"transportation\", \"term\", \"special\", \"copromotional\", \"design\", \"school\", \"department\", \"federal\", \"pass\", \"trade\", \"activities\", \"tax\", \"vehicles\", \"fall\", \"schools\", \"fare\", \"agreement\", \"funds\", \"garage\", \"state\", \"advertising\", \"certain\", \"program\", \"use\", \"system\", \"extension\", \"inc\", \"september\", \"management\", \"time\", \"august\", \"chicago\", \"march\", \"station\", \"red\", \"authority\", \"bargaining\", \"tentative\", \"containing\", \"collective\", \"international\", \"mobility\", \"local\", \"minu\", \"union\", \"commendations\", \"terms\", \"halsted\", \"took\", \"presentations\", \"task\", \"taken\", \"execution\", \"president\", \"agreement\", \"april\", \"introduced\", \"hearing\", \"march\", \"racine\", \"transportation\", \"pilot\", \"recommendation\", \"tax\", \"report\", \"trade\", \"authorizing\", \"three\", \"new\", \"project\", \"may\", \"general\", \"street\", \"two\", \"transit\", \"december\", \"required\", \"furnish\", \"oneyear\", \"fab\", \"change\", \"b1\", \"a1\", \"g1\", \"f1\", \"deliver\", \"months\", \"b2\", \"communications\", \"c1\", \"a2\", \"a3\", \"period\", \"options\", \"none\", \"software\", \"b3\", \"date\", \"funded\", \"option\", \"e1\", \"technology\", \"services\", \"infrastructure\", \"h1\", \"a4\", \"proposals\", \"equipment\", \"provide\", \"maintenance\", \"execution\", \"order\", \"years\", \"review\", \"contract\", \"finance\", \"operations\", \"three\", \"management\", \"two\", \"cta\", \"ordinance\", \"one\", \"transit\", \"chicago\", \"purchase\", \"authorizing\", \"award\", \"longrange\", \"strategies\", \"terry\", \"listed\", \"operational\", \"contact\", \"least\", \"physically\", \"aserpe\", \"grant\", \"american\", \"transitchicagocom\", \"interpreters\", \"personnel\", \"accommodations\", \"considering\", \"days\", \"kevin\", \"purpose\", \"estate\", \"location\", \"matters\", \"boardroom\", \"language\", \"secretary\", \"real\", \"individual\", \"properly\", \"transact\", \"notice\", \"offices\", \"general\", \"board\", \"transit\", \"chicago\", \"authority\", \"called\", \"longhini\", \"regular\", \"office\", \"come\", \"chairman\", \"gregory\", \"assistant\", \"held\", \"issues\", \"second\", \"time\", \"business\", \"floor\", \"may\", \"lake\", \"street\", \"members\", \"illinois\", \"west\", \"clock\", \"complaintscomments\", \"afternoon\", \"representative\", \"take\", \"available\", \"advisory\", \"individual\", \"prior\", \"compliance\", \"boardroom\", \"customer\", \"ada\", \"amy\", \"considering\", \"tuesday\", \"programs\", \"purpose\", \"service\", \"department\", \"serpe\", \"offices\", \"manager\", \"transact\", \"properly\", \"longhini\", \"gregory\", \"notice\", \"assistant\", \"authority\", \"chicago\", \"regular\", \"transit\", \"cta\", \"floor\", \"public\", \"west\", \"secretary\", \"may\", \"board\", \"illinois\", \"held\", \"come\", \"august\", \"schools\", \"vehicles\", \"emergency\", \"september\", \"occurred\", \"taken\", \"amount\", \"july\", \"specialist\", \"includes\", \"commendations\", \"metra\", \"logistics\", \"appro\", \"administrator\", \"national\", \"written\", \"currently\", \"fire\", \"system\", \"start\", \"sure\", \"medical\", \"facilities\", \"questions\", \"accessibility\", \"needed\", \"list\", \"mike\", \"called\", \"action\", \"minutes\", \"rail\", \"related\", \"chicago\", \"repair\", \"also\", \"votes\", \"items\", \"number\", \"extensive\", \"budg\", \"youngblood\", \"recommend\", \"inclu\", \"ordinances\", \"contained\", \"contracts\", \"omnibus\", \"quorum\", \"silva\", \"motionto\", \"follows\", \"contract\", \"recommended\", \"six\", \"14th\", \"yes\", \"vicechairman\", \"five\", \"approved\", \"vote\", \"voice\", \"13th\", \"moved\", \"unanimous\", \"commenced\", \"agendas\", \"motion\", \"notices\", \"th\", \"agenda\", \"present\", \"audit\", \"finance\", \"alva\", \"adjourn\", \"budget\", \"action\", \"minutes\", \"rosales\", \"irvine\", \"asked\", \"reviewed\", \"chairman\", \"approval\", \"ordinance\", \"board\", \"authorizing\", \"chicago\", \"transit\"], \"Total\": [1206.0, 995.0, 619.0, 457.0, 484.0, 519.0, 510.0, 193.0, 866.0, 383.0, 262.0, 294.0, 343.0, 295.0, 414.0, 317.0, 415.0, 472.0, 585.0, 336.0, 397.0, 283.0, 330.0, 182.0, 459.0, 425.0, 365.0, 270.0, 531.0, 271.0, 12.894634267865143, 12.894634267865143, 12.894634267865143, 14.007584125497557, 12.822336841406472, 11.415599173739428, 9.92254862171601, 11.56374609086296, 44.28305692654918, 40.03861693327985, 15.96878996156993, 34.42895311119346, 12.08678689438651, 12.146672602656494, 15.331071038545952, 16.736428218145623, 37.734314172016965, 7.794001163063795, 7.820735613986813, 34.150800295286395, 12.328058441088519, 98.33048519875155, 31.622304044960185, 19.65871827794843, 30.364590343100186, 20.87382545773273, 38.96508471260381, 18.02855506984948, 110.22408194924994, 19.264342310251973, 125.10593094365032, 128.00505272314524, 138.97998580757002, 164.45660827504113, 619.9992338523818, 182.27794206568547, 126.79639710997448, 115.75058951941325, 205.63894737807362, 104.87619762560885, 519.8000023827361, 214.82827191052039, 125.06672776035984, 106.28474203028611, 229.06559590743086, 55.35402704447711, 34.78076214358433, 45.23678276755205, 51.4329845134715, 85.81477914370957, 383.1503036564252, 84.47680149800198, 104.87619762560885, 110.22408194924994, 103.00781496734045, 42.8618787784791, 100.80675822869075, 120.98313881463532, 105.13940742436924, 122.33485523688589, 135.52915939515796, 145.76482416160195, 288.169989919852, 142.75365042208065, 143.76558846747736, 168.0918059588983, 137.74087222474833, 169.56858011300704, 154.86587972051112, 155.81032214580387, 148.43388961372733, 170.13696169953107, 270.38640185611246, 147.1698270647392, 174.9907286320409, 510.5833711995822, 995.29711649141, 459.1482976483078, 1206.8235918787768, 531.1003168814892, 866.4831412713335, 230.04408807237235, 253.38766303293949, 283.79747787662427, 585.386266592612, 331.7399161621664, 425.02610283482846, 44.5355142939462, 55.787304459129636, 33.17904829989684, 29.772108501682027, 27.500815302872155, 52.323214141663904, 34.275724210330324, 39.79074622022036, 24.093875504657344, 66.74262770495785, 29.733137812710574, 138.79383253193632, 21.822582305847472, 27.49062031053871, 18.41564250763266, 18.41564250763266, 44.48453933227898, 16.14434930882279, 80.46751986589194, 15.008702709417854, 21.153053197077437, 28.78863091480114, 26.172282149850293, 21.80219232118058, 35.768297475968446, 82.80180841788123, 55.0841763440452, 20.666545721775645, 35.00434815964942, 16.105378619851336, 65.22412179833923, 58.00354841905296, 45.543640009983775, 45.02827547582906, 117.2629369746782, 360.76846338881893, 330.5204598390424, 175.96164472254202, 160.21525517604903, 85.81477914370957, 68.44816117518273, 271.220005005162, 484.91694798129424, 89.44484644398378, 452.4557731303071, 90.08585033828201, 77.3180537052942, 336.5961956652789, 90.29537822411633, 331.7399161621664, 168.0918059588983, 99.11417115461707, 866.4831412713335, 121.15994509593622, 415.8009871165177, 129.7946343289935, 45.32592131184091, 65.19200618408985, 43.24981937325858, 25.58575492403818, 31.15882816935174, 28.86081122827114, 48.04936833435389, 20.102375371870757, 19.00569946143727, 16.812347640570298, 15.715671730136819, 184.2256522882954, 34.29927649923608, 14.618995819703335, 14.618995819703335, 18.978965010514255, 59.509313891027645, 47.831038644479484, 18.947164303168552, 33.80064845594939, 34.35829977319246, 26.508577448389723, 30.385603022963792, 13.612013602415985, 36.00497492493681, 146.72296444746414, 12.38765675548508, 28.31726890378196, 42.40600440195661, 28.569140150205243, 32.359886164413574, 48.865685830425996, 112.5524207024414, 62.242982553649504, 49.78310918031634, 143.74919129499241, 45.67258776809134, 64.00494880370832, 134.95532430749992, 112.05918070716028, 160.21525517604903, 60.49826417522915, 77.3180537052942, 175.96164472254202, 43.59478991754439, 55.492675898470885, 255.0798005147162, 95.17521282122597, 241.56487555121174, 68.44816117518273, 214.5573325058582, 276.8243594211465, 148.43388961372733, 78.3927636233562, 457.40105122255375, 45.44437154741855, 22.04077604147051, 27.44180801024085, 19.833051854311442, 77.5840303267736, 32.41296386620893, 12.010663681778501, 180.96978264120045, 37.049521859282876, 187.09630108800908, 24.07114883159714, 187.1321176538265, 48.62530290485159, 22.364612848118405, 132.02563945856937, 125.06672776035984, 115.75058951941325, 36.989343977769515, 129.71261759368494, 27.77269669315362, 365.7489315495736, 129.0918662182757, 33.22484380314918, 619.9992338523818, 11.970272150892779, 19.889614545512135, 519.8000023827361, 168.0918059588983, 404.56654745816905, 176.0345102882637, 866.4831412713335, 484.91694798129424, 1206.8235918787768, 182.27794206568547, 214.5573325058582, 169.56858011300704, 167.69118383240416, 205.63894737807362, 283.79747787662427, 253.38766303293949, 193.6079329115508, 205.7486809786543, 995.29711649141, 459.1482976483078, 333.02550012681763, 425.02610283482846, 330.5204598390424, 36.63127607394377, 37.649232939351585, 28.636357441561884, 27.636992612514145, 35.691235082930504, 28.67354151428203, 30.544896841890733, 15.644614663941319, 15.644614663941319, 85.93380836651029, 22.677352539995614, 22.319684193021583, 135.86434342994522, 20.93278775577398, 11.772034661476907, 41.09208283276298, 20.22115816124815, 16.77767147646381, 23.971748509618667, 26.89913073465624, 24.716762905261, 24.90040107656077, 17.941901314729108, 17.506056627819923, 17.526586939155347, 20.566413932614925, 157.6663731304276, 18.982330761228422, 11.561350538864833, 11.659035090766343, 72.73256569807745, 19.804253769543422, 129.0918662182757, 271.61160373937213, 129.71261759368494, 472.90131689168675, 169.28221190467318, 106.28474203028611, 115.67110308808327, 201.54598210155228, 452.4557731303071, 214.82827191052039, 217.37067160814135, 425.02610283482846, 79.11866378437027, 123.81014764619232, 415.8009871165177, 288.169989919852, 331.7399161621664, 18.639787663268212, 14.643107410494952, 13.643937347301637, 12.644767284108323, 10.646427157721693, 12.781243820319943, 14.916060482918194, 5.650576841755117, 41.40138289245442, 45.114771989974756, 46.10290067540646, 115.09826827464971, 25.839325852356374, 39.133729206940174, 49.78310918031634, 29.987607600470064, 42.74769321030675, 38.726146874573985, 90.08585033828201, 38.852438036477, 51.92897098496138, 22.095954922916953, 214.82827191052039, 35.5336249905137, 37.13538908055354, 59.509313891027645, 35.7208245309, 66.82296270596089, 68.41222146217024, 79.11866378437027, 98.28343224080231, 175.96164472254202, 343.6070349659252, 484.91694798129424, 214.5573325058582, 276.8243594211465, 425.02610283482846, 119.14597163832941, 336.5961956652789, 585.386266592612, 212.0131746956651, 230.04408807237235, 193.6079329115508, 452.4557731303071, 168.0918059588983, 74.28929068405238, 169.28221190467318, 201.54598210155228, 288.169989919852, 182.28551690426173, 43.71904972361556, 49.161886206880475, 24.204621899322273, 13.387577065662386, 38.96508471260381, 12.305872582296397, 21.999627662572003, 40.684573950759614, 24.14933233350303, 13.977557975578398, 43.46927066474894, 19.65871827794843, 12.89585349221241, 13.364051017951342, 13.434485449470177, 32.5994742667695, 27.095467307323535, 29.755223954436588, 32.860274783628384, 27.01964827376036, 22.236190538054103, 41.16798661564109, 35.61003376291181, 15.350233024344101, 16.45386381638322, 25.56803026611525, 25.702834111772038, 40.03861693327985, 37.734314172016965, 43.77873271495361, 294.0316599452983, 619.9992338523818, 519.8000023827361, 114.62002923038497, 138.97998580757002, 68.28917584298394, 112.05918070716028, 397.47090377180615, 161.29944483655407, 100.2702441487898, 187.09630108800908, 1206.8235918787768, 404.56654745816905, 89.44484644398378, 169.2180187493798, 100.66508166377527, 45.04656800769544, 49.589154405315185, 177.07576341009246, 217.37067160814135, 85.87195429573266, 32.432949664474165, 16.75233535727171, 270.38640185611246, 145.76482416160195, 143.76558846747736, 147.1698270647392, 17.218151332689395, 51.73210160897415, 142.75365042208065, 154.86587972051112, 415.8009871165177, 137.74087222474833, 135.52915939515796, 119.14597163832941, 173.8397762316367, 174.9907286320409, 193.53634556099462, 169.45493123250492, 212.0131746956651, 31.734971721764264, 229.06559590743086, 1206.8235918787768, 510.5833711995822, 995.29711649141, 214.82827191052039, 227.62449725104557, 331.7399161621664, 866.4831412713335, 333.02550012681763, 360.76846338881893, 404.56654745816905, 531.1003168814892, 425.02610283482846, 25.43972253326034, 72.73256569807745, 50.280607452871344, 45.343133114500716, 55.53308021975034, 18.23671999831593, 74.28929068405238, 17.506056627819923, 79.11866378437027, 11.561350538864833, 85.87195429573266, 90.38070444291876, 92.95084562895626, 16.75233535727171, 19.804253769543422, 18.982330761228422, 14.121816364925062, 129.0918662182757, 119.14597163832941, 129.71261759368494, 29.33579830729495, 25.702834111772038, 23.971748509618667, 217.37067160814135, 90.08585033828201, 30.58437411510814, 182.28551690426173, 177.07576341009246, 193.53634556099462, 201.54598210155228, 425.02610283482846, 212.0131746956651, 214.82827191052039, 258.04696365951463, 288.169989919852, 276.8243594211465, 415.8009871165177, 333.02550012681763, 330.5204598390424, 452.4557731303071, 166.43691686054467, 866.4831412713335, 48.23119492774751, 77.28257659572905, 43.77329910650961, 53.68806326410955, 41.547725795110125, 58.10730251201567, 38.85496678022474, 33.61092032907068, 36.7855020225739, 51.1459534893285, 54.45415670249944, 8.11013253660639, 22.954506202585986, 23.516151079278124, 69.55148443950766, 48.038081003909845, 51.88375217303965, 26.608165079227298, 18.499876375742392, 84.92952184148312, 10.886976605158278, 11.375467062698819, 24.93038287690812, 106.28474203028611, 17.11374539317833, 35.40132845795922, 20.22115816124815, 20.566413932614925, 21.590035071348122, 65.70900850378693, 510.5833711995822, 995.29711649141, 73.70575147602614, 217.37067160814135, 360.76846338881893, 1206.8235918787768, 46.781621666081634, 404.56654745816905, 452.4557731303071, 154.86587972051112, 151.98682262375175, 27.401826772858005, 42.30917821550232, 41.687551444272856, 182.27794206568547, 128.00505272314524, 19.300660422767674, 26.373682962442967, 33.22484380314918, 21.270669051821145, 28.541485630343004, 22.076058355563735, 115.75058951941325, 125.06672776035984, 94.4823864511424, 48.62530290485159, 176.0345102882637, 9.3123053453355, 18.85276692263388, 18.941147646814947, 41.09208283276298, 11.582321184883897, 11.970272150892779, 23.98204608260049, 47.93413652005921, 12.908877960678591, 36.989343977769515, 164.45660827504113, 14.121816364925062, 15.585716591516832, 37.049521859282876, 73.70575147602614, 134.6567621904342, 214.82827191052039, 143.77613061740243, 227.62449725104557, 160.068227767868, 74.72788003969983, 66.78019760673642, 26.033822641190167, 40.8590116713603, 35.24108446464052, 24.885053586785396, 21.100947138416203, 34.1205701222119, 24.5427968058829, 39.16501487892145, 28.80456836622355, 25.67314198552509, 24.673523900623003, 38.171009758690126, 11.8959059439177, 12.806368067661827, 25.999884383233173, 17.644999972291416, 46.352459341210384, 20.00779614460975, 13.507865026290983, 14.146809158060686, 14.177394135061016, 37.542361861402625, 295.4719203772148, 26.764603878398447, 15.067466274138255, 32.699857824778725, 50.22601227345754, 20.91863475670996, 24.032831618533525, 60.49826417522915, 59.594300716344044, 115.09826827464971, 38.894306631752194, 102.11227936841102, 115.44794706980615, 55.492675898470885, 70.74266571355447, 49.841780674120066, 160.068227767868, 95.17521282122597, 138.97998580757002, 343.6070349659252, 160.21525517604903, 174.9907286320409, 176.0345102882637, 194.60630200917242, 125.10593094365032, 145.2212913368829, 317.90425286561236, 22.010473035710657, 30.31974987137889, 39.66301291259463, 96.73148299755562, 21.590035071348122, 100.66508166377527, 7.50363743958041, 7.50363743958041, 12.779116371997972, 127.77076734341111, 76.99539686772175, 69.00797843086409, 65.97711939348825, 71.20231369735123, 67.08227806875813, 48.651517310469, 68.26864767233775, 64.0514190313823, 69.35106759355286, 65.15657770665217, 20.53318788836508, 161.29944483655407, 5.577937077474448, 5.577937077474448, 76.78135027791166, 67.4041561773503, 16.072100020270888, 137.13415482645036, 77.96869162138003, 73.01795121667796, 182.28551690426173, 79.76993894765639, 69.98358698697517, 258.04696365951463, 336.5961956652789, 99.07488027053553, 46.781621666081634, 262.25631289401326, 452.4557731303071, 271.61160373937213, 133.5033968785229, 531.1003168814892, 866.4831412713335, 472.90131689168675, 619.9992338523818, 143.77613061740243, 193.6079329115508, 255.0798005147162, 276.8243594211465, 995.29711649141, 425.02610283482846, 22.936556182955783, 6.828302716615085, 49.51333752911486, 30.06121784553685, 38.841900294344946, 16.45386381638322, 45.60655261725136, 60.108523065183846, 26.706799210369386, 31.622304044960185, 28.569140150205243, 57.87082192217894, 43.872218092579224, 24.929709418912168, 74.72788003969983, 31.590786234433114, 5.8465719818556225, 20.333722001472996, 54.07474840590781, 21.270669051821145, 7.981583410308294, 8.00095311375114, 30.460294436810752, 15.876974847125329, 38.894306631752194, 41.22028585681073, 51.92897098496138, 69.35324756998912, 70.74266571355447, 18.976283033187727, 69.7653153947297, 151.98682262375175, 45.543640009983775, 117.2629369746782, 227.62449725104557, 63.84588056741, 128.00505272314524, 531.1003168814892, 169.45493123250492, 11.661057165567685, 41.54219551779489, 57.45808079769672, 16.90887792508309, 10.643263418115362, 23.25576662439313, 17.378750090186436, 13.508312653637462, 34.24894168304813, 31.734971721764264, 18.02855506984948, 47.428809486577464, 30.460294436810752, 24.929709418912168, 31.573877733198447, 31.590786234433114, 19.264342310251973, 38.091163686630324, 19.492363493650252, 110.22408194924994, 7.447352626275294, 27.77269669315362, 21.765738829928452, 22.747462730061283, 23.43670941863454, 39.0940822507455, 16.485238031042364, 25.08158262849653, 9.02172693817155, 25.622749157283828, 34.150800295286395, 98.33048519875155, 283.79747787662427, 100.2702441487898, 104.87619762560885, 336.5961956652789, 138.97998580757002, 51.1459534893285, 54.45415670249944, 459.1482976483078, 229.06559590743086, 212.0131746956651, 217.36372772568674, 107.19378456594579, 76.77781547837748, 46.419397784085206, 44.16849456994222, 71.12178174638203, 115.96248796243067, 38.54123653458476, 37.41578492751327, 29.53762367801281, 27.286720463869827, 23.910365642655353, 42.73851112984109, 22.78491403558386, 21.65946242851237, 50.09923844713323, 20.534010821440873, 27.347638460377958, 19.40855921436938, 19.40855921436938, 103.3857053769033, 49.21720345126054, 38.84472237641831, 69.35324756998912, 20.505235124802866, 35.12870375038133, 23.853797694999507, 68.41222146217024, 145.2212913368829, 18.175612865634207, 397.47090377180615, 241.56487555121174, 108.84142976397015, 271.220005005162, 157.6663731304276, 585.386266592612, 343.6070349659252, 91.85087371607753, 74.29895159677291, 115.44794706980615, 131.01719993642013, 295.4719203772148, 155.81032214580387, 255.0798005147162, 169.2180187493798, 531.1003168814892, 102.11227936841102, 336.5961956652789, 164.45660827504113, 288.169989919852, 20.957503427301244, 29.987607600470064, 9.759977907815344, 9.759977907815344, 17.97394350002135, 17.08851558817666, 7.724064176999723, 34.40362885897183, 18.727696748085805, 30.58437411510814, 100.24600576446021, 103.91622991545646, 17.709739882677997, 5.688150446184105, 32.432949664474165, 17.941901314729108, 15.242557128788976, 30.327083200131145, 16.691547238242084, 16.995885263290187, 51.73210160897415, 50.280607452871344, 106.28474203028611, 16.77767147646381, 25.622749157283828, 55.53308021975034, 51.905822895443954, 54.07474840590781, 34.150800295286395, 84.92952184148312, 330.5204598390424, 484.91694798129424, 143.77613061740243, 35.52526517447409, 80.46751986589194, 46.10290067540646, 585.386266592612, 452.4557731303071, 11.644016836361617, 11.714985780747943, 18.85276692263388, 17.271274871719076, 100.2702441487898, 20.53318788836508, 68.28917584298394, 28.541485630343004, 26.601109106620058, 43.967537661321835, 17.819183035243945, 31.734971721764264, 40.684573950759614, 25.999884383233173, 13.508312653637462, 112.05918070716028, 25.191715791463682, 30.385603022963792, 41.16798661564109, 16.90887792508309, 17.378750090186436, 24.8793682886478, 12.805246691066197, 19.136674523445333, 63.84588056741, 294.0316599452983, 27.01964827376036, 35.40132845795922, 57.45808079769672, 29.755223954436588, 51.88375217303965, 98.33048519875155, 44.88897187977547, 96.98650238416322, 45.33254312817073, 47.93413652005921, 134.6567621904342, 69.7653153947297, 227.62449725104557, 193.7000834868426, 1206.8235918787768, 123.81014764619232, 295.4719203772148, 182.27794206568547, 510.5833711995822, 63.46938023966032, 60.14620559942188, 53.499856318945, 63.164323197508125, 39.00136045191723, 16.944935276322223, 69.01848029940126, 10.29858599584536, 26.964299778993148, 38.467467712795596, 98.4752001640561, 23.955221783192002, 19.553608653981886, 6.975411355606922, 26.574408411916423, 17.230391105300203, 148.9356718061318, 51.07218545824613, 294.0316599452983, 169.28221190467318, 23.80400528070326, 26.706799210369386, 123.81014764619232, 58.05608821746503, 43.967537661321835, 31.590786234433114, 48.038081003909845, 17.378750090186436, 484.91694798129424, 41.16798661564109, 519.8000023827361, 121.15994509593622, 330.5204598390424, 176.0345102882637, 331.7399161621664, 288.169989919852, 333.02550012681763, 126.79639710997448, 995.29711649141, 151.98682262375175, 87.17337569707936, 48.58977801480809, 46.449895095787156, 41.10018779823483, 104.5512932247035, 35.75048050068249, 33.61059758166156, 29.330831743619694, 27.19094882459876, 25.051065905577826, 156.8173394881299, 22.911182986556895, 49.76665727801063, 21.841241527046428, 27.20271184845428, 20.77130006753596, 194.60630200917242, 63.710945388118674, 166.43691686054467, 27.2144748723098, 14.351651310473157, 105.47673990333554, 31.69612185611684, 46.694224782781035, 13.28170985096269, 52.8437781761521, 132.1450654894645, 53.13978938892852, 16.420565285107763, 16.50329725334961, 24.210953407495037, 44.577356685996406, 91.12313201623029, 75.16931889074573, 148.9356718061318, 201.54598210155228, 125.10593094365032, 415.8009871165177, 414.45805814514404, 459.1482976483078, 101.56709975926262, 121.15994509593622, 69.7653153947297, 126.79639710997448, 585.386266592612, 619.9992338523818, 134.95532430749992, 995.29711649141, 1206.8235918787768, 205.63894737807362, 519.8000023827361, 172.8951386126901, 17.15416545470688, 17.15416545470688, 51.306440943779094, 33.052419733772616, 19.27858957690251, 68.42796071777765, 35.982494438981284, 35.5336249905137, 35.7208245309, 55.35402704447711, 37.13538908055354, 38.726146874573985, 39.133729206940174, 61.07624143472441, 41.22028585681073, 100.80675822869075, 42.74769321030675, 24.615229646682852, 103.00781496734045, 84.47680149800198, 46.12001505561339, 383.1503036564252, 122.33485523688589, 51.92897098496138, 270.38640185611246, 105.13940742436924, 58.056235571475106, 137.74087222474833, 135.52915939515796, 147.1698270647392, 142.75365042208065, 288.169989919852, 866.4831412713335, 995.29711649141, 1206.8235918787768, 510.5833711995822, 148.43388961372733, 143.76558846747736, 365.7489315495736, 173.8397762316367, 169.45493123250492, 531.1003168814892, 145.76482416160195, 154.86587972051112, 230.04408807237235, 146.72296444746414, 174.9907286320409, 227.62449725104557, 425.02610283482846, 193.53634556099462, 331.7399161621664, 212.0131746956651, 333.02550012681763, 360.76846338881893, 404.56654745816905, 229.06559590743086, 35.694929066383025, 14.333134165706666, 25.30458776421411, 18.941147646814947, 38.84660041662676, 53.830684052021944, 115.09826827464971, 58.056235571475106, 64.03915425365406, 117.25209869652373, 122.33485523688589, 175.96164472254202, 343.6070349659252, 90.29537822411633, 100.80675822869075, 25.839325852356374, 99.11417115461707, 103.00781496734045, 336.5961956652789, 112.05918070716028, 117.2629369746782, 142.75365042208065, 131.01719993642013, 135.52915939515796, 137.74087222474833, 143.76558846747736, 145.76482416160195, 147.1698270647392, 154.86587972051112, 510.5833711995822, 1206.8235918787768, 365.7489315495736, 995.29711649141, 585.386266592612, 193.53634556099462, 214.5573325058582, 229.06559590743086, 270.38640185611246, 331.7399161621664, 866.4831412713335, 404.56654745816905, 230.04408807237235, 169.45493123250492, 193.7000834868426, 19.136674523445333, 24.8793682886478, 15.876974847125329, 134.6567621904342, 5.9628384185201035, 17.230391105300203, 17.709739882677997, 262.25631289401326, 18.727696748085805, 8.032144707078304, 38.467467712795596, 24.97673138622581, 11.493072363719978, 11.582321184883897, 22.319684193021583, 22.5419924365629, 12.698776637006814, 25.342618391272687, 14.522370094603836, 96.98650238416322, 32.699857824778725, 17.217354489235028, 35.52526517447409, 19.264342310251973, 58.00354841905296, 59.04404646971204, 43.84446639697632, 24.888747878315815, 28.409166049308787, 148.43388961372733, 73.01795121667796, 452.4557731303071, 143.74919129499241, 155.81032214580387, 1206.8235918787768, 35.93419772354051, 241.56487555121174, 42.332790349814445, 117.37073201246575, 317.90425286561236, 36.86797282173512, 22.43993419495653, 41.25552643529891, 25.731956028862278, 19.12445816914687, 18.019299493876986, 18.019299493876986, 25.795996084369396, 98.88057194161632, 39.16775441751959, 120.98313881463532, 17.48066753661922, 30.25152661019824, 414.45805814514404, 103.77183341043806, 46.678946892370476, 9.178030091717911, 61.456984905193416, 29.651237905355863, 67.01724699791781, 271.61160373937213, 65.15657770665217, 64.0514190313823, 16.344906841739487, 133.5033968785229, 67.08227806875813, 65.97711939348825, 68.26864767233775, 472.90131689168675, 69.00797843086409, 99.07488027053553, 258.04696365951463, 115.67110308808327, 253.38766303293949, 459.1482976483078, 76.78135027791166, 205.7486809786543, 283.79747787662427, 73.01795121667796, 452.4557731303071, 76.99539686772175, 127.77076734341111, 255.0798005147162, 77.96869162138003, 531.1003168814892, 182.28551690426173, 619.9992338523818, 866.4831412713335, 519.8000023827361, 1206.8235918787768, 995.29711649141], \"loglift\": [30.0, 29.0, 28.0, 27.0, 26.0, 25.0, 24.0, 23.0, 22.0, 21.0, 20.0, 19.0, 18.0, 17.0, 16.0, 15.0, 14.0, 13.0, 12.0, 11.0, 10.0, 9.0, 8.0, 7.0, 6.0, 5.0, 4.0, 3.0, 2.0, 1.0, 4.0014, 4.0014, 4.0014, 3.8022, 3.7589, 3.7233, 3.6844, 3.5313, 3.4553, 3.4389, 3.3876, 3.3837, 3.2688, 3.2639, 3.2493, 3.1616, 3.1263, 3.0385, 3.0351, 3.0274, 2.9695, 2.9014, 2.8562, 2.7824, 2.745, 2.7224, 2.6474, 2.5894, 2.5433, 2.5231, 2.4705, 2.4476, 2.4163, 2.3871, 1.9294, 2.0941, 2.08, 2.0917, 1.8026, 2.1041, 1.2363, 1.4733, 1.7294, 1.7757, 1.1242, 2.2963, 3.0828, 2.9121, 2.6589, 2.3007, 2.2237, 2.094, 2.0712, 2.0215, 1.9644, 1.9299, 1.8434, 1.8363, 1.8013, 1.7237, 1.69, 1.6816, 1.6599, 1.6381, 1.631, 1.5995, 1.5689, 1.561, 1.5567, 1.5506, 1.5303, 1.5269, 1.5089, 1.5026, 1.4988, 1.4146, 1.0375, 1.21, 0.8094, 0.9106, 0.5095, 1.3146, 1.1891, 1.046, 0.4087, 0.8899, 0.5798, 2.4679, 2.4428, 2.4379, 2.4242, 2.413, 2.4118, 2.4054, 2.3988, 2.3919, 2.3911, 2.3812, 2.3806, 2.3738, 2.3648, 2.3373, 2.3373, 2.32, 2.3033, 2.2992, 2.2818, 2.2723, 2.2676, 2.2523, 2.2421, 2.2407, 2.2336, 2.2272, 2.222, 2.218, 2.2113, 2.1662, 2.1467, 2.1588, 2.1326, 1.9043, 1.578, 1.5966, 1.7286, 1.7301, 1.8918, 1.9514, 1.407, 0.8519, 1.7136, 0.692, 1.6767, 1.7672, 0.7113, 1.6437, 0.6824, 1.1397, 1.5505, -0.323, 1.3497, 0.177, 1.2808, 2.8868, 2.8363, 2.8228, 2.8192, 2.8036, 2.7936, 2.7745, 2.7743, 2.7619, 2.7316, 2.7128, 2.7126, 2.7076, 2.6907, 2.6907, 2.6898, 2.6657, 2.6617, 2.612, 2.5893, 2.5729, 2.5618, 2.5424, 2.5414, 2.5261, 2.5158, 2.5039, 2.4958, 2.4954, 2.487, 2.4795, 2.4333, 2.3279, 2.3983, 2.4147, 2.1716, 2.4212, 2.3387, 2.1087, 2.1503, 1.9177, 2.2574, 2.1171, 1.5563, 2.3348, 2.1841, 1.2103, 1.8405, 1.0106, 2.0166, 1.0277, 0.8078, 1.2426, 2.32, 2.3074, 2.3016, 2.2093, 2.1558, 2.1162, 2.1021, 2.0628, 2.0387, 1.9887, 1.9291, 1.9277, 1.9225, 1.9133, 1.907, 1.8796, 1.7987, 1.7578, 1.7574, 1.6915, 1.6701, 1.663, 1.6577, 1.6483, 1.6002, 1.5901, 1.5442, 1.5343, 1.4946, 1.4621, 1.3362, 1.3648, 1.1151, 1.1783, 0.9591, 1.3033, 1.2427, 1.2913, 1.242, 1.1554, 1.0105, 1.0264, 1.1587, 1.1268, 0.1209, 0.5967, 0.803, 0.5831, 0.7348, 3.5378, 3.5104, 3.5074, 3.5023, 3.5015, 3.4231, 3.4022, 3.3823, 3.3823, 3.3616, 3.3569, 3.0269, 3.0056, 3.0048, 2.9818, 2.9727, 2.945, 2.911, 2.8693, 2.8403, 2.8387, 2.7369, 2.7122, 2.5849, 2.5838, 2.5756, 2.4095, 2.3249, 2.3229, 2.3145, 2.3021, 2.2826, 2.0782, 1.988, 2.0734, 1.7159, 1.8072, 1.9738, 1.8892, 1.5154, 1.0538, 1.3649, 1.3532, 0.7269, 1.983, 1.5352, 0.3878, 0.6904, 0.481, 3.5858, 3.5194, 3.4956, 3.4674, 3.3913, 3.3403, 3.3022, 2.8066, 2.6457, 2.5598, 2.5381, 2.5195, 2.5046, 2.4419, 2.3819, 2.3557, 2.3536, 2.3481, 2.3449, 2.3449, 2.3397, 2.3302, 2.3204, 2.3178, 2.2737, 2.2035, 2.1807, 2.1669, 2.1434, 2.1401, 2.0476, 1.9257, 1.7658, 1.6572, 1.7273, 1.5437, 1.3305, 1.8551, 1.1597, 0.7236, 1.3356, 1.254, 1.3094, 0.5776, 1.318, 1.9816, 1.158, 0.9836, 0.626, 1.084, 3.3437, 3.3062, 3.2983, 3.1492, 3.1345, 3.117, 3.0904, 3.0522, 2.9971, 2.9896, 2.986, 2.9636, 2.9384, 2.9027, 2.8975, 2.89, 2.882, 2.8569, 2.8218, 2.8113, 2.746, 2.7135, 2.6773, 2.6124, 2.5429, 2.5021, 2.4969, 2.4915, 2.4772, 2.4708, 2.1433, 1.6709, 1.6897, 2.0931, 2.0054, 2.2074, 1.9118, 1.2661, 1.5012, 1.7664, 1.2533, -0.3377, 0.4821, 1.6878, 1.0502, 1.5696, 3.0365, 2.9405, 2.7379, 2.5418, 2.4425, 2.4395, 2.3456, 2.048, 2.0309, 2.0223, 2.0213, 1.9873, 1.9726, 1.9343, 1.925, 1.9109, 1.8923, 1.8811, 1.8282, 1.8094, 1.8028, 1.7021, 1.6577, 1.5874, 1.5549, 1.5335, 1.4978, 1.4913, 1.4255, 1.4205, 1.3345, 1.2085, 0.8596, 1.1358, 1.0558, 0.9412, 0.6451, 0.7655, 3.433, 3.3156, 3.2803, 3.1539, 3.0561, 2.9734, 2.9469, 2.8979, 2.8839, 2.8502, 2.802, 2.7782, 2.7501, 2.6583, 2.6428, 2.5334, 2.4319, 2.3076, 2.2928, 2.2721, 2.2499, 2.2303, 2.121, 2.0959, 2.0637, 2.0564, 2.0493, 1.9915, 1.9894, 1.9762, 1.9219, 1.9522, 1.828, 1.7017, 1.5913, 1.5745, 1.3784, 1.4467, 1.4261, 1.1941, 1.6495, 0.4623, 3.4267, 3.4216, 3.4195, 3.414, 3.3552, 3.3349, 3.2905, 3.2837, 3.1934, 3.1474, 3.0847, 2.9924, 2.9881, 2.9639, 2.9564, 2.9265, 2.8495, 2.8404, 2.8144, 2.7567, 2.698, 2.6541, 2.5161, 2.416, 2.2456, 2.1654, 2.0788, 2.0619, 2.0133, 1.9364, 1.8039, 1.5244, 1.8215, 1.5687, 1.3103, 0.3014, 1.8867, 0.3984, -0.3825, 0.6896, 3.5642, 3.4721, 3.4376, 3.336, 3.1734, 3.1716, 3.1456, 3.113, 3.1003, 3.0484, 3.034, 3.0113, 3.0018, 2.9846, 2.9192, 2.8985, 2.853, 2.8383, 2.7797, 2.775, 2.6695, 2.6202, 2.5873, 2.539, 2.5155, 2.5118, 2.4951, 2.4443, 2.422, 2.3233, 2.1041, 1.8057, 1.4826, 1.2338, 1.4171, 1.1759, 1.0302, 1.4025, 3.2477, 3.1918, 3.1447, 3.1329, 3.1198, 3.0786, 3.0747, 3.0696, 3.0273, 2.9736, 2.956, 2.9222, 2.9139, 2.8874, 2.8136, 2.7904, 2.7767, 2.7683, 2.7674, 2.7603, 2.7141, 2.7119, 2.7086, 2.6797, 2.6751, 2.651, 2.6405, 2.6395, 2.6065, 2.5841, 2.5482, 2.517, 2.4497, 2.5406, 2.3337, 2.306, 2.4349, 2.297, 2.3611, 1.8504, 2.0488, 1.7608, 1.2153, 1.528, 1.4398, 1.4339, 1.3336, 1.6758, 1.5267, 0.7432, 3.0069, 2.9716, 2.8559, 2.7871, 2.778, 2.7156, 2.6167, 2.6167, 2.4738, 2.4445, 2.4424, 2.3707, 2.3471, 2.3394, 2.3304, 2.318, 2.3129, 2.3031, 2.2972, 2.286, 2.2791, 2.2758, 2.2667, 2.2667, 2.2639, 2.2521, 2.2445, 2.2312, 2.1801, 2.1721, 2.1535, 2.1572, 2.1351, 2.0032, 1.6849, 1.9405, 2.1366, 1.5437, 1.3048, 1.5087, 1.7749, 0.9148, 0.5303, 0.8711, 0.556, 1.6366, 1.339, 1.0633, 0.9815, -0.2982, 0.4842, 4.0816, 3.9315, 3.9145, 3.7248, 3.7078, 3.5498, 3.5473, 3.3397, 3.2445, 3.2274, 3.1771, 3.1561, 3.1481, 3.1343, 3.122, 3.0766, 3.0506, 2.8403, 2.8226, 2.7952, 2.7393, 2.7369, 2.7157, 2.6982, 2.6895, 2.6314, 2.5796, 2.5738, 2.554, 2.5199, 2.4361, 2.27, 2.3135, 2.0486, 1.7866, 2.1939, 1.8292, 0.6545, 1.2178, 4.0383, 3.9776, 3.7639, 3.6667, 3.6317, 3.527, 3.421, 3.3934, 3.2917, 3.2161, 3.1047, 3.0979, 3.0781, 3.0602, 3.0422, 3.0416, 3.0384, 3.0336, 3.0267, 3.0018, 2.9527, 2.9522, 2.9163, 2.8722, 2.8424, 2.8285, 2.8047, 2.7745, 2.7609, 2.7532, 2.7455, 2.4852, 2.2663, 2.2175, 2.0208, 1.3589, 1.7392, 2.3416, 2.2789, 0.696, 1.0605, 0.9196, 2.2158, 2.214, 2.1853, 2.1682, 2.164, 2.1635, 2.1568, 2.1512, 2.1482, 2.1199, 2.1086, 2.0873, 2.0795, 2.0787, 2.0691, 2.0653, 2.0583, 2.0578, 2.0462, 2.0462, 2.0461, 2.0277, 2.0057, 1.9998, 1.9912, 1.9889, 1.9726, 1.971, 1.9632, 1.9589, 1.9223, 1.9031, 1.9114, 1.8386, 1.8706, 1.6774, 1.6567, 1.8364, 1.8441, 1.7129, 1.6508, 1.423, 1.5812, 1.3895, 1.5264, 0.9436, 1.6928, 0.892, 1.0939, 0.3424, 4.1678, 3.9201, 3.9012, 3.9012, 3.8892, 3.7411, 3.7379, 3.6721, 3.5331, 3.5233, 3.4796, 3.4677, 3.4572, 3.3748, 3.299, 3.2924, 3.2764, 3.2717, 3.1856, 3.1675, 3.1398, 3.0262, 2.967, 2.9622, 2.936, 2.9269, 2.915, 2.8741, 2.6487, 2.6441, 1.8701, 1.3695, 1.6112, 2.6093, 1.9435, 2.3486, 0.0908, 0.0648, 4.0904, 3.9526, 3.7249, 3.6961, 3.5615, 3.5232, 3.3694, 3.3102, 3.2642, 3.2425, 3.2023, 3.0878, 3.06, 3.0035, 2.9814, 2.8741, 2.8561, 2.8476, 2.8275, 2.7569, 2.7295, 2.6503, 2.6454, 2.6331, 2.6094, 2.6005, 2.5678, 2.5158, 2.4941, 2.4713, 2.4644, 2.4376, 2.4574, 2.2857, 2.4476, 2.3918, 1.8631, 2.1683, 1.5188, 1.4996, 0.1967, 1.7264, 0.8566, 1.2079, 0.0261, 3.6059, 3.6029, 3.5956, 3.5539, 3.5095, 3.4416, 3.405, 3.2705, 3.1953, 3.1709, 3.1099, 3.0954, 3.0188, 3.0135, 2.9916, 2.7558, 2.753, 2.5566, 2.5476, 2.4437, 2.4327, 2.3176, 2.2501, 2.2102, 2.2085, 2.1497, 2.12, 2.1006, 1.9761, 1.8849, 1.4462, 1.6927, 1.2682, 1.1009, 0.6855, 0.608, 0.4634, 1.1494, -0.9111, 0.9682, 2.4071, 2.3866, 2.3829, 2.3721, 2.3587, 2.3579, 2.3509, 2.3335, 2.3226, 2.3097, 2.2959, 2.2942, 2.2887, 2.2852, 2.2759, 2.2752, 2.2636, 2.2489, 2.2444, 2.2269, 2.1786, 2.1769, 2.1693, 2.1552, 2.1518, 2.1489, 2.147, 2.1433, 2.1384, 2.1333, 2.122, 2.0685, 2.0086, 2.0191, 1.8715, 1.8201, 1.8612, 1.5566, 1.1091, 1.0363, 1.6727, 1.4964, 1.7537, 1.3535, 0.2537, 0.145, 1.2652, -0.346, -0.5387, 0.9198, 0.1288, 0.9909, 2.269, 2.269, 2.1871, 2.1804, 2.1522, 2.1437, 2.1378, 2.108, 2.1027, 2.0831, 2.0639, 2.0219, 2.0115, 1.9847, 1.9595, 1.9346, 1.9231, 1.9079, 1.857, 1.8182, 1.803, 1.7837, 1.741, 1.6843, 1.667, 1.6469, 1.617, 1.6041, 1.5826, 1.5562, 1.5497, 1.4812, 1.2342, 1.1733, 0.9567, 1.1401, 1.5293, 1.5236, 1.1703, 1.4253, 1.4332, 0.9741, 1.4904, 1.4492, 1.2451, 1.4234, 1.3271, 1.1731, 0.7783, 1.264, 0.8947, 1.1728, 0.7396, 0.6412, 0.508, 1.0578, 4.0315, 3.8514, 3.8257, 3.5726, 2.8543, 2.6938, 2.4568, 2.4525, 2.4407, 2.4382, 2.3958, 2.0323, 2.031, 2.0109, 1.987, 1.9865, 1.9177, 1.8791, 1.8174, 1.7949, 1.6551, 1.6391, 1.6386, 1.6048, 1.5886, 1.5458, 1.5319, 1.5224, 1.4714, 1.4577, 1.14, 1.3006, 0.9904, 0.8746, 1.3347, 1.2316, 1.1662, 1.0003, 0.7958, -0.1642, 0.5111, 1.0757, 1.3814, 4.0333, 3.5986, 3.5544, 3.5057, 3.4984, 3.449, 3.4239, 3.3965, 3.3563, 3.3406, 3.151, 3.1186, 3.0526, 2.7928, 2.785, 2.7757, 2.7657, 2.693, 2.6486, 2.5588, 2.5247, 2.3938, 2.3886, 2.3109, 2.2762, 2.2101, 2.1923, 2.1005, 2.0201, 1.8878, 1.7683, 1.5904, 0.6537, 0.9131, 0.8325, -1.2146, 1.6528, -0.2526, 2.4052, 2.3926, 2.3842, 2.321, 2.3208, 2.31, 2.2945, 2.2878, 2.2737, 2.2737, 2.2383, 2.2048, 2.1866, 2.1549, 2.1384, 2.1327, 2.1305, 2.0791, 2.0112, 2.005, 2.0035, 1.9178, 1.9169, 1.9162, 1.9153, 1.9017, 1.8905, 1.8896, 1.8862, 1.8721, 1.8686, 1.7325, 1.8579, 1.8275, 1.6943, 1.7756, 1.623, 1.3467, 1.8379, 1.4869, 1.3522, 1.8312, 1.0536, 1.807, 1.5731, 1.147, 1.7945, 0.6883, 1.2393, 0.3233, 0.078, 0.3663, -0.6943, -0.6444], \"logprob\": [30.0, 29.0, 28.0, 27.0, 26.0, 25.0, 24.0, 23.0, 22.0, 21.0, 20.0, 19.0, 18.0, 17.0, 16.0, 15.0, 14.0, 13.0, 12.0, 11.0, 10.0, 9.0, 8.0, 7.0, 6.0, 5.0, 4.0, 3.0, 2.0, 1.0, -4.3608, -4.3608, -4.3608, -4.4772, -4.609, -4.7608, -4.9398, -4.9398, -3.6731, -3.7902, -4.7608, -3.9964, -5.1581, -5.1581, -4.9398, -4.9398, -4.1621, -5.8271, -5.8271, -4.3608, -5.4377, -3.4292, -4.609, -5.1581, -4.7608, -5.1581, -4.609, -5.4377, -3.6731, -5.4377, -3.6194, -3.6194, -3.5683, -3.4292, -2.5599, -3.6194, -3.9964, -4.0759, -3.7902, -4.1621, -3.4292, -4.0759, -4.3608, -4.4772, -4.3608, -4.609, -4.2871, -4.195, -4.3198, -4.1661, -2.7469, -4.3885, -4.195, -4.195, -4.3198, -5.2311, -4.4624, -4.2871, -4.4624, -4.3885, -4.3198, -4.2555, -3.5956, -4.3198, -4.3198, -4.195, -4.4248, -4.2248, -4.3198, -4.3198, -4.3885, -4.2555, -3.8103, -4.4248, -4.2555, -3.2688, -2.9785, -3.5796, -3.0139, -3.7335, -3.6451, -4.1661, -4.195, -4.2248, -4.138, -4.2248, -4.2871, -4.6548, -4.4546, -4.9792, -5.1013, -5.1918, -4.5497, -4.9792, -4.8366, -5.3452, -4.3271, -5.1455, -3.6054, -5.4623, -5.2404, -5.6685, -5.6685, -4.8039, -5.8342, -4.2319, -5.9286, -5.5949, -5.2914, -5.402, -5.5949, -5.1013, -4.2689, -4.6829, -5.6685, -5.1455, -5.9286, -4.575, -4.7118, -4.9416, -4.9792, -4.2503, -3.4528, -3.5217, -4.0201, -4.1124, -4.575, -4.7416, -3.909, -3.8831, -4.7118, -4.1124, -4.7416, -4.8039, -4.3888, -4.7722, -4.4322, -4.6548, -4.7722, -4.4776, -4.7722, -4.7118, -4.7722, -4.2183, -3.9054, -4.3292, -4.8578, -4.6763, -4.7629, -4.2722, -5.1438, -5.2123, -5.3653, -5.4516, -2.9902, -4.6763, -5.546, -5.546, -5.2859, -4.1671, -4.3897, -5.3653, -4.8093, -4.8093, -5.0797, -4.9626, -5.7667, -4.8093, -3.4147, -5.8984, -5.0797, -4.6763, -5.0797, -4.9626, -4.5966, -3.8677, -4.3897, -4.5966, -3.7793, -4.6763, -4.4213, -3.9054, -4.0496, -3.9247, -4.559, -4.454, -4.1924, -4.8093, -4.7187, -4.1671, -4.5228, -4.4213, -4.6763, -4.5228, -4.4878, -4.6763, -4.2373, -2.4861, -4.8009, -5.6168, -5.4512, -5.8155, -4.4656, -5.3776, -6.3945, -3.732, -5.3776, -3.7597, -5.8155, -3.7739, -5.1279, -5.9319, -4.2373, -4.3324, -4.4102, -5.6168, -4.3836, -5.9319, -3.3594, -4.4102, -5.8155, -2.8992, -6.8924, -6.3945, -3.171, -4.3324, -3.58, -4.3836, -3.0395, -3.5567, -2.8642, -4.4102, -4.3078, -4.4945, -4.5549, -4.4375, -4.2603, -4.3577, -4.4945, -4.4656, -3.895, -4.193, -4.3078, -4.2837, -4.3836, -3.7803, -3.7803, -4.0569, -4.0976, -3.8426, -4.14, -4.0976, -4.7866, -4.7866, -3.1039, -4.4407, -4.7866, -3.0017, -4.8729, -5.4715, -4.2305, -4.9673, -5.1879, -4.8729, -4.7866, -4.8729, -4.9673, -5.3197, -5.4715, -5.4715, -5.3197, -3.449, -5.6506, -6.1484, -6.1484, -4.3301, -5.6506, -3.9803, -3.3266, -3.9803, -3.0442, -3.9803, -4.2791, -4.2791, -4.0976, -3.7505, -4.1842, -4.1842, -4.14, -4.5651, -4.5651, -4.501, -4.5651, -4.6336, -4.4079, -4.7157, -4.8101, -4.9144, -5.1625, -5.0308, -4.9144, -6.3807, -4.55, -4.55, -4.55, -3.6538, -5.1625, -4.8101, -4.6294, -5.1625, -4.8101, -4.9144, -4.0734, -4.9144, -4.6294, -5.4934, -3.2288, -5.0308, -5.0308, -4.6294, -5.1625, -4.55, -4.55, -4.4079, -4.2835, -3.8231, -3.3137, -3.0778, -3.8231, -3.7519, -3.5363, -4.2835, -3.9404, -3.8231, -4.2267, -4.2267, -4.3438, -4.2267, -4.4764, -4.6294, -4.6294, -4.6294, -4.6294, -4.6294, -3.7975, -3.7177, -4.4341, -5.1755, -4.1219, -5.2919, -4.7376, -4.1609, -4.7376, -5.2919, -4.1609, -4.9769, -5.4237, -5.4237, -5.4237, -4.5447, -4.7376, -4.6691, -4.605, -4.8112, -5.0713, -4.4879, -4.6691, -5.5755, -5.5755, -5.1755, -5.1755, -4.7376, -4.8112, -4.6691, -3.092, -2.8184, -2.9759, -4.0843, -3.9793, -4.4879, -4.2882, -3.6678, -4.3345, -4.5447, -4.4341, -4.1609, -4.4341, -4.7376, -4.7376, -4.7376, -4.0748, -4.0748, -3.0046, -2.9956, -4.0236, -5.0003, -5.7549, -3.2712, -3.9061, -3.9285, -3.9061, -6.0857, -5.0003, -4.0236, -3.9515, -2.9779, -4.1014, -4.1287, -4.3105, -3.9515, -3.9515, -3.9515, -4.1287, -3.9749, -5.9067, -3.9515, -2.3255, -3.1921, -2.5904, -4.1287, -4.1568, -3.9061, -3.2949, -3.9749, -3.9749, -3.9749, -3.999, -4.1014, -4.2497, -3.3166, -3.7211, -3.9509, -3.8459, -5.0421, -3.6641, -5.1586, -3.6641, -5.6212, -3.6641, -3.6368, -3.6368, -5.4421, -5.2903, -5.4421, -5.8394, -3.7509, -3.8459, -3.7816, -5.2903, -5.4421, -5.6212, -3.4415, -4.3545, -5.4421, -3.6641, -3.7509, -3.6641, -3.6368, -2.945, -3.6102, -3.7211, -3.6641, -3.6641, -3.7211, -3.5104, -3.6641, -3.6922, -3.6102, -4.1548, -3.6922, -3.6163, -3.15, -3.7205, -3.5218, -3.8369, -3.5218, -3.9687, -4.1205, -4.1205, -3.8369, -3.8369, -5.8335, -4.7974, -4.7974, -3.7205, -4.1205, -4.1205, -4.7974, -5.1869, -3.7205, -5.8335, -5.8335, -5.1869, -3.8369, -5.8335, -5.1869, -5.8335, -5.8335, -5.8335, -4.7974, -2.8795, -2.4916, -4.7974, -3.9687, -3.7205, -3.5218, -5.1869, -4.5178, -5.1869, -5.1869, -2.331, -4.1363, -3.7364, -3.8528, -2.5401, -2.8954, -4.8132, -4.5336, -4.3154, -4.8132, -4.5336, -4.8132, -3.1658, -3.1056, -3.4514, -4.1363, -2.8954, -5.8493, -5.2027, -5.2027, -4.5336, -5.8493, -5.8493, -5.2027, -4.5336, -5.8493, -4.8132, -3.372, -5.8493, -5.8493, -5.2027, -4.8132, -4.5336, -4.3154, -4.5336, -4.3154, -4.8132, -5.2027, -3.4699, -4.4678, -4.0642, -4.2239, -4.5849, -4.7911, -4.3145, -4.649, -4.2239, -4.5849, -4.7175, -4.7911, -4.363, -5.5554, -5.5554, -4.8705, -5.2719, -4.3145, -5.1554, -5.5554, -5.5554, -5.5554, -4.5849, -2.5507, -4.9568, -5.5554, -4.7911, -4.363, -5.2719, -5.1554, -4.2681, -4.3145, -3.7235, -4.7175, -3.9592, -3.8642, -4.4678, -4.363, -4.649, -3.993, -4.3145, -4.2239, -3.8642, -4.3145, -4.3145, -4.3145, -4.3145, -4.414, -4.414, -4.414, -4.8205, -4.5356, -4.3826, -3.56, -5.0687, -3.5916, -6.2869, -6.2869, -5.8974, -3.6243, -4.1329, -4.3141, -4.3826, -4.3141, -4.3826, -4.7163, -4.3826, -4.4562, -4.3826, -4.4562, -5.6178, -3.56, -6.9335, -6.9335, -4.3141, -4.4562, -5.8974, -3.7669, -4.3826, -4.4562, -3.56, -4.3826, -4.5356, -3.3627, -3.4152, -4.3826, -4.937, -3.806, -3.4995, -3.806, -4.25, -3.7293, -3.6243, -3.889, -3.9332, -4.3141, -4.3141, -4.3141, -4.3141, -4.3141, -4.3826, -3.7047, -5.0665, -3.1023, -3.7909, -3.5517, -4.5686, -3.5517, -3.4832, -4.3896, -4.2378, -4.3896, -3.7047, -3.9896, -4.5686, -3.4832, -4.3896, -6.1026, -5.0665, -4.106, -5.0665, -6.1026, -6.1026, -4.7869, -5.4559, -4.5686, -4.5686, -4.3896, -4.106, -4.106, -5.4559, -4.2378, -3.6253, -4.7869, -4.106, -3.7047, -4.5686, -4.2378, -3.9896, -4.5686, -4.4245, -3.2147, -3.104, -4.4245, -4.9223, -4.2454, -4.6427, -4.9223, -4.0936, -4.2454, -4.9223, -3.9619, -4.4245, -4.6427, -4.4245, -4.4245, -4.9223, -4.2454, -4.9223, -3.2147, -5.9584, -4.6427, -4.9223, -4.9223, -4.9223, -4.4245, -5.3118, -4.9223, -5.9584, -4.9223, -4.6427, -3.8455, -3.0045, -4.0936, -4.2454, -3.7412, -4.2454, -4.6427, -4.6427, -4.0936, -4.4245, -4.6427, -3.3216, -4.0304, -4.3928, -4.9131, -4.967, -4.4911, -4.0089, -5.1161, -5.1487, -5.4134, -5.504, -5.6574, -5.0844, -5.7142, -5.7745, -4.9397, -5.8386, -5.5526, -5.9071, -5.9071, -4.2345, -4.9951, -5.2537, -4.68, -5.9071, -5.3711, -5.7745, -4.7225, -3.9775, -6.0601, -3.0116, -3.5287, -4.3177, -3.4775, -3.9879, -2.8694, -3.4228, -4.5624, -4.7668, -4.4573, -4.3928, -3.8075, -4.2892, -3.9879, -4.2614, -3.7005, -4.6001, -4.2082, -4.7225, -4.9131, -3.7087, -3.5981, -4.7395, -4.7395, -4.1408, -4.3395, -5.1368, -3.7087, -4.4559, -3.9752, -2.8318, -2.8077, -4.5877, -5.8059, -4.1408, -4.7395, -4.9185, -4.2353, -4.9185, -4.9185, -3.8331, -3.9752, -3.2859, -5.1368, -4.7395, -3.9752, -4.0546, -4.0546, -4.7395, -3.8331, -3.2483, -3.3656, -4.3395, -4.7395, -4.5877, -4.7395, -4.4559, -4.7395, -4.3738, -4.5056, -4.2574, -4.3738, -2.7497, -4.3738, -3.3258, -4.2574, -4.3738, -3.8931, -4.8364, -4.3738, -4.1531, -4.6574, -5.3343, -3.3258, -4.8364, -4.6574, -4.3738, -5.3343, -5.3343, -5.0547, -5.7237, -5.3343, -4.1531, -2.6349, -5.0547, -4.8364, -4.3738, -5.0547, -4.5056, -3.8931, -4.6574, -4.0587, -4.6574, -4.6574, -4.1531, -4.5056, -3.9725, -4.1531, -3.6266, -4.3738, -4.3738, -4.5056, -4.6574, -3.1625, -3.2193, -3.3437, -3.2193, -3.7459, -4.6474, -3.2796, -5.3165, -4.4292, -4.0983, -3.2193, -4.6474, -4.927, -5.9631, -4.6474, -5.3165, -3.1625, -4.4292, -2.6877, -3.3437, -5.3165, -5.3165, -3.8501, -4.6474, -4.927, -5.3165, -4.927, -5.9631, -2.7589, -5.3165, -3.2193, -4.4292, -3.8501, -4.6474, -4.4292, -4.6474, -4.6474, -4.927, -4.927, -4.927, -4.044, -4.649, -4.6977, -4.8309, -3.9106, -4.9845, -5.0533, -5.2069, -5.2935, -5.3883, -3.568, -5.4932, -4.7229, -5.55, -5.3398, -5.6102, -3.3844, -4.5158, -3.56, -5.3883, -6.0765, -4.0836, -5.2935, -4.9202, -6.1808, -4.8028, -3.8881, -4.8028, -5.9821, -5.9821, -5.6102, -5.0533, -4.3982, -4.5802, -4.044, -3.7929, -4.2286, -3.3322, -3.7829, -3.7534, -4.6255, -4.6255, -4.9202, -4.7229, -4.2931, -4.3443, -4.7489, -4.3619, -4.3619, -4.6731, -4.5368, -4.7754, -5.8078, -5.8078, -4.7941, -5.2406, -5.8078, -4.5496, -5.1982, -5.2406, -5.2406, -4.8222, -5.2406, -5.2406, -5.2406, -4.8222, -5.2406, -4.3712, -5.2406, -5.8078, -4.4272, -4.6644, -5.2848, -3.1869, -4.3712, -5.2848, -3.6521, -4.6169, -5.2406, -4.3896, -4.4272, -4.3712, -4.4082, -3.7742, -2.9204, -2.8427, -2.8666, -3.5433, -4.3896, -4.4272, -3.8467, -4.3356, -4.3533, -3.67, -4.4466, -4.4272, -4.2357, -4.5071, -4.4272, -4.3182, -4.0886, -4.3896, -4.2199, -4.3896, -4.3712, -4.3896, -4.4082, -4.4272, -3.3125, -4.4051, -3.8623, -4.4051, -4.4051, -4.2394, -3.7164, -4.4051, -4.3188, -3.7164, -3.7164, -3.7164, -3.0485, -4.4051, -4.3188, -5.6806, -4.4051, -4.4051, -3.2827, -4.4051, -4.4995, -4.3188, -4.4051, -4.4051, -4.4051, -4.4051, -4.4051, -4.4051, -4.4051, -3.2257, -2.6833, -3.7164, -3.0256, -3.6722, -4.3188, -4.3188, -4.3188, -4.3188, -4.3188, -4.3188, -4.4051, -4.4051, -4.4051, -1.6194, -4.3688, -4.1506, -4.6484, -2.5179, -5.6845, -4.6484, -4.6484, -1.9934, -4.6484, -5.6845, -4.1506, -4.6484, -5.6845, -5.6845, -5.0379, -5.0379, -5.6845, -5.0379, -5.6845, -3.8197, -5.0379, -5.6845, -5.0379, -5.6845, -4.6484, -4.6484, -5.0379, -5.6845, -5.6845, -4.1506, -5.0379, -4.1506, -5.0379, -5.0379, -5.0379, -5.6845, -5.6845, -4.7682, -3.7611, -2.7731, -4.9907, -5.4874, -4.8892, -5.3768, -5.6803, -5.7538, -5.7538, -5.4305, -4.1203, -5.0645, -3.9685, -5.9195, -5.3768, -2.7615, -4.1977, -5.0645, -6.6972, -4.7971, -5.6117, -4.7971, -3.3985, -4.8269, -4.8576, -6.2346, -4.1353, -4.8269, -4.8576, -4.8269, -3.0276, -4.8269, -4.4956, -3.6715, -4.3927, -3.7611, -3.4429, -4.7402, -4.1055, -3.9185, -4.7971, -3.7507, -4.7682, -4.4956, -4.2304, -4.7682, -3.9557, -4.4742, -4.166, -4.0765, -4.2993, -4.5176, -4.6603]}, \"token.table\": {\"Topic\": [4, 14, 17, 25, 14, 25, 25, 7, 10, 13, 16, 14, 21, 8, 21, 21, 8, 21, 4, 13, 18, 11, 14, 17, 25, 3, 4, 7, 8, 19, 22, 3, 7, 13, 17, 24, 3, 7, 7, 13, 15, 16, 22, 5, 13, 6, 11, 17, 21, 3, 6, 14, 24, 25, 16, 17, 19, 1, 14, 7, 13, 17, 22, 23, 16, 17, 1, 17, 18, 3, 4, 6, 7, 13, 14, 20, 21, 3, 11, 13, 4, 5, 13, 14, 17, 21, 25, 4, 6, 17, 3, 6, 7, 10, 17, 6, 10, 18, 19, 21, 1, 6, 24, 1, 3, 3, 7, 21, 8, 16, 19, 21, 6, 13, 18, 1, 5, 7, 8, 13, 16, 21, 23, 19, 21, 16, 23, 7, 10, 13, 14, 20, 25, 13, 14, 25, 1, 5, 8, 14, 18, 19, 20, 21, 25, 1, 16, 5, 8, 12, 14, 2, 1, 4, 18, 4, 14, 15, 17, 18, 24, 25, 17, 18, 11, 14, 25, 1, 5, 8, 16, 21, 25, 1, 6, 10, 8, 20, 7, 16, 22, 18, 24, 3, 7, 11, 15, 17, 22, 23, 2, 5, 11, 17, 21, 22, 8, 12, 13, 17, 17, 4, 15, 4, 7, 17, 15, 17, 4, 7, 17, 3, 6, 10, 13, 19, 11, 12, 12, 24, 25, 4, 7, 10, 13, 14, 17, 18, 24, 25, 3, 5, 6, 19, 24, 25, 6, 8, 13, 14, 15, 17, 19, 21, 25, 1, 8, 11, 21, 2, 3, 5, 6, 7, 9, 10, 14, 20, 21, 22, 23, 25, 3, 15, 17, 7, 13, 7, 13, 22, 4, 14, 17, 19, 20, 25, 8, 19, 21, 4, 15, 4, 13, 2, 4, 9, 11, 15, 22, 23, 2, 5, 6, 10, 19, 21, 25, 5, 9, 10, 16, 19, 24, 1, 2, 5, 9, 11, 18, 19, 21, 22, 23, 25, 1, 5, 8, 14, 20, 21, 25, 3, 4, 11, 13, 23, 1, 5, 13, 17, 20, 21, 25, 2, 5, 11, 21, 22, 21, 21, 21, 8, 17, 20, 4, 4, 5, 6, 16, 10, 18, 1, 4, 5, 8, 13, 17, 21, 25, 2, 3, 5, 9, 10, 14, 22, 23, 25, 2, 7, 9, 22, 23, 8, 3, 6, 16, 3, 5, 25, 2, 5, 7, 8, 15, 16, 18, 21, 22, 25, 4, 8, 13, 21, 6, 4, 7, 8, 11, 13, 14, 15, 17, 19, 21, 25, 1, 2, 5, 6, 7, 9, 10, 11, 14, 16, 17, 18, 21, 22, 23, 4, 7, 13, 21, 4, 5, 6, 7, 10, 12, 14, 17, 18, 19, 20, 21, 25, 2, 3, 4, 5, 6, 17, 19, 20, 22, 24, 3, 18, 1, 2, 3, 8, 16, 12, 21, 4, 16, 6, 11, 15, 3, 7, 12, 17, 3, 5, 11, 17, 19, 25, 2, 3, 5, 7, 9, 11, 12, 14, 15, 17, 22, 25, 6, 13, 21, 7, 13, 15, 18, 2, 3, 5, 8, 9, 11, 14, 17, 19, 21, 22, 23, 24, 25, 17, 18, 11, 5, 12, 19, 4, 5, 8, 16, 19, 20, 25, 5, 12, 15, 23, 10, 18, 20, 2, 4, 6, 9, 14, 15, 22, 23, 14, 25, 20, 24, 3, 4, 7, 17, 22, 5, 13, 14, 11, 4, 21, 3, 4, 12, 15, 9, 18, 21, 3, 15, 3, 13, 17, 23, 3, 4, 13, 17, 3, 7, 17, 19, 22, 23, 1, 8, 4, 16, 20, 9, 10, 1, 8, 16, 2, 3, 22, 23, 2, 3, 5, 7, 21, 3, 7, 13, 22, 25, 20, 4, 5, 8, 11, 13, 17, 21, 25, 17, 25, 4, 8, 11, 16, 8, 19, 3, 3, 7, 1, 3, 8, 4, 6, 13, 16, 8, 11, 16, 20, 1, 8, 11, 19, 24, 1, 3, 8, 10, 21, 6, 17, 2, 7, 11, 14, 17, 18, 21, 22, 23, 25, 19, 4, 16, 17, 21, 25, 3, 4, 15, 18, 21, 3, 13, 18, 24, 3, 4, 5, 7, 12, 23, 4, 17, 5, 6, 8, 15, 17, 21, 12, 17, 18, 4, 13, 15, 17, 4, 15, 16, 19, 4, 7, 14, 22, 1, 8, 2, 3, 4, 5, 6, 10, 12, 15, 17, 20, 21, 22, 23, 6, 9, 14, 18, 21, 25, 21, 2, 8, 14, 21, 4, 8, 16, 19, 23, 13, 15, 19, 3, 12, 19, 21, 16, 21, 4, 13, 12, 17, 25, 15, 17, 24, 15, 17, 21, 3, 9, 6, 17, 4, 6, 7, 1, 4, 8, 12, 13, 21, 24, 3, 4, 8, 21, 3, 6, 8, 17, 18, 21, 5, 5, 8, 11, 13, 17, 21, 8, 9, 18, 7, 17, 3, 13, 17, 21, 7, 17, 3, 4, 21, 4, 10, 15, 24, 3, 4, 6, 8, 9, 10, 24, 1, 4, 8, 11, 18, 19, 21, 3, 4, 13, 18, 1, 7, 18, 19, 21, 4, 21, 3, 13, 15, 17, 21, 13, 17, 17, 2, 5, 11, 19, 22, 1, 18, 21, 17, 17, 19, 5, 8, 4, 15, 1, 20, 21, 5, 6, 7, 10, 17, 5, 12, 16, 18, 11, 14, 3, 4, 17, 18, 7, 13, 14, 8, 14, 17, 19, 21, 25, 3, 25, 21, 21, 3, 7, 15, 1, 3, 16, 21, 24, 5, 8, 17, 21, 17, 4, 5, 19, 1, 3, 15, 17, 19, 21, 1, 3, 8, 17, 18, 19, 25, 17, 1, 13, 19, 2, 5, 7, 11, 16, 21, 22, 25, 1, 13, 16, 18, 19, 21, 24, 5, 6, 8, 13, 15, 16, 17, 19, 1, 8, 16, 21, 17, 21, 25, 8, 16, 2, 7, 8, 9, 10, 22, 23, 6, 17, 18, 2, 6, 12, 13, 14, 17, 18, 21, 25, 3, 15, 25, 4, 17, 6, 13, 15, 17, 18, 14, 17, 25, 1, 4, 13, 25, 1, 13, 16, 17, 13, 14, 6, 17, 4, 13, 17, 21, 1, 3, 7, 12, 13, 16, 17, 19, 5, 8, 16, 18, 19, 21, 1, 4, 21, 5, 8, 11, 19, 21, 2, 6, 7, 10, 17, 20, 22, 3, 16, 5, 8, 4, 24, 3, 4, 17, 1, 13, 18, 3, 6, 24, 3, 4, 15, 14, 1, 5, 8, 22, 7, 8, 14, 17, 19, 2, 9, 22, 23, 1, 16, 17, 18, 19, 21, 8, 16, 20, 3, 17, 16, 17, 18, 7, 4, 11, 18, 6, 12, 15, 17, 20, 2, 5, 7, 17, 21, 22, 23, 3, 4, 6, 17, 24, 13, 17, 1, 2, 3, 5, 8, 9, 11, 17, 21, 22, 23, 25, 2, 15, 21, 25, 1, 3, 4, 8, 12, 13, 19, 21, 5, 8, 12, 19, 21, 25, 3, 4, 16, 6, 21, 24, 3, 4, 7, 15, 21, 8, 11, 4, 6, 15, 17, 22, 23, 17, 4, 7, 8, 17, 18, 21, 25, 4, 8, 13, 17, 19, 21, 25, 3, 8, 21, 1, 8, 12, 21, 7, 1, 3, 1, 5, 8, 12, 19, 25, 15, 20, 7, 16, 22, 17, 20, 4, 10, 11, 17, 18, 6, 6, 10, 2, 14, 22, 25, 6, 12, 13, 18, 19, 14, 4, 7, 8, 13, 18, 6, 13, 16, 4, 22, 4, 21, 25, 6, 1, 2, 3, 5, 6, 7, 9, 10, 11, 14, 21, 22, 23, 25, 1, 7, 16, 17, 21, 11, 3, 4, 5, 7, 8, 9, 10, 11, 14, 19, 22, 23, 24, 25, 2, 3, 4, 6, 8, 9, 10, 13, 14, 16, 17, 18, 22, 23, 3, 8, 11, 16, 3, 17, 2, 17, 20, 22, 3, 17, 3, 4, 6, 16, 21, 2, 7, 8, 9, 10, 16, 21, 22, 23, 25, 4, 7, 15, 16, 22, 1, 8, 3, 7, 22, 2, 8, 15, 16, 18, 4, 13, 17, 1, 5, 8, 12, 21, 25, 4, 1, 3, 5, 7, 8, 11, 17, 21, 25, 1, 3, 8, 24, 4, 17, 22, 6, 10, 5, 8, 17, 20, 25, 1, 5, 7, 8, 13, 17, 21, 25, 2, 7, 13, 17, 22, 5, 8, 24, 25, 2, 9, 22, 23, 22, 4, 6, 7, 13, 24, 6, 8, 21, 8, 15, 17, 21, 13, 15, 17, 3, 13, 16, 8, 12, 15, 19, 21, 25, 2, 4, 7, 17, 21, 22, 23, 3, 4, 18, 8, 21, 2, 3, 6, 9, 10, 11, 14, 18, 19, 20, 21, 22, 23, 25, 1, 3, 13, 15, 21, 2, 4, 5, 6, 22, 2, 3, 4, 6, 8, 9, 10, 14, 15, 17, 20, 22, 23, 6, 18, 3, 4, 18, 21, 24, 18, 6, 7, 12, 14, 17, 18, 22, 25, 3, 4, 3, 4, 11, 13, 16, 2, 3, 4, 6, 7, 9, 11, 16, 18, 22, 25, 3, 4, 8, 13, 14, 24, 3, 4, 5, 11, 13, 4, 4, 6, 24, 11, 14, 25, 5, 8, 16, 17, 20, 3, 4, 5, 6, 7, 10, 11, 14, 16, 18, 21, 24, 25, 8, 15, 18, 20, 1, 5, 7, 12, 21, 7, 9, 10, 17, 23, 3, 18, 21, 25, 3, 13, 21, 3, 5, 12, 13, 11, 17, 6, 15, 5, 6, 8, 11, 13, 14, 17, 18, 21, 25, 5, 25, 3, 14, 17, 25, 8, 1, 15, 17, 24, 7, 10, 13, 4, 6, 7, 13, 17, 3, 7, 17, 21, 24, 3, 5, 6, 7, 8, 10, 13, 17, 18, 20, 21, 3, 6, 7, 10, 16, 17, 18, 6, 10, 17, 21, 24, 6, 3, 5, 16, 17, 21, 25, 3, 2, 3, 9, 22, 23, 3, 14, 15, 25, 14, 25, 1, 2, 3, 8, 9, 10, 12, 14, 15, 18, 22, 4, 13, 25, 24, 1, 2, 7, 9, 10, 12, 14, 17, 18, 21, 22, 23, 24, 2, 3, 5, 8, 9, 19, 21, 22, 4, 2, 4, 9, 22, 23, 3, 13, 6, 7, 10, 17, 14, 25, 4, 5, 6, 13, 19, 21, 24, 25, 21, 3, 13, 8, 17, 18, 21, 7, 15, 16, 20, 21, 17, 19, 22, 15, 17, 21, 22, 4, 17, 13, 15, 17, 1, 3, 13, 15, 21, 24, 3, 17, 18, 21, 1, 3, 6, 7, 10, 16, 17, 21, 1, 4, 5, 8, 14, 21, 25, 25, 15, 3, 6, 10, 17, 3, 5, 16, 18, 5, 12, 16, 17, 19, 21, 25, 12, 16, 19, 6, 17, 18, 4, 6, 10, 17, 4, 6, 19, 1, 5, 10, 12, 6, 10, 13, 18, 4, 7, 15, 17, 6, 10, 21, 3, 4, 13, 21, 4, 5, 12, 19, 4, 15, 18, 1, 4, 13, 15, 17, 21, 22, 3, 12, 14, 16, 22, 25, 5, 12, 13, 21, 3, 4, 7, 13, 18, 7, 22, 13, 17, 7, 8, 14, 15, 16, 19, 20, 4, 13, 14, 25, 1, 3, 4, 6, 10, 11, 18, 2, 8, 14, 17, 21, 3, 4, 13, 1, 2, 4, 6, 7, 9, 10, 12, 17, 19, 22, 4, 5, 8, 1, 2, 3, 4, 6, 8, 10, 16, 20, 5, 7, 8, 16, 18, 21, 25, 4, 12, 14, 16, 25, 10, 17, 18, 1, 10, 12, 21, 3, 6, 18, 20, 25, 3, 5, 8, 13, 17, 20, 3, 4, 19, 20, 3, 13, 18, 3, 8, 18, 3, 4, 7, 13, 15, 16, 18, 22, 23, 3, 4, 13, 15, 17, 6, 15, 16, 17, 24, 1, 4, 5, 7, 8, 16, 19, 21, 25, 3, 7, 15, 22, 23, 5, 8, 12, 13, 19, 20, 21, 2, 3, 16, 17, 2, 9, 15, 22, 23, 1, 5, 8, 17, 18, 21, 25, 3, 12, 21, 1, 1, 3, 4, 18, 21, 4, 6, 7, 13, 15, 16, 17, 17, 4, 5, 7, 8, 16, 17, 19, 22, 23, 1, 2, 5, 8, 21, 22, 1, 5, 12, 15, 2, 3, 22, 23, 5, 11, 25, 3, 16, 17, 18, 6, 13, 15, 3, 7, 13, 17, 24, 3, 13, 18, 25, 6, 5, 20, 21, 25, 4, 5, 8, 17, 20, 21, 24, 1, 21, 3, 4, 1, 2, 5, 15, 22, 7, 4, 6, 13, 15, 18, 3, 6, 15, 5, 8, 25, 5, 10, 11, 20, 2, 3, 5, 21, 22, 5, 13, 14, 18, 25, 1, 3, 4, 5, 12, 19, 3, 4, 6, 13, 14, 17, 4, 5, 6, 9, 10, 15, 18, 22, 23, 1, 2, 8, 12, 13, 17, 22, 24, 2, 22, 5, 8, 15, 21, 3, 8, 19, 21, 24, 3, 4, 5, 7, 18, 20, 21, 25, 3, 6, 15, 17, 18, 20, 12, 23, 3, 7, 15, 18, 21, 7, 18, 3, 21, 5, 15, 19, 1, 5, 8, 21, 25, 6, 9, 10, 11, 18, 16, 17, 19, 21, 25, 16, 3, 6, 9, 10, 21, 25, 4, 6, 14, 25, 4, 16, 17, 4, 8, 5, 3, 4, 5, 11, 4, 5, 7, 11, 14, 21, 25, 3, 9, 10, 14, 25, 3, 8, 14, 8, 13, 14, 8, 16, 17, 19, 4, 6, 15, 16, 18, 4, 7, 21, 24, 13, 17, 2, 5, 12, 16, 21, 22, 4, 3, 9, 1, 16, 19, 8, 19, 24, 7, 17, 2, 3, 9, 13, 14, 22, 23, 3, 6, 25, 2, 9, 22, 23, 3, 15, 3, 4, 5, 8, 18, 21, 3, 4, 6, 15, 17, 1, 2, 3, 9, 10, 11, 12, 14, 19, 22, 23, 24, 3, 7, 13, 15, 22, 23, 6, 18, 2, 3, 7, 8, 14, 16, 17, 21, 23, 3, 17, 18, 19, 21, 25, 4, 5, 6, 7, 10, 5, 12, 18, 19, 11, 19, 8, 25, 3, 1, 5, 25, 1, 4, 6, 11, 17, 21, 8, 3, 8, 4, 7, 21, 22, 7, 12, 13, 4, 11, 13, 2, 25, 13, 15, 17, 18, 4, 8, 12, 25, 8, 21, 13, 15, 17, 4, 13, 1, 5, 8, 11, 13, 19, 24, 9, 10, 16, 17, 19, 21, 18, 24, 3, 15, 17, 3, 7, 14, 15, 16, 17, 18, 3, 4, 11, 13, 17, 24, 3, 4, 8, 16, 19, 13, 17, 18, 25, 7, 13, 15, 17, 19, 21, 3, 4, 7, 8, 13, 4, 4, 11, 13, 16, 21, 3, 17, 1, 2, 8, 13, 14, 20, 22, 2, 3, 5, 7, 8, 9, 10, 13, 14, 20, 21, 22, 23, 25, 7, 1, 13, 5, 8, 11, 21, 25, 6, 17, 13, 17, 4, 5, 6, 10, 13, 21, 17, 24, 4, 8, 13, 16, 17, 19, 21, 24, 13, 19, 21, 3, 18, 23, 20, 24, 3, 13, 17, 18, 20, 21, 6, 16, 19, 20, 4, 19, 21, 11, 15, 21, 20, 1, 13, 19, 1, 3, 5, 12, 17, 21, 3, 4, 17, 20, 3, 5, 6, 20, 22, 3, 5, 8, 14, 16, 17, 21, 25, 3, 11, 19, 20, 21, 25, 1, 2, 3, 9, 10, 23, 2, 5, 6, 8, 9, 12, 15, 17, 19, 22, 23, 25, 3, 4, 12, 15, 16, 6, 15, 18, 13, 20, 4, 3, 13, 3, 4, 6, 13, 17, 18, 19, 17, 4, 8, 13, 21, 3, 8, 19, 20, 4, 13, 21, 7, 12, 15, 16, 17, 19, 2, 9, 22, 23, 2, 4, 5, 9, 11, 13, 14, 20, 21, 22, 23, 25, 4, 7, 22, 1, 4, 8, 19, 20, 21, 25, 6, 11, 3, 7, 9, 23, 1, 3, 4, 5, 6, 7, 19, 20, 21, 14, 25, 3, 18, 20, 4, 7, 17, 13, 14, 19, 3, 6, 7, 8, 10, 17, 18, 6, 8, 17, 18, 21, 25, 3, 4, 8, 15, 17, 19, 3, 4, 7, 8, 12, 15, 16, 3, 19, 24, 2, 4, 11, 17, 18, 2, 14, 16, 22, 25, 14, 25, 14, 25, 3, 6, 25, 4, 15, 17, 3, 4, 6, 10, 14, 4, 8, 7, 13, 18, 4, 13, 3, 4, 15, 17, 1, 2, 3, 5, 9, 13, 16, 21, 22, 23, 24, 25, 4, 13, 15, 3, 7, 11, 12, 13, 19, 21, 4, 21, 1, 3, 7, 8, 17, 21, 25, 3, 13, 14, 16, 18, 3, 4, 6, 13, 24, 3, 4, 24, 12, 14, 21, 25, 6, 18, 1, 3, 4, 8, 13, 15, 16, 18, 19, 21, 1, 6, 13, 16, 18, 19, 21, 25, 4, 17, 25, 5, 25], \"Freq\": [0.062219622746172126, 0.37331773647703276, 0.062219622746172126, 0.3110981137308606, 0.24472455173530402, 0.5506302414044341, 0.6537350542590061, 0.17643244854294382, 0.5954595138324354, 0.044108112135735955, 0.11027028033933989, 0.5330747963515243, 0.8925756207431566, 0.036761040795159634, 0.8455039382886715, 0.8184369752844585, 0.060593951902371136, 0.7271274228284537, 0.6388006115252243, 0.22219151705225193, 0.02777393963153149, 0.19238324109925684, 0.34201465084312327, 0.021375915677695204, 0.38476648219851367, 0.4360228850571548, 0.022360147951648965, 0.0670804438549469, 0.16770110963736723, 0.011180073975824482, 0.2571417014439631, 0.4064762060695033, 0.10161905151737582, 0.20323810303475165, 0.11855556010360513, 0.11855556010360513, 0.07823964663049263, 0.625917173043941, 0.0970395987522995, 0.024259899688074876, 0.1212994984403744, 0.07277969906422463, 0.582237592513797, 0.9439646796423512, 0.012756279454626367, 0.34036074655188964, 0.24311481896563544, 0.09724592758625418, 0.14586889137938128, 0.013695262375036222, 0.013695262375036222, 0.3423815593759056, 0.0684763118751811, 0.5204199702513764, 0.47312423896162753, 0.11828105974040688, 0.1774215896106103, 0.04543291724705601, 0.8177925104470082, 0.1309635584279075, 0.11350175063751983, 0.5529572466956094, 0.06984723116155067, 0.12223265453271366, 0.09980191625619629, 0.8383360965520488, 0.04679620199973579, 0.8423316359952442, 0.023398100999867895, 0.015623791889386873, 0.5312089242391537, 0.06249516755754749, 0.09374275133632123, 0.06249516755754749, 0.031247583778773746, 0.06249516755754749, 0.1093665432257081, 0.8248336401131047, 0.48648973740176327, 0.3243264916011755, 0.004860298473085942, 0.28675760991207055, 0.004860298473085942, 0.048602984730859417, 0.08748537251554694, 0.18955164045035172, 0.3645223854814456, 0.08091674495021745, 0.445042097226196, 0.3236669798008698, 0.0673044520140148, 0.16153068483363553, 0.16153068483363553, 0.4711311640981036, 0.09422623281962073, 0.12170739393768733, 0.39831510743243126, 0.011064308539789756, 0.022128617079579513, 0.39831510743243126, 0.08960700262171788, 0.5376420157303072, 0.2240175065542947, 0.5039027966118748, 0.10078055932237494, 0.8544700270718297, 0.02513147138446558, 0.02513147138446558, 0.5377207049256423, 0.06721508811570528, 0.13443017623141057, 0.13443017623141057, 0.39014817199186497, 0.05573545314169499, 0.33441271885016993, 0.008688228024541436, 0.043441140122707174, 0.27802329678532595, 0.026064684073624306, 0.39097026110436456, 0.01737645604908287, 0.01737645604908287, 0.18245278851537014, 0.5975252664415172, 0.08536075234878816, 0.11855557687616698, 0.7508519868823909, 0.04650316295073189, 0.13563422527296803, 0.023251581475365945, 0.2906447684420743, 0.03875263579227658, 0.4495305751904083, 0.014648012434633255, 0.3954963357350979, 0.5419764600814304, 0.013603977206890444, 0.08502485754306527, 0.26867854983608624, 0.03400994301722611, 0.013603977206890444, 0.1564457378792401, 0.3298964472670933, 0.03400994301722611, 0.057816903129284385, 0.5255965901292738, 0.17519886337642462, 0.4514693910638714, 0.030097959404258093, 0.3611755128510971, 0.060195918808516186, 0.8912973175235112, 0.25573041958139414, 0.12786520979069707, 0.12786520979069707, 0.14074893927528798, 0.09521251774504776, 0.004139674684567294, 0.7078843710610072, 0.01241902405370188, 0.01241902405370188, 0.01241902405370188, 0.7702628848609938, 0.05501877749007099, 0.06511998007201486, 0.3776958844176862, 0.5209598405761189, 0.19759858217100543, 0.06586619405700181, 0.2963978732565081, 0.1646654851425045, 0.09879929108550271, 0.06586619405700181, 0.545922329648624, 0.07798890423551771, 0.07798890423551771, 0.8543203534392029, 0.081363843184686, 0.21542793001701202, 0.053856982504253005, 0.6462837900510361, 0.39526272245515826, 0.39526272245515826, 0.3986915023562637, 0.07752334768038462, 0.05537381977170329, 0.022149527908681316, 0.011074763954340658, 0.27686909885851646, 0.12182240349774724, 0.1880837631067688, 0.3056361150484993, 0.029388087985432628, 0.005877617597086525, 0.22922708628637448, 0.22922708628637448, 0.07746606661292134, 0.23239819983876403, 0.38733033306460674, 0.07746606661292134, 0.8338850859971273, 0.3749553281150888, 0.12498510937169628, 0.7393800587345367, 0.2016491069276009, 0.8364573047063997, 0.14753816344015508, 0.6885114293873903, 0.5825268947136444, 0.24104561160564597, 0.12052280580282299, 0.03408804456333235, 0.2045282673799941, 0.23861631194332644, 0.37496849019665585, 0.03408804456333235, 0.9316459565865329, 0.03881858152443887, 0.25901543845246705, 0.25901543845246705, 0.25901543845246705, 0.016457698071403182, 0.06583079228561273, 0.19200647749970376, 0.005485899357134393, 0.34012576014233237, 0.043887194857075144, 0.016457698071403182, 0.016457698071403182, 0.28526676657098843, 0.04153903876962305, 0.9291627093205157, 0.002186265198401213, 0.002186265198401213, 0.00655879559520364, 0.01311759119040728, 0.19144984707611082, 0.014726911313546986, 0.0036817278283867464, 0.17672293576256382, 0.0036817278283867464, 0.022090366970320477, 0.0036817278283867464, 0.007363455656773493, 0.5633043577431722, 0.37758917496023053, 0.3485438538094436, 0.1452266057539348, 0.029045321150786965, 0.023629180851278662, 0.2008480372358686, 0.011814590425639331, 0.15949697074613095, 0.07088754255383599, 0.035443771276917994, 0.047258361702557324, 0.011814590425639331, 0.29536476064098327, 0.04135106648973766, 0.047258361702557324, 0.011814590425639331, 0.029536476064098326, 0.041922045822063415, 0.041922045822063415, 0.7545968247971415, 0.07487249482915018, 0.8685209400181421, 0.19596412154329496, 0.027994874506184993, 0.6718769881484398, 0.17249503845939196, 0.11368991171187197, 0.4233969125821439, 0.003920341783167999, 0.015681367132671997, 0.25874255768908794, 0.45601913592442694, 0.1302911816926934, 0.19543677253904013, 0.3051896694588231, 0.5667808147092428, 0.8344344613567324, 0.03209363312910509, 0.19371600803315406, 0.006457200267771802, 0.28411681178195924, 0.058114802409946216, 0.012914400535543604, 0.3486888144596773, 0.07102920294548981, 0.1341817497862164, 0.2565239334148255, 0.007893044105071552, 0.015786088210143105, 0.007893044105071552, 0.14207479389128794, 0.4183313375687923, 0.05162620387140549, 0.030975722322843294, 0.06711406503282713, 0.015487861161421647, 0.05162620387140549, 0.7640678172968013, 0.011751264021590426, 0.1684347843094628, 0.04896360008996011, 0.18606168034184842, 0.18410313633825, 0.0019585440035984046, 0.011751264021590426, 0.03329524806117288, 0.256569264471391, 0.06854904012594416, 0.02154398403958245, 0.04617160425160687, 0.4116968045768279, 0.1712196990997088, 0.04040015372015601, 0.10965756009756632, 0.09619084219084764, 0.11927664431665108, 0.5015726713394022, 0.018576765605163043, 0.09288382802581521, 0.09288382802581521, 0.24149795286711956, 0.02272285907724327, 0.5604971905720006, 0.05302000451356762, 0.015148572718162178, 0.030297145436324356, 0.17420858625886504, 0.1287628681043785, 0.1677317259044753, 0.3123280413393678, 0.0289192630869785, 0.231354104695828, 0.24870566254801513, 0.8950928645389565, 0.8292893479637531, 0.7664623228389558, 0.8920596455447088, 0.022873324244736124, 0.9453377325166885, 0.7732412080648019, 0.11084352329141452, 0.22168704658282903, 0.11084352329141452, 0.22168704658282903, 0.6563166531138536, 0.2585489845600029, 0.6979647357993702, 0.7635690160789284, 0.053836560463307204, 0.053836560463307204, 0.0807548406949608, 0.67295700579134, 0.0942139808107876, 0.013459140115826801, 0.06809134210439824, 0.05655043666297481, 0.2815980927707317, 0.09925178679624151, 0.039239078500839665, 0.0669372515602559, 0.2815980927707317, 0.013849086529708118, 0.08886497189896042, 0.2288799863765855, 0.07356856704961677, 0.02452285568320559, 0.4659342579809062, 0.17165998978243913, 0.7469611529369914, 0.3430815645428409, 0.25731117340713067, 0.17154078227142044, 0.050420883651479655, 0.7563132547721948, 0.8467048002427, 0.11628010314575855, 0.25370204322710954, 0.010570918467796231, 0.007047278978530821, 0.0035236394892654106, 0.11980374263502395, 0.017618197446327054, 0.137421940081351, 0.0035236394892654106, 0.32065119352315236, 0.03895121214862658, 0.11685363644587975, 0.6621706065266519, 0.03895121214862658, 0.8730160618723039, 0.005031814859958225, 0.015095444579874676, 0.11069992691908095, 0.012579537149895563, 0.0025159074299791126, 0.05786587088951959, 0.007547722289937338, 0.7220654324040053, 0.007547722289937338, 0.0402545188796658, 0.007547722289937338, 0.0070583900141442495, 0.07293669681282391, 0.16469576699669916, 0.054114323441772576, 0.084700680169731, 0.08940627351249382, 0.1717541570108434, 0.011763983356907082, 0.06352551012729825, 0.004705593342762833, 0.054114323441772576, 0.0070583900141442495, 0.004705593342762833, 0.17881254702498764, 0.02588076338519558, 0.040745152555730746, 0.08149030511146149, 0.7334127460031534, 0.8241289753474067, 0.11559676347454968, 0.16978274635324486, 0.036123988585796775, 0.10475956689881065, 0.11920916233312936, 0.010837196575739033, 0.10475956689881065, 0.021674393151478066, 0.01444959543431871, 0.010837196575739033, 0.01444959543431871, 0.14088355548460743, 0.13365875776744807, 0.18863616706983152, 0.013474011933559396, 0.17516215513627215, 0.013474011933559396, 0.06737005966779698, 0.006737005966779698, 0.006737005966779698, 0.04715904176745788, 0.37727233413966305, 0.08084407160135637, 0.4792845076501453, 0.2995528172813408, 0.1723761238378751, 0.3084625373940923, 0.14515884112663166, 0.09979670327455926, 0.24495554440119094, 0.19248393119331283, 0.6416131039777094, 0.26855180630815334, 0.26855180630815334, 0.49453151596252337, 0.24726575798126169, 0.09890630319250468, 0.41697859997255293, 0.041697859997255296, 0.20848929998627647, 0.20848929998627647, 0.8145249341033313, 0.19273856614395554, 0.52039412858868, 0.03854771322879111, 0.13491699630076887, 0.03854771322879111, 0.10167570661052659, 0.015063067646003939, 0.0037657669115009848, 0.0037657669115009848, 0.07908110514152068, 0.016945951101754432, 0.005648650367251477, 0.0979099396990256, 0.018828834557504923, 0.2711352176280709, 0.21653159741130662, 0.16381086065029285, 0.019129366441231525, 0.04782341610307881, 0.8990802227378817, 0.03471671532396949, 0.6596175911554204, 0.06943343064793898, 0.10415014597190848, 0.09280561032589607, 0.01077207976997008, 0.24112886254317642, 0.02237278106070709, 0.187268463693326, 0.04060245451757953, 0.008286215207669293, 0.023201402581474018, 0.014086565853037797, 0.04971729124601575, 0.21378435235786775, 0.04971729124601575, 0.004143107603834646, 0.04143107603834646, 0.8243785550116565, 0.35160814027724946, 0.9366440464137374, 0.4177014471326857, 0.25062086827961144, 0.08354028942653714, 0.0299191452605654, 0.1196765810422616, 0.1795148715633924, 0.10970353262207314, 0.40889498522772716, 0.06981133894131927, 0.049865242100942335, 0.6169627376656763, 0.2879159442439823, 0.02056542458885588, 0.8964858829243939, 0.01583172191797427, 0.03166344383594854, 0.9024081493245334, 0.15343312709103782, 0.02360509647554428, 0.00590127411888607, 0.21834714239878458, 0.1357293047343796, 0.02950637059443035, 0.34227389889539206, 0.06491401530774676, 0.40923278021539117, 0.5304869373162479, 0.6239038186549717, 0.31195190932748584, 0.13227051298075299, 0.21366775173813946, 0.17296913235944622, 0.09157189360205976, 0.3561129195635658, 0.7604657782213667, 0.20622800765325197, 0.35855549681201326, 0.9330061191187988, 0.08037509888708956, 0.8439385383144403, 0.05181169856863386, 0.3108701914118031, 0.362681889980437, 0.10362339713726772, 0.4933254657847479, 0.33916125772701416, 0.06166568322309349, 0.4989817803481648, 0.3991854242785319, 0.31708575478554096, 0.003687043660296988, 0.6636678588534578, 0.7674525245370623, 0.7261613525845911, 0.03630806762922956, 0.18154033814614778, 0.8278947619063887, 0.2046871677931983, 0.09381495190521588, 0.2729162237242644, 0.017057263982766524, 0.2046871677931983, 0.1791012718190485, 0.20347206483379326, 0.6104161945013798, 0.4835704153265082, 0.2198047342393219, 0.1758437873914575, 0.41785218900608384, 0.35815901914807186, 0.16640268664775731, 0.38827293551143377, 0.27733781107959554, 0.2579192155055345, 0.01983993965427188, 0.5654382801467487, 0.11903963792563128, 0.20227041887046926, 0.24391432863791881, 0.39859170777416, 0.08328781953489911, 0.053542169701006566, 0.2045947278443852, 0.0146139091317418, 0.0292278182634836, 0.7014676383236064, 0.7769447422058356, 0.9345819491910363, 0.002412789377230055, 0.00482557875446011, 0.002412789377230055, 0.012063946886150275, 0.01447673626338033, 0.002412789377230055, 0.2581684633636159, 0.6972961300194859, 0.07753141198574855, 0.7753141198574854, 0.01955188889397962, 0.07820755557591848, 0.7038680001832662, 0.13686322225785733, 0.6636421959998401, 0.2457934059258667, 0.9041850666974458, 0.1340836611845595, 0.6033764753305177, 0.32613507480519877, 0.06522701496103975, 0.3913620897662385, 0.37829003617794177, 0.019910001904102196, 0.47784004569845273, 0.05973000571230659, 0.11018442600773212, 0.6611065560463928, 0.12854849700902082, 0.07345628400515475, 0.017209540914297577, 0.017209540914297577, 0.8432675048005812, 0.017209540914297577, 0.051628622742892726, 0.11671864615995726, 0.07781243077330484, 0.3890621538665242, 0.23343729231991453, 0.03890621538665242, 0.3423370460449247, 0.45644939472656626, 0.06149785544089898, 0.04612339158067423, 0.015374463860224745, 0.04612339158067423, 0.5654386153038211, 0.013666190097977551, 0.10932952078382041, 0.03758202276943826, 0.03758202276943826, 0.05978958167865178, 0.6870481305916545, 0.3078128520409818, 0.2565107100341515, 0.1539064260204909, 0.051302142006830295, 0.051302142006830295, 0.2906670119304053, 0.02906670119304053, 0.02906670119304053, 0.494133920281689, 0.02906670119304053, 0.512969883351787, 0.1578368871851652, 0.0394592217962913, 0.1972961089814565, 0.43759536415685546, 0.24437143712655565, 0.011366113354723519, 0.1534425302887675, 0.017049170032085278, 0.11934419022459694, 0.028120780313574473, 0.9139253601911703, 0.01896152651127543, 0.01896152651127543, 0.01896152651127543, 0.009480763255637716, 0.15169221209020345, 0.7489802971953795, 0.3412492677953364, 0.530832194348301, 0.614755489886455, 0.008623478312434778, 0.008623478312434778, 0.03449391324973911, 0.9140887011180866, 0.280789474212229, 0.20056391015159214, 0.280789474212229, 0.12033834609095527, 0.07017922546699386, 0.2339307515566462, 0.04678615031132924, 0.5614338037359509, 0.3309398961818155, 0.3309398961818155, 0.006579517768297138, 0.039477106609782826, 0.006579517768297138, 0.02631807107318855, 0.006579517768297138, 0.039477106609782826, 0.5592590103052567, 0.09211324875615992, 0.0526361421463771, 0.06579517768297137, 0.019738553304891413, 0.0526361421463771, 0.013159035536594275, 0.038660714291434334, 0.30928571433147467, 0.15464285716573734, 0.2899553571857575, 0.038660714291434334, 0.115982142874303, 0.878206144318255, 0.11371685473154555, 0.08270316707748768, 0.6409495448505295, 0.13439264650091745, 0.4372689474506307, 0.21417254569010485, 0.01784771214084207, 0.20524868961968382, 0.09816241677463139, 0.5384639329022682, 0.07692341898603833, 0.23077025695811498, 0.17518359292006871, 0.3153304672561237, 0.3153304672561237, 0.0700734371680275, 0.18198099380493504, 0.6066033126831168, 0.6804603180904855, 0.2070966185492782, 0.32215438484335024, 0.21476958989556683, 0.10738479494778341, 0.26618521274676843, 0.632189880273575, 0.04990972739001908, 0.1297704190552502, 0.7786225143315011, 0.04325680635175006, 0.14115989844847424, 0.786462291355785, 0.4015999569345569, 0.44175995262801265, 0.14331583709735446, 0.5254914026902997, 0.14331583709735446, 0.02363553352198163, 0.07090660056594489, 0.02363553352198163, 0.4963462039616142, 0.14181320113188978, 0.09454213408792651, 0.07090660056594489, 0.17988692771608358, 0.13491519578706268, 0.49468905121922985, 0.044971731929020896, 0.7141969873565097, 0.02856787949426039, 0.02856787949426039, 0.05713575898852078, 0.05713575898852078, 0.7529151074833318, 0.9242068614850456, 0.15989498932226953, 0.36547426130804467, 0.11421070665876396, 0.2284214133175279, 0.022842141331752792, 0.045684282663505583, 0.17555650076918702, 0.05851883358972901, 0.526669502307561, 0.19002452664380418, 0.7600981065752167, 0.00979314149272977, 0.3525530937382717, 0.5777953480710564, 0.02937942447818931, 0.3139991732587586, 0.6038445639591511, 0.8962612638262621, 0.017925225276525243, 0.017925225276525243, 0.12596858149977597, 0.06298429074988798, 0.12596858149977597, 0.4408900352492159, 0.022589200932802637, 0.050825702098805936, 0.050825702098805936, 0.01694190069960198, 0.6437922265848752, 0.18636090769562177, 0.01694190069960198, 0.047097874958790045, 0.2119404373145552, 0.023548937479395023, 0.48275321832759793, 0.17661703109546267, 0.011774468739697511, 0.011774468739697511, 0.666248033773886, 0.08883307116985145, 0.044416535584925726, 0.11104133896231431, 0.37573291491963023, 0.06262215248660503, 0.06262215248660503, 0.12524430497321007, 0.12524430497321007, 0.24676205180769625, 0.6729874140209897, 0.7246218548415528, 0.01207703091402588, 0.01207703091402588, 0.1690784327963623, 0.03623109274207764, 0.49481122716718645, 0.21206195450022278, 0.9087073828831661, 0.331451943059921, 0.023675138789994356, 0.05918784697498589, 0.04735027757998871, 0.5090154839848787, 0.256607608615471, 0.1283038043077355, 0.1283038043077355, 0.9282634692263553, 0.3473976324599365, 0.4631968432799153, 0.15508861055282355, 0.6203544422112942, 0.6458041385799387, 0.08072551732249234, 0.020142924550037095, 0.4028584910007419, 0.5505732710343473, 0.4933984155687553, 0.20815245656806863, 0.023128050729785403, 0.24669920778437765, 0.0077093502432618016, 0.5040922080660323, 0.10801975887129263, 0.25204610403301614, 0.07201317258086175, 0.23158832227352147, 0.6484473023658601, 0.05512606746356968, 0.1929412361224939, 0.7166388770264058, 0.009187677910594947, 0.09560853388668066, 0.4780426694334033, 0.28682560166004195, 0.26471049652060913, 0.044118416086768183, 0.044118416086768183, 0.13235524826030456, 0.19853287239045683, 0.24265128847722503, 0.05424762597256015, 0.8408382025746823, 0.882646654032462, 0.9245699846080028, 0.680665840350143, 0.15369873814358068, 0.08782785036776038, 0.15572812981024944, 0.051909376603416484, 0.2595468830170824, 0.20763750641366593, 0.15572812981024944, 0.15644537175400297, 0.3911134293850074, 0.23466805763100446, 0.11733402881550223, 0.8802333012101395, 0.46855793915989175, 0.15618597971996392, 0.15618597971996392, 0.01566271764306197, 0.17228989407368167, 0.07831358821530986, 0.4698815292918591, 0.1566271764306197, 0.03132543528612394, 0.03969558914835226, 0.07939117829670451, 0.11908676744505678, 0.31756471318681806, 0.03969558914835226, 0.1984779457417613, 0.03969558914835226, 0.8310455561586294, 0.0473912376274053, 0.7582598020384848, 0.0473912376274053, 0.1372105707952682, 0.16770180874977222, 0.00217794556817886, 0.0108897278408943, 0.02395740124996746, 0.23957401249967458, 0.09365165943169097, 0.3179800529541135, 0.2635370158878007, 0.1464094532710004, 0.20497323457940056, 0.17569134392520047, 0.11712756261680032, 0.6197335518493764, 0.2065778506164588, 0.0282714819950133, 0.04240722299251995, 0.0282714819950133, 0.3392577839401596, 0.12722166897755985, 0.07067870498753324, 0.282714819950133, 0.04240722299251995, 0.4245900908197882, 0.3746383154292249, 0.049951775390563315, 0.07492766308584498, 0.029843064130374363, 0.35811676956449234, 0.5670182184771129, 0.6818297213965817, 0.13636594427931634, 0.14467566760567752, 0.04650289315896777, 0.031001928772645182, 0.22734747766606467, 0.1808445845070969, 0.28935133521135503, 0.062003857545290364, 0.13121157973044778, 0.3280289493261195, 0.3280289493261195, 0.0812153678545919, 0.024989343955259043, 0.043731351921703326, 0.21865675960851663, 0.15618339972036901, 0.18742007966444282, 0.006247335988814761, 0.07496803186577713, 0.18742007966444282, 0.16528091505684298, 0.033056183011368596, 0.6941798432387405, 0.04876803381739393, 0.7802885410783029, 0.10539471805422532, 0.05269735902711266, 0.10539471805422532, 0.4742762312440139, 0.05269735902711266, 0.328648487312898, 0.10002345266044721, 0.5286953926337924, 0.12482923558980351, 0.04160974519660117, 0.4577071971626128, 0.24965847117960702, 0.0860001750233504, 0.0430000875116752, 0.43000087511675206, 0.30100061258172645, 0.13192720972200048, 0.7585814559015028, 0.2917553000470624, 0.6849907044583204, 0.06309920213832193, 0.031549601069160965, 0.031549601069160965, 0.7571904256598632, 0.05115863795374967, 0.2302138707918735, 0.10231727590749934, 0.0767379569306245, 0.12789659488437416, 0.20463455181499868, 0.05115863795374967, 0.0767379569306245, 0.07402020854365686, 0.518141459805598, 0.07402020854365686, 0.07402020854365686, 0.14804041708731372, 0.9261207158897891, 0.32930829131964867, 0.32930829131964867, 0.8864392332023027, 0.05649505504786625, 0.31072280276326436, 0.25422774771539813, 0.14123763761966562, 0.14123763761966562, 0.2151507865799763, 0.052052609656445877, 0.0416420877251567, 0.12145608919837371, 0.14921748101514484, 0.04858243567934949, 0.3608980936180248, 0.7563919898906416, 0.0945489987363302, 0.143086510783529, 0.6438892985258804, 0.8554949023180695, 0.06936445153930293, 0.09175408363168257, 0.5275859808821748, 0.321139292710889, 0.24334732142420895, 0.32446309523227856, 0.16223154761613928, 0.8540269084395947, 0.05993171287295401, 0.04494878465471551, 0.7259588556784943, 0.03820836082518391, 0.07641672165036782, 0.35855549681201326, 0.126458730714849, 0.03613106591852829, 0.126458730714849, 0.6503591865335092, 0.073813083838544, 0.55359812878908, 0.073813083838544, 0.11071962575781599, 0.036906541919272, 0.2195317024121214, 0.3155768222174245, 0.36359938212007603, 0.07546402270416673, 0.07805563672044365, 0.1951390918011091, 0.35125036524199643, 0.23416691016133093, 0.06089924327434244, 0.7307909192921094, 0.25046731164934793, 0.08348910388311599, 0.5844237271818119, 0.7338711522352815, 0.09173389402941019, 0.12871761449466243, 0.7723056869679746, 0.8111653212402283, 0.7329262620791571, 0.059504469988290225, 0.803310344841918, 0.029752234994145112, 0.037443648417880504, 0.11233094525364151, 0.22466189050728302, 0.26210553892516353, 0.26210553892516353, 0.15214474883174972, 0.22604362683574242, 0.078245870827757, 0.03477594259011422, 0.16518572730304254, 0.2869015263684423, 0.04781692106140705, 0.021894971335489757, 0.5692692547227337, 0.021894971335489757, 0.24084468469038733, 0.06568491400646927, 0.7635105117912822, 0.08036952755697707, 0.004943562468438629, 0.05932274962126355, 0.02718959357641246, 0.35099293525914266, 0.051907405918605605, 0.10628659307143053, 0.04449206221594766, 0.004943562468438629, 0.09392768690033396, 0.1359479678820623, 0.02718959357641246, 0.08404056196345669, 0.27996906206606104, 0.023330755172171754, 0.3032998172382328, 0.3032998172382328, 0.429058003640414, 0.1129100009580037, 0.02258200019160074, 0.2709840022992089, 0.1129100009580037, 0.413516592707125, 0.30073934015063636, 0.15036967007531818, 0.31292938788462127, 0.22948155111538895, 0.18775763273077278, 0.1251717551538485, 0.06258587757692426, 0.8366250096336063, 0.5513089642722263, 0.10501123128994787, 0.2625280782248697, 0.12449974900461554, 0.12449974900461554, 0.37349924701384657, 0.04433137776789458, 0.4876451554468404, 0.2881539554913148, 0.02216568888394729, 0.06649706665184187, 0.29766775933703854, 0.5953355186740771, 0.15502210764112975, 0.017224678626792195, 0.017224678626792195, 0.15502210764112975, 0.4133922870430127, 0.18947146489471414, 0.9263368775271458, 0.5242001871819378, 0.008884748935287083, 0.07107799148229667, 0.28431196592918667, 0.017769497870574167, 0.044423744676435416, 0.017769497870574167, 0.01881829061611498, 0.01881829061611498, 0.01881829061611498, 0.0940914530805749, 0.03763658123222996, 0.7339133340284842, 0.01881829061611498, 0.06086376371376049, 0.5173419915669641, 0.30431881856880244, 0.2915118570819921, 0.37101509083162637, 0.07950323374963422, 0.18550754541581319, 0.8047301970912029, 0.29874952617303396, 0.47799924187685433, 0.029287218293548654, 0.10250526402742029, 0.29287218293548656, 0.07321804573387164, 0.3368030103758095, 0.13179248232096893, 0.05128026245304179, 0.8717644617017104, 0.255534041928888, 0.0511068083857776, 0.6132817006293312, 0.588136317183105, 0.2940681585915525, 0.032696434991161635, 0.1961786099469698, 0.1634821749558082, 0.06539286998232327, 0.4250536548851013, 0.9008695174414975, 0.25948525562953473, 0.4324754260492245, 0.015653032705239805, 0.45393794845195434, 0.10957122893667863, 0.399152333983615, 0.511047349083424, 0.21902029246432458, 0.02433558805159162, 0.07300676415477486, 0.07300676415477486, 0.5330747963515243, 0.450509902347111, 0.01802039609388444, 0.05406118828165332, 0.3784283179715733, 0.01802039609388444, 0.09395614490739282, 0.09395614490739282, 0.4697807245369641, 0.6338476076340438, 0.3407782836742171, 0.051120069689628844, 0.01704002322987628, 0.9031212311834429, 0.8684012886819205, 0.007704478734192328, 0.04622687240515397, 0.2773612344309238, 0.06934030860773095, 0.030817914936769313, 0.07704478734192328, 0.04622687240515397, 0.053931351139346294, 0.03852239367096164, 0.04622687240515397, 0.13097613848126957, 0.053931351139346294, 0.030817914936769313, 0.06934030860773095, 0.025738410522941704, 0.23164569470647534, 0.05147682104588341, 0.5919834420276592, 0.025738410522941704, 0.6165127360658651, 0.12583109872873272, 0.01525225439136154, 0.04575676317408462, 0.03431757238056347, 0.00762612719568077, 0.026691445184882697, 0.041943699576244234, 0.019065317989201927, 0.18302705269633848, 0.00762612719568077, 0.04575676317408462, 0.01525225439136154, 0.38893248697971927, 0.03431757238056347, 0.03489791467388344, 0.052346872010825156, 0.00872447866847086, 0.08724478668470859, 0.2530098813856549, 0.06979582934776687, 0.10469374402165031, 0.00872447866847086, 0.18321405203788804, 0.01744895733694172, 0.06107135067929601, 0.00872447866847086, 0.06107135067929601, 0.01744895733694172, 0.7329081142434501, 0.17425772372090376, 0.6099020330231631, 0.08712886186045188, 0.7867902090334387, 0.13487832154858947, 0.12187576728150817, 0.04062525576050272, 0.1625010230420109, 0.5687535806470382, 0.7258106991820604, 0.09677475989094139, 0.555164658152682, 0.3798495029465719, 0.014609596267175841, 0.21334052962334796, 0.6400215888700439, 0.14150064043455593, 0.08490038426073356, 0.009433376028970396, 0.2028175846228635, 0.17451745653595233, 0.03301681610139638, 0.009433376028970396, 0.26413452881117105, 0.05188356815933717, 0.009433376028970396, 0.11554243972478481, 0.23108487944956962, 0.11554243972478481, 0.03851414657492827, 0.4429126856116751, 0.17964801184522383, 0.7185920473808953, 0.11116516690590075, 0.11116516690590075, 0.6947822931618797, 0.7516007531903419, 0.04421180901119658, 0.02210590450559829, 0.06631771351679487, 0.02210590450559829, 0.04052927356577348, 0.6484683770523757, 0.20264636782886739, 0.6979647357993702, 0.11502378400967077, 0.6211284336522221, 0.06901427040580246, 0.04600951360386831, 0.06901427040580246, 0.9266220913865452, 0.023638144622909196, 0.011819072311454598, 0.13000979542600058, 0.005909536155727299, 0.08864304233590949, 0.029547680778636495, 0.48458196476963855, 0.11819072311454598, 0.08273350618018219, 0.12053639719713395, 0.6026819859856698, 0.04017879906571132, 0.12053639719713395, 0.12101988393645026, 0.030254970984112565, 0.7261193036187015, 0.2612309880400964, 0.6874499685265696, 0.05795549224856955, 0.04346661918642716, 0.07244436531071194, 0.7823991453556889, 0.014488873062142388, 0.01603452330459925, 0.636036091082437, 0.01603452330459925, 0.11224166313219476, 0.010689682203066167, 0.0053448411015330835, 0.12293134533526093, 0.064138093218397, 0.021682560137809132, 0.15177792096466391, 0.15177792096466391, 0.10841280068904566, 0.49869888316961003, 0.3480357447871593, 0.08700893619678983, 0.2610268085903695, 0.08700893619678983, 0.20867302335556187, 0.31300953503334283, 0.3756114420400114, 0.07651344189703936, 0.8161283063851166, 0.12944296991520374, 0.08629531327680248, 0.12944296991520374, 0.5393457079800156, 0.06472148495760187, 0.06135068264087663, 0.5521561437678897, 0.27607807188394484, 0.03990990000002963, 0.026606600000019753, 0.23945940000017776, 0.638558400000474, 0.1367608081118395, 0.22793468018639915, 0.5698367004659979, 0.07403094405027395, 0.5182166083519176, 0.1480618881005479, 0.20067278304109273, 0.04300131065166273, 0.11467016173776728, 0.10033639152054637, 0.48734818738551094, 0.01433377021722091, 0.03053034259578983, 0.06869327084052712, 0.07632585648947457, 0.549546166724217, 0.015265171297894915, 0.15265171297894914, 0.08395844213842203, 0.24721965829402898, 0.6180491457350724, 0.030902457286753622, 0.5986208814418587, 0.14965522036046466, 0.016153764760182064, 0.008076882380091032, 0.12115323570136549, 0.06461505904072826, 0.08884570618100136, 0.07269194142081929, 0.06461505904072826, 0.0242306471402731, 0.06461505904072826, 0.24230647140273098, 0.06461505904072826, 0.07269194142081929, 0.016153764760182064, 0.05653817666063723, 0.2213627441582843, 0.031623249165469186, 0.15811624582734593, 0.2529859933237535, 0.2529859933237535, 0.381051505392828, 0.005219883635518192, 0.08351813816829107, 0.03392924363086825, 0.48805911992095097, 0.09947551799545404, 0.15373489144751987, 0.03315850599848468, 0.04220173490716232, 0.04220173490716232, 0.13866284326639047, 0.03315850599848468, 0.057273783088291716, 0.00301440963622588, 0.09947551799545404, 0.051244963815839956, 0.20196544562713395, 0.03617291563471056, 0.8765118814813321, 0.026560966105494913, 0.39408572831876837, 0.02814898059419774, 0.16889388356518645, 0.19704286415938418, 0.14074490297098868, 0.5178620876702412, 0.06259731682409496, 0.0069552574248994406, 0.06259731682409496, 0.20170246532208377, 0.15997092077268713, 0.06259731682409496, 0.16692617819758657, 0.2573445247212793, 0.6830016393679503, 0.06209105812435912, 0.18691189849882697, 0.028755676692127228, 0.5894913721886081, 0.14377838346063615, 0.028755676692127228, 0.07761210538467422, 0.3769730832969891, 0.005543721813191016, 0.02771860906595508, 0.005543721813191016, 0.11919001898360684, 0.11364629717041583, 0.005543721813191016, 0.002771860906595508, 0.15522421076934845, 0.1025588535440338, 0.8052353025399158, 0.1201117933972114, 0.1201117933972114, 0.2402235867944228, 0.08007452893147426, 0.2802608512601599, 0.20055849220957103, 0.12033509532574262, 0.16044679376765683, 0.36100528597722786, 0.04011169844191421, 0.75244566286655, 0.5983984172746817, 0.2111994413910641, 0.10559972069553206, 0.07417940203634121, 0.37089701018170607, 0.5044199338471202, 0.32160635826314427, 0.1378312963984904, 0.22971882733081733, 0.1378312963984904, 0.6797049617126011, 0.1569214146805726, 0.00442032154029782, 0.11492836004774332, 0.07514546618506295, 0.03978289386268038, 0.08177594849550968, 0.01989144693134019, 0.14587061082982805, 0.00442032154029782, 0.01326096462089346, 0.07514546618506295, 0.02652192924178692, 0.23648720240593338, 0.4254319883837895, 0.3038799917027068, 0.06077599834054136, 0.8262055753947146, 0.07196158531663902, 0.5357140240238683, 0.03198292680739512, 0.3118335363721024, 0.01599146340369756, 0.142682121487111, 0.26018504506473183, 0.25179197909490175, 0.25179197909490175, 0.06714452775864048, 0.23095526097824928, 0.41379484258602994, 0.17321644573368694, 0.1539701739854995, 0.1211600710866427, 0.006376845846665405, 0.8481204976064989, 0.0364939172957081, 0.0729878345914162, 0.5109148421399133, 0.25545742106995667, 0.29216281329001415, 0.5258930639220254, 0.8685605843555101, 0.028018083366306776, 0.12476175872758957, 0.14590781952887594, 0.00634381824038591, 0.010573030400643184, 0.0021146060801286366, 0.09304266752566002, 0.061323576323730464, 0.008458424320514546, 0.07189660672437365, 0.46732794370842873, 0.1144121067350728, 0.6864726404104368, 0.1797707066722656, 0.23220382945167642, 0.0149808922226888, 0.5468025661281413, 0.8676028936683369, 0.13308495282493432, 0.04436165094164478, 0.44361650941644776, 0.22180825470822388, 0.05483442198445471, 0.4935097978600924, 0.2741721099222736, 0.6790254978806273, 0.03772363877114596, 0.07544727754229193, 0.03772363877114596, 0.03772363877114596, 0.25088684853417675, 0.06842368596386639, 0.41054211578319827, 0.06842368596386639, 0.11403947660644397, 0.3842424764320089, 0.19363400387124857, 0.03025531310488259, 0.03630637572585911, 0.003025531310488259, 0.1028680645566008, 0.03025531310488259, 0.003025531310488259, 0.08471487669367125, 0.09076593931464777, 0.03328084441537085, 0.09682536978659073, 0.021516748841464605, 0.10758374420732303, 0.3873014791463629, 0.021516748841464605, 0.3119928582012368, 0.010758374420732303, 0.024033129641253495, 0.13218221302689423, 0.006008282410313374, 0.8051098429819922, 0.01802484723094012, 0.7670371087923531, 0.1442830890737152, 0.6252267193194325, 0.01603145434152391, 0.01603145434152391, 0.08550108982146086, 0.09084490793530216, 0.8733005926849651, 0.18346151883512676, 0.013589742135935317, 0.3125640691265123, 0.38730765087415653, 0.07474358174764424, 0.014044487434081803, 0.4072901355883723, 0.014044487434081803, 0.5196460350610267, 0.4202412628136001, 0.5361698870380415, 0.1562438323685304, 0.0390609580921326, 0.08593410780269171, 0.02343657485527956, 0.06249753294741216, 0.06249753294741216, 0.38279738930289947, 0.01562438323685304, 0.06249753294741216, 0.00781219161842652, 0.0781219161842652, 0.02201920841543164, 0.07234882765070397, 0.8964963426282883, 0.5031160983135544, 0.14593515123370313, 0.030403156507021484, 0.06080631301404297, 0.06080631301404297, 0.048645050411234375, 0.1824189390421289, 0.024322525205617188, 0.3161928276730234, 0.012161262602808594, 0.006080631301404297, 0.03648378780842578, 0.042564419109830075, 0.01824189390421289, 0.14956300890168955, 0.1668202791595768, 0.011504846838591504, 0.03451454051577451, 0.2531066304490131, 0.017257270257887255, 0.011504846838591504, 0.33939298173844934, 0.75244566286655, 0.21015224417238232, 0.007005074805746077, 0.28720806703558915, 0.38527911431603423, 0.08406089766895292, 0.29988310339799445, 0.5497856895629898, 0.18958864170002854, 0.18958864170002854, 0.44237349730006664, 0.12639242780001902, 0.21237741234344168, 0.7483775482578421, 0.4223619949230289, 0.05186901692037197, 0.022229578680159415, 0.08150845516058453, 0.007409859560053139, 0.3038042419621787, 0.022229578680159415, 0.07409859560053139, 0.9257286784249369, 0.7641905606802966, 0.13894373830550846, 0.6211351847268295, 0.041409012315121965, 0.041409012315121965, 0.1242270369453659, 0.048143820399268164, 0.024071910199634082, 0.6499415753901202, 0.09628764079853633, 0.09628764079853633, 0.05187101452681425, 0.05187101452681425, 0.7261942033753995, 0.02953712380397481, 0.11814849521589924, 0.4529025649942804, 0.35444548564769773, 0.013024595630512887, 0.9377708853969279, 0.020196578334312033, 0.46452130168917677, 0.4241281450205527, 0.042831849319779694, 0.021415924659889847, 0.021415924659889847, 0.042831849319779694, 0.7281414384362548, 0.06424777397966955, 0.03139178029483417, 0.04708767044225126, 0.04708767044225126, 0.8004903975182714, 0.004961646913388397, 0.07938635061421435, 0.11907952592132152, 0.05953976296066076, 0.17861928888198228, 0.009923293826776794, 0.004961646913388397, 0.5259345728191701, 0.09193559747780489, 0.0016129052189088576, 0.453226366513389, 0.1677421427665212, 0.06935492441308089, 0.09838721835344032, 0.1145162705425289, 0.7769447422058356, 0.4393478327637992, 0.8145249341033313, 0.3427385234470818, 0.45698469792944235, 0.8795487179112729, 0.030851853108148405, 0.7404444745955617, 0.09255555932444522, 0.030851853108148405, 0.15875974944553947, 0.2963515322983403, 0.052919916481846484, 0.31751949889107894, 0.010583983296369297, 0.07408788307458508, 0.06350389977821579, 0.2652130597338049, 0.10608522389352196, 0.4773835075208488, 0.11127218687416172, 0.05563609343708086, 0.6119970278078894, 0.125147316592123, 0.45887349417111767, 0.20857886098687167, 0.04171577219737433, 0.6582064533945594, 0.032910322669727966, 0.1974619360183678, 0.10813925227773674, 0.5136614483192495, 0.10813925227773674, 0.1892436914860393, 0.14405827964779092, 0.5402185486792159, 0.018007284955973864, 0.23409470442766023, 0.7762219768190521, 0.005428125712021344, 0.010856251424042687, 0.18998439992074703, 0.25247101244932557, 0.3534594174290558, 0.20197680995946046, 0.0051385797359885434, 0.03083147841593126, 0.12846449339971358, 0.822172757758167, 0.1079636065262145, 0.647781639157287, 0.13495450815776813, 0.026990901631553627, 0.6300504637298538, 0.2100168212432846, 0.03500280354054744, 0.016372978698578823, 0.016372978698578823, 0.016372978698578823, 0.032745957397157646, 0.2292217017801035, 0.032745957397157646, 0.5894272331488376, 0.036460646921459734, 0.02187638815287584, 0.3646064692145974, 0.014584258768583894, 0.269808787218802, 0.277100916603094, 0.09595190557898622, 0.45577155150018456, 0.31184369313170524, 0.07196392918423967, 0.15183426416668272, 0.3253591375000344, 0.2819779191666965, 0.021690609166668963, 0.13014365500001376, 0.2251388650084458, 0.6754165950253374, 0.5667327863816017, 0.28336639319080087, 0.031654799363936906, 0.031654799363936906, 0.12661919745574762, 0.1899287961836214, 0.25323839491149525, 0.031654799363936906, 0.22158359554755833, 0.10084962553941121, 0.10084962553941121, 0.6807349723910257, 0.025212406384852802, 0.07526950573696062, 0.09408688217120077, 0.009408688217120077, 0.18817376434240154, 0.009408688217120077, 0.3387127758163228, 0.2540345818622421, 0.06819614296345769, 0.14259193528722974, 0.38437826033948885, 0.16119088336817275, 0.2231873769713161, 0.016529399870111434, 0.49588199610334305, 0.4297643966228973, 0.05585856969979353, 0.013964642424948383, 0.004654880808316128, 0.1024073777829548, 0.22808915960749027, 0.1722305899076967, 0.15361106667443222, 0.05585856969979353, 0.1489561858661161, 0.009309761616632255, 0.03723904646652902, 0.8324771248116736, 0.04162385624058368, 0.06243578436087552, 0.10488557221790429, 0.32419176867352234, 0.22884124847542756, 0.028605156059428444, 0.047675260099047406, 0.09535052019809481, 0.009535052019809481, 0.09535052019809481, 0.038140208079237924, 0.18975808369271918, 0.04216846304282649, 0.08433692608565298, 0.27409500977837215, 0.021084231521413244, 0.1475896206498927, 0.18975808369271918, 0.10028840570192059, 0.03760815213822022, 0.33847336924398197, 0.025072101425480147, 0.4763699270841228, 0.7861720965647974, 0.03930860482823987, 0.03930860482823987, 0.07081242059511135, 0.2832496823804454, 0.21243726178533406, 0.21243726178533406, 0.23342044191832045, 0.17290403105060775, 0.04322600776265194, 0.03458080621012155, 0.4841312869417017, 0.050277495207952064, 0.45249745687156856, 0.15083248562385618, 0.10055499041590413, 0.050277495207952064, 0.5734428833053338, 0.1174807763984425, 0.46992310559377, 0.019580129399740416, 0.33286219979558707, 0.058837770702060664, 0.41186439491442467, 0.2941888535103033, 0.19784296301775747, 0.3627120988658887, 0.32973827169626246, 0.015615446700608795, 0.06246178680243518, 0.14053902030547916, 0.06246178680243518, 0.03123089340121759, 0.03123089340121759, 0.04684634010182639, 0.3747707208146111, 0.18738536040730555, 0.02358156619806086, 0.6131207211495824, 0.1179078309903043, 0.07074469859418259, 0.07074469859418259, 0.03282962356370124, 0.13131849425480496, 0.2626369885096099, 0.3611258592007136, 0.09848887069110371, 0.24407486601423498, 0.020339572167852916, 0.0711885025874852, 0.11186764692319104, 0.030509358251779372, 0.15254679125889686, 0.13220721909104394, 0.1423770051749704, 0.0711885025874852, 0.363217485255871, 0.10089374590440861, 0.010089374590440861, 0.37330685984631184, 0.11098312049484947, 0.3635650753661733, 0.005680704302596457, 0.2783545108272264, 0.14201760756491144, 0.017042112907789373, 0.0795298602363504, 0.10225267744673623, 0.4078551544296037, 0.5127321941400732, 0.023306008824548783, 0.011653004412274392, 0.19602024848474006, 0.2758803497192638, 0.014520018406277042, 0.4065605153757572, 0.07986010123452374, 0.005525784390108093, 0.6741456955931874, 0.0773609814615133, 0.01657735317032428, 0.005525784390108093, 0.11051568780216187, 0.08841255024172949, 0.04130361919949951, 0.12391085759849851, 0.7021615263914917, 0.6979647357993702, 0.010974161860699501, 0.1207157804676945, 0.153638266049793, 0.0329224855820985, 0.636501387920571, 0.010887212712762257, 0.03266163813828677, 0.10887212712762258, 0.11975933984038484, 0.010887212712762257, 0.021774425425524515, 0.6641199754784978, 0.8243785550116565, 0.14448352632811365, 0.3215923650528981, 0.1258404906728732, 0.02796455348286071, 0.009321517827620236, 0.11185821393144284, 0.02330379456905059, 0.17244807981097438, 0.05592910696572142, 0.08266916465364399, 0.13129808503814044, 0.2917735223069788, 0.04862892038449646, 0.21396724969178443, 0.21883014173023407, 0.1036711782620114, 0.5356344210203923, 0.3196527996412018, 0.008639264855167616, 0.29124003853020053, 0.04854000642170009, 0.524232069354361, 0.1067880141277402, 0.1837057314013511, 0.4592643285033778, 0.09185286570067555, 0.7829245900084468, 0.024854748889157043, 0.07456424666747112, 0.08699162111204965, 0.048948810022291345, 0.7831809603566615, 0.07342321503343702, 0.6723726575870884, 0.05172097366054526, 0.06896129821406034, 0.03448064910703017, 0.12068227187460562, 0.8715907906115271, 0.12765602915860602, 0.05106241166344241, 0.7404049691199148, 0.7670371087923531, 0.25837083517947984, 0.2411461128341812, 0.2411461128341812, 0.2066966681435839, 0.4521764568860174, 0.027826243500677993, 0.06956560875169499, 0.27826243500677994, 0.027826243500677993, 0.10434841312754246, 0.03478280437584749, 0.5711191828887793, 0.14277979572219482, 0.8408127039088619, 0.033632508156354476, 0.028533544876197, 0.24729072226037402, 0.228268359009576, 0.038044726501596, 0.42800317314295505, 0.657497571372853, 0.07713211160707223, 0.17997492708316853, 0.43708196577340935, 0.12855351934512038, 0.07713211160707223, 0.2505768463707314, 0.1252884231853657, 0.1252884231853657, 0.7493341116239888, 0.03886218361629209, 0.8161058559421338, 0.1457177275551508, 0.020816818222164402, 0.5620540919984388, 0.20816818222164402, 0.19461152518943972, 0.005897318945134538, 0.3361471798726686, 0.21230348202484334, 0.22999543886024695, 0.03854610512834645, 0.009636526282086612, 0.24091315705216532, 0.019273052564173224, 0.6649203134639763, 0.10972254664139681, 0.04937514598862857, 0.06583352798483809, 0.3401398945883301, 0.37854278591281904, 0.03840289132448889, 0.872701399419728, 0.01732382472588006, 0.00866191236294003, 0.33781458215466115, 0.01732382472588006, 0.589010040679922, 0.002734115984326423, 0.48393852922577685, 0.030075275827590654, 0.10116229142007765, 0.04374585574922277, 0.002734115984326423, 0.002734115984326423, 0.26520925047966304, 0.05741643567085488, 0.038508360148214904, 0.19254180074107452, 0.04492642017291739, 0.019254180074107452, 0.038508360148214904, 0.5134448019761988, 0.10910702041994223, 0.032090300123512425, 0.5832832818041562, 0.3499699690824937, 0.6231526423994421, 0.12463052847988841, 0.04154350949329614, 0.04154350949329614, 0.0556572882296409, 0.0556572882296409, 0.0556572882296409, 0.6678874587556909, 0.08348593234446136, 0.18353658367789857, 0.0061866264161089405, 0.30108248558396844, 0.11754590190606987, 0.05155522013424117, 0.18559879248326822, 0.07423951699330729, 0.07630172579867693, 0.3275162409859835, 0.17339095111022654, 0.019265661234469614, 0.1155939674068177, 0.2311879348136354, 0.07706264493787846, 0.26397555698483643, 0.5807462253666402, 0.2958867210975679, 0.018492920068597995, 0.16643628061738194, 0.22191504082317592, 0.24040796089177394, 0.2334297584943146, 0.6335950587702825, 0.011471392406265435, 0.9406541773137657, 0.8016964476899607, 0.03644074762227094, 0.03644074762227094, 0.19162754848648006, 0.19162754848648006, 0.33534820985134006, 0.047906887121620015, 0.09581377424324003, 0.10120960586467645, 0.5290502124744451, 0.2024192117293529, 0.1472139721668021, 0.004600436630212566, 0.32117780753046055, 0.02919798250276914, 0.02919798250276914, 0.37957377253599883, 0.14598991251384572, 0.6860441456047474, 0.09379487112441903, 0.03847994712796678, 0.2813846133732571, 0.09860486451541489, 0.40403944484365123, 0.07455489756043565, 0.10260528724591673, 0.012825660905739592, 0.346292844454969, 0.5002007753238441, 0.4117327656061426, 0.25337400960378004, 0.22170225840330754, 0.7580334821517031, 0.11662053571564662, 0.862038612626471, 0.26307714113908676, 0.037582448734155255, 0.07516489746831051, 0.5261542822781735, 0.05165077613099909, 0.2944094239466948, 0.08264124180959853, 0.025825388065499544, 0.14978725077989735, 0.19627294929779654, 0.19110787168469662, 0.06987147374492868, 0.477455070590346, 0.4075835968454173, 0.4545726293239331, 0.506523786960954, 0.3699781835196062, 0.1644347482309361, 0.39053252704847324, 0.1565053437014211, 0.07825267185071055, 0.46951603110426327, 0.11960967712585804, 0.19934946187643007, 0.4784387085034322, 0.039869892375286015, 0.669416128033943, 0.11642019617981617, 0.02910504904495404, 0.05821009808990808, 0.02910504904495404, 0.5623123854939345, 0.048198204470908675, 0.289189226825452, 0.048198204470908675, 0.03656622861417554, 0.8410232581260374, 0.1550469106711371, 0.3220205067785155, 0.017890028154361973, 0.017890028154361973, 0.20871699513422304, 0.26238707959730895, 0.8598534639808766, 0.04439849889692671, 0.8657707284900709, 0.14805698174756476, 0.3701424543689119, 0.22208547262134715, 0.1567670493807346, 0.1567670493807346, 0.47030114814220375, 0.7117568712641323, 0.9081182428745623, 0.18286683100387285, 0.022858353875484107, 0.2514418926303252, 0.14286471172177567, 0.011429176937742053, 0.3085877773190354, 0.0628604731575813, 0.16192622320619174, 0.5299403668566275, 0.2870510320473399, 0.18492054207151942, 0.3254601540458742, 0.43271406844735544, 0.04438093009716466, 0.17104039822025993, 0.17104039822025993, 0.020464257955371917, 0.5934634807057856, 0.04092851591074383, 0.06139277386611575, 0.020464257955371917, 0.20464257955371917, 0.1881623367390278, 0.7317424206517747, 0.060954296254781715, 0.060954296254781715, 0.8127239500637562, 0.0371314438180899, 0.014852577527235962, 0.0371314438180899, 0.0371314438180899, 0.06683659887256183, 0.06683659887256183, 0.06683659887256183, 0.044557732581707886, 0.0742628876361798, 0.0742628876361798, 0.007426288763617981, 0.4455773258170788, 0.5201984665723695, 0.0682227497144091, 0.008527843714301138, 0.07675059342871024, 0.21319609285752847, 0.08527843714301138, 0.802133213594976, 0.06975071422565009, 0.03268010792058601, 0.15745870179918714, 0.07130205364491493, 0.041592864626200376, 0.21093524203287334, 0.04753470242994329, 0.2584699444628166, 0.07130205364491493, 0.09804032376175803, 0.16648370424209286, 0.037837205509566554, 0.007567441101913311, 0.030269764407653246, 0.7264743457836779, 0.007567441101913311, 0.015492842876857081, 0.4802781291825695, 0.2091533788375706, 0.015492842876857081, 0.25563190746814185, 0.6259889270194926, 0.13414048436131987, 0.08942698957421323, 0.044713494787106615, 0.9126795980505499, 0.01862611424592959, 0.5954824269295331, 0.14887060673238328, 0.9206135968115049, 0.43238583420218185, 0.17295433368087273, 0.08647716684043637, 0.08494708253556409, 0.08494708253556409, 0.5096824952133845, 0.4395423917489463, 0.08790847834978927, 0.17581695669957853, 0.7313581332661996, 0.879150884642829, 0.05733592725931493, 0.3741228911086562, 0.1945439033765012, 0.014964915644346247, 0.35915797546430994, 0.05675194252341238, 0.08512791378511858, 0.7661512240660672, 0.029307833849734455, 0.14653916924867227, 0.7326958462433614, 0.25623405297408214, 0.7108428566377762, 0.48571613684491044, 0.037362779757300804, 0.3362650178157072, 0.614755489886455, 0.14996053823022573, 0.12853760419733634, 0.06426880209866817, 0.6212650869537923, 0.07349030284008755, 0.808393331240963, 0.04385334749558488, 0.3289001062168866, 0.5481668436948111, 0.6356545209625063, 0.247198980374308, 0.1123278912519886, 0.0561639456259943, 0.4493115650079544, 0.14040986406498573, 0.02808197281299715, 0.0561639456259943, 0.08424591843899144, 0.18906586880255893, 0.031510978133759825, 0.3151097813375982, 0.06302195626751965, 0.2520878250700786, 0.031510978133759825, 0.427174793975543, 0.3737779447286001, 0.11386699687023263, 0.02846674921755816, 0.7686022288740703, 0.15551878651564058, 0.03455973033680902, 0.03455973033680902, 0.22463824718925862, 0.03455973033680902, 0.44927649437851724, 0.01727986516840451, 0.024068706069050184, 0.024068706069050184, 0.8664734184858066, 0.48929876349113055, 0.27523055446376093, 0.1529058635909783, 0.06961596949406541, 0.10442395424109811, 0.12182794661461446, 0.5395237635790069, 0.13923193898813083, 0.15837898002604062, 0.7505786444712359, 0.0068860426098278525, 0.06197438348845067, 0.0033844163557855108, 0.49412478794468456, 0.0033844163557855108, 0.4399741262521164, 0.027075330846284086, 0.023690914490498576, 0.15760406050444575, 0.32571505837585457, 0.0630416242017783, 0.15760406050444575, 0.2626734341740763, 0.8456712047964288, 0.025532991704241597, 0.127664958521208, 0.6893907760145231, 0.051065983408483194, 0.025532991704241597, 0.8366490002840278, 0.036376043490609904, 0.019867862489597602, 0.1192071749375856, 0.14900896867198202, 0.049669656223994, 0.5960358746879281, 0.039735724979195204, 0.8161283063851166, 0.07506932649445729, 0.07807209955423558, 0.2071913411247021, 0.027024957538004622, 0.03903604977711779, 0.12911924157046653, 0.10509705709224021, 0.006005546119556583, 0.012011092239113166, 0.042038822836896084, 0.036033276717339496, 0.17115806440736261, 0.03303050365756121, 0.030027730597782916, 0.751206672985006, 0.038411569971204346, 0.8066429693952912, 0.22827920161259962, 0.1217489075267198, 0.21306058817175963, 0.21306058817175963, 0.1826233612900797, 0.44611107021906354, 0.40893514770080824, 0.5884377392525582, 0.08406253417893687, 0.05268056976662259, 0.21072227906649035, 0.26340284883311293, 0.31608341859973554, 0.4195032024789515, 0.5201839710738999, 0.6388902549969355, 0.17424279681734606, 0.030932139279721726, 0.15466069639860863, 0.07217499165268403, 0.02062142618648115, 0.10310713093240575, 0.11341784402564634, 0.2990106797039767, 0.1649714094918492, 0.5060949566823588, 0.026636576667492567, 0.37291207334489596, 0.5405878448764277, 0.10296911330979577, 0.2831650616019384, 0.4062589152632029, 0.4062589152632029, 0.06636815917195026, 0.46457711420365183, 0.06636815917195026, 0.1327363183439005, 0.5268226401503696, 0.37630188582169255, 0.05754153749898778, 0.4027907624929144, 0.17262461249696331, 0.2301661499959511, 0.1513896295100702, 0.05677111106627633, 0.7380244438615923, 0.7339848178075998, 0.08155386864528887, 0.08155386864528887, 0.9476907052063127, 0.11223859118817452, 0.39283506915861083, 0.2805964779704363, 0.03066350216540478, 0.6745970476389052, 0.03066350216540478, 0.07665875541351196, 0.12265400866161912, 0.01533175108270239, 0.3046452299667438, 0.08123872799113169, 0.010154840998891461, 0.5788259369368133, 0.038981460479622296, 0.038981460479622296, 0.058472190719433444, 0.07796292095924459, 0.7211570188730124, 0.060560254865979136, 0.020186751621993047, 0.060560254865979136, 0.27252114689690615, 0.020186751621993047, 0.010093375810996523, 0.020186751621993047, 0.5147621663608227, 0.29712789958343633, 0.07428197489585908, 0.024760658298619696, 0.14031039702551162, 0.379663427245502, 0.05777486936344596, 0.11615648865873973, 0.058078244329369866, 0.23231297731747946, 0.29039122164684933, 0.058078244329369866, 0.058078244329369866, 0.10104360592890602, 0.039538802320006707, 0.03075240180444966, 0.039538802320006707, 0.15815520928002683, 0.05271840309334227, 0.057111603351120796, 0.13179600773335567, 0.05271840309334227, 0.26359201546671135, 0.04832520283556375, 0.013179600773335567, 0.09059588300535311, 0.31708559051873586, 0.31708559051873586, 0.045297941502676554, 0.09059588300535311, 0.4768242131348576, 0.0596030266418572, 0.2384121065674288, 0.30684873090053194, 0.5114145515008865, 0.789236935501118, 0.28213929597315135, 0.49374376795301483, 0.06982821855712959, 0.009975459793875655, 0.029926379381626966, 0.03990183917550262, 0.39901839175502624, 0.41896931134277754, 0.009975459793875655, 0.9702055060479652, 0.07859367669248024, 0.026197892230826747, 0.6287494135398419, 0.18338524561578723, 0.09716287651726613, 0.48581438258633064, 0.19432575303453226, 0.1700350339052157, 0.87434032692663, 0.030678607962337893, 0.030678607962337893, 0.08029131827120545, 0.0669094318926712, 0.2141101820565479, 0.040145659135602724, 0.5352754551413696, 0.026763772757068486, 0.22135457885140405, 0.2730039805833983, 0.3984382419325273, 0.08116334557884815, 0.11654811219479821, 0.0010047251051275709, 0.10449141093326737, 0.17381744318706976, 0.13965678961273234, 0.01205670126153085, 0.029137028048699554, 0.010047251051275708, 0.06028350630765425, 0.2652474277536787, 0.043203179520485545, 0.043203179520485545, 0.051644693867365324, 0.23240112240314398, 0.6197363264083839, 0.045488105688470164, 0.25018458128658594, 0.045488105688470164, 0.29567268697505605, 0.22744052844235083, 0.022744052844235082, 0.022744052844235082, 0.10294694170310814, 0.8235755336248651, 0.3870070007684843, 0.27090490053793903, 0.07740140015369686, 0.11610210023054529, 0.10252657249184055, 0.1498465290265362, 0.09463991306939128, 0.173506507293884, 0.007886659422449272, 0.007886659422449272, 0.02365997826734782, 0.07886659422449273, 0.3312396957428695, 0.4024908034924736, 0.551561471452649, 0.22251644022569317, 0.03708607337094886, 0.6304632473061306, 0.09051430485702557, 0.22628576214256393, 0.4978286767136406, 0.0487016436725171, 0.3896131493801368, 0.3896131493801368, 0.42181985136740047, 0.033301567213215824, 0.23311097049251078, 0.011100522404405275, 0.19980940327929494, 0.011100522404405275, 0.055502612022026374, 0.7563961290156377, 0.011636863523317503, 0.06982118113990501, 0.03491059056995251, 0.05818431761658751, 0.023273727046635006, 0.044554373073113114, 0.4009893576580181, 0.06683155960966967, 0.06683155960966967, 0.20049467882900904, 0.13366311921933935, 0.05277834635300909, 0.6861185025891182, 0.05277834635300909, 0.18805238284959022, 0.32909166998678285, 0.14103928713719266, 0.14103928713719266, 0.24116367949493872, 0.16077578632995915, 0.48232735898987744, 0.009672517069496178, 0.03869006827798471, 0.0870526536254656, 0.8221639509071751, 0.009672517069496178, 0.03372540476022997, 0.20235242856137983, 0.06745080952045994, 0.03372540476022997, 0.5733318809239095, 0.3903114150796742, 0.5464359811115439, 0.38369111576969184, 0.5678628513391439, 0.7269006867734913, 0.16774631233234416, 0.92127165910222, 0.009201167190709953, 0.004600583595354976, 0.9707231386198999, 0.8752550293586017, 0.029175167645286722, 0.7857286316673773, 0.032738692986140724, 0.06547738597228145, 0.831577456717168, 0.03464906069654867, 0.35394616443775023, 0.546603062087224, 0.15617230345349256, 0.6611806498931648, 0.07346451665479609, 0.4526756471833362, 0.4268084673442884, 0.012933589919523892, 0.06466794959761946, 0.039290055603273775, 0.1266012902772155, 0.14406353721200385, 0.061117864271759206, 0.1920847162826718, 0.052386740804365034, 0.03492449386957669, 0.030558932135879603, 0.23574033361964264, 0.052386740804365034, 0.013096685201091258, 0.008731123467394172, 0.3089447197244132, 0.2059631464829421, 0.38618089965551644, 0.36632148047201096, 0.01356746223970411, 0.1899444713558575, 0.09497223567792876, 0.1899444713558575, 0.040702386719112325, 0.05426984895881644, 0.7376587707624767, 0.05268991219731976, 0.014409862192830521, 0.8429769382805855, 0.007204931096415261, 0.028819724385661043, 0.007204931096415261, 0.06484437986773735, 0.007204931096415261, 0.4815237271902246, 0.36114279539266847, 0.04012697726585205, 0.04012697726585205, 0.020063488632926025, 0.4431538053101323, 0.34952976193475227, 0.018724808675076015, 0.1560400722923001, 0.018724808675076015, 0.3937387153837311, 0.15749548615349243, 0.23624322923023866, 0.04325816608306823, 0.389323494747614, 0.014419388694356074, 0.5046786043024626, 0.749646589919058, 0.08819371646106565, 0.15110089325434486, 0.07914808694275206, 0.04317168378695567, 0.2374442608282562, 0.19427257704130052, 0.014390561262318557, 0.07195280631159279, 0.0071952806311592786, 0.021585841893477835, 0.16549145451666342, 0.15986452320160835, 0.007993226160080419, 0.18384420168184962, 0.03996613080040209, 0.007993226160080419, 0.023979678480241254, 0.5515326050455488, 0.007993226160080419, 0.016271543446894597, 0.30915932549099734, 0.6183186509819947, 0.09695670727346564, 0.8241320118244579], \"Term\": [\"10th\", \"10th\", \"10th\", \"10th\", \"13th\", \"13th\", \"14th\", \"2nd\", \"2nd\", \"2nd\", \"2nd\", \"31st\", \"a1\", \"a2\", \"a2\", \"a3\", \"a4\", \"a4\", \"able\", \"able\", \"able\", \"absent\", \"absent\", \"absent\", \"absent\", \"access\", \"access\", \"access\", \"access\", \"access\", \"access\", \"accessibility\", \"accessibility\", \"accessibility\", \"accessibility\", \"accessibility\", \"accommodation\", \"accommodation\", \"accommodations\", \"accommodations\", \"accommodations\", \"accommodations\", \"accommodations\", \"acquisition\", \"acquisition\", \"act\", \"act\", \"act\", \"act\", \"action\", \"action\", \"action\", \"action\", \"action\", \"activities\", \"activities\", \"activities\", \"ad\", \"ad\", \"ada\", \"ada\", \"ada\", \"ada\", \"ada\", \"added\", \"added\", \"addition\", \"addition\", \"addition\", \"additional\", \"additional\", \"additional\", \"additional\", \"additional\", \"additional\", \"additional\", \"additional\", \"address\", \"adjacent\", \"adjacent\", \"adjourn\", \"adjourn\", \"adjourn\", \"adjourn\", \"adjourn\", \"adjourn\", \"adjourn\", \"adjourned\", \"adjourned\", \"adjourned\", \"adjournment\", \"adjournment\", \"adjournment\", \"adjournment\", \"adjournment\", \"administration\", \"administration\", \"administration\", \"administration\", \"administration\", \"administrator\", \"administrator\", \"administrator\", \"adopting\", \"adopting\", \"advance\", \"advance\", \"advance\", \"advertising\", \"advertising\", \"advertising\", \"advertising\", \"advised\", \"advised\", \"advised\", \"advisory\", \"advisory\", \"advisory\", \"advisory\", \"advisory\", \"advisory\", \"advisory\", \"advisory\", \"affairs\", \"affairs\", \"afternoon\", \"afternoon\", \"agenda\", \"agenda\", \"agenda\", \"agenda\", \"agenda\", \"agenda\", \"agendas\", \"agendas\", \"agendas\", \"agreement\", \"agreement\", \"agreement\", \"agreement\", \"agreement\", \"agreement\", \"agreement\", \"agreement\", \"agreement\", \"agreements\", \"agreements\", \"air\", \"air\", \"air\", \"air\", \"alejandro\", \"allow\", \"allow\", \"allow\", \"also\", \"also\", \"also\", \"also\", \"also\", \"also\", \"also\", \"although\", \"although\", \"alva\", \"alva\", \"alva\", \"amending\", \"amending\", \"amending\", \"amending\", \"amending\", \"amending\", \"amendments\", \"amendments\", \"amendments\", \"america\", \"america\", \"american\", \"american\", \"american\", \"amount\", \"amount\", \"amy\", \"amy\", \"amy\", \"amy\", \"amy\", \"amy\", \"amy\", \"andor\", \"andor\", \"andor\", \"andor\", \"andor\", \"andor\", \"andre\", \"andre\", \"andre\", \"andre\", \"angela\", \"announce\", \"announce\", \"announcements\", \"announcements\", \"answer\", \"anticipated\", \"anticipated\", \"anyone\", \"anyone\", \"anyone\", \"application\", \"application\", \"application\", \"application\", \"application\", \"appointing\", \"appointing\", \"appro\", \"appro\", \"appro\", \"approval\", \"approval\", \"approval\", \"approval\", \"approval\", \"approval\", \"approval\", \"approval\", \"approval\", \"approve\", \"approve\", \"approve\", \"approve\", \"approve\", \"approve\", \"approved\", \"approved\", \"approved\", \"approved\", \"approved\", \"approved\", \"approved\", \"approved\", \"approved\", \"approving\", \"approving\", \"approving\", \"approving\", \"april\", \"april\", \"april\", \"april\", \"april\", \"april\", \"april\", \"april\", \"april\", \"april\", \"april\", \"april\", \"april\", \"armstrong\", \"armstrong\", \"armstrong\", \"asap\", \"asap\", \"aserpe\", \"aserpe\", \"aserpe\", \"asked\", \"asked\", \"asked\", \"asked\", \"asked\", \"asked\", \"assignment\", \"assignment\", \"assignment\", \"assist\", \"assist\", \"assistance\", \"assistance\", \"assistant\", \"assistant\", \"assistant\", \"assistant\", \"assistant\", \"assistant\", \"assistant\", \"audit\", \"audit\", \"audit\", \"audit\", \"audit\", \"audit\", \"audit\", \"august\", \"august\", \"august\", \"august\", \"august\", \"august\", \"authority\", \"authority\", \"authority\", \"authority\", \"authority\", \"authority\", \"authority\", \"authority\", \"authority\", \"authority\", \"authority\", \"authorizing\", \"authorizing\", \"authorizing\", \"authorizing\", \"authorizing\", \"authorizing\", \"authorizing\", \"available\", \"available\", \"available\", \"available\", \"available\", \"avenue\", \"avenue\", \"avenue\", \"avenue\", \"avenue\", \"avenue\", \"avenue\", \"award\", \"award\", \"award\", \"award\", \"award\", \"b1\", \"b2\", \"b3\", \"bank\", \"bank\", \"bargaining\", \"better\", \"bill\", \"bill\", \"bill\", \"bill\", \"bills\", \"bills\", \"blanket\", \"blind\", \"blue\", \"blue\", \"blue\", \"blue\", \"blue\", \"blue\", \"board\", \"board\", \"board\", \"board\", \"board\", \"board\", \"board\", \"board\", \"board\", \"boardroom\", \"boardroom\", \"boardroom\", \"boardroom\", \"boardroom\", \"boulevard\", \"brief\", \"brief\", \"brief\", \"broadway\", \"broadway\", \"budg\", \"budget\", \"budget\", \"budget\", \"budget\", \"budget\", \"budget\", \"budget\", \"budget\", \"budget\", \"budget\", \"building\", \"building\", \"building\", \"building\", \"burke\", \"bus\", \"bus\", \"bus\", \"bus\", \"bus\", \"bus\", \"bus\", \"bus\", \"bus\", \"bus\", \"bus\", \"business\", \"business\", \"business\", \"business\", \"business\", \"business\", \"business\", \"business\", \"business\", \"business\", \"business\", \"business\", \"business\", \"business\", \"business\", \"bylaws\", \"bylaws\", \"bylaws\", \"c1\", \"call\", \"call\", \"call\", \"call\", \"call\", \"call\", \"call\", \"call\", \"call\", \"call\", \"call\", \"call\", \"call\", \"called\", \"called\", \"called\", \"called\", \"called\", \"called\", \"called\", \"called\", \"called\", \"called\", \"calls\", \"calls\", \"capital\", \"capital\", \"capital\", \"capital\", \"capital\", \"cars\", \"cars\", \"carter\", \"carter\", \"case\", \"case\", \"case\", \"categories\", \"categories\", \"categories\", \"categories\", \"category\", \"certain\", \"certain\", \"certain\", \"certain\", \"certain\", \"chairman\", \"chairman\", \"chairman\", \"chairman\", \"chairman\", \"chairman\", \"chairman\", \"chairman\", \"chairman\", \"chairman\", \"chairman\", \"chairman\", \"change\", \"change\", \"change\", \"changes\", \"changes\", \"changes\", \"changes\", \"chicago\", \"chicago\", \"chicago\", \"chicago\", \"chicago\", \"chicago\", \"chicago\", \"chicago\", \"chicago\", \"chicago\", \"chicago\", \"chicago\", \"chicago\", \"chicago\", \"chief\", \"chris\", \"circuit\", \"citizens\", \"citizens\", \"citizens\", \"city\", \"city\", \"city\", \"city\", \"city\", \"city\", \"city\", \"clark\", \"clark\", \"clark\", \"clock\", \"collective\", \"collective\", \"collective\", \"come\", \"come\", \"come\", \"come\", \"come\", \"come\", \"come\", \"come\", \"commenced\", \"commenced\", \"commendations\", \"commendations\", \"comment\", \"comment\", \"comment\", \"comment\", \"comment\", \"comments\", \"comments\", \"commi\", \"committees\", \"communications\", \"communications\", \"community\", \"community\", \"community\", \"community\", \"compensation\", \"compensation\", \"compensation\", \"complaint\", \"complaint\", \"complaints\", \"complaints\", \"complaints\", \"complaintscomments\", \"completed\", \"completed\", \"completed\", \"completion\", \"compliance\", \"compliance\", \"compliance\", \"compliance\", \"compliance\", \"compliance\", \"concession\", \"concession\", \"conduct\", \"conduct\", \"conduct\", \"conference\", \"conference\", \"consenting\", \"consenting\", \"consenting\", \"considering\", \"considering\", \"considering\", \"considering\", \"construction\", \"construction\", \"construction\", \"construction\", \"construction\", \"contact\", \"contact\", \"contact\", \"contact\", \"contained\", \"containing\", \"contract\", \"contract\", \"contract\", \"contract\", \"contract\", \"contract\", \"contract\", \"contract\", \"contracts\", \"contracts\", \"cook\", \"cook\", \"cook\", \"cook\", \"copromotional\", \"copromotional\", \"copy\", \"corner\", \"corner\", \"costs\", \"costs\", \"costs\", \"could\", \"could\", \"could\", \"could\", \"county\", \"county\", \"county\", \"county\", \"court\", \"court\", \"court\", \"court\", \"court\", \"coverage\", \"coverage\", \"coverage\", \"coverage\", \"coverage\", \"covered\", \"covered\", \"cta\", \"cta\", \"cta\", \"cta\", \"cta\", \"cta\", \"cta\", \"cta\", \"cta\", \"cta\", \"cultural\", \"cumberland\", \"cumberland\", \"cumberland\", \"cumberland\", \"cumberland\", \"current\", \"current\", \"current\", \"current\", \"current\", \"currently\", \"currently\", \"currently\", \"currently\", \"customer\", \"customer\", \"customer\", \"customer\", \"customer\", \"customer\", \"customers\", \"customers\", \"date\", \"date\", \"date\", \"date\", \"date\", \"date\", \"dates\", \"dates\", \"david\", \"davis\", \"davis\", \"davis\", \"davis\", \"day\", \"day\", \"day\", \"day\", \"days\", \"days\", \"days\", \"days\", \"dba\", \"dba\", \"december\", \"december\", \"december\", \"december\", \"december\", \"december\", \"december\", \"december\", \"december\", \"december\", \"december\", \"december\", \"december\", \"deferred\", \"deferred\", \"deferred\", \"deferred\", \"deferred\", \"deferred\", \"deliver\", \"delivery\", \"delivery\", \"delivery\", \"delivery\", \"department\", \"department\", \"department\", \"department\", \"department\", \"design\", \"design\", \"design\", \"development\", \"development\", \"development\", \"development\", \"diesel\", \"diesel\", \"different\", \"different\", \"directors\", \"directors\", \"directors\", \"disabilities\", \"disabilities\", \"disabilities\", \"disability\", \"disability\", \"disability\", \"discuss\", \"discuss\", \"discussed\", \"discussed\", \"discussion\", \"discussion\", \"discussion\", \"district\", \"district\", \"district\", \"district\", \"district\", \"district\", \"district\", \"doors\", \"doors\", \"doors\", \"doors\", \"due\", \"due\", \"due\", \"due\", \"due\", \"e1\", \"easement\", \"east\", \"east\", \"east\", \"east\", \"east\", \"east\", \"education\", \"education\", \"education\", \"efficiencies\", \"efficiencies\", \"elevator\", \"elevator\", \"elevator\", \"elevator\", \"elevatorescalator\", \"elevatorescalator\", \"elevators\", \"elevators\", \"elevators\", \"emergency\", \"emergency\", \"emergency\", \"emergency\", \"employee\", \"employee\", \"employee\", \"employee\", \"employee\", \"employee\", \"employee\", \"employees\", \"employees\", \"employees\", \"employees\", \"employees\", \"employees\", \"employees\", \"end\", \"end\", \"end\", \"end\", \"engineering\", \"engineering\", \"engineering\", \"engineering\", \"engineering\", \"equipment\", \"equipment\", \"escalator\", \"escalator\", \"escalator\", \"escalator\", \"escalator\", \"escalators\", \"escalators\", \"especially\", \"estate\", \"estate\", \"estate\", \"estate\", \"estate\", \"estimated\", \"estimated\", \"estimated\", \"etc\", \"events\", \"events\", \"excess\", \"excess\", \"excused\", \"excused\", \"execution\", \"execution\", \"execution\", \"executive\", \"executive\", \"executive\", \"executive\", \"executive\", \"expenses\", \"expenses\", \"expenses\", \"expenses\", \"experiment\", \"experiment\", \"explained\", \"explained\", \"explained\", \"explained\", \"express\", \"express\", \"express\", \"extension\", \"extension\", \"extension\", \"extension\", \"extension\", \"extension\", \"extensive\", \"extensive\", \"f1\", \"fab\", \"facilitator\", \"facilitator\", \"facilitator\", \"facilities\", \"facilities\", \"facilities\", \"facilities\", \"facilities\", \"facility\", \"facility\", \"facility\", \"facility\", \"failure\", \"fall\", \"fall\", \"fall\", \"fare\", \"fare\", \"fare\", \"fare\", \"fare\", \"fare\", \"federal\", \"federal\", \"federal\", \"federal\", \"federal\", \"federal\", \"federal\", \"filler\", \"final\", \"final\", \"final\", \"finance\", \"finance\", \"finance\", \"finance\", \"finance\", \"finance\", \"finance\", \"finance\", \"financial\", \"financial\", \"financial\", \"financial\", \"financial\", \"fire\", \"fire\", \"first\", \"first\", \"first\", \"first\", \"first\", \"first\", \"first\", \"first\", \"fiscal\", \"fiscal\", \"fiscal\", \"fiscal\", \"five\", \"five\", \"five\", \"fleet\", \"fleet\", \"floor\", \"floor\", \"floor\", \"floor\", \"floor\", \"floor\", \"floor\", \"followed\", \"followed\", \"followed\", \"following\", \"following\", \"following\", \"following\", \"following\", \"following\", \"following\", \"following\", \"following\", \"follows\", \"follows\", \"follows\", \"followup\", \"followup\", \"forward\", \"forward\", \"forward\", \"forward\", \"forward\", \"found\", \"found\", \"found\", \"four\", \"four\", \"four\", \"four\", \"free\", \"free\", \"free\", \"free\", \"full\", \"full\", \"fuller\", \"fuller\", \"funded\", \"funded\", \"funded\", \"funded\", \"funding\", \"funding\", \"funding\", \"funding\", \"funding\", \"funding\", \"funding\", \"funding\", \"funds\", \"funds\", \"funds\", \"funds\", \"funds\", \"furnish\", \"future\", \"future\", \"g1\", \"garage\", \"garage\", \"garage\", \"garage\", \"garage\", \"general\", \"general\", \"general\", \"general\", \"general\", \"general\", \"general\", \"generally\", \"generally\", \"geographic\", \"geographic\", \"get\", \"get\", \"go\", \"go\", \"go\", \"goal\", \"goal\", \"goal\", \"going\", \"going\", \"going\", \"good\", \"good\", \"good\", \"goose\", \"grant\", \"grant\", \"grant\", \"grant\", \"green\", \"green\", \"green\", \"green\", \"green\", \"gregory\", \"gregory\", \"gregory\", \"gregory\", \"group\", \"group\", \"group\", \"group\", \"h1\", \"h1\", \"halsted\", \"halsted\", \"halsted\", \"happen\", \"happen\", \"hard\", \"hard\", \"hardship\", \"headquarters\", \"health\", \"health\", \"health\", \"hearing\", \"hearing\", \"hearing\", \"hearing\", \"hearing\", \"held\", \"held\", \"held\", \"held\", \"held\", \"held\", \"held\", \"help\", \"help\", \"help\", \"help\", \"help\", \"house\", \"house\", \"illinois\", \"illinois\", \"illinois\", \"illinois\", \"illinois\", \"illinois\", \"illinois\", \"illinois\", \"illinois\", \"illinois\", \"illinois\", \"illinois\", \"immediately\", \"immediately\", \"immediately\", \"immediately\", \"improvement\", \"improvement\", \"improvement\", \"improvement\", \"improvement\", \"improvements\", \"improvements\", \"improvements\", \"inc\", \"inc\", \"inc\", \"inc\", \"inc\", \"inclu\", \"include\", \"include\", \"include\", \"includes\", \"includes\", \"includes\", \"including\", \"including\", \"including\", \"including\", \"including\", \"independent\", \"independent\", \"individual\", \"individual\", \"individual\", \"individual\", \"individual\", \"individual\", \"individuals\", \"information\", \"information\", \"information\", \"information\", \"information\", \"information\", \"information\", \"infrastructure\", \"infrastructure\", \"infrastructure\", \"infrastructure\", \"infrastructure\", \"infrastructure\", \"infrastructure\", \"install\", \"install\", \"install\", \"insurance\", \"insurance\", \"insurance\", \"insurance\", \"intake\", \"interest\", \"interest\", \"intergovernmental\", \"intergovernmental\", \"intergovernmental\", \"intergovernmental\", \"intergovernmental\", \"intergovernmental\", \"international\", \"international\", \"interpreters\", \"interpreters\", \"interpreters\", \"introduced\", \"introduced\", \"investment\", \"investment\", \"investment\", \"investment\", \"investment\", \"invoice\", \"irs\", \"irs\", \"irvine\", \"irvine\", \"irvine\", \"irvine\", \"irving\", \"irving\", \"irving\", \"irving\", \"irving\", \"island\", \"issue\", \"issue\", \"issue\", \"issue\", \"issue\", \"issued\", \"issued\", \"issued\", \"issues\", \"issues\", \"items\", \"items\", \"items\", \"janice\", \"january\", \"january\", \"january\", \"january\", \"january\", \"january\", \"january\", \"january\", \"january\", \"january\", \"january\", \"january\", \"january\", \"january\", \"jefferson\", \"jefferson\", \"jefferson\", \"jefferson\", \"jefferson\", \"johnny\", \"july\", \"july\", \"july\", \"july\", \"july\", \"july\", \"july\", \"july\", \"july\", \"july\", \"july\", \"july\", \"july\", \"july\", \"june\", \"june\", \"june\", \"june\", \"june\", \"june\", \"june\", \"june\", \"june\", \"june\", \"june\", \"june\", \"june\", \"june\", \"kate\", \"kedzie\", \"kedzie\", \"kedzie\", \"kennelly\", \"kennelly\", \"kevin\", \"kevin\", \"kevin\", \"kevin\", \"kneel\", \"kneel\", \"know\", \"know\", \"know\", \"labor\", \"labor\", \"lake\", \"lake\", \"lake\", \"lake\", \"lake\", \"lake\", \"lake\", \"lake\", \"lake\", \"lake\", \"language\", \"language\", \"language\", \"language\", \"language\", \"lease\", \"lease\", \"least\", \"least\", \"least\", \"legal\", \"legal\", \"legal\", \"legal\", \"legal\", \"level\", \"level\", \"level\", \"liability\", \"license\", \"license\", \"license\", \"license\", \"license\", \"like\", \"line\", \"line\", \"line\", \"line\", \"line\", \"line\", \"line\", \"line\", \"line\", \"list\", \"list\", \"list\", \"list\", \"listed\", \"listed\", \"listed\", \"litigation\", \"litigation\", \"local\", \"local\", \"local\", \"local\", \"local\", \"located\", \"located\", \"located\", \"located\", \"located\", \"located\", \"located\", \"located\", \"location\", \"location\", \"location\", \"location\", \"location\", \"logistics\", \"logistics\", \"logistics\", \"logistics\", \"longhini\", \"longhini\", \"longhini\", \"longhini\", \"longrange\", \"made\", \"made\", \"made\", \"made\", \"made\", \"maintain\", \"maintain\", \"maintain\", \"maintenance\", \"maintenance\", \"maintenance\", \"maintenance\", \"make\", \"make\", \"make\", \"making\", \"making\", \"making\", \"management\", \"management\", \"management\", \"management\", \"management\", \"management\", \"manager\", \"manager\", \"manager\", \"manager\", \"manager\", \"manager\", \"manager\", \"many\", \"many\", \"many\", \"marathon\", \"marathon\", \"march\", \"march\", \"march\", \"march\", \"march\", \"march\", \"march\", \"march\", \"march\", \"march\", \"march\", \"march\", \"march\", \"march\", \"materials\", \"materials\", \"materials\", \"materials\", \"materials\", \"matters\", \"matters\", \"matters\", \"matters\", \"matters\", \"may\", \"may\", \"may\", \"may\", \"may\", \"may\", \"may\", \"may\", \"may\", \"may\", \"may\", \"may\", \"may\", \"mckone\", \"mckone\", \"medical\", \"medical\", \"medical\", \"medical\", \"medical\", \"meet\", \"meetings\", \"meetings\", \"meetings\", \"meetings\", \"meetings\", \"meetings\", \"meetings\", \"meetings\", \"melissa\", \"melissa\", \"member\", \"member\", \"member\", \"member\", \"member\", \"members\", \"members\", \"members\", \"members\", \"members\", \"members\", \"members\", \"members\", \"members\", \"members\", \"members\", \"mentioned\", \"metra\", \"metra\", \"metra\", \"metra\", \"metra\", \"michael\", \"michael\", \"michael\", \"michael\", \"michael\", \"might\", \"mike\", \"mike\", \"mike\", \"miller\", \"miller\", \"miller\", \"million\", \"million\", \"million\", \"million\", \"minu\", \"minutes\", \"minutes\", \"minutes\", \"minutes\", \"minutes\", \"minutes\", \"minutes\", \"minutes\", \"minutes\", \"minutes\", \"minutes\", \"minutes\", \"minutes\", \"mobile\", \"mobile\", \"mobile\", \"mobility\", \"modernization\", \"modernization\", \"modernization\", \"modernization\", \"modernization\", \"monday\", \"monday\", \"monday\", \"monday\", \"monday\", \"month\", \"month\", \"month\", \"month\", \"months\", \"months\", \"months\", \"montrose\", \"montrose\", \"montrose\", \"montrose\", \"morey\", \"morey\", \"morgan\", \"morgan\", \"motion\", \"motion\", \"motion\", \"motion\", \"motion\", \"motion\", \"motion\", \"motion\", \"motion\", \"motion\", \"motionto\", \"motionto\", \"moved\", \"moved\", \"moved\", \"moved\", \"na\", \"national\", \"national\", \"national\", \"national\", \"nd\", \"nd\", \"nd\", \"need\", \"need\", \"need\", \"need\", \"need\", \"needed\", \"needed\", \"needed\", \"needed\", \"needed\", \"new\", \"new\", \"new\", \"new\", \"new\", \"new\", \"new\", \"new\", \"new\", \"new\", \"new\", \"next\", \"next\", \"next\", \"next\", \"next\", \"next\", \"next\", \"none\", \"none\", \"none\", \"none\", \"none\", \"nonmembers\", \"north\", \"north\", \"north\", \"north\", \"north\", \"north\", \"noted\", \"notice\", \"notice\", \"notice\", \"notice\", \"notice\", \"noticed\", \"noticed\", \"noticed\", \"noticed\", \"notices\", \"notices\", \"november\", \"november\", \"november\", \"november\", \"november\", \"november\", \"november\", \"november\", \"november\", \"november\", \"november\", \"number\", \"number\", \"number\", \"occurred\", \"october\", \"october\", \"october\", \"october\", \"october\", \"october\", \"october\", \"october\", \"october\", \"october\", \"october\", \"october\", \"october\", \"office\", \"office\", \"office\", \"office\", \"office\", \"office\", \"office\", \"office\", \"officer\", \"offices\", \"offices\", \"offices\", \"offices\", \"offices\", \"ogden\", \"ogden\", \"old\", \"old\", \"old\", \"old\", \"omnibus\", \"omnibus\", \"one\", \"one\", \"one\", \"one\", \"one\", \"one\", \"one\", \"one\", \"oneyear\", \"ongoing\", \"ongoing\", \"operate\", \"operate\", \"operate\", \"operate\", \"operating\", \"operating\", \"operating\", \"operating\", \"operating\", \"operational\", \"operational\", \"operational\", \"operations\", \"operations\", \"operations\", \"operations\", \"operator\", \"operator\", \"operators\", \"operators\", \"operators\", \"option\", \"option\", \"option\", \"option\", \"option\", \"option\", \"options\", \"options\", \"options\", \"options\", \"order\", \"order\", \"order\", \"order\", \"order\", \"order\", \"order\", \"order\", \"ordinance\", \"ordinance\", \"ordinance\", \"ordinance\", \"ordinance\", \"ordinance\", \"ordinance\", \"ordinances\", \"outstanding\", \"overall\", \"overunderpayments\", \"overunderpayments\", \"packets\", \"page\", \"page\", \"page\", \"page\", \"park\", \"park\", \"park\", \"park\", \"park\", \"park\", \"park\", \"parking\", \"parking\", \"parking\", \"participant\", \"participant\", \"participant\", \"participants\", \"participants\", \"participants\", \"participants\", \"pass\", \"pass\", \"pass\", \"payment\", \"payment\", \"payment\", \"payment\", \"pending\", \"pending\", \"pending\", \"pending\", \"people\", \"people\", \"people\", \"people\", \"performance\", \"performance\", \"performance\", \"period\", \"period\", \"period\", \"period\", \"permanent\", \"permanent\", \"permanent\", \"permanent\", \"person\", \"person\", \"person\", \"personnel\", \"personnel\", \"personnel\", \"personnel\", \"personnel\", \"personnel\", \"personnel\", \"peterson\", \"peterson\", \"peterson\", \"peterson\", \"peterson\", \"peterson\", \"phase\", \"phase\", \"phase\", \"phase\", \"phone\", \"phone\", \"phone\", \"phone\", \"phone\", \"physically\", \"physically\", \"pierre\", \"pierre\", \"pilot\", \"pilot\", \"pilot\", \"pilot\", \"pilot\", \"pilot\", \"pilot\", \"placed\", \"placed\", \"placed\", \"placed\", \"plan\", \"plan\", \"plan\", \"plan\", \"plan\", \"plan\", \"plan\", \"planning\", \"planning\", \"planning\", \"planning\", \"planning\", \"platform\", \"platform\", \"platform\", \"pm\", \"pm\", \"pm\", \"pm\", \"pm\", \"pm\", \"pm\", \"pm\", \"pm\", \"pm\", \"pm\", \"police\", \"police\", \"police\", \"policy\", \"policy\", \"policy\", \"policy\", \"policy\", \"policy\", \"policy\", \"policy\", \"policy\", \"portion\", \"portion\", \"portion\", \"portion\", \"portion\", \"portion\", \"portion\", \"posted\", \"posted\", \"posted\", \"posted\", \"posted\", \"potential\", \"potential\", \"potential\", \"preliminary\", \"preliminary\", \"preliminary\", \"preliminary\", \"present\", \"present\", \"present\", \"present\", \"present\", \"presentation\", \"presentation\", \"presentation\", \"presentation\", \"presentation\", \"presentations\", \"president\", \"president\", \"president\", \"president\", \"previous\", \"previous\", \"previous\", \"primary\", \"primary\", \"primary\", \"prior\", \"prior\", \"prior\", \"prior\", \"prior\", \"prior\", \"prior\", \"prior\", \"prior\", \"priority\", \"priority\", \"priority\", \"priority\", \"priority\", \"procedures\", \"procedures\", \"procedures\", \"procedures\", \"procedures\", \"program\", \"program\", \"program\", \"program\", \"program\", \"program\", \"program\", \"program\", \"program\", \"programs\", \"programs\", \"programs\", \"programs\", \"programs\", \"project\", \"project\", \"project\", \"project\", \"project\", \"project\", \"project\", \"projects\", \"projects\", \"projects\", \"projects\", \"properly\", \"properly\", \"properly\", \"properly\", \"properly\", \"property\", \"property\", \"property\", \"property\", \"property\", \"property\", \"property\", \"proposals\", \"proposals\", \"proposals\", \"protective\", \"provide\", \"provide\", \"provide\", \"provide\", \"provide\", \"provided\", \"provided\", \"provided\", \"provided\", \"provided\", \"provided\", \"provided\", \"providing\", \"public\", \"public\", \"public\", \"public\", \"public\", \"public\", \"public\", \"public\", \"public\", \"purchase\", \"purchase\", \"purchase\", \"purchase\", \"purchase\", \"purchase\", \"purple\", \"purple\", \"purple\", \"purple\", \"purpose\", \"purpose\", \"purpose\", \"purpose\", \"pursuant\", \"pursuant\", \"pursuant\", \"quarter\", \"quarter\", \"quarter\", \"quarter\", \"question\", \"question\", \"question\", \"questions\", \"questions\", \"questions\", \"questions\", \"questions\", \"quincy\", \"quorum\", \"quorum\", \"quorum\", \"rachel\", \"racine\", \"racine\", \"racine\", \"racine\", \"rail\", \"rail\", \"rail\", \"rail\", \"rail\", \"rail\", \"rail\", \"railroad\", \"railroad\", \"ramp\", \"ramp\", \"real\", \"real\", \"real\", \"real\", \"real\", \"reasonable\", \"received\", \"received\", \"received\", \"received\", \"received\", \"recent\", \"recent\", \"recent\", \"recess\", \"recommend\", \"recommend\", \"recommendation\", \"recommendation\", \"recommendation\", \"recommendation\", \"recommendations\", \"recommendations\", \"recommendations\", \"recommendations\", \"recommendations\", \"recommended\", \"recommended\", \"recommended\", \"recommended\", \"recommended\", \"red\", \"red\", \"red\", \"red\", \"red\", \"red\", \"reflects\", \"regarding\", \"regarding\", \"regarding\", \"regarding\", \"regarding\", \"regular\", \"regular\", \"regular\", \"regular\", \"regular\", \"regular\", \"regular\", \"regular\", \"regular\", \"related\", \"related\", \"related\", \"related\", \"related\", \"related\", \"related\", \"related\", \"relating\", \"relating\", \"relocation\", \"relocation\", \"relocation\", \"relocation\", \"repair\", \"repair\", \"repair\", \"repair\", \"repair\", \"report\", \"report\", \"report\", \"report\", \"report\", \"report\", \"report\", \"report\", \"reported\", \"reported\", \"reported\", \"reported\", \"reported\", \"reported\", \"representative\", \"representative\", \"request\", \"request\", \"request\", \"request\", \"request\", \"requests\", \"requests\", \"required\", \"required\", \"resolution\", \"resolution\", \"resolution\", \"retail\", \"retail\", \"retail\", \"retail\", \"retail\", \"retirement\", \"retirement\", \"retirement\", \"retirement\", \"retirement\", \"revenue\", \"revenue\", \"revenue\", \"revenue\", \"revenue\", \"revenues\", \"review\", \"review\", \"review\", \"review\", \"review\", \"review\", \"reviewed\", \"reviewed\", \"reviewed\", \"reviewed\", \"ride\", \"ride\", \"ride\", \"right\", \"right\", \"rights\", \"robert\", \"robert\", \"robert\", \"robert\", \"roll\", \"roll\", \"roll\", \"roll\", \"roll\", \"roll\", \"roll\", \"room\", \"room\", \"room\", \"rosales\", \"rosales\", \"route\", \"route\", \"route\", \"routes\", \"routes\", \"routes\", \"rta\", \"rta\", \"rta\", \"rta\", \"rules\", \"rules\", \"rules\", \"rules\", \"rules\", \"safety\", \"safety\", \"safety\", \"safety\", \"said\", \"said\", \"sales\", \"sales\", \"sales\", \"sales\", \"sales\", \"sales\", \"say\", \"scheduled\", \"scheduled\", \"school\", \"school\", \"school\", \"schools\", \"schools\", \"schools\", \"se\", \"seating\", \"second\", \"second\", \"second\", \"second\", \"second\", \"second\", \"second\", \"seconded\", \"seconded\", \"seconded\", \"secretary\", \"secretary\", \"secretary\", \"secretary\", \"secured\", \"secured\", \"security\", \"security\", \"security\", \"security\", \"security\", \"security\", \"see\", \"see\", \"sent\", \"sent\", \"sent\", \"september\", \"september\", \"september\", \"september\", \"september\", \"september\", \"september\", \"september\", \"september\", \"september\", \"september\", \"september\", \"serpe\", \"serpe\", \"serpe\", \"serpe\", \"serpe\", \"serpe\", \"serritella\", \"serritella\", \"service\", \"service\", \"service\", \"service\", \"service\", \"service\", \"service\", \"service\", \"service\", \"services\", \"services\", \"services\", \"services\", \"services\", \"services\", \"session\", \"session\", \"session\", \"session\", \"session\", \"setting\", \"setting\", \"setting\", \"setting\", \"settlement\", \"settlement\", \"shamrock\", \"shamrock\", \"shaw\", \"shipbob\", \"shipbob\", \"shipbob\", \"short\", \"short\", \"short\", \"shortterm\", \"shortterm\", \"shortterm\", \"shuffle\", \"side\", \"side\", \"sign\", \"sign\", \"sign\", \"sign\", \"signage\", \"signage\", \"signage\", \"signal\", \"signal\", \"signal\", \"silva\", \"silva\", \"since\", \"since\", \"since\", \"site\", \"six\", \"six\", \"six\", \"six\", \"software\", \"software\", \"someone\", \"someone\", \"someone\", \"something\", \"something\", \"space\", \"space\", \"space\", \"space\", \"space\", \"space\", \"space\", \"special\", \"special\", \"special\", \"special\", \"special\", \"special\", \"specialist\", \"specialist\", \"specific\", \"specific\", \"specific\", \"staff\", \"staff\", \"staff\", \"staff\", \"staff\", \"staff\", \"staff\", \"standing\", \"standing\", \"standing\", \"start\", \"start\", \"start\", \"state\", \"state\", \"state\", \"state\", \"state\", \"stated\", \"stated\", \"stated\", \"stated\", \"station\", \"station\", \"station\", \"station\", \"station\", \"station\", \"stations\", \"stations\", \"stations\", \"stations\", \"stations\", \"statistics\", \"steel\", \"steel\", \"steel\", \"steel\", \"steel\", \"still\", \"still\", \"strategic\", \"strategic\", \"strategic\", \"strategic\", \"strategic\", \"strategic\", \"strategies\", \"street\", \"street\", \"street\", \"street\", \"street\", \"street\", \"street\", \"street\", \"street\", \"street\", \"street\", \"street\", \"street\", \"street\", \"streets\", \"structural\", \"structural\", \"sublease\", \"sublease\", \"sublease\", \"sublease\", \"sublease\", \"submitted\", \"submitted\", \"summer\", \"summer\", \"supplemental\", \"supplemental\", \"supplemental\", \"supplemental\", \"support\", \"support\", \"sure\", \"sure\", \"system\", \"system\", \"system\", \"system\", \"system\", \"system\", \"system\", \"system\", \"systems\", \"systems\", \"systems\", \"take\", \"take\", \"take\", \"taken\", \"taken\", \"taking\", \"taking\", \"taking\", \"taking\", \"task\", \"task\", \"tax\", \"tax\", \"tax\", \"tax\", \"technology\", \"technology\", \"technology\", \"temporary\", \"temporary\", \"temporary\", \"tentative\", \"term\", \"term\", \"term\", \"terminal\", \"terminal\", \"terminal\", \"terminal\", \"terminal\", \"terminal\", \"terms\", \"terms\", \"terms\", \"terms\", \"terry\", \"terry\", \"terry\", \"terry\", \"terry\", \"th\", \"th\", \"th\", \"th\", \"th\", \"th\", \"th\", \"th\", \"three\", \"three\", \"three\", \"three\", \"three\", \"three\", \"thursday\", \"thursday\", \"thursday\", \"thursday\", \"thursday\", \"thursday\", \"time\", \"time\", \"time\", \"time\", \"time\", \"time\", \"time\", \"time\", \"time\", \"time\", \"time\", \"time\", \"times\", \"times\", \"times\", \"times\", \"times\", \"tom\", \"tom\", \"tom\", \"took\", \"took\", \"top\", \"topics\", \"topics\", \"total\", \"total\", \"total\", \"total\", \"total\", \"total\", \"total\", \"totaled\", \"track\", \"track\", \"track\", \"track\", \"trade\", \"trade\", \"trade\", \"trade\", \"train\", \"train\", \"train\", \"training\", \"training\", \"training\", \"training\", \"training\", \"training\", \"transact\", \"transact\", \"transact\", \"transact\", \"transit\", \"transit\", \"transit\", \"transit\", \"transit\", \"transit\", \"transit\", \"transit\", \"transit\", \"transit\", \"transit\", \"transit\", \"transitchicagocom\", \"transitchicagocom\", \"transitchicagocom\", \"transportation\", \"transportation\", \"transportation\", \"transportation\", \"transportation\", \"transportation\", \"transportation\", \"trust\", \"trust\", \"tuesday\", \"tuesday\", \"tuesday\", \"tuesday\", \"two\", \"two\", \"two\", \"two\", \"two\", \"two\", \"two\", \"two\", \"two\", \"unanimous\", \"unanimous\", \"union\", \"union\", \"union\", \"unit\", \"unit\", \"unit\", \"university\", \"university\", \"university\", \"update\", \"update\", \"update\", \"update\", \"update\", \"update\", \"update\", \"upon\", \"upon\", \"upon\", \"upon\", \"upon\", \"upon\", \"use\", \"use\", \"use\", \"use\", \"use\", \"use\", \"using\", \"using\", \"using\", \"utility\", \"utility\", \"utility\", \"utility\", \"vehicles\", \"vehicles\", \"vehicles\", \"vice\", \"vice\", \"vice\", \"vice\", \"vice\", \"vicechairman\", \"vicechairman\", \"vicechairman\", \"vicechairman\", \"vicechairman\", \"voice\", \"voice\", \"vote\", \"vote\", \"voted\", \"voted\", \"votes\", \"vs\", \"vs\", \"vs\", \"wanted\", \"wanted\", \"warren\", \"warren\", \"warren\", \"way\", \"way\", \"wayfinding\", \"website\", \"website\", \"weeks\", \"weeks\", \"well\", \"well\", \"well\", \"well\", \"west\", \"west\", \"west\", \"west\", \"west\", \"west\", \"west\", \"west\", \"west\", \"west\", \"west\", \"west\", \"wheelchair\", \"wheelchair\", \"wheelchair\", \"wilson\", \"wilson\", \"wilson\", \"wilson\", \"wilson\", \"wilson\", \"wilson\", \"within\", \"within\", \"work\", \"work\", \"work\", \"work\", \"work\", \"work\", \"work\", \"working\", \"working\", \"working\", \"working\", \"working\", \"would\", \"would\", \"would\", \"would\", \"would\", \"written\", \"written\", \"written\", \"wwwtransitchicagocom\", \"wwwtransitchicagocom\", \"wwwtransitchicagocom\", \"wwwtransitchicagocom\", \"yarch\", \"yarch\", \"year\", \"year\", \"year\", \"year\", \"year\", \"year\", \"year\", \"year\", \"year\", \"year\", \"years\", \"years\", \"years\", \"years\", \"years\", \"years\", \"years\", \"years\", \"yes\", \"yes\", \"yes\", \"youngblood\", \"youngblood\"]}, \"R\": 30, \"lambda.step\": 0.01, \"plot.opts\": {\"xlab\": \"PC1\", \"ylab\": \"PC2\"}, \"topic.order\": [1, 2, 3, 4, 5, 6, 7, 8, 9, 10, 11, 12, 13, 14, 15, 16, 17, 18, 19, 20, 21, 22, 23, 24, 25]};\n",
       "\n",
       "function LDAvis_load_lib(url, callback){\n",
       "  var s = document.createElement('script');\n",
       "  s.src = url;\n",
       "  s.async = true;\n",
       "  s.onreadystatechange = s.onload = callback;\n",
       "  s.onerror = function(){console.warn(\"failed to load library \" + url);};\n",
       "  document.getElementsByTagName(\"head\")[0].appendChild(s);\n",
       "}\n",
       "\n",
       "if(typeof(LDAvis) !== \"undefined\"){\n",
       "   // already loaded: just create the visualization\n",
       "   !function(LDAvis){\n",
       "       new LDAvis(\"#\" + \"ldavis_el5365448461818569673077770\", ldavis_el5365448461818569673077770_data);\n",
       "   }(LDAvis);\n",
       "}else if(typeof define === \"function\" && define.amd){\n",
       "   // require.js is available: use it to load d3/LDAvis\n",
       "   require.config({paths: {d3: \"https://cdnjs.cloudflare.com/ajax/libs/d3/3.5.5/d3.min\"}});\n",
       "   require([\"d3\"], function(d3){\n",
       "      window.d3 = d3;\n",
       "      LDAvis_load_lib(\"https://cdn.rawgit.com/bmabey/pyLDAvis/files/ldavis.v1.0.0.js\", function(){\n",
       "        new LDAvis(\"#\" + \"ldavis_el5365448461818569673077770\", ldavis_el5365448461818569673077770_data);\n",
       "      });\n",
       "    });\n",
       "}else{\n",
       "    // require.js not available: dynamically load d3 & LDAvis\n",
       "    LDAvis_load_lib(\"https://cdnjs.cloudflare.com/ajax/libs/d3/3.5.5/d3.min.js\", function(){\n",
       "         LDAvis_load_lib(\"https://cdn.rawgit.com/bmabey/pyLDAvis/files/ldavis.v1.0.0.js\", function(){\n",
       "                 new LDAvis(\"#\" + \"ldavis_el5365448461818569673077770\", ldavis_el5365448461818569673077770_data);\n",
       "            })\n",
       "         });\n",
       "}\n",
       "</script>"
      ],
      "text/plain": [
       "PreparedData(topic_coordinates=              x         y  topics  cluster       Freq\n",
       "topic                                                \n",
       "0      0.112926  0.184665       1        1   1.325513\n",
       "1     -0.301685  0.057531       2        1   4.114896\n",
       "2      0.039560 -0.119500       3        1   7.802634\n",
       "3      0.163830 -0.099122       4        1   5.139576\n",
       "4     -0.133272  0.193061       5        1   9.242165\n",
       "5      0.019042 -0.169241       6        1   2.625649\n",
       "6     -0.012019 -0.184900       7        1   2.243319\n",
       "7      0.092810  0.233333       8        1   3.153469\n",
       "8     -0.319545 -0.030591       9        1   4.179858\n",
       "9     -0.098483 -0.170184      10        1   2.505851\n",
       "10    -0.040083  0.035894      11        1   3.033236\n",
       "11     0.136383  0.035931      12        1   1.592726\n",
       "12     0.154099 -0.058419      13        1   3.389842\n",
       "13    -0.036135  0.029490      14        1   3.936428\n",
       "14     0.126923 -0.069066      15        1   0.942765\n",
       "15     0.125670  0.051337      16        1   1.234916\n",
       "16     0.076939 -0.131521      17        1  10.565784\n",
       "17     0.127718 -0.102174      18        1   1.286273\n",
       "18     0.127123  0.113853      19        1   1.162778\n",
       "19     0.107297  0.037452      20        1   2.574112\n",
       "20     0.006165  0.152581      21        1   8.523529\n",
       "21    -0.320219 -0.017664      22        1   8.202453\n",
       "22    -0.226839 -0.058877      23        1   1.597977\n",
       "23     0.127045 -0.030655      24        1   1.354574\n",
       "24    -0.055248  0.116786      25        1   8.269676, topic_info=    Category         Freq         Term        Total  loglift  logprob\n",
       "158  Default  1206.000000      chicago  1206.000000  30.0000  30.0000\n",
       "793  Default   995.000000      transit   995.000000  29.0000  29.0000\n",
       "530  Default   619.000000    ordinance   619.000000  28.0000  28.0000\n",
       "81   Default   457.000000      approve   457.000000  27.0000  27.0000\n",
       "644  Default   484.000000       report   484.000000  26.0000  26.0000\n",
       "..       ...          ...          ...          ...      ...      ...\n",
       "530  Topic25    70.840671    ordinance   619.999234   0.3233  -4.1660\n",
       "122  Topic25    77.471623        board   866.483141   0.0780  -4.0765\n",
       "100  Topic25    61.999402  authorizing   519.800002   0.3663  -4.2993\n",
       "158  Topic25    49.842656      chicago  1206.823592  -0.6943  -4.5176\n",
       "793  Topic25    43.211704      transit   995.297116  -0.6444  -4.6603\n",
       "\n",
       "[1176 rows x 6 columns], token_table=      Topic      Freq        Term\n",
       "term                             \n",
       "0         4  0.062220        10th\n",
       "0        14  0.373318        10th\n",
       "0        17  0.062220        10th\n",
       "0        25  0.311098        10th\n",
       "3        14  0.244725        13th\n",
       "...     ...       ...         ...\n",
       "845       4  0.016272         yes\n",
       "845      17  0.309159         yes\n",
       "845      25  0.618319         yes\n",
       "846       5  0.096957  youngblood\n",
       "846      25  0.824132  youngblood\n",
       "\n",
       "[2714 rows x 3 columns], R=30, lambda_step=0.01, plot_opts={'xlab': 'PC1', 'ylab': 'PC2'}, topic_order=[1, 2, 3, 4, 5, 6, 7, 8, 9, 10, 11, 12, 13, 14, 15, 16, 17, 18, 19, 20, 21, 22, 23, 24, 25])"
      ]
     },
     "execution_count": 221,
     "metadata": {},
     "output_type": "execute_result"
    }
   ],
   "source": [
    "import pyLDAvis\n",
    "pyLDAvis.enable_notebook()\n",
    "pyLDAvis.prepare(**ldavis_params)"
   ]
  },
  {
   "cell_type": "code",
   "execution_count": 0,
   "metadata": {
    "colab": {},
    "colab_type": "code",
    "id": "Fxr4PvTr05vC"
   },
   "outputs": [],
   "source": []
  }
 ],
 "metadata": {
  "colab": {
   "name": "topic_modeling_Russian_FB_ads.ipynb",
   "provenance": []
  },
  "kernelspec": {
   "display_name": "Python 3",
   "language": "python",
   "name": "python3"
  },
  "language_info": {
   "codemirror_mode": {
    "name": "ipython",
    "version": 3
   },
   "file_extension": ".py",
   "mimetype": "text/x-python",
   "name": "python",
   "nbconvert_exporter": "python",
   "pygments_lexer": "ipython3",
   "version": "3.7.2"
  },
  "pycharm": {
   "stem_cell": {
    "cell_type": "raw",
    "metadata": {
     "collapsed": false
    },
    "source": []
   }
  }
 },
 "nbformat": 4,
 "nbformat_minor": 1
}
