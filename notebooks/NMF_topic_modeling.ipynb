{
 "cells": [
  {
   "cell_type": "markdown",
   "metadata": {},
   "source": [
    "# Exploring documents with NMF-based topic modeling\n",
    "\n",
    "Adapted from: https://stackabuse.com/python-for-nlp-topic-modeling/"
   ]
  },
  {
   "cell_type": "markdown",
   "metadata": {},
   "source": [
    "## Load the docs\n",
    "\n",
    "Document loading is detailed in `clustering.ipynb`"
   ]
  },
  {
   "cell_type": "code",
   "execution_count": 1,
   "metadata": {},
   "outputs": [],
   "source": [
    "import os\n",
    "\n",
    "DATADIR = '../data/DocumentCloud/subset'\n",
    "\n",
    "def documents(datadir=DATADIR):\n",
    "    for fn in os.listdir(datadir):\n",
    "        yield open(os.path.join(datadir, fn)).read()\n",
    "docs = [doc for doc in documents()]"
   ]
  },
  {
   "cell_type": "code",
   "execution_count": 2,
   "metadata": {},
   "outputs": [],
   "source": [
    "from sklearn.feature_extraction.text import TfidfVectorizer\n",
    "\n",
    "tfidf_vect = TfidfVectorizer(max_df=0.8, min_df=2, stop_words='english')\n",
    "doc_term_matrix = tfidf_vect.fit_transform(docs)"
   ]
  },
  {
   "cell_type": "code",
   "execution_count": 3,
   "metadata": {},
   "outputs": [
    {
     "data": {
      "text/plain": [
       "NMF(alpha=0.0, beta_loss='frobenius', init=None, l1_ratio=0.0, max_iter=200,\n",
       "    n_components=5, random_state=42, shuffle=False, solver='cd', tol=0.0001,\n",
       "    verbose=0)"
      ]
     },
     "execution_count": 3,
     "metadata": {},
     "output_type": "execute_result"
    }
   ],
   "source": [
    "from sklearn.decomposition import NMF\n",
    "\n",
    "nmf = NMF(n_components=5, random_state=42)\n",
    "nmf.fit(doc_term_matrix )"
   ]
  },
  {
   "cell_type": "code",
   "execution_count": 4,
   "metadata": {},
   "outputs": [
    {
     "name": "stdout",
     "output_type": "stream",
     "text": [
      "Topic #0:\n",
      "['boardroom', 'considering', 'chairman', 'general', 'secretary', 'authority', 'board', 'transit', 'chicago', 'matters']\n",
      "\n",
      "\n",
      "Topic #1:\n",
      "['silva', 'report', 'asked', 'moved', 'peterson', 'chairman', 'agenda', 'board', 'approved', 'motion']\n",
      "\n",
      "\n",
      "Topic #2:\n",
      "['room', 'scheduled', 'discuss', 'authority', 'secretary', 'transit', 'review', 'chicago', 'retirement', 'employee']\n",
      "\n",
      "\n",
      "Topic #3:\n",
      "['months', 'period', 'agreement', 'number', '00', 'approve', 'contract', 'authorizing', 'ordinance', '000']\n",
      "\n",
      "\n",
      "Topic #4:\n",
      "['pm', '2nd', 'retirement', 'business', 'pending', 'adjournment', 'old', '2019', 'bills', 'litigation']\n",
      "\n",
      "\n"
     ]
    }
   ],
   "source": [
    "for i,topic in enumerate(nmf.components_):\n",
    "    print(f'Topic #{i}:')\n",
    "    print([tfidf_vect.get_feature_names()[i] for i in topic.argsort()[-10:]])\n",
    "    print('\\n')"
   ]
  },
  {
   "cell_type": "code",
   "execution_count": null,
   "metadata": {},
   "outputs": [],
   "source": []
  }
 ],
 "metadata": {
  "kernelspec": {
   "display_name": "Python 3",
   "language": "python",
   "name": "python3"
  },
  "language_info": {
   "codemirror_mode": {
    "name": "ipython",
    "version": 3
   },
   "file_extension": ".py",
   "mimetype": "text/x-python",
   "name": "python",
   "nbconvert_exporter": "python",
   "pygments_lexer": "ipython3",
   "version": "3.7.2"
  }
 },
 "nbformat": 4,
 "nbformat_minor": 2
}
