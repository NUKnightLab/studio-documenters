{
 "cells": [
  {
   "cell_type": "markdown",
   "metadata": {
    "colab_type": "text",
    "id": "xbXAJnld0veS"
   },
   "source": [
    "# Topic modeling with tmtoolkit\n",
    "\n",
    "Adapted from: https://github.com/WZBSocialScienceCenter/tmtoolkit/blob/master/doc/source/topic_modeling.ipynb\n",
    "\n",
    "## An example document-term matrix\n",
    "\n",
    "tmtoolkit supports topic models that are computed from document-term matrices (DTMs)."
   ]
  },
  {
   "cell_type": "code",
   "execution_count": 1,
   "metadata": {},
   "outputs": [],
   "source": [
    "import random\n",
    "import os\n",
    "import logging\n",
    "import warnings\n",
    "import numpy as np\n",
    "\n",
    "try:\n",
    "    import tmtoolkit\n",
    "except ModuleNotFoundError:\n",
    "    !pip install tmtoolkit[recommended,lda,sklearn,gensim]\n",
    "from tmtoolkit.topicmod import tm_lda\n",
    "from tmtoolkit.topicmod.model_io import print_ldamodel_topic_words\n",
    "from tmtoolkit.topicmod.tm_lda import compute_models_parallel\n",
    "from tmtoolkit.topicmod.tm_lda import evaluate_topic_models\n",
    "from tmtoolkit.topicmod.evaluate import results_by_parameter\n",
    "from tmtoolkit.corpus import Corpus\n",
    "from tmtoolkit.preprocess import TMPreproc"
   ]
  },
  {
   "cell_type": "code",
   "execution_count": 2,
   "metadata": {
    "colab": {
     "base_uri": "https://localhost:8080/",
     "height": 34
    },
    "colab_type": "code",
    "id": "uquaYEIC0vea",
    "outputId": "cf55d7dd-7d7d-43f3-d149-b529257abe91",
    "pycharm": {
     "is_executing": false
    }
   },
   "outputs": [
    {
     "data": {
      "text/plain": [
       "<Corpus [17237 documents]>"
      ]
     },
     "execution_count": 2,
     "metadata": {},
     "output_type": "execute_result"
    }
   ],
   "source": [
    "random.seed(20191120)   # to make the sampling reproducible\n",
    "np.set_printoptions(precision=5)\n",
    "\n",
    "DATADIR = '../../data/documenters/illinois'\n",
    "_corpus = Corpus()\n",
    "\n",
    "\n",
    "def documents(datadir=DATADIR):\n",
    "    for fn in os.listdir(datadir):\n",
    "        yield fn, open(os.path.join(datadir, fn)).read()\n",
    "\n",
    "for fn, text in documents():\n",
    "    _corpus.add_doc(fn[:-4], text)\n",
    "\n",
    "_corpus"
   ]
  },
  {
   "cell_type": "code",
   "execution_count": 3,
   "metadata": {
    "colab": {
     "base_uri": "https://localhost:8080/",
     "height": 352
    },
    "colab_type": "code",
    "id": "VkYKc8LhGAMR",
    "outputId": "cb1112b9-0a37-458f-91d7-5a07c74359a8"
   },
   "outputs": [
    {
     "data": {
      "text/plain": [
       "(array([1.6794e+04, 2.8100e+02, 1.0700e+02, 3.6000e+01, 1.3000e+01,\n",
       "        4.0000e+00, 1.0000e+00, 0.0000e+00, 0.0000e+00, 1.0000e+00]),\n",
       " array([      0. ,  217464.5,  434929. ,  652393.5,  869858. , 1087322.5,\n",
       "        1304787. , 1522251.5, 1739716. , 1957180.5, 2174645. ]),\n",
       " <a list of 10 Patch objects>)"
      ]
     },
     "execution_count": 3,
     "metadata": {},
     "output_type": "execute_result"
    },
    {
     "data": {
      "image/png": "[encoded data removed]",
      "text/plain": [
       "<Figure size 432x288 with 1 Axes>"
      ]
     },
     "metadata": {},
     "output_type": "display_data"
    }
   ],
   "source": [
    "import matplotlib\n",
    "\n",
    "matplotlib.pyplot.hist(_corpus.doc_lengths.values())"
   ]
  },
  {
   "cell_type": "code",
   "execution_count": 4,
   "metadata": {
    "colab": {
     "base_uri": "https://localhost:8080/",
     "height": 52
    },
    "colab_type": "code",
    "id": "Ainw8SuLGwWl",
    "outputId": "3c62cfe8-b9cf-46c4-82c9-15a43ed09c78"
   },
   "outputs": [
    {
     "name": "stdout",
     "output_type": "stream",
     "text": [
      "Mean doc length: 27797.95039740094\n",
      "Std: 79844.54599522066\n"
     ]
    }
   ],
   "source": [
    "from statistics import mean, stdev\n",
    "doclen_mean = mean(_corpus.doc_lengths.values())\n",
    "doclen_std = stdev(_corpus.doc_lengths.values())\n",
    "print('Mean doc length:', doclen_mean)\n",
    "print('Std:', doclen_std)"
   ]
  },
  {
   "cell_type": "code",
   "execution_count": 5,
   "metadata": {
    "colab": {
     "base_uri": "https://localhost:8080/",
     "height": 34
    },
    "colab_type": "code",
    "id": "HyR3svJQHQXy",
    "outputId": "9670823e-f730-4a48-9cf6-afcec886cc3f"
   },
   "outputs": [
    {
     "data": {
      "text/plain": [
       "<Corpus [16279 documents]>"
      ]
     },
     "execution_count": 5,
     "metadata": {},
     "output_type": "execute_result"
    }
   ],
   "source": [
    "# For topic modeling, document sizes should be similar.\n",
    "# If there is a lot of variance, we might look at a subset of documents of similar size\n",
    "_corpus = _corpus.filter_by_max_length(doclen_mean + doclen_std)\n",
    "_corpus"
   ]
  },
  {
   "cell_type": "code",
   "execution_count": 6,
   "metadata": {
    "colab": {},
    "colab_type": "code",
    "id": "qypuHbTlK706"
   },
   "outputs": [
    {
     "data": {
      "text/plain": [
       "<Corpus [1000 documents]>"
      ]
     },
     "execution_count": 6,
     "metadata": {},
     "output_type": "execute_result"
    }
   ],
   "source": [
    "# A large corpus can be heavy to process. Here we take a sample of 5000 docs\n",
    "corpus = _corpus.sample(1000)\n",
    "corpus.filter_characters()"
   ]
  },
  {
   "cell_type": "code",
   "execution_count": 7,
   "metadata": {},
   "outputs": [],
   "source": [
    "try:\n",
    "    import nltk\n",
    "except ModuleNotFoundError:\n",
    "    !pip install nltk\n",
    "    import nltk\n",
    "try:\n",
    "    nltk.find('corpora/stopwords')\n",
    "except LookupError:\n",
    "    nltk.download('stopwords')\n",
    "try:\n",
    "    nltk.find('tokenizers/punkt')\n",
    "except LookupError:\n",
    "    nltk.download('punkt')\n",
    "try:\n",
    "    nltk.find('taggers/averaged_perceptron_tagger')\n",
    "except LookupError:\n",
    "    nltk.download('averaged_perceptron_tagger')\n",
    "try:\n",
    "    nltk.find('corpora/wordnet')\n",
    "except LookupError:\n",
    "    nltk.download('wordnet')"
   ]
  },
  {
   "cell_type": "markdown",
   "metadata": {
    "colab_type": "text",
    "id": "QpqtMtLf0vfO"
   },
   "source": [
    "## Pre-process the corpus"
   ]
  },
  {
   "cell_type": "code",
   "execution_count": 8,
   "metadata": {
    "colab": {
     "base_uri": "https://localhost:8080/",
     "height": 34
    },
    "colab_type": "code",
    "id": "pNdROi_d0vfR",
    "outputId": "60cc432c-540e-4b5e-a60b-7f6579f191e6",
    "pycharm": {
     "is_executing": false
    }
   },
   "outputs": [
    {
     "data": {
      "text/plain": [
       "(1000, 4001)"
      ]
     },
     "execution_count": 8,
     "metadata": {},
     "output_type": "execute_result"
    }
   ],
   "source": [
    "preproc = TMPreproc(corpus)\n",
    "preproc = preproc \\\n",
    "    .tokens_to_lowercase() \\\n",
    "    .remove_special_chars_in_tokens() \\\n",
    "    .add_stopwords(['mr', 'mrs', 'ms']) \\\n",
    "    .clean_tokens(\n",
    "        remove_numbers=True,\n",
    "        remove_shorter_than=3,\n",
    "        remove_longer_than=20\n",
    "    ) \\\n",
    "    .remove_common_tokens(df_threshold=0.85) \\\n",
    "    .remove_uncommon_tokens(df_threshold=0.01)\n",
    "    \n",
    "    #.remove_common_tokens(df_threshold=0.001) \\\n",
    "    #.remove_uncommon_tokens(df_threshold=0.8)\n",
    "preproc.pos_tag()\n",
    "preproc.filter_for_pos(['N', 'V'])\n",
    "preproc.lemmatize()\n",
    "preproc.n_docs, preproc.vocabulary_size"
   ]
  },
  {
   "cell_type": "code",
   "execution_count": 9,
   "metadata": {},
   "outputs": [
    {
     "data": {
      "text/html": [
       "<div>\n",
       "<style scoped>\n",
       "    .dataframe tbody tr th:only-of-type {\n",
       "        vertical-align: middle;\n",
       "    }\n",
       "\n",
       "    .dataframe tbody tr th {\n",
       "        vertical-align: top;\n",
       "    }\n",
       "\n",
       "    .dataframe thead th {\n",
       "        text-align: right;\n",
       "    }\n",
       "</style>\n",
       "<table border=\"1\" class=\"dataframe\">\n",
       "  <thead>\n",
       "    <tr style=\"text-align: right;\">\n",
       "      <th></th>\n",
       "      <th>doc</th>\n",
       "      <th>position</th>\n",
       "      <th>token</th>\n",
       "      <th>meta_pos</th>\n",
       "    </tr>\n",
       "  </thead>\n",
       "  <tbody>\n",
       "    <tr>\n",
       "      <th>0</th>\n",
       "      <td>5015821-Agenda</td>\n",
       "      <td>0</td>\n",
       "      <td>committee</td>\n",
       "      <td>NN</td>\n",
       "    </tr>\n",
       "    <tr>\n",
       "      <th>1</th>\n",
       "      <td>5015821-Agenda</td>\n",
       "      <td>1</td>\n",
       "      <td>member</td>\n",
       "      <td>NNS</td>\n",
       "    </tr>\n",
       "    <tr>\n",
       "      <th>2</th>\n",
       "      <td>5015821-Agenda</td>\n",
       "      <td>2</td>\n",
       "      <td>chair</td>\n",
       "      <td>NN</td>\n",
       "    </tr>\n",
       "    <tr>\n",
       "      <th>3</th>\n",
       "      <td>5015821-Agenda</td>\n",
       "      <td>3</td>\n",
       "      <td>glenn</td>\n",
       "      <td>NNS</td>\n",
       "    </tr>\n",
       "    <tr>\n",
       "      <th>4</th>\n",
       "      <td>5015821-Agenda</td>\n",
       "      <td>4</td>\n",
       "      <td>meeting</td>\n",
       "      <td>NN</td>\n",
       "    </tr>\n",
       "    <tr>\n",
       "      <th>...</th>\n",
       "      <td>...</td>\n",
       "      <td>...</td>\n",
       "      <td>...</td>\n",
       "      <td>...</td>\n",
       "    </tr>\n",
       "    <tr>\n",
       "      <th>48</th>\n",
       "      <td>6570508-Committee-on-License-and-Consumer-Prot...</td>\n",
       "      <td>48</td>\n",
       "      <td>share</td>\n",
       "      <td>VBD</td>\n",
       "    </tr>\n",
       "    <tr>\n",
       "      <th>49</th>\n",
       "      <td>6570508-Committee-on-License-and-Consumer-Prot...</td>\n",
       "      <td>49</td>\n",
       "      <td>housing</td>\n",
       "      <td>NN</td>\n",
       "    </tr>\n",
       "    <tr>\n",
       "      <th>50</th>\n",
       "      <td>6570508-Committee-on-License-and-Consumer-Prot...</td>\n",
       "      <td>50</td>\n",
       "      <td>ordinance</td>\n",
       "      <td>NN</td>\n",
       "    </tr>\n",
       "    <tr>\n",
       "      <th>51</th>\n",
       "      <td>6570508-Committee-on-License-and-Consumer-Prot...</td>\n",
       "      <td>51</td>\n",
       "      <td>mitt</td>\n",
       "      <td>NN</td>\n",
       "    </tr>\n",
       "    <tr>\n",
       "      <th>52</th>\n",
       "      <td>6570508-Committee-on-License-and-Consumer-Prot...</td>\n",
       "      <td>52</td>\n",
       "      <td>others</td>\n",
       "      <td>NNS</td>\n",
       "    </tr>\n",
       "  </tbody>\n",
       "</table>\n",
       "<p>745421 rows × 4 columns</p>\n",
       "</div>"
      ],
      "text/plain": [
       "                                                  doc  position      token  \\\n",
       "0                                      5015821-Agenda         0  committee   \n",
       "1                                      5015821-Agenda         1     member   \n",
       "2                                      5015821-Agenda         2      chair   \n",
       "3                                      5015821-Agenda         3      glenn   \n",
       "4                                      5015821-Agenda         4    meeting   \n",
       "..                                                ...       ...        ...   \n",
       "48  6570508-Committee-on-License-and-Consumer-Prot...        48      share   \n",
       "49  6570508-Committee-on-License-and-Consumer-Prot...        49    housing   \n",
       "50  6570508-Committee-on-License-and-Consumer-Prot...        50  ordinance   \n",
       "51  6570508-Committee-on-License-and-Consumer-Prot...        51       mitt   \n",
       "52  6570508-Committee-on-License-and-Consumer-Prot...        52     others   \n",
       "\n",
       "   meta_pos  \n",
       "0        NN  \n",
       "1       NNS  \n",
       "2        NN  \n",
       "3       NNS  \n",
       "4        NN  \n",
       "..      ...  \n",
       "48      VBD  \n",
       "49       NN  \n",
       "50       NN  \n",
       "51       NN  \n",
       "52      NNS  \n",
       "\n",
       "[745421 rows x 4 columns]"
      ]
     },
     "execution_count": 9,
     "metadata": {},
     "output_type": "execute_result"
    }
   ],
   "source": [
    "preproc.tokens_datatable"
   ]
  },
  {
   "cell_type": "markdown",
   "metadata": {
    "colab_type": "text",
    "id": "r4B68dNG0vfy"
   },
   "source": [
    "## Create document labels array"
   ]
  },
  {
   "cell_type": "code",
   "execution_count": 10,
   "metadata": {
    "colab": {
     "base_uri": "https://localhost:8080/",
     "height": 52
    },
    "colab_type": "code",
    "id": "gvTU-DSK0vfz",
    "outputId": "adf1d30d-c285-4452-a156-65e93d09e00a",
    "pycharm": {
     "is_executing": false
    }
   },
   "outputs": [
    {
     "data": {
      "text/plain": [
       "array(['5015821-Agenda', '5015824-Agenda',\n",
       "       '5015887-Zoning-Board-of-Appeals-2010-03-19-Agenda',\n",
       "       '5015888-Zoning-Board-of-Appeals-2016-01-15-Map',\n",
       "       '5015890-Zoning-Board-of-Appeals-2009-04-17-Agenda',\n",
       "       '5015896-Zoning-Board-of-Appeals-2012-03-16-Agenda',\n",
       "       '5015899-Zoning-Board-of-Appeals-2015-03-20-Map',\n",
       "       '5015904-Zoning-Board-of-Appeals-2017-12-15-Minutes',\n",
       "       '5015932-Minutes',\n",
       "       '5015946-Managed-Care-Committee-Meetings-2018-10-18-Item'],\n",
       "      dtype='<U58')"
      ]
     },
     "execution_count": 10,
     "metadata": {},
     "output_type": "execute_result"
    }
   ],
   "source": [
    "doc_labels = np.array(preproc.doc_labels)\n",
    "doc_labels[:10]"
   ]
  },
  {
   "cell_type": "markdown",
   "metadata": {},
   "source": [
    "## Get the Document-term-matrix and the vocabulary"
   ]
  },
  {
   "cell_type": "code",
   "execution_count": 11,
   "metadata": {
    "colab": {
     "base_uri": "https://localhost:8080/",
     "height": 86
    },
    "colab_type": "code",
    "id": "wi1B_0eS0vgG",
    "outputId": "0db78dff-6d2d-4222-e469-7f83657981de",
    "pycharm": {
     "is_executing": false
    }
   },
   "outputs": [
    {
     "data": {
      "text/plain": [
       "<1000x4001 sparse matrix of type '<class 'numpy.int32'>'\n",
       "\twith 180707 stored elements in Compressed Sparse Row format>"
      ]
     },
     "execution_count": 11,
     "metadata": {},
     "output_type": "execute_result"
    }
   ],
   "source": [
    "vocab = np.array(preproc.vocabulary)\n",
    "dtm = preproc.dtm\n",
    "\n",
    "del preproc # once we have the dtm, we no longer need the preprocessed corpus\n",
    "dtm"
   ]
  },
  {
   "cell_type": "markdown",
   "metadata": {
    "colab_type": "text",
    "id": "4-47yr2q0vgQ"
   },
   "source": [
    "We now have a sparse DTM, a list of document labels `doc_labels` that represent the rows of both DTMs and vocabulary array `vocab` that represent the columns of the DTM. We will use this data for the remainder of the notebook.\n",
    "\n",
    "### suppress unwanted logging"
   ]
  },
  {
   "cell_type": "code",
   "execution_count": 12,
   "metadata": {
    "colab": {
     "base_uri": "https://localhost:8080/",
     "height": 173
    },
    "colab_type": "code",
    "id": "kOZpg0YA0vgW",
    "outputId": "b5627eaa-bb62-4508-b7bc-a463322ec6c4",
    "pycharm": {
     "is_executing": false
    }
   },
   "outputs": [],
   "source": [
    "logger = logging.getLogger('lda')\n",
    "logger.addHandler(logging.NullHandler())\n",
    "logger.propagate = False\n",
    "\n",
    "warnings.filterwarnings('ignore')"
   ]
  },
  {
   "cell_type": "markdown",
   "metadata": {
    "colab_type": "text",
    "id": "4xeB9t5Q0vhR"
   },
   "source": [
    "## Evaluation of topic model\n",
    "\n",
    "tmtoolkit provides several metrics for comparing and evaluating topic models. This can be used for finding a good hyperparameter set for a given dataset, e.g. a good combination of the number of topics and concentration paramaters (often called alpha and beta in literature). For some background on hyperparameters in topic modeling, see [this blog post](https://datascience.blog.wzb.eu/2017/11/09/topic-modeling-evaluation-in-python-with-tmtoolkit/)."
   ]
  },
  {
   "cell_type": "markdown",
   "metadata": {
    "colab_type": "text",
    "id": "g1-G-tLi0vhg"
   },
   "source": [
    "The heart of the model evaluation process is the function [evaluate_topic_models()](api.rst#tmtoolkit.topicmod.tm_lda.evaluate_topic_models), which is available for all three topic modeling packages. We stick with lda and import that function from [topicmod.tm_lda](api.rst#module-tmtoolkit.topicmod.tm_lda). It is similar to [compute_models_parallel()](api.rst#tmtoolkit.topicmod.tm_lda.compute_models_parallel) as it accepts varying and constant hyperparameters. However, it doesn't only compute the models in parallel, but also applies several metrics to these models in order to evaluate them. This can be controlled with the `metric` parameter that accepts a string or a list of strings that specify the used metric(s). These metrics refer to functions that are implemented in [topicmod.evaluate](api.rst#module-tmtoolkit.topicmod.evaluate).\n",
    "\n",
    "Each topic modeling sub-module defines two important sequences: `AVAILABLE_METRICS` and `DEFAULT_METRICS`. The former lists all available metrics for that sub-module, the latter lists the default metrics that are used when you don't specify anything with the `metric` parameter. Let's have a look at both sequences in [topicmod.tm_lda](api.rst#module-tmtoolkit.topicmod.tm_lda):"
   ]
  },
  {
   "cell_type": "code",
   "execution_count": 13,
   "metadata": {
    "colab": {
     "base_uri": "https://localhost:8080/",
     "height": 156
    },
    "colab_type": "code",
    "id": "-J6xa1Ka0vhj",
    "outputId": "f40f506e-bfc6-4cdf-81f3-1f7fa212e546",
    "pycharm": {
     "is_executing": false
    }
   },
   "outputs": [
    {
     "data": {
      "text/plain": [
       "('loglikelihood',\n",
       " 'cao_juan_2009',\n",
       " 'arun_2010',\n",
       " 'coherence_mimno_2011',\n",
       " 'griffiths_2004',\n",
       " 'held_out_documents_wallach09',\n",
       " 'coherence_gensim_u_mass',\n",
       " 'coherence_gensim_c_v',\n",
       " 'coherence_gensim_c_uci',\n",
       " 'coherence_gensim_c_npmi')"
      ]
     },
     "execution_count": 13,
     "metadata": {},
     "output_type": "execute_result"
    }
   ],
   "source": [
    "tm_lda.AVAILABLE_METRICS"
   ]
  },
  {
   "cell_type": "code",
   "execution_count": 14,
   "metadata": {
    "colab": {
     "base_uri": "https://localhost:8080/",
     "height": 34
    },
    "colab_type": "code",
    "id": "ztxVyDIV0vhq",
    "outputId": "aa805b71-4c50-438f-81e6-ef4623292faf",
    "pycharm": {
     "is_executing": false
    }
   },
   "outputs": [
    {
     "data": {
      "text/plain": [
       "('cao_juan_2009', 'arun_2010', 'coherence_mimno_2011')"
      ]
     },
     "execution_count": 14,
     "metadata": {},
     "output_type": "execute_result"
    }
   ],
   "source": [
    "tm_lda.DEFAULT_METRICS"
   ]
  },
  {
   "cell_type": "markdown",
   "metadata": {
    "colab_type": "text",
    "id": "B0dvRY-r0vh2"
   },
   "source": [
    "For details about the metrics and the academic references, see the respective implementations in the [topicmod.evaluate](api.rst#module-tmtoolkit.topicmod.evaluate) module."
   ]
  },
  {
   "cell_type": "markdown",
   "metadata": {},
   "source": [
    "### variable parameters"
   ]
  },
  {
   "cell_type": "code",
   "execution_count": 21,
   "metadata": {},
   "outputs": [],
   "source": [
    "var_params = [{'n_topics': k, 'alpha': 1/(10**k), 'eta':0.001 } for k in range(1, 201, 5)]"
   ]
  },
  {
   "cell_type": "markdown",
   "metadata": {},
   "source": [
    "### constant parameters"
   ]
  },
  {
   "cell_type": "code",
   "execution_count": 22,
   "metadata": {},
   "outputs": [],
   "source": [
    "const_params = {\n",
    "    'n_iter': 100,\n",
    "    'random_state': 20191122  # to make results reproducible\n",
    "}"
   ]
  },
  {
   "cell_type": "markdown",
   "metadata": {},
   "source": [
    "## Evaluate\n",
    "\n",
    "We will now run the model evaluations with [evaluate_topic_models()](api.rst#tmtoolkit.topicmod.tm_lda.evaluate_topic_models). For each candidate hyperparameter set, a model can be generated and evaluated in parallel. We will do this now for the DTM. Our candidate values for the number of topics k. We make alpha and beta vary with respect to k. We also set `return_models=True` which means to retain the generated models in the evaluation results.\n",
    "\n",
    "This step will take some time, depending on the corpus size, vocabulary size, number of steps in var_params, the number of iterations calculated.\n",
    "\n",
    "During experimentation, you may want to tweak these values to make things run a bit faster until you have a sense of what the right parameters should be."
   ]
  },
  {
   "cell_type": "code",
   "execution_count": 23,
   "metadata": {
    "colab": {
     "base_uri": "https://localhost:8080/",
     "height": 486
    },
    "colab_type": "code",
    "id": "cjG0Kdqs0vh4",
    "outputId": "3f857e0a-87c9-464c-aed2-9edc288fdb5e",
    "pycharm": {
     "is_executing": false
    }
   },
   "outputs": [
    {
     "data": {
      "text/plain": [
       "[({'n_topics': 1,\n",
       "   'alpha': 0.1,\n",
       "   'eta': 0.001,\n",
       "   'n_iter': 100,\n",
       "   'random_state': 20191122},\n",
       "  {'model': <lda.lda.LDA at 0x7fdcdcc4c2b0>,\n",
       "   'cao_juan_2009': nan,\n",
       "   'arun_2010': 101.0017158025303,\n",
       "   'coherence_mimno_2011': -0.7351898988081527}),\n",
       " ({'n_topics': 6,\n",
       "   'alpha': 1e-06,\n",
       "   'eta': 0.001,\n",
       "   'n_iter': 100,\n",
       "   'random_state': 20191122},\n",
       "  {'model': <lda.lda.LDA at 0x7fdcd57aa198>,\n",
       "   'cao_juan_2009': 0.22421130211860138,\n",
       "   'arun_2010': 61.14999743492854,\n",
       "   'coherence_mimno_2011': -0.9195377595312518}),\n",
       " ({'n_topics': 11,\n",
       "   'alpha': 1e-11,\n",
       "   'eta': 0.001,\n",
       "   'n_iter': 100,\n",
       "   'random_state': 20191122},\n",
       "  {'model': <lda.lda.LDA at 0x7fdcd57aa208>,\n",
       "   'cao_juan_2009': 0.20473146593698258,\n",
       "   'arun_2010': 49.20982230123449,\n",
       "   'coherence_mimno_2011': -0.9567918570199055})]"
      ]
     },
     "execution_count": 23,
     "metadata": {},
     "output_type": "execute_result"
    }
   ],
   "source": [
    "eval_results = evaluate_topic_models(dtm,\n",
    "                                     varying_parameters=var_params,\n",
    "                                     constant_parameters=const_params,\n",
    "                                     return_models=True)\n",
    "eval_results[:3]"
   ]
  },
  {
   "cell_type": "markdown",
   "metadata": {},
   "source": [
    "The evaluation results are a list with pairs of hyperparameters and their evaluation results for each metric. Additionally, there is the generated model for each hyperparameter set."
   ]
  },
  {
   "cell_type": "markdown",
   "metadata": {
    "colab_type": "text",
    "id": "ofoR2i6M0vh8"
   },
   "source": [
    "## results by n_topics\n",
    "\n",
    "We now use [results_by_parameter()](api.rst#tmtoolkit.topicmod.evaluate.results_by_parameter), which takes the \"raw\" evaluation results and sorts them by a specific hyperparameter, in this case `n_topics`. This is important because this is the way that the function for visualizing evaluation results, [plot_eval_results()](api.rst#tmtoolkit.topicmod.visualize.plot_eval_results), expects the input."
   ]
  },
  {
   "cell_type": "code",
   "execution_count": 24,
   "metadata": {
    "colab": {
     "base_uri": "https://localhost:8080/",
     "height": 278
    },
    "colab_type": "code",
    "id": "TfVQEr4x0vh_",
    "outputId": "de25794b-17a7-4e5b-e69e-f4e570a11a3d",
    "pycharm": {
     "is_executing": false
    }
   },
   "outputs": [
    {
     "data": {
      "text/plain": [
       "[(1,\n",
       "  {'model': <lda.lda.LDA at 0x7fdcdcc4c2b0>,\n",
       "   'cao_juan_2009': nan,\n",
       "   'arun_2010': 101.0017158025303,\n",
       "   'coherence_mimno_2011': -0.7351898988081527}),\n",
       " (6,\n",
       "  {'model': <lda.lda.LDA at 0x7fdcd57aa198>,\n",
       "   'cao_juan_2009': 0.22421130211860138,\n",
       "   'arun_2010': 61.14999743492854,\n",
       "   'coherence_mimno_2011': -0.9195377595312518}),\n",
       " (11,\n",
       "  {'model': <lda.lda.LDA at 0x7fdcd57aa208>,\n",
       "   'cao_juan_2009': 0.20473146593698258,\n",
       "   'arun_2010': 49.20982230123449,\n",
       "   'coherence_mimno_2011': -0.9567918570199055})]"
      ]
     },
     "execution_count": 24,
     "metadata": {},
     "output_type": "execute_result"
    }
   ],
   "source": [
    "eval_results_by_ntopics = results_by_parameter(eval_results, 'n_topics')\n",
    "eval_results_by_ntopics[:3]"
   ]
  },
  {
   "cell_type": "markdown",
   "metadata": {
    "colab_type": "text",
    "id": "_0BTC-0S0viK"
   },
   "source": [
    "We can now see the results for each metric across the specified range of number of topics using [plot_eval_results()](api.rst#tmtoolkit.topicmod.visualize.plot_eval_results):"
   ]
  },
  {
   "cell_type": "code",
   "execution_count": 25,
   "metadata": {
    "colab": {
     "base_uri": "https://localhost:8080/",
     "height": 390
    },
    "colab_type": "code",
    "id": "gx-5ab2L0viL",
    "outputId": "8d8a4c5e-2602-424f-c65b-a842d6221bf1",
    "pycharm": {
     "is_executing": false
    }
   },
   "outputs": [
    {
     "data": {
      "image/png": "[encoded data removed]",
      "text/plain": [
       "<Figure size 576x432 with 3 Axes>"
      ]
     },
     "metadata": {},
     "output_type": "display_data"
    }
   ],
   "source": [
    "from tmtoolkit.topicmod.visualize import plot_eval_results\n",
    "\n",
    "plot_eval_results(eval_results_by_ntopics);"
   ]
  },
  {
   "cell_type": "markdown",
   "metadata": {
    "colab_type": "text",
    "id": "xBe6QIz30viT"
   },
   "source": [
    "These charts do not \"elbow\" as cleanly as we would like, but we will set the number of topics, `n_topics`, to about 30. We don't have to generate a model with these hyperparameters again, because it's already in the evaluation results (thanks to `return_models=True`). We extract the model from there in order to use it in the rest of the chapter."
   ]
  },
  {
   "cell_type": "code",
   "execution_count": 26,
   "metadata": {
    "colab": {
     "base_uri": "https://localhost:8080/",
     "height": 34
    },
    "colab_type": "code",
    "id": "Bap7FMZ50viZ",
    "outputId": "68f4c909-1bff-4873-f83e-69a1c21983f0",
    "pycharm": {
     "is_executing": false
    }
   },
   "outputs": [
    {
     "data": {
      "text/plain": [
       "(26, 1e-26, 0.001)"
      ]
     },
     "execution_count": 26,
     "metadata": {},
     "output_type": "execute_result"
    }
   ],
   "source": [
    "best_k = 26\n",
    "best_tm = [m for k, m in eval_results_by_ntopics if k == best_k][0]['model']\n",
    "best_tm.n_topics, best_tm.alpha, best_tm.eta  # just to make sure"
   ]
  },
  {
   "cell_type": "markdown",
   "metadata": {},
   "source": [
    "## Visualize the topics"
   ]
  },
  {
   "cell_type": "markdown",
   "metadata": {
    "colab_type": "text",
    "id": "2uKYt1Gb0vmv"
   },
   "source": [
    "### Interactive visualization with pyLDAVis\n",
    "\n",
    "The [pyLDAVis package](https://pyldavis.readthedocs.io/) offers a great interactive tool to explore a topic model. The tmtoolkit function [parameters_for_ldavis()](api.rst#tmtoolkit.topicmod.visualize.generate_wordclouds_for_document_topics) allows to prepare your topic model data for this package so that you can easily pass it on to pyLDAVis."
   ]
  },
  {
   "cell_type": "code",
   "execution_count": 27,
   "metadata": {
    "colab": {},
    "colab_type": "code",
    "id": "moDxDnXj0vmw"
   },
   "outputs": [
    {
     "name": "stdout",
     "output_type": "stream",
     "text": [
      "Collecting pyldavis\n",
      "\u001b[?25l  Downloading https://files.pythonhosted.org/packages/a5/3a/af82e070a8a96e13217c8f362f9a73e82d61ac8fff3a2561946a97f96266/pyLDAvis-2.1.2.tar.gz (1.6MB)\n",
      "\u001b[K     |████████████████████████████████| 1.6MB 46.5MB/s eta 0:00:01\n",
      "\u001b[?25hRequirement already satisfied: wheel>=0.23.0 in /home/ec2-user/anaconda3/envs/tensorflow_p36/lib/python3.6/site-packages (from pyldavis) (0.31.1)\n",
      "Requirement already satisfied: numpy>=1.9.2 in /home/ec2-user/anaconda3/envs/tensorflow_p36/lib/python3.6/site-packages (from pyldavis) (1.18.1)\n",
      "Requirement already satisfied: scipy>=0.18.0 in /home/ec2-user/anaconda3/envs/tensorflow_p36/lib/python3.6/site-packages (from pyldavis) (1.3.1)\n",
      "Requirement already satisfied: pandas>=0.17.0 in /home/ec2-user/anaconda3/envs/tensorflow_p36/lib/python3.6/site-packages (from pyldavis) (1.0.1)\n",
      "Requirement already satisfied: joblib>=0.8.4 in /home/ec2-user/anaconda3/envs/tensorflow_p36/lib/python3.6/site-packages (from pyldavis) (0.14.0)\n",
      "Requirement already satisfied: jinja2>=2.7.2 in /home/ec2-user/anaconda3/envs/tensorflow_p36/lib/python3.6/site-packages (from pyldavis) (2.10)\n",
      "Requirement already satisfied: numexpr in /home/ec2-user/anaconda3/envs/tensorflow_p36/lib/python3.6/site-packages (from pyldavis) (2.7.0)\n",
      "Requirement already satisfied: pytest in /home/ec2-user/anaconda3/envs/tensorflow_p36/lib/python3.6/site-packages (from pyldavis) (3.5.1)\n",
      "Collecting future\n",
      "\u001b[?25l  Downloading https://files.pythonhosted.org/packages/45/0b/38b06fd9b92dc2b68d58b75f900e97884c45bedd2ff83203d933cf5851c9/future-0.18.2.tar.gz (829kB)\n",
      "\u001b[K     |████████████████████████████████| 829kB 75.4MB/s eta 0:00:01\n",
      "\u001b[?25hCollecting funcy\n",
      "\u001b[?25l  Downloading https://files.pythonhosted.org/packages/ce/4b/6ffa76544e46614123de31574ad95758c421aae391a1764921b8a81e1eae/funcy-1.14.tar.gz (548kB)\n",
      "\u001b[K     |████████████████████████████████| 552kB 76.1MB/s eta 0:00:01\n",
      "\u001b[?25hRequirement already satisfied: python-dateutil>=2.6.1 in /home/ec2-user/anaconda3/envs/tensorflow_p36/lib/python3.6/site-packages (from pandas>=0.17.0->pyldavis) (2.7.3)\n",
      "Requirement already satisfied: pytz>=2017.2 in /home/ec2-user/anaconda3/envs/tensorflow_p36/lib/python3.6/site-packages (from pandas>=0.17.0->pyldavis) (2018.4)\n",
      "Requirement already satisfied: MarkupSafe>=0.23 in /home/ec2-user/anaconda3/envs/tensorflow_p36/lib/python3.6/site-packages (from jinja2>=2.7.2->pyldavis) (1.0)\n",
      "Requirement already satisfied: py>=1.5.0 in /home/ec2-user/anaconda3/envs/tensorflow_p36/lib/python3.6/site-packages (from pytest->pyldavis) (1.5.3)\n",
      "Requirement already satisfied: six>=1.10.0 in /home/ec2-user/anaconda3/envs/tensorflow_p36/lib/python3.6/site-packages (from pytest->pyldavis) (1.11.0)\n",
      "Requirement already satisfied: setuptools in /home/ec2-user/anaconda3/envs/tensorflow_p36/lib/python3.6/site-packages (from pytest->pyldavis) (41.6.0)\n",
      "Requirement already satisfied: attrs>=17.4.0 in /home/ec2-user/anaconda3/envs/tensorflow_p36/lib/python3.6/site-packages (from pytest->pyldavis) (18.1.0)\n",
      "Requirement already satisfied: more-itertools>=4.0.0 in /home/ec2-user/anaconda3/envs/tensorflow_p36/lib/python3.6/site-packages (from pytest->pyldavis) (4.1.0)\n",
      "Requirement already satisfied: pluggy<0.7,>=0.5 in /home/ec2-user/anaconda3/envs/tensorflow_p36/lib/python3.6/site-packages (from pytest->pyldavis) (0.6.0)\n",
      "Building wheels for collected packages: pyldavis, future, funcy\n",
      "  Building wheel for pyldavis (setup.py) ... \u001b[?25ldone\n",
      "\u001b[?25h  Created wheel for pyldavis: filename=pyLDAvis-2.1.2-py2.py3-none-any.whl size=96445 sha256=cd86dbe854f991b911d15a01f2765e4a8ee85293217315021fb9f3eaa3cbc126\n",
      "  Stored in directory: /home/ec2-user/.cache/pip/wheels/98/71/24/513a99e58bb6b8465bae4d2d5e9dba8f0bef8179e3051ac414\n",
      "  Building wheel for future (setup.py) ... \u001b[?25ldone\n",
      "\u001b[?25h  Created wheel for future: filename=future-0.18.2-cp36-none-any.whl size=491095 sha256=977e5414593d41273ecf4695590e774a8eac3d058c64b46aa9766af33e69e2af\n",
      "  Stored in directory: /home/ec2-user/.cache/pip/wheels/8b/99/a0/81daf51dcd359a9377b110a8a886b3895921802d2fc1b2397e\n",
      "  Building wheel for funcy (setup.py) ... \u001b[?25ldone\n",
      "\u001b[?25h  Created wheel for funcy: filename=funcy-1.14-py2.py3-none-any.whl size=32056 sha256=c64a213d53a7e02bbeedb30b9116cba12533d9e323d5baf2824192375828a3d1\n",
      "  Stored in directory: /home/ec2-user/.cache/pip/wheels/20/5a/d8/1d875df03deae6f178dfdf70238cca33f948ef8a6f5209f2eb\n",
      "Successfully built pyldavis future funcy\n",
      "Installing collected packages: future, funcy, pyldavis\n",
      "Successfully installed funcy-1.14 future-0.18.2 pyldavis-2.1.2\n",
      "\u001b[33mWARNING: You are using pip version 19.3.1; however, version 20.0.2 is available.\n",
      "You should consider upgrading via the 'pip install --upgrade pip' command.\u001b[0m\n"
     ]
    },
    {
     "data": {
      "text/html": [
       "\n",
       "<link rel=\"stylesheet\" type=\"text/css\" href=\"https://cdn.rawgit.com/bmabey/pyLDAvis/files/ldavis.v1.0.0.css\">\n",
       "\n",
       "\n",
       "<div id=\"ldavis_el394671405865737903283134291317\"></div>\n",
       "<script type=\"text/javascript\">\n",
       "\n",
       "var ldavis_el394671405865737903283134291317_data = {\"mdsDat\": {\"x\": [-0.11976943483457429, 0.29927780833350953, 0.023288672461968123, 0.2378476233352833, -0.06755720868409927, 0.12329786496614949, 0.316785747149738, -0.12720906635649853, -0.08073064511654701, -0.10227898127709696, -0.048005066291148354, -0.11718794248847775, -0.036335872270243305, -0.08246652751152365, -0.117288769518866, -0.00014575507083878207, 0.2738762132483176, 0.19685842234455972, -0.13508707810431803, 0.06644753857306453, -0.14187251371907605, -0.11761463499759368, -0.08819730801306574, -0.08781570210599891, -0.0785136771043486, 0.010396293051724808], \"y\": [0.08489004898412797, -0.014239071030565757, 0.18599710498452912, -0.024390481285906172, -0.02374127025057821, -0.0008172714947646908, 0.0448420606514082, 0.22242847879717936, -0.04776142995022392, 0.09778269430896545, -0.20210015785761784, -0.07141869425515562, -0.10779176893044279, 0.16965997198714342, -0.16377135456533728, -0.06447219792564264, -0.06753597166664842, 0.06447934113901277, 0.03576351777938807, 0.015573476884457146, -0.20283157543728306, 0.011406667135987512, -0.16482463269494108, 0.10935819188531244, 0.1859578242655947, -0.07244350145799863], \"topics\": [1, 2, 3, 4, 5, 6, 7, 8, 9, 10, 11, 12, 13, 14, 15, 16, 17, 18, 19, 20, 21, 22, 23, 24, 25, 26], \"cluster\": [1, 1, 1, 1, 1, 1, 1, 1, 1, 1, 1, 1, 1, 1, 1, 1, 1, 1, 1, 1, 1, 1, 1, 1, 1, 1], \"Freq\": [5.516345796536454, 3.0639061684605076, 5.827176857104911, 3.5985033960674575, 4.407442237339705, 2.1656218432268477, 1.6078162541704621, 4.665014803714947, 4.5568879867886745, 5.060630167381922, 3.0860413108833797, 3.7357412790892663, 2.622142386651302, 3.0550521114913587, 4.455200484021781, 5.6199114325998325, 4.533545472960918, 3.185314070840505, 3.926908418195892, 3.3685662196262247, 3.996265197787559, 2.756697222106702, 3.433361818354997, 5.823823047646901, 3.7115938509915876, 2.2204901659599074]}, \"tinfo\": {\"Term\": [\"contract\", \"commissioner\", \"board\", \"avenue\", \"permit\", \"county\", \"case\", \"attorney\", \"district\", \"health\", \"premise\", \"street\", \"motion\", \"cook\", \"fee\", \"representation\", \"amount\", \"maintain\", \"service\", \"approve\", \"zone\", \"order\", \"member\", \"account\", \"indigent\", \"payment\", \"meeting\", \"know\", \"housing\", \"work\", \"ponce\", \"amey\", \"hallie\", \"projectbased\", \"scatter\", \"familyworks\", \"onebedroom\", \"cumulative\", \"testing\", \"manages\", \"notto\", \"niemann\", \"conclusive\", \"studios\", \"expedite\", \"submittal\", \"coverages\", \"maintaining\", \"reviewing\", \"cameras\", \"supersedes\", \"utilizes\", \"forensic\", \"flashing\", \"innovative\", \"brothers\", \"earlier\", \"apparent\", \"balconies\", \"insurers\", \"mildred\", \"horner\", \"transact\", \"fy2012\", \"rad\", \"ratification\", \"voucher\", \"pra\", \"rodrigo\", \"approves\", \"selfsufficiency\", \"cha\", \"hcv\", \"cozzi\", \"oakwood\", \"hap\", \"chas\", \"reynolds\", \"duly\", \"designee\", \"housing\", \"commissioners\", \"jack\", \"entitle\", \"apartment\", \"letter\", \"option\", \"hud\", \"modification\", \"mbewbedbe\", \"forego\", \"resolve\", \"assistance\", \"resident\", \"item\", \"contract\", \"resolution\", \"insurance\", \"commissioner\", \"board\", \"officer\", \"review\", \"authority\", \"enter\", \"unit\", \"amount\", \"term\", \"authorization\", \"execute\", \"provide\", \"service\", \"program\", \"date\", \"follow\", \"year\", \"management\", \"i57\", \"diversey\", \"marshfield\", \"seeley\", \"monticello\", \"honore\", \"kildare\", \"nagle\", \"cornelia\", \"christiana\", \"champlain\", \"mozart\", \"tripp\", \"granville\", \"luther\", \"stopping\", \"striking\", \"throop\", \"fremont\", \"sangamon\", \"inserting\", \"disable\", \"tow\", \"repeal\", \"quick\", \"visible\", \"47th\", \"western\", \"mixed\", \"narragansett\", \"pulaski\", \"harding\", \"richmond\", \"laramie\", \"mawr\", \"flash\", \"wolcott\", \"load\", \"stop\", \"blvd\", \"strike\", \"signal\", \"kenmore\", \"permit\", \"point\", \"bryn\", \"avenue\", \"south\", \"west\", \"kostner\", \"stand\", \"side\", \"read\", \"belmont\", \"park\", \"street\", \"ave\", \"traffic\", \"monday\", \"foot\", \"lieu\", \"prohibit\", \"zone\", \"kedzie\", \"day\", \"parking\", \"thereof\", \"place\", \"time\", \"sign\", \"pass\", \"amend\", \"ward\", \"item\", \"ordinance\", \"recommend\", \"minute\", \"page\", \"priority\", \"doesnt\", \"deverra\", \"cancer\", \"procedures\", \"expectation\", \"possibility\", \"indicator\", \"awareness\", \"childcare\", \"productivity\", \"breast\", \"overtime\", \"shift\", \"involvement\", \"thirdparty\", \"derive\", \"preference\", \"accomplishment\", \"outcomes\", \"constraint\", \"salaries\", \"comprehensive\", \"win\", \"strengthen\", \"behavior\", \"enables\", \"explore\", \"implementing\", \"evidencebased\", \"violence\", \"team\", \"challenge\", \"guidance\", \"look\", \"model\", \"men\", \"role\", \"understand\", \"crime\", \"commitment\", \"effort\", \"identify\", \"develop\", \"tool\", \"agency\", \"focus\", \"thing\", \"ongoing\", \"collaboration\", \"promote\", \"program\", \"population\", \"coordinate\", \"card\", \"justice\", \"registration\", \"training\", \"train\", \"ensure\", \"help\", \"adult\", \"food\", \"funding\", \"activity\", \"response\", \"process\", \"support\", \"fund\", \"opportunity\", \"group\", \"community\", \"need\", \"budget\", \"provide\", \"include\", \"service\", \"center\", \"staff\", \"plan\", \"project\", \"work\", \"year\", \"area\", \"family\", \"state\", \"cost\", \"office\", \"use\", \"townhouse\", \"twoflat\", \"b11\", \"rm45\", \"wardi\", \"multi\", \"b23\", \"c13\", \"dx7\", \"kupiec\", \"dx5\", \"berth\", \"approx\", \"m23\", \"b22\", \"c33\", \"pocument\", \"retail\", \"rt4\", \"bringing\", \"involves\", \"mixeduse\", \"shopping\", \"neal\", \"builders\", \"seventeen\", \"avenues\", \"stall\", \"rezone\", \"nonconforming\", \"zero\", \"multiunit\", \"residential\", \"shop\", \"manufacturing\", \"neighborhood\", \"story\", \"downtown\", \"surface\", \"space\", \"shah\", \"combine\", \"refer\", \"dwell\", \"detach\", \"height\", \"address\", \"us\", \"change\", \"building\", \"purpose\", \"ordinance\", \"unit\", \"district\", \"llc\", \"development\", \"owner\", \"contain\", \"propose\", \"bank\", \"park\", \"ave\", \"build\", \"property\", \"house\", \"parking\", \"request\", \"exist\", \"plan\", \"ward\", \"locate\", \"floor\", \"attorney\", \"community\", \"office\", \"purchaser\", \"seller\", \"reoccupancy\", \"deemed\", \"shorten\", \"highways\", \"florida\", \"imminent\", \"proud\", \"licensor\", \"suitable\", \"approvals\", \"retroactive\", \"differences\", \"utilizing\", \"vending\", \"longer\", \"next\", \"hundreds\", \"containing\", \"ensuring\", \"architectural\", \"christian\", \"counties\", \"circumstance\", \"terminal\", \"abandon\", \"parttime\", \"abandonment\", \"assess\", \"fulltime\", \"taxation\", \"affidavit\", \"class\", \"ser\", \"definition\", \"concurs\", \"occupies\", \"instance\", \"index\", \"elect\", \"incentive\", \"assessment\", \"whereas\", \"penalty\", \"memory\", \"article\", \"value\", \"tax\", \"property\", \"transmit\", \"county\", \"bureau\", \"cook\", \"enterprise\", \"job\", \"estate\", \"reduction\", \"resolution\", \"interest\", \"number\", \"board\", \"ordinance\", \"commissioner\", \"year\", \"propose\", \"hereby\", \"technology\", \"officer\", \"president\", \"increase\", \"month\", \"development\", \"request\", \"estimate\", \"department\", \"facility\", \"authorize\", \"page\", \"mortar\", \"historic\", \"limestone\", \"instruction\", \"boys\", \"salvage\", \"cabinet\", \"penthouse\", \"character\", \"navy\", \"column\", \"buildout\", \"spirit\", \"dark\", \"rebuilt\", \"arthington\", \"exceeds\", \"facades\", \"found\", \"sedgwick\", \"compatible\", \"deep\", \"lighting\", \"english\", \"remains\", \"moderate\", \"extends\", \"behavioral\", \"disabilities\", \"appliances\", \"erect\", \"landmarks\", \"amenities\", \"student\", \"parent\", \"kenwood\", \"misc\", \"cooper\", \"girl\", \"kid\", \"joint\", \"facade\", \"diverse\", \"finish\", \"wall\", \"rebuild\", \"school\", \"kitchen\", \"wicker\", \"cps\", \"occur\", \"grade\", \"feature\", \"henry\", \"porch\", \"face\", \"tower\", \"stone\", \"chemical\", \"include\", \"proposal\", \"project\", \"council\", \"washington\", \"hall\", \"city\", \"propose\", \"support\", \"community\", \"page\", \"report\", \"comment\", \"contractor\", \"park\", \"meeting\", \"locate\", \"approve\", \"area\", \"meet\", \"program\", \"street\", \"action\", \"department\", \"deleting\", \"rightofway\", \"insert\", \"superior\", \"manhole\", \"sidewalk\", \"maintain\", \"construct\", \"know\", \"trash\", \"planter\", \"tavern\", \"lnc\", \"canopy\", \"barrier\", \"lounge\", \"way\", \"southport\", \"loyola\", \"nathaniel\", \"directing\", \"fixture\", \"premise\", \"ogden\", \"balcony\", \"pub\", \"ordinances\", \"word\", \"broadway\", \"sign\", \"structure\", \"direct\", \"introduction\", \"install\", \"locate\", \"portion\", \"street\", \"use\", \"prohibit\", \"avenue\", \"transportation\", \"lincoln\", \"removal\", \"road\", \"project\", \"ordinance\", \"authorize\", \"grant\", \"city\", \"parking\", \"provision\", \"facility\", \"department\", \"ambulatory\", \"cerner\", \"infection\", \"fegan\", \"acute\", \"pediatrics\", \"continuum\", \"cch\", \"imaging\", \"chronic\", \"em\", \"attendees\", \"fewer\", \"hospitals\", \"affordable\", \"unaudited\", \"cardiac\", \"rothstein\", \"municipalities\", \"developers\", \"furnishing\", \"3rd\", \"flat\", \"poisoning\", \"pharmaceutical\", \"methodology\", \"akpan\", \"medicine\", \"cfo\", \"mortality\", \"jay\", \"ruth\", \"jan\", \"chain\", \"thru\", \"clinic\", \"governance\", \"provident\", \"ems\", \"core\", \"mar\", \"quality\", \"surgery\", \"health\", \"fy19\", \"care\", \"selection\", \"physician\", \"ceo\", \"justification\", \"product\", \"patient\", \"countycare\", \"hospital\", \"system\", \"center\", \"request\", \"john\", \"contract\", \"stroger\", \"cer\", \"service\", \"number\", \"cook\", \"sponsor\", \"month\", \"county\", \"department\", \"period\", \"board\", \"amount\", \"community\", \"safety\", \"executive\", \"officer\", \"exceed\", \"justify\", \"disclosure\", \"campaign\", \"cafr\", \"receives\", \"arise\", \"version\", \"net\", \"unincorporated\", \"determines\", \"relevant\", \"separate\", \"noncompliance\", \"proviso\", \"confidential\", \"agrees\", \"invest\", \"establishes\", \"upon\", \"hosting\", \"compliant\", \"validation\", \"standing\", \"timing\", \"permanent\", \"rst\", \"potential\", \"older\", \"northwest\", \"invasive\", \"validate\", \"municipality\", \"classification\", \"book\", \"living\", \"defines\", \"foreman\", \"wage\", \"reappointment\", \"cite\", \"advocacy\", \"advocate\", \"entity\", \"hiv\", \"description\", \"constitution\", \"assurance\", \"percent\", \"force\", \"employer\", \"regulation\", \"certify\", \"inspector\", \"faith\", \"evidence\", \"protect\", \"obligation\", \"appropriation\", \"treatment\", \"adjustment\", \"county\", \"act\", \"business\", \"rule\", \"provision\", \"committee\", \"post\", \"employee\", \"president\", \"section\", \"control\", \"include\", \"illinois\", \"purpose\", \"information\", \"require\", \"provide\", \"cook\", \"june\", \"use\", \"law\", \"budget\", \"department\", \"meeting\", \"term\", \"report\", \"meet\", \"follow\", \"time\", \"amendment\", \"safety\", \"indictment\", \"defendant\", \"subrogation\", \"raidbard\", \"ankle\", \"trip\", \"inmate\", \"sheriffs\", \"guardian\", \"progressive\", \"alcoholic\", \"pertaining\", \"juvenile\", \"defense\", \"katz\", \"marked\", \"coordinating\", \"ancillary\", \"invoice\", \"accident\", \"lump\", \"stuart\", \"anita\", \"dean\", \"struck\", \"rodney\", \"selfinsurance\", \"sustain\", \"detainees\", \"atlanta\", \"payment\", \"attorney\", \"suit\", \"total\", \"submit\", \"fell\", \"court\", \"check\", \"father\", \"slip\", \"order\", \"indigent\", \"injury\", \"child\", \"part\", \"fee\", \"case\", \"see\", \"course\", \"mother\", \"purchase\", \"state\", \"settlement\", \"account\", \"approve\", \"minor\", \"office\", \"illinois\", \"county\", \"cook\", \"board\", \"finance\", \"contract\", \"department\", \"santos\", \"sludge\", \"attpdf\", \"kirie\", \"salt\", \"alitto\", \"railing\", \"pastor\", \"rain\", \"excavation\", \"paschensn\", \"announcements\", \"willow\", \"sodium\", \"blower\", \"alsip\", \"bf5pdf\", \"electric\", \"nielsen\", \"canal\", \"roofing\", \"cooperative\", \"assignments\", \"sixteen\", \"bradford\", \"columns\", \"stormwater\", \"horton\", \"subsequently\", \"discussing\", \"obrien\", \"easement\", \"pump\", \"invocation\", \"wetland\", \"rejection\", \"cynthia\", \"congratulate\", \"door\", \"carbon\", \"furnish\", \"avila\", \"advertisement\", \"engineering\", \"configuration\", \"pollution\", \"abstain\", \"monroe\", \"publish\", \"station\", \"engineer\", \"motion\", \"approve\", \"open\", \"meeting\", \"plant\", \"remove\", \"committee\", \"village\", \"roll\", \"second\", \"report\", \"adopt\", \"board\", \"file\", \"vote\", \"call\", \"follow\", \"item\", \"commissioner\", \"resolution\", \"project\", \"system\", \"district\", \"minute\", \"operation\", \"park\", \"street\", \"order\", \"chairwoman\", \"diabetes\", \"content\", \"integrity\", \"prieto\", \"homelessness\", \"fache\", \"depend\", \"willingness\", \"general\", \"identi\", \"contingent\", \"objectives\", \"allows\", \"perspective\", \"ahap\", \"owe\", \"suburb\", \"depository\", \"legislative\", \"promotes\", \"indicates\", \"committees\", \"mental\", \"ceopresident\", \"participants\", \"less\", \"veterans\", \"cutting\", \"revenues\", \"knowledge\", \"fill\", \"framework\", \"objective\", \"subsidy\", \"collaborate\", \"mwbe\", \"fy2020\", \"bargaining\", \"eligibility\", \"landscaping\", \"facilitate\", \"expertise\", \"legislation\", \"stability\", \"disqualify\", \"expulsion\", \"testimony\", \"germane\", \"implement\", \"variance\", \"otherwise\", \"adhere\", \"range\", \"allot\", \"keep\", \"failure\", \"secretary\", \"language\", \"time\", \"speaker\", \"collection\", \"meeting\", \"track\", \"committee\", \"board\", \"organization\", \"pay\", \"person\", \"history\", \"individual\", \"requirement\", \"present\", \"relation\", \"cook\", \"result\", \"minute\", \"county\", \"list\", \"address\", \"provide\", \"meet\", \"date\", \"use\", \"increase\", \"commissioner\", \"item\", \"call\", \"matter\", \"include\", \"submit\", \"member\", \"agenda\", \"winkler\", \"gambling\", \"portal\", \"extra\", \"supreme\", \"amendments\", \"disciplinary\", \"liabilities\", \"aldermen\", \"sixth\", \"unused\", \"girls\", \"operates\", \"casinos\", \"courthouse\", \"ready\", \"30th\", \"recycling\", \"recommending\", \"middle\", \"totaling\", \"expiring\", \"higher\", \"gamble\", \"casino\", \"patron\", \"gardner\", \"prevail\", \"ostrowski\", \"investigation\", \"fraud\", \"alcohol\", \"sullivan\", \"commentary\", \"auditor\", \"mail\", \"greg\", \"senator\", \"mayor\", \"surveillance\", \"rahm\", \"license\", \"karen\", \"fairbanks\", \"abuse\", \"jaffe\", \"view\", \"homeland\", \"barry\", \"ownership\", \"elgin\", \"audit\", \"substance\", \"official\", \"city\", \"code\", \"corporation\", \"government\", \"revenue\", \"hour\", \"sponsor\", \"council\", \"game\", \"budget\", \"base\", \"member\", \"position\", \"person\", \"meeting\", \"consideration\", \"ordinance\", \"board\", \"department\", \"service\", \"commission\", \"business\", \"committee\", \"illinois\", \"approve\", \"management\", \"section\", \"karoll\", \"marv\", \"horwitz\", \"appellate\", \"morask\", \"morrissey\", \"recoveries\", \"accidental\", \"representation\", \"render\", \"prosecutor\", \"extensions\", \"presenter\", \"shakman\", \"hannah\", \"steven\", \"respondent\", \"transmittal\", \"allegation\", \"freeman\", \"left\", \"monica\", \"willis\", \"convey\", \"hinshaw\", \"redmond\", \"christina\", \"injure\", \"witness\", \"darlene\", \"name\", \"minor\", \"silets\", \"indigent\", \"case\", \"paul\", \"mother\", \"fee\", \"stephen\", \"fix\", \"litigation\", \"subcommittee\", \"settlement\", \"dart\", \"service\", \"father\", \"charge\", \"law\", \"claim\", \"daniel\", \"court\", \"expense\", \"date\", \"department\", \"page\", \"approval\", \"amount\", \"attorney\", \"worker\", \"order\", \"matter\", \"anything\", \"violate\", \"queen\", \"boruta\", \"holder\", \"eileen\", \"immediate\", \"recording\", \"bargain\", \"operational\", \"recommendations\", \"excellent\", \"safe\", \"spoke\", \"occupational\", \"gaming\", \"educational\", \"duties\", \"am160\", \"developed\", \"obligations\", \"hard\", \"asking\", \"procurements\", \"showing\", \"bilandic\", \"rdo\", \"boldface\", \"victim\", \"oppose\", \"riverboat\", \"alj\", \"coli\", \"revoke\", \"electronics\", \"game\", \"decline\", \"distributor\", \"emerald\", \"complaint\", \"simpson\", \"pace\", \"twentyone\", \"answer\", \"gary\", \"member\", \"move\", \"enforcement\", \"licensee\", \"counsel\", \"carter\", \"panel\", \"session\", \"administrator\", \"motion\", \"board\", \"second\", \"vote\", \"chairman\", \"pass\", \"state\", \"rule\", \"staff\", \"director\", \"ask\", \"minute\", \"meeting\", \"call\", \"renewal\", \"illinois\", \"executive\", \"approve\", \"matter\", \"issue\", \"request\", \"action\", \"roll\", \"report\", \"review\", \"recommendation\", \"case\", \"approval\", \"markowski\", \"mtw\", \"ivers\", \"searl\", \"sih\", \"holleb\", \"mixedincome\", \"chucgill\", \"ammarell\", \"apartments\", \"green\", \"nonmtw\", \"finalizing\", \"supportive\", \"awardee\", \"thereupon\", \"kelly\", \"nos\", \"households\", \"scheinfeld\", \"experiencing\", \"vouchers\", \"overall\", \"completing\", \"revitalization\", \"bonding\", \"cabrera\", \"myra\", \"cabrini\", \"fy2011\", \"buyspeed\", \"scudiero\", \"brewer\", \"lakefront\", \"nottoexceed\", \"sierra\", \"ifb\", \"tunney\", \"reidy\", \"chairperson\", \"cityowned\", \"redevelopment\", \"developer\", \"financing\", \"demolition\", \"voting\", \"declare\", \"loan\", \"series\", \"authorize\", \"disposition\", \"acquisition\", \"sale\", \"development\", \"tenant\", \"site\", \"resolution\", \"property\", \"authority\", \"say\", \"approve\", \"plan\", \"agreement\", \"area\", \"bond\", \"recommend\", \"land\", \"motion\", \"approval\", \"housing\", \"adopt\", \"commissioner\", \"propose\", \"service\", \"city\", \"meeting\", \"project\", \"locate\", \"ordinance\", \"second\", \"building\", \"submit\", \"amount\", \"setback\", \"objector\", \"c12\", \"twocar\", \"b35\", \"b12\", \"nail\", \"onelane\", \"pmd\", \"shed\", \"setbacks\", \"drivethrough\", \"toia\", \"mchugh\", \"objectors\", \"fifteen\", \"residences\", \"yard\", \"threestory\", \"ogrady\", \"continuances\", \"cal\", \"variation\", \"b13\", \"massage\", \"chestnut\", \"salon\", \"affect\", \"flores\", \"singleunit\", \"residence\", \"yea\", \"enclose\", \"b31\", \"reduce\", \"applicant\", \"application\", \"owner\", \"b32\", \"zone\", \"establishment\", \"rear\", \"foot\", \"docket\", \"premise\", \"deck\", \"ward\", \"garage\", \"establish\", \"williams\", \"district\", \"lot\", \"use\", \"exist\", \"side\", \"propose\", \"llc\", \"avenue\", \"family\", \"approve\", \"street\", \"building\", \"require\", \"vote\", \"property\", \"elevation\", \"exterior\", \"parapet\", \"terra\", \"erection\", \"pier\", \"dormer\", \"patch\", \"criteria\", \"bearing\", \"decorative\", \"double\", \"painting\", \"linear\", \"triangle\", \"rec\", \"paving\", \"applicants\", \"inspections\", \"installing\", \"profile\", \"interior\", \"brick\", \"voltage\", \"window\", \"alteration\", \"cotta\", \"astor\", \"color\", \"faade\", \"landmark\", \"front\", \"storefront\", \"preservation\", \"masonry\", \"sample\", \"row\", \"rev\", \"replace\", \"appearance\", \"size\", \"replacement\", \"match\", \"windows\", \"installation\", \"allow\", \"work\", \"michigan\", \"exist\", \"permit\", \"date\", \"district\", \"repair\", \"plan\", \"build\", \"approval\", \"condition\", \"building\", \"floor\", \"maintenance\", \"change\", \"house\", \"sign\", \"review\", \"gugenheim\", \"inpatient\", \"achn\", \"odonnell\", \"ekerete\", \"systemwide\", \"gasb\", \"poison\", \"suleiman\", \"dialysis\", \"physicians\", \"emilie\", \"credentialing\", \"uninsured\", \"mccutchan\", \"weaknesses\", \"payor\", \"wiese\", \"highrisk\", \"beneficial\", \"overhead\", \"chi\", \"weakness\", \"recruiting\", \"meaningful\", \"reasonably\", \"proprietary\", \"clinical\", \"departmental\", \"external\", \"cchhs\", \"jun\", \"ytd\", \"prescription\", \"feb\", \"richardsonlowry\", \"junge\", \"hammock\", \"cycle\", \"medicare\", \"inquire\", \"dashboard\", \"nurse\", \"vacancy\", \"specialty\", \"sep\", \"body\", \"jul\", \"carey\", \"director\", \"visit\", \"percentage\", \"resource\", \"monitoring\", \"nursing\", \"driscoll\", \"statement\", \"page\", \"position\", \"target\", \"hospital\", \"system\", \"manage\", \"network\", \"hire\", \"data\", \"information\", \"health\", \"committee\", \"patient\", \"officer\", \"regard\", \"report\", \"cook\", \"management\", \"employee\", \"end\", \"county\", \"staff\", \"meet\", \"plan\", \"day\", \"care\", \"case\", \"meeting\", \"item\", \"minute\", \"think\", \"tell\", \"cms\", \"seem\", \"aca\", \"one\", \"chance\", \"teach\", \"inclusion\", \"helpful\", \"protocols\", \"eligible\", \"relates\", \"meaning\", \"understands\", \"morales\", \"recognizes\", \"nonprofit\", \"exists\", \"reply\", \"creates\", \"happy\", \"closer\", \"collecting\", \"adjustments\", \"acting\", \"whole\", \"inappropriate\", \"partnerships\", \"categories\", \"cm\", \"deal\", \"talk\", \"want\", \"something\", \"dont\", \"morale\", \"go\", \"hf\", \"get\", \"conversation\", \"explain\", \"believe\", \"someone\", \"put\", \"money\", \"everyone\", \"thank\", \"happen\", \"speak\", \"try\", \"like\", \"come\", \"teacher\", \"feedback\", \"ask\", \"lease\", \"people\", \"promotion\", \"today\", \"do\", \"question\", \"state\", \"say\", \"member\", \"make\", \"start\", \"take\", \"see\", \"give\", \"year\", \"know\", \"time\", \"space\", \"chairman\", \"facility\", \"act\", \"work\", \"need\", \"move\", \"cost\", \"number\", \"director\", \"earlean\", \"driving\", \"sympathy\", \"deeds\", \"oral\", \"employers\", \"amends\", \"got\", \"alex\", \"authorizing\", \"restraining\", \"beaver\", \"edwin\", \"liz\", \"quigley\", \"reyes\", \"orr\", \"collins\", \"doody\", \"lady\", \"attest\", \"gentlemen\", \"degnen\", \"ling\", \"spoken\", \"tripped\", \"maldonado\", \"honorable\", \"occurs\", \"wet\", \"jesus\", \"britton\", \"vice\", \"deleon\", \"butler\", \"suffredin\", \"rock\", \"jerry\", \"gorman\", \"jeffrey\", \"chairman\", \"murphy\", \"garcia\", \"schneider\", \"silvestri\", \"carry\", \"commissioner\", \"tobolski\", \"bureau\", \"county\", \"deborah\", \"cook\", \"sims\", \"room\", \"daley\", \"second\", \"motion\", \"subcommittee\", \"committee\", \"litigation\", \"gainer\", \"finance\", \"move\", \"board\", \"vote\", \"state\", \"report\", \"follow\", \"approval\", \"item\", \"attorney\", \"district\", \"meeting\", \"make\", \"annuitant\", \"annuities\", \"beginning\", \"spouse\", \"dependent\", \"conferences\", \"negative\", \"evidentiary\", \"fitzgerald\", \"widow\", \"briefed\", \"med\", \"refund\", \"annuity\", \"trustee\", \"officio\", \"death\", \"resign\", \"mercy\", \"businessnew\", \"wright\", \"benjamin\", \"disability\", \"female\", \"org\", \"serv\", \"error\", \"postage\", \"aviation\", \"regina\", \"inv\", \"decease\", \"benefit\", \"duty\", \"contribution\", \"doctor\", \"specialist\", \"return\", \"note\", \"summer\", \"update\", \"fund\", \"investment\", \"employee\", \"credit\", \"pension\", \"apply\", \"discharge\", \"roll\", \"hold\", \"date\", \"work\", \"service\", \"report\", \"meeting\", \"year\", \"record\", \"call\", \"move\", \"second\", \"review\", \"board\", \"name\", \"fpd\", \"settlements\", \"oaks\", \"roads\", \"condolences\", \"actuarial\", \"improvements\", \"garca\", \"botanic\", \"satisfactory\", \"preventive\", \"hot\", \"robust\", \"enjoy\", \"forest\", \"northbrook\", \"brookfield\", \"camp\", \"preserve\", \"tree\", \"trail\", \"sand\", \"arroyo\", \"conservation\", \"pave\", \"homer\", \"specie\", \"mitigation\", \"goslin\", \"stanley\", \"deer\", \"boykin\", \"gainer\", \"moody\", \"fritchey\", \"nature\", \"morrison\", \"moore\", \"silvestri\", \"sims\", \"schneider\", \"daley\", \"superintendent\", \"proceeding\", \"absent\", \"steele\", \"restoration\", \"commissioner\", \"suffredin\", \"tobolski\", \"carry\", \"motion\", \"district\", \"make\", \"cook\", \"propose\", \"county\", \"vote\", \"board\", \"second\", \"approve\", \"page\", \"mariyana\", \"chorus\", \"acclamation\", \"mwrdgc\", \"orderchange\", \"iwcc\", \"lasma\", \"mapparcel\", \"biosolids\", \"tarp\", \"cutoff\", \"mccook\", \"logpdf\", \"reportpdf\", \"attachments\", \"thicken\", \"calsma\", \"petroleum\", \"grit\", \"quarry\", \"aeration\", \"aerial\", \"kari\", \"technicians\", \"spyropoulos\", \"requisition\", \"josina\", \"monthly\", \"morita\", \"meany\", \"reclamation\", \"mcgowan\", \"majewski\", \"channel\", \"attachment\", \"calsag\", \"terrence\", \"debra\", \"water\", \"stickney\", \"regular\", \"barbara\", \"advertise\", \"exceed\", \"deliver\", \"decrease\", \"account\", \"amount\", \"purchase\", \"shore\", \"consent\", \"plant\", \"authority\", \"order\", \"recommend\", \"estimate\", \"issue\", \"authorization\", \"contract\", \"agenda\", \"inc\", \"district\", \"cost\", \"agreement\", \"service\", \"board\", \"page\", \"commissioner\", \"item\", \"meeting\", \"winter\", \"heating\", \"governmental\", \"woods\", \"eighty\", \"mailing\", \"fish\", \"regarding\", \"cultural\", \"crabtree\", \"meadows\", \"cooling\", \"recipients\", \"definitions\", \"developments\", \"creative\", \"discount\", \"mbewbe\", \"habitat\", \"wbe\", \"fifty\", \"mbe\", \"payee\", \"glencoe\", \"fails\", \"bidding\", \"festival\", \"countys\", \"drainage\", \"info\", \"specification\", \"districtwide\", \"minority\", \"highway\", \"bid\", \"landscape\", \"extension\", \"abatement\", \"purchasing\", \"bidder\", \"vendor\", \"woman\", \"contract\", \"extent\", \"disbursement\", \"probation\", \"contractor\", \"impact\", \"reason\", \"murphy\", \"butler\", \"amendment\", \"calendar\", \"period\", \"account\", \"title\", \"construction\", \"request\", \"department\", \"present\", \"service\", \"authorization\", \"maintenance\", \"management\", \"approve\", \"fund\", \"finance\", \"item\", \"agreement\", \"business\", \"date\", \"work\", \"inc\", \"grant\", \"amount\", \"include\", \"page\", \"barber\", \"wife\", \"c22\", \"morgan\", \"yates\", \"patrol\", \"aka\", \"loomis\", \"ashley\", \"mini\", \"berwyn\", \"usa\", \"temple\", \"andre\", \"kathy\", \"maureen\", \"att\", \"bernard\", \"andrews\", \"breakdown\", \"urban\", \"enhancements\", \"commercial\", \"allowed\", \"tear\", \"fireman\", \"mentoring\", \"adults\", \"ethics\", \"heavy\", \"harlem\", \"allen\", \"separation\", \"delete\", \"ford\", \"stony\", \"midway\", \"brandon\", \"walsh\", \"bar\", \"comm\", \"anthony\", \"wilson\", \"shield\", \"devon\", \"martin\", \"engine\", \"rise\", \"island\", \"davis\", \"lane\", \"peraica\", \"appeal\", \"son\", \"william\", \"lawrence\", \"oak\", \"november\", \"llc\", \"james\", \"commission\", \"begin\", \"robert\", \"city\", \"none\", \"king\", \"request\", \"meeting\", \"business\", \"march\", \"april\", \"board\", \"johnson\", \"approval\", \"minute\", \"council\", \"sale\", \"committee\", \"project\", \"property\", \"location\", \"order\", \"meet\", \"action\"], \"Freq\": [7020.0, 7799.0, 12679.0, 3809.0, 3473.0, 7527.0, 3694.0, 3935.0, 6190.0, 4091.0, 2222.0, 4069.0, 4501.0, 5968.0, 2911.0, 1697.0, 4825.0, 1516.0, 7161.0, 5282.0, 2412.0, 4643.0, 3205.0, 2863.0, 1778.0, 2358.0, 5228.0, 1273.0, 2342.0, 2820.0, 148.98650352624983, 76.99350848668642, 47.99632992908448, 40.99701096690471, 31.997886586959286, 30.997983878076464, 21.998859498131036, 10.000026991537133, 7.000318864888659, 6.000416156005834, 6.000416156005834, 4.000610738240184, 4.000610738240184, 4.000610738240184, 4.000610738240184, 4.000610738240184, 3.0007080293573583, 3.0007080293573583, 3.0007080293573583, 2.000805320474533, 2.000805320474533, 1.000902611591708, 1.000902611591708, 1.000902611591708, 1.000902611591708, 1.000902611591708, 1.000902611591708, 1.000902611591708, 1.000902611591708, 1.000902611591708, 194.98202813485977, 31.997886586959286, 45.99652451131884, 41.99691367578754, 56.99545430902992, 34.99759471360776, 106.99058975317116, 66.99448139785817, 30.997983878076464, 110.99020058870248, 28.998178460310815, 1178.8862936755597, 51.99594076461579, 87.9924382843975, 67.99438410674101, 61.994967853444045, 302.9715206942049, 69.99418952450665, 47.99632992908448, 348.9670453028148, 1649.8404695593704, 350.9668507205805, 93.99185453769446, 263.9753150477747, 280.9736610987827, 466.9555649509882, 393.962667202542, 196.98183355262543, 128.98844934859335, 94.99175724657728, 126.98864393082768, 422.9598457601439, 242.9773581612354, 371.9648076071198, 1011.9025412921279, 1507.8542848980092, 754.9275451092419, 245.97706628788387, 1312.8732566658582, 1742.8314214854731, 552.9471979149112, 518.9505058128951, 662.9364958920219, 335.9683100873381, 472.9549812042851, 663.9363986009048, 309.97083965638467, 332.9686019606896, 256.97599608559494, 463.9558568243397, 716.9312421716945, 439.95819181115195, 405.9614997091359, 340.96782363175225, 362.9656832271744, 285.97317464319684, 40.993818588021774, 40.993818588021774, 27.996095565552004, 22.996971326140553, 21.997146478258266, 17.997847086729106, 17.997847086729106, 15.998197390964524, 13.998547695199942, 13.998547695199942, 12.998722847317653, 9.999248303670782, 9.999248303670782, 9.999248303670782, 7.9995986079062025, 6.9997737600239125, 6.9997737600239125, 5.0001240642593325, 5.0001240642593325, 4.0002992163770426, 3.0004743684947526, 1217.7876645454771, 109.98173309189978, 283.95125662341826, 2.0006495206124626, 1.0008246727301722, 1.0008246727301722, 1.0008246727301722, 1.0008246727301722, 1.0008246727301722, 49.99224221896239, 28.995920413434295, 23.996796174022844, 23.996796174022844, 43.99329313166864, 83.98628704696026, 35.994694348610324, 218.96264151106942, 161.97262518177888, 75.98768826390193, 131.9778797453102, 33.99504465284574, 38.99416889225719, 2251.6065572557654, 458.920605002819, 40.993818588021774, 2250.606732407883, 280.95178207977136, 282.9514317755359, 55.99119130625613, 179.96947244366007, 623.8917049033969, 160.9728003338966, 49.99224221896239, 1078.8120106898389, 1512.735994670753, 402.9304135214108, 94.98436037366544, 95.98418522154772, 565.9018637262241, 59.99049069778529, 120.979806418605, 665.884348514453, 79.9869876554311, 303.94775358106403, 202.9654439449528, 86.98576159060713, 215.96316696742255, 329.94319962600355, 244.95808755600896, 154.97385124660286, 224.96159059836316, 225.96141544624547, 279.9519572318891, 248.9573869475381, 202.9654439449528, 144.97560276777995, 136.97700398472162, 180.98432945870658, 42.99703952494097, 34.997776340374855, 32.99796054423332, 28.998328951950263, 25.998605257737967, 24.9986973596672, 21.998973665454905, 21.998973665454905, 20.999065767384142, 19.999157869313375, 19.999157869313375, 19.999157869313375, 18.999249971242612, 18.999249971242612, 18.999249971242612, 16.999434175101083, 16.999434175101083, 16.999434175101083, 16.999434175101083, 15.999526277030315, 14.999618378959548, 12.999802582818019, 12.999802582818019, 12.999802582818019, 12.999802582818019, 11.999894684747254, 10.999986786676487, 10.999986786676487, 10.000078888605723, 231.9796322603156, 348.9688563345951, 123.98957926867295, 34.997776340374855, 165.98571098764512, 125.98939506481449, 35.997684238445615, 95.99215812269155, 109.99086869568227, 108.99096079761148, 119.9899476763899, 230.97972436224484, 244.97843493523558, 275.97557977542925, 78.99372385548854, 501.9547647394222, 164.98580308957435, 102.9915134091869, 113.99050028796532, 62.995197486356275, 86.99298704005464, 1368.8749123667758, 154.9867241088667, 72.99427646706394, 83.99326334584235, 214.9811979931126, 105.99123710339919, 168.9854346818574, 182.98414525484813, 181.98423735677733, 204.98211901240492, 132.98875035130985, 230.97972436224484, 273.9757639792877, 313.9720799021183, 197.9827637259096, 366.96719849986886, 483.9564225741484, 768.9301735243165, 255.97742181401395, 369.9669221940812, 536.951541171899, 353.96839582494897, 391.964895951638, 572.9482255024466, 482.9565146760777, 823.9251079182085, 403.9637907284872, 404.96369862655797, 481.9566067780069, 369.9669221940812, 379.96600117478886, 357.968027417232, 304.97290881948146, 274.9756718773585, 347.96894843652433, 274.9756718773585, 263.9766849985801, 265.97650079472163, 125.98220881235245, 84.98832335663027, 70.99041124979831, 64.99130606115604, 56.99249914296634, 44.9942887656818, 41.994736171360664, 38.995183577039526, 33.99592925317097, 27.996824064528706, 22.997569740660147, 22.997569740660147, 21.99771887588643, 18.998166281565297, 15.99861368724416, 14.998762822470448, 11.999210228149314, 6.999955904280756, 237.96550566700816, 2.000701580412197, 2.000701580412197, 152.97818216124267, 121.9828053532576, 1.0008507156384854, 1.0008507156384854, 1.0008507156384854, 1.0008507156384854, 19.99801714633901, 58.99220087251376, 18.998166281565297, 61.9917534668349, 134.9808665953159, 31.996227523623546, 256.96267209770866, 89.98757768049884, 279.959241987504, 240.9650582613293, 46.99399049522922, 42.99458703613438, 764.8869114027543, 79.98906903276172, 78.989218167988, 464.9316519706407, 332.9513378205108, 204.9704271294757, 214.9689357772128, 465.93150283541445, 63.991455196382326, 610.9098782276027, 709.8951138402001, 257.9625229624824, 762.8872096732068, 607.9103256332816, 1200.8218884440926, 503.9258356968154, 586.9134574730335, 473.9303097536041, 172.9751994567169, 613.9094308219237, 184.97340983400144, 479.9294149422464, 272.96028593408806, 375.94492500578036, 480.9292658070201, 228.96684788404477, 216.96863750676022, 446.93433640471386, 353.9482059807587, 393.94224057170715, 319.9532765784525, 335.95089041483186, 280.95909285227776, 353.9482059807587, 274.9599876636355, 240.9650582613293, 87.99028443635389, 76.99162386658885, 43.99564215729375, 30.99722512029871, 29.997346886683708, 22.998199251378686, 12.999416915228654, 6.000269279923633, 5.00039104630863, 5.00039104630863, 4.000512812693628, 4.000512812693628, 3.000634579078624, 2.000756345463621, 2.000756345463621, 2.000756345463621, 2.000756345463621, 1.0008781118486179, 1.0008781118486179, 1.0008781118486179, 1.0008781118486179, 1.0008781118486179, 1.0008781118486179, 1.0008781118486179, 234.97238477775932, 54.99430272705878, 345.9588687090246, 59.993693895133795, 35.99661628837372, 107.98784910865395, 74.99186739935885, 21.998321017763683, 49.994911558983766, 448.94632677136997, 100.98870147334894, 104.98821440780894, 82.99089326827887, 15.999051616073665, 55.99418096067378, 75.99174563297386, 116.98675321118897, 128.985292014569, 232.97262831052933, 553.9335413009453, 57.993937427903795, 21.998321017763683, 102.98845794057894, 285.96617469212447, 485.94182141512505, 1079.869492182437, 101.98857970696393, 2014.7556406124647, 263.9688535525944, 1457.823464488908, 171.98005606001414, 210.97530717099926, 287.96593115935445, 128.985292014569, 565.9320801043253, 187.9781077978542, 428.94876209906994, 1440.825534517453, 529.9364636941852, 922.8886095048814, 494.9407255176601, 507.9391425546552, 190.9777424986992, 186.9782295642392, 340.95947754094965, 273.96763588874444, 295.9649570282745, 275.9673923559744, 311.9630087661145, 345.9588687090246, 219.97421127353428, 312.96288699972956, 229.97299360968432, 230.97287184329932, 229.97299360968432, 174.9576372107737, 142.96556636120852, 35.99207945797489, 21.99554846129012, 18.99629181914338, 18.99629181914338, 18.99629181914338, 17.996539605094473, 16.996787391045558, 16.996787391045558, 15.997035176996645, 11.998026320800996, 10.998274106752083, 10.998274106752083, 7.9990174646053465, 5.999513036507523, 5.999513036507523, 4.99976082245861, 4.99976082245861, 4.99976082245861, 4.99976082245861, 4.000008608409698, 4.000008608409698, 4.000008608409698, 3.0002563943607856, 3.0002563943607856, 3.0002563943607856, 2.0005041803118733, 2.0005041803118733, 2.0005041803118733, 45.989601598464006, 35.99207945797489, 2.0005041803118733, 235.94252226775734, 152.96308850169763, 78.98142466207813, 56.98687595300205, 90.97845123066507, 28.993813959632504, 49.98861045465966, 139.96630971906177, 59.986132595148774, 12.997778534849907, 30.993318387730326, 136.96705307691502, 23.995052889387942, 490.87933685022995, 36.9918316720238, 74.98241580588247, 44.989849384415095, 111.97324772569222, 98.97646894305636, 62.985389237295514, 71.98315916373573, 62.985389237295514, 67.98415030754008, 47.989106026561835, 60.98588480919769, 43.99009717036619, 320.9214604619148, 176.95714163887152, 274.9328586156649, 175.95738942482262, 118.97151322403461, 92.9779556587629, 223.94549569917038, 301.9261683949855, 180.95615049506716, 220.94623905702366, 250.93880547849102, 236.94227448180627, 120.97101765213243, 124.97002650832809, 185.95491156531173, 237.94202669585516, 166.9596194983824, 216.947230200828, 144.96507078930634, 150.96358407359978, 140.9660619331107, 143.9653185752574, 112.97299993974113, 114.97250436783895, 2.999998498623864, 471.8434826221134, 100.96729368860676, 1.0006659437262537, 1.0006659437262537, 176.94193077471596, 1287.5711650203384, 595.8021010257652, 946.6849644102958, 13.996327550560718, 29.9909879897416, 9.997662440765499, 56.981977480859335, 54.98264492596173, 60.98064259065456, 10.997328718214304, 325.89220611458785, 22.99332404759997, 22.99332404759997, 2.000332221175059, 1.0006659437262537, 51.983646093615306, 1072.6429153688453, 9.997662440765499, 9.997662440765499, 8.997996163316694, 6.998663608419085, 35.98898565443443, 14.995993828009524, 492.83647444853835, 163.9462691678815, 83.97296697197709, 56.981977480859335, 100.96729368860676, 533.8227918239394, 154.94927267084225, 643.7860823433078, 459.8474872927278, 62.97997514555217, 579.8074405865843, 91.97029719156752, 42.986649596576065, 50.9839798161665, 87.9716320817723, 147.9516087287006, 158.94793778063746, 96.96862857881155, 95.96896230136274, 80.97396813963067, 64.97930770044978, 62.97997514555217, 62.97997514555217, 65.97897397789859, 167.98167249463248, 87.99087601383415, 61.9938671575747, 18.99881404914561, 17.998929093135633, 14.999274225105694, 11.999619357075757, 443.94992035338663, 9.9998494450558, 6.000309621015885, 6.000309621015885, 5.000424665005905, 5.000424665005905, 3.000654752985947, 3.000654752985947, 2.000769796975968, 2.000769796975968, 133.98558399029318, 1.0008848409659887, 1.0008848409659887, 1.0008848409659887, 1.0008848409659887, 1.0008848409659887, 1.0008848409659887, 1.0008848409659887, 268.9700530516403, 92.99030079388406, 162.98224771458257, 60.99398220156472, 27.99777865323542, 183.97983179079213, 155.98305302251273, 99.9894954859539, 105.98880522201378, 299.96648668794967, 98.98961052994393, 153.98328311049275, 218.97580525114142, 27.99777865323542, 258.9712034915405, 119.98719460615348, 655.9255310275022, 100.98938044196389, 2755.6839386484585, 41.99616803737512, 1083.8762921997732, 264.9705132276004, 154.98316806650277, 167.98167249463248, 134.98546894630317, 298.96660173193965, 427.951761057227, 210.97672560306157, 828.9056284172285, 984.8876815547852, 649.9262212914423, 987.8873364228152, 428.951646013237, 1490.8294692958345, 270.9698229636603, 159.98259284655265, 1226.8598409092, 451.94900000146646, 783.9108053967794, 298.96660173193965, 363.9591238725883, 627.9287522592227, 461.9478495615662, 372.95808847667814, 643.9269115553825, 456.94842478151634, 355.9600442245085, 249.97223888745074, 280.96867252376006, 285.96809730380994, 278.96890261174013, 83.99110691183601, 57.99416902171879, 47.99534675628909, 24.998055545800792, 19.998644413085938, 19.998644413085938, 16.99899773345703, 15.999115506914062, 14.999233280371088, 12.999468827285149, 11.99958660074218, 10.99970437419921, 8.99993992111327, 8.99993992111327, 8.99993992111327, 8.99993992111327, 8.0000576945703, 8.0000576945703, 8.0000576945703, 8.0000576945703, 8.0000576945703, 7.000175468027332, 7.000175468027332, 7.000175468027332, 7.000175468027332, 6.000293241484362, 6.000293241484362, 6.000293241484362, 5.000411014941393, 5.000411014941393, 72.99240241986334, 171.98074284761736, 142.98415827787124, 48.99522898283206, 89.99040027109383, 30.997348905058608, 68.99287351369146, 213.97579636242207, 128.98580710626965, 64.99334460751959, 60.99381570134769, 68.99287351369146, 178.97991843341813, 26.99781999888673, 167.98121394144547, 45.99558230320315, 30.997348905058608, 123.98639597355479, 85.99087136492196, 125.98616042664074, 145.98380495750015, 100.98910476306649, 45.99558230320315, 37.99652449085939, 84.99098913837898, 87.99063581800789, 69.99275574023444, 120.9867492939259, 127.98592487972668, 69.99275574023444, 1354.8414168479505, 345.9602502660941, 478.94458639630903, 229.9739119871096, 209.9762674562502, 777.9093721326569, 164.98156726181656, 353.95930807843786, 306.9648434309183, 312.9641367901761, 161.98192058218766, 354.95919030498084, 407.9529483117582, 185.97909401921893, 265.9696721426565, 265.9696721426565, 365.9578947969535, 506.9412887395122, 220.97497194822287, 331.9618990944925, 228.97402976056662, 235.97320534636742, 325.96260573523466, 358.9587192111527, 216.97544304205098, 299.9656678451175, 240.97261647908226, 230.97379421365258, 220.97497194822287, 199.9774451908205, 181.97956511304704, 918.9035386883787, 900.905447612971, 55.995061017439475, 47.99590942836936, 16.99919702072264, 16.99919702072264, 15.999303072088876, 10.999833328920047, 8.000151483018755, 4.0005756884836945, 3.000681739849929, 2.0007877912161636, 666.9302636326698, 969.8981300687007, 48.99580337700312, 1.0008938425823988, 1.0008938425823988, 1.0008938425823988, 594.9378993310388, 79.99251578464985, 87.99166737371996, 26.99813650706029, 65.99400050377713, 64.99410655514338, 6.0003635857512245, 33.99739414749664, 42.99643968520053, 108.98944029502903, 5.00046963711746, 9.000045431652518, 1867.8028959418218, 2905.69281462367, 44.99622758246806, 551.9424595397869, 1899.7995022981022, 56.99495496607324, 1288.864299682872, 166.9832893157874, 258.9735325900938, 27.998030455694057, 1738.816576568066, 730.9234763452309, 139.98615270267575, 329.96600294309104, 450.95317072777664, 857.9100078217191, 1012.8935698599525, 270.97225997369895, 116.98859188409916, 183.98148644256142, 505.9473379026337, 671.9297333758389, 182.98159249392765, 512.9465955430701, 718.9247489616257, 229.9766080797146, 423.956034114665, 423.956034114665, 599.9373690742077, 463.95179206001563, 560.9415050774908, 280.9711994600366, 416.9567764742286, 239.97554756605226, 203.96552503626896, 38.99421788098845, 37.99439177701705, 30.99560904921728, 28.99595684127448, 27.996130737303083, 25.996478529360292, 19.99752190553191, 18.997695801560514, 15.998217489646322, 15.998217489646322, 13.998565281703527, 11.998913073760734, 11.998913073760734, 9.99926086581794, 7.999608657875146, 7.999608657875146, 5.999956449932353, 5.000130345960956, 4.00030424198956, 4.00030424198956, 3.000478138018162, 3.000478138018162, 3.000478138018162, 107.98221905501484, 2.000652034046765, 54.9914355445308, 130.97821944635697, 1.0008259300753681, 1.0008259300753681, 75.98778372793014, 44.99317450481683, 156.97369814961328, 25.996478529360292, 23.996826321417497, 49.99230502467382, 180.96952464492682, 18.997695801560514, 154.97404594167048, 16.99804359361772, 86.9858708716155, 150.9747415257849, 36.994565673045656, 164.97230698138446, 40.99387008893124, 19.99752190553191, 48.99247892070241, 44.99317450481683, 111.98152347090043, 118.98030619870019, 74.98795762395875, 976.8311034061586, 1092.8109314668409, 120.97995840664301, 737.8726645569949, 160.9730025654989, 125.97908892649998, 575.9008357136286, 147.9752632138707, 207.96482945215453, 353.9394406319784, 448.92292050926113, 192.96743789258358, 872.8491885931335, 195.96691620449778, 304.94796153738, 265.95474348249553, 280.95213504206646, 343.94117959226446, 473.918573108546, 288.9507438738376, 236.95978646732502, 269.9540478983811, 292.9500482897232, 216.96326438789708, 140.97648048607093, 163.97248087741306, 159.9731764615275, 151.9745676297563, 95.98720875418445, 40.9951099064626, 36.9956845357192, 29.996690136918236, 22.997695738117276, 19.998126710059722, 16.99855768200217, 15.998701339316314, 14.998844996630462, 14.998844996630462, 14.998844996630462, 13.99898865394461, 12.999132311258759, 10.999419625887054, 10.999419625887054, 10.999419625887054, 10.999419625887054, 10.999419625887054, 10.999419625887054, 8.999706940515352, 7.999850597829499, 6.000137912457797, 5.0002815697719445, 5.0002815697719445, 4.000425227086094, 4.000425227086094, 4.000425227086094, 4.000425227086094, 3.000568884400241, 3.000568884400241, 93.98749606881275, 90.9879270407552, 82.98907629926839, 34.995971850347495, 41.994966249148455, 19.998126710059722, 28.99683379423239, 16.99855768200217, 97.98692143955616, 60.992236760179644, 28.99683379423239, 40.9951099064626, 44.99453527720601, 197.97255570814136, 22.997695738117276, 54.99309870406452, 49.993816990635274, 390.9448298465107, 93.98749606881275, 132.98189343356097, 86.98850167001179, 50.99367333332112, 48.99396064794942, 87.98835801269765, 53.99324236137868, 107.98548486641468, 113.9846229225298, 339.95215636953225, 111.9849102371581, 661.9058987143766, 217.96968256185835, 74.99022555778157, 919.8688351273263, 94.9873524114986, 820.8830572014269, 1373.803614706703, 150.9793076019063, 226.96838964603103, 192.9732739947121, 162.97758371413653, 123.9831863493883, 189.97370496665454, 295.95847729135477, 127.98261172013171, 527.9251487944724, 179.975141539796, 292.95890826329725, 465.9340555479495, 150.9793076019063, 205.97140644962815, 281.9604884937529, 234.96724038751785, 266.96264335346507, 212.9704008484291, 183.9745669105394, 255.96422358392073, 213.97025719111497, 168.97672177025166, 151.97916394459216, 165.97715274219408, 172.97614714099504, 169.9765781129375, 153.97887662996385, 96.9811482874093, 15.997725319809447, 6.999567212298352, 5.999771867019342, 4.999976521740332, 3.0003858311823106, 3.0003858311823106, 3.0003858311823106, 2.0005904859032997, 2.0005904859032997, 2.0005904859032997, 2.0005904859032997, 2.0005904859032997, 2.0005904859032997, 43.99199498762174, 1.0007951406242892, 1.0007951406242892, 1.0007951406242892, 1.0007951406242892, 1.0007951406242892, 1.0007951406242892, 1.0007951406242892, 1.0007951406242892, 131.97398537217467, 328.9336683921397, 28.995064808436585, 129.97439468161664, 7.999362557577362, 7.999362557577362, 174.96518521917213, 66.98728792903898, 32.99424618955262, 93.98176225157228, 14.997929974530436, 79.98462741766612, 42.992199642342726, 9.998953248135384, 15.997725319809447, 151.96989227775487, 32.99424618955262, 20.9967020462045, 450.908700516179, 32.99424618955262, 17.99731601036747, 43.99199498762174, 78.9848320723871, 54.989743785690855, 33.99404153483163, 23.99608808204153, 58.9889251668069, 19.99690670092549, 182.9635479814042, 45.99158567817976, 67.987083274318, 334.93244046381375, 172.96559452861408, 136.97296209856972, 115.9772598477105, 165.96702711166103, 133.9735760627327, 173.96538987389312, 162.967641075824, 119.97644122882653, 196.96068281531035, 155.9690736588709, 300.9393987243274, 115.9772598477105, 127.97480399105862, 323.93469166574465, 107.97889708547841, 220.9557711020066, 371.92486823913714, 196.96068281531035, 236.95249662647078, 130.97419002689566, 151.96989227775487, 168.96641314749806, 146.97091555135984, 136.97296209856972, 126.97500864577962, 123.97562260994259, 33.995027396275745, 28.995905694520545, 25.99643267346742, 22.996959652414297, 20.997310971712214, 14.998364929605968, 3.000472845393474, 3.000472845393474, 1682.7053646351424, 851.8513378034273, 64.98958194715803, 1.000824164691392, 848.8518647823742, 36.994500417328865, 17.997837950659093, 130.97798841032673, 675.8822539016442, 31.995378715573665, 87.98554177523198, 11.998891908552844, 5.999945866446597, 36.994500417328865, 8.99941888749972, 79.98694705242364, 27.996081354169505, 15.99818926995701, 7.999594547148679, 120.97974500681632, 10.999067568201802, 9.99924322785076, 1014.822705280647, 465.91914242792546, 60.990284585753855, 1047.8169085122315, 1934.661098403605, 156.9734212594538, 281.9514638033339, 1446.746820312297, 76.98747403137052, 93.98448781733822, 251.95673359280272, 255.95603095420682, 184.96850278928298, 65.98940628750907, 1087.809882126273, 160.972718620858, 145.97535351559236, 250.95690925245165, 198.96604355419754, 77.98729837172156, 272.95304474017456, 144.97552917524132, 319.9447887366735, 305.9472479717589, 305.9472479717589, 268.95374737877034, 318.94496439632246, 231.9602467857819, 127.97851538927361, 182.9688541085809, 136.97693445243297, 25.997867887099776, 15.999072499576307, 13.99931342207161, 11.999554344566917, 10.99967480581457, 6.000277112052835, 4.000518034548142, 3.0006384957957937, 3.0006384957957937, 2.0007589570434465, 2.0007589570434465, 2.0007589570434465, 2.0007589570434465, 2.0007589570434465, 2.0007589570434465, 41.99594050713733, 1.0008794182910994, 1.0008794182910994, 1.0008794182910994, 1.0008794182910994, 1.0008794182910994, 1.0008794182910994, 1.0008794182910994, 1.0008794182910994, 1.0008794182910994, 19.998590654585694, 33.99690419711855, 13.99931342207161, 143.98365345987676, 35.99666327462325, 79.99136297972652, 35.99666327462325, 41.99594050713733, 23.998108809595085, 16.998952038328653, 365.95691106289775, 27.99762696460447, 31.997145119613858, 37.996422352127944, 133.98485807235326, 17.998831577081003, 51.9947358946608, 16.998952038328653, 49.99497681715611, 9.999795267062222, 1515.818380628097, 668.9204113048589, 102.9885923710305, 119.9865445298204, 261.96943903265367, 59.99377220467957, 125.9858217623345, 446.94715370183786, 229.9732937925786, 1258.8493391687439, 2787.665153921083, 692.9175202349153, 621.9260729834986, 635.9243865260315, 192.97775085874173, 830.9008965827392, 229.9732937925786, 403.95233353548696, 492.9416124844459, 213.97522117254104, 410.9514903067534, 665.9207726886019, 342.9596816715938, 152.98256930864787, 438.9481173918191, 262.96931857140606, 598.9288435921947, 222.97413702131217, 242.9717277963591, 320.9623318190421, 230.97317333133094, 190.97799178123705, 285.96654796271, 238.9722096413497, 209.97570301753163, 237.97233010259737, 213.97522117254104, 152.9863886531796, 118.98963559791783, 113.99011308979108, 98.99154556541089, 68.99441051665052, 39.99717996951547, 33.99775295976339, 31.9979439565127, 18.999185435383204, 18.999185435383204, 14.999567428881816, 7.000331415879049, 6.000426914253702, 6.000426914253702, 5.0005224126283565, 169.98476518081046, 3.000713409377664, 2.0008089077523175, 2.0008089077523175, 61.995079005273084, 1.0009044061269714, 1.0009044061269714, 1.0009044061269714, 1.0009044061269714, 29.99813495326201, 57.9954609987717, 74.99383752640259, 68.99441051665052, 22.99880344188459, 42.996893474391506, 35.997561963014086, 70.99421951990121, 107.99068608003901, 49.996224985768926, 262.9758838319676, 56.99555649714635, 45.99660697926754, 110.99039958491505, 108.99059058166435, 220.97989476370313, 162.98543366943306, 259.9761703270916, 109.9904950832897, 142.98734363692614, 221.97979926532847, 122.9892536044192, 141.98743913530078, 159.98572016455702, 188.98295071169204, 650.9388304626019, 126.98887161092058, 196.98218672469483, 299.97235039210545, 716.9325275698748, 135.9880121255487, 311.9712044116096, 659.9379709772301, 667.9372069902328, 720.9321455763762, 312.97110891323496, 878.9170568331808, 605.9431278894614, 491.9540147041719, 429.9599356034004, 229.97903527833125, 455.95745264565943, 218.98008576045243, 564.9470433228222, 454.9575481440341, 411.96165457414423, 259.9761703270916, 653.9385439674779, 394.9632780465134, 495.95363271067333, 316.97072691973636, 426.96022209852435, 308.97149090673355, 309.97139540835894, 303.97196839860686, 287.9734963726013, 278.9743558579732, 278.9743558579732, 260.97607482871695, 691.91908107228, 114.98738620665762, 110.98785972578676, 58.99401547446549, 38.99638307011116, 37.996501449893444, 36.99661982967572, 25.99792200728085, 16.998987425321403, 15.999105805103683, 10.9996977040151, 8.00005284336195, 274.96844544149224, 3.0006447422733675, 3.0006447422733675, 2.0007631220556505, 2.0007631220556505, 369.9571993621753, 104.98857000448045, 1.000881501837934, 1.000881501837934, 1.000881501837934, 623.9271308974753, 25.99792200728085, 15.999105805103683, 12.999460944450531, 133.98513699079425, 1115.8688880445918, 331.9616977939021, 135.98490023122966, 358.9585015397804, 359.95838315999816, 30.997330108369432, 95.989635422521, 817.9041652197122, 870.8978910912513, 1575.8144333447415, 1294.847698063563, 167.9811120781966, 1545.81798473821, 232.97341739234818, 157.98229587601944, 983.8845141758533, 114.98738620665762, 1136.866402069164, 172.98052017928518, 863.8987197497273, 270.9689189606214, 373.9567258430462, 203.97685040603437, 1335.8428444924893, 264.9696292393151, 736.9137539820772, 560.9345888237592, 388.9549501463119, 614.9281963155158, 433.94962305610915, 624.927012517693, 302.9651308075883, 525.9387321161391, 457.94678194133434, 346.9599220971678, 312.9639470097655, 315.9635918704186, 300.9653675671529, 195.9679782732029, 49.992575964604356, 48.99274444194272, 47.99291291928109, 34.995103124679844, 28.996113988710047, 18.99779876209371, 10.999146580800634, 5.0001574448308315, 4.000325922169197, 2.0006628768459294, 2.0006628768459294, 2.0006628768459294, 2.0006628768459294, 62.99038575920559, 138.97758148148978, 1.0008313541842955, 1.0008313541842955, 1.0008313541842955, 1.0008313541842955, 143.97673909479795, 137.97774995882813, 202.96679893183432, 56.99139662323579, 455.9241741652277, 133.9784238681816, 46.99308139661945, 69.98920641783704, 297.95079358468956, 113.98179341494892, 382.93647301092835, 144.97657061745957, 84.98667925776155, 344.94287514978635, 334.94455992317, 79.98752164445337, 132.97859234551998, 144.97657061745957, 298.9506251073512, 68.9893748951754, 179.97067391061677, 449.9251850292579, 389.9352936695599, 74.98836403114521, 220.96376633974376, 352.9415273310794, 1122.8117997805375, 162.97353802536898, 829.8611636406787, 949.8409463600748, 909.8476854536095, 1084.8182019193955, 249.95888049693116, 578.9034514526087, 423.9295654400554, 532.9112014101735, 244.95972288362296, 325.9460762192153, 269.9555109501638, 243.95989136096134, 280.95365769944175, 197.96764131852618, 214.96477720377393, 236.96107070232992, 71.99115999483674, 56.99320996744056, 53.993619961961336, 38.99566993456517, 28.997036582967738, 21.997993236849528, 21.997993236849528, 20.998129901689786, 20.998129901689786, 18.998403231370297, 17.998539896210552, 16.998676561050807, 15.998813225891066, 14.998949890731318, 14.998949890731318, 13.999086555571575, 8.999769879772856, 8.999769879772856, 7.99990654461311, 7.99990654461311, 7.99990654461311, 7.99990654461311, 7.000043209453368, 6.000179874293623, 5.00031653913388, 3.0005898688143917, 3.0005898688143917, 2.000726533654648, 2.000726533654648, 2.000726533654648, 382.94865722951704, 102.9869233847888, 47.99443995100287, 58.99293663776006, 103.98678671994854, 81.98979334643417, 30.996763253287224, 96.98774337383033, 64.99211664871852, 98.98747004414982, 88.98883669255238, 35.99607992908594, 149.98050013729676, 83.98952001675366, 82.98965668159391, 67.99170665419774, 190.97489687884624, 84.9893833519134, 25.997446577488507, 1097.850941868734, 213.9717535875204, 84.9893833519134, 450.9393640203797, 93.98815336835109, 69.99143332451725, 95.9878800386706, 177.97667352176958, 1106.8497118851717, 233.96902029071524, 166.97817683501242, 549.9258342011943, 734.900551205747, 177.97667352176958, 172.97735684597086, 157.9794068185747, 193.9744868843255, 337.95480714732855, 628.9150376788141, 692.9062911290378, 221.97066026879833, 351.952893839565, 235.96874696103475, 412.9445572843094, 508.93143745964477, 307.95890709253626, 282.9623237135427, 173.97722018113063, 416.94401062494836, 242.96779030715297, 240.96806363683345, 261.96519367518806, 206.97271024140218, 212.97189025236062, 223.97038693911782, 216.9713435929996, 204.9729835710827, 196.97407688980473, 204.96834056827507, 69.98984789400942, 58.99160034277295, 37.99494592677606, 30.99606112144378, 28.996379748491695, 20.997654256683358, 16.99829151077919, 15.998450824303147, 15.998450824303147, 15.998450824303147, 11.999088078398978, 8.999566018970853, 8.999566018970853, 7.999725332494812, 6.99988464601877, 6.99988464601877, 6.000043959542729, 6.000043959542729, 217.96626949246362, 5.0002032730666865, 5.0002032730666865, 4.0003625865906445, 4.0003625865906445, 4.0003625865906445, 3.0005219001146015, 3.0005219001146015, 3.0005219001146015, 3.0005219001146015, 3.0005219001146015, 193.9700930170386, 67.99016652105733, 92.98618368295838, 236.9632425355084, 63.99080377515316, 61.99112240220107, 96.98554642886255, 348.9453994208251, 28.996379748491695, 348.9453994208251, 44.993830732108364, 73.9892106399136, 106.98395329362297, 31.995901807919815, 124.98108565019172, 103.98443123419486, 51.99271553744066, 115.98251947190734, 29.996220434967736, 126.9807670231438, 60.99128171572503, 86.98713956410212, 248.9613307732209, 70.98968858048545, 62.99096308867712, 373.9414165827261, 440.93074257662096, 272.95750724864587, 88.98682093705422, 122.98140427723965, 121.98156359076359, 259.95957832445737, 895.8582549232201, 328.9485856913043, 720.8861347899127, 448.92946806842923, 130.98012976904798, 243.9621273408407, 235.96340184903235, 156.97598761742506, 335.9474704966365, 239.96276459493654, 264.9587817568376, 222.96547292484382, 271.95766656216983, 202.968659195323, 192.97025233056257, 229.96435773017612, 181.9720047793261, 188.9708895846584, 177.97264203342195, 173.97327928751778, 169.97391654161362, 11.999388346276364, 9.999656932848088, 7.000059812705676, 2.000731279134989, 2.000731279134989, 1.0008655724208515, 1.0008655724208515, 1.0008655724208515, 1.0008655724208515, 1.0008655724208515, 1.0008655724208515, 77.99052498940944, 17.998582586561188, 14.998985466418775, 25.99750824027429, 135.98273597882942, 25.99750824027429, 198.97427550182007, 38.99576242755807, 25.99750824027429, 43.99509096112876, 21.99804541341774, 84.9895849364084, 16.998716879847052, 7.000059812705676, 3.000596985849126, 44.9949566678429, 5.000328399277402, 5.000328399277402, 7.000059812705676, 24.99764253356015, 74.99092786926703, 386.9490283640779, 53.99374802827013, 352.9535943357972, 317.9582946008024, 62.99253938869737, 66.99200221555394, 99.98757053712046, 45.99482237455704, 829.8895364384408, 209.9727982756756, 113.98569043111839, 275.9639349188086, 296.96111475980547, 490.93506186234816, 1721.7697468274514, 113.98569043111839, 203.97360403539076, 1203.8393107495283, 80.99012210955185, 963.8715411381351, 217.97172392938867, 274.9640692120945, 233.9695752368149, 464.9385534877806, 676.9100833111777, 198.97427550182007, 608.9192152546163, 184.97615560782214, 178.9769613675373, 314.95869748065996, 281.96312915909346, 765.898131208736, 318.95816030751655, 414.9452681520737, 329.95668308137203, 260.96594931809653, 286.96245769266415, 300.96057758666205, 302.9603090000903, 303.9601747068045, 263.96554643823896, 226.97051528981592, 30.994965114826787, 4.000221135589883, 4.000221135589883, 136.97433036664575, 3.0004158030255534, 3.0004158030255534, 2.0006104704612238, 2.0006104704612238, 74.98639974765729, 44.992239770727394, 1.0008051378968938, 237.95466895564303, 180.96576499947622, 831.8390364988547, 1031.8001030117207, 11.998663796104518, 304.9416262374531, 86.98406373842926, 84.9844530733006, 18.99730112405483, 142.9731623620317, 34.9941864450841, 470.9093114431318, 7.999442465847201, 18.99730112405483, 30.994965114826787, 117.97802904792347, 17.9974957914905, 53.990487763806364, 13.99827446123318, 93.98270106637955, 56.989903761499356, 580.8878980252081, 213.95934097409912, 158.97004768306098, 88.98367440355791, 91.98309040125089, 192.9634289902482, 366.92955685644154, 157.97024235049665, 232.95564229282138, 814.8423458452612, 218.95836763692077, 506.9023034154477, 142.9731623620317, 109.97958638740884, 107.97997572228017, 85.98425840586492, 183.96518099716923, 191.96362365768385, 316.93929022822505, 270.9482449302659, 363.93014085874853, 279.94649292334486, 284.9455195861665, 217.95856230435643, 143.97296769459604, 171.9675170063973, 164.96887967844697, 179.9659596669119, 171.9675170063973, 198.96226098563417, 159.96985301562532, 193.97067621320173, 4.000374614197969, 3.0005309215716327, 3.0005309215716327, 3.0005309215716327, 2.0006872289452975, 2.0006872289452975, 227.96536176249717, 1.0008435363189616, 1.0008435363189616, 1.0008435363189616, 1.0008435363189616, 1.0008435363189616, 28.996466929856357, 136.97958573350058, 21.99756108147201, 24.997092159351016, 81.98818263905216, 1149.8212463639784, 167.974740204917, 95.98599433582085, 21.99756108147201, 360.94457288179973, 136.97958573350058, 24.997092159351016, 26.996779544603687, 30.99615431510903, 76.98896417592046, 527.9184695503978, 51.99287186026206, 173.973802360675, 126.98114880723725, 429.9337876730169, 184.9720829795647, 308.95270086523027, 119.98224295885291, 279.9572337790666, 319.95098148411995, 483.925347074839, 413.9362885909955, 420.9351944393799, 451.9303489107963, 179.97286451643302, 205.96880052471775, 360.94457288179973, 261.9600473117925, 108.9839623399632, 1830.714801042513, 266.9592657749242, 133.9800546556216, 360.94457288179973, 651.8990874360634, 673.8956486738427, 398.9386332016005, 603.9065901899993, 440.93206829190655, 585.9094037227252, 321.9506688693727, 545.9156560176718, 292.9552017832089, 254.96114146340818, 218.9667685288601, 279.97519651798416, 92.9924294962127, 86.99298242599542, 61.995286300090136, 43.99694508943833, 31.998050949003797, 27.998419568858953, 21.998972498641688, 21.998972498641688, 19.999156808569264, 17.99934111849684, 17.99934111849684, 16.999433273460628, 14.999617583388206, 14.999617583388206, 14.999617583388206, 13.999709738351994, 12.999801893315784, 11.999894048279572, 10.999986203243362, 8.000262668134726, 8.000262668134726, 186.98376692961656, 4.000631287989882, 291.97409065841873, 794.927736711633, 111.99067855190071, 2.0008155979174584, 112.99058639693692, 145.9875452831319, 1072.9021176316996, 290.9741828133825, 36.99759017418485, 156.98653157853022, 757.9311464452933, 27.998419568858953, 113.99049424197314, 330.97049661483095, 1155.8944687697053, 170.9852414090372, 289.9742749683463, 271.9759337576945, 369.9669025712432, 1185.8917041207917, 412.9629399078003, 247.97814547682546, 1587.8546578253486, 2410.778814290151, 1316.8796318205355, 332.97031230490336, 265.97648668747723, 303.97298479885325, 1370.874655452491, 1542.8588047987191, 856.9220231038781, 411.9630320627641, 535.9516048472543, 474.9572263000454, 1254.88534542829, 459.95860862450223, 527.9523420869646, 928.9153879464853, 445.9598987939953, 532.9518813121456, 741.9326209247139, 633.942573660803, 469.9576870748643, 466.95796353975567, 367.96708688117076, 356.9681005857725, 46.99420404054049, 11.999264753739844, 9.999553937351235, 6.00013230457402, 5.000276896379716, 4.000421488185411, 4.000421488185411, 2.000710671796803, 2.000710671796803, 2.000710671796803, 2.000710671796803, 2.000710671796803, 1.0008552636024983, 1.0008552636024983, 1.0008552636024983, 1.0008552636024983, 34.99593914220884, 22.997674243877192, 62.99189057164936, 60.99217975526075, 10.999409345545539, 68.99102302081519, 23.997529652071496, 13.998975570128453, 8.999698529156932, 23.997529652071496, 11.999264753739844, 14.998830978322756, 19.99810801929428, 9.999553937351235, 67.99116761262088, 36.99564995859745, 159.97786516649688, 124.98292587969624, 470.9328971149254, 102.98610689942153, 336.9522724168887, 21.99781883568289, 64.99160138803796, 129.98220292066776, 364.9482238463292, 145.97988945177661, 2153.6895491059395, 29.99666210123732, 81.98914332734115, 56.99275812248354, 275.96109251703615, 287.9593574153678, 104.98581771581014, 196.97251526968614, 241.9660086384298, 361.9486576217463, 105.98567312400445, 482.9311620132571, 564.9193054851901, 108.98523934858734, 303.9570439464767, 586.9161244654647, 558.9201730360242, 314.955453436614, 833.8804102894579, 280.9603695580077, 226.96817751551526, 319.95473047758554, 533.9237878311666, 347.950681907026, 280.9603695580077, 392.94417527576974, 291.958779048145, 262.9629722105102, 318.9548750693912, 289.9590682317564, 248.96499649578993, 216.96962343357222, 267.9622492514817, 230.96759914829246, 226.96817751551526, 41.990849843509906, 33.99278316061952, 24.994958142367828, 20.995924800922634, 20.995924800922634, 19.996166465561334, 15.997133124116141, 14.99737478875484, 14.99737478875484, 12.997858118032243, 10.998341447309647, 10.998341447309647, 9.998583111948347, 9.998583111948347, 8.998824776587048, 8.998824776587048, 7.99906644122575, 7.99906644122575, 6.999308105864452, 5.999549770503154, 4.999791435141855, 4.000033099780556, 4.000033099780556, 3.0002747644192573, 3.0002747644192573, 61.98601655073588, 1.0007580936966598, 1.0007580936966598, 1.0007580936966598, 1.0007580936966598, 52.98819153248419, 18.996408130200038, 46.9896415203164, 68.98432489826497, 80.98142492260055, 32.99302482525821, 14.99737478875484, 26.994474813090427, 74.98287491043276, 58.98674154465198, 24.994958142367828, 81.98118325796186, 78.98190825187797, 34.99254149598082, 63.98553322145848, 148.96499172716887, 32.99302482525821, 61.98601655073588, 87.97973327012964, 116.97272499560731, 40.99109150814861, 56.987224873929385, 131.9691000260268, 45.9898831849551, 80.98142492260055, 78.98190825187797, 95.97779995302004, 150.96450839789148, 300.9282587020862, 103.97586663591044, 185.9560501355369, 109.97441664807822, 93.97828328229744, 215.94880019637586, 139.96716670891718, 74.98287491043276, 187.95556680625953, 212.94952519029198, 139.96716670891718, 100.97659162982653, 80.98142492260055, 173.95895011120135, 84.98045826404575, 115.97296666024602, 106.97514164199431, 90.97900827621355, 86.97997493476835, 104.97562497127173, 94.97804161765873, 88.97949160549095, 83.98069992868446, 85.98021659940706, 84.98045826404575, 81.98118325796186], \"Total\": [7020.0, 7799.0, 12679.0, 3809.0, 3473.0, 7527.0, 3694.0, 3935.0, 6190.0, 4091.0, 2222.0, 4069.0, 4501.0, 5968.0, 2911.0, 1697.0, 4825.0, 1516.0, 7161.0, 5282.0, 2412.0, 4643.0, 3205.0, 2863.0, 1778.0, 2358.0, 5228.0, 1273.0, 2342.0, 2820.0, 149.01149960737447, 77.01850456781115, 48.02132601020919, 41.022007048029415, 32.022882668083994, 31.022979959201166, 22.023855579255738, 10.02502307266184, 7.02531494601336, 6.025412237130534, 6.025412237130534, 4.025606819364884, 4.025606819364884, 4.025606819364884, 4.025606819364884, 4.025606819364884, 3.025704110482061, 3.025704110482061, 3.025704110482061, 2.0258014015992356, 2.0258014015992356, 1.0258986927164104, 1.0258986927164104, 1.0258986927164104, 1.0258986927164104, 1.0258986927164104, 1.0258986927164104, 1.0258986927164104, 1.0258986927164104, 1.0258986927164104, 203.0055809354976, 33.02276489462696, 48.021201965395626, 44.021591129864326, 60.02005659922646, 37.02230348010417, 116.01439887988501, 72.01892033336657, 33.022788962451855, 123.0137767014583, 31.022931008665523, 1416.887453838896, 57.020459353867224, 99.01622356085241, 77.01794636615011, 70.0190476599951, 373.9897141156468, 80.01770029514651, 54.02048668589435, 443.98182942034157, 2342.788397742741, 464.9793210504058, 113.01239998229295, 360.988800557964, 394.9859003697799, 775.9339824359859, 648.9509607225615, 284.9984072513583, 179.0067623906385, 125.01386610138002, 183.00769740553946, 890.9231054417335, 431.9834674361292, 784.9443073133688, 3676.5532161695764, 7020.209102410865, 2621.7243933127684, 546.96104871351, 7799.011128888418, 12679.397534632079, 2187.7584053885266, 2069.7489140738153, 3319.698083323937, 1026.9125468214474, 2037.773828945929, 4825.509166890004, 1059.8946275991243, 1273.8836984241257, 735.9454506295309, 2668.7080713604655, 7161.104353473825, 2628.7400275961027, 3489.5030685338534, 2068.7362366974403, 2751.6694893242316, 1896.7779006357753, 41.01881474700748, 41.01881474700748, 28.02109172453771, 23.021967485126257, 22.02214263724397, 18.02284324571481, 18.02284324571481, 16.02319354995023, 14.023543854185649, 14.023543854185649, 13.02371900630336, 10.024244462656489, 10.024244462656489, 10.024244462656489, 8.024594766891909, 7.024769919009613, 7.024769919009613, 5.025120223245033, 5.025120223245033, 4.025295375362743, 3.025470527480456, 1228.8112144273477, 111.00663375251087, 286.97596628727996, 2.025645679598166, 1.0258208317158752, 1.0258208317158752, 1.0258208317158752, 1.0258208317158752, 1.0258208317158752, 52.01705406802052, 30.020819281302824, 25.021597665572877, 25.021686281642314, 47.01800279553039, 91.01010386457742, 39.019212567024155, 253.98363664320547, 188.99355298927546, 86.01077240267956, 154.00013625595307, 37.01967551267646, 43.01878305774429, 3473.4276335424984, 632.9289084488147, 46.01833725513421, 3809.3169249467064, 404.95748307145215, 415.95694744990925, 68.01491422653282, 266.98229220055754, 1205.8372006999252, 241.98665894360323, 60.014821731561085, 2464.6087811581, 4069.272015014202, 883.8795033468283, 140.00209861491106, 142.00216291401554, 1643.7956310171373, 78.01134689287127, 208.97877272783, 2412.6971715088685, 127.00006881862981, 1256.8377340983338, 628.9164221698078, 150.00328912066772, 819.8932205320441, 1945.7404001108887, 1138.74416743106, 485.94728494537424, 1174.8653575294254, 1664.781661165102, 3676.5532161695764, 2732.608850748419, 2367.758803237561, 2212.712237712476, 3624.492793803606, 181.00932553464204, 43.02203560087649, 35.022772416310374, 33.02295662016884, 29.02332502788578, 26.023601333673483, 25.023693435602716, 22.02396974139042, 22.02396974139042, 21.024061843319657, 20.02415394524889, 20.02415394524889, 20.02415394524889, 19.024246047178128, 19.024246047178128, 19.024246047178128, 17.0244302510366, 17.0244302510366, 17.0244302510366, 17.0244302510366, 16.024522352965832, 15.024614454895065, 13.024798658753536, 13.024798658753536, 13.024798658753536, 13.024798658753536, 12.024890760682771, 11.024982862612005, 11.024982862612005, 10.02507496454124, 237.00396155203072, 362.9918772817924, 129.01389202040718, 36.02265195506272, 185.00657302112202, 139.01242001922182, 38.02244355481657, 107.01514131120662, 124.01335804844781, 123.01425440845127, 139.01225603243628, 285.99612047878355, 307.9952255445869, 350.99015539323807, 91.01684169765525, 696.9516475972249, 209.004948211582, 125.01385933767406, 143.01247085074115, 73.01860042705223, 106.01543537485357, 2628.7400275961027, 209.00394625610173, 88.01765340038624, 104.01429558921888, 324.99052079721923, 139.01059316460797, 246.00164805133008, 271.99757678010366, 270.99684055155905, 314.98972116672724, 186.0079623007368, 379.9728470963869, 484.97907406789017, 602.95670060105, 326.9913440693691, 783.9338814233092, 1187.8758951188397, 2651.6602784257084, 496.9725574871945, 949.9205261326001, 2054.7499797742703, 1025.8966080273692, 1247.860070279476, 2668.7080713604655, 2081.7349597523057, 7161.104353473825, 1575.8316953859403, 1685.802213715448, 2802.650426637663, 1829.7240484925187, 2820.599443919719, 2751.6694893242316, 1650.8087141648255, 1092.8934568782868, 3977.4898601794275, 1336.8758403129518, 2208.7319595266044, 2727.591107553819, 126.00720494532129, 85.01331948959911, 71.01540738276715, 65.01630219412488, 57.017495275935154, 45.01928489865062, 42.01973230432948, 39.02017971000834, 34.02092538613979, 28.02182019749752, 23.02256587362896, 23.02256587362896, 22.022715008855243, 19.02316241453411, 16.023609820212975, 15.023758955439263, 12.024206361118129, 7.024952037249566, 238.9902601353382, 2.025697713381009, 2.025697713381009, 155.00298371197707, 125.00707649231033, 1.0258468486072971, 1.0258468486072971, 1.0258468486072971, 1.0258468486072971, 21.022917780933167, 62.01667154912945, 20.023044034751827, 66.01611020238173, 145.0034460818976, 34.02103265984305, 287.98037633567327, 106.01067808732842, 357.970895176557, 309.9792463707093, 55.01776828880994, 50.01857102646332, 1335.8246841409432, 102.01036709211263, 101.01213215469654, 826.9082474339586, 575.9482083457984, 323.9809546300857, 372.9712818864579, 1125.863897781945, 84.0135322138151, 1689.7755298738562, 2069.739112570398, 592.9378359067147, 2732.608850748419, 2037.773828945929, 6190.171430224983, 1751.7697261988626, 2473.7067308182145, 1938.778737404949, 380.97461103623954, 3385.5464613257514, 440.95557353109723, 2464.6087811581, 883.8795033468283, 1636.7853126210018, 2855.663122532254, 669.9287569478129, 628.9164221698078, 3470.553810726291, 2028.737441720343, 2802.650426637663, 1664.781661165102, 1910.6493110126091, 1179.8556612994112, 3935.5626567127806, 2054.7499797742703, 2208.7319595266044, 88.01528054195389, 77.01661997218885, 44.020638262893726, 31.022221225898686, 30.022342992283683, 23.02319535697866, 13.024413020828625, 6.025265385523602, 5.025387151908599, 5.025387151908599, 4.025508918293596, 4.025508918293596, 3.025630684678595, 2.025752451063592, 2.025752451063592, 2.025752451063592, 2.025752451063592, 1.0258742174485884, 1.0258742174485884, 1.0258742174485884, 1.0258742174485884, 1.0258742174485884, 1.0258742174485884, 1.0258742174485884, 240.9962055356964, 57.01896187798202, 358.9823337596831, 63.01810599842676, 38.02111682207152, 115.01173001958624, 84.01603458759573, 24.02301885291108, 57.01906443585017, 553.9529445941132, 119.01194633883978, 127.01084806731728, 100.01396619141765, 18.02356439239624, 68.01679356438714, 95.01414510660899, 157.00601492732363, 180.00302144827668, 361.98427297441845, 952.9062179435768, 78.01652430855073, 27.02252604087459, 157.0056591279521, 516.9670284133892, 1075.8812273222015, 2855.663122532254, 166.00377769324865, 7527.06511261191, 579.9518775740652, 5968.256342491838, 350.98138896248145, 479.96491913411495, 803.9300311652407, 244.99282119325676, 2621.7243933127684, 448.9724263924357, 1737.8072893024903, 12679.397534632079, 2732.608850748419, 7799.011128888418, 2751.6694893242316, 3385.5464613257514, 517.9593050731661, 502.9587983139221, 2187.7584053885266, 1304.8602875784507, 1643.8329662091562, 1540.8360974555474, 2473.7067308182145, 3470.553810726291, 887.929820051576, 3290.557103067307, 1101.8736615256769, 1339.8557999564935, 3624.492793803606, 174.98263344239314, 142.99056259282796, 36.01707568959443, 22.02054469290966, 19.02128805076292, 19.02128805076292, 19.02128805076292, 18.021535836714012, 17.021783622665097, 17.021783622665097, 16.022031408616183, 12.023022552420533, 11.02327033837162, 11.02327033837162, 8.024013696224884, 6.024509268127058, 6.024509268127058, 5.024757054078145, 5.024757054078145, 5.024757054078145, 5.024757054078145, 4.025004840029233, 4.025004840029233, 4.025004840029233, 3.0252526259803227, 3.0252526259803227, 3.0252526259803227, 2.0255004119314104, 2.0255004119314104, 2.0255004119314104, 47.01450567511976, 37.01691938222076, 2.0255004119314104, 255.96539280389217, 165.98663585804042, 85.00536998099143, 64.01064256707889, 105.00126123810401, 32.01808519733594, 57.012562739695184, 175.98586833152055, 71.00754993661768, 14.022600870440842, 37.01758402103989, 192.98436425106027, 28.01968050115233, 853.8483736715085, 46.01599898628023, 108.0025099924153, 61.01229659965131, 187.9879793786785, 162.99258910438576, 99.00520539268132, 121.99989934185966, 105.00541351805917, 118.00409689283933, 75.00821909179636, 109.0023192273825, 67.01297383781859, 2081.7349597523057, 772.9099895567463, 1829.7240484925187, 815.8759113150463, 404.953029225045, 261.97627735460276, 1767.7054913241325, 3385.5464613257514, 1187.8758951188397, 2054.7499797742703, 3624.492793803606, 3634.48687972273, 608.93490006471, 706.922926641445, 2464.6087811581, 5228.240858484356, 1910.6493110126091, 5282.296241848325, 1650.8087141648255, 1978.7369191343973, 2628.7400275961027, 4069.272015014202, 1394.8250927391698, 3290.557103067307, 3.0249948161800013, 475.86764008344153, 101.99214087093664, 1.0256622612823905, 1.0256622612823905, 181.9657187690785, 1516.5678007462548, 755.8059122653264, 1273.6591304652777, 20.020471288260254, 43.013898648981645, 15.021894309532806, 89.0025744928618, 88.00171555485012, 98.0000263116399, 18.021295987070125, 618.8709825168688, 44.01518852540406, 46.01485041877756, 4.025116435998725, 2.0255418000347376, 106.99950100950558, 2222.531667132219, 21.019933112859675, 21.020321331366084, 19.02142489636621, 15.022490971045295, 78.00822733414047, 33.018559512160614, 1138.74416743106, 454.9292348251083, 228.97876994418084, 152.9920075893715, 289.96009613543185, 1910.6493110126091, 470.9200942375471, 4069.272015014202, 2727.591107553819, 208.97877272783, 3809.3169249467064, 345.9610274112494, 136.99784832898274, 180.9834980417197, 600.9158627132823, 1829.7240484925187, 2732.608850748419, 1339.8557999564935, 1351.83918100961, 1767.7054913241325, 628.9164221698078, 560.9456388495677, 1101.8736615256769, 3290.557103067307, 168.00666859351, 88.01587211271175, 62.01886325645228, 19.02381014802319, 18.023925192013213, 15.02427032398327, 12.024615455953333, 444.97477978742387, 10.024845543933376, 6.025305719893459, 6.025305719893459, 5.02542076388348, 5.02542076388348, 3.0256508518635226, 3.0256508518635226, 2.0257658958535436, 2.0257658958535436, 136.0103391666754, 1.0258809398435642, 1.0258809398435642, 1.0258809398435642, 1.0258809398435642, 1.0258809398435642, 1.0258809398435642, 1.0258809398435642, 275.9939339558501, 96.01489401290407, 171.00642520392682, 64.01850035987044, 30.0222914228356, 198.0024808018428, 169.00558300843383, 111.01243951755957, 119.01182608528664, 347.98597885855094, 112.01270171327779, 178.00483143383073, 255.99574475092948, 31.022362742004642, 316.9902673642655, 143.0078289200166, 854.9315625669483, 120.01216431926511, 4091.5206438555447, 48.02030219236781, 1586.8375809688723, 348.9835865072559, 197.00184680622584, 217.00014421501865, 172.0059596889358, 427.970846831129, 676.9432294699193, 311.98795096025844, 1706.812140972623, 2744.6671286880455, 1575.8316953859403, 3470.553810726291, 1003.8910483165397, 7020.209102410865, 551.9600330666306, 234.9967796128592, 7161.104353473825, 1737.8072893024903, 5968.256342491838, 901.9028069008476, 1540.8360974555474, 7527.06511261191, 3290.557103067307, 1960.7737175365912, 12679.397534632079, 4825.509166890004, 2054.7499797742703, 669.9367591917246, 1209.8769968804204, 2187.7584053885266, 1876.8311734043984, 84.01610301344309, 58.019165123325834, 48.02034285789613, 25.023051647407836, 20.023640514692982, 20.023640514692982, 17.023993835064076, 16.024111608521107, 15.024229381978133, 13.024464928892193, 12.024582702349225, 11.024700475806254, 9.024936022720315, 9.024936022720315, 9.024936022720315, 9.024936022720315, 8.025053796177344, 8.025053796177344, 8.025053796177344, 8.025053796177344, 8.025053796177344, 7.025171569634374, 7.025171569634374, 7.025171569634374, 7.025171569634374, 6.025289343091404, 6.025289343091404, 6.025289343091404, 5.025407116548434, 5.025407116548434, 74.01727806022276, 177.00453062603083, 155.00772023372318, 52.019500090523, 100.0139141072792, 33.022160802807186, 76.01656396660897, 248.99542423899638, 150.0070903375637, 74.01675977228602, 70.01752316574719, 82.01432893919431, 233.9977908821728, 30.022497946395067, 221.00010381863152, 54.01925586034471, 35.02184356732192, 165.00672368322083, 110.0122005812421, 174.00628971952844, 211.00103504418013, 139.00769113648514, 56.01858984774436, 45.020164149507096, 121.0119752144239, 129.00985680840603, 98.01490314724022, 203.99943772474282, 234.9986455521683, 103.01324990647338, 7527.06511261191, 1052.8868700102842, 1717.7713191807331, 645.9400835515529, 560.9456388495677, 4913.351530635987, 397.9670021211084, 1648.7813774781057, 1304.8602875784507, 1464.8374849857325, 418.9633013428896, 2081.7349597523057, 2784.674527607002, 592.9378359067147, 1286.8607535710285, 1312.8508056847973, 2668.7080713604655, 5968.256342491838, 943.8957893158489, 2727.591107553819, 1057.881404957177, 1247.860070279476, 3290.557103067307, 5228.240858484356, 1059.8946275991243, 3634.48687972273, 1978.7369191343973, 2068.7362366974403, 1945.7404001108887, 1192.8576237987684, 669.9367591917246, 918.928534778264, 900.9304437028562, 56.02005710732443, 48.02090551825432, 17.024193110607595, 17.024193110607595, 16.02429916197383, 11.024829418805, 8.025147572903707, 4.025571778368645, 3.0256778297348808, 2.0257838811011153, 676.9538930741525, 987.9210251134605, 50.02068169343105, 1.0258899324673507, 1.0258899324673507, 1.0258899324673507, 626.9569262843276, 87.01622078631713, 99.01552482485427, 31.022495342849414, 76.01705857860007, 75.01668599864134, 7.025210540409887, 40.02157135149628, 51.02034245636344, 131.01159067056807, 6.025329062162155, 11.024772934965746, 2358.7647208689655, 3935.5626567127806, 56.01972046399105, 770.9417997102748, 2994.676308131369, 74.01776489436601, 2084.768223934878, 237.99649024282962, 419.97024747649624, 35.02206147233988, 4643.499351215661, 1778.7643811230073, 240.99408924670203, 731.9305180332439, 1109.8862770934093, 2911.5931373787603, 3694.4810451243557, 735.9210276672173, 225.99860442023973, 471.95629133435807, 2412.779283874897, 3977.4898601794275, 469.961277950967, 2863.7164079030113, 5282.296241848325, 701.9186073526688, 2208.7319595266044, 2784.674527607002, 7527.06511261191, 5968.256342491838, 12679.397534632079, 1743.8066801195678, 7020.209102410865, 3290.557103067307, 203.99052119399852, 39.01921403871807, 38.01938793474667, 31.020605206946897, 29.0209529990041, 28.0211268950327, 26.02147468708991, 20.02251806326153, 19.022691959290132, 16.02321364737594, 16.02321364737594, 14.023561439433143, 12.02390923149035, 12.02390923149035, 10.024257023547555, 8.02460481560476, 8.02460481560476, 6.024952607661966, 5.0251265036905695, 4.025300399719173, 4.025300399719173, 3.025474295747776, 3.025474295747776, 3.025474295747776, 109.0070809194586, 2.025648191776379, 56.01627238873646, 134.00285422034358, 1.0258220878049824, 1.0258220878049824, 78.01244293098304, 47.017687333269045, 167.9973397056909, 27.02127003236892, 25.021730377217878, 53.01686740698635, 198.9917845159502, 20.022547367484435, 180.99391319673134, 18.022921977890306, 102.0086981522597, 203.98961425400935, 44.018893342152694, 249.98790866406264, 50.01732934120615, 22.022327066512222, 69.01395728203443, 62.01524776741544, 201.9958825819538, 220.99156486821616, 121.00314444327155, 4501.404218672411, 5282.296241848325, 257.9867765153989, 5228.240858484356, 489.96648774101095, 345.9691880900842, 4913.351530635987, 478.9480347814188, 887.8960654492773, 2293.7067673945226, 3634.48687972273, 804.9266789883546, 12679.397534632079, 837.8977137575613, 2239.7163956441095, 1720.7834909871692, 2068.7362366974403, 3676.5532161695764, 7799.011128888418, 2621.7243933127684, 1829.7240484925187, 2744.6671286880455, 6190.171430224983, 2212.712237712476, 684.9286942036186, 2464.6087811581, 4069.272015014202, 4643.499351215661, 96.01220488167537, 41.0201060339535, 37.0206806632101, 30.021686264409137, 23.022691865608177, 20.023122837550623, 17.02355380949307, 16.023697466807214, 15.023841124121363, 15.023841124121363, 15.023841124121363, 14.02398478143551, 13.02412843874966, 11.024415753377955, 11.024415753377955, 11.024415753377955, 11.024415753377955, 11.024415753377955, 11.024415753377955, 9.024703068006254, 8.0248467253204, 6.0251340399486955, 5.025277697262843, 5.025277697262843, 4.025421354576992, 4.025421354576992, 4.025421354576992, 4.025421354576992, 3.025565011891141, 3.025565011891141, 95.01234306107737, 94.0123391659391, 89.01320487592514, 37.02057864296706, 45.01968591174799, 21.023030735621386, 31.021561335151567, 18.023458311118414, 115.00948101195777, 70.01500281411077, 32.02108656387003, 47.01865604612129, 53.018212826893546, 280.98556255468054, 25.022196293706003, 67.0166416207914, 61.01748457044118, 635.9375624304804, 127.00838260391598, 196.99757316209326, 123.00728499358236, 65.01691908058068, 62.01737780536333, 126.00777125206389, 70.01623847475528, 166.00136695206146, 180.00171899068752, 776.9096555301478, 186.99472225064747, 1945.7404001108887, 494.95743550180305, 115.00992589979462, 5228.240858484356, 171.0035261240755, 4913.351530635987, 12679.397534632079, 370.98193548439167, 750.9292288185029, 596.938828968715, 472.96433119951524, 292.9903990233193, 622.9487311130447, 1441.8286916034647, 325.98050156339235, 5968.256342491838, 724.9308725900185, 2212.712237712476, 7527.06511261191, 491.96045339869835, 1125.863897781945, 2668.7080713604655, 1978.7369191343973, 3489.5030685338534, 2727.591107553819, 1643.8329662091562, 7799.011128888418, 3676.5532161695764, 1720.7834909871692, 1041.8749331995552, 2081.7349597523057, 2994.676308131369, 3205.5743430593616, 1332.8560394293143, 97.00614447589763, 16.022721508297753, 7.024563400786658, 6.024768055507647, 5.024972710228638, 3.025382019670617, 3.025382019670617, 3.025382019670617, 2.0255866743916062, 2.0255866743916062, 2.0255866743916062, 2.0255866743916062, 2.0255866743916062, 2.0255866743916062, 45.016822698771676, 1.025791329112596, 1.025791329112596, 1.025791329112596, 1.025791329112596, 1.025791329112596, 1.025791329112596, 1.025791329112596, 1.025791329112596, 137.9982107770863, 349.95423949576434, 31.019565425022716, 143.99726991632028, 9.024214154259973, 9.024236979680671, 200.98667852464098, 79.01055910543174, 40.01793058751606, 123.00224427709935, 18.022560863863752, 108.00645407314309, 57.01447048673165, 12.02346610734629, 20.022146879041163, 228.98375169843706, 45.01784113694787, 28.020455111246637, 936.8621435924124, 49.01705574059684, 25.02133512549357, 70.01343789026342, 141.99869569800123, 93.0088933466866, 55.01591928642455, 36.01906049579159, 114.00767608078185, 29.02057197823358, 548.9465285573467, 89.01070527853707, 168.99607844720066, 1767.7054913241325, 746.9125067080408, 538.952866348413, 440.9638327481519, 786.9184234228416, 570.9388599696538, 901.9028069008476, 815.8759113150463, 493.95572989302497, 1247.860070279476, 833.9139130759163, 3205.5743430593616, 484.94868821590734, 596.938828968715, 5228.240858484356, 452.9571783036874, 2732.608850748419, 12679.397534632079, 3290.557103067307, 7161.104353473825, 868.880523141987, 1717.7713191807331, 4913.351530635987, 2784.674527607002, 5282.296241848325, 1896.7779006357753, 1464.8374849857325, 34.02002355576898, 29.02090185401378, 26.021428832960655, 23.02195581190753, 21.022307131205448, 15.023361089099202, 3.0254690048867086, 3.0254690048867086, 1697.7278433333636, 864.8748029079794, 66.01445634026628, 1.0258203241846267, 881.8727520683383, 39.01925565432679, 19.022715730370045, 142.00145096008217, 736.9005240024673, 35.020098410175535, 98.00936020015493, 14.023540275988873, 7.02482698194981, 44.01862568401211, 11.024230737065377, 98.0088223184201, 35.02043242891622, 20.022461177677535, 10.024240402406495, 153.00037773889852, 14.023710407323946, 13.023514393427892, 1449.7776037305018, 701.9186073526688, 84.01284156382371, 1778.7643811230073, 3694.4810451243557, 244.98240468426962, 471.95629133435807, 2911.5931373787603, 116.00449494522415, 158.00297623920008, 677.9274279224318, 695.9214238530187, 469.961277950967, 113.00825317306447, 7161.104353473825, 419.97024747649624, 408.97049833760803, 1057.881404957177, 729.9316165009226, 154.00160160832755, 2084.768223934878, 594.9349972516457, 3489.5030685338534, 3290.557103067307, 3624.492793803606, 2940.5964981427737, 4825.509166890004, 3935.5626567127806, 522.9519135604222, 4643.499351215661, 1041.8749331995552, 26.02286399139461, 16.02406860387114, 14.024309526366443, 12.02455044886175, 11.024670910109402, 6.025273216347668, 4.025514138842975, 3.025634600090627, 3.025634600090627, 2.02575506133828, 2.02575506133828, 2.02575506133828, 2.02575506133828, 2.02575506133828, 2.02575506133828, 43.02076813409379, 1.0258755225859328, 1.0258755225859328, 1.0258755225859328, 1.0258755225859328, 1.0258755225859328, 1.0258755225859328, 1.0258755225859328, 1.0258755225859328, 1.0258755225859328, 21.02343762365424, 36.02166475449933, 15.024104871645454, 156.00719203910796, 39.020934385001986, 88.01474182082409, 39.02107537661108, 46.02039943828871, 26.022861381119924, 19.023704609853493, 493.95572989302497, 33.02182650127951, 39.02133591597854, 47.019842087363386, 182.00266206659109, 22.023125042780002, 71.01569551958599, 21.023247534152645, 71.01739240545865, 12.024382061915075, 3205.5743430593616, 1446.8266015004654, 170.00305416826342, 202.995548952305, 530.9550044090614, 93.013433367887, 229.9914915787438, 1094.8880346070835, 482.95924220030383, 4501.404218672411, 12679.397534632079, 2293.7067673945226, 2239.7163956441095, 2500.6940915378436, 485.94728494537424, 3977.4898601794275, 645.9400835515529, 1685.802213715448, 2292.715510137764, 683.9252827816343, 2212.712237712476, 5228.240858484356, 1720.7834909871692, 444.97344985770434, 2784.674527607002, 1209.8769968804204, 5282.296241848325, 1041.8749331995552, 1548.8457588535186, 3470.553810726291, 1394.8250927391698, 887.8960654492773, 3634.48687972273, 2069.7489140738153, 1360.855540746795, 3694.4810451243557, 2940.5964981427737, 153.01138473251154, 119.0146316772498, 114.01510916912305, 99.01654164474286, 69.01940659598249, 40.022176048847435, 34.02274903909535, 32.02294003584466, 19.024181514715163, 19.024181514715163, 15.024563508213776, 7.025327495211009, 6.0254229935856625, 6.0254229935856625, 5.025518491960317, 171.0096394937574, 3.0257094887096243, 2.025804987084278, 2.025804987084278, 63.01974136205385, 1.0259004854589318, 1.0259004854589318, 1.0259004854589318, 1.0259004854589318, 31.02297171907001, 60.02018374842315, 78.01824960342753, 72.01882259367547, 24.02364020769259, 45.02161622404296, 38.022148732904064, 76.01797666947775, 117.01458626190602, 54.020432764723445, 293.9963393831233, 62.01952326981271, 50.02102469137672, 125.01339799959582, 125.01277002476155, 271.9967952264421, 199.0048787623787, 333.9848793297522, 134.01051089155015, 182.00445861001376, 299.9918377835454, 157.0097232012525, 189.0061411340538, 218.00034775094736, 285.9955747892671, 1339.8557999564935, 177.0049611320155, 322.98937160825056, 605.9452908696322, 2473.7067308182145, 220.9945897833614, 805.9211644099706, 2621.7243933127684, 2855.663122532254, 3319.698083323937, 878.91585656251, 5282.296241848325, 2802.650426637663, 2084.786809459568, 1650.8087141648255, 553.9674439019437, 2367.758803237561, 535.9557383631919, 4501.404218672411, 2940.5964981427737, 2342.788397742741, 804.9266789883546, 7799.011128888418, 3385.5464613257514, 7161.104353473825, 1767.7054913241325, 5228.240858484356, 1829.7240484925187, 1910.6493110126091, 2732.608850748419, 2293.7067673945226, 2069.739112570398, 2994.676308131369, 4825.509166890004, 691.9440771744936, 115.012382308871, 111.01285582800014, 59.01901157667886, 39.02137917232452, 38.02149755210681, 37.02161593188909, 26.022918109494217, 17.02398352753477, 16.02410190731705, 11.024693806228468, 8.025048945575318, 275.99334944177633, 3.0256408444867353, 3.0256408444867353, 2.0257592242690183, 2.0257592242690183, 375.9812589577789, 107.01321831463663, 1.025877604051302, 1.025877604051302, 1.025877604051302, 643.9493919783223, 27.022820818377042, 17.023768184765856, 14.024281894546188, 146.00636485382728, 1219.879651691705, 362.98247238373364, 153.00691874744194, 428.97291439406837, 435.9650127496702, 35.021779551221776, 114.0119470906612, 1069.903572947217, 1220.8699923334957, 2336.7358669749497, 1938.778737404949, 215.99894968954808, 2412.6971715088685, 310.9865919651492, 206.99515046662947, 1643.7956310171373, 150.00483037032078, 2222.531667132219, 244.9876756930202, 1664.781661165102, 467.9607387268703, 778.9357640142093, 354.97675392035546, 6190.171430224983, 545.9505304348928, 2727.591107553819, 2028.737441720343, 1205.8372006999252, 3385.5464613257514, 1751.7697261988626, 3809.3169249467064, 1092.8934568782868, 5282.296241848325, 4069.272015014202, 2069.739112570398, 1312.8508056847973, 2239.7163956441095, 2855.663122532254, 195.9929744255138, 50.01757211691528, 49.017740594253645, 48.017909071592015, 35.02009927699077, 29.02111014102097, 19.02279491440463, 11.024142733111557, 5.025153597141755, 4.025322074480121, 2.0256590291568535, 2.0256590291568535, 2.0256590291568535, 2.0256590291568535, 64.01523277629023, 142.00209969322879, 1.0258275064952196, 1.0258275064952196, 1.0258275064952196, 1.0258275064952196, 148.00118858774783, 142.00227501731092, 208.99121133744217, 59.01610359193532, 472.9464619876314, 139.00290002283117, 49.01772724469495, 73.01335997292787, 311.97426299434505, 120.00533345811526, 417.9555636381978, 157.999495693959, 92.01012386556972, 386.95796481626877, 377.9633903390255, 88.01157560910806, 149.00040595306842, 164.9983804992913, 359.9672983133884, 79.01305517663438, 220.98909062630707, 602.9326568063183, 524.9405389123971, 87.0121923581367, 340.9709629894851, 634.9358584506108, 2820.599443919719, 235.98598527719733, 2028.737441720343, 3473.4276335424984, 3489.5030685338534, 6190.171430224983, 583.9421935134227, 2802.650426637663, 1636.7853126210018, 2940.5964981427737, 677.9313212968659, 2069.739112570398, 1179.8556612994112, 989.8990463247927, 1689.7755298738562, 669.9287569478129, 1138.74416743106, 2069.7489140738153, 72.01615611533518, 57.018206087938985, 54.01861608245976, 39.02066605506359, 29.022032703466163, 22.022989357347953, 22.022989357347953, 21.02312602218821, 21.02312602218821, 19.023399351868722, 18.023536016708977, 17.023672681549233, 16.02380934638949, 15.023946011229743, 15.023946011229743, 14.02408267607, 9.024766000271281, 9.024766000271281, 8.024902665111535, 8.024902665111535, 8.024902665111535, 8.024902665111535, 7.0250393299517935, 6.025175994792049, 5.025312659632306, 3.025585989312818, 3.025585989312818, 2.025722654153074, 2.025722654153074, 2.025722654153074, 392.9726114066418, 105.01163219065894, 49.01918828555021, 61.01758496620128, 109.01132233080081, 86.01425229378916, 32.02162508049978, 103.01198906276643, 69.01653813996037, 108.011164838397, 97.01289062539459, 38.02083512708906, 173.00261137568776, 94.01286507708653, 102.01233030674132, 82.0150320507082, 264.98962648160943, 106.01194429932556, 28.02205336311559, 2292.715510137764, 337.9796087702425, 113.00891466365366, 876.9096340451822, 131.00809355982747, 92.01387846248167, 144.00469269419756, 323.976005403621, 3624.492793803606, 484.94868821590734, 310.9874258302701, 1706.812140972623, 2744.6671286880455, 365.9781919845347, 379.9807553941169, 329.98572110112985, 472.9643706448645, 1286.8607535710285, 4091.5206438555447, 4913.351530635987, 676.9432294699193, 2187.7584053885266, 978.8728321943275, 3634.48687972273, 5968.256342491838, 1896.7779006357753, 1648.7813774781057, 532.9478833739543, 7527.06511261191, 1685.802213715448, 1978.7369191343973, 2802.650426637663, 1256.8377340983338, 1586.8375809688723, 3694.4810451243557, 5228.240858484356, 3676.5532161695764, 2212.712237712476, 204.99333671142216, 70.01484403715655, 59.016596485920054, 38.01994206992317, 31.02105726459089, 29.021375891638804, 21.022650399830468, 17.0232876539263, 16.023446967450255, 16.023446967450255, 16.023446967450255, 12.024084221546088, 9.024562162117963, 9.024562162117963, 8.024721475641922, 7.024880789165879, 7.024880789165879, 6.025040102689838, 6.025040102689838, 218.991023970972, 5.025199416213796, 5.025199416213796, 4.0253587297377535, 4.0253587297377535, 4.0253587297377535, 3.025518043261711, 3.025518043261711, 3.025518043261711, 3.025518043261711, 3.025518043261711, 195.9946058309083, 69.01507050924067, 95.0106964968281, 246.9866972922856, 66.01531658902287, 64.01585618008546, 101.00957591345487, 378.9669041092285, 30.021181224203133, 390.96344269510973, 48.018305187169666, 81.01279711380799, 119.0073697443469, 34.02041462178952, 143.0044239586126, 118.00728587517062, 57.0171093743495, 134.00472269858457, 32.020733248837445, 160.0014243349452, 71.0150615000834, 107.00880400026296, 354.9729488080925, 88.01077973060495, 77.01455636754129, 683.9252827816343, 854.9051054391302, 485.9560658808596, 121.00804832957638, 195.99738000783685, 194.99211170931488, 572.9461870919952, 3977.4898601794275, 878.91585656251, 3205.5743430593616, 2176.7294753135793, 245.98439830258548, 779.9172356072232, 735.9210276672173, 357.97156743956, 2751.6694893242316, 1273.6591304652777, 1945.7404001108887, 1335.8246841409432, 2500.6940915378436, 1101.8736615256769, 1052.8868700102842, 2820.599443919719, 1025.8966080273692, 1446.8266015004654, 1336.8758403129518, 1737.8072893024903, 2292.715510137764, 12.024384464403235, 10.02465305097496, 7.025055930832547, 2.0257273972618606, 2.0257273972618606, 1.0258616905477234, 1.0258616905477234, 1.0258616905477234, 1.0258616905477234, 1.0258616905477234, 1.0258616905477234, 82.01486070073179, 19.023384037252388, 16.023832449319357, 28.022263435905856, 148.00611007120597, 29.022073386458715, 230.99406416803103, 46.01976801703529, 31.021859368544437, 53.019027118142354, 27.022396541687886, 105.01170790825233, 21.02306340822343, 9.024815008337242, 4.025417444327037, 62.016973331165254, 7.025037202775976, 7.025094429424231, 10.024779465941181, 36.02017987822428, 110.01109299976109, 650.9328212846531, 86.01394401243219, 666.9343061539354, 616.9369693586472, 112.01099584116582, 121.00934579579432, 198.99718594979828, 84.01389648225528, 2500.6940915378436, 507.9530273735195, 249.98491685849513, 731.9187145097322, 807.906564409732, 1509.8299200842573, 7799.011128888418, 253.98887941728933, 579.9518775740652, 7527.06511261191, 170.99897245697915, 5968.256342491838, 710.9200784476471, 1011.8723949371955, 801.9044855741025, 2293.7067673945226, 4501.404218672411, 695.9214238530187, 4913.351530635987, 677.9274279224318, 641.9299952787062, 1743.8066801195678, 1446.8266015004654, 12679.397534632079, 2239.7163956441095, 3977.4898601794275, 3634.48687972273, 2068.7362366974403, 2940.5964981427737, 3676.5532161695764, 3935.5626567127806, 6190.171430224983, 5228.240858484356, 2176.7294753135793, 31.019961293327807, 4.025217314090904, 4.025217314090904, 137.99908488050804, 3.0254119815265748, 3.0254119815265748, 2.025606648962245, 2.025606648962245, 76.01106220360712, 46.01711548798076, 1.0258013163979154, 243.97887090194666, 185.98985187413356, 855.8592981871756, 1096.8112281719752, 13.023538208220543, 333.9617202915201, 96.00703444485688, 94.00834098926163, 21.021921344631288, 158.99494412791216, 39.01844689303715, 555.921130911573, 10.024226541615752, 24.02169108021485, 40.01863637516566, 162.99671229783635, 25.021262352448808, 77.0119899995947, 20.022464880019026, 135.00391889136523, 82.01215560160641, 912.868068202808, 328.9689156084345, 262.98174341622973, 138.0010526411924, 152.99836197571165, 359.96563320052604, 798.891083804761, 298.9791786703055, 477.94391491447016, 2651.6602784257084, 528.9443356423312, 1648.7813774781057, 340.97647685275706, 248.9868547820333, 265.98634257365444, 186.99524914606562, 887.8960654492773, 971.8737222290508, 3489.5030685338534, 2820.599443919719, 7161.104353473825, 3634.48687972273, 5228.240858484356, 2751.6694893242316, 777.9090610244501, 1720.7834909871692, 1446.8266015004654, 2293.7067673945226, 2069.7489140738153, 12679.397534632079, 1449.7776037305018, 194.99555457988563, 4.025370754338927, 3.0255270617125922, 3.0255270617125922, 3.0255270617125922, 2.025683369086257, 2.025683369086257, 230.98992693069567, 1.0258396764599211, 1.0258396764599211, 1.0258396764599211, 1.0258396764599211, 1.0258396764599211, 30.021215284046228, 143.00375753570455, 24.022209429555765, 28.021734979120886, 92.01190985067188, 1290.823803420929, 189.9948285678319, 109.00811556890815, 25.022280756721607, 410.9631841478989, 156.0022683123266, 29.021719679636824, 32.02063513016124, 38.019458802779084, 95.01154539199958, 677.92347202047, 67.01473306744526, 226.99123216010787, 173.99983316294265, 641.9299952787062, 262.98660518857116, 455.9577976574729, 167.00025400091835, 428.9620348271442, 511.9426320446234, 807.906564409732, 710.9200784476471, 731.9187145097322, 801.9044855741025, 319.9785312314638, 392.9666458746057, 785.909376824118, 539.9539604363679, 184.99714362988718, 7799.011128888418, 616.9369693586472, 253.98887941728933, 1509.8299200842573, 4501.404218672411, 6190.171430224983, 2176.7294753135793, 5968.256342491838, 3385.5464613257514, 7527.06511261191, 2239.7163956441095, 12679.397534632079, 2293.7067673945226, 5282.296241848325, 3624.492793803606, 280.00019259397266, 93.01742557220125, 87.01797850198398, 62.02028237607869, 44.02194116542688, 32.02304702499235, 28.023415644847503, 22.02396857463024, 22.02396857463024, 20.024152884557815, 18.02433719448539, 18.02433719448539, 17.02442934944918, 15.024613659376755, 15.024613659376755, 15.024613659376755, 14.024705814340543, 13.024797969304332, 12.02489012426812, 11.02498227923191, 8.025258744123274, 8.025258744123274, 188.00856833816943, 4.0256273639784315, 293.998718170943, 801.9516062315647, 113.0154799604536, 2.025811673906008, 115.01531388635375, 149.01201967103464, 1100.9227067256302, 302.99757246835463, 38.02246787039112, 167.0099112492401, 863.9409943698286, 29.023271053041807, 126.01358220876197, 388.9865925182542, 1462.8661570864417, 197.00706818539652, 350.9898108740059, 337.98937460148846, 489.97613356511675, 1876.8311734043984, 585.9649648862726, 331.9940580026323, 2863.7164079030113, 4825.509166890004, 2412.779283874897, 497.97047815608295, 394.9850442183843, 489.96648774101095, 3319.698083323937, 4643.499351215661, 2367.758803237561, 887.929820051576, 1548.8457588535186, 1273.8836984241257, 7020.209102410865, 1332.8560394293143, 1783.8205711242465, 6190.171430224983, 1336.8758403129518, 2084.786809459568, 7161.104353473825, 12679.397534632079, 3624.492793803606, 7799.011128888418, 3676.5532161695764, 5228.240858484356, 47.01920016896588, 12.024260882165235, 10.024550065776626, 6.025128432999411, 5.025273024805107, 4.025417616610802, 4.025417616610802, 2.0257068002221943, 2.0257068002221943, 2.0257068002221943, 2.0257068002221943, 2.0257068002221943, 1.0258513920278898, 1.0258513920278898, 1.0258513920278898, 1.0258513920278898, 37.02070518265419, 25.022261062860604, 69.01631370982683, 71.01534377341858, 13.024107203518353, 82.01446795683617, 29.021552443318534, 17.02369523366248, 11.02421132830492, 30.02180301301097, 15.02378294159336, 19.02300848786419, 26.02255121793694, 13.024273759988922, 90.01306781859884, 49.019540863872024, 230.99470930894432, 181.9995960170933, 808.9224541483568, 155.00358345022926, 570.9457905197764, 30.02137362981375, 103.01252508445687, 226.99664914316872, 740.9319293774406, 282.99034485092, 7020.209102410865, 44.019335148678394, 152.00532010878447, 98.01310353738353, 706.922926641445, 749.9283925285099, 219.99369933365998, 507.9530273735195, 666.9343061539354, 1192.8576237987684, 234.99120410003235, 1960.7737175365912, 2863.7164079030113, 263.9868897690676, 1238.867745168152, 3470.553810726291, 3290.557103067307, 1441.8286916034647, 7161.104353473825, 1273.8836984241257, 989.8990463247927, 1896.7779006357753, 5282.296241848325, 2651.6602784257084, 1743.8066801195678, 3676.5532161695764, 2084.786809459568, 1717.7713191807331, 3489.5030685338534, 2820.599443919719, 1783.8205711242465, 1351.83918100961, 4825.509166890004, 2081.7349597523057, 3624.492793803606, 42.015846069008134, 34.017779386117745, 25.019954367866053, 21.020921026420858, 21.020921026420858, 20.02116269105956, 16.022129349614367, 15.022371014253064, 15.022371014253064, 13.022854343530467, 11.023337672807871, 11.023337672807871, 10.023579337446572, 10.023579337446572, 9.023821002085272, 9.023821002085272, 8.024062666723975, 8.024062666723975, 7.024304331362677, 6.024545996001378, 5.024787660640079, 4.025029325278781, 4.025029325278781, 3.0252709899174817, 3.0252709899174817, 63.01089231498646, 1.0257543191948844, 1.0257543191948844, 1.0257543191948844, 1.0257543191948844, 56.0126660698966, 20.021283894450608, 50.014206773872175, 76.00838155749004, 91.0045899117356, 36.017407086593465, 16.0222367209672, 30.019040066646205, 90.00626045965217, 71.00876433873715, 29.01948327403793, 112.00130634766268, 108.00220872374622, 43.01640591547954, 88.0065084456413, 243.97819422767515, 41.017078863100195, 88.00795066635132, 141.9939698584309, 205.98620454231465, 56.01426123787188, 86.00689011714786, 275.97327640801075, 67.01135883639446, 151.99602751349724, 157.99318794492095, 245.9822463837438, 531.9310786674778, 1751.7697261988626, 301.9706271367831, 868.880523141987, 389.96493705016354, 309.9748858223154, 1767.7054913241325, 782.9060869512501, 205.99090691505245, 3470.553810726291, 5228.240858484356, 1717.7713191807331, 728.9195232906156, 374.9616731422691, 12679.397534632079, 498.9441379776615, 2940.5964981427737, 2212.712237712476, 815.8759113150463, 605.9452908696322, 4913.351530635987, 1829.7240484925187, 2855.663122532254, 885.9103621639545, 4643.499351215661, 1978.7369191343973, 1394.8250927391698], \"Category\": [\"Default\", \"Default\", \"Default\", \"Default\", \"Default\", \"Default\", \"Default\", \"Default\", \"Default\", \"Default\", \"Default\", \"Default\", \"Default\", \"Default\", \"Default\", \"Default\", \"Default\", \"Default\", \"Default\", \"Default\", \"Default\", \"Default\", \"Default\", \"Default\", \"Default\", \"Default\", \"Default\", \"Default\", \"Default\", \"Default\", \"Topic1\", \"Topic1\", \"Topic1\", \"Topic1\", \"Topic1\", \"Topic1\", \"Topic1\", \"Topic1\", \"Topic1\", \"Topic1\", \"Topic1\", \"Topic1\", \"Topic1\", \"Topic1\", \"Topic1\", \"Topic1\", \"Topic1\", \"Topic1\", \"Topic1\", \"Topic1\", \"Topic1\", \"Topic1\", \"Topic1\", \"Topic1\", \"Topic1\", \"Topic1\", \"Topic1\", \"Topic1\", \"Topic1\", \"Topic1\", \"Topic1\", \"Topic1\", \"Topic1\", \"Topic1\", \"Topic1\", \"Topic1\", \"Topic1\", \"Topic1\", \"Topic1\", \"Topic1\", \"Topic1\", \"Topic1\", \"Topic1\", \"Topic1\", \"Topic1\", \"Topic1\", \"Topic1\", \"Topic1\", \"Topic1\", \"Topic1\", \"Topic1\", \"Topic1\", \"Topic1\", \"Topic1\", \"Topic1\", \"Topic1\", \"Topic1\", \"Topic1\", \"Topic1\", \"Topic1\", \"Topic1\", \"Topic1\", \"Topic1\", \"Topic1\", \"Topic1\", \"Topic1\", \"Topic1\", \"Topic1\", \"Topic1\", \"Topic1\", \"Topic1\", \"Topic1\", \"Topic1\", \"Topic1\", \"Topic1\", \"Topic1\", \"Topic1\", \"Topic1\", \"Topic1\", \"Topic1\", \"Topic1\", \"Topic1\", \"Topic1\", \"Topic1\", \"Topic1\", \"Topic1\", \"Topic2\", \"Topic2\", \"Topic2\", \"Topic2\", \"Topic2\", \"Topic2\", \"Topic2\", \"Topic2\", \"Topic2\", \"Topic2\", \"Topic2\", \"Topic2\", \"Topic2\", \"Topic2\", \"Topic2\", \"Topic2\", \"Topic2\", \"Topic2\", \"Topic2\", \"Topic2\", \"Topic2\", \"Topic2\", \"Topic2\", \"Topic2\", \"Topic2\", \"Topic2\", \"Topic2\", \"Topic2\", \"Topic2\", \"Topic2\", \"Topic2\", \"Topic2\", \"Topic2\", \"Topic2\", \"Topic2\", \"Topic2\", \"Topic2\", \"Topic2\", \"Topic2\", \"Topic2\", \"Topic2\", \"Topic2\", \"Topic2\", \"Topic2\", \"Topic2\", \"Topic2\", \"Topic2\", \"Topic2\", \"Topic2\", \"Topic2\", \"Topic2\", \"Topic2\", \"Topic2\", \"Topic2\", \"Topic2\", \"Topic2\", \"Topic2\", \"Topic2\", \"Topic2\", \"Topic2\", \"Topic2\", \"Topic2\", \"Topic2\", \"Topic2\", \"Topic2\", \"Topic2\", \"Topic2\", \"Topic2\", \"Topic2\", \"Topic2\", \"Topic2\", \"Topic2\", \"Topic2\", \"Topic2\", \"Topic2\", \"Topic2\", \"Topic2\", \"Topic2\", \"Topic3\", \"Topic3\", \"Topic3\", \"Topic3\", \"Topic3\", \"Topic3\", \"Topic3\", \"Topic3\", \"Topic3\", \"Topic3\", \"Topic3\", \"Topic3\", \"Topic3\", \"Topic3\", \"Topic3\", \"Topic3\", \"Topic3\", \"Topic3\", \"Topic3\", \"Topic3\", \"Topic3\", \"Topic3\", \"Topic3\", \"Topic3\", \"Topic3\", \"Topic3\", \"Topic3\", \"Topic3\", \"Topic3\", \"Topic3\", \"Topic3\", \"Topic3\", \"Topic3\", \"Topic3\", \"Topic3\", \"Topic3\", \"Topic3\", \"Topic3\", \"Topic3\", \"Topic3\", \"Topic3\", \"Topic3\", \"Topic3\", \"Topic3\", \"Topic3\", \"Topic3\", \"Topic3\", \"Topic3\", \"Topic3\", \"Topic3\", \"Topic3\", \"Topic3\", \"Topic3\", \"Topic3\", \"Topic3\", \"Topic3\", \"Topic3\", \"Topic3\", \"Topic3\", \"Topic3\", \"Topic3\", \"Topic3\", \"Topic3\", \"Topic3\", \"Topic3\", \"Topic3\", \"Topic3\", \"Topic3\", \"Topic3\", \"Topic3\", \"Topic3\", \"Topic3\", \"Topic3\", \"Topic3\", \"Topic3\", \"Topic3\", \"Topic3\", \"Topic3\", \"Topic3\", \"Topic3\", \"Topic3\", \"Topic3\", \"Topic3\", \"Topic3\", \"Topic3\", \"Topic3\", \"Topic3\", \"Topic3\", \"Topic3\", \"Topic4\", \"Topic4\", \"Topic4\", \"Topic4\", \"Topic4\", \"Topic4\", \"Topic4\", \"Topic4\", \"Topic4\", \"Topic4\", \"Topic4\", \"Topic4\", \"Topic4\", \"Topic4\", \"Topic4\", \"Topic4\", \"Topic4\", \"Topic4\", \"Topic4\", \"Topic4\", \"Topic4\", \"Topic4\", \"Topic4\", \"Topic4\", \"Topic4\", \"Topic4\", \"Topic4\", \"Topic4\", \"Topic4\", \"Topic4\", \"Topic4\", \"Topic4\", \"Topic4\", \"Topic4\", \"Topic4\", \"Topic4\", \"Topic4\", \"Topic4\", \"Topic4\", \"Topic4\", \"Topic4\", \"Topic4\", \"Topic4\", \"Topic4\", \"Topic4\", \"Topic4\", \"Topic4\", \"Topic4\", \"Topic4\", \"Topic4\", \"Topic4\", \"Topic4\", \"Topic4\", \"Topic4\", \"Topic4\", \"Topic4\", \"Topic4\", \"Topic4\", \"Topic4\", \"Topic4\", \"Topic4\", \"Topic4\", \"Topic4\", \"Topic4\", \"Topic4\", \"Topic4\", \"Topic4\", \"Topic4\", \"Topic4\", \"Topic4\", \"Topic4\", \"Topic4\", \"Topic4\", \"Topic4\", \"Topic4\", \"Topic5\", \"Topic5\", \"Topic5\", \"Topic5\", \"Topic5\", \"Topic5\", \"Topic5\", \"Topic5\", \"Topic5\", \"Topic5\", \"Topic5\", \"Topic5\", \"Topic5\", \"Topic5\", \"Topic5\", \"Topic5\", \"Topic5\", \"Topic5\", \"Topic5\", \"Topic5\", \"Topic5\", \"Topic5\", \"Topic5\", \"Topic5\", \"Topic5\", \"Topic5\", \"Topic5\", \"Topic5\", \"Topic5\", \"Topic5\", \"Topic5\", \"Topic5\", \"Topic5\", \"Topic5\", \"Topic5\", \"Topic5\", \"Topic5\", \"Topic5\", \"Topic5\", \"Topic5\", \"Topic5\", \"Topic5\", \"Topic5\", \"Topic5\", \"Topic5\", \"Topic5\", \"Topic5\", \"Topic5\", \"Topic5\", \"Topic5\", \"Topic5\", \"Topic5\", \"Topic5\", \"Topic5\", \"Topic5\", \"Topic5\", \"Topic5\", \"Topic5\", \"Topic5\", \"Topic5\", \"Topic5\", \"Topic5\", \"Topic5\", \"Topic5\", \"Topic5\", \"Topic5\", \"Topic5\", \"Topic5\", \"Topic5\", \"Topic5\", \"Topic5\", \"Topic5\", \"Topic5\", \"Topic5\", \"Topic5\", \"Topic5\", \"Topic5\", \"Topic5\", \"Topic5\", \"Topic6\", \"Topic6\", \"Topic6\", \"Topic6\", \"Topic6\", \"Topic6\", \"Topic6\", \"Topic6\", \"Topic6\", \"Topic6\", \"Topic6\", \"Topic6\", \"Topic6\", \"Topic6\", \"Topic6\", \"Topic6\", \"Topic6\", \"Topic6\", \"Topic6\", \"Topic6\", \"Topic6\", \"Topic6\", \"Topic6\", \"Topic6\", \"Topic6\", \"Topic6\", \"Topic6\", \"Topic6\", \"Topic6\", \"Topic6\", \"Topic6\", \"Topic6\", \"Topic6\", \"Topic6\", \"Topic6\", \"Topic6\", \"Topic6\", \"Topic6\", \"Topic6\", \"Topic6\", \"Topic6\", \"Topic6\", \"Topic6\", \"Topic6\", \"Topic6\", \"Topic6\", \"Topic6\", \"Topic6\", \"Topic6\", \"Topic6\", \"Topic6\", \"Topic6\", \"Topic6\", \"Topic6\", \"Topic6\", \"Topic6\", \"Topic6\", \"Topic6\", \"Topic6\", \"Topic6\", \"Topic6\", \"Topic6\", \"Topic6\", \"Topic6\", \"Topic6\", \"Topic6\", \"Topic6\", \"Topic6\", \"Topic6\", \"Topic6\", \"Topic6\", \"Topic6\", \"Topic6\", \"Topic6\", \"Topic6\", \"Topic6\", \"Topic6\", \"Topic6\", \"Topic6\", \"Topic6\", \"Topic6\", \"Topic6\", \"Topic6\", \"Topic7\", \"Topic7\", \"Topic7\", \"Topic7\", \"Topic7\", \"Topic7\", \"Topic7\", \"Topic7\", \"Topic7\", \"Topic7\", \"Topic7\", \"Topic7\", \"Topic7\", \"Topic7\", \"Topic7\", \"Topic7\", \"Topic7\", \"Topic7\", \"Topic7\", \"Topic7\", \"Topic7\", \"Topic7\", \"Topic7\", \"Topic7\", \"Topic7\", \"Topic7\", \"Topic7\", \"Topic7\", \"Topic7\", \"Topic7\", \"Topic7\", \"Topic7\", \"Topic7\", \"Topic7\", \"Topic7\", \"Topic7\", \"Topic7\", \"Topic7\", \"Topic7\", \"Topic7\", \"Topic7\", \"Topic7\", \"Topic7\", \"Topic7\", \"Topic7\", \"Topic7\", \"Topic7\", \"Topic7\", \"Topic7\", \"Topic7\", \"Topic7\", \"Topic7\", \"Topic7\", \"Topic8\", \"Topic8\", \"Topic8\", \"Topic8\", \"Topic8\", \"Topic8\", \"Topic8\", \"Topic8\", \"Topic8\", \"Topic8\", \"Topic8\", \"Topic8\", \"Topic8\", \"Topic8\", \"Topic8\", \"Topic8\", \"Topic8\", \"Topic8\", \"Topic8\", \"Topic8\", \"Topic8\", \"Topic8\", \"Topic8\", \"Topic8\", \"Topic8\", \"Topic8\", \"Topic8\", \"Topic8\", \"Topic8\", \"Topic8\", \"Topic8\", \"Topic8\", \"Topic8\", \"Topic8\", \"Topic8\", \"Topic8\", \"Topic8\", \"Topic8\", \"Topic8\", \"Topic8\", \"Topic8\", \"Topic8\", \"Topic8\", \"Topic8\", \"Topic8\", \"Topic8\", \"Topic8\", \"Topic8\", \"Topic8\", \"Topic8\", \"Topic8\", \"Topic8\", \"Topic8\", \"Topic8\", \"Topic8\", \"Topic8\", \"Topic8\", \"Topic8\", \"Topic8\", \"Topic8\", \"Topic8\", \"Topic8\", \"Topic8\", \"Topic8\", \"Topic8\", \"Topic8\", \"Topic8\", \"Topic8\", \"Topic8\", \"Topic8\", \"Topic8\", \"Topic8\", \"Topic8\", \"Topic8\", \"Topic8\", \"Topic8\", \"Topic9\", \"Topic9\", \"Topic9\", \"Topic9\", \"Topic9\", \"Topic9\", \"Topic9\", \"Topic9\", \"Topic9\", \"Topic9\", \"Topic9\", \"Topic9\", \"Topic9\", \"Topic9\", \"Topic9\", \"Topic9\", \"Topic9\", \"Topic9\", \"Topic9\", \"Topic9\", \"Topic9\", \"Topic9\", \"Topic9\", \"Topic9\", \"Topic9\", \"Topic9\", \"Topic9\", \"Topic9\", \"Topic9\", \"Topic9\", \"Topic9\", \"Topic9\", \"Topic9\", \"Topic9\", \"Topic9\", \"Topic9\", \"Topic9\", \"Topic9\", \"Topic9\", \"Topic9\", \"Topic9\", \"Topic9\", \"Topic9\", \"Topic9\", \"Topic9\", \"Topic9\", \"Topic9\", \"Topic9\", \"Topic9\", \"Topic9\", \"Topic9\", \"Topic9\", \"Topic9\", \"Topic9\", \"Topic9\", \"Topic9\", \"Topic9\", \"Topic9\", \"Topic9\", \"Topic9\", \"Topic9\", \"Topic9\", \"Topic9\", \"Topic9\", \"Topic9\", \"Topic9\", \"Topic9\", \"Topic9\", \"Topic9\", \"Topic9\", \"Topic9\", \"Topic9\", \"Topic9\", \"Topic9\", \"Topic9\", \"Topic9\", \"Topic9\", \"Topic9\", \"Topic9\", \"Topic9\", \"Topic9\", \"Topic9\", \"Topic9\", \"Topic9\", \"Topic9\", \"Topic9\", \"Topic9\", \"Topic9\", \"Topic9\", \"Topic9\", \"Topic9\", \"Topic10\", \"Topic10\", \"Topic10\", \"Topic10\", \"Topic10\", \"Topic10\", \"Topic10\", \"Topic10\", \"Topic10\", \"Topic10\", \"Topic10\", \"Topic10\", \"Topic10\", \"Topic10\", \"Topic10\", \"Topic10\", \"Topic10\", \"Topic10\", \"Topic10\", \"Topic10\", \"Topic10\", \"Topic10\", \"Topic10\", \"Topic10\", \"Topic10\", \"Topic10\", \"Topic10\", \"Topic10\", \"Topic10\", \"Topic10\", \"Topic10\", \"Topic10\", \"Topic10\", \"Topic10\", \"Topic10\", \"Topic10\", \"Topic10\", \"Topic10\", \"Topic10\", \"Topic10\", \"Topic10\", \"Topic10\", \"Topic10\", \"Topic10\", \"Topic10\", \"Topic10\", \"Topic10\", \"Topic10\", \"Topic10\", \"Topic10\", \"Topic10\", \"Topic10\", \"Topic10\", \"Topic10\", \"Topic10\", \"Topic10\", \"Topic10\", \"Topic10\", \"Topic10\", \"Topic10\", \"Topic10\", \"Topic10\", \"Topic10\", \"Topic10\", \"Topic11\", \"Topic11\", \"Topic11\", \"Topic11\", \"Topic11\", \"Topic11\", \"Topic11\", \"Topic11\", \"Topic11\", \"Topic11\", \"Topic11\", \"Topic11\", \"Topic11\", \"Topic11\", \"Topic11\", \"Topic11\", \"Topic11\", \"Topic11\", \"Topic11\", \"Topic11\", \"Topic11\", \"Topic11\", \"Topic11\", \"Topic11\", \"Topic11\", \"Topic11\", \"Topic11\", \"Topic11\", \"Topic11\", \"Topic11\", \"Topic11\", \"Topic11\", \"Topic11\", \"Topic11\", \"Topic11\", \"Topic11\", \"Topic11\", \"Topic11\", \"Topic11\", \"Topic11\", \"Topic11\", \"Topic11\", \"Topic11\", \"Topic11\", \"Topic11\", \"Topic11\", \"Topic11\", \"Topic11\", \"Topic11\", \"Topic11\", \"Topic11\", \"Topic11\", \"Topic11\", \"Topic11\", \"Topic11\", \"Topic11\", \"Topic11\", \"Topic11\", \"Topic11\", \"Topic11\", \"Topic11\", \"Topic11\", \"Topic11\", \"Topic11\", \"Topic11\", \"Topic11\", \"Topic11\", \"Topic11\", \"Topic11\", \"Topic11\", \"Topic11\", \"Topic11\", \"Topic11\", \"Topic11\", \"Topic11\", \"Topic11\", \"Topic11\", \"Topic11\", \"Topic11\", \"Topic12\", \"Topic12\", \"Topic12\", \"Topic12\", \"Topic12\", \"Topic12\", \"Topic12\", \"Topic12\", \"Topic12\", \"Topic12\", \"Topic12\", \"Topic12\", \"Topic12\", \"Topic12\", \"Topic12\", \"Topic12\", \"Topic12\", \"Topic12\", \"Topic12\", \"Topic12\", \"Topic12\", \"Topic12\", \"Topic12\", \"Topic12\", \"Topic12\", \"Topic12\", \"Topic12\", \"Topic12\", \"Topic12\", \"Topic12\", \"Topic12\", \"Topic12\", \"Topic12\", \"Topic12\", \"Topic12\", \"Topic12\", \"Topic12\", \"Topic12\", \"Topic12\", \"Topic12\", \"Topic12\", \"Topic12\", \"Topic12\", \"Topic12\", \"Topic12\", \"Topic12\", \"Topic12\", \"Topic12\", \"Topic12\", \"Topic12\", \"Topic12\", \"Topic12\", \"Topic12\", \"Topic12\", \"Topic12\", \"Topic12\", \"Topic12\", \"Topic12\", \"Topic12\", \"Topic12\", \"Topic12\", \"Topic12\", \"Topic12\", \"Topic12\", \"Topic12\", \"Topic12\", \"Topic12\", \"Topic12\", \"Topic12\", \"Topic12\", \"Topic12\", \"Topic12\", \"Topic12\", \"Topic12\", \"Topic12\", \"Topic12\", \"Topic12\", \"Topic12\", \"Topic12\", \"Topic12\", \"Topic12\", \"Topic12\", \"Topic12\", \"Topic12\", \"Topic12\", \"Topic12\", \"Topic12\", \"Topic12\", \"Topic12\", \"Topic12\", \"Topic12\", \"Topic12\", \"Topic12\", \"Topic13\", \"Topic13\", \"Topic13\", \"Topic13\", \"Topic13\", \"Topic13\", \"Topic13\", \"Topic13\", \"Topic13\", \"Topic13\", \"Topic13\", \"Topic13\", \"Topic13\", \"Topic13\", \"Topic13\", \"Topic13\", \"Topic13\", \"Topic13\", \"Topic13\", \"Topic13\", \"Topic13\", \"Topic13\", \"Topic13\", \"Topic13\", \"Topic13\", \"Topic13\", \"Topic13\", \"Topic13\", \"Topic13\", \"Topic13\", \"Topic13\", \"Topic13\", \"Topic13\", \"Topic13\", \"Topic13\", \"Topic13\", \"Topic13\", \"Topic13\", \"Topic13\", \"Topic13\", \"Topic13\", \"Topic13\", \"Topic13\", \"Topic13\", \"Topic13\", \"Topic13\", \"Topic13\", \"Topic13\", \"Topic13\", \"Topic13\", \"Topic13\", \"Topic13\", \"Topic13\", \"Topic13\", \"Topic13\", \"Topic13\", \"Topic13\", \"Topic13\", \"Topic13\", \"Topic13\", \"Topic13\", \"Topic13\", \"Topic13\", \"Topic13\", \"Topic13\", \"Topic13\", \"Topic13\", \"Topic13\", \"Topic13\", \"Topic13\", \"Topic13\", \"Topic13\", \"Topic13\", \"Topic13\", \"Topic13\", \"Topic13\", \"Topic13\", \"Topic13\", \"Topic13\", \"Topic13\", \"Topic13\", \"Topic14\", \"Topic14\", \"Topic14\", \"Topic14\", \"Topic14\", \"Topic14\", \"Topic14\", \"Topic14\", \"Topic14\", \"Topic14\", \"Topic14\", \"Topic14\", \"Topic14\", \"Topic14\", \"Topic14\", \"Topic14\", \"Topic14\", \"Topic14\", \"Topic14\", \"Topic14\", \"Topic14\", \"Topic14\", \"Topic14\", \"Topic14\", \"Topic14\", \"Topic14\", \"Topic14\", \"Topic14\", \"Topic14\", \"Topic14\", \"Topic14\", \"Topic14\", \"Topic14\", \"Topic14\", \"Topic14\", \"Topic14\", \"Topic14\", \"Topic14\", \"Topic14\", \"Topic14\", \"Topic14\", \"Topic14\", \"Topic14\", \"Topic14\", \"Topic14\", \"Topic14\", \"Topic14\", \"Topic14\", \"Topic14\", \"Topic14\", \"Topic14\", \"Topic14\", \"Topic14\", \"Topic14\", \"Topic14\", \"Topic14\", \"Topic14\", \"Topic14\", \"Topic14\", \"Topic14\", \"Topic14\", \"Topic15\", \"Topic15\", \"Topic15\", \"Topic15\", \"Topic15\", \"Topic15\", \"Topic15\", \"Topic15\", \"Topic15\", \"Topic15\", \"Topic15\", \"Topic15\", \"Topic15\", \"Topic15\", \"Topic15\", \"Topic15\", \"Topic15\", \"Topic15\", \"Topic15\", \"Topic15\", \"Topic15\", \"Topic15\", \"Topic15\", \"Topic15\", \"Topic15\", \"Topic15\", \"Topic15\", \"Topic15\", \"Topic15\", \"Topic15\", \"Topic15\", \"Topic15\", \"Topic15\", \"Topic15\", \"Topic15\", \"Topic15\", \"Topic15\", \"Topic15\", \"Topic15\", \"Topic15\", \"Topic15\", \"Topic15\", \"Topic15\", \"Topic15\", \"Topic15\", \"Topic15\", \"Topic15\", \"Topic15\", \"Topic15\", \"Topic15\", \"Topic15\", \"Topic15\", \"Topic15\", \"Topic15\", \"Topic15\", \"Topic15\", \"Topic15\", \"Topic15\", \"Topic15\", \"Topic15\", \"Topic15\", \"Topic15\", \"Topic15\", \"Topic15\", \"Topic15\", \"Topic15\", \"Topic15\", \"Topic15\", \"Topic15\", \"Topic15\", \"Topic15\", \"Topic15\", \"Topic15\", \"Topic15\", \"Topic15\", \"Topic15\", \"Topic15\", \"Topic15\", \"Topic15\", \"Topic15\", \"Topic15\", \"Topic15\", \"Topic16\", \"Topic16\", \"Topic16\", \"Topic16\", \"Topic16\", \"Topic16\", \"Topic16\", \"Topic16\", \"Topic16\", \"Topic16\", \"Topic16\", \"Topic16\", \"Topic16\", \"Topic16\", \"Topic16\", \"Topic16\", \"Topic16\", \"Topic16\", \"Topic16\", \"Topic16\", \"Topic16\", \"Topic16\", \"Topic16\", \"Topic16\", \"Topic16\", \"Topic16\", \"Topic16\", \"Topic16\", \"Topic16\", \"Topic16\", \"Topic16\", \"Topic16\", \"Topic16\", \"Topic16\", \"Topic16\", \"Topic16\", \"Topic16\", \"Topic16\", \"Topic16\", \"Topic16\", \"Topic16\", \"Topic16\", \"Topic16\", \"Topic16\", \"Topic16\", \"Topic16\", \"Topic16\", \"Topic16\", \"Topic16\", \"Topic16\", \"Topic16\", \"Topic16\", \"Topic16\", \"Topic16\", \"Topic16\", \"Topic16\", \"Topic16\", \"Topic16\", \"Topic16\", \"Topic16\", \"Topic16\", \"Topic16\", \"Topic16\", \"Topic16\", \"Topic16\", \"Topic16\", \"Topic16\", \"Topic16\", \"Topic16\", \"Topic16\", \"Topic16\", \"Topic16\", \"Topic16\", \"Topic16\", \"Topic16\", \"Topic16\", \"Topic16\", \"Topic16\", \"Topic16\", \"Topic16\", \"Topic16\", \"Topic16\", \"Topic16\", \"Topic17\", \"Topic17\", \"Topic17\", \"Topic17\", \"Topic17\", \"Topic17\", \"Topic17\", \"Topic17\", \"Topic17\", \"Topic17\", \"Topic17\", \"Topic17\", \"Topic17\", \"Topic17\", \"Topic17\", \"Topic17\", \"Topic17\", \"Topic17\", \"Topic17\", \"Topic17\", \"Topic17\", \"Topic17\", \"Topic17\", \"Topic17\", \"Topic17\", \"Topic17\", \"Topic17\", \"Topic17\", \"Topic17\", \"Topic17\", \"Topic17\", \"Topic17\", \"Topic17\", \"Topic17\", \"Topic17\", \"Topic17\", \"Topic17\", \"Topic17\", \"Topic17\", \"Topic17\", \"Topic17\", \"Topic17\", \"Topic17\", \"Topic17\", \"Topic17\", \"Topic17\", \"Topic17\", \"Topic17\", \"Topic17\", \"Topic17\", \"Topic17\", \"Topic17\", \"Topic17\", \"Topic17\", \"Topic17\", \"Topic17\", \"Topic17\", \"Topic17\", \"Topic17\", \"Topic17\", \"Topic17\", \"Topic17\", \"Topic17\", \"Topic17\", \"Topic17\", \"Topic18\", \"Topic18\", \"Topic18\", \"Topic18\", \"Topic18\", \"Topic18\", \"Topic18\", \"Topic18\", \"Topic18\", \"Topic18\", \"Topic18\", \"Topic18\", \"Topic18\", \"Topic18\", \"Topic18\", \"Topic18\", \"Topic18\", \"Topic18\", \"Topic18\", \"Topic18\", \"Topic18\", \"Topic18\", \"Topic18\", \"Topic18\", \"Topic18\", \"Topic18\", \"Topic18\", \"Topic18\", \"Topic18\", \"Topic18\", \"Topic18\", \"Topic18\", \"Topic18\", \"Topic18\", \"Topic18\", \"Topic18\", \"Topic18\", \"Topic18\", \"Topic18\", \"Topic18\", \"Topic18\", \"Topic18\", \"Topic18\", \"Topic18\", \"Topic18\", \"Topic18\", \"Topic18\", \"Topic18\", \"Topic18\", \"Topic18\", \"Topic18\", \"Topic18\", \"Topic18\", \"Topic18\", \"Topic18\", \"Topic18\", \"Topic18\", \"Topic18\", \"Topic18\", \"Topic18\", \"Topic18\", \"Topic18\", \"Topic18\", \"Topic18\", \"Topic19\", \"Topic19\", \"Topic19\", \"Topic19\", \"Topic19\", \"Topic19\", \"Topic19\", \"Topic19\", \"Topic19\", \"Topic19\", \"Topic19\", \"Topic19\", \"Topic19\", \"Topic19\", \"Topic19\", \"Topic19\", \"Topic19\", \"Topic19\", \"Topic19\", \"Topic19\", \"Topic19\", \"Topic19\", \"Topic19\", \"Topic19\", \"Topic19\", \"Topic19\", \"Topic19\", \"Topic19\", \"Topic19\", \"Topic19\", \"Topic19\", \"Topic19\", \"Topic19\", \"Topic19\", \"Topic19\", \"Topic19\", \"Topic19\", \"Topic19\", \"Topic19\", \"Topic19\", \"Topic19\", \"Topic19\", \"Topic19\", \"Topic19\", \"Topic19\", \"Topic19\", \"Topic19\", \"Topic19\", \"Topic19\", \"Topic19\", \"Topic19\", \"Topic19\", \"Topic19\", \"Topic19\", \"Topic19\", \"Topic19\", \"Topic19\", \"Topic19\", \"Topic19\", \"Topic19\", \"Topic19\", \"Topic19\", \"Topic19\", \"Topic19\", \"Topic19\", \"Topic19\", \"Topic19\", \"Topic19\", \"Topic19\", \"Topic19\", \"Topic19\", \"Topic19\", \"Topic19\", \"Topic19\", \"Topic19\", \"Topic19\", \"Topic19\", \"Topic19\", \"Topic19\", \"Topic19\", \"Topic19\", \"Topic19\", \"Topic19\", \"Topic19\", \"Topic19\", \"Topic19\", \"Topic19\", \"Topic20\", \"Topic20\", \"Topic20\", \"Topic20\", \"Topic20\", \"Topic20\", \"Topic20\", \"Topic20\", \"Topic20\", \"Topic20\", \"Topic20\", \"Topic20\", \"Topic20\", \"Topic20\", \"Topic20\", \"Topic20\", \"Topic20\", \"Topic20\", \"Topic20\", \"Topic20\", \"Topic20\", \"Topic20\", \"Topic20\", \"Topic20\", \"Topic20\", \"Topic20\", \"Topic20\", \"Topic20\", \"Topic20\", \"Topic20\", \"Topic20\", \"Topic20\", \"Topic20\", \"Topic20\", \"Topic20\", \"Topic20\", \"Topic20\", \"Topic20\", \"Topic20\", \"Topic20\", \"Topic20\", \"Topic20\", \"Topic20\", \"Topic20\", \"Topic20\", \"Topic20\", \"Topic20\", \"Topic20\", \"Topic20\", \"Topic20\", \"Topic20\", \"Topic20\", \"Topic20\", \"Topic20\", \"Topic20\", \"Topic20\", \"Topic20\", \"Topic20\", \"Topic20\", \"Topic20\", \"Topic20\", \"Topic20\", \"Topic20\", \"Topic20\", \"Topic20\", \"Topic20\", \"Topic20\", \"Topic20\", \"Topic20\", \"Topic20\", \"Topic20\", \"Topic20\", \"Topic20\", \"Topic20\", \"Topic20\", \"Topic20\", \"Topic20\", \"Topic20\", \"Topic20\", \"Topic20\", \"Topic20\", \"Topic20\", \"Topic20\", \"Topic21\", \"Topic21\", \"Topic21\", \"Topic21\", \"Topic21\", \"Topic21\", \"Topic21\", \"Topic21\", \"Topic21\", \"Topic21\", \"Topic21\", \"Topic21\", \"Topic21\", \"Topic21\", \"Topic21\", \"Topic21\", \"Topic21\", \"Topic21\", \"Topic21\", \"Topic21\", \"Topic21\", \"Topic21\", \"Topic21\", \"Topic21\", \"Topic21\", \"Topic21\", \"Topic21\", \"Topic21\", \"Topic21\", \"Topic21\", \"Topic21\", \"Topic21\", \"Topic21\", \"Topic21\", \"Topic21\", \"Topic21\", \"Topic21\", \"Topic21\", \"Topic21\", \"Topic21\", \"Topic21\", \"Topic21\", \"Topic21\", \"Topic21\", \"Topic21\", \"Topic21\", \"Topic21\", \"Topic21\", \"Topic21\", \"Topic21\", \"Topic21\", \"Topic21\", \"Topic21\", \"Topic21\", \"Topic21\", \"Topic21\", \"Topic21\", \"Topic21\", \"Topic21\", \"Topic21\", \"Topic21\", \"Topic21\", \"Topic21\", \"Topic21\", \"Topic21\", \"Topic21\", \"Topic21\", \"Topic21\", \"Topic21\", \"Topic21\", \"Topic21\", \"Topic21\", \"Topic21\", \"Topic21\", \"Topic22\", \"Topic22\", \"Topic22\", \"Topic22\", \"Topic22\", \"Topic22\", \"Topic22\", \"Topic22\", \"Topic22\", \"Topic22\", \"Topic22\", \"Topic22\", \"Topic22\", \"Topic22\", \"Topic22\", \"Topic22\", \"Topic22\", \"Topic22\", \"Topic22\", \"Topic22\", \"Topic22\", \"Topic22\", \"Topic22\", \"Topic22\", \"Topic22\", \"Topic22\", \"Topic22\", \"Topic22\", \"Topic22\", \"Topic22\", \"Topic22\", \"Topic22\", \"Topic22\", \"Topic22\", \"Topic22\", \"Topic22\", \"Topic22\", \"Topic22\", \"Topic22\", \"Topic22\", \"Topic22\", \"Topic22\", \"Topic22\", \"Topic22\", \"Topic22\", \"Topic22\", \"Topic22\", \"Topic22\", \"Topic22\", \"Topic22\", \"Topic22\", \"Topic22\", \"Topic22\", \"Topic22\", \"Topic22\", \"Topic22\", \"Topic22\", \"Topic22\", \"Topic22\", \"Topic22\", \"Topic22\", \"Topic22\", \"Topic22\", \"Topic23\", \"Topic23\", \"Topic23\", \"Topic23\", \"Topic23\", \"Topic23\", \"Topic23\", \"Topic23\", \"Topic23\", \"Topic23\", \"Topic23\", \"Topic23\", \"Topic23\", \"Topic23\", \"Topic23\", \"Topic23\", \"Topic23\", \"Topic23\", \"Topic23\", \"Topic23\", \"Topic23\", \"Topic23\", \"Topic23\", \"Topic23\", \"Topic23\", \"Topic23\", \"Topic23\", \"Topic23\", \"Topic23\", \"Topic23\", \"Topic23\", \"Topic23\", \"Topic23\", \"Topic23\", \"Topic23\", \"Topic23\", \"Topic23\", \"Topic23\", \"Topic23\", \"Topic23\", \"Topic23\", \"Topic23\", \"Topic23\", \"Topic23\", \"Topic23\", \"Topic23\", \"Topic23\", \"Topic23\", \"Topic23\", \"Topic23\", \"Topic23\", \"Topic23\", \"Topic23\", \"Topic23\", \"Topic23\", \"Topic23\", \"Topic23\", \"Topic23\", \"Topic23\", \"Topic23\", \"Topic23\", \"Topic23\", \"Topic24\", \"Topic24\", \"Topic24\", \"Topic24\", \"Topic24\", \"Topic24\", \"Topic24\", \"Topic24\", \"Topic24\", \"Topic24\", \"Topic24\", \"Topic24\", \"Topic24\", \"Topic24\", \"Topic24\", \"Topic24\", \"Topic24\", \"Topic24\", \"Topic24\", \"Topic24\", \"Topic24\", \"Topic24\", \"Topic24\", \"Topic24\", \"Topic24\", \"Topic24\", \"Topic24\", \"Topic24\", \"Topic24\", \"Topic24\", \"Topic24\", \"Topic24\", \"Topic24\", \"Topic24\", \"Topic24\", \"Topic24\", \"Topic24\", \"Topic24\", \"Topic24\", \"Topic24\", \"Topic24\", \"Topic24\", \"Topic24\", \"Topic24\", \"Topic24\", \"Topic24\", \"Topic24\", \"Topic24\", \"Topic24\", \"Topic24\", \"Topic24\", \"Topic24\", \"Topic24\", \"Topic24\", \"Topic24\", \"Topic24\", \"Topic24\", \"Topic24\", \"Topic24\", \"Topic24\", \"Topic24\", \"Topic24\", \"Topic24\", \"Topic24\", \"Topic24\", \"Topic24\", \"Topic24\", \"Topic24\", \"Topic24\", \"Topic24\", \"Topic25\", \"Topic25\", \"Topic25\", \"Topic25\", \"Topic25\", \"Topic25\", \"Topic25\", \"Topic25\", \"Topic25\", \"Topic25\", \"Topic25\", \"Topic25\", \"Topic25\", \"Topic25\", \"Topic25\", \"Topic25\", \"Topic25\", \"Topic25\", \"Topic25\", \"Topic25\", \"Topic25\", \"Topic25\", \"Topic25\", \"Topic25\", \"Topic25\", \"Topic25\", \"Topic25\", \"Topic25\", \"Topic25\", \"Topic25\", \"Topic25\", \"Topic25\", \"Topic25\", \"Topic25\", \"Topic25\", \"Topic25\", \"Topic25\", \"Topic25\", \"Topic25\", \"Topic25\", \"Topic25\", \"Topic25\", \"Topic25\", \"Topic25\", \"Topic25\", \"Topic25\", \"Topic25\", \"Topic25\", \"Topic25\", \"Topic25\", \"Topic25\", \"Topic25\", \"Topic25\", \"Topic25\", \"Topic25\", \"Topic25\", \"Topic25\", \"Topic25\", \"Topic25\", \"Topic25\", \"Topic25\", \"Topic25\", \"Topic25\", \"Topic25\", \"Topic25\", \"Topic25\", \"Topic25\", \"Topic25\", \"Topic25\", \"Topic25\", \"Topic25\", \"Topic25\", \"Topic25\", \"Topic25\", \"Topic25\", \"Topic25\", \"Topic25\", \"Topic26\", \"Topic26\", \"Topic26\", \"Topic26\", \"Topic26\", \"Topic26\", \"Topic26\", \"Topic26\", \"Topic26\", \"Topic26\", \"Topic26\", \"Topic26\", \"Topic26\", \"Topic26\", \"Topic26\", \"Topic26\", \"Topic26\", \"Topic26\", \"Topic26\", \"Topic26\", \"Topic26\", \"Topic26\", \"Topic26\", \"Topic26\", \"Topic26\", \"Topic26\", \"Topic26\", \"Topic26\", \"Topic26\", \"Topic26\", \"Topic26\", \"Topic26\", \"Topic26\", \"Topic26\", \"Topic26\", \"Topic26\", \"Topic26\", \"Topic26\", \"Topic26\", \"Topic26\", \"Topic26\", \"Topic26\", \"Topic26\", \"Topic26\", \"Topic26\", \"Topic26\", \"Topic26\", \"Topic26\", \"Topic26\", \"Topic26\", \"Topic26\", \"Topic26\", \"Topic26\", \"Topic26\", \"Topic26\", \"Topic26\", \"Topic26\", \"Topic26\", \"Topic26\", \"Topic26\", \"Topic26\", \"Topic26\", \"Topic26\", \"Topic26\", \"Topic26\", \"Topic26\", \"Topic26\", \"Topic26\", \"Topic26\", \"Topic26\", \"Topic26\", \"Topic26\", \"Topic26\", \"Topic26\", \"Topic26\", \"Topic26\", \"Topic26\", \"Topic26\", \"Topic26\", \"Topic26\", \"Topic26\", \"Topic26\", \"Topic26\", \"Topic26\"], \"logprob\": [30.0, 29.0, 28.0, 27.0, 26.0, 25.0, 24.0, 23.0, 22.0, 21.0, 20.0, 19.0, 18.0, 17.0, 16.0, 15.0, 14.0, 13.0, 12.0, 11.0, 10.0, 9.0, 8.0, 7.0, 6.0, 5.0, 4.0, 3.0, 2.0, 1.0, -5.6204, -6.2805, -6.7531, -6.9108, -7.1586, -7.1903, -7.5333, -8.3217, -8.6783, -8.8324, -8.8324, -9.2378, -9.2378, -9.2378, -9.2378, -9.2378, -9.5254, -9.5254, -9.5254, -9.9307, -9.9307, -10.6233, -10.6233, -10.6233, -10.6233, -10.6233, -10.6233, -10.6233, -10.6233, -10.6233, -5.3513, -7.1586, -6.7957, -6.8867, -6.5813, -7.069, -5.9515, -6.4196, -7.1903, -5.9148, -7.257, -3.5519, -6.6731, -6.147, -6.4048, -6.4972, -4.9106, -6.3758, -6.7531, -4.7693, -3.2158, -4.7636, -6.081, -5.0484, -4.986, -4.478, -4.648, -5.3411, -5.7645, -6.0705, -5.7802, -4.577, -5.1313, -4.7055, -3.7047, -3.3058, -3.9976, -5.119, -3.4443, -3.161, -4.309, -4.3724, -4.1276, -4.8072, -4.4652, -4.1261, -4.8878, -4.8162, -5.0753, -4.4845, -4.0493, -4.5376, -4.618, -4.7925, -4.7299, -4.9684, -6.3228, -6.3228, -6.7042, -6.9009, -6.9453, -7.146, -7.146, -7.2637, -7.3973, -7.3973, -7.4714, -7.7337, -7.7337, -7.7337, -7.9568, -8.0903, -8.0903, -8.4268, -8.4268, -8.6499, -8.9375, -2.9314, -5.3359, -4.3874, -9.3428, -10.0354, -10.0354, -10.0354, -10.0354, -10.0354, -6.1244, -6.6691, -6.8583, -6.8583, -6.2522, -5.6056, -6.4529, -4.6473, -4.9488, -5.7057, -5.1536, -6.51, -6.3728, -2.3168, -3.9073, -6.3228, -2.3173, -4.398, -4.3909, -6.011, -4.8434, -3.6002, -4.955, -6.1244, -3.0526, -2.7145, -4.0375, -5.4825, -5.472, -3.6978, -5.942, -5.2406, -3.5351, -5.6544, -4.3194, -4.7232, -5.5705, -4.6611, -4.2373, -4.5351, -4.993, -4.6203, -4.6159, -4.4016, -4.5189, -4.7232, -5.0597, -5.1164, -5.4807, -6.9179, -7.1238, -7.1826, -7.3118, -7.421, -7.4602, -7.5881, -7.5881, -7.6346, -7.6834, -7.6834, -7.6834, -7.7347, -7.7347, -7.7347, -7.8459, -7.8459, -7.8459, -7.8459, -7.9065, -7.971, -8.1141, -8.1141, -8.1141, -8.1141, -8.1942, -8.2812, -8.2812, -8.3765, -5.2324, -4.8241, -5.8589, -7.1238, -5.5672, -5.8429, -7.0956, -6.1148, -5.9787, -5.9878, -5.8917, -5.2367, -5.1779, -5.0588, -6.3097, -4.4606, -5.5732, -6.0444, -5.943, -6.536, -6.2132, -3.4573, -5.6357, -6.3887, -6.2483, -5.3085, -6.0157, -5.5493, -5.4697, -5.4751, -5.3561, -5.7888, -5.2367, -5.066, -4.9298, -5.3909, -4.7738, -4.4971, -4.0341, -5.134, -4.7657, -4.3932, -4.8099, -4.7079, -4.3283, -4.4991, -3.965, -4.6777, -4.6753, -4.5012, -4.7657, -4.739, -4.7986, -4.9588, -5.0624, -4.827, -5.0624, -5.1032, -5.0957, -5.3609, -5.7545, -5.9345, -6.0228, -6.1541, -6.3905, -6.4595, -6.5336, -6.6708, -6.865, -7.0617, -7.0617, -7.1061, -7.2527, -7.4246, -7.4891, -7.7122, -8.2511, -4.7249, -9.5036, -9.5036, -5.1668, -5.3932, -10.1962, -10.1962, -10.1962, -10.1962, -7.2014, -6.1196, -7.2527, -6.0701, -5.2919, -6.7314, -4.6481, -5.6974, -4.5624, -4.7124, -6.347, -6.436, -3.5573, -5.8152, -5.8277, -4.0552, -4.3891, -4.8742, -4.8266, -4.053, -6.0383, -3.7821, -3.6319, -4.6442, -3.5599, -3.787, -3.1063, -3.9746, -3.8222, -4.036, -5.0439, -3.7772, -4.9768, -4.0234, -4.5877, -4.2676, -4.0213, -4.7635, -4.8173, -4.0946, -4.3279, -4.2208, -4.4289, -4.3801, -4.5588, -4.3279, -4.5804, -4.7124, -5.9226, -6.0561, -6.6157, -6.9659, -6.9987, -7.2644, -7.8349, -8.608, -8.7903, -8.7903, -9.0134, -9.0134, -9.301, -9.7063, -9.7063, -9.7063, -9.7063, -10.399, -10.399, -10.399, -10.399, -10.399, -10.399, -10.399, -4.9404, -6.3926, -4.5535, -6.3056, -6.8164, -5.7178, -6.0824, -7.3089, -6.4879, -4.2929, -5.7848, -5.746, -5.9811, -7.6273, -6.3746, -6.0692, -5.6378, -5.5401, -4.9489, -4.0828, -6.3395, -7.3089, -5.7652, -4.744, -4.2137, -3.4152, -5.775, -2.7916, -4.824, -3.1151, -5.2525, -5.0481, -4.737, -5.5401, -4.0614, -5.1635, -4.3385, -3.1269, -4.1271, -3.5723, -4.1954, -4.1695, -5.1477, -5.1688, -4.5681, -4.7868, -4.7096, -4.7795, -4.6569, -4.5535, -5.0063, -4.6537, -4.9619, -4.9575, -4.9619, -4.5247, -4.7266, -6.1059, -6.5984, -6.745, -6.745, -6.745, -6.7991, -6.8562, -6.8562, -6.9168, -7.2045, -7.2915, -7.2915, -7.6099, -7.8976, -7.8976, -8.0799, -8.0799, -8.0799, -8.0799, -8.3029, -8.3029, -8.3029, -8.5905, -8.5905, -8.5905, -8.9958, -8.9958, -8.9958, -5.8608, -6.1059, -8.9958, -4.2257, -4.659, -5.32, -5.6464, -5.1786, -6.3222, -5.7774, -4.7478, -5.5951, -7.1245, -6.2555, -4.7695, -6.5114, -3.493, -6.0785, -5.372, -5.8828, -4.971, -5.0944, -5.5463, -5.4128, -5.5463, -5.47, -5.8183, -5.5786, -5.9053, -3.918, -4.5133, -4.0727, -4.519, -4.9104, -5.1569, -4.2778, -3.9791, -4.491, -4.2913, -4.164, -4.2214, -4.8937, -4.8612, -4.4637, -4.2172, -4.5715, -4.3096, -4.7127, -4.6722, -4.7407, -4.7197, -4.9621, -4.9445, -8.2928, -3.2348, -4.7766, -9.3907, -9.3907, -4.2156, -2.2309, -3.0015, -2.5384, -6.7526, -5.9905, -7.0891, -5.3487, -5.3844, -5.2809, -6.9938, -3.6048, -6.2562, -6.2562, -8.6981, -9.3907, -5.4405, -2.4135, -7.0891, -7.0891, -7.1944, -7.4457, -5.8082, -6.6836, -3.1912, -4.2919, -4.9609, -5.3487, -4.7766, -3.1113, -4.3483, -2.924, -3.2605, -5.2486, -3.0287, -4.8699, -5.6305, -5.4599, -4.9144, -4.3945, -4.3228, -4.817, -4.8274, -4.9973, -5.2173, -5.2486, -5.2486, -5.2021, -5.3328, -5.9794, -6.3296, -7.5122, -7.5663, -7.7486, -7.9718, -4.3609, -8.1541, -8.6648, -8.6648, -8.8471, -8.8471, -9.3578, -9.3578, -9.7631, -9.7631, -5.5589, -10.4557, -10.4557, -10.4557, -10.4557, -10.4557, -10.4557, -10.4557, -4.862, -5.9241, -5.363, -6.3459, -7.1245, -5.2418, -5.4069, -5.8516, -5.7933, -4.753, -5.8616, -5.4198, -5.0677, -7.1245, -4.8999, -5.6692, -3.9706, -5.8416, -2.5352, -6.719, -3.4683, -4.877, -5.4133, -5.3328, -5.5515, -4.7563, -4.3976, -5.1049, -3.7365, -3.5641, -3.9798, -3.5611, -4.3953, -3.1495, -4.8546, -5.3816, -3.3444, -4.3431, -3.7923, -4.7563, -4.5596, -4.0142, -4.3212, -4.5352, -3.989, -4.3321, -4.5818, -4.9353, -4.8184, -4.8007, -4.8255, -6.0025, -6.3728, -6.5621, -7.2144, -7.4375, -7.4375, -7.6, -7.6606, -7.7252, -7.8683, -7.9483, -8.0353, -8.236, -8.236, -8.236, -8.236, -8.3537, -8.3537, -8.3537, -8.3537, -8.3537, -8.4872, -8.4872, -8.4872, -8.4872, -8.6414, -8.6414, -8.6414, -8.8237, -8.8237, -6.1428, -5.2858, -5.4704, -6.5415, -5.9335, -6.9993, -6.1992, -5.0673, -5.5735, -6.2589, -6.3224, -6.1992, -5.2459, -7.1374, -5.3093, -6.6046, -6.9993, -5.613, -5.9789, -5.597, -5.4497, -5.8182, -6.6046, -6.7957, -5.9906, -5.9559, -6.1848, -5.6375, -5.5813, -6.1848, -3.2217, -4.5869, -4.2616, -4.9952, -5.0862, -3.7766, -5.3273, -4.564, -4.7064, -4.6871, -5.3457, -4.5612, -4.422, -5.2075, -4.8498, -4.8498, -4.5307, -4.2048, -5.0351, -4.6282, -4.9996, -4.9695, -4.6464, -4.55, -5.0534, -4.7295, -4.9485, -4.9909, -5.0351, -5.135, -5.2293, -3.7148, -3.7346, -6.5128, -6.6669, -7.7049, -7.7049, -7.7655, -8.1401, -8.4586, -9.1516, -9.4392, -9.8445, -4.0353, -3.6608, -6.6463, -10.5371, -10.5371, -10.5371, -4.1496, -6.1561, -6.0608, -7.2423, -6.3485, -6.3637, -8.7462, -7.0117, -6.7769, -5.8468, -8.9285, -8.3408, -3.0055, -2.5636, -6.7314, -4.2246, -2.9885, -6.4951, -3.3765, -5.4201, -4.9813, -7.2059, -3.0771, -3.9437, -5.5965, -4.739, -4.4267, -3.7835, -3.6175, -4.936, -5.7759, -5.3232, -4.3116, -4.0279, -5.3286, -4.2979, -3.9603, -5.1, -4.4884, -4.4884, -4.1412, -4.3982, -4.2084, -4.8998, -4.505, -5.0575, -4.7255, -6.38, -6.406, -6.6096, -6.6763, -6.7114, -6.7855, -7.0478, -7.0991, -7.2709, -7.2709, -7.4045, -7.5586, -7.5586, -7.7409, -7.964, -7.964, -8.2517, -8.434, -8.6571, -8.6571, -8.9447, -8.9447, -8.9447, -5.3615, -9.35, -6.0362, -5.1684, -10.0426, -10.0426, -5.7129, -6.2369, -4.9873, -6.7855, -6.8655, -6.1316, -4.8451, -7.0991, -5.0002, -7.2103, -5.5777, -5.0263, -6.4327, -4.9376, -6.33, -7.0478, -6.1518, -6.2369, -5.3251, -5.2645, -5.7261, -3.1591, -3.0469, -5.2478, -3.4397, -4.9622, -5.2073, -3.6875, -5.0464, -4.7061, -4.1743, -3.9366, -4.7809, -3.2717, -4.7655, -4.3233, -4.4601, -4.4052, -4.203, -3.8824, -4.3772, -4.5755, -4.4452, -4.3634, -4.6637, -5.0948, -4.9437, -4.9684, -5.0197, -5.6703, -6.521, -6.6237, -6.8334, -7.0991, -7.2388, -7.4014, -7.462, -7.5265, -7.5265, -7.5265, -7.5955, -7.6696, -7.8366, -7.8366, -7.8366, -7.8366, -7.8366, -7.8366, -8.0373, -8.1551, -8.4427, -8.625, -8.625, -8.8481, -8.8481, -8.8481, -8.8481, -9.1357, -9.1357, -5.6913, -5.7238, -5.8158, -6.6792, -6.4969, -7.2388, -6.8673, -7.4014, -5.6496, -6.1237, -6.8673, -6.521, -6.4279, -4.9464, -7.0991, -6.2273, -6.3226, -4.2659, -5.6913, -5.3443, -5.7687, -6.3028, -6.3428, -5.7573, -6.2456, -5.5525, -5.4984, -4.4057, -5.5161, -3.7394, -4.8501, -5.9171, -3.4102, -5.6807, -3.5241, -3.0091, -5.2173, -4.8097, -4.9719, -5.1409, -5.4143, -4.9876, -4.5443, -5.3826, -3.9655, -5.0417, -4.5544, -4.0904, -5.2173, -4.9067, -4.5927, -4.775, -4.6474, -4.8733, -5.0197, -4.6894, -4.8686, -5.1047, -5.2107, -5.1226, -5.0813, -5.0988, -5.1977, -5.306, -7.1081, -7.9347, -8.0888, -8.2711, -8.7818, -8.7818, -8.7818, -9.1871, -9.1871, -9.1871, -9.1871, -9.1871, -9.1871, -6.0965, -9.8797, -9.8797, -9.8797, -9.8797, -9.8797, -9.8797, -9.8797, -9.8797, -4.9979, -4.0847, -6.5134, -5.0132, -7.8012, -7.8012, -4.7159, -5.676, -6.3842, -5.3374, -7.1726, -5.4987, -6.1195, -7.578, -7.1081, -4.8568, -6.3842, -6.8362, -3.7693, -6.3842, -6.9903, -6.0965, -5.5113, -5.8734, -6.3543, -6.7026, -5.8032, -6.8849, -4.6712, -6.0521, -5.6612, -4.0666, -4.7274, -4.9607, -5.1271, -4.7687, -4.9829, -4.7217, -4.787, -5.0932, -4.5975, -4.8309, -4.1736, -5.1271, -5.0287, -4.1, -5.1986, -4.4826, -3.9618, -4.5975, -4.4127, -5.0055, -4.8568, -4.7508, -4.8903, -4.9607, -5.0365, -5.0604, -6.5071, -6.6662, -6.7754, -6.898, -6.9889, -7.3254, -8.9346, -8.9346, -2.6052, -3.2859, -5.8591, -10.0325, -3.2894, -6.4226, -7.1431, -5.1583, -3.5173, -6.5677, -5.5562, -7.5485, -8.2416, -6.4226, -7.8362, -5.6515, -6.7013, -7.2609, -7.9539, -5.2377, -7.6355, -7.7308, -3.1109, -3.8893, -5.9226, -3.0789, -2.4656, -4.9773, -4.3916, -2.7563, -5.6897, -5.4902, -4.5041, -4.4883, -4.8131, -5.8438, -3.0414, -4.9521, -5.0499, -4.508, -4.7402, -5.6768, -4.424, -5.0568, -4.2652, -4.3099, -4.3099, -4.4388, -4.2683, -4.5868, -5.1815, -4.824, -5.1135, -7.1526, -7.6381, -7.7716, -7.9257, -8.0127, -8.6188, -9.0242, -9.3118, -9.3118, -9.7171, -9.7171, -9.7171, -9.7171, -9.7171, -9.7171, -6.673, -10.4097, -10.4097, -10.4097, -10.4097, -10.4097, -10.4097, -10.4097, -10.4097, -10.4097, -7.4149, -6.8843, -7.7716, -5.4409, -6.8272, -6.0287, -6.8272, -6.673, -7.2326, -7.5775, -4.5081, -7.0785, -6.945, -6.7731, -5.5129, -7.5203, -6.4595, -7.5775, -6.4987, -8.108, -3.0869, -3.9049, -5.776, -5.6232, -4.8424, -6.3164, -5.5744, -4.3082, -4.9726, -3.2727, -2.4776, -3.8697, -3.9778, -3.9555, -5.148, -3.6881, -4.9726, -4.4093, -4.2102, -5.0447, -4.3921, -3.9094, -4.573, -5.3803, -4.3262, -4.8386, -4.0155, -5.0036, -4.9177, -4.6393, -4.9683, -5.1584, -4.7547, -4.9343, -5.0636, -4.9385, -5.0447, -5.6125, -5.8638, -5.9067, -6.0478, -6.4088, -6.954, -7.1166, -7.1772, -7.6985, -7.6985, -7.9348, -8.6969, -8.851, -8.851, -9.0333, -5.5071, -9.544, -9.9493, -9.9493, -6.5158, -10.6419, -10.6419, -10.6419, -10.6419, -7.2417, -6.5825, -6.3254, -6.4088, -7.5074, -6.8817, -7.0594, -6.3803, -5.9608, -6.7309, -5.0708, -6.5999, -6.8143, -5.9334, -5.9516, -5.2448, -5.5492, -5.0823, -5.9425, -5.6801, -5.2403, -5.8308, -5.6871, -5.5678, -5.4012, -4.1644, -5.7988, -5.3597, -4.9392, -4.0679, -5.7303, -4.8999, -4.1507, -4.1387, -4.0623, -4.8967, -3.8642, -4.2361, -4.4445, -4.5792, -5.2049, -4.5205, -5.2539, -4.3061, -4.5226, -4.6219, -5.0823, -4.1598, -4.6641, -4.4364, -4.884, -4.5862, -4.9096, -4.9064, -4.9259, -4.98, -5.0117, -5.0117, -5.0784, -3.8886, -5.6832, -5.7186, -6.3506, -6.7646, -6.7905, -6.8172, -7.17, -7.5949, -7.6555, -8.0302, -8.3486, -4.8114, -9.3292, -9.3292, -9.7345, -9.7345, -4.5147, -5.7742, -10.4272, -10.4272, -10.4272, -3.992, -7.17, -7.6555, -7.8631, -5.5303, -3.4106, -4.623, -5.5155, -4.5448, -4.5421, -6.9941, -5.8638, -3.7213, -3.6585, -3.0655, -3.2619, -5.3042, -3.0847, -4.9771, -5.3656, -3.5365, -5.6832, -3.392, -5.2749, -3.6666, -4.826, -4.5039, -5.11, -3.2307, -4.8484, -3.8256, -4.0984, -4.4646, -4.0065, -4.3551, -3.9904, -4.7144, -4.1629, -4.3013, -4.5788, -4.682, -4.6724, -4.721, -4.7971, -6.1632, -6.1834, -6.204, -6.5199, -6.7079, -7.1308, -7.6773, -8.4656, -8.6887, -9.3816, -9.3816, -9.3816, -9.3816, -5.9321, -5.1408, -10.0743, -10.0743, -10.0743, -10.0743, -5.1054, -5.148, -4.762, -6.0322, -3.9528, -5.1774, -6.2251, -5.8267, -4.3782, -5.339, -4.1272, -5.0985, -5.6326, -4.2317, -4.2611, -5.6932, -5.1849, -5.0985, -4.3748, -5.8411, -4.8823, -3.966, -4.1091, -5.7578, -4.6771, -4.2088, -3.0515, -4.9815, -3.3538, -3.2188, -3.2618, -3.0859, -4.5538, -3.7139, -4.0255, -3.7967, -4.574, -4.2884, -4.4768, -4.5781, -4.4369, -4.787, -4.7046, -4.6072, -6.0078, -6.2415, -6.2955, -6.6209, -6.9172, -7.1934, -7.1934, -7.24, -7.24, -7.34, -7.3941, -7.4513, -7.5119, -7.5764, -7.5764, -7.6454, -8.0872, -8.0872, -8.205, -8.205, -8.205, -8.205, -8.3385, -8.4926, -8.6749, -9.1856, -9.1856, -9.5909, -9.5909, -9.5909, -4.3365, -5.6498, -6.4133, -6.207, -5.6401, -5.8778, -6.8505, -5.7098, -6.1101, -5.6894, -5.7959, -6.701, -5.2739, -5.8537, -5.8657, -6.065, -5.0322, -5.8419, -7.0264, -3.2833, -4.9185, -5.8419, -4.1731, -5.7412, -6.036, -5.7202, -5.1027, -3.2751, -4.8292, -5.1665, -3.9746, -3.6847, -5.1027, -5.1312, -5.2219, -5.0167, -4.4615, -3.8404, -3.7435, -4.8818, -4.4209, -4.8207, -4.2611, -4.0521, -4.5544, -4.6391, -5.1255, -4.2514, -4.7915, -4.7997, -4.7162, -4.9518, -4.9232, -4.8729, -4.9046, -4.9615, -5.0013, -4.8082, -5.8827, -6.0536, -6.4936, -6.6972, -6.7639, -7.0866, -7.2979, -7.3585, -7.3585, -7.3585, -7.6462, -7.9338, -7.9338, -8.0516, -8.1851, -8.1851, -8.3393, -8.3393, -4.7467, -8.5215, -8.5215, -8.7446, -8.7446, -8.7446, -9.0322, -9.0322, -9.0322, -9.0322, -9.0322, -4.8633, -5.9117, -5.5986, -4.6631, -5.9723, -6.004, -5.5565, -4.2761, -6.7639, -4.2761, -6.3245, -5.8271, -5.4583, -6.6654, -5.3029, -5.4868, -6.1799, -5.3776, -6.73, -5.287, -6.0203, -5.6653, -4.6137, -5.8685, -5.988, -4.2069, -4.0421, -4.5217, -5.6425, -5.319, -5.3272, -4.5705, -3.3332, -4.3351, -3.5505, -4.0242, -5.256, -4.634, -4.6673, -5.0749, -4.3141, -4.6505, -4.5514, -4.724, -4.5254, -4.818, -4.8685, -4.6931, -4.9272, -4.8894, -4.9494, -4.9721, -4.9954, -7.817, -7.9993, -8.356, -9.6084, -9.6084, -10.301, -10.301, -10.301, -10.301, -10.301, -10.301, -5.9453, -7.4116, -7.5939, -7.0439, -5.3894, -7.0439, -5.0087, -6.6384, -7.0439, -6.5178, -7.2109, -5.8594, -7.4688, -8.356, -9.2031, -6.4953, -8.6924, -8.6924, -8.356, -7.0831, -5.9845, -4.3436, -6.313, -4.4356, -4.54, -6.1589, -6.0973, -5.6968, -6.4734, -3.5806, -4.9549, -5.5658, -4.6816, -4.6083, -4.1056, -2.8508, -5.5658, -4.9839, -3.2086, -5.9076, -3.4309, -4.9175, -4.6853, -4.8467, -4.16, -3.7844, -5.0087, -3.8902, -5.0817, -5.1146, -4.5495, -4.6601, -3.6608, -4.5368, -4.2737, -4.5029, -4.7375, -4.6425, -4.5949, -4.5883, -4.585, -4.7261, -4.8771, -6.4967, -8.5442, -8.5442, -5.0108, -8.8318, -8.8318, -9.2371, -9.2371, -5.6133, -6.1241, -9.9298, -4.4585, -4.7323, -3.2069, -2.9915, -7.4458, -4.2104, -5.4648, -5.4881, -6.9863, -4.9679, -6.3754, -3.7759, -7.8512, -6.9863, -6.4967, -5.1601, -7.0403, -5.9418, -7.2916, -5.3875, -5.8877, -3.566, -4.5648, -4.8619, -5.4421, -5.409, -4.6681, -4.0254, -4.8682, -4.4797, -3.2276, -4.5417, -3.7022, -4.9679, -5.2303, -5.2486, -5.4764, -4.7158, -4.6733, -4.1719, -4.3286, -4.0336, -4.296, -4.2783, -4.5463, -4.9609, -4.7833, -4.8248, -4.7378, -4.7833, -4.6375, -4.8556, -4.8824, -8.7637, -9.0513, -9.0513, -9.0513, -9.4566, -9.4566, -4.7209, -10.1492, -10.1492, -10.1492, -10.1492, -10.1492, -6.7829, -5.2302, -7.0591, -6.9313, -5.7435, -3.1027, -5.0263, -5.5859, -7.0591, -4.2613, -5.2302, -6.9313, -6.8544, -6.7162, -5.8064, -3.8811, -6.199, -4.9912, -5.306, -4.0864, -4.9299, -4.4169, -5.3627, -4.5154, -4.3819, -3.9681, -4.1244, -4.1076, -4.0365, -4.9573, -4.8223, -4.2613, -4.5819, -5.4589, -2.6376, -4.563, -5.2524, -4.2613, -3.6702, -3.637, -4.1613, -3.7467, -4.0612, -3.7769, -4.3757, -3.8476, -4.4701, -4.609, -4.7612, -5.0438, -6.146, -6.2127, -6.5514, -6.8944, -7.2128, -7.3463, -7.5875, -7.5875, -7.6828, -7.7882, -7.7882, -7.8453, -7.9705, -7.9705, -7.9705, -8.0395, -8.1136, -8.1936, -8.2806, -8.599, -8.599, -5.4475, -9.292, -5.0018, -4.0002, -5.9601, -9.9849, -5.9512, -5.695, -3.7004, -5.0053, -7.0676, -5.6223, -4.0479, -7.3463, -5.9424, -4.8765, -3.6259, -5.5369, -5.0087, -5.0728, -4.7651, -3.6002, -4.6551, -5.1652, -3.3084, -2.8908, -3.4955, -4.8704, -5.0951, -4.9616, -3.4553, -3.3371, -3.9251, -4.6576, -4.3944, -4.5153, -3.5437, -4.5474, -4.4095, -3.8445, -4.5783, -4.4001, -4.0692, -4.2265, -4.5258, -4.5323, -4.7705, -4.8008, -6.378, -7.7432, -7.9255, -8.4362, -8.6185, -8.8416, -8.8416, -9.5345, -9.5345, -9.5345, -9.5345, -9.5345, -10.2271, -10.2271, -10.2271, -10.2271, -6.6728, -7.0926, -6.085, -6.1172, -7.8302, -5.994, -7.05, -7.589, -8.0308, -7.05, -7.7432, -7.52, -7.2324, -7.9255, -6.0086, -6.6172, -5.153, -5.3998, -4.0733, -5.5934, -4.4081, -7.1371, -6.0537, -5.3606, -4.3282, -5.2445, -2.5531, -6.8269, -5.8214, -6.1851, -4.6077, -4.5652, -5.5742, -4.9449, -4.7392, -4.3365, -5.5647, -4.0481, -3.8913, -5.5368, -4.5111, -3.8531, -3.902, -4.4756, -3.5019, -4.5898, -4.8032, -4.4598, -3.9477, -4.3759, -4.5898, -4.2543, -4.5514, -4.656, -4.4629, -4.5583, -4.7107, -4.8482, -4.6371, -4.7857, -4.8032, -5.9768, -6.1881, -6.4956, -6.6699, -6.6699, -6.7187, -6.9419, -7.0064, -7.0064, -7.1495, -7.3165, -7.3165, -7.4118, -7.4118, -7.5172, -7.5172, -7.6349, -7.6349, -7.7685, -7.9226, -8.1049, -8.328, -8.328, -8.6156, -8.6156, -5.5874, -9.7135, -9.7135, -9.7135, -9.7135, -5.7442, -6.77, -5.8643, -5.4804, -5.32, -6.218, -7.0064, -6.4186, -5.397, -5.6369, -6.4956, -5.3078, -5.345, -6.1591, -5.5556, -4.7106, -6.218, -5.5874, -5.2372, -4.9523, -6.0009, -5.6714, -4.8317, -5.8858, -5.32, -5.345, -5.1501, -4.6972, -4.0074, -5.0701, -4.4888, -5.014, -5.1712, -4.3392, -4.7729, -5.397, -4.4781, -4.3532, -4.7729, -5.0994, -5.32, -4.5554, -5.2718, -4.9609, -5.0417, -5.2036, -5.2486, -5.0605, -5.1606, -5.2259, -5.2837, -5.2601, -5.2718, -5.3078], \"loglift\": [30.0, 29.0, 28.0, 27.0, 26.0, 25.0, 24.0, 23.0, 22.0, 21.0, 20.0, 19.0, 18.0, 17.0, 16.0, 15.0, 14.0, 13.0, 12.0, 11.0, 10.0, 9.0, 8.0, 7.0, 6.0, 5.0, 4.0, 3.0, 2.0, 1.0, 2.8973, 2.8971, 2.8969, 2.8968, 2.8967, 2.8966, 2.8963, 2.895, 2.8939, 2.8933, 2.8933, 2.8912, 2.8912, 2.8912, 2.8912, 2.8912, 2.8892, 2.8892, 2.8892, 2.885, 2.885, 2.8728, 2.8728, 2.8728, 2.8728, 2.8728, 2.8728, 2.8728, 2.8728, 2.8728, 2.8571, 2.8659, 2.8544, 2.8504, 2.8457, 2.8412, 2.8165, 2.8251, 2.8342, 2.7946, 2.83, 2.7136, 2.8052, 2.7794, 2.7728, 2.7757, 2.6869, 2.7636, 2.7792, 2.6566, 2.5468, 2.6162, 2.7132, 2.5845, 2.5569, 2.3896, 2.3984, 2.5281, 2.5698, 2.6228, 2.532, 2.1525, 2.322, 2.1506, 1.6073, 1.3593, 1.6525, 2.0983, 1.1157, 0.913, 1.5221, 1.5141, 1.2865, 1.7802, 1.4368, 0.914, 1.668, 1.5557, 1.8453, 1.1479, 0.596, 1.1099, 0.7462, 1.0945, 0.8718, 1.0054, 3.4849, 3.4849, 3.4846, 3.4844, 3.4843, 3.4841, 3.4841, 3.4839, 3.4837, 3.4837, 3.4836, 3.483, 3.483, 3.483, 3.4824, 3.4819, 3.4819, 3.4805, 3.4805, 3.4793, 3.4772, 3.4765, 3.4762, 3.4749, 3.4731, 3.4608, 3.4608, 3.4608, 3.4608, 3.4608, 3.4458, 3.4507, 3.4437, 3.4437, 3.419, 3.4052, 3.4048, 3.3371, 3.3312, 3.3616, 3.3312, 3.4002, 3.3873, 3.052, 3.164, 3.3699, 2.9592, 3.1199, 3.1002, 3.2909, 3.0911, 2.8265, 3.0778, 3.3028, 2.6593, 2.4959, 2.6999, 3.0975, 3.0938, 2.4191, 3.2228, 2.9389, 2.1981, 3.0232, 2.066, 2.3545, 2.9406, 2.1514, 1.711, 1.9489, 2.3426, 1.8325, 1.4884, 0.9104, 1.0897, 1.0288, 0.7601, 0.2098, 2.8425, 2.8421, 2.8419, 2.8419, 2.8418, 2.8417, 2.8416, 2.8415, 2.8415, 2.8414, 2.8414, 2.8414, 2.8414, 2.8413, 2.8413, 2.8413, 2.8412, 2.8412, 2.8412, 2.8412, 2.8411, 2.841, 2.8407, 2.8407, 2.8407, 2.8407, 2.8406, 2.8404, 2.8404, 2.8401, 2.8212, 2.8032, 2.8029, 2.8138, 2.7341, 2.7443, 2.7879, 2.7339, 2.7226, 2.7216, 2.6955, 2.629, 2.6137, 2.6022, 2.701, 2.5144, 2.6061, 2.6489, 2.6158, 2.695, 2.6449, 2.1901, 2.5436, 2.6555, 2.6288, 2.4294, 2.5714, 2.4671, 2.4462, 2.4445, 2.413, 2.5071, 2.3449, 2.2716, 2.1901, 2.3409, 2.0836, 1.9447, 1.6047, 2.1792, 1.8997, 1.5006, 1.7785, 1.6846, 1.3041, 1.3816, 0.6803, 1.4814, 1.4164, 1.0822, 1.2441, 0.838, 0.8031, 1.1538, 1.4627, 0.4063, 1.2612, 0.7183, 0.5149, 3.3245, 3.3244, 3.3243, 3.3243, 3.3242, 3.3241, 3.3241, 3.324, 3.3239, 3.3238, 3.3236, 3.3236, 3.3235, 3.3233, 3.3231, 3.323, 3.3226, 3.3211, 3.3204, 3.3122, 3.3122, 3.3115, 3.3002, 3.3, 3.3, 3.3, 3.3, 3.2747, 3.2747, 3.2721, 3.2618, 3.253, 3.2633, 3.2107, 3.1608, 3.0788, 3.0728, 3.167, 3.1733, 2.7671, 3.0815, 3.0787, 2.7488, 2.7766, 2.8668, 2.7736, 2.4424, 3.0524, 2.3073, 2.2546, 2.4924, 2.0488, 2.1151, 1.6847, 2.0787, 1.8861, 1.9159, 2.5351, 1.6172, 2.4559, 1.6885, 2.1497, 1.8536, 1.5433, 2.2511, 2.2604, 1.275, 1.5786, 1.3625, 1.6754, 1.5864, 1.8897, 0.916, 1.3134, 1.1091, 3.1216, 3.1216, 3.1213, 3.1211, 3.121, 3.1208, 3.12, 3.1177, 3.1169, 3.1169, 3.1156, 3.1156, 3.1136, 3.1095, 3.1095, 3.1095, 3.1095, 3.0972, 3.0972, 3.0972, 3.0972, 3.0972, 3.0972, 3.0972, 3.0966, 3.0857, 3.0849, 3.0727, 3.0672, 3.0589, 3.0082, 3.0338, 2.9904, 2.9117, 2.9577, 2.9315, 2.9353, 3.0027, 2.9274, 2.8985, 2.8277, 2.7886, 2.6812, 2.5794, 2.8253, 2.9162, 2.7002, 2.5298, 2.3271, 2.1494, 2.6347, 1.8039, 2.3348, 1.7124, 2.4085, 2.2999, 2.0952, 2.4803, 1.5888, 2.2512, 1.7228, 0.9471, 1.4816, 0.9876, 1.4064, 1.225, 2.1241, 2.1324, 1.263, 1.561, 1.4073, 1.4021, 1.0513, 0.8161, 1.7265, 0.7691, 1.5551, 1.3639, 0.3644, 3.8323, 3.8323, 3.8318, 3.8313, 3.8311, 3.8311, 3.8311, 3.8311, 3.831, 3.831, 3.8309, 3.8304, 3.8302, 3.8302, 3.8293, 3.8283, 3.8283, 3.8275, 3.8275, 3.8275, 3.8275, 3.8262, 3.8262, 3.8262, 3.8242, 3.8242, 3.8242, 3.82, 3.82, 3.82, 3.8104, 3.8044, 3.82, 3.751, 3.7508, 3.759, 3.7162, 3.6891, 3.7332, 3.701, 3.6035, 3.6638, 3.7566, 3.6548, 3.4896, 3.6774, 3.2789, 3.6142, 3.4676, 3.5278, 3.3143, 3.3336, 3.3802, 3.3049, 3.3214, 3.281, 3.3858, 3.2517, 3.4115, 1.9627, 2.3582, 1.9371, 2.2984, 2.6076, 2.7966, 1.7664, 1.4154, 1.9508, 1.6025, 1.1622, 1.1021, 2.2163, 2.0996, 1.2482, 0.7427, 1.395, 0.64, 1.3999, 1.2593, 0.9067, 0.4908, 1.3191, 0.4783, 4.122, 4.1218, 4.1202, 4.1056, 4.1056, 4.1023, 3.9666, 3.8924, 3.8336, 3.7723, 3.7697, 3.7231, 3.6844, 3.66, 3.6559, 3.6364, 3.489, 3.481, 3.4365, 3.4311, 3.4251, 3.4084, 3.4018, 3.3872, 3.3872, 3.3817, 3.3665, 3.3567, 3.341, 3.2928, 3.1097, 3.1272, 3.1426, 3.0753, 2.8552, 3.0187, 2.2864, 2.35, 2.9309, 2.2478, 2.8054, 2.9712, 2.8634, 2.2089, 1.6153, 1.2859, 1.5044, 1.4851, 1.047, 1.8604, 1.9435, 1.2683, 0.2208, 3.0649, 3.0648, 3.0647, 3.0638, 3.0637, 3.0634, 3.063, 3.0628, 3.0626, 3.0609, 3.0609, 3.0601, 3.0601, 3.0568, 3.0568, 3.0527, 3.0527, 3.0501, 3.0404, 3.0404, 3.0404, 3.0404, 3.0404, 3.0404, 3.0404, 3.0393, 3.0331, 3.017, 3.0167, 2.9953, 2.9916, 2.9849, 2.9605, 2.9492, 2.9166, 2.9415, 2.9201, 2.9089, 2.9625, 2.8629, 2.8896, 2.8001, 2.8925, 2.6698, 2.931, 2.6839, 2.7897, 2.8252, 2.809, 2.8227, 2.7064, 2.6065, 2.6739, 2.3428, 2.0402, 2.1794, 1.8086, 2.2148, 1.5156, 2.3536, 2.6806, 1.3009, 1.7183, 1.0352, 1.9609, 1.622, 0.5812, 1.1017, 1.4055, 0.0849, 0.708, 1.312, 2.0792, 1.605, 1.0303, 1.1588, 3.0882, 3.0881, 3.088, 3.0875, 3.0873, 3.0873, 3.0871, 3.087, 3.0869, 3.0866, 3.0864, 3.0863, 3.0858, 3.0858, 3.0858, 3.0858, 3.0854, 3.0854, 3.0854, 3.0854, 3.0854, 3.085, 3.085, 3.085, 3.085, 3.0844, 3.0844, 3.0844, 3.0835, 3.0835, 3.0746, 3.0597, 3.0078, 3.0286, 2.9829, 3.0253, 2.9916, 2.937, 2.9376, 2.9585, 2.9506, 2.9156, 2.8205, 2.9823, 2.8142, 2.9277, 2.9665, 2.8027, 2.8422, 2.7656, 2.7202, 2.769, 2.8914, 2.9189, 2.7352, 2.7059, 2.7518, 2.5661, 2.4809, 2.7021, 1.3737, 1.9756, 1.8113, 2.0558, 2.1059, 1.2454, 2.208, 1.5499, 1.6414, 1.5451, 2.1382, 1.3196, 1.1678, 1.9291, 1.512, 1.492, 1.1017, 0.6227, 1.6366, 0.9824, 1.5581, 1.4231, 0.7765, 0.4099, 1.5024, 0.594, 0.983, 0.8961, 0.9132, 1.3026, 1.7852, 2.9837, 2.9837, 2.9832, 2.9832, 2.9822, 2.9822, 2.9821, 2.9814, 2.9806, 2.9775, 2.9754, 2.9713, 2.9688, 2.9653, 2.963, 2.959, 2.959, 2.959, 2.9313, 2.8995, 2.8656, 2.8447, 2.8423, 2.8403, 2.826, 2.8205, 2.8126, 2.7996, 2.7972, 2.7808, 2.7503, 2.6803, 2.7646, 2.6495, 2.5286, 2.7223, 2.5028, 2.6293, 2.5002, 2.7598, 2.0014, 2.0943, 2.4405, 2.187, 2.083, 1.7617, 1.6897, 1.9846, 2.3252, 2.0416, 1.4216, 1.2054, 2.0404, 1.264, 0.9893, 1.8678, 1.3331, 1.1014, 0.4542, 0.4292, -0.1344, 1.1581, 0.1601, 0.3654, 3.4782, 3.4776, 3.4776, 3.4775, 3.4774, 3.4774, 3.4773, 3.477, 3.477, 3.4767, 3.4767, 3.4765, 3.4762, 3.4762, 3.4758, 3.4752, 3.4752, 3.4741, 3.4733, 3.4721, 3.4721, 3.47, 3.47, 3.47, 3.4688, 3.4659, 3.4598, 3.4555, 3.4536, 3.4536, 3.452, 3.4343, 3.4104, 3.4396, 3.4365, 3.4195, 3.3833, 3.4257, 3.3231, 3.4197, 3.319, 3.1773, 3.3044, 3.0626, 3.2793, 3.3818, 3.1356, 3.1574, 2.8884, 2.8591, 2.9998, 1.9505, 1.9027, 2.721, 1.5202, 2.3652, 2.468, 1.3345, 2.3037, 2.0268, 1.6095, 1.3869, 2.0501, 0.8023, 2.0253, 1.4843, 1.6111, 1.4818, 1.109, 0.6776, 1.2729, 1.4343, 1.1591, 0.4276, 1.156, 1.8976, 0.7682, 0.2421, 0.0588, 3.287, 3.2866, 3.2865, 3.2864, 3.2861, 3.286, 3.2858, 3.2857, 3.2856, 3.2856, 3.2856, 3.2854, 3.2853, 3.285, 3.285, 3.285, 3.285, 3.285, 3.285, 3.2845, 3.2841, 3.2831, 3.2822, 3.2822, 3.281, 3.281, 3.281, 3.281, 3.2789, 3.2789, 3.2764, 3.2545, 3.2171, 3.231, 3.2177, 3.2372, 3.2197, 3.2287, 3.127, 3.1493, 3.188, 3.1501, 3.1231, 2.937, 3.2029, 3.0895, 3.088, 2.8007, 2.9861, 2.8942, 2.9408, 3.0443, 3.0515, 2.9281, 3.0274, 2.8572, 2.8303, 2.4607, 2.7745, 2.2089, 2.4671, 2.8596, 1.5496, 2.6993, 1.4979, 1.0648, 2.3882, 2.0907, 2.158, 2.2218, 2.4272, 2.0996, 1.7038, 2.3523, 0.862, 1.894, 1.2653, 0.505, 2.106, 1.5887, 1.0396, 1.1565, 0.7168, 0.7372, 1.0972, -0.1295, 0.4433, 0.9664, 1.3622, 0.7581, 0.4358, 0.3502, 1.129, 3.6409, 3.6396, 3.6376, 3.637, 3.6362, 3.6329, 3.6329, 3.6329, 3.6288, 3.6288, 3.6288, 3.6288, 3.6288, 3.6288, 3.6181, 3.6165, 3.6165, 3.6165, 3.6165, 3.6165, 3.6165, 3.6165, 3.6165, 3.5965, 3.5792, 3.5737, 3.5387, 3.5206, 3.5206, 3.5025, 3.4761, 3.4482, 3.3721, 3.4575, 3.3408, 3.3589, 3.4568, 3.4168, 3.2312, 3.3305, 3.3526, 2.9099, 3.2453, 3.3117, 3.1765, 3.0546, 3.1156, 3.1597, 3.235, 2.9823, 3.2688, 2.5425, 2.9809, 2.7306, 1.9777, 2.1783, 2.2713, 2.3056, 2.0848, 2.1915, 1.9955, 2.0305, 2.226, 1.795, 1.9647, 1.2754, 2.2105, 2.1012, 0.8599, 2.2073, 1.1261, 0.1121, 0.8254, 0.2326, 1.749, 1.2161, 0.2712, 0.6995, -0.0112, 0.9373, 1.1718, 3.4876, 3.4875, 3.4874, 3.4873, 3.4872, 3.4867, 3.4801, 3.4801, 3.4795, 3.4732, 3.4727, 3.4637, 3.4502, 3.4351, 3.433, 3.4076, 3.4019, 3.398, 3.3805, 3.3325, 3.3307, 3.3145, 3.2854, 3.2852, 3.2645, 3.264, 3.2628, 3.2536, 3.2454, 3.2241, 3.1317, 3.0786, 3.1681, 2.9592, 2.8415, 3.0433, 2.9732, 2.789, 3.0784, 2.9689, 2.4986, 2.4881, 2.5559, 2.9504, 1.6039, 2.5294, 2.4582, 2.0496, 2.1886, 2.808, 1.4553, 2.0765, 1.099, 1.113, 1.0163, 1.0965, 0.7717, 0.6571, 2.0807, 0.2545, 1.4594, 3.1101, 3.1095, 3.1093, 3.109, 3.1088, 3.1069, 3.1049, 3.1028, 3.1028, 3.0987, 3.0987, 3.0987, 3.0987, 3.0987, 3.0987, 3.087, 3.0864, 3.0864, 3.0864, 3.0864, 3.0864, 3.0864, 3.0864, 3.0864, 3.0864, 3.0611, 3.0532, 3.0405, 3.0309, 3.0304, 3.0155, 3.0304, 3.0196, 3.0301, 2.9986, 2.8112, 2.946, 2.9126, 2.898, 2.8048, 2.9093, 2.7993, 2.8986, 2.7601, 2.9267, 2.3622, 2.3396, 2.6099, 2.5853, 2.4046, 2.6726, 2.5092, 2.2151, 2.3691, 1.8369, 1.5963, 1.9141, 1.8298, 1.7419, 2.1876, 1.5452, 2.0784, 1.6824, 1.574, 1.9491, 1.4276, 1.0504, 1.4982, 2.0434, 1.2636, 1.5849, 0.9341, 1.5694, 1.2588, 0.7304, 1.3129, 1.5744, 0.5687, 0.9523, 1.2422, 0.3687, 0.4906, 2.8787, 2.8786, 2.8786, 2.8786, 2.8785, 2.8782, 2.8781, 2.8781, 2.8775, 2.8775, 2.8772, 2.8753, 2.8747, 2.8747, 2.8739, 2.8728, 2.8706, 2.8664, 2.8664, 2.8625, 2.8542, 2.8542, 2.8542, 2.8542, 2.8453, 2.8445, 2.8393, 2.836, 2.8353, 2.8328, 2.8241, 2.8105, 2.7986, 2.8014, 2.7673, 2.7944, 2.795, 2.7599, 2.7417, 2.6711, 2.6792, 2.6283, 2.6813, 2.6376, 2.5777, 2.6346, 2.5928, 2.5694, 2.4645, 2.157, 2.5468, 2.3843, 2.1758, 1.6404, 2.3933, 1.9298, 1.4994, 1.426, 1.3518, 1.8463, 1.0854, 1.3473, 1.4348, 1.5335, 1.9997, 1.2316, 1.9838, 0.8034, 1.0127, 1.1407, 1.7487, 0.4001, 0.7304, 0.2089, 1.1602, 0.3737, 1.1002, 1.0601, 0.6828, 0.8038, 0.8748, 0.5054, -0.0384, 3.0936, 3.0934, 3.0934, 3.0932, 3.093, 3.093, 3.093, 3.0927, 3.0922, 3.0921, 3.0914, 3.0905, 3.0899, 3.0854, 3.0854, 3.0813, 3.0813, 3.0775, 3.0746, 3.069, 3.069, 3.069, 3.0621, 3.055, 3.0316, 3.0178, 3.0077, 3.0045, 3.0043, 2.9757, 2.9155, 2.9021, 2.9716, 2.9216, 2.8251, 2.7559, 2.6997, 2.69, 2.8422, 2.6485, 2.8048, 2.8235, 2.5804, 2.8278, 2.4233, 2.7456, 2.4377, 2.5473, 2.3599, 2.5396, 1.5603, 2.3708, 1.785, 1.8081, 1.9622, 1.3879, 1.6982, 1.2861, 1.8107, 0.7867, 0.9092, 1.3077, 1.6598, 1.1352, 0.8436, 3.4465, 3.4461, 3.4461, 3.4461, 3.4459, 3.4458, 3.4453, 3.4443, 3.4416, 3.4404, 3.4342, 3.4342, 3.4342, 3.4342, 3.4305, 3.4251, 3.422, 3.422, 3.422, 3.422, 3.4191, 3.4179, 3.4174, 3.4117, 3.41, 3.4098, 3.4044, 3.4043, 3.4006, 3.3951, 3.3591, 3.3606, 3.3672, 3.3317, 3.3258, 3.351, 3.3329, 3.3173, 3.2609, 3.311, 3.2413, 3.1539, 3.1493, 3.2979, 3.0128, 2.8594, 2.5255, 3.0764, 2.5527, 2.15, 2.1024, 1.7051, 2.5981, 1.8694, 2.0957, 1.7386, 2.4287, 1.5982, 1.9717, 2.046, 1.6525, 2.2276, 1.7794, 1.2793, 3.237, 3.2369, 3.2369, 3.2367, 3.2365, 3.2362, 3.2362, 3.2361, 3.2361, 3.236, 3.2359, 3.2358, 3.2358, 3.2357, 3.2357, 3.2355, 3.2345, 3.2345, 3.2342, 3.2342, 3.2342, 3.2342, 3.2338, 3.2332, 3.2323, 3.229, 3.229, 3.2249, 3.2249, 3.2249, 3.2115, 3.2178, 3.2162, 3.2036, 3.1901, 3.1894, 3.2048, 3.1771, 3.1772, 3.1501, 3.151, 3.1826, 3.0945, 3.1246, 3.0309, 3.0498, 2.9098, 3.0163, 3.1623, 2.5009, 2.7802, 2.9524, 2.5722, 2.9052, 2.9638, 2.8317, 2.6383, 2.0511, 2.5085, 2.6154, 2.1047, 1.9196, 2.5164, 2.4504, 2.5007, 2.346, 1.9003, 1.3646, 1.2785, 2.1223, 1.4102, 1.8146, 1.0624, 0.7754, 1.4194, 1.4748, 2.1178, 0.344, 1.3002, 1.1318, 0.8672, 1.4336, 1.229, 0.4342, 0.0553, 0.3505, 0.8184, 3.3906, 3.3903, 3.3903, 3.39, 3.3899, 3.3898, 3.3895, 3.3892, 3.3891, 3.3891, 3.3891, 3.3886, 3.3879, 3.3879, 3.3876, 3.3871, 3.3871, 3.3865, 3.3865, 3.386, 3.3857, 3.3857, 3.3845, 3.3845, 3.3845, 3.3824, 3.3824, 3.3824, 3.3824, 3.3824, 3.3803, 3.3757, 3.3691, 3.3493, 3.3595, 3.3585, 3.35, 3.3081, 3.356, 3.277, 3.3256, 3.3, 3.2842, 3.3293, 3.256, 3.2642, 3.2984, 3.2462, 3.3254, 3.1595, 3.2385, 3.1835, 3.0359, 3.1758, 3.1897, 2.7869, 2.7286, 2.8139, 3.0833, 2.9246, 2.9216, 2.6004, 1.9001, 2.4079, 1.8985, 1.812, 2.7605, 2.2285, 2.2532, 2.5663, 1.2877, 1.7215, 1.3969, 1.6004, 1.172, 1.699, 1.6939, 0.8839, 1.6612, 1.3551, 1.3742, 1.0892, 0.7888, 3.2177, 3.2173, 3.2162, 3.2074, 3.2074, 3.1951, 3.1951, 3.1951, 3.1951, 3.1951, 3.1951, 3.1695, 3.1644, 3.1537, 3.1448, 3.1351, 3.1098, 3.0706, 3.0542, 3.0431, 3.0332, 3.0141, 3.0083, 3.0073, 2.9658, 2.926, 2.899, 2.8798, 2.8798, 2.8607, 2.8545, 2.8366, 2.6997, 2.7542, 2.5835, 2.557, 2.6442, 2.6285, 2.5316, 2.6174, 2.1168, 2.3364, 2.4345, 2.2444, 2.219, 2.0964, 1.7092, 2.4186, 2.1749, 1.3868, 2.4725, 1.3966, 2.0376, 1.9169, 1.988, 1.6238, 1.3252, 1.9677, 1.1318, 1.921, 1.9426, 1.5084, 1.5845, 0.4131, 1.2708, 0.9596, 0.8205, 1.1495, 0.8928, 0.7171, 0.6556, 0.206, 0.2338, 0.9591, 3.5903, 3.5849, 3.5849, 3.5837, 3.5828, 3.5828, 3.5787, 3.5787, 3.5776, 3.5686, 3.5665, 3.5661, 3.5638, 3.5627, 3.53, 3.5092, 3.5002, 3.4924, 3.4902, 3.4899, 3.4849, 3.4823, 3.4252, 3.3655, 3.3565, 3.3356, 3.2679, 3.2616, 3.236, 3.2332, 3.2289, 3.2271, 3.1391, 3.161, 3.0878, 3.1523, 3.0823, 2.9676, 2.8131, 2.9532, 2.8725, 2.4112, 2.7091, 2.4117, 2.722, 2.774, 2.6896, 2.8142, 2.017, 1.9692, 1.1923, 1.2484, 0.6117, 1.0275, 0.6816, 1.0555, 1.9042, 1.2879, 1.4198, 1.046, 1.1033, -0.5635, 1.387, 3.3664, 3.3654, 3.3633, 3.3633, 3.3633, 3.3592, 3.3592, 3.3584, 3.347, 3.347, 3.347, 3.347, 3.347, 3.3369, 3.3286, 3.2836, 3.2574, 3.2563, 3.256, 3.2484, 3.2444, 3.2428, 3.2419, 3.2416, 3.2223, 3.201, 3.1674, 3.1613, 3.1215, 3.1178, 3.1056, 3.0566, 2.9708, 3.0197, 2.9824, 3.041, 2.9449, 2.9016, 2.8591, 2.8308, 2.8184, 2.7982, 2.7962, 2.7256, 2.5935, 2.6483, 2.8425, 1.9223, 2.534, 2.732, 1.9406, 1.4394, 1.154, 1.6749, 1.0808, 1.3333, 0.8185, 1.4319, 0.2264, 1.3137, 0.3406, 0.5651, 2.8431, 2.8429, 2.8429, 2.8428, 2.8426, 2.8424, 2.8423, 2.8421, 2.8421, 2.842, 2.8418, 2.8418, 2.8417, 2.8415, 2.8415, 2.8415, 2.8414, 2.8413, 2.8411, 2.8409, 2.8401, 2.8401, 2.8377, 2.837, 2.8363, 2.8344, 2.8341, 2.8308, 2.8255, 2.8227, 2.8174, 2.8027, 2.8159, 2.7813, 2.7123, 2.8073, 2.7429, 2.6817, 2.6077, 2.7016, 2.6522, 2.6259, 2.5623, 2.3841, 2.4933, 2.5514, 2.2535, 2.1492, 2.2377, 2.4407, 2.4478, 2.3658, 1.9588, 1.7414, 1.8269, 2.0753, 1.782, 1.8566, 1.1215, 1.7793, 1.6257, 0.9465, 1.7454, 1.4792, 0.5761, -0.1526, 0.8004, 0.0277, 0.5415, 0.159, 3.2932, 3.2916, 3.2912, 3.2896, 3.2887, 3.2875, 3.2875, 3.2813, 3.2813, 3.2813, 3.2813, 3.2813, 3.269, 3.269, 3.269, 3.269, 3.2375, 3.2093, 3.2024, 3.1416, 3.1247, 3.1208, 3.1036, 3.0981, 3.0908, 3.0697, 3.0689, 3.056, 3.0304, 3.0294, 3.0131, 3.0123, 2.9263, 2.9179, 2.7527, 2.8849, 2.7664, 2.9827, 2.8331, 2.7362, 2.5856, 2.6318, 2.1121, 2.9102, 2.6764, 2.7515, 2.353, 2.3366, 2.5539, 2.3464, 2.2798, 2.1011, 2.4975, 1.8925, 1.6705, 2.409, 1.8886, 1.5165, 1.5209, 1.7725, 1.1434, 1.7821, 1.8209, 1.514, 1.0018, 1.2628, 1.4681, 1.0576, 1.3279, 1.4169, 0.9012, 1.0187, 1.3245, 1.4642, 0.4029, 1.095, 0.523, 3.8068, 3.8067, 3.8064, 3.8063, 3.8063, 3.8062, 3.8059, 3.8058, 3.8058, 3.8055, 3.8052, 3.8052, 3.8049, 3.8049, 3.8047, 3.8047, 3.8043, 3.8043, 3.8039, 3.8033, 3.8025, 3.8012, 3.8012, 3.7991, 3.7991, 3.791, 3.7828, 3.7828, 3.7828, 3.7828, 3.7519, 3.7549, 3.7451, 3.7105, 3.6908, 3.7197, 3.7413, 3.7012, 3.6248, 3.622, 3.6581, 3.4954, 3.4945, 3.601, 3.4887, 3.3141, 3.5897, 3.4569, 3.3288, 3.2416, 3.4952, 3.3958, 3.0697, 3.431, 3.1778, 3.1141, 2.8663, 2.548, 2.0459, 2.7413, 2.2657, 2.5416, 2.614, 1.705, 2.0858, 2.7969, 0.8916, 0.6067, 1.3001, 1.8308, 2.2748, -0.4815, 2.0374, 0.5744, 0.7781, 1.6138, 1.8663, -0.0385, 0.8492, 0.3388, 1.4514, -0.1817, 0.6596, 0.9734]}, \"token.table\": {\"Topic\": [13, 8, 2, 5, 9, 5, 6, 19, 22, 25, 11, 16, 17, 19, 20, 21, 22, 23, 24, 25, 11, 16, 26, 13, 19, 20, 10, 13, 14, 24, 14, 24, 3, 5, 8, 10, 13, 22, 24, 25, 19, 4, 5, 6, 8, 13, 15, 16, 23, 24, 9, 11, 12, 13, 15, 16, 17, 19, 20, 21, 26, 20, 1, 3, 6, 7, 9, 10, 13, 15, 16, 19, 21, 25, 26, 1, 3, 6, 11, 16, 19, 20, 23, 25, 23, 8, 1, 4, 9, 12, 13, 15, 18, 5, 9, 12, 9, 12, 17, 21, 20, 1, 4, 10, 12, 13, 14, 15, 3, 5, 11, 13, 15, 16, 1, 3, 9, 21, 26, 11, 16, 20, 24, 26, 11, 16, 8, 9, 26, 7, 9, 21, 24, 24, 9, 12, 17, 26, 5, 15, 8, 3, 5, 13, 15, 16, 17, 25, 1, 2, 3, 4, 5, 9, 10, 11, 12, 13, 15, 16, 17, 20, 21, 23, 24, 26, 1, 3, 5, 8, 11, 13, 15, 16, 19, 23, 24, 25, 9, 12, 26, 8, 21, 8, 13, 26, 10, 13, 21, 11, 15, 22, 9, 14, 15, 26, 9, 12, 21, 1, 3, 4, 5, 15, 18, 22, 26, 12, 11, 5, 18, 24, 15, 8, 1, 2, 4, 5, 7, 8, 10, 11, 13, 15, 16, 23, 24, 25, 2, 4, 6, 7, 9, 13, 16, 19, 21, 25, 13, 21, 6, 1, 16, 1, 3, 4, 5, 8, 10, 14, 16, 22, 24, 25, 10, 26, 26, 10, 13, 18, 10, 11, 22, 22, 9, 21, 22, 26, 9, 15, 25, 13, 21, 26, 15, 1, 3, 6, 12, 16, 17, 16, 1, 2, 4, 9, 12, 13, 15, 26, 1, 12, 18, 19, 14, 6, 1, 4, 5, 13, 17, 22, 18, 3, 4, 5, 9, 11, 15, 16, 17, 18, 20, 22, 26, 3, 12, 18, 19, 22, 23, 6, 9, 11, 15, 16, 23, 1, 4, 5, 6, 8, 11, 12, 13, 14, 15, 16, 18, 21, 22, 23, 25, 26, 5, 6, 8, 10, 11, 13, 14, 15, 16, 17, 21, 22, 23, 25, 1, 11, 16, 21, 4, 1, 6, 8, 10, 12, 13, 21, 25, 26, 5, 3, 4, 6, 11, 13, 16, 17, 20, 24, 26, 9, 9, 17, 21, 23, 6, 5, 6, 9, 23, 26, 13, 15, 18, 20, 21, 23, 15, 5, 20, 3, 5, 8, 11, 11, 1, 3, 8, 9, 12, 21, 26, 8, 9, 23, 2, 7, 18, 10, 21, 26, 8, 13, 16, 18, 19, 24, 24, 8, 9, 21, 4, 10, 14, 15, 21, 23, 26, 11, 1, 5, 9, 13, 16, 19, 21, 24, 26, 3, 13, 21, 1, 3, 5, 9, 10, 11, 12, 14, 15, 16, 24, 26, 1, 5, 11, 12, 16, 21, 23, 24, 25, 5, 6, 7, 9, 10, 12, 13, 16, 21, 24, 21, 2, 3, 4, 6, 9, 11, 16, 18, 26, 2, 7, 10, 13, 16, 17, 18, 20, 24, 26, 4, 9, 13, 15, 22, 24, 4, 11, 15, 22, 16, 3, 4, 17, 1, 17, 4, 4, 4, 17, 4, 17, 17, 1, 6, 7, 17, 4, 6, 7, 12, 14, 15, 16, 17, 21, 24, 6, 26, 4, 11, 19, 22, 24, 26, 26, 15, 9, 12, 13, 7, 16, 20, 26, 2, 4, 13, 1, 3, 12, 13, 16, 18, 19, 21, 22, 18, 11, 21, 23, 3, 9, 12, 20, 22, 23, 26, 22, 3, 6, 17, 20, 21, 2, 26, 19, 2, 3, 9, 19, 20, 21, 22, 26, 5, 13, 22, 26, 4, 26, 11, 5, 15, 16, 20, 24, 25, 1, 5, 8, 16, 20, 25, 15, 25, 4, 15, 24, 11, 1, 2, 7, 11, 1, 5, 8, 9, 10, 11, 12, 13, 15, 16, 17, 21, 22, 23, 24, 26, 4, 7, 9, 12, 17, 19, 23, 13, 15, 5, 10, 12, 16, 18, 23, 24, 16, 19, 9, 26, 15, 23, 21, 23, 6, 11, 21, 12, 26, 26, 3, 5, 16, 1, 18, 22, 4, 5, 12, 21, 2, 4, 7, 16, 24, 9, 23, 1, 2, 16, 3, 9, 11, 12, 13, 14, 15, 16, 22, 25, 26, 4, 5, 6, 9, 11, 12, 16, 17, 18, 20, 21, 23, 25, 4, 3, 4, 5, 6, 10, 11, 12, 15, 16, 17, 18, 20, 24, 6, 5, 10, 11, 13, 18, 21, 2, 4, 9, 10, 11, 13, 15, 16, 19, 20, 21, 22, 25, 26, 21, 22, 26, 5, 15, 19, 21, 25, 13, 16, 17, 4, 26, 4, 6, 16, 22, 16, 20, 9, 17, 11, 12, 13, 16, 25, 4, 8, 9, 11, 12, 13, 15, 16, 17, 21, 22, 23, 24, 26, 24, 25, 24, 1, 1, 21, 23, 9, 11, 3, 7, 18, 26, 9, 11, 3, 6, 10, 22, 8, 3, 4, 6, 8, 11, 12, 18, 19, 19, 22, 1, 12, 17, 21, 22, 23, 24, 25, 10, 14, 15, 22, 1, 4, 10, 14, 15, 19, 21, 22, 24, 26, 3, 6, 13, 13, 20, 8, 19, 3, 15, 19, 23, 1, 3, 4, 6, 7, 8, 9, 10, 12, 13, 17, 18, 21, 23, 26, 1, 8, 13, 16, 23, 12, 1, 8, 13, 21, 25, 8, 9, 19, 25, 26, 8, 20, 1, 5, 6, 12, 16, 8, 18, 25, 6, 9, 11, 12, 13, 15, 16, 17, 18, 19, 20, 21, 16, 20, 21, 22, 12, 3, 19, 2, 20, 4, 6, 12, 15, 16, 17, 18, 19, 20, 21, 22, 23, 24, 18, 21, 24, 6, 1, 3, 4, 14, 15, 19, 22, 24, 1, 9, 16, 1, 10, 15, 20, 26, 6, 24, 2, 17, 19, 3, 6, 8, 9, 10, 13, 16, 22, 25, 3, 24, 5, 2, 2, 14, 8, 16, 3, 5, 6, 9, 14, 1, 2, 3, 4, 5, 6, 7, 9, 10, 11, 13, 15, 16, 21, 22, 26, 2, 4, 16, 5, 10, 14, 16, 17, 19, 23, 24, 4, 5, 6, 9, 17, 19, 20, 22, 9, 16, 19, 8, 9, 20, 19, 20, 20, 26, 20, 1, 2, 4, 5, 9, 10, 13, 15, 18, 21, 23, 26, 15, 21, 3, 12, 3, 20, 20, 8, 12, 23, 24, 25, 14, 15, 16, 21, 22, 3, 5, 18, 6, 11, 3, 4, 10, 24, 1, 15, 16, 20, 21, 22, 23, 24, 9, 26, 3, 6, 12, 13, 15, 16, 19, 21, 22, 26, 5, 13, 26, 4, 5, 6, 10, 12, 13, 16, 18, 21, 24, 26, 1, 5, 7, 9, 10, 11, 12, 16, 21, 22, 23, 24, 25, 26, 1, 3, 6, 9, 12, 16, 21, 24, 3, 13, 16, 1, 2, 4, 5, 9, 10, 11, 12, 13, 14, 15, 16, 19, 21, 23, 24, 26, 12, 1, 3, 4, 6, 8, 12, 13, 15, 16, 20, 26, 6, 10, 13, 15, 19, 16, 9, 3, 1, 1, 5, 12, 16, 3, 9, 12, 17, 18, 25, 23, 22, 9, 11, 12, 13, 11, 25, 5, 9, 15, 23, 24, 25, 5, 23, 8, 9, 12, 13, 21, 22, 24, 26, 9, 14, 21, 3, 4, 7, 9, 16, 23, 24, 1, 4, 5, 6, 15, 16, 18, 24, 25, 4, 5, 9, 12, 13, 16, 5, 12, 12, 17, 8, 1, 8, 9, 10, 11, 12, 16, 24, 25, 26, 1, 6, 9, 16, 25, 1, 12, 15, 22, 23, 25, 9, 11, 12, 13, 15, 19, 11, 20, 13, 14, 21, 3, 4, 5, 8, 9, 10, 11, 12, 14, 15, 19, 21, 23, 25, 6, 20, 25, 11, 1, 3, 8, 10, 3, 4, 8, 9, 2, 1, 4, 5, 8, 13, 16, 24, 25, 1, 3, 5, 8, 12, 20, 24, 25, 2, 18, 1, 2, 4, 6, 9, 11, 12, 13, 15, 16, 20, 24, 25, 26, 1, 9, 13, 15, 16, 17, 18, 19, 21, 22, 5, 3, 4, 5, 8, 9, 10, 11, 12, 14, 15, 19, 21, 23, 8, 15, 19, 13, 25, 9, 10, 20, 23, 24, 2, 9, 10, 13, 14, 16, 19, 21, 25, 26, 13, 18, 1, 1, 14, 16, 6, 20, 25, 20, 25, 19, 5, 7, 12, 15, 16, 22, 3, 9, 25, 18, 25, 1, 24, 12, 12, 19, 9, 11, 17, 22, 6, 11, 12, 13, 18, 21, 23, 25, 4, 8, 11, 14, 16, 22, 23, 25, 6, 14, 26, 9, 14, 15, 21, 15, 19, 2, 3, 8, 10, 12, 13, 18, 19, 25, 1, 3, 5, 6, 8, 9, 10, 11, 12, 13, 14, 15, 16, 18, 20, 21, 22, 25, 14, 15, 16, 21, 26, 2, 9, 11, 12, 13, 15, 16, 19, 20, 22, 23, 25, 20, 24, 10, 26, 9, 22, 26, 12, 13, 19, 21, 26, 4, 8, 11, 14, 22, 24, 26, 1, 10, 19, 22, 24, 6, 17, 8, 12, 16, 15, 20, 18, 1, 3, 24, 26, 21, 5, 6, 12, 19, 23, 25, 10, 7, 10, 19, 20, 24, 3, 9, 3, 5, 8, 19, 25, 12, 21, 11, 12, 21, 23, 25, 10, 13, 26, 7, 1, 5, 9, 12, 15, 24, 11, 16, 18, 25, 2, 3, 5, 6, 7, 8, 9, 10, 13, 14, 16, 21, 23, 25, 26, 19, 12, 22, 12, 3, 9, 21, 24, 1, 5, 11, 16, 21, 4, 17, 22, 10, 19, 9, 1, 3, 4, 5, 6, 11, 15, 6, 16, 17, 20, 8, 1, 3, 4, 5, 6, 11, 12, 13, 16, 20, 23, 26, 25, 3, 2, 18, 21, 26, 12, 19, 5, 3, 5, 7, 9, 26, 7, 15, 3, 8, 11, 13, 15, 19, 20, 21, 22, 24, 6, 1, 6, 9, 21, 22, 26, 2, 15, 26, 15, 22, 24, 25, 9, 11, 19, 22, 13, 9, 8, 25, 11, 3, 6, 15, 16, 21, 5, 9, 12, 8, 15, 4, 5, 9, 10, 11, 12, 17, 18, 21, 23, 24, 25, 26, 3, 25, 6, 11, 2, 6, 9, 20, 17, 21, 22, 26, 9, 19, 21, 22, 26, 3, 9, 20, 25, 5, 21, 23, 7, 11, 17, 20, 25, 18, 18, 4, 6, 15, 24, 25, 14, 19, 21, 17, 21, 1, 15, 20, 15, 9, 10, 16, 22, 26, 4, 16, 17, 4, 4, 21, 1, 11, 26, 15, 21, 22, 1, 3, 20, 25, 26, 25, 15, 19, 5, 16, 20, 11, 5, 15, 18, 13, 17, 23, 6, 12, 20, 8, 2, 15, 19, 1, 5, 9, 10, 12, 14, 15, 16, 19, 20, 22, 1, 6, 9, 15, 21, 5, 8, 18, 3, 17, 19, 1, 2, 9, 10, 12, 17, 18, 19, 20, 21, 22, 26, 13, 15, 23, 25, 9, 26, 10, 11, 13, 26, 1, 5, 8, 11, 12, 23, 6, 26, 6, 23, 1, 3, 4, 6, 9, 12, 5, 1, 6, 10, 11, 15, 16, 19, 22, 23, 24, 25, 3, 4, 5, 7, 8, 10, 13, 16, 17, 23, 1, 9, 11, 16, 21, 25, 26, 9, 13, 15, 16, 26, 6, 24, 18, 1, 11, 17, 20, 22, 2, 3, 4, 5, 12, 14, 17, 24, 9, 4, 7, 8, 12, 13, 16, 17, 1, 4, 5, 6, 7, 10, 16, 22, 23, 24, 1, 3, 5, 11, 15, 24, 25, 26, 15, 20, 9, 16, 17, 22, 3, 22, 11, 1, 5, 6, 8, 9, 11, 12, 16, 17, 24, 6, 15, 1, 8, 9, 16, 25, 26, 1, 8, 9, 13, 15, 16, 21, 22, 24, 26, 2, 3, 4, 5, 15, 16, 17, 18, 19, 20, 3, 1, 10, 11, 12, 14, 16, 19, 21, 22, 26, 16, 6, 8, 12, 13, 20, 22, 26, 3, 9, 12, 21, 6, 1, 2, 6, 10, 17, 19, 22, 24, 25, 14, 6, 15, 25, 18, 19, 13, 6, 18, 26, 6, 7, 26, 6, 3, 6, 14, 17, 20, 12, 12, 26, 4, 5, 7, 8, 10, 13, 16, 17, 19, 20, 23, 24, 25, 26, 5, 9, 12, 15, 2, 13, 24, 5, 6, 9, 1, 3, 6, 9, 13, 16, 17, 26, 1, 10, 14, 1, 4, 6, 12, 3, 19, 7, 9, 10, 11, 12, 13, 14, 23, 24, 25, 3, 15, 20, 8, 10, 15, 21, 10, 22, 20, 25, 8, 17, 4, 25, 11, 12, 13, 14, 15, 17, 21, 22, 23, 24, 26, 12, 22, 16, 5, 8, 10, 12, 13, 14, 15, 16, 19, 21, 22, 24, 25, 6, 15, 16, 5, 6, 15, 26, 25, 7, 22, 1, 9, 14, 16, 7, 10, 18, 2, 18, 1, 8, 1, 4, 6, 8, 11, 13, 15, 16, 17, 18, 19, 20, 21, 22, 26, 9, 14, 17, 21, 5, 1, 3, 12, 19, 20, 22, 1, 2, 5, 6, 9, 10, 11, 12, 13, 15, 16, 19, 21, 22, 23, 24, 2, 3, 6, 7, 9, 10, 17, 21, 1, 2, 5, 11, 14, 17, 20, 9, 12, 21, 26, 11, 13, 26, 1, 9, 16, 24, 9, 14, 22, 1, 10, 12, 23, 6, 9, 23, 12, 25, 6, 13, 21, 11, 14, 2, 12, 21, 23, 25, 18, 20, 3, 5, 1, 3, 4, 8, 9, 11, 13, 16, 22, 24, 25, 26, 1, 3, 9, 12, 16, 21, 11, 25, 8, 8, 12, 16, 19, 1, 20, 12, 16, 12, 21, 23, 25, 13, 15, 18, 13, 8, 13, 15, 22, 26, 15, 18, 2, 4, 6, 17, 18, 12, 23, 7, 12, 15, 21, 23, 26, 11, 13, 16, 13, 15, 19, 12, 9, 11, 21, 5, 12, 25, 8, 15, 20, 21, 26, 6, 26, 13, 1, 6, 9, 10, 13, 15, 16, 20, 21, 24, 25, 3, 12, 15, 17, 20, 21, 23, 25, 5, 21, 23, 21, 8, 12, 3, 5, 8, 10, 12, 13, 16, 21, 24, 25, 4, 5, 6, 9, 10, 11, 1, 3, 5, 7, 8, 9, 12, 17, 21, 22, 25, 2, 16, 13, 26, 24, 3, 4, 5, 6, 7, 10, 16, 17, 20, 21, 24, 25, 26, 10, 19, 3, 15, 16, 25, 1, 2, 4, 6, 10, 11, 13, 14, 15, 16, 21, 1, 15, 19, 21, 14, 17, 1, 6, 16, 20, 26, 20, 15, 1, 2, 11, 26, 1, 16, 3, 6, 7, 8, 9, 12, 13, 15, 19, 21, 22, 26, 25, 26, 3, 4, 17, 18, 26, 3, 6, 12, 20, 21, 20, 1, 6, 12, 14, 26, 5, 6, 7, 13, 15, 16, 21, 23, 24, 26, 20, 22, 13, 19, 7, 10, 12, 17, 21, 25, 5, 14, 24, 12, 15, 16, 17, 19, 20, 6, 5, 8, 12, 23, 25, 9, 10, 6, 9, 11, 12, 13, 15, 16, 19, 21, 22, 26, 15, 16, 13, 23, 25, 12, 11, 23, 26, 12, 21, 2, 1, 9, 11, 15, 14, 4, 7, 8, 10, 12, 13, 18, 19, 21, 25, 8, 9, 23, 1, 2, 6, 9, 11, 12, 13, 15, 19, 21, 23, 3, 4, 7, 12, 14, 18, 21, 24, 16, 1, 3, 4, 6, 9, 12, 16, 24, 1, 3, 16, 25, 5, 2, 12, 3, 9, 12, 13, 21, 24, 16, 25, 1, 3, 5, 7, 8, 9, 10, 11, 13, 15, 16, 17, 18, 21, 23, 24, 25, 26, 8, 15, 5, 3, 5, 8, 13, 14, 23, 25, 26, 12, 13, 19, 24, 3, 23, 20, 1, 3, 5, 6, 7, 8, 10, 15, 16, 17, 21, 22, 24, 25, 5, 9, 11, 12, 16, 20, 1, 2, 3, 4, 6, 9, 12, 14, 16, 19, 22, 25, 20, 1, 2, 3, 5, 8, 12, 15, 16, 17, 19, 22, 23, 24, 5, 19, 12, 3, 10, 10, 14, 3, 9, 12, 15, 8, 3, 25, 2, 3, 5, 9, 11, 12, 15, 19, 20, 21, 25, 26, 14, 21, 23, 10, 14, 18, 19, 26, 10, 1, 19, 9, 19, 4, 7, 2, 18, 9, 13, 14, 2, 7, 10, 11, 13, 18, 5, 6, 18, 24, 25, 18, 5, 13, 18, 6, 1, 7, 8, 12, 16, 22, 24, 25, 1, 12, 1, 5, 12, 14, 15, 16, 20, 24, 9, 18, 2, 7, 9, 10, 16, 20, 21, 22, 26, 22, 24, 9, 9, 5, 9, 11, 13, 3, 9, 12, 15, 16, 20, 22, 24, 26, 11, 13, 10, 12, 26, 3, 4, 6, 13, 19, 26, 3, 9, 10, 12, 13, 15, 16, 18, 20, 24, 25, 26, 1, 2, 9, 10, 11, 12, 13, 15, 16, 19, 21, 24, 25, 26, 16, 24, 1, 22, 26, 13, 14, 26, 1, 6, 10, 13, 14, 21, 22, 26, 8, 11, 13, 20, 8, 11, 14, 17, 19, 2, 5, 11, 12, 21, 22, 24, 11, 19, 21, 25, 2, 21, 26, 1, 3, 5, 9, 14, 18, 19, 20, 4, 6, 7, 8, 10, 14, 15, 16, 17, 20, 21, 22, 23, 24, 1, 5, 14, 19, 21, 22, 26, 6, 11, 12, 13, 15, 22, 24, 8, 19, 21, 12, 19, 1, 4, 8, 9, 10, 11, 12, 15, 17, 18, 21, 25, 26, 19, 21, 3, 5, 13, 14, 15, 22, 26, 5, 8, 9, 10, 19, 13, 19, 22, 24, 14, 26, 9, 10, 2, 6, 7, 16, 26, 5, 6, 9, 12, 21, 16, 2, 16, 2, 6, 4, 6, 2, 2, 11, 13, 16, 26, 11, 3, 6, 5, 7, 16, 20, 25, 26, 4, 12, 2, 16, 17, 24, 4, 9, 11, 21, 4, 7, 16, 23, 4, 6, 16, 17, 23, 24, 25, 26, 4, 6, 10, 16, 18, 6, 23, 4, 7, 13, 20, 24, 25, 6, 12, 5, 26, 3, 6, 7, 9, 12, 15, 21, 26, 2, 10, 24, 2, 3, 4, 9, 10, 13, 14, 15, 22, 23, 24, 25, 2, 6, 10, 13, 14, 26, 1, 5, 10, 11, 13, 15, 16, 17, 20, 21, 8, 14, 12, 15, 22, 23, 12, 12, 1, 3, 6, 9, 11, 16, 18, 21, 22, 13, 6, 10, 11, 13, 15, 17, 23, 25, 26, 5, 13, 15, 5, 2, 19, 26, 6, 11, 14, 16, 20, 6, 2, 7, 13, 16, 17, 26, 18, 4, 14, 21, 1, 4, 9, 11, 12, 15, 19, 21, 9, 12, 14, 15, 16, 19, 21, 4, 9, 25, 4, 21, 1, 3, 4, 5, 8, 14, 15, 16, 17, 21, 24, 26, 2, 7, 8, 17, 1, 2, 17, 19, 24, 4, 5, 7, 13, 16, 24, 4, 6, 7, 11, 13, 16, 17, 20, 21, 24, 1, 3, 4, 5, 9, 10, 12, 15, 18, 21, 23, 24, 26, 24, 5, 3, 6, 17, 19, 26, 2, 4, 16, 17, 20, 21, 23, 26, 7, 17, 18, 4, 7, 15, 20, 23, 25, 10, 16, 24, 25, 2, 4, 13, 22, 25, 1, 4, 5, 7, 12, 15, 24, 1, 1, 5, 8, 10, 18, 22, 24, 25, 26, 17, 24, 1, 9, 10, 11, 15, 17, 20, 21, 22, 23, 24, 25, 4, 13, 21, 4, 8, 13, 16, 19, 21, 1, 4, 5, 7, 8, 10, 12, 13, 15, 17, 19, 24, 25, 26, 1, 7, 4, 5, 16, 24, 3, 8, 26, 2, 6, 8, 10, 13, 15, 16, 20, 21, 22, 24, 25, 26, 24, 10, 16, 2, 9, 11, 16, 17, 26, 14, 4, 10, 16, 18, 7, 17, 3, 6, 18, 1, 2, 4, 6, 9, 10, 12, 13, 14, 15, 16, 21, 22, 26, 26, 2, 16, 2, 4, 10, 11, 12, 13, 15, 24, 9, 16, 22, 25, 13, 25, 1, 9, 16, 24, 19, 10, 11, 18, 24, 17, 25, 20, 19, 11, 24, 3, 7, 22, 19, 25, 3, 8, 11, 1, 3, 5, 6, 9, 11, 12, 13, 15, 16, 18, 19, 21, 23, 25, 26, 3, 6, 9, 11, 12, 13, 15, 16, 17, 19, 20, 21, 22, 24, 26, 3, 4, 9, 11, 12, 13, 15, 16, 17, 18, 20, 21, 22, 5, 11, 16, 3, 17, 12, 26, 7, 10, 16, 22, 8, 20, 2, 11, 18, 19, 13, 21, 26, 1, 12, 26, 26, 2, 10, 13, 14, 3, 13, 25, 26, 1, 2, 9, 11, 12, 13, 15, 16, 17, 19, 20, 21, 22, 24, 26, 6, 14, 9, 23, 25, 2, 16, 1, 4, 3, 6, 10, 11, 12, 6, 1, 5, 15, 17, 18, 2, 4, 9, 13, 21, 25, 11, 20, 25, 14, 15, 21, 9, 11, 19, 22, 23, 24, 26, 2, 11, 15, 2, 3, 5, 6, 8, 9, 10, 19, 20, 22, 24, 26, 24, 2, 2, 8, 15, 21, 23, 4, 12, 13, 14, 16, 21, 23, 20, 26, 20, 14, 26, 21, 24, 12, 21, 23, 25, 14, 8, 26, 6, 3, 10, 14, 22, 3, 11, 13, 15, 16, 17, 21, 22, 23, 1, 11, 13, 15, 16, 17, 20, 21, 22, 2, 16, 4, 4, 26, 8, 9, 26, 5, 11, 14, 21, 25, 26, 12, 21, 24, 16, 22, 2, 17, 9, 12, 14, 20, 22, 23, 25, 2, 7, 10, 12, 20, 23, 25, 6, 4, 1, 3, 5, 6, 8, 12, 15, 20, 22, 23, 22, 1, 4, 6, 20, 21, 9, 1, 3, 4, 10, 19, 20, 22, 24, 5, 11, 1, 9, 4, 17, 3, 5, 14, 15, 16, 17, 19, 22, 23, 26, 16, 20, 11, 23, 9, 16, 4, 5, 6, 8, 11, 13, 14, 15, 19, 21, 22, 1, 5, 12, 16, 22, 9, 11, 13, 14, 21, 26, 4, 5, 8, 14, 16, 18, 19, 20, 21, 23, 25, 8, 19, 22, 8, 17, 19, 2, 8, 9, 10, 13, 19, 23, 26, 23, 1, 20, 12, 22, 12, 17, 17, 9, 15, 16, 15, 11, 18, 15, 5, 26, 3, 6, 14, 15, 8, 21, 19, 2, 3, 4, 5, 9, 10, 11, 12, 13, 14, 15, 16, 18, 20, 21, 22, 26, 1, 5, 8, 9, 13, 14, 15, 16, 19, 21, 22, 23, 5, 6, 10, 13, 5, 22, 6, 7, 17, 9, 20, 1, 17, 1, 3, 8, 16, 2, 9, 11, 15, 16, 20, 21, 23, 13, 1, 2, 4, 6, 8, 9, 11, 12, 13, 16, 19, 20, 15, 1, 3, 9, 12, 16, 20, 21, 23, 15, 26, 1, 3, 5, 6, 15, 20, 24, 25, 21, 4, 9, 10, 11, 14, 15, 16, 18, 19, 21, 22, 24, 25, 26, 24, 1, 2, 3, 4, 5, 7, 9, 10, 11, 13, 16, 21, 23, 24, 5, 7, 13, 15, 16, 1, 10, 21, 22, 3, 5, 8, 9, 12, 17, 20, 12, 21, 5, 13, 5, 12, 25, 3, 16, 19, 3, 12, 1, 4, 10, 11, 13, 15, 17, 5, 6, 13, 16, 13, 15, 26, 2, 5, 6, 7, 9, 10, 11, 12, 14, 18, 19, 21, 22, 23, 24, 25, 18, 6, 13, 15, 18, 18, 6, 8, 10, 15, 2, 4, 6, 7, 10, 11, 13, 16, 17, 19, 21, 23, 2, 4, 7, 17, 20, 26, 1, 4, 6, 9, 10, 11, 15, 16, 20, 24, 25, 12, 20, 5, 22, 11, 2, 7, 10, 13, 15, 16, 20, 21, 22, 11, 18, 3, 8, 17, 19, 21, 26, 6, 13, 2, 4, 11, 13, 14, 23, 24, 18, 3, 5, 7, 10, 12, 14, 15, 22, 25, 1, 10, 13, 16, 19, 22, 23, 24, 26, 19, 8, 5, 15, 9, 19, 21, 22, 24, 26, 6, 3, 9, 10, 13, 20, 21, 23, 26, 3, 11, 13, 26, 3, 9, 19, 24, 2, 13, 19, 5, 8, 10, 12, 13, 14, 15, 16, 22, 23, 24, 25, 9, 2, 11, 12, 13, 16, 18, 21, 25, 5, 9, 10, 12, 13, 15, 21, 25, 12, 10, 24, 8, 7, 8, 9, 12, 22, 19, 18, 2, 3, 6, 7, 10, 12, 13, 16, 17, 20, 25, 3, 4, 6, 11, 12, 15, 16, 18, 19, 20, 21, 23, 25, 8, 11, 20, 24, 7, 11, 20, 17, 4, 2, 3, 9, 22, 19, 8, 11, 16, 1, 3, 4, 12, 6, 17, 13, 4, 6, 7, 9, 10, 13, 16, 24, 25, 26, 6, 12, 13, 15, 16, 19, 21, 3, 2, 9, 11, 12, 13, 15, 22, 14, 22, 9, 1, 2, 16, 3, 1, 5, 7, 14, 17, 11, 19, 5, 6, 10, 12, 13, 15, 16, 17, 21, 22, 23, 25, 3, 14, 19, 6, 13, 18, 23, 4, 9, 12, 21, 22, 23, 25, 26, 3, 5, 9, 11, 12, 15, 17, 21, 22, 23, 24, 13, 25, 23, 12, 3, 10, 15, 25, 3, 4, 5, 11, 13, 20, 21, 22, 23, 26, 1, 3, 8, 9, 11, 12, 19, 20, 15, 5, 6, 8, 11, 14, 22, 26, 3, 18, 19, 1, 3, 5, 6, 8, 9, 10, 13, 16, 20, 23, 26, 10, 2, 4, 7, 13, 3, 4, 5, 6, 7, 8, 11, 13, 16, 20, 21, 26, 1, 3, 9, 16, 20, 12, 9, 20, 4, 5, 7, 13, 16, 17, 18, 20, 23, 24, 26, 1, 2, 6, 8, 15, 16, 24, 25, 26, 2, 4, 5, 6, 10, 13, 14, 15, 16, 17, 19, 21, 23, 19, 5, 14, 8, 9, 15, 23, 25, 20, 5, 1, 3, 4, 5, 6, 8, 9, 12, 13, 14, 15, 17, 19, 22, 24, 25, 8, 19, 1, 3, 6, 7, 9, 24, 25, 9, 7, 17, 22, 25, 5, 11, 12, 20, 24, 2, 24, 11, 17, 25, 3, 5, 8, 10, 16, 21, 23, 24, 26, 5, 3, 11, 25, 4, 7, 9, 10, 12, 15, 16, 23, 24, 3, 20, 3, 8, 20, 25, 24, 15, 11, 12, 15, 16, 20, 24, 26, 2, 15, 21, 1, 15, 19, 13, 24, 26, 10, 11, 11, 6, 9, 12, 17, 21, 24, 1, 12, 9, 15, 2, 3, 4, 9, 11, 17, 21, 13, 4, 9, 13, 21, 6, 17, 9, 12, 20, 22, 25, 19, 6, 24, 6, 18, 20, 9, 25, 9, 11, 21, 24, 20, 1, 2, 9, 10, 12, 13, 15, 16, 21, 23, 24, 26, 1, 2, 3, 9, 12, 15, 16, 17, 18, 21, 22, 23, 25, 26, 15, 13, 6, 9, 11, 12, 16, 19, 21, 22, 23, 25, 26, 15, 14, 19, 13, 4, 6, 13, 16, 18, 26, 14, 15, 26, 3, 4, 8, 9, 15, 17, 24, 4, 5, 12, 19, 20, 25, 2, 4, 5, 10, 12, 21, 22, 23, 24, 22, 24, 26, 1, 2, 6, 10, 11, 12, 13, 15, 19, 20, 21, 22, 24, 26, 25, 21, 22, 3, 6, 22, 23, 24, 5, 15, 16, 18, 24, 26, 1, 9, 10, 13, 15, 16, 19, 26, 11, 25, 20, 8, 10, 12, 13, 14, 15, 21, 24, 26, 9, 6, 1, 6, 7, 11, 20, 23, 26, 2, 11, 13, 17, 18, 19, 24, 25, 9, 14, 1, 4, 5, 8, 15, 22, 24, 5, 4, 5, 6, 7, 10, 18, 24, 25, 2, 16, 3, 12, 13, 18, 24, 25, 1, 9, 10, 18, 24, 25, 26, 20, 26, 1, 5, 6, 9, 10, 11, 12, 13, 14, 15, 16, 19, 21, 22, 23, 24, 25, 26, 24, 3, 5, 14, 26, 1, 2, 4, 5, 8, 10, 11, 13, 15, 16, 21, 22, 23, 24, 25, 26, 1, 3, 5, 7, 9, 10, 15, 16, 17, 18, 21, 23, 25, 26, 1, 2, 9, 12, 13, 16, 17, 18, 21, 23, 25, 11, 12, 24, 1, 17, 18, 17, 1, 3, 11, 12, 16, 21, 23, 4, 16, 22, 24, 26, 1, 3, 5, 9, 11, 12, 13, 16, 17, 21, 23, 1, 5, 9, 15, 16, 21, 22, 23, 3, 12, 13, 15, 16, 17, 19, 23, 24, 25, 12, 14, 15, 16, 3, 8, 15, 16, 20, 22, 23, 4, 9, 18, 23, 25, 21, 3, 4, 6, 9, 10, 12, 16, 21, 22, 25, 4, 5, 1, 5, 6, 12, 15, 17, 21, 22, 18, 20, 3, 5, 12, 13, 14, 16, 19, 23, 24, 25, 12, 1, 3, 6, 8, 9, 11, 12, 15, 16, 18, 19, 20, 21, 22, 26, 1, 16, 20, 5, 15, 4, 10, 12, 21, 1, 9, 22, 2, 4, 19, 21, 2, 22, 6, 7, 16, 9, 26, 13, 15, 22, 4, 2, 4, 5, 7, 10, 11, 13, 16, 17, 23, 26, 23, 3, 8, 10, 12, 13, 14, 15, 16, 21, 26, 23, 2, 15, 21, 26, 9, 10, 11, 1, 16, 3, 6, 13, 21, 4, 9, 11, 13, 15, 16, 17, 21, 22, 24, 26, 11, 2, 3, 4, 6, 9, 11, 12, 13, 15, 16, 17, 18, 19, 21, 23, 26, 8, 15, 6, 11, 13, 18, 9, 4, 26, 3, 4, 6, 9, 12, 13, 15, 21, 25, 26, 1, 8, 15, 26, 15, 1, 2, 8, 9, 12, 13, 14, 15, 20, 26, 3, 3, 4, 5, 9, 13, 16, 26, 1, 7, 17, 11, 6, 9, 18, 23, 24, 2, 11, 23, 3, 5, 9, 10, 15, 16, 20, 21, 23, 1, 7, 16, 5, 10, 12, 17, 21, 23, 2, 4, 6, 7, 9, 11, 16, 17, 20, 21, 6, 16, 16, 8, 11, 13, 15, 16, 21, 22, 23, 5, 6, 9, 11, 12, 13, 21, 23, 26, 1, 2, 4, 5, 9, 10, 12, 13, 15, 16, 17, 21, 22, 23, 25, 6, 2, 4, 10, 18, 19, 20, 22, 23, 2, 20, 5, 8, 12, 15, 20, 21, 10, 19, 1, 5, 5, 12, 13, 2, 8, 19, 9, 12, 26, 1, 5, 6, 10, 15, 16, 17, 24, 12, 14, 22, 1, 3, 4, 5, 8, 9, 10, 11, 12, 13, 14, 15, 16, 17, 18, 19, 21, 22, 23, 24, 25, 26, 1, 3, 9, 13, 15, 16, 17, 21, 22, 24, 26, 17, 17, 1, 10, 13, 14, 19, 23, 24, 26, 23, 4, 2, 4, 6, 8, 14, 15, 17, 10, 2, 19, 26, 3, 3, 4, 7, 13, 18, 4, 26, 1, 7, 11, 16, 18, 24, 5, 15, 1, 2, 5, 6, 11, 12, 13, 17, 18, 7, 26, 7, 11, 16, 2, 6, 7, 9, 13, 17, 18, 2, 5, 16, 10, 14, 12, 21, 23, 25, 14, 15, 12, 14, 21, 23, 25, 2, 17, 1, 4, 11, 16, 20, 23, 25, 11, 13, 11, 12, 13, 16, 18, 10, 20, 21, 11, 11, 20, 26, 20, 26, 11, 20, 26, 1, 2, 6, 9, 11, 16, 17, 4, 7, 1, 2, 4, 6, 13, 17, 18, 20, 25, 15, 20, 26, 2, 5, 6, 9, 12, 15, 21, 25, 6, 11, 12, 14, 22, 3, 11, 19, 23, 26, 18, 24, 25, 6, 15, 15, 21, 2, 3, 5, 6, 8, 9, 13, 23, 24, 26, 22, 26, 11, 22, 24, 6, 12, 1, 2, 3, 6, 8, 13, 15, 16, 18, 19, 20, 22, 23, 26, 4, 16, 2, 3, 9, 11, 13, 15, 9, 12, 23, 26, 3, 6, 15, 20, 25, 26, 2, 3, 5, 7, 9, 10, 13, 15, 16, 17, 18, 20, 21, 22, 26, 13, 16, 19, 20, 21, 22, 26, 1, 4, 5, 11, 17, 19, 12, 21, 23, 24, 9, 14, 25, 26, 4, 14, 19, 21, 17, 19, 24, 4, 6, 11, 22, 26, 13, 26, 2, 15, 20, 2, 6, 18, 23, 11, 20, 1, 4, 18, 20, 2, 3, 4, 5, 6, 7, 9, 11, 12, 13, 16, 17, 20, 21, 23, 24, 26, 3, 2, 10, 14, 21, 2, 8, 10, 19, 21, 23, 4, 10, 3, 4, 5, 6, 7, 13, 16, 17, 10, 20, 1, 6, 8, 24, 1, 5, 10, 11, 12, 14, 18, 19, 21, 23, 4, 5, 9, 10, 12, 13, 15, 16, 18, 21, 24, 25, 26, 1, 10, 11, 12, 24, 13, 19, 12, 5, 12, 21, 23, 25, 9, 10, 20, 5, 19, 1, 11, 13, 23, 3, 6, 7, 16, 20, 22, 15, 21, 23, 25, 7, 1, 1, 3, 6, 8, 9, 12, 16, 21, 22, 24, 16, 13, 4, 25, 4, 8, 10, 25, 13, 16, 20, 8, 10, 12, 21, 3, 5, 7, 8, 9, 10, 11, 12, 13, 15, 18, 19, 22, 25, 19, 3, 7, 9, 11, 13, 15, 18, 20, 21, 20, 26, 1, 3, 8, 12, 19, 22, 24, 7, 13, 17, 2, 4, 5, 6, 9, 13, 14, 16, 22, 23, 24, 4, 5, 20, 11, 20, 26, 3, 16, 20, 26, 24, 5, 9, 10, 12, 13, 18, 21, 24, 26, 20, 26, 6, 9, 11, 16, 20, 1, 4, 5, 8, 9, 12, 16, 20, 21, 22, 23, 5, 18, 18, 14, 16, 20, 22, 24, 5, 9, 12, 14, 17, 21, 23, 25, 1, 1, 6, 13, 19, 20, 2, 4, 9, 16, 23, 5, 16, 24, 3, 15, 20, 3, 11, 17, 2, 1, 6, 8, 17, 1, 2, 5, 9, 12, 13, 14, 15, 16, 20, 22, 23, 25, 9, 4, 5, 14, 17, 19, 21, 22, 25, 26, 12, 21, 23, 1, 6, 10, 15, 20, 24, 3, 17, 3, 5, 11, 1, 3, 4, 6, 8, 10, 12, 15, 22, 13, 2, 16, 6, 7, 11, 17, 22, 4, 2, 3, 5, 12, 24, 25, 2, 10, 13, 25, 6, 23, 25, 26, 1, 3, 4, 8, 10, 15, 16, 20, 1, 3, 9, 19, 24, 1, 20, 5, 12, 13, 25, 26, 14, 24, 4, 5, 7, 8, 13, 20, 21, 23, 24, 7, 12, 21, 8, 9, 10, 20, 24, 6, 7, 20, 23, 4, 18, 10, 2, 14, 21, 9, 11, 22, 26, 3, 20, 21, 10, 12, 16, 18, 2, 15, 17, 4, 8, 3, 8, 13, 20, 9, 19, 1, 3, 4, 9, 10, 16, 17, 18, 21, 13, 11, 13, 15, 16, 19, 20, 21, 22, 23, 26, 9, 26, 3, 4, 9, 26, 26, 1, 2, 3, 4, 5, 7, 8, 9, 12, 17, 23, 25, 1, 5, 2, 12, 13, 19, 9, 15, 9, 3, 5, 11, 16, 19, 23, 11, 12, 14, 17, 22, 2, 8, 17, 18, 5, 1, 3, 5, 8, 15, 16, 22, 25, 9, 12, 9, 11, 12, 13, 16, 21, 23, 8, 15, 21, 7, 13, 18, 24, 25, 4, 5, 6, 9, 11, 13, 21, 23, 26, 15, 3, 12, 24, 2, 8, 11, 12, 19, 23, 18, 25, 11, 13, 15, 16, 17, 21, 22, 23, 3, 15, 16, 26, 1, 13, 16, 16, 9, 12, 19, 22, 6, 11, 14, 16, 17, 9, 16, 26, 13, 15, 20, 2, 4, 6, 7, 10, 13, 15, 16, 17, 18, 4, 2, 6, 8, 11, 13, 14, 16, 21, 26, 2, 7, 9, 11, 18, 21, 22, 23, 24, 2, 3, 7, 13, 15, 20, 6, 12, 19, 25, 19, 19, 1, 2, 6, 9, 11, 17, 21, 26, 2, 21, 24, 3, 11, 1, 5, 11, 12, 16, 21, 23, 20, 3, 6, 16, 26, 15, 22, 19, 26, 13, 15, 17, 21, 26, 10, 12, 13, 14, 15, 17, 22, 12, 14, 24, 11, 2, 9, 11, 22, 26, 3, 18, 20, 1, 3, 17, 18, 13, 25, 9, 14, 2, 20, 3, 5, 18, 23, 25, 25, 7, 9, 19, 20, 1, 3, 6, 12, 16, 18, 20, 22, 25, 26, 12, 14, 19, 20, 21, 23, 24, 25, 26, 13, 22, 25, 11, 15, 17, 26, 17, 26, 1, 3, 4, 5, 9, 10, 13, 14, 16, 19, 20, 21, 22, 23, 24, 6, 19, 4, 8, 13, 1, 2, 4, 5, 6, 10, 17, 18, 21], \"Freq\": [0.9748571386980743, 0.9747719848976717, 0.9748291018104155, 0.9638357307901007, 0.036213481214656965, 0.9468422552780394, 0.05260234751544663, 0.06661920352684435, 0.19985761058053306, 0.7328112387952879, 0.08397914816426783, 0.12596872224640174, 0.039444751410489434, 0.027993049388089275, 0.00890687935075568, 0.09797567285831246, 0.11960666556729053, 0.45934049223182855, 0.03308269473137823, 0.003817234007466719, 0.7100013088621362, 0.13040840366855563, 0.15938804892823466, 0.6284507849616532, 0.3713572820227951, 0.9993211944902044, 0.9193688174122543, 0.05746055108826589, 0.011492110217653178, 0.011492110217653178, 0.991581799434874, 0.9997933932470798, 0.9985649886265585, 0.006634735181027567, 0.04504635991329243, 0.1791378498877443, 0.009079111300353514, 0.008380718123403243, 0.5545241824985145, 0.19729607248845135, 0.9996553765385003, 0.04644115664026647, 0.06501761929637306, 0.040249002421564276, 0.08359408195247965, 0.021672539765457684, 0.04334507953091537, 0.6099271905421663, 0.04334507953091537, 0.04644115664026647, 0.32862030086539157, 0.018045623457926128, 0.13296775179524514, 0.020894932424967094, 0.1320179821395648, 0.08357972969986838, 0.01614608414656548, 0.06743364555330289, 0.18330554354630224, 0.013296775179524514, 0.00379907862272129, 0.9915657276219048, 0.14697183257394603, 0.012904843835761114, 0.08101374185783367, 0.011470972298454323, 0.12546375951434416, 0.029394366514789206, 0.03441291689536297, 0.1656121625589343, 0.008603229223840743, 0.09965407184282193, 0.1498395756485596, 0.0759951914772599, 0.05878873302957841, 0.1359964984521431, 0.5207670794386943, 0.05141331039044434, 0.018243432719189927, 0.0563887920411325, 0.06136427369182066, 0.0033169877671254413, 0.12438704126720404, 0.02819439602056625, 0.9873211334613256, 0.9986725870331611, 0.03286365258970768, 0.413904381264967, 0.13411923083907729, 0.18297060631026438, 0.012434895574483986, 0.06839192565966193, 0.15543619468104983, 0.19349415316560234, 0.016124512763800197, 0.7901011254262096, 0.6795242365768831, 0.15531982550328757, 0.04853744546977737, 0.11648986912746569, 0.9937002559423056, 0.045552498177218154, 0.12423408593786768, 0.10974010924511646, 0.02898795338550246, 0.14701033502647676, 0.06832874726582723, 0.47623066276182613, 0.08199504591269097, 0.13541606067398962, 0.23977339183559632, 0.003727047541485953, 0.21616875740618527, 0.3230107869287826, 0.150531190459093, 0.7150231546806917, 0.09677005100941692, 0.03763279761477325, 0.9748923122106871, 0.05714564053614024, 0.15715051147438566, 0.00204091573343358, 0.7551388213704245, 0.02857282026807012, 0.8405481644530266, 0.15902262570732936, 0.09997497317106503, 0.8712104804907096, 0.028564278048875725, 0.10973692178439488, 0.8413164003470274, 0.04877196523750883, 0.9968525944236041, 0.9968525944236041, 0.056562956767343534, 0.01967407191907601, 0.9148443442370345, 0.009017282962909838, 0.8768996912647167, 0.12276595677706034, 0.9915222036119191, 0.7202795225905121, 0.06887134877359478, 0.08178472666864381, 0.07461062783806102, 0.033000854620680836, 0.001434819766116558, 0.02008747672563181, 0.004501611443775282, 0.006002148591700377, 0.0015005371479250942, 0.021007520070951316, 0.04501611443775282, 0.032261548680389524, 0.09078249744946819, 0.05551987447322848, 0.11554136039023225, 0.07202578310040451, 0.08177927456191764, 0.0075026857396254705, 0.01800644577510113, 0.02250805721887641, 0.027009668662651694, 0.02250805721887641, 0.3451235440227716, 0.031511280106426974, 0.10888403503418387, 0.008154310993749452, 0.05851917301396666, 0.011032303109190436, 0.04173088567389426, 0.03789356285330628, 0.03981222426360027, 0.23599535346616063, 0.04652753919962923, 0.01582895663492541, 0.25566163292167404, 0.1400622829514612, 0.9972369862060475, 0.997785301831485, 0.998618825929345, 0.9685997256581997, 0.031245152440587086, 0.07496639521224707, 0.8246303473347179, 0.09995519361632943, 0.9915133628959, 0.987368264851322, 0.9747902755449271, 0.9992460369237882, 0.9225783670118459, 0.0768815305843205, 0.10203107110971828, 0.8978734257655209, 0.04994684682919733, 0.9489900897547493, 0.12854160971879397, 0.7712496583127638, 0.09997680755906198, 0.03937405592590996, 0.22049471318509578, 0.05354871605923755, 0.05669864053331034, 0.06929833842960154, 0.5559616696738486, 0.004724886711109195, 0.9916467020634833, 0.997785301831485, 0.9969338283728423, 0.014388189021031221, 0.9640086644090918, 0.02158228353154683, 0.9747771322969981, 0.9999603075665637, 0.02979064773311558, 0.191511306855743, 0.07830684546990381, 0.04511155228157502, 0.017874388639869346, 0.0400045840987552, 0.04596271364537832, 0.02979064773311558, 0.08681845910793683, 0.013618581820852835, 0.12256723638767553, 0.0008511613638033022, 0.2255577614078751, 0.0723487159232807, 0.015089814275300761, 0.06371254916238099, 0.0016766460305889734, 0.04694608885649126, 0.16766460305889735, 0.0377245356882519, 0.18862267844125952, 0.014251491260006275, 0.16095801893654146, 0.3034729315366042, 0.9916103092086928, 0.9747902755449271, 0.9874103151096896, 0.9997597386768935, 0.9987289064343473, 0.13760205960357585, 0.0377162271804982, 0.002279552192227913, 0.0026940162271784428, 0.09470503198619604, 0.020930433765001748, 0.06610701357460948, 0.05408755656104412, 0.02880525042906181, 0.49963639413286354, 0.05553818068337098, 0.9747634403575018, 0.9976476130279647, 0.9965399660640897, 0.8682261749414752, 0.09208459431197465, 0.039464826133703425, 0.9985788982508358, 0.9983198676359851, 0.9993565016687465, 0.9937351670423789, 0.007010498118918381, 0.0035052490594591904, 0.9721224058233489, 0.01752624529729595, 0.2393779808605493, 0.7040528848839686, 0.05632423079071748, 0.10714160746260282, 0.16071241119390423, 0.7321343176611192, 0.9991213883528666, 0.711417799311145, 0.017722151584263397, 0.02531735940609057, 0.005063471881218114, 0.21013408307055173, 0.03038083128730868, 0.9987289064343473, 0.9747551167573526, 0.007247078507134561, 0.17755342342479674, 0.10508263835345114, 0.13407095238198938, 0.050729549549941924, 0.047106010296374644, 0.478307181470881, 0.025312272706440504, 0.05062454541288101, 0.8732734083721974, 0.05062454541288101, 0.9990463098753679, 0.9874103151096896, 0.031125345236284446, 0.17118939879956446, 0.028668081138683042, 0.04341166572429147, 0.7134256763369409, 0.012286320488007018, 0.9748227588637584, 0.042366790957919294, 0.011982526735573134, 0.053921370310079104, 0.01583405318629307, 0.0004279473834133262, 0.05349342292666578, 0.051353686009599143, 0.6744450762594021, 0.028672474688692856, 0.005135368600959914, 0.04193884357450597, 0.020541474403839657, 0.3458824205401607, 0.09023019666265063, 0.05639387291415664, 0.007519183055220886, 0.4060358849819278, 0.09398978819026106, 0.01960789718154623, 0.5931388897417734, 0.19607897181546227, 0.029411845772319343, 0.12254935738466392, 0.03921579436309246, 0.03570704109398078, 0.003400670580379122, 0.05271039399587639, 0.006801341160758244, 0.05679119869233134, 0.03468683991986704, 0.023804694062653852, 0.03808751050024617, 0.09147803861219839, 0.07277435042011321, 0.15473051140725005, 0.1812557419342072, 0.0975992456568808, 0.019723889366198906, 0.032986504629677484, 0.05815146692448299, 0.03944777873239781, 0.9936631817712108, 0.041080619121821475, 0.03464402442070659, 0.1361150467676942, 0.20691758847995792, 0.02593569041331586, 0.017605979623637774, 0.11339765370493578, 0.1664049041847054, 0.0995779062584244, 0.0017038044797068814, 0.007383152745396486, 0.04827446025836164, 0.10109239912927497, 0.902337957393061, 0.02438751236197462, 0.06503336629859899, 0.008129170787324873, 0.998968564555001, 0.0720073595088626, 0.11734532660703535, 0.06667348102672463, 0.24002453169620866, 0.04800490633924173, 0.14934859749986318, 0.04267102785710376, 0.04800490633924173, 0.2160220785265878, 0.9747783724276264, 0.1847579294820388, 0.03574005848996817, 0.08783573696687091, 0.026653602941671174, 0.052095678476902746, 0.26047839238451376, 0.1084317028763441, 0.07087435327671653, 0.12478732286327868, 0.04846109625758395, 0.9988193698006297, 0.04623285182928262, 0.0024333079910148748, 0.07299923973044625, 0.8784241847563699, 0.9959317403233613, 0.6560273086466261, 0.0382151830279588, 0.19744511231112047, 0.10827635191254993, 0.9985108200142415, 0.040940144639951735, 0.3128996768910597, 0.005848592091421676, 0.5468433605479267, 0.07018310509706012, 0.023394368365686705, 0.9747771322969981, 0.9390346530880619, 0.060863357144596605, 0.24310448428299256, 0.643674373158378, 0.08840163064836093, 0.02486295861985151, 0.9915800653855895, 0.5625215275997308, 0.3750143517331539, 0.006944710217280628, 0.016204323840321465, 0.020834130651841885, 0.009259613623040838, 0.009259613623040838, 0.08566082462886765, 0.8851618544982991, 0.02855360820962255, 0.01369612356383521, 0.02739224712767042, 0.9587286494684647, 0.8163433435854217, 0.1814096319078715, 0.9970011865904583, 0.023149729125411276, 0.005787432281352819, 0.0011574864562705638, 0.028937161406764098, 0.063661755094881, 0.8773747338530874, 0.9983617775515051, 0.9949415650792521, 0.16975037998990986, 0.8298907466173371, 0.08994901895315832, 0.738395053892311, 0.058949639539922966, 0.012196477146190958, 0.07699026198533042, 0.021852021553592133, 0.0017786529171528482, 0.9994900513711598, 0.2878240261674125, 0.014573368413539872, 0.03643342103384968, 0.3333658024597246, 0.041898434188927136, 0.20220548673786573, 0.0674018289126219, 0.014573368413539872, 0.001821671051692484, 0.1296218834341053, 0.7406964767663159, 0.1296218834341053, 0.19971695719273164, 0.05874028152727401, 0.013856681796177458, 0.04699222522181921, 0.02409857703683036, 0.0027110899166434155, 0.005422179833286831, 0.003916018768484934, 0.0006024644259207591, 0.21718842554443363, 0.41298936396868036, 0.013856681796177458, 0.2614053389739911, 0.027475035627896962, 0.007850010179399132, 0.05730507430961366, 0.018055023412618002, 0.0023550030538197395, 0.03218504173553644, 0.3728754835214588, 0.2205852860411156, 0.17240661271720495, 0.0014926979456035062, 0.07239585036177004, 0.026868563020863108, 0.0238831671296561, 0.11120599694746121, 0.030600307884871874, 0.48587318129394125, 0.0052244428096122715, 0.07015680344336478, 0.9747902755449271, 0.45594450202095654, 0.009051007484286978, 0.3088656304012931, 0.022627518710717446, 0.009051007484286978, 0.01583926309750221, 0.08711594703626216, 0.012445135290894594, 0.07919631548751106, 0.5909195911893028, 0.15225826872047785, 0.013125712820730849, 0.002887656820560787, 0.02178868328241321, 0.16407141025913563, 0.01653839815412087, 0.002887656820560787, 0.02362628307731553, 0.012075655795072382, 0.9748043787994405, 0.025969982076953543, 0.12984991038476773, 0.09089493726933741, 0.7011895160777457, 0.05193996415390709, 0.004902210358390073, 0.7402337641169011, 0.009804420716780147, 0.24511051791950367, 0.9949222170804584, 0.9989116520921579, 0.9997830416900363, 0.999434594808441, 0.037005759195943885, 0.9621497390945409, 0.9985265604643473, 0.9995304038543947, 0.15787819135907374, 0.8420170205817267, 0.2222233027937851, 0.7777815597782479, 0.9994521164351955, 0.9747551167573526, 0.3805840964030634, 0.4757301205038293, 0.14271903615114878, 0.41954339871146534, 0.18822757888136013, 0.01587461508637977, 0.05215944956953353, 0.0226780215519711, 0.02721362586236532, 0.0929798883630815, 0.04989164741433642, 0.08390867974229307, 0.04762384525913931, 0.16899322374848993, 0.8308833500967422, 0.0029586728907648806, 0.10059487828600594, 0.04438009336147321, 0.026628056016883925, 0.8047590262880475, 0.020710710235354163, 0.9996228549347285, 0.991527529434698, 0.1043392239875627, 0.8521036625650953, 0.043474676661484454, 0.6224488124729692, 0.07142855225099648, 0.2857142090039859, 0.020408157785998995, 0.24986770549030687, 0.08328923516343562, 0.6663138813074849, 0.21584961850086495, 0.2638162003899461, 0.06355572100303246, 0.1870696693674163, 0.022784126397313524, 0.022784126397313524, 0.1175181256282487, 0.01918663275563244, 0.08753901194757302, 0.9937093047434244, 0.024385824506828125, 0.9510471557662968, 0.024385824506828125, 0.3359276374715419, 0.1256523224130195, 0.03333633043610721, 0.08462299264550292, 0.071801327093154, 0.06667266087221442, 0.28207664215167644, 0.9937351670423789, 0.9980960428331175, 0.9874103151096896, 0.016805681902695813, 0.899103981794226, 0.08402840951347906, 0.833127526790696, 0.1666255053581392, 0.9968968265222955, 0.032863456445641634, 0.16541273077639623, 0.047104287572086345, 0.027386213704701363, 0.03395890499382969, 0.0032863456445641637, 0.6364556064972597, 0.053676978861214676, 0.025628903240083864, 0.07688670972025159, 0.8970116134029352, 0.9970011865904583, 0.9990198367222479, 0.9978828850661592, 0.9969338283728423, 0.011125911950948756, 0.011125911950948756, 0.12732988121641353, 0.06304683438870962, 0.20521126487305483, 0.5822560587663183, 0.061674919223896035, 0.03964816235821888, 0.04405351373135431, 0.224672920029907, 0.0572695678507606, 0.572695678507606, 0.19985475214129197, 0.7994190085651679, 0.04756596032966861, 0.9513192065933722, 0.9989117050113371, 0.9975801674387863, 0.04650580256706757, 0.8836102487742838, 0.03487935192530068, 0.03487935192530068, 0.13746709930335638, 0.11364893292951035, 0.05079105677071802, 0.009385303968502243, 0.044245004422939146, 0.06885185180254166, 0.10836477019094186, 0.029338933414141465, 0.21988426440490969, 0.019638157043336626, 0.015615883913978522, 0.06041296504094721, 0.01569475201455417, 0.04306198291430441, 0.050002375764961526, 0.013723049500162943, 0.0037737326297540975, 0.007547465259508195, 0.10566451363311473, 0.011321197889262292, 0.052832256816557364, 0.7207829322830326, 0.09811704837360653, 0.06655970578901312, 0.9318358810461835, 0.214814067703704, 0.15163345955555577, 0.03429804442328047, 0.41518685354497414, 0.014441281862433883, 0.012636121629629649, 0.15704894025396848, 0.9663415934064643, 0.033322123910567734, 0.9419544577462577, 0.057670681086505575, 0.9979583063029127, 0.9748111941340664, 0.2701152015242837, 0.7298857573102986, 0.998880830220009, 0.9907613256775246, 0.009173715978495598, 0.09993657336609055, 0.8994291602948149, 0.9959256687528538, 0.998793759510892, 0.07691348820270914, 0.9229618584325098, 0.02870934122828858, 0.971332711557097, 0.974847647409426, 0.9873141420799069, 0.08180993165861505, 0.23633980256933237, 0.6817494304884588, 0.09085799151519953, 0.2725739745455986, 0.45428995757599766, 0.09085799151519953, 0.09085799151519953, 0.10705975209012977, 0.8921646007510815, 0.9747551167573526, 0.8909491834241724, 0.10865233944197225, 0.31413778622807126, 0.18912376925975716, 0.06410975229144311, 0.05529466135136968, 0.15787026501767865, 0.004808231421858233, 0.008815090940073428, 0.12020578554645583, 0.016828809976503815, 0.030452132338435477, 0.03846585137486586, 0.22971858135622392, 0.03238054471244645, 0.006720490412017189, 0.029936730017167477, 0.022605285931330543, 0.055596784317596744, 0.05681869166523623, 0.08370065331330499, 0.2590443576995716, 0.07514730187982857, 0.08553351433476422, 0.017106702866952844, 0.045821525536480834, 0.9748043787994405, 0.009179900927901972, 0.3430384030952842, 0.06909083329947273, 0.012078817010397331, 0.006764137525822505, 0.021741870618715197, 0.006764137525822505, 0.005314679484574826, 0.1347995978360342, 0.16765398010431495, 0.1575077738155812, 0.05556255824782772, 0.010629358969149651, 0.9980851277355461, 0.45521018244532674, 0.1362181985347758, 0.018967090935221947, 0.027588495905777378, 0.010345685964666517, 0.35175332279866156, 0.0005821496661598331, 0.12050498089508546, 0.2788496900905601, 0.010478693990876998, 0.05588636795134398, 0.08848674925629464, 0.01280729265551633, 0.09605469491637247, 0.03260038130495066, 0.012225142989356496, 0.02736103430951216, 0.02968963297415149, 0.15310536220003612, 0.08150095326237664, 0.047569391189611045, 0.9038184326026099, 0.047569391189611045, 0.04198314547870523, 0.011995184422487207, 0.05397832990119243, 0.529287512642248, 0.36285432878023804, 0.05260091990196272, 0.946816558235329, 0.9998841951420467, 0.9994828391320001, 0.9992024618601351, 0.9984185745052399, 0.998880830220009, 0.9613135437058699, 0.03845254174823479, 0.9573902956070408, 0.041625665026393074, 0.9990787835259803, 0.9747751545124793, 0.038299305858992196, 0.14468626657841496, 0.18724105086618406, 0.17873009400863024, 0.45108071345035256, 0.011622612667283618, 0.015690527100832886, 0.09298090133826895, 0.15458074847487213, 0.09821107703854658, 0.016271657734197066, 0.19932780724391405, 0.0732224598038868, 0.016852788367561246, 0.07147906790379426, 0.09995446893863913, 0.025569747868023962, 0.09356203197163314, 0.03079992356830159, 0.9647430831910119, 0.03445511011396471, 0.9982384076594832, 0.9872636075881539, 0.02173631656212596, 0.08694526624850384, 0.8911889790471643, 0.999576369998933, 0.9937146555022482, 0.9993048284430468, 0.6249878158991041, 0.31817561536681666, 0.05681707417264583, 0.05548489868772412, 0.94324327769131, 0.8075812995142433, 0.07691250471564222, 0.03845625235782111, 0.07691250471564222, 0.9872809114289648, 0.12099536984923873, 0.022056447628767475, 0.01008294748743656, 0.683119692273827, 0.006932026397612635, 0.00630184217964785, 0.01638478966708441, 0.1342292384264992, 0.9278406426212454, 0.07137235712471118, 0.09206334975282712, 0.03973957543287501, 0.07947915086575003, 0.3252021922923605, 0.03311631286072918, 0.23909977885446468, 0.17882808944793757, 0.012584198887077088, 0.08600908181034858, 0.21502270452587147, 0.6450681135776144, 0.05375567613146787, 0.011909656447707926, 0.0024360660915766215, 0.2741927723074575, 0.5237542096889736, 0.06442041442169287, 0.06063097827924035, 0.03735301340417486, 0.012992352488408647, 0.011368308427357567, 0.0010826960407007205, 0.014287582305630327, 0.045720263378017045, 0.9401229157104755, 0.987368264851322, 0.9915657276219048, 0.9978093594700141, 0.0022473183771847165, 0.017812946238017872, 0.00508941321086225, 0.9746226298801208, 0.002544706605431125, 0.027287178019013494, 0.25637255627166167, 0.022210493736406333, 0.015864638383147382, 0.016499223918473277, 0.4124805979618319, 0.024748835877709915, 0.03934430319020551, 0.012691710706517905, 0.008884197494562533, 0.03236386230162066, 0.04759391514944214, 0.008884197494562533, 0.05901645478530826, 0.015864638383147382, 0.09677412923371957, 0.7741930338697566, 0.07373266989235777, 0.050691210550995965, 0.004608291868272361, 0.9936847966118907, 0.02553226478203055, 0.6808603941874813, 0.04680915210038934, 0.17021509854687034, 0.07659679434609165, 0.9998196676084579, 0.7265785020544858, 0.05035692588496437, 0.1510707776548931, 0.0719384655499491, 0.95284956156576, 0.04686145384749639, 0.8321056106507494, 0.0028230894339295993, 0.003528861792411999, 0.003528861792411999, 0.15809300830005757, 0.8906677889644171, 0.03361010524394027, 0.07562273679886561, 0.0019994448808911157, 0.013996114166237809, 0.01159678030916847, 0.026792561403940946, 0.027192450380119172, 0.2543293888493499, 0.08677590783067442, 0.051985566903169, 0.01839489290419826, 0.06638157004558504, 0.10876980152047669, 0.3319078502279252, 0.8125095731955725, 0.16544312576380435, 0.014706055623449276, 0.007353027811724638, 0.9998728819769277, 0.9611368051774293, 0.03875551633779957, 0.9981787839332313, 0.9989225716358462, 0.36158648838145496, 0.05977125258024051, 0.00473435664001905, 0.033732291060135734, 0.09587072196038576, 0.0005917945800023813, 0.16629427698066915, 0.08581021410034528, 0.08462662494034053, 0.0005917945800023813, 0.015978453660064295, 0.011835891600047626, 0.0787086791403167, 0.04790134872930423, 0.011975337182326058, 0.9400639688125956, 0.9987202502893944, 0.022006477329253312, 0.3545488014157478, 0.012225820738474062, 0.3569939655634426, 0.039122626363116995, 0.08558074516931843, 0.07824525272623399, 0.05134844710159106, 0.8101827097477472, 0.0026738703292004855, 0.187170923044034, 0.025210455809151447, 0.701691020021382, 0.05882439688802005, 0.14285924958519153, 0.07142962479259576, 0.6565892763763413, 0.3432171217421784, 0.07130489871206051, 0.9269636832567866, 0.9968968265222955, 0.24319248291258616, 0.12296249136029638, 0.047818746640115255, 0.013662499040032932, 0.45086246832108673, 0.013662499040032932, 0.010929999232026345, 0.09563749328023051, 0.0013662499040032932, 0.9988555092969676, 0.999812663357494, 0.9747783724276264, 0.9983211195094155, 0.1995163643042584, 0.7980654572170336, 0.9958000936268, 0.999283637423079, 0.008298885849900902, 0.9751190873633558, 0.016597771699801804, 0.8781794852945973, 0.12159408257925194, 0.01979967826755044, 0.024891024107777698, 0.00565705093358584, 0.08485576400378761, 0.024891024107777698, 0.12671794091232283, 0.045822112562045304, 0.024891024107777698, 0.004525640746868672, 0.070713136669823, 0.18951120627512566, 0.011879806960530264, 0.17932851459467114, 0.049782048215555395, 0.014708332427323185, 0.12219230016545415, 0.03517501703241323, 0.1457250705628548, 0.819075396611908, 0.015069904839484503, 0.24933842552601634, 0.2726282784597651, 0.07945949824455466, 0.009589939443308321, 0.17398890132859382, 0.03424978372610114, 0.16576895323432955, 0.01444165985228525, 0.8105381592095097, 0.055961431927605346, 0.0018052074815356563, 0.030688527186106155, 0.041519772075320094, 0.03249373466764181, 0.012636452370749594, 0.922534695590531, 0.0322564578877808, 0.045159041042893124, 0.8838283380880608, 0.03571023588234589, 0.08034803073527826, 0.9873019862317588, 0.9937002559423056, 0.9898231595586404, 0.010204362469676705, 0.9997187827338703, 0.02811574289009549, 0.024099208191510423, 0.0495372612825492, 0.15932254304387444, 0.14727293894811924, 0.0682810898759462, 0.2316201676184057, 0.020082673492925352, 0.048198416383020845, 0.11246297156038196, 0.07363646947405962, 0.03748765718679399, 0.9126387539577989, 0.08691797656740942, 0.04756688094003505, 0.951337618800701, 0.8627938584352748, 0.13695140610083725, 0.9937002559423056, 0.10433882037673262, 0.6521176273545789, 0.09564391867867157, 0.04347450849030526, 0.10433882037673262, 0.06926584913611109, 0.030303808997048598, 0.008658231142013886, 0.8614939986303816, 0.030303808997048598, 0.019232355715537847, 0.025643140954050465, 0.9552070005383798, 0.9986249303815286, 0.9873382792330355, 0.15839681490433802, 0.782084273590169, 0.039599203726084505, 0.019799601863042252, 0.10705041082030106, 0.02535404466796604, 0.04507385718749518, 0.7014619024803938, 0.02253692859374759, 0.04789097326171363, 0.04507385718749518, 0.005634232148436898, 0.1378384295208513, 0.8614901845053206, 0.0722573135409454, 0.19870761223759986, 0.05911962016986442, 0.05911962016986442, 0.2758915607927006, 0.20856088226591057, 0.05419298515570905, 0.026275386742161965, 0.044339715127398316, 0.0016422116713851228, 0.16645803127873846, 0.8322901563936923, 0.9937815793982949, 0.011509062217022284, 0.06445074841532479, 0.02992356176425794, 0.10127974750979611, 0.03567809287276908, 0.15076871504299194, 0.12890149683064958, 0.18644680791576101, 0.027621749320853484, 0.04948896753319582, 0.2140685572366145, 0.16835467706110838, 0.11834833733998708, 0.002564427678006221, 0.0006411069195015552, 0.002820870445806843, 0.06077693596874743, 0.032824674278479626, 0.08385678507080342, 0.2207972230763356, 0.00012822138390031104, 0.2347733539214695, 0.059879386281445256, 0.005641740891613686, 0.00871905410522115, 0.7548722794963822, 0.004301266549836936, 0.006451899824755404, 0.04516329877328783, 0.01075316637459234, 0.0537658318729617, 0.03441013239869549, 0.09032659754657565, 0.863233238744071, 0.05754888258293807, 0.07912971355153985, 0.05535936077522875, 0.0020352706167363513, 0.009972826022008122, 0.01078693426870266, 0.15834405398208812, 0.008955190713639946, 0.11723158752401383, 0.16709571763405442, 0.034396073422844335, 0.011397515453723566, 0.013636313132133553, 0.039891304088032487, 0.14104425373982915, 0.12394798055924379, 0.02116681441405805, 0.06350044324217416, 0.021370341475731688, 0.9949698904646381, 0.11582917743897293, 0.26134566506188434, 0.13383623443578804, 0.10755566476476058, 0.17325708894232927, 0.029200632967808303, 0.009733544322602768, 0.0029200632967808305, 0.05158778490979467, 0.08224844952599339, 0.03260737348071927, 0.995072984860422, 0.032966550773882206, 0.06593310154776441, 0.7362529672833693, 0.16483275386941104, 0.9747534133904369, 0.9968780525571955, 0.9980960428331175, 0.993639016298933, 0.059991621455313, 0.8298840967984965, 0.059991621455313, 0.0499930178794275, 0.03392674047866909, 0.21683612392888504, 0.03835196749762593, 0.22716165363978433, 0.36139353988147505, 0.12243128085780584, 0.9915627719759537, 0.9916004888981261, 0.9972369862060475, 0.8197158972704819, 0.09996535332566853, 0.07997228266053481, 0.9489302060963033, 0.049943695057700174, 0.055698311422232895, 0.1341822956990156, 0.032912638567683075, 0.005063482856566627, 0.6734432199233614, 0.09873791570304923, 0.121793100866718, 0.8781923588810719, 0.01103857106034806, 0.12142428166382867, 0.11480113902761983, 0.2384331349035181, 0.02207714212069612, 0.14129370957245518, 0.29583370441732804, 0.055192855301740305, 0.8515481982743933, 0.11107150412274697, 0.03702383470758232, 0.9984696983519579, 0.13363219096458173, 0.7885622357909972, 0.0052923639985972964, 0.052923639985972964, 0.009261636997545269, 0.010584727997194593, 0.12430705424419418, 0.12915018622773422, 0.11462079027711412, 0.017758150606313455, 0.02825160323731686, 0.08879075303156728, 0.097669828334724, 0.15417303480935773, 0.24538535383269502, 0.45409850154960507, 0.13911688197762467, 0.07349571123346209, 0.13649203514785815, 0.028873315127431534, 0.1679901971050562, 0.9747783724276264, 0.9994413753923587, 0.998289731356008, 0.9747751545124793, 0.9979529111726275, 0.21480841638778622, 0.21238683609694248, 0.002279134391382347, 0.05939994007540242, 0.006837403174147041, 0.012392793253141512, 0.006125173676840058, 0.17876960382405285, 0.3068284674398485, 0.0002848917989227934, 0.24896632060890583, 0.17682267088700698, 0.16833518268443065, 0.015560395038056615, 0.3904244573185114, 0.14449672249626913, 0.121681450523174, 0.01901272664424594, 0.6046047072870209, 0.06844581591928538, 0.041827998617341065, 0.38666871174813305, 0.2673265167641414, 0.12172903888367152, 0.14321063398079004, 0.016707907297758836, 0.06444478529135551, 0.06247617420703116, 0.9371426131054674, 0.10203163106593688, 0.816253048527495, 0.0816253048527495, 0.004859040620211037, 0.0016755312483486336, 0.2442924560092308, 0.1313616498705329, 0.08494943429127573, 0.0777446499233766, 0.0055292531195504915, 0.08846804991280786, 0.013069143737119343, 0.00016755312483486337, 0.08528454054094546, 0.1615212123408083, 0.10120208740025748, 0.9873097132223801, 0.8666562565724394, 0.1047606463988663, 0.02857108538150899, 0.9915800653855895, 0.06816814318721284, 0.8293790754444229, 0.10225221478081926, 0.9747634403575018, 0.14511486545780808, 0.02839203889391897, 0.8170597859472238, 0.009464012964639657, 0.9983211195094155, 0.24491937652051918, 0.09648339075050755, 0.05009714519737892, 0.05566349466375436, 0.2541966256311449, 0.048241695375253774, 0.15029143559213676, 0.10019429039475784, 0.06881716104501039, 0.2057034705149767, 0.059841009604356864, 0.04338473196315872, 0.056848959124139016, 0.13314624636969402, 0.3336136285442895, 0.09873766584718882, 0.04080156531974775, 0.9588367850140721, 0.002451353168126213, 0.012256765840631066, 0.05025273994658737, 0.21571907879510674, 0.06986356529159707, 0.0563811228669029, 0.03186759118564077, 0.19978528320228636, 0.06373518237128153, 0.0956027735569223, 0.06496085895534465, 0.013482442424694171, 0.012256765840631066, 0.11153656914974269, 0.11300392594807235, 0.016950588892210853, 0.0998201345874639, 0.49345047663991587, 0.033901177784421706, 0.0018833987658012058, 0.007533595063204823, 0.13372131237188561, 0.02636758272121688, 0.07345255186624702, 0.9747783724276264, 0.0007971234352612083, 0.0006642695293843403, 0.26770062034188913, 0.08343225289067314, 0.18001704246315622, 0.07971234352612083, 0.013285390587686807, 0.06190992013862052, 0.0158096147993473, 0.0035870554586754375, 0.05540007875065398, 0.15995610267574914, 0.07785238884384468, 0.676308169435933, 0.006410503975696047, 0.3173199467969543, 0.2102716824497985, 0.7885188091867443, 0.1504434068839545, 0.5177023119241964, 0.13274418254466572, 0.1415937947143101, 0.05752247910268848, 0.011512071089946587, 0.0695520961684273, 0.6182941514558813, 0.0225444725511454, 0.13094980864814243, 0.06907242653967953, 0.006715374802468843, 0.024463151066136498, 0.019666454778658752, 0.027341168838623146, 0.9774123841308013, 0.022213917821154578, 0.9915047507808139, 0.8887432466652077, 0.020198710151481992, 0.09089419568166897, 0.7375562387903487, 0.2622422182365684, 0.9873097132223801, 0.9949853898071209, 0.9748000614623263, 0.9985141269547834, 0.09971362339661374, 0.005865507258624338, 0.032260289922433856, 0.10264637702592591, 0.3401994210002116, 0.41938376899164015, 0.8860761748641021, 0.0975496706272406, 0.016258278437873433, 0.9949944620287702, 0.9873097132223801, 0.9975039386462783, 0.9986497592547904, 0.9915503346347989, 0.057957123144720755, 0.9418032511017123, 0.04020266474548229, 0.9095852898665369, 0.010050666186370573, 0.04020266474548229, 0.00997625046862359, 0.0012470313085779488, 0.016211407011513336, 0.014964375702935387, 0.05736344019458565, 0.29180532620724003, 0.5636581514772329, 0.044893127108806156, 0.13636221818919342, 0.012986877922780325, 0.012986877922780325, 0.5064882389884326, 0.16233597403475405, 0.1038950233822426, 0.019480316884170488, 0.045454072729731135, 0.9978889805241719, 0.7678418971953024, 0.2303525691585907, 0.07964020102334571, 0.5840281408378685, 0.00884891122481619, 0.327409715318199, 0.05260273724432322, 0.9468492703978179, 0.002114324169147345, 0.15434566434775618, 0.17337458187008228, 0.03382918670635752, 0.12051647764139865, 0.03171486253721017, 0.06765837341271504, 0.41017888881458486, 0.006342972507442034, 0.1163489448285783, 0.00945693393926868, 0.05186984978811003, 0.01003008145073951, 0.039260604535751795, 0.04098004707016428, 0.012895819008093654, 0.031236539375160185, 0.07651519278135568, 0.02321247421456858, 0.09170360183533266, 0.023499047970303992, 0.022352752947362334, 0.2607821177192272, 0.0011462950229416582, 0.006591196381914534, 0.09084388056812641, 0.09141702807959724, 0.15049551531317154, 0.05825632850832447, 0.1941877616944149, 0.029128164254162234, 0.5679992029561636, 0.2418768881235828, 0.09706901431275362, 0.021482486774134, 0.00954777189961511, 0.0350084969652554, 0.085929947096536, 0.05808227905599192, 0.16469906526836064, 0.06524310798070325, 0.03819108759846044, 0.08752124241313851, 0.09547771899615111, 0.9852920456104618, 0.014489588906036204, 0.8664738935705217, 0.13330367593392642, 0.05090403769977125, 0.9132783234370724, 0.03593226190572088, 0.029239941785369074, 0.01169597671414763, 0.2807034411395431, 0.473687056922979, 0.20467959249758352, 0.005141565386745675, 0.08483582888130364, 0.012853913466864188, 0.005141565386745675, 0.015424696160237025, 0.8509290715064092, 0.025707826933728375, 0.04877325770378422, 0.1341264586854066, 0.07315988655567633, 0.6950189222789251, 0.04877325770378422, 0.29389233477286836, 0.7061579710514754, 0.08465333403453754, 0.16401583469191647, 0.7512983395565206, 0.8479240237942341, 0.15141500424897036, 0.9873329969222245, 0.08735096096138584, 0.1415687987994874, 0.7470013213249548, 0.024096816816934024, 0.9872996745284505, 0.9992836997152178, 0.9937876248543713, 0.08370367357008038, 0.04405456503688441, 0.7665494316417887, 0.10573095608852258, 1.0000772049580853, 0.0010122266604105851, 0.9818598605982677, 0.0030366799812317556, 0.0010122266604105851, 0.013158946585337608, 0.06056538855658355, 0.938763522627045, 0.1023534619114569, 0.8267010385156135, 0.02362002967187467, 0.04724005934374934, 0.9748000614623263, 0.1904549540083073, 0.8094335545353061, 0.011626021937274066, 0.1046341974354666, 0.6278051846127995, 0.15113828518456288, 0.1046341974354666, 0.06578221898091828, 0.02631288759236731, 0.9077946219366723, 0.9917372366900234, 0.017065866731368243, 0.044371253501557434, 0.052904186867241555, 0.17748501400622974, 0.0034131733462736485, 0.7048202960055084, 0.06333505651480145, 0.7400201340150486, 0.15667092927345624, 0.04000108832513776, 0.009420897139606912, 0.06503458025406063, 0.0951206711192569, 0.03494848938886436, 0.020057393910130845, 0.14040175737091593, 0.09907136991973721, 0.07293597785502126, 0.05986828182266329, 0.09299337176515211, 0.06321118080768509, 0.04254598708209573, 0.010636496770523933, 0.16988004842065368, 0.024008092710611165, 0.9873019862317588, 0.9985210987129343, 0.9916004888981261, 0.997785301831485, 0.9985649886265585, 0.7601806383669069, 0.1312216578133351, 0.10859723405241527, 0.7860682056642972, 0.06757033286512584, 0.006757033286512584, 0.13288832130141415, 0.006757033286512584, 0.6327532438876368, 0.35187253562531995, 0.015433005948478946, 0.8298301965612114, 0.16596603931224227, 0.9981216173542821, 0.05698165516235817, 0.7863468412405428, 0.07692523446918353, 0.05128348964612235, 0.01994357930682536, 0.008547248274353726, 0.9747771322969981, 0.1044694174125617, 0.8208311368129848, 0.014924202487508816, 0.05969680995003526, 0.9747719848976717, 0.10793518757645368, 0.06427601057923646, 0.23729571201265284, 0.12612651132529418, 0.031127376192460424, 0.04729744174698532, 0.010510542610441183, 0.027893363081555447, 0.28984842506485875, 0.0072765294995362035, 0.0270848598038292, 0.0234465950540611, 0.9748000614623263, 0.9993497825917468, 0.13635355170818989, 0.1022651637811424, 0.03408838792704747, 0.7272189424436794, 0.9995098492934937, 0.9987699700018954, 0.9872874639494716, 0.004367217101584458, 0.31007241421249654, 0.3668462365330945, 0.25329859189189863, 0.06550825652376688, 0.4936950696267291, 0.4936950696267291, 0.030531480984221135, 0.04928653358881412, 0.027478332885799022, 0.02922298894204023, 0.21502885893172885, 0.47890808743821156, 0.07414788239025133, 0.03314846506858295, 0.027478332885799022, 0.03489312112482416, 0.9874103151096896, 0.01618934683278225, 0.023384612091796583, 0.08454436679341841, 0.00539644894426075, 0.8472424842489378, 0.023384612091796583, 0.991201891470053, 0.008137946563793538, 0.0008137946563793539, 0.026314868434455786, 0.14473177638950682, 0.28946355277901364, 0.5394548029063436, 0.04812956500819936, 0.05347729445355484, 0.43851381451914967, 0.4599047323005716, 0.9916103092086928, 0.9996696759892167, 0.05402382234839457, 0.945416891096905, 0.9748279081607264, 0.028247795813309738, 0.1299398607412248, 0.08474338743992921, 0.7174940136580673, 0.039546914138633635, 0.1492166685490485, 0.0298433337098097, 0.8206916770197668, 0.17938904026947025, 0.8200641840890068, 0.1940172438740278, 0.014862270138559999, 0.01583154862585739, 0.0029078354618921735, 0.0473330994630226, 0.009369692043874781, 0.21582600983821912, 0.17527785978627825, 0.04911011002306782, 0.10888228340640695, 0.15007661911654607, 0.010177424116622608, 0.006461856581982608, 0.24480033448954927, 0.7548010313427769, 0.9270748073136383, 0.07131344671643372, 0.9995413142207173, 0.23077856640213165, 0.14359555242799305, 0.6256663355791126, 0.7666419789022564, 0.006666451990454403, 0.11332968383772485, 0.11332968383772485, 0.00724632153785113, 0.2681138969004918, 0.01449264307570226, 0.6449226168687506, 0.06521689384066018, 0.9994878066421375, 0.015621129821131527, 0.9685100489101547, 0.015621129821131527, 0.06518937685408323, 0.847461899103082, 0.08691916913877763, 0.03867533375219834, 0.8563823902272489, 0.027625238394427386, 0.06630057214662573, 0.011050095357770955, 0.9988017052958201, 0.9873329969222245, 0.8542694744228534, 0.03635189252863206, 0.10905567758589618, 0.23056924548828608, 0.7685641516276203, 0.2916571620981093, 0.6666449419385356, 0.04166530887115848, 0.9968786551028915, 0.9975407576851189, 0.8885517873820563, 0.05553448671137852, 0.05553448671137852, 0.9747771322969981, 0.18238805295335828, 0.05167661500345151, 0.05471641588600749, 0.6505173888669779, 0.06079601765111942, 0.5781769874003451, 0.04861548242405304, 0.3732974543275501, 0.9990198367222479, 0.999384926015319, 0.9979720821073692, 0.9747551167573526, 0.9570866316974005, 0.042537183630995574, 0.9747771322969981, 0.9462038912084015, 0.05256688284491119, 0.04195861111651063, 0.8077032639928295, 0.034965509263758854, 0.07692412038026948, 0.03846206019013474, 0.9949708155795004, 0.9958054655050169, 0.9992408283840322, 0.7451943803182192, 0.06369182737762556, 0.1910754821328767, 0.9958584557776881, 0.10513199405777583, 0.8936219494910945, 1.0000358460526801, 0.6891662926216852, 0.06891662926216852, 0.2412082024175898, 0.12854387828698546, 0.8712418417229015, 0.9979970015926093, 0.9958000936268, 0.1914085543562205, 0.8081694517262644, 0.9986094257101824, 0.04427512403837141, 0.08612421388285946, 0.21470402615867779, 0.019408273551066918, 0.0018195256454125236, 0.049733700974608976, 0.06428990613790916, 0.0048520683877667295, 0.17164191921724806, 0.03578400435977963, 0.3074998340747165, 0.25861134142066433, 0.005746918698236985, 0.72411175597786, 0.01149383739647397, 0.9747902755449271, 0.06446962201534626, 0.9025747082148476, 0.03223481100767313, 0.9979300634676737, 0.8851634724803277, 0.11421464161036486, 0.11070500857698573, 0.024392629008488383, 0.018763560775760295, 0.05816703840485691, 0.03565076547394456, 0.03752712155152059, 0.0506616140945528, 0.3264859574982291, 0.13885034974062618, 0.0769305991806172, 0.0318980533187925, 0.09006509172364942, 0.058822472625123134, 0.6058714680387682, 0.12352719251275858, 0.21176090145044327, 0.19504070552418018, 0.8045429102872432, 0.04132124022896025, 0.6198186034344038, 0.14049221677846485, 0.19834195309900918, 0.18000870618295242, 0.12000580412196829, 0.012000580412196829, 0.6600319226708256, 0.024001160824393658, 0.004000193470732276, 0.9937876248543713, 0.9937815793982949, 0.03330977745366013, 0.9659835461561438, 0.05166111889535628, 0.6715945456396316, 0.011070239763290631, 0.044280959053162525, 0.1439131169227782, 0.07749167834303441, 0.9747783724276264, 0.3271943662973098, 0.011685513082046779, 0.0399255030303265, 0.037977917516652034, 0.025318611677768024, 0.08471996984483915, 0.03603033200297757, 0.009737927568372317, 0.021423440650419096, 0.28824265602382054, 0.11782892357730503, 0.07407800190448074, 0.01424576959701553, 0.4900544741373342, 0.005698307838806212, 0.07407800190448074, 0.06553054014627144, 0.03134069311343416, 0.03988815487164348, 0.03134069311343416, 0.17379838908358947, 0.7313246272237454, 0.088645409360454, 0.024931521382627685, 0.12188743787062424, 0.013850845212570935, 0.01108067617005675, 0.008310507127542562, 0.7649644867379694, 0.01282063385594362, 0.0641031692797181, 0.12393279394078832, 0.034188356949182985, 0.978421432692918, 0.02127003114549822, 0.9994260645342038, 0.07975620990591333, 0.030675465348428202, 0.01840527920905692, 0.14724223367245537, 0.7239409822229056, 0.006419014546504749, 0.2477739614950833, 0.08858240074176553, 0.10013662692547408, 0.047500707644135144, 0.0012838029093009498, 0.48014228807855525, 0.028243664004620896, 0.9968780525571955, 0.06109588159392171, 0.0032155727154695637, 0.012862290861878255, 0.06431145430939127, 0.06109588159392171, 0.04823359073204345, 0.7492284427044082, 0.1405594960001859, 0.013682782796478275, 0.3582401313987039, 0.022390008212418995, 0.0062194467256719435, 0.022390008212418995, 0.04851168446024116, 0.022390008212418995, 0.11443781975236376, 0.25126564771714655, 0.019145657253647076, 0.10473800732877518, 0.2477673291648445, 0.0090097210605398, 0.0067572907954048505, 0.4640006346177997, 0.14866039749890672, 0.9748923122106871, 0.08769297593064879, 0.9120069496787473, 0.702409822245993, 0.17353654431959828, 0.09916373961119901, 0.024790934902799752, 0.9974987753577973, 0.9873585283819226, 0.9985512489637345, 0.041026599030923545, 0.02131251897710314, 0.0026640648721378926, 0.1486548198652944, 0.005328129744275785, 0.05594536231489575, 0.0346328433377926, 0.04582191580077176, 0.012787511386261885, 0.6319161876711081, 0.9959317403233613, 0.9872861917860566, 0.34921066470369655, 0.269041679421525, 0.009511574525003409, 0.2636064939786659, 0.08288657800360114, 0.02581713085358068, 0.16117340895214413, 0.2322550149515513, 0.08843874234809959, 0.0272754999765167, 0.2173774695098149, 0.05868365146462683, 0.019836727255648508, 0.11902036353389105, 0.0752142575110006, 0.0008265303023186878, 0.0024645870368321613, 0.07640219814179701, 0.17449276220771703, 0.033025466293550965, 0.0044362566662978905, 0.01725210925782513, 0.2765266655325685, 0.4091214481141388, 0.00640792629576362, 0.9958439940211089, 0.9990930796483213, 0.993639016298933, 0.1479153191634779, 0.026893694393359615, 0.07227680368215396, 0.2437241054398215, 0.02857455029294459, 0.18489414895434733, 0.12606419246887318, 0.139511039665553, 0.030255406192529567, 0.9747534133904369, 0.05658432904547561, 0.09430721507579268, 0.8487649356821342, 0.9748571386980743, 0.9134359340295792, 0.07406237302942534, 0.012343728838237557, 0.9977339771931323, 0.14749870571295048, 0.819437253960836, 0.03277749015843344, 0.9916527215732472, 0.16989353737365037, 0.022769236967602628, 0.04378699416846659, 0.0017514797667386637, 0.05429587276889858, 0.0052544393002159915, 0.05955031206911457, 0.05254439300215991, 0.5902486813909297, 0.9748295841134266, 0.11358644975241332, 0.20445560955434397, 0.6815186985144799, 0.9996486811300195, 0.9873019862317588, 0.9958889611551095, 0.008332962970758495, 0.9499577786664685, 0.041664814853792476, 0.8449805697219075, 0.14083009495365123, 0.014083009495365124, 0.995072984860422, 0.3304969999085394, 0.5762511793277099, 0.01694856409787382, 0.06779425639149528, 0.00847428204893691, 0.9986163987991782, 0.8719942985988901, 0.12760892174617905, 0.02450371666259383, 0.2087353641628363, 0.0571753388793856, 0.04900743332518766, 0.04900743332518766, 0.029948987032059123, 0.15156002528345072, 0.09710732158879776, 0.04628479814045501, 0.18423164750024248, 0.03176407715521422, 0.07078851480304883, 0.8163849305838586, 0.1814188734630797, 0.09444354251349957, 0.1499985675214405, 0.6333272850905265, 0.12222105501747003, 0.15986357162550077, 0.7193860723147535, 0.11989767871912559, 0.06663680723236202, 0.08884907630981603, 0.8440662249432523, 0.2552856348842352, 0.2516256257819523, 0.07228517977008811, 0.05947514791209781, 0.007320018204565885, 0.03111007736940501, 0.2772456894979329, 0.04575011377853678, 0.9992592600958584, 0.6167103540221501, 0.38336049033809333, 0.010100479020610387, 0.10100479020610387, 0.6363301782984544, 0.25251197551525967, 0.045866795238271, 0.9540293409560369, 0.0006869091612849979, 0.009616728257989971, 0.2946840301912641, 0.011334001161202466, 0.027476366451399916, 0.014081637806342457, 0.496978778189696, 0.04396218632223987, 0.02988054851589741, 0.07143855277363978, 0.12984558337616575, 0.0519382333504663, 0.8180271752698443, 0.9987484027732654, 0.7700853988410375, 0.09457189108574146, 0.13510270155105922, 0.19951664018136112, 0.7980665607254445, 0.1996833960968976, 0.7987335843875903, 0.9949415650792521, 0.9872841629151098, 0.1535613895637865, 0.8445876426008259, 0.2339187669113404, 0.04535159766648436, 0.05489930243837581, 0.011934630964864306, 0.2219841359464761, 0.0011934630964864307, 0.10383128939431946, 0.15037635015729026, 0.06325354411378083, 0.09905743700837374, 0.014321557157837167, 0.9679580447347227, 0.031910704771474376, 0.995780712223403, 0.012616077373032842, 0.11010394798283209, 0.16114171553737405, 0.023511780558833933, 0.013762993497854011, 0.05390505786659488, 0.017203741872317515, 0.11870581891899085, 0.06938842555168064, 0.1806392896593339, 0.011469161248211675, 0.06652113523962772, 0.16114171553737405, 0.1373592723547956, 0.07692119251868552, 0.7856950378694307, 0.16208513220608203, 0.8374398497314238, 0.015870271999975486, 0.98395686399848, 0.9936857193385558, 0.01315597981411375, 0.9866984860585313, 0.13923788351109467, 0.10126391528079612, 0.5949255022746772, 0.1645538623312937, 0.485983574777423, 0.018691675952977806, 0.4953294127539119, 0.9229744438594596, 0.0769145369882883, 0.9747551167573526, 0.9747719848976717, 0.008475613016075792, 0.23816472575172976, 0.014408542127328845, 0.004237806508037896, 0.011865858222506109, 0.0364451359691259, 0.06356709762056843, 0.10764028530416256, 0.18561592505205984, 0.2288415514340464, 0.024579277746619797, 0.03390245206430317, 0.026274400349834953, 0.004237806508037896, 0.011865858222506109, 0.05234412525548561, 0.02479458564733529, 0.9146447149905906, 0.008264861882445096, 0.9981255953116979, 0.05263033288984321, 0.7894549933476481, 0.05263033288984321, 0.0717686357588771, 0.02870745430355084, 0.004784575717258473, 0.16483493349755268, 0.012568059445561202, 0.038670952140188314, 0.03480385692616948, 0.11166237430479375, 0.01836870226658945, 0.13583171939241145, 0.06235691032605366, 0.051722398487501875, 0.07009110075409132, 0.04205466045245479, 0.0618735234243013, 0.12616398135736437, 0.04737191637173069, 0.017885315364837097, 0.0038670952140188314, 0.013158835001522255, 0.6079381770703283, 0.11579774801339585, 0.10000714601156914, 0.010527068001217804, 0.02105413600243561, 0.1026389130118736, 0.02894943700334896, 0.003041740655379484, 0.3443250421889576, 0.003041740655379484, 0.0042584369175312775, 0.006083481310758968, 0.5986145609786825, 0.04075932478208509, 0.7817314765600974, 0.11816871157303799, 0.07271920712186954, 0.027269702670701074, 0.07691919722718632, 0.032965370240222704, 0.890064996486013, 0.6939598814719354, 0.1639275310563627, 0.021857004140848364, 0.12021352277466599, 0.9076969070886831, 0.03946508291689926, 0.05262011055586569, 0.9747551167573526, 0.006992823246272563, 0.034964116231362814, 0.9580167847393412, 0.995072984860422, 0.005128322038697147, 0.9948944755072466, 0.93244592322783, 0.06740572938996361, 0.01265653618101347, 0.8479879241279025, 0.13922189799114817, 0.14261733917678426, 0.8557040350607056, 0.9950010701975183, 0.015352298032763502, 0.28730729175600267, 0.677694298874846, 0.01973866889926736, 0.9177244481897671, 0.0822787436308067, 0.10712240876610922, 0.8926867397175768, 0.0852296207922141, 0.2900069840230648, 0.0018856110794737634, 0.03167826613515923, 0.04261481039610705, 0.02677567732852744, 0.002262733295368516, 0.027907043976211698, 0.3073546059542234, 0.03658085494179101, 0.13123853113137393, 0.01659337749936912, 0.29692002748110746, 0.5649728300682184, 0.07629195150556234, 0.014433612446998279, 0.04123889270570937, 0.0061858339058564055, 0.8528684472587084, 0.14704628401012212, 0.9747719848976717, 0.8746300644204472, 0.12494715206006389, 0.9550967647633372, 0.04442310533782964, 0.954077281670701, 0.04543225150812862, 0.9432152091207125, 0.05548324759533603, 0.03582945207290728, 0.278846605263061, 0.6698549735369622, 0.015578022640394469, 0.9565341409623387, 0.03623235382433101, 0.007246470764866202, 0.9985819195393251, 0.0020244729223336836, 0.24293675068004206, 0.7409570895741282, 0.008097891689334735, 0.006073418767001051, 0.9762726660083775, 0.02324458728591375, 0.02778010829576789, 0.1688175811819741, 0.038464765332601694, 0.5791084113963921, 0.18591303244090818, 0.01298757932808081, 0.9870560289341416, 0.00800048268965006, 0.04800289613790037, 0.024001448068950184, 0.4560275133100535, 0.2520152047239769, 0.21201279127572661, 0.06944576106068678, 0.9027948937889283, 0.027778304424274716, 0.16632871358392848, 0.8316435679196424, 0.9989561200355263, 0.9984131139350851, 0.14802536088274537, 0.03700634022068634, 0.8141394848550996, 0.2283313857356834, 0.7401086296260082, 0.03149398423940461, 0.028135622922111102, 0.0358089746281414, 0.892666581801525, 0.0025577839020101004, 0.040924542432161606, 0.9057381108603252, 0.09369704595106813, 0.987368264851322, 0.02234814361716234, 0.09218609242079465, 0.16481755917657226, 0.008380553856435878, 0.05587035904290585, 0.08939257446864936, 0.06704443085148702, 0.4385823184868109, 0.06145739494719643, 0.17622495931834065, 0.8223831434855897, 0.018471269981883195, 0.01055501141821897, 0.029026281400102164, 0.02111002283643794, 0.9209247462396051, 0.502519668922491, 0.45729289871946677, 0.04020157351379928, 0.017701113024211176, 0.2035627997784285, 0.7788489730652917, 0.9747902755449271, 0.8651450567915963, 0.1348278010584306, 0.17008197595841112, 0.2607923631362304, 0.004535519358890964, 0.020409837115009336, 0.17008197595841112, 0.26306012281567587, 0.018142077435563855, 0.054426232306691566, 0.03855191455057319, 0.9975510057194049, 0.22086893764810636, 0.04908198614402364, 0.6073895785322925, 0.07362297921603546, 0.02454099307201182, 0.02454099307201182, 0.06435676759644203, 0.1612617854715444, 0.012575460334936948, 0.07101436424434983, 0.1864127061414183, 0.05917863687029152, 0.10430234748388881, 0.1279738022320054, 0.002219198882635932, 0.05030184133974779, 0.16052205251066576, 0.9975814174577639, 0.9983651100279654, 0.8317069230053421, 0.16634138460106843, 0.9979301162829015, 0.38950626902060587, 0.04000334654806222, 0.01263263575201965, 0.005263598230008187, 0.013685355398021288, 0.05474142159208515, 0.11895731999818503, 0.011579916106018011, 0.007369037522011462, 0.018948953628029473, 0.23475648105836516, 0.046319664424072045, 0.046319664424072045, 0.9968664036797759, 0.9997756598490302, 0.9716108642878806, 0.02776031040822516, 0.08693596741817428, 0.9128276578908299, 0.019085697569601538, 0.04580567416704369, 0.1450513015289717, 0.3549939747945886, 0.04580567416704369, 0.02671997659744215, 0.18703983618209505, 0.04198853465312338, 0.03053711611136246, 0.06107423222272492, 0.04198853465312338, 0.9995559054282538, 0.03883043164580341, 0.9416379674107326, 0.019415215822901705, 0.9462371332849565, 0.05256872962694203, 0.8854733400697662, 0.01428182806564139, 0.09997279645948973, 0.9368929739011892, 0.06245953159341261, 0.9949853898071209, 0.9747771322969981, 0.03331021684084441, 0.965996288384488, 0.05355931453533003, 0.9462145567908304, 0.9119533688301175, 0.08768782392597284, 0.03739440988273352, 0.0031773028004936977, 0.001710855354111991, 0.6735881937046639, 0.04448223920691177, 0.026640461942601005, 0.012464803294244507, 0.0012220395386514224, 0.15373257396234893, 0.017597369356580482, 0.015153290279277636, 0.012953619109705076, 0.9979823390058661, 0.9748923122106871, 0.16623263776880923, 0.5764518890369997, 0.08043514730748834, 0.09384100519206973, 0.08311631888440461, 0.6508148876753075, 0.003174706769147841, 0.01904824061488705, 0.31112126337648843, 0.015873533845739207, 0.9985367088930438, 0.15573783341213682, 0.5901644213512554, 0.04098364037161495, 0.07377055266890692, 0.13934437726349083, 0.36875483870884346, 0.005791960817416389, 0.054058300962552965, 0.027029150481276482, 0.0038613072116109263, 0.366824185103038, 0.07915679783802398, 0.04440503293352565, 0.04247437932772019, 0.007722614423221853, 0.9659846420906365, 0.03330981524450471, 0.9748571386980743, 0.9968968265222955, 0.04395614152488912, 0.17033004840894536, 0.027472588453055703, 0.032967106143666845, 0.03846162383427799, 0.6868147113263926, 0.9989925222533618, 0.7995332455369831, 0.19988331138424578, 0.03333477570876123, 0.03636520986410315, 0.38183470357308313, 0.0030304341553419297, 0.47880859654402486, 0.06666955141752245, 1.0000660002100903, 0.15434567722022505, 0.3805783821868563, 0.3446348683136532, 0.07400135209188873, 0.04651513560061577, 0.8993255673864409, 0.09992506304293788, 0.11009660777182972, 0.04527337142019166, 0.04012867012244261, 0.03498396882469356, 0.06070747531343882, 0.14199375581787385, 0.23254049865825718, 0.07511263894713617, 0.030868207786494316, 0.19755652983356362, 0.030868207786494316, 0.9977622089302658, 0.9994459059692214, 0.6180029424390563, 0.12723589991392337, 0.25447179982784673, 0.9988451932429211, 0.031229861491974865, 0.8432062602833214, 0.12491944596789946, 0.28469600121259014, 0.7117400030314753, 0.9987325392889803, 0.9690284899556254, 0.030282140311113294, 0.9775911174592898, 0.02238758284257916, 0.9991764928398739, 0.00878831339426276, 0.007030650715410208, 0.48570078692292185, 0.09667144733689036, 0.00878831339426276, 0.004687100476940139, 0.0023435502384700694, 0.32223815778963455, 0.03691091625590359, 0.026950827742405797, 0.9915222036119191, 0.9968780525571955, 0.9748111941340664, 0.0613025359700692, 0.050793529803771616, 0.010509006166297576, 0.11384756680155708, 0.0017515010277162628, 0.17164710071619374, 0.2347011377139792, 0.03678152158204152, 0.08407204933038061, 0.17515010277162626, 0.059551034942352934, 0.23286058163965684, 0.341827392278727, 0.026868528650729636, 0.07463480180758232, 0.0029853920723032926, 0.295553815158026, 0.008956176216909879, 0.01641965639766811, 0.987261860224059, 0.7042889582301853, 0.06957521223728497, 0.0081099940644688, 0.026037349364873518, 0.007256310478735243, 0.006829468685868464, 0.17585881866111294, 0.0021342089643338947, 0.6912319331885007, 0.0315791238512513, 0.27368574004417795, 0.0035087915390279224, 0.9747783724276264, 0.9995413142207173, 0.9984131139350851, 0.7954668763673176, 0.12662533950336893, 0.04220844650112297, 0.016234017885047296, 0.012987214308037839, 0.006493607154018919, 0.9196133082801498, 0.0799663746330565, 0.0276513464092946, 0.04165657381140485, 0.03447440591288677, 0.0028728671594072308, 0.03303797233318315, 0.14651622512976878, 0.15226195944858323, 0.0280104548042205, 0.05278893405410787, 0.15764858537247178, 0.030165105173775925, 0.02872867159407231, 0.00035910839492590385, 0.05314804244903377, 0.05673912639829281, 0.06930792022069944, 0.06751237824606993, 0.017237202956443386, 0.9975216033180271, 0.9936618931239655, 0.9958067597181188, 0.16534912030989135, 0.06533957173536029, 0.28936096054230986, 0.012001145828943726, 0.014668067124264553, 0.04267074072513325, 0.3840366665261992, 0.02666921295320828, 0.6751352205266261, 0.055838251321751034, 0.2487340286150728, 0.020304818662454923, 0.9977339771931323, 0.9873211334613256, 0.9915657276219048, 0.09081630889473379, 0.007287728491552711, 0.014575456983105422, 0.010651295487653962, 0.01569664598180584, 0.020181401976607508, 0.11548246686614295, 0.08969511989603336, 0.06671074542267481, 0.11940662836159442, 0.001121188998700417, 0.012893673485054796, 0.2959938956569101, 0.1395880303382019, 0.7166546370282332, 0.061110085327988874, 0.08333193453816665, 0.0388882361178111, 0.044443698420355546, 0.055554623025444436, 0.06581049108014254, 0.014891424988937363, 0.2320180086986047, 0.0307435870739352, 0.15419830391770623, 0.1705308345507343, 0.07974117897301942, 0.012969950796816412, 0.03266506126605615, 0.08550560154938228, 0.010087739508634988, 0.11096513459498486, 0.9985367088930438, 0.07665012357707404, 0.012775020596179007, 0.08577513828863048, 0.18006695697471362, 0.1593835902951857, 0.11193351379509225, 0.013991689224386532, 0.013991689224386532, 0.04623340787188593, 0.03650005884622574, 0.02676670982056554, 0.047450076500093454, 0.1885836373721663, 0.7998809010461074, 0.19997022526152686, 0.995828467917552, 0.9989116520921579, 1.0000777701627834, 0.410959432152835, 0.5891730299537223, 0.2901118954182345, 0.20819794847661532, 0.4232220591983656, 0.07850086581905169, 0.9996958464657071, 0.23033913869471304, 0.7677971289823767, 0.0007770848533728361, 0.18960870422297202, 0.059058448856335544, 0.2067045709971744, 0.03807715781526897, 0.057504279149589874, 0.0279750547214221, 0.2626546804400186, 0.062166788269826884, 0.01787295162757523, 0.06138970341645405, 0.01631878192082956, 0.7908477206931575, 0.18954201570331872, 0.019607794727929524, 0.5809271108582422, 0.33195834906185273, 0.004149479363273159, 0.07884010790219002, 0.004149479363273159, 0.9984836053216298, 0.9747551167573526, 0.9996806969354507, 0.08246326800931214, 0.9174038566035977, 0.009804677021785675, 0.9902723792003532, 0.9915813004129089, 0.9748227588637584, 0.8211559792030758, 0.1428097355135784, 0.0357024338783946, 0.0034487504085145885, 0.3483237912599734, 0.006897500817029177, 0.20692502451087533, 0.013795001634058354, 0.4207475498387798, 0.005865602110117735, 0.05279041899105962, 0.6481490331680098, 0.07625282743153056, 0.2170272780743562, 0.9748227588637584, 0.8233260797127754, 0.1470225142344242, 0.029404502846884836, 0.9990670215838814, 0.44975780373869206, 0.018282837550353336, 0.08958590399673134, 0.071303066446378, 0.10238389028197868, 0.047535377630918675, 0.05119194514098934, 0.17003038921828603, 0.9747551167573526, 0.9992776466911905, 0.10022887231980392, 0.41873395546940306, 0.11359272196244444, 0.037864240654148146, 0.10022887231980392, 0.08909233095093681, 0.031182315832827885, 0.1091381054148976, 0.028168562788957966, 0.9718154162190499, 0.1503346505637843, 0.3725684818319872, 0.1045806264791543, 0.0065362891549471435, 0.058826602394524294, 0.17647980718357287, 0.05229031323957715, 0.026145156619788574, 0.05229031323957715, 0.6962760842197462, 0.3036948877979744, 0.9949442670097772, 0.9968780525571955, 0.0597054495754991, 0.03482817891904114, 0.03482817891904114, 0.8707044729760286, 0.17393134551347159, 0.0340300458613314, 0.0151244648272584, 0.0170150229306657, 0.0775128822396993, 0.0359206039647387, 0.4140322246461987, 0.132339067238511, 0.1001995794805869, 0.9622049581257455, 0.037007883004836366, 0.9490285138506709, 0.028710106301364835, 0.022330082678839316, 0.9987255186293322, 0.9873141420799069, 0.06338297329790181, 0.2464893406029515, 0.07042552588655757, 0.6197446278017066, 0.10459401723765903, 0.02840825159541356, 0.07489448147881757, 0.025825683268557782, 0.07360319731538968, 0.15689102585648854, 0.06843806066167812, 0.00710206289885339, 0.08070526021424307, 0.3460641557986743, 0.029053893677127508, 0.004519494571997612, 0.27525781363620627, 0.07615828835784363, 0.01033576770570735, 0.0005439877739845973, 0.09356589712535074, 0.058206691816351915, 0.015503651558561024, 0.05004687520658296, 0.056574728494398124, 0.055758746833421226, 0.0818701599846819, 0.10009375041316591, 0.10689359758797337, 0.019311565976453206, 0.9998674809923601, 0.9992802988118412, 0.831767133648415, 0.026545759584523886, 0.14157738445079407, 0.5563431383061077, 0.43662372879719846, 0.007042318206406427, 0.16226743794456724, 0.02980422329594092, 0.10928215208511671, 0.125840053916195, 0.05629686622566618, 0.0629200269580975, 0.10928215208511671, 0.3444043580864284, 0.9007999502991044, 0.04503999751495522, 0.04503999751495522, 0.009007999502991044, 0.9292812860468338, 0.045453975947942954, 0.015151325315980986, 0.005050441771993662, 0.005050441771993662, 0.05951396387210845, 0.1428335132930603, 0.08331954942095184, 0.05951396387210845, 0.5475284676233978, 0.09522234219537352, 0.01190279277442169, 0.01652764905757808, 0.22312326227730409, 0.5536762434288657, 0.206595613219726, 0.08328664682248371, 0.6940553901873642, 0.22209772485995655, 0.14792747796669847, 0.08333942420659068, 0.43961546268976587, 0.027085312867141973, 0.08958988102208498, 0.03125228407747151, 0.06250456815494301, 0.11875867949439173, 0.053790697795895785, 0.03685658923052119, 0.007968992266058635, 0.4273372102673943, 0.04183720939680783, 0.026895348897947893, 0.07570542652755703, 0.04183720939680783, 0.007968992266058635, 0.0019922480665146586, 0.15738759725465803, 0.05877131796218243, 0.05677906989566777, 0.004980620166286647, 0.22246979481492504, 0.00801692954288018, 0.21645709765776489, 0.03006348578580068, 0.17436821755764395, 0.17837668232908405, 0.17035975278620386, 0.7955184204692464, 0.07386956761500145, 0.017046823295769564, 0.022729097727692753, 0.09091639091077101, 0.008848345380207385, 0.9910146825832272, 0.18865798691069982, 0.8017964443704743, 0.009432899345534991, 0.019045509133395845, 0.980843720369886, 0.0699229732212683, 0.0010594389882010347, 0.0699229732212683, 0.23413601639242868, 0.0762796071504745, 0.15149977531274797, 0.01589158482301552, 0.06462577828026311, 0.024367096728623798, 0.03813980357523725, 0.024367096728623798, 0.17798575001777384, 0.0519125104218507, 0.9680957765906165, 0.031228896019052148, 0.6615577570465546, 0.1969288207022302, 0.003077012823472347, 0.07384830776333633, 0.033847141058195813, 0.01846207694083408, 0.012308051293889387, 0.21510882568785789, 0.7848565261584004, 0.9998083342018315, 0.9852960546117103, 0.014772054791779765, 0.67323505056361, 0.32641699421265935, 0.0053189065202672485, 0.9946355192899755, 0.999411418521326, 0.997360208931475, 0.019991730743072315, 0.9795948064105433, 0.6299209185016181, 0.04724406888762136, 0.09448813777524272, 0.03149604592508091, 0.19685028703175567, 0.060240467796194956, 0.10240879525353143, 0.17469735660896538, 0.6505970521989055, 0.012048093559238991, 0.9915029883716335, 0.9065807358532235, 0.0929826395746896, 0.07058377607604904, 0.929353051667979, 0.12277995697124183, 0.8769996926517274, 0.9987325392889803, 0.02427291609557273, 0.014563749657343637, 0.16991041266900908, 0.42720332328208, 0.3640937414335909, 0.9993357574164193, 0.19558414895400553, 0.8040681679220227, 0.007066254843799713, 0.7435270374531476, 0.030620437656465424, 0.1884334625013257, 0.01334737026051057, 0.017273067395954855, 0.01052494831494855, 0.9893451416051638, 0.8233488292506621, 0.04410797299557118, 0.08821594599114237, 0.04410797299557118, 0.9992213140565556, 0.12894133625194376, 0.03223533406298594, 0.8381186856376345, 0.03702302809588088, 0.01851151404794044, 0.9255757023970219, 0.01851151404794044, 0.2201674346474428, 0.05224312008583388, 0.408615832099915, 0.00932912858675605, 0.1306078002145847, 0.10448624017166776, 0.029853211477619362, 0.04477981721642904, 0.045459378108547686, 0.023925988478182995, 0.004785197695636598, 0.009570395391273197, 0.9163653587144087, 0.9725282546686154, 0.027014673740794873, 0.025805855006470715, 0.012902927503235358, 0.019354391254853037, 0.16128659379044197, 0.11612634752911821, 0.6645007664166209, 0.09368826363890331, 0.9056532151760655, 0.26778894639528567, 0.7319564534804475, 0.005347744513663874, 0.16043233540991622, 0.03208646708198325, 0.10695489027327748, 0.5989473855303539, 0.03208646708198325, 0.016043233540991624, 0.04812970062297487, 0.9591679685316854, 0.03996533202215356, 0.9991644257379522, 0.001890571089186467, 0.16826082693759556, 0.1408475461443918, 0.21647038971185045, 0.07089641584449251, 0.021741567525644368, 0.2372666716929016, 0.043483135051288736, 0.032139708516169936, 0.03403027960535641, 0.017015139802678204, 0.016069854258084968, 0.2278579251945356, 0.05063509448767458, 0.07595264173151187, 0.02531754724383729, 0.12025834940822712, 0.5000215580657864, 0.17194890879086755, 0.04210993684674307, 0.03509161403895256, 0.1274995310081943, 0.007018322807790512, 0.010527484211685768, 0.08421987369348614, 0.003509161403895256, 0.5158467263726026, 0.0023394409359301705, 0.14235226042854654, 0.8541135625712792, 0.7046625392415622, 0.18150398738040238, 0.07829583769350691, 0.03558901713341223, 0.9972627278903137, 0.9936847966118907, 0.6018553260599425, 0.029641697000810874, 0.04381816078380738, 0.10567909365506487, 0.09794647704615768, 0.05670585513198602, 0.023197849826721555, 0.006443847174089321, 0.03479677474008233, 0.9916103092086928, 0.01707828639403419, 0.028819608289932692, 0.046965287583594015, 0.48139419773183867, 0.15583936334556195, 0.03629135858732265, 0.1601089349440705, 0.05123485918210256, 0.02241525089216987, 0.05911459665955272, 0.34976136356902027, 0.5911459665955272, 0.9949482196811529, 0.7691188832106017, 0.025637296107020056, 0.20509836885616045, 0.9937876248543713, 0.11214030576372494, 0.05607015288186247, 0.018690050960620822, 0.8130172167870058, 0.9995259001663103, 0.14598769428825312, 0.3138735427197442, 0.03649692357206328, 0.2773766191476809, 0.10949077071618983, 0.11679015543060249, 0.9873329969222245, 0.09513361402970776, 0.09513361402970776, 0.8086357192525159, 0.11586297151776472, 0.16871274799955213, 0.09553613440938494, 0.03049025566256966, 0.3069352403365346, 0.14838591089117234, 0.1077322366744128, 0.026424888240893705, 0.017701009733114142, 0.07227912307688274, 0.37172120439539696, 0.20356161193081262, 0.048677776766063885, 0.013275757299835605, 0.272890566718843, 0.07998887026278022, 0.8998747904562774, 0.019997217565695054, 0.06240704295697231, 0.9361056443545847, 0.05594342597337188, 0.0011417025708851405, 0.2877090478630554, 0.05822683111514216, 0.019408943705047386, 0.014842133421506826, 0.0268300104158008, 0.016554687277834535, 0.24774945788207547, 0.02454660527403052, 0.07535236967841927, 0.17182623691821364, 0.12359193048828294, 0.6404309125301935, 0.044942520177557434, 0.1910057107546191, 0.00787452304578813, 0.8622602735138002, 0.07480796893498723, 0.023623569137364388, 0.03149809218315252, 0.04128433781345144, 0.07339437833502478, 0.027522891875634295, 0.10550441885659813, 0.7339437833502479, 0.018348594583756195, 0.17585644736758424, 0.08740484139996002, 0.2794861395663392, 0.07693719572331811, 0.0047104405544888634, 0.16224850798794976, 0.13764954064784124, 0.042393964990399775, 0.0005233822838320959, 0.03297308388142205, 0.03273468878856279, 0.05305277148491211, 0.050795206740873296, 0.13319631989828998, 0.02257564744038813, 0.04740885962481507, 0.08578746027347489, 0.08917380738953311, 0.09143137213357193, 0.006772694232116439, 0.027090776928465756, 0.26526385742456055, 0.09481771924963014, 0.9985650415090143, 0.9872874639494716, 0.8972654175970707, 0.07567298702625898, 0.005405213359018498, 0.021620853436073992, 0.9985108200142415, 0.0036633355743914044, 0.19598845322994013, 0.03663335574391405, 0.4853919636068611, 0.18683011429396162, 0.005495003361587107, 0.04579169467989255, 0.04029669131830545, 0.6103889535964702, 0.16646971461721913, 0.2219596194896255, 0.13039268726062278, 0.499838634499054, 0.02173211454343713, 0.17385691634749703, 0.04346422908687426, 0.13039268726062278, 0.8887495183776553, 0.06059655807120377, 0.030298279035601883, 0.020198852690401257, 0.9969350767725516, 0.9987824098838365, 0.7541944989212329, 0.2455516973231921, 0.9936857193385558, 0.005934452779210653, 0.01780335833763196, 0.03560671667526392, 0.849286131069258, 0.04417870402301264, 0.014506440126959374, 0.03296918210672585, 0.9915047507808139, 0.11011223862138801, 0.03737754888982896, 0.04343877303412554, 0.0484897931543727, 0.24648978186806123, 0.014142856336692038, 0.2677040663730993, 0.2293163134592209, 0.0030306120721482937, 0.026300239200904702, 0.973108850433474, 0.07258596063125325, 0.07855822321483737, 0.028942503289676926, 0.049615719925160444, 0.08912453393964007, 0.052372148809891585, 0.20627276154071333, 0.1042848928056613, 0.01607916849426496, 0.18330252083462054, 0.08728691468315264, 0.031698932174408063, 0.1451215613496773, 0.12899694342193538, 0.7256078067483865, 0.021859225973601345, 0.25684590518981576, 0.07377488766090454, 0.13935256558170855, 0.4863677779126299, 0.021859225973601345, 0.15078201823425744, 0.00948977737138683, 0.056411454374355054, 0.008962567517420897, 0.05008493612676383, 0.09806103283766393, 0.07328216970126497, 0.06695565145367376, 0.03637747992364952, 0.0105441970793187, 0.162380635021508, 0.09278893429800457, 0.1687071532690992, 0.015289085765012117, 0.9957824898728197, 0.9749798132863884, 0.8489710812514631, 0.13206216819467206, 0.018866024027810294, 0.9989117050113371, 0.055940993303760664, 0.8391148995564099, 0.10488936244455124, 0.004115680680985024, 0.0397849132495219, 0.05076006173214863, 0.11112337838659564, 0.0397849132495219, 0.11249527194692399, 0.09328876210232721, 0.056247635973461996, 0.03292544544788019, 0.05213195529247697, 0.16462722723940096, 0.10426391058495393, 0.13856124959316246, 0.9999993121648565, 0.9747634403575018, 0.9999255955200232, 0.9992472911210937, 0.020493634752186535, 0.13525798936443115, 0.2295287092244892, 0.0040987269504373074, 0.6107103156151588, 0.9992797655248992, 0.10053883781155304, 0.005291517779555423, 0.007937276669333134, 0.8863292280755334, 0.058741401383441944, 0.9398624221350711, 0.1676380341711151, 0.08953395006866376, 0.7429412878038056, 0.015356929598895959, 0.004799040499654988, 0.034553091597515906, 0.0009598080999309974, 0.07198560749482481, 0.06334733459544584, 0.1458908311895116, 0.055668869795997854, 0.13149370969054666, 0.21403720628461242, 0.10557889099240972, 0.05182963739627386, 0.03167366729772292, 0.0729454155947558, 0.997360208931475, 0.9358117611108465, 0.06380534734846681, 0.013101366266157113, 0.04367122088719038, 0.02183561044359519, 0.11354517430669499, 0.06550683133078557, 0.6638025574852937, 0.03930409879847134, 0.03930409879847134, 0.060964853208966455, 0.07315782385075974, 0.024385941283586583, 0.841314974283737, 0.07992882797344435, 0.91918152169461, 0.7599157034545251, 0.007999112667942369, 0.2319742673703287, 0.9986497592547904, 0.9984061436847653, 0.023102495320259, 0.013201425897290857, 0.0033003564743227143, 0.9604037340279098, 0.9915254830944468, 0.9873097132223801, 0.9972782987499309, 0.9949629682078015, 0.020132604112224835, 0.9797867334616087, 0.02049357791318521, 0.004098715582637042, 0.975494308667616, 0.9165719131732426, 0.0833247193793857, 0.040934134443500775, 0.9531805591843752, 0.005847733491928682, 0.02830088197095818, 0.01415044098547909, 0.10713905317577026, 0.07631130674311938, 0.12179486705358789, 0.026279390401604024, 0.11876262969955664, 0.02375252593991133, 0.10612830739109318, 0.019709542801203017, 0.0025268644616926947, 0.12179486705358789, 0.07327906938908814, 0.02830088197095818, 0.08894562905158285, 0.04295669584877581, 0.0036341095435890106, 0.04552200375653603, 0.06866554348149762, 0.14115646542993104, 0.17596740947904682, 0.06197113116435997, 0.12738510294896216, 0.08167183026907934, 0.013197555710928512, 0.04150535636625344, 0.025438766805123074, 0.05049499576355257, 0.05451164315383516, 0.06828300563480404, 0.04074028067286627, 0.0012478263087738741, 0.029635874833379514, 0.019653264363188518, 0.0018717394631608114, 0.05303261812288965, 0.09389892973523403, 0.4729261710252983, 0.03525109322286195, 0.016221742014060365, 0.004991305235095497, 0.22492069215649083, 0.018093481477221177, 0.02838804852460564, 0.8141355832805024, 0.1480246515055459, 0.03700616287638647, 0.9468092167222016, 0.05260051204012232, 0.9949698904646381, 0.9748923122106871, 0.010637353978135066, 0.010637353978135066, 0.07446147784694547, 0.9041750881414806, 0.9746591026273466, 0.02536287627654805, 0.2627274663246322, 0.021187698897147753, 0.6907189840470168, 0.025425238676577304, 0.9748571386980743, 0.06241325836182215, 0.9361988754273323, 0.9605647248779763, 0.02462986474046093, 0.01477791884427656, 0.9982450588075709, 0.0042739998178915545, 0.32767331937168587, 0.0042739998178915545, 0.6638946383791547, 0.24675889837704135, 0.05627834524388663, 0.6926565568478353, 0.004329103480298971, 0.00723094477777235, 0.06553043704856193, 0.048356943201352594, 0.0980696885485375, 0.13241667624295617, 0.029375713159700174, 0.18574489397902724, 0.03344311959719712, 0.0004519340486107719, 0.08903100757632207, 0.008586746923604666, 0.08089619470132817, 0.041125998423580244, 0.13151280814573463, 0.048356943201352594, 0.890476922494065, 0.10935681504313077, 0.07367525673979232, 0.8104278241377154, 0.11577540344824507, 0.9748291018104155, 0.9993313579961098, 0.012902977427301357, 0.9870777731885538, 0.9063938314474165, 0.014387203673768514, 0.04316161102130554, 0.02877440734753703, 0.007193601836884257, 0.9916527215732472, 0.7206431660860333, 0.16200505284104624, 0.039104667927149096, 0.00558638113244987, 0.07262295472184832, 0.6760460406376306, 0.014084292513283973, 0.07042146256641986, 0.09154790133634581, 0.1056321938496298, 0.042252877539851914, 0.03389621217313008, 0.8813015165013821, 0.0847405304328252, 0.8405532754612708, 0.1135882804677393, 0.04543531218709572, 0.091597394282514, 0.015266232380419, 0.717512921879693, 0.0381655809510475, 0.061064929521676, 0.0686980457118855, 0.0076331161902095, 0.2580010654800101, 0.7256279966625284, 0.016125066592500632, 0.00454298806444074, 0.14537561806210367, 0.17912352939794918, 0.033747911335845496, 0.23623537935091846, 0.02076794543744338, 0.13044865727894123, 0.05451585677328888, 0.06749582267169099, 0.014277962488242325, 0.08696577151929416, 0.026608930091724332, 0.9872586014591179, 0.9989945284794168, 0.030419800256608898, 0.045629700384913346, 0.026617325224532785, 0.19392622663588172, 0.7034578809340808, 0.10352722489300376, 0.017580094793151584, 0.1797076356633273, 0.017580094793151584, 0.007813375463622926, 0.048833596647643286, 0.625070037089834, 0.9603049921040132, 0.039600205859959305, 0.9964581905497597, 0.9989388828226025, 0.9990047521516987, 0.017388988756542396, 0.9824778647446454, 0.025643294993303062, 0.3030571226481271, 0.6527384180113507, 0.01864966908603859, 0.9984450158016802, 0.9326403373295683, 0.06661716695211202, 1.0000992473210926, 0.010594201394929056, 0.38986661133338923, 0.5975129586739988, 0.0021188402789858113, 0.005109516693611519, 0.21704338302862844, 0.008663963089167358, 0.2796905007503001, 0.12551638834306558, 0.04954009663805951, 0.15039751311195645, 0.019327302275834877, 0.14484369061890046, 0.04216123752268484, 0.006220510454166615, 0.02349970616018499, 0.4623912770930517, 0.007602846110648085, 0.018661531362499845, 0.1306307195374989, 0.19490932756388726, 0.11404269165972128, 0.9975814174577639, 0.9998770598451334, 0.9995716302759132, 0.9310123562425704, 0.0689638782401904, 0.9747719848976717, 0.9717265393810499, 0.028247864516890986, 0.07481006697900233, 0.0059060579193949215, 0.10040298462971366, 0.4134240543576445, 0.38783113670693314, 0.017718173758184765, 0.9348336689662081, 0.06447128751491091, 0.9996729718843314, 0.95808286660409, 0.04165577680887348, 0.9985525014175279, 0.9994161267317759, 0.037247092147822985, 0.09863581809516087, 0.7001073801859321, 0.023451872833814474, 0.1103617545120681, 0.015864502211109792, 0.01448498027970894, 0.9748291018104155, 0.49688003609360276, 0.49688003609360276, 0.10778426720177933, 0.08383220782360615, 0.7185617813451955, 0.08982022266814944, 0.9987202502893944, 0.9748043787994405, 0.09357668136225954, 0.3450640125233321, 0.03606601260837086, 0.06628348263160051, 0.18422909143194846, 0.035091255510847325, 0.023394170340564884, 0.1774057917492837, 0.026318441633135497, 0.01267184226780598, 0.9873585283819226, 0.07263160315638617, 0.7821864955303126, 0.08380569594967635, 0.047489894371483266, 0.013967615991612725, 0.998495292025532, 0.03947568340518184, 0.3605445751006608, 0.007895136681036368, 0.028948834497133348, 0.4552862152730972, 0.05526595676725458, 0.01842198558908486, 0.03421225895115759, 0.9747783724276264, 0.994999826636779, 0.993639016298933, 0.9972369862060475, 0.9489066680882168, 0.0499424562151693, 0.005109169626687385, 0.053646281080217545, 0.04470523423351462, 0.04853711145353016, 0.16732530527401185, 0.2605676509610566, 0.04598252664018646, 0.14561133436059048, 0.04981440386020201, 0.17882093693405848, 0.996394830671129, 0.9958439940211089, 0.08325628855517747, 0.9158191741069522, 0.9949442670097772, 0.987261860224059, 0.021279496472831567, 0.006258675433185755, 0.04506246311893743, 0.035048582425840226, 0.001251735086637151, 0.02628643681938017, 0.07134889993831761, 0.21279496472831566, 0.10264227710424638, 0.018776026299557266, 0.4593867767958344, 0.9957824898728197, 0.03401402895349807, 0.0510210434302471, 0.8945689614769992, 0.02040841737209884, 0.20303382210820822, 0.24251262085147093, 0.08083754028382364, 0.041358741540560934, 0.14851548098655973, 0.28387136239203187, 0.02014032293192191, 0.24686281536555713, 0.2600978847208201, 0.006905253576658941, 0.12947350456235515, 0.007480691374713853, 0.05006308843077732, 0.10012617686155464, 0.07077884916075415, 0.007480691374713853, 0.10070161465960956, 0.11560519139545555, 0.8670389354659166, 0.017340778709318334, 0.17388681215653726, 0.06520755455870147, 0.7607548031848506, 0.07317601275955159, 0.06911067871735428, 0.03658800637977579, 0.11789468722372201, 0.01626133616878924, 0.19107069998327358, 0.10569868509713007, 0.39027206805094183, 0.9915627719759537, 0.882911103299509, 0.11685588131905265, 0.9454201226173725, 0.054024007006707, 0.9981474047293735, 0.9998923393410134, 0.9915254830944468, 0.714177107279741, 0.07141771072797409, 0.2142531321839223, 0.9747771322969981, 0.9742035647728218, 0.025636935915074256, 0.9872861917860566, 0.8877267366021153, 0.11096584207526441, 0.1542651827837518, 0.5957827748889725, 0.1861821171528039, 0.06383386873810419, 0.2846936820696826, 0.7117342051742064, 0.9994703817962914, 0.0009054969261316155, 0.11952559424937324, 0.10911237959885967, 0.09281343492849059, 0.04436934938044916, 0.19196534833990248, 0.01992093237489554, 0.021279177764092962, 0.03350338626686977, 0.03305063780380396, 0.007696723872118731, 0.07108150870133181, 0.070628760238266, 0.04165285860205431, 0.09009694415009574, 0.030334147025409118, 0.02218467469022458, 0.2527701407239215, 0.1558673019653838, 0.13072741455161221, 0.018283554482742968, 0.01736937675860582, 0.01874064334481154, 0.02422570968963443, 0.09690283875853772, 0.1608952794481381, 0.026968242862045876, 0.04433761962065169, 0.0530223079999546, 0.28403025940626553, 0.18935350627084369, 0.12426323849024117, 0.4023762008255428, 0.07678404931225168, 0.9214085917470201, 0.5233127974736688, 0.47573890679424435, 0.9747751545124793, 0.9958028002222996, 0.999263443204119, 0.998916830017801, 0.9991193105478107, 0.08390876633775614, 0.7971332802086833, 0.08390876633775614, 0.03496198597406506, 0.0038761676606332233, 0.06201868257013157, 0.46901628693662006, 0.08915185619456414, 0.12016119747962993, 0.12016119747962993, 0.0038761676606332233, 0.1317897004615296, 0.987368264851322, 0.2569610552009928, 0.0014600059954601866, 0.018980077940982425, 0.00876003597276112, 0.07446030576846951, 0.10074041368675288, 0.2058608453598863, 0.01752007194552224, 0.13578055757779736, 0.01606006595006205, 0.10220041968221306, 0.06132025180932784, 0.9872861917860566, 0.1328041136390124, 0.5151189862361694, 0.06438987327952117, 0.01810965185986533, 0.08451170867937154, 0.15292594903886278, 0.022134018939835402, 0.010060917699925183, 0.9225817004996398, 0.07688180837496998, 0.607133703232843, 0.03235991819261346, 0.044687506075513826, 0.033900866677976, 0.0015409484853625456, 0.08012932123885237, 0.041605609104788735, 0.1587176939923422, 0.9872996745284505, 0.026919353389653258, 0.019597289267667573, 0.37450204435685613, 0.03273393372181836, 0.03940993336245237, 0.0413481268065074, 0.04888554575561032, 0.010552386528744077, 0.021104773057488153, 0.00926025756604072, 0.0099063220473924, 0.33229249824187984, 0.015074837898205825, 0.01852051513208144, 0.9995015856900896, 0.0010978519663282019, 0.09112171320524076, 0.002561654588099138, 0.279220350102806, 0.193953847384649, 0.0581861542153947, 0.033667460300731526, 0.02488464457010591, 0.031105805712632387, 0.0808750948528442, 0.11124899925459113, 0.005489259831641009, 0.05855210487083744, 0.028178200469090517, 0.1331337129011991, 0.46596799515419685, 0.19970056935179864, 0.06656685645059955, 0.1331337129011991, 0.04162904254578633, 0.04162904254578633, 0.12488712763735899, 0.7909518083699403, 0.40433235597885586, 0.040433235597885586, 0.08356202023563021, 0.03773768655802655, 0.40702790501871494, 0.005391098079718078, 0.021564392318872312, 0.10336959596414491, 0.8958698316892558, 0.11081269277963772, 0.8865015422371018, 0.1845673429269609, 0.7844112074395837, 0.030761223821160148, 0.9985649886265585, 0.9747534133904369, 0.9968968265222955, 0.998793759510892, 0.997785301831485, 0.016505235684001737, 0.24448380356927576, 0.010315772302501086, 0.005157886151250543, 0.02011575598987712, 0.03558941444362875, 0.6679462565869454, 0.28068285487484124, 0.008771339214838789, 0.5175090136754885, 0.19296946272645335, 0.21122091236666166, 0.7322324962044271, 0.05632557663110978, 0.037798392159646095, 0.06345715472057374, 0.06925106884723482, 0.00579391412666108, 0.03669478946885351, 0.012691430944114747, 0.017933543725379534, 0.04193690225011829, 0.08442560584563288, 0.01324323228951104, 0.30542204467684836, 0.030349073996796136, 0.02841776928790911, 0.06042224732089412, 0.12967331616812894, 0.0626294527024793, 0.9873329969222245, 0.06521980398941996, 0.07391577785467594, 0.5478463535111276, 0.3130550591492158, 0.9996380780909407, 0.921760955085883, 0.018073744217370253, 0.042172069840530596, 0.018073744217370253, 0.4377976773632148, 0.19475707612079993, 0.07546836699680996, 0.01906996370349499, 0.02069293933783499, 0.06654200100793997, 0.04463182994434998, 0.08926365988869996, 0.02231591497217499, 0.008114878171699997, 0.0020287195429249992, 0.019475707612079993, 0.32277738797094074, 0.345037897486178, 0.10335236560645886, 0.18603425809162594, 0.007950181969727604, 0.03498080066680146, 0.0027029796312613716, 0.02612880310219326, 0.04685164694186378, 0.09190130746288663, 0.4063479378996262, 0.03964370125850012, 0.011712911735465945, 0.08199038214826161, 0.1054162056191935, 0.07298045004405704, 0.11442613772339807, 0.9936847966118907, 0.9915657276219048, 0.9521073197835855, 0.04760536598917928, 0.9985512489637345, 0.31896463835048217, 0.05556158216427754, 0.0020578363764547237, 0.07613994592882478, 0.3971624206557617, 0.01646269101163779, 0.10083398244628146, 0.0020578363764547237, 0.030867545646820854, 0.9988753630692012, 0.9978100126516829, 0.014772287489795127, 0.6322539045632314, 0.0014772287489795127, 0.3279447822734518, 0.023635659983672203, 0.9989429839122675, 0.06447543582885432, 0.9348938195183875, 0.02040962903619115, 0.10204814518095574, 0.06122888710857345, 0.1755228097112439, 0.640862351736402, 0.861423798312728, 0.13782780773003647, 0.9748227588637584, 0.25435153230154006, 0.13450002493432223, 0.0026633668303826185, 0.0878911054026264, 0.3022921352484272, 0.16512874348372233, 0.053267336607652364, 0.17228575245123118, 0.8269716117659096, 0.05638544566284805, 0.7919399435954899, 0.008479014385390685, 0.027980747471789257, 0.0334921068222932, 0.0322202546644846, 0.01102271870100789, 0.0334921068222932, 0.00508740863123441, 0.997255773693131, 0.9983845921658819, 0.7434322473866362, 0.25635594737470213, 0.00803255256889296, 0.35343231303129025, 0.07630924940448312, 0.4417903912891128, 0.11647201224894792, 0.00401627628444648, 0.9988049943740012, 0.2078377184507907, 0.06996517254779093, 0.024693590310985034, 0.05144497981455216, 0.5617791795749095, 0.024693590310985034, 0.04527158223680589, 0.014404594348074604, 0.04650790180358456, 0.0581348772544807, 0.2325395090179228, 0.66273760070108, 0.018181077310276076, 0.7514845288247445, 0.12120718206850717, 0.10908646386165645, 0.07963973485442749, 0.1681283291371247, 0.7521530514029263, 0.06477035002262059, 0.19023102801919275, 0.05049027285227904, 0.06681036104695509, 0.007140038585170773, 0.05814031419353344, 0.035190190169770236, 0.09231049885113643, 0.05508029765703168, 0.008670046853421653, 0.12495067524048853, 0.24633133118839168, 0.9964169459229757, 0.6483509194930939, 0.03253270599587905, 0.0031669005836696415, 0.010940202016313308, 0.005470101008156654, 0.2735050504078327, 0.0031669005836696415, 0.02303200424487012, 0.17254699309466118, 0.20102562302290622, 0.02847862992824505, 0.32331621036184083, 0.2144273312244333, 0.026803416403054163, 0.008376067625954426, 0.025128202877863277, 0.997785301831485, 0.9872721461841723, 0.9980960956659156, 0.9747719848976717, 0.005076094545365435, 0.7867946545316424, 0.11167407999803956, 0.03045656727219261, 0.06598922908975065, 0.9986941509875111, 0.9992725936079498, 0.2634489401678837, 0.24027519080126433, 0.1048917076594352, 0.06098355096478791, 0.008537697135070306, 0.02683276242450668, 0.029272104463098195, 0.028052433443802437, 0.08659664236999882, 0.12074743091028005, 0.030491775482393953, 0.17198006409178007, 0.14058121421610237, 0.03282607032457213, 0.024976357855652706, 0.04174619813016238, 0.017483450498956894, 0.21622389800750771, 0.20659015997747024, 0.09348293940258584, 0.007492907356695812, 0.004281661346683321, 0.04103258790571516, 0.0014272204488944404, 0.022450515035661863, 0.32859390188559634, 0.02857338277266055, 0.6204505973492006, 0.6974489860781371, 0.023248299535937905, 0.27897959443125486, 0.9985911918032593, 0.9979868641313074, 0.7251999298387547, 0.25279300386536113, 0.01579956274158507, 0.0063198250966340274, 0.9988999722418158, 0.9747719848976717, 0.9081692384095308, 0.09081692384095308, 0.9999228273830894, 0.7416127914162524, 0.014353795962895209, 0.24401453136921852, 0.5999690672059023, 0.3999793781372682, 0.9965032131699592, 0.006370507516476254, 0.10405162276911216, 0.32914288835127314, 0.029729035076889187, 0.012741015032952508, 0.125286647824033, 0.1804977129668272, 0.031852537582381275, 0.06158157265927046, 0.11891614030755675, 0.05361391964096696, 0.1752762757493151, 0.23920056455200647, 0.008248295329379533, 0.0123724429940693, 0.4825252767687027, 0.028869033652828367, 0.9990531599316588, 0.09045976125690079, 0.41460723909412867, 0.042717109482425374, 0.020102169168200176, 0.030153253752300265, 0.15076626876150134, 0.25127711460250224, 0.2797620640157237, 0.7193881646118608, 0.9958028002222996, 0.9303110861682651, 0.013885240092063657, 0.05554096036825463, 0.9985649886265585, 0.0017997493845211606, 0.002699624076781741, 0.4827827723978013, 0.0013498120383908705, 0.5115787625501399, 0.03277743622773395, 0.9669343687181514, 0.00416138202474482, 0.034678183539540164, 0.09501822289834005, 0.20529484655407776, 0.01664552809897928, 0.07767913112856997, 0.17547160871007322, 0.009016327720280442, 0.06103360302959069, 0.04577520227219302, 0.05687222100484587, 0.21847255629910303, 0.01020555400866107, 0.962723928150361, 0.027214810689762853, 0.09303336091581196, 0.002584260025439221, 0.8915697087765313, 0.012921300127196106, 0.0007746990699658695, 0.01549398139931739, 0.03718555535836174, 0.0007746990699658695, 0.03331206000853239, 0.8909039304607499, 0.017818078609215, 0.0038734953498293476, 0.05134649328959046, 0.20998416658728042, 0.23527423044633242, 0.05594468671850902, 0.04368283757472621, 0.08276748172053389, 0.0022990967144592743, 0.09426296529283025, 0.01915913928716062, 0.11572120129445015, 0.08966477186391171, 0.8865037845121969, 0.11081297306402461, 0.9748111941340664, 0.9990143695732612, 0.9999484803635696, 0.20405434863484073, 0.21425706606658276, 0.5815548936092961, 0.9991963350903672, 0.010178980944037642, 0.20866910935277166, 0.030536942832112928, 0.061073885664225856, 0.03308168806812234, 0.11451353562042348, 0.012723726180047053, 0.5242175186179385, 0.005089490472018821, 0.06378088916021855, 0.46815172643600417, 0.09949818708994095, 0.024236737880883052, 0.09567133374032782, 0.014031795615248081, 0.09567133374032782, 0.13904233836927646, 0.9747771322969981, 0.1588893274004521, 0.03271250858244602, 0.6986457190108115, 0.03738572409422403, 0.035049116338335025, 0.01401964653533401, 0.023366077558890017, 0.998793759510892, 0.9729651590914381, 0.02702680997476217, 0.1673805684019525, 0.5207818139597113, 0.04222555248321984, 0.053637863965171145, 0.012173132247414729, 0.0631481235334639, 0.025867906025756296, 0.002662872679121972, 0.08254905305278112, 0.009129849185561046, 0.0038041038273171025, 0.01673805684019525, 0.9936476655301354, 0.5790061757018169, 0.00957035001160028, 0.3014660253654088, 0.11005902513340321, 0.2022162851851006, 0.003825713503501903, 0.09072406308304513, 0.15029588763757476, 0.08088651407404024, 0.0349779520320174, 0.12952772861856443, 0.034431421531517126, 0.168877924654584, 0.04918774504502447, 0.0032791830030016312, 0.05192039754752583, 0.9994635306847944, 0.8206352187526463, 0.09432588721294785, 0.009432588721294786, 0.07546070977035829, 0.9969037757142449, 0.26444522031166967, 0.7354882689918313, 0.16843723484213857, 0.3781958703316209, 0.003501813614181675, 0.010505440842545025, 0.23392114942733588, 0.10540458978686842, 0.031516322527635074, 0.01820943079374471, 0.0038519949755998427, 0.015407979902399371, 0.03116614116621691, 0.13455641847719246, 0.02458242260641016, 0.22900467375445255, 0.18372126369001276, 0.03752053976767866, 0.1306749833288119, 0.058221527225708274, 0.16819552309649058, 0.033639104619298116, 0.000590746581931951, 0.18135920065310898, 0.15004963181071557, 0.08920273387172462, 0.016245531003128654, 0.016836277585060604, 0.014768664548298777, 0.03514942162495109, 0.11667244993156034, 0.18165457394407494, 0.02924195580563158, 0.03810315453461084, 0.13025962131599522, 0.9915434598774603, 0.015148197159203725, 0.9846328153482422, 0.05425941996351316, 0.6821184223984511, 0.05425941996351316, 0.14727556847239287, 0.06201076567258647, 0.9985367088930438, 0.9949482196811529, 0.17386690023516138, 0.21471063326454196, 0.028478199176448848, 0.08131275291170263, 0.02660463344115616, 0.07681619514700018, 0.1371450118234247, 0.10566910747050756, 0.0029977051764683, 0.005620697205878062, 0.020983936235278097, 0.0063701234999951365, 0.02660463344115616, 0.013864386441165886, 0.021358649382336635, 0.05770582464701477, 0.8554829698949706, 0.14453365244800875, 0.10696223634620426, 0.08556978907696342, 0.007130815756413618, 0.11231034816351448, 0.3743678272117149, 0.07130815756413618, 0.242447735718063, 0.9972369862060475, 0.47315067346607304, 0.15771689115535767, 0.21028918820714357, 0.15771689115535767, 0.07920953534044674, 0.5544667473831272, 0.024752979793889608, 0.11881430301067011, 0.22277681814500647, 0.9612232160363617, 0.03844892864145447, 0.9345386080222652, 0.053572276892996096, 0.011904950420665798, 0.044761657529881135, 0.08993777485170562, 0.03522908231518423, 0.209716654723332, 0.04020259981850435, 0.007045816463036846, 0.00953257521469691, 0.5458435459893839, 0.017821771053563785, 0.9998263876242875, 0.30093427934694383, 0.06795290178801958, 0.6309912308887532, 0.4351214990446156, 0.0809528370315564, 0.31369224349728103, 0.013492139505259399, 0.026984279010518798, 0.01011910462894455, 0.06408766264998214, 0.03204383132499107, 0.02361124413420395, 0.12587023185527074, 0.874098832328269, 0.21990064261462802, 0.7673128806127446, 0.00467873707690698, 0.008187789884587213, 0.9977340299876064, 0.9982666150999634, 0.006981458451276402, 0.07854140757685951, 0.17977255512036733, 0.20595302431265383, 0.4537947993329661, 0.033161927643562905, 0.041888750707658406, 0.9873395037165367, 0.07137182207192205, 0.9278336869349867, 0.9496825432972787, 0.01666109725082945, 0.0333221945016589, 0.7494524952084444, 0.10706464217263491, 0.1427528562301799, 0.9995646579749237, 0.9991747321261326, 0.9988071110367189, 0.0634881477587357, 0.015872036939683924, 0.6983696253460926, 0.007936018469841962, 0.1428483324571553, 0.07142416622857765, 0.9453760763105689, 0.05402149007488965, 0.055522142400433835, 0.9438764208073751, 0.6653259345074979, 0.041324592205434656, 0.00826491844108693, 0.07438426596978237, 0.12397377661630396, 0.06198688830815198, 0.02479475532326079, 0.9748571386980743, 0.053330812443581524, 0.859959350652752, 0.07332986710992459, 0.013332703110895381, 0.23672052166217047, 0.7633029065841416, 0.14545871130366442, 0.07727494038007172, 0.25000716005317325, 0.050001432010634644, 0.4772863964651489, 0.9915434598774603, 0.8565408159815735, 0.14275680266359558, 0.9970072712816801, 0.9788587654709733, 0.021126448175632518, 0.9988193698006297, 0.9748000614623263, 0.0036333159226925385, 0.016349921652116423, 0.005449973884038808, 0.9746369962622735, 0.9964581905497597, 0.006335104732580747, 0.08573508404759278, 0.06630742953434515, 0.08657976467860355, 0.05194785880716213, 0.005490424101569981, 0.046457434705592146, 0.19258718387045473, 0.06039466511726979, 0.03040850271638759, 0.3619456503881134, 0.005912764417075364, 0.14402704337922695, 0.010287645955659069, 0.07495284910551607, 0.07495284910551607, 0.09479330916285855, 0.154314689334886, 0.047764070508417106, 0.14917086635705648, 0.047764070508417106, 0.077157344667443, 0.030128106013001556, 0.03821125640673368, 0.047764070508417106, 0.008817982247707773, 0.9872861917860566, 0.9748571386980743, 0.042421411002130996, 0.1979665846766113, 0.08741381661045175, 0.08998481121664151, 0.18511161164566253, 0.06427486515474393, 0.05784737863926954, 0.18511161164566253, 0.02956643797118221, 0.011569475727853908, 0.04884889751760539, 0.991527529434698, 0.991581799434874, 0.9958215337089223, 0.9748571386980743, 0.04491221288251825, 0.05988295051002434, 0.00898244257650365, 0.7784783566303164, 0.00898244257650365, 0.09880686834154016, 0.7991025607699986, 0.09988782009624983, 0.09988782009624983, 0.15141551453440388, 0.0037386546798618245, 0.013085291379516386, 0.05421049285799646, 0.011215964039585474, 0.7645548820317432, 0.0018693273399309122, 0.06938978830971522, 0.5265460407031332, 0.020408761267563302, 0.08163504507025321, 0.216332869436171, 0.08571679732376586, 0.0012093240127948601, 0.5623356659496099, 0.09795524503638367, 0.021767832230307482, 0.10642051312594769, 0.15842144567612668, 0.014511888153538322, 0.019349184204717762, 0.018139860191922902, 0.973171375621556, 0.010753274868746476, 0.016129912303119713, 0.015323747382358829, 0.00510791579411961, 0.09398565061180082, 0.14608639171182083, 0.0745755705941463, 0.05618707373531571, 0.08887773481768121, 0.13382739380593378, 0.2410936254824456, 0.01021583158823922, 0.012258997905887064, 0.02145324633530236, 0.0326906610823655, 0.06844607164120277, 0.9873097132223801, 0.29966340487816595, 0.6992146113823873, 0.7625318156471801, 0.035968481870150004, 0.06474326736627001, 0.10071174923642001, 0.035968481870150004, 0.002849085554677164, 0.019943598882740148, 0.06837805331225194, 0.031339941101448804, 0.8262348108563775, 0.05128353998418895, 0.18483321653770107, 0.69193973370524, 0.028435879467338627, 0.05213244569012082, 0.04265381920100794, 0.8719109254071414, 0.0799918280190038, 0.04799509681140228, 0.9430960832931294, 0.056585764997587766, 0.9972782987499309, 0.0030676681433522285, 0.16872174788437255, 0.39266152234908525, 0.11043605316068023, 0.030676681433522285, 0.1411127345942025, 0.08282703987051017, 0.05521802658034011, 0.015338340716761142, 0.9979556294835561, 0.9916527215732472, 0.04972829068606769, 0.23759072216676785, 0.2817936472210502, 0.14365950642641775, 0.03315219379071179, 0.17128633458534426, 0.08288048447677948, 0.020233015658542765, 0.3641942818537698, 0.02890430808363252, 0.01445215404181626, 0.3757560050872228, 0.08382249344253431, 0.026013877275269267, 0.08671292425089756, 0.015031077279959986, 0.9851136801943006, 0.05843045244230729, 0.017978600751479164, 0.19326995807840103, 0.3191201633387552, 0.343840739372039, 0.017978600751479164, 0.049441152066567705, 0.9995311684766933, 0.02054997931867063, 0.010274989659335316, 0.027399972424894174, 0.011987487935891201, 0.030824968978005948, 0.4281245691389715, 0.2876997104613888, 0.1832373155914798, 0.9896299110835615, 0.01045383708891086, 0.03333636154235536, 0.030558331413825742, 0.013890150642648065, 0.8306310084303543, 0.00833409038558884, 0.0833409038558884, 0.0680009608654695, 0.01658560021109012, 0.011609920147763084, 0.7463520094990554, 0.07629376097101456, 0.07629376097101456, 0.004975680063327036, 0.9954745909078749, 0.0045663972059994265, 0.07236234679159549, 0.002751420030098688, 0.0652086547133389, 0.08254260090296063, 0.009354828102335538, 0.12353875935143109, 0.027789342303996746, 0.031091046340115173, 0.011831106129424358, 0.07869061286082248, 0.020635650225740158, 0.11363364724307581, 0.0907968609932567, 0.07703976084276326, 0.036869028403322415, 0.08446859492402972, 0.04980070254478625, 0.021736218237779634, 0.9983617775515051, 0.00294511279863495, 0.00176706767918097, 0.991324968020524, 0.00412315791808893, 0.03169522963742206, 0.008932291988728034, 0.12879788770843328, 0.09969590413225483, 0.28468078983429995, 0.0014406922562464571, 0.0302545373811756, 0.008932291988728034, 0.09249244285102255, 0.023339214551192606, 0.039186829369903635, 0.006627184378733703, 0.010661122696223784, 0.0100848457937252, 0.16913727088333408, 0.05417002883486679, 0.07540841622773771, 0.11806368197272067, 0.06474459979149198, 0.0434169669190005, 0.20261251228866903, 0.028944644612667002, 0.01751912700240371, 0.023612736394544132, 0.238412467467494, 0.04874887513712337, 0.002285103522052658, 0.03808505870087763, 0.05027227748515848, 0.04798717396310582, 0.3017904854932343, 0.011236879779003403, 0.2102901787213494, 0.30500102257294953, 0.009631611239145774, 0.03050010225729495, 0.028894833717437323, 0.027289565177579692, 0.004815805619572887, 0.03050010225729495, 0.04013171349644073, 0.004987832144630675, 0.003740874108473006, 0.9913316387453467, 0.03962954170198087, 0.8368826747653606, 0.12355092412970504, 0.9872841629151098, 0.4739189730201949, 0.2726308070600046, 0.001273975733925255, 0.03439734481598189, 0.09172625284261837, 0.03567132054990715, 0.09045227710869312, 0.9405946115730758, 0.058787163223317236, 0.9061835989733625, 0.010415903436475433, 0.08332722749180346, 0.2879784015153455, 0.01907141731889705, 0.21588844404991464, 0.0213599873971647, 0.11023279210322497, 0.020215702358030878, 0.004577140156535293, 0.2517427086094411, 0.022885700782676464, 0.023267129129054404, 0.022885700782676464, 0.4747884496611748, 0.23795544049212544, 0.017958901169217015, 0.007857019261532443, 0.06846831070763987, 0.04377482159996647, 0.03928509630766222, 0.1099982696614542, 0.1254405194439138, 0.09465057376222585, 0.01824589373729655, 0.012544051944391378, 0.012544051944391378, 0.01026331522722931, 0.5143061297200465, 0.1026331522722931, 0.043333997626079306, 0.0661413647977, 0.017641458482605822, 0.9173558410955027, 0.01492738794682031, 0.050210304912031954, 0.6055206157322488, 0.16208380118085447, 0.11926921218968536, 0.027523664351465853, 0.03975640406322845, 0.027523664351465853, 0.018349109567643903, 0.005405488865280216, 0.02702744432640108, 0.21621955461120865, 0.5891982863155436, 0.16216466595840648, 0.9747902755449271, 0.241402327610581, 0.013794418720604629, 0.01793274433678602, 0.07862818670744638, 0.15863581528695325, 0.24829953697088333, 0.00965609310442324, 0.005517767488241852, 0.1269086522295626, 0.09931981478835333, 0.996448084326091, 0.9915288125519133, 0.0722291174544326, 0.0361145587272163, 0.04444868766426622, 0.12778997703476538, 0.09445346128656572, 0.05000477362229949, 0.03889260170623294, 0.5361622949502113, 0.8787965043124941, 0.12121331093965437, 0.26050984943053695, 0.07370522569254218, 0.002541559506639385, 0.21094943905106897, 0.04828963062614832, 0.07878834470582094, 0.14868123113840404, 0.03939417235291047, 0.04066495210623016, 0.09657926125229664, 0.9915503346347989, 0.2507550536545374, 0.09421432651760074, 0.033337377075458724, 0.02705642197428534, 0.029955324328673056, 0.000966300784795905, 0.008696707063163146, 0.11547294378311065, 0.04444983610061164, 0.11450664299831476, 0.05749489669535635, 0.017876564518724245, 0.08745022102402941, 0.08310186749244784, 0.034786828252652585, 0.9915047507808139, 0.9670253472706103, 0.032234178242353674, 0.07685549912090135, 0.9222659894508162, 0.013512955641073176, 0.020269433461609764, 0.047295344743756115, 0.918880983592976, 0.8748064458464057, 0.07498340964397762, 0.04998893976265175, 0.0483740891773498, 0.951357087154546, 0.9533303820385705, 0.04650392107505222, 0.9591713655048298, 0.03996547356270125, 0.006304274019292343, 0.9918724457019953, 0.0021014246730974477, 0.2954278539966135, 0.7044818056842321, 0.06817039822958855, 0.9089386430611808, 0.02272346607652952, 0.9997492598998294, 0.11316060070866385, 0.06157267979736121, 0.12647361255674194, 0.14644313032885908, 0.03661078258221477, 0.11149647422765409, 0.024961897215146436, 0.029954276658175724, 0.1381224979238103, 0.1015117153415955, 0.10983234774664433, 0.9915627719759537, 0.06129528832503943, 0.058069220518458406, 0.1709815937487942, 0.006452135613162046, 0.016130339032905113, 0.1709815937487942, 0.051617084905296366, 0.025808542452648183, 0.13549484787640295, 0.30325037381861614, 0.9748111941340664, 0.044638474664488434, 0.36603549224880516, 0.5624447807725543, 0.026783084798693062, 0.09994610068828427, 0.8495418558504163, 0.049973050344142136, 0.9387456654629673, 0.060564236481481765, 0.8970693195725088, 0.0093444720788803, 0.0560668324732818, 0.0373778883155212, 0.021398900996802996, 0.03266148046880458, 0.23426165301763283, 0.018020127155202525, 0.21511526791523014, 0.1013632152480142, 0.023651416891203314, 0.04279780199360599, 0.20723146228482903, 0.09798444140641373, 0.005631289736000788, 0.9937146555022482, 0.009882669050004745, 0.007906135240003796, 0.015812270480007592, 0.04051894310501945, 0.135392565985065, 0.1047562919300503, 0.10673282574005125, 0.08696748764004175, 0.06522561573003131, 0.0029648007150014236, 0.021741871910010438, 0.03458934167501661, 0.0504016121550242, 0.27177339887513047, 0.014824003575007117, 0.03063627405501471, 0.9852192180462707, 0.0147047644484518, 0.03355695555336192, 0.06711391110672384, 0.006711391110672384, 0.8926150177194271, 0.9958028002222996, 0.9958564832944347, 0.00418427093821191, 0.010836918436013617, 0.007740656025724013, 0.0015481312051448025, 0.3560701771833046, 0.035607017718330455, 0.11301357797557059, 0.3560701771833046, 0.08669534748810893, 0.021673836872027234, 0.010836918436013617, 0.01775089287938075, 0.9230464297277989, 0.011833928586253832, 0.04733571434501533, 0.9872861917860566, 0.056721771836862354, 0.025375529505964736, 0.37316955155830495, 0.271667433534446, 0.04627302439322981, 0.03134624233089762, 0.10000943981762572, 0.028360885918431177, 0.023882851299731517, 0.043287667980763375, 0.9983617246905763, 0.006601256021412981, 0.04290816413918438, 0.14687794647643881, 0.08581632827836876, 0.07921507225695577, 0.49509420160597356, 0.14357731846573235, 0.0068490164863781065, 0.07533918135015917, 0.9177682091746663, 0.9992780044471724, 0.998880830220009, 0.09089713420801551, 0.9089713420801551, 0.8792164157174303, 0.1198931475978314, 0.9937158958526208, 1.0000464668943734, 0.9748111941340664, 0.04664837901588593, 0.013653184102210515, 0.08305686995511397, 0.02730636820442103, 0.05688826709254381, 0.3561205519993243, 0.3743247974689383, 0.018204245469614022, 0.023893072178868404, 0.9992854276012196, 0.015868043542973522, 0.9838186996643584, 0.020494079059103696, 0.009563903560915058, 0.016395263247282958, 0.0013662719372735798, 0.37709105468750803, 0.5752004855921771, 0.09017994573076665, 0.02927920315933982, 0.5750435500494341, 0.015225185642856708, 0.07846826446703072, 0.057387238192306046, 0.03162153941208701, 0.03396387566483419, 0.08315293697252508, 0.005855840631867964, 0.06577391584282416, 0.9339896049681031, 0.9998329405928738, 0.004359755197199528, 0.15433533398086333, 0.004795730716919482, 0.3021310351659273, 0.12556094967934642, 0.20272861666977807, 0.07847559354959152, 0.1277408272779462, 0.05277318888773806, 0.038614528454442486, 0.10940783062092037, 0.005148603793925665, 0.4376313224836815, 0.07594190596040355, 0.18921118942676818, 0.06950615121799647, 0.021881566124184074, 0.10376577713088798, 0.006144026277486788, 0.009557374209423894, 0.1044484467172754, 0.21367558053926275, 0.045738862287957205, 0.05597890608376852, 0.0846510287120402, 0.0423255143560201, 0.09079505498952699, 0.025941444282721996, 0.11946717761779867, 0.015701400486910683, 0.017749409246072944, 0.06417094112041757, 0.995072984860422, 0.0013588414549994335, 0.10463079203495639, 0.3682460343048465, 0.028535670554988103, 0.036688719284984704, 0.32068658337986633, 0.1290899382249462, 0.010870731639995468, 0.9990458033119693, 0.9994754839477006, 0.02005824993105932, 0.7593480331043886, 0.17479332082780266, 0.008596392827596852, 0.022923714206924937, 0.014327321379328087, 0.842801085405825, 0.15680020193596744, 0.9347923957249409, 0.06446844108447868, 0.9997842027838296, 0.199778776180447, 0.799115104721788, 0.012192886779361626, 0.15850752813170113, 0.8291163009965905, 0.9977595331627866, 0.05998295671395561, 0.9397329885186378, 0.15124532077437058, 0.8486542999006349, 0.0349655759791682, 0.02097934558750092, 0.1048967279375046, 0.660849386006279, 0.12587607352500552, 0.0524483639687523, 0.1999068615182639, 0.024988357689782987, 0.7746390883832726, 0.10012422171339899, 0.11506605117411545, 0.0030721518517360918, 0.005865017171496176, 0.17134228736728113, 0.006842520033412205, 0.012847180470896384, 0.0008378595959280251, 0.0036307249156881088, 0.03309545403915699, 0.15193187339494854, 0.009775028619160292, 0.06926305993005007, 0.004887514309580146, 0.008937169023232267, 0.01968970050430859, 0.003770368181676113, 0.05083014881963352, 0.0019550057238320586, 0.1036153033630991, 0.11646248383399549, 0.006283946969460188, 0.21006714178088434, 0.04018675755808222, 0.008220018591425909, 0.06393347793331262, 0.4082609233741535, 0.0009133353990473232, 0.05297345314474475, 0.050233446947602775, 0.08311352131330642, 0.0703268257266439, 0.011873360187615202, 1.0000808198629791, 0.9977601367745454, 0.10213607429378052, 0.38939378324503826, 0.01702267904896342, 0.3936494530072791, 0.02766185345456556, 0.03617319297904727, 0.02553401857344513, 0.00851133952448171, 0.99369728755753, 0.9748043787994405, 0.14704387826048504, 0.7842340173892536, 0.01960585043473134, 0.04901462608682835, 0.9482497648797952, 0.0512567440475565, 0.9984958965278394, 0.997747863675546, 0.02324694447892375, 0.16272861135246625, 0.8136430567623313, 0.9987255186293322, 0.027779670621289512, 0.8924219187089255, 0.055559341242579025, 0.003472458827661189, 0.020834752965967134, 0.9759447498758576, 0.02399864139038994, 0.10040755866721901, 0.022089662906788182, 0.03213041877351008, 0.036146721120198844, 0.14057058213410661, 0.6687143407236786, 0.9992557878547512, 0.9747771322969981, 0.024878980332159743, 0.5174827909089227, 0.007463694099647923, 0.03151337508740234, 0.03234267443180767, 0.014098088854890521, 0.01575668754370117, 0.3225974449736713, 0.03400127312061831, 0.972710690768187, 0.02747770312904483, 0.016123954962529333, 0.06449581985011733, 0.919065432864172, 0.21514929077766923, 0.09571948038679978, 0.43293306266690174, 0.03776089593240725, 0.021075848892506372, 0.00878160370521099, 0.18880447966203626, 0.9184305245559906, 0.0810379874608227, 0.9997188240679018, 0.27376767136875296, 0.7260794762388666, 0.013615435849363046, 0.36761676793280224, 0.599079177371974, 0.019804270326346247, 0.18162726644061572, 0.8173226989827708, 0.030945813273467845, 0.023912673893134243, 0.306644876982545, 0.5823439406916222, 0.05626511504266881, 0.11110608683036574, 0.8888486946429259, 0.05335509464065393, 0.18488160701063805, 0.09678366004583737, 0.3871346401833495, 0.17247344546629992, 0.06700407233942587, 0.038465300787448184, 0.9915800653855895, 0.987368264851322, 0.04072599228537944, 0.08145198457075888, 0.04525110253931049, 0.018100441015724195, 0.8145198457075888, 0.7994960554253541, 0.028553430550905503, 0.171320583305433, 0.9995075749424629, 0.9980115259496694, 0.9406116990562637, 0.058788231191016484, 0.9694719847884818, 0.030295999524640058, 0.179074118304294, 0.13430558872822052, 0.686450786833127, 0.009877580158937884, 0.6939000061653864, 0.08889822143044096, 0.05432669087415837, 0.019755160317875768, 0.04197971567548601, 0.09136761647017544, 0.47710803255743234, 0.5225468928009973, 0.008983214745516619, 0.008234613516723567, 0.5726799400266844, 0.023206638092584598, 0.0022458036863791547, 0.1235192027508535, 0.08010033148085652, 0.16693807402085048, 0.01422342334706798, 0.18749833087234483, 0.7937429340262597, 0.018749833087234484, 0.0020203757500605467, 0.04242789075127148, 0.03636676350108984, 0.16769118725502538, 0.44044191351319917, 0.07879465425236132, 0.20607832650617577, 0.02626488475078711, 0.01960805306187688, 0.08496822993479981, 0.24183265442981486, 0.052288141498338346, 0.601313627230891, 0.11763283873544647, 0.06861915592901044, 0.8136271345868381, 0.8153719431096692, 0.1841162452183124, 0.1555329724814386, 0.08887598427510777, 0.755445866338416, 0.9978889805241719, 0.9872861917860566, 0.22161119071719185, 0.7756391675101715, 0.012196436152359493, 0.014413969998243036, 0.18738160997715947, 0.003326300768825316, 0.33152130995958984, 0.04878574460943797, 0.19292544459186833, 0.08537505306651645, 0.11531175998594428, 0.008870135383534176, 0.9927602064798247, 0.007246424864816238, 0.003401375374087715, 0.003401375374087715, 0.9932016092336129, 0.07992903486665849, 0.9191839009665727, 0.07236910653422168, 0.005338704580393402, 0.24024170611770312, 0.04745515182571913, 0.020168439525930632, 0.026100333504145524, 0.23964851671988163, 0.009491030365143826, 0.0990626294361887, 0.14414502367062187, 0.03677774266493233, 0.046268773030076156, 0.011270598558608295, 0.0017795681934644676, 0.9513427302721553, 0.04756713651360777, 0.6742020173562062, 0.07116576849871065, 0.02621896734163024, 0.10487586936652096, 0.03371010086781031, 0.08989360231416083, 0.9964169459229757, 0.07461045909065814, 0.7759487745428446, 0.14922091818131628, 0.08130596955745947, 0.13008955129193517, 0.08130596955745947, 0.5325541006013595, 0.0772406710795865, 0.09756716346895136, 0.008045275066661379, 0.0874923663499425, 0.024135825199984137, 0.010810838370826227, 0.043494768329138074, 0.16895077639988895, 0.029918366654147002, 0.20892573688736266, 0.020364602512486615, 0.014833475904156916, 0.018604698591654437, 0.2252677018665186, 0.10433716102076475, 0.01558772044165642, 0.01935894312915394, 0.20063214224467227, 0.07407956021341745, 0.5494234049161795, 0.046299725133385906, 0.04938637347561164, 0.04938637347561164, 0.03086648342225727, 0.022625297951899877, 0.2398281582901387, 0.013575178771139926, 0.5384820912552171, 0.15385202607291917, 0.03167541713265983, 0.005556029254004411, 0.23335322866818525, 0.4852265548497185, 0.27594945294888573, 0.06034248934323891, 0.663767382775628, 0.0517221337227762, 0.22412924613203022, 0.021126544691739284, 0.9225257848726154, 0.03521090781956547, 0.021126544691739284, 0.10659516023170107, 0.02537980005516692, 0.8679891618867087, 0.11926351743839105, 0.5596211202878348, 0.229352918150752, 0.02752235017809024, 0.06421881708221056, 0.0832930586254409, 0.9162236448798499, 0.8571720962841138, 0.0317471146771894, 0.11111490137016292, 0.9964739173958447, 0.054341846200589725, 0.9238113854100253, 0.02173673848023589, 0.98185755057595, 0.017851955465017274, 0.025808179398025467, 0.7774714043655172, 0.10968476244160824, 0.08710260546833595, 0.3718109761199435, 0.008846791236165212, 0.057258398834069295, 0.009092535437169803, 0.03538716494466085, 0.15825926544695548, 0.023591443296440567, 0.03931907216073428, 0.02604888530648646, 0.01621911726630289, 0.05824137563808765, 0.11255084406010188, 0.011058489045206515, 0.04890309599991326, 0.002211697809041303, 0.008601047035160623, 0.01277869845223864, 0.9980960428331175, 0.8571420987616001, 0.07792200897832728, 0.01948050224458182, 0.045454505237357584, 0.9964739173958447, 0.4909775776596598, 0.21378359470051608, 0.22465394697342367, 0.06341038825862765, 0.007246901515271732, 0.14234448836058014, 0.8540669301634808, 0.1868422459872845, 0.039566593267895536, 0.1560682290011435, 0.14068122050807302, 0.36049562755193715, 0.035170305127018256, 0.06154803397228195, 0.019783296633947768, 0.8703361770742731, 0.12893869289989232, 0.02344066881180652, 0.9219996399310564, 0.04297455948831195, 0.01172033440590326, 0.993639016298933, 0.03017582054556102, 0.08765357396567725, 0.005747775342011622, 0.12214022601774698, 0.3678576218887438, 0.002873887671005811, 0.0014369438355029056, 0.28595182326507823, 0.09627523697869468, 0.01202133262357942, 0.013357036248421578, 0.019367702560211288, 0.6344592218000249, 0.05776918177442333, 0.021705183903685064, 0.01869985074779021, 0.09316532783274051, 0.052426367275054696, 0.041072886463896355, 0.006678518124210789, 0.022373035716106143, 0.007012444030421328, 0.993639016298933, 0.9996419656037479, 0.9748279081607264, 0.9329252114804293, 0.06663751510574495, 0.5167917707881803, 0.4830879596498207, 0.997785301831485, 0.0016209111297699925, 0.029176400335859866, 0.5154497392668576, 0.432783271648588, 0.021071844687009903, 0.1071051399454366, 0.8032885495907746, 0.08925428328786383, 0.9936631817712108, 0.9988999722418158, 0.024389798882381387, 0.07316939664714416, 0.7642136983146167, 0.13820886033349453, 0.2575430180203636, 0.04348128875668476, 0.0033447145197449822, 0.13378858078979927, 0.03344714519744982, 0.5284648941197072, 0.11563275779035063, 0.006250419340018953, 0.5625377406017058, 0.3156461766709571, 0.9749798132863884, 0.9872636075881539, 0.11617375229774651, 0.4074499718268791, 0.1523728200426965, 0.1372197219169035, 0.05051032708597675, 0.048826649516444186, 0.01936229204962442, 0.009260226632429069, 0.024413324758222093, 0.034515390175417444, 0.995780712223403, 0.9950302794326018, 0.8596806969405423, 0.1399480204321813, 0.008332488674562414, 0.8415813561308039, 0.1166548414438738, 0.033329954698249654, 0.7330427041050539, 0.17770732220728577, 0.08885366110364289, 0.08396203682206849, 0.8319874557823149, 0.08396203682206849, 0.9964333478510002, 0.060480922536988384, 0.037162976498631414, 0.002550400347945293, 0.35887776324658766, 0.03242651870959016, 0.03206217580274083, 0.09837258484931845, 0.03242651870959016, 0.010930287205479828, 0.003643429068493276, 0.025139660572603605, 0.26779203653425576, 0.009837258484931844, 0.028418746734247553, 0.9989561200355263, 0.23335809453973605, 0.026925933985354162, 0.15001591791840174, 0.043594369309621024, 0.028208121317990074, 0.1243721712656835, 0.06667374129706745, 0.31285370916316263, 0.014104060658995037, 0.9788371565416824, 0.02105026143100392, 0.09646692280212422, 0.1414848201097822, 0.1897182815108443, 0.009646692280212423, 0.5369992035984915, 0.025724512747233124, 0.9987938124175809, 0.665695004501134, 0.1331390009002268, 0.19970850135034018, 0.002788411883964929, 0.005576823767929858, 0.4517227252023185, 0.07063976772711153, 0.039967237003497316, 0.07900500337900632, 0.046473531399415485, 0.22772030385713588, 0.013942059419824645, 0.023236765699707743, 0.03903776637550901, 0.08325348334635481, 0.9157883168099028, 0.998632011959163, 0.03408673357039669, 0.8067193611660549, 0.15907142332851787, 0.9614540209919615, 0.011019530326555433, 0.027548825816388584, 0.9916467020634833, 0.9936339453055822, 0.37179983852928605, 0.0019882344306378936, 0.06561173621105049, 0.23659989724590932, 0.0914587838093431, 0.019882344306378936, 0.07356467393360205, 0.12327053469954939, 0.01590587544510315, 0.9997879872852581, 0.9976476130279647, 0.2805498544592333, 0.06787496478852419, 0.004524997652568278, 0.6153996807492859, 0.03167498356797795, 0.2924819052080797, 0.017926310319204886, 0.02924819052080797, 0.20379384362885553, 0.20473733364565577, 0.031135170554408485, 0.018869800336005143, 0.039626580705610794, 0.007547920134402057, 0.10189692181442776, 0.052835440940814396, 0.9645913953624321, 0.03507605074045208, 0.9996270334977453, 0.039678262552021476, 0.023806957531212886, 0.007935652510404295, 0.023806957531212886, 0.9046643861860897, 0.14781325330232545, 0.056609331051954426, 0.6148402344809495, 0.02358722127164768, 0.0172972955992083, 0.08491399657793164, 0.044029479707075665, 0.011007369926768916, 0.9963966105138495, 0.022387270684092745, 0.007462423561364249, 0.03731211780682124, 0.06716181205227824, 0.8656411331182527, 0.5799872823456175, 0.013333040973462471, 0.29332690141617435, 0.07333172535404359, 0.03999912292038741, 0.005847623578181418, 0.9940960082908411, 0.9983617775515051, 0.8239086493745259, 0.17598048821591816, 1.0000325049032555, 0.9987255186293322, 0.01868927999267967, 0.9811871996156827, 0.9950010701975183, 0.09483140702463135, 0.011494716002985617, 0.8621037002239212, 0.03161046900821045, 0.008223090808562207, 0.16960124792659553, 0.06784049917063821, 0.11358144179326549, 0.34023038220426133, 0.004111545404281104, 0.04265728356941645, 0.053450090255654344, 0.007195204457491931, 0.13619494151681155, 0.0030836590532108276, 0.016960124792659553, 0.03700390863852993, 0.9964169459229757, 0.07954940496617288, 0.060609070450417434, 0.1477346092228925, 0.05303293664411526, 0.12121814090083487, 0.06818520425671962, 0.05303293664411526, 0.4128992924434688, 0.0037880669031510896, 0.023623081505636866, 0.4488385486071005, 0.52758215362589, 0.10204218035567776, 0.05102109017783888, 0.056123199195622774, 0.0867358533023261, 0.6275594091874183, 0.07653163526675832, 0.003623275713065544, 0.9964008210930246, 0.867971229571188, 0.04394791035803483, 0.08789582071606966, 0.08042111612484888, 0.0583701649293258, 0.00907980343345068, 0.00129711477620724, 0.05577593537691132, 0.7160073564663965, 0.0518845910482896, 0.01037691820965792, 0.01686249209069412, 0.9748571386980743, 0.990931769404384, 0.009008470630948945, 0.6399298714352458, 0.10665497857254097, 0.06665936160783811, 0.06665936160783811, 0.1199868508941086, 0.9999428211638817, 0.052630493674556425, 0.19297847680670688, 0.08771748945759404, 0.5555440998980956, 0.040934828413543886, 0.07017399156607523, 0.6785612568659162, 0.049999250505909615, 0.12142675122863764, 0.14999775151772884, 0.036694515625044895, 0.8806683750010775, 0.027520886718783673, 0.055041773437567346, 0.06985356349465033, 0.6728001115537374, 0.029412026734589616, 0.08455957686194514, 0.003676503341823702, 0.014706013367294808, 0.007353006683647404, 0.11764810693835846, 0.044715147590006256, 0.686987267519187, 0.19512064402911822, 0.036585120755459666, 0.036585120755459666, 0.9579102170984367, 0.04164827030862768, 0.6144438483109793, 0.0662635522688311, 0.036143755782998783, 0.2710781683724909, 0.012047918594332928, 0.913760995905768, 0.08566509336616575, 0.04335748483649073, 0.2890498989099382, 0.26592590699714314, 0.08960546866208084, 0.049138482814689494, 0.1445249494549691, 0.02890498989099382, 0.02890498989099382, 0.06070047877108702, 0.6992842375398735, 0.24974437054995482, 0.049948874109990965, 0.3021294009298382, 0.5446839904087224, 0.0978729045265673, 0.029787405725477008, 0.025532062050408862, 0.03157980690962797, 0.02631650575802331, 0.05789631266765129, 0.8842345934695833, 0.015621281945418106, 0.9841407625613406, 0.9985788982508358, 0.9975814174577639, 0.24842144046682302, 0.745264321400469, 0.010029073114371189, 0.006382137436418029, 0.9409094049119151, 0.04285149421594962, 0.042244559627628804, 0.8589727124284523, 0.09857063913113387, 0.02399742785976987, 0.05599399833946304, 0.8879048308114853, 0.03199657047969316, 0.19026556165986858, 0.8086286370544414, 0.9996778736855978, 0.9998433246733679, 0.9872809114289648, 0.887001220925142, 0.03225458985182335, 0.08063647462955836, 0.9969193353667213, 0.9983873128290229, 0.9984061436847653, 0.23211604412677475, 0.03974925914221724, 0.2983648093638035, 0.0755726655296476, 0.02502731131176641, 0.08391510263356973, 0.1423121623610247, 0.0804799814731312, 0.022573653340024608, 0.987368264851322, 0.03766132267469326, 0.014646069929047378, 0.10461478520748127, 0.043938209787142135, 0.09415330668673315, 0.13599922076972565, 0.016738365633197003, 0.48750489906686273, 0.02301525274564588, 0.04184591408299251, 0.9968780525571955, 0.995066923755954, 0.08331991068040022, 0.7617820405065162, 0.08331991068040022, 0.0714170662974859, 0.9978828850661592, 0.027496790040227887, 0.03262952418107043, 0.09752194867600825, 0.07919075531585631, 0.05169396527562843, 0.16864697891339772, 0.020897560430573194, 0.12171912391140878, 0.0780908837142472, 0.2702017901286394, 0.017964569492948886, 0.034096019649882583, 0.9747551167573526, 0.9872874639494716, 0.010636842087304144, 0.06382105252382486, 0.03191052626191243, 0.8934947353335482, 0.9862562081870253, 0.01351035901626062, 0.9964169459229757, 0.2727446669717789, 0.5532267713044593, 0.0038687186804507645, 0.08124309228946605, 0.03868718680450764, 0.050293342845859935, 0.06503679843366499, 0.7072751829661067, 0.04064799902104062, 0.05690719862945687, 0.13007359686732997, 0.0015529170653113432, 0.018635004783736118, 0.9690202487542781, 0.010870419457179401, 0.9872874639494716, 0.08772735716034737, 0.056685369242070606, 0.010797213188965829, 0.30907022753414687, 0.033741291215518214, 0.008097909891724372, 0.0013496516486207286, 0.49262285174656595, 0.9985905871855607, 0.9936847966118907, 0.05376898944951877, 0.0629865304980077, 0.061450273656592884, 0.05530524629093359, 0.016898825255563042, 0.5945313976275362, 0.15516194098289704, 0.05127968714413215, 0.9230343685943787, 0.025639843572066074, 0.04300664007569872, 0.5913413010408574, 0.17202656030279487, 0.1612749002838702, 0.03225498005677404, 0.010439545915000754, 0.3528566519270255, 0.11274709588200815, 0.016703273464001207, 0.3090105590840223, 0.039670274477002866, 0.06890100303900498, 0.05219772957500377, 0.03758236529400272, 0.9984979717407523, 0.9788865910963594, 0.01687735501890275, 0.004219338754725688, 0.9748291018104155, 0.09172150980585844, 0.014793791904170716, 0.2455769456092339, 0.6331742934985066, 0.014793791904170716, 0.965838076910743, 0.033889055330201506, 0.1361779556524104, 0.013394553014991187, 0.27771373251081727, 0.08349271379344506, 0.14108929175790716, 0.14242874705940628, 0.06206142896945916, 0.1437682023609054, 0.12101161388359438, 0.04458322616764004, 0.7833909740885321, 0.0509522584773029, 0.9222993096812231, 0.025858859149940832, 0.051717718299881664, 0.9747534133904369, 0.8594535447952397, 0.03614524253811756, 0.06827434701644428, 0.03614524253811756, 0.7099020717645902, 0.06218120336624148, 0.04145413557749432, 0.01554530084156037, 0.17099830925716406, 0.08888270614893755, 0.07777236788032035, 0.8332753701462895, 0.016195204210801582, 0.024292806316202377, 0.9595658494899938, 0.13575353769925197, 0.1922173985122152, 0.03904415907279371, 0.0240271748140269, 0.00961086992561076, 0.03423872410998833, 0.0030033968517533625, 0.006607473073857398, 0.518986975982981, 0.03664144159139102, 0.9996931595144528, 0.012347110995980091, 0.29386124170432615, 0.03951075518713629, 0.0271636441911562, 0.135818220955781, 0.04198017738633231, 0.3037389305011102, 0.032102488589548235, 0.11359342116301684, 0.0061523058390557765, 0.007519484914401504, 0.022558454743204514, 0.05742152116452058, 0.026659991969241698, 0.007519484914401504, 0.04921844671244621, 0.032812297808297475, 0.7902295055498308, 0.13411519096023805, 0.06786551831722888, 0.5267656897956338, 0.03878029618127365, 0.0016158456742197355, 0.23106593141342216, 0.056325855617377456, 0.04224439171303309, 0.04224439171303309, 0.8589692981650062, 0.9964357025241074, 0.9982827628283244, 0.050485994112476944, 0.6803588730395702, 0.028849139492843966, 0.04086961428152895, 0.007212284873210992, 0.12741703276006086, 0.019232759661895978, 0.04567780419700295, 0.9748291018104155, 0.6982697249133751, 0.29925845353430364, 0.03996526159160013, 0.9591662781984032, 0.15216607602049007, 0.5813793525196655, 0.0010494212139344143, 0.029383793990163602, 0.011543633353278557, 0.023087266706557114, 0.20148887307540755, 0.9915657276219048, 0.009259044072866705, 0.6944283054650029, 0.1851808814573341, 0.11110852887440047, 0.021731044838331742, 0.9778970177249284, 0.997255773693131, 0.9994773501845626, 0.10526590899607031, 0.11184502830832471, 0.01315823862450879, 0.23684829524115822, 0.532908664292606, 0.05634171753254386, 0.07042714691567983, 0.06761006103905264, 0.17747641022751318, 0.011268343506508773, 0.5746855188319474, 0.0422562881494079, 0.9984131139350851, 0.81638349329359, 0.1814185540652422, 0.9980115259496694, 0.046295349503353816, 0.09259069900670763, 0.037036279602683055, 0.09259069900670763, 0.7314665221529904, 0.9980960428331175, 0.9641683290822999, 0.03594487191754188, 0.0804484958980052, 0.0459705690845744, 0.0114926422711436, 0.86194817033577, 0.9999366589000024, 0.9995916525824156, 0.21392341348073163, 0.7843858494293493, 0.9226224116686622, 0.07688520097238852, 0.36397001478711455, 0.03533689463952568, 0.02473582624766798, 0.06007272088719367, 0.515918661737075, 0.9958293946297005, 0.46148978422234344, 0.2820215348025432, 0.012819160672842873, 0.2435640527840146, 0.08544283043078535, 0.13472313511908063, 0.03368078377977016, 0.03084450725094741, 0.03297171464756447, 0.39814231773349357, 0.08154295020365407, 0.09607886741387067, 0.1028150241698247, 0.0038998802271312818, 0.10325997209255991, 0.24476437829347533, 0.03250776899210219, 0.01912221705417776, 0.14915329302258654, 0.13767996279007988, 0.2543254868205642, 0.030595547286684417, 0.02868332558126664, 0.09434262254233966, 0.8993996682369714, 0.006289508169489311, 0.010638828145551752, 0.005319414072775876, 0.9840916034635371, 0.9990047521516987, 0.8257543368662725, 0.17432591556065755, 0.13191991313213539, 0.13010283443885529, 0.006541483295808367, 0.1798907906347301, 0.017080539716832956, 0.03779523682022612, 0.043246472900066425, 0.022531775796673262, 0.00835856198908847, 0.06868557460598786, 0.12210768818842285, 0.015263461023552857, 0.07922463102701244, 0.050878203411842855, 0.08649294580013285, 0.020400174604579862, 0.9792083810198333, 0.9391646949499179, 0.030295635320965096, 0.030295635320965096, 0.00041447389743264523, 0.27603961569014174, 0.04393423312786039, 0.019480273179334325, 0.0037302650768938073, 0.004144738974326452, 0.6407766454308695, 0.005802634564057033, 0.005802634564057033], \"Term\": [\"30th\", \"3rd\", \"47th\", \"abandon\", \"abandon\", \"abandonment\", \"abandonment\", \"abatement\", \"abatement\", \"abatement\", \"absent\", \"absent\", \"absent\", \"absent\", \"absent\", \"absent\", \"absent\", \"absent\", \"absent\", \"absent\", \"abstain\", \"abstain\", \"abstain\", \"abuse\", \"abuse\", \"aca\", \"accident\", \"accident\", \"accident\", \"accident\", \"accidental\", \"acclamation\", \"accomplishment\", \"account\", \"account\", \"account\", \"account\", \"account\", \"account\", \"account\", \"achn\", \"acquisition\", \"acquisition\", \"acquisition\", \"acquisition\", \"acquisition\", \"acquisition\", \"acquisition\", \"acquisition\", \"acquisition\", \"act\", \"act\", \"act\", \"act\", \"act\", \"act\", \"act\", \"act\", \"act\", \"act\", \"act\", \"acting\", \"action\", \"action\", \"action\", \"action\", \"action\", \"action\", \"action\", \"action\", \"action\", \"action\", \"action\", \"action\", \"action\", \"activity\", \"activity\", \"activity\", \"activity\", \"activity\", \"activity\", \"activity\", \"activity\", \"activity\", \"actuarial\", \"acute\", \"address\", \"address\", \"address\", \"address\", \"address\", \"address\", \"address\", \"adhere\", \"adhere\", \"adhere\", \"adjustment\", \"adjustment\", \"adjustment\", \"adjustment\", \"adjustments\", \"administrator\", \"administrator\", \"administrator\", \"administrator\", \"administrator\", \"administrator\", \"administrator\", \"adopt\", \"adopt\", \"adopt\", \"adopt\", \"adopt\", \"adopt\", \"adult\", \"adult\", \"adult\", \"adult\", \"adults\", \"advertise\", \"advertise\", \"advertise\", \"advertise\", \"advertise\", \"advertisement\", \"advertisement\", \"advocacy\", \"advocacy\", \"advocacy\", \"advocate\", \"advocate\", \"advocate\", \"aeration\", \"aerial\", \"affect\", \"affect\", \"affect\", \"affect\", \"affidavit\", \"affidavit\", \"affordable\", \"agency\", \"agency\", \"agency\", \"agency\", \"agency\", \"agency\", \"agency\", \"agenda\", \"agenda\", \"agenda\", \"agenda\", \"agenda\", \"agenda\", \"agenda\", \"agenda\", \"agenda\", \"agenda\", \"agenda\", \"agenda\", \"agenda\", \"agenda\", \"agenda\", \"agenda\", \"agenda\", \"agenda\", \"agreement\", \"agreement\", \"agreement\", \"agreement\", \"agreement\", \"agreement\", \"agreement\", \"agreement\", \"agreement\", \"agreement\", \"agreement\", \"agreement\", \"agrees\", \"ahap\", \"aka\", \"akpan\", \"akpan\", \"alcohol\", \"alcohol\", \"alcohol\", \"alcoholic\", \"aldermen\", \"alex\", \"alitto\", \"alj\", \"alj\", \"allegation\", \"allegation\", \"allen\", \"allen\", \"allot\", \"allot\", \"allot\", \"allow\", \"allow\", \"allow\", \"allow\", \"allow\", \"allow\", \"allow\", \"allowed\", \"allows\", \"alsip\", \"alteration\", \"alteration\", \"alteration\", \"am160\", \"ambulatory\", \"amend\", \"amend\", \"amend\", \"amend\", \"amend\", \"amend\", \"amend\", \"amend\", \"amend\", \"amend\", \"amend\", \"amend\", \"amend\", \"amend\", \"amendment\", \"amendment\", \"amendment\", \"amendment\", \"amendment\", \"amendment\", \"amendment\", \"amendment\", \"amendment\", \"amendment\", \"amendments\", \"amends\", \"amenities\", \"amey\", \"ammarell\", \"amount\", \"amount\", \"amount\", \"amount\", \"amount\", \"amount\", \"amount\", \"amount\", \"amount\", \"amount\", \"amount\", \"ancillary\", \"andre\", \"andrews\", \"anita\", \"anita\", \"anita\", \"ankle\", \"announcements\", \"annuitant\", \"annuities\", \"annuity\", \"annuity\", \"annuity\", \"annuity\", \"answer\", \"answer\", \"answer\", \"anthony\", \"anthony\", \"anthony\", \"anything\", \"apartment\", \"apartment\", \"apartment\", \"apartment\", \"apartment\", \"apartment\", \"apartments\", \"apparent\", \"appeal\", \"appeal\", \"appeal\", \"appeal\", \"appeal\", \"appeal\", \"appeal\", \"appearance\", \"appearance\", \"appearance\", \"appearance\", \"appellate\", \"appliances\", \"applicant\", \"applicant\", \"applicant\", \"applicant\", \"applicant\", \"applicant\", \"applicants\", \"application\", \"application\", \"application\", \"application\", \"application\", \"application\", \"application\", \"application\", \"application\", \"application\", \"application\", \"application\", \"apply\", \"apply\", \"apply\", \"apply\", \"apply\", \"apply\", \"appropriation\", \"appropriation\", \"appropriation\", \"appropriation\", \"appropriation\", \"appropriation\", \"approval\", \"approval\", \"approval\", \"approval\", \"approval\", \"approval\", \"approval\", \"approval\", \"approval\", \"approval\", \"approval\", \"approval\", \"approval\", \"approval\", \"approval\", \"approval\", \"approval\", \"approvals\", \"approve\", \"approve\", \"approve\", \"approve\", \"approve\", \"approve\", \"approve\", \"approve\", \"approve\", \"approve\", \"approve\", \"approve\", \"approve\", \"approves\", \"approves\", \"approves\", \"approves\", \"approx\", \"april\", \"april\", \"april\", \"april\", \"april\", \"april\", \"april\", \"april\", \"april\", \"architectural\", \"area\", \"area\", \"area\", \"area\", \"area\", \"area\", \"area\", \"area\", \"area\", \"area\", \"arise\", \"arroyo\", \"arroyo\", \"arroyo\", \"arroyo\", \"arthington\", \"article\", \"article\", \"article\", \"article\", \"ashley\", \"ask\", \"ask\", \"ask\", \"ask\", \"ask\", \"ask\", \"asking\", \"assess\", \"assess\", \"assessment\", \"assessment\", \"assessment\", \"assessment\", \"assignments\", \"assistance\", \"assistance\", \"assistance\", \"assistance\", \"assistance\", \"assistance\", \"assistance\", \"assurance\", \"assurance\", \"assurance\", \"astor\", \"astor\", \"astor\", \"atlanta\", \"atlanta\", \"att\", \"attachment\", \"attachment\", \"attachment\", \"attachment\", \"attachment\", \"attachment\", \"attachments\", \"attendees\", \"attest\", \"attest\", \"attorney\", \"attorney\", \"attorney\", \"attorney\", \"attorney\", \"attorney\", \"attorney\", \"attpdf\", \"audit\", \"audit\", \"audit\", \"audit\", \"audit\", \"audit\", \"audit\", \"audit\", \"audit\", \"auditor\", \"auditor\", \"auditor\", \"authority\", \"authority\", \"authority\", \"authority\", \"authority\", \"authority\", \"authority\", \"authority\", \"authority\", \"authority\", \"authority\", \"authority\", \"authorization\", \"authorization\", \"authorization\", \"authorization\", \"authorization\", \"authorization\", \"authorization\", \"authorization\", \"authorization\", \"authorize\", \"authorize\", \"authorize\", \"authorize\", \"authorize\", \"authorize\", \"authorize\", \"authorize\", \"authorize\", \"authorize\", \"authorizing\", \"ave\", \"ave\", \"ave\", \"ave\", \"ave\", \"ave\", \"ave\", \"ave\", \"ave\", \"avenue\", \"avenue\", \"avenue\", \"avenue\", \"avenue\", \"avenue\", \"avenue\", \"avenue\", \"avenue\", \"avenue\", \"avenues\", \"aviation\", \"aviation\", \"aviation\", \"aviation\", \"aviation\", \"avila\", \"avila\", \"avila\", \"avila\", \"awardee\", \"awareness\", \"b11\", \"b12\", \"b13\", \"b13\", \"b22\", \"b23\", \"b31\", \"b31\", \"b32\", \"b32\", \"b35\", \"balconies\", \"balcony\", \"balcony\", \"balcony\", \"bank\", \"bank\", \"bank\", \"bank\", \"bank\", \"bank\", \"bank\", \"bank\", \"bank\", \"bank\", \"bar\", \"bar\", \"barbara\", \"barbara\", \"barbara\", \"barbara\", \"barbara\", \"barbara\", \"barber\", \"bargain\", \"bargaining\", \"bargaining\", \"bargaining\", \"barrier\", \"barrier\", \"barrier\", \"barrier\", \"barry\", \"barry\", \"barry\", \"base\", \"base\", \"base\", \"base\", \"base\", \"base\", \"base\", \"base\", \"base\", \"bearing\", \"beaver\", \"beaver\", \"beaver\", \"begin\", \"begin\", \"begin\", \"begin\", \"begin\", \"begin\", \"begin\", \"beginning\", \"behavior\", \"behavioral\", \"believe\", \"believe\", \"believe\", \"belmont\", \"belmont\", \"beneficial\", \"benefit\", \"benefit\", \"benefit\", \"benefit\", \"benefit\", \"benefit\", \"benefit\", \"benefit\", \"benjamin\", \"benjamin\", \"benjamin\", \"bernard\", \"berth\", \"berwyn\", \"bf5pdf\", \"bid\", \"bid\", \"bid\", \"bid\", \"bid\", \"bid\", \"bidder\", \"bidder\", \"bidder\", \"bidder\", \"bidder\", \"bidder\", \"bidding\", \"bidding\", \"bilandic\", \"bilandic\", \"biosolids\", \"blower\", \"blvd\", \"blvd\", \"blvd\", \"blvd\", \"board\", \"board\", \"board\", \"board\", \"board\", \"board\", \"board\", \"board\", \"board\", \"board\", \"board\", \"board\", \"board\", \"board\", \"board\", \"board\", \"body\", \"body\", \"body\", \"body\", \"body\", \"body\", \"body\", \"boldface\", \"boldface\", \"bond\", \"bond\", \"bond\", \"bond\", \"bond\", \"bond\", \"bond\", \"bonding\", \"bonding\", \"book\", \"book\", \"boruta\", \"botanic\", \"boykin\", \"boykin\", \"boys\", \"bradford\", \"bradford\", \"brandon\", \"brandon\", \"breakdown\", \"breast\", \"brewer\", \"brewer\", \"brick\", \"brick\", \"briefed\", \"bringing\", \"britton\", \"britton\", \"britton\", \"broadway\", \"broadway\", \"broadway\", \"broadway\", \"broadway\", \"brookfield\", \"brookfield\", \"brothers\", \"bryn\", \"bryn\", \"budget\", \"budget\", \"budget\", \"budget\", \"budget\", \"budget\", \"budget\", \"budget\", \"budget\", \"budget\", \"budget\", \"build\", \"build\", \"build\", \"build\", \"build\", \"build\", \"build\", \"build\", \"build\", \"build\", \"build\", \"build\", \"build\", \"builders\", \"building\", \"building\", \"building\", \"building\", \"building\", \"building\", \"building\", \"building\", \"building\", \"building\", \"building\", \"building\", \"building\", \"buildout\", \"bureau\", \"bureau\", \"bureau\", \"bureau\", \"bureau\", \"bureau\", \"business\", \"business\", \"business\", \"business\", \"business\", \"business\", \"business\", \"business\", \"business\", \"business\", \"business\", \"business\", \"business\", \"business\", \"businessnew\", \"businessnew\", \"businessnew\", \"butler\", \"butler\", \"butler\", \"butler\", \"butler\", \"buyspeed\", \"buyspeed\", \"c12\", \"c13\", \"c22\", \"c33\", \"cabinet\", \"cabrera\", \"cabrera\", \"cabrini\", \"cabrini\", \"cafr\", \"cal\", \"calendar\", \"calendar\", \"calendar\", \"calendar\", \"calendar\", \"call\", \"call\", \"call\", \"call\", \"call\", \"call\", \"call\", \"call\", \"call\", \"call\", \"call\", \"call\", \"call\", \"call\", \"calsag\", \"calsag\", \"calsma\", \"cameras\", \"camp\", \"camp\", \"camp\", \"campaign\", \"canal\", \"cancer\", \"canopy\", \"canopy\", \"canopy\", \"carbon\", \"carbon\", \"card\", \"card\", \"card\", \"card\", \"cardiac\", \"care\", \"care\", \"care\", \"care\", \"care\", \"care\", \"care\", \"care\", \"carey\", \"carey\", \"carry\", \"carry\", \"carry\", \"carry\", \"carry\", \"carry\", \"carry\", \"carry\", \"carter\", \"carter\", \"carter\", \"carter\", \"case\", \"case\", \"case\", \"case\", \"case\", \"case\", \"case\", \"case\", \"case\", \"case\", \"casino\", \"casino\", \"casino\", \"casinos\", \"categories\", \"cch\", \"cch\", \"cchhs\", \"cchhs\", \"cchhs\", \"cchhs\", \"center\", \"center\", \"center\", \"center\", \"center\", \"center\", \"center\", \"center\", \"center\", \"center\", \"center\", \"center\", \"center\", \"center\", \"center\", \"ceo\", \"ceo\", \"ceo\", \"ceo\", \"ceo\", \"ceopresident\", \"cer\", \"cer\", \"cer\", \"cer\", \"cer\", \"cerner\", \"certify\", \"certify\", \"certify\", \"certify\", \"cfo\", \"cfo\", \"cha\", \"cha\", \"cha\", \"cha\", \"cha\", \"chain\", \"chain\", \"chain\", \"chairman\", \"chairman\", \"chairman\", \"chairman\", \"chairman\", \"chairman\", \"chairman\", \"chairman\", \"chairman\", \"chairman\", \"chairman\", \"chairman\", \"chairperson\", \"chairperson\", \"chairperson\", \"chairperson\", \"chairwoman\", \"challenge\", \"challenge\", \"champlain\", \"chance\", \"change\", \"change\", \"change\", \"change\", \"change\", \"change\", \"change\", \"change\", \"change\", \"change\", \"change\", \"change\", \"change\", \"channel\", \"channel\", \"channel\", \"character\", \"charge\", \"charge\", \"charge\", \"charge\", \"charge\", \"charge\", \"charge\", \"charge\", \"chas\", \"chas\", \"chas\", \"check\", \"check\", \"check\", \"check\", \"check\", \"chemical\", \"chemical\", \"chestnut\", \"chestnut\", \"chi\", \"child\", \"child\", \"child\", \"child\", \"child\", \"child\", \"child\", \"child\", \"child\", \"childcare\", \"chorus\", \"christian\", \"christiana\", \"christina\", \"christina\", \"chronic\", \"chucgill\", \"circumstance\", \"circumstance\", \"circumstance\", \"cite\", \"cite\", \"city\", \"city\", \"city\", \"city\", \"city\", \"city\", \"city\", \"city\", \"city\", \"city\", \"city\", \"city\", \"city\", \"city\", \"city\", \"city\", \"cityowned\", \"cityowned\", \"cityowned\", \"claim\", \"claim\", \"claim\", \"claim\", \"claim\", \"claim\", \"claim\", \"claim\", \"class\", \"class\", \"class\", \"class\", \"class\", \"class\", \"class\", \"class\", \"classification\", \"classification\", \"classification\", \"clinic\", \"clinic\", \"clinic\", \"clinical\", \"closer\", \"cm\", \"cm\", \"cms\", \"code\", \"code\", \"code\", \"code\", \"code\", \"code\", \"code\", \"code\", \"code\", \"code\", \"code\", \"code\", \"coli\", \"coli\", \"collaborate\", \"collaborate\", \"collaboration\", \"collaboration\", \"collecting\", \"collection\", \"collection\", \"collection\", \"collection\", \"collection\", \"collins\", \"collins\", \"collins\", \"collins\", \"collins\", \"color\", \"color\", \"color\", \"column\", \"columns\", \"combine\", \"combine\", \"combine\", \"combine\", \"come\", \"come\", \"come\", \"come\", \"come\", \"come\", \"come\", \"come\", \"comm\", \"comm\", \"comment\", \"comment\", \"comment\", \"comment\", \"comment\", \"comment\", \"comment\", \"comment\", \"comment\", \"comment\", \"commentary\", \"commentary\", \"commercial\", \"commission\", \"commission\", \"commission\", \"commission\", \"commission\", \"commission\", \"commission\", \"commission\", \"commission\", \"commission\", \"commission\", \"commissioner\", \"commissioner\", \"commissioner\", \"commissioner\", \"commissioner\", \"commissioner\", \"commissioner\", \"commissioner\", \"commissioner\", \"commissioner\", \"commissioner\", \"commissioner\", \"commissioner\", \"commissioner\", \"commissioners\", \"commissioners\", \"commissioners\", \"commissioners\", \"commissioners\", \"commissioners\", \"commissioners\", \"commissioners\", \"commitment\", \"commitment\", \"commitment\", \"committee\", \"committee\", \"committee\", \"committee\", \"committee\", \"committee\", \"committee\", \"committee\", \"committee\", \"committee\", \"committee\", \"committee\", \"committee\", \"committee\", \"committee\", \"committee\", \"committee\", \"committees\", \"community\", \"community\", \"community\", \"community\", \"community\", \"community\", \"community\", \"community\", \"community\", \"community\", \"community\", \"compatible\", \"complaint\", \"complaint\", \"complaint\", \"complaint\", \"completing\", \"compliant\", \"comprehensive\", \"conclusive\", \"concurs\", \"concurs\", \"concurs\", \"concurs\", \"condition\", \"condition\", \"condition\", \"condition\", \"condition\", \"condition\", \"condolences\", \"conferences\", \"confidential\", \"configuration\", \"configuration\", \"configuration\", \"congratulate\", \"congratulate\", \"consent\", \"consent\", \"consent\", \"consent\", \"consent\", \"consent\", \"conservation\", \"conservation\", \"consideration\", \"consideration\", \"consideration\", \"consideration\", \"consideration\", \"consideration\", \"consideration\", \"consideration\", \"constitution\", \"constitution\", \"constitution\", \"constraint\", \"construct\", \"construct\", \"construct\", \"construct\", \"construct\", \"construct\", \"construction\", \"construction\", \"construction\", \"construction\", \"construction\", \"construction\", \"construction\", \"construction\", \"construction\", \"contain\", \"contain\", \"contain\", \"contain\", \"contain\", \"contain\", \"containing\", \"content\", \"contingent\", \"continuances\", \"continuum\", \"contract\", \"contract\", \"contract\", \"contract\", \"contract\", \"contract\", \"contract\", \"contract\", \"contract\", \"contract\", \"contractor\", \"contractor\", \"contractor\", \"contractor\", \"contractor\", \"contribution\", \"contribution\", \"contribution\", \"contribution\", \"contribution\", \"contribution\", \"control\", \"control\", \"control\", \"control\", \"control\", \"control\", \"conversation\", \"conversation\", \"convey\", \"convey\", \"convey\", \"cook\", \"cook\", \"cook\", \"cook\", \"cook\", \"cook\", \"cook\", \"cook\", \"cook\", \"cook\", \"cook\", \"cook\", \"cook\", \"cooling\", \"cooper\", \"cooper\", \"cooper\", \"cooperative\", \"coordinate\", \"coordinate\", \"coordinate\", \"coordinating\", \"core\", \"core\", \"core\", \"core\", \"cornelia\", \"corporation\", \"corporation\", \"corporation\", \"corporation\", \"corporation\", \"corporation\", \"corporation\", \"corporation\", \"cost\", \"cost\", \"cost\", \"cost\", \"cost\", \"cost\", \"cost\", \"cost\", \"cotta\", \"cotta\", \"council\", \"council\", \"council\", \"council\", \"council\", \"council\", \"council\", \"council\", \"council\", \"council\", \"council\", \"council\", \"council\", \"council\", \"counsel\", \"counsel\", \"counsel\", \"counsel\", \"counsel\", \"counsel\", \"counsel\", \"counsel\", \"counsel\", \"counsel\", \"counties\", \"county\", \"county\", \"county\", \"county\", \"county\", \"county\", \"county\", \"county\", \"county\", \"county\", \"county\", \"county\", \"county\", \"countycare\", \"countycare\", \"countycare\", \"countys\", \"countys\", \"course\", \"course\", \"course\", \"course\", \"course\", \"court\", \"court\", \"court\", \"court\", \"court\", \"court\", \"court\", \"court\", \"court\", \"court\", \"courthouse\", \"courthouse\", \"coverages\", \"cozzi\", \"cozzi\", \"cozzi\", \"cps\", \"cps\", \"crabtree\", \"creates\", \"creative\", \"credentialing\", \"credit\", \"credit\", \"credit\", \"credit\", \"credit\", \"credit\", \"crime\", \"crime\", \"crime\", \"criteria\", \"cultural\", \"cumulative\", \"cutoff\", \"cutting\", \"cycle\", \"cycle\", \"cynthia\", \"cynthia\", \"cynthia\", \"cynthia\", \"daley\", \"daley\", \"daley\", \"daley\", \"daley\", \"daley\", \"daley\", \"daley\", \"daniel\", \"daniel\", \"daniel\", \"daniel\", \"daniel\", \"daniel\", \"daniel\", \"daniel\", \"dark\", \"darlene\", \"darlene\", \"dart\", \"dart\", \"dart\", \"dart\", \"dashboard\", \"dashboard\", \"data\", \"data\", \"data\", \"data\", \"data\", \"data\", \"data\", \"data\", \"data\", \"date\", \"date\", \"date\", \"date\", \"date\", \"date\", \"date\", \"date\", \"date\", \"date\", \"date\", \"date\", \"date\", \"date\", \"date\", \"date\", \"date\", \"date\", \"davis\", \"davis\", \"davis\", \"davis\", \"davis\", \"day\", \"day\", \"day\", \"day\", \"day\", \"day\", \"day\", \"day\", \"day\", \"day\", \"day\", \"day\", \"deal\", \"deal\", \"dean\", \"dean\", \"death\", \"death\", \"death\", \"deborah\", \"deborah\", \"deborah\", \"deborah\", \"deborah\", \"debra\", \"debra\", \"debra\", \"debra\", \"debra\", \"debra\", \"debra\", \"decease\", \"decease\", \"decease\", \"decease\", \"decease\", \"deck\", \"deck\", \"declare\", \"declare\", \"declare\", \"decline\", \"decline\", \"decorative\", \"decrease\", \"decrease\", \"decrease\", \"decrease\", \"deeds\", \"deemed\", \"deep\", \"deer\", \"deer\", \"deer\", \"deer\", \"defendant\", \"defense\", \"defense\", \"defense\", \"defense\", \"defense\", \"defines\", \"defines\", \"definition\", \"definition\", \"definition\", \"definition\", \"definitions\", \"degnen\", \"degnen\", \"deleon\", \"deleon\", \"deleon\", \"deleon\", \"deleon\", \"delete\", \"delete\", \"delete\", \"deleting\", \"deliver\", \"deliver\", \"deliver\", \"deliver\", \"deliver\", \"deliver\", \"demolition\", \"demolition\", \"demolition\", \"demolition\", \"department\", \"department\", \"department\", \"department\", \"department\", \"department\", \"department\", \"department\", \"department\", \"department\", \"department\", \"department\", \"department\", \"department\", \"department\", \"departmental\", \"depend\", \"dependent\", \"depository\", \"derive\", \"description\", \"description\", \"description\", \"designee\", \"designee\", \"designee\", \"designee\", \"designee\", \"detach\", \"detach\", \"detach\", \"detainees\", \"detainees\", \"determines\", \"develop\", \"develop\", \"develop\", \"develop\", \"develop\", \"develop\", \"developed\", \"developer\", \"developer\", \"developer\", \"developer\", \"developers\", \"development\", \"development\", \"development\", \"development\", \"development\", \"development\", \"development\", \"development\", \"development\", \"development\", \"development\", \"development\", \"developments\", \"deverra\", \"devon\", \"devon\", \"devon\", \"devon\", \"diabetes\", \"dialysis\", \"differences\", \"direct\", \"direct\", \"direct\", \"direct\", \"direct\", \"directing\", \"directing\", \"director\", \"director\", \"director\", \"director\", \"director\", \"director\", \"director\", \"director\", \"director\", \"director\", \"disabilities\", \"disability\", \"disability\", \"disability\", \"disability\", \"disability\", \"disability\", \"disable\", \"disable\", \"disable\", \"disbursement\", \"disbursement\", \"disbursement\", \"disbursement\", \"discharge\", \"discharge\", \"discharge\", \"discharge\", \"disciplinary\", \"disclosure\", \"discount\", \"discount\", \"discussing\", \"disposition\", \"disposition\", \"disposition\", \"disposition\", \"disposition\", \"disqualify\", \"disqualify\", \"disqualify\", \"distributor\", \"distributor\", \"district\", \"district\", \"district\", \"district\", \"district\", \"district\", \"district\", \"district\", \"district\", \"district\", \"district\", \"district\", \"district\", \"districtwide\", \"districtwide\", \"diverse\", \"diverse\", \"diversey\", \"do\", \"do\", \"do\", \"docket\", \"docket\", \"docket\", \"docket\", \"doctor\", \"doctor\", \"doctor\", \"doctor\", \"doctor\", \"doesnt\", \"dont\", \"dont\", \"dont\", \"doody\", \"doody\", \"doody\", \"door\", \"door\", \"door\", \"door\", \"door\", \"dormer\", \"double\", \"downtown\", \"downtown\", \"downtown\", \"drainage\", \"drainage\", \"driscoll\", \"driscoll\", \"driscoll\", \"drivethrough\", \"driving\", \"duly\", \"duly\", \"duly\", \"duties\", \"duty\", \"duty\", \"duty\", \"duty\", \"duty\", \"dwell\", \"dwell\", \"dwell\", \"dx5\", \"dx7\", \"earlean\", \"earlier\", \"easement\", \"easement\", \"educational\", \"edwin\", \"edwin\", \"effort\", \"effort\", \"effort\", \"effort\", \"effort\", \"eighty\", \"eileen\", \"ekerete\", \"elect\", \"elect\", \"elect\", \"electric\", \"electronics\", \"electronics\", \"elevation\", \"elgin\", \"elgin\", \"elgin\", \"eligibility\", \"eligibility\", \"eligible\", \"em\", \"emerald\", \"emerald\", \"emilie\", \"employee\", \"employee\", \"employee\", \"employee\", \"employee\", \"employee\", \"employee\", \"employee\", \"employee\", \"employee\", \"employee\", \"employer\", \"employer\", \"employer\", \"employer\", \"employers\", \"ems\", \"ems\", \"ems\", \"enables\", \"enclose\", \"enclose\", \"end\", \"end\", \"end\", \"end\", \"end\", \"end\", \"end\", \"end\", \"end\", \"end\", \"end\", \"end\", \"enforcement\", \"enforcement\", \"enforcement\", \"enforcement\", \"engine\", \"engine\", \"engineer\", \"engineer\", \"engineer\", \"engineer\", \"engineering\", \"engineering\", \"engineering\", \"engineering\", \"engineering\", \"engineering\", \"english\", \"enhancements\", \"enjoy\", \"enjoy\", \"ensure\", \"ensure\", \"ensure\", \"ensure\", \"ensure\", \"ensure\", \"ensuring\", \"enter\", \"enter\", \"enter\", \"enter\", \"enter\", \"enter\", \"enter\", \"enter\", \"enter\", \"enter\", \"enter\", \"enterprise\", \"enterprise\", \"enterprise\", \"enterprise\", \"enterprise\", \"enterprise\", \"enterprise\", \"enterprise\", \"enterprise\", \"enterprise\", \"entitle\", \"entitle\", \"entitle\", \"entitle\", \"entitle\", \"entitle\", \"entitle\", \"entity\", \"entity\", \"entity\", \"entity\", \"entity\", \"erect\", \"erect\", \"erection\", \"error\", \"error\", \"error\", \"error\", \"error\", \"establish\", \"establish\", \"establish\", \"establish\", \"establish\", \"establish\", \"establish\", \"establish\", \"establishes\", \"establishment\", \"establishment\", \"establishment\", \"establishment\", \"establishment\", \"establishment\", \"establishment\", \"estate\", \"estate\", \"estate\", \"estate\", \"estate\", \"estate\", \"estate\", \"estate\", \"estate\", \"estate\", \"estimate\", \"estimate\", \"estimate\", \"estimate\", \"estimate\", \"estimate\", \"estimate\", \"ethics\", \"everyone\", \"everyone\", \"evidence\", \"evidence\", \"evidence\", \"evidence\", \"evidencebased\", \"evidentiary\", \"excavation\", \"exceed\", \"exceed\", \"exceed\", \"exceed\", \"exceed\", \"exceed\", \"exceed\", \"exceed\", \"exceed\", \"exceed\", \"exceeds\", \"excellent\", \"execute\", \"execute\", \"execute\", \"execute\", \"execute\", \"execute\", \"executive\", \"executive\", \"executive\", \"executive\", \"executive\", \"executive\", \"executive\", \"executive\", \"executive\", \"executive\", \"exist\", \"exist\", \"exist\", \"exist\", \"exist\", \"exist\", \"exist\", \"exist\", \"exist\", \"exists\", \"expectation\", \"expedite\", \"expense\", \"expense\", \"expense\", \"expense\", \"expense\", \"expense\", \"expense\", \"expense\", \"expense\", \"experiencing\", \"expertise\", \"expertise\", \"expertise\", \"expiring\", \"explain\", \"explain\", \"explain\", \"explore\", \"expulsion\", \"expulsion\", \"expulsion\", \"extends\", \"extension\", \"extension\", \"extension\", \"extension\", \"extension\", \"extension\", \"extension\", \"extension\", \"extension\", \"extensions\", \"extent\", \"extent\", \"extent\", \"exterior\", \"external\", \"extra\", \"faade\", \"faade\", \"faade\", \"facade\", \"facade\", \"facade\", \"facades\", \"face\", \"face\", \"face\", \"face\", \"face\", \"fache\", \"facilitate\", \"facilitate\", \"facility\", \"facility\", \"facility\", \"facility\", \"facility\", \"facility\", \"facility\", \"facility\", \"facility\", \"facility\", \"facility\", \"facility\", \"fails\", \"fails\", \"failure\", \"failure\", \"failure\", \"failure\", \"fairbanks\", \"fairbanks\", \"fairbanks\", \"faith\", \"faith\", \"faith\", \"family\", \"family\", \"family\", \"family\", \"family\", \"family\", \"family\", \"family\", \"familyworks\", \"father\", \"father\", \"feature\", \"feature\", \"feature\", \"feature\", \"feb\", \"feb\", \"fee\", \"fee\", \"fee\", \"fee\", \"fee\", \"fee\", \"fee\", \"fee\", \"fee\", \"fee\", \"feedback\", \"feedback\", \"feedback\", \"fegan\", \"fell\", \"fell\", \"fell\", \"female\", \"female\", \"festival\", \"festival\", \"fewer\", \"fifteen\", \"fifty\", \"fifty\", \"file\", \"file\", \"file\", \"file\", \"file\", \"file\", \"file\", \"file\", \"file\", \"file\", \"file\", \"fill\", \"fill\", \"finalizing\", \"finance\", \"finance\", \"finance\", \"finance\", \"finance\", \"finance\", \"finance\", \"finance\", \"finance\", \"finance\", \"finance\", \"finance\", \"finance\", \"financing\", \"financing\", \"financing\", \"finish\", \"finish\", \"fireman\", \"fireman\", \"fish\", \"fitzgerald\", \"fitzgerald\", \"fix\", \"fix\", \"fix\", \"fix\", \"fixture\", \"fixture\", \"fixture\", \"flash\", \"flash\", \"flashing\", \"flat\", \"floor\", \"floor\", \"floor\", \"floor\", \"floor\", \"floor\", \"floor\", \"floor\", \"floor\", \"floor\", \"floor\", \"floor\", \"floor\", \"floor\", \"floor\", \"flores\", \"flores\", \"flores\", \"flores\", \"florida\", \"focus\", \"focus\", \"focus\", \"focus\", \"focus\", \"focus\", \"follow\", \"follow\", \"follow\", \"follow\", \"follow\", \"follow\", \"follow\", \"follow\", \"follow\", \"follow\", \"follow\", \"follow\", \"follow\", \"follow\", \"follow\", \"follow\", \"food\", \"food\", \"food\", \"food\", \"food\", \"food\", \"food\", \"food\", \"foot\", \"foot\", \"foot\", \"foot\", \"foot\", \"foot\", \"foot\", \"force\", \"force\", \"force\", \"force\", \"ford\", \"ford\", \"ford\", \"forego\", \"forego\", \"forego\", \"forego\", \"foreman\", \"foreman\", \"foreman\", \"forensic\", \"forest\", \"forest\", \"forest\", \"found\", \"fpd\", \"fpd\", \"framework\", \"framework\", \"fraud\", \"fraud\", \"fraud\", \"freeman\", \"freeman\", \"fremont\", \"fritchey\", \"fritchey\", \"fritchey\", \"fritchey\", \"front\", \"front\", \"fulltime\", \"fulltime\", \"fund\", \"fund\", \"fund\", \"fund\", \"fund\", \"fund\", \"fund\", \"fund\", \"fund\", \"fund\", \"fund\", \"fund\", \"funding\", \"funding\", \"funding\", \"funding\", \"funding\", \"funding\", \"furnish\", \"furnish\", \"furnishing\", \"fy19\", \"fy19\", \"fy2011\", \"fy2011\", \"fy2012\", \"fy2012\", \"fy2020\", \"fy2020\", \"gainer\", \"gainer\", \"gainer\", \"gainer\", \"gamble\", \"gamble\", \"gamble\", \"gambling\", \"game\", \"game\", \"game\", \"game\", \"game\", \"gaming\", \"gaming\", \"garage\", \"garage\", \"garage\", \"garage\", \"garage\", \"garca\", \"garca\", \"garcia\", \"garcia\", \"garcia\", \"garcia\", \"garcia\", \"garcia\", \"gardner\", \"gardner\", \"gardner\", \"gary\", \"gary\", \"gasb\", \"general\", \"gentlemen\", \"gentlemen\", \"gentlemen\", \"germane\", \"germane\", \"germane\", \"get\", \"get\", \"get\", \"get\", \"get\", \"girl\", \"girl\", \"girls\", \"give\", \"give\", \"give\", \"give\", \"give\", \"give\", \"give\", \"give\", \"give\", \"glencoe\", \"glencoe\", \"go\", \"go\", \"go\", \"go\", \"go\", \"gorman\", \"gorman\", \"gorman\", \"goslin\", \"goslin\", \"goslin\", \"got\", \"governance\", \"governance\", \"government\", \"government\", \"government\", \"government\", \"government\", \"government\", \"government\", \"government\", \"government\", \"governmental\", \"grade\", \"grade\", \"grade\", \"grade\", \"grade\", \"grade\", \"grant\", \"grant\", \"grant\", \"grant\", \"grant\", \"grant\", \"grant\", \"grant\", \"grant\", \"grant\", \"grant\", \"granville\", \"green\", \"greg\", \"greg\", \"grit\", \"group\", \"group\", \"group\", \"group\", \"group\", \"group\", \"group\", \"group\", \"group\", \"group\", \"group\", \"group\", \"group\", \"guardian\", \"gugenheim\", \"guidance\", \"guidance\", \"habitat\", \"habitat\", \"hall\", \"hall\", \"hall\", \"hall\", \"hall\", \"hall\", \"hall\", \"hall\", \"hall\", \"hall\", \"hall\", \"hallie\", \"hammock\", \"hammock\", \"hammock\", \"hannah\", \"hannah\", \"hap\", \"hap\", \"hap\", \"happen\", \"happen\", \"happy\", \"hard\", \"harding\", \"harding\", \"harlem\", \"harlem\", \"hcv\", \"hcv\", \"health\", \"health\", \"health\", \"health\", \"health\", \"health\", \"health\", \"health\", \"health\", \"health\", \"health\", \"health\", \"heating\", \"heavy\", \"height\", \"height\", \"height\", \"height\", \"height\", \"help\", \"help\", \"help\", \"help\", \"help\", \"helpful\", \"henry\", \"henry\", \"henry\", \"henry\", \"henry\", \"hereby\", \"hereby\", \"hereby\", \"hereby\", \"hereby\", \"hereby\", \"hereby\", \"hereby\", \"hereby\", \"hereby\", \"hf\", \"hf\", \"higher\", \"highrisk\", \"highway\", \"highway\", \"highway\", \"highway\", \"highway\", \"highway\", \"highways\", \"hinshaw\", \"hinshaw\", \"hire\", \"hire\", \"hire\", \"hire\", \"hire\", \"hire\", \"historic\", \"history\", \"history\", \"history\", \"history\", \"history\", \"hiv\", \"hiv\", \"hold\", \"hold\", \"hold\", \"hold\", \"hold\", \"hold\", \"hold\", \"hold\", \"hold\", \"hold\", \"hold\", \"holder\", \"holleb\", \"homeland\", \"homeland\", \"homeland\", \"homelessness\", \"homer\", \"homer\", \"homer\", \"honorable\", \"honorable\", \"honore\", \"horner\", \"horner\", \"horton\", \"horton\", \"horwitz\", \"hospital\", \"hospital\", \"hospital\", \"hospital\", \"hospital\", \"hospital\", \"hospital\", \"hospital\", \"hospital\", \"hospital\", \"hospitals\", \"hosting\", \"hot\", \"hour\", \"hour\", \"hour\", \"hour\", \"hour\", \"hour\", \"hour\", \"hour\", \"hour\", \"hour\", \"hour\", \"house\", \"house\", \"house\", \"house\", \"house\", \"house\", \"house\", \"house\", \"households\", \"housing\", \"housing\", \"housing\", \"housing\", \"housing\", \"housing\", \"housing\", \"housing\", \"hud\", \"hud\", \"hud\", \"hud\", \"hundreds\", \"i57\", \"identi\", \"identify\", \"identify\", \"identify\", \"identify\", \"identify\", \"identify\", \"ifb\", \"ifb\", \"illinois\", \"illinois\", \"illinois\", \"illinois\", \"illinois\", \"illinois\", \"illinois\", \"illinois\", \"illinois\", \"illinois\", \"illinois\", \"illinois\", \"illinois\", \"illinois\", \"illinois\", \"illinois\", \"illinois\", \"illinois\", \"imaging\", \"immediate\", \"imminent\", \"impact\", \"impact\", \"impact\", \"impact\", \"impact\", \"impact\", \"impact\", \"impact\", \"implement\", \"implement\", \"implement\", \"implement\", \"implementing\", \"improvements\", \"inappropriate\", \"inc\", \"inc\", \"inc\", \"inc\", \"inc\", \"inc\", \"inc\", \"inc\", \"inc\", \"inc\", \"inc\", \"inc\", \"inc\", \"inc\", \"incentive\", \"incentive\", \"incentive\", \"incentive\", \"incentive\", \"incentive\", \"include\", \"include\", \"include\", \"include\", \"include\", \"include\", \"include\", \"include\", \"include\", \"include\", \"include\", \"include\", \"inclusion\", \"increase\", \"increase\", \"increase\", \"increase\", \"increase\", \"increase\", \"increase\", \"increase\", \"increase\", \"increase\", \"increase\", \"increase\", \"increase\", \"index\", \"index\", \"indicates\", \"indicator\", \"indictment\", \"indigent\", \"indigent\", \"individual\", \"individual\", \"individual\", \"individual\", \"infection\", \"info\", \"info\", \"information\", \"information\", \"information\", \"information\", \"information\", \"information\", \"information\", \"information\", \"information\", \"information\", \"information\", \"information\", \"injure\", \"injure\", \"injure\", \"injury\", \"injury\", \"injury\", \"injury\", \"injury\", \"inmate\", \"innovative\", \"inpatient\", \"inquire\", \"inquire\", \"insert\", \"insert\", \"inserting\", \"inspections\", \"inspector\", \"inspector\", \"inspector\", \"install\", \"install\", \"install\", \"install\", \"install\", \"install\", \"installation\", \"installation\", \"installation\", \"installation\", \"installation\", \"installing\", \"instance\", \"instance\", \"instance\", \"instruction\", \"insurance\", \"insurance\", \"insurance\", \"insurance\", \"insurance\", \"insurance\", \"insurance\", \"insurance\", \"insurers\", \"integrity\", \"interest\", \"interest\", \"interest\", \"interest\", \"interest\", \"interest\", \"interest\", \"interest\", \"interior\", \"interior\", \"introduction\", \"introduction\", \"introduction\", \"introduction\", \"introduction\", \"introduction\", \"introduction\", \"introduction\", \"introduction\", \"inv\", \"inv\", \"invasive\", \"invest\", \"investigation\", \"investigation\", \"investigation\", \"investigation\", \"investment\", \"investment\", \"investment\", \"investment\", \"investment\", \"investment\", \"investment\", \"investment\", \"investment\", \"invocation\", \"invocation\", \"invoice\", \"invoice\", \"invoice\", \"involvement\", \"involves\", \"island\", \"island\", \"island\", \"island\", \"issue\", \"issue\", \"issue\", \"issue\", \"issue\", \"issue\", \"issue\", \"issue\", \"issue\", \"issue\", \"issue\", \"issue\", \"item\", \"item\", \"item\", \"item\", \"item\", \"item\", \"item\", \"item\", \"item\", \"item\", \"item\", \"item\", \"item\", \"item\", \"ivers\", \"iwcc\", \"jack\", \"jack\", \"jack\", \"jaffe\", \"jaffe\", \"jaffe\", \"james\", \"james\", \"james\", \"james\", \"james\", \"james\", \"james\", \"james\", \"jan\", \"jan\", \"jan\", \"jan\", \"jay\", \"jay\", \"jay\", \"jay\", \"jay\", \"jeffrey\", \"jeffrey\", \"jeffrey\", \"jeffrey\", \"jeffrey\", \"jeffrey\", \"jeffrey\", \"jerry\", \"jerry\", \"jerry\", \"jerry\", \"jesus\", \"jesus\", \"jesus\", \"job\", \"job\", \"job\", \"job\", \"job\", \"job\", \"job\", \"job\", \"john\", \"john\", \"john\", \"john\", \"john\", \"john\", \"john\", \"john\", \"john\", \"john\", \"john\", \"john\", \"john\", \"john\", \"johnson\", \"johnson\", \"johnson\", \"johnson\", \"johnson\", \"johnson\", \"johnson\", \"joint\", \"joint\", \"joint\", \"joint\", \"joint\", \"josina\", \"josina\", \"jul\", \"jul\", \"jul\", \"jun\", \"jun\", \"june\", \"june\", \"june\", \"june\", \"june\", \"june\", \"june\", \"june\", \"june\", \"june\", \"june\", \"june\", \"june\", \"junge\", \"junge\", \"justice\", \"justice\", \"justice\", \"justice\", \"justice\", \"justice\", \"justice\", \"justification\", \"justification\", \"justify\", \"juvenile\", \"juvenile\", \"karen\", \"karen\", \"kari\", \"kari\", \"karoll\", \"kathy\", \"katz\", \"katz\", \"kedzie\", \"kedzie\", \"kedzie\", \"kedzie\", \"kedzie\", \"keep\", \"keep\", \"keep\", \"keep\", \"keep\", \"kelly\", \"kenmore\", \"kenmore\", \"kenwood\", \"kenwood\", \"kid\", \"kid\", \"kildare\", \"king\", \"king\", \"king\", \"king\", \"king\", \"kirie\", \"kitchen\", \"kitchen\", \"know\", \"know\", \"know\", \"know\", \"know\", \"know\", \"knowledge\", \"knowledge\", \"kostner\", \"kostner\", \"kostner\", \"kostner\", \"kupiec\", \"lady\", \"lady\", \"lady\", \"lakefront\", \"lakefront\", \"lakefront\", \"lakefront\", \"land\", \"land\", \"land\", \"land\", \"land\", \"land\", \"land\", \"land\", \"landmark\", \"landmark\", \"landmark\", \"landmark\", \"landmark\", \"landmarks\", \"landmarks\", \"landscape\", \"landscape\", \"landscape\", \"landscape\", \"landscape\", \"landscape\", \"landscaping\", \"landscaping\", \"lane\", \"lane\", \"language\", \"language\", \"language\", \"language\", \"language\", \"language\", \"language\", \"language\", \"laramie\", \"laramie\", \"lasma\", \"law\", \"law\", \"law\", \"law\", \"law\", \"law\", \"law\", \"law\", \"law\", \"law\", \"law\", \"law\", \"lawrence\", \"lawrence\", \"lawrence\", \"lawrence\", \"lawrence\", \"lawrence\", \"lease\", \"lease\", \"lease\", \"lease\", \"lease\", \"lease\", \"lease\", \"lease\", \"lease\", \"lease\", \"left\", \"left\", \"legislation\", \"legislation\", \"legislation\", \"legislation\", \"legislative\", \"less\", \"letter\", \"letter\", \"letter\", \"letter\", \"letter\", \"letter\", \"letter\", \"letter\", \"letter\", \"liabilities\", \"license\", \"license\", \"license\", \"license\", \"license\", \"license\", \"license\", \"license\", \"license\", \"licensee\", \"licensee\", \"licensee\", \"licensor\", \"lieu\", \"lieu\", \"lieu\", \"lighting\", \"like\", \"like\", \"like\", \"like\", \"limestone\", \"lincoln\", \"lincoln\", \"lincoln\", \"lincoln\", \"lincoln\", \"lincoln\", \"linear\", \"ling\", \"ling\", \"ling\", \"list\", \"list\", \"list\", \"list\", \"list\", \"list\", \"list\", \"list\", \"litigation\", \"litigation\", \"litigation\", \"litigation\", \"litigation\", \"litigation\", \"litigation\", \"living\", \"living\", \"living\", \"liz\", \"liz\", \"llc\", \"llc\", \"llc\", \"llc\", \"llc\", \"llc\", \"llc\", \"llc\", \"llc\", \"llc\", \"llc\", \"llc\", \"lnc\", \"lnc\", \"lnc\", \"lnc\", \"load\", \"load\", \"load\", \"load\", \"load\", \"loan\", \"loan\", \"loan\", \"loan\", \"loan\", \"loan\", \"locate\", \"locate\", \"locate\", \"locate\", \"locate\", \"locate\", \"locate\", \"locate\", \"locate\", \"locate\", \"location\", \"location\", \"location\", \"location\", \"location\", \"location\", \"location\", \"location\", \"location\", \"location\", \"location\", \"location\", \"location\", \"logpdf\", \"longer\", \"look\", \"look\", \"look\", \"look\", \"loomis\", \"lot\", \"lot\", \"lot\", \"lot\", \"lot\", \"lot\", \"lot\", \"lot\", \"lounge\", \"lounge\", \"lounge\", \"loyola\", \"loyola\", \"loyola\", \"loyola\", \"loyola\", \"loyola\", \"lump\", \"lump\", \"lump\", \"lump\", \"luther\", \"m23\", \"mail\", \"mail\", \"mailing\", \"maintain\", \"maintain\", \"maintain\", \"maintain\", \"maintain\", \"maintain\", \"maintain\", \"maintaining\", \"maintenance\", \"maintenance\", \"maintenance\", \"maintenance\", \"maintenance\", \"maintenance\", \"maintenance\", \"maintenance\", \"maintenance\", \"majewski\", \"majewski\", \"make\", \"make\", \"make\", \"make\", \"make\", \"make\", \"make\", \"make\", \"make\", \"make\", \"make\", \"make\", \"maldonado\", \"maldonado\", \"maldonado\", \"manage\", \"manage\", \"manage\", \"manage\", \"manage\", \"manage\", \"management\", \"management\", \"management\", \"management\", \"management\", \"management\", \"management\", \"management\", \"management\", \"management\", \"management\", \"management\", \"management\", \"management\", \"manages\", \"manhole\", \"manufacturing\", \"manufacturing\", \"manufacturing\", \"mapparcel\", \"mar\", \"mar\", \"mar\", \"march\", \"march\", \"march\", \"march\", \"march\", \"march\", \"march\", \"march\", \"march\", \"march\", \"march\", \"march\", \"march\", \"mariyana\", \"marked\", \"markowski\", \"marshfield\", \"martin\", \"martin\", \"martin\", \"martin\", \"martin\", \"marv\", \"masonry\", \"masonry\", \"masonry\", \"masonry\", \"massage\", \"massage\", \"match\", \"match\", \"match\", \"matter\", \"matter\", \"matter\", \"matter\", \"matter\", \"matter\", \"matter\", \"matter\", \"matter\", \"matter\", \"matter\", \"matter\", \"matter\", \"matter\", \"maureen\", \"mawr\", \"mawr\", \"mayor\", \"mayor\", \"mayor\", \"mayor\", \"mayor\", \"mayor\", \"mayor\", \"mayor\", \"mbe\", \"mbe\", \"mbe\", \"mbe\", \"mbewbe\", \"mbewbe\", \"mbewbedbe\", \"mbewbedbe\", \"mbewbedbe\", \"mccook\", \"mccutchan\", \"mcgowan\", \"mcgowan\", \"mcgowan\", \"mcgowan\", \"mchugh\", \"meadows\", \"meaning\", \"meaningful\", \"meany\", \"meany\", \"med\", \"med\", \"med\", \"medicare\", \"medicare\", \"medicine\", \"medicine\", \"medicine\", \"meet\", \"meet\", \"meet\", \"meet\", \"meet\", \"meet\", \"meet\", \"meet\", \"meet\", \"meet\", \"meet\", \"meet\", \"meet\", \"meet\", \"meet\", \"meet\", \"meeting\", \"meeting\", \"meeting\", \"meeting\", \"meeting\", \"meeting\", \"meeting\", \"meeting\", \"meeting\", \"meeting\", \"meeting\", \"meeting\", \"meeting\", \"meeting\", \"meeting\", \"member\", \"member\", \"member\", \"member\", \"member\", \"member\", \"member\", \"member\", \"member\", \"member\", \"member\", \"member\", \"member\", \"memory\", \"memory\", \"memory\", \"men\", \"men\", \"mental\", \"mentoring\", \"mercy\", \"mercy\", \"mercy\", \"mercy\", \"methodology\", \"methodology\", \"michigan\", \"michigan\", \"michigan\", \"michigan\", \"middle\", \"midway\", \"midway\", \"mildred\", \"mildred\", \"mildred\", \"mini\", \"minor\", \"minor\", \"minor\", \"minor\", \"minority\", \"minority\", \"minority\", \"minority\", \"minute\", \"minute\", \"minute\", \"minute\", \"minute\", \"minute\", \"minute\", \"minute\", \"minute\", \"minute\", \"minute\", \"minute\", \"minute\", \"minute\", \"minute\", \"misc\", \"misc\", \"mitigation\", \"mitigation\", \"mitigation\", \"mixed\", \"mixedincome\", \"mixeduse\", \"mixeduse\", \"model\", \"model\", \"model\", \"model\", \"model\", \"moderate\", \"modification\", \"modification\", \"modification\", \"modification\", \"modification\", \"monday\", \"monday\", \"monday\", \"monday\", \"monday\", \"monday\", \"money\", \"money\", \"money\", \"monica\", \"monica\", \"monica\", \"monitoring\", \"monitoring\", \"monitoring\", \"monitoring\", \"monitoring\", \"monitoring\", \"monitoring\", \"monroe\", \"monroe\", \"monroe\", \"month\", \"month\", \"month\", \"month\", \"month\", \"month\", \"month\", \"month\", \"month\", \"month\", \"month\", \"month\", \"monthly\", \"monticello\", \"moody\", \"moody\", \"moody\", \"moody\", \"moody\", \"moore\", \"moore\", \"moore\", \"moore\", \"moore\", \"moore\", \"moore\", \"morale\", \"morale\", \"morales\", \"morask\", \"morgan\", \"morita\", \"morita\", \"morrison\", \"morrison\", \"morrison\", \"morrison\", \"morrissey\", \"mortality\", \"mortality\", \"mortar\", \"mother\", \"mother\", \"mother\", \"mother\", \"motion\", \"motion\", \"motion\", \"motion\", \"motion\", \"motion\", \"motion\", \"motion\", \"motion\", \"move\", \"move\", \"move\", \"move\", \"move\", \"move\", \"move\", \"move\", \"move\", \"mozart\", \"mtw\", \"multi\", \"multiunit\", \"multiunit\", \"municipalities\", \"municipality\", \"municipality\", \"murphy\", \"murphy\", \"murphy\", \"murphy\", \"murphy\", \"murphy\", \"mwbe\", \"mwbe\", \"mwrdgc\", \"myra\", \"myra\", \"nagle\", \"nail\", \"name\", \"name\", \"name\", \"name\", \"name\", \"name\", \"name\", \"narragansett\", \"nathaniel\", \"nathaniel\", \"nature\", \"nature\", \"nature\", \"nature\", \"navy\", \"neal\", \"need\", \"need\", \"need\", \"need\", \"need\", \"need\", \"need\", \"need\", \"need\", \"need\", \"negative\", \"neighborhood\", \"neighborhood\", \"neighborhood\", \"neighborhood\", \"neighborhood\", \"net\", \"network\", \"network\", \"network\", \"network\", \"network\", \"network\", \"network\", \"network\", \"next\", \"nielsen\", \"niemann\", \"noncompliance\", \"nonconforming\", \"nonconforming\", \"none\", \"none\", \"none\", \"none\", \"none\", \"none\", \"none\", \"none\", \"none\", \"none\", \"nonmtw\", \"nonprofit\", \"northbrook\", \"northbrook\", \"northwest\", \"nos\", \"note\", \"note\", \"note\", \"note\", \"note\", \"note\", \"note\", \"note\", \"note\", \"note\", \"note\", \"notto\", \"nottoexceed\", \"nottoexceed\", \"nottoexceed\", \"nottoexceed\", \"november\", \"november\", \"november\", \"november\", \"november\", \"november\", \"number\", \"number\", \"number\", \"number\", \"number\", \"number\", \"number\", \"number\", \"number\", \"number\", \"number\", \"nurse\", \"nurse\", \"nurse\", \"nursing\", \"nursing\", \"nursing\", \"oak\", \"oak\", \"oak\", \"oak\", \"oak\", \"oak\", \"oak\", \"oak\", \"oaks\", \"oakwood\", \"oakwood\", \"objective\", \"objective\", \"objectives\", \"objector\", \"objectors\", \"obligation\", \"obligation\", \"obligation\", \"obligations\", \"obrien\", \"obrien\", \"occupational\", \"occupies\", \"occupies\", \"occur\", \"occur\", \"occur\", \"occur\", \"occurs\", \"occurs\", \"odonnell\", \"office\", \"office\", \"office\", \"office\", \"office\", \"office\", \"office\", \"office\", \"office\", \"office\", \"office\", \"office\", \"office\", \"office\", \"office\", \"office\", \"office\", \"officer\", \"officer\", \"officer\", \"officer\", \"officer\", \"officer\", \"officer\", \"officer\", \"officer\", \"officer\", \"officer\", \"officer\", \"official\", \"official\", \"official\", \"official\", \"officio\", \"officio\", \"ogden\", \"ogden\", \"ogrady\", \"older\", \"one\", \"onebedroom\", \"onelane\", \"ongoing\", \"ongoing\", \"ongoing\", \"ongoing\", \"open\", \"open\", \"open\", \"open\", \"open\", \"open\", \"open\", \"open\", \"operates\", \"operation\", \"operation\", \"operation\", \"operation\", \"operation\", \"operation\", \"operation\", \"operation\", \"operation\", \"operation\", \"operation\", \"operation\", \"operational\", \"opportunity\", \"opportunity\", \"opportunity\", \"opportunity\", \"opportunity\", \"opportunity\", \"opportunity\", \"opportunity\", \"oppose\", \"oppose\", \"option\", \"option\", \"option\", \"option\", \"option\", \"option\", \"option\", \"option\", \"oral\", \"order\", \"order\", \"order\", \"order\", \"order\", \"order\", \"order\", \"order\", \"order\", \"order\", \"order\", \"order\", \"order\", \"order\", \"orderchange\", \"ordinance\", \"ordinance\", \"ordinance\", \"ordinance\", \"ordinance\", \"ordinance\", \"ordinance\", \"ordinance\", \"ordinance\", \"ordinance\", \"ordinance\", \"ordinance\", \"ordinance\", \"ordinance\", \"ordinances\", \"ordinances\", \"ordinances\", \"ordinances\", \"ordinances\", \"org\", \"org\", \"org\", \"org\", \"organization\", \"organization\", \"organization\", \"organization\", \"organization\", \"organization\", \"organization\", \"orr\", \"orr\", \"ostrowski\", \"ostrowski\", \"otherwise\", \"otherwise\", \"otherwise\", \"outcomes\", \"overall\", \"overhead\", \"overtime\", \"owe\", \"owner\", \"owner\", \"owner\", \"owner\", \"owner\", \"owner\", \"owner\", \"ownership\", \"ownership\", \"ownership\", \"ownership\", \"pace\", \"pace\", \"pace\", \"page\", \"page\", \"page\", \"page\", \"page\", \"page\", \"page\", \"page\", \"page\", \"page\", \"page\", \"page\", \"page\", \"page\", \"page\", \"page\", \"painting\", \"panel\", \"panel\", \"panel\", \"panel\", \"parapet\", \"parent\", \"parent\", \"parent\", \"parent\", \"park\", \"park\", \"park\", \"park\", \"park\", \"park\", \"park\", \"park\", \"park\", \"park\", \"park\", \"park\", \"parking\", \"parking\", \"parking\", \"parking\", \"parking\", \"parking\", \"part\", \"part\", \"part\", \"part\", \"part\", \"part\", \"part\", \"part\", \"part\", \"part\", \"part\", \"participants\", \"partnerships\", \"parttime\", \"parttime\", \"paschensn\", \"pass\", \"pass\", \"pass\", \"pass\", \"pass\", \"pass\", \"pass\", \"pass\", \"pass\", \"pastor\", \"patch\", \"patient\", \"patient\", \"patient\", \"patient\", \"patient\", \"patrol\", \"patron\", \"patron\", \"paul\", \"paul\", \"paul\", \"paul\", \"paul\", \"pave\", \"pave\", \"paving\", \"pay\", \"pay\", \"pay\", \"pay\", \"pay\", \"pay\", \"pay\", \"payee\", \"payee\", \"payment\", \"payment\", \"payment\", \"payment\", \"payment\", \"payment\", \"payment\", \"payment\", \"payment\", \"payor\", \"pediatrics\", \"penalty\", \"penalty\", \"pension\", \"pension\", \"pension\", \"pension\", \"pension\", \"pension\", \"penthouse\", \"people\", \"people\", \"people\", \"people\", \"people\", \"people\", \"people\", \"people\", \"peraica\", \"peraica\", \"peraica\", \"peraica\", \"percent\", \"percent\", \"percent\", \"percent\", \"percentage\", \"percentage\", \"percentage\", \"period\", \"period\", \"period\", \"period\", \"period\", \"period\", \"period\", \"period\", \"period\", \"period\", \"period\", \"period\", \"permanent\", \"permit\", \"permit\", \"permit\", \"permit\", \"permit\", \"permit\", \"permit\", \"permit\", \"person\", \"person\", \"person\", \"person\", \"person\", \"person\", \"person\", \"person\", \"perspective\", \"pertaining\", \"petroleum\", \"pharmaceutical\", \"physician\", \"physician\", \"physician\", \"physician\", \"physician\", \"physicians\", \"pier\", \"place\", \"place\", \"place\", \"place\", \"place\", \"place\", \"place\", \"place\", \"place\", \"place\", \"place\", \"plan\", \"plan\", \"plan\", \"plan\", \"plan\", \"plan\", \"plan\", \"plan\", \"plan\", \"plan\", \"plan\", \"plan\", \"plan\", \"plant\", \"plant\", \"plant\", \"plant\", \"planter\", \"planter\", \"planter\", \"pmd\", \"pocument\", \"point\", \"point\", \"point\", \"point\", \"poison\", \"poisoning\", \"pollution\", \"pollution\", \"ponce\", \"population\", \"population\", \"population\", \"porch\", \"porch\", \"portal\", \"portion\", \"portion\", \"portion\", \"portion\", \"portion\", \"portion\", \"portion\", \"portion\", \"portion\", \"portion\", \"position\", \"position\", \"position\", \"position\", \"position\", \"position\", \"position\", \"possibility\", \"post\", \"post\", \"post\", \"post\", \"post\", \"post\", \"post\", \"postage\", \"postage\", \"potential\", \"pra\", \"pra\", \"pra\", \"preference\", \"premise\", \"premise\", \"premise\", \"premise\", \"premise\", \"prescription\", \"prescription\", \"present\", \"present\", \"present\", \"present\", \"present\", \"present\", \"present\", \"present\", \"present\", \"present\", \"present\", \"present\", \"presenter\", \"presenter\", \"presenter\", \"preservation\", \"preservation\", \"preservation\", \"preservation\", \"preserve\", \"preserve\", \"preserve\", \"preserve\", \"preserve\", \"preserve\", \"preserve\", \"preserve\", \"president\", \"president\", \"president\", \"president\", \"president\", \"president\", \"president\", \"president\", \"president\", \"president\", \"president\", \"prevail\", \"prevail\", \"preventive\", \"prieto\", \"priority\", \"probation\", \"probation\", \"probation\", \"procedures\", \"proceeding\", \"proceeding\", \"proceeding\", \"proceeding\", \"proceeding\", \"proceeding\", \"proceeding\", \"proceeding\", \"proceeding\", \"process\", \"process\", \"process\", \"process\", \"process\", \"process\", \"process\", \"process\", \"procurements\", \"product\", \"product\", \"product\", \"product\", \"product\", \"product\", \"product\", \"productivity\", \"profile\", \"profile\", \"program\", \"program\", \"program\", \"program\", \"program\", \"program\", \"program\", \"program\", \"program\", \"program\", \"program\", \"program\", \"progressive\", \"prohibit\", \"prohibit\", \"prohibit\", \"prohibit\", \"project\", \"project\", \"project\", \"project\", \"project\", \"project\", \"project\", \"project\", \"project\", \"project\", \"project\", \"project\", \"projectbased\", \"promote\", \"promote\", \"promote\", \"promote\", \"promotes\", \"promotion\", \"promotion\", \"property\", \"property\", \"property\", \"property\", \"property\", \"property\", \"property\", \"property\", \"property\", \"property\", \"property\", \"proposal\", \"proposal\", \"proposal\", \"proposal\", \"proposal\", \"proposal\", \"proposal\", \"proposal\", \"proposal\", \"propose\", \"propose\", \"propose\", \"propose\", \"propose\", \"propose\", \"propose\", \"propose\", \"propose\", \"propose\", \"propose\", \"propose\", \"propose\", \"proprietary\", \"prosecutor\", \"prosecutor\", \"protect\", \"protect\", \"protect\", \"protect\", \"protect\", \"protocols\", \"proud\", \"provide\", \"provide\", \"provide\", \"provide\", \"provide\", \"provide\", \"provide\", \"provide\", \"provide\", \"provide\", \"provide\", \"provide\", \"provide\", \"provide\", \"provide\", \"provide\", \"provident\", \"provident\", \"provision\", \"provision\", \"provision\", \"provision\", \"provision\", \"provision\", \"provision\", \"proviso\", \"pub\", \"pub\", \"pub\", \"pub\", \"publish\", \"publish\", \"publish\", \"publish\", \"publish\", \"pulaski\", \"pulaski\", \"pump\", \"pump\", \"pump\", \"purchase\", \"purchase\", \"purchase\", \"purchase\", \"purchase\", \"purchase\", \"purchase\", \"purchase\", \"purchase\", \"purchaser\", \"purchasing\", \"purchasing\", \"purchasing\", \"purpose\", \"purpose\", \"purpose\", \"purpose\", \"purpose\", \"purpose\", \"purpose\", \"purpose\", \"purpose\", \"put\", \"put\", \"quality\", \"quality\", \"quality\", \"quality\", \"quarry\", \"queen\", \"question\", \"question\", \"question\", \"question\", \"question\", \"question\", \"question\", \"quick\", \"quigley\", \"quigley\", \"rad\", \"rad\", \"rad\", \"rahm\", \"rahm\", \"rahm\", \"raidbard\", \"railing\", \"rain\", \"range\", \"range\", \"range\", \"range\", \"range\", \"range\", \"ratification\", \"ratification\", \"rdo\", \"rdo\", \"read\", \"read\", \"read\", \"read\", \"read\", \"read\", \"read\", \"ready\", \"reappointment\", \"reappointment\", \"reappointment\", \"reappointment\", \"rear\", \"rear\", \"reason\", \"reason\", \"reason\", \"reason\", \"reason\", \"reasonably\", \"rebuild\", \"rebuild\", \"rebuilt\", \"rec\", \"rec\", \"receives\", \"recipients\", \"reclamation\", \"reclamation\", \"reclamation\", \"reclamation\", \"recognizes\", \"recommend\", \"recommend\", \"recommend\", \"recommend\", \"recommend\", \"recommend\", \"recommend\", \"recommend\", \"recommend\", \"recommend\", \"recommend\", \"recommend\", \"recommendation\", \"recommendation\", \"recommendation\", \"recommendation\", \"recommendation\", \"recommendation\", \"recommendation\", \"recommendation\", \"recommendation\", \"recommendation\", \"recommendation\", \"recommendation\", \"recommendation\", \"recommendation\", \"recommendations\", \"recommending\", \"record\", \"record\", \"record\", \"record\", \"record\", \"record\", \"record\", \"record\", \"record\", \"record\", \"record\", \"recording\", \"recoveries\", \"recruiting\", \"recycling\", \"redevelopment\", \"redevelopment\", \"redevelopment\", \"redevelopment\", \"redevelopment\", \"redevelopment\", \"redmond\", \"redmond\", \"redmond\", \"reduce\", \"reduce\", \"reduce\", \"reduce\", \"reduce\", \"reduce\", \"reduce\", \"reduction\", \"reduction\", \"reduction\", \"reduction\", \"reduction\", \"reduction\", \"refer\", \"refer\", \"refer\", \"refer\", \"refer\", \"refer\", \"refer\", \"refer\", \"refer\", \"refund\", \"refund\", \"refund\", \"regard\", \"regard\", \"regard\", \"regard\", \"regard\", \"regard\", \"regard\", \"regard\", \"regard\", \"regard\", \"regard\", \"regard\", \"regard\", \"regard\", \"regarding\", \"regina\", \"regina\", \"registration\", \"registration\", \"registration\", \"registration\", \"registration\", \"regular\", \"regular\", \"regular\", \"regular\", \"regular\", \"regular\", \"regulation\", \"regulation\", \"regulation\", \"regulation\", \"regulation\", \"reidy\", \"reidy\", \"reidy\", \"rejection\", \"rejection\", \"relates\", \"relation\", \"relation\", \"relation\", \"relation\", \"relation\", \"relation\", \"relation\", \"relation\", \"relation\", \"relevant\", \"remains\", \"removal\", \"removal\", \"removal\", \"removal\", \"removal\", \"removal\", \"removal\", \"remove\", \"remove\", \"remove\", \"remove\", \"remove\", \"remove\", \"remove\", \"remove\", \"render\", \"render\", \"renewal\", \"renewal\", \"renewal\", \"renewal\", \"renewal\", \"renewal\", \"renewal\", \"reoccupancy\", \"repair\", \"repair\", \"repair\", \"repair\", \"repair\", \"repair\", \"repair\", \"repair\", \"repeal\", \"repeal\", \"replace\", \"replace\", \"replace\", \"replace\", \"replace\", \"replace\", \"replacement\", \"replacement\", \"replacement\", \"replacement\", \"replacement\", \"replacement\", \"replacement\", \"reply\", \"reply\", \"report\", \"report\", \"report\", \"report\", \"report\", \"report\", \"report\", \"report\", \"report\", \"report\", \"report\", \"report\", \"report\", \"report\", \"report\", \"report\", \"report\", \"report\", \"reportpdf\", \"representation\", \"representation\", \"representation\", \"representation\", \"request\", \"request\", \"request\", \"request\", \"request\", \"request\", \"request\", \"request\", \"request\", \"request\", \"request\", \"request\", \"request\", \"request\", \"request\", \"request\", \"require\", \"require\", \"require\", \"require\", \"require\", \"require\", \"require\", \"require\", \"require\", \"require\", \"require\", \"require\", \"require\", \"require\", \"requirement\", \"requirement\", \"requirement\", \"requirement\", \"requirement\", \"requirement\", \"requirement\", \"requirement\", \"requirement\", \"requirement\", \"requirement\", \"requisition\", \"requisition\", \"requisition\", \"residence\", \"residence\", \"residence\", \"residences\", \"resident\", \"resident\", \"resident\", \"resident\", \"resident\", \"resident\", \"resident\", \"residential\", \"residential\", \"resign\", \"resign\", \"resign\", \"resolution\", \"resolution\", \"resolution\", \"resolution\", \"resolution\", \"resolution\", \"resolution\", \"resolution\", \"resolution\", \"resolution\", \"resolution\", \"resolve\", \"resolve\", \"resolve\", \"resolve\", \"resolve\", \"resolve\", \"resolve\", \"resolve\", \"resource\", \"resource\", \"resource\", \"resource\", \"resource\", \"resource\", \"resource\", \"resource\", \"resource\", \"resource\", \"respondent\", \"respondent\", \"respondent\", \"respondent\", \"response\", \"response\", \"response\", \"response\", \"response\", \"response\", \"response\", \"restoration\", \"restoration\", \"restoration\", \"restoration\", \"restoration\", \"restraining\", \"result\", \"result\", \"result\", \"result\", \"result\", \"result\", \"result\", \"result\", \"result\", \"result\", \"retail\", \"retroactive\", \"return\", \"return\", \"return\", \"return\", \"return\", \"return\", \"return\", \"return\", \"rev\", \"rev\", \"revenue\", \"revenue\", \"revenue\", \"revenue\", \"revenue\", \"revenue\", \"revenue\", \"revenue\", \"revenue\", \"revenue\", \"revenues\", \"review\", \"review\", \"review\", \"review\", \"review\", \"review\", \"review\", \"review\", \"review\", \"review\", \"review\", \"review\", \"review\", \"review\", \"review\", \"reviewing\", \"revitalization\", \"revitalization\", \"revoke\", \"revoke\", \"reyes\", \"reyes\", \"reyes\", \"reyes\", \"reynolds\", \"reynolds\", \"reynolds\", \"rezone\", \"rezone\", \"richardsonlowry\", \"richardsonlowry\", \"richmond\", \"richmond\", \"rightofway\", \"rightofway\", \"rightofway\", \"rise\", \"rise\", \"riverboat\", \"riverboat\", \"riverboat\", \"rm45\", \"road\", \"road\", \"road\", \"road\", \"road\", \"road\", \"road\", \"road\", \"road\", \"road\", \"road\", \"roads\", \"robert\", \"robert\", \"robert\", \"robert\", \"robert\", \"robert\", \"robert\", \"robert\", \"robert\", \"robert\", \"robust\", \"rock\", \"rock\", \"rock\", \"rock\", \"rodney\", \"rodney\", \"rodney\", \"rodrigo\", \"rodrigo\", \"role\", \"role\", \"role\", \"role\", \"roll\", \"roll\", \"roll\", \"roll\", \"roll\", \"roll\", \"roll\", \"roll\", \"roll\", \"roll\", \"roll\", \"roofing\", \"room\", \"room\", \"room\", \"room\", \"room\", \"room\", \"room\", \"room\", \"room\", \"room\", \"room\", \"room\", \"room\", \"room\", \"room\", \"room\", \"rothstein\", \"rothstein\", \"row\", \"row\", \"row\", \"row\", \"rst\", \"rt4\", \"rt4\", \"rule\", \"rule\", \"rule\", \"rule\", \"rule\", \"rule\", \"rule\", \"rule\", \"rule\", \"rule\", \"ruth\", \"ruth\", \"ruth\", \"ruth\", \"safe\", \"safety\", \"safety\", \"safety\", \"safety\", \"safety\", \"safety\", \"safety\", \"safety\", \"safety\", \"safety\", \"salaries\", \"sale\", \"sale\", \"sale\", \"sale\", \"sale\", \"sale\", \"sale\", \"salon\", \"salon\", \"salon\", \"salt\", \"salvage\", \"sample\", \"sample\", \"sand\", \"sand\", \"sangamon\", \"santos\", \"satisfactory\", \"say\", \"say\", \"say\", \"say\", \"say\", \"say\", \"say\", \"say\", \"say\", \"scatter\", \"scheinfeld\", \"scheinfeld\", \"schneider\", \"schneider\", \"schneider\", \"schneider\", \"schneider\", \"schneider\", \"school\", \"school\", \"school\", \"school\", \"school\", \"school\", \"school\", \"school\", \"school\", \"school\", \"scudiero\", \"scudiero\", \"searl\", \"second\", \"second\", \"second\", \"second\", \"second\", \"second\", \"second\", \"second\", \"secretary\", \"secretary\", \"secretary\", \"secretary\", \"secretary\", \"secretary\", \"secretary\", \"secretary\", \"secretary\", \"section\", \"section\", \"section\", \"section\", \"section\", \"section\", \"section\", \"section\", \"section\", \"section\", \"section\", \"section\", \"section\", \"section\", \"section\", \"sedgwick\", \"see\", \"see\", \"see\", \"see\", \"see\", \"see\", \"see\", \"see\", \"seeley\", \"seem\", \"selection\", \"selection\", \"selection\", \"selection\", \"selection\", \"selection\", \"selfinsurance\", \"selfinsurance\", \"selfsufficiency\", \"selfsufficiency\", \"seller\", \"senator\", \"senator\", \"sep\", \"sep\", \"sep\", \"separate\", \"separation\", \"separation\", \"ser\", \"ser\", \"series\", \"series\", \"series\", \"series\", \"series\", \"series\", \"serv\", \"serv\", \"serv\", \"service\", \"service\", \"service\", \"service\", \"service\", \"service\", \"service\", \"service\", \"service\", \"service\", \"service\", \"service\", \"service\", \"service\", \"service\", \"service\", \"service\", \"service\", \"service\", \"service\", \"service\", \"service\", \"session\", \"session\", \"session\", \"session\", \"session\", \"session\", \"session\", \"session\", \"session\", \"session\", \"session\", \"setback\", \"setbacks\", \"settlement\", \"settlement\", \"settlement\", \"settlement\", \"settlement\", \"settlement\", \"settlement\", \"settlement\", \"settlements\", \"seventeen\", \"shah\", \"shah\", \"shah\", \"shah\", \"shakman\", \"shakman\", \"shed\", \"sheriffs\", \"shield\", \"shield\", \"shield\", \"shift\", \"shop\", \"shop\", \"shop\", \"shop\", \"shop\", \"shopping\", \"shopping\", \"shore\", \"shore\", \"shore\", \"shore\", \"shore\", \"shore\", \"shorten\", \"showing\", \"side\", \"side\", \"side\", \"side\", \"side\", \"side\", \"side\", \"side\", \"side\", \"sidewalk\", \"sidewalk\", \"sierra\", \"sierra\", \"sierra\", \"sign\", \"sign\", \"sign\", \"sign\", \"sign\", \"sign\", \"sign\", \"signal\", \"signal\", \"sih\", \"silets\", \"silets\", \"silvestri\", \"silvestri\", \"silvestri\", \"silvestri\", \"simpson\", \"simpson\", \"sims\", \"sims\", \"sims\", \"sims\", \"sims\", \"singleunit\", \"singleunit\", \"site\", \"site\", \"site\", \"site\", \"site\", \"site\", \"site\", \"sixteen\", \"sixth\", \"size\", \"size\", \"size\", \"size\", \"size\", \"slip\", \"slip\", \"slip\", \"sludge\", \"sodium\", \"someone\", \"someone\", \"something\", \"something\", \"son\", \"son\", \"son\", \"south\", \"south\", \"south\", \"south\", \"south\", \"south\", \"south\", \"southport\", \"southport\", \"space\", \"space\", \"space\", \"space\", \"space\", \"space\", \"space\", \"space\", \"space\", \"speak\", \"speak\", \"speak\", \"speaker\", \"speaker\", \"speaker\", \"speaker\", \"speaker\", \"speaker\", \"speaker\", \"speaker\", \"specialist\", \"specialist\", \"specialist\", \"specialist\", \"specialist\", \"specialty\", \"specialty\", \"specialty\", \"specie\", \"specie\", \"specification\", \"specification\", \"specification\", \"spirit\", \"spoke\", \"spoken\", \"spoken\", \"sponsor\", \"sponsor\", \"sponsor\", \"sponsor\", \"sponsor\", \"sponsor\", \"sponsor\", \"sponsor\", \"sponsor\", \"sponsor\", \"spouse\", \"spouse\", \"spyropoulos\", \"spyropoulos\", \"spyropoulos\", \"stability\", \"stability\", \"staff\", \"staff\", \"staff\", \"staff\", \"staff\", \"staff\", \"staff\", \"staff\", \"staff\", \"staff\", \"staff\", \"staff\", \"staff\", \"staff\", \"stall\", \"stall\", \"stand\", \"stand\", \"stand\", \"stand\", \"stand\", \"stand\", \"standing\", \"stanley\", \"stanley\", \"stanley\", \"start\", \"start\", \"start\", \"start\", \"start\", \"start\", \"state\", \"state\", \"state\", \"state\", \"state\", \"state\", \"state\", \"state\", \"state\", \"state\", \"state\", \"state\", \"state\", \"state\", \"state\", \"statement\", \"statement\", \"statement\", \"statement\", \"statement\", \"statement\", \"statement\", \"station\", \"station\", \"station\", \"station\", \"station\", \"station\", \"steele\", \"steele\", \"steele\", \"steele\", \"stephen\", \"stephen\", \"stephen\", \"stephen\", \"steven\", \"steven\", \"steven\", \"steven\", \"stickney\", \"stickney\", \"stickney\", \"stone\", \"stone\", \"stone\", \"stone\", \"stone\", \"stony\", \"stony\", \"stop\", \"stop\", \"stop\", \"stopping\", \"storefront\", \"storefront\", \"storefront\", \"stormwater\", \"stormwater\", \"story\", \"story\", \"story\", \"story\", \"street\", \"street\", \"street\", \"street\", \"street\", \"street\", \"street\", \"street\", \"street\", \"street\", \"street\", \"street\", \"street\", \"street\", \"street\", \"street\", \"street\", \"strengthen\", \"strike\", \"strike\", \"strike\", \"strike\", \"striking\", \"stroger\", \"stroger\", \"stroger\", \"stroger\", \"stroger\", \"struck\", \"struck\", \"structure\", \"structure\", \"structure\", \"structure\", \"structure\", \"structure\", \"structure\", \"structure\", \"stuart\", \"stuart\", \"student\", \"student\", \"student\", \"student\", \"studios\", \"subcommittee\", \"subcommittee\", \"subcommittee\", \"subcommittee\", \"subcommittee\", \"subcommittee\", \"subcommittee\", \"subcommittee\", \"subcommittee\", \"submit\", \"submit\", \"submit\", \"submit\", \"submit\", \"submit\", \"submit\", \"submit\", \"submit\", \"submit\", \"submit\", \"submit\", \"submit\", \"submittal\", \"subrogation\", \"subsequently\", \"subsidy\", \"subsidy\", \"substance\", \"substance\", \"suburb\", \"suffredin\", \"suffredin\", \"suffredin\", \"suffredin\", \"suffredin\", \"suit\", \"suit\", \"suit\", \"suitable\", \"suleiman\", \"sullivan\", \"sullivan\", \"sullivan\", \"sullivan\", \"summer\", \"summer\", \"summer\", \"summer\", \"summer\", \"summer\", \"superintendent\", \"superintendent\", \"superintendent\", \"superintendent\", \"superior\", \"supersedes\", \"support\", \"support\", \"support\", \"support\", \"support\", \"support\", \"support\", \"support\", \"support\", \"support\", \"supportive\", \"supreme\", \"surface\", \"surface\", \"surgery\", \"surgery\", \"surgery\", \"surgery\", \"surveillance\", \"surveillance\", \"surveillance\", \"sustain\", \"sustain\", \"sustain\", \"sympathy\", \"system\", \"system\", \"system\", \"system\", \"system\", \"system\", \"system\", \"system\", \"system\", \"system\", \"system\", \"system\", \"system\", \"system\", \"systemwide\", \"take\", \"take\", \"take\", \"take\", \"take\", \"take\", \"take\", \"take\", \"take\", \"talk\", \"talk\", \"target\", \"target\", \"target\", \"target\", \"target\", \"target\", \"tarp\", \"tavern\", \"tavern\", \"tavern\", \"tax\", \"tax\", \"tax\", \"tax\", \"tax\", \"tax\", \"tax\", \"tax\", \"tax\", \"tax\", \"tax\", \"taxation\", \"taxation\", \"teach\", \"teacher\", \"teacher\", \"teacher\", \"team\", \"team\", \"team\", \"tear\", \"technicians\", \"technology\", \"technology\", \"technology\", \"technology\", \"technology\", \"technology\", \"technology\", \"technology\", \"technology\", \"tell\", \"temple\", \"tenant\", \"tenant\", \"tenant\", \"tenant\", \"tenant\", \"term\", \"term\", \"term\", \"term\", \"term\", \"term\", \"term\", \"term\", \"term\", \"term\", \"term\", \"terminal\", \"terminal\", \"terra\", \"terrence\", \"terrence\", \"terrence\", \"terrence\", \"terrence\", \"testimony\", \"testimony\", \"testimony\", \"testimony\", \"testimony\", \"testimony\", \"testimony\", \"testimony\", \"testing\", \"thank\", \"thank\", \"thank\", \"thank\", \"thank\", \"thereof\", \"thereof\", \"thereof\", \"thereof\", \"thereof\", \"thereupon\", \"thereupon\", \"thicken\", \"thing\", \"thing\", \"think\", \"thirdparty\", \"threestory\", \"threestory\", \"throop\", \"thru\", \"thru\", \"thru\", \"thru\", \"time\", \"time\", \"time\", \"time\", \"time\", \"time\", \"time\", \"time\", \"time\", \"time\", \"time\", \"time\", \"time\", \"timing\", \"title\", \"title\", \"title\", \"title\", \"title\", \"title\", \"title\", \"title\", \"title\", \"tobolski\", \"tobolski\", \"tobolski\", \"today\", \"today\", \"today\", \"today\", \"today\", \"today\", \"toia\", \"toia\", \"tool\", \"tool\", \"tool\", \"total\", \"total\", \"total\", \"total\", \"total\", \"total\", \"total\", \"total\", \"total\", \"totaling\", \"tow\", \"tow\", \"tower\", \"tower\", \"tower\", \"tower\", \"tower\", \"townhouse\", \"track\", \"track\", \"track\", \"track\", \"track\", \"track\", \"traffic\", \"traffic\", \"traffic\", \"traffic\", \"trail\", \"trail\", \"trail\", \"trail\", \"train\", \"train\", \"train\", \"train\", \"train\", \"train\", \"train\", \"train\", \"training\", \"training\", \"training\", \"training\", \"training\", \"transact\", \"transact\", \"transmit\", \"transmit\", \"transmit\", \"transmit\", \"transmit\", \"transmittal\", \"transmittal\", \"transportation\", \"transportation\", \"transportation\", \"transportation\", \"transportation\", \"transportation\", \"transportation\", \"transportation\", \"transportation\", \"trash\", \"trash\", \"trash\", \"treatment\", \"treatment\", \"treatment\", \"treatment\", \"treatment\", \"tree\", \"tree\", \"tree\", \"tree\", \"triangle\", \"triangle\", \"trip\", \"tripp\", \"tripped\", \"tripped\", \"trustee\", \"trustee\", \"trustee\", \"trustee\", \"try\", \"try\", \"try\", \"tunney\", \"tunney\", \"tunney\", \"tunney\", \"twentyone\", \"twentyone\", \"twocar\", \"twoflat\", \"unaudited\", \"understand\", \"understand\", \"understand\", \"understands\", \"unincorporated\", \"uninsured\", \"unit\", \"unit\", \"unit\", \"unit\", \"unit\", \"unit\", \"unit\", \"unit\", \"unit\", \"unused\", \"update\", \"update\", \"update\", \"update\", \"update\", \"update\", \"update\", \"update\", \"update\", \"update\", \"upon\", \"urban\", \"us\", \"us\", \"us\", \"us\", \"usa\", \"use\", \"use\", \"use\", \"use\", \"use\", \"use\", \"use\", \"use\", \"use\", \"use\", \"use\", \"use\", \"utilizes\", \"utilizing\", \"vacancy\", \"vacancy\", \"vacancy\", \"vacancy\", \"validate\", \"validate\", \"validation\", \"value\", \"value\", \"value\", \"value\", \"value\", \"value\", \"variance\", \"variance\", \"variance\", \"variance\", \"variance\", \"variation\", \"variation\", \"variation\", \"variation\", \"vending\", \"vendor\", \"vendor\", \"vendor\", \"vendor\", \"vendor\", \"vendor\", \"vendor\", \"vendor\", \"version\", \"veterans\", \"vice\", \"vice\", \"vice\", \"vice\", \"vice\", \"vice\", \"vice\", \"victim\", \"victim\", \"victim\", \"view\", \"view\", \"view\", \"view\", \"view\", \"village\", \"village\", \"village\", \"village\", \"village\", \"village\", \"village\", \"village\", \"village\", \"violate\", \"violence\", \"violence\", \"violence\", \"visible\", \"visit\", \"visit\", \"visit\", \"visit\", \"visit\", \"voltage\", \"voltage\", \"vote\", \"vote\", \"vote\", \"vote\", \"vote\", \"vote\", \"vote\", \"vote\", \"voting\", \"voting\", \"voting\", \"voting\", \"voucher\", \"voucher\", \"voucher\", \"vouchers\", \"wage\", \"wage\", \"wage\", \"wage\", \"wall\", \"wall\", \"wall\", \"wall\", \"wall\", \"walsh\", \"walsh\", \"walsh\", \"want\", \"want\", \"want\", \"ward\", \"ward\", \"ward\", \"ward\", \"ward\", \"ward\", \"ward\", \"ward\", \"ward\", \"ward\", \"wardi\", \"washington\", \"washington\", \"washington\", \"washington\", \"washington\", \"washington\", \"washington\", \"washington\", \"washington\", \"water\", \"water\", \"water\", \"water\", \"water\", \"water\", \"water\", \"water\", \"water\", \"way\", \"way\", \"way\", \"way\", \"way\", \"way\", \"wbe\", \"wbe\", \"wbe\", \"wbe\", \"weakness\", \"weaknesses\", \"west\", \"west\", \"west\", \"west\", \"west\", \"west\", \"west\", \"west\", \"western\", \"wet\", \"wet\", \"wetland\", \"wetland\", \"whereas\", \"whereas\", \"whereas\", \"whereas\", \"whereas\", \"whereas\", \"whereas\", \"whole\", \"wicker\", \"wicker\", \"wicker\", \"wicker\", \"widow\", \"widow\", \"wiese\", \"wife\", \"william\", \"william\", \"william\", \"william\", \"william\", \"williams\", \"williams\", \"williams\", \"williams\", \"williams\", \"williams\", \"williams\", \"willingness\", \"willis\", \"willis\", \"willow\", \"wilson\", \"wilson\", \"wilson\", \"wilson\", \"wilson\", \"win\", \"window\", \"window\", \"windows\", \"windows\", \"windows\", \"windows\", \"winkler\", \"winter\", \"witness\", \"witness\", \"wolcott\", \"wolcott\", \"woman\", \"woman\", \"woman\", \"woman\", \"woman\", \"woods\", \"word\", \"word\", \"word\", \"word\", \"work\", \"work\", \"work\", \"work\", \"work\", \"work\", \"work\", \"work\", \"work\", \"work\", \"worker\", \"worker\", \"worker\", \"worker\", \"worker\", \"worker\", \"worker\", \"worker\", \"worker\", \"wright\", \"wright\", \"wright\", \"yard\", \"yard\", \"yard\", \"yates\", \"yea\", \"yea\", \"year\", \"year\", \"year\", \"year\", \"year\", \"year\", \"year\", \"year\", \"year\", \"year\", \"year\", \"year\", \"year\", \"year\", \"year\", \"ytd\", \"ytd\", \"zero\", \"zero\", \"zero\", \"zone\", \"zone\", \"zone\", \"zone\", \"zone\", \"zone\", \"zone\", \"zone\", \"zone\"]}, \"R\": 30, \"lambda.step\": 0.01, \"plot.opts\": {\"xlab\": \"PC1\", \"ylab\": \"PC2\"}, \"topic.order\": [1, 2, 3, 4, 5, 6, 7, 8, 9, 10, 11, 12, 13, 14, 15, 16, 17, 18, 19, 20, 21, 22, 23, 24, 25, 26]};\n",
       "\n",
       "function LDAvis_load_lib(url, callback){\n",
       "  var s = document.createElement('script');\n",
       "  s.src = url;\n",
       "  s.async = true;\n",
       "  s.onreadystatechange = s.onload = callback;\n",
       "  s.onerror = function(){console.warn(\"failed to load library \" + url);};\n",
       "  document.getElementsByTagName(\"head\")[0].appendChild(s);\n",
       "}\n",
       "\n",
       "if(typeof(LDAvis) !== \"undefined\"){\n",
       "   // already loaded: just create the visualization\n",
       "   !function(LDAvis){\n",
       "       new LDAvis(\"#\" + \"ldavis_el394671405865737903283134291317\", ldavis_el394671405865737903283134291317_data);\n",
       "   }(LDAvis);\n",
       "}else if(typeof define === \"function\" && define.amd){\n",
       "   // require.js is available: use it to load d3/LDAvis\n",
       "   require.config({paths: {d3: \"https://cdnjs.cloudflare.com/ajax/libs/d3/3.5.5/d3.min\"}});\n",
       "   require([\"d3\"], function(d3){\n",
       "      window.d3 = d3;\n",
       "      LDAvis_load_lib(\"https://cdn.rawgit.com/bmabey/pyLDAvis/files/ldavis.v1.0.0.js\", function(){\n",
       "        new LDAvis(\"#\" + \"ldavis_el394671405865737903283134291317\", ldavis_el394671405865737903283134291317_data);\n",
       "      });\n",
       "    });\n",
       "}else{\n",
       "    // require.js not available: dynamically load d3 & LDAvis\n",
       "    LDAvis_load_lib(\"https://cdnjs.cloudflare.com/ajax/libs/d3/3.5.5/d3.min.js\", function(){\n",
       "         LDAvis_load_lib(\"https://cdn.rawgit.com/bmabey/pyLDAvis/files/ldavis.v1.0.0.js\", function(){\n",
       "                 new LDAvis(\"#\" + \"ldavis_el394671405865737903283134291317\", ldavis_el394671405865737903283134291317_data);\n",
       "            })\n",
       "         });\n",
       "}\n",
       "</script>"
      ],
      "text/plain": [
       "PreparedData(topic_coordinates=              x         y  topics  cluster      Freq\n",
       "topic                                               \n",
       "0     -0.119769  0.084890       1        1  5.516346\n",
       "1      0.299278 -0.014239       2        1  3.063906\n",
       "2      0.023289  0.185997       3        1  5.827177\n",
       "3      0.237848 -0.024390       4        1  3.598503\n",
       "4     -0.067557 -0.023741       5        1  4.407442\n",
       "5      0.123298 -0.000817       6        1  2.165622\n",
       "6      0.316786  0.044842       7        1  1.607816\n",
       "7     -0.127209  0.222428       8        1  4.665015\n",
       "8     -0.080731 -0.047761       9        1  4.556888\n",
       "9     -0.102279  0.097783      10        1  5.060630\n",
       "10    -0.048005 -0.202100      11        1  3.086041\n",
       "11    -0.117188 -0.071419      12        1  3.735741\n",
       "12    -0.036336 -0.107792      13        1  2.622142\n",
       "13    -0.082467  0.169660      14        1  3.055052\n",
       "14    -0.117289 -0.163771      15        1  4.455200\n",
       "15    -0.000146 -0.064472      16        1  5.619911\n",
       "16     0.273876 -0.067536      17        1  4.533545\n",
       "17     0.196858  0.064479      18        1  3.185314\n",
       "18    -0.135087  0.035764      19        1  3.926908\n",
       "19     0.066448  0.015573      20        1  3.368566\n",
       "20    -0.141873 -0.202832      21        1  3.996265\n",
       "21    -0.117615  0.011407      22        1  2.756697\n",
       "22    -0.088197 -0.164825      23        1  3.433362\n",
       "23    -0.087816  0.109358      24        1  5.823823\n",
       "24    -0.078514  0.185958      25        1  3.711594\n",
       "25     0.010396 -0.072444      26        1  2.220490, topic_info=              Term          Freq         Total Category  logprob  loglift\n",
       "850       contract   7020.000000   7020.000000  Default  30.0000  30.0000\n",
       "751   commissioner   7799.000000   7799.000000  Default  29.0000  29.0000\n",
       "448          board  12679.000000  12679.000000  Default  28.0000  28.0000\n",
       "343         avenue   3809.000000   3809.000000  Default  27.0000  27.0000\n",
       "2690        permit   3473.000000   3473.000000  Default  26.0000  26.0000\n",
       "...            ...           ...           ...      ...      ...      ...\n",
       "2856      property     88.979492   2855.663123  Topic26  -5.2259   0.3388\n",
       "2162      location     83.980700    885.910362  Topic26  -5.2837   1.4514\n",
       "2570         order     85.980217   4643.499351  Topic26  -5.2601  -0.1817\n",
       "2307          meet     84.980458   1978.736919  Topic26  -5.2718   0.6596\n",
       "55          action     81.981183   1394.825093  Topic26  -5.3078   0.9734\n",
       "\n",
       "[2012 rows x 6 columns], token_table=      Topic      Freq     Term\n",
       "term                          \n",
       "1        13  0.974857     30th\n",
       "2         8  0.974772      3rd\n",
       "3         2  0.974829     47th\n",
       "6         5  0.963836  abandon\n",
       "6         9  0.036213  abandon\n",
       "...     ...       ...      ...\n",
       "3999      6  0.003730     zone\n",
       "3999     10  0.004145     zone\n",
       "3999     17  0.640777     zone\n",
       "3999     18  0.005803     zone\n",
       "3999     21  0.005803     zone\n",
       "\n",
       "[5947 rows x 3 columns], R=30, lambda_step=0.01, plot_opts={'xlab': 'PC1', 'ylab': 'PC2'}, topic_order=[1, 2, 3, 4, 5, 6, 7, 8, 9, 10, 11, 12, 13, 14, 15, 16, 17, 18, 19, 20, 21, 22, 23, 24, 25, 26])"
      ]
     },
     "execution_count": 27,
     "metadata": {},
     "output_type": "execute_result"
    }
   ],
   "source": [
    "from tmtoolkit.topicmod.visualize import parameters_for_ldavis\n",
    "\n",
    "ldavis_params = parameters_for_ldavis(best_tm.topic_word_,\n",
    "                                      best_tm.doc_topic_,\n",
    "                                      dtm,\n",
    "                                      vocab)\n",
    "try:\n",
    "    import pyLDAvis\n",
    "except ModuleNotFoundError:\n",
    "    !pip install pyldavis\n",
    "    import pyLDAvis\n",
    "pyLDAvis.enable_notebook()\n",
    "pyLDAvis.prepare(**ldavis_params)"
   ]
  },
  {
   "cell_type": "markdown",
   "metadata": {
    "colab_type": "text",
    "id": "wzgrRDhx0vie"
   },
   "source": [
    "### Generating labels for topics\n",
    "\n",
    "In topic modeling, topics are numbered because they're *abstract* – they're simply a probability distribution across all words in the vocabulary. Still, it's useful to give them labels for better identification. The function [generate_topic_labels_from_top_words()](api.rst#tmtoolkit.topicmod.model_stats.generate_topic_labels_from_top_words) is very useful for that, as it finds labels according to the most \"relevant\" words in each topic. We'll later see how we can identify the most relevant words per topic using a special [relevance statistic](#Topic-word-relevance). Note that you can adjust the weight of the relevance measure for the ranking by using the parameter `lambda_` which is in range $[0, 1]$.\n",
    "\n",
    "The function requires at least the topic-word and document-topic distributions from the model, the document lengths and the vocabulary. It then finds the minimum number of relevant words that uniquely label each topic. You can also use a fixed number for that minimum number with the parameter `n_words`."
   ]
  },
  {
   "cell_type": "code",
   "execution_count": 28,
   "metadata": {
    "colab": {
     "base_uri": "https://localhost:8080/",
     "height": 139
    },
    "colab_type": "code",
    "id": "yD1Ut4t20vik",
    "outputId": "7e0ab9f6-b205-4f40-dc1c-a5dcda70d8c6",
    "pycharm": {
     "is_executing": false
    }
   },
   "outputs": [
    {
     "data": {
      "text/plain": [
       "array(['1_housing_cha', '2_permit_avenue', '3_program_agency',\n",
       "       '4_space_district', '5_county_cook', '6_school_student',\n",
       "       '7_maintain_know', '8_health_care', '9_county_committee',\n",
       "       '10_attorney_payment', '11_approve_motion', '12_time_board',\n",
       "       '13_casino_license', '14_representation_case', '15_board_member',\n",
       "       '16_authorize_development', '17_application_zone', '18_work_exist',\n",
       "       '19_director_page', '20_state_go', '21_commissioner_chairman',\n",
       "       '22_trustee_annuity', '23_preserve_commissioner',\n",
       "       '24_amount_account', '25_contract_bid', '26_martin_llc'],\n",
       "      dtype='<U24')"
      ]
     },
     "execution_count": 28,
     "metadata": {},
     "output_type": "execute_result"
    }
   ],
   "source": [
    "from tmtoolkit.bow.bow_stats import doc_lengths\n",
    "from tmtoolkit.topicmod.model_stats import generate_topic_labels_from_top_words\n",
    "\n",
    "doc_lengths = doc_lengths(dtm)\n",
    "topic_labels = generate_topic_labels_from_top_words(\n",
    "    best_tm.topic_word_,\n",
    "    best_tm.doc_topic_,\n",
    "    doc_lengths,\n",
    "    vocab,\n",
    "    lambda_=0.6\n",
    ")\n",
    "\n",
    "topic_labels"
   ]
  },
  {
   "cell_type": "markdown",
   "metadata": {
    "colab_type": "text",
    "id": "mxsMlY1p0viq"
   },
   "source": [
    "As we can see, two words are necessary to label each topic uniquely. By default, each label is prefixed with a number. You can change that with the parameter `labels_format`.\n",
    "\n",
    "Let's have a look at the top words for a specific topic. We can use [ldamodel_top_topic_words()](api.rst#tmtoolkit.topicmod.model_io.ldamodel_top_topic_words) for that from the module [topicmod.model_io](api.rst#module-tmtoolkit.topicmod.model_io), which we will have a closer look at [later](#Displaying-and-exporting-topic-modeling-results):"
   ]
  },
  {
   "cell_type": "code",
   "execution_count": 29,
   "metadata": {
    "colab": {
     "base_uri": "https://localhost:8080/",
     "height": 129
    },
    "colab_type": "code",
    "id": "tdViR68F0vir",
    "outputId": "b8f95d93-9096-43e8-ae05-ac08752cb866",
    "pycharm": {
     "is_executing": false
    }
   },
   "outputs": [
    {
     "data": {
      "text/html": [
       "<div>\n",
       "<style scoped>\n",
       "    .dataframe tbody tr th:only-of-type {\n",
       "        vertical-align: middle;\n",
       "    }\n",
       "\n",
       "    .dataframe tbody tr th {\n",
       "        vertical-align: top;\n",
       "    }\n",
       "\n",
       "    .dataframe thead th {\n",
       "        text-align: right;\n",
       "    }\n",
       "</style>\n",
       "<table border=\"1\" class=\"dataframe\">\n",
       "  <thead>\n",
       "    <tr style=\"text-align: right;\">\n",
       "      <th></th>\n",
       "      <th>rank_1</th>\n",
       "      <th>rank_2</th>\n",
       "      <th>rank_3</th>\n",
       "      <th>rank_4</th>\n",
       "      <th>rank_5</th>\n",
       "      <th>rank_6</th>\n",
       "      <th>rank_7</th>\n",
       "      <th>rank_8</th>\n",
       "      <th>rank_9</th>\n",
       "      <th>rank_10</th>\n",
       "    </tr>\n",
       "    <tr>\n",
       "      <th>topic</th>\n",
       "      <th></th>\n",
       "      <th></th>\n",
       "      <th></th>\n",
       "      <th></th>\n",
       "      <th></th>\n",
       "      <th></th>\n",
       "      <th></th>\n",
       "      <th></th>\n",
       "      <th></th>\n",
       "      <th></th>\n",
       "    </tr>\n",
       "  </thead>\n",
       "  <tbody>\n",
       "    <tr>\n",
       "      <th>1_housing_cha</th>\n",
       "      <td>board (0.04238)</td>\n",
       "      <td>housing (0.04012)</td>\n",
       "      <td>contract (0.03667)</td>\n",
       "      <td>commissioner (0.03193)</td>\n",
       "      <td>cha (0.02867)</td>\n",
       "      <td>item (0.02461)</td>\n",
       "      <td>resolution (0.01836)</td>\n",
       "      <td>service (0.01744)</td>\n",
       "      <td>amount (0.01615)</td>\n",
       "      <td>authority (0.01612)</td>\n",
       "    </tr>\n",
       "    <tr>\n",
       "      <th>2_permit_avenue</th>\n",
       "      <td>permit (0.09859)</td>\n",
       "      <td>avenue (0.09854)</td>\n",
       "      <td>street (0.06623)</td>\n",
       "      <td>disable (0.05332)</td>\n",
       "      <td>park (0.04724)</td>\n",
       "      <td>zone (0.02916)</td>\n",
       "      <td>side (0.02732)</td>\n",
       "      <td>foot (0.02478)</td>\n",
       "      <td>point (0.02009)</td>\n",
       "      <td>ave (0.01764)</td>\n",
       "    </tr>\n",
       "    <tr>\n",
       "      <th>3_program_agency</th>\n",
       "      <td>program (0.03151)</td>\n",
       "      <td>service (0.01897)</td>\n",
       "      <td>fund (0.0177)</td>\n",
       "      <td>provide (0.01319)</td>\n",
       "      <td>community (0.01236)</td>\n",
       "      <td>agency (0.01156)</td>\n",
       "      <td>support (0.01114)</td>\n",
       "      <td>include (0.01112)</td>\n",
       "      <td>plan (0.0111)</td>\n",
       "      <td>staff (0.009323)</td>\n",
       "    </tr>\n",
       "    <tr>\n",
       "      <th>4_space_district</th>\n",
       "      <td>district (0.04477)</td>\n",
       "      <td>space (0.02852)</td>\n",
       "      <td>ordinance (0.02844)</td>\n",
       "      <td>building (0.02646)</td>\n",
       "      <td>propose (0.02289)</td>\n",
       "      <td>change (0.02277)</td>\n",
       "      <td>unit (0.02266)</td>\n",
       "      <td>development (0.02188)</td>\n",
       "      <td>llc (0.01879)</td>\n",
       "      <td>property (0.01793)</td>\n",
       "    </tr>\n",
       "    <tr>\n",
       "      <th>5_county_cook</th>\n",
       "      <td>county (0.06132)</td>\n",
       "      <td>cook (0.04437)</td>\n",
       "      <td>board (0.04386)</td>\n",
       "      <td>property (0.03287)</td>\n",
       "      <td>commissioner (0.02809)</td>\n",
       "      <td>resolution (0.01723)</td>\n",
       "      <td>whereas (0.01686)</td>\n",
       "      <td>ordinance (0.01613)</td>\n",
       "      <td>propose (0.01546)</td>\n",
       "      <td>year (0.01506)</td>\n",
       "    </tr>\n",
       "    <tr>\n",
       "      <th>6_school_student</th>\n",
       "      <td>school (0.03041)</td>\n",
       "      <td>include (0.01988)</td>\n",
       "      <td>propose (0.0187)</td>\n",
       "      <td>project (0.01703)</td>\n",
       "      <td>page (0.01554)</td>\n",
       "      <td>meeting (0.01474)</td>\n",
       "      <td>report (0.01468)</td>\n",
       "      <td>student (0.01462)</td>\n",
       "      <td>city (0.01387)</td>\n",
       "      <td>community (0.01369)</td>\n",
       "    </tr>\n",
       "    <tr>\n",
       "      <th>7_maintain_know</th>\n",
       "      <td>maintain (0.1074)</td>\n",
       "      <td>premise (0.0895)</td>\n",
       "      <td>know (0.07899)</td>\n",
       "      <td>street (0.05372)</td>\n",
       "      <td>construct (0.04971)</td>\n",
       "      <td>avenue (0.04838)</td>\n",
       "      <td>locate (0.04454)</td>\n",
       "      <td>sign (0.04112)</td>\n",
       "      <td>rightofway (0.03937)</td>\n",
       "      <td>use (0.03837)</td>\n",
       "    </tr>\n",
       "    <tr>\n",
       "      <th>8_health_care</th>\n",
       "      <td>health (0.07925)</td>\n",
       "      <td>contract (0.04287)</td>\n",
       "      <td>service (0.03528)</td>\n",
       "      <td>care (0.03117)</td>\n",
       "      <td>request (0.02841)</td>\n",
       "      <td>system (0.02832)</td>\n",
       "      <td>hospital (0.02384)</td>\n",
       "      <td>cook (0.02254)</td>\n",
       "      <td>quality (0.01886)</td>\n",
       "      <td>center (0.01869)</td>\n",
       "    </tr>\n",
       "    <tr>\n",
       "      <th>9_county_committee</th>\n",
       "      <td>county (0.03989)</td>\n",
       "      <td>committee (0.0229)</td>\n",
       "      <td>cook (0.01492)</td>\n",
       "      <td>business (0.0141)</td>\n",
       "      <td>illinois (0.01201)</td>\n",
       "      <td>provide (0.01077)</td>\n",
       "      <td>meeting (0.01057)</td>\n",
       "      <td>include (0.01045)</td>\n",
       "      <td>employee (0.01042)</td>\n",
       "      <td>act (0.01018)</td>\n",
       "    </tr>\n",
       "    <tr>\n",
       "      <th>10_attorney_payment</th>\n",
       "      <td>attorney (0.07703)</td>\n",
       "      <td>submit (0.05036)</td>\n",
       "      <td>payment (0.04951)</td>\n",
       "      <td>order (0.04609)</td>\n",
       "      <td>court (0.03417)</td>\n",
       "      <td>case (0.02685)</td>\n",
       "      <td>defense (0.02571)</td>\n",
       "      <td>indictment (0.02436)</td>\n",
       "      <td>defendant (0.02388)</td>\n",
       "      <td>fee (0.02274)</td>\n",
       "    </tr>\n",
       "    <tr>\n",
       "      <th>11_approve_motion</th>\n",
       "      <td>approve (0.04751)</td>\n",
       "      <td>motion (0.04246)</td>\n",
       "      <td>board (0.03794)</td>\n",
       "      <td>meeting (0.03208)</td>\n",
       "      <td>committee (0.02503)</td>\n",
       "      <td>commissioner (0.0206)</td>\n",
       "      <td>report (0.01951)</td>\n",
       "      <td>second (0.01539)</td>\n",
       "      <td>item (0.01495)</td>\n",
       "      <td>vote (0.01326)</td>\n",
       "    </tr>\n",
       "    <tr>\n",
       "      <th>12_time_board</th>\n",
       "      <td>board (0.04933)</td>\n",
       "      <td>meeting (0.03303)</td>\n",
       "      <td>committee (0.02948)</td>\n",
       "      <td>time (0.02377)</td>\n",
       "      <td>cook (0.01896)</td>\n",
       "      <td>county (0.01673)</td>\n",
       "      <td>testimony (0.01404)</td>\n",
       "      <td>secretary (0.01221)</td>\n",
       "      <td>present (0.01063)</td>\n",
       "      <td>minute (0.01052)</td>\n",
       "    </tr>\n",
       "    <tr>\n",
       "      <th>13_casino_license</th>\n",
       "      <td>license (0.02307)</td>\n",
       "      <td>board (0.01903)</td>\n",
       "      <td>city (0.01714)</td>\n",
       "      <td>casino (0.01683)</td>\n",
       "      <td>meeting (0.01657)</td>\n",
       "      <td>member (0.0154)</td>\n",
       "      <td>service (0.01212)</td>\n",
       "      <td>ordinance (0.0113)</td>\n",
       "      <td>department (0.01008)</td>\n",
       "      <td>budget (0.01008)</td>\n",
       "    </tr>\n",
       "    <tr>\n",
       "      <th>14_representation_case</th>\n",
       "      <td>case (0.08495)</td>\n",
       "      <td>representation (0.07389)</td>\n",
       "      <td>fee (0.06353)</td>\n",
       "      <td>service (0.04777)</td>\n",
       "      <td>indigent (0.04601)</td>\n",
       "      <td>name (0.04456)</td>\n",
       "      <td>render (0.03741)</td>\n",
       "      <td>presenter (0.03727)</td>\n",
       "      <td>respondent (0.02968)</td>\n",
       "      <td>minor (0.02046)</td>\n",
       "    </tr>\n",
       "    <tr>\n",
       "      <th>15_board_member</th>\n",
       "      <td>board (0.08394)</td>\n",
       "      <td>member (0.04564)</td>\n",
       "      <td>motion (0.03791)</td>\n",
       "      <td>state (0.02502)</td>\n",
       "      <td>second (0.02086)</td>\n",
       "      <td>move (0.02014)</td>\n",
       "      <td>meeting (0.02005)</td>\n",
       "      <td>chairman (0.01915)</td>\n",
       "      <td>vote (0.01873)</td>\n",
       "      <td>approve (0.01803)</td>\n",
       "    </tr>\n",
       "    <tr>\n",
       "      <th>16_authorize_development</th>\n",
       "      <td>approve (0.02098)</td>\n",
       "      <td>authority (0.01721)</td>\n",
       "      <td>development (0.01711)</td>\n",
       "      <td>property (0.01594)</td>\n",
       "      <td>resolution (0.01575)</td>\n",
       "      <td>commissioner (0.01561)</td>\n",
       "      <td>authorize (0.01554)</td>\n",
       "      <td>plan (0.01446)</td>\n",
       "      <td>motion (0.01349)</td>\n",
       "      <td>service (0.01184)</td>\n",
       "    </tr>\n",
       "    <tr>\n",
       "      <th>17_application_zone</th>\n",
       "      <td>application (0.04663)</td>\n",
       "      <td>zone (0.04574)</td>\n",
       "      <td>district (0.03953)</td>\n",
       "      <td>owner (0.03832)</td>\n",
       "      <td>premise (0.03364)</td>\n",
       "      <td>affect (0.03302)</td>\n",
       "      <td>foot (0.02911)</td>\n",
       "      <td>applicant (0.02577)</td>\n",
       "      <td>ward (0.02556)</td>\n",
       "      <td>reduce (0.0242)</td>\n",
       "    </tr>\n",
       "    <tr>\n",
       "      <th>18_work_exist</th>\n",
       "      <td>work (0.04729)</td>\n",
       "      <td>district (0.04569)</td>\n",
       "      <td>permit (0.04)</td>\n",
       "      <td>date (0.03832)</td>\n",
       "      <td>exist (0.03495)</td>\n",
       "      <td>plan (0.02438)</td>\n",
       "      <td>approval (0.02244)</td>\n",
       "      <td>window (0.0192)</td>\n",
       "      <td>replacement (0.01895)</td>\n",
       "      <td>build (0.01785)</td>\n",
       "    </tr>\n",
       "    <tr>\n",
       "      <th>19_director_page</th>\n",
       "      <td>page (0.03781)</td>\n",
       "      <td>director (0.03751)</td>\n",
       "      <td>system (0.02511)</td>\n",
       "      <td>committee (0.02367)</td>\n",
       "      <td>health (0.02149)</td>\n",
       "      <td>hospital (0.01879)</td>\n",
       "      <td>cook (0.01739)</td>\n",
       "      <td>resource (0.01541)</td>\n",
       "      <td>county (0.01424)</td>\n",
       "      <td>report (0.01411)</td>\n",
       "    </tr>\n",
       "    <tr>\n",
       "      <th>20_state_go</th>\n",
       "      <td>state (0.03568)</td>\n",
       "      <td>member (0.02871)</td>\n",
       "      <td>make (0.01788)</td>\n",
       "      <td>lease (0.01756)</td>\n",
       "      <td>ask (0.01489)</td>\n",
       "      <td>get (0.0139)</td>\n",
       "      <td>go (0.0139)</td>\n",
       "      <td>year (0.01338)</td>\n",
       "      <td>say (0.0131)</td>\n",
       "      <td>people (0.01087)</td>\n",
       "    </tr>\n",
       "    <tr>\n",
       "      <th>21_commissioner_chairman</th>\n",
       "      <td>commissioner (0.0578)</td>\n",
       "      <td>county (0.04041)</td>\n",
       "      <td>cook (0.03236)</td>\n",
       "      <td>chairman (0.02786)</td>\n",
       "      <td>board (0.02571)</td>\n",
       "      <td>motion (0.02272)</td>\n",
       "      <td>committee (0.02044)</td>\n",
       "      <td>carry (0.01648)</td>\n",
       "      <td>second (0.01561)</td>\n",
       "      <td>state (0.01393)</td>\n",
       "    </tr>\n",
       "    <tr>\n",
       "      <th>22_trustee_annuity</th>\n",
       "      <td>trustee (0.05021)</td>\n",
       "      <td>annuity (0.04048)</td>\n",
       "      <td>fund (0.03965)</td>\n",
       "      <td>benefit (0.02827)</td>\n",
       "      <td>employee (0.02467)</td>\n",
       "      <td>disability (0.02292)</td>\n",
       "      <td>note (0.01786)</td>\n",
       "      <td>service (0.01771)</td>\n",
       "      <td>date (0.01542)</td>\n",
       "      <td>death (0.01484)</td>\n",
       "    </tr>\n",
       "    <tr>\n",
       "      <th>23_preserve_commissioner</th>\n",
       "      <td>commissioner (0.07153)</td>\n",
       "      <td>preserve (0.04493)</td>\n",
       "      <td>district (0.02633)</td>\n",
       "      <td>motion (0.02547)</td>\n",
       "      <td>cook (0.0236)</td>\n",
       "      <td>county (0.02289)</td>\n",
       "      <td>board (0.02133)</td>\n",
       "      <td>goslin (0.02063)</td>\n",
       "      <td>silvestri (0.01891)</td>\n",
       "      <td>daley (0.01766)</td>\n",
       "    </tr>\n",
       "    <tr>\n",
       "      <th>24_amount_account</th>\n",
       "      <td>amount (0.05553)</td>\n",
       "      <td>account (0.03658)</td>\n",
       "      <td>order (0.03554)</td>\n",
       "      <td>authority (0.03158)</td>\n",
       "      <td>purchase (0.03033)</td>\n",
       "      <td>contract (0.02891)</td>\n",
       "      <td>exceed (0.02732)</td>\n",
       "      <td>water (0.02663)</td>\n",
       "      <td>reclamation (0.02471)</td>\n",
       "      <td>district (0.0214)</td>\n",
       "    </tr>\n",
       "    <tr>\n",
       "      <th>25_contract_bid</th>\n",
       "      <td>contract (0.07784)</td>\n",
       "      <td>service (0.03014)</td>\n",
       "      <td>request (0.02121)</td>\n",
       "      <td>account (0.02042)</td>\n",
       "      <td>department (0.0202)</td>\n",
       "      <td>approve (0.0193)</td>\n",
       "      <td>period (0.01746)</td>\n",
       "      <td>bid (0.01702)</td>\n",
       "      <td>item (0.0142)</td>\n",
       "      <td>vendor (0.01319)</td>\n",
       "    </tr>\n",
       "    <tr>\n",
       "      <th>26_martin_llc</th>\n",
       "      <td>llc (0.01818)</td>\n",
       "      <td>city (0.01305)</td>\n",
       "      <td>meeting (0.01287)</td>\n",
       "      <td>request (0.01136)</td>\n",
       "      <td>commission (0.01123)</td>\n",
       "      <td>board (0.01051)</td>\n",
       "      <td>november (0.009121)</td>\n",
       "      <td>martin (0.009)</td>\n",
       "      <td>none (0.008456)</td>\n",
       "      <td>business (0.008456)</td>\n",
       "    </tr>\n",
       "  </tbody>\n",
       "</table>\n",
       "</div>"
      ],
      "text/plain": [
       "                                          rank_1                    rank_2  \\\n",
       "topic                                                                        \n",
       "1_housing_cha                    board (0.04238)         housing (0.04012)   \n",
       "2_permit_avenue                 permit (0.09859)          avenue (0.09854)   \n",
       "3_program_agency               program (0.03151)         service (0.01897)   \n",
       "4_space_district              district (0.04477)           space (0.02852)   \n",
       "5_county_cook                   county (0.06132)            cook (0.04437)   \n",
       "6_school_student                school (0.03041)         include (0.01988)   \n",
       "7_maintain_know                maintain (0.1074)          premise (0.0895)   \n",
       "8_health_care                   health (0.07925)        contract (0.04287)   \n",
       "9_county_committee              county (0.03989)        committee (0.0229)   \n",
       "10_attorney_payment           attorney (0.07703)          submit (0.05036)   \n",
       "11_approve_motion              approve (0.04751)          motion (0.04246)   \n",
       "12_time_board                    board (0.04933)         meeting (0.03303)   \n",
       "13_casino_license              license (0.02307)           board (0.01903)   \n",
       "14_representation_case            case (0.08495)  representation (0.07389)   \n",
       "15_board_member                  board (0.08394)          member (0.04564)   \n",
       "16_authorize_development       approve (0.02098)       authority (0.01721)   \n",
       "17_application_zone        application (0.04663)            zone (0.04574)   \n",
       "18_work_exist                     work (0.04729)        district (0.04569)   \n",
       "19_director_page                  page (0.03781)        director (0.03751)   \n",
       "20_state_go                      state (0.03568)          member (0.02871)   \n",
       "21_commissioner_chairman   commissioner (0.0578)          county (0.04041)   \n",
       "22_trustee_annuity             trustee (0.05021)         annuity (0.04048)   \n",
       "23_preserve_commissioner  commissioner (0.07153)        preserve (0.04493)   \n",
       "24_amount_account               amount (0.05553)         account (0.03658)   \n",
       "25_contract_bid               contract (0.07784)         service (0.03014)   \n",
       "26_martin_llc                      llc (0.01818)            city (0.01305)   \n",
       "\n",
       "                                         rank_3                  rank_4  \\\n",
       "topic                                                                     \n",
       "1_housing_cha                contract (0.03667)  commissioner (0.03193)   \n",
       "2_permit_avenue                street (0.06623)       disable (0.05332)   \n",
       "3_program_agency                  fund (0.0177)       provide (0.01319)   \n",
       "4_space_district            ordinance (0.02844)      building (0.02646)   \n",
       "5_county_cook                   board (0.04386)      property (0.03287)   \n",
       "6_school_student               propose (0.0187)       project (0.01703)   \n",
       "7_maintain_know                  know (0.07899)        street (0.05372)   \n",
       "8_health_care                 service (0.03528)          care (0.03117)   \n",
       "9_county_committee               cook (0.01492)       business (0.0141)   \n",
       "10_attorney_payment           payment (0.04951)         order (0.04609)   \n",
       "11_approve_motion               board (0.03794)       meeting (0.03208)   \n",
       "12_time_board               committee (0.02948)          time (0.02377)   \n",
       "13_casino_license                city (0.01714)        casino (0.01683)   \n",
       "14_representation_case            fee (0.06353)       service (0.04777)   \n",
       "15_board_member                motion (0.03791)         state (0.02502)   \n",
       "16_authorize_development  development (0.01711)      property (0.01594)   \n",
       "17_application_zone          district (0.03953)         owner (0.03832)   \n",
       "18_work_exist                     permit (0.04)          date (0.03832)   \n",
       "19_director_page               system (0.02511)     committee (0.02367)   \n",
       "20_state_go                      make (0.01788)         lease (0.01756)   \n",
       "21_commissioner_chairman         cook (0.03236)      chairman (0.02786)   \n",
       "22_trustee_annuity               fund (0.03965)       benefit (0.02827)   \n",
       "23_preserve_commissioner     district (0.02633)        motion (0.02547)   \n",
       "24_amount_account               order (0.03554)     authority (0.03158)   \n",
       "25_contract_bid               request (0.02121)       account (0.02042)   \n",
       "26_martin_llc                 meeting (0.01287)       request (0.01136)   \n",
       "\n",
       "                                          rank_5                  rank_6  \\\n",
       "topic                                                                      \n",
       "1_housing_cha                      cha (0.02867)          item (0.02461)   \n",
       "2_permit_avenue                   park (0.04724)          zone (0.02916)   \n",
       "3_program_agency             community (0.01236)        agency (0.01156)   \n",
       "4_space_district               propose (0.02289)        change (0.02277)   \n",
       "5_county_cook             commissioner (0.02809)    resolution (0.01723)   \n",
       "6_school_student                  page (0.01554)       meeting (0.01474)   \n",
       "7_maintain_know              construct (0.04971)        avenue (0.04838)   \n",
       "8_health_care                  request (0.02841)        system (0.02832)   \n",
       "9_county_committee            illinois (0.01201)       provide (0.01077)   \n",
       "10_attorney_payment              court (0.03417)          case (0.02685)   \n",
       "11_approve_motion            committee (0.02503)   commissioner (0.0206)   \n",
       "12_time_board                     cook (0.01896)        county (0.01673)   \n",
       "13_casino_license              meeting (0.01657)         member (0.0154)   \n",
       "14_representation_case        indigent (0.04601)          name (0.04456)   \n",
       "15_board_member                 second (0.02086)          move (0.02014)   \n",
       "16_authorize_development    resolution (0.01575)  commissioner (0.01561)   \n",
       "17_application_zone            premise (0.03364)        affect (0.03302)   \n",
       "18_work_exist                    exist (0.03495)          plan (0.02438)   \n",
       "19_director_page                health (0.02149)      hospital (0.01879)   \n",
       "20_state_go                        ask (0.01489)            get (0.0139)   \n",
       "21_commissioner_chairman         board (0.02571)        motion (0.02272)   \n",
       "22_trustee_annuity            employee (0.02467)    disability (0.02292)   \n",
       "23_preserve_commissioner           cook (0.0236)        county (0.02289)   \n",
       "24_amount_account             purchase (0.03033)      contract (0.02891)   \n",
       "25_contract_bid              department (0.0202)        approve (0.0193)   \n",
       "26_martin_llc               commission (0.01123)         board (0.01051)   \n",
       "\n",
       "                                        rank_7                 rank_8  \\\n",
       "topic                                                                   \n",
       "1_housing_cha             resolution (0.01836)      service (0.01744)   \n",
       "2_permit_avenue                 side (0.02732)         foot (0.02478)   \n",
       "3_program_agency             support (0.01114)      include (0.01112)   \n",
       "4_space_district                unit (0.02266)  development (0.02188)   \n",
       "5_county_cook                whereas (0.01686)    ordinance (0.01613)   \n",
       "6_school_student              report (0.01468)      student (0.01462)   \n",
       "7_maintain_know               locate (0.04454)         sign (0.04112)   \n",
       "8_health_care               hospital (0.02384)         cook (0.02254)   \n",
       "9_county_committee           meeting (0.01057)      include (0.01045)   \n",
       "10_attorney_payment          defense (0.02571)   indictment (0.02436)   \n",
       "11_approve_motion             report (0.01951)       second (0.01539)   \n",
       "12_time_board              testimony (0.01404)    secretary (0.01221)   \n",
       "13_casino_license            service (0.01212)     ordinance (0.0113)   \n",
       "14_representation_case        render (0.03741)    presenter (0.03727)   \n",
       "15_board_member              meeting (0.02005)     chairman (0.01915)   \n",
       "16_authorize_development   authorize (0.01554)         plan (0.01446)   \n",
       "17_application_zone             foot (0.02911)    applicant (0.02577)   \n",
       "18_work_exist               approval (0.02244)        window (0.0192)   \n",
       "19_director_page                cook (0.01739)     resource (0.01541)   \n",
       "20_state_go                        go (0.0139)         year (0.01338)   \n",
       "21_commissioner_chairman   committee (0.02044)        carry (0.01648)   \n",
       "22_trustee_annuity              note (0.01786)      service (0.01771)   \n",
       "23_preserve_commissioner       board (0.02133)       goslin (0.02063)   \n",
       "24_amount_account             exceed (0.02732)        water (0.02663)   \n",
       "25_contract_bid               period (0.01746)          bid (0.01702)   \n",
       "26_martin_llc              november (0.009121)         martin (0.009)   \n",
       "\n",
       "                                         rank_9              rank_10  \n",
       "topic                                                                 \n",
       "1_housing_cha                  amount (0.01615)  authority (0.01612)  \n",
       "2_permit_avenue                 point (0.02009)        ave (0.01764)  \n",
       "3_program_agency                  plan (0.0111)     staff (0.009323)  \n",
       "4_space_district                  llc (0.01879)   property (0.01793)  \n",
       "5_county_cook                 propose (0.01546)       year (0.01506)  \n",
       "6_school_student                 city (0.01387)  community (0.01369)  \n",
       "7_maintain_know            rightofway (0.03937)        use (0.03837)  \n",
       "8_health_care                 quality (0.01886)     center (0.01869)  \n",
       "9_county_committee           employee (0.01042)        act (0.01018)  \n",
       "10_attorney_payment         defendant (0.02388)        fee (0.02274)  \n",
       "11_approve_motion                item (0.01495)       vote (0.01326)  \n",
       "12_time_board                 present (0.01063)     minute (0.01052)  \n",
       "13_casino_license          department (0.01008)     budget (0.01008)  \n",
       "14_representation_case     respondent (0.02968)      minor (0.02046)  \n",
       "15_board_member                  vote (0.01873)    approve (0.01803)  \n",
       "16_authorize_development       motion (0.01349)    service (0.01184)  \n",
       "17_application_zone              ward (0.02556)      reduce (0.0242)  \n",
       "18_work_exist             replacement (0.01895)      build (0.01785)  \n",
       "19_director_page               county (0.01424)     report (0.01411)  \n",
       "20_state_go                        say (0.0131)     people (0.01087)  \n",
       "21_commissioner_chairman       second (0.01561)      state (0.01393)  \n",
       "22_trustee_annuity               date (0.01542)      death (0.01484)  \n",
       "23_preserve_commissioner    silvestri (0.01891)      daley (0.01766)  \n",
       "24_amount_account         reclamation (0.02471)    district (0.0214)  \n",
       "25_contract_bid                   item (0.0142)     vendor (0.01319)  \n",
       "26_martin_llc                   none (0.008456)  business (0.008456)  "
      ]
     },
     "execution_count": 29,
     "metadata": {},
     "output_type": "execute_result"
    }
   ],
   "source": [
    "from tmtoolkit.topicmod.model_io import ldamodel_top_topic_words\n",
    "\n",
    "top_topic_word = ldamodel_top_topic_words(best_tm.topic_word_,\n",
    "                                          vocab,\n",
    "                                          row_labels=topic_labels)\n",
    "top_topic_word"
   ]
  },
  {
   "cell_type": "markdown",
   "metadata": {
    "colab_type": "text",
    "id": "GWOGsr1O0vi1"
   },
   "source": [
    "### Marginal topic and word distributions\n",
    "\n",
    "We'll now focus on the marginal topic and word distributions. Let's get the marginal topic distribution first by using [marginal_topic_distrib()](api.rst#tmtoolkit.topicmod.model_stats.marginal_topic_distrib):"
   ]
  },
  {
   "cell_type": "code",
   "execution_count": 30,
   "metadata": {
    "colab": {
     "base_uri": "https://localhost:8080/",
     "height": 69
    },
    "colab_type": "code",
    "id": "NcKdDQwx0vi2",
    "outputId": "991df222-21ec-4a31-e32b-ff7baba5cc9b",
    "pycharm": {
     "is_executing": false
    },
    "scrolled": true
   },
   "outputs": [
    {
     "data": {
      "text/plain": [
       "array([0.05516, 0.03064, 0.05827, 0.03599, 0.04407, 0.02166, 0.01608,\n",
       "       0.04665, 0.04557, 0.05061, 0.03086, 0.03736, 0.02622, 0.03055,\n",
       "       0.04455, 0.0562 , 0.04534, 0.03185, 0.03927, 0.03369, 0.03996,\n",
       "       0.02757, 0.03433, 0.05824, 0.03712, 0.0222 ])"
      ]
     },
     "execution_count": 30,
     "metadata": {},
     "output_type": "execute_result"
    }
   ],
   "source": [
    "from tmtoolkit.topicmod.model_stats import marginal_topic_distrib\n",
    "\n",
    "marg_topic = marginal_topic_distrib(best_tm.doc_topic_, doc_lengths)\n",
    "marg_topic"
   ]
  },
  {
   "cell_type": "markdown",
   "metadata": {
    "colab_type": "text",
    "id": "waKzdPAX0vjA"
   },
   "source": [
    "The marginal topic distribution can be interpreted as the \"importance\" of each topic for the whole corpus. Let's get the sorted indices into `topic_labels` with `np.argsort()` and get the top five topics:"
   ]
  },
  {
   "cell_type": "code",
   "execution_count": 31,
   "metadata": {
    "colab": {
     "base_uri": "https://localhost:8080/",
     "height": 52
    },
    "colab_type": "code",
    "id": "1ICrmFJG0vjF",
    "outputId": "c4111099-a6a4-464d-c1a3-fd5545359b0f",
    "pycharm": {
     "is_executing": false
    }
   },
   "outputs": [
    {
     "data": {
      "text/plain": [
       "array(['3_program_agency', '24_amount_account',\n",
       "       '16_authorize_development', '1_housing_cha', '10_attorney_payment'],\n",
       "      dtype='<U24')"
      ]
     },
     "execution_count": 31,
     "metadata": {},
     "output_type": "execute_result"
    }
   ],
   "source": [
    "# np.argsort() gives ascending order, hence reverse via [::-1]\n",
    "topic_labels[np.argsort(marg_topic)[::-1][:5]]"
   ]
  },
  {
   "cell_type": "markdown",
   "metadata": {
    "colab_type": "text",
    "id": "e6TyZkMF0vjL"
   },
   "source": [
    "Likewise, we can get the marginal word distribution with [marginal_word_distrib()](api.rst#tmtoolkit.topicmod.model_stats.marginal_word_distrib) from the model's topic-word distribution and the marginal topic distribution. We'll use this to list the most probable words for the corpus. As expected, these are mostly quite common words:"
   ]
  },
  {
   "cell_type": "code",
   "execution_count": 32,
   "metadata": {
    "colab": {
     "base_uri": "https://localhost:8080/",
     "height": 52
    },
    "colab_type": "code",
    "id": "EfC7vp6G0vjM",
    "outputId": "b996185c-5a14-4ab6-98e6-53bc6be6fcb6",
    "pycharm": {
     "is_executing": false
    }
   },
   "outputs": [
    {
     "data": {
      "text/plain": [
       "array(['board', 'commissioner', 'county', 'service', 'contract',\n",
       "       'district', 'cook', 'approve', 'meeting', 'committee'],\n",
       "      dtype='<U17')"
      ]
     },
     "execution_count": 32,
     "metadata": {},
     "output_type": "execute_result"
    }
   ],
   "source": [
    "from tmtoolkit.topicmod.model_stats import marginal_word_distrib\n",
    "\n",
    "marg_word = marginal_word_distrib(best_tm.topic_word_, marg_topic)\n",
    "vocab[np.argsort(marg_word)[::-1][:10]]"
   ]
  },
  {
   "cell_type": "markdown",
   "metadata": {
    "colab_type": "text",
    "id": "XUYURIxC0vjQ"
   },
   "source": [
    "Two helper functions exist for this purpose: [most_probable_words()](api.rst#tmtoolkit.topicmod.model_stats.most_probable_words) and [least_probable_words()](api.rst#tmtoolkit.topicmod.model_stats.least_probable_words) sort the vocabulary according to the marginal probability:"
   ]
  },
  {
   "cell_type": "code",
   "execution_count": 33,
   "metadata": {
    "colab": {
     "base_uri": "https://localhost:8080/",
     "height": 52
    },
    "colab_type": "code",
    "id": "7I09QG0M0vjT",
    "outputId": "d6942a49-684b-4fb7-ba2d-364bc4e481ff",
    "pycharm": {
     "is_executing": false
    }
   },
   "outputs": [
    {
     "data": {
      "text/plain": [
       "array(['board', 'commissioner', 'county', 'service', 'contract',\n",
       "       'district', 'cook', 'approve', 'meeting', 'committee'],\n",
       "      dtype='<U17')"
      ]
     },
     "execution_count": 33,
     "metadata": {},
     "output_type": "execute_result"
    }
   ],
   "source": [
    "from tmtoolkit.topicmod.model_stats import most_probable_words, least_probable_words\n",
    "\n",
    "most_probable_words(vocab, best_tm.topic_word_,\n",
    "                    best_tm.doc_topic_, doc_lengths,\n",
    "                    n=10)"
   ]
  },
  {
   "cell_type": "code",
   "execution_count": 34,
   "metadata": {
    "colab": {
     "base_uri": "https://localhost:8080/",
     "height": 52
    },
    "colab_type": "code",
    "id": "eKc3sS8H0vjb",
    "outputId": "7ddfe65c-b5b0-4d1e-b2a9-c50cc8c400e9",
    "pycharm": {
     "is_executing": false
    }
   },
   "outputs": [
    {
     "data": {
      "text/plain": [
       "array(['superior', 'manhole', 'teachers', 'expensive', 'structural',\n",
       "       '7th', 'ideas', 'fast', 'signing', 'advisors'], dtype='<U17')"
      ]
     },
     "execution_count": 34,
     "metadata": {},
     "output_type": "execute_result"
    }
   ],
   "source": [
    "least_probable_words(vocab, best_tm.topic_word_,\n",
    "                     best_tm.doc_topic_, doc_lengths,\n",
    "                     n=10)"
   ]
  },
  {
   "cell_type": "markdown",
   "metadata": {
    "colab_type": "text",
    "id": "dzd2Z98r0vjg"
   },
   "source": [
    "### Word distinctiveness and saliency\n",
    "\n",
    "Word *distinctiveness* and *saliency* (see below) help to identify the most \"informative\" words in a corpus given its topic model. Both measures are introduced in [Chuang et al. 2012](https://dl.acm.org/citation.cfm?id=2254572).\n",
    "\n",
    "Word distinctiveness is calculated for each word $w$ as\n",
    "\n",
    "$\\text{distinctiveness}(w) = \\sum_T(P(T|w) \\log \\frac{P(T|w)}{P(T)})$.\n",
    "\n",
    "where $P(T)$ is the marginal topic distribution and $P(T|w)$ is the probability of a topic given a word $w$.\n",
    "\n",
    "We can calculate this measure using [word_distinctiveness()](api.rst#tmtoolkit.topicmod.model_stats.word_distinctiveness). To use this measure directly to rank words, we can use [most_distinct_words()](api.rst#tmtoolkit.topicmod.model_stats.most_distinct_words) and [least_distinct_words()](api.rst#tmtoolkit.topicmod.model_stats.least_distinct_words):"
   ]
  },
  {
   "cell_type": "code",
   "execution_count": 35,
   "metadata": {
    "colab": {
     "base_uri": "https://localhost:8080/",
     "height": 52
    },
    "colab_type": "code",
    "id": "zuuCFEBL0vjg",
    "outputId": "240c4eef-3a1d-4d42-868b-f9c499e5e1d1",
    "pycharm": {
     "is_executing": false
    }
   },
   "outputs": [
    {
     "data": {
      "text/plain": [
       "array([3.67304, 3.48791, 2.82911, 3.31262, 3.70073, 2.45807, 2.96764,\n",
       "       2.85741, 2.58549, 3.67304])"
      ]
     },
     "execution_count": 35,
     "metadata": {},
     "output_type": "execute_result"
    }
   ],
   "source": [
    "from tmtoolkit.topicmod.model_stats import word_distinctiveness, \\\n",
    "    most_distinct_words, least_distinct_words\n",
    "\n",
    "word_distinct = word_distinctiveness(best_tm.topic_word_, marg_topic)\n",
    "word_distinct[:10]   # first 10 words in vocab"
   ]
  },
  {
   "cell_type": "code",
   "execution_count": 36,
   "metadata": {
    "colab": {
     "base_uri": "https://localhost:8080/",
     "height": 69
    },
    "colab_type": "code",
    "id": "6kNrWudE0vjp",
    "outputId": "fc3b5375-1f03-4488-e6ea-1b72e12efc54",
    "pycharm": {
     "is_executing": false
    }
   },
   "outputs": [
    {
     "data": {
      "text/plain": [
       "array(['insert', 'rightofway', 'deleting', 'manhole', 'superior',\n",
       "       'sidewalk', 'mortar', 'historic', 'limestone', 'instruction'],\n",
       "      dtype='<U17')"
      ]
     },
     "execution_count": 36,
     "metadata": {},
     "output_type": "execute_result"
    }
   ],
   "source": [
    "most_distinct_words(vocab, best_tm.topic_word_,\n",
    "                    best_tm.doc_topic_, doc_lengths,\n",
    "                    n=10)"
   ]
  },
  {
   "cell_type": "code",
   "execution_count": 37,
   "metadata": {
    "colab": {
     "base_uri": "https://localhost:8080/",
     "height": 52
    },
    "colab_type": "code",
    "id": "tsPkRucB0vjt",
    "outputId": "0f0a6d6d-3d8c-4c12-fb78-4057373fbaf2",
    "pycharm": {
     "is_executing": false
    }
   },
   "outputs": [
    {
     "data": {
      "text/plain": [
       "array(['illinois', 'office', 'recommendation', 'provide', 'board',\n",
       "       'report', 'follow', 'section', 'approval', 'service'], dtype='<U17')"
      ]
     },
     "execution_count": 37,
     "metadata": {},
     "output_type": "execute_result"
    }
   ],
   "source": [
    "least_distinct_words(vocab, best_tm.topic_word_,\n",
    "                     best_tm.doc_topic_, doc_lengths,\n",
    "                     n=10)"
   ]
  },
  {
   "cell_type": "markdown",
   "metadata": {
    "colab_type": "text",
    "id": "rwCBN2BA0vj5"
   },
   "source": [
    "Word *saliency* weights each words' distinctiveness by it's marginal probability $P(w)$:\n",
    "\n",
    "$\\text{saliency}(w) = P(w) \\cdot \\text{distinctiveness}(w)$.\n",
    "\n",
    "The respective functions in tmtoolkit are [word_saliency()](api.rst#tmtoolkit.topicmod.model_stats.word_saliency), [most_salient_words()](api.rst#tmtoolkit.topicmod.model_stats.most_salient_words) and [least_salient_words()](api.rst#tmtoolkit.topicmod.model_stats.least_salient_words):"
   ]
  },
  {
   "cell_type": "code",
   "execution_count": 38,
   "metadata": {
    "colab": {
     "base_uri": "https://localhost:8080/",
     "height": 52
    },
    "colab_type": "code",
    "id": "E_m050hw0vj6",
    "outputId": "5ab2851c-5a11-44a2-bcd6-03024c761305",
    "pycharm": {
     "is_executing": false
    }
   },
   "outputs": [
    {
     "data": {
      "text/plain": [
       "array([5.05438e-06, 4.79980e-06, 3.89355e-06, 4.55870e-06, 5.09245e-06,\n",
       "       9.56976e-05, 1.42917e-03, 1.45746e-04, 1.04129e-04, 5.05438e-06])"
      ]
     },
     "execution_count": 38,
     "metadata": {},
     "output_type": "execute_result"
    }
   ],
   "source": [
    "from tmtoolkit.topicmod.model_stats import word_saliency, \\\n",
    "    most_salient_words, least_salient_words\n",
    "\n",
    "word_sal = word_saliency(best_tm.topic_word_, best_tm.doc_topic_, doc_lengths)\n",
    "word_sal[:10]   # first 10 words in vocab"
   ]
  },
  {
   "cell_type": "code",
   "execution_count": 39,
   "metadata": {
    "colab": {
     "base_uri": "https://localhost:8080/",
     "height": 52
    },
    "colab_type": "code",
    "id": "2dJIASuj0vkB",
    "outputId": "bb711a0e-4935-4400-b5af-84b29b75aa51",
    "pycharm": {
     "is_executing": false
    }
   },
   "outputs": [
    {
     "data": {
      "text/plain": [
       "array(['contract', 'commissioner', 'board', 'avenue', 'permit', 'county',\n",
       "       'case', 'attorney', 'district', 'health'], dtype='<U17')"
      ]
     },
     "execution_count": 39,
     "metadata": {},
     "output_type": "execute_result"
    }
   ],
   "source": [
    "most_salient_words(vocab, best_tm.topic_word_,\n",
    "                   best_tm.doc_topic_, doc_lengths,\n",
    "                   n=10)"
   ]
  },
  {
   "cell_type": "code",
   "execution_count": 40,
   "metadata": {
    "colab": {
     "base_uri": "https://localhost:8080/",
     "height": 52
    },
    "colab_type": "code",
    "id": "gm6fq_Ys0vkE",
    "outputId": "a997e5c3-16d4-4b6c-92a9-e9b047740fab",
    "pycharm": {
     "is_executing": false
    }
   },
   "outputs": [
    {
     "data": {
      "text/plain": [
       "array(['populations', 'efficiencies', 'messaging', 'speakers', 'renewals',\n",
       "       'consists', 'ran', 'extending', 'concurrences', 'vertical'],\n",
       "      dtype='<U17')"
      ]
     },
     "execution_count": 40,
     "metadata": {},
     "output_type": "execute_result"
    }
   ],
   "source": [
    "least_salient_words(vocab, best_tm.topic_word_,\n",
    "                    best_tm.doc_topic_, doc_lengths,\n",
    "                    n=10)"
   ]
  },
  {
   "cell_type": "markdown",
   "metadata": {
    "colab_type": "text",
    "id": "dt_e-97h0vkL"
   },
   "source": [
    "### Topic-word relevance\n",
    "\n",
    "The topic-word relevance measure as introduced by [Sievert and Shirley 2014](https://www.aclweb.org/anthology/W14-3110/) helps to identify the most relevant words within a topic by also accounting for the marginal probability of each word across the corpus. This is done by integrating a *lift* value, which is the \"ratio of a term's probability within a topic to its marginal probability across the corpus.\" (ibid.)\n",
    "\n",
    "Thus for each word $w$, given a topic-word distribution $\\phi$, a topic $t$ and a weight parameter $\\lambda$, it is calculated as:\n",
    "\n",
    "$\\text{relevance}_{\\phi, \\lambda}(w, t) = \\lambda \\log \\phi_{t,w} + (1-\\lambda) \\log \\frac{\\phi_{t,w}}{p(w)}$.\n",
    "\n",
    "The first term $\\log \\phi_{t,w}$ is the log of the topic-word distribution, the second term $\\log \\frac{\\phi_{t,w}}{p(w)}$ is the *log lift* and $\\lambda$ can be used to control the weight between both terms. The lower $\\lambda$, the more weight is put on the lift term, i.e. the more different are the results from the original topic-word distribution.\n",
    "\n",
    "This measure is implemented in [topic_word_relevance()](api.rst#tmtoolkit.topicmod.model_stats.topic_word_relevance). It returns a matrix of the same shape as the topic-word distribution, i.e. each row represents a topic with a (log-transformed) distribution across all words in the vocabulary. Please note that the lambda parameter ends with an underscore: `lambda_`."
   ]
  },
  {
   "cell_type": "code",
   "execution_count": 41,
   "metadata": {
    "colab": {
     "base_uri": "https://localhost:8080/",
     "height": 139
    },
    "colab_type": "code",
    "id": "VYtGAEgr0vkO",
    "outputId": "e16dded4-54d5-4c45-a48d-1e0b6cdcd86c",
    "pycharm": {
     "is_executing": false
    }
   },
   "outputs": [
    {
     "data": {
      "text/plain": [
       "array([[-12.13359, -12.13361, -12.13364, ..., -13.79938,  -8.33007,\n",
       "        -13.72649],\n",
       "       [-11.54564, -11.54566, -11.54569, ..., -13.21143,  -1.24183,\n",
       "         -4.43886],\n",
       "       [-12.1884 , -12.18842, -12.18845, ..., -13.85419, -15.29363,\n",
       "        -13.7813 ],\n",
       "       ...,\n",
       "       [-12.18783, -12.18784, -12.18788, ..., -13.85362, -15.29306,\n",
       "        -13.78073],\n",
       "       [-11.73739, -11.7374 , -11.73743, ..., -13.40317, -14.84261,\n",
       "        -13.33028],\n",
       "       [ -4.31499, -11.22376, -11.2238 , ..., -12.88954, -14.32898,\n",
       "        -12.81665]])"
      ]
     },
     "execution_count": 41,
     "metadata": {},
     "output_type": "execute_result"
    }
   ],
   "source": [
    "from tmtoolkit.topicmod.model_stats import topic_word_relevance\n",
    "\n",
    "topic_word_rel = topic_word_relevance(best_tm.topic_word_, best_tm.doc_topic_,\n",
    "                                      doc_lengths, lambda_=0.6)\n",
    "topic_word_rel"
   ]
  },
  {
   "cell_type": "markdown",
   "metadata": {
    "colab_type": "text",
    "id": "KzQJQ3b10vkX"
   },
   "source": [
    "To confirm that it's 30 topics across all words in the vocabulary:"
   ]
  },
  {
   "cell_type": "code",
   "execution_count": 42,
   "metadata": {
    "colab": {
     "base_uri": "https://localhost:8080/",
     "height": 34
    },
    "colab_type": "code",
    "id": "H2iapXkI0vkY",
    "outputId": "bf92a1e7-e597-4453-c3a0-a46285d98c5e",
    "pycharm": {
     "is_executing": false
    }
   },
   "outputs": [
    {
     "data": {
      "text/plain": [
       "(26, 4001)"
      ]
     },
     "execution_count": 42,
     "metadata": {},
     "output_type": "execute_result"
    }
   ],
   "source": [
    "topic_word_rel.shape"
   ]
  },
  {
   "cell_type": "markdown",
   "metadata": {
    "colab_type": "text",
    "id": "qPrdyR350vkg"
   },
   "source": [
    "Two functions can be used to get the most or least relevant words for a topic: [most_relevant_words_for_topic()](api.rst#tmtoolkit.topicmod.model_stats.most_relevant_words_for_topic) and [least_relevant_words_for_topic()](api.rst#tmtoolkit.topicmod.model_stats.least_relevant_words_for_topic). You can select the topic with the `topic` parameter which is a **zero-based topic index**.\n",
    "\n",
    "We'll do it for topic with index 4, which is:"
   ]
  },
  {
   "cell_type": "code",
   "execution_count": 43,
   "metadata": {
    "colab": {
     "base_uri": "https://localhost:8080/",
     "height": 34
    },
    "colab_type": "code",
    "id": "xF1aMyO80vkh",
    "outputId": "80209cb8-cb64-4a0e-b448-def7fe72fd46",
    "pycharm": {
     "is_executing": false
    }
   },
   "outputs": [
    {
     "data": {
      "text/plain": [
       "'5_county_cook'"
      ]
     },
     "execution_count": 43,
     "metadata": {},
     "output_type": "execute_result"
    }
   ],
   "source": [
    "topic_labels[4]"
   ]
  },
  {
   "cell_type": "code",
   "execution_count": 44,
   "metadata": {
    "colab": {
     "base_uri": "https://localhost:8080/",
     "height": 52
    },
    "colab_type": "code",
    "id": "Q03nyH7M0vkp",
    "outputId": "7837d7fe-b40b-4dc8-8f46-84fe3190c7cc",
    "pycharm": {
     "is_executing": false
    }
   },
   "outputs": [
    {
     "data": {
      "text/plain": [
       "array(['county', 'cook', 'property', 'class', 'whereas', 'board',\n",
       "       'abandon', 'tax', 'circumstance', 'commissioner'], dtype='<U17')"
      ]
     },
     "execution_count": 44,
     "metadata": {},
     "output_type": "execute_result"
    }
   ],
   "source": [
    "from tmtoolkit.topicmod.model_stats import most_relevant_words_for_topic, \\\n",
    "    least_relevant_words_for_topic\n",
    "\n",
    "most_relevant_words_for_topic(vocab, topic_word_rel, topic=4, n=10)"
   ]
  },
  {
   "cell_type": "code",
   "execution_count": 45,
   "metadata": {
    "colab": {
     "base_uri": "https://localhost:8080/",
     "height": 52
    },
    "colab_type": "code",
    "id": "1RmwUmXc0vkw",
    "outputId": "801a0b05-3fd7-4890-b8d4-9fe3c5718c07",
    "pycharm": {
     "is_executing": false
    }
   },
   "outputs": [
    {
     "data": {
      "text/plain": [
       "array(['contract', 'approve', 'meeting', 'order', 'motion', 'health',\n",
       "       'attorney', 'avenue', 'case', 'item'], dtype='<U17')"
      ]
     },
     "execution_count": 45,
     "metadata": {},
     "output_type": "execute_result"
    }
   ],
   "source": [
    "least_relevant_words_for_topic(vocab, topic_word_rel, topic=4, n=10)"
   ]
  },
  {
   "cell_type": "markdown",
   "metadata": {
    "colab_type": "text",
    "id": "fbH4u_Du0vkz"
   },
   "source": [
    "### Topic coherence\n",
    "\n",
    "We already used the *coherence* metric ([Mimno et al. 2011](https://dl.acm.org/citation.cfm?id=2145462)) for topic model evaluation. However, this metric cannot only be used to assess the overall quality of a topic model, but also to evaluate the individual topics' coherence."
   ]
  },
  {
   "cell_type": "code",
   "execution_count": 46,
   "metadata": {
    "colab": {
     "base_uri": "https://localhost:8080/",
     "height": 69
    },
    "colab_type": "code",
    "id": "tmZddOgG0vkz",
    "outputId": "654a876d-f2ae-4d56-c7dd-1d1b927603de"
   },
   "outputs": [
    {
     "data": {
      "text/plain": [
       "array([-0.74857, -1.08345, -0.70863, -0.73759, -0.95869, -1.41675,\n",
       "       -1.26333, -0.92702, -0.64067, -1.03155, -0.83999, -0.78776,\n",
       "       -1.16292, -0.97191, -0.67436, -0.71939, -0.73905, -1.32054,\n",
       "       -0.76392, -0.99736, -0.88427, -1.02904, -0.9807 , -0.68993,\n",
       "       -0.75463, -1.15117])"
      ]
     },
     "execution_count": 46,
     "metadata": {},
     "output_type": "execute_result"
    }
   ],
   "source": [
    "from tmtoolkit.topicmod.evaluate import metric_coherence_mimno_2011\n",
    "\n",
    "# use top 20 words per topic for metric\n",
    "coh = metric_coherence_mimno_2011(best_tm.topic_word_, dtm, top_n=20)\n",
    "coh"
   ]
  },
  {
   "cell_type": "markdown",
   "metadata": {
    "colab_type": "text",
    "id": "aqdkXk7E0vk3"
   },
   "source": [
    "This generates a coherence value for each topic. Let's show the distribution of these values:"
   ]
  },
  {
   "cell_type": "code",
   "execution_count": 47,
   "metadata": {
    "colab": {
     "base_uri": "https://localhost:8080/",
     "height": 279
    },
    "colab_type": "code",
    "id": "BS5UKf2T0vk3",
    "outputId": "942be437-fffb-4d9b-96be-5ed8e657db92",
    "scrolled": true
   },
   "outputs": [
    {
     "data": {
      "image/png": "[encoded data removed]",
      "text/plain": [
       "<Figure size 432x288 with 1 Axes>"
      ]
     },
     "metadata": {},
     "output_type": "display_data"
    }
   ],
   "source": [
    "import matplotlib.pyplot as plt\n",
    "\n",
    "plt.hist(coh, bins=20)\n",
    "plt.xlabel('coherence')\n",
    "plt.ylabel('n')\n",
    "plt.show();"
   ]
  },
  {
   "cell_type": "markdown",
   "metadata": {
    "colab_type": "text",
    "id": "xpHcb9Yk0vk8"
   },
   "source": [
    "And print the best and worst topics according to this metric:"
   ]
  },
  {
   "cell_type": "code",
   "execution_count": 48,
   "metadata": {
    "colab": {
     "base_uri": "https://localhost:8080/",
     "height": 52
    },
    "colab_type": "code",
    "id": "kJ7Nf0hJ0vk9",
    "outputId": "51263c36-51dd-4848-b07d-4738f78f80eb"
   },
   "outputs": [
    {
     "data": {
      "text/plain": [
       "array(['9_county_committee', '15_board_member', '24_amount_account',\n",
       "       '3_program_agency', '16_authorize_development'], dtype='<U24')"
      ]
     },
     "execution_count": 48,
     "metadata": {},
     "output_type": "execute_result"
    }
   ],
   "source": [
    "import numpy as np\n",
    "\n",
    "top10_t_indices = np.argsort(coh)[::-1][:5]\n",
    "bottom10_t_indices = np.argsort(coh)[:5]\n",
    "\n",
    "topic_labels[top10_t_indices]"
   ]
  },
  {
   "cell_type": "code",
   "execution_count": 49,
   "metadata": {
    "colab": {
     "base_uri": "https://localhost:8080/",
     "height": 52
    },
    "colab_type": "code",
    "id": "ce4osHrF0vk_",
    "outputId": "101d2681-428c-4da8-ecd5-1dd14954341c"
   },
   "outputs": [
    {
     "data": {
      "text/plain": [
       "array(['6_school_student', '18_work_exist', '7_maintain_know',\n",
       "       '13_casino_license', '26_martin_llc'], dtype='<U24')"
      ]
     },
     "execution_count": 49,
     "metadata": {},
     "output_type": "execute_result"
    }
   ],
   "source": [
    "topic_labels[bottom10_t_indices]"
   ]
  },
  {
   "cell_type": "markdown",
   "metadata": {
    "colab_type": "text",
    "id": "akxEPKhF0vlD"
   },
   "source": [
    "More coherence metrics can be used with the function [metric_coherence_gensim()](api.rst#tmtoolkit.topicmod.evaluate.metric_coherence_gensim). This requires that [gensim](https://radimrehurek.com/gensim/) is installed. Furthemore, most metrics require that a parameter `texts` is passed which is the tokenized text that was used to create the document-term matrix."
   ]
  },
  {
   "cell_type": "markdown",
   "metadata": {
    "colab_type": "text",
    "id": "ELRVUOaj0vlD"
   },
   "source": [
    "### Filtering topics\n",
    "\n",
    "With the function [filter_topics()](api.rst#tmtoolkit.topicmod.model_stats.filter_topics), you can filter the topics according to their topic-word distribution and the following search criteria:\n",
    "\n",
    "- `search_pattern`: one or more search patterns according to the [common parameters for pattern matching](preprocessing.ipynb#Common-parameters-for-pattern-matching-functions)\n",
    "- `top_n`: pattern match(es) must occur in the first `top_n` most probable words in the topic\n",
    "- `thresh`: matched words' probability must be above this threshold\n",
    "\n",
    "You must specify at least one of `top_n` and `thresh`, but you can also specify both. The function returns an array of topic indices (which start with zero!).\n",
    "\n",
    "Let's find all topics that have the word \"police\" in the top 5 most probable words:"
   ]
  },
  {
   "cell_type": "code",
   "execution_count": null,
   "metadata": {
    "colab": {
     "base_uri": "https://localhost:8080/",
     "height": 34
    },
    "colab_type": "code",
    "id": "A691x2-h0vlE",
    "outputId": "a2fc745d-ce8b-4881-8126-134560725ea3",
    "pycharm": {
     "is_executing": false
    }
   },
   "outputs": [],
   "source": [
    "from tmtoolkit.topicmod.model_stats import filter_topics\n",
    "\n",
    "found_topics = filter_topics('finance', vocab,\n",
    "                             best_tm.topic_word_, top_n=5)\n",
    "found_topics"
   ]
  },
  {
   "cell_type": "markdown",
   "metadata": {
    "colab_type": "text",
    "id": "VfQJTQJG0vlI"
   },
   "source": [
    "We can use these indices with our `topic_labels`:"
   ]
  },
  {
   "cell_type": "code",
   "execution_count": null,
   "metadata": {
    "colab": {
     "base_uri": "https://localhost:8080/",
     "height": 34
    },
    "colab_type": "code",
    "id": "GuLta7XH0vlI",
    "outputId": "6b196e14-e439-466e-9611-e595730122af",
    "pycharm": {
     "is_executing": false
    }
   },
   "outputs": [],
   "source": [
    "topic_labels[found_topics]"
   ]
  },
  {
   "cell_type": "markdown",
   "metadata": {
    "colab_type": "text",
    "id": "fGWIPUYx0vlM"
   },
   "source": [
    "Next, we want to select all topics where *any* of the words matched by the glob patterns (`match_type='glob'`) `\"trump\"` *or* `\"russia*\"` achieve at least a probability of 0.01 (`thresh=0.01`):"
   ]
  },
  {
   "cell_type": "code",
   "execution_count": null,
   "metadata": {
    "colab": {
     "base_uri": "https://localhost:8080/",
     "height": 86
    },
    "colab_type": "code",
    "id": "l0YXN2zW0vlN",
    "outputId": "b2d63b36-9130-4750-892f-3bf6cfcf8ea7",
    "pycharm": {
     "is_executing": false
    }
   },
   "outputs": [],
   "source": [
    "found_topics = filter_topics(['finance', 'contract*'], vocab,\n",
    "                             best_tm.topic_word_, thresh=0.01, match_type='glob')\n",
    "topic_labels[found_topics]"
   ]
  },
  {
   "cell_type": "markdown",
   "metadata": {
    "colab_type": "text",
    "id": "kUJONQqr0vlR"
   },
   "source": [
    "When we specify `cond='all'`, *all* patterns must have at least one match (here in the top 50 list of words per topic):"
   ]
  },
  {
   "cell_type": "code",
   "execution_count": null,
   "metadata": {
    "colab": {
     "base_uri": "https://localhost:8080/",
     "height": 52
    },
    "colab_type": "code",
    "id": "Gqkpf4Vn0vlT",
    "outputId": "7a22c2c1-2a4b-4f66-c07c-026a27abb4b6",
    "pycharm": {
     "is_executing": false
    }
   },
   "outputs": [],
   "source": [
    "found_topics = filter_topics(['finance', 'contract*'], vocab,\n",
    "                             best_tm.topic_word_, top_n=50, match_type='glob',\n",
    "                             cond='all')\n",
    "topic_labels[found_topics]"
   ]
  },
  {
   "cell_type": "markdown",
   "metadata": {
    "colab_type": "text",
    "id": "PgIsGwaS0vlg"
   },
   "source": [
    "### Excluding topics\n",
    "\n",
    "It is often the case that some topics of a topic model rank a lot of uninformative (e.g. very common) words the highest. This results in some uninformative topics, which you may want to exclude from further analysis. Note that if a large fraction of topics seems uninformative, it points to a problem with your topic model and/or your preprocessing steps. You should [evaluate](#Evaluation-of-topic-models) your candidate models carefully with the mentioned metrics and/or adjust your text preprocessing pipeline.\n",
    "\n",
    "The function [exclude_topics()](api.rst#tmtoolkit.topicmod.model_stats.exclude_topics) allows to remove a specified set of topics from the document-topic and topic-word distributions. You need to pass the **zero-based** indices of the topics that you want to remove, and both distributions.\n",
    "\n",
    "In this example, I identified the following topics as uninformative (by looking at the top ranked words either by topic-word distribution or topic-word relevance):"
   ]
  },
  {
   "cell_type": "code",
   "execution_count": null,
   "metadata": {
    "colab": {
     "base_uri": "https://localhost:8080/",
     "height": 52
    },
    "colab_type": "code",
    "id": "l4nywyY40vlq",
    "outputId": "405cbbee-3c59-4af8-c78a-59d473350f5f",
    "pycharm": {
     "is_executing": false
    }
   },
   "outputs": [],
   "source": [
    "topic_labels[bottom10_t_indices]"
   ]
  },
  {
   "cell_type": "markdown",
   "metadata": {
    "colab_type": "text",
    "id": "FwrGKNPO0vls"
   },
   "source": [
    "We can now pass these indices to [exclude_topics()](api.rst#tmtoolkit.topicmod.model_stats.exclude_topics) along with the topic model distributions. We'll get back new, filtered, distributions."
   ]
  },
  {
   "cell_type": "code",
   "execution_count": null,
   "metadata": {
    "colab": {
     "base_uri": "https://localhost:8080/",
     "height": 34
    },
    "colab_type": "code",
    "id": "f-3F96J90vlu",
    "outputId": "629b6a3d-091a-44e0-f6d1-879ed8384ccb",
    "pycharm": {
     "is_executing": false
    }
   },
   "outputs": [],
   "source": [
    "from tmtoolkit.topicmod.model_stats import exclude_topics\n",
    "\n",
    "new_doc_topic, new_topic_word, new_topic_mapping = \\\n",
    "    exclude_topics(uninform_topics, best_tm.doc_topic_,\n",
    "                best_tm.topic_word_, return_new_topic_mapping=True)\n",
    "new_doc_topic.shape, new_topic_word.shape"
   ]
  },
  {
   "cell_type": "markdown",
   "metadata": {
    "colab_type": "text",
    "id": "o2k_bwA20vlw"
   },
   "source": [
    "We can see in the new distributions' shapes that we now have 45 instead of 50 topics, because we removed five of them. We shouldn't forget to also update the topic labels and remove the unwanted topics:"
   ]
  },
  {
   "cell_type": "code",
   "execution_count": null,
   "metadata": {
    "colab": {
     "base_uri": "https://localhost:8080/",
     "height": 104
    },
    "colab_type": "code",
    "id": "laksfCZx0vlx",
    "outputId": "7329d157-2f3e-4c05-8d93-83414a26cef9",
    "pycharm": {
     "is_executing": false
    }
   },
   "outputs": [],
   "source": [
    "new_topic_labels = np.delete(topic_labels, uninform_topics)\n",
    "new_topic_labels"
   ]
  },
  {
   "cell_type": "markdown",
   "metadata": {
    "colab_type": "text",
    "id": "2uES92CG0vl0"
   },
   "source": [
    "## Displaying topic modeling results\n",
    "\n",
    "The [topicmod.model_io](api.rst#module-tmtoolkit.topicmod.model_io) module provides several functions for displaying and exporting topic modeling results, i.e. results derived from the document-topic and topic-word distribution of a given topic model.\n",
    "\n",
    "We already used [ldamodel_top_topic_words()](api.rst#tmtoolkit.topicmod.model_io.ldamodel_top_topic_words) briefly, which generates a dataframe with the top words from a topic-word distribution. You can also use the topic-word relevance matrix instead. With `top_n` we can control the number of top words:"
   ]
  },
  {
   "cell_type": "code",
   "execution_count": null,
   "metadata": {
    "colab": {
     "base_uri": "https://localhost:8080/",
     "height": 175
    },
    "colab_type": "code",
    "id": "pra_Fppa0vl1",
    "outputId": "f2c9ab46-2746-4316-8da3-4f8ba44e14e0",
    "pycharm": {
     "is_executing": false
    }
   },
   "outputs": [],
   "source": [
    "# using relevance matrix here and showing only the first 3 topics\n",
    "ldamodel_top_topic_words(topic_word_rel, vocab, top_n=5)[:3]"
   ]
  },
  {
   "cell_type": "markdown",
   "metadata": {
    "colab_type": "text",
    "id": "vL0bSpoL0vl3"
   },
   "source": [
    "Note that the values in parantheses are the corresponding values from the matrix for that word in that topic. They're negative because of the log transformation that is applied in the topic-word relevance measure.\n",
    "\n",
    "A similar function can be used for the document-topic distribution: [ldamodel_top_doc_topics()](api.rst#tmtoolkit.topicmod.model_io.ldamodel_top_doc_topics). Here, `top_n` controls the number of top-ranked topics to export. This time, we use the filtered document-topic distribution `new_doc_topics`:"
   ]
  },
  {
   "cell_type": "code",
   "execution_count": null,
   "metadata": {
    "colab": {
     "base_uri": "https://localhost:8080/",
     "height": 238
    },
    "colab_type": "code",
    "id": "xInkNFyD0vl4",
    "outputId": "28ab6bae-0364-44f3-9e3f-6e2c488fe1cf",
    "pycharm": {
     "is_executing": false
    }
   },
   "outputs": [],
   "source": [
    "from tmtoolkit.topicmod.model_io import ldamodel_top_doc_topics\n",
    "\n",
    "ldamodel_top_doc_topics(best_tm.doc_topic_, doc_labels, top_n=3,\n",
    "                        topic_labels=topic_labels)[:5]"
   ]
  },
  {
   "cell_type": "markdown",
   "metadata": {
    "colab_type": "text",
    "id": "CmE58wRl0vl6"
   },
   "source": [
    "Let's have a look at one of these documents:"
   ]
  },
  {
   "cell_type": "code",
   "execution_count": null,
   "metadata": {
    "colab": {
     "base_uri": "https://localhost:8080/",
     "height": 54
    },
    "colab_type": "code",
    "id": "WguELHW00vl6",
    "outputId": "178ee4e2-e8c2-4da3-9956-6bcbb94853e3",
    "pycharm": {
     "is_executing": false
    }
   },
   "outputs": [],
   "source": [
    "print(corpus['10046'][:500], '...')"
   ]
  },
  {
   "cell_type": "markdown",
   "metadata": {
    "colab_type": "text",
    "id": "JyZxl5gt0vl-"
   },
   "source": [
    "There are also two functions that generate datatables for the full topic-word and document-topic distributions: [ldamodel_full_topic_words()](api.rst#tmtoolkit.topicmod.model_io.ldamodel_full_topic_words) and [ldamodel_full_doc_topics()](api.rst#tmtoolkit.topicmod.model_io.ldamodel_full_doc_topics). The output of both functions is naturally quite big, as long as you're not working with a \"toy dataset\"."
   ]
  },
  {
   "cell_type": "code",
   "execution_count": null,
   "metadata": {
    "colab": {
     "base_uri": "https://localhost:8080/",
     "height": 256
    },
    "colab_type": "code",
    "id": "lSFNH2sj0vl-",
    "outputId": "6092260c-0dd0-46e5-8026-387f638bf7c3",
    "pycharm": {
     "is_executing": false
    }
   },
   "outputs": [],
   "source": [
    "from tmtoolkit.topicmod.model_io import ldamodel_full_topic_words\n",
    "\n",
    "datatable_topic_word = ldamodel_full_topic_words(best_tm.topic_word_,\n",
    "                                                 vocab,\n",
    "                                                 row_labels=topic_labels)\n",
    "# displaying only the first 5 topics with the first\n",
    "# 10 words from the vocabulary (which are all numbers)\n",
    "#datatable_topic_word[:5, :10]\n",
    "datatable_topic_word[:5]"
   ]
  },
  {
   "cell_type": "code",
   "execution_count": null,
   "metadata": {
    "colab": {
     "base_uri": "https://localhost:8080/",
     "height": 163
    },
    "colab_type": "code",
    "id": "WVwFOblv0vmB",
    "outputId": "754d37dd-8ae5-4d44-dbb8-37a19bce67ca",
    "pycharm": {
     "is_executing": false
    }
   },
   "outputs": [],
   "source": [
    "from tmtoolkit.topicmod.model_io import ldamodel_full_doc_topics\n",
    "\n",
    "datatable_doc_topic = ldamodel_full_doc_topics(best_tm.doc_topic_,\n",
    "                                               doc_labels,\n",
    "                                               topic_labels=topic_labels)\n",
    "# displaying only the first 3 documents with the first\n",
    "# 5 topics\n",
    "#datatable_doc_topic[:3, :5]\n",
    "datatable_doc_topic[:3]"
   ]
  },
  {
   "cell_type": "markdown",
   "metadata": {
    "colab_type": "text",
    "id": "CPD3eOTS0vmE"
   },
   "source": [
    "For quick inspection of topics there's also a pair of print functions. We already used [print_ldamodel_topic_words()](api.rst#tmtoolkit.topicmod.model_io.print_ldamodel_topic_words), but we haven't tried [print_ldamodel_doc_topics()](api.rst#tmtoolkit.topicmod.model_io.print_ldamodel_doc_topics) yet. This prints the `top_n` most probable topics for each document:"
   ]
  },
  {
   "cell_type": "code",
   "execution_count": null,
   "metadata": {
    "colab": {
     "base_uri": "https://localhost:8080/",
     "height": 364
    },
    "colab_type": "code",
    "id": "sLtMhP8S0vmG",
    "outputId": "b5c11d57-c000-4566-abd0-0df6e8078823",
    "pycharm": {
     "is_executing": false
    }
   },
   "outputs": [],
   "source": [
    "from tmtoolkit.topicmod.model_io import print_ldamodel_doc_topics\n",
    "\n",
    "# subsetting new_doc_topic and doc_labels to get only the first\n",
    "# five documents\n",
    "print_ldamodel_doc_topics(best_tm.doc_topic_[:5, :], doc_labels[:5],\n",
    "                          val_labels=topic_labels)"
   ]
  },
  {
   "cell_type": "markdown",
   "metadata": {
    "colab_type": "text",
    "id": "ma1CFeoy0vmQ"
   },
   "source": [
    "## Visualizing topic models\n",
    "\n",
    "The [topicmod.visualize](api.rst#visualize-topic-models-and-topic-model-evaluation-results) module contains several functions to visualize topic models and evaluation results. We've already used [plot_eval_results()](api.rst#tmtoolkit.topicmod.visualize.plot_eval_results) during [topic model evaluation](#Evaluation-of-topic-models) so we'll now focus on visualizing topic models.\n",
    "\n",
    "### Heatmaps\n",
    "\n",
    "Let's start with heatmap visualizations of document-topic or topic-word distributions from our topic model. This can be done with [plot_doc_topic_heatmap()](api.rst#tmtoolkit.topicmod.visualize.plot_doc_topic_heatmap) and [plot_topic_word_heatmap()](api.rst#tmtoolkit.topicmod.visualize.plot_topic_word_heatmap) respectively. Both functions draw on a [matplotlib](https://matplotlib.org/) figure and *Axes* object, which you must create before using these functions.\n",
    "\n",
    "Heatmap visualizations essentially shade cells in a 2D matrix (like the document-topic or topic-word distributions) according to their value, i.e. the respective probability for a topic in a given document or a word in a given topic. Since these matrices are usually quite large, i.e. with hundreds of rows and/or columns, it doesn't make sense to plot a heatmap of the whole matrix, but rather a certain subset of interest. When we want to visualize a document-topic distribution, we can optionally select a subset of the documents with the `which_documents` parameter and a subset of the topics with the `which_topics` parameter. Let's draw a heatmap of a subset of documents across all topics at first:"
   ]
  },
  {
   "cell_type": "code",
   "execution_count": null,
   "metadata": {
    "colab": {
     "base_uri": "https://localhost:8080/",
     "height": 611
    },
    "colab_type": "code",
    "id": "rQp-hJNj0vmS",
    "outputId": "0b87cfb7-90c9-43e3-a687-566764cac7d2",
    "pycharm": {
     "is_executing": false
    }
   },
   "outputs": [],
   "source": [
    "import matplotlib.pyplot as plt\n",
    "from tmtoolkit.topicmod.visualize import plot_doc_topic_heatmap\n",
    "\n",
    "# create a figure of certain size and\n",
    "# Axes object to draw on\n",
    "fig, ax = plt.subplots(figsize=(32, 8))\n",
    "\n",
    "which_docs = list(corpus.keys())[:10]\n",
    "\n",
    "plot_doc_topic_heatmap(fig, ax, best_tm.doc_topic_, doc_labels,\n",
    "                       topic_labels=topic_labels,\n",
    "                       which_documents=which_docs);"
   ]
  },
  {
   "cell_type": "code",
   "execution_count": null,
   "metadata": {
    "colab": {
     "base_uri": "https://localhost:8080/",
     "height": 600
    },
    "colab_type": "code",
    "id": "STAB54dJ0vmV",
    "outputId": "f0039f5c-1c8f-41ef-e79d-9f51436984d1",
    "pycharm": {
     "is_executing": false
    }
   },
   "outputs": [],
   "source": [
    "fig, ax = plt.subplots(figsize=(6, 8))\n",
    "\n",
    "which_topics = [\n",
    "    '10_employee_retirement',\n",
    "    '13_appointing_settlement',\n",
    "    '15_december_red',\n",
    "    '18_station_asap',\n",
    "    '19_delivery_strategic'\n",
    "]\n",
    "\n",
    "plot_doc_topic_heatmap(fig, ax, best_tm.doc_topic_, doc_labels,\n",
    "                       topic_labels=topic_labels,\n",
    "                       which_documents=which_docs,\n",
    "                       which_topics=which_topics);"
   ]
  },
  {
   "cell_type": "markdown",
   "metadata": {
    "colab_type": "text",
    "id": "MWkeljpQ0vmW",
    "pycharm": {
     "is_executing": false,
     "name": "#%% md\n"
    }
   },
   "source": [
    "Similarily, we can work with [plot_topic_word_heatmap()](api.rst#tmtoolkit.topicmod.visualize.plot_topic_word_heatmap) to visualize a topic-word distribution. We can also select a subset of topics and words from the vocabulary:"
   ]
  },
  {
   "cell_type": "code",
   "execution_count": null,
   "metadata": {
    "colab": {
     "base_uri": "https://localhost:8080/",
     "height": 524
    },
    "colab_type": "code",
    "id": "673Z1am90vmX",
    "outputId": "66ac9209-d7e5-4252-b85a-254ec59e6c98",
    "pycharm": {
     "name": "#%%\n"
    }
   },
   "outputs": [],
   "source": [
    "from tmtoolkit.topicmod.visualize import plot_topic_word_heatmap\n",
    "\n",
    "fig, ax = plt.subplots(figsize=(12, 8))\n",
    "\n",
    "which_words = ['finance', 'budget', 'project', 'contract']\n",
    "\n",
    "plot_topic_word_heatmap(fig, ax, best_tm.topic_word_, vocab,\n",
    "                        topic_labels=topic_labels,\n",
    "                        which_topics=which_topics,\n",
    "                        which_words=which_words);"
   ]
  },
  {
   "cell_type": "markdown",
   "metadata": {
    "colab_type": "text",
    "id": "Yv6qhC0I0vmZ"
   },
   "source": [
    "Note that there's also a generic heatmap plotting function [plot_heatmap()](api.rst#plot-heatmaps-for-topic-models) for any kind of 2D matrices. "
   ]
  },
  {
   "cell_type": "markdown",
   "metadata": {
    "colab_type": "text",
    "id": "e8PSsTHv0vma"
   },
   "source": [
    "### Word clouds\n",
    "\n",
    "Thanks to the [wordlcloud package](https://pypi.org/project/wordcloud/), topic-word and document-topic distributions can also be visualized as \"word clouds\" with tmtoolkit. The function [generate_wordclouds_for_topic_words()](api.rst#tmtoolkit.topicmod.visualize.generate_wordclouds_for_topic_words) generates a word cloud for each topic by scaling a topic's word by its probability (weight). You can choose to display only the top `top_n` words per topic. The result of this function will be a dictionary mapping topic labels to the respective word cloud image."
   ]
  },
  {
   "cell_type": "code",
   "execution_count": null,
   "metadata": {
    "colab": {
     "base_uri": "https://localhost:8080/",
     "height": 54
    },
    "colab_type": "code",
    "id": "igAfqUQb0vma",
    "outputId": "c7c41a65-291c-4772-e4ce-cd2d42d9812a"
   },
   "outputs": [],
   "source": [
    "from tmtoolkit.topicmod.visualize import generate_wordclouds_for_topic_words\n",
    "\n",
    "# some options for wordcloud output\n",
    "img_w = 400   # image width\n",
    "img_h = 300   # image height\n",
    "\n",
    "topic_clouds = generate_wordclouds_for_topic_words(\n",
    "    new_topic_word, vocab_bg,\n",
    "    top_n=20, topic_labels=new_topic_labels,\n",
    "    width=img_w, height=img_h\n",
    ")\n",
    "\n",
    "# show all generated word clouds\n",
    "topic_clouds.keys()"
   ]
  },
  {
   "cell_type": "markdown",
   "metadata": {
    "colab_type": "text",
    "id": "pvlS1CDQ0vmg"
   },
   "source": [
    "Let's select specific topics and display their word cloud:"
   ]
  },
  {
   "cell_type": "code",
   "execution_count": null,
   "metadata": {
    "colab": {
     "base_uri": "https://localhost:8080/",
     "height": 317
    },
    "colab_type": "code",
    "id": "_jnC6h0U0vmj",
    "outputId": "68a676f5-ae0b-4a34-a07c-851ccd963ff8"
   },
   "outputs": [],
   "source": [
    "topic_clouds['13_appointing_settlement']"
   ]
  },
  {
   "cell_type": "code",
   "execution_count": null,
   "metadata": {
    "colab": {
     "base_uri": "https://localhost:8080/",
     "height": 317
    },
    "colab_type": "code",
    "id": "Kq9Qu7si0vmk",
    "outputId": "84b964d7-3d1b-4baa-fba3-9f2e808840b6"
   },
   "outputs": [],
   "source": [
    "topic_clouds['10_employee_retirement']"
   ]
  },
  {
   "cell_type": "markdown",
   "metadata": {
    "colab_type": "text",
    "id": "YMmAtJcM0vmm"
   },
   "source": [
    "The same can be done for the document-topic distribution using [generate_wordclouds_for_document_topics()](api.rst#tmtoolkit.topicmod.visualize.generate_wordclouds_for_document_topics). Here, a word cloud for each document will be generated that contains the `top_n` most probable topics for this document:"
   ]
  },
  {
   "cell_type": "code",
   "execution_count": null,
   "metadata": {
    "colab": {
     "base_uri": "https://localhost:8080/",
     "height": 34
    },
    "colab_type": "code",
    "id": "McXp5Cmo0vmn",
    "outputId": "3f24f25e-8c92-4050-d3e5-c28a351dbba6"
   },
   "outputs": [],
   "source": [
    "from tmtoolkit.topicmod.visualize import generate_wordclouds_for_document_topics\n",
    "\n",
    "doc_clouds = generate_wordclouds_for_document_topics(\n",
    "    new_doc_topic, doc_labels, topic_labels=new_topic_labels,\n",
    "    top_n=5, width=img_w, height=img_h)\n",
    "\n",
    "# show only the first 5 documents for\n",
    "# which word clouds were generated\n",
    "list(doc_clouds.keys())[:5]"
   ]
  },
  {
   "cell_type": "markdown",
   "metadata": {
    "colab_type": "text",
    "id": "d6eD3h5o0vmp"
   },
   "source": [
    "To display a specific document's topic word cloud:"
   ]
  },
  {
   "cell_type": "code",
   "execution_count": null,
   "metadata": {
    "colab": {
     "base_uri": "https://localhost:8080/",
     "height": 317
    },
    "colab_type": "code",
    "id": "tnZM2cwN0vmq",
    "outputId": "2c384d12-c2dc-4d96-ab3b-2116bc89c410"
   },
   "outputs": [],
   "source": [
    "doc_clouds['1']"
   ]
  },
  {
   "cell_type": "code",
   "execution_count": null,
   "metadata": {
    "colab": {},
    "colab_type": "code",
    "id": "Fxr4PvTr05vC"
   },
   "outputs": [],
   "source": []
  },
  {
   "cell_type": "code",
   "execution_count": null,
   "metadata": {},
   "outputs": [],
   "source": []
  }
 ],
 "metadata": {
  "colab": {
   "name": "topic_modeling_Russian_FB_ads.ipynb",
   "provenance": []
  },
  "kernelspec": {
   "display_name": "conda_tensorflow_p36",
   "language": "python",
   "name": "conda_tensorflow_p36"
  },
  "language_info": {
   "codemirror_mode": {
    "name": "ipython",
    "version": 3
   },
   "file_extension": ".py",
   "mimetype": "text/x-python",
   "name": "python",
   "nbconvert_exporter": "python",
   "pygments_lexer": "ipython3",
   "version": "3.6.5"
  },
  "pycharm": {
   "stem_cell": {
    "cell_type": "raw",
    "metadata": {
     "collapsed": false
    },
    "source": []
   }
  }
 },
 "nbformat": 4,
 "nbformat_minor": 4
}
