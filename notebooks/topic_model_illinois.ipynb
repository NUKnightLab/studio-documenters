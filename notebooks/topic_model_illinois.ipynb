{
 "cells": [
  {
   "cell_type": "markdown",
   "metadata": {
    "colab_type": "text",
    "id": "xbXAJnld0veS"
   },
   "source": [
    "# Topic modeling with tmtoolkit\n",
    "\n",
    "Adapted from: https://github.com/WZBSocialScienceCenter/tmtoolkit/blob/master/doc/source/topic_modeling.ipynb\n",
    "\n",
    "## An example document-term matrix\n",
    "\n",
    "tmtoolkit supports topic models that are computed from document-term matrices (DTMs)."
   ]
  },
  {
   "cell_type": "code",
   "execution_count": 1,
   "metadata": {},
   "outputs": [],
   "source": [
    "import random\n",
    "import os\n",
    "import logging\n",
    "import warnings\n",
    "import numpy as np\n",
    "\n",
    "try:\n",
    "    import tmtoolkit\n",
    "except ModuleNotFoundError:\n",
    "    !pip install tmtoolkit[recommended,lda,sklearn,gensim]\n",
    "from tmtoolkit.topicmod import tm_lda\n",
    "from tmtoolkit.topicmod.model_io import print_ldamodel_topic_words\n",
    "from tmtoolkit.topicmod.tm_lda import compute_models_parallel\n",
    "from tmtoolkit.topicmod.tm_lda import evaluate_topic_models\n",
    "from tmtoolkit.topicmod.evaluate import results_by_parameter\n",
    "from tmtoolkit.corpus import Corpus\n",
    "from tmtoolkit.preprocess import TMPreproc"
   ]
  },
  {
   "cell_type": "code",
   "execution_count": 2,
   "metadata": {
    "colab": {
     "base_uri": "https://localhost:8080/",
     "height": 34
    },
    "colab_type": "code",
    "id": "uquaYEIC0vea",
    "outputId": "cf55d7dd-7d7d-43f3-d149-b529257abe91",
    "pycharm": {
     "is_executing": false
    }
   },
   "outputs": [
    {
     "data": {
      "text/plain": [
       "<Corpus [17237 documents]>"
      ]
     },
     "execution_count": 2,
     "metadata": {},
     "output_type": "execute_result"
    }
   ],
   "source": [
    "random.seed(20191120)   # to make the sampling reproducible\n",
    "np.set_printoptions(precision=5)\n",
    "\n",
    "DATADIR = '../../data/documenters/illinois'\n",
    "_corpus = Corpus()\n",
    "\n",
    "\n",
    "def documents(datadir=DATADIR):\n",
    "    for fn in os.listdir(datadir):\n",
    "        yield fn, open(os.path.join(datadir, fn)).read()\n",
    "\n",
    "for fn, text in documents():\n",
    "    _corpus.add_doc(fn[:-4], text)\n",
    "\n",
    "_corpus"
   ]
  },
  {
   "cell_type": "code",
   "execution_count": 3,
   "metadata": {
    "colab": {
     "base_uri": "https://localhost:8080/",
     "height": 352
    },
    "colab_type": "code",
    "id": "VkYKc8LhGAMR",
    "outputId": "cb1112b9-0a37-458f-91d7-5a07c74359a8"
   },
   "outputs": [
    {
     "data": {
      "text/plain": [
       "(array([1.6794e+04, 2.8100e+02, 1.0700e+02, 3.6000e+01, 1.3000e+01,\n",
       "        4.0000e+00, 1.0000e+00, 0.0000e+00, 0.0000e+00, 1.0000e+00]),\n",
       " array([      0. ,  217464.5,  434929. ,  652393.5,  869858. , 1087322.5,\n",
       "        1304787. , 1522251.5, 1739716. , 1957180.5, 2174645. ]),\n",
       " <a list of 10 Patch objects>)"
      ]
     },
     "execution_count": 3,
     "metadata": {},
     "output_type": "execute_result"
    },
    {
     "data": {
      "image/png": "[encoded data removed]",
      "text/plain": [
       "<Figure size 432x288 with 1 Axes>"
      ]
     },
     "metadata": {},
     "output_type": "display_data"
    }
   ],
   "source": [
    "import matplotlib\n",
    "\n",
    "matplotlib.pyplot.hist(_corpus.doc_lengths.values())"
   ]
  },
  {
   "cell_type": "code",
   "execution_count": 4,
   "metadata": {
    "colab": {
     "base_uri": "https://localhost:8080/",
     "height": 52
    },
    "colab_type": "code",
    "id": "Ainw8SuLGwWl",
    "outputId": "3c62cfe8-b9cf-46c4-82c9-15a43ed09c78"
   },
   "outputs": [
    {
     "name": "stdout",
     "output_type": "stream",
     "text": [
      "Mean doc length: 27797.95039740094\n",
      "Std: 79844.54599522066\n"
     ]
    }
   ],
   "source": [
    "from statistics import mean, stdev\n",
    "doclen_mean = mean(_corpus.doc_lengths.values())\n",
    "doclen_std = stdev(_corpus.doc_lengths.values())\n",
    "print('Mean doc length:', doclen_mean)\n",
    "print('Std:', doclen_std)"
   ]
  },
  {
   "cell_type": "code",
   "execution_count": 5,
   "metadata": {
    "colab": {
     "base_uri": "https://localhost:8080/",
     "height": 34
    },
    "colab_type": "code",
    "id": "HyR3svJQHQXy",
    "outputId": "9670823e-f730-4a48-9cf6-afcec886cc3f"
   },
   "outputs": [
    {
     "data": {
      "text/plain": [
       "<Corpus [16279 documents]>"
      ]
     },
     "execution_count": 5,
     "metadata": {},
     "output_type": "execute_result"
    }
   ],
   "source": [
    "# For topic modeling, document sizes should be similar.\n",
    "# If there is a lot of variance, we might look at a subset of documents of similar size\n",
    "_corpus = _corpus.filter_by_max_length(doclen_mean + doclen_std)\n",
    "_corpus"
   ]
  },
  {
   "cell_type": "code",
   "execution_count": 6,
   "metadata": {},
   "outputs": [],
   "source": [
    "try:\n",
    "    import nltk\n",
    "except ModuleNotFoundError:\n",
    "    !pip install nltk\n",
    "    import nltk\n",
    "try:\n",
    "    nltk.find('corpora/stopwords')\n",
    "except LookupError:\n",
    "    nltk.download('stopwords')\n",
    "try:\n",
    "    nltk.find('tokenizers/punkt')\n",
    "except LookupError:\n",
    "    nltk.download('punkt')\n",
    "try:\n",
    "    nltk.find('taggers/averaged_perceptron_tagger')\n",
    "except LookupError:\n",
    "    nltk.download('averaged_perceptron_tagger')\n",
    "try:\n",
    "    nltk.find('corpora/wordnet')\n",
    "except LookupError:\n",
    "    nltk.download('wordnet')"
   ]
  },
  {
   "cell_type": "markdown",
   "metadata": {
    "colab_type": "text",
    "id": "QpqtMtLf0vfO"
   },
   "source": [
    "## Pre-process the corpus\n",
    "\n",
    "There is a very high number of uncommon terms through the corpus indicating a high level of heterogeneity across documents."
   ]
  },
  {
   "cell_type": "code",
   "execution_count": 7,
   "metadata": {
    "colab": {
     "base_uri": "https://localhost:8080/",
     "height": 34
    },
    "colab_type": "code",
    "id": "pNdROi_d0vfR",
    "outputId": "60cc432c-540e-4b5e-a60b-7f6579f191e6",
    "pycharm": {
     "is_executing": false
    }
   },
   "outputs": [
    {
     "data": {
      "text/plain": [
       "(2000, 7503)"
      ]
     },
     "execution_count": 7,
     "metadata": {},
     "output_type": "execute_result"
    }
   ],
   "source": [
    "# A large corpus can be heavy to process. Here we take a sample of 1000 docs\n",
    "corpus = _corpus.sample(2000)\n",
    "corpus.filter_characters()\n",
    "preproc = TMPreproc(corpus)\n",
    "preproc = preproc \\\n",
    "    .tokens_to_lowercase() \\\n",
    "    .remove_special_chars_in_tokens() \\\n",
    "    .add_stopwords(['mr', 'mrs', 'ms']) \\\n",
    "    .clean_tokens(\n",
    "        remove_numbers=True,\n",
    "        remove_shorter_than=3,\n",
    "        remove_longer_than=20\n",
    "    ) \\\n",
    "    .remove_common_tokens(df_threshold=0.85) \\\n",
    "    .remove_uncommon_tokens(df_threshold=0.005)\n",
    "    \n",
    "    #.remove_common_tokens(df_threshold=0.001) \\\n",
    "    #.remove_uncommon_tokens(df_threshold=0.8)\n",
    "preproc.pos_tag()\n",
    "preproc.filter_for_pos(['N', 'V', 'ADJ'])\n",
    "preproc.lemmatize()\n",
    "preproc.n_docs, preproc.vocabulary_size"
   ]
  },
  {
   "cell_type": "code",
   "execution_count": 8,
   "metadata": {},
   "outputs": [
    {
     "data": {
      "text/html": [
       "<div>\n",
       "<style scoped>\n",
       "    .dataframe tbody tr th:only-of-type {\n",
       "        vertical-align: middle;\n",
       "    }\n",
       "\n",
       "    .dataframe tbody tr th {\n",
       "        vertical-align: top;\n",
       "    }\n",
       "\n",
       "    .dataframe thead th {\n",
       "        text-align: right;\n",
       "    }\n",
       "</style>\n",
       "<table border=\"1\" class=\"dataframe\">\n",
       "  <thead>\n",
       "    <tr style=\"text-align: right;\">\n",
       "      <th></th>\n",
       "      <th>doc</th>\n",
       "      <th>position</th>\n",
       "      <th>token</th>\n",
       "      <th>meta_pos</th>\n",
       "    </tr>\n",
       "  </thead>\n",
       "  <tbody>\n",
       "    <tr>\n",
       "      <th>0</th>\n",
       "      <td>5015821-Agenda</td>\n",
       "      <td>0</td>\n",
       "      <td>committee</td>\n",
       "      <td>NN</td>\n",
       "    </tr>\n",
       "    <tr>\n",
       "      <th>1</th>\n",
       "      <td>5015821-Agenda</td>\n",
       "      <td>1</td>\n",
       "      <td>member</td>\n",
       "      <td>NNS</td>\n",
       "    </tr>\n",
       "    <tr>\n",
       "      <th>2</th>\n",
       "      <td>5015821-Agenda</td>\n",
       "      <td>2</td>\n",
       "      <td>january</td>\n",
       "      <td>JJ</td>\n",
       "    </tr>\n",
       "    <tr>\n",
       "      <th>3</th>\n",
       "      <td>5015821-Agenda</td>\n",
       "      <td>3</td>\n",
       "      <td>chair</td>\n",
       "      <td>NN</td>\n",
       "    </tr>\n",
       "    <tr>\n",
       "      <th>4</th>\n",
       "      <td>5015821-Agenda</td>\n",
       "      <td>4</td>\n",
       "      <td>glenn</td>\n",
       "      <td>NNS</td>\n",
       "    </tr>\n",
       "    <tr>\n",
       "      <th>...</th>\n",
       "      <td>...</td>\n",
       "      <td>...</td>\n",
       "      <td>...</td>\n",
       "      <td>...</td>\n",
       "    </tr>\n",
       "    <tr>\n",
       "      <th>64</th>\n",
       "      <td>6570508-Committee-on-License-and-Consumer-Prot...</td>\n",
       "      <td>64</td>\n",
       "      <td>housing</td>\n",
       "      <td>NN</td>\n",
       "    </tr>\n",
       "    <tr>\n",
       "      <th>65</th>\n",
       "      <td>6570508-Committee-on-License-and-Consumer-Prot...</td>\n",
       "      <td>65</td>\n",
       "      <td>ordinance</td>\n",
       "      <td>NN</td>\n",
       "    </tr>\n",
       "    <tr>\n",
       "      <th>66</th>\n",
       "      <td>6570508-Committee-on-License-and-Consumer-Prot...</td>\n",
       "      <td>66</td>\n",
       "      <td>alderman</td>\n",
       "      <td>JJ</td>\n",
       "    </tr>\n",
       "    <tr>\n",
       "      <th>67</th>\n",
       "      <td>6570508-Committee-on-License-and-Consumer-Prot...</td>\n",
       "      <td>67</td>\n",
       "      <td>mitt</td>\n",
       "      <td>NN</td>\n",
       "    </tr>\n",
       "    <tr>\n",
       "      <th>68</th>\n",
       "      <td>6570508-Committee-on-License-and-Consumer-Prot...</td>\n",
       "      <td>68</td>\n",
       "      <td>others</td>\n",
       "      <td>NNS</td>\n",
       "    </tr>\n",
       "  </tbody>\n",
       "</table>\n",
       "<p>1917923 rows × 4 columns</p>\n",
       "</div>"
      ],
      "text/plain": [
       "                                                  doc  position      token  \\\n",
       "0                                      5015821-Agenda         0  committee   \n",
       "1                                      5015821-Agenda         1     member   \n",
       "2                                      5015821-Agenda         2    january   \n",
       "3                                      5015821-Agenda         3      chair   \n",
       "4                                      5015821-Agenda         4      glenn   \n",
       "..                                                ...       ...        ...   \n",
       "64  6570508-Committee-on-License-and-Consumer-Prot...        64    housing   \n",
       "65  6570508-Committee-on-License-and-Consumer-Prot...        65  ordinance   \n",
       "66  6570508-Committee-on-License-and-Consumer-Prot...        66   alderman   \n",
       "67  6570508-Committee-on-License-and-Consumer-Prot...        67       mitt   \n",
       "68  6570508-Committee-on-License-and-Consumer-Prot...        68     others   \n",
       "\n",
       "   meta_pos  \n",
       "0        NN  \n",
       "1       NNS  \n",
       "2        JJ  \n",
       "3        NN  \n",
       "4       NNS  \n",
       "..      ...  \n",
       "64       NN  \n",
       "65       NN  \n",
       "66       JJ  \n",
       "67       NN  \n",
       "68      NNS  \n",
       "\n",
       "[1917923 rows x 4 columns]"
      ]
     },
     "execution_count": 8,
     "metadata": {},
     "output_type": "execute_result"
    }
   ],
   "source": [
    "preproc.tokens_datatable"
   ]
  },
  {
   "cell_type": "markdown",
   "metadata": {
    "colab_type": "text",
    "id": "r4B68dNG0vfy"
   },
   "source": [
    "## Create document labels array"
   ]
  },
  {
   "cell_type": "code",
   "execution_count": 9,
   "metadata": {
    "colab": {
     "base_uri": "https://localhost:8080/",
     "height": 52
    },
    "colab_type": "code",
    "id": "gvTU-DSK0vfz",
    "outputId": "adf1d30d-c285-4452-a156-65e93d09e00a",
    "pycharm": {
     "is_executing": false
    }
   },
   "outputs": [
    {
     "data": {
      "text/plain": [
       "array(['5015774-Minutes', '5015821-Agenda', '5015824-Agenda',\n",
       "       '5015859-Committee-on-Finance-Audit-amp-Budget-2018-10-10',\n",
       "       '5015860-Regular-Commission-Meeting-2018-08-23-Minutes',\n",
       "       '5015872-Zoning-Board-of-Appeals-2017-01-20-Minutes',\n",
       "       '5015887-Zoning-Board-of-Appeals-2010-03-19-Agenda',\n",
       "       '5015888-Zoning-Board-of-Appeals-2016-01-15-Map',\n",
       "       '5015890-Zoning-Board-of-Appeals-2009-04-17-Agenda',\n",
       "       '5015896-Zoning-Board-of-Appeals-2012-03-16-Agenda'], dtype='<U58')"
      ]
     },
     "execution_count": 9,
     "metadata": {},
     "output_type": "execute_result"
    }
   ],
   "source": [
    "doc_labels = np.array(preproc.doc_labels)\n",
    "doc_labels[:10]"
   ]
  },
  {
   "cell_type": "markdown",
   "metadata": {},
   "source": [
    "## Get the Document-term-matrix and the vocabulary"
   ]
  },
  {
   "cell_type": "code",
   "execution_count": 10,
   "metadata": {
    "colab": {
     "base_uri": "https://localhost:8080/",
     "height": 86
    },
    "colab_type": "code",
    "id": "wi1B_0eS0vgG",
    "outputId": "0db78dff-6d2d-4222-e469-7f83657981de",
    "pycharm": {
     "is_executing": false
    }
   },
   "outputs": [
    {
     "data": {
      "text/plain": [
       "<2000x7503 sparse matrix of type '<class 'numpy.int32'>'\n",
       "\twith 479852 stored elements in Compressed Sparse Row format>"
      ]
     },
     "execution_count": 10,
     "metadata": {},
     "output_type": "execute_result"
    }
   ],
   "source": [
    "vocab = np.array(preproc.vocabulary)\n",
    "dtm = preproc.dtm\n",
    "\n",
    "del preproc # once we have the dtm, we no longer need the preprocessed corpus\n",
    "dtm"
   ]
  },
  {
   "cell_type": "markdown",
   "metadata": {
    "colab_type": "text",
    "id": "4-47yr2q0vgQ"
   },
   "source": [
    "We now have a sparse DTM, a list of document labels `doc_labels` that represent the rows of both DTMs and vocabulary array `vocab` that represent the columns of the DTM. We will use this data for the remainder of the notebook.\n",
    "\n",
    "### suppress unwanted logging"
   ]
  },
  {
   "cell_type": "code",
   "execution_count": 11,
   "metadata": {
    "colab": {
     "base_uri": "https://localhost:8080/",
     "height": 173
    },
    "colab_type": "code",
    "id": "kOZpg0YA0vgW",
    "outputId": "b5627eaa-bb62-4508-b7bc-a463322ec6c4",
    "pycharm": {
     "is_executing": false
    }
   },
   "outputs": [],
   "source": [
    "logger = logging.getLogger('lda')\n",
    "logger.addHandler(logging.NullHandler())\n",
    "logger.propagate = False\n",
    "\n",
    "warnings.filterwarnings('ignore')"
   ]
  },
  {
   "cell_type": "markdown",
   "metadata": {
    "colab_type": "text",
    "id": "4xeB9t5Q0vhR"
   },
   "source": [
    "## Evaluation of topic model\n",
    "\n",
    "tmtoolkit provides several metrics for comparing and evaluating topic models. This can be used for finding a good hyperparameter set for a given dataset, e.g. a good combination of the number of topics and concentration paramaters (often called alpha and beta in literature). For some background on hyperparameters in topic modeling, see [this blog post](https://datascience.blog.wzb.eu/2017/11/09/topic-modeling-evaluation-in-python-with-tmtoolkit/)."
   ]
  },
  {
   "cell_type": "markdown",
   "metadata": {
    "colab_type": "text",
    "id": "g1-G-tLi0vhg"
   },
   "source": [
    "The heart of the model evaluation process is the function [evaluate_topic_models()](api.rst#tmtoolkit.topicmod.tm_lda.evaluate_topic_models), which is available for all three topic modeling packages. We stick with lda and import that function from [topicmod.tm_lda](api.rst#module-tmtoolkit.topicmod.tm_lda). It is similar to [compute_models_parallel()](api.rst#tmtoolkit.topicmod.tm_lda.compute_models_parallel) as it accepts varying and constant hyperparameters. However, it doesn't only compute the models in parallel, but also applies several metrics to these models in order to evaluate them. This can be controlled with the `metric` parameter that accepts a string or a list of strings that specify the used metric(s). These metrics refer to functions that are implemented in [topicmod.evaluate](api.rst#module-tmtoolkit.topicmod.evaluate).\n",
    "\n",
    "Each topic modeling sub-module defines two important sequences: `AVAILABLE_METRICS` and `DEFAULT_METRICS`. The former lists all available metrics for that sub-module, the latter lists the default metrics that are used when you don't specify anything with the `metric` parameter. Let's have a look at both sequences in [topicmod.tm_lda](api.rst#module-tmtoolkit.topicmod.tm_lda):"
   ]
  },
  {
   "cell_type": "code",
   "execution_count": 12,
   "metadata": {
    "colab": {
     "base_uri": "https://localhost:8080/",
     "height": 156
    },
    "colab_type": "code",
    "id": "-J6xa1Ka0vhj",
    "outputId": "f40f506e-bfc6-4cdf-81f3-1f7fa212e546",
    "pycharm": {
     "is_executing": false
    }
   },
   "outputs": [
    {
     "data": {
      "text/plain": [
       "('loglikelihood',\n",
       " 'cao_juan_2009',\n",
       " 'arun_2010',\n",
       " 'coherence_mimno_2011',\n",
       " 'griffiths_2004',\n",
       " 'held_out_documents_wallach09',\n",
       " 'coherence_gensim_u_mass',\n",
       " 'coherence_gensim_c_v',\n",
       " 'coherence_gensim_c_uci',\n",
       " 'coherence_gensim_c_npmi')"
      ]
     },
     "execution_count": 12,
     "metadata": {},
     "output_type": "execute_result"
    }
   ],
   "source": [
    "tm_lda.AVAILABLE_METRICS"
   ]
  },
  {
   "cell_type": "code",
   "execution_count": 13,
   "metadata": {
    "colab": {
     "base_uri": "https://localhost:8080/",
     "height": 34
    },
    "colab_type": "code",
    "id": "ztxVyDIV0vhq",
    "outputId": "aa805b71-4c50-438f-81e6-ef4623292faf",
    "pycharm": {
     "is_executing": false
    }
   },
   "outputs": [
    {
     "data": {
      "text/plain": [
       "('cao_juan_2009', 'arun_2010', 'coherence_mimno_2011')"
      ]
     },
     "execution_count": 13,
     "metadata": {},
     "output_type": "execute_result"
    }
   ],
   "source": [
    "tm_lda.DEFAULT_METRICS"
   ]
  },
  {
   "cell_type": "markdown",
   "metadata": {
    "colab_type": "text",
    "id": "B0dvRY-r0vh2"
   },
   "source": [
    "For details about the metrics and the academic references, see the respective implementations in the [topicmod.evaluate](api.rst#module-tmtoolkit.topicmod.evaluate) module."
   ]
  },
  {
   "cell_type": "markdown",
   "metadata": {},
   "source": [
    "### variable parameters"
   ]
  },
  {
   "cell_type": "code",
   "execution_count": 14,
   "metadata": {},
   "outputs": [],
   "source": [
    "var_params = [{'n_topics': k, 'alpha': 1/(10**k), 'eta':0.001 } for k in range(1, 201, 5)]"
   ]
  },
  {
   "cell_type": "markdown",
   "metadata": {},
   "source": [
    "### constant parameters"
   ]
  },
  {
   "cell_type": "code",
   "execution_count": 15,
   "metadata": {},
   "outputs": [],
   "source": [
    "const_params = {\n",
    "    'n_iter': 100,\n",
    "    'random_state': 20191122  # to make results reproducible\n",
    "}"
   ]
  },
  {
   "cell_type": "markdown",
   "metadata": {},
   "source": [
    "## Evaluate\n",
    "\n",
    "We will now run the model evaluations with [evaluate_topic_models()](api.rst#tmtoolkit.topicmod.tm_lda.evaluate_topic_models). For each candidate hyperparameter set, a model can be generated and evaluated in parallel. We will do this now for the DTM. Our candidate values for the number of topics k. We make alpha and beta vary with respect to k. We also set `return_models=True` which means to retain the generated models in the evaluation results.\n",
    "\n",
    "This step will take some time, depending on the corpus size, vocabulary size, number of steps in var_params, the number of iterations calculated.\n",
    "\n",
    "During experimentation, you may want to tweak these values to make things run a bit faster until you have a sense of what the right parameters should be."
   ]
  },
  {
   "cell_type": "code",
   "execution_count": 16,
   "metadata": {
    "colab": {
     "base_uri": "https://localhost:8080/",
     "height": 486
    },
    "colab_type": "code",
    "id": "cjG0Kdqs0vh4",
    "outputId": "3f857e0a-87c9-464c-aed2-9edc288fdb5e",
    "pycharm": {
     "is_executing": false
    }
   },
   "outputs": [
    {
     "data": {
      "text/plain": [
       "[({'n_topics': 1,\n",
       "   'alpha': 0.1,\n",
       "   'eta': 0.001,\n",
       "   'n_iter': 100,\n",
       "   'random_state': 20191122},\n",
       "  {'model': <lda.lda.LDA at 0x7fe77d99da58>,\n",
       "   'cao_juan_2009': nan,\n",
       "   'arun_2010': 153.5965747139108,\n",
       "   'coherence_mimno_2011': -0.7125061128103117}),\n",
       " ({'n_topics': 6,\n",
       "   'alpha': 1e-06,\n",
       "   'eta': 0.001,\n",
       "   'n_iter': 100,\n",
       "   'random_state': 20191122},\n",
       "  {'model': <lda.lda.LDA at 0x7fe77d99dd30>,\n",
       "   'cao_juan_2009': 0.24355286911169655,\n",
       "   'arun_2010': 101.32277468912358,\n",
       "   'coherence_mimno_2011': -0.967049514121599}),\n",
       " ({'n_topics': 11,\n",
       "   'alpha': 1e-11,\n",
       "   'eta': 0.001,\n",
       "   'n_iter': 100,\n",
       "   'random_state': 20191122},\n",
       "  {'model': <lda.lda.LDA at 0x7fe77d99da90>,\n",
       "   'cao_juan_2009': 0.20029300300718472,\n",
       "   'arun_2010': 80.47230447862081,\n",
       "   'coherence_mimno_2011': -0.943362680792714})]"
      ]
     },
     "execution_count": 16,
     "metadata": {},
     "output_type": "execute_result"
    }
   ],
   "source": [
    "eval_results = evaluate_topic_models(dtm,\n",
    "                                     varying_parameters=var_params,\n",
    "                                     constant_parameters=const_params,\n",
    "                                     return_models=True)\n",
    "eval_results[:3]"
   ]
  },
  {
   "cell_type": "markdown",
   "metadata": {},
   "source": [
    "The evaluation results are a list with pairs of hyperparameters and their evaluation results for each metric. Additionally, there is the generated model for each hyperparameter set."
   ]
  },
  {
   "cell_type": "markdown",
   "metadata": {
    "colab_type": "text",
    "id": "ofoR2i6M0vh8"
   },
   "source": [
    "## results by n_topics\n",
    "\n",
    "We now use [results_by_parameter()](api.rst#tmtoolkit.topicmod.evaluate.results_by_parameter), which takes the \"raw\" evaluation results and sorts them by a specific hyperparameter, in this case `n_topics`. This is important because this is the way that the function for visualizing evaluation results, [plot_eval_results()](api.rst#tmtoolkit.topicmod.visualize.plot_eval_results), expects the input."
   ]
  },
  {
   "cell_type": "code",
   "execution_count": 17,
   "metadata": {
    "colab": {
     "base_uri": "https://localhost:8080/",
     "height": 278
    },
    "colab_type": "code",
    "id": "TfVQEr4x0vh_",
    "outputId": "de25794b-17a7-4e5b-e69e-f4e570a11a3d",
    "pycharm": {
     "is_executing": false
    }
   },
   "outputs": [
    {
     "data": {
      "text/plain": [
       "[(1,\n",
       "  {'model': <lda.lda.LDA at 0x7fe77d99da58>,\n",
       "   'cao_juan_2009': nan,\n",
       "   'arun_2010': 153.5965747139108,\n",
       "   'coherence_mimno_2011': -0.7125061128103117}),\n",
       " (6,\n",
       "  {'model': <lda.lda.LDA at 0x7fe77d99dd30>,\n",
       "   'cao_juan_2009': 0.24355286911169655,\n",
       "   'arun_2010': 101.32277468912358,\n",
       "   'coherence_mimno_2011': -0.967049514121599}),\n",
       " (11,\n",
       "  {'model': <lda.lda.LDA at 0x7fe77d99da90>,\n",
       "   'cao_juan_2009': 0.20029300300718472,\n",
       "   'arun_2010': 80.47230447862081,\n",
       "   'coherence_mimno_2011': -0.943362680792714})]"
      ]
     },
     "execution_count": 17,
     "metadata": {},
     "output_type": "execute_result"
    }
   ],
   "source": [
    "eval_results_by_ntopics = results_by_parameter(eval_results, 'n_topics')\n",
    "eval_results_by_ntopics[:3]"
   ]
  },
  {
   "cell_type": "markdown",
   "metadata": {
    "colab_type": "text",
    "id": "_0BTC-0S0viK"
   },
   "source": [
    "We can now see the results for each metric across the specified range of number of topics using [plot_eval_results()](api.rst#tmtoolkit.topicmod.visualize.plot_eval_results):"
   ]
  },
  {
   "cell_type": "code",
   "execution_count": 18,
   "metadata": {
    "colab": {
     "base_uri": "https://localhost:8080/",
     "height": 390
    },
    "colab_type": "code",
    "id": "gx-5ab2L0viL",
    "outputId": "8d8a4c5e-2602-424f-c65b-a842d6221bf1",
    "pycharm": {
     "is_executing": false
    }
   },
   "outputs": [
    {
     "data": {
      "image/png": "[encoded data removed]",
      "text/plain": [
       "<Figure size 576x432 with 3 Axes>"
      ]
     },
     "metadata": {},
     "output_type": "display_data"
    }
   ],
   "source": [
    "from tmtoolkit.topicmod.visualize import plot_eval_results\n",
    "\n",
    "plot_eval_results(eval_results_by_ntopics);"
   ]
  },
  {
   "cell_type": "markdown",
   "metadata": {
    "colab_type": "text",
    "id": "xBe6QIz30viT"
   },
   "source": [
    "These charts do not \"elbow\" as cleanly as we would like, but we will set the number of topics, `n_topics`, to about 30. We don't have to generate a model with these hyperparameters again, because it's already in the evaluation results (thanks to `return_models=True`). We extract the model from there in order to use it in the rest of the chapter."
   ]
  },
  {
   "cell_type": "code",
   "execution_count": 19,
   "metadata": {
    "colab": {
     "base_uri": "https://localhost:8080/",
     "height": 34
    },
    "colab_type": "code",
    "id": "Bap7FMZ50viZ",
    "outputId": "68f4c909-1bff-4873-f83e-69a1c21983f0",
    "pycharm": {
     "is_executing": false
    }
   },
   "outputs": [
    {
     "data": {
      "text/plain": [
       "(26, 1e-26, 0.001)"
      ]
     },
     "execution_count": 19,
     "metadata": {},
     "output_type": "execute_result"
    }
   ],
   "source": [
    "best_k = 26\n",
    "best_tm = [m for k, m in eval_results_by_ntopics if k == best_k][0]['model']\n",
    "best_tm.n_topics, best_tm.alpha, best_tm.eta  # just to make sure"
   ]
  },
  {
   "cell_type": "markdown",
   "metadata": {},
   "source": [
    "## Visualize the topics"
   ]
  },
  {
   "cell_type": "markdown",
   "metadata": {
    "colab_type": "text",
    "id": "2uKYt1Gb0vmv"
   },
   "source": [
    "### Interactive visualization with pyLDAVis\n",
    "\n",
    "The [pyLDAVis package](https://pyldavis.readthedocs.io/) offers a great interactive tool to explore a topic model. The tmtoolkit function [parameters_for_ldavis()](api.rst#tmtoolkit.topicmod.visualize.generate_wordclouds_for_document_topics) allows to prepare your topic model data for this package so that you can easily pass it on to pyLDAVis."
   ]
  },
  {
   "cell_type": "code",
   "execution_count": 20,
   "metadata": {
    "colab": {},
    "colab_type": "code",
    "id": "moDxDnXj0vmw"
   },
   "outputs": [
    {
     "name": "stdout",
     "output_type": "stream",
     "text": [
      "Collecting pyldavis\n",
      "\u001b[?25l  Downloading https://files.pythonhosted.org/packages/a5/3a/af82e070a8a96e13217c8f362f9a73e82d61ac8fff3a2561946a97f96266/pyLDAvis-2.1.2.tar.gz (1.6MB)\n",
      "\u001b[K     |████████████████████████████████| 1.6MB 27.3MB/s eta 0:00:01\n",
      "\u001b[?25hRequirement already satisfied: wheel>=0.23.0 in /home/ec2-user/anaconda3/envs/tensorflow_p36/lib/python3.6/site-packages (from pyldavis) (0.31.1)\n",
      "Requirement already satisfied: numpy>=1.9.2 in /home/ec2-user/anaconda3/envs/tensorflow_p36/lib/python3.6/site-packages (from pyldavis) (1.18.1)\n",
      "Requirement already satisfied: scipy>=0.18.0 in /home/ec2-user/anaconda3/envs/tensorflow_p36/lib/python3.6/site-packages (from pyldavis) (1.3.1)\n",
      "Requirement already satisfied: pandas>=0.17.0 in /home/ec2-user/anaconda3/envs/tensorflow_p36/lib/python3.6/site-packages (from pyldavis) (1.0.1)\n",
      "Requirement already satisfied: joblib>=0.8.4 in /home/ec2-user/anaconda3/envs/tensorflow_p36/lib/python3.6/site-packages (from pyldavis) (0.14.0)\n",
      "Requirement already satisfied: jinja2>=2.7.2 in /home/ec2-user/anaconda3/envs/tensorflow_p36/lib/python3.6/site-packages (from pyldavis) (2.10)\n",
      "Requirement already satisfied: numexpr in /home/ec2-user/anaconda3/envs/tensorflow_p36/lib/python3.6/site-packages (from pyldavis) (2.7.0)\n",
      "Requirement already satisfied: pytest in /home/ec2-user/anaconda3/envs/tensorflow_p36/lib/python3.6/site-packages (from pyldavis) (3.5.1)\n",
      "Collecting future\n",
      "\u001b[?25l  Downloading https://files.pythonhosted.org/packages/45/0b/38b06fd9b92dc2b68d58b75f900e97884c45bedd2ff83203d933cf5851c9/future-0.18.2.tar.gz (829kB)\n",
      "\u001b[K     |████████████████████████████████| 829kB 83.2MB/s eta 0:00:01\n",
      "\u001b[?25hCollecting funcy\n",
      "\u001b[?25l  Downloading https://files.pythonhosted.org/packages/ce/4b/6ffa76544e46614123de31574ad95758c421aae391a1764921b8a81e1eae/funcy-1.14.tar.gz (548kB)\n",
      "\u001b[K     |████████████████████████████████| 552kB 85.6MB/s eta 0:00:01\n",
      "\u001b[?25hRequirement already satisfied: pytz>=2017.2 in /home/ec2-user/anaconda3/envs/tensorflow_p36/lib/python3.6/site-packages (from pandas>=0.17.0->pyldavis) (2018.4)\n",
      "Requirement already satisfied: python-dateutil>=2.6.1 in /home/ec2-user/anaconda3/envs/tensorflow_p36/lib/python3.6/site-packages (from pandas>=0.17.0->pyldavis) (2.7.3)\n",
      "Requirement already satisfied: MarkupSafe>=0.23 in /home/ec2-user/anaconda3/envs/tensorflow_p36/lib/python3.6/site-packages (from jinja2>=2.7.2->pyldavis) (1.0)\n",
      "Requirement already satisfied: py>=1.5.0 in /home/ec2-user/anaconda3/envs/tensorflow_p36/lib/python3.6/site-packages (from pytest->pyldavis) (1.5.3)\n",
      "Requirement already satisfied: six>=1.10.0 in /home/ec2-user/anaconda3/envs/tensorflow_p36/lib/python3.6/site-packages (from pytest->pyldavis) (1.11.0)\n",
      "Requirement already satisfied: setuptools in /home/ec2-user/anaconda3/envs/tensorflow_p36/lib/python3.6/site-packages (from pytest->pyldavis) (41.6.0)\n",
      "Requirement already satisfied: attrs>=17.4.0 in /home/ec2-user/anaconda3/envs/tensorflow_p36/lib/python3.6/site-packages (from pytest->pyldavis) (18.1.0)\n",
      "Requirement already satisfied: more-itertools>=4.0.0 in /home/ec2-user/anaconda3/envs/tensorflow_p36/lib/python3.6/site-packages (from pytest->pyldavis) (4.1.0)\n",
      "Requirement already satisfied: pluggy<0.7,>=0.5 in /home/ec2-user/anaconda3/envs/tensorflow_p36/lib/python3.6/site-packages (from pytest->pyldavis) (0.6.0)\n",
      "Building wheels for collected packages: pyldavis, future, funcy\n",
      "  Building wheel for pyldavis (setup.py) ... \u001b[?25ldone\n",
      "\u001b[?25h  Created wheel for pyldavis: filename=pyLDAvis-2.1.2-py2.py3-none-any.whl size=96445 sha256=13b48b6c0a26e0cc1c8fbad2b85cc7f24d2be8c715951e8e30e07b6da882bd36\n",
      "  Stored in directory: /home/ec2-user/.cache/pip/wheels/98/71/24/513a99e58bb6b8465bae4d2d5e9dba8f0bef8179e3051ac414\n",
      "  Building wheel for future (setup.py) ... \u001b[?25ldone\n",
      "\u001b[?25h  Created wheel for future: filename=future-0.18.2-cp36-none-any.whl size=491095 sha256=d2bf399f2fc4dd83b59edd71bbeb29b59571686cfe983e46b79fa26d722a5b79\n",
      "  Stored in directory: /home/ec2-user/.cache/pip/wheels/8b/99/a0/81daf51dcd359a9377b110a8a886b3895921802d2fc1b2397e\n",
      "  Building wheel for funcy (setup.py) ... \u001b[?25ldone\n",
      "\u001b[?25h  Created wheel for funcy: filename=funcy-1.14-py2.py3-none-any.whl size=32056 sha256=ce2d55dba5c1df940842c08f3e73e7c1dde039b8061fbd56857f3fc857255f7c\n",
      "  Stored in directory: /home/ec2-user/.cache/pip/wheels/20/5a/d8/1d875df03deae6f178dfdf70238cca33f948ef8a6f5209f2eb\n",
      "Successfully built pyldavis future funcy\n",
      "Installing collected packages: future, funcy, pyldavis\n",
      "Successfully installed funcy-1.14 future-0.18.2 pyldavis-2.1.2\n",
      "\u001b[33mWARNING: You are using pip version 19.3.1; however, version 20.0.2 is available.\n",
      "You should consider upgrading via the 'pip install --upgrade pip' command.\u001b[0m\n"
     ]
    },
    {
     "data": {
      "text/html": [
       "\n",
       "<link rel=\"stylesheet\" type=\"text/css\" href=\"https://cdn.rawgit.com/bmabey/pyLDAvis/files/ldavis.v1.0.0.css\">\n",
       "\n",
       "\n",
       "<div id=\"ldavis_el286301406323492712885132333676\"></div>\n",
       "<script type=\"text/javascript\">\n",
       "\n",
       "var ldavis_el286301406323492712885132333676_data = {\"mdsDat\": {\"x\": [0.10264307602999517, 0.016946917083012596, -0.23077817878210122, -0.3172185058548139, 0.09595140232517582, -0.1365519142312748, -0.3101150411156034, 0.1334529578591674, 0.15111290358263285, -0.01744936364671813, 0.00789616948858911, -0.25158407135072675, 0.09388535394670758, 0.020826943893567627, 0.13405382108850755, 0.10001792356838746, 0.1262698370187434, 0.021811737094550226, 0.08855025483222319, 0.06422464873395982, -0.2525978263290903, 0.10532367607760348, 0.08289082784344928, 0.13751480191560453, 0.034050327085278956, -0.0011286781568280722], \"y\": [0.19970536782010204, -0.1929887878245745, 0.017196416593604612, 0.05292937497339751, 0.026058946405920214, -0.0772140063552773, 0.05092102229362665, -0.13904522014957973, -0.012465918800054895, -0.0401249053415434, -0.021624366748738154, -0.001984259250687758, -0.10765268564638679, 0.03643156098929599, -0.023647707544567544, 0.0630374783526676, -0.013837519690513509, -0.055515829400222705, -0.040469781577102217, 0.2963844002868397, -0.01085052250047785, 0.23620811737439226, -0.1413049326586544, 0.0021938465143110076, 0.08772047507861035, -0.19006056319438822], \"topics\": [1, 2, 3, 4, 5, 6, 7, 8, 9, 10, 11, 12, 13, 14, 15, 16, 17, 18, 19, 20, 21, 22, 23, 24, 25, 26], \"cluster\": [1, 1, 1, 1, 1, 1, 1, 1, 1, 1, 1, 1, 1, 1, 1, 1, 1, 1, 1, 1, 1, 1, 1, 1, 1, 1], \"Freq\": [2.731131541777225, 2.651879142176198, 3.818140769989202, 2.698335647468642, 2.387843516136988, 5.209906758509074, 2.2809049164121813, 5.651895305494538, 4.591008085308951, 3.3204669843367016, 3.403942702600678, 2.7604862134715527, 6.763827327791574, 3.808859896878029, 4.253351151219314, 5.808575213916304, 4.497573677358267, 3.157686726735119, 4.060225566928391, 3.8560984982191675, 2.743540799083175, 3.9333174480935886, 2.7397345983128623, 2.7566278729646605, 5.101143268003981, 5.013496370813635]}, \"tinfo\": {\"Term\": [\"county\", \"attorney\", \"avenue\", \"board\", \"permit\", \"commissioner\", \"contract\", \"representation\", \"cook\", \"respondent\", \"health\", \"minor\", \"district\", \"case\", \"public\", \"premise\", \"street\", \"service\", \"order\", \"fee\", \"indigent\", \"maintain\", \"payment\", \"submit\", \"zone\", \"amount\", \"west\", \"applicant\", \"motion\", \"adjacent\", \"ildiko\", \"horwitz\", \"chicagokent\", \"fusco\", \"karoll\", \"melinda\", \"pechous\", \"chatman\", \"duran\", \"puiszis\", \"lydon\", \"cunningham\", \"ladies\", \"transmitting\", \"lisanti\", \"accredited\", \"investigated\", \"tripped\", \"matthews\", \"elected\", \"jacobs\", \"accumulated\", \"streams\", \"extensions\", \"drafting\", \"gis\", \"settlements\", \"counted\", \"requiring\", \"neck\", \"coyne\", \"devine\", \"dean\", \"tab\", \"percy\", \"fell\", \"frazier\", \"goodman\", \"convey\", \"gi\", \"altercation\", \"recorder\", \"watkins\", \"sheahan\", \"collins\", \"judith\", \"culbertson\", \"suit\", \"injured\", \"holmes\", \"peraica\", \"ce\", \"detainee\", \"civil\", \"litigation\", \"leg\", \"subcommittee\", \"degnen\", \"llp\", \"petitioner\", \"expense\", \"vice\", \"silvestri\", \"appoint\", \"attorney\", \"suffredin\", \"commissioner\", \"sheriff\", \"tobolski\", \"bureau\", \"county\", \"cook\", \"schneider\", \"state\", \"chairman\", \"carry\", \"firm\", \"case\", \"finance\", \"special\", \"motion\", \"gainer\", \"office\", \"second\", \"following\", \"present\", \"committee\", \"vote\", \"make\", \"report\", \"approval\", \"board\", \"fpcc\", \"aca\", \"aug18\", \"everybody\", \"evening\", \"weve\", \"immigration\", \"grateful\", \"countycares\", \"pleasure\", \"insight\", \"alignment\", \"cchs\", \"immigrant\", \"oig\", \"rigorous\", \"excite\", \"instructor\", \"reassign\", \"wetlands\", \"unrestricted\", \"bauman\", \"trained\", \"reassigned\", \"interesting\", \"talented\", \"advancement\", \"instrumental\", \"extended\", \"harmony\", \"student\", \"emotional\", \"spanish\", \"academic\", \"english\", \"sixth\", \"cps\", \"cooper\", \"orozco\", \"transition\", \"eighth\", \"graduate\", \"parent\", \"school\", \"workplace\", \"uic\", \"grade\", \"robbins\", \"pharmacy\", \"fy2014\", \"processing\", \"pilsen\", \"support\", \"learning\", \"focus\", \"heart\", \"serve\", \"high\", \"academy\", \"education\", \"community\", \"enrollment\", \"offer\", \"life\", \"healthy\", \"element\", \"family\", \"honor\", \"educational\", \"program\", \"expand\", \"opportunity\", \"live\", \"child\", \"january\", \"need\", \"include\", \"access\", \"year\", \"proposal\", \"public\", \"plan\", \"comment\", \"provide\", \"work\", \"change\", \"meeting\", \"page\", \"receive\", \"toia\", \"setbacks\", \"rs1\", \"c21\", \"drivethrough\", \"swain\", \"objector\", \"objectors\", \"74th\", \"setback\", \"sercye\", \"continuances\", \"builders\", \"except\", \"variation\", \"twocar\", \"ogrady\", \"yard\", \"threecar\", \"c12\", \"flores\", \"nail\", \"fourstory\", \"affect\", \"combined\", \"salon\", \"septic\", \"massage\", \"threeunit\", \"relocated\", \"threestory\", \"residence\", \"b31\", \"reduce\", \"yeas\", \"zba\", \"establishment\", \"beauty\", \"zone\", \"application\", \"owner\", \"subject\", \"rear\", \"yea\", \"applicant\", \"township\", \"deck\", \"foot\", \"appeal\", \"premise\", \"single\", \"williams\", \"ward\", \"district\", \"use\", \"garage\", \"special\", \"side\", \"exist\", \"llc\", \"require\", \"avenue\", \"propose\", \"approve\", \"street\", \"family\", \"motion\", \"berth\", \"kilbourn\", \"keeler\", \"pawn\", \"shakespeare\", \"stopping\", \"dx16\", \"loading\", \"waveland\", \"ainslie\", \"37th\", \"disallow\", \"54th\", \"64th\", \"drawn\", \"buff\", \"georges\", \"prohibited\", \"yards\", \"70th\", \"buffer\", \"disable\", \"permits\", \"88th\", \"zones\", \"23rd\", \"34th\", \"41st\", \"seniors\", \"karlov\", \"disabled\", \"repeal\", \"striking\", \"tow\", \"cannabis\", \"or201\", \"kolmar\", \"load\", \"cornelia\", \"alcoholic\", \"kildare\", \"fairfield\", \"kedvale\", \"claremont\", \"thereof\", \"schubert\", \"strike\", \"point\", \"lieu\", \"flash\", \"permit\", \"avenue\", \"monday\", \"read\", \"side\", \"south\", \"insert\", \"stand\", \"sacramento\", \"west\", \"street\", \"foot\", \"b12\", \"park\", \"north\", \"east\", \"zone\", \"amend\", \"residential\", \"ward\", \"parking\", \"prohibit\", \"friday\", \"pass\", \"ordinance\", \"day\", \"time\", \"sign\", \"item\", \"minute\", \"eff\", \"reversionary\", \"workman\", \"adj\", \"lra\", \"wkr\", \"desben\", \"mgr\", \"mech\", \"folup\", \"dutyextension\", \"ordinaryextension\", \"messenger\", \"pbs\", \"oper\", \"spousechild\", \"computertechnical\", \"shredding\", \"asst\", \"re\", \"sts\", \"communications\", \"conferences\", \"esther\", \"cust\", \"mmi\", \"mtd\", \"heirs\", \"reciprocal\", \"clancy\", \"med\", \"marry\", \"dis\", \"rel\", \"sch\", \"widower\", \"eng\", \"resign\", \"nte\", \"calculate\", \"serv\", \"mcmahon\", \"death\", \"mercy\", \"san\", \"inv\", \"female\", \"spouse\", \"annuitant\", \"guest\", \"ordinary\", \"error\", \"annuity\", \"update\", \"specialist\", \"employee\", \"disability\", \"note\", \"monthly\", \"hold\", \"municipal\", \"return\", \"medical\", \"benefit\", \"refund\", \"date\", \"thursday\", \"work\", \"name\", \"service\", \"fund\", \"report\", \"year\", \"record\", \"chicago\", \"new\", \"meeting\", \"texture\", \"prc\", \"landmarkdistrict\", \"correc\", \"fultonrandolph\", \"midnorth\", \"parapet\", \"armitagehalsted\", \"tuckpoint\", \"calumetgilesprairie\", \"illuminate\", \"opera\", \"nonilluminated\", \"transom\", \"cladding\", \"railing\", \"donnelley\", \"dijana\", \"cuvalo\", \"typestrength\", \"lintel\", \"sandblast\", \"doublehung\", \"vinyl\", \"nonhistoric\", \"arlingtondeming\", \"strengthtype\", \"rooflines\", \"mullion\", \"lap\", \"stamp\", \"exterior\", \"mortar\", \"historic\", \"scaffold\", \"elevation\", \"tuckpointing\", \"mechanical\", \"rec\", \"interior\", \"profile\", \"brick\", \"triangle\", \"preservation\", \"jeweler\", \"window\", \"alteration\", \"faade\", \"landmark\", \"electrical\", \"color\", \"masonry\", \"grind\", \"match\", \"row\", \"dated\", \"replace\", \"rev\", \"replacement\", \"work\", \"exist\", \"michigan\", \"new\", \"permit\", \"date\", \"district\", \"miscellaneous\", \"build\", \"plan\", \"allow\", \"sign\", \"approval\", \"repair\", \"building\", \"floor\", \"change\", \"review\", \"ingres\", \"alleys\", \"cafe\", \"l\", \"42nd\", \"rightofway\", \"prerequisite\", \"61st\", \"wells\", \"grill\", \"egress\", \"beautification\", \"sidewalk\", \"adjacent\", \"deleting\", \"maintain\", \"bakery\", \"bis\", \"constructed\", \"awning\", \"construct\", \"attached\", \"delaware\", \"i55\", \"ordinances\", \"chtcago\", \"seating\", \"14th\", \"planter\", \"canopy\", \"know\", \"lnc\", \"exempt\", \"way\", \"premise\", \"barrier\", \"privilege\", \"portion\", \"i57\", \"sign\", \"public\", \"locate\", \"lrving\", \"word\", \"north\", \"structure\", \"west\", \"alley\", \"avenue\", \"street\", \"use\", \"transportation\", \"direct\", \"south\", \"ordinance\", \"llc\", \"project\", \"install\", \"city\", \"park\", \"east\", \"chicago\", \"icjia\", \"ffy14\", \"multidisciplinary\", \"marketplace\", \"fy15\", \"bodnar\", \"credentialing\", \"snapshot\", \"pryor\", \"intelligence\", \"cauti\", \"fy17\", \"illinicare\", \"inconsistent\", \"mcos\", \"layla\", \"rescission\", \"hhs\", \"cmap\", \"bias\", \"dialysis\", \"drill\", \"implication\", \"nonclinical\", \"systemic\", \"dorene\", \"weakness\", \"prendergast\", \"vollenkatz\", \"interface\", \"breach\", \"recruitment\", \"junge\", \"richardsonlowry\", \"identi\", \"external\", \"privacy\", \"munar\", \"sexual\", \"fraud\", \"promulgate\", \"statewide\", \"recruit\", \"vacancy\", \"coordination\", \"position\", \"guidance\", \"compliance\", \"body\", \"human\", \"audit\", \"resource\", \"integrity\", \"responsibility\", \"abuse\", \"information\", \"cchhs\", \"enforcement\", \"internal\", \"countycare\", \"hire\", \"candidate\", \"achn\", \"director\", \"policy\", \"team\", \"implementation\", \"activity\", \"goal\", \"provide\", \"county\", \"program\", \"include\", \"committee\", \"chief\", \"employee\", \"report\", \"process\", \"cook\", \"plan\", \"system\", \"page\", \"officer\", \"regard\", \"health\", \"management\", \"review\", \"public\", \"meet\", \"follow\", \"meeting\", \"service\", \"cerner\", \"uncompensated\", \"fytd\", \"carelink\", \"mortality\", \"dsh\", \"payor\", \"cardiology\", \"fy14\", \"ophthalmology\", \"emilie\", \"gonorrhea\", \"mco\", \"staf\", \"maternal\", \"throughput\", \"spd\", \"msw\", \"orthopedic\", \"gynecology\", \"parkland\", \"fy16\", \"apors\", \"obstetrics\", \"sterile\", \"endocrinology\", \"hfma\", \"phcc\", \"alameda\", \"psych\", \"methodology\", \"ekerete\", \"ambulatory\", \"uninsured\", \"rothstein\", \"stats\", \"ytd\", \"sep\", \"surgical\", \"apr\", \"fy19\", \"gpo\", \"akpan\", \"mar\", \"aug\", \"jul\", \"thru\", \"jun\", \"noncompetitive\", \"nov\", \"provident\", \"dec\", \"feb\", \"medicare\", \"shannon\", \"medicaid\", \"cch\", \"active\", \"ruth\", \"jan\", \"health\", \"jay\", \"hospital\", \"product\", \"care\", \"selection\", \"stroger\", \"target\", \"actual\", \"cook\", \"center\", \"contract\", \"request\", \"system\", \"service\", \"county\", \"visit\", \"page\", \"number\", \"john\", \"month\", \"director\", \"department\", \"impact\", \"chief\", \"patient\", \"grant\", \"finance\", \"amount\", \"officer\", \"community\", \"public\", \"period\", \"board\", \"hollywood\", \"familyworks\", \"georgia\", \"ralph\", \"aka\", \"diversion\", \"ccc\", \"waukegan\", \"horizon\", \"detective\", \"subsidize\", \"eagle\", \"mississippi\", \"proviso\", \"acop\", \"consumables\", \"exploration\", \"economical\", \"evaluated\", \"preaward\", \"cip\", \"fails\", \"vocational\", \"menu\", \"asbestos\", \"twentysix\", \"apdf\", \"everett\", \"tutor\", \"hawthorne\", \"dispose\", \"patron\", \"metro\", \"sun\", \"aurora\", \"cameron\", \"att\", \"hundred\", \"speed\", \"fuel\", \"pet\", \"mile\", \"preventive\", \"dedication\", \"arrangement\", \"bus\", \"household\", \"twelve\", \"vehicle\", \"restate\", \"connection\", \"foundation\", \"midwest\", \"total\", \"inc\", \"hill\", \"network\", \"island\", \"lane\", \"storage\", \"computer\", \"service\", \"june\", \"price\", \"oak\", \"week\", \"corporation\", \"vendor\", \"center\", \"chicago\", \"capital\", \"recommendation\", \"illinois\", \"year\", \"resident\", \"group\", \"revenue\", \"program\", \"approve\", \"march\", \"item\", \"date\", \"facility\", \"report\", \"month\", \"department\", \"park\", \"contract\", \"annual\", \"new\", \"grant\", \"management\", \"thats\", \"fatality\", \"median\", \"desirable\", \"threebedroom\", \"taxexempt\", \"invalid\", \"lihtc\", \"preproposal\", \"tag\", \"mature\", \"phrase\", \"stuff\", \"considerable\", \"hisher\", \"sundays\", \"affix\", \"creates\", \"targeted\", \"misleading\", \"receiving\", \"expressway\", \"incurred\", \"cancelled\", \"accrued\", \"demonstrated\", \"ascribe\", \"chaired\", \"delivered\", \"ascribed\", \"imposition\", \"notwithstanding\", \"bowen\", \"bike\", \"pbv\", \"sahli\", \"excuse\", \"disclosure\", \"scenario\", \"levy\", \"covenant\", \"cdbg\", \"buford\", \"ticket\", \"bond\", \"debt\", \"tif\", \"tax\", \"redevelopment\", \"reasonable\", \"cpd\", \"onebedroom\", \"financing\", \"transaction\", \"series\", \"loan\", \"extent\", \"obligation\", \"smith\", \"vicechair\", \"project\", \"interest\", \"area\", \"allocation\", \"city\", \"credit\", \"authorize\", \"revenue\", \"thing\", \"enterprise\", \"ordinance\", \"agreement\", \"council\", \"commission\", \"communication\", \"sale\", \"propose\", \"approval\", \"service\", \"development\", \"number\", \"amount\", \"fund\", \"special\", \"recommend\", \"authority\", \"order\", \"budget\", \"term\", \"act\", \"department\", \"payment\", \"searl\", \"scudiero\", \"holleb\", \"sih\", \"limestone\", \"migala\", \"dormer\", \"cornice\", \"repairreplace\", \"dziekiewicz\", \"smita\", \"monadnock\", \"rookery\", \"groundfloor\", \"repaired\", \"shure\", \"inland\", \"allerton\", \"slab\", \"caulk\", \"copper\", \"heater\", \"staircase\", \"eugenie\", \"farwell\", \"varianceadjustment\", \"25th\", \"rout\", \"countertops\", \"kenwood\", \"storefront\", \"reinstall\", \"multiunit\", \"cotta\", \"camargo\", \"terra\", \"finish\", \"metal\", \"scheinfeld\", \"cityowned\", \"shah\", \"cabrera\", \"signal\", \"stop\", \"crash\", \"greenwood\", \"corridor\", \"negotiated\", \"lakefront\", \"hotel\", \"land\", \"retail\", \"mixed\", \"mount\", \"propose\", \"lake\", \"locate\", \"alderman\", \"plan\", \"property\", \"development\", \"south\", \"street\", \"west\", \"sale\", \"ward\", \"north\", \"chicago\", \"avenue\", \"submit\", \"park\", \"space\", \"city\", \"approve\", \"site\", \"recommend\", \"resolution\", \"ordinance\", \"commission\", \"area\", \"public\", \"ponce\", \"ivers\", \"gilliam\", \"nesbitt\", \"gist\", \"dfss\", \"ickes\", \"twobedroom\", \"ahap\", \"uhlich\", \"ucan\", \"indefinite\", \"brinshore\", \"homeownership\", \"fy2010\", \"huds\", \"kris\", \"nonmtw\", \"conflicting\", \"finalizing\", \"accelerated\", \"authoritywide\", \"housed\", \"gardens\", \"hallie\", \"accordingly\", \"scoring\", \"mtw\", \"briefed\", \"techniques\", \"thereupon\", \"hooker\", \"markowski\", \"okeefe\", \"harte\", \"cozzi\", \"healey\", \"ratifies\", \"lathrop\", \"mildred\", \"cha\", \"projectbased\", \"pra\", \"chas\", \"rad\", \"approves\", \"hud\", \"housing\", \"nottoexceed\", \"hap\", \"wiggins\", \"deverra\", \"designee\", \"mbewbedbe\", \"entitle\", \"apartment\", \"omnibus\", \"supportive\", \"harris\", \"letter\", \"resolution\", \"execute\", \"option\", \"resident\", \"resolve\", \"commissioners\", \"authority\", \"item\", \"contract\", \"executive\", \"young\", \"commissioner\", \"assistance\", \"development\", \"board\", \"chicago\", \"officer\", \"chief\", \"unit\", \"enter\", \"amount\", \"agreement\", \"review\", \"program\", \"service\", \"provide\", \"present\", \"motion\", \"approve\", \"committee\", \"reoccupancy\", \"offense\", \"abovecaptioned\", \"shorten\", \"vacantabandoned\", \"taxation\", \"highways\", \"disinterested\", \"acknowledges\", \"offenses\", \"severability\", \"freeze\", \"violated\", \"layoff\", \"abandon\", \"justify\", \"trafficking\", \"deepest\", \"assessed\", \"honored\", \"companys\", \"quantities\", \"decades\", \"imposed\", \"calculated\", \"percentages\", \"rolling\", \"abandoned\", \"abandonment\", \"easements\", \"circumstance\", \"purchaser\", \"seller\", \"municipality\", \"deemed\", \"fulltime\", \"parttime\", \"class\", \"validate\", \"unused\", \"affidavit\", \"reviewed\", \"classification\", \"tobacco\", \"impose\", \"ser\", \"consecutive\", \"whereas\", \"assess\", \"assessor\", \"index\", \"definition\", \"value\", \"property\", \"store\", \"assessment\", \"county\", \"incentive\", \"economic\", \"wage\", \"sec\", \"cook\", \"real\", \"toni\", \"deem\", \"president\", \"industrial\", \"job\", \"estate\", \"resolution\", \"number\", \"commissioner\", \"board\", \"ordinance\", \"resolve\", \"village\", \"year\", \"special\", \"tax\", \"month\", \"development\", \"receive\", \"section\", \"department\", \"illinois\", \"page\", \"propose\", \"provide\", \"thirtysix\", \"attpdf\", \"orderchange\", \"lasma\", \"classifications\", \"fy2016\", \"paschensn\", \"calsma\", \"attachments\", \"nonexclusive\", \"reportpdf\", \"mccook\", \"instrumentation\", \"appurtenance\", \"sodium\", \"centrifuge\", \"announcements\", \"descriptionspdf\", \"coding\", \"switchgear\", \"dcs\", \"plug\", \"gloves\", \"solids\", \"mktpdf\", \"bpdf\", \"filed\", \"prescribed\", \"nsa\", \"removed\", \"bradford\", \"nominal\", \"ihc\", \"tarp\", \"majewski\", \"egan\", \"hmo\", \"microsoft\", \"absolute\", \"judiciary\", \"battery\", \"blower\", \"pierre\", \"chorus\", \"aerial\", \"watershed\", \"jtdc\", \"lockport\", \"procurement\", \"software\", \"contract\", \"main\", \"technology\", \"increase\", \"preparation\", \"laboratory\", \"period\", \"timothy\", \"equipment\", \"recess\", \"agreement\", \"board\", \"solution\", \"maintenance\", \"account\", \"management\", \"request\", \"extension\", \"previous\", \"service\", \"authorization\", \"extend\", \"reconvene\", \"chicago\", \"item\", \"sponsor\", \"fund\", \"june\", \"system\", \"commissioner\", \"agenda\", \"amount\", \"supply\", \"december\", \"report\", \"approve\", \"director\", \"meeting\", \"approval\", \"illinois\", \"project\", \"year\", \"committee\", \"fpd\", \"zoological\", \"sagawau\", \"schoolhouse\", \"experiential\", \"regenstein\", \"eab\", \"campground\", \"trailside\", \"ies\", \"deaths\", \"inspire\", \"groves\", \"oaks\", \"trails\", \"advancing\", \"campgrounds\", \"engages\", \"declared\", \"produced\", \"trees\", \"cooling\", \"obtained\", \"botanic\", \"venues\", \"urging\", \"handled\", \"tendered\", \"procurements\", \"subcontracting\", \"crabtree\", \"preserve\", \"yelar\", \"brookfield\", \"conservation\", \"openlands\", \"randall\", \"bird\", \"jess\", \"ecological\", \"enjoy\", \"germane\", \"expulsion\", \"vulgar\", \"camp\", \"specified\", \"garca\", \"goslin\", \"abusive\", \"forest\", \"nature\", \"boykin\", \"superintendent\", \"testimony\", \"arroyo\", \"sims\", \"fritchey\", \"daley\", \"tree\", \"tobolski\", \"gainer\", \"silvestri\", \"suffredin\", \"failure\", \"steele\", \"following\", \"moore\", \"schneider\", \"proceeding\", \"butler\", \"morrison\", \"commissioner\", \"murphy\", \"journal\", \"cook\", \"district\", \"county\", \"board\", \"motion\", \"absent\", \"public\", \"committee\", \"carry\", \"time\", \"make\", \"propose\", \"illinois\", \"present\", \"approve\", \"meeting\", \"page\", \"second\", \"harrahs\", \"gaming\", \"dhs\", \"paradice\", \"empress\", \"cruise\", \"player\", \"mgm\", \"argosy\", \"swoik\", \"igb\", \"boruta\", \"slot\", \"finalist\", \"gambling\", \"pleased\", \"yesterday\", \"underage\", \"transcribed\", \"licensees\", \"anytime\", \"casino\", \"thinking\", \"casinos\", \"instructed\", \"annuities\", \"approvals\", \"forwarded\", \"feels\", \"failed\", \"vickrey\", \"alton\", \"riverboat\", \"winkler\", \"game\", \"gamble\", \"licensee\", \"gould\", \"disciplinary\", \"morale\", \"wright\", \"metropolis\", \"cms\", \"joliet\", \"resort\", \"tamayo\", \"stated\", \"occupational\", \"gardner\", \"terminal\", \"member\", \"bass\", \"emerald\", \"administrator\", \"move\", \"brown\", \"license\", \"board\", \"operator\", \"motion\", \"investigation\", \"session\", \"rule\", \"complaint\", \"chairman\", \"second\", \"call\", \"state\", \"vote\", \"meeting\", \"approve\", \"voice\", \"illinois\", \"staff\", \"open\", \"roll\", \"minute\", \"ask\", \"request\", \"present\", \"action\", \"approval\", \"issue\", \"report\", \"amey\", \"psi\", \"apartments\", \"burglar\", \"becomes\", \"scattered\", \"allied\", \"alter\", \"waived\", \"coverages\", \"receptacles\", \"thorough\", \"revolving\", \"enhancements\", \"deeds\", \"appliances\", \"plus\", \"animals\", \"vacancies\", \"facilitating\", \"titled\", \"consists\", \"advocates\", \"respondents\", \"presentations\", \"roads\", \"resolutions\", \"ordained\", \"taking\", \"delta\", \"cabinet\", \"entitled\", \"chico\", \"thereon\", \"harriet\", \"traction\", \"keeper\", \"brewer\", \"conclusive\", \"advertised\", \"quantity\", \"transmit\", \"glass\", \"boys\", \"custodian\", \"ibm\", \"solicit\", \"demolition\", \"wbe\", \"bone\", \"contractor\", \"forth\", \"mbe\", \"institutional\", \"jack\", \"agent\", \"studio\", \"dealer\", \"feature\", \"write\", \"amendment\", \"proceed\", \"preliminary\", \"authorize\", \"calendar\", \"section\", \"notice\", \"set\", \"business\", \"commissioner\", \"pursuant\", \"follow\", \"board\", \"general\", \"scott\", \"meeting\", \"chicago\", \"illinois\", \"order\", \"item\", \"resolution\", \"requirement\", \"housing\", \"date\", \"court\", \"action\", \"unit\", \"public\", \"use\", \"office\", \"district\", \"committee\", \"work\", \"submit\", \"vawa\", \"voca\", \"ffy16\", \"ffy15\", \"jag\", \"zimmerman\", \"maki\", \"penn\", \"ffy13\", \"hora\", \"robb\", \"narcotic\", \"reichgelt\", \"schmitz\", \"anesthesiology\", \"delfino\", \"lemrow\", \"josh\", \"pelletier\", \"shai\", \"reiterate\", \"kibler\", \"budgeted\", \"mislead\", \"anticipates\", \"challenging\", \"interns\", \"explained\", \"verified\", \"amendments\", \"victim\", \"assault\", \"voter\", \"violence\", \"wolff\", \"coli\", \"offender\", \"ruiz\", \"memo\", \"koldyke\", \"teleconference\", \"lightfoot\", \"crime\", \"sex\", \"justice\", \"lavelle\", \"designation\", \"advocacy\", \"clair\", \"budget\", \"unanimous\", \"domestic\", \"criminal\", \"police\", \"council\", \"committee\", \"illinois\", \"meeting\", \"fund\", \"chicago\", \"act\", \"election\", \"program\", \"funding\", \"call\", \"director\", \"minute\", \"grant\", \"meet\", \"report\", \"member\", \"city\", \"motion\", \"state\", \"service\", \"authority\", \"department\", \"public\", \"board\", \"present\", \"vote\", \"order\", \"attorneypayee\", \"bastounes\", \"raidbard\", \"silets\", \"priorpending\", \"incidentactivity\", \"weisz\", \"unopposed\", \"cawley\", \"schlee\", \"danloe\", \"querrey\", \"guolee\", \"compliancecomplaint\", \"warsawsky\", \"usdc\", \"shaver\", \"courtappointed\", \"kusatzky\", \"spangler\", \"cardelle\", \"sprain\", \"gal\", \"render\", \"representation\", \"slipped\", \"ezra\", \"lodged\", \"injuries\", \"accessories\", \"respondent\", \"presenter\", \"minor\", \"subrogation\", \"patientarrestee\", \"hemphill\", \"allegation\", \"legal\", \"name\", \"indigent\", \"steven\", \"mother\", \"case\", \"fee\", \"payable\", \"fix\", \"stephen\", \"father\", \"jaffe\", \"accident\", \"settlement\", \"service\", \"claim\", \"charge\", \"law\", \"court\", \"department\", \"subcommittee\", \"page\", \"date\", \"amount\", \"approval\", \"pay\", \"order\", \"pocument\", \"wardi\", \"rm45\", \"kupiec\", \"rezoning\", \"rt35\", \"onelane\", \"rolando\", \"rm6\", \"c15\", \"raze\", \"bi\", \"b25\", \"rm65\", \"bev\", \"muskegan\", \"edens\", \"singleunit\", \"rt4\", \"b32\", \"elevated\", \"2nd\", \"inches\", \"townhouse\", \"variances\", \"proposing\", \"aldermen\", \"offstreet\", \"hundreds\", \"yates\", \"shopping\", \"multi\", \"twoflat\", \"oriole\", \"twostory\", \"pikarski\", \"stall\", \"b35\", \"common\", \"shop\", \"ave\", \"continuance\", \"onestory\", \"mixeduse\", \"neighborhood\", \"raguso\", \"zero\", \"residential\", \"commercial\", \"refer\", \"detach\", \"dwell\", \"space\", \"height\", \"story\", \"manufacturing\", \"document\", \"applicant\", \"address\", \"purpose\", \"building\", \"change\", \"unit\", \"llc\", \"district\", \"owner\", \"ordinance\", \"park\", \"request\", \"build\", \"exist\", \"development\", \"ward\", \"attorney\", \"floor\", \"community\", \"indictment\", \"litem\", \"noncapital\", \"contempt\", \"lumbar\", \"herniated\", \"causing\", \"defendant\", \"wei\", \"breaking\", \"defense\", \"occurred\", \"assessments\", \"walls\", \"governors\", \"collectively\", \"responding\", \"fracture\", \"syndrome\", \"juvenile\", \"boyer\", \"aramark\", \"lump\", \"invoice\", \"inance\", \"cambridge\", \"comm\", \"philadelphia\", \"transmittal\", \"finger\", \"claimant\", \"payment\", \"guardian\", \"attorney\", \"processed\", \"selfinsurance\", \"submit\", \"court\", \"sustain\", \"pharmaceutical\", \"check\", \"order\", \"indigent\", \"father\", \"part\", \"child\", \"fee\", \"sum\", \"see\", \"case\", \"total\", \"account\", \"purchase\", \"approve\", \"county\", \"state\", \"illinois\", \"office\", \"contract\", \"cook\", \"board\", \"finance\", \"practitioner\", \"pediatrics\", \"cnp\", \"ethnicity\", \"acute\", \"nonmedical\", \"patientcentered\", \"da\", \"oncology\", \"neurology\", \"emr\", \"bench\", \"respiratory\", \"warrant\", \"dietary\", \"strengths\", \"inaugural\", \"ease\", \"pathway\", \"las\", \"linkages\", \"leading\", \"stipend\", \"minnesota\", \"expanded\", \"dd\", \"collecting\", \"threats\", \"clearing\", \"closer\", \"medicine\", \"governance\", \"heaith\", \"chronic\", \"countyhealth\", \"outpatient\", \"harm\", \"cod\", \"quality\", \"inpatient\", \"hosp\", \"specialty\", \"hiv\", \"reappointment\", \"framework\", \"patient\", \"physician\", \"leader\", \"institute\", \"equitable\", \"category\", \"safety\", \"social\", \"experience\", \"effective\", \"population\", \"care\", \"healthcare\", \"culture\", \"surgery\", \"oversight\", \"score\", \"improve\", \"leadership\", \"health\", \"system\", \"clinical\", \"core\", \"improvement\", \"medical\", \"hospital\", \"july\", \"survey\", \"staff\", \"board\", \"committee\", \"data\", \"assessment\", \"support\", \"process\", \"center\", \"withdrawwaiting\", \"trans\", \"deceased\", \"qildro\", \"hackett\", \"heir\", \"bgroupheaderline2x\", \"adp\", \"died\", \"cfd\", \"mcfadden\", \"firefighter\", \"handicapped\", \"widow\", \"keane\", \"oemc\", \"goode\", \"cody\", \"shipping\", \"awarded\", \"fitzgerald\", \"ent\", \"deduction\", \"investigating\", \"refunds\", \"landing\", \"oliver\", \"sending\", \"easier\", \"inquiries\", \"trustee\", \"battalion\", \"valencia\", \"moved\", \"lieutenant\", \"wesner\", \"callan\", \"guardianship\", \"recalculation\", \"fireman\", \"paramedic\", \"die\", \"retire\", \"engine\", \"decease\", \"benjamin\", \"annuity\", \"pinelli\", \"benefit\", \"ahmad\", \"increment\", \"begin\", \"summer\", \"retirement\", \"disability\", \"fund\", \"pension\", \"refund\", \"salary\", \"roll\", \"investment\", \"second\", \"none\", \"duty\", \"call\", \"meeting\", \"vote\", \"absent\", \"present\", \"executive\", \"board\", \"motion\", \"review\", \"move\", \"page\", \"minute\", \"regular\", \"chicago\", \"base\", \"mwrdgc\", \"sludge\", \"kirie\", \"iwcc\", \"biosolids\", \"mapparcel\", \"aerialpdf\", \"grit\", \"logpdf\", \"wrp\", \"thicken\", \"intercept\", \"nielsenihc\", \"viewpdf\", \"coarse\", \"sluice\", \"aeration\", \"bf5pdf\", \"odor\", \"rausch\", \"bf5\", \"r98\", \"mapparcels\", \"contingencypdf\", \"bypass\", \"mwh\", \"lubricant\", \"flowtechnics\", \"calcium\", \"hasma\", \"reclamation\", \"alitto\", \"buclet\", \"acclamation\", \"santos\", \"meany\", \"requisition\", \"mcgowan\", \"mariyana\", \"furnish\", \"kari\", \"spyropoulos\", \"marcelino\", \"obrien\", \"therese\", \"horton\", \"channel\", \"avila\", \"metropolitan\", \"stormwater\", \"debra\", \"frank\", \"stickney\", \"water\", \"attachment\", \"plant\", \"barbara\", \"exceed\", \"cynthia\", \"pump\", \"great\", \"advertise\", \"purchase\", \"amount\", \"deliver\", \"account\", \"authority\", \"order\", \"shore\", \"recommend\", \"issue\", \"district\", \"consent\", \"inc\", \"estimate\", \"meeting\", \"motion\", \"chicago\", \"committee\", \"agenda\", \"approve\", \"minute\", \"commissioner\", \"regular\", \"report\", \"board\", \"page\", \"item\", \"bedore\", \"okay\", \"doesnt\", \"sorry\", \"appreciate\", \"indicator\", \"chance\", \"guess\", \"theyre\", \"enough\", \"shorthand\", \"folk\", \"understands\", \"preferred\", \"decade\", \"ppb\", \"remember\", \"mural\", \"hop\", \"payer\", \"residency\", \"tremendous\", \"emphasis\", \"economics\", \"lay\", \"seed\", \"fatal\", \"conservative\", \"inception\", \"suburb\", \"think\", \"cm\", \"dont\", \"sort\", \"something\", \"look\", \"deal\", \"reply\", \"talk\", \"get\", \"seem\", \"figure\", \"sure\", \"anyone\", \"go\", \"didnt\", \"happen\", \"try\", \"tell\", \"want\", \"promotion\", \"believe\", \"someone\", \"kind\", \"couple\", \"much\", \"example\", \"money\", \"let\", \"people\", \"problem\", \"come\", \"like\", \"next\", \"black\", \"ask\", \"lease\", \"do\", \"say\", \"take\", \"last\", \"today\", \"thank\", \"give\", \"help\", \"question\", \"good\", \"state\", \"need\", \"know\", \"make\", \"event\", \"work\", \"project\", \"member\", \"see\", \"new\", \"year\", \"time\", \"chairman\", \"meeting\", \"cost\", \"facility\"], \"Freq\": [16073.0, 8026.0, 8104.0, 24672.0, 6858.0, 15034.0, 11669.0, 4897.0, 11704.0, 4881.0, 7458.0, 4729.0, 12057.0, 8347.0, 9587.0, 4305.0, 8010.0, 14126.0, 9010.0, 6567.0, 4381.0, 3433.0, 4796.0, 5996.0, 4468.0, 8862.0, 4991.0, 4559.0, 9115.0, 2686.0, 94.98739410438967, 91.98782375972836, 83.9889695072982, 71.99068812865298, 64.99169065777659, 37.995557555824796, 32.99627364805595, 21.997849050964486, 18.998278706303175, 18.998278706303175, 16.998565143195638, 13.998994798534326, 12.99913801698056, 11.999281235426789, 10.999424453873019, 7.99985410921171, 7.99985410921171, 4.000426982996633, 4.000426982996633, 3.0005702014428626, 3.0005702014428626, 2.0007134198890926, 2.0007134198890926, 2.0007134198890926, 2.0007134198890926, 2.0007134198890926, 2.0007134198890926, 2.0007134198890926, 2.0007134198890926, 58.99254996845396, 107.98553226458868, 159.9780849053847, 335.9528784588481, 126.9828111141103, 22.997705832518257, 110.98510260924998, 20.997992269410716, 19.998135487856946, 175.97579341024502, 19.998135487856946, 18.998278706303175, 107.98553226458868, 50.9936957160238, 40.995127900486104, 278.96104191028326, 69.99097456554543, 47.99412537136249, 91.98782375972836, 86.98853985195952, 60.99226353156149, 117.98410008012637, 71.99068812865298, 55.99297962379265, 398.94385569673557, 623.9116315463338, 49.99383893447003, 648.9080510851779, 130.98223824032536, 169.9766527209224, 211.9706375461807, 443.9374108666552, 480.9321117841447, 546.9226593666936, 271.9620444394069, 1523.7827349447264, 499.92939063366634, 2259.677326168301, 284.9601825996059, 402.94328282295066, 367.94829546856874, 1900.7287415904975, 1457.7921873621776, 422.94041845402603, 1109.8420273814659, 866.8768294638998, 619.9122044201187, 352.9504437452622, 882.8745379687601, 532.9246644249407, 555.9213704006775, 853.8786913037009, 335.9528784588481, 547.9225161482473, 576.9183628133067, 316.9555996093265, 512.9275287938653, 602.9146391337047, 477.93254143948343, 477.93254143948343, 489.9308228181286, 404.9429963860582, 388.9452878811979, 101.98595506142574, 76.98964251021896, 52.99318246106043, 48.99377245286735, 36.99554242828809, 31.99627991804673, 29.99657491395019, 28.99672241190192, 28.99672241190192, 26.99701740780538, 25.997164905757106, 24.997312403708836, 23.997459901660566, 20.99790239551575, 19.998049893467478, 17.998344889370934, 16.998492387322663, 15.998639885274391, 15.998639885274391, 14.99878738322612, 14.99878738322612, 13.99893488117785, 13.99893488117785, 13.99893488117785, 13.99893488117785, 12.999082379129575, 12.999082379129575, 12.999082379129575, 12.999082379129575, 11.999229877081305, 856.8745941078707, 67.99096999178451, 141.9800551433566, 160.97725268227376, 71.99037999997759, 42.99465744057772, 251.96383036866646, 263.9620603932457, 129.98182511877732, 387.94377064723136, 64.9914124856397, 68.99082249383278, 284.9589629362594, 1514.7775404556332, 47.99391995081908, 40.99495243648118, 328.95247302638336, 50.99347745696389, 155.9779901720324, 91.98743004094302, 88.98787253479821, 72.99023250202586, 1169.8284272489796, 53.99303496310871, 280.95955292806633, 64.9914124856397, 534.9220884483273, 484.9294633459137, 104.98551256757055, 401.94170567590714, 1159.829902228497, 111.98448008190844, 265.9617653973422, 260.96250288710087, 155.9779901720324, 156.97784267408068, 659.9036512043612, 122.98285760443943, 167.97622019661165, 884.8704641652223, 184.97371273143227, 317.95409550385233, 170.97577770275646, 369.94642561036244, 448.9347732721759, 383.9443606390383, 510.9256283991688, 276.9601429198732, 478.930348333624, 288.9583729444525, 467.93197081109304, 388.94362314927963, 238.96574784203892, 340.9507030509626, 340.9507030509626, 296.95719296083865, 343.9502605571074, 292.9577829526456, 274.9604379157767, 1060.8923016026583, 26.998233776945906, 17.999155817147635, 16.999258266058938, 16.999258266058938, 299.97026522416013, 218.97856358597573, 4.0005901019058765, 3.0006925508171793, 1304.8673040683004, 620.9373791236318, 1.0008974486397855, 1.0008974486397855, 1.0008974486397855, 1169.8811346713264, 77.99300888246944, 322.96790889920015, 609.9385060616561, 28.9980288791233, 141.98645215214606, 582.9412721822614, 74.99331622920336, 209.97948562617745, 1773.8192555288995, 74.99331622920336, 218.97856358597573, 38.99700439001027, 24.99843867476851, 24.99843867476851, 11.99977051061545, 261.9741582827897, 727.9264170901224, 147.98583745867825, 1373.8602350934207, 312.9689333883132, 54.99536520742941, 455.95428319399684, 94.9912672509773, 2681.7262319174365, 2806.7134258035235, 2053.790569833735, 2165.779095555669, 893.909410570846, 486.9511072777465, 2497.745082517116, 401.9598154352072, 317.9684211437567, 1610.8359547014418, 394.9605325775863, 1792.8173089995846, 589.9405550398822, 570.942501569197, 1239.8739632475351, 2137.7819641251854, 1212.8767293681403, 463.95346360270645, 885.9102301621366, 754.9236509695172, 856.9132011805643, 784.9205775021782, 673.9319493313327, 980.9004975155626, 865.9122791403626, 826.9162746479035, 700.9291832107276, 611.9383011638336, 594.9400427953257, 57.99259223953521, 34.99592629395997, 28.996796047288164, 26.997085965064233, 25.997230923952262, 25.997230923952262, 23.997520841728328, 21.997810759504397, 15.998680512832589, 12.999115389496685, 9.999550266160785, 6.000130101712916, 6.000130101712916, 6.000130101712916, 5.0002750606009485, 5.0002750606009485, 3.000564978377014, 3.000564978377014, 2.0007099372650465, 2.0007099372650465, 68.99099769176686, 1828.7358700488294, 1.0008548961530792, 1.0008548961530792, 1.0008548961530792, 1.0008548961530792, 1.0008548961530792, 1.0008548961530792, 1.0008548961530792, 36.9956363761839, 769.8893815112559, 500.92837545213666, 70.99070777399079, 332.9527285453262, 50.993606951751445, 29.996651088400135, 25.997230923952262, 493.9293901643529, 32.99621621173603, 78.98954810288653, 31.996361170624063, 38.99534645840784, 29.996651088400135, 37.99549141729587, 684.9017030167387, 26.997085965064233, 239.96620972191326, 1018.8532867481358, 174.9756320496354, 193.97287783076277, 3939.4298618361927, 4159.397970880826, 356.9492495320134, 317.95490292864673, 1260.8182066972317, 1508.7822568929998, 161.97751651517981, 338.951858791998, 61.99201240398309, 1911.7238384611226, 2669.613959623994, 1221.823860093865, 51.993461992863416, 1554.7755887841502, 1390.7993620417876, 730.8950349078892, 1235.8218306694328, 752.8918458123525, 697.8998185511942, 1016.8535766659119, 377.9462053953647, 212.97012361189016, 281.9601214486159, 318.95475796975865, 643.907646331148, 466.93330405432977, 499.92852041102475, 383.9453356420365, 341.9514239153339, 331.95287350421427, 308.950384135813, 244.9608676465718, 197.96856647478523, 98.98478315549019, 78.98805925260231, 76.98838686231352, 47.993137203126075, 34.995266666248945, 30.995921885671372, 28.996249495382585, 27.99641330023819, 26.996577105093795, 18.997887543938642, 16.998215153649852, 13.998706568216665, 13.998706568216665, 10.999197982783484, 7.9996893973503, 240.96152286599423, 395.9361331133754, 188.9700407184857, 4.000344616772723, 4.000344616772723, 3.0005084216283278, 116.98183466808932, 210.9664370116624, 86.98674881375747, 2.000672226483933, 207.96692842622923, 192.96938549906326, 694.8871554615492, 396.93596930851976, 201.96791125536285, 217.96529037767314, 116.98183466808932, 55.99182676428123, 141.97773954669918, 215.96561798738438, 225.96397993882832, 206.96709223108482, 150.9762653029987, 165.97380823016462, 745.8788014139135, 200.96807506021844, 201.96791125536285, 436.92941711429546, 206.96709223108482, 312.9497289163906, 312.9497289163906, 263.9577553543153, 327.9472718435565, 285.9541516474919, 1059.8273666892533, 810.868154098299, 251.95972101258258, 1056.82785810382, 604.9018978985538, 593.9036997519654, 513.9168041404139, 702.8858450227044, 448.9274514560282, 381.9384263813538, 519.9158213112803, 526.914674677291, 347.94399574644444, 748.8783099993467, 365.94104725904344, 630.8976389723081, 525.9148384821466, 710.8845345838596, 543.9118899947457, 565.9082862879224, 474.9231925297825, 341.94497857557803, 393.93646072308655, 347.94399574644444, 334.9461252095673, 435.9682637669077, 410.9701408401881, 350.9746458160609, 336.97569697709787, 224.9841062653939, 142.99026306575345, 133.99093881213437, 92.99401721231416, 81.99484312455752, 80.99491820748874, 75.9952936221448, 73.99544378800722, 69.99574411973208, 69.99574411973208, 64.99611953438816, 63.99619461731937, 61.99634478318179, 60.996419866113, 59.99649494904422, 57.99664511490665, 55.99679528076908, 54.99687036370029, 51.997095612493936, 49.99724577835636, 46.99747102715, 44.99762119301243, 42.99777135887486, 39.997996607668505, 37.998146773530934, 34.998372022324574, 1282.9046685241692, 1919.856840696986, 526.9614312201672, 2280.8297357588176, 356.9741953184736, 504.96308304465396, 118.99206505610259, 2021.8491822380022, 332.97599730882274, 2550.80946336739, 490.9641342056909, 613.9548990051516, 150.98966240230374, 901.933275120962, 137.99063848040953, 1340.900313714159, 435.9682637669077, 373.97291890864295, 963.9286199792267, 1466.8908532648259, 749.9446877265065, 774.9428106532262, 181.9873348314361, 998.9259920766342, 300.9783999626216, 348.9747959819233, 766.9434113166758, 362.97374482088634, 1046.922388095936, 2877.784911248883, 1958.8539124626684, 816.9396571701151, 2182.8370938860767, 2370.8229782950084, 2117.841974276606, 2665.8008288303004, 604.9555747515325, 1035.9232140081792, 1249.9071462608995, 723.946639882718, 833.9383807602844, 1099.9184087005815, 633.9533973465273, 802.9407083311521, 719.9469402144429, 757.9440870630567, 646.9524212684215, 148.97544880006524, 4.000313894866887, 786.8660423829378, 3.0004853782793117, 2.000656861691737, 1100.8121965914363, 147.97562028347767, 1.0008283451041622, 1.0008283451041622, 67.98933895647167, 152.97476286641555, 71.98865302282198, 775.8679287004746, 2429.5842951363234, 19.997570160268083, 2930.498381946699, 25.99654125979353, 5.000142411454462, 12.998770544155061, 379.935836131795, 1128.8073950558885, 379.935836131795, 21.997227193443234, 16.998084610505362, 31.99551235931898, 16.998084610505362, 2.000656861691737, 2.000656861691737, 65.98968192329653, 156.97407693276583, 1813.6899289183773, 109.98213665314982, 146.9757917668901, 1013.8271156483173, 2455.5798365676005, 151.97493434982795, 185.9691039138055, 738.8742735867343, 53.99173972424562, 1009.8278015819672, 3029.4814050888685, 1450.7521773970875, 48.99259714130775, 113.98145071950012, 1319.7746417241153, 378.9360076152074, 1197.7955627004312, 158.973733965941, 1496.744289160116, 1416.7580078331102, 954.8372331696505, 231.96121567683394, 258.95658562469845, 365.93823689956895, 402.9318920133092, 366.93806541615646, 308.9480114540772, 212.96447386167003, 273.95401337351205, 279.95298447303753, 241.9595008427097, 265.95538524081144, 180.98847261035627, 131.99186398439588, 99.99407875927888, 63.996570381022266, 62.99663959273735, 52.99733170988829, 48.99760855674867, 46.99774698017886, 43.99795461532415, 42.99802382703923, 39.99823146218452, 35.998508309044894, 28.998992791050558, 28.998992791050558, 27.999062002765648, 27.999062002765648, 23.999338849626028, 23.999338849626028, 21.99947727305622, 20.99954648477131, 20.99954648477131, 19.999615696486405, 19.999615696486405, 18.9996849082015, 18.9996849082015, 17.99975411991659, 16.99982333163169, 16.99982333163169, 14.999961755061872, 14.000030966776965, 114.99304058355247, 75.99573984044115, 67.9962935341619, 151.99047975009398, 43.99795461532415, 195.98743443462985, 197.98729601119965, 38.99830067389961, 233.9848043894563, 192.98764206977512, 47.99767776846377, 74.99580905215623, 56.99705486302792, 192.98764206977512, 189.9878497049204, 745.949367991328, 125.99227925468644, 1475.8988434393093, 468.9685396364091, 778.94708400473, 897.9388478106338, 1008.9311653102584, 96.99428639442417, 251.98355857858456, 131.99186398439588, 1275.9126857823283, 500.9663248615261, 265.9825896145732, 370.9753223844883, 508.96577116780537, 435.9708236230073, 173.98895709236191, 132.99179477268078, 1525.8953828535546, 824.9439002658356, 370.9753223844883, 266.98252040285814, 538.9636948163526, 418.97200022216384, 1260.9137239580546, 2442.8319157108135, 1187.9187764132564, 996.9319958508394, 1670.8853471548662, 1012.930888463398, 907.9381556934828, 1384.905141705383, 631.9572581268487, 1506.8966978761416, 1006.9313037336884, 907.9381556934828, 1110.9241057153188, 809.944938441562, 565.961826100045, 917.9374635763319, 623.9578118205695, 628.9574657619941, 712.9516519779262, 620.9580194557149, 613.9585039377205, 613.9585039377205, 610.9587115728658, 107.99179790964754, 67.99520605970261, 64.99546167095674, 62.995632078459494, 53.996398912221885, 44.99716574598428, 41.99742135723841, 39.997591764741166, 39.997591764741166, 37.99776217224392, 31.998273394752182, 28.99852900600632, 26.998699413509073, 25.998784617260448, 21.999125432265956, 21.999125432265956, 21.999125432265956, 21.999125432265956, 18.999381043520085, 17.999466247271464, 17.999466247271464, 16.99955145102284, 16.99955145102284, 16.99955145102284, 15.999636654774216, 15.999636654774216, 15.999636654774216, 14.999721858525593, 13.99980706227697, 13.99980706227697, 370.9693893230354, 160.98728211082454, 306.9748423631235, 133.98958261211172, 198.98404436827224, 73.99469483719436, 170.9864300733108, 145.98856016709522, 154.98779333333283, 132.9896678158631, 142.98881577834933, 140.9889861858521, 145.98856016709522, 202.9837035532667, 199.98395916452083, 158.9874525183273, 1006.9151997371595, 158.9874525183273, 200.98387396076947, 190.98472599828324, 564.9528597952682, 224.98182907073644, 208.98319233075847, 208.98319233075847, 330.97279747309045, 410.96598117298026, 872.9266170398441, 468.9610393554004, 224.98182907073644, 203.98361834951535, 3865.671602211973, 285.97663164190243, 1896.839368398434, 472.9606985403949, 1328.8877641292163, 375.9689633042785, 610.9489404227049, 415.96555515422335, 312.9743311406152, 2330.8023899703367, 935.9212492035073, 2206.8129552355076, 1565.8675708401397, 1267.89296155805, 2026.8282919107548, 2172.8158521630544, 405.9664071917371, 1317.8887013704814, 812.9317292649266, 627.9474919589314, 702.9411016775782, 792.9334333399541, 859.927724688612, 469.960954151649, 661.9445950313847, 493.958909261616, 551.9539674440362, 533.9555011115609, 620.9480883851911, 534.9554159078094, 505.95788681659945, 549.9541378515388, 500.9583128353563, 496.95865365036184, 96.9895730675409, 54.994520760485116, 45.99558098040173, 43.99581658482765, 42.99593438704061, 38.99640559589244, 34.99687680474427, 34.99687680474427, 30.997348013596106, 27.99770142023498, 25.997937024660892, 25.997937024660892, 23.99817262908681, 23.99817262908681, 21.998408233512723, 21.998408233512723, 20.998526035725682, 20.998526035725682, 19.998643837938637, 19.998643837938637, 18.998761640151596, 16.99899724457751, 15.999115046790468, 15.999115046790468, 14.999232849003425, 14.999232849003425, 12.999468453429339, 12.999468453429339, 12.999468453429339, 12.999468453429339, 164.9815625170598, 71.99251812286485, 78.99169350737415, 43.99581658482765, 72.9924003206519, 141.98427196795782, 33.99699460695723, 148.98344735246712, 37.9965233981054, 96.9895730675409, 58.99404955163329, 175.9802666927173, 52.99475636491104, 47.99534537597582, 105.98851284762429, 116.98721702328176, 76.99192911180006, 132.98533218787443, 423.95105174390375, 59.993931749420334, 165.98144471484684, 199.9774394396063, 111.98780603434655, 1009.8820196471107, 1052.8769541519534, 172.98062009935614, 283.96754405371786, 162.98179812148572, 122.98651021000401, 182.9794420772266, 138.9846253745967, 1678.803209966642, 554.9356196540064, 182.9794420772266, 200.97732163739332, 172.98062009935614, 276.96836866920853, 313.9640099873291, 458.9469286664503, 945.88955898874, 283.96754405371786, 433.9498737217742, 675.9213655862385, 563.9345594340897, 306.9648346028198, 316.96365658069027, 282.96766185593077, 481.94421921555227, 631.9265488836087, 311.964245591755, 517.9399783358858, 492.9429233912097, 305.96495240503276, 428.950462732839, 317.9635387784773, 390.9549392169314, 359.9585910855331, 406.95305438152405, 253.97107812010657, 325.9625963607736, 288.96695504265307, 285.9673084492919, 88.99077257001468, 42.99605859802925, 38.99651825263921, 30.99743756185914, 25.998012130121595, 23.998241957426572, 21.998471784731557, 20.998586698384045, 15.9991612666465, 15.9991612666465, 15.9991612666465, 14.999276180298988, 14.999276180298988, 13.999391093951479, 13.999391093951479, 12.99950600760397, 9.99985074856144, 9.99985074856144, 9.99985074856144, 8.999965662213931, 8.999965662213931, 8.999965662213931, 8.999965662213931, 8.000080575866424, 8.000080575866424, 8.000080575866424, 8.000080575866424, 8.000080575866424, 8.000080575866424, 8.000080575866424, 96.98985326079477, 45.99571385707178, 288.9677898395165, 153.98330318260278, 54.994679634199365, 51.99502437515684, 24.998127043774083, 102.98916377887983, 50.99513928880932, 292.9673301849066, 60.99399015228442, 46.99559894341929, 73.99249627480205, 56.99444980689439, 885.8991863889797, 192.9788215501557, 157.98284352799286, 1272.8547148054658, 533.9396359946563, 122.98686550583001, 120.98709533313499, 52.99490946150434, 259.97112233543874, 231.97433991770853, 301.96629596203417, 309.9653766528142, 78.9919217065396, 158.98272861434035, 425.9520466691253, 73.99249627480205, 1208.8620692792251, 467.94722029572074, 1074.877467708659, 164.9820391324254, 1016.8841327005034, 311.96514682550924, 691.9214796375628, 441.9502080506855, 165.98192421877292, 262.97077759448126, 939.8929810517452, 800.9089540494414, 449.9492887414655, 453.94882908685565, 366.95882657462226, 318.96434242994184, 742.9156190412858, 662.924812133485, 938.8930959653976, 579.9343499666418, 482.9454965909334, 659.9251568744426, 556.936992980649, 448.94940365511803, 483.9453816772809, 523.9407851311813, 459.94813960494065, 350.96066519306214, 345.9612397613246, 346.9611248476721, 366.95882657462226, 355.96009062479965, 187.97436106771136, 166.97733667729887, 103.98626350606139, 93.98768046300783, 89.98824724578641, 79.98966420273284, 69.99108115967927, 55.99306489940427, 51.993631682182844, 46.99434016065606, 40.995190334823924, 39.99533203051857, 39.99533203051857, 28.996890683159652, 26.997174074548933, 25.997315770243578, 24.997457465938222, 24.997457465938222, 18.998307640106084, 18.998307640106084, 16.99859103149537, 16.99859103149537, 15.998732727190012, 14.998874422884654, 13.999016118579299, 12.999157814273941, 11.999299509968584, 9.99958290135787, 7.000007988441802, 206.97166884951315, 283.96075828102556, 116.98442146203102, 220.96968510978812, 112.9849882448096, 66.99150624676321, 109.98541333189354, 266.9631671078345, 177.97577802465779, 79.98966420273284, 274.9620335422773, 150.97960380841315, 93.98768046300783, 82.9892391156489, 362.9495643211487, 85.98881402856497, 94.98753876731318, 141.98087906966495, 142.9807373739703, 103.98626350606139, 248.9657176303381, 556.922075356388, 309.9570741929648, 176.9759197203524, 115.98456315772567, 1505.7876061421714, 379.9471554943398, 1049.8522193789288, 468.9345445775165, 1315.8145283241536, 960.8648302957519, 850.8804168221627, 692.9028047419165, 1104.8444261157233, 834.882683953277, 351.95112297378984, 716.899404045245, 754.8940196088485, 1005.858453989493, 821.8845259973074, 640.9101729180378, 536.9249092702808, 393.94517175461476, 475.93355270765403, 661.9071973084503, 307.9573575843541, 383.9465887115612, 379.9471554943398, 367.9488558426755, 311.95679080157555, 320.95551554032374, 312.9566491058809, 245.9867726825559, 197.98954873321145, 139.9929031277536, 119.99405981552673, 114.99434898747002, 60.99747204445751, 58.99758771323482, 52.997934719566764, 42.99851306345334, 41.998570897841994, 39.99868656661932, 31.999149241728574, 22.999669751226495, 21.99972758561515, 19.999843254392466, 16.000074591947094, 11.000363763890379, 10.000421598279036, 10.000421598279036, 7.000595101445009, 6.000652935833668, 6.000652935833668, 5.000710770222325, 5.000710770222325, 130.9934236372515, 3.000826438999639, 3.000826438999639, 256.98613650428064, 2.000884273388296, 2.000884273388296, 293.9839966319003, 208.98891255493623, 219.988276376661, 70.99689370057094, 102.9950430001339, 149.99232478386702, 56.99770338201214, 54.99781905078945, 75.99660452862766, 319.98249293779526, 2816.838080469318, 72.99677803179362, 162.99157293681446, 702.9603423669395, 130.9934236372515, 172.99099459292788, 585.9671089904124, 3373.8058667148357, 664.9625400737084, 133.9932501340855, 92.99562134402048, 81.9962575222957, 729.9587808384457, 190.98995357393207, 484.97295026366675, 601.9661836401939, 207.98897038932486, 221.98816070788368, 475.97347077316465, 779.9558891190129, 2144.8769451784956, 830.9529395651913, 697.9606315388828, 826.9531709027459, 796.9549059344057, 411.97717217403874, 1979.886487852624, 1804.896608870639, 2501.856298301745, 1238.929343134619, 363.9799482246943, 2686.8455989398435, 436.97572631432234, 1190.9321191852746, 3041.82506773187, 1955.8878758779517, 1042.9406786747961, 1074.938827974359, 1024.9417196937918, 666.9624244049311, 1358.9224030079804, 910.9483128140987, 906.9485441516533, 989.9437438973947, 1467.9160990596165, 955.9457102666091, 806.954327590519, 871.9505683552563, 853.9516093742521, 700.9604580357168, 94.9912435380725, 90.9916543321453, 63.9944271921367, 59.99483798620949, 54.995351478800494, 31.997713544719087, 27.998124338791886, 26.998227037310087, 22.99863783138289, 11.999767515083084, 11.999767515083084, 7.000281007674084, 7.000281007674084, 6.000383706192283, 695.9295217286343, 171.98333575217112, 4.000589103228683, 4.000589103228683, 3.000691801746882, 3.000691801746882, 3.000691801746882, 3.000691801746882, 2.000794500265082, 2.000794500265082, 2.000794500265082, 2.000794500265082, 2.000794500265082, 81.9925786188091, 163.9841573403167, 1.000897198783282, 469.95273159374756, 182.98220606847093, 141.9864167077171, 371.9627960485311, 60.994735287691284, 188.98158987736173, 123.9882652810447, 949.9034363050116, 124.98816258252651, 107.98990845733591, 101.9905246484451, 95.9911408395543, 263.9738874884967, 169.98354114920753, 92.9914489351089, 120.9885733765993, 79.9927840158455, 1619.8346282978177, 207.9796386055159, 228.97748193663375, 144.98610861216252, 193.98107638477072, 560.9433860285914, 2024.7930353979468, 381.96176906334915, 570.9423590434094, 4623.526121949146, 255.9747090766423, 469.95273159374756, 278.9723470107237, 294.9707038344325, 3030.689720688638, 722.926748868643, 312.9688552611049, 194.98097368625253, 881.9104198042493, 344.9655689085225, 439.95581254929357, 528.9466723811738, 1052.8928583576371, 695.9295217286343, 1372.859994831813, 1547.8420225911282, 749.9239760086516, 454.9542720715205, 351.96485001889516, 699.9291109345615, 538.9456453959917, 437.95601794632995, 480.9516019100473, 548.9446184108098, 450.9546828655933, 466.9530396893021, 485.9510884174564, 481.95149921152915, 459.9537585789295, 451.95458016707516, 439.95581254929357, 120.98987188623171, 86.99299876839073, 85.99309073551305, 69.99456220947022, 53.9960336834274, 43.99695335465063, 40.997229256017604, 39.99732122313993, 36.9975971245069, 36.9975971245069, 34.99778105875154, 34.99778105875154, 29.998240894363168, 24.998700729974786, 22.998884664219435, 20.99906859846408, 18.999252532708727, 17.999344499831054, 15.9995284340757, 15.9995284340757, 14.99962040119802, 12.99980433544267, 12.99980433544267, 11.999896302564993, 10.999988269687316, 10.999988269687316, 10.000080236809639, 10.000080236809639, 9.000172203931964, 7.000356138176612, 177.98462976025928, 89.99272286702374, 79.99364253824699, 67.99474614371488, 125.9894120506201, 137.98830844515223, 85.99309073551305, 79.99364253824699, 40.997229256017604, 115.99033172184333, 33.99787302587387, 42.99704532177296, 28.99833286148549, 171.9851815629932, 100.99171122867818, 79.99364253824699, 71.99437827522557, 54.99594171630507, 721.9345996457151, 354.9683515796079, 4290.606368986142, 303.97304190284643, 469.95777536054067, 1141.8959734543391, 119.98996385335403, 101.99161926155587, 1109.8989164022537, 244.9784679630636, 376.9663283029168, 211.98150287810026, 1025.9066416405287, 3392.6889554619884, 201.98242254932347, 568.9486706154307, 1038.9054460679386, 745.9323924347794, 1127.8972609940517, 373.9666042042838, 231.97966353565377, 1399.8722459367796, 503.95464847838167, 282.97497321241525, 183.9840779575253, 1117.898180665275, 818.9256788348497, 367.9671560070177, 669.939381936076, 456.95897093313096, 611.9447160291708, 966.9120677007459, 485.95630388658356, 739.9329442375133, 304.9729499357241, 416.9626496180238, 577.9478429113298, 599.9458196346386, 467.9579592947854, 592.9464634044949, 492.9556601167273, 494.9554761824826, 443.96016650572113, 449.9596147029872, 463.95832716327465, 415.9729844412924, 48.99770003102822, 42.99810410061517, 30.998912239789103, 28.99904692965142, 20.9995856891007, 18.999720378963026, 16.999855068825347, 14.999989758687663, 12.000191793481145, 9.000393828274627, 8.000461173205787, 8.000461173205787, 5.000663207999268, 4.0007305529304285, 3.0007978978615877, 3.0007978978615877, 3.0007978978615877, 2.0008652427927482, 2.0008652427927482, 2.0008652427927482, 2.0008652427927482, 2.0008652427927482, 77.99574702802457, 1.0009325877239086, 1.0009325877239086, 1.0009325877239086, 1.0009325877239086, 1.0009325877239086, 1.0009325877239086, 35.9985755151333, 2138.8569491249036, 32.99877754992678, 53.997363306372414, 313.97985362427073, 25.999248964444906, 345.9776985864736, 75.9958817178869, 62.99675720199197, 37.998440825270976, 63.99668985706081, 221.98604935793747, 105.99386136995209, 105.99386136995209, 163.9899553639448, 88.99500623378181, 436.971570197738, 984.9346651754622, 105.99386136995209, 1780.8810586102586, 311.97998831413304, 636.9581012115059, 469.96934781500966, 983.9347325203934, 692.954329895361, 971.9355406595672, 792.947595402245, 1070.9288735113823, 323.9791801749591, 806.9466525732087, 856.9432853266507, 1067.929075546176, 993.9340590710817, 330.978708760441, 969.9356753494295, 693.9542625504298, 680.9551380345349, 826.9453056745855, 488.9680682613177, 721.9523768923574, 613.9596501449226, 4738.681852303886, 609.9599195246473, 482.9684723309046, 2098.8596429221498, 2081.86078778598, 2389.840045547182, 2781.8136463341675, 1457.9028110230233, 735.9514340633211, 1195.9204553949874, 1195.9204553949874, 778.9485382312812, 818.9458444340348, 851.9436220513065, 891.94092825406, 890.9409955989912, 798.947191332658, 845.9440261208935, 819.9457770891036, 797.9472586775892, 786.947999471832, 155.98743202292525, 112.9911718900685, 97.99247649488592, 85.99352017873986, 84.99360715239435, 41.997347019537585, 37.99769491415556, 33.99804280877354, 29.99839070339152, 27.998564650700512, 26.998651624355006, 22.99899951897298, 21.999086492627473, 20.99917346628197, 19.999260439936464, 19.999260439936464, 18.999347413590957, 17.99943438724545, 15.999608334554441, 11.999956229172415, 9.000217150135898, 647.9446409849141, 7.000391097444886, 7.000391097444886, 6.000478071099381, 6.000478071099381, 5.000565044753875, 4.00065201840837, 3.000738992062863, 3.000738992062863, 102.99204162661344, 69.99491175721175, 214.98230057731013, 170.98612741810783, 988.9149829687317, 244.9796913676753, 404.9657755829562, 121.99038912717806, 217.98203965634661, 171.98604044445335, 488.9584697959787, 56.99604241472018, 173.98586649714434, 104.99186767930446, 49.99665123030164, 62.995520572793204, 48.99673820395613, 308.97412505378765, 194.9840400504, 162.9868232073438, 3416.70381093562, 102.99204162661344, 105.99178070564996, 558.952381640164, 1401.8790628494255, 304.9744729484056, 877.9246370443805, 6010.478201275862, 159.9870841283073, 2512.7824351192826, 275.97699518438594, 832.9285508588328, 543.9536862449814, 269.9775170263129, 1338.8845421896588, 1423.8771494290265, 972.9163745472035, 1413.8780191655715, 989.914895995077, 1512.8694087737767, 1333.884977057931, 432.9633403206304, 1052.9094166548439, 647.9446409849141, 506.9569042701978, 458.9610790056135, 636.9455976951135, 392.9668192668101, 602.9485547993663, 558.952381640164, 445.96220966312194, 484.9588176905966, 434.9631663733213, 431.9634272942848, 134.98427685629187, 32.996912026833044, 22.998150769042965, 15.999017888589908, 9.999761133915857, 8.99988500813685, 8.99988500813685, 8.000008882357843, 7.000132756578836, 6.000256630799827, 6.000256630799827, 6.000256630799827, 6.000256630799827, 5.00038050502082, 5.00038050502082, 4.000504379241812, 4.000504379241812, 3.0006282534628026, 3.0006282534628026, 3.0006282534628026, 3.0006282534628026, 2.000752127683795, 2.000752127683795, 2.000752127683795, 2.000752127683795, 2.000752127683795, 2.000752127683795, 2.000752127683795, 2.000752127683795, 45.99530166196015, 88.9899750704575, 103.98811695714262, 112.98700208915369, 37.996292655728084, 82.99071831578345, 59.99356742286626, 86.99022281889948, 205.97548178660142, 45.99530166196015, 63.99307192598229, 47.99505391351816, 208.97511016393847, 133.98440073051285, 22.998150769042965, 77.99133768688841, 49.99480616507618, 120.98601109538575, 369.9551664143587, 145.98291423986095, 38.99616878150709, 665.9184996449451, 240.9711461888667, 156.98155162343005, 98.98873632824757, 135.9841529820709, 200.97610115770638, 86.99022281889948, 48.994930039297174, 116.98650659226972, 316.9617317480713, 645.9209771293649, 172.97956963589417, 130.98477235317583, 608.9255604755416, 189.9774637741373, 616.9245694817737, 350.9575200245576, 302.9634659871652, 613.9249411044367, 1258.845042231897, 330.9599975089774, 595.9271708404145, 1357.8327786840186, 443.9459997220053, 238.97139393730868, 795.9023959962161, 676.9171370285142, 536.934479419453, 540.9339839225692, 468.9429028664805, 408.95033531974, 260.9686687044468, 355.95690065345264, 419.9489727033091, 335.9593781378724, 302.9634659871652, 323.96086462852435, 395.95194568461295, 340.9587587667675, 327.9603691316404, 378.9540515463698, 345.95813939566256, 320.9612362511873, 310.9624749933972, 167.9848145923582, 140.98741580310295, 139.98751214424163, 129.98847555562858, 98.99146213092811, 88.99242554231506, 73.99387065939547, 62.99493041192111, 56.99550845875327, 54.99570114103066, 34.99762796380455, 30.998013328359335, 26.998398692914108, 22.99878405746889, 21.998880398607586, 19.999073080884973, 15.999458445439751, 12.999747468855832, 11.999843809994527, 11.999843809994527, 10.99994015113322, 10.99994015113322, 9.00013283341061, 7.000325515688, 7.000325515688, 7.000325515688, 7.000325515688, 4.000614539104084, 4.000614539104084, 3.000710880242778, 549.9480122773768, 147.9867414151321, 111.99020969612508, 431.95938053174285, 66.99454504736633, 84.99281090686982, 161.98539263919034, 110.99030603726376, 96.9916548132055, 85.99271456573113, 51.995990164446745, 45.996568211278905, 202.9814426525039, 93.99194383662157, 403.96207808362624, 89.99232920117636, 311.9709414683862, 96.9916548132055, 50.99608650558544, 1043.9004197548618, 101.99117310751204, 226.97913046517522, 252.97662559556917, 367.96554636461923, 523.9505171469829, 1553.8512857741277, 1307.8749856942463, 1574.849262610215, 886.9155453136368, 1320.8737332594433, 497.953022016589, 232.97855241834304, 722.9313452603827, 303.9717121974957, 597.9433879027196, 624.9407866919747, 628.9404013274201, 524.9504208058443, 551.9478195950995, 744.9292257553313, 696.9338501299887, 532.9496500767347, 736.9299964844411, 665.9368367052883, 807.9231562635936, 574.9456037489095, 560.9469525248512, 637.9395342571718, 772.926528203448, 449.95764639124627, 418.96063296654586, 416.96082564882323, 2164.7813811038513, 213.9792916204682, 183.98233483702305, 165.98416076695594, 146.9860881374407, 121.9886241512364, 70.99379761937963, 62.994609143794264, 55.995319227657056, 49.995927870968025, 45.99633363317535, 43.99653651427901, 40.996840835934485, 37.997145157589976, 35.99734803869363, 32.997652360349115, 30.997855241452772, 2202.777526362882, 24.99846388476374, 22.998666765867398, 21.99876820641923, 20.998869646971055, 485.95169979037087, 2495.7478042811963, 4856.508303138329, 2.0007970174557914, 60.99481202489792, 1.0008984580076197, 1.0008984580076197, 1.0008984580076197, 4756.518447193513, 2447.752673427684, 4545.539851149948, 107.99004431896199, 62.994609143794264, 59.99491346544975, 240.9765527255688, 2481.7492244489217, 2678.7292406602114, 2814.715444745163, 269.9736109495658, 720.9278612606912, 4207.574138056466, 3213.6749699649836, 401.96022079672446, 332.9672201948006, 240.9765527255688, 612.9388168402887, 233.97726280943164, 184.9822333964712, 472.9530185175446, 2770.7199081294434, 601.9399326863587, 424.9578876640324, 569.9431787840173, 662.9337448126972, 728.9270497362767, 414.9589020695507, 699.9299915122796, 679.9320203233161, 687.9312087989015, 551.9450047139502, 352.965191383764, 458.95443868527025, 140.9808973816862, 135.98161023543597, 123.98332108443536, 64.99173275868246, 50.993728749181756, 42.99486931518136, 41.99501188593131, 22.997720730180383, 21.997863300930334, 21.997863300930334, 18.998291013180186, 15.99871872543004, 14.998861296179987, 13.99900386692994, 10.99943157917979, 10.99943157917979, 7.999859291429643, 204.97177285368934, 350.9509575241965, 326.9543792221953, 4.000429574429447, 3.0005721451793974, 3.0005721451793974, 180.97519455168816, 2.0007147159293486, 2.0007147159293486, 2.0007147159293486, 43.99472674443142, 1.000857286679299, 36.995724739681066, 193.9733411319388, 90.98802591918374, 130.9823230891857, 50.993728749181756, 227.96849372644047, 24.99743558868048, 33.996152451930925, 66.99144761718256, 816.8845195547194, 404.94325870369914, 1121.8410354759844, 131.98218051843577, 135.98161023543597, 215.97020457543988, 627.9114654264602, 68.99116247568266, 118.98403393818512, 1234.82492498124, 616.9130337047096, 777.8900798139675, 300.958086061694, 559.9211602374568, 958.8642745082266, 446.9372707322012, 308.9569454956944, 128.9826082306856, 660.9067605917118, 1311.8139470334938, 817.8843769839696, 630.9110377142102, 1051.851015428481, 929.868409059975, 1022.8551499802295, 1028.85429455573, 1882.7325391352717, 814.8848046962194, 940.8668407817256, 836.8816681397205, 853.8792444369712, 585.9174533979581, 644.909041723711, 578.9184513932076, 555.9217305204567, 555.9217305204567, 415.94169042544974, 400.9438289866989, 1915.8104551042625, 286.97245796081444, 149.98608251044467, 95.99145277088286, 22.99871256740114, 17.999209813738005, 10.000005407876994, 2006.8014052209314, 3.000701552748611, 2.000801002015985, 1983.8036925540812, 1.0009004512833586, 1.0009004512833586, 1.0009004512833586, 1.0009004512833586, 1.0009004512833586, 1.0009004512833586, 26.998314770331643, 20.998911465935883, 1996.8023997136052, 48.99612688644941, 19.999010915203257, 153.98568471337518, 1031.898368256621, 21.99881201666851, 42.996723582053654, 560.945208861554, 13.9996076108075, 226.97842491685688, 17.999209813738005, 208.98021500366963, 3598.643081987273, 323.9687783379216, 5373.466559537684, 16.99930926300538, 92.99175111868497, 3575.645369320422, 2533.748995457026, 175.98349682949296, 99.99105497381336, 318.96927558425847, 3289.673811810891, 1566.845162898576, 501.95107636832904, 823.9190537042347, 635.937750166501, 1793.8225879148822, 213.97971775733274, 570.9442143688804, 1759.8259691899727, 984.9030423721875, 1095.892003503509, 912.9102027194384, 1341.8675389837351, 1463.8554061731156, 987.9027440243855, 926.9088104296951, 660.9352639348167, 819.9194515013043, 762.9251201095445, 922.9092082267647, 457.95545213609347, 56.99286203623763, 46.994289724131235, 44.99457526170996, 42.99486079928868, 34.99600294960357, 31.99643125597165, 30.99657402476102, 30.99657402476102, 29.996716793550377, 23.997573406286545, 20.99800171265463, 18.99828725023335, 18.99828725023335, 15.998715556601434, 14.998858325390794, 13.999001094180153, 12.999143862969516, 11.999286631758876, 11.999286631758876, 9.999572169337599, 8.99971493812696, 8.99971493812696, 7.000000475705683, 7.000000475705683, 7.000000475705683, 5.000286013284406, 5.000286013284406, 5.000286013284406, 5.000286013284406, 5.000286013284406, 463.93475513896766, 363.94903201790373, 54.993147573816344, 45.994432492920595, 65.99157711713339, 120.98372483371851, 57.99271926744826, 67.99129157955466, 1779.7468714121683, 146.98001284519515, 57.99271926744826, 155.9787279260909, 111.98500975282278, 372.9477470987995, 171.97644362546112, 1415.7988392514958, 541.9236191733975, 263.9633088968398, 314.9560276885824, 45.994432492920595, 284.96031075226324, 900.8723651780168, 320.95517107584624, 308.9568843013186, 769.8910678894231, 263.9633088968398, 1250.8223961017404, 330.95374338795267, 126.98286822098234, 161.9778713133547, 159.97815685093343, 166.9771574694079, 335.95302954400586, 257.964165509576, 2070.705325694464, 1242.8235382520552, 214.97030456751858, 283.96045352105267, 437.938467127491, 562.9206210288208, 721.8979207913125, 479.93247083833785, 223.96901964841433, 618.9126259766167, 1268.819826263532, 631.910769982355, 297.95845475800155, 280.96088182742074, 324.95460000068886, 309.95674153252924, 304.95745537647605, 197.97290484764383, 133.98198606314676, 48.99404705248657, 38.99546599240891, 35.995891674385604, 27.997026826323477, 14.99887144822251, 12.999155236206976, 6.000148494152608, 400.94410036722047, 186.97446568155837, 144.9804252292322, 3.000574176129308, 326.9546005226457, 285.96041817632727, 94.98751992884385, 93.98766182283607, 165.9774454553953, 2.000716070121541, 2.000716070121541, 182.97503325752731, 399.94424226121265, 278.96141143427286, 1.0008579641137743, 1.0008579641137743, 1.0008579641137743, 1.0008579641137743, 1.0008579641137743, 1.0008579641137743, 1.0008579641137743, 2381.6630083686064, 77.9899321267118, 141.98085091120888, 37.995607886401146, 59.99248621857201, 34.99603356837784, 32.996317356362304, 31.99645925035454, 27.997026826323477, 184.97474946954284, 50.99376326450211, 134.98184416915453, 455.9362961976476, 143.9805671232244, 230.96822234590016, 96.9872361408594, 1469.792415689523, 47.99418894647881, 1131.840375858898, 206.97162780171374, 249.96552636004768, 579.9187013426107, 371.9482152929952, 237.96722908795448, 654.9080592931932, 1488.7897197036707, 319.9555937805913, 343.95218832477775, 282.960843858304, 507.92891771005145, 399.94424226121265, 878.8762750389329, 456.9361543036554, 315.95616135656024, 558.9216811164476, 819.8846467844747, 539.9243771023, 420.9412624873758, 540.9242352083078, 490.93132990791946, 808.8862076183892, 585.9178499786573, 448.93728945559326, 392.9452355191583, 457.9360124096632, 391.94537741315054, 354.95062749086316, 374.9477896110185, 339.9527559007467, 131.9908776773865, 76.99509527985725, 66.99586211667012, 55.99670563716427, 50.997089055570704, 37.99808594342743, 35.998239310790005, 34.998315994471284, 34.998315994471284, 28.998776096559013, 27.9988527802403, 27.9988527802403, 21.999312882328017, 20.999389566009302, 19.999466249690588, 19.999466249690588, 19.999466249690588, 18.999542933371874, 17.999619617053163, 16.99969630073445, 14.999849668097019, 13.999926351778308, 13.999926351778308, 13.999926351778308, 13.000003035459592, 13.000003035459592, 13.000003035459592, 13.000003035459592, 13.000003035459592, 12.000079719140878, 2009.8468657239305, 111.99241135101224, 94.9937149735941, 158.98880721799176, 387.97124665497716, 279.979528492556, 1424.8917256774828, 517.9612777764098, 486.9636549705298, 931.9295307323573, 303.9776880842052, 491.96327155212333, 130.99095436106776, 261.9809087988192, 280.9794518088748, 218.9842061971146, 352.97393058382215, 492.96319486844203, 1261.9042251175326, 149.98949737112332, 566.9575202760269, 508.96196792954146, 392.9708632365707, 2112.838967304758, 1488.8868179218805, 748.9435638460327, 541.959437368059, 2290.825317609489, 392.9708632365707, 274.9799119109625, 1218.9075225158278, 605.9545296124567, 2249.828461640422, 3821.707914893439, 762.9424902744947, 2403.8166523535037, 2606.8010855662023, 2705.793493881755, 577.9566767555326, 1398.8937194531964, 1016.9230126194478, 1900.8552242451906, 523.9608176743221, 1008.9236260888981, 649.95115553048, 1283.9025380765443, 1157.9122002203865, 1117.9152675676378, 1053.9201753232403, 773.9416467540005, 1059.9197152211525, 841.9364322636729, 1104.9162644554947, 710.9464778259215, 888.9328281306525, 1087.9175680780766, 836.9368156820796, 801.9394996109245, 353.97337936388783, 127.99101282752595, 105.99272935938453, 70.99546020552316, 57.99647451980322, 43.99756685825867, 43.99756685825867, 41.997722906609454, 40.99780093078485, 40.99780093078485, 39.997878954960235, 33.99834710001257, 29.998659196714133, 28.998737220889524, 27.998815245064915, 26.998893269240305, 24.999049317591084, 24.999049317591084, 23.99912734176647, 22.99920536594186, 21.999283390117252, 21.999283390117252, 21.999283390117252, 20.999361414292643, 20.999361414292643, 20.999361414292643, 19.999439438468034, 19.999439438468034, 19.999439438468034, 19.999439438468034, 772.9406872343997, 358.97298924301094, 134.99046665829823, 87.99413379454154, 198.9854731110733, 522.960193278247, 256.98094770890066, 338.9745497265187, 243.98196202318076, 919.9292176806173, 109.99241726268296, 99.99319750443686, 256.98094770890066, 64.9959283505755, 884.9319485267558, 52.99686464068017, 152.98906222314122, 192.9859412561256, 124.99124690005213, 564.9569162628807, 185.98648742535335, 227.98321040998695, 74.9951481088216, 161.9883600055627, 100.99311948026147, 191.98601928030104, 123.99132492422751, 179.98695557040568, 134.99046665829823, 584.9553557793729, 232.98282028911004, 577.9559019486005, 201.9852390385471, 567.9566821903545, 244.98188399900536, 780.9400630409964, 952.9266428828295, 300.97751464518353, 885.9318705025805, 830.936161832227, 389.97057049357386, 281.97899710451594, 269.97993339462056, 461.96495275294575, 364.9725210979586, 559.9573063837576, 520.9603493265978, 1696.8685928963396, 720.9447444915198, 838.9355376388239, 1010.9221174806569, 388.9706485177492, 908.9300759465466, 676.948177555237, 825.936551953104, 480.96347029361334, 705.9459148541507, 630.9517666673049, 570.9564481178284, 593.9546535617943, 596.9544194892682, 467.96448460789344, 446.96612311557664], \"Total\": [16073.0, 8026.0, 8104.0, 24672.0, 6858.0, 15034.0, 11669.0, 4897.0, 11704.0, 4881.0, 7458.0, 4729.0, 12057.0, 8347.0, 9587.0, 4305.0, 8010.0, 14126.0, 9010.0, 6567.0, 4381.0, 3433.0, 4796.0, 5996.0, 4468.0, 8862.0, 4991.0, 4559.0, 9115.0, 2686.0, 95.0123913604205, 92.01282101575919, 84.01396676332902, 72.0156853846838, 65.01668791380742, 38.02055481185564, 33.02127090408679, 22.022846306995326, 19.023275962334015, 19.023275962334015, 17.023562399226478, 14.023992054565165, 13.024135273011398, 12.024278491457627, 11.024421709903857, 8.024851365242549, 8.024851365242549, 4.025424239027476, 4.025424239027476, 3.025567457473704, 3.025567457473704, 2.025710675919934, 2.025710675919934, 2.025710675919934, 2.025710675919934, 2.025710675919934, 2.025710675919934, 2.025710675919934, 2.025710675919934, 60.017460250830304, 110.01037615325694, 164.0026109525637, 351.9759837625479, 137.00681189320076, 24.022633876834004, 120.00931710239036, 22.022844566553523, 21.022991048193145, 196.9984186071288, 21.02307490949913, 20.023208617402855, 122.0095213203324, 56.01821126636118, 45.01971436244415, 357.97622315739045, 81.01442554746328, 54.01857082465939, 113.01078828354906, 110.01086711364331, 74.01599563803029, 158.00417738370368, 93.01311986831699, 70.01612896448883, 795.9310921430008, 1411.859867155789, 63.017438990153785, 1565.852094639023, 214.00162450858144, 315.9850973338453, 429.9738824343463, 1204.8809393180331, 1395.8829421037335, 1686.869015204401, 624.9519771072174, 8026.143590948138, 1564.8806534385399, 15034.6808092742, 705.94140040032, 1222.9128144513488, 1113.9045852669756, 16073.503707369617, 11704.925038786352, 1447.8898852770578, 7860.248312288756, 5242.534925513223, 3027.736801011485, 1152.9031651044065, 8347.137902822784, 3066.726169028423, 3388.649566395852, 9115.200306331473, 1310.9087985414392, 4333.562665947185, 6118.427257908969, 1151.918769495171, 5196.52578225633, 9674.154643321031, 4581.572727081502, 4607.609070894438, 7739.2786490413755, 5789.482262044065, 24672.774434357958, 102.01095232173607, 77.01463977052929, 53.01817972137078, 49.0187697131777, 37.02053968859844, 32.02127717835708, 30.021572174260537, 29.021719672212267, 29.021719672212267, 27.022014668115727, 26.022162166067453, 25.022309664019183, 24.022457161970912, 21.022899655826098, 20.023047153777824, 18.02334214968128, 17.02348964763301, 16.023637145584736, 16.023637145584736, 15.023784643536464, 15.023784643536464, 14.023932141488194, 14.023932141488194, 14.023932141488194, 14.023932141488194, 13.02407963943992, 13.02407963943992, 13.02407963943992, 13.02407963943992, 12.02422713739165, 876.8970595087297, 69.01582403364861, 146.00458119481513, 167.00154312930636, 74.01503429346307, 44.01956772723357, 270.9865396939824, 288.98421381811784, 141.0054213264085, 441.9643713097963, 69.01584296317145, 74.01547369556764, 330.97841983868, 1992.737025779333, 51.018489498879575, 44.01945828222471, 443.9640473712012, 56.01769244248584, 198.99791100705178, 110.01069316075686, 108.01113163303941, 86.01352162851659, 2480.723721455686, 61.01737797177381, 445.97094268174897, 77.01483718243793, 1116.8895933727085, 1022.8936716433631, 144.0049268741681, 878.9103434698497, 3774.597034571676, 161.0059847594152, 526.968217339458, 539.9598284448418, 257.9933047698438, 261.99474571393137, 2302.780489321983, 185.00170326858787, 308.9879418115835, 5143.539300943871, 391.9789821993123, 1051.9180749880466, 355.9813744886686, 1664.8234931572526, 2435.758796979706, 2056.8217933182245, 3981.65718597857, 1079.911762306028, 5603.47078352737, 1405.8852294767507, 9587.897212287091, 5837.446784291456, 1164.909034769698, 5355.560147315807, 6319.446713390771, 3275.6691008151083, 10817.99047047179, 7517.317202169242, 2333.7943567475745, 1060.9172988179198, 27.02323099220721, 18.02415303240894, 17.024255481320242, 17.024255481320242, 300.99517723567004, 220.0034191055424, 4.025587317167185, 3.025689766078486, 1323.8908688253803, 633.9608506872456, 1.0258946639010915, 1.0258946639010915, 1.0258946639010915, 1219.8990144300378, 82.01770576600588, 340.9904688143519, 649.9583449886203, 31.02287592852218, 152.01011928880038, 637.9604838261511, 84.0169764484355, 238.00058434308494, 2024.8220379302343, 86.01732030938678, 251.99848025151428, 45.02155084193398, 29.022809531815682, 29.022865607030013, 14.02465205709944, 317.9920447777625, 919.9357769501518, 183.0058446976913, 1881.8358432079415, 407.9824431272362, 67.01870111076529, 646.9571470982203, 121.01253074226125, 4468.500715110284, 4766.528593044366, 3526.6267289951516, 3860.6476800667274, 1429.8861808778047, 724.9464154092273, 4559.4969770131875, 613.9635088108444, 476.981138418701, 3412.6123226124437, 625.963306002342, 4305.415790649912, 1072.9116019408436, 1045.9121687939858, 4282.491607827391, 12057.88489755676, 5289.418687918664, 918.9317732028858, 3388.649566395852, 2666.7034127049815, 4147.625102079119, 3924.549175192207, 2664.7598905589307, 8104.885717821851, 6095.33607467733, 10213.067149693677, 8010.960482704344, 2302.780489321983, 9115.200306331473, 58.017589497306496, 35.02092355173125, 29.021793305059447, 27.022083222835516, 26.022228181723545, 26.022228181723545, 24.02251809949961, 22.02280801727568, 16.02367777060387, 13.024112647267966, 10.024547523932066, 6.025127359484201, 6.025127359484201, 6.025127359484201, 5.025272318372234, 5.025272318372234, 3.0255622361482972, 3.0255622361482972, 2.02570719503633, 2.02570719503633, 70.01592760460699, 1858.7577675961682, 1.0258521539243621, 1.0258521539243621, 1.0258521539243621, 1.0258521539243621, 1.0258521539243621, 1.0258521539243621, 1.0258521539243621, 38.0205187203027, 792.9117212490178, 514.9519563934449, 73.01550215065842, 348.97620067216087, 53.01846951966041, 31.021533432518925, 27.022085610973594, 531.9508940240914, 35.02090796895706, 86.0140085748888, 34.02107503700606, 42.02011526588533, 32.02144294913502, 41.02013526842828, 846.9083650204008, 29.021927174484734, 289.98624804774107, 1481.8383363479588, 218.9939044272598, 245.99249814278883, 6858.230669094193, 8104.885717821851, 558.9570349471271, 509.96391356386874, 2666.7034127049815, 3382.5630092228557, 232.99050815994872, 571.9572139712376, 75.01540476991933, 4991.322377761692, 8010.960482704344, 3412.6123226124437, 61.01734438264577, 5114.376272156951, 4792.361071374651, 2074.767030749387, 4468.500715110284, 2338.7646085801935, 2358.6977981329446, 4282.491607827391, 997.8941953271689, 426.96485790160125, 721.9476970505758, 1008.9110017740611, 4881.422130390901, 2436.7657661749085, 3743.654570524188, 2511.709533832733, 7024.396600101391, 4534.590849607107, 308.97538141243024, 244.98586492318907, 197.9935637514025, 99.00978043210743, 79.01305652921955, 77.01338413893076, 48.018134479743324, 35.020263942866194, 31.02091916228862, 29.021246771999834, 28.021410576855438, 27.021574381711044, 19.02288482055589, 17.0232124302671, 14.023703844833914, 14.023703844833914, 11.024195259400733, 8.02468667396755, 241.98645093089638, 397.9610147212153, 189.99496131142166, 4.025341893389975, 4.025341893389975, 3.0255056982455786, 118.0066891759172, 212.99125035403503, 88.01165911672022, 2.025669503101184, 210.99152700120953, 195.9939947891905, 707.9108725300766, 407.9594040016282, 206.99231108898522, 223.98970020008753, 120.00660669591292, 57.01670016667748, 147.00208227369302, 227.98932632834715, 241.98758958640073, 223.99092461501434, 161.99998486393963, 179.99685843597155, 883.8888654705767, 224.9901973392616, 229.98915235453381, 537.945125711558, 245.98698580142366, 403.96230701458666, 409.9609624757612, 340.9750431831286, 463.95352297667455, 398.96999290263744, 2574.6400973725677, 1878.8003434475493, 348.9759783167778, 3568.6353422915463, 1520.8045578273504, 1667.8201302497903, 1280.8807749710543, 2367.747717526155, 1103.8769090955568, 826.9167502292038, 1972.7783590522465, 2289.720740381084, 832.9050050823548, 7540.300112614232, 1051.9045539086221, 6319.446713390771, 4002.590705240928, 14126.666592483267, 5521.4041718348735, 7739.2786490413755, 5603.47078352737, 1839.8267345538286, 11872.816836433007, 5997.474031644846, 10817.99047047179, 435.99326095480296, 410.9951380280834, 350.9996430039562, 337.00069416499315, 225.00910345328924, 143.0152602536488, 134.0159360000297, 93.01901440020947, 82.01984031245283, 81.01991539538405, 76.02029081004011, 74.02044097590253, 70.02074130762739, 70.02074130762739, 65.02111672228347, 64.02119180521468, 62.02134197107712, 61.02141705400833, 60.02149213693955, 58.02164230280198, 56.02179246866441, 55.02186755159562, 52.02209280038927, 50.02224296625169, 47.02246821504533, 45.02261838090776, 43.02276854677019, 40.022993795563835, 38.023143961426264, 35.023369210219904, 1283.9295737449424, 1951.8789956212986, 528.9862899846324, 2333.8490836209753, 360.99862143121146, 513.9867965016813, 120.01700440960924, 2118.864864522301, 339.9999620110559, 2716.8172379359844, 505.98721589295656, 636.9769766080651, 153.0145062228365, 948.953973618972, 140.01529270148, 1437.9146701017994, 453.9915840838094, 389.99618891318113, 1047.942075499037, 1624.902416366154, 810.9624178697651, 864.9560923841093, 189.01134014946894, 1161.9396973501975, 325.0015473587073, 384.99708420785186, 933.9502882541484, 408.9936575364177, 1403.9164721335426, 6319.446713390771, 4147.625102079119, 1291.8959373684902, 5997.474031644846, 6858.230669094193, 7540.300112614232, 12057.88489755676, 990.9391284307457, 3184.716479091711, 5837.446784291456, 1718.8620831974295, 2511.709533832733, 5789.482262044065, 1324.9178578749306, 3927.612461564553, 2362.789413307755, 3275.6691008151083, 4063.6650598349092, 149.00044608436104, 4.025311179162696, 792.8903328539561, 3.025482662575119, 2.025654145987544, 1121.8348033742648, 151.0004440646075, 1.0258256293999697, 1.0258256293999697, 70.01418607490504, 157.99931486009848, 75.01322259486793, 824.8861993055274, 2686.576499088578, 23.022139732314038, 3433.479000866739, 31.020877257686724, 6.024975890894665, 16.02340760401975, 470.95400086935024, 1452.7932108046027, 517.9488825013779, 30.021335912269627, 24.022349044038386, 47.01898135635881, 25.022343963464547, 3.0255115752375934, 3.0255392323350536, 100.0120612816367, 240.99216773596876, 2838.6300289601927, 168.99957163078983, 226.99197993671635, 1657.7869069409942, 4305.415790649912, 238.99354294567053, 297.9848090666346, 1417.8291963420154, 84.01276843535149, 2511.709533832733, 9587.897212287091, 4078.4807106975463, 77.01353557673863, 218.99699813584633, 4792.361071374651, 1040.894743605473, 4991.322377761692, 344.97255987019093, 8104.885717821851, 8010.960482704344, 5289.418687918664, 673.9383638249087, 1083.897388056053, 3382.5630092228557, 4881.422130390901, 3924.549175192207, 3801.6242498105985, 790.9431791598695, 3937.568154662121, 5114.376272156951, 2074.767030749387, 11872.816836433007, 181.0134697923804, 132.01686116642, 100.01907594130299, 64.02156756304637, 63.02163677476146, 53.0223288919124, 49.02260573877278, 47.02274416220297, 44.022951797348256, 43.02302100906334, 40.02322864420863, 36.023505491069, 29.023989973074666, 29.023989973074666, 28.024059184789756, 28.024059184789756, 24.024336031650137, 24.024336031650137, 22.024474455080327, 21.02454366679542, 21.02454366679542, 20.024612878510514, 20.024612878510514, 19.024682090225607, 19.024682090225607, 18.0247513019407, 17.024820513655797, 17.024820513655797, 15.02495893708598, 14.025028148801074, 117.01783488447293, 77.02066033878397, 69.02114321823427, 160.01474367294537, 45.02284909883006, 212.01042621110452, 216.01053438364355, 40.023205888801385, 262.00674860213724, 214.01037314233798, 50.022559281710556, 80.02037844552034, 60.02176302163595, 226.00942960765528, 224.01021953436924, 1005.9535339407882, 147.0154989814747, 2276.8546063447693, 639.9750061816, 1177.9296234013088, 1389.9236345548888, 1597.8980385562413, 111.01786858845196, 339.0003436792133, 162.014096522929, 2435.8220103976396, 820.963393481854, 385.9969558423952, 596.973096791916, 896.9576402367239, 745.9701265940697, 238.00803355573703, 169.01166051749362, 4387.654383761935, 1955.872313176675, 683.9682535951182, 434.9877224378791, 1301.926439321976, 931.9522485480313, 5355.560147315807, 16073.503707369617, 5143.539300943871, 3981.65718597857, 9674.154643321031, 4230.687921473626, 3568.6353422915463, 7739.2786490413755, 1882.8566058735787, 11704.925038786352, 5837.446784291456, 4924.537880787168, 7517.317202169242, 3941.6962691275244, 2017.839420107104, 7458.2683914842355, 3183.7430859099563, 4063.6650598349092, 9587.897212287091, 3907.6690155729925, 4223.611983317278, 10817.99047047179, 14126.666592483267, 108.01679510766368, 68.02020325771875, 65.02045886897288, 63.020629276475645, 54.02139611023804, 45.022162944000435, 42.02241855525456, 40.02258896275732, 40.02258896275732, 38.02275937026007, 32.023270592768334, 29.023526204022463, 27.023696611525217, 26.023781815276593, 22.0241226302821, 22.0241226302821, 22.0241226302821, 22.0241226302821, 19.02437824153623, 18.02446344528761, 18.02446344528761, 17.024548649038984, 17.024548649038984, 17.024548649038984, 16.02463385279036, 16.02463385279036, 16.02463385279036, 15.024719056541738, 14.024804260293115, 14.024804260293115, 377.99357861632456, 163.01198431293724, 313.99884037765355, 136.01437441309147, 203.00845157448148, 75.0196228234954, 176.01078540561718, 150.01296737330446, 160.01230667719742, 137.0143881670189, 148.01310449789227, 146.01324589410962, 152.0129281614662, 214.00760335565167, 212.00796508922332, 168.01170677727092, 1128.931226800516, 169.01130057981857, 219.0068674878758, 208.0075491570548, 653.9697843937303, 249.00505737316593, 233.00602063344928, 234.0056833068776, 384.992469323512, 494.9851418315212, 1162.931542840483, 586.9739573876628, 260.00248781769534, 238.00436243673101, 7458.2683914842355, 353.9956426019034, 3569.671421929946, 735.9603646828901, 2995.6952764694247, 550.9810978279866, 1126.9108770606995, 665.96961524878, 455.98440393185456, 11704.925038786352, 2835.738217960423, 11669.050564779616, 6678.355682723541, 4924.537880787168, 14126.666592483267, 16073.503707369617, 773.9431953640858, 7517.317202169242, 3041.723050161318, 2188.7817223622283, 2856.752097336106, 4387.654383761935, 6275.396543310812, 1376.8990532442494, 4230.687921473626, 1986.775081031919, 3317.699957692141, 3066.726169028423, 8862.262109706677, 3941.6962691275244, 3774.597034571676, 9587.897212287091, 3463.7047017532204, 24672.774434357958, 97.0145702981555, 55.019517991099725, 46.02057821101634, 44.02081381544226, 43.02093161765522, 39.02140282650705, 35.02187403535888, 35.02187403535888, 31.022345244210708, 28.02269865084958, 26.022934255275494, 26.022934255275494, 24.02316985970141, 24.02316985970141, 22.023405464127325, 22.023405464127325, 21.023523266340284, 21.023523266340284, 20.02364106855324, 20.02364106855324, 19.023758870766198, 17.02399447519211, 16.02411227740507, 16.02411227740507, 15.024230079618032, 15.024230079618032, 13.024465684043946, 13.024465684043946, 13.024465684043946, 13.024465684043946, 170.00594037656947, 76.01724597375483, 84.01625586971628, 46.02058398813728, 78.01700743038955, 159.00685622831602, 36.021820413501935, 178.00472107556868, 41.02128655619384, 117.01221541551821, 67.01810885571466, 232.99983748848433, 61.019071965514634, 55.0197964373627, 143.0094703757189, 162.0077710482506, 102.01323889362145, 202.0030949798969, 865.9255363666588, 75.0171818714571, 299.99133112917974, 388.9857631475895, 183.00477511799662, 3980.608744557299, 4470.581109185511, 344.9892436158326, 730.9458526658885, 325.98621136614986, 218.00027951824543, 398.97937561956246, 263.9962214211795, 14126.666592483267, 2469.784717423396, 432.9833741999694, 519.9689241622266, 415.98564400044734, 959.9319745390512, 1298.9158968370493, 2835.738217960423, 11872.816836433007, 1140.9119198133221, 2952.737778391745, 7629.2982584802585, 5603.47078352737, 1571.8978946637592, 1701.853119990747, 1358.8904767518393, 5143.539300943871, 10213.067149693677, 1781.8429758728626, 7024.396600101391, 7540.300112614232, 2071.8196646953957, 7739.2786490413755, 2856.752097336106, 6275.396543310812, 5114.376272156951, 11669.050564779616, 1524.8979373285185, 5997.474031644846, 3317.699957692141, 3183.7430859099563, 89.01576979774072, 43.021055825755305, 39.02151548036527, 31.022434789585184, 26.023009357847638, 24.023239185152615, 22.0234690124576, 21.02358392611009, 16.024158494372543, 16.024158494372543, 16.024158494372543, 15.024273408025035, 15.024273408025035, 14.024388321677526, 14.024388321677526, 13.024503235330016, 10.024847976287488, 10.024847976287488, 10.024847976287488, 9.024962889939978, 9.024962889939978, 9.024962889939978, 9.024962889939978, 8.02507780359247, 8.02507780359247, 8.02507780359247, 8.02507780359247, 8.02507780359247, 8.02507780359247, 8.02507780359247, 98.01477380483952, 47.0205691908056, 307.99113456780714, 163.00743501188984, 57.019393073940954, 54.01986555453211, 26.023027930361433, 114.01322269071316, 55.019565441377935, 355.9869148595173, 68.01828984833303, 52.020255712921674, 85.01636656450376, 65.01875124538448, 1266.8889249542203, 242.99846705474445, 200.0030513814188, 2014.7978335331638, 770.9480051769606, 156.00884302461589, 154.00841222189524, 61.01876612323079, 368.9870517415636, 324.9919655201637, 479.97094085456087, 501.9771741766698, 100.01498319007933, 234.99927367323872, 906.9125930460332, 94.01591490623476, 3801.6242498105985, 1089.9172977116455, 3358.662509894922, 278.9941818693478, 3937.568154662121, 793.9298558009591, 2613.7445415376496, 1358.8904767518393, 311.9930515951106, 633.9638408477326, 4881.422130390901, 3936.682741964397, 1750.8264182428995, 1993.818278226446, 1350.8865257776206, 1076.8985470107848, 6095.33607467733, 5789.482262044065, 14126.666592483267, 4709.534108759019, 3041.723050161318, 8862.262109706677, 5521.4041718348735, 3388.649566395852, 4410.577775089811, 6444.5125214290665, 9010.160373714458, 2469.793834087323, 2189.8134800714415, 2293.8083604783487, 6275.396543310812, 4796.542179545086, 187.99935832221945, 167.00233393180696, 104.01126076056947, 94.01267771751591, 90.01324450029449, 80.01466145724092, 70.01607841418735, 56.01806215391236, 52.01862893669094, 47.01933741516415, 41.02018758933202, 40.02032928502666, 40.02032928502666, 29.02188793766774, 27.02217132905702, 26.022313024751664, 25.02245472044631, 25.02245472044631, 19.02330489461417, 19.02330489461417, 17.023588286003456, 17.023588286003456, 16.023729981698096, 15.023871677392743, 14.024013373087387, 13.02415506878203, 12.024296764476672, 10.024580155865959, 7.025005242949894, 207.99649462060884, 288.98537422711695, 119.00918311211318, 230.99345576610236, 117.00941521631788, 69.01631956702664, 115.01002716799519, 297.9851023148512, 195.9989591983465, 86.01402711280456, 319.98148403780334, 170.00282626822263, 103.01152206604546, 93.0134498758867, 479.96122939930035, 100.01216205209164, 112.01054493844285, 181.00155343652415, 186.0017393013962, 127.00935587254577, 377.9780979766265, 1101.9050549041121, 546.9573879199264, 261.99464246604117, 149.00640745184248, 6095.33607467733, 839.9309973664041, 4078.4807106975463, 1220.8758625388282, 5837.446784291456, 5156.467437405952, 4709.534108759019, 3382.5630092228557, 8010.960482704344, 4991.322377761692, 1076.8985470107848, 4282.491607827391, 4792.361071374651, 11872.816836433007, 8104.885717821851, 5996.411861772584, 5114.376272156951, 2307.747202668967, 3937.568154662121, 10213.067149693677, 1452.883317504785, 4410.577775089811, 5132.58077266354, 4881.422130390901, 1993.818278226446, 3358.662509894922, 9587.897212287091, 246.0117698532027, 198.01454590385825, 140.0179002984004, 120.0190569861735, 115.01934615811679, 61.0224692151043, 59.02258488388161, 53.022931890213556, 43.02351023410013, 42.023568068488785, 40.02368373726611, 32.024146412375366, 23.024666921873276, 22.024724756261932, 20.024840425039248, 16.025071762593875, 11.02536093453716, 10.025418768925817, 10.025418768925817, 7.025592272091795, 6.0256501064804535, 6.0256501064804535, 5.02570794086911, 5.02570794086911, 132.01827891390607, 3.0258236096464226, 3.0258236096464226, 260.0108713772762, 2.02588144403508, 2.02588144403508, 298.00860843799234, 213.01333989730128, 225.01265417620283, 72.02174830046776, 105.0197924223387, 154.01687132496818, 58.022598103747626, 56.022713522918046, 78.02131830788514, 336.00526955902643, 3127.8254403385095, 76.02133270858522, 173.015284236233, 791.9746038187926, 139.0174179405354, 187.01464527628403, 670.9825667207035, 4252.726846013381, 773.9741293922185, 145.0170486758191, 98.02009116071939, 86.02078348409066, 913.9653725509168, 215.0120139004362, 609.9848325049268, 787.967685610148, 252.00806128164828, 280.0071660763924, 705.9726478672798, 1410.9139175106902, 5132.58077266354, 1554.9042555002777, 1255.9252058819595, 1571.8978946637592, 1621.8954442361978, 666.9774070145314, 6444.5125214290665, 7024.396600101391, 11669.050564779616, 4010.6715730445794, 601.975663955116, 15034.6808092742, 832.9633656643783, 4709.534108759019, 24672.774434357958, 11872.816836433007, 3941.6962691275244, 4230.687921473626, 3881.639800044007, 1906.8691726839966, 8862.262109706677, 3936.682741964397, 4063.6650598349092, 5143.539300943871, 14126.666592483267, 5355.560147315807, 5196.52578225633, 9115.200306331473, 10213.067149693677, 9674.154643321031, 95.0162407535834, 91.01665154765621, 64.0194244076476, 60.019835201720404, 55.02034869431141, 32.022710760230005, 28.023121554302797, 27.023224252821, 23.0236350468938, 12.024764730593995, 12.024764730593995, 7.025278223184999, 7.025278223184999, 6.0253809217031975, 699.9539999483301, 173.0082151654691, 4.025586318739598, 4.025586318739598, 3.0256890172577955, 3.0256890172577955, 3.0256890172577955, 3.0256890172577955, 2.0257917157759957, 2.0257917157759957, 2.0257917157759957, 2.0257917157759957, 2.0257917157759957, 83.01750848938886, 167.00871206197243, 1.0258944142941953, 481.976339306856, 188.00649480550865, 148.01106691689608, 392.98514005369094, 65.01950116564755, 208.00392637417426, 138.01104908984638, 1155.9092784198235, 142.01198319888084, 122.01357733998442, 115.0142436041816, 109.01486476232927, 316.99265511040113, 203.0055318068263, 107.0151331073847, 145.01164316466455, 94.01680088624687, 2488.8003925778007, 276.99574936990507, 308.9910216764462, 187.00715599863986, 268.99763200256854, 1003.9295538686621, 5156.467437405952, 630.9528150333146, 1057.911242648276, 16073.503707369617, 392.9862366804607, 876.942321331198, 444.9827876243664, 480.9751131986111, 11704.925038786352, 1649.8765554973568, 550.9754303487827, 280.99786790269366, 2839.7526516289686, 670.9550889616385, 1036.933230140612, 1458.8949854323025, 5132.58077266354, 3041.723050161318, 15034.6808092742, 24672.774434357958, 4881.422130390901, 1621.8954442361978, 944.9395535345766, 5603.47078352737, 3388.649566395852, 2014.7978335331638, 2856.752097336106, 4709.534108759019, 2333.7943567475745, 2860.73663949541, 6275.396543310812, 7629.2982584802585, 7517.317202169242, 6095.33607467733, 5355.560147315807, 121.01486909101122, 87.01799597317024, 86.01808794029256, 70.01955941424973, 54.021030888206916, 44.021950559430145, 41.02222646079712, 40.022318427919444, 37.02259432928642, 37.02259432928642, 35.02277826353106, 35.02277826353106, 30.02323809914268, 25.0236979347543, 23.02388186899895, 21.024065803243595, 19.02424973748824, 18.024341704610567, 16.024525638855213, 16.024525638855213, 15.024617605977538, 13.024801540222187, 13.024801540222187, 12.02489350734451, 11.024985474466833, 11.024985474466833, 10.025077441589156, 10.025077441589156, 9.02516940871148, 7.025353342956131, 179.0094837465926, 91.01766223741458, 81.01849804733185, 69.01960165279974, 129.01410190866574, 144.01244963585864, 89.01766225831585, 83.01828633638762, 42.0220549773847, 122.01473023028046, 35.02276879010156, 45.02179477811049, 30.02324486251363, 209.00729187328332, 118.01481675890581, 92.01783160385258, 84.01856734083117, 62.02045976856641, 1312.9123603864145, 570.973615146631, 11669.050564779616, 481.98166883834074, 908.9438638432746, 2932.7643895329866, 166.0102217668316, 139.0130360359563, 3463.7047017532204, 485.97671869623696, 906.9368750524699, 409.9898406795366, 3936.682741964397, 24672.774434357958, 391.987001534867, 1934.8619898473116, 5216.577911279996, 3183.7430859099563, 6678.355682723541, 1084.924963389693, 504.982224015631, 14126.666592483267, 2230.859543700551, 776.9602655602766, 359.9896287268007, 11872.816836433007, 7024.396600101391, 1481.8891443361897, 5521.4041718348735, 2469.784717423396, 4924.537880787168, 15034.6808092742, 3030.76080864476, 8862.262109706677, 987.9209783650243, 2369.8059587142125, 7739.2786490413755, 10213.067149693677, 4387.654383761935, 10817.99047047179, 5789.482262044065, 7629.2982584802585, 3801.6242498105985, 5603.47078352737, 9674.154643321031, 415.9979816214497, 49.022697211185545, 43.0231012807725, 31.023909419946424, 29.02404410980874, 21.024582869258023, 19.024717559120347, 17.02485224898267, 15.02498693884499, 12.025188973638471, 9.025391008431953, 8.025458353363113, 8.025458353363113, 5.025660388156595, 4.025727733087756, 3.025795078018914, 3.025795078018914, 3.025795078018914, 2.0258624229500746, 2.0258624229500746, 2.0258624229500746, 2.0258624229500746, 2.0258624229500746, 79.02060251248724, 1.0259297678812347, 1.0259297678812347, 1.0259297678812347, 1.0259297678812347, 1.0259297678812347, 1.0259297678812347, 37.02343099959598, 2296.866814711691, 34.02363151163787, 56.02220443817896, 332.00289316241276, 27.0240986466505, 371.00021410046406, 81.02020887316398, 67.02125536697366, 40.023284638065725, 69.02109802615334, 248.0080895646642, 117.01757322067513, 117.01757322067513, 184.012596499843, 99.01909027670219, 526.9859521133369, 1255.9217235247122, 121.01679034825814, 2371.849761260905, 387.99837117092966, 857.9522345421306, 620.9781153326481, 1389.9208908948199, 956.9489708846285, 1388.909996545307, 1119.9285883192001, 1586.8897962220813, 430.99421837025926, 1222.9128144513488, 1310.9087985414392, 1686.869015204401, 1564.8806534385399, 444.99265483324757, 1605.9041539767425, 1151.918769495171, 1129.9291607393618, 1447.8898852770578, 772.9646879345091, 1289.912806686867, 1052.9284906854027, 15034.6808092742, 1066.9309700157244, 829.9492504678719, 11704.925038786352, 12057.88489755676, 16073.503707369617, 24672.774434357958, 9115.200306331473, 2299.80199114906, 9587.897212287091, 9674.154643321031, 3027.736801011485, 3743.654570524188, 4607.609070894438, 6095.33607467733, 7629.2982584802585, 5196.52578225633, 10213.067149693677, 10817.99047047179, 7517.317202169242, 6118.427257908969, 156.01242922271132, 113.01616908985454, 98.01747369467196, 86.0185173785259, 85.01860435218039, 42.022344219323635, 38.02269211394161, 34.02304000855959, 30.023387903177568, 28.02356185048656, 27.023648824141052, 23.023996718759026, 22.02408369241352, 21.024170666068017, 20.02425763972251, 20.02425763972251, 19.024344613377004, 18.024431587031497, 16.024605534340488, 12.024953428958463, 9.025214349921946, 649.9694455024228, 7.025388297230937, 7.025388297230937, 6.0254752708854316, 6.0254752708854316, 5.025562244539926, 4.02564921819442, 3.025736191848913, 3.025736191848913, 104.01694248526078, 71.01980650808649, 223.00647198182207, 177.01047228100657, 1061.9325516174176, 256.0036667285131, 429.9889441784255, 127.01493637379272, 230.0054484635424, 181.00988454869528, 527.9778600788343, 59.02075321744131, 188.00967084441115, 112.01610464682258, 52.0213650386984, 67.02004169891256, 52.02129290988699, 377.9905136010225, 231.00518995242183, 197.00851294452053, 6774.398312477271, 122.01481996815336, 130.0131132204525, 948.9378669643693, 3136.7191025153584, 501.97532155097355, 2025.836155693894, 24672.774434357958, 223.0057987260169, 9115.200306331473, 475.9872211559101, 2221.8148278570206, 1246.913099162442, 470.9871166068681, 5242.534925513223, 6118.427257908969, 3935.64160048488, 7860.248312288756, 4581.572727081502, 10817.99047047179, 10213.067149693677, 1223.9054847885243, 7629.2982584802585, 3415.6830352777824, 2199.8199208602014, 1866.8304052517938, 4534.590849607107, 1319.9165292853236, 6678.355682723541, 5196.52578225633, 2930.723625108669, 5789.482262044065, 2990.765896890008, 7739.2786490413755, 135.00927409297853, 33.02190926351965, 23.023148005729578, 16.02401512527652, 10.024758370602473, 9.024882244823466, 9.024882244823466, 8.025006119044459, 7.025129993265454, 6.025253867486445, 6.025253867486445, 6.025253867486445, 6.025253867486445, 5.0253777417074375, 5.0253777417074375, 4.025501615928429, 4.025501615928429, 3.025625490149419, 3.025625490149419, 3.025625490149419, 3.025625490149419, 2.0257493643704114, 2.0257493643704114, 2.0257493643704114, 2.0257493643704114, 2.0257493643704114, 2.0257493643704114, 2.0257493643704114, 2.0257493643704114, 47.02021369489538, 91.01468587025165, 107.01280609827464, 117.0114290428405, 39.02121320873341, 87.0152558978601, 63.01830904829874, 93.01460536211827, 229.9978341890899, 50.01982768979493, 74.01692002614399, 55.01924675463734, 266.9936348335525, 171.00613225322235, 26.022794599090705, 97.013682657745, 60.018929859298176, 157.00746243886783, 571.965881578306, 205.0019002333567, 48.020327956851325, 1143.9067388950718, 368.98311546999577, 227.9996518501936, 136.0105677363169, 197.00202477923295, 320.99078787479533, 126.01030312689751, 64.01848824125788, 194.00304700152907, 734.9521269434391, 1993.809067994466, 354.9857795588699, 240.998325474623, 2613.7445415376496, 449.9803150420933, 2860.73663949541, 1177.911038201356, 967.9250228539688, 3270.6774200499767, 15034.6808092742, 1331.8928599983751, 4223.611983317278, 24672.774434357958, 2640.7797142593563, 770.9413513516774, 10817.99047047179, 11872.816836433007, 7629.2982584802585, 9010.160373714458, 7024.396600101391, 5132.58077266354, 1323.915464381988, 4252.726846013381, 7540.300112614232, 4294.578915197317, 2930.723625108669, 3881.639800044007, 9587.897212287091, 5289.418687918664, 4333.562665947185, 12057.88489755676, 9674.154643321031, 6319.446713390771, 5996.411861772584, 168.00981180151177, 141.01241301225653, 140.01250935339522, 130.01347276478216, 99.01645934008164, 89.01742275146859, 74.018867868549, 63.01992762107464, 57.020505667906804, 55.02069835018419, 35.02262517295808, 31.023010537512867, 27.02339590206764, 23.02378126662242, 22.02387760776112, 20.024070290038505, 16.024455654593282, 13.024744678009364, 12.02484101914806, 12.02484101914806, 11.024937360286753, 11.024937360286753, 9.025130042564143, 7.025322724841534, 7.025322724841534, 7.025322724841534, 7.025322724841534, 4.025611748257618, 4.025611748257618, 3.0257080893963124, 555.9725413414781, 153.01115614927372, 117.01449081304744, 479.9793113940346, 71.01897468055091, 94.0166323119162, 186.00872876718165, 129.01338415160808, 112.0145175720631, 100.01627399562986, 59.02025448833579, 52.02075892110536, 271.9994703041196, 116.01445235520669, 646.9656498050566, 115.0147589473749, 508.97508513497013, 130.01406418707163, 59.020134396229224, 2469.793834087323, 140.01248116178928, 391.9873843536271, 499.9782124505627, 899.9286388878904, 1750.8264182428995, 9674.154643321031, 7629.2982584802585, 10817.99047047179, 5521.4041718348735, 11872.816836433007, 2293.8083604783487, 595.9588270011837, 5143.539300943871, 1013.9437346029024, 3935.64160048488, 4387.654383761935, 4534.590849607107, 3317.699957692141, 3907.6690155729925, 7739.2786490413755, 6774.398312477271, 3937.568154662121, 9115.200306331473, 7860.248312288756, 14126.666592483267, 6444.5125214290665, 6275.396543310812, 9587.897212287091, 24672.774434357958, 5196.52578225633, 4581.572727081502, 9010.160373714458, 2164.806378318104, 214.00428883472117, 184.00733205127602, 166.00915798120892, 147.01108535169368, 122.01362136548934, 71.01879483363258, 63.019606358047206, 56.02031644191, 50.020925085220966, 46.02133084742829, 44.02153372853195, 41.02183805018743, 38.02214237184292, 36.02234525294657, 33.022649574602056, 31.022852455705713, 2204.8022879727087, 25.023461099016682, 23.02366398012034, 22.02376542067217, 21.023866861223997, 487.9764136132345, 2516.771089962686, 4897.528694133377, 2.0257942317087387, 62.01970679023956, 1.0258956722605663, 1.0258956722605663, 1.0258956722605663, 4881.529310866132, 2527.7673810307783, 4729.542875075525, 112.01463073914213, 65.01946793461701, 63.01960258414809, 279.99885068293304, 3526.6735489118223, 4002.590705240928, 4381.584604957441, 351.9899337843291, 1093.9154677346087, 8347.137902822784, 6567.367248856806, 583.9629362941815, 476.9764460639568, 340.9897798172124, 1121.9130861267527, 342.9927705278605, 289.99494722266064, 1089.9139313680996, 14126.666592483267, 1639.866848281741, 1064.914740018348, 2096.805006347718, 4294.578915197317, 6275.396543310812, 1565.852094639023, 7517.317202169242, 7540.300112614232, 8862.262109706677, 5789.482262044065, 1422.8909391320972, 9010.160373714458, 141.00589463706936, 136.00660749081914, 124.0083183398185, 65.0167300140656, 51.0187260045649, 43.0198665705645, 42.02000914131445, 23.022717985563524, 22.022860556313475, 22.022860556313475, 19.023288268563327, 16.023715980813183, 15.023858551563132, 14.024001122313084, 11.024428834562935, 11.024428834562935, 8.024856546812789, 205.9966462348515, 352.9756648618036, 328.97912872913645, 4.025426829812592, 3.0255694005625426, 3.0255694005625426, 183.0000416412089, 2.025711971312494, 2.025711971312494, 2.025711971312494, 45.019582304119915, 1.0258545420624439, 38.02057922627485, 199.99759514199602, 94.01267843360941, 137.00657709924292, 53.01843608678883, 247.99189174061982, 26.02229114836898, 36.02090195887208, 73.01570162723975, 994.8899698488258, 529.9544545997844, 1614.804307777518, 160.0046500258177, 167.0022149242852, 277.9869763711104, 936.9012678360139, 81.01501244207043, 153.00507796347526, 2358.6977981329446, 1139.8774650249181, 1514.8419285835864, 500.96389755789187, 1090.8912342465007, 2307.747202668967, 884.9177925167108, 558.9595644912354, 178.0019717699103, 1665.8480328508963, 4559.4969770131875, 2391.778101748397, 1709.8236954281786, 3927.612461564553, 3275.6691008151083, 3881.639800044007, 3924.549175192207, 12057.88489755676, 3526.6267289951516, 4881.422130390901, 5114.376272156951, 6678.355682723541, 3184.716479091711, 4147.625102079119, 4709.534108759019, 4282.491607827391, 8026.143590948138, 2362.789413307755, 3774.597034571676, 1915.8354523165242, 286.9974551730761, 150.01107972270637, 96.01644998314451, 23.0237097796628, 18.024207025999665, 10.025002620138658, 2013.8257280452221, 3.0256987650102736, 2.0257982142776476, 2014.8256002366804, 1.0258976635450208, 1.0258976635450208, 1.0258976635450208, 1.0258976635450208, 1.0258976635450208, 1.0258976635450208, 28.023169213803943, 22.02378480397655, 2135.815430298639, 53.020892761156446, 22.02376989233399, 172.0089090864244, 1158.9079570401777, 25.023429496402187, 49.0208674008633, 640.9582686898783, 16.024448774718383, 263.00010256468215, 21.023871125276045, 249.00107103806937, 4796.542179545086, 412.98342066393883, 8026.143590948138, 20.02409884012176, 123.01396294508565, 5996.411861772584, 4294.578915197317, 257.0003576951702, 140.01270554660903, 529.9761163237681, 9010.160373714458, 4381.584604957441, 1121.9130861267527, 2172.8168048559255, 1664.8234931572526, 6567.367248856806, 425.98360460058603, 1552.8634695397855, 8347.137902822784, 3980.608744557299, 5216.577911279996, 4358.649411200148, 10213.067149693677, 16073.503707369617, 7860.248312288756, 7629.2982584802585, 4333.562665947185, 11669.050564779616, 11704.925038786352, 24672.774434357958, 3066.726169028423, 57.017859291818816, 47.01928697971242, 45.019572517291145, 43.019858054869864, 35.021000205184755, 32.021428511552834, 31.021571280342204, 31.021571280342204, 30.02171404913156, 24.02257066186773, 21.022998968235814, 19.023284505814534, 19.023284505814534, 16.023712812182616, 15.023855580971977, 14.023998349761337, 13.0241411185507, 12.02428388734006, 12.02428388734006, 10.024569424918782, 9.024712193708144, 9.024712193708144, 7.024997731286867, 7.024997731286867, 7.024997731286867, 5.02528326886559, 5.02528326886559, 5.02528326886559, 5.02528326886559, 5.02528326886559, 471.95881774328103, 370.9735042825062, 56.01805962564615, 47.019328307949955, 68.0164183243638, 126.00819415399496, 60.017486695724465, 71.0159902160351, 2008.7498456344233, 157.00431798362538, 61.017225108462625, 175.0019456121603, 125.00910725610773, 443.9649508785588, 196.99866626042908, 1986.775081031919, 710.9307858706434, 339.98254718299904, 418.9703032533902, 51.018721270028564, 405.9769333903181, 1536.8345206358183, 476.9662135344572, 479.9697547049127, 1472.8437187015682, 420.97642840088844, 2995.6952764694247, 573.9560935908977, 172.0013262266138, 234.99533706237835, 232.99695171748564, 247.99526066307726, 630.9506250753589, 443.96582658969004, 7458.2683914842355, 4924.537880787168, 379.9803580925987, 596.9563520439121, 1174.9014954926945, 1972.7783590522465, 3569.671421929946, 1722.838880766636, 428.9736024049509, 3415.6830352777824, 24672.774434357958, 9674.154643321031, 1002.9242033870394, 1057.911242648276, 2480.723721455686, 1882.8566058735787, 2835.738217960423, 197.99790210235022, 134.00698331785316, 49.019044307192964, 39.0204632471153, 36.020888929091996, 28.022024081029866, 15.023868702928896, 13.024152490913362, 6.0251457488589955, 402.96886201750095, 187.9993451340518, 146.0053261427999, 3.0255714308356954, 329.97925303639465, 288.98506202439484, 96.01242084241153, 95.01251585909623, 168.00225877585703, 2.0257133248279287, 2.0257133248279287, 185.99967061461496, 406.9683405948174, 284.98571920706434, 1.0258552188201613, 1.0258552188201613, 1.0258552188201613, 1.0258552188201613, 1.0258552188201613, 1.0258552188201613, 1.0258552188201613, 2445.681978062827, 80.0147366991408, 147.00538833030365, 39.020535929392445, 62.017247868852486, 36.0208833251325, 34.0212276374142, 33.021369531406435, 29.02193710737537, 197.99861766617636, 54.01833221284041, 151.00537096796938, 559.9519238344986, 168.00287122095588, 281.9868090581921, 110.0104832772747, 2574.6400973725677, 52.01895486363057, 2289.720740381084, 306.9802445708596, 391.9729991325411, 1161.89597918226, 664.9521318655429, 389.97824673069863, 1520.8045578273504, 5521.4041718348735, 614.95562088728, 832.9050050823548, 620.9584343938466, 1866.8304052517938, 1194.8780449412998, 6118.427257908969, 1770.8319369870599, 926.8958337296141, 3935.64160048488, 10817.99047047179, 4581.572727081502, 2299.80199114906, 5196.52578225633, 4010.6715730445794, 24672.774434357958, 9115.200306331473, 4063.6650598349092, 3136.7191025153584, 7517.317202169242, 4534.590849607107, 2332.8059866802887, 11872.816836433007, 2033.8374582619217, 132.01587486688257, 77.02009246935333, 67.0208593061662, 56.021702826660345, 51.02208624506678, 38.0230831329235, 36.02323650028608, 35.02331318396736, 35.02331318396736, 29.02377328605509, 28.023849969736375, 28.023849969736375, 22.024310071824093, 21.02438675550538, 20.024463439186665, 20.024463439186665, 20.024463439186665, 19.02454012286795, 18.02461680654924, 17.024693490230526, 15.024846857593094, 14.024923541274383, 14.024923541274383, 14.024923541274383, 13.025000224955667, 13.025000224955667, 13.025000224955667, 13.025000224955667, 13.025000224955667, 12.025076908636953, 2082.865322013983, 113.01728466628731, 96.01858828886917, 162.01352850612085, 398.99517683963785, 289.00368749616223, 1517.9081699246028, 542.9839034711879, 512.9862660083132, 998.9482239278732, 321.0010580184245, 524.9852405899536, 137.01507777077245, 280.00430689514474, 302.002101762124, 235.00747070279456, 396.9957709047478, 564.9817912020333, 1548.8994927731794, 166.01341704172083, 688.9702928031045, 613.9748551844813, 464.9886550776044, 2837.7812762632816, 1963.874427278129, 967.9516680871347, 693.9669377822804, 3604.7358271764024, 493.9847207509295, 331.9977983572578, 1862.8604874132639, 848.9596309084775, 4358.649411200148, 8862.262109706677, 1203.9327603414765, 5216.577911279996, 6444.5125214290665, 9010.160373714458, 909.952144207024, 4410.577775089811, 2990.765896890008, 12057.88489755676, 912.9532435497272, 4470.581109185511, 1578.8847216635702, 10817.99047047179, 9115.200306331473, 11872.816836433007, 9674.154643321031, 3030.76080864476, 10213.067149693677, 4534.590849607107, 15034.6808092742, 2332.8059866802887, 7739.2786490413755, 24672.774434357958, 7517.317202169242, 7024.396600101391, 353.9983765547244, 128.01601001836252, 106.0177265502211, 71.02045739635973, 58.021471710639794, 44.022564049095244, 44.022564049095244, 42.022720097446026, 41.02279812162142, 41.02279812162142, 40.02287614579681, 34.023344290849145, 30.0236563875507, 29.023734411726092, 28.023812435901483, 27.023890460076874, 25.024046508427652, 25.024046508427652, 24.02412453260304, 23.02420255677843, 22.02428058095382, 22.02428058095382, 22.02428058095382, 21.024358605129212, 21.024358605129212, 21.024358605129212, 20.024436629304603, 20.024436629304603, 20.024436629304603, 20.024436629304603, 773.9655924581139, 361.99769741043144, 136.0153768754803, 89.01906364044694, 203.00999118274004, 542.9827775038785, 264.00535190003717, 350.99850323350137, 251.00635039843587, 977.9486360241177, 112.01722177124215, 102.01794694683144, 268.0043224222682, 66.02080773919911, 952.9504726554699, 54.02173795729575, 162.01327665108735, 207.00895880494824, 133.01554830165276, 652.9694986535407, 204.00905401996204, 255.00508727789347, 78.01970280580298, 180.01146421677223, 108.01746101809557, 218.00828071110448, 137.01506968026106, 210.00965297171297, 152.0135899779601, 840.9558548092124, 287.00048579036286, 866.9524845179503, 246.0061658339967, 866.9545212285999, 311.9990788498181, 1319.9165292853236, 1805.8864076367217, 411.9929885097646, 1793.881928408567, 1661.8743845132385, 619.9725286924438, 400.99341647434335, 378.9900637946634, 857.9509954266283, 608.9662120947853, 1238.9240189487696, 1100.9280346400087, 7860.248312288756, 2056.8217933182245, 2838.6300289601927, 4607.609070894438, 771.9603751575239, 6319.446713390771, 3801.6242498105985, 6774.398312477271, 1552.8634695397855, 5997.474031644846, 5603.47078352737, 3743.654570524188, 5242.534925513223, 10817.99047047179, 2471.8172983605123, 2071.8196646953957], \"Category\": [\"Default\", \"Default\", \"Default\", \"Default\", \"Default\", \"Default\", \"Default\", \"Default\", \"Default\", \"Default\", \"Default\", \"Default\", \"Default\", \"Default\", \"Default\", \"Default\", \"Default\", \"Default\", \"Default\", \"Default\", \"Default\", \"Default\", \"Default\", \"Default\", \"Default\", \"Default\", \"Default\", \"Default\", \"Default\", \"Default\", \"Topic1\", \"Topic1\", \"Topic1\", \"Topic1\", \"Topic1\", \"Topic1\", \"Topic1\", \"Topic1\", \"Topic1\", \"Topic1\", \"Topic1\", \"Topic1\", \"Topic1\", \"Topic1\", \"Topic1\", \"Topic1\", \"Topic1\", \"Topic1\", \"Topic1\", \"Topic1\", \"Topic1\", \"Topic1\", \"Topic1\", \"Topic1\", \"Topic1\", \"Topic1\", \"Topic1\", \"Topic1\", \"Topic1\", \"Topic1\", \"Topic1\", \"Topic1\", \"Topic1\", \"Topic1\", \"Topic1\", \"Topic1\", \"Topic1\", \"Topic1\", \"Topic1\", \"Topic1\", \"Topic1\", \"Topic1\", \"Topic1\", \"Topic1\", \"Topic1\", \"Topic1\", \"Topic1\", \"Topic1\", \"Topic1\", \"Topic1\", \"Topic1\", \"Topic1\", \"Topic1\", \"Topic1\", \"Topic1\", \"Topic1\", \"Topic1\", \"Topic1\", \"Topic1\", \"Topic1\", \"Topic1\", \"Topic1\", \"Topic1\", \"Topic1\", \"Topic1\", \"Topic1\", \"Topic1\", \"Topic1\", \"Topic1\", \"Topic1\", \"Topic1\", \"Topic1\", \"Topic1\", \"Topic1\", \"Topic1\", \"Topic1\", \"Topic1\", \"Topic1\", \"Topic1\", \"Topic1\", \"Topic1\", \"Topic1\", \"Topic1\", \"Topic1\", \"Topic1\", \"Topic1\", \"Topic1\", \"Topic1\", \"Topic1\", \"Topic1\", \"Topic1\", \"Topic1\", \"Topic2\", \"Topic2\", \"Topic2\", \"Topic2\", \"Topic2\", \"Topic2\", \"Topic2\", \"Topic2\", \"Topic2\", \"Topic2\", \"Topic2\", \"Topic2\", \"Topic2\", \"Topic2\", \"Topic2\", \"Topic2\", \"Topic2\", \"Topic2\", \"Topic2\", \"Topic2\", \"Topic2\", \"Topic2\", \"Topic2\", \"Topic2\", \"Topic2\", \"Topic2\", \"Topic2\", \"Topic2\", \"Topic2\", \"Topic2\", \"Topic2\", \"Topic2\", \"Topic2\", \"Topic2\", \"Topic2\", \"Topic2\", \"Topic2\", \"Topic2\", \"Topic2\", \"Topic2\", \"Topic2\", \"Topic2\", \"Topic2\", \"Topic2\", \"Topic2\", \"Topic2\", \"Topic2\", \"Topic2\", \"Topic2\", \"Topic2\", \"Topic2\", \"Topic2\", \"Topic2\", \"Topic2\", \"Topic2\", \"Topic2\", \"Topic2\", \"Topic2\", \"Topic2\", \"Topic2\", \"Topic2\", \"Topic2\", \"Topic2\", \"Topic2\", \"Topic2\", \"Topic2\", \"Topic2\", \"Topic2\", \"Topic2\", \"Topic2\", \"Topic2\", \"Topic2\", \"Topic2\", \"Topic2\", \"Topic2\", \"Topic2\", \"Topic2\", \"Topic2\", \"Topic2\", \"Topic2\", \"Topic2\", \"Topic2\", \"Topic2\", \"Topic2\", \"Topic2\", \"Topic2\", \"Topic2\", \"Topic2\", \"Topic2\", \"Topic3\", \"Topic3\", \"Topic3\", \"Topic3\", \"Topic3\", \"Topic3\", \"Topic3\", \"Topic3\", \"Topic3\", \"Topic3\", \"Topic3\", \"Topic3\", \"Topic3\", \"Topic3\", \"Topic3\", \"Topic3\", \"Topic3\", \"Topic3\", \"Topic3\", \"Topic3\", \"Topic3\", \"Topic3\", \"Topic3\", \"Topic3\", \"Topic3\", \"Topic3\", \"Topic3\", \"Topic3\", \"Topic3\", \"Topic3\", \"Topic3\", \"Topic3\", \"Topic3\", \"Topic3\", \"Topic3\", \"Topic3\", \"Topic3\", \"Topic3\", \"Topic3\", \"Topic3\", \"Topic3\", \"Topic3\", \"Topic3\", \"Topic3\", \"Topic3\", \"Topic3\", \"Topic3\", \"Topic3\", \"Topic3\", \"Topic3\", \"Topic3\", \"Topic3\", \"Topic3\", \"Topic3\", \"Topic3\", \"Topic3\", \"Topic3\", \"Topic3\", \"Topic3\", \"Topic3\", \"Topic3\", \"Topic3\", \"Topic3\", \"Topic3\", \"Topic3\", \"Topic3\", \"Topic3\", \"Topic4\", \"Topic4\", \"Topic4\", \"Topic4\", \"Topic4\", \"Topic4\", \"Topic4\", \"Topic4\", \"Topic4\", \"Topic4\", \"Topic4\", \"Topic4\", \"Topic4\", \"Topic4\", \"Topic4\", \"Topic4\", \"Topic4\", \"Topic4\", \"Topic4\", \"Topic4\", \"Topic4\", \"Topic4\", \"Topic4\", \"Topic4\", \"Topic4\", \"Topic4\", \"Topic4\", \"Topic4\", \"Topic4\", \"Topic4\", \"Topic4\", \"Topic4\", \"Topic4\", \"Topic4\", \"Topic4\", \"Topic4\", \"Topic4\", \"Topic4\", \"Topic4\", \"Topic4\", \"Topic4\", \"Topic4\", \"Topic4\", \"Topic4\", \"Topic4\", \"Topic4\", \"Topic4\", \"Topic4\", \"Topic4\", \"Topic4\", \"Topic4\", \"Topic4\", \"Topic4\", \"Topic4\", \"Topic4\", \"Topic4\", \"Topic4\", \"Topic4\", \"Topic4\", \"Topic4\", \"Topic4\", \"Topic4\", \"Topic4\", \"Topic4\", \"Topic4\", \"Topic4\", \"Topic4\", \"Topic4\", \"Topic4\", \"Topic4\", \"Topic4\", \"Topic4\", \"Topic4\", \"Topic4\", \"Topic4\", \"Topic4\", \"Topic4\", \"Topic4\", \"Topic4\", \"Topic4\", \"Topic5\", \"Topic5\", \"Topic5\", \"Topic5\", \"Topic5\", \"Topic5\", \"Topic5\", \"Topic5\", \"Topic5\", \"Topic5\", \"Topic5\", \"Topic5\", \"Topic5\", \"Topic5\", \"Topic5\", \"Topic5\", \"Topic5\", \"Topic5\", \"Topic5\", \"Topic5\", \"Topic5\", \"Topic5\", \"Topic5\", \"Topic5\", \"Topic5\", \"Topic5\", \"Topic5\", \"Topic5\", \"Topic5\", \"Topic5\", \"Topic5\", \"Topic5\", \"Topic5\", \"Topic5\", \"Topic5\", \"Topic5\", \"Topic5\", \"Topic5\", \"Topic5\", \"Topic5\", \"Topic5\", \"Topic5\", \"Topic5\", \"Topic5\", \"Topic5\", \"Topic5\", \"Topic5\", \"Topic5\", \"Topic5\", \"Topic5\", \"Topic5\", \"Topic5\", \"Topic5\", \"Topic5\", \"Topic5\", \"Topic5\", \"Topic5\", \"Topic5\", \"Topic5\", \"Topic5\", \"Topic5\", \"Topic5\", \"Topic5\", \"Topic5\", \"Topic5\", \"Topic5\", \"Topic5\", \"Topic5\", \"Topic5\", \"Topic5\", \"Topic5\", \"Topic5\", \"Topic5\", \"Topic5\", \"Topic5\", \"Topic5\", \"Topic5\", \"Topic6\", \"Topic6\", \"Topic6\", \"Topic6\", \"Topic6\", \"Topic6\", \"Topic6\", \"Topic6\", \"Topic6\", \"Topic6\", \"Topic6\", \"Topic6\", \"Topic6\", \"Topic6\", \"Topic6\", \"Topic6\", \"Topic6\", \"Topic6\", \"Topic6\", \"Topic6\", \"Topic6\", \"Topic6\", \"Topic6\", \"Topic6\", \"Topic6\", \"Topic6\", \"Topic6\", \"Topic6\", \"Topic6\", \"Topic6\", \"Topic6\", \"Topic6\", \"Topic6\", \"Topic6\", \"Topic6\", \"Topic6\", \"Topic6\", \"Topic6\", \"Topic6\", \"Topic6\", \"Topic6\", \"Topic6\", \"Topic6\", \"Topic6\", \"Topic6\", \"Topic6\", \"Topic6\", \"Topic6\", \"Topic6\", \"Topic6\", \"Topic6\", \"Topic6\", \"Topic6\", \"Topic6\", \"Topic6\", \"Topic6\", \"Topic6\", \"Topic6\", \"Topic6\", \"Topic6\", \"Topic6\", \"Topic6\", \"Topic6\", \"Topic6\", \"Topic6\", \"Topic6\", \"Topic6\", \"Topic6\", \"Topic6\", \"Topic6\", \"Topic6\", \"Topic6\", \"Topic6\", \"Topic6\", \"Topic6\", \"Topic6\", \"Topic6\", \"Topic7\", \"Topic7\", \"Topic7\", \"Topic7\", \"Topic7\", \"Topic7\", \"Topic7\", \"Topic7\", \"Topic7\", \"Topic7\", \"Topic7\", \"Topic7\", \"Topic7\", \"Topic7\", \"Topic7\", \"Topic7\", \"Topic7\", \"Topic7\", \"Topic7\", \"Topic7\", \"Topic7\", \"Topic7\", \"Topic7\", \"Topic7\", \"Topic7\", \"Topic7\", \"Topic7\", \"Topic7\", \"Topic7\", \"Topic7\", \"Topic7\", \"Topic7\", \"Topic7\", \"Topic7\", \"Topic7\", \"Topic7\", \"Topic7\", \"Topic7\", \"Topic7\", \"Topic7\", \"Topic7\", \"Topic7\", \"Topic7\", \"Topic7\", \"Topic7\", \"Topic7\", \"Topic7\", \"Topic7\", \"Topic7\", \"Topic7\", \"Topic7\", \"Topic7\", \"Topic7\", \"Topic7\", \"Topic7\", \"Topic7\", \"Topic7\", \"Topic7\", \"Topic7\", \"Topic7\", \"Topic7\", \"Topic7\", \"Topic8\", \"Topic8\", \"Topic8\", \"Topic8\", \"Topic8\", \"Topic8\", \"Topic8\", \"Topic8\", \"Topic8\", \"Topic8\", \"Topic8\", \"Topic8\", \"Topic8\", \"Topic8\", \"Topic8\", \"Topic8\", \"Topic8\", \"Topic8\", \"Topic8\", \"Topic8\", \"Topic8\", \"Topic8\", \"Topic8\", \"Topic8\", \"Topic8\", \"Topic8\", \"Topic8\", \"Topic8\", \"Topic8\", \"Topic8\", \"Topic8\", \"Topic8\", \"Topic8\", \"Topic8\", \"Topic8\", \"Topic8\", \"Topic8\", \"Topic8\", \"Topic8\", \"Topic8\", \"Topic8\", \"Topic8\", \"Topic8\", \"Topic8\", \"Topic8\", \"Topic8\", \"Topic8\", \"Topic8\", \"Topic8\", \"Topic8\", \"Topic8\", \"Topic8\", \"Topic8\", \"Topic8\", \"Topic8\", \"Topic8\", \"Topic8\", \"Topic8\", \"Topic8\", \"Topic8\", \"Topic8\", \"Topic8\", \"Topic8\", \"Topic8\", \"Topic8\", \"Topic8\", \"Topic8\", \"Topic8\", \"Topic8\", \"Topic8\", \"Topic8\", \"Topic8\", \"Topic8\", \"Topic8\", \"Topic8\", \"Topic8\", \"Topic8\", \"Topic8\", \"Topic8\", \"Topic8\", \"Topic8\", \"Topic8\", \"Topic8\", \"Topic8\", \"Topic8\", \"Topic8\", \"Topic8\", \"Topic8\", \"Topic8\", \"Topic8\", \"Topic8\", \"Topic8\", \"Topic9\", \"Topic9\", \"Topic9\", \"Topic9\", \"Topic9\", \"Topic9\", \"Topic9\", \"Topic9\", \"Topic9\", \"Topic9\", \"Topic9\", \"Topic9\", \"Topic9\", \"Topic9\", \"Topic9\", \"Topic9\", \"Topic9\", \"Topic9\", \"Topic9\", \"Topic9\", \"Topic9\", \"Topic9\", \"Topic9\", \"Topic9\", \"Topic9\", \"Topic9\", \"Topic9\", \"Topic9\", \"Topic9\", \"Topic9\", \"Topic9\", \"Topic9\", \"Topic9\", \"Topic9\", \"Topic9\", \"Topic9\", \"Topic9\", \"Topic9\", \"Topic9\", \"Topic9\", \"Topic9\", \"Topic9\", \"Topic9\", \"Topic9\", \"Topic9\", \"Topic9\", \"Topic9\", \"Topic9\", \"Topic9\", \"Topic9\", \"Topic9\", \"Topic9\", \"Topic9\", \"Topic9\", \"Topic9\", \"Topic9\", \"Topic9\", \"Topic9\", \"Topic9\", \"Topic9\", \"Topic9\", \"Topic9\", \"Topic9\", \"Topic9\", \"Topic9\", \"Topic9\", \"Topic9\", \"Topic9\", \"Topic9\", \"Topic9\", \"Topic9\", \"Topic9\", \"Topic9\", \"Topic9\", \"Topic9\", \"Topic9\", \"Topic9\", \"Topic9\", \"Topic9\", \"Topic9\", \"Topic9\", \"Topic9\", \"Topic9\", \"Topic9\", \"Topic9\", \"Topic9\", \"Topic9\", \"Topic9\", \"Topic9\", \"Topic9\", \"Topic9\", \"Topic9\", \"Topic9\", \"Topic9\", \"Topic10\", \"Topic10\", \"Topic10\", \"Topic10\", \"Topic10\", \"Topic10\", \"Topic10\", \"Topic10\", \"Topic10\", \"Topic10\", \"Topic10\", \"Topic10\", \"Topic10\", \"Topic10\", \"Topic10\", \"Topic10\", \"Topic10\", \"Topic10\", \"Topic10\", \"Topic10\", \"Topic10\", \"Topic10\", \"Topic10\", \"Topic10\", \"Topic10\", \"Topic10\", \"Topic10\", \"Topic10\", \"Topic10\", \"Topic10\", \"Topic10\", \"Topic10\", \"Topic10\", \"Topic10\", \"Topic10\", \"Topic10\", \"Topic10\", \"Topic10\", \"Topic10\", \"Topic10\", \"Topic10\", \"Topic10\", \"Topic10\", \"Topic10\", \"Topic10\", \"Topic10\", \"Topic10\", \"Topic10\", \"Topic10\", \"Topic10\", \"Topic10\", \"Topic10\", \"Topic10\", \"Topic10\", \"Topic10\", \"Topic10\", \"Topic10\", \"Topic10\", \"Topic10\", \"Topic10\", \"Topic10\", \"Topic10\", \"Topic10\", \"Topic10\", \"Topic10\", \"Topic10\", \"Topic10\", \"Topic10\", \"Topic10\", \"Topic10\", \"Topic10\", \"Topic10\", \"Topic10\", \"Topic10\", \"Topic10\", \"Topic10\", \"Topic10\", \"Topic10\", \"Topic10\", \"Topic10\", \"Topic10\", \"Topic10\", \"Topic10\", \"Topic10\", \"Topic10\", \"Topic10\", \"Topic10\", \"Topic10\", \"Topic10\", \"Topic10\", \"Topic10\", \"Topic10\", \"Topic11\", \"Topic11\", \"Topic11\", \"Topic11\", \"Topic11\", \"Topic11\", \"Topic11\", \"Topic11\", \"Topic11\", \"Topic11\", \"Topic11\", \"Topic11\", \"Topic11\", \"Topic11\", \"Topic11\", \"Topic11\", \"Topic11\", \"Topic11\", \"Topic11\", \"Topic11\", \"Topic11\", \"Topic11\", \"Topic11\", \"Topic11\", \"Topic11\", \"Topic11\", \"Topic11\", \"Topic11\", \"Topic11\", \"Topic11\", \"Topic11\", \"Topic11\", \"Topic11\", \"Topic11\", \"Topic11\", \"Topic11\", \"Topic11\", \"Topic11\", \"Topic11\", \"Topic11\", \"Topic11\", \"Topic11\", \"Topic11\", \"Topic11\", \"Topic11\", \"Topic11\", \"Topic11\", \"Topic11\", \"Topic11\", \"Topic11\", \"Topic11\", \"Topic11\", \"Topic11\", \"Topic11\", \"Topic11\", \"Topic11\", \"Topic11\", \"Topic11\", \"Topic11\", \"Topic11\", \"Topic11\", \"Topic11\", \"Topic11\", \"Topic11\", \"Topic11\", \"Topic11\", \"Topic11\", \"Topic11\", \"Topic11\", \"Topic11\", \"Topic11\", \"Topic11\", \"Topic11\", \"Topic11\", \"Topic11\", \"Topic11\", \"Topic11\", \"Topic11\", \"Topic11\", \"Topic11\", \"Topic11\", \"Topic11\", \"Topic11\", \"Topic11\", \"Topic11\", \"Topic11\", \"Topic11\", \"Topic11\", \"Topic11\", \"Topic11\", \"Topic11\", \"Topic11\", \"Topic12\", \"Topic12\", \"Topic12\", \"Topic12\", \"Topic12\", \"Topic12\", \"Topic12\", \"Topic12\", \"Topic12\", \"Topic12\", \"Topic12\", \"Topic12\", \"Topic12\", \"Topic12\", \"Topic12\", \"Topic12\", \"Topic12\", \"Topic12\", \"Topic12\", \"Topic12\", \"Topic12\", \"Topic12\", \"Topic12\", \"Topic12\", \"Topic12\", \"Topic12\", \"Topic12\", \"Topic12\", \"Topic12\", \"Topic12\", \"Topic12\", \"Topic12\", \"Topic12\", \"Topic12\", \"Topic12\", \"Topic12\", \"Topic12\", \"Topic12\", \"Topic12\", \"Topic12\", \"Topic12\", \"Topic12\", \"Topic12\", \"Topic12\", \"Topic12\", \"Topic12\", \"Topic12\", \"Topic12\", \"Topic12\", \"Topic12\", \"Topic12\", \"Topic12\", \"Topic12\", \"Topic12\", \"Topic12\", \"Topic12\", \"Topic12\", \"Topic12\", \"Topic12\", \"Topic12\", \"Topic12\", \"Topic12\", \"Topic12\", \"Topic12\", \"Topic12\", \"Topic12\", \"Topic12\", \"Topic12\", \"Topic12\", \"Topic12\", \"Topic12\", \"Topic12\", \"Topic12\", \"Topic12\", \"Topic12\", \"Topic12\", \"Topic12\", \"Topic12\", \"Topic12\", \"Topic12\", \"Topic12\", \"Topic13\", \"Topic13\", \"Topic13\", \"Topic13\", \"Topic13\", \"Topic13\", \"Topic13\", \"Topic13\", \"Topic13\", \"Topic13\", \"Topic13\", \"Topic13\", \"Topic13\", \"Topic13\", \"Topic13\", \"Topic13\", \"Topic13\", \"Topic13\", \"Topic13\", \"Topic13\", \"Topic13\", \"Topic13\", \"Topic13\", \"Topic13\", \"Topic13\", \"Topic13\", \"Topic13\", \"Topic13\", \"Topic13\", \"Topic13\", \"Topic13\", \"Topic13\", \"Topic13\", \"Topic13\", \"Topic13\", \"Topic13\", \"Topic13\", \"Topic13\", \"Topic13\", \"Topic13\", \"Topic13\", \"Topic13\", \"Topic13\", \"Topic13\", \"Topic13\", \"Topic13\", \"Topic13\", \"Topic13\", \"Topic13\", \"Topic13\", \"Topic13\", \"Topic13\", \"Topic13\", \"Topic13\", \"Topic13\", \"Topic13\", \"Topic13\", \"Topic13\", \"Topic13\", \"Topic13\", \"Topic13\", \"Topic13\", \"Topic13\", \"Topic13\", \"Topic13\", \"Topic13\", \"Topic13\", \"Topic13\", \"Topic13\", \"Topic13\", \"Topic13\", \"Topic13\", \"Topic13\", \"Topic13\", \"Topic13\", \"Topic13\", \"Topic13\", \"Topic13\", \"Topic13\", \"Topic13\", \"Topic13\", \"Topic13\", \"Topic13\", \"Topic13\", \"Topic13\", \"Topic13\", \"Topic13\", \"Topic13\", \"Topic13\", \"Topic13\", \"Topic14\", \"Topic14\", \"Topic14\", \"Topic14\", \"Topic14\", \"Topic14\", \"Topic14\", \"Topic14\", \"Topic14\", \"Topic14\", \"Topic14\", \"Topic14\", \"Topic14\", \"Topic14\", \"Topic14\", \"Topic14\", \"Topic14\", \"Topic14\", \"Topic14\", \"Topic14\", \"Topic14\", \"Topic14\", \"Topic14\", \"Topic14\", \"Topic14\", \"Topic14\", \"Topic14\", \"Topic14\", \"Topic14\", \"Topic14\", \"Topic14\", \"Topic14\", \"Topic14\", \"Topic14\", \"Topic14\", \"Topic14\", \"Topic14\", \"Topic14\", \"Topic14\", \"Topic14\", \"Topic14\", \"Topic14\", \"Topic14\", \"Topic14\", \"Topic14\", \"Topic14\", \"Topic14\", \"Topic14\", \"Topic14\", \"Topic14\", \"Topic14\", \"Topic14\", \"Topic14\", \"Topic14\", \"Topic14\", \"Topic14\", \"Topic14\", \"Topic14\", \"Topic14\", \"Topic14\", \"Topic14\", \"Topic14\", \"Topic14\", \"Topic14\", \"Topic14\", \"Topic14\", \"Topic14\", \"Topic14\", \"Topic14\", \"Topic14\", \"Topic14\", \"Topic14\", \"Topic14\", \"Topic14\", \"Topic14\", \"Topic14\", \"Topic14\", \"Topic14\", \"Topic14\", \"Topic14\", \"Topic14\", \"Topic14\", \"Topic14\", \"Topic14\", \"Topic14\", \"Topic14\", \"Topic14\", \"Topic14\", \"Topic15\", \"Topic15\", \"Topic15\", \"Topic15\", \"Topic15\", \"Topic15\", \"Topic15\", \"Topic15\", \"Topic15\", \"Topic15\", \"Topic15\", \"Topic15\", \"Topic15\", \"Topic15\", \"Topic15\", \"Topic15\", \"Topic15\", \"Topic15\", \"Topic15\", \"Topic15\", \"Topic15\", \"Topic15\", \"Topic15\", \"Topic15\", \"Topic15\", \"Topic15\", \"Topic15\", \"Topic15\", \"Topic15\", \"Topic15\", \"Topic15\", \"Topic15\", \"Topic15\", \"Topic15\", \"Topic15\", \"Topic15\", \"Topic15\", \"Topic15\", \"Topic15\", \"Topic15\", \"Topic15\", \"Topic15\", \"Topic15\", \"Topic15\", \"Topic15\", \"Topic15\", \"Topic15\", \"Topic15\", \"Topic15\", \"Topic15\", \"Topic15\", \"Topic15\", \"Topic15\", \"Topic15\", \"Topic15\", \"Topic15\", \"Topic15\", \"Topic15\", \"Topic15\", \"Topic15\", \"Topic15\", \"Topic15\", \"Topic15\", \"Topic15\", \"Topic15\", \"Topic15\", \"Topic15\", \"Topic15\", \"Topic15\", \"Topic15\", \"Topic15\", \"Topic15\", \"Topic15\", \"Topic15\", \"Topic15\", \"Topic15\", \"Topic15\", \"Topic15\", \"Topic15\", \"Topic15\", \"Topic15\", \"Topic15\", \"Topic15\", \"Topic15\", \"Topic15\", \"Topic15\", \"Topic15\", \"Topic15\", \"Topic15\", \"Topic15\", \"Topic15\", \"Topic15\", \"Topic15\", \"Topic16\", \"Topic16\", \"Topic16\", \"Topic16\", \"Topic16\", \"Topic16\", \"Topic16\", \"Topic16\", \"Topic16\", \"Topic16\", \"Topic16\", \"Topic16\", \"Topic16\", \"Topic16\", \"Topic16\", \"Topic16\", \"Topic16\", \"Topic16\", \"Topic16\", \"Topic16\", \"Topic16\", \"Topic16\", \"Topic16\", \"Topic16\", \"Topic16\", \"Topic16\", \"Topic16\", \"Topic16\", \"Topic16\", \"Topic16\", \"Topic16\", \"Topic16\", \"Topic16\", \"Topic16\", \"Topic16\", \"Topic16\", \"Topic16\", \"Topic16\", \"Topic16\", \"Topic16\", \"Topic16\", \"Topic16\", \"Topic16\", \"Topic16\", \"Topic16\", \"Topic16\", \"Topic16\", \"Topic16\", \"Topic16\", \"Topic16\", \"Topic16\", \"Topic16\", \"Topic16\", \"Topic16\", \"Topic16\", \"Topic16\", \"Topic16\", \"Topic16\", \"Topic16\", \"Topic16\", \"Topic16\", \"Topic16\", \"Topic16\", \"Topic16\", \"Topic16\", \"Topic16\", \"Topic16\", \"Topic16\", \"Topic16\", \"Topic16\", \"Topic16\", \"Topic16\", \"Topic16\", \"Topic16\", \"Topic16\", \"Topic16\", \"Topic16\", \"Topic16\", \"Topic16\", \"Topic16\", \"Topic16\", \"Topic16\", \"Topic16\", \"Topic16\", \"Topic16\", \"Topic16\", \"Topic16\", \"Topic16\", \"Topic16\", \"Topic16\", \"Topic16\", \"Topic16\", \"Topic17\", \"Topic17\", \"Topic17\", \"Topic17\", \"Topic17\", \"Topic17\", \"Topic17\", \"Topic17\", \"Topic17\", \"Topic17\", \"Topic17\", \"Topic17\", \"Topic17\", \"Topic17\", \"Topic17\", \"Topic17\", \"Topic17\", \"Topic17\", \"Topic17\", \"Topic17\", \"Topic17\", \"Topic17\", \"Topic17\", \"Topic17\", \"Topic17\", \"Topic17\", \"Topic17\", \"Topic17\", \"Topic17\", \"Topic17\", \"Topic17\", \"Topic17\", \"Topic17\", \"Topic17\", \"Topic17\", \"Topic17\", \"Topic17\", \"Topic17\", \"Topic17\", \"Topic17\", \"Topic17\", \"Topic17\", \"Topic17\", \"Topic17\", \"Topic17\", \"Topic17\", \"Topic17\", \"Topic17\", \"Topic17\", \"Topic17\", \"Topic17\", \"Topic17\", \"Topic17\", \"Topic17\", \"Topic17\", \"Topic17\", \"Topic17\", \"Topic17\", \"Topic17\", \"Topic17\", \"Topic17\", \"Topic17\", \"Topic17\", \"Topic17\", \"Topic17\", \"Topic17\", \"Topic17\", \"Topic17\", \"Topic17\", \"Topic17\", \"Topic17\", \"Topic17\", \"Topic17\", \"Topic17\", \"Topic17\", \"Topic17\", \"Topic17\", \"Topic17\", \"Topic17\", \"Topic17\", \"Topic17\", \"Topic17\", \"Topic17\", \"Topic17\", \"Topic18\", \"Topic18\", \"Topic18\", \"Topic18\", \"Topic18\", \"Topic18\", \"Topic18\", \"Topic18\", \"Topic18\", \"Topic18\", \"Topic18\", \"Topic18\", \"Topic18\", \"Topic18\", \"Topic18\", \"Topic18\", \"Topic18\", \"Topic18\", \"Topic18\", \"Topic18\", \"Topic18\", \"Topic18\", \"Topic18\", \"Topic18\", \"Topic18\", \"Topic18\", \"Topic18\", \"Topic18\", \"Topic18\", \"Topic18\", \"Topic18\", \"Topic18\", \"Topic18\", \"Topic18\", \"Topic18\", \"Topic18\", \"Topic18\", \"Topic18\", \"Topic18\", \"Topic18\", \"Topic18\", \"Topic18\", \"Topic18\", \"Topic18\", \"Topic18\", \"Topic18\", \"Topic18\", \"Topic18\", \"Topic18\", \"Topic18\", \"Topic18\", \"Topic18\", \"Topic18\", \"Topic18\", \"Topic18\", \"Topic18\", \"Topic18\", \"Topic18\", \"Topic18\", \"Topic18\", \"Topic18\", \"Topic18\", \"Topic18\", \"Topic18\", \"Topic18\", \"Topic18\", \"Topic18\", \"Topic18\", \"Topic18\", \"Topic18\", \"Topic18\", \"Topic18\", \"Topic18\", \"Topic18\", \"Topic18\", \"Topic18\", \"Topic18\", \"Topic18\", \"Topic18\", \"Topic18\", \"Topic18\", \"Topic18\", \"Topic18\", \"Topic18\", \"Topic18\", \"Topic18\", \"Topic18\", \"Topic18\", \"Topic18\", \"Topic18\", \"Topic18\", \"Topic18\", \"Topic18\", \"Topic18\", \"Topic19\", \"Topic19\", \"Topic19\", \"Topic19\", \"Topic19\", \"Topic19\", \"Topic19\", \"Topic19\", \"Topic19\", \"Topic19\", \"Topic19\", \"Topic19\", \"Topic19\", \"Topic19\", \"Topic19\", \"Topic19\", \"Topic19\", \"Topic19\", \"Topic19\", \"Topic19\", \"Topic19\", \"Topic19\", \"Topic19\", \"Topic19\", \"Topic19\", \"Topic19\", \"Topic19\", \"Topic19\", \"Topic19\", \"Topic19\", \"Topic19\", \"Topic19\", \"Topic19\", \"Topic19\", \"Topic19\", \"Topic19\", \"Topic19\", \"Topic19\", \"Topic19\", \"Topic19\", \"Topic19\", \"Topic19\", \"Topic19\", \"Topic19\", \"Topic19\", \"Topic19\", \"Topic19\", \"Topic19\", \"Topic19\", \"Topic19\", \"Topic19\", \"Topic19\", \"Topic19\", \"Topic19\", \"Topic19\", \"Topic19\", \"Topic19\", \"Topic19\", \"Topic19\", \"Topic19\", \"Topic19\", \"Topic19\", \"Topic19\", \"Topic19\", \"Topic19\", \"Topic19\", \"Topic19\", \"Topic19\", \"Topic19\", \"Topic19\", \"Topic19\", \"Topic19\", \"Topic19\", \"Topic19\", \"Topic19\", \"Topic19\", \"Topic19\", \"Topic19\", \"Topic19\", \"Topic19\", \"Topic19\", \"Topic19\", \"Topic20\", \"Topic20\", \"Topic20\", \"Topic20\", \"Topic20\", \"Topic20\", \"Topic20\", \"Topic20\", \"Topic20\", \"Topic20\", \"Topic20\", \"Topic20\", \"Topic20\", \"Topic20\", \"Topic20\", \"Topic20\", \"Topic20\", \"Topic20\", \"Topic20\", \"Topic20\", \"Topic20\", \"Topic20\", \"Topic20\", \"Topic20\", \"Topic20\", \"Topic20\", \"Topic20\", \"Topic20\", \"Topic20\", \"Topic20\", \"Topic20\", \"Topic20\", \"Topic20\", \"Topic20\", \"Topic20\", \"Topic20\", \"Topic20\", \"Topic20\", \"Topic20\", \"Topic20\", \"Topic20\", \"Topic20\", \"Topic20\", \"Topic20\", \"Topic20\", \"Topic20\", \"Topic20\", \"Topic20\", \"Topic20\", \"Topic20\", \"Topic20\", \"Topic20\", \"Topic20\", \"Topic20\", \"Topic20\", \"Topic20\", \"Topic20\", \"Topic20\", \"Topic20\", \"Topic20\", \"Topic20\", \"Topic20\", \"Topic20\", \"Topic20\", \"Topic21\", \"Topic21\", \"Topic21\", \"Topic21\", \"Topic21\", \"Topic21\", \"Topic21\", \"Topic21\", \"Topic21\", \"Topic21\", \"Topic21\", \"Topic21\", \"Topic21\", \"Topic21\", \"Topic21\", \"Topic21\", \"Topic21\", \"Topic21\", \"Topic21\", \"Topic21\", \"Topic21\", \"Topic21\", \"Topic21\", \"Topic21\", \"Topic21\", \"Topic21\", \"Topic21\", \"Topic21\", \"Topic21\", \"Topic21\", \"Topic21\", \"Topic21\", \"Topic21\", \"Topic21\", \"Topic21\", \"Topic21\", \"Topic21\", \"Topic21\", \"Topic21\", \"Topic21\", \"Topic21\", \"Topic21\", \"Topic21\", \"Topic21\", \"Topic21\", \"Topic21\", \"Topic21\", \"Topic21\", \"Topic21\", \"Topic21\", \"Topic21\", \"Topic21\", \"Topic21\", \"Topic21\", \"Topic21\", \"Topic21\", \"Topic21\", \"Topic21\", \"Topic21\", \"Topic21\", \"Topic21\", \"Topic21\", \"Topic21\", \"Topic21\", \"Topic21\", \"Topic21\", \"Topic21\", \"Topic21\", \"Topic21\", \"Topic21\", \"Topic21\", \"Topic21\", \"Topic21\", \"Topic21\", \"Topic21\", \"Topic21\", \"Topic22\", \"Topic22\", \"Topic22\", \"Topic22\", \"Topic22\", \"Topic22\", \"Topic22\", \"Topic22\", \"Topic22\", \"Topic22\", \"Topic22\", \"Topic22\", \"Topic22\", \"Topic22\", \"Topic22\", \"Topic22\", \"Topic22\", \"Topic22\", \"Topic22\", \"Topic22\", \"Topic22\", \"Topic22\", \"Topic22\", \"Topic22\", \"Topic22\", \"Topic22\", \"Topic22\", \"Topic22\", \"Topic22\", \"Topic22\", \"Topic22\", \"Topic22\", \"Topic22\", \"Topic22\", \"Topic22\", \"Topic22\", \"Topic22\", \"Topic22\", \"Topic22\", \"Topic22\", \"Topic22\", \"Topic22\", \"Topic22\", \"Topic22\", \"Topic22\", \"Topic22\", \"Topic22\", \"Topic22\", \"Topic22\", \"Topic22\", \"Topic22\", \"Topic22\", \"Topic22\", \"Topic22\", \"Topic22\", \"Topic22\", \"Topic22\", \"Topic22\", \"Topic22\", \"Topic22\", \"Topic22\", \"Topic22\", \"Topic23\", \"Topic23\", \"Topic23\", \"Topic23\", \"Topic23\", \"Topic23\", \"Topic23\", \"Topic23\", \"Topic23\", \"Topic23\", \"Topic23\", \"Topic23\", \"Topic23\", \"Topic23\", \"Topic23\", \"Topic23\", \"Topic23\", \"Topic23\", \"Topic23\", \"Topic23\", \"Topic23\", \"Topic23\", \"Topic23\", \"Topic23\", \"Topic23\", \"Topic23\", \"Topic23\", \"Topic23\", \"Topic23\", \"Topic23\", \"Topic23\", \"Topic23\", \"Topic23\", \"Topic23\", \"Topic23\", \"Topic23\", \"Topic23\", \"Topic23\", \"Topic23\", \"Topic23\", \"Topic23\", \"Topic23\", \"Topic23\", \"Topic23\", \"Topic23\", \"Topic23\", \"Topic23\", \"Topic23\", \"Topic23\", \"Topic23\", \"Topic23\", \"Topic23\", \"Topic23\", \"Topic23\", \"Topic23\", \"Topic23\", \"Topic23\", \"Topic23\", \"Topic23\", \"Topic23\", \"Topic23\", \"Topic23\", \"Topic23\", \"Topic23\", \"Topic23\", \"Topic23\", \"Topic23\", \"Topic23\", \"Topic23\", \"Topic23\", \"Topic23\", \"Topic23\", \"Topic23\", \"Topic23\", \"Topic23\", \"Topic23\", \"Topic23\", \"Topic23\", \"Topic23\", \"Topic23\", \"Topic23\", \"Topic24\", \"Topic24\", \"Topic24\", \"Topic24\", \"Topic24\", \"Topic24\", \"Topic24\", \"Topic24\", \"Topic24\", \"Topic24\", \"Topic24\", \"Topic24\", \"Topic24\", \"Topic24\", \"Topic24\", \"Topic24\", \"Topic24\", \"Topic24\", \"Topic24\", \"Topic24\", \"Topic24\", \"Topic24\", \"Topic24\", \"Topic24\", \"Topic24\", \"Topic24\", \"Topic24\", \"Topic24\", \"Topic24\", \"Topic24\", \"Topic24\", \"Topic24\", \"Topic24\", \"Topic24\", \"Topic24\", \"Topic24\", \"Topic24\", \"Topic24\", \"Topic24\", \"Topic24\", \"Topic24\", \"Topic24\", \"Topic24\", \"Topic24\", \"Topic24\", \"Topic24\", \"Topic24\", \"Topic24\", \"Topic24\", \"Topic24\", \"Topic24\", \"Topic24\", \"Topic24\", \"Topic24\", \"Topic24\", \"Topic24\", \"Topic24\", \"Topic24\", \"Topic24\", \"Topic24\", \"Topic24\", \"Topic24\", \"Topic24\", \"Topic24\", \"Topic24\", \"Topic24\", \"Topic24\", \"Topic24\", \"Topic24\", \"Topic24\", \"Topic24\", \"Topic24\", \"Topic24\", \"Topic24\", \"Topic24\", \"Topic24\", \"Topic24\", \"Topic24\", \"Topic24\", \"Topic25\", \"Topic25\", \"Topic25\", \"Topic25\", \"Topic25\", \"Topic25\", \"Topic25\", \"Topic25\", \"Topic25\", \"Topic25\", \"Topic25\", \"Topic25\", \"Topic25\", \"Topic25\", \"Topic25\", \"Topic25\", \"Topic25\", \"Topic25\", \"Topic25\", \"Topic25\", \"Topic25\", \"Topic25\", \"Topic25\", \"Topic25\", \"Topic25\", \"Topic25\", \"Topic25\", \"Topic25\", \"Topic25\", \"Topic25\", \"Topic25\", \"Topic25\", \"Topic25\", \"Topic25\", \"Topic25\", \"Topic25\", \"Topic25\", \"Topic25\", \"Topic25\", \"Topic25\", \"Topic25\", \"Topic25\", \"Topic25\", \"Topic25\", \"Topic25\", \"Topic25\", \"Topic25\", \"Topic25\", \"Topic25\", \"Topic25\", \"Topic25\", \"Topic25\", \"Topic25\", \"Topic25\", \"Topic25\", \"Topic25\", \"Topic25\", \"Topic25\", \"Topic25\", \"Topic25\", \"Topic25\", \"Topic25\", \"Topic25\", \"Topic25\", \"Topic25\", \"Topic25\", \"Topic25\", \"Topic25\", \"Topic25\", \"Topic25\", \"Topic25\", \"Topic25\", \"Topic25\", \"Topic25\", \"Topic25\", \"Topic25\", \"Topic25\", \"Topic25\", \"Topic25\", \"Topic25\", \"Topic25\", \"Topic25\", \"Topic25\", \"Topic25\", \"Topic25\", \"Topic25\", \"Topic25\", \"Topic25\", \"Topic26\", \"Topic26\", \"Topic26\", \"Topic26\", \"Topic26\", \"Topic26\", \"Topic26\", \"Topic26\", \"Topic26\", \"Topic26\", \"Topic26\", \"Topic26\", \"Topic26\", \"Topic26\", \"Topic26\", \"Topic26\", \"Topic26\", \"Topic26\", \"Topic26\", \"Topic26\", \"Topic26\", \"Topic26\", \"Topic26\", \"Topic26\", \"Topic26\", \"Topic26\", \"Topic26\", \"Topic26\", \"Topic26\", \"Topic26\", \"Topic26\", \"Topic26\", \"Topic26\", \"Topic26\", \"Topic26\", \"Topic26\", \"Topic26\", \"Topic26\", \"Topic26\", \"Topic26\", \"Topic26\", \"Topic26\", \"Topic26\", \"Topic26\", \"Topic26\", \"Topic26\", \"Topic26\", \"Topic26\", \"Topic26\", \"Topic26\", \"Topic26\", \"Topic26\", \"Topic26\", \"Topic26\", \"Topic26\", \"Topic26\", \"Topic26\", \"Topic26\", \"Topic26\", \"Topic26\", \"Topic26\", \"Topic26\", \"Topic26\", \"Topic26\", \"Topic26\", \"Topic26\", \"Topic26\", \"Topic26\", \"Topic26\", \"Topic26\", \"Topic26\", \"Topic26\", \"Topic26\", \"Topic26\", \"Topic26\", \"Topic26\", \"Topic26\", \"Topic26\", \"Topic26\", \"Topic26\", \"Topic26\", \"Topic26\", \"Topic26\", \"Topic26\", \"Topic26\", \"Topic26\", \"Topic26\", \"Topic26\", \"Topic26\", \"Topic26\", \"Topic26\", \"Topic26\", \"Topic26\"], \"logprob\": [30.0, 29.0, 28.0, 27.0, 26.0, 25.0, 24.0, 23.0, 22.0, 21.0, 20.0, 19.0, 18.0, 17.0, 16.0, 15.0, 14.0, 13.0, 12.0, 11.0, 10.0, 9.0, 8.0, 7.0, 6.0, 5.0, 4.0, 3.0, 2.0, 1.0, -6.3126, -6.3446, -6.4356, -6.5898, -6.692, -7.2288, -7.3699, -7.7754, -7.922, -7.922, -8.0332, -8.2273, -8.3014, -8.3815, -8.4685, -8.7869, -8.7869, -9.4799, -9.4799, -9.7675, -9.7675, -10.1728, -10.1728, -10.1728, -10.1728, -10.1728, -10.1728, -10.1728, -10.1728, -6.7889, -6.1843, -5.7913, -5.0493, -6.0222, -7.7309, -6.1569, -7.8219, -7.8707, -5.696, -7.8707, -7.922, -6.1843, -6.9346, -7.1528, -5.2352, -6.6179, -6.9952, -6.3446, -6.4005, -6.7556, -6.0957, -6.5898, -6.8411, -4.8775, -4.4303, -6.9544, -4.391, -5.9912, -5.7306, -5.5099, -4.7706, -4.6906, -4.562, -5.2606, -3.5373, -4.6518, -3.1433, -5.2139, -4.8675, -4.9584, -3.3163, -3.5816, -4.8191, -3.8543, -4.1014, -4.4367, -5.0, -4.0831, -4.5879, -4.5457, -4.1165, -5.0493, -4.5602, -4.5086, -5.1075, -4.6262, -4.4645, -4.6968, -4.6968, -4.672, -4.8626, -4.9029, -6.212, -6.4932, -6.8667, -6.9452, -7.2261, -7.3712, -7.4358, -7.4697, -7.4697, -7.5411, -7.5789, -7.6181, -7.6589, -7.7924, -7.8412, -7.9466, -8.0037, -8.0643, -8.0643, -8.1289, -8.1289, -8.1979, -8.1979, -8.1979, -8.1979, -8.272, -8.272, -8.272, -8.272, -8.352, -4.0836, -6.6175, -5.8812, -5.7556, -6.5603, -7.0758, -5.3076, -5.261, -5.9695, -4.876, -6.6626, -6.6029, -5.1845, -3.5138, -6.9658, -7.1234, -5.0409, -6.9052, -5.7871, -6.3152, -6.3484, -6.5465, -3.7722, -6.848, -5.1986, -6.6626, -4.5547, -4.6528, -6.183, -4.8405, -3.7808, -6.1185, -5.2535, -5.2725, -5.7871, -5.7807, -4.3448, -6.0248, -5.713, -4.0514, -5.6166, -5.0749, -5.6953, -4.9235, -4.73, -4.8864, -4.6006, -5.213, -4.6653, -5.1706, -4.6885, -4.8734, -5.3605, -5.0051, -5.0051, -5.1433, -4.9964, -5.1568, -5.2202, -4.2345, -7.9056, -8.311, -8.3682, -8.3682, -5.4977, -5.8124, -9.8149, -10.1025, -4.0275, -4.7701, -11.2004, -11.2004, -11.2004, -4.1367, -6.8447, -5.4238, -4.788, -7.8341, -6.2456, -4.8333, -6.8839, -5.8543, -3.7205, -6.8839, -5.8124, -7.5379, -7.9825, -7.9825, -8.7165, -5.6331, -4.6111, -6.2042, -3.976, -5.4552, -7.1941, -5.079, -6.6476, -3.3071, -3.2616, -3.5739, -3.5208, -4.4057, -5.0132, -3.3782, -5.205, -5.4394, -3.8168, -5.2226, -3.7098, -4.8213, -4.8541, -4.0786, -3.5338, -4.1006, -5.0616, -4.4147, -4.5747, -4.448, -4.5358, -4.6882, -4.3129, -4.4376, -4.4836, -4.6489, -4.7847, -4.8129, -6.7939, -7.299, -7.487, -7.5585, -7.5962, -7.5962, -7.6763, -7.7633, -8.0817, -8.2893, -8.5517, -9.0624, -9.0624, -9.0624, -9.2447, -9.2447, -9.7554, -9.7554, -10.1607, -10.1607, -6.6202, -3.3428, -10.8534, -10.8534, -10.8534, -10.8534, -10.8534, -10.8534, -10.8534, -7.2434, -4.208, -4.6378, -6.5917, -5.0462, -6.9225, -7.4531, -7.5962, -4.6518, -7.3578, -6.4849, -7.3886, -7.1908, -7.4531, -7.2168, -4.3249, -7.5585, -5.3737, -3.9278, -5.6896, -5.5865, -2.5754, -2.5211, -4.9766, -5.0923, -3.7147, -3.5352, -5.7668, -5.0284, -6.7272, -3.2985, -2.9645, -3.7461, -6.9031, -3.5051, -3.6166, -4.2599, -3.7347, -4.2303, -4.3061, -3.9297, -4.9195, -5.4931, -5.2125, -5.0892, -4.3867, -4.708, -4.6398, -4.9037, -5.0195, -5.0492, -4.9988, -5.2309, -5.4439, -6.137, -6.3627, -6.3883, -6.8609, -7.1768, -7.2981, -7.3648, -7.3999, -7.4363, -7.7876, -7.8989, -8.093, -8.093, -8.3342, -8.6526, -5.2473, -4.7507, -5.4904, -9.3456, -9.3456, -9.6332, -5.97, -5.3803, -6.2662, -10.0385, -5.3946, -5.4694, -4.1882, -4.7482, -5.4239, -5.3476, -5.97, -6.7068, -5.7763, -5.3569, -5.3116, -5.3994, -5.7149, -5.6201, -4.1174, -5.4288, -5.4239, -4.6522, -5.3994, -4.9859, -4.9859, -5.1562, -4.9391, -5.0761, -3.7661, -4.0339, -5.2027, -3.7689, -4.3269, -4.3453, -4.4899, -4.1768, -4.6251, -4.7867, -4.4783, -4.4649, -4.8799, -4.1134, -4.8295, -4.2848, -4.4668, -4.1655, -4.4332, -4.3935, -4.5688, -4.8973, -4.7558, -4.8799, -4.918, -5.4346, -5.4936, -5.6514, -5.6921, -6.0961, -6.5494, -6.6144, -6.9796, -7.1055, -7.1178, -7.1815, -7.2081, -7.2637, -7.2637, -7.3378, -7.3533, -7.3851, -7.4013, -7.4179, -7.4518, -7.4869, -7.5049, -7.561, -7.6002, -7.6621, -7.7055, -7.751, -7.8233, -7.8746, -7.9568, -4.3553, -3.9521, -5.245, -3.7799, -5.6345, -5.2877, -6.7331, -3.9004, -5.7041, -3.668, -5.3158, -5.0922, -6.4949, -4.7076, -6.585, -4.311, -5.4346, -5.588, -4.6411, -4.2212, -4.8921, -4.8594, -6.3082, -4.6055, -5.8051, -5.6571, -4.8697, -5.6178, -4.5585, -3.5474, -3.932, -4.8066, -3.8238, -3.7412, -3.854, -3.6239, -5.107, -4.5691, -4.3813, -4.9274, -4.786, -4.5092, -5.0602, -4.8239, -4.933, -4.8815, -5.0399, -5.6824, -9.2998, -4.0181, -9.5874, -9.9927, -3.6824, -5.6891, -10.6853, -10.6853, -6.4668, -5.6559, -6.4096, -4.0322, -2.8907, -7.6905, -2.7032, -7.4282, -9.0767, -8.1213, -4.7462, -3.6572, -4.7462, -7.5952, -7.8531, -7.2206, -7.8531, -9.9927, -9.9927, -6.4967, -5.6301, -3.183, -5.9858, -5.6959, -3.7647, -2.88, -5.6624, -5.4606, -4.081, -6.6973, -3.7686, -2.67, -3.4063, -6.7945, -5.9501, -3.5009, -4.7488, -3.5979, -5.6174, -3.3751, -3.43, -3.8246, -5.2396, -5.1295, -4.7837, -4.6874, -4.781, -4.953, -5.325, -5.0732, -5.0515, -5.1974, -5.1028, -6.3951, -6.7108, -6.9885, -7.4347, -7.4505, -7.6233, -7.7018, -7.7435, -7.8094, -7.8324, -7.9047, -8.0101, -8.2263, -8.2263, -8.2614, -8.2614, -8.4155, -8.4155, -8.5026, -8.5491, -8.5491, -8.5979, -8.5979, -8.6492, -8.6492, -8.7032, -8.7604, -8.7604, -8.8855, -8.9545, -6.8487, -7.2629, -7.3741, -6.5698, -7.8094, -6.3155, -6.3054, -7.9301, -6.1383, -6.3309, -7.7224, -7.2761, -7.5506, -6.3309, -6.3466, -4.9789, -6.7574, -4.2966, -5.443, -4.9356, -4.7935, -4.6769, -7.0189, -6.0642, -6.7108, -4.4422, -5.377, -6.0101, -5.6774, -5.3612, -5.516, -6.4346, -6.7033, -4.2632, -4.8783, -5.6774, -6.0064, -5.3039, -5.5558, -4.454, -3.7927, -4.5136, -4.6889, -4.1725, -4.673, -4.7824, -4.3602, -5.1448, -4.2758, -4.6789, -4.7824, -4.5806, -4.8966, -5.255, -4.7714, -5.1575, -5.1495, -5.0242, -5.1623, -5.1736, -5.1736, -5.1785, -6.7036, -7.1662, -7.2114, -7.2426, -7.3968, -7.5791, -7.6481, -7.6969, -7.6969, -7.7482, -7.92, -8.0184, -8.0899, -8.1276, -8.2947, -8.2947, -8.2947, -8.2947, -8.4413, -8.4953, -8.4953, -8.5525, -8.5525, -8.5525, -8.6131, -8.6131, -8.6131, -8.6777, -8.7466, -8.7466, -5.4696, -6.3044, -5.6589, -6.4879, -6.0925, -7.0817, -6.2441, -6.4022, -6.3423, -6.4954, -6.4229, -6.437, -6.4022, -6.0726, -6.0874, -6.3169, -4.471, -6.3169, -6.0825, -6.1335, -5.0489, -5.9697, -6.0434, -6.0434, -5.5836, -5.3672, -4.6138, -5.2352, -5.9697, -6.0676, -3.1258, -5.7298, -3.8377, -5.2267, -4.1936, -5.4562, -4.9707, -5.3551, -5.6396, -3.6317, -4.5442, -3.6864, -4.0295, -4.2406, -3.7715, -3.7019, -5.3794, -4.2019, -4.685, -4.9432, -4.8304, -4.7099, -4.6288, -5.233, -4.8905, -5.1832, -5.0722, -5.1054, -4.9544, -5.1035, -5.1592, -5.0758, -5.1692, -5.1772, -6.4871, -7.0545, -7.2331, -7.2776, -7.3006, -7.3982, -7.5064, -7.5064, -7.6278, -7.7296, -7.8037, -7.8037, -7.8837, -7.8837, -7.9707, -7.9707, -8.0172, -8.0172, -8.066, -8.066, -8.1173, -8.2285, -8.2892, -8.2892, -8.3537, -8.3537, -8.4968, -8.4968, -8.4968, -8.4968, -5.9559, -6.7851, -6.6923, -7.2776, -6.7713, -6.106, -7.5354, -6.0579, -7.4242, -6.4871, -6.9843, -5.8913, -7.0915, -7.1906, -6.3984, -6.2996, -6.718, -6.1714, -5.0121, -6.9674, -5.9498, -5.7635, -6.3433, -4.1441, -4.1024, -5.9085, -5.4128, -5.9681, -6.2496, -5.8523, -6.1273, -3.6359, -4.7428, -5.8523, -5.7585, -5.9085, -5.4378, -5.3124, -4.9328, -4.2096, -5.4128, -4.9888, -4.5456, -4.7268, -5.335, -5.3029, -5.4164, -4.8839, -4.6129, -5.3188, -4.8118, -4.8613, -5.3382, -5.0003, -5.2998, -5.0931, -5.1757, -5.053, -5.5245, -5.2749, -5.3954, -5.4058, -6.598, -7.3254, -7.423, -7.6526, -7.8285, -7.9085, -7.9955, -8.0421, -8.314, -8.314, -8.314, -8.3785, -8.3785, -8.4475, -8.4475, -8.5216, -8.7839, -8.7839, -8.7839, -8.8893, -8.8893, -8.8893, -8.8893, -9.0071, -9.0071, -9.0071, -9.0071, -9.0071, -9.0071, -9.0071, -6.5119, -7.258, -5.4202, -6.0497, -7.0793, -7.1354, -7.8677, -6.4519, -7.1548, -5.4065, -6.9757, -7.2365, -6.7826, -7.0436, -4.2999, -5.8239, -6.024, -3.9375, -4.8062, -6.2744, -6.2908, -7.1163, -5.5259, -5.6399, -5.3762, -5.3501, -6.7172, -6.0177, -5.0322, -6.7826, -3.9891, -4.9382, -4.1066, -5.9807, -4.162, -5.3436, -4.547, -4.9953, -5.9746, -5.5145, -4.2408, -4.4008, -4.9774, -4.9685, -5.1813, -5.3214, -4.4759, -4.5899, -4.2418, -4.7236, -4.9066, -4.5944, -4.7641, -4.9796, -4.9045, -4.8251, -4.9554, -5.2258, -5.2402, -5.2373, -5.1813, -5.2117, -5.6407, -5.7591, -6.2327, -6.3338, -6.3773, -6.4951, -6.6286, -6.8518, -6.9259, -7.027, -7.1635, -7.1882, -7.1882, -7.5098, -7.5813, -7.619, -7.6582, -7.6582, -7.9326, -7.9326, -8.0439, -8.0439, -8.1045, -8.169, -8.238, -8.3121, -8.3921, -8.5744, -8.9311, -5.5444, -5.2282, -6.1149, -5.479, -6.1497, -6.6724, -6.1766, -5.2899, -5.6953, -6.4951, -5.2604, -5.8598, -6.3338, -6.4583, -4.9827, -6.4228, -6.3232, -5.9213, -5.9143, -6.2327, -5.3597, -4.5546, -5.1406, -5.701, -6.1235, -3.5599, -4.937, -3.9206, -4.7265, -3.6948, -4.0092, -4.1307, -4.3361, -3.8695, -4.1497, -5.0135, -4.3021, -4.2504, -3.9634, -4.1654, -4.4141, -4.5911, -4.9008, -4.7117, -4.3819, -5.147, -4.9265, -4.937, -4.969, -5.1341, -5.1057, -5.1309, -6.2679, -6.485, -6.8316, -6.9857, -7.0283, -7.6623, -7.6957, -7.8029, -8.012, -8.0355, -8.0843, -8.3075, -8.6377, -8.6821, -8.7774, -9.0006, -9.3752, -9.4705, -9.4705, -9.8272, -9.9813, -9.9813, -10.1636, -10.1636, -6.898, -10.6743, -10.6743, -6.2241, -11.0796, -11.0796, -6.0896, -6.4309, -6.3796, -7.5105, -7.1385, -6.7626, -7.7302, -7.7659, -7.4425, -6.0049, -3.8298, -7.4828, -6.6795, -5.2179, -6.898, -6.6199, -5.3999, -3.6494, -5.2734, -6.8754, -7.2406, -7.3665, -5.1802, -6.521, -5.5891, -5.373, -6.4357, -6.3705, -5.6078, -5.1139, -4.1023, -5.0506, -5.225, -5.0554, -5.0924, -5.7522, -4.1824, -4.2749, -3.9484, -4.6512, -5.8761, -3.877, -5.6933, -4.6907, -3.753, -4.1946, -4.8234, -4.7932, -4.8408, -5.2704, -4.5587, -4.9587, -4.9631, -4.8755, -4.4816, -4.9105, -5.0799, -5.0024, -5.0233, -5.2207, -6.6451, -6.6881, -7.0401, -7.1047, -7.1917, -7.7332, -7.8668, -7.9031, -8.0635, -8.714, -8.714, -9.253, -9.253, -9.4071, -4.6537, -6.0515, -9.8125, -9.8125, -10.1001, -10.1001, -10.1001, -10.1001, -10.5054, -10.5054, -10.5054, -10.5054, -10.5054, -6.7923, -6.0991, -11.198, -5.0463, -5.9895, -6.2432, -5.2801, -7.0881, -5.9573, -6.3787, -4.3426, -6.3707, -6.5169, -6.574, -6.6347, -5.6231, -6.0632, -6.6664, -6.4032, -6.817, -3.8088, -5.8615, -5.7653, -6.2223, -5.9312, -4.8693, -3.5857, -5.2536, -4.8516, -2.76, -5.6538, -5.0463, -5.5678, -5.512, -3.1824, -4.6156, -5.4528, -5.926, -4.4168, -5.3555, -5.1122, -4.928, -4.2396, -4.6537, -3.9743, -3.8543, -4.5789, -5.0787, -5.3354, -4.6479, -4.9093, -5.1168, -5.0231, -4.8909, -5.0875, -5.0527, -5.0128, -5.0211, -5.0678, -5.0853, -5.1122, -6.5136, -6.8435, -6.855, -7.0609, -7.3204, -7.5252, -7.5958, -7.6205, -7.6984, -7.6984, -7.754, -7.754, -7.9082, -8.0905, -8.1738, -8.2648, -8.3649, -8.419, -8.5367, -8.5367, -8.6013, -8.7444, -8.7444, -8.8244, -8.9114, -8.9114, -9.0067, -9.0067, -9.112, -9.3633, -6.1276, -6.8096, -6.9273, -7.0899, -6.4731, -6.3821, -6.855, -6.9273, -7.5958, -6.5558, -7.783, -7.5482, -7.9421, -6.1619, -6.6943, -6.9273, -7.0327, -7.302, -4.7274, -5.4373, -2.9451, -5.5924, -5.1566, -4.2688, -6.5219, -6.6844, -4.2973, -5.8081, -5.3771, -5.9528, -4.376, -3.1799, -6.0011, -4.9655, -4.3634, -4.6947, -4.2812, -5.3851, -5.8626, -4.0652, -5.0868, -5.6639, -6.0944, -4.2901, -4.6013, -5.4013, -4.8021, -5.1847, -4.8926, -4.4352, -5.1232, -4.7027, -5.5891, -5.2763, -4.9498, -4.9125, -5.1609, -4.9242, -5.1089, -5.1048, -5.2136, -5.2001, -5.1695, -5.5903, -7.7291, -7.8598, -8.187, -8.2537, -8.5764, -8.6765, -8.7877, -8.9129, -9.136, -9.4237, -9.5414, -9.5414, -10.0113, -10.2344, -10.522, -10.522, -10.522, -10.9273, -10.9273, -10.9273, -10.9273, -10.9273, -7.2643, -11.62, -11.62, -11.62, -11.62, -11.62, -11.62, -8.0374, -3.9529, -8.1244, -7.632, -5.8716, -8.3629, -5.7745, -7.2902, -7.4778, -7.9834, -7.4621, -6.2183, -6.9575, -6.9575, -6.5211, -7.1323, -5.5411, -4.7283, -6.9575, -4.1361, -5.878, -5.1642, -5.4683, -4.7294, -5.08, -4.7416, -4.9452, -4.6446, -5.8402, -4.9277, -4.8675, -4.6474, -4.7192, -5.8189, -4.7437, -5.0785, -5.0974, -4.9032, -5.4286, -5.039, -5.201, -3.1574, -5.2075, -5.441, -3.9718, -3.9799, -3.8419, -3.6901, -4.3362, -5.0198, -4.5342, -4.5342, -4.963, -4.9129, -4.8734, -4.8275, -4.8286, -4.9376, -4.8805, -4.9117, -4.9389, -4.9528, -6.3153, -6.6378, -6.7802, -6.9108, -6.9225, -7.6275, -7.7276, -7.8388, -7.964, -8.033, -8.0693, -8.2297, -8.2741, -8.3206, -8.3694, -8.3694, -8.4207, -8.4748, -8.5926, -8.8802, -9.1679, -4.8913, -9.4192, -9.4192, -9.5733, -9.5733, -9.7556, -9.9787, -10.2663, -10.2663, -6.7305, -7.1167, -5.9946, -6.2235, -4.4685, -5.8639, -5.3613, -6.5612, -5.9807, -6.2177, -5.1728, -7.3221, -6.2061, -6.7112, -7.4532, -7.2221, -7.4734, -5.6319, -6.0922, -6.2715, -3.2287, -6.7305, -6.7018, -5.0391, -4.1196, -5.6449, -4.5876, -2.6639, -6.29, -3.536, -5.7448, -4.6402, -5.0663, -5.7668, -4.1655, -4.104, -4.4848, -4.111, -4.4675, -4.0434, -4.1693, -5.2945, -4.4058, -4.8913, -5.1367, -5.2362, -4.9084, -5.3914, -4.9633, -5.0391, -5.2649, -5.1811, -5.2899, -5.2968, -6.1063, -7.515, -7.876, -8.2389, -8.7089, -8.8142, -8.8142, -8.932, -9.0655, -9.2196, -9.2196, -9.2196, -9.2196, -9.4019, -9.4019, -9.625, -9.625, -9.9126, -9.9126, -9.9126, -9.9126, -10.3179, -10.3179, -10.3179, -10.3179, -10.3179, -10.3179, -10.3179, -10.3179, -7.1829, -6.5229, -6.3671, -6.2842, -7.3739, -6.5927, -6.9172, -6.5456, -5.6837, -7.1829, -6.8526, -7.1403, -5.6692, -6.1137, -7.876, -6.6548, -7.0995, -6.2157, -5.098, -6.0279, -7.348, -4.5103, -5.5267, -5.9553, -6.4164, -6.0989, -5.7082, -6.5456, -7.1197, -6.2494, -5.2526, -4.5407, -5.8582, -6.1363, -4.5997, -5.7645, -4.5867, -5.1508, -5.2978, -4.5916, -3.8735, -5.2094, -4.6213, -3.7978, -4.9157, -5.5351, -4.3319, -4.4939, -4.7255, -4.7181, -4.8609, -4.9978, -5.447, -5.1366, -4.9713, -5.1944, -5.2978, -5.2308, -5.0301, -5.1797, -5.2185, -5.074, -5.1651, -5.2401, -5.2718, -6.1389, -6.3142, -6.3213, -6.3954, -6.6678, -6.7743, -6.9588, -7.1198, -7.2198, -7.2556, -7.7075, -7.8289, -7.967, -8.1274, -8.1718, -8.2671, -8.4903, -8.6979, -8.7779, -8.7779, -8.8649, -8.8649, -9.0656, -9.3169, -9.3169, -9.3169, -9.3169, -9.8764, -9.8764, -10.164, -4.953, -6.2657, -6.5444, -5.1945, -7.0582, -6.8203, -6.1753, -6.5534, -6.6882, -6.8086, -7.3117, -7.4343, -5.9497, -6.7196, -5.2615, -6.7631, -5.5199, -6.6882, -7.3311, -4.3121, -6.6379, -5.838, -5.7295, -5.3548, -5.0014, -3.9143, -4.0867, -3.9009, -4.4751, -4.0768, -5.0523, -5.8119, -4.6795, -5.5459, -4.8693, -4.8252, -4.8188, -4.9995, -4.9494, -4.6495, -4.7161, -4.9844, -4.6603, -4.7616, -4.5684, -4.9085, -4.9332, -4.8046, -4.6126, -5.1537, -5.225, -5.2298, -3.5312, -5.8454, -5.9964, -6.0993, -6.2209, -6.4073, -6.9486, -7.0682, -7.186, -7.2993, -7.3827, -7.4271, -7.4977, -7.5737, -7.6278, -7.7148, -7.7773, -3.5138, -7.9924, -8.0758, -8.1203, -8.1668, -5.0251, -3.3889, -2.7232, -10.5177, -7.1005, -11.2103, -11.2103, -11.2103, -2.744, -3.4083, -2.7893, -6.5292, -7.0682, -7.117, -5.7265, -3.3945, -3.3181, -3.2686, -5.6129, -4.6307, -2.8666, -3.1361, -5.2149, -5.4032, -5.7265, -4.793, -5.756, -5.991, -5.0522, -3.2844, -4.8111, -5.1592, -4.8657, -4.7146, -4.6197, -5.1831, -4.6603, -4.6892, -4.6776, -4.8978, -5.3449, -5.0823, -5.9222, -5.9583, -6.0507, -6.6966, -6.9391, -7.1098, -7.1333, -7.7354, -7.7799, -7.7799, -7.9265, -8.0983, -8.1629, -8.2318, -8.473, -8.473, -8.7914, -5.548, -5.0102, -5.081, -9.4844, -9.772, -9.772, -5.6725, -10.1773, -10.1773, -10.1773, -7.0868, -10.87, -7.26, -5.6031, -6.3601, -5.9958, -6.9391, -5.4416, -7.6521, -7.3446, -6.6663, -4.1653, -4.8671, -3.8481, -5.9882, -5.9583, -5.4957, -4.4284, -6.6369, -6.0918, -3.7521, -4.4461, -4.2142, -5.1639, -4.543, -4.0051, -4.7684, -5.1376, -6.0112, -4.3772, -3.6917, -4.1641, -4.4237, -3.9125, -4.0358, -3.9405, -3.9346, -3.3304, -4.1678, -4.024, -4.1411, -4.121, -4.4977, -4.4017, -4.5097, -4.5502, -4.5502, -4.8403, -4.877, -3.6732, -5.5717, -6.2205, -6.6668, -8.0956, -8.3407, -8.9285, -3.6268, -10.1322, -10.5375, -3.6383, -11.2302, -11.2302, -11.2302, -11.2302, -11.2302, -11.2302, -7.9353, -8.1866, -3.6318, -7.3393, -8.2354, -6.1942, -4.2919, -8.1401, -7.4699, -4.9014, -8.592, -5.8062, -8.3407, -5.8888, -3.0428, -5.4504, -2.6418, -8.3979, -6.6986, -3.0492, -3.3936, -6.0607, -6.626, -5.466, -3.1325, -3.8742, -5.0126, -4.517, -4.776, -3.739, -5.8652, -4.8838, -3.7581, -4.3385, -4.2317, -4.4144, -4.0292, -3.9422, -4.3355, -4.3992, -4.7374, -4.5219, -4.5939, -4.4035, -5.1043, -6.8265, -7.0194, -7.0629, -7.1084, -7.3142, -7.4038, -7.4356, -7.4356, -7.4684, -7.6915, -7.825, -7.9251, -7.9251, -8.0969, -8.1615, -8.2305, -8.3046, -8.3846, -8.3846, -8.5669, -8.6723, -8.6723, -8.9235, -8.9235, -8.9235, -9.2599, -9.2599, -9.2599, -9.2599, -9.2599, -4.7297, -4.9724, -6.8622, -7.0409, -6.6799, -6.0738, -6.8091, -6.6501, -3.3852, -5.8791, -6.8091, -5.8197, -6.1511, -4.948, -5.7221, -3.614, -4.5743, -5.2936, -5.117, -7.0409, -5.2171, -4.0661, -5.0981, -5.1362, -4.2232, -5.2936, -3.7379, -5.0675, -6.0254, -5.782, -5.7944, -5.7516, -5.0525, -5.3166, -3.2338, -3.7443, -5.4989, -5.2206, -4.7874, -4.5363, -4.2876, -4.6958, -5.4579, -4.4415, -3.7236, -4.4207, -5.1725, -5.2312, -5.0858, -5.133, -5.1493, -5.5875, -5.9779, -6.9839, -7.2121, -7.2922, -7.5435, -8.1676, -8.3107, -9.0838, -4.8818, -5.6446, -5.899, -9.7768, -5.0858, -5.2197, -6.3218, -6.3324, -5.7637, -10.1821, -10.1821, -5.6662, -4.8843, -5.2445, -10.8747, -10.8747, -10.8747, -10.8747, -10.8747, -10.8747, -10.8747, -3.1, -6.519, -5.9199, -7.2381, -6.7814, -7.3204, -7.3792, -7.41, -7.5435, -5.6554, -6.9439, -5.9705, -4.7532, -5.9059, -5.4333, -6.301, -3.5827, -7.0045, -3.844, -5.543, -5.3543, -4.5127, -4.9568, -5.4035, -4.3911, -3.5699, -5.1074, -5.0351, -5.2303, -4.6452, -4.8843, -4.0969, -4.751, -5.12, -4.5496, -4.1664, -4.5842, -4.8331, -4.5823, -4.6793, -4.1799, -4.5024, -4.7687, -4.9019, -4.7489, -4.9045, -5.0036, -4.9488, -5.0468, -6.6083, -7.1473, -7.2864, -7.4658, -7.5593, -7.8535, -7.9076, -7.9357, -7.9357, -8.1238, -8.1589, -8.1589, -8.4, -8.4466, -8.4953, -8.4953, -8.4953, -8.5466, -8.6007, -8.6579, -8.783, -8.852, -8.852, -8.852, -8.9261, -8.9261, -8.9261, -8.9261, -8.9261, -9.0061, -3.8852, -6.7726, -6.9372, -6.4222, -5.5301, -5.8563, -4.2292, -5.2411, -5.3029, -4.6538, -5.7741, -5.2926, -6.6159, -5.9228, -5.8528, -6.102, -5.6247, -5.2906, -4.3507, -6.4805, -5.1508, -5.2587, -5.5173, -3.8353, -4.1853, -4.8724, -5.1959, -3.7544, -5.5173, -5.8743, -4.3853, -5.0842, -3.7724, -3.2426, -4.8539, -3.7062, -3.6252, -3.5879, -5.1315, -4.2476, -4.5665, -3.941, -5.2296, -4.5744, -5.0142, -4.3334, -4.4367, -4.4718, -4.5308, -4.8396, -4.5251, -4.7553, -4.4835, -4.9245, -4.701, -4.499, -4.7613, -4.804, -5.6045, -6.6218, -6.8103, -7.2111, -7.4133, -7.6896, -7.6896, -7.7361, -7.7602, -7.7602, -7.7849, -7.9474, -8.0726, -8.1065, -8.1416, -8.1779, -8.2549, -8.2549, -8.2957, -8.3383, -8.3827, -8.3827, -8.3827, -8.4292, -8.4292, -8.4292, -8.478, -8.478, -8.478, -8.478, -4.8235, -5.5905, -6.5685, -6.9964, -6.1805, -5.2142, -5.9247, -5.6478, -5.9766, -4.6494, -6.7733, -6.8686, -5.9247, -7.2994, -4.6882, -7.5035, -6.4434, -6.2111, -6.6455, -5.137, -6.248, -6.0444, -7.1563, -6.3862, -6.8587, -6.2163, -6.6535, -6.2808, -6.5685, -5.1022, -6.0228, -5.1142, -6.1655, -5.1317, -5.9725, -4.8132, -4.6142, -5.7667, -4.6871, -4.7512, -5.5076, -5.8319, -5.8754, -5.3382, -5.5739, -5.1459, -5.218, -4.0372, -4.8932, -4.7416, -4.5551, -5.5102, -4.6614, -4.9561, -4.7572, -5.2979, -4.9142, -5.0265, -5.1264, -5.0869, -5.0819, -5.3253, -5.3712], \"loglift\": [30.0, 29.0, 28.0, 27.0, 26.0, 25.0, 24.0, 23.0, 22.0, 21.0, 20.0, 19.0, 18.0, 17.0, 16.0, 15.0, 14.0, 13.0, 12.0, 11.0, 10.0, 9.0, 8.0, 7.0, 6.0, 5.0, 4.0, 3.0, 2.0, 1.0, 3.6002, 3.6002, 3.6002, 3.6001, 3.6001, 3.5998, 3.5997, 3.5993, 3.5991, 3.5991, 3.599, 3.5987, 3.5985, 3.5984, 3.5982, 3.5973, 3.5973, 3.5942, 3.5942, 3.5922, 3.5922, 3.588, 3.588, 3.588, 3.588, 3.588, 3.588, 3.588, 3.588, 3.5832, 3.5819, 3.5756, 3.5539, 3.5245, 3.5569, 3.5223, 3.5528, 3.5505, 3.4876, 3.5505, 3.5479, 3.4784, 3.5065, 3.5068, 3.3511, 3.4542, 3.4822, 3.3946, 3.3657, 3.4069, 3.3084, 3.3443, 3.377, 2.9098, 2.7838, 3.3689, 2.7196, 3.1095, 2.9804, 2.8932, 2.602, 2.5349, 2.4741, 2.7684, 1.9389, 2.4594, 1.7053, 2.6933, 2.4903, 2.4928, 1.4655, 1.5174, 2.3698, 1.6429, 1.8008, 2.0145, 2.4167, 1.354, 1.8505, 1.7929, 1.2325, 2.2389, 1.5324, 1.2391, 2.31, 1.2848, 0.825, 1.3401, 1.3345, 0.8407, 0.9404, -0.5496, 3.6297, 3.6296, 3.6294, 3.6294, 3.6292, 3.6291, 3.6291, 3.629, 3.629, 3.629, 3.6289, 3.6289, 3.6289, 3.6287, 3.6287, 3.6285, 3.6284, 3.6283, 3.6283, 3.6282, 3.6282, 3.6281, 3.6281, 3.6281, 3.6281, 3.628, 3.628, 3.628, 3.628, 3.6278, 3.6068, 3.6149, 3.602, 3.5932, 3.6022, 3.6063, 3.5571, 3.5393, 3.5485, 3.4995, 3.5698, 3.5596, 3.4802, 3.3557, 3.5688, 3.5587, 3.3301, 3.5359, 3.3863, 3.451, 3.4362, 3.4657, 2.8782, 3.5076, 3.1679, 3.4602, 2.8937, 2.8835, 3.3139, 2.8475, 2.4499, 3.2668, 2.9461, 2.9028, 3.1267, 3.1177, 2.3801, 3.2216, 3.0204, 1.8698, 2.8789, 2.4334, 2.8965, 2.1258, 1.9388, 1.9515, 1.5767, 2.2691, 1.1703, 2.0478, 0.61, 0.9213, 2.0458, 0.8757, 0.7103, 1.2292, 0.1814, 0.385, 1.4913, 3.2654, 3.2645, 3.264, 3.2639, 3.2639, 3.262, 3.2607, 3.2592, 3.2571, 3.2509, 3.2446, 3.2407, 3.2407, 3.2407, 3.2235, 3.2151, 3.2111, 3.2019, 3.1979, 3.1972, 3.1752, 3.1518, 3.1401, 3.1331, 3.1283, 3.125, 3.1218, 3.1161, 3.1161, 3.1095, 3.0716, 3.0313, 3.053, 2.9508, 3.0003, 3.0677, 2.9155, 3.0233, 2.7548, 2.7358, 2.7248, 2.6874, 2.7957, 2.8675, 2.6636, 2.8418, 2.8599, 2.5147, 2.8049, 2.3893, 2.6673, 2.6601, 2.0259, 1.5355, 1.7927, 2.582, 1.9238, 2.0034, 1.6885, 1.656, 1.8907, 1.1537, 1.3139, 0.7517, 0.8292, 1.9402, 0.5362, 3.6121, 3.6118, 3.6117, 3.6116, 3.6116, 3.6116, 3.6115, 3.6114, 3.611, 3.6106, 3.61, 3.6084, 3.6084, 3.6084, 3.6075, 3.6075, 3.6042, 3.6042, 3.6001, 3.6001, 3.5978, 3.5963, 3.5879, 3.5879, 3.5879, 3.5879, 3.5879, 3.5879, 3.5879, 3.5852, 3.5831, 3.5849, 3.5844, 3.5655, 3.5736, 3.5789, 3.5739, 3.5384, 3.553, 3.5273, 3.5512, 3.5378, 3.5472, 3.5359, 3.4002, 3.5402, 3.4232, 3.2379, 3.3881, 3.375, 3.0581, 2.9454, 3.1641, 3.1401, 2.8635, 2.8052, 3.249, 3.0893, 3.4218, 2.6528, 2.5137, 2.5854, 3.4525, 2.4218, 2.3754, 2.5692, 2.3272, 2.4791, 2.3947, 2.1747, 2.6416, 2.917, 2.6723, 2.461, 1.5869, 1.9603, 1.5992, 1.7343, 0.5901, 0.998, 3.7347, 3.7347, 3.7347, 3.7345, 3.7345, 3.7345, 3.7343, 3.7341, 3.734, 3.7339, 3.7339, 3.7339, 3.7335, 3.7333, 3.733, 3.733, 3.7325, 3.7317, 3.7305, 3.7297, 3.7294, 3.7286, 3.7286, 3.7265, 3.7261, 3.7252, 3.7231, 3.7224, 3.7203, 3.7192, 3.7162, 3.7074, 3.7102, 3.7075, 3.7093, 3.7166, 3.7, 3.6806, 3.6663, 3.6557, 3.6643, 3.6537, 3.565, 3.6219, 3.6049, 3.5268, 3.5621, 3.4795, 3.4648, 3.4788, 3.3878, 3.4017, 2.8472, 2.8945, 3.409, 2.5179, 2.8129, 2.7022, 2.8215, 2.5203, 2.8351, 2.9623, 2.4012, 2.2656, 2.8619, 1.4253, 2.6789, 1.4305, 1.7052, 0.7455, 1.4172, 1.1191, 1.2668, 2.052, 0.329, 0.8877, 0.2598, 2.9546, 2.9545, 2.9545, 2.9545, 2.9545, 2.9544, 2.9544, 2.9543, 2.9543, 2.9543, 2.9543, 2.9543, 2.9543, 2.9543, 2.9542, 2.9542, 2.9542, 2.9542, 2.9542, 2.9542, 2.9542, 2.9542, 2.9541, 2.9541, 2.9541, 2.9541, 2.954, 2.954, 2.954, 2.9539, 2.9538, 2.9381, 2.9508, 2.9316, 2.9434, 2.9369, 2.946, 2.9077, 2.9337, 2.8916, 2.9245, 2.9178, 2.9413, 2.9038, 2.94, 2.8848, 2.9141, 2.9127, 2.871, 2.8523, 2.8764, 2.8447, 2.9167, 2.8034, 2.8778, 2.8564, 2.7576, 2.8352, 2.6612, 2.168, 2.2044, 2.4963, 1.9439, 1.8924, 1.6847, 1.4454, 2.4611, 1.8315, 1.4134, 2.0899, 1.852, 1.2938, 2.2175, 1.3671, 1.7662, 1.4909, 1.117, 3.7804, 3.7744, 3.773, 3.7723, 3.7682, 3.7617, 3.7604, 3.7559, 3.7559, 3.7513, 3.7483, 3.7394, 3.7193, 3.6801, 3.6398, 3.6222, 3.6039, 3.5942, 3.5714, 3.5658, 3.5283, 3.4707, 3.4696, 3.4347, 3.3956, 3.3939, 3.367, 3.367, 3.3648, 3.3519, 3.3326, 3.351, 3.346, 3.2888, 3.2191, 3.3279, 3.3091, 3.1288, 3.3385, 2.8694, 2.6285, 2.747, 3.3283, 3.1276, 2.491, 2.7701, 2.3534, 3.0059, 2.0914, 2.0482, 2.0687, 2.714, 2.3489, 1.5567, 1.2862, 1.4108, 1.2706, 2.4685, 1.1152, 0.8754, 1.6318, -0.0181, 2.873, 2.873, 2.8729, 2.8728, 2.8728, 2.8727, 2.8727, 2.8726, 2.8726, 2.8726, 2.8726, 2.8725, 2.8723, 2.8723, 2.8723, 2.8723, 2.8721, 2.8721, 2.872, 2.872, 2.872, 2.8719, 2.8719, 2.8719, 2.8719, 2.8718, 2.8717, 2.8717, 2.8715, 2.8714, 2.8557, 2.8598, 2.8582, 2.8217, 2.8502, 2.7946, 2.7861, 2.8472, 2.7601, 2.7698, 2.8319, 2.8083, 2.8215, 2.7152, 2.7084, 2.5741, 2.7189, 2.4397, 2.5623, 2.4596, 2.4363, 2.4134, 2.7381, 2.5765, 2.6682, 2.2266, 2.3792, 2.5008, 2.3974, 2.3066, 2.3361, 2.5599, 2.6335, 1.817, 2.0099, 2.2614, 2.385, 1.9912, 2.0737, 1.4269, 0.9892, 1.4076, 1.4884, 1.1171, 1.4437, 1.5044, 1.1525, 1.7815, 0.8232, 1.1158, 1.1824, 0.9612, 1.2908, 1.6019, 0.7782, 1.2434, 1.0074, 0.2743, 1.0337, 0.9447, 0.0041, -0.2676, 3.0808, 3.0807, 3.0807, 3.0807, 3.0806, 3.0805, 3.0805, 3.0804, 3.0804, 3.0804, 3.0803, 3.0802, 3.0801, 3.0801, 3.0799, 3.0799, 3.0799, 3.0799, 3.0798, 3.0797, 3.0797, 3.0796, 3.0796, 3.0796, 3.0795, 3.0795, 3.0795, 3.0794, 3.0793, 3.0793, 3.0623, 3.0686, 3.0584, 3.0661, 3.061, 3.0673, 3.0521, 3.0539, 3.0492, 3.0513, 3.0465, 3.0461, 3.0406, 3.0282, 3.0227, 3.0259, 2.9667, 3.0199, 2.9952, 2.9957, 2.9348, 2.9796, 2.9723, 2.968, 2.9299, 2.8951, 2.7942, 2.8566, 2.9364, 2.9268, 2.4239, 2.8677, 2.4488, 2.6389, 2.2682, 2.6989, 2.4688, 2.6104, 2.7047, 1.4673, 1.9725, 1.4157, 1.6306, 1.7242, 1.1395, 1.0799, 2.4358, 1.3399, 1.7615, 1.8324, 1.6789, 1.3703, 1.0935, 2.0061, 1.2261, 1.6893, 1.2875, 1.333, 0.4228, 1.0839, 1.0715, 0.2226, 1.1475, -0.8239, 3.4048, 3.4046, 3.4045, 3.4045, 3.4045, 3.4044, 3.4044, 3.4044, 3.4043, 3.4042, 3.4041, 3.4041, 3.404, 3.404, 3.4039, 3.4039, 3.4039, 3.4039, 3.4038, 3.4038, 3.4037, 3.4036, 3.4035, 3.4035, 3.4034, 3.4034, 3.4031, 3.4031, 3.4031, 3.4031, 3.3751, 3.3507, 3.3434, 3.3601, 3.3385, 3.2918, 3.3472, 3.2271, 3.3285, 3.2174, 3.2775, 3.1244, 3.2641, 3.2685, 3.1055, 3.0795, 3.1237, 2.987, 2.6909, 3.1816, 2.8132, 2.7397, 2.9139, 2.0335, 1.9591, 2.7147, 2.4596, 2.7118, 2.8326, 2.6255, 2.7635, 1.2751, 1.912, 2.5437, 2.4545, 2.5276, 2.1621, 1.9851, 1.5839, 0.8752, 2.0143, 1.4875, 0.9814, 1.1089, 1.7718, 1.7244, 1.836, 1.0374, 0.6224, 1.6625, 0.7978, 0.6774, 1.4924, 0.5123, 1.2096, 0.6293, 0.7512, 0.0491, 1.6126, 0.4928, 0.9644, 0.9951, 3.38, 3.3797, 3.3796, 3.3794, 3.3793, 3.3792, 3.3791, 3.379, 3.3787, 3.3787, 3.3787, 3.3786, 3.3786, 3.3785, 3.3785, 3.3783, 3.3777, 3.3777, 3.3777, 3.3775, 3.3775, 3.3775, 3.3775, 3.3771, 3.3771, 3.3771, 3.3771, 3.3771, 3.3771, 3.3771, 3.3697, 3.3582, 3.3165, 3.3233, 3.3441, 3.342, 3.3401, 3.2785, 3.3043, 3.1854, 3.2712, 3.2787, 3.2414, 3.2485, 3.0225, 3.1498, 3.1444, 2.921, 3.0129, 3.1424, 3.1389, 3.2393, 3.03, 3.0431, 2.9168, 2.8981, 3.1443, 2.9894, 2.6245, 3.1407, 2.2345, 2.5347, 2.2409, 2.8549, 2.0264, 2.4461, 2.0512, 2.257, 2.7491, 2.5003, 1.7328, 1.7879, 2.0215, 1.9004, 2.077, 2.1635, 1.2755, 1.2131, 0.6691, 1.2858, 1.54, 0.7828, 1.0863, 1.359, 1.1704, 0.8706, 0.4052, 1.429, 1.535, 1.4915, 0.5411, 0.7794, 3.5896, 3.5896, 3.5895, 3.5895, 3.5895, 3.5895, 3.5894, 3.5893, 3.5893, 3.5892, 3.5892, 3.5891, 3.5891, 3.5889, 3.5888, 3.5888, 3.5888, 3.5888, 3.5884, 3.5884, 3.5883, 3.5883, 3.5882, 3.5881, 3.588, 3.5878, 3.5877, 3.5873, 3.5862, 3.5848, 3.5722, 3.5726, 3.5454, 3.5548, 3.56, 3.5451, 3.4798, 3.4933, 3.5172, 3.4381, 3.4711, 3.4981, 3.4757, 3.3103, 3.4387, 3.4249, 3.347, 3.3267, 3.3898, 3.1722, 2.9074, 3.0218, 3.1975, 3.3392, 2.1916, 2.7965, 2.2327, 2.6329, 2.0999, 1.9096, 1.8787, 2.0043, 1.6087, 1.8016, 2.4714, 1.8024, 1.7416, 1.1214, 1.3011, 1.3537, 1.3358, 1.8219, 1.4767, 0.8535, 2.0384, 1.1485, 0.9864, 1.0045, 1.7348, 1.2418, 0.1676, 2.6935, 2.6935, 2.6934, 2.6934, 2.6934, 2.6932, 2.6932, 2.6931, 2.693, 2.693, 2.693, 2.6928, 2.6925, 2.6924, 2.6923, 2.692, 2.6913, 2.6911, 2.6911, 2.69, 2.6894, 2.6894, 2.6886, 2.6886, 2.6858, 2.6853, 2.6853, 2.6819, 2.6812, 2.6812, 2.68, 2.6745, 2.671, 2.6792, 2.6741, 2.6671, 2.6758, 2.6751, 2.6673, 2.6447, 2.5889, 2.653, 2.6339, 2.5744, 2.6341, 2.6156, 2.5581, 2.4621, 2.5418, 2.6145, 2.641, 2.6457, 2.4688, 2.5751, 2.4642, 2.4243, 2.5016, 2.4614, 2.2994, 2.1008, 1.8211, 2.067, 2.1061, 2.0513, 1.983, 2.2118, 1.5134, 1.3347, 1.1537, 1.5189, 2.1905, 0.9716, 2.0485, 1.3187, 0.6003, 0.8902, 1.364, 1.3235, 1.362, 1.6431, 0.8185, 1.23, 1.1938, 1.0457, 0.4294, 0.9704, 0.8311, 0.3466, 0.212, 0.0688, 3.2676, 3.2676, 3.2674, 3.2674, 3.2674, 3.2671, 3.2669, 3.2669, 3.2668, 3.2658, 3.2658, 3.2643, 3.2643, 3.2637, 3.2621, 3.2619, 3.2616, 3.2616, 3.2595, 3.2595, 3.2595, 3.2595, 3.2554, 3.2554, 3.2554, 3.2554, 3.2554, 3.2554, 3.2496, 3.2432, 3.2426, 3.2408, 3.2263, 3.2129, 3.2039, 3.1719, 3.1607, 3.0716, 3.1401, 3.1457, 3.1477, 3.1406, 3.0848, 3.0903, 3.1274, 3.0867, 3.1063, 2.8384, 2.9813, 2.9682, 3.0133, 2.9409, 2.6858, 2.3331, 2.7659, 2.6511, 2.0218, 2.8391, 2.644, 2.8009, 2.7789, 1.9166, 2.4427, 2.7023, 2.9024, 2.0985, 2.6026, 2.4105, 2.2533, 1.6838, 1.7929, 0.8744, 0.499, 1.3946, 1.9967, 2.2803, 1.1877, 1.4293, 1.7417, 1.4862, 1.1185, 1.624, 1.4552, 0.7096, 0.5059, 0.474, 0.6661, 0.7686, 3.1573, 3.1572, 3.1572, 3.1571, 3.157, 3.1569, 3.1569, 3.1568, 3.1568, 3.1568, 3.1567, 3.1567, 3.1566, 3.1565, 3.1564, 3.1563, 3.1561, 3.1561, 3.1559, 3.1559, 3.1558, 3.1555, 3.1555, 3.1554, 3.1552, 3.1552, 3.155, 3.155, 3.1547, 3.1539, 3.1517, 3.1461, 3.1447, 3.1425, 3.1337, 3.1147, 3.1229, 3.1203, 3.1328, 3.1068, 3.1278, 3.1114, 3.1227, 2.9625, 3.0017, 3.0174, 3.003, 3.0373, 2.5594, 2.6821, 2.157, 2.6965, 2.4978, 2.2142, 2.8328, 2.8478, 2.0194, 2.4725, 2.2795, 2.4978, 1.8127, 1.1734, 2.4944, 1.9335, 1.5438, 1.7063, 1.3789, 2.0924, 2.3796, 0.8458, 1.6698, 2.1474, 2.4862, 0.7947, 1.0083, 1.7644, 1.0483, 1.4702, 1.0721, 0.4135, 1.327, 0.6745, 1.9821, 1.4199, 0.5629, 0.3229, 0.9193, 0.2536, 0.6941, 0.4222, 1.01, 0.6355, 0.12, 2.8458, 2.8453, 2.8453, 2.845, 2.845, 2.8446, 2.8445, 2.8444, 2.8442, 2.8438, 2.8431, 2.8427, 2.8427, 2.8408, 2.8396, 2.8375, 2.8375, 2.8375, 2.8334, 2.8334, 2.8334, 2.8334, 2.8334, 2.8328, 2.8212, 2.8212, 2.8212, 2.8212, 2.8212, 2.8212, 2.8178, 2.7746, 2.8153, 2.809, 2.79, 2.8072, 2.776, 2.7818, 2.7839, 2.7939, 2.7703, 2.735, 2.7469, 2.7469, 2.7306, 2.7391, 2.6585, 2.6028, 2.7133, 2.5593, 2.6278, 2.548, 2.5672, 2.5004, 2.523, 2.4888, 2.5006, 2.4526, 2.5604, 2.4301, 2.4207, 2.3887, 2.3919, 2.5498, 2.3416, 2.3391, 2.3394, 2.2857, 2.3879, 2.2655, 2.3064, 1.6912, 2.2867, 2.3044, 1.1272, 1.0894, 0.9399, 0.6632, 1.0129, 1.7064, 0.7642, 0.7553, 1.4882, 1.326, 1.1579, 0.924, 0.6984, 0.9734, 0.3549, 0.2661, 0.6029, 0.7949, 3.1015, 3.1014, 3.1014, 3.1013, 3.1013, 3.101, 3.101, 3.1009, 3.1008, 3.1007, 3.1007, 3.1005, 3.1005, 3.1004, 3.1004, 3.1004, 3.1003, 3.1002, 3.1001, 3.0996, 3.0989, 3.0985, 3.0981, 3.0981, 3.0975, 3.0975, 3.0966, 3.0954, 3.0933, 3.0933, 3.0917, 3.0871, 3.065, 3.067, 3.0304, 3.0576, 3.0417, 3.0613, 3.0479, 3.0505, 3.0249, 3.0667, 3.0241, 3.0369, 3.0619, 3.0397, 3.0417, 2.9, 2.9321, 2.9121, 2.4172, 2.9321, 2.8974, 2.5724, 2.2963, 2.6033, 2.2655, 1.6894, 2.7695, 1.8131, 2.5566, 2.1205, 2.2721, 2.5451, 1.7367, 1.6437, 1.7041, 1.3862, 1.5695, 1.1344, 1.0661, 2.0625, 1.1212, 1.4393, 1.6339, 1.6986, 1.1388, 1.89, 0.6968, 0.872, 1.2189, 0.6219, 1.1736, 0.2159, 3.4551, 3.4546, 3.4542, 3.4538, 3.4528, 3.4526, 3.4526, 3.4522, 3.4518, 3.4512, 3.4512, 3.4512, 3.4512, 3.4503, 3.4503, 3.4491, 3.4491, 3.447, 3.447, 3.447, 3.447, 3.4429, 3.4429, 3.4429, 3.4429, 3.4429, 3.4429, 3.4429, 3.4429, 3.4333, 3.4328, 3.4267, 3.4203, 3.4287, 3.408, 3.4061, 3.3884, 3.345, 3.3715, 3.3098, 3.3187, 3.2103, 3.2114, 3.3318, 3.2371, 3.2726, 3.1947, 3.0196, 3.1158, 3.2472, 2.9143, 3.0293, 3.0821, 3.1376, 3.0847, 2.9871, 3.0848, 3.1879, 2.9495, 2.6143, 2.3282, 2.7364, 2.8456, 1.9985, 2.593, 1.9212, 2.2445, 2.2938, 1.7825, 0.9752, 2.063, 1.497, 0.5555, 1.6722, 2.2841, 0.8458, 0.5909, 0.8015, 0.6425, 0.7487, 0.9256, 1.8314, 0.9748, 0.5674, 0.9072, 1.1859, 0.9719, 0.2684, 0.7136, 0.8741, -0.0047, 0.1244, 0.4753, 0.4961, 3.2038, 3.2038, 3.2038, 3.2037, 3.2037, 3.2037, 3.2036, 3.2035, 3.2035, 3.2035, 3.2032, 3.2031, 3.203, 3.2028, 3.2028, 3.2027, 3.2024, 3.202, 3.2019, 3.2019, 3.2017, 3.2017, 3.2012, 3.2004, 3.2004, 3.2004, 3.2004, 3.1977, 3.1977, 3.1956, 3.193, 3.1705, 3.16, 3.0985, 3.1456, 3.103, 3.0656, 3.0535, 3.0599, 3.0529, 3.0772, 3.0809, 2.9112, 2.9934, 2.733, 2.9586, 2.7144, 2.9109, 3.0578, 2.3428, 2.8871, 2.6576, 2.5227, 2.3096, 1.9975, 1.3752, 1.4403, 1.2769, 1.3753, 1.008, 1.6765, 2.2647, 1.2417, 1.9993, 1.3196, 1.255, 1.2285, 1.3602, 1.2467, 0.8632, 0.9297, 1.204, 0.6887, 0.7356, 0.3426, 0.7872, 0.7892, 0.4939, -0.2593, 0.7573, 0.8119, 0.1308, 3.2555, 3.2554, 3.2554, 3.2554, 3.2553, 3.2553, 3.2552, 3.2551, 3.2551, 3.255, 3.255, 3.2549, 3.2549, 3.2549, 3.2548, 3.2548, 3.2547, 3.2546, 3.2545, 3.2544, 3.2544, 3.2543, 3.2514, 3.2471, 3.2471, 3.2431, 3.2389, 3.2308, 3.2308, 3.2308, 3.2296, 3.2233, 3.2158, 3.2189, 3.2239, 3.2063, 3.1054, 2.9041, 2.8539, 2.813, 2.9902, 2.8385, 2.5705, 2.5408, 2.882, 2.8961, 2.9084, 2.651, 2.873, 2.8059, 2.4207, 1.6266, 2.2533, 2.3369, 1.9529, 1.3871, 1.1027, 1.9275, 0.8815, 0.8495, 0.6996, 0.9052, 1.8614, 0.2784, 3.5957, 3.5957, 3.5957, 3.5955, 3.5954, 3.5953, 3.5953, 3.5948, 3.5948, 3.5948, 3.5946, 3.5944, 3.5943, 3.5941, 3.5937, 3.5937, 3.5928, 3.5909, 3.5902, 3.5897, 3.5897, 3.5876, 3.5876, 3.5848, 3.5835, 3.5835, 3.5835, 3.5729, 3.5713, 3.5686, 3.5653, 3.5632, 3.551, 3.557, 3.5117, 3.5557, 3.5381, 3.5098, 3.3988, 3.3269, 3.2317, 3.4034, 3.3904, 3.3435, 3.1957, 3.4353, 3.3444, 2.9487, 2.982, 2.9294, 3.0864, 2.929, 2.7176, 2.9128, 3.003, 3.2738, 2.6714, 2.3501, 2.5228, 2.5989, 2.2784, 2.3367, 2.2623, 2.2571, 1.7389, 2.1309, 1.9495, 1.7858, 1.5391, 1.903, 1.7347, 1.4997, 1.5543, 0.9261, 1.8589, 1.3537, 3.2357, 3.2356, 3.2355, 3.2354, 3.2346, 3.2343, 3.2332, 3.2322, 3.2274, 3.2233, 3.2202, 3.211, 3.211, 3.211, 3.211, 3.211, 3.211, 3.1984, 3.188, 3.1684, 3.1567, 3.1392, 3.125, 3.1196, 3.1069, 3.1046, 3.1023, 3.1006, 3.0884, 3.0804, 3.0605, 2.9483, 2.9929, 2.8345, 3.0719, 2.9559, 2.7187, 2.708, 2.857, 2.899, 2.7279, 2.2281, 2.2073, 2.4314, 2.266, 2.2733, 1.9379, 2.5472, 2.2351, 1.679, 1.839, 1.6754, 1.6724, 1.2061, 0.8396, 1.1617, 1.1278, 1.3552, 0.5802, 0.5051, -0.0502, 1.3341, 3.5969, 3.5968, 3.5968, 3.5967, 3.5966, 3.5965, 3.5965, 3.5965, 3.5965, 3.5963, 3.5961, 3.596, 3.596, 3.5957, 3.5956, 3.5955, 3.5954, 3.5952, 3.5952, 3.5948, 3.5945, 3.5945, 3.5937, 3.5937, 3.5937, 3.5923, 3.5923, 3.5923, 3.5923, 3.5923, 3.5802, 3.5782, 3.5788, 3.5753, 3.5671, 3.5566, 3.563, 3.5538, 3.4763, 3.5313, 3.5465, 3.4822, 3.4873, 3.423, 3.4615, 3.2585, 3.3259, 3.3442, 3.3119, 3.4936, 3.2434, 3.0632, 3.2012, 3.1568, 2.9486, 3.1305, 2.7239, 3.0467, 3.2939, 3.2252, 3.2213, 3.2018, 2.9671, 3.0544, 2.3159, 2.2205, 3.0277, 2.8543, 2.6104, 2.3432, 1.999, 2.3192, 2.9474, 1.8891, 0.6297, 0.8688, 2.3836, 2.2715, 1.5647, 1.7932, 1.3674, 3.591, 3.591, 3.5907, 3.5905, 3.5905, 3.5903, 3.5895, 3.5892, 3.587, 3.5861, 3.5857, 3.5841, 3.5829, 3.582, 3.5806, 3.5804, 3.5803, 3.579, 3.5787, 3.5787, 3.5748, 3.5738, 3.5698, 3.5665, 3.5665, 3.5665, 3.5665, 3.5665, 3.5665, 3.5665, 3.5646, 3.5655, 3.5564, 3.5645, 3.558, 3.5623, 3.5606, 3.5596, 3.5552, 3.5231, 3.5335, 3.479, 3.3857, 3.4369, 3.3916, 3.4652, 3.0306, 3.5106, 2.8866, 3.197, 3.1413, 2.8962, 3.0102, 3.0972, 2.7487, 2.2805, 2.9378, 2.7067, 2.8052, 2.2895, 2.4967, 1.6507, 2.2365, 2.5149, 1.6393, 1.0114, 1.4528, 1.8931, 1.3287, 1.4908, 0.1734, 0.8466, 1.3882, 1.5139, 0.7929, 1.1428, 1.7083, 0.1359, 1.8023, 2.9755, 2.9754, 2.9753, 2.9753, 2.9752, 2.975, 2.975, 2.975, 2.975, 2.9748, 2.9748, 2.9748, 2.9746, 2.9745, 2.9745, 2.9745, 2.9745, 2.9744, 2.9743, 2.9742, 2.974, 2.9739, 2.9739, 2.9739, 2.9738, 2.9738, 2.9738, 2.9738, 2.9738, 2.9736, 2.94, 2.9666, 2.965, 2.9569, 2.9477, 2.944, 2.9125, 2.9285, 2.9236, 2.9063, 2.9212, 2.9107, 2.9307, 2.9092, 2.9036, 2.9051, 2.8582, 2.8393, 2.7708, 2.8742, 2.7808, 2.7881, 2.8074, 2.6807, 2.6988, 2.7192, 2.7285, 2.5224, 2.7469, 2.7873, 2.5515, 2.6385, 2.3144, 2.1346, 2.5195, 2.2009, 2.0706, 1.7727, 2.5218, 1.8274, 1.897, 1.1283, 2.4204, 1.4871, 2.0881, 0.8444, 0.9124, 0.6129, 0.7588, 1.6106, 0.7102, 1.2919, 0.3651, 1.7875, 0.8117, -0.1457, 0.7805, 0.8056, 2.993, 2.9928, 2.9928, 2.9927, 2.9926, 2.9925, 2.9925, 2.9924, 2.9924, 2.9924, 2.9924, 2.9923, 2.9922, 2.9922, 2.9921, 2.9921, 2.992, 2.992, 2.992, 2.992, 2.9919, 2.9919, 2.9919, 2.9918, 2.9918, 2.9918, 2.9918, 2.9918, 2.9918, 2.9918, 2.9917, 2.9846, 2.9855, 2.9815, 2.973, 2.9555, 2.9661, 2.9582, 2.9647, 2.9319, 2.9748, 2.973, 2.951, 2.9774, 2.919, 2.9739, 2.9357, 2.9229, 2.9308, 2.8483, 2.9005, 2.881, 2.9535, 2.8875, 2.9258, 2.8659, 2.8932, 2.8388, 2.8743, 2.63, 2.7845, 2.5876, 2.7959, 2.5701, 2.7512, 2.4682, 2.3538, 2.6791, 2.2875, 2.2999, 2.5294, 2.6409, 2.6539, 2.374, 2.4811, 2.1989, 2.2448, 1.46, 1.9447, 1.7741, 1.4762, 2.3076, 1.0539, 1.2674, 0.8886, 1.821, 0.8535, 0.8091, 1.1125, 0.8153, 0.0959, 1.3287, 1.4593]}, \"token.table\": {\"Topic\": [7, 11, 4, 12, 21, 4, 4, 4, 7, 4, 7, 4, 4, 3, 4, 10, 12, 14, 14, 16, 2, 14, 14, 1, 3, 9, 12, 13, 14, 16, 17, 19, 24, 25, 7, 15, 8, 13, 15, 22, 1, 16, 18, 23, 2, 2, 10, 2, 7, 10, 19, 21, 24, 13, 2, 3, 6, 8, 9, 10, 13, 14, 15, 19, 21, 26, 20, 10, 19, 20, 15, 25, 13, 2, 5, 9, 13, 15, 16, 17, 22, 25, 1, 11, 1, 2, 8, 15, 23, 14, 10, 2, 3, 8, 9, 11, 13, 14, 15, 16, 17, 18, 19, 24, 1, 2, 4, 6, 7, 8, 10, 11, 13, 14, 16, 17, 18, 19, 23, 24, 8, 9, 10, 14, 17, 6, 8, 13, 14, 15, 16, 19, 23, 26, 5, 9, 11, 12, 13, 16, 26, 23, 2, 4, 6, 8, 13, 14, 16, 17, 18, 19, 20, 21, 22, 23, 24, 25, 5, 4, 7, 12, 13, 14, 25, 26, 2, 3, 8, 10, 16, 17, 19, 20, 24, 2, 16, 4, 11, 13, 15, 24, 25, 11, 18, 8, 9, 19, 18, 25, 11, 15, 22, 25, 3, 5, 8, 11, 15, 17, 18, 14, 17, 18, 11, 3, 4, 7, 8, 9, 10, 11, 13, 14, 15, 16, 17, 18, 19, 21, 22, 23, 24, 25, 26, 2, 8, 16, 18, 19, 22, 8, 9, 10, 11, 13, 15, 16, 17, 19, 24, 25, 13, 5, 24, 4, 10, 2, 9, 19, 9, 4, 25, 4, 5, 10, 11, 12, 15, 18, 19, 22, 25, 26, 21, 2, 18, 25, 8, 20, 12, 4, 7, 12, 15, 7, 18, 2, 9, 11, 14, 15, 16, 24, 2, 3, 4, 6, 9, 13, 14, 18, 19, 21, 26, 18, 6, 14, 15, 1, 16, 3, 17, 9, 21, 23, 4, 7, 9, 11, 13, 15, 16, 17, 18, 19, 20, 21, 25, 2, 3, 4, 7, 9, 10, 11, 13, 14, 16, 18, 19, 21, 25, 19, 18, 5, 7, 9, 10, 11, 13, 15, 16, 19, 20, 21, 22, 24, 25, 19, 18, 15, 5, 6, 8, 10, 11, 13, 15, 16, 18, 19, 24, 25, 5, 24, 17, 5, 14, 15, 16, 17, 24, 26, 19, 10, 26, 17, 3, 10, 11, 12, 13, 18, 21, 18, 10, 9, 3, 8, 10, 14, 17, 19, 21, 23, 25, 18, 2, 3, 12, 14, 17, 18, 19, 21, 25, 3, 5, 6, 8, 9, 10, 11, 13, 14, 15, 17, 18, 19, 21, 24, 26, 1, 11, 15, 16, 18, 19, 21, 24, 25, 26, 26, 1, 3, 6, 8, 9, 10, 11, 13, 14, 15, 16, 17, 18, 19, 20, 24, 26, 17, 2, 3, 6, 9, 10, 11, 12, 13, 15, 16, 17, 18, 19, 20, 22, 24, 25, 10, 13, 16, 15, 8, 9, 19, 22, 24, 2, 3, 8, 10, 11, 12, 13, 16, 19, 21, 23, 25, 26, 17, 6, 6, 6, 10, 11, 18, 1, 3, 8, 14, 16, 20, 10, 11, 11, 1, 9, 16, 17, 19, 26, 5, 15, 19, 23, 2, 13, 14, 26, 14, 1, 8, 9, 12, 13, 14, 15, 23, 22, 1, 14, 8, 10, 11, 13, 14, 18, 19, 5, 8, 6, 10, 19, 3, 6, 7, 8, 16, 18, 23, 6, 8, 9, 13, 15, 19, 25, 15, 1, 10, 16, 17, 20, 21, 22, 20, 15, 4, 5, 8, 13, 15, 17, 19, 21, 22, 23, 6, 8, 9, 19, 25, 2, 10, 26, 9, 10, 11, 13, 14, 15, 16, 18, 19, 20, 22, 25, 13, 8, 11, 13, 15, 16, 18, 25, 1, 7, 10, 11, 13, 14, 16, 17, 18, 19, 25, 5, 10, 11, 12, 15, 16, 19, 21, 3, 4, 7, 11, 12, 14, 15, 16, 18, 19, 22, 25, 3, 15, 17, 20, 25, 24, 6, 7, 4, 18, 21, 3, 21, 18, 21, 18, 21, 7, 10, 24, 3, 5, 8, 9, 15, 19, 20, 22, 24, 25, 7, 8, 12, 13, 25, 2, 6, 8, 9, 10, 13, 14, 17, 18, 22, 24, 26, 4, 17, 20, 23, 20, 19, 24, 15, 20, 2, 7, 21, 3, 4, 7, 11, 18, 26, 6, 8, 9, 12, 13, 15, 16, 19, 24, 26, 2, 17, 21, 26, 23, 2, 4, 5, 9, 13, 14, 15, 16, 17, 24, 26, 2, 12, 22, 24, 4, 21, 25, 25, 24, 21, 8, 8, 11, 21, 25, 25, 3, 16, 24, 5, 7, 7, 11, 15, 18, 20, 26, 15, 18, 1, 2, 3, 6, 8, 9, 10, 13, 14, 15, 16, 17, 18, 19, 21, 22, 23, 24, 25, 8, 7, 8, 11, 15, 19, 20, 21, 5, 11, 12, 13, 16, 22, 25, 9, 18, 22, 17, 12, 16, 11, 17, 13, 22, 1, 16, 17, 10, 18, 15, 1, 15, 8, 20, 22, 5, 14, 18, 22, 6, 11, 21, 13, 13, 16, 26, 1, 5, 7, 11, 12, 17, 20, 21, 22, 18, 25, 1, 7, 8, 9, 11, 13, 15, 16, 18, 19, 24, 26, 19, 4, 4, 16, 3, 11, 1, 3, 6, 7, 12, 13, 14, 15, 16, 17, 18, 19, 21, 23, 25, 26, 3, 3, 6, 10, 11, 12, 13, 14, 18, 19, 21, 22, 23, 25, 26, 1, 8, 14, 16, 17, 18, 22, 23, 18, 4, 10, 19, 26, 5, 8, 9, 11, 12, 14, 15, 16, 17, 18, 19, 21, 22, 24, 26, 1, 8, 9, 14, 16, 18, 19, 20, 25, 3, 4, 9, 21, 3, 1, 18, 11, 12, 20, 24, 7, 10, 25, 5, 13, 26, 14, 5, 8, 9, 11, 16, 17, 18, 19, 2, 3, 5, 8, 9, 11, 12, 15, 16, 17, 18, 19, 20, 21, 22, 24, 25, 26, 17, 24, 15, 6, 12, 15, 12, 22, 23, 2, 10, 18, 10, 16, 16, 16, 11, 8, 16, 17, 22, 24, 25, 4, 16, 6, 7, 12, 3, 9, 10, 11, 13, 14, 15, 18, 22, 24, 26, 20, 9, 2, 3, 6, 7, 8, 9, 10, 12, 15, 23, 26, 9, 1, 3, 5, 7, 8, 9, 13, 14, 16, 17, 25, 1, 5, 9, 10, 11, 13, 14, 17, 19, 20, 22, 23, 25, 17, 19, 17, 8, 23, 12, 22, 8, 20, 10, 8, 9, 7, 8, 9, 16, 17, 19, 20, 2, 8, 11, 16, 1, 11, 18, 3, 6, 7, 8, 9, 10, 11, 12, 13, 15, 16, 17, 18, 19, 20, 21, 22, 23, 26, 15, 9, 10, 24, 10, 11, 13, 15, 17, 18, 19, 23, 11, 1, 3, 6, 8, 9, 11, 13, 14, 15, 16, 17, 18, 19, 23, 25, 26, 19, 26, 2, 5, 6, 7, 8, 10, 11, 13, 14, 15, 17, 18, 19, 21, 23, 25, 6, 8, 25, 1, 3, 5, 8, 9, 11, 17, 20, 24, 25, 26, 10, 11, 13, 14, 18, 1, 5, 8, 15, 17, 20, 22, 24, 26, 1, 2, 3, 4, 5, 6, 7, 8, 9, 10, 11, 12, 13, 15, 16, 17, 18, 19, 21, 22, 23, 24, 25, 26, 1, 18, 21, 1, 2, 8, 9, 10, 11, 13, 15, 16, 17, 18, 19, 22, 23, 24, 2, 5, 10, 11, 18, 19, 20, 22, 23, 24, 15, 26, 20, 23, 7, 8, 10, 19, 10, 14, 23, 26, 1, 4, 5, 6, 7, 8, 10, 11, 12, 13, 14, 15, 17, 18, 19, 21, 22, 24, 26, 4, 12, 13, 14, 18, 25, 1, 15, 19, 20, 22, 25, 6, 9, 11, 15, 16, 17, 20, 22, 23, 25, 1, 20, 22, 7, 17, 19, 3, 5, 23, 4, 10, 3, 6, 8, 11, 14, 15, 22, 24, 25, 5, 9, 11, 14, 15, 23, 5, 9, 21, 22, 23, 23, 19, 26, 8, 9, 17, 23, 25, 21, 23, 26, 15, 15, 24, 12, 15, 19, 23, 22, 1, 2, 9, 18, 5, 6, 9, 11, 25, 26, 3, 18, 25, 26, 2, 13, 15, 16, 17, 19, 24, 26, 1, 5, 9, 10, 22, 2, 5, 6, 8, 13, 15, 16, 17, 18, 19, 23, 24, 26, 4, 6, 9, 10, 11, 12, 14, 21, 23, 1, 5, 6, 7, 10, 11, 12, 13, 18, 19, 22, 25, 26, 1, 6, 7, 8, 9, 10, 11, 12, 13, 14, 15, 16, 17, 18, 21, 23, 24, 25, 10, 13, 14, 15, 16, 18, 25, 1, 2, 4, 5, 6, 8, 9, 11, 13, 14, 15, 16, 17, 18, 19, 21, 22, 23, 24, 25, 2, 6, 9, 17, 18, 21, 25, 2, 3, 5, 8, 9, 11, 15, 17, 18, 19, 21, 22, 24, 5, 2, 9, 10, 11, 12, 13, 14, 17, 18, 19, 21, 23, 26, 14, 8, 17, 19, 22, 23, 1, 2, 4, 8, 9, 13, 14, 16, 17, 18, 19, 21, 22, 25, 20, 5, 10, 15, 19, 5, 10, 18, 5, 13, 10, 11, 12, 16, 17, 13, 14, 15, 6, 13, 14, 15, 16, 17, 19, 23, 25, 11, 12, 16, 25, 26, 11, 18, 6, 7, 12, 13, 16, 18, 25, 26, 6, 7, 21, 10, 22, 25, 10, 17, 21, 3, 2, 9, 10, 11, 13, 15, 16, 18, 19, 22, 24, 25, 6, 9, 10, 11, 13, 18, 25, 1, 2, 11, 13, 1, 2, 8, 9, 12, 14, 16, 17, 19, 20, 22, 23, 24, 25, 16, 1, 2, 18, 19, 8, 25, 26, 12, 2, 8, 9, 21, 23, 24, 4, 5, 12, 12, 3, 7, 10, 11, 13, 14, 15, 17, 18, 21, 22, 25, 6, 11, 12, 19, 24, 2, 5, 9, 11, 13, 15, 16, 19, 20, 23, 25, 26, 12, 21, 2, 4, 5, 6, 7, 8, 10, 11, 12, 13, 15, 17, 18, 19, 21, 22, 25, 26, 1, 12, 1, 2, 8, 9, 12, 14, 15, 16, 17, 19, 20, 22, 23, 24, 25, 2, 8, 9, 15, 2, 23, 26, 17, 19, 26, 1, 3, 4, 7, 8, 11, 13, 14, 15, 18, 19, 20, 22, 24, 10, 20, 11, 16, 18, 18, 1, 25, 13, 18, 20, 11, 19, 24, 2, 13, 23, 12, 16, 10, 12, 11, 8, 5, 11, 13, 14, 17, 19, 24, 25, 8, 10, 13, 16, 19, 8, 14, 16, 18, 19, 20, 17, 1, 15, 1, 2, 14, 23, 1, 5, 23, 5, 10, 18, 6, 1, 3, 5, 6, 15, 17, 19, 25, 23, 1, 6, 12, 16, 17, 18, 21, 23, 26, 20, 5, 6, 8, 9, 12, 15, 17, 23, 5, 6, 8, 9, 10, 11, 13, 14, 15, 16, 17, 18, 19, 20, 22, 24, 25, 26, 6, 13, 19, 24, 4, 5, 7, 8, 9, 10, 11, 15, 16, 17, 18, 19, 26, 15, 23, 8, 19, 26, 3, 18, 26, 1, 17, 21, 5, 8, 16, 17, 19, 24, 16, 9, 11, 13, 15, 20, 21, 22, 23, 24, 25, 4, 9, 10, 11, 12, 13, 16, 23, 6, 8, 9, 25, 26, 14, 1, 5, 13, 15, 23, 24, 24, 2, 3, 6, 8, 9, 11, 12, 13, 15, 16, 17, 19, 22, 23, 24, 25, 3, 6, 10, 16, 10, 26, 11, 24, 18, 2, 13, 14, 17, 13, 14, 14, 19, 22, 7, 15, 22, 14, 23, 26, 1, 16, 26, 6, 7, 10, 21, 7, 21, 19, 2, 8, 11, 13, 15, 16, 18, 23, 25, 11, 9, 18, 6, 13, 15, 18, 21, 22, 11, 1, 4, 6, 7, 8, 9, 10, 11, 13, 14, 15, 16, 17, 18, 19, 20, 22, 23, 5, 15, 4, 6, 11, 12, 19, 21, 25, 8, 13, 14, 16, 18, 11, 3, 6, 18, 21, 1, 16, 23, 10, 1, 2, 3, 8, 10, 11, 12, 13, 14, 15, 16, 18, 19, 21, 22, 25, 10, 13, 1, 10, 13, 17, 8, 18, 26, 14, 24, 26, 24, 23, 6, 4, 7, 8, 9, 11, 14, 15, 17, 18, 19, 24, 2, 5, 6, 8, 9, 13, 15, 17, 18, 19, 24, 26, 5, 9, 21, 24, 2, 5, 11, 14, 19, 23, 24, 4, 10, 14, 17, 23, 4, 11, 13, 24, 4, 10, 17, 23, 11, 17, 22, 25, 14, 10, 18, 1, 2, 3, 6, 9, 12, 14, 15, 16, 18, 19, 21, 22, 24, 25, 10, 1, 6, 17, 21, 26, 5, 6, 8, 11, 13, 15, 17, 18, 21, 26, 26, 11, 14, 19, 20, 22, 6, 17, 26, 8, 12, 6, 1, 4, 8, 3, 9, 1, 1, 5, 11, 14, 17, 18, 19, 23, 24, 5, 3, 6, 18, 21, 4, 12, 16, 10, 23, 14, 24, 3, 4, 6, 7, 10, 11, 12, 13, 15, 16, 18, 19, 25, 26, 16, 25, 2, 6, 8, 10, 12, 13, 14, 15, 16, 19, 26, 10, 26, 21, 2, 3, 8, 10, 11, 18, 19, 21, 22, 23, 2, 13, 15, 21, 23, 26, 5, 5, 11, 12, 13, 14, 15, 16, 17, 19, 21, 23, 24, 1, 15, 21, 24, 4, 6, 7, 2, 12, 2, 9, 1, 2, 5, 13, 15, 19, 22, 24, 1, 6, 13, 17, 18, 25, 2, 6, 10, 26, 21, 6, 21, 23, 4, 7, 17, 9, 1, 2, 26, 4, 5, 8, 11, 13, 14, 15, 17, 19, 20, 24, 26, 17, 23, 9, 2, 8, 14, 16, 17, 18, 5, 17, 24, 16, 10, 12, 17, 24, 2, 7, 18, 10, 16, 26, 2, 8, 13, 21, 10, 21, 24, 10, 11, 13, 15, 16, 18, 19, 22, 24, 25, 2, 9, 11, 15, 16, 17, 21, 22, 10, 11, 13, 15, 16, 19, 25, 14, 18, 2, 5, 6, 9, 10, 15, 18, 19, 22, 23, 12, 23, 5, 7, 13, 14, 15, 17, 21, 26, 3, 4, 8, 10, 12, 18, 21, 1, 3, 7, 11, 12, 13, 14, 15, 16, 22, 24, 25, 26, 5, 9, 11, 14, 15, 16, 18, 25, 23, 12, 10, 2, 1, 6, 8, 10, 11, 15, 16, 19, 21, 26, 10, 2, 19, 26, 2, 3, 6, 9, 11, 13, 15, 16, 18, 25, 3, 2, 11, 19, 2, 8, 9, 11, 13, 15, 18, 2, 8, 9, 10, 13, 15, 16, 17, 18, 19, 23, 24, 25, 26, 1, 7, 11, 15, 17, 2, 3, 6, 8, 10, 14, 17, 18, 21, 2, 3, 12, 13, 19, 26, 23, 1, 5, 9, 11, 13, 16, 20, 24, 25, 26, 8, 13, 17, 18, 23, 16, 19, 10, 11, 1, 9, 16, 2, 9, 12, 13, 15, 16, 19, 26, 2, 2, 3, 4, 5, 6, 13, 15, 16, 18, 26, 1, 6, 11, 14, 6, 10, 13, 21, 22, 3, 8, 23, 25, 3, 20, 6, 11, 19, 18, 3, 7, 8, 9, 10, 11, 13, 14, 15, 16, 19, 21, 22, 25, 26, 17, 10, 10, 11, 16, 17, 20, 4, 6, 25, 2, 3, 5, 6, 7, 10, 13, 18, 19, 21, 10, 12, 26, 11, 11, 20, 22, 3, 10, 11, 18, 19, 8, 9, 10, 26, 1, 5, 11, 13, 15, 16, 20, 21, 22, 24, 25, 26, 17, 1, 17, 5, 19, 23, 19, 8, 19, 19, 18, 26, 15, 17, 13, 1, 5, 8, 9, 10, 11, 13, 15, 16, 17, 19, 21, 22, 25, 3, 11, 12, 13, 17, 1, 19, 22, 2, 12, 18, 26, 19, 24, 23, 24, 25, 1, 5, 8, 13, 15, 17, 18, 20, 22, 26, 7, 17, 20, 24, 8, 11, 18, 20, 26, 4, 6, 18, 24, 25, 3, 6, 8, 10, 11, 12, 13, 15, 16, 17, 18, 19, 21, 22, 26, 3, 19, 20, 24, 25, 2, 9, 10, 13, 19, 26, 26, 1, 2, 4, 5, 6, 8, 10, 13, 14, 15, 16, 17, 18, 19, 22, 24, 25, 26, 1, 5, 9, 14, 16, 17, 18, 25, 5, 3, 4, 6, 10, 20, 21, 26, 4, 9, 14, 15, 16, 17, 22, 23, 24, 11, 14, 15, 16, 18, 23, 24, 26, 17, 6, 9, 10, 12, 15, 17, 19, 26, 3, 18, 21, 2, 16, 22, 23, 11, 14, 19, 23, 3, 5, 12, 15, 17, 22, 25, 1, 2, 8, 19, 1, 4, 14, 4, 6, 7, 8, 9, 12, 15, 16, 17, 18, 19, 1, 9, 16, 17, 1, 10, 11, 2, 14, 18, 6, 2, 5, 8, 9, 10, 11, 13, 15, 16, 18, 19, 22, 24, 26, 8, 11, 13, 15, 16, 18, 19, 21, 24, 26, 6, 10, 15, 25, 1, 9, 8, 9, 8, 9, 12, 13, 2, 19, 15, 9, 1, 9, 14, 16, 17, 18, 12, 20, 12, 16, 17, 19, 17, 10, 16, 17, 19, 17, 3, 4, 6, 10, 21, 1, 9, 11, 14, 16, 13, 12, 17, 19, 20, 25, 1, 3, 8, 10, 11, 13, 15, 16, 17, 18, 19, 23, 4, 10, 1, 8, 16, 17, 1, 9, 12, 19, 26, 1, 13, 13, 1, 13, 8, 10, 12, 15, 16, 17, 18, 19, 26, 9, 15, 17, 18, 22, 15, 3, 11, 17, 19, 26, 8, 9, 10, 13, 18, 19, 24, 26, 9, 2, 4, 9, 13, 16, 26, 1, 24, 1, 12, 1, 9, 16, 23, 1, 17, 25, 9, 16, 23, 22, 2, 9, 2, 6, 13, 18, 21, 2, 8, 3, 5, 7, 8, 9, 10, 13, 14, 15, 16, 19, 20, 22, 24, 2, 2, 11, 12, 15, 19, 24, 25, 26, 10, 11, 12, 6, 7, 6, 12, 25, 12, 3, 5, 7, 8, 10, 13, 16, 17, 18, 19, 21, 22, 23, 25, 26, 16, 2, 18, 20, 22, 24, 17, 24, 26, 2, 5, 12, 19, 26, 2, 8, 26, 20, 9, 24, 13, 24, 24, 16, 8, 13, 18, 17, 26, 11, 23, 2, 17, 11, 18, 1, 5, 12, 13, 17, 18, 19, 20, 25, 13, 18, 25, 10, 9, 23, 3, 13, 2, 3, 5, 7, 8, 9, 11, 15, 19, 20, 21, 22, 23, 24, 26, 3, 8, 9, 10, 15, 19, 22, 23, 24, 2, 11, 12, 13, 26, 2, 11, 21, 12, 3, 6, 10, 14, 21, 25, 24, 5, 1, 8, 23, 26, 14, 20, 22, 9, 8, 2, 3, 7, 11, 12, 15, 17, 21, 23, 26, 14, 2, 3, 9, 10, 12, 15, 16, 8, 10, 11, 13, 17, 18, 19, 26, 11, 6, 8, 12, 13, 8, 23, 15, 24, 2, 5, 6, 9, 10, 11, 12, 13, 15, 16, 17, 18, 19, 22, 23, 24, 25, 26, 12, 10, 1, 14, 19, 13, 2, 17, 18, 19, 25, 14, 1, 12, 13, 26, 19, 10, 5, 8, 17, 18, 20, 25, 1, 5, 23, 1, 7, 8, 9, 11, 12, 15, 17, 19, 20, 22, 23, 3, 11, 12, 17, 18, 13, 2, 10, 2, 10, 11, 13, 16, 18, 19, 21, 11, 13, 16, 18, 13, 2, 5, 7, 8, 10, 14, 15, 16, 19, 21, 22, 2, 10, 11, 21, 7, 10, 22, 4, 7, 10, 8, 18, 22, 8, 13, 8, 14, 16, 17, 12, 15, 1, 8, 1, 2, 3, 7, 8, 9, 10, 11, 13, 14, 15, 16, 17, 18, 19, 22, 23, 25, 6, 2, 2, 2, 8, 9, 12, 14, 16, 18, 23, 24, 26, 2, 8, 10, 13, 15, 18, 23, 8, 4, 14, 17, 22, 14, 11, 25, 4, 8, 16, 18, 21, 23, 25, 26, 5, 6, 11, 13, 15, 16, 21, 23, 25, 26, 12, 19, 22, 23, 1, 3, 5, 7, 9, 10, 11, 13, 14, 15, 16, 17, 18, 19, 21, 22, 25, 6, 8, 11, 14, 17, 19, 23, 26, 21, 20, 2, 4, 6, 8, 9, 11, 12, 13, 14, 16, 17, 18, 19, 20, 21, 23, 24, 26, 8, 3, 4, 6, 8, 9, 10, 11, 13, 14, 15, 16, 24, 25, 26, 3, 11, 12, 19, 24, 11, 13, 9, 14, 24, 25, 26, 22, 20, 22, 3, 4, 8, 11, 12, 14, 22, 25, 2, 4, 5, 8, 9, 14, 15, 17, 18, 19, 20, 22, 24, 26, 7, 1, 11, 24, 20, 12, 8, 23, 24, 4, 7, 11, 2, 16, 1, 6, 7, 8, 10, 12, 25, 6, 7, 8, 15, 21, 23, 8, 10, 18, 26, 17, 2, 2, 15, 8, 13, 24, 26, 8, 25, 10, 11, 13, 14, 16, 17, 20, 25, 26, 2, 8, 3, 6, 15, 18, 6, 8, 15, 17, 23, 19, 5, 15, 11, 1, 24, 8, 10, 17, 19, 20, 25, 3, 5, 7, 11, 13, 14, 15, 17, 18, 24, 25, 1, 10, 16, 17, 18, 22, 10, 11, 12, 19, 21, 25, 5, 6, 8, 10, 11, 13, 15, 16, 17, 19, 20, 22, 23, 25, 26, 1, 2, 4, 7, 8, 9, 10, 13, 15, 16, 17, 18, 19, 23, 24, 25, 13, 25, 10, 18, 24, 26, 1, 17, 19, 20, 19, 5, 9, 12, 15, 26, 2, 3, 5, 6, 10, 12, 13, 15, 16, 17, 19, 22, 23, 24, 25, 26, 1, 7, 8, 9, 10, 19, 21, 7, 16, 26, 6, 7, 6, 13, 14, 15, 19, 20, 24, 26, 1, 5, 7, 9, 12, 13, 16, 17, 18, 19, 21, 22, 23, 24, 25, 10, 17, 19, 19, 4, 8, 11, 16, 17, 19, 21, 22, 15, 16, 9, 14, 15, 1, 2, 10, 24, 7, 8, 9, 17, 1, 3, 5, 6, 9, 10, 12, 13, 14, 15, 16, 17, 19, 22, 23, 24, 26, 9, 11, 1, 3, 6, 7, 8, 9, 10, 13, 15, 16, 17, 18, 19, 22, 24, 2, 8, 8, 9, 14, 15, 16, 19, 20, 22, 10, 14, 8, 16, 17, 20, 22, 15, 18, 25, 4, 11, 1, 10, 24, 4, 14, 4, 3, 18, 7, 12, 19, 4, 4, 12, 6, 23, 26, 25, 2, 7, 10, 11, 15, 26, 14, 19, 4, 21, 13, 21, 20, 7, 8, 10, 12, 15, 1, 1, 6, 7, 11, 12, 13, 15, 16, 19, 21, 25, 3, 12, 13, 18, 7, 11, 12, 13, 16, 17, 18, 25, 24, 4, 6, 12, 15, 19, 21, 6, 1, 3, 7, 10, 12, 14, 6, 23, 15, 4, 8, 11, 15, 17, 19, 21, 24, 26, 12, 13, 14, 19, 5, 8, 11, 14, 16, 17, 18, 19, 20, 21, 22, 25, 26, 8, 14, 16, 23, 26, 2, 9, 15, 23, 26, 23, 2, 3, 15, 8, 10, 13, 16, 17, 18, 22, 25, 26, 1, 4, 16, 25, 1, 5, 8, 11, 13, 16, 17, 19, 20, 21, 24, 25, 19, 10, 19, 26, 2, 6, 10, 11, 13, 15, 16, 17, 24, 25, 11, 16, 22, 24, 25, 3, 4, 9, 10, 15, 16, 17, 18, 19, 21, 25, 16, 17, 19, 17, 4, 5, 8, 11, 10, 24, 2, 5, 6, 7, 11, 13, 21, 26, 4, 18, 19, 11, 17, 19, 26, 12, 23, 6, 1, 22, 1, 9, 10, 15, 16, 17, 19, 20, 2, 4, 11, 13, 18, 19, 21, 1, 3, 5, 7, 8, 9, 10, 11, 14, 16, 17, 18, 20, 21, 25, 1, 5, 15, 16, 18, 21, 23, 25, 7, 9, 19, 21, 4, 8, 10, 25, 4, 7, 11, 13, 21, 3, 7, 10, 11, 12, 13, 14, 16, 18, 21, 25, 26, 6, 15, 16, 20, 25, 5, 7, 10, 14, 17, 18, 19, 26, 5, 4, 7, 25, 22, 8, 10, 16, 22, 1, 2, 3, 6, 10, 13, 15, 26, 7, 8, 10, 12, 13, 14, 15, 16, 21, 25, 5, 6, 9, 10, 12, 13, 15, 16, 22, 25, 26, 3, 15, 1, 2, 3, 4, 5, 6, 8, 9, 11, 13, 14, 16, 17, 19, 22, 24, 25, 26, 19, 3, 5, 7, 8, 9, 10, 13, 14, 15, 16, 17, 19, 20, 22, 23, 24, 8, 12, 14, 21, 25, 25, 8, 9, 19, 21, 25, 2, 24, 25, 3, 4, 5, 6, 10, 11, 13, 15, 16, 17, 18, 19, 22, 23, 24, 25, 26, 15, 17, 25, 8, 13, 18, 5, 23, 24, 6, 10, 13, 21, 3, 7, 12, 6, 8, 16, 17, 9, 1, 11, 10, 13, 15, 18, 10, 11, 13, 18, 15, 10, 24, 15, 17, 22, 25, 3, 5, 24, 9, 8, 3, 15, 25, 5, 6, 12, 15, 18, 5, 7, 9, 11, 8, 9, 15, 3, 5, 8, 9, 10, 11, 15, 19, 20, 21, 22, 23, 24, 5, 8, 9, 15, 12, 15, 23, 1, 2, 4, 6, 8, 9, 11, 13, 14, 15, 16, 17, 18, 19, 21, 23, 24, 26, 1, 2, 3, 5, 6, 8, 9, 11, 13, 15, 16, 17, 18, 19, 22, 23, 24, 25, 26, 1, 3, 5, 6, 8, 11, 15, 16, 17, 18, 19, 21, 23, 24, 26, 2, 6, 19, 24, 10, 5, 11, 21, 22, 23, 5, 12, 14, 22, 8, 9, 12, 14, 10, 17, 7, 11, 17, 9, 10, 15, 18, 19, 22, 25, 17, 5, 6, 7, 12, 19, 21, 22, 23, 24, 25, 10, 15, 6, 2, 6, 10, 12, 17, 21, 24, 12, 3, 4, 5, 13, 18, 1, 4, 10, 16, 26, 23, 1, 4, 5, 6, 8, 13, 19, 20, 1, 4, 8, 9, 10, 12, 13, 14, 15, 16, 17, 18, 19, 23, 24, 25, 26, 4, 5, 6, 7, 11, 14, 16, 19, 24, 25, 19, 11, 10, 12, 13, 18, 23, 3, 12, 18, 21, 15, 5, 15, 12, 4, 5, 6, 8, 13, 15, 16, 17, 19, 8, 16, 17, 26, 4, 6, 9, 10, 11, 13, 14, 15, 17, 20, 22, 24, 25, 26, 5, 6, 8, 10, 11, 13, 17, 20, 24, 26, 1, 4, 5, 14, 15, 16, 17, 18, 19, 20, 21, 17, 21, 22, 24, 1, 9, 14, 16, 17, 9, 6, 8, 10, 19, 20, 22, 1, 3, 6, 13, 14, 15, 16, 17, 18, 19, 24, 25, 12, 14, 15, 1, 3, 5, 9, 10, 13, 17, 19, 24, 25, 26, 8, 24, 9, 5, 17, 8, 13, 18, 2, 6, 17, 26, 6, 11, 21, 8, 10, 12, 18, 8, 15, 4, 5, 8, 13, 14, 15, 17, 18, 19, 25, 26, 2, 14, 15, 26, 1, 7, 9, 14, 16, 19, 20, 21, 23, 24, 21, 25, 25, 3, 7, 14, 1, 3, 5, 8, 13, 15, 16, 17, 20, 23, 19, 8, 11, 16, 17, 19, 1, 17, 2, 4, 5, 6, 8, 9, 13, 14, 17, 19, 23, 24, 26, 12, 16, 18, 19, 21, 25, 2, 6, 11, 14, 18, 21, 25, 26, 13, 2, 9, 10, 12, 26, 23, 3, 5, 6, 8, 9, 10, 11, 12, 13, 14, 15, 16, 17, 18, 19, 21, 24, 26, 3, 4, 8, 10, 11, 15, 16, 17, 19, 22, 26, 25, 13, 15, 22, 8, 2, 8, 9, 18, 3, 5, 10, 13, 14, 16, 17, 19, 20, 23, 24, 15, 6, 6, 23, 13, 1, 3, 4, 6, 7, 9, 10, 12, 13, 15, 16, 17, 18, 19, 21, 23, 25, 5, 8, 9, 11, 15, 16, 17, 18, 19, 20, 23, 26, 1, 8, 13, 15, 16, 17, 18, 19, 20, 21, 23, 26, 10, 13, 18, 23, 11, 24, 2, 9, 15, 26, 15, 5, 13, 18, 1, 9, 10, 11, 12, 13, 14, 16, 17, 19, 20, 24, 25, 26, 7, 8, 9, 10, 14, 15, 16, 19, 21, 16, 3, 12, 3, 2, 11, 13, 15, 24, 3, 8, 17, 24, 25, 9, 16, 2, 9, 17, 22, 24, 22, 25, 19, 24, 8, 19, 14, 14, 2, 8, 13, 16, 17, 18, 1, 2, 5, 6, 8, 11, 12, 13, 14, 15, 16, 17, 18, 19, 21, 22, 24, 26, 2, 8, 9, 11, 13, 14, 15, 16, 17, 18, 20, 23, 24, 12, 21, 1, 3, 19, 2, 26, 13, 21, 24, 12, 13, 17, 23, 11, 21, 21, 12, 21, 2, 3, 6, 8, 9, 10, 12, 13, 15, 16, 17, 18, 19, 24, 25, 26, 2, 16, 5, 6, 1, 11, 12, 17, 19, 25, 9, 2, 8, 13, 18, 19, 23, 26, 2, 10, 11, 13, 15, 17, 18, 26, 4, 11, 18, 3, 5, 9, 10, 11, 15, 16, 17, 18, 19, 20, 21, 22, 24, 25, 15, 1, 4, 7, 8, 9, 11, 12, 14, 16, 18, 19, 21, 23, 25, 7, 11, 17, 19, 5, 16, 17, 24, 26, 5, 4, 21, 2, 3, 19, 20, 23, 9, 19, 21, 23, 8, 13, 15, 19, 23, 3, 6, 10, 11, 14, 16, 18, 19, 21, 26, 1, 2, 4, 6, 7, 8, 9, 14, 15, 16, 17, 19, 20, 22, 24, 25, 17, 23, 24, 6, 1, 2, 10, 13, 17, 4, 6, 7, 10, 11, 12, 13, 14, 15, 16, 19, 21, 22, 24, 25, 26, 3, 4, 10, 12, 16, 21, 26, 9, 2, 6, 8, 11, 12, 13, 15, 16, 18, 19, 22, 25, 26, 5, 14, 18, 15, 4, 5, 7, 15, 17, 19, 21, 23, 26, 23, 2, 8, 9, 12, 17, 20, 23, 8, 20, 23, 10, 16, 4, 4, 5, 8, 9, 11, 13, 14, 15, 17, 20, 24, 26, 9, 10, 11, 20, 24, 26, 5, 10, 11, 13, 15, 16, 20, 22, 23, 24, 9, 5, 11, 24, 1, 23, 19, 19, 5, 8, 9, 15, 24, 25, 1, 8, 9, 16, 18, 19, 22, 26, 1, 18, 23, 26, 14, 1, 8, 2, 5, 9, 10, 13, 14, 15, 16, 17, 18, 19, 20, 22, 4, 6, 8, 10, 11, 15, 16, 19, 20, 25, 4, 3, 10, 24, 1, 17, 20, 8, 9, 10, 22, 2, 7, 10, 19, 9, 22, 26, 11, 9, 11, 23, 24, 9, 15, 12, 21, 2, 11, 12, 13, 24, 2, 6, 8, 11, 12, 13, 15, 16, 18, 19, 21, 23, 25, 26, 6, 9, 15, 16, 22, 25, 6, 7, 13, 26, 17, 17, 2, 15, 18, 21, 2, 4, 5, 9, 26, 5, 10, 11, 15, 16, 17, 19, 20, 22, 24, 26, 5, 8, 11, 13, 14, 15, 17, 18, 19, 22, 24, 25, 26, 13, 8, 9, 13, 14, 18, 23, 26, 4, 6, 7, 13, 16, 18, 19, 24, 25, 26, 6, 8, 13, 14, 17, 19, 25, 26, 26, 11, 13, 18, 21, 23, 6, 10, 26, 2, 4, 9, 18, 19, 24, 25, 3, 7, 11, 13, 15, 20, 8, 2, 13, 15, 19, 24, 11, 7, 13, 15, 1, 2, 3, 6, 8, 9, 12, 13, 14, 15, 16, 17, 18, 19, 22, 23, 24, 25, 18, 2, 13, 19, 20, 23, 6, 12, 13, 16, 19, 8, 9, 15, 16, 17, 18, 21, 22, 23, 2, 3, 14, 15, 16, 17, 18, 19, 23, 24, 25, 26, 9, 10, 5, 6, 15, 16, 17, 26, 9, 10, 11, 13, 14, 20, 26, 20, 3, 6, 8, 19, 7, 8, 9, 17, 1, 2, 3, 17, 19, 26, 2, 11, 16, 18, 24, 25, 26, 2, 8, 11, 14, 16, 17, 19, 22, 2, 4, 6, 8, 9, 13, 17, 20, 23, 25, 26, 8, 22, 2, 6, 12, 17, 2, 9, 11, 13, 14, 15, 16, 19, 20, 26, 16, 16, 6, 9, 14, 15, 17, 18, 19, 20, 21, 22, 25, 5, 6, 12, 15, 2, 8, 10, 11, 12, 13, 14, 15, 16, 19, 22, 26, 4, 7, 16, 17, 25, 26, 4, 5, 6, 7, 9, 10, 11, 12, 13, 14, 15, 19, 25, 26, 2, 13, 1, 7, 18, 26, 8, 13, 3, 10, 11, 12, 13, 14, 16, 18, 20, 21, 25, 26, 2, 4, 6, 9, 11, 12, 13, 15, 19, 25, 26, 1, 2, 3, 8, 11, 12, 14, 15, 16, 17, 18, 19, 21, 22, 25, 21, 2, 3, 5, 6, 8, 9, 10, 13, 14, 15, 16, 17, 18, 20, 21, 22, 23, 25, 26, 8, 9, 15, 22, 10, 8, 18, 9, 1, 2, 3, 5, 6, 7, 8, 9, 10, 11, 12, 13, 14, 15, 16, 17, 18, 19, 20, 22, 24, 26, 1, 3, 10, 12, 25, 9, 11, 13, 14, 15, 16, 17, 18, 19, 22, 24, 25, 12, 14, 7, 8, 11, 14, 15, 16, 17, 18, 19, 21, 3, 6, 8, 9, 11, 13, 14, 15, 16, 17, 18, 19, 24, 24, 2, 8, 9, 13, 15, 19, 21, 23, 14, 11, 18, 20, 2, 5, 8, 9, 11, 13, 15, 17, 19, 21, 26, 25, 13, 19, 23, 3, 6, 21, 20, 6, 10, 5, 16, 17, 13, 14, 25, 21, 5, 13, 4, 15, 16, 18, 19, 25, 26, 3, 6, 7, 9, 10, 11, 13, 14, 15, 16, 21, 25, 11, 15, 19, 21, 23, 3, 6, 20, 21, 22, 11, 20, 26, 2, 2, 2, 6, 17, 24, 1, 2, 5, 6, 8, 11, 12, 13, 14, 15, 16, 17, 19, 24, 26, 11, 18, 3, 6, 8, 15, 17, 18, 22, 23, 5, 11, 24, 15, 16, 17, 25, 1, 2, 4, 5, 11, 12, 13, 14, 15, 16, 17, 18, 19, 22, 23, 25, 1, 2, 3, 4, 6, 8, 10, 13, 16, 17, 18, 19, 21, 23, 24, 1, 3, 9, 15, 16, 17, 18, 2, 5, 8, 11, 12, 13, 14, 16, 17, 18, 19, 23, 24, 25, 1, 16, 25, 8, 19, 8, 25, 3, 11, 13, 18, 19, 25, 3, 8, 9, 15, 17, 18, 19, 23, 26, 1, 2, 8, 14, 16, 17, 18, 19, 21, 25, 5, 11, 16, 17, 24, 25, 26, 24, 2, 4, 6, 7, 8, 10, 11, 15, 17, 19, 21, 22, 24, 25, 26, 16, 2, 3, 6, 8, 13, 15, 16, 17, 18, 19, 24, 25, 19, 10, 12, 19, 1, 5, 17, 19, 3, 13, 26, 15, 13, 15, 17, 20, 14, 5, 6, 7, 9, 13, 16, 18, 21, 22, 25, 12, 12, 4, 14, 15, 6, 11, 12, 15, 17, 18, 3, 6, 11, 13, 15, 18, 22, 25, 17, 26, 1, 2, 5, 6, 8, 10, 11, 13, 15, 16, 17, 18, 19, 21, 22, 23, 24, 25, 15, 10, 20, 23, 24, 26, 1, 2, 4, 6, 9, 10, 11, 13, 14, 15, 16, 17, 18, 19, 21, 24, 25, 2, 3, 4, 6, 7, 8, 11, 13, 14, 16, 17, 18, 20, 22, 24, 26, 3, 4, 5, 6, 8, 13, 14, 15, 16, 17, 18, 19, 26, 1, 15, 25, 8, 3, 6, 11, 13, 21, 25, 26, 1, 8, 10, 13, 14, 16, 18, 23, 4, 12, 13, 14, 18, 19, 21, 5, 7, 19, 21, 26, 2, 3, 5, 10, 11, 12, 13, 14, 15, 16, 17, 18, 19, 24, 25, 18, 5, 10, 13, 14, 16, 18, 26, 12, 17, 2, 5, 7, 8, 12, 13, 14, 15, 16, 17, 19, 22, 23, 23, 1, 11, 15, 19, 20, 23, 18, 22, 2, 4, 8, 13, 17, 10, 15, 18, 25, 3, 12, 14, 18, 19, 26, 15, 17, 18, 19, 24, 5, 8, 15, 17, 23, 24, 25, 1, 3, 5, 13, 18, 19, 24, 25, 26, 5, 6, 11, 15, 17, 8, 9, 10, 11, 13, 15, 16, 20, 26, 5, 1, 3, 5, 6, 8, 9, 10, 11, 13, 15, 16, 17, 18, 19, 23, 24, 25, 26, 14, 23, 26, 18, 21, 8, 17, 19, 7, 12, 25, 2, 17, 18, 19, 21, 21, 21, 18, 19, 2, 7, 19, 21, 2, 3, 5, 11, 14, 15, 16, 17, 18, 19, 24, 25, 14, 6, 12, 2, 9, 12, 6, 25, 26, 3, 21, 4, 21, 9, 18, 19, 21, 1, 5, 6, 8, 11, 12, 15, 16, 17, 19, 21, 26, 3, 5, 9, 11, 20, 21, 24, 4, 11, 12, 25, 2, 4, 6, 8, 9, 19, 20, 22, 23, 25, 26, 16, 11, 26, 8, 9, 13, 15, 16, 19, 22, 24, 11, 12, 13, 14, 16, 17, 18, 19, 21, 24, 25, 3, 6, 7, 2, 5, 9, 6, 11, 15, 20, 25, 1, 13, 15, 17, 18, 19, 26, 6, 23, 18, 11, 23, 5, 6, 5, 12, 25, 20, 19, 1, 9, 14, 15, 16, 17, 18, 2, 4, 7, 10, 11, 12, 16, 18, 21, 22, 16, 4, 26, 8, 11, 23, 24, 13, 3, 4, 5, 10, 11, 17, 18, 19, 20, 26, 12, 12, 7, 21, 1, 14, 16, 17, 18, 1, 3, 5, 6, 9, 12, 13, 15, 16, 17, 18, 19, 21, 24, 25, 26, 1, 3, 4, 5, 8, 11, 13, 14, 16, 17, 18, 19, 22, 25, 2, 5, 6, 9, 10, 14, 19, 21, 22, 26, 26, 19, 26, 2, 9, 13, 15, 18, 26, 8, 20, 22, 13, 14, 24, 4, 2, 9, 3, 16, 25, 5, 13, 14, 19, 3, 10, 11, 3, 10, 11, 14, 15, 19, 21, 1, 5, 9, 12, 2, 3, 8, 11, 13, 17, 18, 21, 26, 3, 5, 6, 8, 9, 10, 11, 13, 15, 16, 18, 19, 20, 22, 24, 25, 26, 2, 3, 5, 10, 13, 15, 16, 17, 18, 19, 23, 24, 25, 3, 6, 9, 11, 16, 17, 18, 19, 22, 23, 25, 26, 3, 6, 26, 3, 1, 10, 11, 16, 17, 18, 20, 22, 25, 1, 14, 8, 10, 11, 19, 8, 14, 15, 22, 23, 9, 12, 19, 19, 4, 3, 7, 8, 9, 15, 20, 24, 20, 1, 14, 1, 2, 14, 18, 19, 22, 24, 24, 2, 6, 7, 18, 21, 25, 26, 18, 21, 6, 12, 13, 15, 18, 19, 25, 14, 26, 5, 12, 3, 4, 6, 8, 10, 12, 18, 23, 25, 7, 11, 12, 19, 4, 6, 7, 8, 14, 16, 18, 22, 24, 25, 26, 12, 19, 25, 12, 20, 1, 9, 16, 17, 18, 1, 9, 12, 16, 17, 18, 20, 3, 4, 6, 14, 18, 21, 26, 18, 21, 5, 8, 9, 12, 13, 15, 16, 18, 19, 21, 25, 26, 2, 17, 12, 20, 17, 25, 25, 12, 1, 5, 6, 11, 12, 15, 19, 23, 24, 25, 8, 4, 5, 7, 13, 19, 23, 26, 15, 9, 13, 15, 18, 22, 24, 26, 11, 18, 19, 26, 15, 2, 5, 9, 10, 13, 15, 18, 19, 22, 24, 2, 26, 1, 19, 26, 26, 16, 26, 3, 4, 7, 9, 10, 12, 13, 14, 19, 24, 25, 2, 3, 6, 10, 11, 12, 14, 18, 21, 26, 20, 2, 10, 9, 1, 2, 3, 10, 11, 14, 15, 16, 17, 18, 19, 20, 21, 22, 26, 5, 19, 20, 25, 26, 14, 15, 23, 16, 17, 20, 10, 26, 2, 4, 9, 11, 14, 15, 16, 18, 19, 22, 26, 5, 14, 17, 23, 24, 5, 20, 9, 15, 25, 9, 2, 4, 6, 8, 9, 13, 17, 19, 21, 23, 24, 26, 12, 18, 21, 6, 15, 4, 8, 13, 17, 19, 25, 1, 3, 4, 5, 6, 7, 8, 9, 10, 11, 13, 14, 17, 18, 19, 21, 22, 25, 26, 2, 17, 8, 9, 17, 8, 9, 5, 9, 14, 15, 16, 17, 20, 25, 5, 7, 9, 19, 20, 21, 23, 24, 25, 9, 6, 9, 17, 19, 20, 21, 24, 3, 25, 26, 23, 10, 12, 19, 4, 3, 6, 7, 10, 14, 19, 21, 23, 24, 12, 14, 15, 19, 21, 26, 8, 12, 26, 16, 25, 3, 6, 13, 21, 23, 26, 1, 1, 2, 3, 4, 7, 8, 9, 10, 11, 12, 13, 14, 15, 16, 17, 18, 19, 21, 23, 25, 26, 23, 6, 4, 17, 20, 22, 4, 20, 1, 2, 9, 15, 19, 22, 23, 6, 7, 8, 12, 14, 17, 18, 21, 23, 25, 26, 5, 25, 2, 5, 18, 19, 21, 3, 7, 11, 18, 11, 1, 8, 14, 16, 17, 18, 19, 20, 22, 23, 26, 16, 3, 6, 8, 9, 13, 14, 16, 17, 18, 19, 20, 21, 23, 1, 3, 5, 8, 9, 11, 12, 13, 14, 15, 16, 17, 18, 19, 22, 25, 26, 14, 20, 10, 26, 1, 9, 16, 17, 18, 1, 3, 18, 26, 7, 10, 15, 19, 22, 23, 25, 12, 13, 16, 19, 24, 26, 10, 11, 11, 1, 5, 10, 16, 19, 23, 24, 2, 5, 7, 9, 10, 13, 15, 17, 22, 2, 5, 6, 8, 10, 12, 13, 15, 19, 23, 26, 9, 10, 11, 13, 18, 26, 2, 26, 1, 9, 21, 22, 23, 24, 7, 8, 9, 17, 6, 10, 15, 18, 23, 26, 8, 16, 20, 22, 23, 3, 9, 15, 17, 18, 22, 2, 5, 6, 7, 8, 9, 10, 11, 13, 14, 15, 19, 22, 23, 25, 8, 1, 11, 15, 17, 11, 3, 5, 6, 7, 13, 15, 17, 18, 19, 22, 26, 18, 2, 17, 26, 12, 17, 19, 8, 9, 13, 18, 23, 24, 25, 26, 11, 12, 15, 1, 11, 12, 14, 16, 19, 24, 25, 26, 14, 11, 8, 12, 13, 15, 23, 26, 13, 1, 2, 4, 6, 8, 10, 14, 15, 17, 19, 22, 14, 16, 18, 19, 17, 26, 16, 5, 9, 11, 13, 14, 15, 16, 17, 18, 23, 25, 26, 3, 6, 10, 15, 17, 19, 12, 25, 1, 3, 8, 9, 16, 17, 19, 20, 24, 6, 2, 17, 26, 11, 4, 11, 19, 25, 18, 25, 15, 18, 23, 24, 25, 13, 19, 26, 25, 11, 17, 23, 15, 26, 17, 15, 18, 23, 11, 3, 6, 3, 6, 18, 21, 3, 21, 9, 6, 9, 12, 13, 21, 2, 4, 5, 6, 7, 15, 16, 17, 19, 24, 25, 11, 17, 11, 12, 19, 24, 25, 1, 2, 4, 5, 6, 8, 9, 13, 14, 15, 16, 17, 18, 19, 20, 23, 26, 1, 12, 15, 16, 18, 21, 24, 26, 18, 7, 9, 14, 19, 1, 9, 16, 17, 1, 13, 15, 17, 18, 19, 26, 3, 5, 9, 14, 16, 17, 18, 19, 2, 5, 8, 9, 10, 12, 13, 16, 19, 21, 22, 23, 26, 4, 14, 15, 6, 21, 3, 14, 22, 25, 9, 18, 14, 16, 16, 2, 24, 1, 11, 13, 17, 19, 17, 2, 3, 13, 19, 24, 26, 11, 16, 18, 23, 15, 19, 22, 1, 6, 1, 7, 10, 11, 15, 19, 23, 26, 3, 6, 7, 16, 25, 26, 16, 26, 6, 25, 1, 3, 6, 11, 16, 17, 24, 25, 1, 10, 26, 6, 6, 13, 10, 7, 8, 10, 21, 10, 13, 3, 6, 18, 21, 6, 18, 21, 6, 13, 13, 2, 5, 5, 17, 19, 9, 17, 26, 9, 14, 3, 6, 8, 13, 14, 15, 18, 19, 21, 22, 23, 20, 2, 14, 17, 18, 1, 5, 6, 8, 9, 13, 15, 17, 18, 19, 23, 24, 26, 16, 20, 3, 4, 6, 7, 8, 9, 10, 12, 13, 14, 16, 17, 18, 20, 21, 23, 25, 26, 18, 8, 12, 14, 18, 19, 26, 14, 15, 24, 8, 14, 2, 9, 10, 13, 14, 16, 26, 12, 21, 3, 12, 21, 23, 19, 1, 4, 10, 16, 19, 20, 21, 22, 26, 8, 9, 10, 11, 13, 16, 17, 24, 26, 16, 19, 1, 6, 9, 11, 13, 14, 16, 17, 23, 25, 8, 10, 11, 17, 19, 19, 26, 25, 2, 6, 7, 11, 14, 16, 17, 19, 21, 22, 25, 6, 14, 11, 15, 16, 19, 23, 5, 9, 13, 17, 18, 19, 26, 19, 10, 3, 9, 12, 16, 17, 19, 24, 25, 8, 1, 3, 9, 12, 13, 14, 15, 16, 17, 18, 19, 22, 24, 25, 1, 19, 1, 9, 16, 5, 8, 13, 14, 19, 25, 18, 22, 2, 3, 19, 26, 1, 3, 4, 6, 7, 10, 12, 13, 19, 21, 25, 21, 23, 20, 5, 6, 7, 12, 15, 16, 18, 19, 25, 26, 15, 16, 1, 19, 10, 4, 4, 7, 11, 15, 19, 23, 26, 10, 15, 18, 19, 26, 8, 8, 10, 12, 17, 19, 22, 20, 7, 2, 24, 3, 4, 7, 9, 10, 11, 12, 13, 15, 16, 19, 21, 22, 23, 25, 2, 2, 10, 11, 13, 14, 16, 18, 22, 25, 11, 24, 5, 18, 10, 13, 17, 1, 3, 13, 19, 20, 23, 24, 25, 5, 6, 8, 12, 13, 14, 22, 11, 17, 19, 24, 5, 19, 24, 1, 7, 8, 11, 17, 21, 26, 2, 3, 5, 6, 7, 8, 13, 15, 16, 18, 23, 26, 5, 2, 21, 1, 2, 17, 3, 5, 8, 15, 16, 17, 18, 19, 24, 26, 25, 3, 10, 12, 25, 4, 21, 23, 1, 3, 8, 17, 18, 24, 2, 3, 5, 8, 9, 10, 11, 13, 14, 15, 16, 17, 19, 20, 22, 25, 26, 3, 17, 18, 19, 23, 1, 16, 17, 1, 2, 11, 13, 16, 20, 21, 25, 6, 9, 12, 3, 10, 21, 8, 9, 12, 21, 25, 19, 3, 4, 5, 10, 12, 14, 18, 19, 21, 4, 16], \"Freq\": [0.661039188857729, 0.3305195944288645, 0.9747993374820478, 0.9979793608763506, 0.9915488963638419, 0.9747993374820478, 0.997551258660457, 0.9747993374820478, 0.9873353770492558, 0.9958295720596432, 0.9748245426319913, 0.9958295720596432, 0.9873095207938634, 0.9915094513765099, 0.9747993374820478, 0.0028573306247948265, 0.0028573306247948265, 0.9943510574285996, 0.9877434470402239, 0.012045651793173462, 0.01796313475483112, 0.9819846999307678, 0.9996965857186731, 0.10000860982170212, 0.11783623157252729, 0.021741002135152638, 0.024349922391370953, 0.06870156674708233, 0.01782762175082516, 0.32002755142944683, 0.04478646439841443, 0.034350783373541166, 0.1830592379779852, 0.06739710661897318, 0.023797027549894382, 0.9756781295456697, 0.8147439194053014, 0.02468920967894853, 0.04320611693815993, 0.1172737459750055, 0.04131658082825668, 0.8759115135590415, 0.033053264662605344, 0.04957989699390801, 0.9998099092513721, 0.9640629480611478, 0.035927811728986875, 0.7291417195173419, 0.07638627537800724, 0.055553654820368906, 0.013888413705092226, 0.07638627537800724, 0.048609447967822794, 0.9957431802333051, 0.2565024381329991, 0.08241414077197444, 0.05185608857562437, 0.18427431475980802, 0.10649018189637147, 0.17408829736102466, 0.01759403005244398, 0.002778004745122734, 0.05185608857562437, 0.020372034797566715, 0.01852003163415156, 0.033336056941472805, 0.9747579866444849, 0.34828193031394894, 0.01379334377480986, 0.637942149584956, 0.018516972179188483, 0.9813995254969896, 0.9914655931812759, 0.003642234492255087, 0.015144027625692204, 0.04619886908597242, 0.0015335724177916155, 0.19917271776068607, 0.06191798636833648, 0.0015335724177916155, 0.21009942123745134, 0.4608385115463805, 0.9969031993103092, 0.9968750703474496, 0.9873078242487625, 0.05325076371916038, 0.7869279527387034, 0.005916751524351153, 0.15383553963313, 0.9989734441652822, 0.998937245914786, 0.0008719124206099422, 0.010898905257624278, 0.1630476226540592, 0.024849503987383354, 0.151276804975825, 0.00784721178548948, 0.04185179618927723, 0.029645022300738035, 0.05623835112934127, 0.1717667468601586, 0.10898905257624278, 0.21710619273187562, 0.01569442357097896, 0.10202258494739957, 0.07609042288719099, 0.003753339245556506, 0.030709139281825962, 0.013648506347478205, 0.1535456964091298, 0.07404314693506926, 0.007506678491113012, 0.08427952669567791, 0.009553954443234744, 0.041969157018495476, 0.15218084577438198, 0.1033874355821474, 0.08189103808486922, 0.029685501305765093, 0.035827329162130286, 0.03748036812043819, 0.7990133022038868, 0.11414475745769811, 0.015332877867451985, 0.03407306192767108, 0.0299556094892048, 0.41400188499183044, 0.19432741540432857, 0.009217110612063015, 0.022274683979152287, 0.10753295714073517, 0.05146220091735183, 0.08909873591660915, 0.08218590295756188, 0.037281976868973346, 0.6864269858816857, 0.08991535597811219, 0.0438611492576157, 0.02631668955456942, 0.04824726418337727, 0.06798478134930433, 0.9994003539287366, 0.012542969591564496, 0.003762890877469349, 0.1772739702274449, 0.07316732261745956, 0.03512031485638059, 0.05602526417565475, 0.124593497942874, 0.051426175325414436, 0.01045247465963708, 0.05560716518926927, 0.002508593918312899, 0.34200497086332526, 0.0016723959455419329, 0.025504038169514475, 0.008780078714095148, 0.01965065236011771, 0.9999012175154338, 0.00409443021768848, 0.9044968571802732, 0.07034975555846569, 0.0059555348620923335, 0.004838872075450021, 0.007444418577615417, 0.0029777674310461667, 0.0073766684244489485, 0.07482049401941077, 0.05269048874606392, 0.10011192861752145, 0.010538097749212784, 0.5890796641809947, 0.009484287974291506, 0.1559638466883492, 0.9981455614152082, 0.9981511446408081, 0.9914749421709672, 0.0011779123100704955, 0.04593858009274933, 0.12250288024733154, 0.11307958176676758, 0.003533736930211487, 0.7138148599027203, 0.13510424368465798, 0.8646671595818112, 0.1076806581467679, 0.14613803605632789, 0.7460731314454634, 0.9872889683080739, 0.9987783223624963, 0.11015565974701202, 0.855824741111401, 0.03389404915292678, 0.9993549580064551, 0.8761263788956862, 0.005926446756904304, 0.06370930263672127, 0.013334505203034683, 0.003950964504602869, 0.024199657590692574, 0.012840634639959325, 0.8868466791907117, 0.07825117757565103, 0.03477830114473379, 0.9975213612868482, 0.025076211815601605, 0.0032995015546844215, 0.0009898504664053265, 0.028375713370286024, 0.009568554508584822, 0.008248753886711055, 0.013527956374206129, 0.0036294517101528637, 0.0026396012437475374, 0.1603557755576629, 0.14385826778424077, 0.09304594384210069, 0.031015314614033562, 0.07522863544680482, 0.017487358239827434, 0.07060933327024663, 0.01055840497499015, 0.00923860435311638, 0.2553814203325742, 0.03794426787887085, 0.009346062607784778, 0.10592204288822749, 0.06542243825449344, 0.6261861947215801, 0.06542243825449344, 0.12772952230639195, 0.022607867037715407, 0.007112587382652039, 0.061219055686397905, 0.20347080333943868, 0.2314131109141431, 0.26062552337860684, 0.038103146692778776, 0.026418181706993286, 0.007620629338555756, 0.009652797162170624, 0.13183688755701456, 0.9994535491415693, 0.32575386126163963, 0.674310492811594, 0.9981486149635673, 0.9995134550353012, 0.0065783878522345995, 0.9604446264262515, 0.032891939261172995, 0.9982314006076121, 0.9184550436481286, 0.08138209247515063, 0.24408706007202477, 0.01064809322461853, 0.0032763363768057016, 0.015562597789827081, 0.3841504401804685, 0.009009925036215678, 0.007371756847812829, 0.109757268622991, 0.0032763363768057016, 0.013924429601424232, 0.19903743489094636, 0.9873071928898981, 0.9991084090829847, 0.008848204086240066, 0.9909988576588873, 0.13928628601466325, 0.860717818705996, 0.9991026172013427, 0.27828300325139965, 0.46090622413513066, 0.2319025027094997, 0.02898781283868746, 0.9937119944182897, 0.9972429285891526, 0.03942734549622712, 0.1362035571687846, 0.5914101824434068, 0.08960760340051618, 0.007168608272041294, 0.007168608272041294, 0.1290349488967433, 0.0639958267014523, 0.07330431058529992, 0.06981362912885707, 0.4212088957441043, 0.018616967767695218, 0.029670792379764253, 0.03025257262250473, 0.06457760694419279, 0.0546873428176047, 0.052942002089383274, 0.12101029049001892, 0.9968839750807023, 0.9603702255403747, 0.004405368007065939, 0.03524294405652751, 0.9488988684603951, 0.049942045708441844, 0.014080579054888548, 0.9856405338421983, 0.977710617118089, 0.0031847251371924725, 0.019108350823154836, 0.32196485154490506, 0.03121305997712891, 0.03677155011004228, 0.04746095421179876, 0.06926733857938197, 0.03591639778190176, 0.04061973558667461, 0.03078548381305865, 0.09834251773615958, 0.04019215942260435, 0.007268794789194404, 0.048743682704009535, 0.19155412150347606, 0.0005015525388325576, 0.0035108677718279037, 0.01755433885913952, 0.07723909098021388, 0.0591831995822418, 0.018055891397972076, 0.10883690092666501, 0.034105572640613924, 0.04664438611142786, 0.182565124135051, 0.32400294008583225, 0.08074995875204179, 0.03510867771827904, 0.012037260931981384, 0.9915034469166384, 0.9999313077339255, 0.034528430350174784, 0.0006770280460818585, 0.07007240276947235, 0.024598685674307525, 0.07447308506900444, 0.15334685243754093, 0.08350012568342921, 0.0006770280460818585, 0.01308920889091593, 0.0776325492840531, 0.0006770280460818585, 0.02222908751302102, 0.01331488490627655, 0.4312668653541438, 0.9989158308910733, 0.9915305148529293, 0.9987253248972833, 0.010492505503699831, 0.01114828709768107, 0.2964132804795202, 0.1665685248712348, 0.03213329810508073, 0.186241972690672, 0.08262848084163617, 0.024263918977305857, 0.00983672390971859, 0.059676125052292785, 0.020985011007399662, 0.09967880228514839, 0.7634873284270475, 0.23660789411317446, 0.9957720727842788, 0.4117080290490834, 0.001165211402969104, 0.003884038009897013, 0.005437653213855818, 0.004660845611876416, 0.5709535874548609, 0.002330422805938208, 0.9963955072480879, 0.015146739857383799, 0.9845380907299469, 0.9972062325675219, 0.0063454378793825076, 0.02665083909340653, 0.054570765762689565, 0.06853072909733109, 0.763990720677654, 0.07233799182496059, 0.007614525455259009, 0.9989945768613476, 0.9981215594837093, 0.9985580440606647, 0.6310274040225005, 0.04952366968277852, 0.004792613195107599, 0.07668181112172158, 0.07508427339001905, 0.10064487709725957, 0.03834090556086079, 0.0015975377317025328, 0.02236552824383546, 0.9936649843021992, 0.003289836592857251, 0.5478674539304942, 0.04561906742095388, 0.059655703550478154, 0.026538015182381823, 0.024344790787143657, 0.004386448790476335, 0.28775104065524754, 0.0006579673185714502, 0.5888981771967465, 0.032938017035942006, 0.037553535346710944, 0.004825314597622077, 0.011538795776922357, 0.05412744200810852, 0.010070221768950421, 0.030210665306851264, 0.05181968285272404, 0.0014685740079719365, 0.05119029399216464, 0.017413091808810104, 0.022238406406432182, 0.025385350709229187, 0.04174946108377362, 0.018671869529928907, 0.4352334418702629, 0.1248095899480901, 0.025601967168838995, 0.13281020468835228, 0.09120700803898892, 0.04960381138962555, 0.004800368844157312, 0.04960381138962555, 0.0560043031818353, 0.030402336012996307, 0.9996299350911525, 0.06995444180824013, 0.007081807689229248, 0.18999971849151642, 0.0015545431512942252, 0.045599932437963946, 0.006045445588366432, 0.11451801214534127, 0.09413622416170586, 0.017618155714667887, 0.08515441928756146, 0.07099080390910295, 0.08377260315307769, 0.04214539210175455, 0.03489085739571483, 0.09534531327937915, 0.03782721668149282, 0.0034545403362093896, 0.9949135552807652, 0.006168568078188889, 0.08097469524860652, 0.04141752852498254, 0.0333885986454351, 0.06188150833992663, 0.029961616379774604, 0.06481892171049276, 0.08361836728211605, 0.058748267411322753, 0.08283505704996508, 0.13061698121117424, 0.01625368731713263, 0.014980808189887302, 0.03113658172800106, 0.1314002914433252, 0.02810125457841605, 0.10378860576000352, 0.04277739846620722, 0.9250612418317312, 0.03208304884965542, 0.9990529803062645, 0.029194014245599142, 0.9707009736661715, 0.04540548711181726, 0.9081097422363451, 0.04540548711181726, 0.060440725854992494, 0.09378733322326421, 0.037217195723517546, 0.03572850789457684, 0.3200678832222509, 0.09557375861799305, 0.03870588355245825, 0.019352941776229125, 0.03215565710511916, 0.02411674282883937, 0.05746335019711109, 0.12058371414419684, 0.0649067893418146, 0.9992210105250949, 0.9994976218238487, 0.9997955858774459, 0.0419552634118329, 0.7412096536090479, 0.1957912292552202, 0.02097763170591645, 0.09300391421888055, 0.001044987800212141, 0.008359902401697128, 0.09509388981930482, 0.7241765455470137, 0.07837408501591057, 0.9983872664695875, 0.9968750703474496, 0.9968750703474496, 0.02272870998611077, 0.0053033656634258455, 0.02727445198333292, 0.2977461008180511, 0.055306527632869536, 0.5917040833050836, 0.00653547117194792, 0.01960641351584376, 0.9672497334482921, 0.00653547117194792, 0.18411834880503414, 0.007220327404118986, 0.7509140500283745, 0.05776261923295189, 0.9915096967628624, 0.014178883251538574, 0.06522286295707744, 0.00189051776687181, 0.000945258883435905, 0.06049656853989792, 0.5397428224419017, 0.05198923858897477, 0.2656177462454893, 0.9747560946229953, 0.25890719919936833, 0.7411218577081918, 0.15847035468926743, 0.10084477116589746, 0.03601598970210623, 0.5246329166606808, 0.028812791761684987, 0.012005329900702078, 0.13926182684814412, 0.9959235282508521, 0.004132462772825112, 0.027760951237910603, 0.9438723420889605, 0.027760951237910603, 0.021237617015170872, 0.09846531525215585, 0.7336631332513573, 0.08881185297253273, 0.003861384911849249, 0.03282177175071862, 0.021237617015170872, 0.04684617240396029, 0.07332444376272046, 0.10387629533052065, 0.003055185156780019, 0.0010183950522600063, 0.013748333205510084, 0.7581951164075746, 0.9993897151267828, 0.1898794835565567, 0.00037377851093810374, 0.024171010373997378, 0.009718241284390697, 0.03712866541985164, 0.06927361736052856, 0.6694373130901439, 1.0000894406464407, 0.9997931925118594, 0.0007194639871853401, 0.014389279743706804, 0.6460786604924355, 0.18130492477070573, 0.03381480739771099, 0.028059095500228268, 0.025900703538672246, 0.0014389279743706803, 0.04676515916704711, 0.021583919615560207, 0.014150411748622055, 0.014150411748622055, 0.9433607832414703, 0.023584019581036758, 0.004716803916207352, 0.9996571040072232, 0.9356934135820838, 0.0640885899713756, 0.00031034154924048486, 0.029172105628605578, 0.08130948590100703, 0.30723813374808, 0.001086195422341697, 0.01660327288436594, 0.0032585862670250912, 0.03755132745809867, 0.08922319540663941, 0.005896489435569213, 0.023896299291517334, 0.40453020943497203, 0.9957431802333051, 0.01613727771506546, 0.009861669714762225, 0.28419539087087503, 0.22592188801091642, 0.1317877680063679, 0.017033793143680205, 0.3151251731580838, 0.021042607311441325, 0.0857008006865974, 0.0413200289024666, 0.2647542592639527, 0.10865637229907885, 0.06274522907411595, 0.12166452954615166, 0.01683408584915306, 0.23299905186668668, 0.0015303714408320963, 0.0428504003432987, 0.0012385401688410364, 0.11766131603989845, 0.008669781181887255, 0.13871649891019608, 0.003715620506523109, 0.008050511097466736, 0.0272478837145028, 0.6948210347198214, 0.12103810394795289, 0.5131472724969787, 0.18470340633036236, 0.007156177399573157, 0.10142030728360578, 0.005798971341033421, 0.002467647379163158, 0.002097500272288684, 0.019617796664347105, 0.0072795597685313155, 0.009623824778736315, 0.02566353274329684, 0.00353993709380417, 0.01769968546902085, 0.09911823862651675, 0.00707987418760834, 0.8725944936227279, 0.9873065332035011, 0.19322481565507452, 0.8068728565816298, 0.8522167020888829, 0.14749904459230664, 0.9984119557914335, 0.8087173403914083, 0.19125072238986007, 0.006079413024546889, 0.9939840295134165, 0.08217410592904031, 0.9176108495409501, 0.8381452202019016, 0.06447270924630012, 0.09670906386945018, 0.0043229725173754546, 0.059080624404131206, 0.02017387174775212, 0.03026080762162818, 0.017291890069501818, 0.046111706852004844, 0.0057639633565006055, 0.014409908391251515, 0.02161486258687727, 0.7810170348058321, 0.6360004463993136, 0.23850016739974264, 0.033473707705227035, 0.08368426926306759, 0.008368426926306759, 0.03441769631867271, 0.01966725503924155, 0.1042364517079802, 0.07571893190107996, 0.11111999097171474, 0.24190723698267103, 0.006883539263734541, 0.11161167234769578, 0.02556743155101401, 0.00737522063971558, 0.16717166783355314, 0.09440282418835942, 0.008195725734472307, 0.8441597506506476, 0.09834870881366768, 0.04917435440683384, 0.9999799591179013, 0.024995395629683753, 0.9748204295576663, 0.9707970321755194, 0.028552853887515276, 0.9982934785161008, 0.9598307806192814, 0.03999294919247006, 0.785042668038535, 0.04958164219190747, 0.08263607031984578, 0.08263607031984578, 0.9975302775700732, 1.000004586024635, 0.024959205057590562, 0.03442648973460767, 0.06541033049575458, 0.012909933650477877, 0.04819708562845074, 0.05852503254883304, 0.030983840761146905, 0.08520556209315398, 0.4991841011518112, 0.14028794566852626, 0.03921490393288678, 0.05490086550604149, 0.011764471179866032, 0.8940998096698185, 0.9987759997067059, 0.04192651021015885, 0.01572244132880957, 0.23015907167451785, 0.04279997917287049, 0.049350996393207815, 0.007861220664404785, 0.037122430915244815, 0.007424486183048963, 0.006114282738981499, 0.4943834328947898, 0.0672571101287965, 0.0545402567215105, 0.03636017114767367, 0.02727012836075525, 0.8817341503310864, 0.9996968247481686, 0.9977841178958544, 0.9983462821399383, 0.998710080626945, 0.9984112811819074, 0.9985199450089117, 0.9988326183348187, 0.018404068500195582, 0.9447421830100398, 0.018404068500195582, 0.018404068500195582, 0.9995671238341628, 0.012342599629254056, 0.9380375718233084, 0.049370398517016224, 0.16597576788834376, 0.8298788394417187, 0.02884623901191767, 0.019230826007945113, 0.0673078910278079, 0.07051302869579876, 0.02884623901191767, 0.7852587286577588, 0.9550929768998574, 0.0444229291581329, 0.01576636632556004, 0.0034450928989012944, 0.015969018849024824, 0.0018238727111830383, 0.005106843591312507, 0.020143660832399334, 0.004701538544382943, 0.12329379527597338, 0.06274122126469651, 0.1375200024232011, 0.11275586405580472, 0.243588333204668, 0.055040425373034794, 0.0313300801276553, 0.0010943236267098228, 0.03740965583159876, 0.05143321045536168, 0.03278917829660173, 0.04409718910593657, 0.9995788775714111, 0.012500488179580426, 0.7328411195279024, 0.06719012396524479, 0.04062658658363638, 0.11250439361622383, 0.00937536613468532, 0.02500097635916085, 0.004736011091277645, 0.6993509711453323, 0.0418347646396192, 0.017365374001351366, 0.03788808873022116, 0.10182423846246938, 0.09708822737119173, 0.08329805668120803, 0.8121560526417783, 0.10412257085151003, 0.9989577518164136, 0.012654927553127361, 0.9870843491439342, 0.9383386973314777, 0.061690087367813416, 0.07544195866370688, 0.9241639936304092, 0.24127217304873758, 0.7424655760002213, 0.016317924747257614, 0.11528354453156336, 0.8838405080753191, 0.9977337408267161, 0.0055862962066055045, 0.9943607247757799, 0.9827561765566329, 0.01709141176620231, 0.9872651609149302, 0.013043601086841482, 0.0869573405789432, 0.8956606079631151, 0.004347867028947161, 0.9639280893158514, 0.02040890091385353, 0.0156991545491181, 0.9872246008712484, 0.998928674106037, 0.9639035189982486, 0.035700130333268465, 0.08167732205105349, 0.03585833651021861, 0.001992129806123256, 0.047811115346958144, 0.03785046631634186, 0.6075995908675931, 0.0996064903061628, 0.011952778836739536, 0.07570093263268372, 0.010414650098703062, 0.9893917593767909, 0.002024460475603899, 0.002834244665845459, 0.06599741150468712, 0.08097841902415598, 0.14211712538739374, 0.07288057712174038, 0.1186333838703885, 0.010122302378019497, 0.006883165617053258, 0.4227073473060942, 0.03441582808526629, 0.04048920951207799, 0.9972155478707093, 0.9949709554485557, 0.9854900500591219, 0.014282464493610463, 0.12938685154997848, 0.8704206376998551, 0.024805975828193973, 0.061229940335415504, 0.3253036830127716, 0.001883998164166631, 0.001883998164166631, 0.03202796879083272, 0.018525981947638537, 0.014443985925277503, 0.09231591004416492, 0.02920197154458278, 0.08603591616360948, 0.01915398133569408, 0.1840038207002743, 0.019467981029721852, 0.010989989290972014, 0.07881392320097073, 0.9747589447413404, 0.15098230943176613, 0.2044499063637575, 0.04455633077665948, 0.006874405319827463, 0.036154279830203695, 0.07790992695804458, 0.04990309046985862, 0.056777495789686085, 0.006874405319827463, 0.267847199868833, 0.0010184304177522168, 0.002800683648818596, 0.02698840607043374, 0.06696179996720825, 0.3303694094335732, 0.19840119425222738, 0.2917664621356285, 0.02244357401043296, 0.0026932288812519553, 0.03142100361460615, 0.12029755669592067, 0.0026932288812519553, 0.9985013041307832, 0.05555289071485059, 0.7221875792930577, 0.11110578142970118, 0.11110578142970118, 0.010395399983982668, 0.034243670535472316, 0.012229882334097256, 0.04647355286956957, 0.03302068230206259, 0.11771261746568609, 0.12352181157438229, 0.05044826462815118, 0.05014251756979875, 0.18772869382839288, 0.08530342928032836, 0.08897239398055753, 0.005809194108696196, 0.05442297638673279, 0.09967354102289264, 0.1790818718928158, 0.041088048529520506, 0.052716741509573485, 0.0914790514430834, 0.5597277554398832, 0.003100984794680793, 0.01938115496675496, 0.053491987708243684, 0.9980805969655365, 0.9341483360737163, 0.05262807527175866, 0.013157018817939665, 0.9989619624455679, 0.998575239819042, 0.021974475667049513, 0.9778641671837033, 0.029122955760973623, 0.9125192805105068, 0.00970765192032454, 0.0485382596016227, 0.9925710623400411, 0.00756725079293551, 0.9980805969655365, 0.924144584678073, 0.03571573274118157, 0.04018019933382926, 0.9872683279454937, 0.006666958308430371, 0.020000874925291113, 0.033334791542151854, 0.10222669406259903, 0.25112209628421067, 0.06444726364816025, 0.42224069286725685, 0.10000437462645557, 0.0066062926046916316, 0.012704408855176215, 0.0005081763542070486, 0.029220140366905293, 0.01956478963697137, 0.02185158323090309, 0.019056613282764322, 0.03912957927394274, 0.0795295994334031, 0.24722779632172912, 0.06225160339036345, 0.15194472990790753, 0.0033031463023458158, 0.0060981162504845825, 0.0012704408855176213, 0.14203529100087006, 0.1433057318863877, 0.014483026094900884, 0.0293934131553874, 0.9699826341277843, 0.9994423504485469, 0.999754191357929, 0.9707848871154532, 0.028978653346729947, 0.061198427507775335, 0.8771774609447798, 0.061198427507775335, 0.08175748083047096, 0.8930432521482213, 0.02515614794783722, 0.10868821146174666, 0.8912433339863226, 0.9985402370241332, 0.9914749421709672, 0.9968750703474496, 0.7310677601949619, 0.03781384966525665, 0.1512553986610266, 0.03781384966525665, 0.03361231081356147, 0.008403077703390367, 0.9619289365017993, 0.03772270339222743, 0.31121343363395143, 0.6514734544070716, 0.03734561203607417, 0.006135442954391564, 0.07888426655646297, 0.24892368557817202, 0.10956148132842078, 0.11832639983469444, 0.007888426655646296, 0.1823103049304922, 0.038565641427604117, 0.09816708727026502, 0.04820705178450514, 0.06310741324517037, 0.9989209192788685, 0.9994355946643447, 0.007677683434847432, 0.0046733725255593064, 0.021697801011525353, 0.007343871111593196, 0.05474522101369473, 0.4436365776048799, 0.00867912040461014, 0.01134961899064403, 0.020696364041762644, 0.41759921639104947, 0.002002873939525417, 0.999672658354693, 0.20477341352553324, 0.09479027368036781, 0.06671649924541567, 0.0009908390977041931, 0.0574686676668432, 0.02807377443495214, 0.08851495939490792, 0.03666104661505515, 0.25728788570385547, 0.015523145864032358, 0.14928642405409842, 0.10578476242753729, 0.023960308590608673, 0.01892864378658085, 0.010422734236914772, 0.0057504740617460815, 0.004312855546309561, 0.037737486030208656, 0.01569400212684868, 0.045524586322156474, 0.5041248927464065, 0.2108507155973563, 0.008026703377853906, 0.008985115721478252, 0.9969699414087067, 0.003077067720397243, 0.996386207259043, 0.2980464899557903, 0.7020103275818201, 0.9987749292384643, 0.9975059737053403, 0.9994196209302572, 0.9996373379659312, 0.9993754179077684, 0.24936979462408368, 0.750689071402845, 0.0036542433241468393, 0.6102586351325222, 0.33619038582150923, 0.0012180811080489465, 0.010962729972440518, 0.023143541052929983, 0.014616973296587357, 0.9990651596620822, 0.03844656225907798, 0.9034942130883324, 0.05766984338861696, 0.7740843453260546, 0.043004685851447476, 0.18276991486865177, 0.018690018586454617, 0.03738003717290923, 0.018337376726332833, 0.004231702321461423, 0.330072781073991, 0.16186261379589942, 0.013047748824506053, 0.04725400925631922, 0.017632093006089262, 0.002468493020852497, 0.06100704180106885, 0.002468493020852497, 0.00811076278280106, 0.0715862976047224, 0.005642269761948564, 0.009873972083409987, 0.0310324836907171, 0.1075557673371445, 0.05183835343790243, 0.9988553211605777, 0.9998445139235344, 0.004963162637397874, 0.9951141087982738, 0.006394218725273715, 0.007353351534064773, 0.9006257074548027, 0.0041562421714279145, 0.0009591328087910573, 0.07800946844833932, 0.001278843745054743, 0.001278843745054743, 0.9968750703474496, 0.16537801127097387, 0.07191177652728621, 0.013733814084786758, 0.03338079812274559, 0.03605126197256524, 0.016022783098917883, 0.05188329765363886, 0.02155445821640144, 0.02155445821640144, 0.12761002253781029, 0.2554107924934648, 0.016785772770294926, 0.041582937090048795, 0.005531675117483555, 0.008392886385147463, 0.11330396619949075, 0.9963955072480879, 0.9994874435512189, 0.09066849881940009, 0.025033053546096994, 0.23140310473099418, 0.0003052811408060609, 0.06258263386524249, 0.04548688998010308, 0.005189779393703036, 0.05281363735944854, 0.0009158434224181827, 0.008853153083375767, 0.05708757333073339, 0.037549580319145494, 0.01709574388513941, 0.28391146094963665, 0.027780583813351543, 0.05342419964106066, 0.04785945189466191, 0.06297296301929199, 0.8891782378324029, 0.009390423124228428, 0.009390423124228428, 0.09390423124228428, 0.09953848511682133, 0.05446445412052488, 0.20095505485848836, 0.04037881943418224, 0.39909298277970817, 0.015024676998765484, 0.03380552324722234, 0.04413498868387361, 0.016414667764996237, 0.017677334516149792, 0.8876547260609503, 0.0050506670046142265, 0.07323467156690629, 0.9989626087982973, 0.0037737549644183935, 0.10566513900371502, 0.022642529786510362, 0.028303162233137953, 0.06604071187732188, 0.6019139168247338, 0.026416284750928755, 0.14528956613010816, 0.01642407212091588, 0.01861394840370466, 0.010696703381314444, 0.013391935729362177, 0.03318504828533772, 0.0010949381413943918, 0.022404118893146786, 0.0004211300543824584, 0.0033690404350596673, 0.07967780628916113, 0.02905797375238963, 0.08473136694175064, 0.16474607727441773, 0.0941646801599177, 0.04270258751438128, 0.021224954740875903, 0.05702100936338487, 0.11126256036784551, 0.012633901631473753, 0.027710357578365763, 0.00033690404350596674, 0.03158475407868438, 0.0941646801599177, 0.02947910380677209, 0.9998337566494346, 0.9657176305284518, 0.034184694885962895, 0.03687343592709678, 0.019854927037667496, 0.2394409653471092, 0.15647573451114144, 0.00023636817901985112, 0.011818408950992556, 0.25409579244633995, 0.04703726762495038, 0.112747621392469, 0.03569159503199752, 0.02316408154394541, 0.0033091545062779158, 0.021745872469826302, 0.009454727160794046, 0.028127813303362285, 0.2222457825233556, 0.1075189055991369, 0.06727439903409684, 0.006607307047991654, 0.022825242529425714, 0.09250229867188316, 0.030633878131597667, 0.3820224802293356, 0.0054059784938113534, 0.06306974909446579, 0.8229377954156736, 0.17702731645569722, 0.021267849541587804, 0.9783210789130391, 0.6793927868956611, 0.07992856316419542, 0.03996428158209771, 0.19982140791048855, 0.9987510948321203, 0.975151603242434, 0.014523534516376677, 0.010373953225983341, 0.017523506207328322, 0.025142421949644982, 0.04088818115043275, 0.008126843458471106, 0.06958609711315884, 0.0058411687357761075, 0.037586650995428864, 0.2582812436645348, 0.1208867964447577, 0.040380253434278306, 0.006603060310007774, 0.07314159112623995, 0.009650626606934437, 0.016507650775019433, 0.13536273635515936, 0.02463449423349054, 0.0010158554323088883, 0.022856747226949983, 0.08609374788817828, 0.09063024408179154, 0.8594247283618163, 0.02500144664325284, 0.009375542491219814, 0.01250072332162642, 0.003125180830406605, 0.5012996777468692, 0.02135863288645809, 0.017589462377083132, 0.12815179731874854, 0.23494496175103896, 0.09674204307395723, 0.9996752328574475, 0.16037887483094887, 0.10427675892050288, 0.028660863562945237, 0.0140255289776115, 0.016464751408500455, 0.3671029758487879, 0.16647693090817128, 0.025002029916611802, 0.11769248229039214, 0.008032093965146933, 0.15260978533779174, 0.8393538193578546, 0.05083011129489513, 0.08471685215815856, 0.8641118920132174, 0.0051021971416807515, 0.9847240483443851, 0.010204394283361503, 0.9263743220575685, 0.07313481489928172, 0.022493114715320124, 0.045851349227383334, 0.03633503146320943, 0.043255989837154084, 0.8218638069059276, 0.012111677154403144, 0.0043255989837154086, 0.011246557357660062, 0.0025953593902292454, 0.0473197083849651, 0.0630929445132868, 0.056783650061958124, 0.8328268675753858, 0.999610690728016, 0.9949687873274261, 0.015790289872135547, 0.3500180921656713, 0.002631714978689258, 0.06579287446723145, 0.5658187204181905, 0.9949687873274261, 0.00828734553136843, 0.9917190152537554, 0.9988887609949448, 0.07446425461584796, 0.9254843073683962, 0.9995652442660661, 0.9987783223624963, 0.014081335723939596, 0.9575308292278926, 0.028162671447879192, 0.9984694936119828, 0.011904601846266441, 0.9880819532401146, 0.07445491109250017, 0.021272831740714336, 0.9040953489803593, 0.9949687873274261, 0.9747560946229953, 0.7793813721458612, 0.044695705929511755, 0.025141334585350363, 0.15084800751210217, 0.018496541478952844, 0.9248270739476423, 0.0073986165915811385, 0.039459288488432734, 0.002466205530527046, 0.0073986165915811385, 0.8719174200061136, 0.03487669680024455, 0.02325113120016303, 0.0697533936004891, 0.04959902736066232, 0.08766339719558923, 0.03229704107205919, 0.01384158903088251, 0.07382180816470672, 0.016148520536029595, 0.05998021913382421, 0.6667032049875076, 0.0015601639745501756, 0.09985049437121124, 0.02184229564370246, 0.0015601639745501756, 0.8752519897226486, 0.20516623432940426, 0.012876541903519095, 0.002575308380703819, 0.016310286411124187, 0.10902138811646167, 0.036054317329853466, 0.001716872253802546, 0.15280163058842658, 0.06524114564449675, 0.11503044100477058, 0.006867489015210184, 0.030903700568445828, 0.24551273229376408, 0.0035091491171049326, 0.06842840778354618, 0.019300320144077128, 0.05263723675657399, 0.02544133109901076, 0.17194830673814168, 0.11053819718880538, 0.5412862513134359, 0.007018298234209865, 0.021065109322480537, 0.0010031004439276447, 0.1033193457245474, 0.0005015502219638223, 0.026582161764082582, 0.22770380077157534, 0.15648366925271257, 0.0005015502219638223, 0.013541855993023202, 0.17153017591162723, 0.08626663817777744, 0.05517052441602045, 0.13642166037415968, 0.15031912074953466, 0.0007981546234488567, 0.003192618493795427, 0.0003325644264370236, 0.0036582086908072595, 0.0018623607880473322, 0.008979239513799636, 0.012570935319319493, 0.1787201227672565, 0.09132219149960669, 0.06431796007292037, 0.31520456337701097, 0.0098439070225359, 0.08373972257684255, 0.0013302577057480944, 0.0002660515411496189, 0.00013302577057480944, 0.07349673824258221, 0.008995806959724018, 0.6177120779010491, 0.04347973363866608, 0.014993011599540028, 0.07646435915765415, 0.14393291135558428, 0.09445597307710217, 0.06233102759178105, 0.0006202092297689657, 0.00289430973892184, 0.00010336820496149429, 0.02439489637091265, 0.17272827049065695, 0.04630895582274944, 0.012921025620186785, 0.07246111167800749, 0.010957029725918393, 0.047962847102133346, 0.12362837313394716, 0.027909415339603456, 0.03576539891667702, 0.16063419051016212, 0.005478514862959197, 0.002480836919075863, 0.06532870553566439, 0.016228808178954602, 0.10895008802941497, 0.05126195011067353, 0.049251677557313786, 0.007035953936759112, 0.013066771596838351, 0.04623626872727416, 0.8211963380474564, 0.012061635320158477, 0.013324583269226503, 0.024428402660248587, 0.031830948920929976, 0.1821026380127622, 0.004441527756408834, 0.271673447767007, 0.09771361064099435, 0.005181782382476973, 0.12658354105765177, 0.13102506881406062, 0.002220763878204417, 0.09993437451919877, 0.009623310138885807, 0.9937044121813381, 0.3073175730748253, 0.13405404480677724, 0.06199337249957683, 0.06994124076875335, 0.04026919923049435, 0.14518106038362438, 0.0082127972114824, 0.0002649289423058839, 0.00874265509609417, 0.02384360480752955, 0.10623650586465945, 0.011127015576847124, 0.08292275894174166, 0.9915096967628624, 0.34608165330359925, 0.5732640882943055, 0.03609440555927109, 0.025478403924191356, 0.01910880294314352, 0.01668969107386469, 0.003074416776764548, 0.001756809586722599, 0.648262737500639, 0.06236674032865226, 0.1023341584265914, 0.047433858841510176, 0.040845822891300426, 0.001756809586722599, 0.03337938214772938, 0.008784047933612996, 0.003513619173445198, 0.02327772702407444, 0.006588035950209746, 0.9994176453386984, 0.09469832509502099, 0.5265226875283168, 0.284094975285063, 0.09469832509502099, 0.997805258449128, 0.07996828827173433, 0.9196353151249448, 0.9937044121813381, 0.997464567863778, 0.5533493230459999, 0.2633409428953855, 0.10000288970710841, 0.06666859313807227, 0.01666714828451807, 0.09572757119112478, 0.8509117439211091, 0.05318198399506932, 0.03505108309334465, 0.020811580586673383, 0.0032860390400010608, 0.1840181862400594, 0.08543701504002758, 0.07119751253335631, 0.024097619626674446, 0.0021906926933340405, 0.5739614856535186, 0.030120219449738625, 0.009036065834921588, 0.9457748907217929, 0.015060109724869312, 0.9987796595850871, 0.9982610063898596, 0.9872889683080739, 0.0020649876236264247, 0.7771236756914112, 0.1514324257326045, 0.01996154702838877, 0.016519900989011398, 0.011701596533883073, 0.017896559404762348, 0.0034416460393773747, 0.062408697619920295, 0.8113130690589638, 0.12481739523984059, 0.998937245914786, 0.9998286753660711, 0.9982229107202593, 0.018749455090935993, 0.1562454590911333, 0.8249760240011837, 0.9747589447413404, 8.569677493885178e-05, 0.18913278229004588, 0.034878587400112675, 0.0012854516240827767, 0.21441333089700715, 0.367724861262613, 0.04456232296820292, 0.018424806611853133, 0.0029136903479209603, 0.07027135544985846, 0.0017139354987770355, 0.05467454241098743, 0.20543632798858444, 0.021854928509423877, 0.013112957105654325, 0.043709857018847754, 0.1049036568452346, 0.5822152954910521, 0.028848505632439517, 0.8934081869509539, 0.05583801168443462, 0.015228548641209441, 0.03553328016282203, 0.1245629506527088, 0.00615125682235599, 0.12874922265681218, 0.19914693962377517, 0.0013669459605235533, 0.25895082539668063, 0.17932622319618366, 0.004357140249168826, 0.0052969155970287694, 0.003331930778776161, 0.06518623549246695, 0.009312319356066707, 0.006578427435019601, 0.007774505150477709, 0.9872338700510503, 0.013841586525267909, 0.913544710667682, 0.031143569681852796, 0.041524759575803726, 0.8481755894661264, 0.08481755894661264, 0.06696123074732577, 0.9986143763813385, 0.05695558793132493, 0.04522943747487568, 0.40036427987019585, 0.016751643509213217, 0.4757466756616553, 0.005025493052763965, 0.942294244034209, 0.028554371031339666, 0.028554371031339666, 0.999677565534796, 0.04166961936985958, 0.006250442905478937, 0.2885621141362776, 0.0697966124445148, 0.12605059859382522, 0.007292183389725426, 0.07813053631848671, 0.13646800343629012, 0.06042094808629639, 0.0031252214527394684, 0.0697966124445148, 0.11250797229862086, 0.999997940167468, 0.1546948049250825, 0.7845236535486327, 0.05524814461610089, 0.00552481446161009, 0.0020228032238937565, 0.008091212895575026, 0.09749911539167908, 0.11529978376194414, 0.10033103990513033, 0.15413760566070425, 0.030746609003185103, 0.014159622567256296, 0.006877530961238772, 0.011732258698583789, 0.2698419500674271, 0.18933438175645562, 0.9657342513087038, 0.034185283232166505, 0.06282747327424622, 0.022846353917907715, 0.021132877374064638, 0.007425065023320007, 0.054260090555030824, 0.029129101245332335, 0.006853906175372315, 0.2570214815764618, 0.08396035064831085, 0.0022846353917907714, 0.06739674405782776, 0.014850130046640014, 0.021704036222012328, 0.2992872363245911, 0.013136653502796936, 0.0005711588479476929, 0.0028557942397384644, 0.032556054333018496, 0.9873078242487625, 0.9964405374679274, 0.1182691735796472, 0.005848133780371824, 0.15198926410051453, 0.13519143302923375, 0.002924066890185912, 0.2876784106429714, 0.027249814848966582, 0.14869191207541127, 0.00715463175258255, 0.013687121613636184, 0.0004977135132231339, 0.09108157291983351, 0.0037328513491735045, 0.0052259918888429065, 0.0008709986481404844, 0.0011148798506650562, 0.5674738439885136, 0.4303436223567117, 0.0011148798506650562, 0.9992516062984006, 0.9703539472668541, 0.029404665068692548, 0.01851552500076771, 0.04628881250191927, 0.9350340125387693, 0.03958478895297917, 0.004889885694191545, 0.009314067988936275, 0.004424182294744731, 0.016299618980638482, 0.014902508782298039, 0.008382661190042648, 0.006054144192808578, 0.008848364589489462, 0.07823817110706471, 0.047268895043851594, 0.15438067691661875, 0.590046207099113, 0.017463877479255516, 0.0009071108148381767, 0.9991825625442516, 0.8968176079701152, 0.04410578399853026, 0.05880771199804034, 0.9958086633290724, 0.981725576954157, 0.018180103276928834, 0.9739192772167617, 0.012985590362890155, 0.012985590362890155, 0.785671368559162, 0.14284933973802943, 0.07142466986901472, 0.9299354878828173, 0.0184511009500559, 0.05166308266015652, 0.02700992244643433, 0.9723572080716358, 0.13998297519763703, 0.8598954190711989, 0.9975213612868482, 0.9995388711303262, 0.2481327519812891, 0.39298182039676244, 0.09824545509919061, 0.0037786713499688694, 0.10832191203244093, 0.0012595571166562898, 0.12847482589894157, 0.018893356749844346, 0.02941182198279757, 0.17647093189678542, 0.044117732974196355, 0.0036764777478496963, 0.7463249828134884, 0.09800427054577916, 0.15000653654966198, 0.016000697231963946, 0.010000435769977466, 0.5060220499608598, 0.22000958693950426, 0.9994682776570718, 0.8885833013947136, 0.1110729126743392, 0.011627817319065181, 0.2383702550408362, 0.011627817319065181, 0.738366399760639, 0.9982892136224967, 0.9914692193896187, 0.008474095892218963, 0.09277041911449893, 0.10307824346055437, 0.8040102989923241, 0.9996419259806052, 0.010121770552739493, 0.006073062331643696, 0.048584498653149566, 0.036438373989862174, 0.028340957547670582, 0.004048708221095797, 0.07085239386917645, 0.7955711654453241, 0.999304636114423, 0.1871585542405464, 0.050413078583312156, 0.010712779198953833, 0.6749050895340916, 0.039700299384358324, 0.015123923574993647, 0.007561961787496824, 0.011342942681245236, 0.0031508174114570097, 0.9995365008565483, 0.04088045722850868, 0.03988337290586212, 0.32704365782806943, 0.19443144291607786, 0.020938770775577615, 0.05583672206820697, 0.023930023743517274, 0.2971311281486728, 0.09933291630488177, 0.2808906765470488, 0.015781865207317662, 0.03461400688327655, 0.06538201300174461, 0.02533055676132499, 0.08965160403484655, 0.04973276851045482, 0.042571249844949324, 0.04349959485714448, 0.020556210984321324, 0.0557007007317094, 0.028248212513938338, 0.09018208689895807, 0.023473866736934676, 0.023208625304878917, 0.0013262071602787953, 0.010609657282230362, 0.9065003718614716, 0.07272782353043325, 0.002597422268944045, 0.018181955882608312, 0.1916474724335401, 0.05909472383389673, 0.00287266018636998, 0.048014463115041095, 0.13501502875938906, 0.09479778615020934, 0.04144838268905257, 0.01887748122471701, 0.09684968628333075, 0.07838258508523803, 0.09151474593721508, 0.03406154220981548, 0.10751956697556211, 0.9983615153062037, 0.9949687873274261, 0.011363406000708343, 0.015151208000944457, 0.9734651140606814, 0.17182536330045434, 0.7654038910656602, 0.062481950291074305, 0.9546105856661922, 0.019887720534712338, 0.025569926401773004, 0.8439975082193557, 0.035072282513136765, 0.01697045928055005, 0.005656819760183349, 0.024890006944806736, 0.07353865688238354, 0.9971867137492181, 0.05080044867769412, 0.0029028827815825212, 0.02612594503424269, 0.02322306225266017, 0.010160089735538823, 0.008708648344747563, 0.015965855298703865, 0.015965855298703865, 0.02322306225266017, 0.8229672685786448, 0.004115252298174839, 0.05761353217444774, 0.02880676608722387, 0.7942436935477439, 0.024691513789049033, 0.020576261490874194, 0.020576261490874194, 0.049383027578098065, 0.048191792273586095, 0.028111878826258554, 0.9035961051297393, 0.02007991344732754, 0.99915027850133, 0.9872683279454937, 0.06028650792843222, 0.017731325861303594, 0.017731325861303594, 0.03900891689486791, 0.046101447239389345, 0.8191872547922261, 0.99961149166692, 0.019410871945379975, 0.01308123978927781, 0.01687901908293911, 0.06709410085468295, 0.008439509541469555, 0.029960258872216917, 0.03544594007417213, 0.17469784750841977, 0.1759637739396402, 0.048949155340523416, 0.09114670304787119, 0.04388544961564168, 0.10844769760788377, 0.0852390463688425, 0.04008767032198038, 0.041353596753200814, 0.6666930291085326, 0.31657436287857993, 0.016772151675686353, 0.9872338700510503, 0.8724132604642696, 0.127226933817706, 0.021053686538028006, 0.9789964240183023, 0.9949500827575969, 0.11032112176287026, 0.153026072122691, 0.6939554433470871, 0.04270495035982075, 0.06152000443389071, 0.9381800676168334, 0.9936440764863268, 0.0034759710845460056, 0.996610566669119, 0.0014889626177310789, 0.013896984432156737, 0.9847006111928202, 0.721195939740271, 0.14870019376088062, 0.13011266954077053, 0.6121448858195322, 0.3785017996288711, 0.009345723447626447, 0.09992893083661575, 0.7328121594685154, 0.06661928722441049, 0.09992893083661575, 0.8687289814303342, 0.13030934721455012, 0.9987979322040994, 0.0024918335133177183, 0.042361169726401214, 0.04983667026635437, 0.10714884107266189, 0.012459167566588592, 0.11877739746814457, 0.014120389908800404, 0.01910405693543584, 0.6337563235538064, 0.9968750703474496, 0.021267449069644746, 0.9783026572036584, 0.15560368697938723, 0.14861026284548218, 0.043708900836906525, 0.6468917323862166, 0.003496712066952522, 0.001748356033476261, 0.9968750703474496, 0.05545466292021763, 0.00940179629969207, 0.022468699631467488, 0.0288427988176994, 0.04238775958844221, 0.1370431325039861, 0.06230681954541693, 0.05848236003367779, 0.03712912775980089, 0.07744530511271773, 0.06262552450472852, 0.07489566543822496, 0.0014341723169021801, 0.035057545524275514, 0.08939674108690256, 0.11616795766907659, 0.06597192657750028, 0.02358416698905807, 0.9996223410188713, 0.9986495093685258, 0.0157178617060962, 0.12377816093550757, 0.1886143404731544, 0.03536518883871645, 0.6129966065377518, 0.013753128992834174, 0.009823663566310125, 0.06236560127098748, 0.7987173496108922, 0.013129600267576312, 0.019694400401364467, 0.10613093549624185, 0.9992768204772658, 0.2934343187535037, 0.09980759141275634, 0.005988455484765381, 0.6008417003047932, 0.7998157114398939, 0.02856484683713907, 0.17138908102283443, 0.9991899905454362, 0.00021233522826390658, 0.024418551250349255, 0.007644068217500637, 0.022932204652501908, 0.03185028423958598, 0.12315443239306581, 0.1806972792525845, 0.25289125686231273, 0.1165720403168847, 0.01911017054375159, 0.03036393764173864, 0.03333663083743333, 0.01358945460889002, 0.12294209716480191, 0.00021233522826390658, 0.020171846685071125, 0.04650039023115606, 0.9532579997386993, 0.9755942242058485, 0.024389855605146213, 0.9996317878415392, 0.9998217287794379, 0.9988326183348187, 0.018511066800377677, 0.981086540420017, 0.05960052905607604, 0.8940079358411406, 0.04635596704361469, 0.9958265326836687, 0.9984121532023916, 0.9996490239813773, 0.03690386234045564, 0.23895250865445025, 0.11347937669690109, 0.04982021415961511, 0.11809235948945804, 0.2730885813193717, 0.02952308987236451, 0.037826458898967026, 0.0507428107181265, 0.02214231740427338, 0.02952308987236451, 0.005014068583300174, 0.00022791220833182608, 0.002279122083318261, 0.3477940299143666, 0.18073438120713808, 0.005697805208295652, 0.1066629134992946, 0.0770343264161572, 0.0011395610416591304, 0.1424451302073913, 0.05241980791632, 0.07862971187448, 0.9758816592620243, 0.009662194646158657, 0.009662194646158657, 0.004831097323079328, 0.036165067836575936, 0.3978157462023353, 0.02432922745369654, 0.04405562809182887, 0.062466935354085706, 0.00460282681556421, 0.4306930805992225, 0.983990508007586, 0.004841943451103485, 0.005379937167892761, 0.005379937167892761, 0.0005379937167892761, 0.9711043226692039, 0.012611744450249401, 0.005044697780099761, 0.01135057000522446, 0.9958295720596432, 0.0217386154693311, 0.947803634462836, 0.03043406165706354, 0.9034039874428509, 0.06139638749611608, 0.008770912499445154, 0.026312737498335462, 0.9991405817231978, 0.97055432083443, 0.02941073699498273, 0.006800529337994869, 0.007215195761043337, 0.17731136249552476, 0.22110013676944293, 0.001078132699926016, 0.02280665326766572, 0.011361859991528013, 0.021728520567739704, 0.1726670985573819, 0.03143171486707384, 0.005971196491897934, 0.15616337492005292, 0.001741598976803564, 0.005058930361191305, 0.1576561740430274, 0.9994515105824819, 0.024272257729849672, 0.18689638451984247, 0.048544515459699344, 0.009708903091939869, 0.730594957668475, 0.022811204413987044, 0.008404127941995227, 0.07563715147795703, 0.07383626691895806, 0.2389173514938643, 0.03421680662098057, 0.048623883092972386, 0.06783331838896148, 0.39679489783277466, 0.03301621691498125, 0.9998327963558745, 0.0306132301165446, 0.051022050194241, 0.5791002697046354, 0.1071463054079061, 0.23215032838379654, 0.9996558931103575, 0.00735210990824576, 0.9925348376131775, 0.9986268158974246, 0.9997703611148823, 0.9995753188847277, 0.9873078242487625, 0.9949709554485557, 0.9987708686974455, 0.998575239819042, 0.9995077325798851, 0.9987764482636902, 0.07336315206681182, 0.3290553144173177, 0.10033489915019851, 0.04315479533341872, 0.07336315206681182, 0.012946438600025615, 0.003236609650006404, 0.023735137433380293, 0.34092288313400787, 0.999235920804318, 0.3996732087604989, 0.02841713181554006, 0.058667626974018186, 0.5133417360226591, 0.9990626253498346, 0.9995887348434239, 0.998700766040624, 0.9991186906499275, 0.99798042963992, 0.9747591819066387, 0.9747964251233254, 0.09109456493133831, 0.35232871409951483, 0.09832429230684135, 0.11663960165811572, 0.07133331010496333, 0.00481981825033536, 0.10748194698247854, 0.06121169177925907, 0.0009639636500670721, 0.007711709200536577, 0.03518467322744813, 0.013013509275905473, 0.030846836802146307, 0.009157654675637185, 0.9494473115746876, 0.04997091113550988, 0.006841955113868838, 0.04903401164939334, 0.025087168750852408, 0.03306944971703272, 0.06043727017250807, 0.10833095596958994, 0.5359531505863924, 0.034209775569344195, 0.023946842898540936, 0.046753359944770395, 0.0764018321048687, 0.9988810978044795, 0.9988414103095031, 0.996902555619806, 0.4573845364169278, 0.018204359658385186, 0.09898620564246945, 0.05006198906055926, 0.045510899145962964, 0.0967106606851713, 0.01934213213703426, 0.011377724786490741, 0.0022755449572981483, 0.20024795624223704, 0.543710537747923, 0.21360056840096975, 0.025890977987996333, 0.016181861242497708, 0.15858224017647754, 0.04207283923049404, 1.0000796781525352, 0.07740128742274184, 0.0006789586616029985, 0.006110627954426987, 0.043453354342591906, 0.05635356891304888, 0.11338609648770076, 0.08079608073075682, 0.0482060649738129, 0.0020368759848089957, 0.004073751969617991, 0.5227981694343089, 0.0448112716657979, 0.020831532326445544, 0.958250487016495, 0.006943844108815181, 0.013887688217630362, 0.006329141369286674, 0.025316565477146696, 0.968358629500861, 0.9418127376157036, 0.057957706930197146, 0.01226903658911704, 0.9876574454239218, 0.991549533159293, 0.018457650934295418, 0.11745777867278902, 0.02684749226806606, 0.10235606427200186, 0.39096660615371204, 0.1577290170748881, 0.18625447760970829, 0.004307951006469933, 0.9028234466416275, 0.009231323585292715, 0.008615902012939866, 0.0129238530194098, 0.06215757880763761, 0.5992486588697707, 0.28244841246091107, 0.011450611315982882, 0.10687237228250689, 0.9936834450388516, 0.9825155109764538, 0.011673451615561829, 0.005836725807780914, 0.1307560412861932, 0.053840722882550145, 0.8153023750786165, 0.999273322420303, 0.01448943070668041, 0.9852812880542678, 0.9988975539580249, 0.001120876642282946, 0.2961916527232685, 0.25443899779822876, 0.000560438321141473, 0.050999887223874045, 0.09023056970377714, 0.0630493111284157, 0.04287353156732268, 0.020455998721663763, 0.06837347517925971, 0.058565804559283924, 0.053241640508439936, 0.999781173164131, 0.9989060091630807, 0.9984627509734914, 0.05958596214782334, 0.6891246057096091, 0.023316246057843916, 0.18652996846275133, 0.03626971608997943, 0.005181388012854204, 0.9659727114315293, 0.006802624728391052, 0.027210498913564207, 0.9914749421709672, 0.05357051301916906, 0.03571367534611271, 0.05357051301916906, 0.857128208306705, 0.9727753379742602, 0.02702153716595167, 0.9949500827575969, 0.07244161775150852, 0.9272527072193092, 0.9994442572748492, 0.6956263158003543, 0.26707081767335034, 0.024843796992869798, 0.012421898496434899, 0.009828774381205364, 0.007371580785904022, 0.9828774381205364, 0.04300242574302129, 0.07394319548495124, 0.34978802403164877, 0.15627710818805296, 0.052966402439575004, 0.01153723617495693, 0.03723380765554282, 0.025696571480585892, 0.05821060070091906, 0.19141323653905817, 0.0031547540587261447, 0.015773770293630723, 0.414850158722488, 0.2760409801385376, 0.2097911449052886, 0.01419639326426765, 0.0283927865285353, 0.037857048704713736, 0.03606647055412203, 0.08032986623418088, 0.7951017372158721, 0.03934524060449676, 0.004918155075562095, 0.03442708552893466, 0.00983631015112419, 0.028034027976473825, 0.971846303184426, 0.018744413715691605, 0.028667926859293043, 0.06946459200521006, 0.19185458744296113, 0.10915864457961581, 0.4156849394597491, 0.06725936686218753, 0.045207115431962104, 0.051822790861029734, 0.0022052251430225416, 0.09800324029166324, 0.9016298106833018, 0.7168458908883254, 0.0025064541639451938, 0.06516780826257504, 0.02757099580339713, 0.05012908327890388, 0.007519362491835581, 0.007519362491835581, 0.12281625403331449, 0.7048380283690886, 0.021639764028875526, 0.06801068694789451, 0.06955638437852849, 0.006182789722535865, 0.06491929208662658, 0.06491929208662658, 0.028103462147311995, 0.013709005925518047, 0.006854502962759024, 0.01165265503669034, 0.03221616392496741, 0.15354086636580214, 0.36260320672995233, 0.03290161422124331, 0.06991593022014204, 0.008225403555310828, 0.01713625740689756, 0.2584147616960152, 0.004798152073931317, 0.9915697735223673, 0.031667923132043606, 0.022167546192430523, 0.21280844344733302, 0.19380768956810684, 0.050668677011269765, 0.07726973244218639, 0.4116830007165668, 0.9995383979453271, 0.9984110835139345, 0.9988193421729694, 0.9994451812758212, 0.0038862098321922663, 0.10104145563699893, 0.033680485212332974, 0.08290580975343502, 0.05311153437329431, 0.06736097042466595, 0.08549661630822986, 0.05181613109589688, 0.016840242606166487, 0.5039118749075973, 0.9981215594837093, 0.9996170913042591, 0.09488007436216216, 0.9050099400698545, 0.004161192586406404, 0.015535118989250573, 0.007767559494625286, 0.11457150254572297, 0.05631480633603333, 0.07323698952075271, 0.010264275046469129, 0.047437595485033, 0.03523143056490755, 0.6355528143638047, 0.9747589447413404, 0.9986201626036013, 0.9606875905025698, 0.03842750362010279, 0.0032156320765816485, 0.0032156320765816485, 0.17364413213540902, 0.1820047755345213, 0.53443805112787, 0.05788137737846967, 0.04566197548745941, 0.0014960088081820378, 0.06557505275864599, 0.118932700250472, 0.016456096890002415, 0.3089258188895908, 0.045628268649552155, 0.003989356821818768, 0.10297527296319693, 0.023686806129548932, 0.09574456372365042, 0.05285897788909867, 0.12242338746956342, 0.04039223782091502, 0.000997339205454692, 0.026432651945116098, 0.6475999726553444, 0.2378938675060449, 0.004405441990852683, 0.08370339782620098, 0.02049365550357752, 0.20662426784195215, 0.47231848390009834, 0.035683070759170266, 0.05955215187510173, 0.029414423193370086, 0.005786443906892476, 0.014707211596685043, 0.1555106799977353, 0.4719640807320933, 0.09949513053271156, 0.1122509164984438, 0.0918416589532722, 0.07653471579439351, 0.14796711720249411, 0.9964416029380997, 0.3685011402465256, 0.09544511515394244, 0.16184171700016325, 0.07220630450776515, 0.03734808853849921, 0.04979745138466562, 0.10374469038472003, 0.08133583726162051, 0.011619405323088644, 0.018259065507710726, 0.16459370455242436, 0.12500787687525902, 0.04375275690634066, 0.022918110760464152, 0.643790565907584, 0.9991715796145508, 0.9936377997036839, 0.9988810978044795, 0.9972340174420214, 0.051274349953276045, 0.04272862496106337, 0.9058468491745434, 0.01930600658089419, 0.2290979447599444, 0.04890855000493195, 0.21365313949522907, 0.3642399908262038, 0.06049215395346847, 0.01930600658089419, 0.04504734868875312, 0.9981511446408081, 0.024886513732380496, 0.045164413810616456, 0.019356177347407053, 0.11152845043029777, 0.05714680931139225, 0.14471046874013843, 0.3447243013300113, 0.2037007235131885, 0.04055580015647192, 0.008295504577460165, 0.9873078242487625, 0.07998801524363536, 0.7898816505308992, 0.12998052477090746, 0.983667534876489, 0.003073961046489028, 0.008197229457304075, 0.002561634205407523, 0.002561634205407523, 0.009433498322429417, 0.9244828355980828, 0.05188424077336179, 0.014150247483644124, 0.016123907250676917, 0.9835583422912919, 0.9589837301801374, 0.025641276208025063, 0.01538476572481504, 0.9915305148529293, 0.06998678623958243, 0.07626146362657947, 0.00772267986091944, 0.04295740672636439, 0.1476962523400843, 0.0193066996522986, 0.07240012369611976, 0.17182962690545756, 0.04585341167420918, 0.00482667491307465, 0.020272034634913533, 0.026546712021910578, 0.02413337456537325, 0.054541426517743546, 0.21575236861443686, 0.991494238024371, 0.9985905496370386, 0.008988912415866556, 0.06516961501503253, 0.7438325024129575, 0.15056428296576482, 0.03146119345553295, 0.9281269161977465, 0.023798126056352474, 0.04759625211270495, 0.2866100364582846, 0.26576567017040936, 0.010856440774935023, 0.03126654943181286, 0.009119410250945419, 0.07469231253155295, 0.2392759546795679, 0.016501789977901235, 0.057756264922654316, 0.008250894988950618, 0.9996452533244133, 0.9982876960789648, 0.9987796595850871, 0.9995105692933111, 0.006239342500377205, 0.546388136104461, 0.44744999074133673, 0.06700925681800007, 0.08762748968507701, 0.16494586293661556, 0.6030833113620007, 0.07731837325153855, 0.03004214217714129, 0.8969725307175042, 0.03862561137061023, 0.03433387677387576, 0.038523808767362624, 0.011115565375563128, 0.03471710829627936, 0.011724637450936451, 0.0398942209369526, 0.06501844404610214, 0.4893894125624643, 0.005481648678359899, 0.27316882580493496, 0.0041112365087699245, 0.018728966317729655, 0.008222473017539849, 0.991494238024371, 0.9249281862448753, 0.074994177263098, 0.8415079331355504, 0.04065255715630678, 0.11789241575328967, 0.9996403808127162, 0.9998722802051873, 0.9998963740872722, 0.9999106554589088, 0.019604393735176195, 0.9802196867588099, 0.9974985288906476, 0.9988503391428882, 0.996357279059097, 0.17380097557548185, 0.01565187022068129, 0.005543370703157958, 0.17412705620507937, 0.01271714455430355, 0.09162865691690507, 0.08641136684334463, 0.07010733536346829, 0.12064983295108496, 0.019890918405449143, 0.029999417922972477, 0.0026086450367802153, 0.14934492835566734, 0.04760777192123893, 0.024391099789332304, 0.7046317716918221, 0.0650429327715528, 0.17344782072414083, 0.0325214663857764, 0.047564979543550635, 0.09512995908710127, 0.8561696317839115, 0.006711744931083162, 0.8960179482996021, 0.03691459712095739, 0.06040570437974846, 0.006849065211648198, 0.9931144556889887, 0.010101080621542417, 0.9343499574926736, 0.05555594341848329, 0.3061835639665647, 0.008673755353160475, 0.012143257494424664, 0.19689424651674275, 0.0693900428252838, 0.02602126605948142, 0.16740347831599714, 0.0659205406840196, 0.06852266728996774, 0.07893117371376031, 0.005376353606947866, 0.005376353606947866, 0.005376353606947866, 0.9838727100714594, 0.020965395844010127, 0.02306193542841114, 0.19288164176489314, 0.6981476816055372, 0.06499272711643139, 0.7886419360942899, 0.06910779852372644, 0.004065164619042732, 0.08536845699989735, 0.05284714004755551, 0.15490165900465216, 0.30472457509111905, 0.0215846574022876, 0.011427171565916964, 0.017352371637133168, 0.06729334366595545, 0.05248034348791494, 0.011850400142432407, 0.0025393714590926588, 0.0677165722424709, 0.03809057188638988, 0.06348428647731647, 0.17606308783042432, 0.0029626000356081017, 0.007618114377277976, 0.9138497050843541, 0.03605238973746165, 0.03761988494343825, 0.012539961647812748, 0.9980805969655365, 0.6300858937361878, 0.08296504650618844, 0.015696089879549163, 0.058299762409754034, 0.08744964361463105, 0.1255687190363933, 0.9993138743020208, 0.026754351594402, 0.054455759882411144, 0.01752054883173228, 0.07126601619393806, 0.024860238207187697, 0.1453732024686976, 0.0002367641734017876, 0.12240707764872419, 0.04640577798675037, 0.059427807523848686, 0.04924694806757182, 0.09825713196174185, 0.14111144734746542, 0.05563958074942008, 0.01752054883173228, 0.01373232205730368, 0.05492928822921472, 0.0009470566936071504, 0.2751930156836713, 0.01823045214308233, 0.011285517993336679, 0.04427395520462851, 0.602473037490435, 0.029515970136419007, 0.012153634762054886, 0.006944934149745649, 0.9992678890687655, 0.4720723738015274, 0.35808345176006606, 0.008497888789723336, 0.028130942200463454, 0.006153643606351381, 0.09992345094122956, 0.027251850256698972, 0.0008432237288658516, 0.14967221187368865, 0.003794506779896332, 0.030356054239170656, 0.7508907305550409, 0.0008432237288658516, 0.033728949154634064, 0.0033728949154634064, 0.026561547459274325, 0.07317407997276107, 0.043362417761636185, 0.05149287109194297, 0.024391359990920354, 0.6531464175346451, 0.03794211554143166, 0.024391359990920354, 0.0921451377434769, 0.9936285511220164, 0.110543891509173, 0.06684049254043019, 0.514157634926386, 0.05655733984190246, 0.048844975318006675, 0.00514157634926386, 0.025707881746319303, 0.1722428077003393, 0.8823507748085136, 0.021008351781155087, 0.0966384181933134, 0.999892635825009, 1.000004851895056, 0.9634884546427411, 0.035684757579360786, 0.09137117698149433, 0.025380882494859536, 0.010152352997943814, 0.873102357823168, 0.008143655978383102, 0.05049066706597523, 0.004886193587029861, 0.04234701108759213, 0.03583208630488565, 0.029317161522179166, 0.8290241785993997, 0.014018012098902816, 0.009345341399268544, 0.9018254450294144, 0.07476273119414835, 0.9535552928477307, 0.045407394897510986, 0.9964018189199149, 0.39061001392770506, 0.019391986507049187, 0.0027702837867213123, 0.08310851360163937, 0.22023756104434433, 0.0027702837867213123, 0.0221622702937705, 0.05817595952114756, 0.03739883112073772, 0.0013851418933606562, 0.16206160152319676, 0.24733719889740857, 0.008036226678977174, 0.7080808618254332, 0.03660947709311824, 0.017092232575016773, 0.8289732798883134, 0.15383009317515095, 0.062498820222338256, 0.908636694001687, 0.02884560933338689, 0.999959541844532, 0.012134594373976893, 0.09852566178273775, 0.0009055667443266338, 0.052160644473214106, 0.030789269307105547, 0.10088013531798701, 0.10432128894642821, 0.12134594373976892, 0.019379128328589963, 0.0054334004659598025, 0.16064754044354485, 0.008693440745535684, 0.26967777646047153, 0.015213521304687448, 0.10552853807209049, 0.05818863314255457, 0.34124181470040477, 0.04832615294890125, 0.01183497623238398, 0.0404361687939786, 0.2998193978870608, 0.0009862480193653317, 0.012821224251749311, 0.0808723375879572, 0.013013687485106971, 0.014014740368576738, 0.04004211533879068, 0.9329812873938229, 0.9997821948843503, 0.9994355946643447, 0.9996566770419056, 0.9985580440606647, 0.9993474957323398, 0.9661306712341564, 0.03378079270049498, 0.9987595194512419, 0.8362823408953699, 0.163620458001268, 0.9995013724028309, 0.9996853472071905, 0.25631073677577326, 0.012205273179798727, 0.04576977442424523, 0.6537449446929693, 0.028224694228284556, 0.0038141478686871022, 0.004098558750393172, 0.9959497763455407, 0.011718582152893307, 0.023437164305786615, 0.9570175424862868, 0.0078123881019288716, 0.9987885873144985, 0.03390045812718407, 0.012241832101483135, 0.93132091910514, 0.02260030541812271, 0.9998569311808677, 0.5049341132070705, 0.052234563435214196, 0.2818489985358433, 0.03591126236170976, 0.12514530823020067, 0.06451784884141987, 0.0018975837894535256, 0.0018975837894535256, 0.10246952463049037, 0.8292441159911906, 0.9948847125277509, 0.05194688484042951, 0.8441368786569795, 0.012986721210107377, 0.04328907070035792, 0.04761797777039371, 0.0011360281146515063, 0.0121176332229494, 0.06399625045870153, 0.08065799614025694, 0.06929771499374188, 0.11776824788553948, 0.02120585814016145, 0.1866872868410642, 0.12193368430592834, 0.16813216096842293, 0.11284545938871629, 0.04430509647140875, 0.9915512443132423, 0.999552847621297, 0.0524176450164157, 0.00806425307944857, 0.8951320918187913, 0.044353391936967135, 0.004090194364667383, 0.038856846464340136, 0.005112742955834229, 0.011248034502835303, 0.9407447038734981, 0.9513356198413744, 0.04756678099206872, 0.9998721570716155, 0.9873078242487625, 0.9998318008338337, 0.043126006260533825, 0.06410622552241514, 0.006993406420627107, 0.04429157399730501, 0.02680805794573724, 0.08858314799461002, 0.08042417383721173, 0.10723223178294897, 0.5384922943882873, 0.12280261370337078, 0.04093420456779026, 0.029238717548421618, 0.7835976302976994, 0.023390974038737293, 0.9980958220249578, 0.01574058718728723, 0.007345607354067375, 0.033579919332879425, 0.01469121470813475, 0.9286946440499466, 0.4495938505999596, 0.15129530533316063, 0.05365081749402859, 0.05686986654367031, 0.033263506846297725, 0.020387310647730864, 0.01716826159808915, 0.21782231902575608, 0.9991894091759532, 0.07448261595664887, 0.11263224851981049, 0.11081559935013613, 0.011808219602883358, 0.21708957577608637, 0.4732371087001715, 0.010524929173362826, 0.9893433422961057, 0.9513394147460731, 0.047566970737303656, 0.1982607636574578, 0.011943419497437215, 0.7842845469983771, 0.0055735957654707005, 0.007873089799904292, 0.9605169555883235, 0.03149235919961717, 0.008086830906703838, 0.010782441208938452, 0.981202150013399, 0.9747560946229953, 0.034243468593431955, 0.9656658143347812, 0.7410509971428406, 0.07883521246200433, 0.011262173208857761, 0.022524346417715523, 0.1464082517151509, 0.9322374978481293, 0.06755344187305284, 0.11634566263445636, 0.02049612709622547, 0.05967989948606829, 0.02170178163129756, 0.16638032583994797, 0.08710854015895826, 0.09223257193301462, 0.02019471346245745, 0.03466256788332249, 0.11182445812793604, 0.15824215772821137, 0.0111523044494168, 0.044307804163899185, 0.05576152224708401, 0.9992516062984006, 0.08749984290360842, 0.03757661965185638, 0.0461655612865664, 0.07139557733852711, 0.004831279669524392, 0.003220853113016261, 0.6543699907944703, 0.0950151668339797, 0.11606050133176617, 0.03571092348669728, 0.8481344328090604, 0.028565639509974303, 0.9712317433391262, 0.9629051878901848, 0.03703481491885326, 0.9993343524113523, 0.9992458127564013, 0.013514679809809351, 0.014689869358488426, 0.008226326840753518, 0.02526657529660009, 0.18626754346563323, 0.04994555581886065, 0.020565817101883797, 0.002350379097358148, 0.07991288931017704, 0.08285086318187472, 0.024091385747921017, 0.05993466698263278, 0.11575617054488879, 0.22622398812072175, 0.0904895952482887, 0.9968278007009476, 0.014528428260761684, 0.0871705695645701, 0.09927759311520484, 0.784535126081131, 0.014528428260761684, 0.0302834199244494, 0.9690694375823808, 0.9994593377726777, 0.026394893643774217, 0.7742502135507103, 0.029327659604193573, 0.07038638305006457, 0.09971404265425815, 0.013604007834929148, 0.8570524936005363, 0.1292380744318269, 0.9994676481789844, 0.9986427642985398, 0.9994200884621943, 0.9922868338969172, 0.007574708655701658, 0.9915482309969352, 0.974725591660348, 0.02068722282927163, 0.9240292863741328, 0.055165927544724346, 0.05555100289331502, 0.9443670491863553, 0.033323621332888576, 0.9663850186537687, 0.9979851397420537, 0.9999203318429613, 0.04596895060212503, 0.9538557249940944, 0.0339956513506624, 0.045327535134216536, 0.0028329709458885335, 0.6742470851214709, 0.035412136823606666, 0.041078078715383735, 0.0722407591201576, 0.0594923898636592, 0.035412136823606666, 0.9807675070027174, 0.019044029262188688, 0.9979146155299063, 0.9981215594837093, 0.0178513859045232, 0.9818262247487761, 0.01723466429772663, 0.9823758649704178, 0.0025475082154047955, 0.002145270076130354, 0.01448057301387989, 0.00093855565830703, 0.12308487061797907, 0.5183508821449968, 0.00469277829153515, 0.01783255750783357, 0.011933064798475095, 0.016625843090010244, 0.0008044762785488828, 0.003217905114195531, 0.2776783954791227, 0.0034860638737118257, 0.0022793494558885014, 0.005226880650801713, 0.047041925857215415, 0.18294082277805995, 0.0139383484021379, 0.10279531946576702, 0.0139383484021379, 0.012196054851870662, 0.5766991651384556, 0.045299632306948175, 0.6046668542006074, 0.027132487047463152, 0.11628208734627064, 0.08527353072059847, 0.16667099186298792, 0.8439932145285671, 0.06492255496373593, 0.09089157694923031, 0.9986143763813385, 0.09944426560768717, 0.12204523506397971, 0.19662843426974508, 0.07119305378732149, 0.5051316673481382, 0.005650242364073135, 0.9992140438903993, 0.9873278918096533, 0.004926381694774638, 0.0788221071163942, 0.3169305556971684, 0.5993764395309142, 0.04760423545981894, 0.9520847091963789, 0.9986569713738448, 0.9984627509734914, 0.9989870258383801, 0.4741450782668422, 0.021507611797671192, 0.0009776187180759635, 0.029328561542278902, 0.10558282155220404, 0.013686662053063486, 0.004888093590379817, 0.06256759795686166, 0.0879856846268367, 0.19943421848749654, 0.9991749115366041, 0.034783693179033605, 0.023189128786022403, 0.21449944127070725, 0.5014649099977345, 0.06087146306330881, 0.07826330965282562, 0.08695923294758402, 0.5844738072698394, 0.04825930518741793, 0.01474589880726659, 0.1849940032184354, 0.01474589880726659, 0.06836734901550874, 0.0013405362552060536, 0.08311324782277532, 0.9982610063898596, 0.9773553980024365, 0.002570860319164673, 0.012854301595823365, 0.00728410423763324, 0.10399242331494087, 0.8959347239441059, 0.9661004099438261, 0.033701177091063704, 0.04012251782434696, 0.29690663190016753, 0.02576287986615963, 0.013937295665299472, 0.003378738343102902, 0.0397001755314591, 0.03420972572391689, 0.10305151946463852, 0.03463206801680475, 0.038010806359907647, 0.1440187218747612, 0.06335134393317941, 0.07771098189136676, 0.00042234229288786276, 0.03125332967370185, 0.028296933623486807, 0.01055855732219657, 0.014781980251075197, 0.9998917351786035, 0.9998498133000978, 0.8241461791356014, 0.02702118620116726, 0.14861652410641993, 0.9988774090693278, 0.6648587436053333, 0.03783748947347425, 0.11351246842042274, 0.09189104586415174, 0.09189104586415174, 0.9915096967628624, 0.009389083336115225, 0.009389083336115225, 0.981159208624041, 0.9989958205315536, 0.9996238079340168, 0.9992797048696737, 0.012765551627054407, 0.008510367751369605, 0.01702073550273921, 0.008510367751369605, 0.02127591937842401, 0.9318852687749717, 0.99986066055124, 0.04916644430596898, 0.9505512565820671, 0.0067233078799797145, 0.007003445708312203, 0.08348107284308146, 0.53142146034673, 0.009244548334972107, 0.007843859193309667, 0.007563721364977179, 0.0014006891416624406, 0.0067233078799797145, 0.013166477931626942, 0.12326064446629477, 0.2022595120560564, 0.034393527216499985, 0.06085008661380766, 0.6587683289929612, 0.2063611632989999, 0.039684839095961516, 0.9948847125277509, 0.2450662313160137, 0.7548039924533222, 0.008230013651784367, 0.03879863578698345, 0.05761009556249057, 0.793373316032013, 0.006584010921427494, 0.0837109960010067, 0.009405729887753563, 0.002351432471938391, 0.08942110119676924, 0.873346088355113, 0.011922813492902565, 0.025335978672417953, 0.9984354664387589, 0.027166308889998873, 0.016978943056249297, 0.002546841458437394, 0.66132983204091, 0.07131156083624704, 0.0008489471528124648, 0.1061183941015581, 0.016978943056249297, 0.0865926095868714, 0.0016978943056249296, 0.008489471528124648, 0.06741394232406689, 0.8370564505238305, 0.09550308495909475, 0.9747970681979297, 0.7076743397922978, 0.08325580468144679, 0.208139511703617, 0.19044724150843964, 0.6427594400909838, 0.16664133631988468, 0.06664564012349376, 0.833070501543672, 0.09996846018524064, 0.999925586795304, 0.9996173518336067, 0.9772815554923059, 0.02221094444300695, 0.9979053157756032, 0.9991248841229787, 0.012342860261563842, 0.9874288209251074, 0.9998695816383203, 0.9991734433102781, 0.012976291743471648, 0.010879113279880271, 0.019923195404118084, 0.0038011359652593718, 0.013893807321292875, 0.03342378176348758, 0.08860579008673569, 0.002752546733463683, 0.011403407895778114, 0.06317750121569024, 0.06488145871735825, 0.11678662569124483, 0.13802055763510754, 0.0703865521842856, 0.1714443393985951, 0.12150527723432543, 0.0007864419238467666, 0.05544415563119704, 0.9997330869189804, 0.9989107280060793, 0.9992814442183333, 0.03268213446292305, 0.027598246879801683, 0.3413467377238629, 0.02469316826087519, 0.09150997649618453, 0.2534681095013365, 0.07843712271101531, 0.058101572378529864, 0.018883011023022204, 0.07335323512789395, 0.05517397103875146, 0.6138104278061101, 0.1862121522557862, 0.0413804782790636, 0.016092408219635843, 0.048277224658907526, 0.039081562819115616, 0.9987708686974455, 0.00934447279523118, 0.8690359699564998, 0.0934447279523118, 0.028033418385693544, 0.9872683279454937, 0.9896467260449933, 0.010202543567474158, 0.007924550355113469, 0.14581172653408783, 0.0491322122017035, 0.045962392059658116, 0.09509460426136163, 0.532529783863625, 0.01267928056818155, 0.11094370497158856, 0.011915892569469498, 0.009362487018868892, 0.049365840644945064, 0.08851805908748771, 0.2127837958833839, 0.0621328683979481, 0.009362487018868892, 0.3727972103876886, 0.10128508684049074, 0.08256011280275295, 0.0799250958102108, 0.0399625479051054, 0.8791760539123189, 0.9981464329715903, 0.002460530237869697, 0.06486852445292837, 0.01386844315890193, 0.028855309153199175, 0.01923687276879945, 0.23553984913425371, 0.07359222256901185, 0.07582906823980248, 0.008052644414846282, 0.03623689986680827, 0.010065805518557852, 0.07001326949574684, 0.031763208525227, 0.0013421074024743801, 0.012973704890585675, 0.08969751139870441, 0.22569772818277495, 0.09415087997110928, 0.061070841062341154, 0.13995401076786515, 0.6514223046649723, 0.002544618377597548, 0.012723091887987741, 0.03816927566396322, 0.9987796595850871, 0.9915488963638419, 0.9998883619276528, 0.12833852241209756, 0.01632486097218462, 0.09895377266216525, 0.25039825214258565, 0.03139396340804735, 0.024361715604644743, 0.008790309754253257, 0.12105512290143057, 0.03968196974777185, 0.06655520242506038, 0.006529944388873848, 0.07735472583742867, 0.01431564731406959, 0.009543764876046393, 0.012557585363218939, 0.03340317706616238, 0.008036854632460122, 0.05249070681825516, 0.9991734433102781, 0.059670664518627424, 0.015684860387753494, 0.0037507274840280097, 0.04500872980833612, 0.14252764439306437, 0.057965788389523785, 0.025232166710733882, 0.0849028312293613, 0.008865355871338932, 0.3893937078872715, 0.0218224144525266, 0.018753637420140048, 0.06478529290593835, 0.06171651587355179, 0.010204784535802801, 0.21940286751976024, 0.1250086105635843, 0.007653588401852101, 0.6377990334876751, 0.9972340174420214, 0.9992459935679648, 0.1711164464756244, 0.7753713980926731, 0.037431722666542835, 0.016042166857089788, 0.9994874435512189, 1.0000858882130388, 0.6424616329021775, 0.35763317184998655, 0.014904127212859913, 0.017884952655431895, 0.002980825442571983, 0.059616508851439654, 0.12966590675188125, 0.514192388843667, 0.14606044668602716, 0.11476177953902134, 0.03489581736151733, 0.0016421561111302273, 0.011084553750129034, 0.5238477994505425, 0.05911762000068818, 0.04967522236168938, 0.055422768750645175, 0.036127434444865, 0.03448527833373478, 0.04926468333390682, 0.01436886597238949, 0.026685036805866195, 0.011084553750129034, 0.09237128125107529, 0.9999970061541911, 0.7908309631822767, 0.19998024356333435, 0.009090011071060652, 0.9747579866444849, 0.9991026172013427, 0.06369251577554026, 0.9362799819004419, 0.9747964251233254, 0.6953072950456268, 0.2918573831055718, 0.01287606101936346, 0.9991483349490323, 0.9968278007009476, 0.002528626648154898, 0.5031967029828248, 0.2692987380284967, 0.007585879944464695, 0.05942272623164011, 0.011378819916697043, 0.1466603455929841, 0.009547216041182825, 0.016707628072069942, 0.009547216041182825, 0.17662349676188227, 0.03580206015443559, 0.7518432632431474, 0.1323426576300786, 0.0808760685517147, 0.7278846169654323, 0.0588189589467016, 0.9957720727842788, 0.9985248576605936, 0.9981511446408081, 0.9992259962411135, 0.873733221807592, 0.0270226769631214, 0.0540453539262428, 0.04503779493853567, 0.9994649141663369, 0.9991489402861444, 0.03670003227215742, 0.42939037758424187, 0.04404003872658891, 0.185335162974395, 0.03761753307896136, 0.04495753953339285, 0.03578253146535349, 0.0899150790667857, 0.09633758471441324, 0.9982934785161008, 0.998215465342705, 0.05300319726673975, 0.9389663626906465, 0.0029446220703744303, 0.005153088623155253, 0.010050704181216044, 0.6214685418718587, 0.016751173635360075, 0.12395868490166455, 0.227815961440897, 0.9963955072480879, 0.8123505151607526, 0.18775149206232497, 0.9989343634990325, 0.9969031993103092, 0.9747964251233254, 0.35925334210598225, 0.027311657587004497, 0.5798474995394801, 0.008403586949847539, 0.008403586949847539, 0.016807173899695077, 0.03515003073143194, 0.17575015365715968, 0.009205960429660745, 0.18579301958042596, 0.05607266807157, 0.0016738109872110447, 0.05690957356517552, 0.04100836918667059, 0.01757501536571597, 0.3347621974422089, 0.08620126584136881, 0.06385321590939298, 0.0051772877764372695, 0.015531863329311807, 0.016394744625384684, 0.008628812960728783, 0.8904934975472103, 0.5000211491059581, 0.10429888999756182, 0.09509604676248283, 0.024540915293543956, 0.21473300881850962, 0.061352288233859895, 0.008693425328621168, 0.011033962917096097, 0.09194969097580082, 0.038117326440877425, 0.09094660343788298, 0.03209880121337046, 0.00534980020222841, 0.004681075176949859, 0.1454476929980849, 0.05784471468659469, 0.0066872502527855135, 0.06453196493938021, 0.020730475783635093, 0.34004667535414335, 0.08191881559662254, 0.05167703657204668, 0.00042708294687641887, 0.04868745594391175, 0.0035590245573034907, 0.03886454816575412, 0.0384374652188777, 0.07374298882732833, 0.25696157303731204, 0.11659364449726235, 0.06847563248251916, 0.056802031934563714, 0.06676730069501349, 0.03445135771469779, 0.015802069034427497, 0.014663181176090381, 0.11417350779829598, 0.9999265412356863, 0.9996125996611082, 0.18781532850468635, 0.6903482345037121, 0.07106525943420565, 0.05076089959586118, 0.991549533159293, 0.3148754413505267, 0.0029155133458382103, 0.6822301229261412, 0.999833771676029, 0.04621764024566627, 0.8571271463741744, 0.0378144329282724, 0.0252096219521816, 0.03361282926957547, 0.1843368073048741, 0.018064186016513273, 0.027506828706963395, 0.03859167012618745, 0.06281410137560298, 0.019706384745287207, 0.0821099364386967, 0.06691959819753782, 0.03161232552889823, 0.05131871027418544, 0.1145433613319819, 0.08005718802772928, 0.11413281164978842, 0.029970126800124296, 0.07020399565508569, 0.008210993643869671, 0.008474680586319368, 0.0028248935287731227, 0.12994510232356363, 0.807919549229113, 0.031073828816504348, 0.005649787057546245, 0.014124467643865614, 0.02984127929339784, 0.940000297742032, 0.02984127929339784, 0.9856066243722625, 0.014284153976409602, 0.02507393846031369, 0.11861901656225322, 0.4243281893283855, 0.015430115975577656, 0.014465733727104052, 0.12344092780462125, 0.0009643822484736035, 0.2777420875603978, 0.15944943090229394, 0.03472251217356544, 0.010965003844283823, 0.28691760059209337, 0.035636262493922426, 0.025128133809817096, 0.0735569007887373, 0.054825019221419115, 0.058023145342668565, 0.056652519862133086, 0.032438136372672975, 0.016904380926604227, 0.08726315559409209, 0.06030752114356103, 0.007310002562855882, 0.035709151042269016, 0.9373652148595617, 0.026781863281701762, 0.9981001794184002, 0.27471559239491844, 0.018073394236507792, 0.03012232372751299, 0.581963294415551, 0.05422018270952338, 0.031327216676613506, 0.0012048929491005197, 0.008434250643703636, 0.8569534363508432, 0.14282557272514054, 0.008195731762162511, 0.04097865881081256, 0.9507048844108513, 0.8640436505840513, 0.07406088433577583, 0.024686961445258608, 0.037030442167887916, 0.00595196620034148, 0.04166376340239036, 0.9463626258542953, 0.00595196620034148, 0.0133500585903688, 0.022637055870625356, 0.01683268257046501, 0.04875673572134692, 0.0133500585903688, 0.06733073028186004, 0.019734869220545185, 0.06675029295184401, 0.011028309270304662, 0.14278758318394458, 0.04295236242118658, 0.07429597824205246, 0.06094591965168365, 0.09461128479261367, 0.2786099184076967, 0.023797930530657426, 0.0023217493200641394, 0.940765495884161, 0.059167641250576164, 0.012146807690711404, 0.014981062818544064, 0.03765510384120535, 0.003239148717523041, 0.019839785894828627, 0.18382168971943258, 0.22471594227816097, 0.044133401276251434, 0.18503637048850372, 0.024293615381422808, 0.0611389320432474, 0.03522574230306307, 0.038869784610276494, 0.08057382434838564, 0.03441595512368231, 0.014488314063969549, 0.9852053563499292, 0.09428630410034983, 0.040187605026378616, 0.07264682447076135, 0.035550573677181084, 0.02936786521158437, 0.6244535550252677, 0.08037521005275723, 0.023185156745987662, 0.005780072345371442, 0.994172443403888, 0.024346673060943815, 0.006086668265235954, 0.00046820525117199647, 0.03417898333555574, 0.9350058865904769, 0.04672881794407994, 0.0062305090592106585, 0.9470373770000201, 0.9731587375803543, 0.02630158750217174, 0.9997433287615398, 0.010381159423896981, 0.9896705317448455, 0.9368722092772017, 0.06245814728514678, 0.9992490710401536, 0.06450599856486193, 0.935336979190498, 0.004807773332065171, 0.9952090797374904, 0.9977380950592445, 0.9994025414064154, 0.9405934399542738, 0.05878708999714211, 0.055552017442388364, 0.04444161395391069, 0.8999426825666915, 0.9996887639701707, 0.0028182608928893943, 0.6390406574626701, 0.005988804397389963, 0.02219380453150398, 0.03452369593789508, 0.29556511114177525, 0.13997722011331595, 0.8598600664103695, 0.9621759169263187, 0.03700676603562764, 0.9976997637820894, 0.9997426813981266, 0.9990624358907089, 0.9915773232184284, 0.12229068931062609, 0.12948425927007468, 0.014387139918897186, 0.7337441358637565, 0.9981468809632674, 0.007143443948149247, 0.12381969510125361, 0.04762295965432831, 0.025002053818522364, 0.4524181167161189, 0.07857788342964171, 0.03571721974074623, 0.12620084308397003, 0.04762295965432831, 0.03690779373210444, 0.019049183861731322, 0.03149374290201118, 0.8188373154522907, 0.10235466443153633, 0.04724061435301677, 0.004537596027667829, 0.029948133782607668, 0.5054881974821961, 0.09165943975889014, 0.20872941727272012, 0.03267069139920837, 0.041745883454544025, 0.08530680532015518, 0.9747964251233254, 0.002862753648450827, 0.9198981723688657, 0.01335951702610386, 0.002862753648450827, 0.005725507296901654, 0.05534657053671599, 1.0000010170837803, 0.06422010114362388, 0.24311895432943328, 0.009174300163374841, 0.5642194600475527, 0.0917430016337484, 0.02752290049012452, 0.9993327537941985, 0.9975490792793844, 0.9997206578502729, 0.0016129746943934033, 0.016129746943934032, 0.05322816491498231, 0.07903576002527676, 0.07580981063648995, 0.10484335513557122, 0.01451677224954063, 0.025807595110294453, 0.6290601308134273, 0.025634019565109967, 0.9740927434741787, 0.2173634082164948, 0.7825082695793814, 0.05007618719057351, 0.07487582275161943, 0.03863020154701385, 0.05722992821779829, 0.04578394257423864, 0.05627609608083499, 0.11207527609318832, 0.1173213528464865, 0.2718421590345419, 0.09061405301151397, 0.06533750138198638, 0.0200304748762294, 0.9988414103095031, 0.9991414810884065, 0.9957876652060659, 0.04706123926822584, 0.7765104479257264, 0.17647964725584692, 0.27254349941629025, 0.06532034283530923, 0.03378638422515995, 0.5811258086727511, 0.047300937915223926, 0.9972617194678659, 0.884993780378108, 0.016388773710705705, 0.09833264226423423, 0.0005537446850317971, 0.0758630218493562, 0.24143268267386353, 0.008859914960508754, 0.011074893700635942, 0.0193810639761129, 0.01716608523598571, 0.09801280925062808, 0.5277186848353026, 0.7934311644719851, 0.09521173973663823, 0.015868623289439703, 0.09521173973663823, 0.011342132875423714, 0.010491472909766935, 0.06748569060877109, 0.027504672222902506, 0.02013228585387709, 0.02693756557913132, 0.035444165235699106, 0.010775026231652529, 0.7037793449200415, 0.001701319931313557, 0.054442237802033826, 0.03005665211987284, 0.9984738542687238, 0.07236195133339625, 0.03947015527276159, 0.8880784936371358, 0.06307968111692092, 0.08221621359059356, 0.030476699865478643, 0.04677819049119978, 0.5528331603505429, 0.06237092065493304, 0.004252562771927253, 0.047486950953187654, 0.06733224388884816, 0.0432343881812604, 0.8230639604144614, 0.028090920150664212, 0.002809092015066421, 0.028090920150664212, 0.11798186463278969, 0.015302323395142392, 0.1500614939394609, 0.010366090041870652, 0.020732180083741305, 0.05627306022729783, 0.22904122759180873, 0.4334012884172587, 0.026655660107667394, 0.0360345034788837, 0.004442610017944566, 0.017770440071778262, 0.046512823808095224, 0.9418846821139283, 0.011628205952023806, 0.9979248627359861, 0.7991090001234594, 0.1643881371682545, 0.009132674287125251, 0.02739802286137575, 0.032249093094704695, 0.9674727928411407, 0.48336929202995654, 0.13149126334914527, 0.09630346048106414, 0.009259948123179245, 0.05185570948980377, 0.1703830454664981, 0.009259948123179245, 0.04815173024053207, 0.05766928553560315, 0.05766928553560315, 0.8842623782125817, 0.9988782157127454, 0.0731688977752951, 0.10568840789764848, 0.8211176305894229, 0.9998528605388238, 0.9972617194678659, 0.999611000153617, 0.997784762725294, 1.0000088670713905, 0.4419702085994246, 0.0021248567721126183, 0.09986826828929306, 0.012040855041971504, 0.048163420167886016, 0.11757540805689821, 0.07649484379605426, 0.20186139335069875, 0.480362210651117, 0.008427407204405562, 0.10674715792247044, 0.14888419394449826, 0.09831975071806488, 0.04775530749163152, 0.10955629365727229, 0.04484591532513548, 0.20002297460358723, 0.01809124993229897, 0.09351392570639046, 0.0002548063370746334, 0.01809124993229897, 0.06446600327988225, 0.03592769352752331, 0.027009471729911142, 0.006624964763940469, 0.05682181316764325, 0.06905251734722566, 0.011721091505433138, 0.2621957208497978, 0.0914754750097934, 0.5380000558076674, 0.02848235589570004, 0.025317649685066702, 0.003164706210633338, 0.17089413537420023, 0.07911765526583345, 0.012658824842533351, 0.1424117794785002, 0.6508892237923237, 0.08284044666447755, 0.005917174761748397, 0.2603556895169295, 0.9286571477735449, 0.00939936384386179, 0.02819809153158537, 0.03383770983790244, 0.9989643456339542, 0.015936979630839582, 0.6175579606950339, 0.33866081715534113, 0.02788971435396927, 0.11205152909055659, 0.35576973459605604, 0.03579764386700495, 0.022312230081489384, 0.2574488086325698, 0.054922412508281566, 0.03162942506057286, 0.01225946707774142, 0.016427685884173503, 0.012995035102405905, 0.07036934102623575, 0.0181440112750573, 0.016123711493458263, 0.8868041321402044, 0.09674226896074957, 0.9747579866444849, 0.9993343524113523, 0.0018416790392451388, 0.005525037117735416, 0.009208395196225695, 0.0036833580784902775, 0.0018416790392451388, 0.005525037117735416, 0.009208395196225695, 0.9631981375252076, 0.9998347547887263, 0.3635724524307801, 0.6362517917538653, 0.9980805969655365, 0.9989702015926321, 0.017440957075616798, 0.06395017594392825, 0.023254609434155728, 0.8953024632149955, 0.9986158949182371, 0.045644889468563835, 0.01037383851558269, 0.15560757773374034, 0.06224303109349614, 0.014523373921815765, 0.6307293817474275, 0.08091594042154497, 0.8533618522962738, 0.036114972588647765, 0.015144988504916804, 0.007281244473517695, 0.0055337457998734475, 0.01572748806279822, 0.021843733420553083, 0.018931235631146005, 0.006116245357754863, 0.01980498496796813, 0.020156476381593326, 0.31785212755589476, 0.02119014183705965, 0.06873875278851056, 0.0025841636386658108, 0.08837839644237074, 0.29407782208016925, 0.018605978198393838, 0.04341394912958562, 0.11783786192316098, 0.00723565818826427, 0.023253271972732255, 0.9766374228547547, 0.10374144000615262, 0.030818586780070444, 0.05707949523351075, 0.0023873553139491187, 0.011936776569745594, 0.008464259749455966, 0.0125878734735499, 0.010851615063405085, 0.016928519498911932, 0.05295588150941682, 0.03060155447880234, 0.18491152068042266, 0.0763953700463718, 0.04492568636249705, 0.012370841172281797, 0.016711487197643832, 0.10699692452517415, 0.21941965658205084, 0.9997450937971315, 0.009736966571578682, 0.011935636442580319, 0.012563827834295074, 0.19599571421500314, 0.058735895125329465, 0.08983136901520977, 0.12375370416780647, 0.007538296700577044, 0.23431538910960312, 0.050255311337180295, 0.01601888048872622, 0.038005579198742596, 0.020730315926586872, 0.09391461306135568, 0.028582708323021292, 0.008166488092291797, 0.016853745889275167, 0.101122475335651, 0.15730162829990155, 0.7247110732388321, 0.9993929179061359, 0.9982229107202593, 0.014018193526584222, 0.948564428632199, 0.018690924702112297, 0.014018193526584222, 0.004672731175528074, 0.02919386731066225, 0.014596933655331126, 0.9560991544241888, 0.021326233857046316, 0.0033673000826915235, 0.03984638431184969, 0.04714220115768133, 0.17509960429995922, 0.011224333608971744, 0.05612166804485872, 0.058927751447101655, 0.044897334435886976, 0.07800911858235363, 0.06229505152979318, 0.07632546854100786, 0.11168211940926885, 0.08698858546953102, 0.019081367135251964, 0.09428440231536266, 0.013469200330766094, 0.04873424817886813, 0.001949369927154725, 0.9493431545243511, 0.9996631203535412, 0.9777227898823969, 0.022220972497327202, 0.9731360427186416, 0.004902448577927665, 0.022061018600674494, 0.8959992383704009, 0.004624512198040779, 0.013873536594122335, 0.0855534756637544, 0.861391450493249, 0.06891131603945991, 0.06891131603945991, 0.859769230949092, 0.09983306385394862, 0.03614645415401588, 0.0043031493040495096, 0.9989047177639243, 0.9936840845789664, 0.9984923704804202, 0.1666669211625278, 0.07894748897172368, 0.06578957414310307, 0.6885975426978121, 0.013952708714170665, 0.00930180580944711, 0.888322454802199, 0.08836715518974754, 0.9993496157455111, 0.00531916746458322, 0.9946843158770622, 0.022100102642613143, 0.003683350440435524, 0.02025842742239538, 0.9539877640728007, 0.005555652519100603, 0.9222383181707001, 0.07222348274830784, 0.9991231173193711, 0.9991414810884065, 0.003460163462493119, 0.02768130769994495, 0.9688457694980733, 0.9993256433770005, 0.9542845482294883, 0.002831704890888689, 0.04153167173303411, 0.0014158524454443446, 0.981762008423556, 0.0028252144127296577, 0.015538679270013117, 0.9994486251981656, 0.1676818008978759, 0.8303279538436987, 0.0020202626614201913, 0.019769073307726374, 0.26358764410301827, 0.07400730007507822, 0.19667693444609827, 0.009631086996071823, 0.009124187680489095, 0.007603489733740912, 0.00405519452466182, 0.022810469201222736, 0.011151784942820006, 0.07400730007507822, 0.28538431467307557, 0.02230356988564001, 0.02991380337895522, 0.05555420627520255, 0.8931407008859488, 0.021367002413539442, 0.008475315747095065, 0.008475315747095065, 0.9831366266630277, 0.027382052976743808, 0.042992382243859435, 0.009468560375135708, 0.04324828928102527, 0.1589182700799804, 0.019704841861768907, 0.0040945125946532795, 0.0427364752066936, 0.07702801818691482, 0.08291388004172891, 0.13255984525189993, 0.07011852818343742, 0.032500193720060404, 0.14126068451553814, 0.006397675929145749, 0.023031633344924696, 0.027637960013909637, 0.058090897436643404, 0.018117967522248347, 0.031798881773741995, 0.016823826984944893, 0.03096693428547549, 0.025882810746069067, 0.056757306421737166, 0.014327984520145377, 0.006378264076709877, 0.04991684929599034, 0.05481609561578198, 0.0757996600420594, 0.13985961663858035, 0.07358113340668206, 0.1455908104466385, 0.00194121080595518, 0.00785728183362811, 0.0757996600420594, 0.11869117499268815, 0.055185850055011546, 0.9994593763305835, 0.011071093924587067, 0.013432927295165643, 0.0036903646415290224, 0.06096482387805945, 0.0392654797858688, 0.0196327398929344, 0.021846958677851813, 0.5043990392041868, 0.03439419845905049, 0.10288736620582915, 0.013728156466487963, 0.027161083761653604, 0.025684937905041998, 0.1219296477561189, 0.11605638520593206, 0.008927414246610157, 0.8659591819211854, 0.008927414246610157, 0.9984952503460007, 0.8933722552228046, 0.05333565702822714, 0.013333914257056784, 0.022223190428427974, 0.01777855234274238, 0.998796984749066, 0.9081680878716709, 0.040816543275131276, 0.0510206790939141, 0.005291095175005773, 0.9814981549635708, 0.010582190350011546, 0.0026455475875028864, 0.9402942226145501, 0.05951229257054115, 0.016943192783661198, 0.016943192783661198, 0.9657619886686882, 0.003228098416539542, 0.0464846171981694, 0.07230940453048573, 0.025179167649008426, 0.03680032194855078, 0.0012912393666158167, 0.8147720403345804, 0.9993228115843324, 0.9994213652158861, 0.6324038774084056, 0.08050183996386069, 0.19119186991416914, 0.01548112306997321, 0.05960232381939686, 0.008514617688485266, 0.005418393074490624, 0.0023221684604959815, 0.004644336920991963, 0.03613661679119814, 0.9636431144319504, 0.9998932963264079, 0.016393014871145736, 0.016393014871145736, 0.6120058885227742, 0.06010772119420104, 0.18578750187298504, 0.05464338290381913, 0.05464338290381913, 0.999816765365573, 0.008928431402094384, 0.008928431402094384, 0.01785686280418877, 0.952366016223401, 0.011904575202792513, 0.030042939409114244, 0.04721033335717952, 0.7553653337148724, 0.08583696974032641, 0.0815451212533101, 0.9964416029380997, 0.004017301566316088, 0.0012686215472577117, 0.01501202164254959, 0.005074486189030847, 0.0031715538681442797, 0.004440175415401992, 0.0059202338872026555, 0.9611922589722597, 0.03418169469764395, 0.07321498477172768, 0.059762833955235545, 0.04278225013769629, 0.0002205270625654448, 0.03352011350994761, 0.028227464008376935, 0.009923717815445016, 0.01146740725340313, 0.09240083921492137, 0.14047573885418835, 0.008159501314921458, 0.1387115223536648, 0.009041609565183238, 0.08644660852565436, 0.18568378668010452, 0.04586962901361252, 0.035320030257989826, 0.04440232375290149, 0.6105319516023955, 0.020182874433137044, 0.04036574886627409, 0.005045718608284261, 0.022201161876450746, 0.016146299546509632, 0.030274311649705562, 0.17559100756829227, 0.9963955072480879, 0.9972340174420214, 0.9990355202982485, 0.6755863338806332, 0.24809667628384832, 0.06870369497091185, 0.007633743885656872, 0.0071945816530987975, 0.11871059727613016, 0.09712685231683377, 0.7770148185346701, 0.9977337408267161, 0.9906510227498775, 0.009390057087676564, 0.9994920260430173, 0.6386895193720379, 0.003578092545501613, 0.033991879182265324, 0.014312370182006451, 0.010734277636504839, 0.042937110546019355, 0.06261661954627823, 0.07871803600103548, 0.11449896145605161, 0.06190191648833886, 0.019046743534873494, 0.06190191648833886, 0.8571034590693072, 0.0259035427221719, 0.022403063975932454, 0.24608365586063305, 0.11131522413041438, 0.011201531987966227, 0.032554452340026845, 0.16837302769411736, 0.05040689394584802, 0.00840114899097467, 0.007701053241726781, 0.1099150326319186, 0.04410603220261702, 0.04200574495487335, 0.11971637312138905, 0.4012863726615114, 0.3825492657668105, 0.07182557642968686, 0.04293920330035628, 0.0015614255745584101, 0.05464989510954435, 0.013272117383746486, 0.002342138361837615, 0.028886373129330588, 0.0007807127872792051, 0.05133065152690464, 0.0035400449328899753, 0.013275168498337406, 0.03894049426178973, 0.0008850112332224938, 0.6026926498245183, 0.09646622442125183, 0.007965101099002444, 0.01150514603189242, 0.10266130305380929, 0.0708008986577995, 0.950224350614005, 0.02762280088994201, 0.016573680533965206, 0.005524560177988401, 0.27352284846288727, 0.008547589014465227, 0.10826946084989288, 0.5831355172090721, 0.026592499156114037, 0.9996039326678197, 0.9962451012016018, 0.003780816323345737, 0.016454653518407806, 0.010055621594582549, 0.6591002881540016, 0.31446671168512697, 0.0936896580766093, 0.06527558144681794, 0.015358960340427753, 0.09566438154895, 0.01250658199149117, 0.0032912057872345186, 0.1599526012595976, 0.27569333811067814, 0.0064727047148945525, 0.08085395550639467, 0.06428821971064759, 0.1270405433872524, 0.7784900125015775, 0.07382232877170132, 0.14764465754340264, 0.07746948070840531, 0.020722289078380023, 0.014027395683826478, 0.025185551341415723, 0.010520546762869858, 0.05419675605114775, 0.44696383519828914, 0.08512078744503794, 0.12529014781235923, 0.013708591236466785, 0.12688417004915767, 0.02562753114948235, 0.9738461836803292, 0.9989047177639243, 0.9885053965932108, 0.011362130995324262, 0.00769198606737484, 0.9884202096576669, 0.00384599303368742, 0.04586981727199429, 0.05045679899919372, 0.022934908635997144, 0.8807004916222904, 0.9993913191016045, 0.031910589613916414, 0.9679545516221312, 0.9998092769691835, 0.008658253946489052, 0.9567370610870403, 0.034633015785956206, 0.9744346844267245, 0.024985504728890374, 0.2183214432825299, 0.40674824910313656, 0.000905898104906763, 0.0063412867343473405, 0.20201527739420816, 0.019023860203042024, 0.0045294905245338146, 0.009058981049067629, 0.1078018744839048, 0.017212063993228496, 0.008153082944160867, 0.03308013121876287, 0.9466006779522913, 0.020357003826930998, 0.9990390639491677, 0.1284056830761796, 0.004686338798400716, 0.010309945356481574, 0.11340939892129732, 0.5717333334048873, 0.0009372677596801432, 0.13496655739394062, 0.003749071038720573, 0.006560874317761002, 0.025306229511363867, 0.9977841178958544, 0.9980805969655365, 0.9998797503186752, 0.8926767323748008, 0.07141413858998406, 0.03570706929499203, 0.03447766963014855, 0.0007495145571771424, 0.13141488569172563, 0.04622006435925711, 0.013491262029188562, 0.004996763714514282, 0.043222006130548545, 0.018987702115154274, 0.6693164995591881, 0.0372258896731314, 0.9992582751604637, 0.09536122506993705, 0.056701268960503114, 0.8041270870762259, 0.030927964887547153, 0.01288665203647798, 0.9830472624703204, 0.01666181800797153, 0.18669580478360326, 0.0038894959329917344, 0.015557983731966938, 0.03208834144718181, 0.00923755284085537, 0.1259224308306074, 0.09918214629128923, 0.03208834144718181, 0.0009723739832479336, 0.046187764204276845, 0.08119322760120246, 0.016530357715214872, 0.3505408209608801, 0.7688100150949856, 0.03225776287111828, 0.02688146905926523, 0.12365475767262006, 0.0053762938118530465, 0.04301035049482437, 0.10033074265884423, 0.025616359827790015, 0.05763680961252754, 0.017077573218526678, 0.052300067981737954, 0.6702947488271721, 0.006404089956947504, 0.07044498952642254, 0.9998412169979332, 0.18195602248090678, 0.4172675703509517, 0.3885376720644927, 0.008208542367559706, 0.004104271183779853, 0.9990604393599076, 0.010671159168395363, 0.05802442797814979, 0.36398656975948557, 0.024176844990895743, 0.056023585634075654, 0.05435621701401388, 0.01817431795867335, 0.026344424196976052, 0.061692638942285695, 0.027511582231019294, 0.04768674253376678, 0.0066694744802471015, 0.013505685822500382, 0.004335158412160616, 0.04885390056781002, 0.05735748053012508, 0.003001263516111196, 0.11771622457636134, 0.035757354325886115, 0.003460389128311559, 0.025376186940951433, 0.0011534630427705197, 0.016148482598787275, 0.016148482598787275, 0.013841556513246237, 0.15802443685956122, 0.06574739343791963, 0.009227704342164158, 0.6551670082936553, 0.9988962164197283, 0.010986878540030559, 0.9888190686027503, 0.9999261406375659, 0.998702627980402, 0.00913213372229398, 0.022830334305734952, 0.9177794390905452, 0.0502267354726169, 0.24169430822905222, 0.028800022709536594, 0.10277655163011098, 0.12988245535673365, 0.03162355434772646, 0.02992943536481254, 0.0225882531055189, 0.06607064033364278, 0.05760004541907319, 0.031058848020088483, 0.2580707917305534, 0.9993897151267828, 0.9995221812912377, 0.9997037833756106, 0.9993308071329453, 0.997464567863778, 0.008346616501608114, 0.06510360871254328, 0.2902535888434221, 0.011893928514791562, 0.27543834455306776, 0.004173308250804057, 0.009181278151768925, 0.15754238646785312, 0.012519924752412169, 0.02149253749164089, 0.020449210428939876, 0.010641936039550345, 0.03276046976881184, 0.02065787584148008, 0.018988552541158457, 0.0006259962376206085, 0.040063759207718944, 0.35615351393500466, 0.00899377560441931, 0.06055808906975669, 0.16128837583925296, 0.0005995850402946206, 0.013190870886481654, 0.15829045063777986, 0.052163898505631995, 0.06475518435181903, 0.032977177216204134, 0.04496887802209655, 0.046168048102685794, 0.027166737522778706, 0.04075010628416806, 0.016130250404149858, 0.0882918969490308, 0.17318795170771425, 0.11460967392422267, 0.29798515220297894, 0.15111497747045655, 0.056031396140731084, 0.0025468816427605036, 0.0025468816427605036, 0.02971361916553921, 0.036176919791863923, 0.8592018450567682, 0.09948652942762579, 0.005168131398837704, 0.9782952608109822, 0.02126728827849961, 0.05769021388228306, 0.9182359042930055, 0.004807517823523589, 0.019230071294094354, 0.997211198197877, 0.9339321920858573, 0.03719198995032175, 0.028927103294694695, 0.05819070213858319, 0.26728271660264485, 0.03912256245475367, 0.15879157702223548, 0.03714999628056441, 0.018739378654797977, 0.22881767620595425, 0.06476592271921407, 0.002958849261283891, 0.025972121293491933, 0.01610929042254563, 0.009862830870946304, 0.00854778675482013, 0.06377963963211943, 0.03846383710761942, 0.021155110409190683, 0.22116706336881167, 0.3865615629315752, 0.025001494119952623, 0.011539151132285827, 0.09808278462442953, 0.025001494119952623, 0.1730872669842874, 0.9948941261098609, 0.995439074948826, 0.004545383903875918, 0.9936438300423724, 0.11063863982895719, 0.6765978358770843, 0.07234064911893355, 0.0893619783233885, 0.05106398761336486, 0.010714120912159512, 0.03571373637386504, 0.007142747274773008, 0.010714120912159512, 0.935699892995264, 0.9985580440606647, 0.9872338700510503, 0.010582276157919906, 0.05026581175011955, 0.8174808331993128, 0.00793670711843993, 0.11375946869763899, 0.9747560946229953, 0.9986342674125369, 0.010415319093363287, 0.9894553138695122, 0.12902620301243856, 0.8709268703339603, 0.9998170494368551, 0.9979405226506438, 0.5047742752740824, 0.06262237249640872, 0.27136361415110444, 0.017078828862656922, 0.10437062082734785, 0.03985060067953282, 0.12645484610298668, 0.033459767673235524, 0.02215267376986628, 0.08007268539732916, 0.058150768645898986, 0.012460878995549781, 0.00946103775588039, 0.03161371152574667, 0.04176702033693538, 0.06391969410680166, 0.024921757991099563, 0.02122964569612185, 0.07568830204704312, 0.08676463893197627, 0.07753435819453197, 0.15253038918626677, 0.02446024395422735, 0.057458497590590664, 0.006342447081934507, 0.20549528545467802, 0.13572836755339845, 0.04541192110665107, 0.26460689225830764, 0.015729268763197576, 0.05327655548824986, 0.07636306286649146, 0.030443745993285632, 0.062155981402958166, 0.011162706864204732, 0.025116090444460646, 0.06824473060161529, 0.022212556154890983, 0.9773524708152033, 0.04398949933162667, 0.9472405522743611, 0.008797899866325336, 0.9988489687108649, 0.9998749373741594, 0.9858133366020896, 0.013884694881719572, 0.9747964251233254, 0.15078882717775677, 0.8253704224466686, 0.023808762185961594, 0.9992767218721748, 0.8685852462661003, 0.13110720698356232, 0.9995238187300921, 0.18562628054995953, 0.814360456606274, 0.036366613122003816, 0.15592185376059137, 0.03227536914577839, 0.08227946218853364, 0.0009091653280500954, 0.015001227912826575, 0.05318617169093058, 0.06227782497143154, 0.05409533701898068, 0.04591284906652982, 0.2304734106606992, 0.0400032744342042, 0.05091325837080535, 0.03727577845005391, 0.05454991968300573, 0.04864034505068011, 0.037004009387152856, 0.9621042440659744, 0.9983097300758639, 0.9997238468775242, 0.03587350663391822, 0.0627786366093569, 0.02242094164619889, 0.7174701326783645, 0.013452564987719335, 0.14797821486491267, 0.9994014277070624, 0.30230491096335005, 0.016160954359675947, 0.2310065829059562, 0.07795283867608398, 0.1273863461292104, 0.0380257749639434, 0.20724047355349154, 0.0987319940863217, 0.07643767284102326, 0.004777354552563954, 0.5557655796149399, 0.17357721540982365, 0.003981128793803294, 0.019905643969016472, 0.06688296373589535, 0.9670701825639578, 0.032235672752131926, 0.9872889683080739, 0.0024416879486608353, 0.0012208439743304177, 0.01021069505803622, 0.0038845035546876926, 0.0510534752901811, 0.022974063880581496, 0.009544780162946902, 0.027968425593751386, 0.06004332637388691, 0.046281085208707655, 0.050942489474332886, 0.018645617062500924, 0.3651433341406431, 0.029411241199778244, 0.30032761768528277, 0.9997897193401333, 0.006555466654025568, 0.13192876641226456, 0.0825579081741345, 0.002458299995259588, 0.000409716665876598, 0.19256683296200108, 0.07538786652129403, 0.15364374970372427, 0.06453037487556419, 0.015159516637434128, 0.030728749940744853, 0.19277169129493937, 0.001229149997629794, 0.05019029156988326, 0.6805762072442759, 0.14887604533468538, 0.10634003238191812, 0.06380401942915087, 0.7069673658162745, 0.004310776620830942, 0.010776941552077356, 0.27373431542276483, 0.004310776620830942, 0.9992015867985232, 0.037722727179769856, 0.9619295430841314, 0.9219503674193318, 0.007091925903225629, 0.007091925903225629, 0.014183851806451257, 0.049643481322579404, 0.9987185788031168, 0.03174396734161263, 0.007935991835403158, 0.9602550120837822, 0.03862711479123862, 0.06437852465206437, 0.008583803286941916, 0.20171937724313502, 0.6867042629553533, 0.5824262554107194, 0.018714767700636552, 0.05926343105201575, 0.06635235821134777, 0.017864096441516708, 0.0002835570863732811, 0.017580539355143428, 0.0025520137773595297, 0.2310990253942241, 0.003969799209225936, 0.04482982305213265, 0.038976671080934326, 0.03698127836348035, 0.04576100632027784, 0.009976963587269879, 0.1477920872727578, 0.17532850677362266, 0.06119204333525525, 0.0327244405662452, 0.1061548925685515, 0.003990785434907951, 0.01862366536290377, 0.09311832681451886, 0.012371434848214648, 0.06092599097292806, 0.11134291363393184, 0.9997847279970612, 0.05553670165490385, 0.9441239281333654, 0.9998810887682066, 0.07553362546169955, 0.8610833302633748, 0.030213450184679816, 0.01812807011080789, 0.015106725092339908, 0.30404489565336384, 0.02893803508469315, 0.054747633944014065, 0.07038981507087523, 0.03421727121500879, 0.10499814081405555, 0.041451779986182075, 0.027764871500178562, 0.03284858036640844, 0.013686908486003516, 0.0733227240321617, 0.1636563200397849, 0.013491381221917752, 0.00860319961977364, 0.02248563536986292, 0.005474763394401406, 0.15632919875724294, 0.378797673911781, 0.07215193788795829, 0.03707807919242301, 0.020042204968877302, 0.3076478462722666, 0.028059086956428222, 0.9986427642985398, 0.03635833440879444, 0.025312764461818918, 0.057529010140497536, 0.069955276330845, 0.03773903065216638, 0.03405717400317454, 0.05936993846499346, 0.009664873703603586, 0.06673365176297714, 0.010585337865851547, 0.3792312348461598, 0.07271666881758888, 0.14083101682393798, 0.08694956004709374, 0.898478787153302, 0.01449159334118229, 0.9994581849227915, 0.31618249720646613, 0.004955838514207933, 0.0733464100102774, 0.0039646708113663465, 0.21111872070525795, 0.27554462138996105, 0.0009911677028415866, 0.006938173919891106, 0.10704611190689135, 0.99798042963992, 0.0015099847127344774, 0.020636457740704522, 0.2486441493636106, 0.0010066564751563182, 0.0015099847127344774, 0.014093190652188455, 0.7127127844106733, 0.03076001793818402, 0.9689405650527967, 0.999304636114423, 0.9471534923122341, 0.05261963846179078, 0.999182771266989, 0.0021083836557634363, 0.025300603869161234, 0.0463844404267956, 0.04287046766718987, 0.10612197734009296, 0.033031343940293834, 0.05833194780945507, 0.19889085819368416, 0.01686706924610749, 0.24808647682816432, 0.019678247453792073, 0.20240483095328987, 0.022261686816115026, 0.04794824852701698, 0.13528255834408362, 0.6883998538521724, 0.10617112173839474, 0.9989488210625864, 0.005212088013447023, 0.011883560670659214, 0.07422013331148561, 0.04065428650488678, 0.04961907788801566, 0.005629055054522785, 0.017512615725181997, 0.7503321904158334, 0.006254505616136428, 0.03877793482004585, 0.9994665096387757, 0.9986364248015944, 0.9645841008633279, 0.0350757854859392, 0.9993558423554146, 0.9995898070568203, 0.997934191470099, 0.9996837885756635, 0.009756801623087834, 0.05366240892698308, 0.3138437855426586, 0.04553174090774322, 0.5203627532313511, 0.05691467613467903, 0.016647722850061112, 0.01308035366790516, 0.030917199578684922, 0.07134738364311906, 0.061834399157369845, 0.0820494911895869, 0.02853895345724762, 0.6956369905204107, 0.7468156978751522, 0.22151313072568074, 0.018986839776486922, 0.012657893184324613, 0.9872683279454937, 0.9574304015922179, 0.04162740876487904, 0.004908039646507719, 0.04994652110857855, 0.1446428154647275, 0.02656115573404177, 0.09411887792714801, 0.034356277525554035, 0.320466118095504, 0.08199313291812896, 0.051678770395581275, 0.036088526812556754, 0.034933693954554944, 0.06669159754960488, 0.05369972789708445, 0.5743463861241411, 0.34571598921054547, 0.005394977478190713, 0.003936875457058088, 0.012831297785967102, 0.007144699903549863, 0.01735141405147824, 0.0017497224253591502, 0.00043743060633978756, 0.03105757305012492, 0.9747993374820478, 0.07460670086595032, 0.8803590702182138, 0.044764020519570194, 0.4930532031381482, 0.058143066407800495, 0.4488644726682198, 0.0857065075141006, 0.1714130150282012, 0.02856883583803353, 0.7142208959508383, 0.7839278272346885, 0.03517624865796679, 0.09547838921448129, 0.08542803245506221, 0.9983547741259777, 0.8736649975809254, 0.12480928536870363, 0.9983843872268678, 0.1519135225910037, 0.0014066066906574417, 0.7623808263363334, 0.0843964014394465, 0.03330752570481075, 0.9659182454395118, 0.03842859163700802, 0.9607147909252005, 0.848703769103646, 0.05813039514408534, 0.09300863223053654, 0.07689504740120469, 0.9227405688144563, 0.06663872312237556, 0.21413471440352047, 0.1725069259234761, 0.015246391665530658, 0.22544102732402635, 0.11460489914876416, 0.0034261554304563274, 0.030492783331061316, 0.019700393725123885, 0.023811780241671476, 0.05070710037075365, 0.027751858986696253, 0.01610293052314474, 0.019529085953601068, 0.07335076981716467, 0.025827735851114322, 0.03202639245538176, 0.08264875472356582, 0.012397313208534873, 0.773798966099385, 0.0499939700864665, 0.6599204051413579, 0.0099987940172933, 0.27996623248421243, 0.9994031954951109, 0.9987885873144985, 0.9991853061888201, 0.9980958220249578, 0.9936649843021992, 0.9999581958110011, 0.024968985544798202, 0.6876593586526856, 0.008098049365880497, 0.020919960861857954, 0.25846274226101923, 0.0933407343317856, 0.13445510540650069, 0.07333914840354583, 0.034447175765301825, 0.028891179674124114, 0.012223191400590971, 0.4089213123106798, 0.042225570292950626, 0.07667274605825246, 0.05778235934824823, 0.037780773420008455, 0.010736897218966389, 0.42180667645939385, 0.02403019853768668, 0.19428671158129654, 0.01124817803891717, 0.03834606149630853, 0.03630093821650541, 0.03221069165689917, 0.0235189177177359, 0.05828601347438896, 0.03272197247684994, 0.0035789657396554627, 0.11299306120912248, 0.9999521573573097, 0.12352235539059996, 0.04750859822715383, 0.07601375716344613, 0.052259458049869215, 0.0023754299113576917, 0.6271134965984305, 0.07126289734073074, 0.11778569691670779, 0.04302351803544416, 0.5212193414457907, 0.06700383956339664, 0.031738660845819465, 0.06418262526599047, 0.03103335727146792, 0.039497000163686444, 0.03103335727146792, 0.053603071650717315, 0.029822451025621467, 0.7415849488371205, 0.03181061442732957, 0.000994081700854049, 0.1302247028118804, 0.004970408504270244, 0.006958571905978342, 0.05368041184611864, 0.9991159503805653, 0.005779836182765287, 0.9421132977907418, 0.03467901709659172, 0.01733950854829586, 0.999686777230141, 1.0000118297553104, 0.9988193421729694, 0.9991822412860661, 0.09128694133734382, 0.012448219273274157, 0.16182685055256404, 0.5435722415996381, 0.04149406424424719, 0.04564347066867191, 0.10373516061061797, 0.4164522283524543, 0.5704443239451354, 0.0048775776884559625, 0.0027871872505462643, 0.004645312084243774, 0.0009290624168487548, 0.9985420983653902, 0.09637960741039597, 0.10842705833669547, 0.7228470555779698, 0.04818980370519799, 0.024094901852598993, 0.9984923704804202, 0.9801295679413782, 0.019867491242054964, 0.9974985288906476, 0.09871980270965876, 0.015972209795129973, 0.015394901007354191, 0.01693439110808961, 0.03675532615505813, 0.015394901007354191, 0.03483096352913886, 0.1552960639116854, 0.02443940534917478, 0.026171331712502126, 0.15375657381094998, 0.10757187078888741, 0.021937733935479722, 0.08659631816636733, 0.05753844251498629, 0.011546175755515644, 0.10410801806223272, 0.017126827370681538, 0.9872889683080739, 0.0055384843182409655, 0.0027692421591204827, 0.005142878295509468, 0.9684435436467059, 0.018197877045648885, 0.9505202834654812, 0.016860670216682593, 0.012645502662511944, 0.017914462105225255, 0.002107583777085324, 0.012190519633379193, 0.008707514023842282, 0.00957826542622651, 0.931268624849932, 0.02002728225483725, 0.005224508414305369, 0.0017415028047684563, 0.0030476299083447983, 0.008272138322650167, 0.01197287375733114, 0.0007042866916077142, 0.31059043099900197, 0.10141728359151084, 0.17255023944388997, 0.09402227332962984, 0.011268587065723427, 0.10986872389080342, 0.06725937904853671, 0.039440054730031995, 0.07641510603943699, 0.0045778634954501424, 0.13110654984266654, 0.8685808927076657, 0.03168428360263379, 0.10693445715888904, 0.45942211223818996, 0.09901338625823058, 0.1009936539833952, 0.2019873079667904, 0.0669771675496404, 0.4226490228132481, 0.11778743258729865, 0.13626389260099256, 0.009238230006846954, 0.05542938004108172, 0.19169327264207428, 0.9999245951305837, 0.050923442374636925, 0.009258807704479441, 0.9166219627434646, 0.023147019261198602, 0.6241928928612167, 0.06040576382527904, 0.24497893106918722, 0.07047339112949222, 0.01393725863907341, 0.13588827173096574, 0.006968629319536705, 0.024390202618378466, 0.006968629319536705, 0.8118453157260261, 0.07605938478310902, 0.15493578381744427, 0.13803369831008672, 0.4873434654621429, 0.05352327077329893, 0.016902085507357556, 0.07324237053188275, 0.03881160480974236, 0.018112082244546437, 0.04916136609234033, 0.06209856769558778, 0.6326291583988005, 0.16171502004059318, 0.0284618435271444, 0.009056041122273218, 0.07116845732276503, 0.0010622157809367914, 0.009559942028431124, 0.3356601867760261, 0.05204857326590278, 0.05682854428011835, 0.011684373590304706, 0.0005311078904683957, 0.16464344604520267, 0.07276178099417022, 0.224127529777663, 0.1498194762197727, 0.8489770319120453, 0.8239891449556471, 0.018516609999003307, 0.018516609999003307, 0.1388745749925248, 0.003808327311754767, 0.10510983380443158, 0.0060933236988076275, 0.10053984103032584, 0.02665829118228337, 0.5499224638173884, 0.0114249819352643, 0.02437329479523051, 0.028181622106985275, 0.1439547723843302, 0.974725591660348, 0.9872338700510503, 0.040763064751355695, 0.6426976542463747, 0.10870150600361518, 0.0801673606776662, 0.03125168297603936, 0.021740301200723035, 0.009511381775316328, 0.010870150600361518, 0.005435075300180759, 0.03804552710126531, 0.010870150600361518, 0.007905338068553524, 0.970380247914945, 0.009881672585691904, 0.011858007102830286, 0.17206051090882052, 0.2309693637962472, 0.09370979238197909, 0.0192474469830206, 0.033245590243399216, 0.192474469830206, 0.024885588018450876, 0.029551635771910417, 0.0038883731278829495, 0.1405646885729686, 0.02080279623417378, 0.03868931262243535, 0.49887009681974387, 0.3419485170689324, 0.032789583828527764, 0.01873690504487301, 0.002342113130609126, 0.10539509087741068, 0.9915512443132423, 0.006576136503034336, 0.049452546502818204, 0.0812810471775044, 0.02840890969310833, 0.05734391030645941, 0.3180219612867405, 0.048663410122454086, 0.029198046073472452, 0.027882818772865584, 0.11679218429388981, 0.03393286435565717, 0.02446322779128773, 0.17808177650216983, 0.03946260731181847, 0.9602567779209162, 0.01470522969880765, 0.01470522969880765, 0.0588209187952306, 0.9117242413260743, 0.9595670571287612, 0.03998196071369839, 0.10355926930252035, 0.017841671864853692, 0.05333108437863875, 0.18636789850135216, 0.11558300468970435, 0.39271071224270354, 0.003684693102524132, 0.029283613604270734, 0.0019393121592232276, 0.07020310016388083, 0.014350909978251884, 0.011248010523494719, 0.20556443295699284, 0.012092025468058402, 0.04765680625646546, 0.11878636783327959, 0.13728005384325126, 0.04765680625646546, 0.19347240748893443, 0.12518802837519286, 0.02133886847304424, 0.026317937783421227, 0.06472790103490085, 0.04396804322462026, 0.03822594802737508, 0.14207584116612368, 0.03625722967403387, 0.12189647804437631, 0.2470741533443213, 0.07415505797585208, 0.004265556432239278, 0.14634139759836295, 0.030843254202345554, 0.028710475986225916, 0.01345290874783157, 0.0587334308746793, 0.013945088336166873, 0.0001640598627784338, 0.9873071928898981, 0.06367214457873437, 0.004481323958620601, 0.013630693707470994, 0.01437758103390776, 0.23545622965919075, 0.0700206868534469, 0.03342320785804532, 0.17850607101838728, 0.08215760590804436, 0.01960579231896513, 0.05937754245172296, 0.030248936720689058, 0.05582982765114832, 0.007468873264367668, 0.019232348655746745, 0.00765559509597686, 0.016804964844827255, 0.01848546132930998, 0.06964724319022851, 0.038228065877961806, 0.8639542888419368, 0.004587367905355417, 0.09327648074222682, 0.9990355202982485, 0.9994786401999142, 0.99933652341708, 0.9982314006076121, 0.02148542015406743, 0.048811537049046394, 0.0071965727700517125, 0.0018773668095787076, 0.0025031557461049434, 0.3159191147896614, 0.07436458529053436, 0.057363985848238284, 0.0006257889365262359, 0.015436127100980484, 0.03264532285545197, 0.06038863237478176, 0.01637481050576984, 0.0279519058315052, 0.12474059468089635, 0.037234441723311036, 0.04130206981073157, 0.06654222358395641, 0.02461436483669861, 0.0003128944682631179, 0.0053192059604730045, 0.017000599442296073, 0.9987764482636902, 0.030120681671627084, 0.07228963601190501, 0.0692775678447423, 0.8283187459697449, 0.03877347867569511, 0.015601163017439452, 0.026154890941001437, 0.07548209754025853, 0.05552178603265217, 0.020878026979220445, 0.00504743509387747, 0.010783156791465505, 0.008259439244526769, 0.209468556395915, 0.017895451696474666, 0.5162149527829231, 0.026594825913713586, 0.9733706284419172, 0.05322186155410107, 0.08012522014188843, 0.09825574440757122, 0.14738361661135682, 0.06608868522652112, 0.05731585090441654, 0.007018267457683658, 0.08480406511367754, 0.036845904152839205, 0.3690438971498657, 0.03979299055636101, 0.0931005816790333, 0.07433030311471207, 0.0007508111425728492, 0.08484165911073197, 0.01126216713859274, 0.024776767704904026, 0.10436274881762606, 0.042796235126652406, 0.16743088479374538, 0.24851848819161312, 0.0533075911226723, 0.054809213407818, 0.9994755765203066, 0.030864968146602917, 0.03883012121669399, 0.011947729605136613, 0.010454263404494537, 0.017921594407704917, 0.0024891103344034608, 0.0014934662006420767, 0.8861232790476321, 0.9915096967628624, 0.12722820490831238, 0.872421976514142, 0.9995108364768764, 0.04358620801122182, 0.006457216001662492, 0.055693488014339, 0.011300128002909362, 0.004035760001039058, 0.15658748804031544, 0.06699361601724836, 0.11703704003013268, 0.07425798401911866, 0.012107280003117173, 0.4520051201163745, 0.9982229107202593, 0.942327961061938, 0.0215800296426398, 0.03596671607106633, 0.11109052172812324, 0.037030173909374416, 0.8516939999156116, 0.9999601534830472, 0.9996689876489778, 0.9995271824021809, 0.01078166493703648, 0.9326140170536554, 0.056603740919441516, 0.9817446628589372, 0.017849902961071584, 0.9985495486162675, 0.9987758021518387, 0.9950723446551943, 0.005025617902298961, 0.623573534404946, 0.041179384347496434, 0.047062153539995925, 0.031374769026663946, 0.02941384596249745, 0.05686676886082841, 0.1706003065824852, 0.012122119035730513, 0.011516013083943987, 0.006667165469651783, 0.006667165469651783, 0.015152648794663142, 0.052731217805427735, 0.12243340226087819, 0.43821460314165805, 0.06424723088937172, 0.05212511185364121, 0.010303801180370937, 0.2078943414627783, 0.09234963237270288, 0.020271870520837218, 0.03603888092593283, 0.01126215028935401, 0.8401564115858092, 0.6252245891705694, 0.283239327308815, 0.0013987127274509383, 0.07762855637352709, 0.012588414547058445, 0.7884168462206493, 0.12178796811538485, 0.08973850282186252, 0.9985248576605936, 0.9982934785161008, 0.02058823759448649, 0.9794118741377145, 0.03445669378650363, 0.9647874260221017, 0.08226945936555237, 0.1178338610704526, 0.028708613424437545, 0.00899822211810729, 0.12640359642103097, 0.08398340643566804, 0.0017139470701156743, 0.1294030037937334, 0.19324753215554227, 0.013711576560925394, 0.06512998866439562, 0.059988147454048596, 0.03427894140231349, 0.005141841210347023, 0.04927597826582564, 0.9972340174420214, 0.9958086633290724, 0.043903526902437255, 0.06829437518156907, 0.2439084827913181, 0.5170859835175944, 0.05609895104200316, 0.017073593795392267, 0.012195424139565906, 0.04146444207452408, 0.9858215775594041, 0.004739526815189443, 0.009479053630378886, 0.0297666869502875, 0.0028806471242213707, 0.0024005392701844756, 0.9650167866141592, 0.04851972029801523, 0.0022672766494399644, 0.06937866547286291, 0.01587093654607975, 0.10973618983289427, 0.08706342333849462, 0.052374090602063175, 0.01655111954091174, 0.0011336383247199822, 0.051240452277343196, 0.01768475786563172, 0.0317418730921595, 0.07277958044702286, 0.0823021423746707, 0.024259860149007616, 0.317192003256651, 0.030480187119433243, 0.010498731118915895, 0.16764102915688284, 0.011176068610458856, 0.04741362440800727, 0.04673628691646431, 0.14698223566482255, 0.12801678590161963, 0.09482724881601454, 0.08026449274784088, 0.06874975539161055, 0.09347257383292862, 0.0003386687457714805, 0.02743216840748992, 0.04605894942492135, 0.050001440496110404, 0.05555715610678934, 0.030556435858734136, 0.5111258361824619, 0.011111431221357868, 0.12222574343493654, 0.21945076662181787, 0.017392942171676962, 0.18588706945979752, 0.24078354318915293, 0.021197648271731297, 0.08370353420119538, 0.03913411988627316, 0.033698825457624114, 0.06794118035811313, 0.08152941642973575, 0.11305412411590025, 0.03315529601475921, 0.0021741177714596203, 0.05000470874357126, 0.03043764880043468, 0.8851768192455176, 0.05737257161776503, 0.05737257161776503, 0.9496555437642393, 0.04998187072443365, 0.9867482265888856, 0.01298352929722218, 0.03502181705989695, 0.6926537151846286, 0.22569615438600257, 0.02205077370437956, 0.015565252026620867, 0.009079730348862173, 0.7301380749862644, 0.03560353058521085, 0.01169071153544237, 0.028163986880838435, 0.0010627919577674881, 0.0313523627541409, 0.029758174817489668, 0.04676284614176948, 0.0855547526002828, 0.10826212088897218, 0.00264053953387737, 0.057431734861832805, 0.0666736232304036, 0.142589134829378, 0.01056215813550948, 0.06799389299734229, 0.01518310231979488, 0.5135849393391485, 0.01518310231979488, 0.41781475423549763, 0.14167281896491013, 0.020410490867826033, 0.0012006171098721196, 0.4130122857960092, 0.0048024684394884784, 0.0012006171098721196, 0.9747964251233254, 0.036672888468038845, 0.01090275062563317, 0.0530270144064886, 0.01090275062563317, 0.2804980388231079, 0.007929273182278668, 0.022796660399051174, 0.0619474467365521, 0.09564685776123645, 0.11695677943861037, 0.012885068921202837, 0.12984184835981322, 0.06591208332769144, 0.05748723057152035, 0.036672888468038845, 0.9988307559103126, 0.004286683100565319, 0.019290073952543937, 0.022719420432996195, 0.024434093673222322, 0.06344290988836673, 0.040723489455370535, 0.027006103533561514, 0.17060998740249972, 0.10288039441356768, 0.06772959298893205, 0.15217725007006885, 0.3047831684501942, 0.9991342353066052, 0.016805425831012473, 0.9831174111142296, 0.9977380950592445, 0.004464490997160633, 0.973259037381018, 0.017857963988642533, 0.004464490997160633, 0.855636200537714, 0.14260603342295233, 0.9990390639491677, 0.9963911647260346, 0.0023840070413749695, 0.004768014082749939, 0.0011920035206874847, 0.9917469292119873, 0.9998290739198415, 0.015095275440002377, 0.4785202314480753, 0.012076220352001902, 0.03245484219600511, 0.027926259564004397, 0.07019303079601105, 0.05283346404000832, 0.014340511668002258, 0.030945314652004872, 0.2656768477440418, 0.9991795134155937, 0.9996418795137102, 0.9729062950043731, 0.023303144790523908, 0.0038838574650873177, 0.8212428537644848, 0.002141441600428904, 0.034263065606862465, 0.07495045601501164, 0.02569729920514685, 0.04175811120836363, 0.002849172354193672, 0.7457708637101936, 0.025642551187743046, 0.06054491252661553, 0.0676678434120997, 0.029204016630485136, 0.008547517062581016, 0.05983261943806711, 0.0341881799764172, 0.965816084333786, 0.06331339420899308, 0.03385328425052283, 0.07313343086181649, 0.047420440152449915, 0.17895724689684778, 0.05543152268501639, 0.002584220171795636, 0.062279706140274824, 0.07468396296489388, 0.0745547519563041, 0.05581915571078573, 0.004263963283462799, 0.09626220139938743, 0.0014213210944875997, 0.0028426421889751995, 0.025712990709366577, 0.03269038517321479, 0.11486858663631601, 0.9993496157455111, 0.0006125538383457809, 0.9917246642818193, 0.0024502153533831235, 0.0016334769022554158, 0.0036753230300746852, 0.02889932929138202, 0.013476371172147056, 0.009732934735439541, 0.002096324404556209, 0.2344888583953588, 0.013027158799742155, 0.03414014030277254, 0.043573600123275484, 0.053606009773651625, 0.1689038520242431, 0.08909378719363888, 0.09029168685338528, 0.020064819300752285, 0.019765344385815682, 0.12787578867792873, 0.05046152316681731, 0.0005989498298732025, 0.0431558582097537, 0.25293085594238257, 0.0007505366645174556, 0.043531126542012424, 0.056290249838809175, 0.13547186794540075, 0.037902101558131514, 0.057791323167844084, 0.09756976638726923, 0.06679776314205356, 0.03077200324521568, 0.09381708306468195, 0.012383854964538019, 0.02251609993552367, 0.021765563271006212, 0.026644051590369675, 0.03625609133767971, 0.009064022834419927, 0.01359603425162989, 0.016617375196436534, 0.3044001001892692, 0.19865316712103673, 0.033990085629074726, 0.009819358070621587, 0.09517223976140923, 0.03776676181008303, 0.1971424966486334, 0.011330028543024909, 0.03625609133767971, 0.9873078242487625, 0.061268528520153805, 0.9387919692604213, 0.9989870258383801, 0.7913595907896165, 0.1445753098557953, 0.014131421264100294, 0.028262842528200587, 0.018479550883823463, 0.0032610972147923754, 0.9988975539580249, 0.021629903644137687, 0.06361736365922849, 0.19530530643383145, 0.5261155974618196, 0.07506848911788962, 0.047713022744421366, 0.023538424553914538, 0.047076849107829076, 0.29592599804540887, 0.10090313400402194, 0.03179720609370439, 0.0008479254958321171, 0.030525317849956216, 0.016534547168726283, 0.5235939936763323, 0.9474127735651963, 0.00877234049597404, 0.00877234049597404, 0.00877234049597404, 0.02631702148792212, 0.005455345223036688, 0.007208849044727053, 0.013833196815557317, 0.010326189172176588, 0.013638363057591722, 0.07403682802692649, 0.41791841083620346, 0.2051599471377726, 0.07423166178489209, 0.040915089172775164, 0.005650178981002284, 0.07968700700792877, 0.009936521656245397, 0.004481176433208708, 0.03760291528736003, 0.9872889683080739, 0.06782188111503236, 0.007398750667094439, 0.491400356806189, 0.28053596279399745, 0.11098126000641659, 0.011714688556232861, 0.03021156522396896, 0.038445742408185775, 0.9611435602046444, 0.06320803803680562, 0.0012516443175605073, 0.0025032886351210146, 0.631454558209276, 0.011264798858044567, 0.033794396574133696, 0.0012516443175605073, 0.1001315454048406, 0.08886674654679602, 0.006258221587802537, 0.01877466476340761, 0.016271376128286597, 0.02503288635121015, 0.9987759997067059, 0.0012291230100051201, 0.014954329955062295, 0.002663099855011094, 0.004506784370018774, 0.9744896930990595, 0.002253392185009387, 0.9872889683080739, 0.9747560946229953, 0.08259578647063447, 0.002949849516808374, 0.7433620782357102, 0.11209428163871821, 0.058996990336167475, 0.7998167686812172, 0.026660558956040574, 0.15996335373624343, 0.013330279478020287, 0.18831448715174684, 0.566771757447005, 0.018282959917645326, 0.12798071942351727, 0.02193955190117439, 0.07678843165411037, 0.023216278838685312, 0.13929767303211188, 0.008929338014878966, 0.014286940823806346, 0.8143556269569617, 0.03846368387403496, 0.11282680603050255, 0.14616199872133284, 0.03589943828243263, 0.012821227958011654, 0.6102904508013547, 0.04359217505723962, 0.030232789447148738, 0.041116593648122285, 0.4619570227524327, 0.020558296824061142, 0.10037286096453381, 0.09916354938664786, 0.08586112202990241, 0.006046557889429747, 0.15479188196940152, 0.019560205525406375, 0.8875443257153143, 0.03667538536013695, 0.024450256906757967, 0.03178533397878536, 0.024284517821392064, 0.20089919288606162, 0.20825813768042287, 0.32526535991076644, 0.017661467506466955, 0.04636135220447576, 0.07579713138192068, 0.03017167365688105, 0.07138176450530395, 1.0000576975198767, 0.05020098777734593, 0.001230416367091812, 0.00615208183545906, 0.15921587790168049, 0.15478637898014996, 0.019932745146887355, 0.0014764996405101745, 0.003691249101275436, 0.2231975289904547, 0.022147494607652616, 0.016241496045611918, 0.08391439623566158, 0.037158574286172724, 0.05044707105076429, 0.03691249101275436, 0.11049138976484472, 0.0007382498202550872, 0.022147494607652616, 0.8806138521503112, 0.0366922438395963, 0.08255754863909168, 0.9958086633290724, 0.9996329582090462, 0.9499124675078271, 0.024997696513363872, 0.024997696513363872, 0.9814279220865696, 0.010696762093586588, 0.008022571570189941, 0.9987048933828462, 0.9640975801703427, 0.008968349582979932, 0.026905048748939796, 0.9999329211142457, 0.9989619624455679, 0.9982885681408784, 0.9872889683080739, 0.9993539840932442, 0.9104266487299959, 0.07140601166509772, 0.01785150291627443, 0.9990132361618741, 0.0037496710897291477, 0.02303369383690762, 0.0021426691941309416, 0.017677020851580266, 0.005892340283860089, 0.04071071468848789, 0.016070018955982063, 0.24587129002652555, 0.07820742558577937, 0.08999210615349955, 0.27211898765462955, 0.20462490803950492, 0.9872683279454937, 0.9994254853677043, 0.9994920260430173, 0.01970361316968346, 0.9802547551917521, 0.997548011439504, 0.9261494366603229, 0.05230744326652986, 0.02153835899210053, 0.9986599629749309, 0.9995382000887447, 0.005666112990489122, 0.9944028298308409, 0.0697602040221175, 0.05425793646164694, 0.8603758496061158, 0.015502267560470556, 0.021653473700882636, 0.012831688119041562, 0.012029707611601465, 0.11548519307137406, 0.15237629641361855, 0.0008019805074400976, 0.04410892790920537, 0.08741587531097064, 0.4362773960474131, 0.07538616769936918, 0.006415844059520781, 0.035287142327364296, 0.011538351133407213, 0.019230585222345355, 0.8653763350055409, 0.04230728748915978, 0.030768936355752566, 0.007692234088938142, 0.023076702266814426, 0.8264969067375023, 0.05332238107983886, 0.093314166889718, 0.02666119053991943, 0.026678213854174425, 0.03318509528202185, 0.009109633998986389, 0.06246606170733524, 0.017568579855188036, 0.0650688142784742, 0.16006928312504656, 0.0032534407139237103, 0.5862700166490526, 0.024075461283035456, 0.012363074712910099, 0.999463049383127, 0.9626088378081377, 0.037023416838774525, 0.15782054735380713, 0.09179358366496945, 0.04348117120972237, 0.13044351362916712, 0.02898744747314825, 0.06441654994032944, 0.027377033724640013, 0.45574709082783077, 0.2962210329705323, 0.32686458810541497, 0.03807229577364208, 0.13000296117829002, 0.0009285925798449288, 0.032500740294572505, 0.09100207282480302, 0.011143110958139146, 0.00835733321860436, 0.01578607385736379, 0.04921540673178123, 0.8690528600863815, 0.02380966739962689, 0.10714350329832101, 0.09565668543395678, 0.8783022935299667, 0.026088186936533666, 0.9996025661692578, 0.005012591921139513, 0.020050367684558052, 0.0025062959605697565, 0.9724428327010655, 0.02508526301946835, 0.2508526301946835, 0.02564271330878987, 0.028429964755397465, 0.0680089352972253, 0.10814535612837467, 0.49390095633886577, 0.9889234440415352, 0.011080374723154457, 0.9972429285891526, 0.9269429809353785, 0.07270141026944145, 0.9749463235509073, 0.024998623680792496, 0.023252021410148208, 0.9300808564059283, 0.046504042820296417, 0.99958167336599, 0.9989670998717792, 0.2921492886311985, 0.011741224365792845, 0.0725193269651911, 0.004834621797679407, 0.5711760323829814, 0.029698391042887788, 0.017957166677094943, 0.7602608775774132, 0.05570228211953324, 0.014552848481679858, 0.025592940433299058, 0.011040091951619202, 0.06925148587833863, 0.0040145788914978916, 0.029607519324796952, 0.029607519324796952, 0.0005018223614372364, 0.9992293227902783, 0.9303310506456527, 0.06891341115893723, 0.21774609666175682, 0.10080837808414668, 0.6733999656020998, 0.008064670246731733, 0.9914655931812759, 0.01297115530574042, 0.002594231061148084, 0.023348079550332756, 0.02594231061148084, 0.2723942614205488, 0.278879839073419, 0.310010611807196, 0.001297115530574042, 0.06226154546755402, 0.010376924244592335, 0.9999860245557531, 1.0000034131913336, 0.661045231612753, 0.3305226158063765, 0.17256610107751347, 0.6133373472032105, 0.128904798395251, 0.0311866447730446, 0.05405685093994397, 0.09430528070005939, 0.07763432986573346, 0.0044128987502627445, 0.0168343915287801, 0.011113967222883948, 0.019122561251138558, 0.08057626236590863, 0.006537627778167029, 0.12862782653543628, 0.23273954890274623, 0.011767730000700652, 0.060799938336953366, 0.003922576666900217, 0.14366437042522046, 0.07436551597664995, 0.0336687830575602, 0.02377010140017438, 0.027265704547258848, 0.029363066435509528, 0.019924937938381466, 0.0590756931857275, 0.09018656119477926, 0.07900063112410897, 0.16324466696884465, 0.07305810577406538, 0.10696545630078472, 0.21567871417511167, 0.08354491521531877, 0.018876256994256126, 0.010137249126544956, 0.024470921459220026, 0.1410297841991891, 0.03091063763269898, 0.028978722780655296, 0.010947517494914223, 0.0038638297040873727, 0.021895034989828446, 0.06053333203070217, 0.3677077935056483, 0.3097503479443377, 0.9988414103095031, 0.01785439746117194, 0.9819918603644567, 0.009074721473586693, 0.6824190548137193, 0.1742346522928645, 0.014519554357738709, 0.027224164420760078, 0.09256215903058426, 0.06503326783782472, 0.17884148655401796, 0.7560117386147123, 0.04053750928887517, 0.9593877198367124, 0.9747964251233254, 0.9747993374820478, 0.02666436155513193, 0.9732491967623155, 0.8662518120916131, 0.02221158492542598, 0.11105792462712989, 0.027583991965789218, 0.11723196585460419, 0.8344157569651238, 0.020687993974341914, 0.9795557554173961, 0.017351229161982864, 0.003154768938542339, 0.07083762183490722, 0.1854278924501983, 0.6292047586512347, 0.014584216260127956, 0.010417297328662825, 0.0416691893146513, 0.047919567711849, 0.006172840082916544, 0.9320988525203981, 0.03086420041458272, 0.03086420041458272, 0.4790088502700099, 0.18444079094508792, 0.07520886621061838, 0.038499776750673696, 0.04655786955895423, 0.03581374581458018, 0.09938314463546, 0.025069622070206125, 0.01611618561656108, 0.0027607362108164795, 0.05033034476642351, 0.012317130786719676, 0.043251533969458175, 0.14348749485448728, 0.11885323328104792, 0.06647003338350446, 0.10391694249945106, 0.09910335115751465, 0.017909391316322288, 0.006300141609299145, 0.05719679123947988, 0.19615384718390935, 0.011467673491083838, 0.012883435650476904, 0.05224162368160415, 0.005450684313663305, 0.00495090763734334, 0.04230775617366126, 0.0387070960737752, 0.025204620699202453, 0.16383003454481596, 0.037356848536317926, 0.00720132019977213, 0.3749187329006365, 0.01890346552440184, 0.10621947294663892, 0.037356848536317926, 0.08866625495969435, 0.05445998401077673, 0.0371929634527398, 0.03615982557905258, 0.048557480063299185, 0.12500968271615323, 0.06405454816860744, 0.026861584715867633, 0.31304077572722666, 0.038226101326427016, 0.026861584715867633, 0.08265102989497734, 0.0061988272421233, 0.19526305812688396, 0.9857307960420173, 0.012840937572961146, 0.0015106985379954288, 0.9991403325452123, 0.04679268567196214, 0.0752352985313901, 0.03303013106256151, 0.027525109218801257, 0.07064778032825657, 0.0321126274219348, 0.4339792220164332, 0.26057103393798525, 0.02018508009378759, 0.9873078242487625, 0.9979405226506438, 0.01723923148709533, 0.15515308338385797, 0.01723923148709533, 0.8102438798934805, 0.8931067663273587, 0.0381669558259555, 0.03435026024335995, 0.0076333911651911, 0.02671686907816885, 0.02941127574027052, 0.8882205273561696, 0.08235157207275745, 0.997934191470099, 0.9991458002147888, 0.005194906808214436, 0.010389813616428873, 0.05194906808214436, 0.8597570767594892, 0.031169440849286616, 0.020779627232857745, 0.020779627232857745, 0.9992633670376267, 0.9107121309104211, 0.08884996399126059, 0.40371622890849623, 0.035413704290218964, 0.0651612158940029, 0.01841512623091386, 0.10199146835583063, 0.3598032355886247, 0.015582029887696346, 0.9873065332035011, 0.0075478184309645145, 0.052834729016751604, 0.06793036587868063, 0.020756500685152415, 0.7642166161351571, 0.022643455292893546, 0.06415645666319837, 0.030000360733038155, 0.9700116637015671, 0.16704175155547338, 0.08022399910229971, 0.07692712242686274, 0.021979177836246498, 0.009890630026310925, 0.008791671134498599, 0.6351982394675237, 0.999669522556106, 0.9994284232419111, 0.9969236588329817, 0.9991425426044779, 0.28312109865797286, 0.4728684839837136, 0.11362343429584872, 0.008249886318510468, 0.06262413705414764, 0.02062471579627617, 0.004874932824574367, 0.011999834645106134, 0.022124695126914437, 0.9407358259276435, 0.003636865306421302, 0.052128402725371996, 0.003636865306421302, 0.15288392022545566, 0.3320447642396615, 0.40211656100966203, 0.014731002730056926, 0.01234219147653418, 0.007166433760568234, 0.019508625237102416, 0.002786946462443202, 0.0011944056267613723, 0.003583216880284117, 0.05175757715965947, 0.8923440654093764, 0.010751133318185257, 0.09676019986366732, 0.9998651488520091, 0.9999448344819027, 0.324269397961358, 0.00829939958219198, 0.6331256252700738, 0.026676641514188502, 0.007706585326321123, 0.15047771311305577, 0.00935985775344366, 0.0007199890579572047, 0.699829364334403, 0.0460792997092611, 0.019439704564844527, 0.07415887296959209, 0.5499055084619454, 0.057786680550238334, 0.06803915613173223, 0.028893340275119167, 0.09600045317217012, 0.09879658287621391, 0.10066066934557645, 0.004854447964458245, 0.9951618327139401, 0.027531460729204954, 0.0020648595546903714, 0.004129719109380743, 0.21199224761487814, 0.267055169073288, 0.0020648595546903714, 0.072270084414163, 0.11494384854443068, 0.008947724736991609, 0.07846466307823412, 0.04542691020318817, 0.16518876437522972, 0.9768383066923486, 0.022717169923077877, 0.9987749292384643, 0.9872671018087649, 0.9989064837952003, 0.9997391269120934, 0.9987783223624963, 0.9995078620913653, 0.2458891867969474, 0.06726116768885108, 0.052926820476472985, 0.46972553172869774, 0.06836380978211094, 0.008821136746078831, 0.03307926279779561, 0.012129063025858393, 0.03418190489105547, 0.007718494652818977, 0.9995163157189526, 0.033545352995624965, 0.014676091935585922, 0.01886926106003904, 0.11950532004691393, 0.04822144493121088, 0.6730036444747258, 0.09224972073796865, 0.9989627349056588, 0.14886852517374424, 0.052541832414262676, 0.6217450169021084, 0.04203346593141014, 0.10858645365614286, 0.012259760896661292, 0.014011155310470048, 0.10827510830333362, 0.7706640061590216, 0.038214744107058926, 0.082798612231961, 0.997929835525836, 0.07653315003439348, 0.017857735008025143, 0.09183978004127218, 0.11735083005273667, 0.07143094003210057, 0.5153232102315828, 0.025511050011464493, 0.028062155012610942, 0.04081768001834319, 0.015306630006878695, 0.0384518255275495, 0.9612956381887374, 0.009851731869687606, 0.009851731869687606, 0.9802473210339169, 0.9997119506532384, 0.011233548850154804, 0.9885522988136226, 0.07006521367194007, 0.4461114237593147, 0.10820197554400873, 0.004730141007388359, 0.08307310144225806, 0.20487423238250832, 0.020103099281400527, 0.020694366907324072, 0.02512887410175066, 0.00354760575554127, 0.013599155396241534, 0.011699721689088748, 0.08579795905331748, 0.08103140577257763, 0.016899597995350412, 0.006066522357305277, 0.17072927205559135, 0.014732982867741386, 0.025132735480264717, 0.4155567814754115, 0.17246256415767858, 0.9989721887819084, 0.9725722223094371, 0.027396400628434847, 0.9989047177639243, 0.1640771608589077, 0.008557981411705617, 0.26146108726797157, 0.002655925265701743, 0.13250116047778696, 0.1590604131348044, 0.023018018969415105, 0.010623701062806972, 0.04013398179282634, 0.056659739001637184, 0.0419045986366275, 0.038068262141724984, 0.010918803870107166, 0.04338011267312847, 0.007082467375204648, 0.7221127402965563, 0.10029343615229948, 0.0659071151857968, 0.017193160483251337, 0.09456238265788236, 0.017142666554397095, 0.09142755495678451, 0.891418660828649, 0.8988165792201835, 0.07069343881507062, 0.030297188063601693, 0.9263483227895578, 0.0731327623254914, 0.006073328787378045, 0.022268872220386166, 0.24293315149512182, 0.025642943768929526, 0.20244429291260152, 0.2483316659727912, 0.11809250419901754, 0.022268872220386166, 0.07557920268737123, 0.005398514477669374, 0.0310414582465989, 0.7748247659866392, 0.017328349399062217, 0.009901913942321268, 0.002475478485580317, 0.19556280036084503, 0.9983097300758639, 0.9988647730038656, 0.0019048154551473623, 0.060954094564715594, 0.9371692039325022, 0.9990861506815035, 0.06909306207939964, 0.009075783578226223, 0.1396499602198035, 0.050063193286344655, 0.046549986739934504, 0.08373142268944193, 0.18971315350614815, 0.07787607844542502, 0.0002927672122008459, 0.18122290435232363, 0.06733645880619456, 0.08548802596264701, 0.9985190725427101, 0.05552331816353623, 0.9438964087801159, 0.9992759931977958, 0.000778858919094151, 0.5927016771870763, 0.06643853608586696, 0.013987060228603571, 0.14161898481461116, 0.12238677700028125, 0.06294177102871606, 0.14121691273602893, 0.004707230424534298, 0.004325563092815301, 0.020101146137200515, 0.02251837257142083, 0.012467799502820573, 0.05648676509441158, 0.009032793517349598, 0.017938364590792864, 0.014757803493134556, 0.01755669725907387, 0.04440063292331, 0.17989253568355398, 0.0017811142146886532, 0.08473014764161736, 0.015266693268759885, 0.12569577457945638, 0.011322797507663582, 0.21589648730904604, 0.05766869357124014, 0.9419219949969223, 0.9372612509082505, 0.0499872667151067, 0.012496816678776675, 0.013329845743863297, 0.986408585045884, 0.0018681065072102974, 0.013699447719542181, 0.0728561537812016, 0.027398895439084362, 0.6040211039979961, 0.020549171579313272, 0.08157398414818298, 0.17809282035404836, 0.03812430978713981, 0.01466319607197685, 0.03812430978713981, 0.09091181564625647, 0.7067660506692841, 0.02052847450076759, 0.032259031358349066, 0.02639375292955833, 0.032259031358349066, 0.9984627509734914, 0.0028409903352881647, 0.07954772938806862, 0.025568913017593484, 0.05113782603518697, 0.7670673905278045, 0.031250893688169815, 0.042614855029322475, 0.13978835674851425, 0.8451819108025553, 0.015054130726763072, 0.9964416029380997, 0.20001615572188952, 0.7563110888233948, 0.04375353406416333, 0.9991458002147888, 0.1604092940909951, 0.03759592830257698, 0.022557556981546188, 0.45867032529143914, 0.11278778490773093, 0.03258313786223338, 0.06265988050429497, 0.04010232352274878, 0.07268546138498216, 0.2266413535098493, 0.6054335457395974, 0.026943377689982083, 0.012679236559991569, 0.12362255645991779, 0.004754713709996838, 0.0034603827362352547, 0.9827486970908124, 0.013841530944941019, 0.0963777523835862, 0.9035414285961206, 0.18069285582746963, 0.15743535953284482, 0.0214684581181152, 0.5528127965414664, 0.025046534471134405, 0.062616336177836, 0.9873078242487625, 0.018349859585173694, 0.009986318141591127, 0.08750511271569225, 0.3332933679756038, 0.17688266008293282, 0.006990422699113789, 0.0037448693030966724, 0.007240080652653567, 0.010111147118361016, 0.13793601933072744, 0.026338914098446596, 0.0031207244192472273, 0.03819766689158606, 0.020721610143801587, 0.01810020163163392, 0.024091992516588594, 0.0332045078207905, 0.014355332328537244, 0.0009986318141591126, 0.019598149352872588, 0.009362173257741682, 0.998288765503046, 0.9994707791353447, 0.8276254533300775, 0.01034531816662597, 0.04138127266650388, 0.1206953786106363, 0.9723962433826767, 0.027391443475568357, 0.07897696420513486, 0.007986434582541727, 0.5421901699925551, 0.006211671341976899, 0.019522395646213112, 0.19078704836071905, 0.15440440192914007, 0.08454265000434508, 0.36410982217780435, 0.05764271591205346, 0.009607119318675576, 0.149871061371339, 0.019214238637351153, 0.1335389585295905, 0.02401779829668894, 0.04131061307030498, 0.02786064602415917, 0.0883854977318153, 0.9947632226425689, 0.005263297474299306, 0.9773096975375002, 0.002280769422491249, 0.007982692978719372, 0.005701923556228123, 0.006842308267473747, 0.1190378852187538, 0.08729444916041947, 0.10316616718958663, 0.6904197342687721, 0.9983843872268678, 0.4144708189374772, 0.014688488190388253, 0.026822456695491593, 0.21010924411468415, 0.0051090393705698275, 0.0076635590558547404, 0.01596574803303071, 0.26503141734830976, 0.028738346459455277, 0.0031931496066061418, 0.008302188977175969, 0.974725591660348, 0.5610457569551032, 0.01890874434797901, 0.05983451978607056, 0.01398729033960091, 0.07641204907744942, 0.03134189131651315, 0.02693848509849064, 0.028233604574379616, 0.048955516188603186, 0.012951194758889732, 0.0676052366414044, 0.039371632067024785, 0.014505338129956498, 0.028850586648806326, 0.003502094333092097, 0.0063371230789285565, 0.028183521061550688, 0.00783802065025374, 0.004002393523533826, 0.10689726035771592, 0.040691000822593894, 0.016009574094135302, 0.010506282999276292, 0.03702214009268789, 0.04335926317161644, 0.05186434940912582, 0.01367484453874057, 0.59635663500654, 0.003502094333092097, 0.0015008975713251846, 0.035709620909389374, 0.9641597645535132, 0.9991186906499275, 0.9987796595850871, 0.3195131838976609, 0.0031951318389766095, 0.6351922095885499, 0.03131229202197077, 0.010863448252520471, 0.8140815704175776, 0.026546138165790573, 0.06194098905351134, 0.0973358399412321, 0.04225514739441039, 0.1361554749375446, 0.07042524565735066, 0.00469501637715671, 0.502366752355768, 0.00939003275431342, 0.23475081885783552, 0.009023205900801945, 0.16392157386456868, 0.025565750052272178, 0.01804641180160389, 0.5594387658497206, 0.22407627986991496, 0.9560939081377557, 0.04345881400626162, 0.9981186817733249, 0.03220725417881485, 0.003220725417881485, 0.03542797959669633, 0.756870473202149, 0.16747772172983721, 0.0016103627089407424, 0.003220725417881485, 0.054660242248695, 0.14778509941313833, 0.010122267083091666, 0.2520444503689825, 0.10223489753922584, 0.045550201873912496, 0.3087291460342958, 0.008097813666473334, 0.07085586958164167, 0.47163655907375507, 0.017736759486534377, 0.019752300337276922, 0.027814463740247094, 0.04716365590737551, 0.004837298041782103, 0.14350650857286906, 0.0701408216058405, 0.05925690101183076, 0.1310101552982653, 0.007255947062673154, 0.060712731885447555, 0.014285348678928837, 0.039284708867054305, 0.7928368516805505, 0.060712731885447555, 0.03214203452758988, 0.04104411414181736, 0.9589397576770058, 0.06383105378817931, 0.15319452909163034, 0.00425540358587862, 0.0808526681316938, 0.6893753809123365, 0.00851080717175724, 0.0062495193073952805, 0.012499038614790561, 0.9686754926462685, 0.012499038614790561, 0.053616352780346634, 0.09324583092234197, 0.09324583092234197, 0.11888843442598601, 0.5221766531651151, 0.11888843442598601, 0.13618658088217034, 0.0077820903361240186, 0.06614776785705416, 0.6848239495789137, 0.10505821953767426, 0.9966937103617084, 0.0033223123678723615, 0.9984694936119828, 0.9991592128576564, 0.045405456369127024, 0.9535145837516675, 0.0010153236955506512, 0.00852871904262547, 0.04751714895177048, 0.0022337121302114325, 0.18438278311199827, 0.2574860891916451, 0.02314938025855485, 0.002436776869321563, 0.015229855433259767, 0.021727927084783934, 0.12427562033539971, 0.0073103306079646884, 0.027007610301647323, 0.25240947071389186, 0.02538309238876628, 0.998702627980402, 0.9269612090455673, 0.029195628631356454, 0.02189672147351734, 0.02189672147351734, 0.9984923704804202, 0.010831143537525663, 0.03911246277439822, 0.056562638473745125, 0.028281319236872562, 0.003008650982646017, 0.071004163190446, 0.11673565812666546, 0.06980070279738759, 0.10109067301690618, 0.0036103811791752204, 0.500037793315768, 0.9872889683080739, 0.9981511446408081, 0.02788774064436427, 0.9720869596035546, 0.029841819690071172, 0.9400173202372419, 0.029841819690071172, 0.08709106042072728, 0.6246531230176302, 0.10661147051502823, 0.0030031400145078373, 0.05255495025388716, 0.024025120116062698, 0.004504710021761756, 0.09760205047150472, 0.9975213612868482, 0.014488637663115745, 0.9852273610918707, 0.04516582184348578, 0.6318251780962352, 0.042684183280656894, 0.21739153810381068, 0.005955932550789334, 0.006452260263355112, 0.013400848239276002, 0.024320057915723114, 0.012904520526710223, 0.99929079207566, 0.9990326373153301, 0.5424228362207248, 0.010234393136240092, 0.1783708518030416, 0.021930842434800195, 0.2134601996987219, 0.0336272917333603, 0.9872246008712484, 0.0011001779535335812, 0.0176028472565373, 0.0022003559070671625, 0.012101957488869395, 0.21453470093904836, 0.0649104992584813, 0.045107296094876834, 0.5170836381607832, 0.05940960949081339, 0.011001779535335814, 0.05500889767667907, 0.016943335955923924, 0.03388667191184785, 0.0677733438236957, 0.881053469708044, 0.06014334491075881, 0.9397397642306065, 0.974725591660348, 0.12603813179147827, 0.14156456831651543, 0.15800432463714303, 0.25207626358295654, 0.016896416218422812, 0.03835943141479773, 0.05708248722440139, 0.013699796933856333, 0.0863087206832949, 0.03150953294786957, 0.009133197955904221, 0.06941230446487208, 0.03553145950587052, 0.05583515065208225, 0.05583515065208225, 0.015227768359658795, 0.8273754142081279, 0.010151845573105864, 0.9564383446264468, 0.04347447021029304, 0.05467937096122918, 0.01798663518461486, 0.08201905644184376, 0.023022893036307022, 0.7079539608664409, 0.08561638347876674, 0.005036257851692161, 0.01654770436984567, 0.007194654073845944, 1.0000154567645891, 0.23483465267896877, 0.052771832062689615, 0.7124197328463098, 0.9998228426516274, 0.8088242226577835, 0.1759340279941748, 0.012988418174066596, 0.0023615305771030174, 0.9738292809280249, 0.025627086340211182, 0.039734822804153726, 0.006622470467358955, 0.009933705701038431, 0.01324494093471791, 0.9304571006639331, 0.986548682405507, 0.01342243105313615, 0.9994442572748492, 0.9991489402861444, 0.5320631313784088, 0.40064994832711504, 0.06730919131895532, 0.001292047100988044, 0.9987524090637581, 0.996386207259043, 0.9998771300492005, 0.9958086633290724, 0.9949687873274261, 0.9991158071869694, 0.9347940554195246, 0.06446855554617412, 0.8239199825992689, 0.03459206033813724, 0.022013129306087335, 0.1194998448044741, 0.8613897861948001, 0.13782236579116802, 0.9989047177639243, 0.015944283914453745, 0.8919941056586067, 0.006200554855620901, 0.0752924518182538, 0.01062952260963583, 0.020914445058967886, 0.05228611264741972, 0.3479403132537385, 0.16826621706533254, 0.0038026263743577973, 0.05608873902177751, 0.04563151649229357, 0.12263470057303896, 0.0693979313320298, 0.0038026263743577973, 0.10932550826278667, 0.8766701744990264, 0.12304142799986335, 0.7899879472272838, 0.0899986268993108, 0.034999466016398646, 0.019999694866513512, 0.06499900831616892, 0.0037396612684913702, 0.05582780036533545, 0.13355933101754894, 0.010951865143439012, 0.0008013559861052936, 0.05529356304126526, 0.017896950356351558, 0.023506442259088614, 0.05743051233754604, 0.0013355933101754894, 0.21877018420674516, 0.08227254790681014, 0.048348477828352714, 0.019499662328562144, 0.049684071138528206, 0.06864949614302016, 0.15252475602204088, 0.1440398218824017, 0.024692540894126, 0.5041393765884059, 0.20165575063536237, 0.012346270447063, 0.0041154234823543336, 0.10494329880003551, 0.0041154234823543336, 0.9915305148529293, 0.00985194828041995, 0.1428532500660893, 0.8374156038356958, 0.00985194828041995, 0.3295410721334236, 0.005724038473781551, 0.659899864048816, 0.004906318691812758, 0.03241948487409088, 0.09227084156472021, 0.10723368073737753, 0.03491329140286711, 0.022444258758985997, 0.007481419586328665, 0.7032534411148945, 1.0000779525248313, 0.009074814818575234, 0.06896859262117179, 0.5680834076428097, 0.2922090371581226, 0.005444888891145141, 0.018149629637150468, 0.038114222238015985, 0.005024357148224144, 0.0801384965141751, 0.051248442911886266, 0.10350175725341737, 0.2537300359853193, 0.025875439313354343, 0.0977237465329596, 0.020097428592896576, 0.03567293575239142, 0.03391441075051297, 0.2474495895500391, 0.0243681321688871, 0.021353517879952613, 0.9542197988247072, 0.014327624606977585, 0.03152077413535069, 0.010928959261775542, 0.9890708131906867, 0.654762040790688, 0.3045783622583549, 0.013030090363993791, 0.027688942023486804, 0.047605212601003435, 0.9521042520200688, 0.9936440764863268, 0.9936091721066237, 0.9983369743383677, 0.9982934785161008, 0.9999478884034231, 0.006153998289769759, 0.713863801613292, 0.09846397263631615, 0.1476959589544742, 0.033846990593733674, 0.9984645154423453, 0.8778988198757546, 0.006787877473266144, 0.06335352308381734, 0.004525251648844096, 0.02262625824422048, 0.024888884068642526, 0.10112600630660042, 0.05243570697379281, 0.7827901969659069, 0.06367192989674841, 0.12927751612430666, 0.007604559772018038, 0.8631175341240473, 0.9979808774825969, 0.9997037833756106, 0.004451445652943136, 0.34424513049426925, 0.2759896304824745, 0.03412775000589738, 0.17360638046478233, 0.03561156522354509, 0.06528786957649933, 0.06677168479414705, 0.016241517175031864, 0.03248303435006373, 0.037123467828644265, 0.7517502235300463, 0.025522384132192932, 0.13689278761812573, 0.9872338700510503, 0.9988975539580249, 0.9868345409035745, 0.013070656170908272, 0.9936840845789664, 0.007359910307822368, 0.0032710712479210526, 0.006542142495842105, 0.0024533034359407895, 0.0044977229658914476, 0.9739614640684934, 0.002044419529950658, 0.06279921446418701, 0.004830708804937463, 0.9323267993529304, 0.9997581034981627, 0.9915261640247387, 0.00833215263886335, 0.9981215594837093, 0.06930586881054106, 0.20296718723087026, 0.6584057537001401, 0.06930586881054106, 0.9983872664695875, 0.9995675099547299, 0.9510141654355918, 0.04876995720182522, 0.04379351799770754, 0.9561584762832812, 0.07258301823362272, 0.008064779803735858, 0.9193848976258878, 0.9996269960321179, 0.9994082569355289, 0.9994391702187122, 0.9314062825838094, 0.06815167921344947, 0.0357111020282708, 0.23569327338658727, 0.7285064813767242, 0.9997029815150331, 0.9986445294036859, 0.9992120750635651, 0.9851899887656463, 0.014704328190532034, 0.14478417085316067, 0.1156727628346426, 0.021640338704031134, 0.2640636568051418, 0.0005152461596197889, 0.010820169352015567, 0.0834698778584058, 0.04972125440330963, 0.26354841064552204, 0.025247061821369658, 0.020609846384791557, 0.9996888847903014, 0.9984168673805707, 0.8851473938762051, 0.090153901228132, 0.024587427607672362, 0.001064509066636667, 0.4316584265211685, 0.01064509066636667, 0.18416006852814337, 0.025548217599280006, 0.02874174479919001, 0.014370872399595004, 0.04470938079874001, 0.01064509066636667, 0.02608047213259834, 0.023951453999325006, 0.06120927133160835, 0.13732166959613004, 0.974725591660348, 0.9993141200087265, 0.2293257674554222, 0.044806436015610115, 0.012099628291135221, 0.18054914090678337, 0.07826947050828095, 0.011532458214988257, 0.006616984221714574, 0.019472839281045744, 0.028169447115299184, 0.06692606898534169, 0.05255776038961862, 0.002079623612538866, 0.06446833198870484, 0.003781133840979756, 0.06862757921378258, 0.03800039510184655, 0.019472839281045744, 0.07335399651500728, 0.9915305148529293, 0.8539466708758191, 0.008849188299231286, 0.008849188299231286, 0.017698376598462573, 0.06636891224423465, 0.044245941496156425, 0.9996301605716011, 0.0340123587086862, 0.965950987326688, 0.1197082078361819, 0.880207410560161, 0.07072209372301086, 0.10757726932514328, 0.0348630039479631, 0.11355378428765124, 0.5588041489944943, 0.049804291354233, 0.0647455787605029, 0.998145363852437, 0.9873071928898981, 0.9590957826510322, 0.015575059718264625, 0.0024592199555154674, 0.02295271958481103, 0.9999415998303518, 0.016167671944105805, 0.046193348411730874, 0.48964949316434725, 0.017322505654399075, 0.01270317081322599, 0.06351585406612995, 0.1270317081322599, 0.21595390382484184, 0.011548337102932718, 0.17553099515926773, 0.22172336230644343, 0.24174005473688626, 0.017707074073084025, 0.08930524315120639, 0.17553099515926773, 0.005389109500503833, 0.0007698727857862619, 0.07236804186390862, 0.974725591660348, 0.9936377997036839, 0.34458476817195394, 0.01790981123554854, 0.020058988583814365, 0.03510323002167514, 0.010745886741329124, 0.06160975065028698, 0.35676343981212694, 0.08739987882947688, 0.03653601492051902, 0.029372090426299607, 0.1701839525356674, 0.04254598813391685, 0.7871007804774617, 0.9902232995802113, 0.009613818442526324, 0.9892574886395159, 0.010791899876067447, 0.9988400729215565, 0.013757493748010743, 0.16932299997551684, 0.009524418748622821, 0.04656382499326713, 0.37251059994613706, 0.11640956248316782, 0.035981137494797324, 0.03915594374433827, 0.020107106247092624, 0.014815762497857723, 0.16191511872658798, 0.9995553384867869, 0.9964018189199149, 0.012500538789002836, 0.04166846263000945, 0.01666738505200378, 0.9000387928082041, 0.029167923841006617, 0.2855506726123938, 0.524586303532271, 0.027133774320634706, 0.0012920844914587955, 0.02584168982917591, 0.002584168982917591, 0.13308470262025593, 0.9999119722016568, 0.9984952503460007, 0.3782971853255488, 0.0008170565557787231, 0.00817056555778723, 0.004085282778893615, 0.35378548865218706, 0.14380195381705527, 0.0776203727989787, 0.03349931878692765, 0.9983388349219129, 0.10433098598971488, 0.12943153701234503, 0.0010913283053317455, 0.03208505217675332, 0.05216549299485744, 0.003710516238127935, 0.0002182656610663491, 0.15715127596777137, 0.21608300445568562, 0.010695017392251106, 0.09145331198680028, 0.0004365313221326982, 0.11786345697582852, 0.08337748252734536, 0.04272975052285136, 0.9571464117118705, 0.051274349953276045, 0.04272862496106337, 0.9058468491745434, 0.06517106010958887, 0.17528767891544592, 0.05842922630514864, 0.6269905438129412, 0.04269828076145478, 0.03146189108738773, 0.9964228429524373, 0.9747560946229953, 0.11639134776848875, 0.012251720817735658, 0.006125860408867829, 0.8652777827525808, 0.002802107067312593, 0.28955106362230126, 0.23747857395474223, 0.09830725627821679, 0.04576774876610568, 0.004903687367797037, 0.16742589727192742, 0.0009340356891041976, 0.021716329771672593, 0.12983096078548345, 0.0014010535336562964, 0.999951417869021, 0.9985201424625766, 0.9993796835605882, 0.06801087934942524, 0.020790890578321702, 0.007400147493978912, 0.01515268296386158, 0.08844938195184318, 0.01973372665061043, 0.01515268296386158, 0.0031714917831338193, 0.74459579308464, 0.017619398795187886, 0.8693967093726926, 0.1304095064059039, 0.9104182166313725, 0.08925668790503652, 0.9993754179077684, 0.9985223260887517, 0.07781458489018668, 0.6116588300670488, 0.01809641509074109, 0.028954264145185742, 0.009048207545370545, 0.03981211319963039, 0.2147441257434609, 0.13170609623259832, 0.09756007128340617, 0.712188520368865, 0.014634010692510925, 0.04390203207753277, 0.9985420983653902, 0.21635362012613882, 0.41587973646468906, 0.004807858225025307, 0.2788557770514678, 0.08413751893794287, 0.991506502462354, 0.999735354089342, 0.9748245426319913, 0.027761673442979664, 0.9716585705042883, 0.056698401461880425, 0.3830648183572981, 0.24001655459834892, 0.005008692708646681, 0.029851808543534215, 0.00721251750045122, 0.16729033646879912, 0.034860501252180896, 0.011820514792406166, 0.0014024339584210706, 0.02524381125157927, 0.01602781666766938, 0.003405911041879743, 0.005209040416992548, 0.013022601042481369, 0.9984168673805707, 0.9993355299903071, 0.00964320002181523, 0.006027000013634518, 0.15710380035540644, 0.650916001472528, 0.1579074003572244, 0.01727740003908562, 0.0008036000018179358, 0.0004018000009089679, 0.009091480668541057, 0.9909713928709752, 0.9821683793747209, 0.017538721060262875, 0.030605970311545896, 0.9487850796579228, 0.020403980207697264, 0.06597112267998767, 0.545934942757579, 0.00956103227246198, 0.013385445181446772, 0.24093801326604192, 0.03633192263535553, 0.08031267108868063, 0.007648825817969584, 0.005563612477389655, 0.9326005415224409, 0.011822676514453016, 0.029208965506295686, 0.01321357963380043, 0.0020863546790211205, 0.005563612477389655, 0.022597533063749724, 0.9660445384753007, 0.011298766531874862, 1.0000105955549403, 0.999826210222023, 0.9434098464723184, 0.05632297590879513, 0.01369881790863209, 0.5205550805280194, 0.05022899899831766, 0.08219290745179254, 0.05479527163452836, 0.02739763581726418, 0.2511449949915883, 0.05396042018637935, 0.0009494502085579945, 0.09985051360001575, 0.45541961670498465, 0.0025318672228213184, 0.04414943469794674, 0.08070326772742953, 0.01693186205261757, 0.019147245872586222, 0.0507955861578527, 0.03180658198669281, 0.14384170659653617, 1.0000325073627423, 0.9408353808878277, 0.05880221130548923, 0.06439663965250993, 0.009470094066545578, 0.9261751997081575, 0.035376453848946984, 0.019048859764817606, 0.13062075267303502, 0.009524429882408803, 0.15511214379922908, 0.08163797042064688, 0.4313206103890844, 0.046261516571699905, 0.02040949260516172, 0.07075290769789397, 0.9991809029852603, 0.9385216832790725, 0.0076928006826153476, 0.04461824395916902, 0.009231360819138418, 0.9873095207938634, 0.9731571888949667, 0.02630154564580991, 0.012414710671987477, 0.6717737885842112, 0.01655294756264997, 0.08000591321947485, 0.002758824593774995, 0.21656773061133708, 0.08548273356008662, 0.0021415298595428797, 0.08476889027357233, 0.0662089648242007, 0.044436744585514755, 0.10065190339851535, 0.03247986953640034, 0.11385800419902978, 0.12492257514000132, 0.080307369732858, 0.04300905801248617, 0.01784608216285733, 0.0107076492977144, 0.023735289276600253, 0.025162975849628837, 0.03176602624988605, 0.11260877844762976, 0.7671898761152957, 0.0049021717323661064, 0.17647818236517984, 0.031864116260379695, 0.019608686929464426, 0.02939133642033324, 0.969914101870997, 0.998720344176278, 0.04983590167564786, 0.15947488536207316, 0.0365463278954751, 0.6046756069978607, 0.009967180335129572, 0.06644786890086381, 0.011628377057651167, 0.06146427873329903, 0.0056814700172804645, 0.9715313729549594, 0.022725880069121858, 0.8206664570997674, 0.029842416621809725, 0.14921208310904863, 0.019607192388190853, 0.05228584636850894, 0.13071461592127234, 0.7777519647315705, 0.019607192388190853, 0.9998042770625113, 0.6002013138166875, 0.27660284260903273, 0.0011189435380624302, 0.0004475774152249721, 0.04028196737024749, 0.035134827095160304, 0.00022378870761248604, 0.004028196737024749, 0.042072277031147375, 0.9747993374820478, 0.9995370060711314], \"Term\": [\"14th\", \"14th\", \"23rd\", \"25th\", \"2nd\", \"34th\", \"37th\", \"41st\", \"42nd\", \"54th\", \"61st\", \"64th\", \"70th\", \"74th\", \"88th\", \"abandon\", \"abandon\", \"abandon\", \"abandoned\", \"abandoned\", \"abandonment\", \"abandonment\", \"abovecaptioned\", \"absent\", \"absent\", \"absent\", \"absent\", \"absent\", \"absent\", \"absent\", \"absent\", \"absent\", \"absent\", \"absent\", \"absolute\", \"absolute\", \"abuse\", \"abuse\", \"abuse\", \"abuse\", \"abusive\", \"abusive\", \"abusive\", \"abusive\", \"aca\", \"academic\", \"academic\", \"academy\", \"academy\", \"academy\", \"academy\", \"academy\", \"academy\", \"accelerated\", \"access\", \"access\", \"access\", \"access\", \"access\", \"access\", \"access\", \"access\", \"access\", \"access\", \"access\", \"access\", \"accessories\", \"accident\", \"accident\", \"accident\", \"acclamation\", \"acclamation\", \"accordingly\", \"account\", \"account\", \"account\", \"account\", \"account\", \"account\", \"account\", \"account\", \"account\", \"accredited\", \"accrued\", \"accumulated\", \"achn\", \"achn\", \"achn\", \"achn\", \"acknowledges\", \"acop\", \"act\", \"act\", \"act\", \"act\", \"act\", \"act\", \"act\", \"act\", \"act\", \"act\", \"act\", \"act\", \"act\", \"action\", \"action\", \"action\", \"action\", \"action\", \"action\", \"action\", \"action\", \"action\", \"action\", \"action\", \"action\", \"action\", \"action\", \"action\", \"action\", \"active\", \"active\", \"active\", \"active\", \"active\", \"activity\", \"activity\", \"activity\", \"activity\", \"activity\", \"activity\", \"activity\", \"activity\", \"activity\", \"actual\", \"actual\", \"actual\", \"actual\", \"actual\", \"actual\", \"actual\", \"acute\", \"address\", \"address\", \"address\", \"address\", \"address\", \"address\", \"address\", \"address\", \"address\", \"address\", \"address\", \"address\", \"address\", \"address\", \"address\", \"address\", \"adj\", \"adjacent\", \"adjacent\", \"adjacent\", \"adjacent\", \"adjacent\", \"adjacent\", \"adjacent\", \"administrator\", \"administrator\", \"administrator\", \"administrator\", \"administrator\", \"administrator\", \"administrator\", \"administrator\", \"adp\", \"advancement\", \"advancing\", \"advertise\", \"advertise\", \"advertise\", \"advertise\", \"advertise\", \"advertise\", \"advertised\", \"advertised\", \"advocacy\", \"advocacy\", \"advocacy\", \"advocates\", \"aeration\", \"aerial\", \"aerial\", \"aerial\", \"aerialpdf\", \"affect\", \"affect\", \"affect\", \"affect\", \"affect\", \"affect\", \"affect\", \"affidavit\", \"affidavit\", \"affidavit\", \"affix\", \"agenda\", \"agenda\", \"agenda\", \"agenda\", \"agenda\", \"agenda\", \"agenda\", \"agenda\", \"agenda\", \"agenda\", \"agenda\", \"agenda\", \"agenda\", \"agenda\", \"agenda\", \"agenda\", \"agenda\", \"agenda\", \"agenda\", \"agenda\", \"agent\", \"agent\", \"agent\", \"agent\", \"agent\", \"agent\", \"agreement\", \"agreement\", \"agreement\", \"agreement\", \"agreement\", \"agreement\", \"agreement\", \"agreement\", \"agreement\", \"agreement\", \"agreement\", \"ahap\", \"ahmad\", \"ahmad\", \"ainslie\", \"aka\", \"akpan\", \"akpan\", \"akpan\", \"alameda\", \"alcoholic\", \"alcoholic\", \"alderman\", \"alderman\", \"alderman\", \"alderman\", \"alderman\", \"alderman\", \"alderman\", \"alderman\", \"alderman\", \"alderman\", \"alderman\", \"aldermen\", \"alignment\", \"alitto\", \"alitto\", \"allegation\", \"allegation\", \"allerton\", \"alley\", \"alley\", \"alley\", \"alley\", \"alleys\", \"allied\", \"allocation\", \"allocation\", \"allocation\", \"allocation\", \"allocation\", \"allocation\", \"allocation\", \"allow\", \"allow\", \"allow\", \"allow\", \"allow\", \"allow\", \"allow\", \"allow\", \"allow\", \"allow\", \"allow\", \"alter\", \"alteration\", \"alteration\", \"alteration\", \"altercation\", \"altercation\", \"alton\", \"alton\", \"ambulatory\", \"ambulatory\", \"ambulatory\", \"amend\", \"amend\", \"amend\", \"amend\", \"amend\", \"amend\", \"amend\", \"amend\", \"amend\", \"amend\", \"amend\", \"amend\", \"amend\", \"amendment\", \"amendment\", \"amendment\", \"amendment\", \"amendment\", \"amendment\", \"amendment\", \"amendment\", \"amendment\", \"amendment\", \"amendment\", \"amendment\", \"amendment\", \"amendment\", \"amendments\", \"amey\", \"amount\", \"amount\", \"amount\", \"amount\", \"amount\", \"amount\", \"amount\", \"amount\", \"amount\", \"amount\", \"amount\", \"amount\", \"amount\", \"amount\", \"anesthesiology\", \"animals\", \"announcements\", \"annual\", \"annual\", \"annual\", \"annual\", \"annual\", \"annual\", \"annual\", \"annual\", \"annual\", \"annual\", \"annual\", \"annual\", \"annuitant\", \"annuitant\", \"annuities\", \"annuity\", \"annuity\", \"annuity\", \"annuity\", \"annuity\", \"annuity\", \"annuity\", \"anticipates\", \"anyone\", \"anyone\", \"anytime\", \"apartment\", \"apartment\", \"apartment\", \"apartment\", \"apartment\", \"apartment\", \"apartment\", \"apartments\", \"apdf\", \"apors\", \"appeal\", \"appeal\", \"appeal\", \"appeal\", \"appeal\", \"appeal\", \"appeal\", \"appeal\", \"appeal\", \"appliances\", \"applicant\", \"applicant\", \"applicant\", \"applicant\", \"applicant\", \"applicant\", \"applicant\", \"applicant\", \"applicant\", \"application\", \"application\", \"application\", \"application\", \"application\", \"application\", \"application\", \"application\", \"application\", \"application\", \"application\", \"application\", \"application\", \"application\", \"application\", \"application\", \"appoint\", \"appoint\", \"appoint\", \"appoint\", \"appoint\", \"appoint\", \"appoint\", \"appoint\", \"appoint\", \"appoint\", \"appreciate\", \"approval\", \"approval\", \"approval\", \"approval\", \"approval\", \"approval\", \"approval\", \"approval\", \"approval\", \"approval\", \"approval\", \"approval\", \"approval\", \"approval\", \"approval\", \"approval\", \"approval\", \"approvals\", \"approve\", \"approve\", \"approve\", \"approve\", \"approve\", \"approve\", \"approve\", \"approve\", \"approve\", \"approve\", \"approve\", \"approve\", \"approve\", \"approve\", \"approve\", \"approve\", \"approve\", \"approves\", \"approves\", \"approves\", \"appurtenance\", \"apr\", \"apr\", \"aramark\", \"aramark\", \"aramark\", \"area\", \"area\", \"area\", \"area\", \"area\", \"area\", \"area\", \"area\", \"area\", \"area\", \"area\", \"area\", \"area\", \"argosy\", \"arlingtondeming\", \"armitagehalsted\", \"arrangement\", \"arrangement\", \"arrangement\", \"arrangement\", \"arroyo\", \"arroyo\", \"arroyo\", \"arroyo\", \"arroyo\", \"arroyo\", \"asbestos\", \"ascribe\", \"ascribed\", \"ask\", \"ask\", \"ask\", \"ask\", \"ask\", \"ask\", \"assault\", \"assault\", \"assault\", \"assault\", \"assess\", \"assess\", \"assess\", \"assess\", \"assessed\", \"assessment\", \"assessment\", \"assessment\", \"assessment\", \"assessment\", \"assessment\", \"assessment\", \"assessment\", \"assessments\", \"assessor\", \"assessor\", \"assistance\", \"assistance\", \"assistance\", \"assistance\", \"assistance\", \"assistance\", \"assistance\", \"asst\", \"asst\", \"att\", \"att\", \"att\", \"attached\", \"attached\", \"attached\", \"attached\", \"attached\", \"attached\", \"attached\", \"attachment\", \"attachment\", \"attachment\", \"attachment\", \"attachment\", \"attachment\", \"attachment\", \"attachments\", \"attorney\", \"attorney\", \"attorney\", \"attorney\", \"attorney\", \"attorney\", \"attorney\", \"attorneypayee\", \"attpdf\", \"audit\", \"audit\", \"audit\", \"audit\", \"audit\", \"audit\", \"audit\", \"audit\", \"audit\", \"audit\", \"aug\", \"aug\", \"aug\", \"aug\", \"aug\", \"aug18\", \"aurora\", \"aurora\", \"authority\", \"authority\", \"authority\", \"authority\", \"authority\", \"authority\", \"authority\", \"authority\", \"authority\", \"authority\", \"authority\", \"authority\", \"authoritywide\", \"authorization\", \"authorization\", \"authorization\", \"authorization\", \"authorization\", \"authorization\", \"authorization\", \"authorize\", \"authorize\", \"authorize\", \"authorize\", \"authorize\", \"authorize\", \"authorize\", \"authorize\", \"authorize\", \"authorize\", \"authorize\", \"ave\", \"ave\", \"ave\", \"ave\", \"ave\", \"ave\", \"ave\", \"ave\", \"avenue\", \"avenue\", \"avenue\", \"avenue\", \"avenue\", \"avenue\", \"avenue\", \"avenue\", \"avenue\", \"avenue\", \"avenue\", \"avenue\", \"avila\", \"avila\", \"avila\", \"avila\", \"avila\", \"awarded\", \"awning\", \"awning\", \"b12\", \"b12\", \"b25\", \"b31\", \"b31\", \"b32\", \"b32\", \"b35\", \"b35\", \"bakery\", \"bakery\", \"bakery\", \"barbara\", \"barbara\", \"barbara\", \"barbara\", \"barbara\", \"barbara\", \"barbara\", \"barbara\", \"barbara\", \"barbara\", \"barrier\", \"barrier\", \"barrier\", \"barrier\", \"barrier\", \"base\", \"base\", \"base\", \"base\", \"base\", \"base\", \"base\", \"base\", \"base\", \"base\", \"base\", \"base\", \"bass\", \"bass\", \"bass\", \"bass\", \"bastounes\", \"battalion\", \"battalion\", \"battery\", \"battery\", \"bauman\", \"beautification\", \"beautification\", \"beauty\", \"beauty\", \"beauty\", \"beauty\", \"becomes\", \"bedore\", \"begin\", \"begin\", \"begin\", \"begin\", \"begin\", \"begin\", \"begin\", \"begin\", \"begin\", \"begin\", \"believe\", \"believe\", \"believe\", \"believe\", \"bench\", \"benefit\", \"benefit\", \"benefit\", \"benefit\", \"benefit\", \"benefit\", \"benefit\", \"benefit\", \"benefit\", \"benefit\", \"benefit\", \"benjamin\", \"benjamin\", \"benjamin\", \"benjamin\", \"berth\", \"bev\", \"bf5\", \"bf5pdf\", \"bgroupheaderline2x\", \"bi\", \"bias\", \"bike\", \"bike\", \"bike\", \"bike\", \"biosolids\", \"bird\", \"bird\", \"bird\", \"bis\", \"bis\", \"black\", \"black\", \"black\", \"black\", \"black\", \"black\", \"blower\", \"blower\", \"board\", \"board\", \"board\", \"board\", \"board\", \"board\", \"board\", \"board\", \"board\", \"board\", \"board\", \"board\", \"board\", \"board\", \"board\", \"board\", \"board\", \"board\", \"board\", \"bodnar\", \"body\", \"body\", \"body\", \"body\", \"body\", \"body\", \"body\", \"bond\", \"bond\", \"bond\", \"bond\", \"bond\", \"bond\", \"bond\", \"bone\", \"bone\", \"bone\", \"boruta\", \"botanic\", \"botanic\", \"bowen\", \"bowen\", \"boyer\", \"boyer\", \"boykin\", \"boykin\", \"boykin\", \"boys\", \"boys\", \"bpdf\", \"bradford\", \"bradford\", \"breach\", \"breach\", \"breaking\", \"brewer\", \"brewer\", \"brewer\", \"brewer\", \"brick\", \"brick\", \"brick\", \"briefed\", \"brinshore\", \"brookfield\", \"brookfield\", \"brown\", \"brown\", \"brown\", \"brown\", \"brown\", \"brown\", \"brown\", \"brown\", \"brown\", \"buclet\", \"buclet\", \"budget\", \"budget\", \"budget\", \"budget\", \"budget\", \"budget\", \"budget\", \"budget\", \"budget\", \"budget\", \"budget\", \"budget\", \"budgeted\", \"buff\", \"buffer\", \"buffer\", \"buford\", \"buford\", \"build\", \"build\", \"build\", \"build\", \"build\", \"build\", \"build\", \"build\", \"build\", \"build\", \"build\", \"build\", \"build\", \"build\", \"build\", \"build\", \"builders\", \"building\", \"building\", \"building\", \"building\", \"building\", \"building\", \"building\", \"building\", \"building\", \"building\", \"building\", \"building\", \"building\", \"building\", \"bureau\", \"bureau\", \"bureau\", \"bureau\", \"bureau\", \"bureau\", \"bureau\", \"bureau\", \"burglar\", \"bus\", \"bus\", \"bus\", \"bus\", \"business\", \"business\", \"business\", \"business\", \"business\", \"business\", \"business\", \"business\", \"business\", \"business\", \"business\", \"business\", \"business\", \"business\", \"business\", \"butler\", \"butler\", \"butler\", \"butler\", \"butler\", \"butler\", \"butler\", \"butler\", \"bypass\", \"c12\", \"c12\", \"c12\", \"c15\", \"c21\", \"cabinet\", \"cabinet\", \"cabrera\", \"cabrera\", \"cabrera\", \"cabrera\", \"cafe\", \"cafe\", \"calcium\", \"calculate\", \"calculate\", \"calculate\", \"calculated\", \"calendar\", \"calendar\", \"calendar\", \"calendar\", \"calendar\", \"calendar\", \"calendar\", \"calendar\", \"call\", \"call\", \"call\", \"call\", \"call\", \"call\", \"call\", \"call\", \"call\", \"call\", \"call\", \"call\", \"call\", \"call\", \"call\", \"call\", \"call\", \"call\", \"callan\", \"callan\", \"calsma\", \"calumetgilesprairie\", \"camargo\", \"camargo\", \"cambridge\", \"cambridge\", \"cambridge\", \"cameron\", \"cameron\", \"cameron\", \"camp\", \"camp\", \"campground\", \"campgrounds\", \"cancelled\", \"candidate\", \"candidate\", \"candidate\", \"candidate\", \"candidate\", \"candidate\", \"cannabis\", \"cannabis\", \"canopy\", \"canopy\", \"canopy\", \"capital\", \"capital\", \"capital\", \"capital\", \"capital\", \"capital\", \"capital\", \"capital\", \"capital\", \"capital\", \"capital\", \"cardelle\", \"cardiology\", \"care\", \"care\", \"care\", \"care\", \"care\", \"care\", \"care\", \"care\", \"care\", \"care\", \"care\", \"carelink\", \"carry\", \"carry\", \"carry\", \"carry\", \"carry\", \"carry\", \"carry\", \"carry\", \"carry\", \"carry\", \"carry\", \"case\", \"case\", \"case\", \"case\", \"case\", \"case\", \"case\", \"case\", \"case\", \"case\", \"case\", \"case\", \"case\", \"casino\", \"casino\", \"casinos\", \"category\", \"category\", \"caulk\", \"causing\", \"cauti\", \"cawley\", \"ccc\", \"cch\", \"cch\", \"cchhs\", \"cchhs\", \"cchhs\", \"cchhs\", \"cchhs\", \"cchhs\", \"cchhs\", \"cchs\", \"cdbg\", \"cdbg\", \"cdbg\", \"ce\", \"ce\", \"ce\", \"center\", \"center\", \"center\", \"center\", \"center\", \"center\", \"center\", \"center\", \"center\", \"center\", \"center\", \"center\", \"center\", \"center\", \"center\", \"center\", \"center\", \"center\", \"center\", \"centrifuge\", \"cerner\", \"cfd\", \"cfd\", \"cha\", \"cha\", \"cha\", \"cha\", \"cha\", \"cha\", \"cha\", \"cha\", \"chaired\", \"chairman\", \"chairman\", \"chairman\", \"chairman\", \"chairman\", \"chairman\", \"chairman\", \"chairman\", \"chairman\", \"chairman\", \"chairman\", \"chairman\", \"chairman\", \"chairman\", \"chairman\", \"chairman\", \"challenging\", \"chance\", \"change\", \"change\", \"change\", \"change\", \"change\", \"change\", \"change\", \"change\", \"change\", \"change\", \"change\", \"change\", \"change\", \"change\", \"change\", \"change\", \"channel\", \"channel\", \"channel\", \"charge\", \"charge\", \"charge\", \"charge\", \"charge\", \"charge\", \"charge\", \"charge\", \"charge\", \"charge\", \"charge\", \"chas\", \"chas\", \"chas\", \"chas\", \"chas\", \"chatman\", \"check\", \"check\", \"check\", \"check\", \"check\", \"check\", \"check\", \"check\", \"chicago\", \"chicago\", \"chicago\", \"chicago\", \"chicago\", \"chicago\", \"chicago\", \"chicago\", \"chicago\", \"chicago\", \"chicago\", \"chicago\", \"chicago\", \"chicago\", \"chicago\", \"chicago\", \"chicago\", \"chicago\", \"chicago\", \"chicago\", \"chicago\", \"chicago\", \"chicago\", \"chicago\", \"chicagokent\", \"chico\", \"chico\", \"chief\", \"chief\", \"chief\", \"chief\", \"chief\", \"chief\", \"chief\", \"chief\", \"chief\", \"chief\", \"chief\", \"chief\", \"chief\", \"chief\", \"chief\", \"child\", \"child\", \"child\", \"child\", \"child\", \"child\", \"child\", \"child\", \"child\", \"child\", \"chorus\", \"chorus\", \"chronic\", \"chronic\", \"chtcago\", \"chtcago\", \"chtcago\", \"chtcago\", \"cip\", \"circumstance\", \"circumstance\", \"circumstance\", \"city\", \"city\", \"city\", \"city\", \"city\", \"city\", \"city\", \"city\", \"city\", \"city\", \"city\", \"city\", \"city\", \"city\", \"city\", \"city\", \"city\", \"city\", \"city\", \"cityowned\", \"cityowned\", \"cityowned\", \"cityowned\", \"cityowned\", \"cityowned\", \"civil\", \"civil\", \"civil\", \"civil\", \"civil\", \"civil\", \"cladding\", \"claim\", \"claim\", \"claim\", \"claim\", \"claim\", \"claim\", \"claim\", \"claim\", \"claim\", \"claimant\", \"claimant\", \"claimant\", \"clair\", \"clair\", \"clair\", \"clancy\", \"clancy\", \"clancy\", \"claremont\", \"claremont\", \"class\", \"class\", \"class\", \"class\", \"class\", \"class\", \"class\", \"class\", \"class\", \"classification\", \"classification\", \"classification\", \"classification\", \"classifications\", \"clearing\", \"clinical\", \"clinical\", \"clinical\", \"clinical\", \"clinical\", \"closer\", \"cm\", \"cm\", \"cmap\", \"cms\", \"cms\", \"cnp\", \"coarse\", \"cod\", \"cod\", \"cod\", \"coding\", \"cody\", \"cody\", \"coli\", \"coli\", \"coli\", \"collecting\", \"collectively\", \"collins\", \"collins\", \"collins\", \"collins\", \"color\", \"color\", \"color\", \"color\", \"color\", \"color\", \"combined\", \"combined\", \"combined\", \"combined\", \"come\", \"come\", \"come\", \"come\", \"come\", \"come\", \"come\", \"come\", \"comm\", \"comm\", \"comm\", \"comm\", \"comm\", \"comment\", \"comment\", \"comment\", \"comment\", \"comment\", \"comment\", \"comment\", \"comment\", \"comment\", \"comment\", \"comment\", \"comment\", \"comment\", \"commercial\", \"commercial\", \"commercial\", \"commercial\", \"commercial\", \"commercial\", \"commercial\", \"commercial\", \"commercial\", \"commission\", \"commission\", \"commission\", \"commission\", \"commission\", \"commission\", \"commission\", \"commission\", \"commission\", \"commission\", \"commission\", \"commission\", \"commission\", \"commissioner\", \"commissioner\", \"commissioner\", \"commissioner\", \"commissioner\", \"commissioner\", \"commissioner\", \"commissioner\", \"commissioner\", \"commissioner\", \"commissioner\", \"commissioner\", \"commissioner\", \"commissioner\", \"commissioner\", \"commissioner\", \"commissioner\", \"commissioner\", \"commissioners\", \"commissioners\", \"commissioners\", \"commissioners\", \"commissioners\", \"commissioners\", \"commissioners\", \"committee\", \"committee\", \"committee\", \"committee\", \"committee\", \"committee\", \"committee\", \"committee\", \"committee\", \"committee\", \"committee\", \"committee\", \"committee\", \"committee\", \"committee\", \"committee\", \"committee\", \"committee\", \"committee\", \"committee\", \"common\", \"common\", \"common\", \"common\", \"common\", \"common\", \"common\", \"communication\", \"communication\", \"communication\", \"communication\", \"communication\", \"communication\", \"communication\", \"communication\", \"communication\", \"communication\", \"communication\", \"communication\", \"communication\", \"communications\", \"community\", \"community\", \"community\", \"community\", \"community\", \"community\", \"community\", \"community\", \"community\", \"community\", \"community\", \"community\", \"community\", \"companys\", \"complaint\", \"complaint\", \"complaint\", \"complaint\", \"complaint\", \"compliance\", \"compliance\", \"compliance\", \"compliance\", \"compliance\", \"compliance\", \"compliance\", \"compliance\", \"compliance\", \"compliance\", \"compliance\", \"compliance\", \"compliance\", \"compliance\", \"compliancecomplaint\", \"computer\", \"computer\", \"computer\", \"computer\", \"computertechnical\", \"conclusive\", \"conclusive\", \"conferences\", \"conflicting\", \"connection\", \"connection\", \"connection\", \"connection\", \"connection\", \"consecutive\", \"consecutive\", \"consecutive\", \"consent\", \"consent\", \"consent\", \"consent\", \"consent\", \"consent\", \"consent\", \"consent\", \"consent\", \"conservation\", \"conservation\", \"conservation\", \"conservation\", \"conservative\", \"considerable\", \"consists\", \"construct\", \"construct\", \"construct\", \"construct\", \"construct\", \"construct\", \"construct\", \"construct\", \"constructed\", \"constructed\", \"constructed\", \"consumables\", \"contempt\", \"contingencypdf\", \"continuance\", \"continuance\", \"continuance\", \"continuances\", \"contract\", \"contract\", \"contract\", \"contract\", \"contract\", \"contract\", \"contract\", \"contract\", \"contract\", \"contract\", \"contract\", \"contract\", \"contractor\", \"contractor\", \"contractor\", \"contractor\", \"contractor\", \"contractor\", \"contractor\", \"convey\", \"convey\", \"convey\", \"convey\", \"cook\", \"cook\", \"cook\", \"cook\", \"cook\", \"cook\", \"cook\", \"cook\", \"cook\", \"cook\", \"cook\", \"cook\", \"cook\", \"cook\", \"cooling\", \"cooper\", \"cooper\", \"cooper\", \"cooper\", \"coordination\", \"coordination\", \"coordination\", \"copper\", \"core\", \"core\", \"core\", \"core\", \"core\", \"core\", \"cornelia\", \"cornelia\", \"cornelia\", \"cornice\", \"corporation\", \"corporation\", \"corporation\", \"corporation\", \"corporation\", \"corporation\", \"corporation\", \"corporation\", \"corporation\", \"corporation\", \"corporation\", \"corporation\", \"correc\", \"corridor\", \"corridor\", \"corridor\", \"corridor\", \"cost\", \"cost\", \"cost\", \"cost\", \"cost\", \"cost\", \"cost\", \"cost\", \"cost\", \"cost\", \"cost\", \"cost\", \"cotta\", \"cotta\", \"council\", \"council\", \"council\", \"council\", \"council\", \"council\", \"council\", \"council\", \"council\", \"council\", \"council\", \"council\", \"council\", \"council\", \"council\", \"council\", \"council\", \"council\", \"counted\", \"countertops\", \"county\", \"county\", \"county\", \"county\", \"county\", \"county\", \"county\", \"county\", \"county\", \"county\", \"county\", \"county\", \"county\", \"county\", \"county\", \"countycare\", \"countycare\", \"countycare\", \"countycare\", \"countycares\", \"countyhealth\", \"countyhealth\", \"couple\", \"couple\", \"couple\", \"court\", \"court\", \"court\", \"court\", \"court\", \"court\", \"court\", \"court\", \"court\", \"court\", \"court\", \"court\", \"court\", \"court\", \"courtappointed\", \"courtappointed\", \"covenant\", \"covenant\", \"covenant\", \"coverages\", \"coyne\", \"coyne\", \"cozzi\", \"cozzi\", \"cozzi\", \"cpd\", \"cpd\", \"cpd\", \"cps\", \"cps\", \"cps\", \"crabtree\", \"crabtree\", \"crash\", \"crash\", \"creates\", \"credentialing\", \"credit\", \"credit\", \"credit\", \"credit\", \"credit\", \"credit\", \"credit\", \"credit\", \"crime\", \"crime\", \"crime\", \"crime\", \"crime\", \"criminal\", \"criminal\", \"criminal\", \"criminal\", \"criminal\", \"criminal\", \"cruise\", \"culbertson\", \"culbertson\", \"culture\", \"culture\", \"culture\", \"culture\", \"cunningham\", \"cust\", \"cust\", \"custodian\", \"custodian\", \"custodian\", \"cuvalo\", \"cynthia\", \"cynthia\", \"cynthia\", \"cynthia\", \"cynthia\", \"cynthia\", \"cynthia\", \"cynthia\", \"da\", \"daley\", \"daley\", \"daley\", \"daley\", \"daley\", \"daley\", \"daley\", \"daley\", \"daley\", \"danloe\", \"data\", \"data\", \"data\", \"data\", \"data\", \"data\", \"data\", \"data\", \"date\", \"date\", \"date\", \"date\", \"date\", \"date\", \"date\", \"date\", \"date\", \"date\", \"date\", \"date\", \"date\", \"date\", \"date\", \"date\", \"date\", \"date\", \"dated\", \"dated\", \"dated\", \"dated\", \"day\", \"day\", \"day\", \"day\", \"day\", \"day\", \"day\", \"day\", \"day\", \"day\", \"day\", \"day\", \"day\", \"dcs\", \"dd\", \"deal\", \"deal\", \"deal\", \"dealer\", \"dealer\", \"dealer\", \"dean\", \"dean\", \"dean\", \"death\", \"death\", \"death\", \"death\", \"death\", \"death\", \"deaths\", \"debra\", \"debra\", \"debra\", \"debra\", \"debra\", \"debra\", \"debra\", \"debra\", \"debra\", \"debra\", \"debt\", \"debt\", \"debt\", \"debt\", \"debt\", \"debt\", \"debt\", \"debt\", \"dec\", \"dec\", \"dec\", \"dec\", \"decade\", \"decades\", \"decease\", \"decease\", \"decease\", \"decease\", \"decease\", \"decease\", \"deceased\", \"december\", \"december\", \"december\", \"december\", \"december\", \"december\", \"december\", \"december\", \"december\", \"december\", \"december\", \"december\", \"december\", \"december\", \"december\", \"december\", \"deck\", \"deck\", \"deck\", \"declared\", \"dedication\", \"dedication\", \"deduction\", \"deduction\", \"deeds\", \"deem\", \"deem\", \"deem\", \"deem\", \"deemed\", \"deemed\", \"deepest\", \"defendant\", \"defendant\", \"defense\", \"defense\", \"defense\", \"definition\", \"definition\", \"definition\", \"degnen\", \"degnen\", \"degnen\", \"delaware\", \"delaware\", \"delaware\", \"delaware\", \"deleting\", \"deleting\", \"delfino\", \"deliver\", \"deliver\", \"deliver\", \"deliver\", \"deliver\", \"deliver\", \"deliver\", \"deliver\", \"deliver\", \"delivered\", \"delta\", \"delta\", \"demolition\", \"demolition\", \"demolition\", \"demolition\", \"demolition\", \"demolition\", \"demonstrated\", \"department\", \"department\", \"department\", \"department\", \"department\", \"department\", \"department\", \"department\", \"department\", \"department\", \"department\", \"department\", \"department\", \"department\", \"department\", \"department\", \"department\", \"department\", \"desben\", \"descriptionspdf\", \"designation\", \"designation\", \"designation\", \"designation\", \"designation\", \"designation\", \"designation\", \"designee\", \"designee\", \"designee\", \"designee\", \"designee\", \"desirable\", \"detach\", \"detach\", \"detach\", \"detach\", \"detainee\", \"detainee\", \"detainee\", \"detective\", \"development\", \"development\", \"development\", \"development\", \"development\", \"development\", \"development\", \"development\", \"development\", \"development\", \"development\", \"development\", \"development\", \"development\", \"development\", \"development\", \"deverra\", \"deverra\", \"devine\", \"devine\", \"dfss\", \"dhs\", \"dialysis\", \"didnt\", \"didnt\", \"die\", \"die\", \"die\", \"died\", \"dietary\", \"dijana\", \"direct\", \"direct\", \"direct\", \"direct\", \"direct\", \"direct\", \"direct\", \"direct\", \"direct\", \"direct\", \"direct\", \"director\", \"director\", \"director\", \"director\", \"director\", \"director\", \"director\", \"director\", \"director\", \"director\", \"director\", \"director\", \"dis\", \"dis\", \"dis\", \"dis\", \"disability\", \"disability\", \"disability\", \"disability\", \"disability\", \"disability\", \"disability\", \"disable\", \"disable\", \"disable\", \"disable\", \"disable\", \"disabled\", \"disabled\", \"disabled\", \"disabled\", \"disallow\", \"disciplinary\", \"disciplinary\", \"disciplinary\", \"disclosure\", \"disclosure\", \"disclosure\", \"disclosure\", \"disinterested\", \"dispose\", \"dispose\", \"district\", \"district\", \"district\", \"district\", \"district\", \"district\", \"district\", \"district\", \"district\", \"district\", \"district\", \"district\", \"district\", \"district\", \"district\", \"diversion\", \"do\", \"do\", \"do\", \"do\", \"do\", \"document\", \"document\", \"document\", \"document\", \"document\", \"document\", \"document\", \"document\", \"document\", \"document\", \"doesnt\", \"domestic\", \"domestic\", \"domestic\", \"domestic\", \"domestic\", \"donnelley\", \"dont\", \"dont\", \"dorene\", \"dormer\", \"doublehung\", \"drafting\", \"drawn\", \"drill\", \"drivethrough\", \"dsh\", \"duran\", \"duty\", \"duty\", \"duty\", \"duty\", \"duty\", \"duty\", \"duty\", \"duty\", \"duty\", \"dutyextension\", \"dwell\", \"dwell\", \"dwell\", \"dwell\", \"dx16\", \"dziekiewicz\", \"eab\", \"eagle\", \"ease\", \"easements\", \"easier\", \"east\", \"east\", \"east\", \"east\", \"east\", \"east\", \"east\", \"east\", \"east\", \"east\", \"east\", \"east\", \"east\", \"east\", \"ecological\", \"ecological\", \"economic\", \"economic\", \"economic\", \"economic\", \"economic\", \"economic\", \"economic\", \"economic\", \"economic\", \"economic\", \"economic\", \"economical\", \"economics\", \"edens\", \"education\", \"education\", \"education\", \"education\", \"education\", \"education\", \"education\", \"education\", \"education\", \"education\", \"educational\", \"educational\", \"educational\", \"educational\", \"educational\", \"educational\", \"eff\", \"effective\", \"effective\", \"effective\", \"effective\", \"effective\", \"effective\", \"effective\", \"effective\", \"effective\", \"effective\", \"effective\", \"effective\", \"egan\", \"egan\", \"egan\", \"egan\", \"egress\", \"egress\", \"egress\", \"eighth\", \"eighth\", \"ekerete\", \"ekerete\", \"elected\", \"election\", \"election\", \"election\", \"election\", \"election\", \"election\", \"election\", \"electrical\", \"electrical\", \"electrical\", \"electrical\", \"electrical\", \"electrical\", \"element\", \"element\", \"element\", \"element\", \"elevated\", \"elevation\", \"elevation\", \"elevation\", \"emerald\", \"emerald\", \"emerald\", \"emilie\", \"emotional\", \"emotional\", \"emphasis\", \"employee\", \"employee\", \"employee\", \"employee\", \"employee\", \"employee\", \"employee\", \"employee\", \"employee\", \"employee\", \"employee\", \"employee\", \"empress\", \"emr\", \"endocrinology\", \"enforcement\", \"enforcement\", \"enforcement\", \"enforcement\", \"enforcement\", \"enforcement\", \"eng\", \"eng\", \"eng\", \"engages\", \"engine\", \"engine\", \"engine\", \"engine\", \"english\", \"english\", \"enhancements\", \"enjoy\", \"enjoy\", \"enough\", \"enrollment\", \"enrollment\", \"enrollment\", \"enrollment\", \"ent\", \"ent\", \"ent\", \"enter\", \"enter\", \"enter\", \"enter\", \"enter\", \"enter\", \"enter\", \"enter\", \"enter\", \"enter\", \"enterprise\", \"enterprise\", \"enterprise\", \"enterprise\", \"enterprise\", \"enterprise\", \"enterprise\", \"enterprise\", \"entitle\", \"entitle\", \"entitle\", \"entitle\", \"entitle\", \"entitle\", \"entitle\", \"entitled\", \"entitled\", \"equipment\", \"equipment\", \"equipment\", \"equipment\", \"equipment\", \"equipment\", \"equipment\", \"equipment\", \"equipment\", \"equipment\", \"equitable\", \"equitable\", \"error\", \"error\", \"error\", \"error\", \"error\", \"error\", \"error\", \"error\", \"establishment\", \"establishment\", \"establishment\", \"establishment\", \"establishment\", \"establishment\", \"establishment\", \"estate\", \"estate\", \"estate\", \"estate\", \"estate\", \"estate\", \"estate\", \"estate\", \"estate\", \"estate\", \"estate\", \"estate\", \"estate\", \"esther\", \"estimate\", \"estimate\", \"estimate\", \"estimate\", \"estimate\", \"estimate\", \"estimate\", \"ethnicity\", \"eugenie\", \"evaluated\", \"evening\", \"event\", \"event\", \"event\", \"event\", \"event\", \"event\", \"event\", \"event\", \"event\", \"event\", \"everett\", \"everybody\", \"example\", \"example\", \"exceed\", \"exceed\", \"exceed\", \"exceed\", \"exceed\", \"exceed\", \"exceed\", \"exceed\", \"exceed\", \"exceed\", \"except\", \"excite\", \"excuse\", \"excuse\", \"execute\", \"execute\", \"execute\", \"execute\", \"execute\", \"execute\", \"execute\", \"executive\", \"executive\", \"executive\", \"executive\", \"executive\", \"executive\", \"executive\", \"executive\", \"executive\", \"executive\", \"executive\", \"executive\", \"executive\", \"executive\", \"exempt\", \"exempt\", \"exempt\", \"exempt\", \"exempt\", \"exist\", \"exist\", \"exist\", \"exist\", \"exist\", \"exist\", \"exist\", \"exist\", \"exist\", \"expand\", \"expand\", \"expand\", \"expand\", \"expand\", \"expand\", \"expanded\", \"expense\", \"expense\", \"expense\", \"expense\", \"expense\", \"expense\", \"expense\", \"expense\", \"expense\", \"expense\", \"experience\", \"experience\", \"experience\", \"experience\", \"experience\", \"experiential\", \"explained\", \"exploration\", \"expressway\", \"expulsion\", \"expulsion\", \"expulsion\", \"extend\", \"extend\", \"extend\", \"extend\", \"extend\", \"extend\", \"extend\", \"extend\", \"extended\", \"extension\", \"extension\", \"extension\", \"extension\", \"extension\", \"extension\", \"extension\", \"extension\", \"extension\", \"extension\", \"extensions\", \"extent\", \"extent\", \"extent\", \"exterior\", \"exterior\", \"exterior\", \"exterior\", \"exterior\", \"external\", \"external\", \"external\", \"external\", \"ezra\", \"ezra\", \"faade\", \"faade\", \"faade\", \"facilitating\", \"facility\", \"facility\", \"facility\", \"facility\", \"facility\", \"facility\", \"facility\", \"facility\", \"facility\", \"facility\", \"facility\", \"facility\", \"facility\", \"facility\", \"facility\", \"failed\", \"fails\", \"failure\", \"failure\", \"failure\", \"failure\", \"failure\", \"fairfield\", \"fairfield\", \"fairfield\", \"family\", \"family\", \"family\", \"family\", \"family\", \"family\", \"family\", \"family\", \"family\", \"family\", \"familyworks\", \"farwell\", \"fatal\", \"fatality\", \"father\", \"father\", \"father\", \"feature\", \"feature\", \"feature\", \"feature\", \"feature\", \"feb\", \"feb\", \"feb\", \"feb\", \"fee\", \"fee\", \"fee\", \"fee\", \"fee\", \"fee\", \"fee\", \"fee\", \"fee\", \"fee\", \"fee\", \"fee\", \"feels\", \"fell\", \"fell\", \"female\", \"female\", \"female\", \"ffy13\", \"ffy14\", \"ffy15\", \"ffy16\", \"figure\", \"figure\", \"filed\", \"finalist\", \"finalizing\", \"finance\", \"finance\", \"finance\", \"finance\", \"finance\", \"finance\", \"finance\", \"finance\", \"finance\", \"finance\", \"finance\", \"finance\", \"finance\", \"finance\", \"financing\", \"financing\", \"financing\", \"financing\", \"financing\", \"finger\", \"finger\", \"finger\", \"finish\", \"finish\", \"finish\", \"finish\", \"firefighter\", \"firefighter\", \"fireman\", \"fireman\", \"fireman\", \"firm\", \"firm\", \"firm\", \"firm\", \"firm\", \"firm\", \"firm\", \"firm\", \"firm\", \"firm\", \"fitzgerald\", \"fitzgerald\", \"fitzgerald\", \"fitzgerald\", \"fix\", \"fix\", \"fix\", \"fix\", \"fix\", \"flash\", \"flash\", \"flash\", \"flash\", \"flash\", \"floor\", \"floor\", \"floor\", \"floor\", \"floor\", \"floor\", \"floor\", \"floor\", \"floor\", \"floor\", \"floor\", \"floor\", \"floor\", \"floor\", \"floor\", \"flores\", \"flores\", \"flores\", \"flores\", \"flowtechnics\", \"focus\", \"focus\", \"focus\", \"focus\", \"focus\", \"focus\", \"folk\", \"follow\", \"follow\", \"follow\", \"follow\", \"follow\", \"follow\", \"follow\", \"follow\", \"follow\", \"follow\", \"follow\", \"follow\", \"follow\", \"follow\", \"follow\", \"follow\", \"follow\", \"follow\", \"following\", \"following\", \"following\", \"following\", \"following\", \"following\", \"following\", \"following\", \"folup\", \"foot\", \"foot\", \"foot\", \"foot\", \"foot\", \"foot\", \"foot\", \"forest\", \"forest\", \"forest\", \"forest\", \"forest\", \"forest\", \"forest\", \"forest\", \"forest\", \"forth\", \"forth\", \"forth\", \"forth\", \"forth\", \"forth\", \"forth\", \"forth\", \"forwarded\", \"foundation\", \"foundation\", \"foundation\", \"foundation\", \"foundation\", \"foundation\", \"foundation\", \"foundation\", \"fourstory\", \"fourstory\", \"fourstory\", \"fpcc\", \"fpd\", \"fracture\", \"fracture\", \"framework\", \"framework\", \"framework\", \"framework\", \"frank\", \"frank\", \"frank\", \"frank\", \"frank\", \"frank\", \"frank\", \"fraud\", \"fraud\", \"fraud\", \"fraud\", \"frazier\", \"frazier\", \"freeze\", \"friday\", \"friday\", \"friday\", \"friday\", \"friday\", \"friday\", \"friday\", \"friday\", \"friday\", \"friday\", \"friday\", \"fritchey\", \"fritchey\", \"fritchey\", \"fritchey\", \"fuel\", \"fuel\", \"fuel\", \"fulltime\", \"fulltime\", \"fulltime\", \"fultonrandolph\", \"fund\", \"fund\", \"fund\", \"fund\", \"fund\", \"fund\", \"fund\", \"fund\", \"fund\", \"fund\", \"fund\", \"fund\", \"fund\", \"fund\", \"funding\", \"funding\", \"funding\", \"funding\", \"funding\", \"funding\", \"funding\", \"funding\", \"funding\", \"funding\", \"furnish\", \"furnish\", \"furnish\", \"furnish\", \"fusco\", \"fy14\", \"fy15\", \"fy16\", \"fy17\", \"fy19\", \"fy19\", \"fy2010\", \"fy2014\", \"fy2014\", \"fy2016\", \"fytd\", \"gainer\", \"gainer\", \"gainer\", \"gainer\", \"gainer\", \"gainer\", \"gal\", \"gal\", \"gamble\", \"gamble\", \"gamble\", \"gamble\", \"gambling\", \"game\", \"game\", \"game\", \"game\", \"gaming\", \"garage\", \"garage\", \"garage\", \"garage\", \"garage\", \"garca\", \"garca\", \"garca\", \"garca\", \"garca\", \"gardens\", \"gardner\", \"gardner\", \"gardner\", \"gardner\", \"gardner\", \"general\", \"general\", \"general\", \"general\", \"general\", \"general\", \"general\", \"general\", \"general\", \"general\", \"general\", \"general\", \"georges\", \"georgia\", \"germane\", \"germane\", \"germane\", \"germane\", \"get\", \"get\", \"get\", \"get\", \"get\", \"gi\", \"gi\", \"gilliam\", \"gis\", \"gist\", \"give\", \"give\", \"give\", \"give\", \"give\", \"give\", \"give\", \"give\", \"give\", \"glass\", \"glass\", \"glass\", \"glass\", \"glass\", \"gloves\", \"go\", \"go\", \"go\", \"go\", \"go\", \"goal\", \"goal\", \"goal\", \"goal\", \"goal\", \"goal\", \"goal\", \"goal\", \"gonorrhea\", \"good\", \"good\", \"good\", \"good\", \"good\", \"good\", \"goode\", \"goode\", \"goodman\", \"goodman\", \"goslin\", \"goslin\", \"goslin\", \"goslin\", \"gould\", \"gould\", \"gould\", \"governance\", \"governance\", \"governance\", \"governors\", \"gpo\", \"gpo\", \"grade\", \"grade\", \"grade\", \"grade\", \"grade\", \"graduate\", \"graduate\", \"grant\", \"grant\", \"grant\", \"grant\", \"grant\", \"grant\", \"grant\", \"grant\", \"grant\", \"grant\", \"grant\", \"grant\", \"grant\", \"grant\", \"grateful\", \"great\", \"great\", \"great\", \"great\", \"great\", \"great\", \"great\", \"great\", \"greenwood\", \"greenwood\", \"greenwood\", \"grill\", \"grill\", \"grind\", \"grind\", \"grit\", \"groundfloor\", \"group\", \"group\", \"group\", \"group\", \"group\", \"group\", \"group\", \"group\", \"group\", \"group\", \"group\", \"group\", \"group\", \"group\", \"group\", \"groves\", \"guardian\", \"guardian\", \"guardian\", \"guardian\", \"guardian\", \"guardianship\", \"guardianship\", \"guess\", \"guest\", \"guest\", \"guest\", \"guest\", \"guest\", \"guidance\", \"guidance\", \"guidance\", \"guolee\", \"gynecology\", \"hackett\", \"hallie\", \"hallie\", \"handicapped\", \"handled\", \"hap\", \"hap\", \"hap\", \"happen\", \"happen\", \"harm\", \"harm\", \"harmony\", \"harrahs\", \"harriet\", \"harriet\", \"harris\", \"harris\", \"harris\", \"harris\", \"harris\", \"harris\", \"harris\", \"harris\", \"harris\", \"harte\", \"harte\", \"hasma\", \"hawthorne\", \"heaith\", \"heaith\", \"healey\", \"healey\", \"health\", \"health\", \"health\", \"health\", \"health\", \"health\", \"health\", \"health\", \"health\", \"health\", \"health\", \"health\", \"health\", \"health\", \"health\", \"healthcare\", \"healthcare\", \"healthcare\", \"healthcare\", \"healthcare\", \"healthcare\", \"healthcare\", \"healthcare\", \"healthcare\", \"healthy\", \"healthy\", \"healthy\", \"healthy\", \"healthy\", \"heart\", \"heart\", \"heart\", \"heater\", \"height\", \"height\", \"height\", \"height\", \"height\", \"height\", \"heir\", \"heirs\", \"help\", \"help\", \"help\", \"help\", \"hemphill\", \"hemphill\", \"herniated\", \"hfma\", \"hhs\", \"high\", \"high\", \"high\", \"high\", \"high\", \"high\", \"high\", \"high\", \"high\", \"high\", \"highways\", \"hill\", \"hill\", \"hill\", \"hill\", \"hill\", \"hill\", \"hill\", \"hire\", \"hire\", \"hire\", \"hire\", \"hire\", \"hire\", \"hire\", \"hire\", \"hisher\", \"historic\", \"historic\", \"historic\", \"historic\", \"hiv\", \"hiv\", \"hmo\", \"hmo\", \"hold\", \"hold\", \"hold\", \"hold\", \"hold\", \"hold\", \"hold\", \"hold\", \"hold\", \"hold\", \"hold\", \"hold\", \"hold\", \"hold\", \"hold\", \"hold\", \"hold\", \"hold\", \"holleb\", \"hollywood\", \"holmes\", \"holmes\", \"holmes\", \"homeownership\", \"honor\", \"honor\", \"honor\", \"honor\", \"honor\", \"honored\", \"hooker\", \"hooker\", \"hooker\", \"hop\", \"hora\", \"horizon\", \"horton\", \"horton\", \"horton\", \"horton\", \"horton\", \"horton\", \"horwitz\", \"hosp\", \"hosp\", \"hospital\", \"hospital\", \"hospital\", \"hospital\", \"hospital\", \"hospital\", \"hospital\", \"hospital\", \"hospital\", \"hospital\", \"hospital\", \"hospital\", \"hotel\", \"hotel\", \"hotel\", \"hotel\", \"hotel\", \"housed\", \"household\", \"household\", \"housing\", \"housing\", \"housing\", \"housing\", \"housing\", \"housing\", \"housing\", \"housing\", \"hud\", \"hud\", \"hud\", \"hud\", \"huds\", \"human\", \"human\", \"human\", \"human\", \"human\", \"human\", \"human\", \"human\", \"human\", \"human\", \"human\", \"hundred\", \"hundred\", \"hundred\", \"hundreds\", \"i55\", \"i55\", \"i55\", \"i57\", \"i57\", \"i57\", \"ibm\", \"ibm\", \"ibm\", \"icjia\", \"ickes\", \"identi\", \"identi\", \"ies\", \"igb\", \"ihc\", \"ihc\", \"ildiko\", \"illinicare\", \"illinois\", \"illinois\", \"illinois\", \"illinois\", \"illinois\", \"illinois\", \"illinois\", \"illinois\", \"illinois\", \"illinois\", \"illinois\", \"illinois\", \"illinois\", \"illinois\", \"illinois\", \"illinois\", \"illinois\", \"illinois\", \"illuminate\", \"immigrant\", \"immigration\", \"impact\", \"impact\", \"impact\", \"impact\", \"impact\", \"impact\", \"impact\", \"impact\", \"impact\", \"impact\", \"implementation\", \"implementation\", \"implementation\", \"implementation\", \"implementation\", \"implementation\", \"implementation\", \"implication\", \"impose\", \"impose\", \"impose\", \"impose\", \"imposed\", \"imposition\", \"imposition\", \"improve\", \"improve\", \"improve\", \"improve\", \"improve\", \"improve\", \"improve\", \"improve\", \"improvement\", \"improvement\", \"improvement\", \"improvement\", \"improvement\", \"improvement\", \"improvement\", \"improvement\", \"improvement\", \"improvement\", \"inance\", \"inance\", \"inance\", \"inaugural\", \"inc\", \"inc\", \"inc\", \"inc\", \"inc\", \"inc\", \"inc\", \"inc\", \"inc\", \"inc\", \"inc\", \"inc\", \"inc\", \"inc\", \"inc\", \"inc\", \"inc\", \"incentive\", \"incentive\", \"incentive\", \"incentive\", \"incentive\", \"incentive\", \"incentive\", \"inception\", \"inches\", \"incidentactivity\", \"include\", \"include\", \"include\", \"include\", \"include\", \"include\", \"include\", \"include\", \"include\", \"include\", \"include\", \"include\", \"include\", \"include\", \"include\", \"include\", \"include\", \"include\", \"inconsistent\", \"increase\", \"increase\", \"increase\", \"increase\", \"increase\", \"increase\", \"increase\", \"increase\", \"increase\", \"increase\", \"increase\", \"increase\", \"increase\", \"increase\", \"increment\", \"increment\", \"increment\", \"increment\", \"increment\", \"incurred\", \"indefinite\", \"index\", \"index\", \"index\", \"index\", \"indicator\", \"indictment\", \"indigent\", \"indigent\", \"industrial\", \"industrial\", \"industrial\", \"industrial\", \"industrial\", \"industrial\", \"industrial\", \"industrial\", \"information\", \"information\", \"information\", \"information\", \"information\", \"information\", \"information\", \"information\", \"information\", \"information\", \"information\", \"information\", \"information\", \"information\", \"ingres\", \"injured\", \"injured\", \"injured\", \"injuries\", \"inland\", \"inpatient\", \"inpatient\", \"inquiries\", \"insert\", \"insert\", \"insert\", \"insight\", \"inspire\", \"install\", \"install\", \"install\", \"install\", \"install\", \"install\", \"install\", \"institute\", \"institute\", \"institute\", \"institute\", \"institute\", \"institute\", \"institutional\", \"institutional\", \"institutional\", \"institutional\", \"instructed\", \"instructor\", \"instrumental\", \"instrumentation\", \"integrity\", \"integrity\", \"integrity\", \"integrity\", \"intelligence\", \"intercept\", \"interest\", \"interest\", \"interest\", \"interest\", \"interest\", \"interest\", \"interest\", \"interest\", \"interest\", \"interesting\", \"interface\", \"interior\", \"interior\", \"interior\", \"interior\", \"internal\", \"internal\", \"internal\", \"internal\", \"internal\", \"interns\", \"inv\", \"inv\", \"invalid\", \"investigated\", \"investigating\", \"investigation\", \"investigation\", \"investigation\", \"investigation\", \"investigation\", \"investigation\", \"investment\", \"investment\", \"investment\", \"investment\", \"investment\", \"investment\", \"investment\", \"investment\", \"investment\", \"investment\", \"investment\", \"invoice\", \"invoice\", \"invoice\", \"invoice\", \"invoice\", \"invoice\", \"island\", \"island\", \"island\", \"island\", \"island\", \"island\", \"issue\", \"issue\", \"issue\", \"issue\", \"issue\", \"issue\", \"issue\", \"issue\", \"issue\", \"issue\", \"issue\", \"issue\", \"issue\", \"issue\", \"issue\", \"item\", \"item\", \"item\", \"item\", \"item\", \"item\", \"item\", \"item\", \"item\", \"item\", \"item\", \"item\", \"item\", \"item\", \"item\", \"item\", \"ivers\", \"iwcc\", \"jack\", \"jack\", \"jack\", \"jack\", \"jacobs\", \"jaffe\", \"jaffe\", \"jaffe\", \"jag\", \"jan\", \"jan\", \"jan\", \"jan\", \"jan\", \"january\", \"january\", \"january\", \"january\", \"january\", \"january\", \"january\", \"january\", \"january\", \"january\", \"january\", \"january\", \"january\", \"january\", \"january\", \"january\", \"jay\", \"jay\", \"jay\", \"jay\", \"jay\", \"jay\", \"jay\", \"jess\", \"jess\", \"jess\", \"jeweler\", \"jeweler\", \"job\", \"job\", \"job\", \"job\", \"job\", \"job\", \"job\", \"job\", \"john\", \"john\", \"john\", \"john\", \"john\", \"john\", \"john\", \"john\", \"john\", \"john\", \"john\", \"john\", \"john\", \"john\", \"john\", \"joliet\", \"joliet\", \"joliet\", \"josh\", \"journal\", \"journal\", \"journal\", \"journal\", \"journal\", \"journal\", \"journal\", \"journal\", \"jtdc\", \"jtdc\", \"judiciary\", \"judiciary\", \"judiciary\", \"judith\", \"judith\", \"judith\", \"judith\", \"jul\", \"jul\", \"jul\", \"jul\", \"july\", \"july\", \"july\", \"july\", \"july\", \"july\", \"july\", \"july\", \"july\", \"july\", \"july\", \"july\", \"july\", \"july\", \"july\", \"july\", \"july\", \"jun\", \"jun\", \"june\", \"june\", \"june\", \"june\", \"june\", \"june\", \"june\", \"june\", \"june\", \"june\", \"june\", \"june\", \"june\", \"june\", \"june\", \"junge\", \"junge\", \"justice\", \"justice\", \"justice\", \"justice\", \"justice\", \"justice\", \"justice\", \"justice\", \"justify\", \"justify\", \"juvenile\", \"juvenile\", \"juvenile\", \"juvenile\", \"juvenile\", \"kari\", \"kari\", \"kari\", \"karlov\", \"karlov\", \"karoll\", \"keane\", \"keane\", \"kedvale\", \"kedvale\", \"keeler\", \"keeper\", \"keeper\", \"kenwood\", \"kenwood\", \"kibler\", \"kilbourn\", \"kildare\", \"kildare\", \"kind\", \"kind\", \"kind\", \"kirie\", \"know\", \"know\", \"know\", \"know\", \"know\", \"know\", \"koldyke\", \"koldyke\", \"kolmar\", \"kolmar\", \"kris\", \"kupiec\", \"kusatzky\", \"l\", \"laboratory\", \"laboratory\", \"laboratory\", \"laboratory\", \"ladies\", \"lake\", \"lake\", \"lake\", \"lake\", \"lake\", \"lake\", \"lake\", \"lake\", \"lake\", \"lake\", \"lake\", \"lakefront\", \"lakefront\", \"lakefront\", \"lakefront\", \"land\", \"land\", \"land\", \"land\", \"land\", \"land\", \"land\", \"land\", \"landing\", \"landmark\", \"landmark\", \"landmark\", \"landmark\", \"landmark\", \"landmark\", \"landmarkdistrict\", \"lane\", \"lane\", \"lane\", \"lane\", \"lane\", \"lane\", \"lap\", \"las\", \"lasma\", \"last\", \"last\", \"last\", \"last\", \"last\", \"last\", \"last\", \"last\", \"last\", \"lathrop\", \"lathrop\", \"lavelle\", \"lavelle\", \"law\", \"law\", \"law\", \"law\", \"law\", \"law\", \"law\", \"law\", \"law\", \"law\", \"law\", \"law\", \"lay\", \"layla\", \"layoff\", \"leader\", \"leader\", \"leader\", \"leadership\", \"leadership\", \"leadership\", \"leadership\", \"leadership\", \"leading\", \"learning\", \"learning\", \"learning\", \"lease\", \"lease\", \"lease\", \"lease\", \"lease\", \"lease\", \"lease\", \"lease\", \"lease\", \"leg\", \"leg\", \"leg\", \"leg\", \"legal\", \"legal\", \"legal\", \"legal\", \"legal\", \"legal\", \"legal\", \"legal\", \"legal\", \"legal\", \"legal\", \"legal\", \"lemrow\", \"let\", \"let\", \"let\", \"letter\", \"letter\", \"letter\", \"letter\", \"letter\", \"letter\", \"letter\", \"letter\", \"letter\", \"letter\", \"levy\", \"levy\", \"levy\", \"levy\", \"levy\", \"license\", \"license\", \"license\", \"license\", \"license\", \"license\", \"license\", \"license\", \"license\", \"license\", \"license\", \"licensee\", \"licensee\", \"licensee\", \"licensees\", \"lieu\", \"lieu\", \"lieu\", \"lieu\", \"lieutenant\", \"lieutenant\", \"life\", \"life\", \"life\", \"life\", \"life\", \"life\", \"life\", \"life\", \"lightfoot\", \"lightfoot\", \"lightfoot\", \"lihtc\", \"like\", \"like\", \"like\", \"limestone\", \"linkages\", \"lintel\", \"lisanti\", \"litem\", \"litigation\", \"litigation\", \"litigation\", \"litigation\", \"litigation\", \"litigation\", \"litigation\", \"litigation\", \"live\", \"live\", \"live\", \"live\", \"live\", \"live\", \"live\", \"llc\", \"llc\", \"llc\", \"llc\", \"llc\", \"llc\", \"llc\", \"llc\", \"llc\", \"llc\", \"llc\", \"llc\", \"llc\", \"llc\", \"llc\", \"llp\", \"llp\", \"llp\", \"llp\", \"llp\", \"llp\", \"llp\", \"llp\", \"lnc\", \"lnc\", \"lnc\", \"lnc\", \"load\", \"load\", \"load\", \"load\", \"loading\", \"loan\", \"loan\", \"loan\", \"loan\", \"locate\", \"locate\", \"locate\", \"locate\", \"locate\", \"locate\", \"locate\", \"locate\", \"locate\", \"locate\", \"locate\", \"locate\", \"lockport\", \"lockport\", \"lockport\", \"lodged\", \"logpdf\", \"look\", \"look\", \"look\", \"look\", \"look\", \"look\", \"look\", \"look\", \"lra\", \"lrving\", \"lrving\", \"lubricant\", \"lumbar\", \"lump\", \"lump\", \"lump\", \"lump\", \"lydon\", \"main\", \"main\", \"main\", \"main\", \"main\", \"main\", \"main\", \"maintain\", \"maintain\", \"maintain\", \"maintain\", \"maintain\", \"maintain\", \"maintain\", \"maintain\", \"maintain\", \"maintain\", \"maintenance\", \"maintenance\", \"maintenance\", \"maintenance\", \"maintenance\", \"maintenance\", \"maintenance\", \"maintenance\", \"maintenance\", \"maintenance\", \"maintenance\", \"majewski\", \"majewski\", \"make\", \"make\", \"make\", \"make\", \"make\", \"make\", \"make\", \"make\", \"make\", \"make\", \"make\", \"make\", \"make\", \"make\", \"make\", \"make\", \"make\", \"make\", \"maki\", \"management\", \"management\", \"management\", \"management\", \"management\", \"management\", \"management\", \"management\", \"management\", \"management\", \"management\", \"management\", \"management\", \"management\", \"management\", \"management\", \"manufacturing\", \"manufacturing\", \"manufacturing\", \"manufacturing\", \"mapparcel\", \"mapparcels\", \"mar\", \"mar\", \"mar\", \"mar\", \"mar\", \"marcelino\", \"marcelino\", \"marcelino\", \"march\", \"march\", \"march\", \"march\", \"march\", \"march\", \"march\", \"march\", \"march\", \"march\", \"march\", \"march\", \"march\", \"march\", \"march\", \"march\", \"march\", \"mariyana\", \"mariyana\", \"mariyana\", \"marketplace\", \"markowski\", \"markowski\", \"marry\", \"marry\", \"marry\", \"masonry\", \"masonry\", \"masonry\", \"masonry\", \"massage\", \"massage\", \"massage\", \"match\", \"match\", \"match\", \"match\", \"maternal\", \"matthews\", \"mature\", \"mbe\", \"mbe\", \"mbe\", \"mbe\", \"mbewbedbe\", \"mbewbedbe\", \"mbewbedbe\", \"mbewbedbe\", \"mccook\", \"mcfadden\", \"mcfadden\", \"mcgowan\", \"mcgowan\", \"mcgowan\", \"mcgowan\", \"mcmahon\", \"mcmahon\", \"mcmahon\", \"mco\", \"mcos\", \"meany\", \"meany\", \"meany\", \"mech\", \"mechanical\", \"mechanical\", \"mechanical\", \"mechanical\", \"med\", \"med\", \"med\", \"median\", \"medicaid\", \"medicaid\", \"medicaid\", \"medical\", \"medical\", \"medical\", \"medical\", \"medical\", \"medical\", \"medical\", \"medical\", \"medical\", \"medical\", \"medical\", \"medical\", \"medical\", \"medicare\", \"medicare\", \"medicare\", \"medicare\", \"medicine\", \"medicine\", \"medicine\", \"meet\", \"meet\", \"meet\", \"meet\", \"meet\", \"meet\", \"meet\", \"meet\", \"meet\", \"meet\", \"meet\", \"meet\", \"meet\", \"meet\", \"meet\", \"meet\", \"meet\", \"meet\", \"meeting\", \"meeting\", \"meeting\", \"meeting\", \"meeting\", \"meeting\", \"meeting\", \"meeting\", \"meeting\", \"meeting\", \"meeting\", \"meeting\", \"meeting\", \"meeting\", \"meeting\", \"meeting\", \"meeting\", \"meeting\", \"meeting\", \"melinda\", \"member\", \"member\", \"member\", \"member\", \"member\", \"member\", \"member\", \"member\", \"member\", \"member\", \"member\", \"member\", \"member\", \"member\", \"memo\", \"memo\", \"memo\", \"memo\", \"menu\", \"mercy\", \"mercy\", \"mercy\", \"mercy\", \"mercy\", \"messenger\", \"metal\", \"metal\", \"metal\", \"methodology\", \"methodology\", \"methodology\", \"methodology\", \"metro\", \"metro\", \"metropolis\", \"metropolis\", \"metropolis\", \"metropolitan\", \"metropolitan\", \"metropolitan\", \"metropolitan\", \"metropolitan\", \"metropolitan\", \"metropolitan\", \"mgm\", \"mgr\", \"michigan\", \"michigan\", \"michigan\", \"michigan\", \"michigan\", \"michigan\", \"michigan\", \"michigan\", \"michigan\", \"microsoft\", \"microsoft\", \"midnorth\", \"midwest\", \"midwest\", \"midwest\", \"midwest\", \"midwest\", \"midwest\", \"midwest\", \"migala\", \"mildred\", \"mildred\", \"mildred\", \"mildred\", \"mildred\", \"mile\", \"mile\", \"mile\", \"mile\", \"mile\", \"minnesota\", \"minor\", \"minor\", \"minor\", \"minor\", \"minor\", \"minor\", \"minor\", \"minor\", \"minute\", \"minute\", \"minute\", \"minute\", \"minute\", \"minute\", \"minute\", \"minute\", \"minute\", \"minute\", \"minute\", \"minute\", \"minute\", \"minute\", \"minute\", \"minute\", \"minute\", \"miscellaneous\", \"miscellaneous\", \"miscellaneous\", \"miscellaneous\", \"miscellaneous\", \"miscellaneous\", \"miscellaneous\", \"miscellaneous\", \"miscellaneous\", \"miscellaneous\", \"mislead\", \"misleading\", \"mississippi\", \"mixed\", \"mixed\", \"mixed\", \"mixed\", \"mixeduse\", \"mixeduse\", \"mixeduse\", \"mixeduse\", \"mktpdf\", \"mmi\", \"mmi\", \"monadnock\", \"monday\", \"monday\", \"monday\", \"monday\", \"monday\", \"monday\", \"monday\", \"monday\", \"monday\", \"money\", \"money\", \"money\", \"money\", \"month\", \"month\", \"month\", \"month\", \"month\", \"month\", \"month\", \"month\", \"month\", \"month\", \"month\", \"month\", \"month\", \"month\", \"monthly\", \"monthly\", \"monthly\", \"monthly\", \"monthly\", \"monthly\", \"monthly\", \"monthly\", \"monthly\", \"monthly\", \"moore\", \"moore\", \"moore\", \"moore\", \"moore\", \"moore\", \"moore\", \"moore\", \"moore\", \"moore\", \"moore\", \"morale\", \"morale\", \"morale\", \"morale\", \"morrison\", \"morrison\", \"morrison\", \"morrison\", \"morrison\", \"mortality\", \"mortar\", \"mortar\", \"mother\", \"mother\", \"mother\", \"mother\", \"motion\", \"motion\", \"motion\", \"motion\", \"motion\", \"motion\", \"motion\", \"motion\", \"motion\", \"motion\", \"motion\", \"motion\", \"mount\", \"mount\", \"mount\", \"move\", \"move\", \"move\", \"move\", \"move\", \"move\", \"move\", \"move\", \"move\", \"move\", \"move\", \"moved\", \"moved\", \"msw\", \"mtd\", \"mtd\", \"mtw\", \"mtw\", \"mtw\", \"much\", \"much\", \"much\", \"much\", \"mullion\", \"multi\", \"multi\", \"multidisciplinary\", \"multiunit\", \"multiunit\", \"multiunit\", \"munar\", \"munar\", \"municipal\", \"municipal\", \"municipal\", \"municipal\", \"municipal\", \"municipal\", \"municipal\", \"municipal\", \"municipal\", \"municipal\", \"municipal\", \"municipality\", \"municipality\", \"municipality\", \"mural\", \"murphy\", \"murphy\", \"murphy\", \"murphy\", \"murphy\", \"murphy\", \"murphy\", \"murphy\", \"murphy\", \"murphy\", \"muskegan\", \"mwh\", \"mwrdgc\", \"nail\", \"nail\", \"nail\", \"name\", \"name\", \"name\", \"name\", \"name\", \"name\", \"name\", \"name\", \"name\", \"name\", \"narcotic\", \"nature\", \"nature\", \"nature\", \"nature\", \"nature\", \"neck\", \"neck\", \"need\", \"need\", \"need\", \"need\", \"need\", \"need\", \"need\", \"need\", \"need\", \"need\", \"need\", \"need\", \"need\", \"negotiated\", \"negotiated\", \"negotiated\", \"negotiated\", \"negotiated\", \"negotiated\", \"neighborhood\", \"neighborhood\", \"neighborhood\", \"neighborhood\", \"neighborhood\", \"neighborhood\", \"neighborhood\", \"neighborhood\", \"nesbitt\", \"network\", \"network\", \"network\", \"network\", \"network\", \"neurology\", \"new\", \"new\", \"new\", \"new\", \"new\", \"new\", \"new\", \"new\", \"new\", \"new\", \"new\", \"new\", \"new\", \"new\", \"new\", \"new\", \"new\", \"new\", \"next\", \"next\", \"next\", \"next\", \"next\", \"next\", \"next\", \"next\", \"next\", \"next\", \"next\", \"nielsenihc\", \"nominal\", \"nominal\", \"noncapital\", \"nonclinical\", \"noncompetitive\", \"noncompetitive\", \"noncompetitive\", \"noncompetitive\", \"none\", \"none\", \"none\", \"none\", \"none\", \"none\", \"none\", \"none\", \"none\", \"none\", \"none\", \"nonexclusive\", \"nonhistoric\", \"nonilluminated\", \"nonmedical\", \"nonmtw\", \"north\", \"north\", \"north\", \"north\", \"north\", \"north\", \"north\", \"north\", \"north\", \"north\", \"north\", \"north\", \"north\", \"north\", \"north\", \"north\", \"north\", \"note\", \"note\", \"note\", \"note\", \"note\", \"note\", \"note\", \"note\", \"note\", \"note\", \"note\", \"note\", \"notice\", \"notice\", \"notice\", \"notice\", \"notice\", \"notice\", \"notice\", \"notice\", \"notice\", \"notice\", \"notice\", \"notice\", \"nottoexceed\", \"nottoexceed\", \"nottoexceed\", \"nottoexceed\", \"notwithstanding\", \"notwithstanding\", \"nov\", \"nov\", \"nov\", \"nov\", \"nsa\", \"nte\", \"nte\", \"nte\", \"number\", \"number\", \"number\", \"number\", \"number\", \"number\", \"number\", \"number\", \"number\", \"number\", \"number\", \"number\", \"number\", \"number\", \"oak\", \"oak\", \"oak\", \"oak\", \"oak\", \"oak\", \"oak\", \"oak\", \"oak\", \"oaks\", \"objector\", \"objector\", \"objectors\", \"obligation\", \"obligation\", \"obligation\", \"obligation\", \"obligation\", \"obrien\", \"obrien\", \"obrien\", \"obrien\", \"obrien\", \"obstetrics\", \"obtained\", \"occupational\", \"occupational\", \"occupational\", \"occupational\", \"occupational\", \"occurred\", \"odor\", \"oemc\", \"oemc\", \"offender\", \"offender\", \"offense\", \"offenses\", \"offer\", \"offer\", \"offer\", \"offer\", \"offer\", \"offer\", \"office\", \"office\", \"office\", \"office\", \"office\", \"office\", \"office\", \"office\", \"office\", \"office\", \"office\", \"office\", \"office\", \"office\", \"office\", \"office\", \"office\", \"office\", \"officer\", \"officer\", \"officer\", \"officer\", \"officer\", \"officer\", \"officer\", \"officer\", \"officer\", \"officer\", \"officer\", \"officer\", \"officer\", \"offstreet\", \"offstreet\", \"ogrady\", \"ogrady\", \"ogrady\", \"oig\", \"okay\", \"okeefe\", \"okeefe\", \"oliver\", \"omnibus\", \"omnibus\", \"omnibus\", \"oncology\", \"onebedroom\", \"onebedroom\", \"onelane\", \"onestory\", \"onestory\", \"open\", \"open\", \"open\", \"open\", \"open\", \"open\", \"open\", \"open\", \"open\", \"open\", \"open\", \"open\", \"open\", \"open\", \"open\", \"open\", \"openlands\", \"openlands\", \"oper\", \"opera\", \"operator\", \"operator\", \"operator\", \"operator\", \"operator\", \"operator\", \"ophthalmology\", \"opportunity\", \"opportunity\", \"opportunity\", \"opportunity\", \"opportunity\", \"opportunity\", \"opportunity\", \"option\", \"option\", \"option\", \"option\", \"option\", \"option\", \"option\", \"option\", \"or201\", \"or201\", \"ordained\", \"order\", \"order\", \"order\", \"order\", \"order\", \"order\", \"order\", \"order\", \"order\", \"order\", \"order\", \"order\", \"order\", \"order\", \"order\", \"orderchange\", \"ordinance\", \"ordinance\", \"ordinance\", \"ordinance\", \"ordinance\", \"ordinance\", \"ordinance\", \"ordinance\", \"ordinance\", \"ordinance\", \"ordinance\", \"ordinance\", \"ordinance\", \"ordinance\", \"ordinances\", \"ordinances\", \"ordinances\", \"ordinances\", \"ordinary\", \"ordinary\", \"ordinary\", \"ordinary\", \"ordinary\", \"ordinaryextension\", \"oriole\", \"oriole\", \"orozco\", \"orozco\", \"orozco\", \"orozco\", \"orozco\", \"orthopedic\", \"outpatient\", \"outpatient\", \"outpatient\", \"oversight\", \"oversight\", \"oversight\", \"oversight\", \"oversight\", \"owner\", \"owner\", \"owner\", \"owner\", \"owner\", \"owner\", \"owner\", \"owner\", \"owner\", \"owner\", \"page\", \"page\", \"page\", \"page\", \"page\", \"page\", \"page\", \"page\", \"page\", \"page\", \"page\", \"page\", \"page\", \"page\", \"page\", \"page\", \"paradice\", \"paramedic\", \"paramedic\", \"parapet\", \"parent\", \"parent\", \"parent\", \"parent\", \"parent\", \"park\", \"park\", \"park\", \"park\", \"park\", \"park\", \"park\", \"park\", \"park\", \"park\", \"park\", \"park\", \"park\", \"park\", \"park\", \"park\", \"parking\", \"parking\", \"parking\", \"parking\", \"parking\", \"parking\", \"parking\", \"parkland\", \"part\", \"part\", \"part\", \"part\", \"part\", \"part\", \"part\", \"part\", \"part\", \"part\", \"part\", \"part\", \"part\", \"parttime\", \"parttime\", \"parttime\", \"paschensn\", \"pass\", \"pass\", \"pass\", \"pass\", \"pass\", \"pass\", \"pass\", \"pass\", \"pass\", \"pathway\", \"patient\", \"patient\", \"patient\", \"patient\", \"patient\", \"patient\", \"patient\", \"patientarrestee\", \"patientarrestee\", \"patientcentered\", \"patron\", \"patron\", \"pawn\", \"pay\", \"pay\", \"pay\", \"pay\", \"pay\", \"pay\", \"pay\", \"pay\", \"pay\", \"pay\", \"pay\", \"pay\", \"payable\", \"payable\", \"payable\", \"payable\", \"payable\", \"payer\", \"payment\", \"payment\", \"payment\", \"payment\", \"payment\", \"payment\", \"payment\", \"payment\", \"payment\", \"payment\", \"payor\", \"pbs\", \"pbv\", \"pbv\", \"pechous\", \"pediatrics\", \"pelletier\", \"penn\", \"pension\", \"pension\", \"pension\", \"pension\", \"pension\", \"pension\", \"people\", \"people\", \"people\", \"people\", \"people\", \"people\", \"people\", \"people\", \"peraica\", \"peraica\", \"peraica\", \"peraica\", \"percentages\", \"percy\", \"percy\", \"period\", \"period\", \"period\", \"period\", \"period\", \"period\", \"period\", \"period\", \"period\", \"period\", \"period\", \"period\", \"period\", \"permit\", \"permit\", \"permit\", \"permit\", \"permit\", \"permit\", \"permit\", \"permit\", \"permit\", \"permit\", \"permits\", \"pet\", \"pet\", \"pet\", \"petitioner\", \"petitioner\", \"petitioner\", \"pharmaceutical\", \"pharmaceutical\", \"pharmaceutical\", \"pharmaceutical\", \"pharmacy\", \"pharmacy\", \"pharmacy\", \"pharmacy\", \"phcc\", \"philadelphia\", \"philadelphia\", \"phrase\", \"physician\", \"physician\", \"physician\", \"physician\", \"pierre\", \"pierre\", \"pikarski\", \"pikarski\", \"pilsen\", \"pilsen\", \"pilsen\", \"pinelli\", \"pinelli\", \"plan\", \"plan\", \"plan\", \"plan\", \"plan\", \"plan\", \"plan\", \"plan\", \"plan\", \"plan\", \"plan\", \"plan\", \"plan\", \"plan\", \"plant\", \"plant\", \"plant\", \"plant\", \"plant\", \"plant\", \"planter\", \"planter\", \"planter\", \"planter\", \"player\", \"pleased\", \"pleasure\", \"plug\", \"plus\", \"pocument\", \"point\", \"point\", \"point\", \"point\", \"point\", \"police\", \"police\", \"police\", \"police\", \"police\", \"police\", \"police\", \"police\", \"police\", \"police\", \"police\", \"policy\", \"policy\", \"policy\", \"policy\", \"policy\", \"policy\", \"policy\", \"policy\", \"policy\", \"policy\", \"policy\", \"policy\", \"policy\", \"ponce\", \"population\", \"population\", \"population\", \"population\", \"population\", \"population\", \"population\", \"portion\", \"portion\", \"portion\", \"portion\", \"portion\", \"portion\", \"portion\", \"portion\", \"portion\", \"portion\", \"position\", \"position\", \"position\", \"position\", \"position\", \"position\", \"position\", \"position\", \"ppb\", \"pra\", \"pra\", \"pra\", \"pra\", \"practitioner\", \"prc\", \"preaward\", \"preferred\", \"preliminary\", \"preliminary\", \"preliminary\", \"preliminary\", \"preliminary\", \"preliminary\", \"preliminary\", \"premise\", \"premise\", \"premise\", \"premise\", \"premise\", \"premise\", \"prendergast\", \"preparation\", \"preparation\", \"preparation\", \"preparation\", \"preparation\", \"preproposal\", \"prerequisite\", \"prerequisite\", \"prescribed\", \"present\", \"present\", \"present\", \"present\", \"present\", \"present\", \"present\", \"present\", \"present\", \"present\", \"present\", \"present\", \"present\", \"present\", \"present\", \"present\", \"present\", \"present\", \"presentations\", \"presenter\", \"presenter\", \"presenter\", \"presenter\", \"presenter\", \"preservation\", \"preservation\", \"preservation\", \"preservation\", \"preservation\", \"preserve\", \"preserve\", \"preserve\", \"preserve\", \"preserve\", \"preserve\", \"preserve\", \"preserve\", \"preserve\", \"president\", \"president\", \"president\", \"president\", \"president\", \"president\", \"president\", \"president\", \"president\", \"president\", \"president\", \"president\", \"preventive\", \"preventive\", \"previous\", \"previous\", \"previous\", \"previous\", \"previous\", \"previous\", \"price\", \"price\", \"price\", \"price\", \"price\", \"price\", \"price\", \"priorpending\", \"privacy\", \"privacy\", \"privacy\", \"privacy\", \"privilege\", \"privilege\", \"privilege\", \"privilege\", \"problem\", \"problem\", \"problem\", \"problem\", \"problem\", \"problem\", \"proceed\", \"proceed\", \"proceed\", \"proceed\", \"proceed\", \"proceed\", \"proceed\", \"proceeding\", \"proceeding\", \"proceeding\", \"proceeding\", \"proceeding\", \"proceeding\", \"proceeding\", \"proceeding\", \"process\", \"process\", \"process\", \"process\", \"process\", \"process\", \"process\", \"process\", \"process\", \"process\", \"process\", \"processed\", \"processed\", \"processing\", \"processing\", \"processing\", \"processing\", \"procurement\", \"procurement\", \"procurement\", \"procurement\", \"procurement\", \"procurement\", \"procurement\", \"procurement\", \"procurement\", \"procurement\", \"procurements\", \"produced\", \"product\", \"product\", \"product\", \"product\", \"product\", \"product\", \"product\", \"product\", \"product\", \"product\", \"product\", \"profile\", \"profile\", \"profile\", \"profile\", \"program\", \"program\", \"program\", \"program\", \"program\", \"program\", \"program\", \"program\", \"program\", \"program\", \"program\", \"program\", \"prohibit\", \"prohibit\", \"prohibit\", \"prohibit\", \"prohibit\", \"prohibit\", \"prohibited\", \"project\", \"project\", \"project\", \"project\", \"project\", \"project\", \"project\", \"project\", \"project\", \"project\", \"project\", \"project\", \"project\", \"projectbased\", \"projectbased\", \"promotion\", \"promotion\", \"promotion\", \"promotion\", \"promulgate\", \"promulgate\", \"property\", \"property\", \"property\", \"property\", \"property\", \"property\", \"property\", \"property\", \"property\", \"property\", \"property\", \"property\", \"proposal\", \"proposal\", \"proposal\", \"proposal\", \"proposal\", \"proposal\", \"proposal\", \"proposal\", \"proposal\", \"proposal\", \"proposal\", \"propose\", \"propose\", \"propose\", \"propose\", \"propose\", \"propose\", \"propose\", \"propose\", \"propose\", \"propose\", \"propose\", \"propose\", \"propose\", \"propose\", \"propose\", \"proposing\", \"provide\", \"provide\", \"provide\", \"provide\", \"provide\", \"provide\", \"provide\", \"provide\", \"provide\", \"provide\", \"provide\", \"provide\", \"provide\", \"provide\", \"provide\", \"provide\", \"provide\", \"provide\", \"provide\", \"provident\", \"provident\", \"provident\", \"provident\", \"proviso\", \"pryor\", \"psi\", \"psych\", \"public\", \"public\", \"public\", \"public\", \"public\", \"public\", \"public\", \"public\", \"public\", \"public\", \"public\", \"public\", \"public\", \"public\", \"public\", \"public\", \"public\", \"public\", \"public\", \"public\", \"public\", \"public\", \"puiszis\", \"pump\", \"pump\", \"pump\", \"pump\", \"purchase\", \"purchase\", \"purchase\", \"purchase\", \"purchase\", \"purchase\", \"purchase\", \"purchase\", \"purchase\", \"purchase\", \"purchase\", \"purchase\", \"purchaser\", \"purchaser\", \"purpose\", \"purpose\", \"purpose\", \"purpose\", \"purpose\", \"purpose\", \"purpose\", \"purpose\", \"purpose\", \"purpose\", \"pursuant\", \"pursuant\", \"pursuant\", \"pursuant\", \"pursuant\", \"pursuant\", \"pursuant\", \"pursuant\", \"pursuant\", \"pursuant\", \"pursuant\", \"pursuant\", \"pursuant\", \"qildro\", \"quality\", \"quality\", \"quality\", \"quality\", \"quality\", \"quality\", \"quality\", \"quality\", \"quantities\", \"quantity\", \"quantity\", \"querrey\", \"question\", \"question\", \"question\", \"question\", \"question\", \"question\", \"question\", \"question\", \"question\", \"question\", \"question\", \"r98\", \"rad\", \"rad\", \"rad\", \"raguso\", \"raguso\", \"raguso\", \"raidbard\", \"railing\", \"ralph\", \"randall\", \"randall\", \"randall\", \"ratifies\", \"ratifies\", \"rausch\", \"raze\", \"re\", \"re\", \"read\", \"read\", \"read\", \"read\", \"read\", \"read\", \"read\", \"real\", \"real\", \"real\", \"real\", \"real\", \"real\", \"real\", \"real\", \"real\", \"real\", \"real\", \"real\", \"reappointment\", \"reappointment\", \"reappointment\", \"reappointment\", \"reappointment\", \"rear\", \"rear\", \"rear\", \"rear\", \"rear\", \"reasonable\", \"reasonable\", \"reasonable\", \"reassign\", \"reassigned\", \"rec\", \"rec\", \"recalculation\", \"recalculation\", \"receive\", \"receive\", \"receive\", \"receive\", \"receive\", \"receive\", \"receive\", \"receive\", \"receive\", \"receive\", \"receive\", \"receive\", \"receive\", \"receive\", \"receive\", \"receiving\", \"receptacles\", \"recess\", \"recess\", \"recess\", \"recess\", \"recess\", \"recess\", \"recess\", \"recess\", \"reciprocal\", \"reciprocal\", \"reciprocal\", \"reclamation\", \"reclamation\", \"reclamation\", \"reclamation\", \"recommend\", \"recommend\", \"recommend\", \"recommend\", \"recommend\", \"recommend\", \"recommend\", \"recommend\", \"recommend\", \"recommend\", \"recommend\", \"recommend\", \"recommend\", \"recommend\", \"recommend\", \"recommend\", \"recommendation\", \"recommendation\", \"recommendation\", \"recommendation\", \"recommendation\", \"recommendation\", \"recommendation\", \"recommendation\", \"recommendation\", \"recommendation\", \"recommendation\", \"recommendation\", \"recommendation\", \"recommendation\", \"recommendation\", \"reconvene\", \"reconvene\", \"reconvene\", \"reconvene\", \"reconvene\", \"reconvene\", \"reconvene\", \"record\", \"record\", \"record\", \"record\", \"record\", \"record\", \"record\", \"record\", \"record\", \"record\", \"record\", \"record\", \"record\", \"record\", \"recorder\", \"recorder\", \"recorder\", \"recruit\", \"recruit\", \"recruitment\", \"recruitment\", \"redevelopment\", \"redevelopment\", \"redevelopment\", \"redevelopment\", \"redevelopment\", \"redevelopment\", \"reduce\", \"reduce\", \"reduce\", \"reduce\", \"reduce\", \"reduce\", \"reduce\", \"reduce\", \"reduce\", \"refer\", \"refer\", \"refer\", \"refer\", \"refer\", \"refer\", \"refer\", \"refer\", \"refer\", \"refer\", \"refund\", \"refund\", \"refund\", \"refund\", \"refund\", \"refund\", \"refund\", \"refunds\", \"regard\", \"regard\", \"regard\", \"regard\", \"regard\", \"regard\", \"regard\", \"regard\", \"regard\", \"regard\", \"regard\", \"regard\", \"regard\", \"regard\", \"regard\", \"regenstein\", \"regular\", \"regular\", \"regular\", \"regular\", \"regular\", \"regular\", \"regular\", \"regular\", \"regular\", \"regular\", \"regular\", \"regular\", \"reichgelt\", \"reinstall\", \"reinstall\", \"reiterate\", \"rel\", \"rel\", \"rel\", \"rel\", \"relocated\", \"relocated\", \"remember\", \"removed\", \"render\", \"render\", \"render\", \"render\", \"reoccupancy\", \"repair\", \"repair\", \"repair\", \"repair\", \"repair\", \"repair\", \"repair\", \"repair\", \"repair\", \"repair\", \"repaired\", \"repairreplace\", \"repeal\", \"repeal\", \"repeal\", \"replace\", \"replace\", \"replace\", \"replace\", \"replace\", \"replace\", \"replacement\", \"replacement\", \"replacement\", \"replacement\", \"replacement\", \"replacement\", \"replacement\", \"replacement\", \"reply\", \"reply\", \"report\", \"report\", \"report\", \"report\", \"report\", \"report\", \"report\", \"report\", \"report\", \"report\", \"report\", \"report\", \"report\", \"report\", \"report\", \"report\", \"report\", \"report\", \"reportpdf\", \"representation\", \"representation\", \"representation\", \"representation\", \"representation\", \"request\", \"request\", \"request\", \"request\", \"request\", \"request\", \"request\", \"request\", \"request\", \"request\", \"request\", \"request\", \"request\", \"request\", \"request\", \"request\", \"request\", \"require\", \"require\", \"require\", \"require\", \"require\", \"require\", \"require\", \"require\", \"require\", \"require\", \"require\", \"require\", \"require\", \"require\", \"require\", \"require\", \"requirement\", \"requirement\", \"requirement\", \"requirement\", \"requirement\", \"requirement\", \"requirement\", \"requirement\", \"requirement\", \"requirement\", \"requirement\", \"requirement\", \"requirement\", \"requiring\", \"requisition\", \"requisition\", \"rescission\", \"residence\", \"residence\", \"residence\", \"residence\", \"residence\", \"residence\", \"residency\", \"resident\", \"resident\", \"resident\", \"resident\", \"resident\", \"resident\", \"resident\", \"resident\", \"residential\", \"residential\", \"residential\", \"residential\", \"residential\", \"residential\", \"residential\", \"resign\", \"resign\", \"resign\", \"resign\", \"resign\", \"resolution\", \"resolution\", \"resolution\", \"resolution\", \"resolution\", \"resolution\", \"resolution\", \"resolution\", \"resolution\", \"resolution\", \"resolution\", \"resolution\", \"resolution\", \"resolution\", \"resolution\", \"resolutions\", \"resolve\", \"resolve\", \"resolve\", \"resolve\", \"resolve\", \"resolve\", \"resolve\", \"resort\", \"resort\", \"resource\", \"resource\", \"resource\", \"resource\", \"resource\", \"resource\", \"resource\", \"resource\", \"resource\", \"resource\", \"resource\", \"resource\", \"resource\", \"respiratory\", \"respondent\", \"respondent\", \"respondent\", \"respondent\", \"respondent\", \"respondent\", \"respondents\", \"responding\", \"responsibility\", \"responsibility\", \"responsibility\", \"responsibility\", \"responsibility\", \"restate\", \"restate\", \"restate\", \"restate\", \"retail\", \"retail\", \"retail\", \"retail\", \"retail\", \"retail\", \"retire\", \"retire\", \"retire\", \"retire\", \"retire\", \"retirement\", \"retirement\", \"retirement\", \"retirement\", \"retirement\", \"retirement\", \"retirement\", \"return\", \"return\", \"return\", \"return\", \"return\", \"return\", \"return\", \"return\", \"return\", \"rev\", \"rev\", \"rev\", \"rev\", \"rev\", \"revenue\", \"revenue\", \"revenue\", \"revenue\", \"revenue\", \"revenue\", \"revenue\", \"revenue\", \"revenue\", \"reversionary\", \"review\", \"review\", \"review\", \"review\", \"review\", \"review\", \"review\", \"review\", \"review\", \"review\", \"review\", \"review\", \"review\", \"review\", \"review\", \"review\", \"review\", \"review\", \"reviewed\", \"reviewed\", \"reviewed\", \"revolving\", \"rezoning\", \"richardsonlowry\", \"richardsonlowry\", \"richardsonlowry\", \"rightofway\", \"rightofway\", \"rightofway\", \"rigorous\", \"riverboat\", \"riverboat\", \"riverboat\", \"rm45\", \"rm6\", \"rm65\", \"roads\", \"robb\", \"robbins\", \"robbins\", \"robbins\", \"rolando\", \"roll\", \"roll\", \"roll\", \"roll\", \"roll\", \"roll\", \"roll\", \"roll\", \"roll\", \"roll\", \"roll\", \"roll\", \"rolling\", \"rooflines\", \"rookery\", \"rothstein\", \"rothstein\", \"rout\", \"row\", \"row\", \"row\", \"rs1\", \"rt35\", \"rt4\", \"rt4\", \"ruiz\", \"ruiz\", \"ruiz\", \"ruiz\", \"rule\", \"rule\", \"rule\", \"rule\", \"rule\", \"rule\", \"rule\", \"rule\", \"rule\", \"rule\", \"rule\", \"rule\", \"ruth\", \"ruth\", \"ruth\", \"ruth\", \"ruth\", \"ruth\", \"ruth\", \"sacramento\", \"sacramento\", \"sacramento\", \"sacramento\", \"safety\", \"safety\", \"safety\", \"safety\", \"safety\", \"safety\", \"safety\", \"safety\", \"safety\", \"safety\", \"safety\", \"sagawau\", \"sahli\", \"sahli\", \"salary\", \"salary\", \"salary\", \"salary\", \"salary\", \"salary\", \"salary\", \"salary\", \"sale\", \"sale\", \"sale\", \"sale\", \"sale\", \"sale\", \"sale\", \"sale\", \"sale\", \"sale\", \"sale\", \"salon\", \"salon\", \"salon\", \"san\", \"san\", \"san\", \"sandblast\", \"santos\", \"santos\", \"santos\", \"santos\", \"say\", \"say\", \"say\", \"say\", \"say\", \"say\", \"say\", \"scaffold\", \"scaffold\", \"scattered\", \"scenario\", \"scenario\", \"sch\", \"sch\", \"scheinfeld\", \"scheinfeld\", \"scheinfeld\", \"schlee\", \"schmitz\", \"schneider\", \"schneider\", \"schneider\", \"schneider\", \"schneider\", \"schneider\", \"schneider\", \"school\", \"school\", \"school\", \"school\", \"school\", \"school\", \"school\", \"school\", \"school\", \"school\", \"schoolhouse\", \"schubert\", \"schubert\", \"score\", \"score\", \"score\", \"score\", \"scoring\", \"scott\", \"scott\", \"scott\", \"scott\", \"scott\", \"scott\", \"scott\", \"scott\", \"scott\", \"scott\", \"scudiero\", \"searl\", \"seating\", \"seating\", \"sec\", \"sec\", \"sec\", \"sec\", \"sec\", \"second\", \"second\", \"second\", \"second\", \"second\", \"second\", \"second\", \"second\", \"second\", \"second\", \"second\", \"second\", \"second\", \"second\", \"second\", \"second\", \"section\", \"section\", \"section\", \"section\", \"section\", \"section\", \"section\", \"section\", \"section\", \"section\", \"section\", \"section\", \"section\", \"section\", \"see\", \"see\", \"see\", \"see\", \"see\", \"see\", \"see\", \"see\", \"see\", \"see\", \"seed\", \"seem\", \"seem\", \"selection\", \"selection\", \"selection\", \"selection\", \"selection\", \"selection\", \"selfinsurance\", \"selfinsurance\", \"selfinsurance\", \"seller\", \"seller\", \"sending\", \"seniors\", \"sep\", \"sep\", \"septic\", \"septic\", \"septic\", \"ser\", \"ser\", \"ser\", \"ser\", \"sercye\", \"sercye\", \"sercye\", \"series\", \"series\", \"series\", \"series\", \"series\", \"series\", \"series\", \"serv\", \"serv\", \"serv\", \"serv\", \"serve\", \"serve\", \"serve\", \"serve\", \"serve\", \"serve\", \"serve\", \"serve\", \"serve\", \"service\", \"service\", \"service\", \"service\", \"service\", \"service\", \"service\", \"service\", \"service\", \"service\", \"service\", \"service\", \"service\", \"service\", \"service\", \"service\", \"service\", \"session\", \"session\", \"session\", \"session\", \"session\", \"session\", \"session\", \"session\", \"session\", \"session\", \"session\", \"session\", \"session\", \"set\", \"set\", \"set\", \"set\", \"set\", \"set\", \"set\", \"set\", \"set\", \"set\", \"set\", \"set\", \"setback\", \"setback\", \"setback\", \"setbacks\", \"settlement\", \"settlement\", \"settlement\", \"settlement\", \"settlement\", \"settlement\", \"settlement\", \"settlement\", \"settlement\", \"settlements\", \"severability\", \"sex\", \"sex\", \"sex\", \"sex\", \"sexual\", \"sexual\", \"sexual\", \"sexual\", \"sexual\", \"shah\", \"shah\", \"shah\", \"shai\", \"shakespeare\", \"shannon\", \"shannon\", \"shannon\", \"shannon\", \"shannon\", \"shannon\", \"shannon\", \"shaver\", \"sheahan\", \"sheahan\", \"sheriff\", \"sheriff\", \"sheriff\", \"sheriff\", \"sheriff\", \"sheriff\", \"sheriff\", \"shipping\", \"shop\", \"shop\", \"shop\", \"shop\", \"shop\", \"shop\", \"shop\", \"shopping\", \"shopping\", \"shore\", \"shore\", \"shore\", \"shore\", \"shore\", \"shore\", \"shore\", \"shorten\", \"shorthand\", \"shredding\", \"shure\", \"side\", \"side\", \"side\", \"side\", \"side\", \"side\", \"side\", \"side\", \"side\", \"sidewalk\", \"sidewalk\", \"sidewalk\", \"sidewalk\", \"sign\", \"sign\", \"sign\", \"sign\", \"sign\", \"sign\", \"sign\", \"sign\", \"sign\", \"sign\", \"sign\", \"signal\", \"signal\", \"signal\", \"sih\", \"silets\", \"silvestri\", \"silvestri\", \"silvestri\", \"silvestri\", \"silvestri\", \"sims\", \"sims\", \"sims\", \"sims\", \"sims\", \"sims\", \"sims\", \"single\", \"single\", \"single\", \"single\", \"single\", \"single\", \"single\", \"singleunit\", \"singleunit\", \"site\", \"site\", \"site\", \"site\", \"site\", \"site\", \"site\", \"site\", \"site\", \"site\", \"site\", \"site\", \"sixth\", \"sixth\", \"slab\", \"slipped\", \"slot\", \"sludge\", \"sluice\", \"smita\", \"smith\", \"smith\", \"smith\", \"smith\", \"smith\", \"smith\", \"smith\", \"smith\", \"smith\", \"smith\", \"snapshot\", \"social\", \"social\", \"social\", \"social\", \"social\", \"social\", \"social\", \"sodium\", \"software\", \"software\", \"software\", \"software\", \"software\", \"software\", \"software\", \"solicit\", \"solicit\", \"solicit\", \"solicit\", \"solids\", \"solution\", \"solution\", \"solution\", \"solution\", \"solution\", \"solution\", \"solution\", \"solution\", \"solution\", \"solution\", \"someone\", \"someone\", \"something\", \"something\", \"something\", \"sorry\", \"sort\", \"sort\", \"south\", \"south\", \"south\", \"south\", \"south\", \"south\", \"south\", \"south\", \"south\", \"south\", \"south\", \"space\", \"space\", \"space\", \"space\", \"space\", \"space\", \"space\", \"space\", \"space\", \"space\", \"spangler\", \"spanish\", \"spanish\", \"spd\", \"special\", \"special\", \"special\", \"special\", \"special\", \"special\", \"special\", \"special\", \"special\", \"special\", \"special\", \"special\", \"special\", \"special\", \"special\", \"specialist\", \"specialist\", \"specialist\", \"specialist\", \"specialist\", \"specialty\", \"specialty\", \"specialty\", \"specified\", \"specified\", \"specified\", \"speed\", \"speed\", \"sponsor\", \"sponsor\", \"sponsor\", \"sponsor\", \"sponsor\", \"sponsor\", \"sponsor\", \"sponsor\", \"sponsor\", \"sponsor\", \"sponsor\", \"spouse\", \"spouse\", \"spouse\", \"spouse\", \"spouse\", \"spousechild\", \"sprain\", \"spyropoulos\", \"spyropoulos\", \"spyropoulos\", \"staf\", \"staff\", \"staff\", \"staff\", \"staff\", \"staff\", \"staff\", \"staff\", \"staff\", \"staff\", \"staff\", \"staff\", \"staff\", \"staircase\", \"stall\", \"stall\", \"stamp\", \"stamp\", \"stand\", \"stand\", \"stand\", \"stand\", \"stand\", \"stand\", \"state\", \"state\", \"state\", \"state\", \"state\", \"state\", \"state\", \"state\", \"state\", \"state\", \"state\", \"state\", \"state\", \"state\", \"state\", \"state\", \"state\", \"state\", \"state\", \"stated\", \"stated\", \"statewide\", \"statewide\", \"statewide\", \"stats\", \"stats\", \"steele\", \"steele\", \"steele\", \"steele\", \"steele\", \"steele\", \"steele\", \"steele\", \"stephen\", \"stephen\", \"stephen\", \"stephen\", \"stephen\", \"stephen\", \"stephen\", \"stephen\", \"stephen\", \"sterile\", \"steven\", \"steven\", \"steven\", \"steven\", \"steven\", \"steven\", \"steven\", \"stickney\", \"stickney\", \"stickney\", \"stipend\", \"stop\", \"stop\", \"stop\", \"stopping\", \"storage\", \"storage\", \"storage\", \"storage\", \"storage\", \"storage\", \"storage\", \"storage\", \"storage\", \"store\", \"store\", \"store\", \"store\", \"store\", \"store\", \"storefront\", \"storefront\", \"storefront\", \"stormwater\", \"stormwater\", \"story\", \"story\", \"story\", \"story\", \"story\", \"story\", \"streams\", \"street\", \"street\", \"street\", \"street\", \"street\", \"street\", \"street\", \"street\", \"street\", \"street\", \"street\", \"street\", \"street\", \"street\", \"street\", \"street\", \"street\", \"street\", \"street\", \"street\", \"street\", \"strengths\", \"strengthtype\", \"strike\", \"strike\", \"strike\", \"strike\", \"striking\", \"striking\", \"stroger\", \"stroger\", \"stroger\", \"stroger\", \"stroger\", \"stroger\", \"stroger\", \"structure\", \"structure\", \"structure\", \"structure\", \"structure\", \"structure\", \"structure\", \"structure\", \"structure\", \"structure\", \"structure\", \"sts\", \"sts\", \"student\", \"student\", \"student\", \"student\", \"student\", \"studio\", \"studio\", \"studio\", \"studio\", \"stuff\", \"subcommittee\", \"subcommittee\", \"subcommittee\", \"subcommittee\", \"subcommittee\", \"subcommittee\", \"subcommittee\", \"subcommittee\", \"subcommittee\", \"subcommittee\", \"subcommittee\", \"subcontracting\", \"subject\", \"subject\", \"subject\", \"subject\", \"subject\", \"subject\", \"subject\", \"subject\", \"subject\", \"subject\", \"subject\", \"subject\", \"subject\", \"submit\", \"submit\", \"submit\", \"submit\", \"submit\", \"submit\", \"submit\", \"submit\", \"submit\", \"submit\", \"submit\", \"submit\", \"submit\", \"submit\", \"submit\", \"submit\", \"submit\", \"subrogation\", \"subrogation\", \"subsidize\", \"suburb\", \"suffredin\", \"suffredin\", \"suffredin\", \"suffredin\", \"suffredin\", \"suit\", \"suit\", \"suit\", \"suit\", \"sum\", \"sum\", \"sum\", \"sum\", \"sum\", \"sum\", \"sum\", \"summer\", \"summer\", \"summer\", \"summer\", \"summer\", \"summer\", \"sun\", \"sun\", \"sundays\", \"superintendent\", \"superintendent\", \"superintendent\", \"superintendent\", \"superintendent\", \"superintendent\", \"superintendent\", \"supply\", \"supply\", \"supply\", \"supply\", \"supply\", \"supply\", \"supply\", \"supply\", \"supply\", \"support\", \"support\", \"support\", \"support\", \"support\", \"support\", \"support\", \"support\", \"support\", \"support\", \"support\", \"supportive\", \"supportive\", \"supportive\", \"supportive\", \"supportive\", \"supportive\", \"sure\", \"sure\", \"surgery\", \"surgery\", \"surgery\", \"surgery\", \"surgery\", \"surgery\", \"surgical\", \"surgical\", \"surgical\", \"surgical\", \"survey\", \"survey\", \"survey\", \"survey\", \"survey\", \"survey\", \"sustain\", \"sustain\", \"sustain\", \"sustain\", \"sustain\", \"swain\", \"swain\", \"switchgear\", \"swoik\", \"syndrome\", \"syndrome\", \"system\", \"system\", \"system\", \"system\", \"system\", \"system\", \"system\", \"system\", \"system\", \"system\", \"system\", \"system\", \"system\", \"system\", \"system\", \"systemic\", \"tab\", \"tab\", \"tab\", \"tab\", \"tag\", \"take\", \"take\", \"take\", \"take\", \"take\", \"take\", \"take\", \"take\", \"take\", \"take\", \"take\", \"taking\", \"talented\", \"talk\", \"talk\", \"tamayo\", \"tamayo\", \"tamayo\", \"target\", \"target\", \"target\", \"target\", \"target\", \"target\", \"target\", \"target\", \"targeted\", \"tarp\", \"tarp\", \"tax\", \"tax\", \"tax\", \"tax\", \"tax\", \"tax\", \"tax\", \"tax\", \"tax\", \"taxation\", \"taxexempt\", \"team\", \"team\", \"team\", \"team\", \"team\", \"team\", \"techniques\", \"technology\", \"technology\", \"technology\", \"technology\", \"technology\", \"technology\", \"technology\", \"technology\", \"technology\", \"technology\", \"technology\", \"teleconference\", \"teleconference\", \"teleconference\", \"teleconference\", \"tell\", \"tell\", \"tendered\", \"term\", \"term\", \"term\", \"term\", \"term\", \"term\", \"term\", \"term\", \"term\", \"term\", \"term\", \"term\", \"terminal\", \"terminal\", \"terminal\", \"terminal\", \"terminal\", \"terminal\", \"terra\", \"terra\", \"testimony\", \"testimony\", \"testimony\", \"testimony\", \"testimony\", \"testimony\", \"testimony\", \"testimony\", \"testimony\", \"texture\", \"thank\", \"thank\", \"thank\", \"thats\", \"thereof\", \"thereof\", \"thereof\", \"thereof\", \"thereon\", \"thereon\", \"therese\", \"therese\", \"therese\", \"therese\", \"therese\", \"thereupon\", \"thereupon\", \"theyre\", \"thicken\", \"thing\", \"thing\", \"thing\", \"think\", \"think\", \"thinking\", \"thirtysix\", \"thorough\", \"threats\", \"threebedroom\", \"threecar\", \"threecar\", \"threestory\", \"threestory\", \"threestory\", \"threestory\", \"threeunit\", \"threeunit\", \"throughput\", \"thru\", \"thru\", \"thru\", \"thru\", \"thru\", \"thursday\", \"thursday\", \"thursday\", \"thursday\", \"thursday\", \"thursday\", \"thursday\", \"thursday\", \"thursday\", \"thursday\", \"thursday\", \"ticket\", \"ticket\", \"tif\", \"tif\", \"tif\", \"tif\", \"tif\", \"time\", \"time\", \"time\", \"time\", \"time\", \"time\", \"time\", \"time\", \"time\", \"time\", \"time\", \"time\", \"time\", \"time\", \"time\", \"time\", \"time\", \"timothy\", \"timothy\", \"timothy\", \"timothy\", \"timothy\", \"timothy\", \"timothy\", \"timothy\", \"titled\", \"tobacco\", \"tobacco\", \"tobacco\", \"tobacco\", \"tobolski\", \"tobolski\", \"tobolski\", \"tobolski\", \"today\", \"today\", \"today\", \"today\", \"today\", \"today\", \"today\", \"toia\", \"toni\", \"toni\", \"toni\", \"toni\", \"toni\", \"toni\", \"toni\", \"total\", \"total\", \"total\", \"total\", \"total\", \"total\", \"total\", \"total\", \"total\", \"total\", \"total\", \"total\", \"total\", \"tow\", \"tow\", \"tow\", \"townhouse\", \"townhouse\", \"township\", \"township\", \"township\", \"township\", \"traction\", \"traction\", \"trafficking\", \"trails\", \"trailside\", \"trained\", \"trans\", \"transaction\", \"transaction\", \"transaction\", \"transaction\", \"transaction\", \"transcribed\", \"transition\", \"transition\", \"transition\", \"transition\", \"transition\", \"transition\", \"transmit\", \"transmit\", \"transmit\", \"transmit\", \"transmittal\", \"transmittal\", \"transmittal\", \"transmitting\", \"transom\", \"transportation\", \"transportation\", \"transportation\", \"transportation\", \"transportation\", \"transportation\", \"transportation\", \"transportation\", \"tree\", \"tree\", \"tree\", \"tree\", \"tree\", \"tree\", \"trees\", \"tremendous\", \"triangle\", \"triangle\", \"tripped\", \"trustee\", \"trustee\", \"trustee\", \"trustee\", \"trustee\", \"trustee\", \"trustee\", \"try\", \"try\", \"try\", \"tuckpoint\", \"tuckpointing\", \"tuckpointing\", \"tutor\", \"twelve\", \"twelve\", \"twelve\", \"twelve\", \"twentysix\", \"twobedroom\", \"twocar\", \"twocar\", \"twoflat\", \"twoflat\", \"twostory\", \"twostory\", \"twostory\", \"typestrength\", \"ucan\", \"uhlich\", \"uic\", \"uic\", \"unanimous\", \"unanimous\", \"unanimous\", \"uncompensated\", \"underage\", \"understands\", \"uninsured\", \"uninsured\", \"unit\", \"unit\", \"unit\", \"unit\", \"unit\", \"unit\", \"unit\", \"unit\", \"unit\", \"unit\", \"unit\", \"unopposed\", \"unrestricted\", \"unused\", \"unused\", \"unused\", \"update\", \"update\", \"update\", \"update\", \"update\", \"update\", \"update\", \"update\", \"update\", \"update\", \"update\", \"update\", \"update\", \"urging\", \"usdc\", \"use\", \"use\", \"use\", \"use\", \"use\", \"use\", \"use\", \"use\", \"use\", \"use\", \"use\", \"use\", \"use\", \"use\", \"use\", \"use\", \"use\", \"use\", \"vacancies\", \"vacancy\", \"vacancy\", \"vacancy\", \"vacancy\", \"vacancy\", \"vacancy\", \"vacantabandoned\", \"valencia\", \"valencia\", \"validate\", \"validate\", \"value\", \"value\", \"value\", \"value\", \"value\", \"value\", \"value\", \"varianceadjustment\", \"variances\", \"variation\", \"variation\", \"variation\", \"variation\", \"vawa\", \"vehicle\", \"vehicle\", \"vehicle\", \"vehicle\", \"vehicle\", \"vehicle\", \"vehicle\", \"vehicle\", \"vehicle\", \"vendor\", \"vendor\", \"vendor\", \"vendor\", \"vendor\", \"vendor\", \"vendor\", \"vendor\", \"vendor\", \"venues\", \"verified\", \"vice\", \"vice\", \"vice\", \"vice\", \"vice\", \"vice\", \"vice\", \"vice\", \"vice\", \"vice\", \"vicechair\", \"vicechair\", \"vicechair\", \"vickrey\", \"vickrey\", \"victim\", \"victim\", \"viewpdf\", \"village\", \"village\", \"village\", \"village\", \"village\", \"village\", \"village\", \"village\", \"village\", \"village\", \"village\", \"vinyl\", \"violated\", \"violence\", \"violence\", \"violence\", \"violence\", \"violence\", \"visit\", \"visit\", \"visit\", \"visit\", \"visit\", \"visit\", \"visit\", \"voca\", \"vocational\", \"voice\", \"voice\", \"voice\", \"voice\", \"voice\", \"voice\", \"voice\", \"voice\", \"vollenkatz\", \"vote\", \"vote\", \"vote\", \"vote\", \"vote\", \"vote\", \"vote\", \"vote\", \"vote\", \"vote\", \"vote\", \"vote\", \"vote\", \"vote\", \"voter\", \"voter\", \"vulgar\", \"vulgar\", \"vulgar\", \"wage\", \"wage\", \"wage\", \"wage\", \"wage\", \"wage\", \"waived\", \"walls\", \"want\", \"want\", \"want\", \"want\", \"ward\", \"ward\", \"ward\", \"ward\", \"ward\", \"ward\", \"ward\", \"ward\", \"ward\", \"ward\", \"ward\", \"wardi\", \"warrant\", \"warsawsky\", \"water\", \"water\", \"water\", \"water\", \"water\", \"water\", \"water\", \"water\", \"water\", \"water\", \"watershed\", \"watershed\", \"watkins\", \"watkins\", \"waukegan\", \"waveland\", \"way\", \"way\", \"way\", \"way\", \"way\", \"way\", \"way\", \"wbe\", \"wbe\", \"wbe\", \"wbe\", \"wbe\", \"weakness\", \"week\", \"week\", \"week\", \"week\", \"week\", \"wei\", \"weisz\", \"wells\", \"wesner\", \"wesner\", \"west\", \"west\", \"west\", \"west\", \"west\", \"west\", \"west\", \"west\", \"west\", \"west\", \"west\", \"west\", \"west\", \"west\", \"west\", \"wetlands\", \"weve\", \"whereas\", \"whereas\", \"whereas\", \"whereas\", \"whereas\", \"whereas\", \"whereas\", \"whereas\", \"widow\", \"widow\", \"widower\", \"widower\", \"wiggins\", \"wiggins\", \"wiggins\", \"williams\", \"williams\", \"williams\", \"williams\", \"williams\", \"williams\", \"williams\", \"williams\", \"window\", \"window\", \"window\", \"window\", \"window\", \"window\", \"window\", \"winkler\", \"winkler\", \"winkler\", \"withdrawwaiting\", \"wkr\", \"wolff\", \"wolff\", \"word\", \"word\", \"word\", \"word\", \"word\", \"word\", \"word\", \"work\", \"work\", \"work\", \"work\", \"work\", \"work\", \"work\", \"work\", \"work\", \"work\", \"work\", \"work\", \"workman\", \"workplace\", \"workplace\", \"wright\", \"wright\", \"wright\", \"write\", \"write\", \"write\", \"write\", \"write\", \"write\", \"write\", \"write\", \"write\", \"write\", \"wrp\", \"yard\", \"yard\", \"yard\", \"yard\", \"yards\", \"yates\", \"yates\", \"yea\", \"yea\", \"yea\", \"yea\", \"yea\", \"yea\", \"year\", \"year\", \"year\", \"year\", \"year\", \"year\", \"year\", \"year\", \"year\", \"year\", \"year\", \"year\", \"year\", \"year\", \"year\", \"year\", \"year\", \"yeas\", \"yeas\", \"yeas\", \"yeas\", \"yeas\", \"yelar\", \"yelar\", \"yesterday\", \"young\", \"young\", \"young\", \"young\", \"young\", \"young\", \"young\", \"young\", \"ytd\", \"ytd\", \"ytd\", \"zba\", \"zba\", \"zba\", \"zero\", \"zero\", \"zero\", \"zero\", \"zero\", \"zimmerman\", \"zone\", \"zone\", \"zone\", \"zone\", \"zone\", \"zone\", \"zone\", \"zone\", \"zone\", \"zones\", \"zoological\"]}, \"R\": 30, \"lambda.step\": 0.01, \"plot.opts\": {\"xlab\": \"PC1\", \"ylab\": \"PC2\"}, \"topic.order\": [1, 2, 3, 4, 5, 6, 7, 8, 9, 10, 11, 12, 13, 14, 15, 16, 17, 18, 19, 20, 21, 22, 23, 24, 25, 26]};\n",
       "\n",
       "function LDAvis_load_lib(url, callback){\n",
       "  var s = document.createElement('script');\n",
       "  s.src = url;\n",
       "  s.async = true;\n",
       "  s.onreadystatechange = s.onload = callback;\n",
       "  s.onerror = function(){console.warn(\"failed to load library \" + url);};\n",
       "  document.getElementsByTagName(\"head\")[0].appendChild(s);\n",
       "}\n",
       "\n",
       "if(typeof(LDAvis) !== \"undefined\"){\n",
       "   // already loaded: just create the visualization\n",
       "   !function(LDAvis){\n",
       "       new LDAvis(\"#\" + \"ldavis_el286301406323492712885132333676\", ldavis_el286301406323492712885132333676_data);\n",
       "   }(LDAvis);\n",
       "}else if(typeof define === \"function\" && define.amd){\n",
       "   // require.js is available: use it to load d3/LDAvis\n",
       "   require.config({paths: {d3: \"https://cdnjs.cloudflare.com/ajax/libs/d3/3.5.5/d3.min\"}});\n",
       "   require([\"d3\"], function(d3){\n",
       "      window.d3 = d3;\n",
       "      LDAvis_load_lib(\"https://cdn.rawgit.com/bmabey/pyLDAvis/files/ldavis.v1.0.0.js\", function(){\n",
       "        new LDAvis(\"#\" + \"ldavis_el286301406323492712885132333676\", ldavis_el286301406323492712885132333676_data);\n",
       "      });\n",
       "    });\n",
       "}else{\n",
       "    // require.js not available: dynamically load d3 & LDAvis\n",
       "    LDAvis_load_lib(\"https://cdnjs.cloudflare.com/ajax/libs/d3/3.5.5/d3.min.js\", function(){\n",
       "         LDAvis_load_lib(\"https://cdn.rawgit.com/bmabey/pyLDAvis/files/ldavis.v1.0.0.js\", function(){\n",
       "                 new LDAvis(\"#\" + \"ldavis_el286301406323492712885132333676\", ldavis_el286301406323492712885132333676_data);\n",
       "            })\n",
       "         });\n",
       "}\n",
       "</script>"
      ],
      "text/plain": [
       "<IPython.core.display.HTML object>"
      ]
     },
     "execution_count": 20,
     "metadata": {},
     "output_type": "execute_result"
    }
   ],
   "source": [
    "from tmtoolkit.topicmod.visualize import parameters_for_ldavis\n",
    "\n",
    "ldavis_params = parameters_for_ldavis(best_tm.topic_word_,\n",
    "                                      best_tm.doc_topic_,\n",
    "                                      dtm,\n",
    "                                      vocab)\n",
    "try:\n",
    "    import pyLDAvis\n",
    "except ModuleNotFoundError:\n",
    "    !pip install pyldavis\n",
    "    import pyLDAvis\n",
    "\n",
    "pyLDAvis.enable_notebook()\n",
    "vis_data = pyLDAvis.prepare(**ldavis_params)\n",
    "pyLDAvis.display(vis_data)"
   ]
  },
  {
   "cell_type": "markdown",
   "metadata": {},
   "source": [
    "Writing Topics visualization to [topicsviz.html](topicsviz.html)"
   ]
  },
  {
   "cell_type": "code",
   "execution_count": 21,
   "metadata": {},
   "outputs": [],
   "source": [
    "viz = pyLDAvis.prepared_data_to_html(vis_data)\n",
    "\n",
    "with open('topicsviz.html', 'w') as vizfile:\n",
    "    vizfile.write(viz)"
   ]
  },
  {
   "cell_type": "markdown",
   "metadata": {
    "colab_type": "text",
    "id": "wzgrRDhx0vie"
   },
   "source": [
    "### Generating labels for topics\n",
    "\n",
    "In topic modeling, topics are numbered because they're *abstract* – they're simply a probability distribution across all words in the vocabulary. Still, it's useful to give them labels for better identification. The function [generate_topic_labels_from_top_words()](api.rst#tmtoolkit.topicmod.model_stats.generate_topic_labels_from_top_words) is very useful for that, as it finds labels according to the most \"relevant\" words in each topic. We'll later see how we can identify the most relevant words per topic using a special [relevance statistic](#Topic-word-relevance). Note that you can adjust the weight of the relevance measure for the ranking by using the parameter `lambda_` which is in range $[0, 1]$.\n",
    "\n",
    "The function requires at least the topic-word and document-topic distributions from the model, the document lengths and the vocabulary. It then finds the minimum number of relevant words that uniquely label each topic. You can also use a fixed number for that minimum number with the parameter `n_words`."
   ]
  },
  {
   "cell_type": "code",
   "execution_count": 22,
   "metadata": {
    "colab": {
     "base_uri": "https://localhost:8080/",
     "height": 139
    },
    "colab_type": "code",
    "id": "yD1Ut4t20vik",
    "outputId": "7e0ab9f6-b205-4f40-dc1c-a5dcda70d8c6",
    "pycharm": {
     "is_executing": false
    }
   },
   "outputs": [
    {
     "data": {
      "text/plain": [
       "array(['commissioner_attorney_county', 'school_student_support',\n",
       "       'application_zone_applicant', 'permit_avenue_disable',\n",
       "       'med_death_annuity', 'interior_historic_mechanical',\n",
       "       'maintain_adjacent_premise', 'compliance_information_director',\n",
       "       'health_hospital_thru', 'service_total_inc', 'tax_bond_project',\n",
       "       'propose_plan_locate', 'housing_cha_resolution',\n",
       "       'county_cook_whereas', 'contract_board_increase',\n",
       "       'commissioner_preserve_forest', 'board_member_motion',\n",
       "       'contractor_amendment_demolition', 'budget_victim_committee',\n",
       "       'representation_respondent_minor', 'ave_residential_common',\n",
       "       'attorney_payment_submit', 'quality_patient_health',\n",
       "       'trustee_annuity_benefit', 'amount_reclamation_water',\n",
       "       'get_go_think'], dtype='<U31')"
      ]
     },
     "execution_count": 22,
     "metadata": {},
     "output_type": "execute_result"
    }
   ],
   "source": [
    "from tmtoolkit.bow.bow_stats import doc_lengths\n",
    "from tmtoolkit.topicmod.model_stats import generate_topic_labels_from_top_words\n",
    "\n",
    "doc_lengths = doc_lengths(dtm)\n",
    "topic_labels = generate_topic_labels_from_top_words(\n",
    "    best_tm.topic_word_,\n",
    "    best_tm.doc_topic_,\n",
    "    doc_lengths,\n",
    "    vocab,\n",
    "    lambda_=0.6,\n",
    "    n_words=3,\n",
    "    labels_format='{topwords}'\n",
    ")\n",
    "\n",
    "topic_labels"
   ]
  },
  {
   "cell_type": "markdown",
   "metadata": {
    "colab_type": "text",
    "id": "mxsMlY1p0viq"
   },
   "source": [
    "As we can see, two words are necessary to label each topic uniquely. By default, each label is prefixed with a number. You can change that with the parameter `labels_format`.\n",
    "\n",
    "Let's have a look at the top words for a specific topic. We can use [ldamodel_top_topic_words()](api.rst#tmtoolkit.topicmod.model_io.ldamodel_top_topic_words) for that from the module [topicmod.model_io](api.rst#module-tmtoolkit.topicmod.model_io), which we will have a closer look at [later](#Displaying-and-exporting-topic-modeling-results):"
   ]
  },
  {
   "cell_type": "code",
   "execution_count": 23,
   "metadata": {
    "colab": {
     "base_uri": "https://localhost:8080/",
     "height": 129
    },
    "colab_type": "code",
    "id": "tdViR68F0vir",
    "outputId": "b8f95d93-9096-43e8-ae05-ac08752cb866",
    "pycharm": {
     "is_executing": false
    }
   },
   "outputs": [
    {
     "data": {
      "text/html": [
       "<div>\n",
       "<style scoped>\n",
       "    .dataframe tbody tr th:only-of-type {\n",
       "        vertical-align: middle;\n",
       "    }\n",
       "\n",
       "    .dataframe tbody tr th {\n",
       "        vertical-align: top;\n",
       "    }\n",
       "\n",
       "    .dataframe thead th {\n",
       "        text-align: right;\n",
       "    }\n",
       "</style>\n",
       "<table border=\"1\" class=\"dataframe\">\n",
       "  <thead>\n",
       "    <tr style=\"text-align: right;\">\n",
       "      <th></th>\n",
       "      <th>rank_1</th>\n",
       "      <th>rank_2</th>\n",
       "      <th>rank_3</th>\n",
       "      <th>rank_4</th>\n",
       "      <th>rank_5</th>\n",
       "      <th>rank_6</th>\n",
       "      <th>rank_7</th>\n",
       "      <th>rank_8</th>\n",
       "      <th>rank_9</th>\n",
       "      <th>rank_10</th>\n",
       "    </tr>\n",
       "    <tr>\n",
       "      <th>topic</th>\n",
       "      <th></th>\n",
       "      <th></th>\n",
       "      <th></th>\n",
       "      <th></th>\n",
       "      <th></th>\n",
       "      <th></th>\n",
       "      <th></th>\n",
       "      <th></th>\n",
       "      <th></th>\n",
       "      <th></th>\n",
       "    </tr>\n",
       "  </thead>\n",
       "  <tbody>\n",
       "    <tr>\n",
       "      <th>commissioner_attorney_county</th>\n",
       "      <td>commissioner (0.04314)</td>\n",
       "      <td>county (0.03629)</td>\n",
       "      <td>attorney (0.02909)</td>\n",
       "      <td>cook (0.02783)</td>\n",
       "      <td>state (0.02119)</td>\n",
       "      <td>case (0.01685)</td>\n",
       "      <td>chairman (0.01655)</td>\n",
       "      <td>motion (0.0163)</td>\n",
       "      <td>subcommittee (0.01239)</td>\n",
       "      <td>litigation (0.01191)</td>\n",
       "    </tr>\n",
       "    <tr>\n",
       "      <th>school_student_support</th>\n",
       "      <td>school (0.02978)</td>\n",
       "      <td>support (0.023)</td>\n",
       "      <td>community (0.0228)</td>\n",
       "      <td>program (0.0174)</td>\n",
       "      <td>student (0.01685)</td>\n",
       "      <td>family (0.01297)</td>\n",
       "      <td>serve (0.01052)</td>\n",
       "      <td>include (0.01005)</td>\n",
       "      <td>high (0.009534)</td>\n",
       "      <td>year (0.009416)</td>\n",
       "    </tr>\n",
       "    <tr>\n",
       "      <th>application_zone_applicant</th>\n",
       "      <td>application (0.03833)</td>\n",
       "      <td>zone (0.03662)</td>\n",
       "      <td>applicant (0.03411)</td>\n",
       "      <td>subject (0.02958)</td>\n",
       "      <td>district (0.02919)</td>\n",
       "      <td>owner (0.02805)</td>\n",
       "      <td>premise (0.02448)</td>\n",
       "      <td>affect (0.02422)</td>\n",
       "      <td>foot (0.022)</td>\n",
       "      <td>reduce (0.01876)</td>\n",
       "    </tr>\n",
       "    <tr>\n",
       "      <th>permit_avenue_disable</th>\n",
       "      <td>avenue (0.08037)</td>\n",
       "      <td>permit (0.07612)</td>\n",
       "      <td>street (0.05158)</td>\n",
       "      <td>west (0.03694)</td>\n",
       "      <td>disable (0.03534)</td>\n",
       "      <td>park (0.03004)</td>\n",
       "      <td>south (0.02915)</td>\n",
       "      <td>north (0.02687)</td>\n",
       "      <td>side (0.02436)</td>\n",
       "      <td>zone (0.02388)</td>\n",
       "    </tr>\n",
       "    <tr>\n",
       "      <th>med_death_annuity</th>\n",
       "      <td>annuity (0.02314)</td>\n",
       "      <td>employee (0.02308)</td>\n",
       "      <td>update (0.01771)</td>\n",
       "      <td>date (0.01635)</td>\n",
       "      <td>death (0.01629)</td>\n",
       "      <td>service (0.01552)</td>\n",
       "      <td>hold (0.01535)</td>\n",
       "      <td>med (0.01517)</td>\n",
       "      <td>work (0.01378)</td>\n",
       "      <td>disability (0.01321)</td>\n",
       "    </tr>\n",
       "    <tr>\n",
       "      <th>interior_historic_mechanical</th>\n",
       "      <td>work (0.0288)</td>\n",
       "      <td>district (0.02668)</td>\n",
       "      <td>interior (0.02553)</td>\n",
       "      <td>permit (0.02373)</td>\n",
       "      <td>historic (0.02283)</td>\n",
       "      <td>new (0.02185)</td>\n",
       "      <td>date (0.02119)</td>\n",
       "      <td>mechanical (0.02023)</td>\n",
       "      <td>exist (0.0196)</td>\n",
       "      <td>exterior (0.01921)</td>\n",
       "    </tr>\n",
       "    <tr>\n",
       "      <th>maintain_adjacent_premise</th>\n",
       "      <td>public (0.06925)</td>\n",
       "      <td>maintain (0.06699)</td>\n",
       "      <td>premise (0.05613)</td>\n",
       "      <td>adjacent (0.05554)</td>\n",
       "      <td>know (0.04146)</td>\n",
       "      <td>avenue (0.03421)</td>\n",
       "      <td>locate (0.03316)</td>\n",
       "      <td>street (0.03239)</td>\n",
       "      <td>north (0.03017)</td>\n",
       "      <td>west (0.02738)</td>\n",
       "    </tr>\n",
       "    <tr>\n",
       "      <th>compliance_information_director</th>\n",
       "      <td>county (0.02254)</td>\n",
       "      <td>committee (0.01541)</td>\n",
       "      <td>director (0.01408)</td>\n",
       "      <td>cook (0.0139)</td>\n",
       "      <td>compliance (0.01362)</td>\n",
       "      <td>report (0.01278)</td>\n",
       "      <td>information (0.01177)</td>\n",
       "      <td>provide (0.01163)</td>\n",
       "      <td>program (0.01096)</td>\n",
       "      <td>page (0.01025)</td>\n",
       "    </tr>\n",
       "    <tr>\n",
       "      <th>health_hospital_thru</th>\n",
       "      <td>health (0.0439)</td>\n",
       "      <td>cook (0.02647)</td>\n",
       "      <td>contract (0.02506)</td>\n",
       "      <td>county (0.02468)</td>\n",
       "      <td>service (0.02302)</td>\n",
       "      <td>hospital (0.02154)</td>\n",
       "      <td>request (0.01778)</td>\n",
       "      <td>care (0.01509)</td>\n",
       "      <td>page (0.01497)</td>\n",
       "      <td>system (0.0144)</td>\n",
       "    </tr>\n",
       "    <tr>\n",
       "      <th>service_total_inc</th>\n",
       "      <td>service (0.02636)</td>\n",
       "      <td>inc (0.01653)</td>\n",
       "      <td>total (0.01586)</td>\n",
       "      <td>chicago (0.01485)</td>\n",
       "      <td>illinois (0.01061)</td>\n",
       "      <td>approve (0.009923)</td>\n",
       "      <td>year (0.008855)</td>\n",
       "      <td>june (0.008714)</td>\n",
       "      <td>item (0.008133)</td>\n",
       "      <td>date (0.00774)</td>\n",
       "    </tr>\n",
       "    <tr>\n",
       "      <th>tax_bond_project</th>\n",
       "      <td>tax (0.0195)</td>\n",
       "      <td>project (0.01852)</td>\n",
       "      <td>area (0.01646)</td>\n",
       "      <td>city (0.01558)</td>\n",
       "      <td>ordinance (0.0144)</td>\n",
       "      <td>service (0.01438)</td>\n",
       "      <td>bond (0.01357)</td>\n",
       "      <td>agreement (0.01227)</td>\n",
       "      <td>propose (0.01138)</td>\n",
       "      <td>authorize (0.0106)</td>\n",
       "    </tr>\n",
       "    <tr>\n",
       "      <th>propose_plan_locate</th>\n",
       "      <td>propose (0.02844)</td>\n",
       "      <td>plan (0.02485)</td>\n",
       "      <td>street (0.02087)</td>\n",
       "      <td>locate (0.01983)</td>\n",
       "      <td>chicago (0.019)</td>\n",
       "      <td>property (0.01815)</td>\n",
       "      <td>development (0.01607)</td>\n",
       "      <td>west (0.01577)</td>\n",
       "      <td>avenue (0.01552)</td>\n",
       "      <td>north (0.01426)</td>\n",
       "    </tr>\n",
       "    <tr>\n",
       "      <th>housing_cha_resolution</th>\n",
       "      <td>housing (0.02601)</td>\n",
       "      <td>board (0.02345)</td>\n",
       "      <td>cha (0.02171)</td>\n",
       "      <td>commissioner (0.02071)</td>\n",
       "      <td>contract (0.01929)</td>\n",
       "      <td>resolution (0.01653)</td>\n",
       "      <td>authority (0.01526)</td>\n",
       "      <td>chicago (0.01508)</td>\n",
       "      <td>item (0.01391)</td>\n",
       "      <td>service (0.01132)</td>\n",
       "    </tr>\n",
       "    <tr>\n",
       "      <th>county_cook_whereas</th>\n",
       "      <td>county (0.06329)</td>\n",
       "      <td>cook (0.04149)</td>\n",
       "      <td>property (0.02772)</td>\n",
       "      <td>whereas (0.02217)</td>\n",
       "      <td>board (0.02119)</td>\n",
       "      <td>commissioner (0.01879)</td>\n",
       "      <td>resolution (0.01441)</td>\n",
       "      <td>class (0.013)</td>\n",
       "      <td>president (0.01207)</td>\n",
       "      <td>ordinance (0.01027)</td>\n",
       "    </tr>\n",
       "    <tr>\n",
       "      <th>contract_board_increase</th>\n",
       "      <td>contract (0.0526)</td>\n",
       "      <td>board (0.04159)</td>\n",
       "      <td>service (0.01716)</td>\n",
       "      <td>increase (0.014)</td>\n",
       "      <td>request (0.01383)</td>\n",
       "      <td>chicago (0.0137)</td>\n",
       "      <td>period (0.01361)</td>\n",
       "      <td>account (0.01274)</td>\n",
       "      <td>agreement (0.01258)</td>\n",
       "      <td>commissioner (0.01185)</td>\n",
       "    </tr>\n",
       "    <tr>\n",
       "      <th>commissioner_preserve_forest</th>\n",
       "      <td>commissioner (0.04254)</td>\n",
       "      <td>board (0.02497)</td>\n",
       "      <td>county (0.02145)</td>\n",
       "      <td>preserve (0.0192)</td>\n",
       "      <td>cook (0.01884)</td>\n",
       "      <td>district (0.01869)</td>\n",
       "      <td>forest (0.01599)</td>\n",
       "      <td>motion (0.01309)</td>\n",
       "      <td>committee (0.01073)</td>\n",
       "      <td>public (0.01073)</td>\n",
       "    </tr>\n",
       "    <tr>\n",
       "      <th>board_member_motion</th>\n",
       "      <td>board (0.06968)</td>\n",
       "      <td>member (0.03961)</td>\n",
       "      <td>motion (0.02913)</td>\n",
       "      <td>meeting (0.01754)</td>\n",
       "      <td>second (0.01651)</td>\n",
       "      <td>state (0.01639)</td>\n",
       "      <td>move (0.01625)</td>\n",
       "      <td>chairman (0.01552)</td>\n",
       "      <td>approve (0.01546)</td>\n",
       "      <td>illinois (0.01221)</td>\n",
       "    </tr>\n",
       "    <tr>\n",
       "      <th>contractor_amendment_demolition</th>\n",
       "      <td>board (0.02242)</td>\n",
       "      <td>commissioner (0.02079)</td>\n",
       "      <td>meeting (0.01314)</td>\n",
       "      <td>chicago (0.01118)</td>\n",
       "      <td>contractor (0.011)</td>\n",
       "      <td>amendment (0.01067)</td>\n",
       "      <td>section (0.01019)</td>\n",
       "      <td>business (0.01014)</td>\n",
       "      <td>authorize (0.01005)</td>\n",
       "      <td>follow (0.00984)</td>\n",
       "    </tr>\n",
       "    <tr>\n",
       "      <th>budget_victim_committee</th>\n",
       "      <td>meeting (0.02022)</td>\n",
       "      <td>committee (0.01995)</td>\n",
       "      <td>chicago (0.01696)</td>\n",
       "      <td>illinois (0.0168)</td>\n",
       "      <td>budget (0.01341)</td>\n",
       "      <td>fund (0.01139)</td>\n",
       "      <td>service (0.01038)</td>\n",
       "      <td>board (0.009926)</td>\n",
       "      <td>report (0.009566)</td>\n",
       "      <td>motion (0.009463)</td>\n",
       "    </tr>\n",
       "    <tr>\n",
       "      <th>representation_respondent_minor</th>\n",
       "      <td>representation (0.06567)</td>\n",
       "      <td>respondent (0.06431)</td>\n",
       "      <td>minor (0.06146)</td>\n",
       "      <td>case (0.05689)</td>\n",
       "      <td>fee (0.04345)</td>\n",
       "      <td>indigent (0.03806)</td>\n",
       "      <td>service (0.03746)</td>\n",
       "      <td>name (0.03622)</td>\n",
       "      <td>render (0.03375)</td>\n",
       "      <td>legal (0.03356)</td>\n",
       "    </tr>\n",
       "    <tr>\n",
       "      <th>ave_residential_common</th>\n",
       "      <td>district (0.03578)</td>\n",
       "      <td>applicant (0.02493)</td>\n",
       "      <td>residential (0.02347)</td>\n",
       "      <td>ave (0.02132)</td>\n",
       "      <td>building (0.01999)</td>\n",
       "      <td>llc (0.01955)</td>\n",
       "      <td>unit (0.01944)</td>\n",
       "      <td>space (0.01822)</td>\n",
       "      <td>ordinance (0.01788)</td>\n",
       "      <td>change (0.01767)</td>\n",
       "    </tr>\n",
       "    <tr>\n",
       "      <th>attorney_payment_submit</th>\n",
       "      <td>attorney (0.07123)</td>\n",
       "      <td>payment (0.0477)</td>\n",
       "      <td>submit (0.0474)</td>\n",
       "      <td>order (0.04361)</td>\n",
       "      <td>court (0.03359)</td>\n",
       "      <td>defendant (0.0266)</td>\n",
       "      <td>juvenile (0.02647)</td>\n",
       "      <td>defense (0.0263)</td>\n",
       "      <td>indictment (0.0254)</td>\n",
       "      <td>fee (0.02378)</td>\n",
       "    </tr>\n",
       "    <tr>\n",
       "      <th>quality_patient_health</th>\n",
       "      <td>health (0.03941)</td>\n",
       "      <td>quality (0.03387)</td>\n",
       "      <td>patient (0.02694)</td>\n",
       "      <td>board (0.02415)</td>\n",
       "      <td>care (0.0238)</td>\n",
       "      <td>system (0.02365)</td>\n",
       "      <td>safety (0.01714)</td>\n",
       "      <td>effective (0.01465)</td>\n",
       "      <td>hospital (0.01374)</td>\n",
       "      <td>committee (0.01203)</td>\n",
       "    </tr>\n",
       "    <tr>\n",
       "      <th>trustee_annuity_benefit</th>\n",
       "      <td>trustee (0.04505)</td>\n",
       "      <td>fund (0.02816)</td>\n",
       "      <td>annuity (0.0278)</td>\n",
       "      <td>benefit (0.02141)</td>\n",
       "      <td>second (0.01662)</td>\n",
       "      <td>meeting (0.01551)</td>\n",
       "      <td>board (0.0153)</td>\n",
       "      <td>disability (0.01239)</td>\n",
       "      <td>motion (0.01108)</td>\n",
       "      <td>begin (0.01097)</td>\n",
       "    </tr>\n",
       "    <tr>\n",
       "      <th>amount_reclamation_water</th>\n",
       "      <td>amount (0.03906)</td>\n",
       "      <td>order (0.02766)</td>\n",
       "      <td>authority (0.02664)</td>\n",
       "      <td>account (0.02457)</td>\n",
       "      <td>exceed (0.02341)</td>\n",
       "      <td>purchase (0.023)</td>\n",
       "      <td>water (0.0216)</td>\n",
       "      <td>reclamation (0.02054)</td>\n",
       "      <td>district (0.01943)</td>\n",
       "      <td>attachment (0.01522)</td>\n",
       "    </tr>\n",
       "    <tr>\n",
       "      <th>get_go_think</th>\n",
       "      <td>state (0.01765)</td>\n",
       "      <td>make (0.01051)</td>\n",
       "      <td>lease (0.00991)</td>\n",
       "      <td>get (0.009567)</td>\n",
       "      <td>work (0.009453)</td>\n",
       "      <td>say (0.009214)</td>\n",
       "      <td>go (0.009203)</td>\n",
       "      <td>know (0.008725)</td>\n",
       "      <td>take (0.008642)</td>\n",
       "      <td>member (0.00859)</td>\n",
       "    </tr>\n",
       "  </tbody>\n",
       "</table>\n",
       "</div>"
      ],
      "text/plain": [
       "                                                   rank_1  \\\n",
       "topic                                                       \n",
       "commissioner_attorney_county       commissioner (0.04314)   \n",
       "school_student_support                   school (0.02978)   \n",
       "application_zone_applicant          application (0.03833)   \n",
       "permit_avenue_disable                    avenue (0.08037)   \n",
       "med_death_annuity                       annuity (0.02314)   \n",
       "interior_historic_mechanical                work (0.0288)   \n",
       "maintain_adjacent_premise                public (0.06925)   \n",
       "compliance_information_director          county (0.02254)   \n",
       "health_hospital_thru                      health (0.0439)   \n",
       "service_total_inc                       service (0.02636)   \n",
       "tax_bond_project                             tax (0.0195)   \n",
       "propose_plan_locate                     propose (0.02844)   \n",
       "housing_cha_resolution                  housing (0.02601)   \n",
       "county_cook_whereas                      county (0.06329)   \n",
       "contract_board_increase                 contract (0.0526)   \n",
       "commissioner_preserve_forest       commissioner (0.04254)   \n",
       "board_member_motion                       board (0.06968)   \n",
       "contractor_amendment_demolition           board (0.02242)   \n",
       "budget_victim_committee                 meeting (0.02022)   \n",
       "representation_respondent_minor  representation (0.06567)   \n",
       "ave_residential_common                 district (0.03578)   \n",
       "attorney_payment_submit                attorney (0.07123)   \n",
       "quality_patient_health                   health (0.03941)   \n",
       "trustee_annuity_benefit                 trustee (0.04505)   \n",
       "amount_reclamation_water                 amount (0.03906)   \n",
       "get_go_think                              state (0.01765)   \n",
       "\n",
       "                                                 rank_2  \\\n",
       "topic                                                     \n",
       "commissioner_attorney_county           county (0.03629)   \n",
       "school_student_support                  support (0.023)   \n",
       "application_zone_applicant               zone (0.03662)   \n",
       "permit_avenue_disable                  permit (0.07612)   \n",
       "med_death_annuity                    employee (0.02308)   \n",
       "interior_historic_mechanical         district (0.02668)   \n",
       "maintain_adjacent_premise            maintain (0.06699)   \n",
       "compliance_information_director     committee (0.01541)   \n",
       "health_hospital_thru                     cook (0.02647)   \n",
       "service_total_inc                         inc (0.01653)   \n",
       "tax_bond_project                      project (0.01852)   \n",
       "propose_plan_locate                      plan (0.02485)   \n",
       "housing_cha_resolution                  board (0.02345)   \n",
       "county_cook_whereas                      cook (0.04149)   \n",
       "contract_board_increase                 board (0.04159)   \n",
       "commissioner_preserve_forest            board (0.02497)   \n",
       "board_member_motion                    member (0.03961)   \n",
       "contractor_amendment_demolition  commissioner (0.02079)   \n",
       "budget_victim_committee             committee (0.01995)   \n",
       "representation_respondent_minor    respondent (0.06431)   \n",
       "ave_residential_common              applicant (0.02493)   \n",
       "attorney_payment_submit                payment (0.0477)   \n",
       "quality_patient_health                quality (0.03387)   \n",
       "trustee_annuity_benefit                  fund (0.02816)   \n",
       "amount_reclamation_water                order (0.02766)   \n",
       "get_go_think                             make (0.01051)   \n",
       "\n",
       "                                                rank_3  \\\n",
       "topic                                                    \n",
       "commissioner_attorney_county        attorney (0.02909)   \n",
       "school_student_support              community (0.0228)   \n",
       "application_zone_applicant         applicant (0.03411)   \n",
       "permit_avenue_disable                 street (0.05158)   \n",
       "med_death_annuity                     update (0.01771)   \n",
       "interior_historic_mechanical        interior (0.02553)   \n",
       "maintain_adjacent_premise            premise (0.05613)   \n",
       "compliance_information_director     director (0.01408)   \n",
       "health_hospital_thru                contract (0.02506)   \n",
       "service_total_inc                      total (0.01586)   \n",
       "tax_bond_project                        area (0.01646)   \n",
       "propose_plan_locate                   street (0.02087)   \n",
       "housing_cha_resolution                   cha (0.02171)   \n",
       "county_cook_whereas                 property (0.02772)   \n",
       "contract_board_increase              service (0.01716)   \n",
       "commissioner_preserve_forest          county (0.02145)   \n",
       "board_member_motion                   motion (0.02913)   \n",
       "contractor_amendment_demolition      meeting (0.01314)   \n",
       "budget_victim_committee              chicago (0.01696)   \n",
       "representation_respondent_minor        minor (0.06146)   \n",
       "ave_residential_common           residential (0.02347)   \n",
       "attorney_payment_submit                submit (0.0474)   \n",
       "quality_patient_health               patient (0.02694)   \n",
       "trustee_annuity_benefit               annuity (0.0278)   \n",
       "amount_reclamation_water           authority (0.02664)   \n",
       "get_go_think                           lease (0.00991)   \n",
       "\n",
       "                                                 rank_4                rank_5  \\\n",
       "topic                                                                           \n",
       "commissioner_attorney_county             cook (0.02783)       state (0.02119)   \n",
       "school_student_support                 program (0.0174)     student (0.01685)   \n",
       "application_zone_applicant            subject (0.02958)    district (0.02919)   \n",
       "permit_avenue_disable                    west (0.03694)     disable (0.03534)   \n",
       "med_death_annuity                        date (0.01635)       death (0.01629)   \n",
       "interior_historic_mechanical           permit (0.02373)    historic (0.02283)   \n",
       "maintain_adjacent_premise            adjacent (0.05554)        know (0.04146)   \n",
       "compliance_information_director           cook (0.0139)  compliance (0.01362)   \n",
       "health_hospital_thru                   county (0.02468)     service (0.02302)   \n",
       "service_total_inc                     chicago (0.01485)    illinois (0.01061)   \n",
       "tax_bond_project                         city (0.01558)    ordinance (0.0144)   \n",
       "propose_plan_locate                    locate (0.01983)       chicago (0.019)   \n",
       "housing_cha_resolution           commissioner (0.02071)    contract (0.01929)   \n",
       "county_cook_whereas                   whereas (0.02217)       board (0.02119)   \n",
       "contract_board_increase                increase (0.014)     request (0.01383)   \n",
       "commissioner_preserve_forest          preserve (0.0192)        cook (0.01884)   \n",
       "board_member_motion                   meeting (0.01754)      second (0.01651)   \n",
       "contractor_amendment_demolition       chicago (0.01118)    contractor (0.011)   \n",
       "budget_victim_committee               illinois (0.0168)      budget (0.01341)   \n",
       "representation_respondent_minor          case (0.05689)         fee (0.04345)   \n",
       "ave_residential_common                    ave (0.02132)    building (0.01999)   \n",
       "attorney_payment_submit                 order (0.04361)       court (0.03359)   \n",
       "quality_patient_health                  board (0.02415)         care (0.0238)   \n",
       "trustee_annuity_benefit               benefit (0.02141)      second (0.01662)   \n",
       "amount_reclamation_water              account (0.02457)      exceed (0.02341)   \n",
       "get_go_think                             get (0.009567)       work (0.009453)   \n",
       "\n",
       "                                                 rank_6  \\\n",
       "topic                                                     \n",
       "commissioner_attorney_county             case (0.01685)   \n",
       "school_student_support                 family (0.01297)   \n",
       "application_zone_applicant              owner (0.02805)   \n",
       "permit_avenue_disable                    park (0.03004)   \n",
       "med_death_annuity                     service (0.01552)   \n",
       "interior_historic_mechanical              new (0.02185)   \n",
       "maintain_adjacent_premise              avenue (0.03421)   \n",
       "compliance_information_director        report (0.01278)   \n",
       "health_hospital_thru                 hospital (0.02154)   \n",
       "service_total_inc                    approve (0.009923)   \n",
       "tax_bond_project                      service (0.01438)   \n",
       "propose_plan_locate                  property (0.01815)   \n",
       "housing_cha_resolution             resolution (0.01653)   \n",
       "county_cook_whereas              commissioner (0.01879)   \n",
       "contract_board_increase                chicago (0.0137)   \n",
       "commissioner_preserve_forest         district (0.01869)   \n",
       "board_member_motion                     state (0.01639)   \n",
       "contractor_amendment_demolition     amendment (0.01067)   \n",
       "budget_victim_committee                  fund (0.01139)   \n",
       "representation_respondent_minor      indigent (0.03806)   \n",
       "ave_residential_common                    llc (0.01955)   \n",
       "attorney_payment_submit              defendant (0.0266)   \n",
       "quality_patient_health                 system (0.02365)   \n",
       "trustee_annuity_benefit               meeting (0.01551)   \n",
       "amount_reclamation_water               purchase (0.023)   \n",
       "get_go_think                             say (0.009214)   \n",
       "\n",
       "                                                rank_7                 rank_8  \\\n",
       "topic                                                                           \n",
       "commissioner_attorney_county        chairman (0.01655)        motion (0.0163)   \n",
       "school_student_support                 serve (0.01052)      include (0.01005)   \n",
       "application_zone_applicant           premise (0.02448)       affect (0.02422)   \n",
       "permit_avenue_disable                  south (0.02915)        north (0.02687)   \n",
       "med_death_annuity                       hold (0.01535)          med (0.01517)   \n",
       "interior_historic_mechanical            date (0.02119)   mechanical (0.02023)   \n",
       "maintain_adjacent_premise             locate (0.03316)       street (0.03239)   \n",
       "compliance_information_director  information (0.01177)      provide (0.01163)   \n",
       "health_hospital_thru                 request (0.01778)         care (0.01509)   \n",
       "service_total_inc                      year (0.008855)        june (0.008714)   \n",
       "tax_bond_project                        bond (0.01357)    agreement (0.01227)   \n",
       "propose_plan_locate              development (0.01607)         west (0.01577)   \n",
       "housing_cha_resolution             authority (0.01526)      chicago (0.01508)   \n",
       "county_cook_whereas               resolution (0.01441)          class (0.013)   \n",
       "contract_board_increase               period (0.01361)      account (0.01274)   \n",
       "commissioner_preserve_forest          forest (0.01599)       motion (0.01309)   \n",
       "board_member_motion                     move (0.01625)     chairman (0.01552)   \n",
       "contractor_amendment_demolition      section (0.01019)     business (0.01014)   \n",
       "budget_victim_committee              service (0.01038)       board (0.009926)   \n",
       "representation_respondent_minor      service (0.03746)         name (0.03622)   \n",
       "ave_residential_common                  unit (0.01944)        space (0.01822)   \n",
       "attorney_payment_submit             juvenile (0.02647)       defense (0.0263)   \n",
       "quality_patient_health                safety (0.01714)    effective (0.01465)   \n",
       "trustee_annuity_benefit                 board (0.0153)   disability (0.01239)   \n",
       "amount_reclamation_water                water (0.0216)  reclamation (0.02054)   \n",
       "get_go_think                             go (0.009203)        know (0.008725)   \n",
       "\n",
       "                                                 rank_9  \\\n",
       "topic                                                     \n",
       "commissioner_attorney_county     subcommittee (0.01239)   \n",
       "school_student_support                  high (0.009534)   \n",
       "application_zone_applicant                 foot (0.022)   \n",
       "permit_avenue_disable                    side (0.02436)   \n",
       "med_death_annuity                        work (0.01378)   \n",
       "interior_historic_mechanical             exist (0.0196)   \n",
       "maintain_adjacent_premise               north (0.03017)   \n",
       "compliance_information_director       program (0.01096)   \n",
       "health_hospital_thru                     page (0.01497)   \n",
       "service_total_inc                       item (0.008133)   \n",
       "tax_bond_project                      propose (0.01138)   \n",
       "propose_plan_locate                    avenue (0.01552)   \n",
       "housing_cha_resolution                   item (0.01391)   \n",
       "county_cook_whereas                 president (0.01207)   \n",
       "contract_board_increase             agreement (0.01258)   \n",
       "commissioner_preserve_forest        committee (0.01073)   \n",
       "board_member_motion                   approve (0.01546)   \n",
       "contractor_amendment_demolition     authorize (0.01005)   \n",
       "budget_victim_committee               report (0.009566)   \n",
       "representation_respondent_minor        render (0.03375)   \n",
       "ave_residential_common              ordinance (0.01788)   \n",
       "attorney_payment_submit             indictment (0.0254)   \n",
       "quality_patient_health               hospital (0.01374)   \n",
       "trustee_annuity_benefit                motion (0.01108)   \n",
       "amount_reclamation_water             district (0.01943)   \n",
       "get_go_think                            take (0.008642)   \n",
       "\n",
       "                                                rank_10  \n",
       "topic                                                    \n",
       "commissioner_attorney_county       litigation (0.01191)  \n",
       "school_student_support                  year (0.009416)  \n",
       "application_zone_applicant             reduce (0.01876)  \n",
       "permit_avenue_disable                    zone (0.02388)  \n",
       "med_death_annuity                  disability (0.01321)  \n",
       "interior_historic_mechanical         exterior (0.01921)  \n",
       "maintain_adjacent_premise                west (0.02738)  \n",
       "compliance_information_director          page (0.01025)  \n",
       "health_hospital_thru                    system (0.0144)  \n",
       "service_total_inc                        date (0.00774)  \n",
       "tax_bond_project                     authorize (0.0106)  \n",
       "propose_plan_locate                     north (0.01426)  \n",
       "housing_cha_resolution                service (0.01132)  \n",
       "county_cook_whereas                 ordinance (0.01027)  \n",
       "contract_board_increase          commissioner (0.01185)  \n",
       "commissioner_preserve_forest           public (0.01073)  \n",
       "board_member_motion                  illinois (0.01221)  \n",
       "contractor_amendment_demolition        follow (0.00984)  \n",
       "budget_victim_committee               motion (0.009463)  \n",
       "representation_respondent_minor         legal (0.03356)  \n",
       "ave_residential_common                 change (0.01767)  \n",
       "attorney_payment_submit                   fee (0.02378)  \n",
       "quality_patient_health              committee (0.01203)  \n",
       "trustee_annuity_benefit                 begin (0.01097)  \n",
       "amount_reclamation_water           attachment (0.01522)  \n",
       "get_go_think                           member (0.00859)  "
      ]
     },
     "execution_count": 23,
     "metadata": {},
     "output_type": "execute_result"
    }
   ],
   "source": [
    "from tmtoolkit.topicmod.model_io import ldamodel_top_topic_words\n",
    "\n",
    "top_topic_word = ldamodel_top_topic_words(best_tm.topic_word_,\n",
    "                                          vocab,\n",
    "                                          row_labels=topic_labels)\n",
    "top_topic_word"
   ]
  },
  {
   "cell_type": "markdown",
   "metadata": {
    "colab_type": "text",
    "id": "GWOGsr1O0vi1"
   },
   "source": [
    "### Marginal topic and word distributions\n",
    "\n",
    "We'll now focus on the marginal topic and word distributions. Let's get the marginal topic distribution first by using [marginal_topic_distrib()](api.rst#tmtoolkit.topicmod.model_stats.marginal_topic_distrib):"
   ]
  },
  {
   "cell_type": "code",
   "execution_count": 24,
   "metadata": {
    "colab": {
     "base_uri": "https://localhost:8080/",
     "height": 69
    },
    "colab_type": "code",
    "id": "NcKdDQwx0vi2",
    "outputId": "991df222-21ec-4a31-e32b-ff7baba5cc9b",
    "pycharm": {
     "is_executing": false
    },
    "scrolled": true
   },
   "outputs": [
    {
     "data": {
      "text/plain": [
       "array([0.02731, 0.02652, 0.03818, 0.02698, 0.02388, 0.0521 , 0.02281,\n",
       "       0.05652, 0.04591, 0.0332 , 0.03404, 0.0276 , 0.06764, 0.03809,\n",
       "       0.04253, 0.05809, 0.04498, 0.03158, 0.0406 , 0.03856, 0.02744,\n",
       "       0.03933, 0.0274 , 0.02757, 0.05101, 0.05013])"
      ]
     },
     "execution_count": 24,
     "metadata": {},
     "output_type": "execute_result"
    }
   ],
   "source": [
    "from tmtoolkit.topicmod.model_stats import marginal_topic_distrib\n",
    "\n",
    "marg_topic = marginal_topic_distrib(best_tm.doc_topic_, doc_lengths)\n",
    "marg_topic"
   ]
  },
  {
   "cell_type": "markdown",
   "metadata": {
    "colab_type": "text",
    "id": "waKzdPAX0vjA"
   },
   "source": [
    "The marginal topic distribution can be interpreted as the \"importance\" of each topic for the whole corpus. Let's get the sorted indices into `topic_labels` with `np.argsort()` and get the top ten topics:"
   ]
  },
  {
   "cell_type": "code",
   "execution_count": 25,
   "metadata": {
    "colab": {
     "base_uri": "https://localhost:8080/",
     "height": 52
    },
    "colab_type": "code",
    "id": "1ICrmFJG0vjF",
    "outputId": "c4111099-a6a4-464d-c1a3-fd5545359b0f",
    "pycharm": {
     "is_executing": false
    }
   },
   "outputs": [
    {
     "data": {
      "text/plain": [
       "array(['housing_cha_resolution', 'commissioner_preserve_forest',\n",
       "       'compliance_information_director', 'interior_historic_mechanical',\n",
       "       'amount_reclamation_water', 'get_go_think', 'health_hospital_thru',\n",
       "       'board_member_motion', 'contract_board_increase',\n",
       "       'budget_victim_committee'], dtype='<U31')"
      ]
     },
     "execution_count": 25,
     "metadata": {},
     "output_type": "execute_result"
    }
   ],
   "source": [
    "# np.argsort() gives ascending order, hence reverse via [::-1]\n",
    "topic_labels[np.argsort(marg_topic)[::-1][:10]]"
   ]
  },
  {
   "cell_type": "markdown",
   "metadata": {
    "colab_type": "text",
    "id": "e6TyZkMF0vjL"
   },
   "source": [
    "Likewise, we can get the marginal word distribution with [marginal_word_distrib()](api.rst#tmtoolkit.topicmod.model_stats.marginal_word_distrib) from the model's topic-word distribution and the marginal topic distribution. We'll use this to list the most probable words for the corpus. As expected, these are mostly quite common words:"
   ]
  },
  {
   "cell_type": "code",
   "execution_count": 26,
   "metadata": {
    "colab": {
     "base_uri": "https://localhost:8080/",
     "height": 52
    },
    "colab_type": "code",
    "id": "EfC7vp6G0vjM",
    "outputId": "b996185c-5a14-4ab6-98e6-53bc6be6fcb6",
    "pycharm": {
     "is_executing": false
    }
   },
   "outputs": [
    {
     "data": {
      "text/plain": [
       "array(['board', 'county', 'commissioner', 'service', 'district',\n",
       "       'chicago', 'cook', 'contract', 'meeting', 'approve'], dtype='<U19')"
      ]
     },
     "execution_count": 26,
     "metadata": {},
     "output_type": "execute_result"
    }
   ],
   "source": [
    "from tmtoolkit.topicmod.model_stats import marginal_word_distrib\n",
    "\n",
    "marg_word = marginal_word_distrib(best_tm.topic_word_, marg_topic)\n",
    "vocab[np.argsort(marg_word)[::-1][:10]]"
   ]
  },
  {
   "cell_type": "markdown",
   "metadata": {
    "colab_type": "text",
    "id": "XUYURIxC0vjQ"
   },
   "source": [
    "Two helper functions exist for this purpose: [most_probable_words()](api.rst#tmtoolkit.topicmod.model_stats.most_probable_words) and [least_probable_words()](api.rst#tmtoolkit.topicmod.model_stats.least_probable_words) sort the vocabulary according to the marginal probability:"
   ]
  },
  {
   "cell_type": "code",
   "execution_count": 27,
   "metadata": {
    "colab": {
     "base_uri": "https://localhost:8080/",
     "height": 52
    },
    "colab_type": "code",
    "id": "7I09QG0M0vjT",
    "outputId": "d6942a49-684b-4fb7-ba2d-364bc4e481ff",
    "pycharm": {
     "is_executing": false
    }
   },
   "outputs": [
    {
     "data": {
      "text/plain": [
       "array(['board', 'county', 'commissioner', 'service', 'district',\n",
       "       'chicago', 'cook', 'contract', 'meeting', 'approve'], dtype='<U19')"
      ]
     },
     "execution_count": 27,
     "metadata": {},
     "output_type": "execute_result"
    }
   ],
   "source": [
    "from tmtoolkit.topicmod.model_stats import most_probable_words, least_probable_words\n",
    "\n",
    "most_probable_words(vocab, best_tm.topic_word_,\n",
    "                    best_tm.doc_topic_, doc_lengths,\n",
    "                    n=10)"
   ]
  },
  {
   "cell_type": "code",
   "execution_count": 28,
   "metadata": {
    "colab": {
     "base_uri": "https://localhost:8080/",
     "height": 52
    },
    "colab_type": "code",
    "id": "eKc3sS8H0vjb",
    "outputId": "7ddfe65c-b5b0-4d1e-b2a9-c50cc8c400e9",
    "pycharm": {
     "is_executing": false
    }
   },
   "outputs": [
    {
     "data": {
      "text/plain": [
       "array(['wells', '61st', 'elsewhere', 'afforded', 'asking', 'votes',\n",
       "       'joined', 'interviewed', 'rising', 'pieces'], dtype='<U19')"
      ]
     },
     "execution_count": 28,
     "metadata": {},
     "output_type": "execute_result"
    }
   ],
   "source": [
    "least_probable_words(vocab, best_tm.topic_word_,\n",
    "                     best_tm.doc_topic_, doc_lengths,\n",
    "                     n=10)"
   ]
  },
  {
   "cell_type": "markdown",
   "metadata": {
    "colab_type": "text",
    "id": "dzd2Z98r0vjg"
   },
   "source": [
    "### Word distinctiveness and saliency\n",
    "\n",
    "Word *distinctiveness* and *saliency* (see below) help to identify the most \"informative\" words in a corpus given its topic model. Both measures are introduced in [Chuang et al. 2012](https://dl.acm.org/citation.cfm?id=2254572).\n",
    "\n",
    "Word distinctiveness is calculated for each word $w$ as\n",
    "\n",
    "$\\text{distinctiveness}(w) = \\sum_T(P(T|w) \\log \\frac{P(T|w)}{P(T)})$.\n",
    "\n",
    "where $P(T)$ is the marginal topic distribution and $P(T|w)$ is the probability of a topic given a word $w$.\n",
    "\n",
    "We can calculate this measure using [word_distinctiveness()](api.rst#tmtoolkit.topicmod.model_stats.word_distinctiveness). To use this measure directly to rank words, we can use [most_distinct_words()](api.rst#tmtoolkit.topicmod.model_stats.most_distinct_words) and [least_distinct_words()](api.rst#tmtoolkit.topicmod.model_stats.least_distinct_words):"
   ]
  },
  {
   "cell_type": "code",
   "execution_count": 29,
   "metadata": {
    "colab": {
     "base_uri": "https://localhost:8080/",
     "height": 52
    },
    "colab_type": "code",
    "id": "zuuCFEBL0vjg",
    "outputId": "240c4eef-3a1d-4d42-868b-f9c499e5e1d1",
    "pycharm": {
     "is_executing": false
    }
   },
   "outputs": [
    {
     "data": {
      "text/plain": [
       "array([2.7951 , 2.95694, 2.06683, 3.01145, 2.83605, 2.52483, 3.19419,\n",
       "       2.87717, 2.89353, 3.06541])"
      ]
     },
     "execution_count": 29,
     "metadata": {},
     "output_type": "execute_result"
    }
   ],
   "source": [
    "from tmtoolkit.topicmod.model_stats import word_distinctiveness, \\\n",
    "    most_distinct_words, least_distinct_words\n",
    "\n",
    "word_distinct = word_distinctiveness(best_tm.topic_word_, marg_topic)\n",
    "word_distinct[:10]   # first 10 words in vocab"
   ]
  },
  {
   "cell_type": "code",
   "execution_count": 30,
   "metadata": {
    "colab": {
     "base_uri": "https://localhost:8080/",
     "height": 69
    },
    "colab_type": "code",
    "id": "6kNrWudE0vjp",
    "outputId": "fc3b5375-1f03-4488-e6ea-1b72e12efc54",
    "pycharm": {
     "is_executing": false
    }
   },
   "outputs": [
    {
     "data": {
      "text/plain": [
       "array(['ingres', 'cafe', 'alleys', 'eff', 'reversionary', 'workman',\n",
       "       'adj', 'lra', 'wkr', 'prerequisite'], dtype='<U19')"
      ]
     },
     "execution_count": 30,
     "metadata": {},
     "output_type": "execute_result"
    }
   ],
   "source": [
    "most_distinct_words(vocab, best_tm.topic_word_,\n",
    "                    best_tm.doc_topic_, doc_lengths,\n",
    "                    n=10)"
   ]
  },
  {
   "cell_type": "code",
   "execution_count": 31,
   "metadata": {
    "colab": {
     "base_uri": "https://localhost:8080/",
     "height": 52
    },
    "colab_type": "code",
    "id": "tsPkRucB0vjt",
    "outputId": "0f0a6d6d-3d8c-4c12-fb78-4057373fbaf2",
    "pycharm": {
     "is_executing": false
    }
   },
   "outputs": [
    {
     "data": {
      "text/plain": [
       "array(['chicago', 'meet', 'provide', 'approve', 'department', 'september',\n",
       "       'meeting', 'november', 'committee', 'report'], dtype='<U19')"
      ]
     },
     "execution_count": 31,
     "metadata": {},
     "output_type": "execute_result"
    }
   ],
   "source": [
    "least_distinct_words(vocab, best_tm.topic_word_,\n",
    "                     best_tm.doc_topic_, doc_lengths,\n",
    "                     n=10)"
   ]
  },
  {
   "cell_type": "markdown",
   "metadata": {
    "colab_type": "text",
    "id": "rwCBN2BA0vj5"
   },
   "source": [
    "Word *saliency* weights each words' distinctiveness by it's marginal probability $P(w)$:\n",
    "\n",
    "$\\text{saliency}(w) = P(w) \\cdot \\text{distinctiveness}(w)$.\n",
    "\n",
    "The respective functions in tmtoolkit are [word_saliency()](api.rst#tmtoolkit.topicmod.model_stats.word_saliency), [most_salient_words()](api.rst#tmtoolkit.topicmod.model_stats.most_salient_words) and [least_salient_words()](api.rst#tmtoolkit.topicmod.model_stats.least_salient_words):"
   ]
  },
  {
   "cell_type": "code",
   "execution_count": 32,
   "metadata": {
    "colab": {
     "base_uri": "https://localhost:8080/",
     "height": 52
    },
    "colab_type": "code",
    "id": "E_m050hw0vj6",
    "outputId": "5ab2851c-5a11-44a2-bcd6-03024c761305",
    "pycharm": {
     "is_executing": false
    }
   },
   "outputs": [
    {
     "data": {
      "text/plain": [
       "array([1.31527e-05, 1.08308e-05, 2.15787e-05, 1.73099e-05, 2.99563e-06,\n",
       "       3.98316e-06, 1.70855e-06, 4.53910e-06, 4.56465e-06, 4.83570e-06])"
      ]
     },
     "execution_count": 32,
     "metadata": {},
     "output_type": "execute_result"
    }
   ],
   "source": [
    "from tmtoolkit.topicmod.model_stats import word_saliency, \\\n",
    "    most_salient_words, least_salient_words\n",
    "\n",
    "word_sal = word_saliency(best_tm.topic_word_, best_tm.doc_topic_, doc_lengths)\n",
    "word_sal[:10]   # first 10 words in vocab"
   ]
  },
  {
   "cell_type": "code",
   "execution_count": 33,
   "metadata": {
    "colab": {
     "base_uri": "https://localhost:8080/",
     "height": 52
    },
    "colab_type": "code",
    "id": "2dJIASuj0vkB",
    "outputId": "bb711a0e-4935-4400-b5af-84b29b75aa51",
    "pycharm": {
     "is_executing": false
    }
   },
   "outputs": [
    {
     "data": {
      "text/plain": [
       "array(['county', 'attorney', 'avenue', 'board', 'permit', 'commissioner',\n",
       "       'contract', 'representation', 'cook', 'respondent', 'health',\n",
       "       'minor', 'district', 'case', 'public', 'premise', 'street',\n",
       "       'service', 'order', 'fee', 'indigent', 'maintain', 'payment',\n",
       "       'submit', 'zone', 'amount', 'west', 'applicant', 'motion',\n",
       "       'adjacent'], dtype='<U19')"
      ]
     },
     "execution_count": 33,
     "metadata": {},
     "output_type": "execute_result"
    }
   ],
   "source": [
    "most_salient_words(vocab, best_tm.topic_word_,\n",
    "                   best_tm.doc_topic_, doc_lengths,\n",
    "                   n=30)"
   ]
  },
  {
   "cell_type": "code",
   "execution_count": 34,
   "metadata": {
    "colab": {
     "base_uri": "https://localhost:8080/",
     "height": 52
    },
    "colab_type": "code",
    "id": "gm6fq_Ys0vkE",
    "outputId": "a997e5c3-16d4-4b6c-92a9-e9b047740fab",
    "pycharm": {
     "is_executing": false
    }
   },
   "outputs": [
    {
     "data": {
      "text/plain": [
       "array(['neighborhoods', 'referenced', 'paragraphs', 'varying',\n",
       "       'principals', 'landscaped', 'completed', 'hosted', 'flats',\n",
       "       'porches', 'later', 'scored', 'developers', 'camping',\n",
       "       'commencing', 'urging', 'subcontracting', 'waterways', 'awaiting',\n",
       "       'venues', 'procurements', 'preserves', 'tendered', 'concurrences',\n",
       "       '1st', 'appurtenances', 'renewed', 'named', 'handled', 'erika'],\n",
       "      dtype='<U19')"
      ]
     },
     "execution_count": 34,
     "metadata": {},
     "output_type": "execute_result"
    }
   ],
   "source": [
    "least_salient_words(vocab, best_tm.topic_word_,\n",
    "                    best_tm.doc_topic_, doc_lengths,\n",
    "                    n=30)"
   ]
  },
  {
   "cell_type": "markdown",
   "metadata": {
    "colab_type": "text",
    "id": "dt_e-97h0vkL"
   },
   "source": [
    "### Topic-word relevance\n",
    "\n",
    "The topic-word relevance measure as introduced by [Sievert and Shirley 2014](https://www.aclweb.org/anthology/W14-3110/) helps to identify the most relevant words within a topic by also accounting for the marginal probability of each word across the corpus. This is done by integrating a *lift* value, which is the \"ratio of a term's probability within a topic to its marginal probability across the corpus.\" (ibid.)\n",
    "\n",
    "Thus for each word $w$, given a topic-word distribution $\\phi$, a topic $t$ and a weight parameter $\\lambda$, it is calculated as:\n",
    "\n",
    "$\\text{relevance}_{\\phi, \\lambda}(w, t) = \\lambda \\log \\phi_{t,w} + (1-\\lambda) \\log \\frac{\\phi_{t,w}}{p(w)}$.\n",
    "\n",
    "The first term $\\log \\phi_{t,w}$ is the log of the topic-word distribution, the second term $\\log \\frac{\\phi_{t,w}}{p(w)}$ is the *log lift* and $\\lambda$ can be used to control the weight between both terms. The lower $\\lambda$, the more weight is put on the lift term, i.e. the more different are the results from the original topic-word distribution.\n",
    "\n",
    "This measure is implemented in [topic_word_relevance()](api.rst#tmtoolkit.topicmod.model_stats.topic_word_relevance). It returns a matrix of the same shape as the topic-word distribution, i.e. each row represents a topic with a (log-transformed) distribution across all words in the vocabulary. Please note that the lambda parameter ends with an underscore: `lambda_`."
   ]
  },
  {
   "cell_type": "code",
   "execution_count": 35,
   "metadata": {
    "colab": {
     "base_uri": "https://localhost:8080/",
     "height": 139
    },
    "colab_type": "code",
    "id": "VYtGAEgr0vkO",
    "outputId": "e16dded4-54d5-4c45-a48d-1e0b6cdcd86c",
    "pycharm": {
     "is_executing": false
    }
   },
   "outputs": [
    {
     "data": {
      "text/plain": [
       "array([[-12.8675 , -12.76729, -13.18627, ..., -13.69269, -13.54441,\n",
       "        -13.79193],\n",
       "       [-12.83805, -12.73785, -13.15683, ..., -13.66324, -13.51497,\n",
       "        -13.76248],\n",
       "       [-13.2025 ,  -5.5009 , -13.52128, ..., -14.02769, -13.87942,\n",
       "        -14.12693],\n",
       "       ...,\n",
       "       [-12.87679, -12.77658, -13.19556, ..., -13.70198, -13.5537 ,\n",
       "        -13.80122],\n",
       "       [-13.49218, -13.39197, -13.81095, ..., -14.31737, -14.16909,\n",
       "        -14.41661],\n",
       "       [-13.47485, -13.37464,  -4.48788, ...,  -6.29334, -14.15176,\n",
       "        -14.39928]])"
      ]
     },
     "execution_count": 35,
     "metadata": {},
     "output_type": "execute_result"
    }
   ],
   "source": [
    "from tmtoolkit.topicmod.model_stats import topic_word_relevance\n",
    "\n",
    "topic_word_rel = topic_word_relevance(best_tm.topic_word_, best_tm.doc_topic_,\n",
    "                                      doc_lengths, lambda_=0.6)\n",
    "topic_word_rel"
   ]
  },
  {
   "cell_type": "markdown",
   "metadata": {
    "colab_type": "text",
    "id": "KzQJQ3b10vkX"
   },
   "source": [
    "To confirm that it's 26 topics across all words in the vocabulary:"
   ]
  },
  {
   "cell_type": "code",
   "execution_count": 36,
   "metadata": {
    "colab": {
     "base_uri": "https://localhost:8080/",
     "height": 34
    },
    "colab_type": "code",
    "id": "H2iapXkI0vkY",
    "outputId": "bf92a1e7-e597-4453-c3a0-a46285d98c5e",
    "pycharm": {
     "is_executing": false
    }
   },
   "outputs": [
    {
     "data": {
      "text/plain": [
       "(26, 7503)"
      ]
     },
     "execution_count": 36,
     "metadata": {},
     "output_type": "execute_result"
    }
   ],
   "source": [
    "topic_word_rel.shape"
   ]
  },
  {
   "cell_type": "markdown",
   "metadata": {
    "colab_type": "text",
    "id": "qPrdyR350vkg"
   },
   "source": [
    "Two functions can be used to get the most or least relevant words for a topic: [most_relevant_words_for_topic()](api.rst#tmtoolkit.topicmod.model_stats.most_relevant_words_for_topic) and [least_relevant_words_for_topic()](api.rst#tmtoolkit.topicmod.model_stats.least_relevant_words_for_topic). You can select the topic with the `topic` parameter which is a **zero-based topic index**.\n",
    "\n",
    "We'll do it for topic with index 4, which is:"
   ]
  },
  {
   "cell_type": "code",
   "execution_count": 37,
   "metadata": {
    "colab": {
     "base_uri": "https://localhost:8080/",
     "height": 34
    },
    "colab_type": "code",
    "id": "xF1aMyO80vkh",
    "outputId": "80209cb8-cb64-4a0e-b448-def7fe72fd46",
    "pycharm": {
     "is_executing": false
    }
   },
   "outputs": [
    {
     "data": {
      "text/plain": [
       "'med_death_annuity'"
      ]
     },
     "execution_count": 37,
     "metadata": {},
     "output_type": "execute_result"
    }
   ],
   "source": [
    "topic_labels[4]"
   ]
  },
  {
   "cell_type": "code",
   "execution_count": 38,
   "metadata": {
    "colab": {
     "base_uri": "https://localhost:8080/",
     "height": 52
    },
    "colab_type": "code",
    "id": "Q03nyH7M0vkp",
    "outputId": "7837d7fe-b40b-4dc8-8f46-84fe3190c7cc",
    "pycharm": {
     "is_executing": false
    }
   },
   "outputs": [
    {
     "data": {
      "text/plain": [
       "array(['med', 'death', 'annuity', 'employee', 'update', 're', 'marry',\n",
       "       'inv', 'disability', 'hold'], dtype='<U19')"
      ]
     },
     "execution_count": 38,
     "metadata": {},
     "output_type": "execute_result"
    }
   ],
   "source": [
    "from tmtoolkit.topicmod.model_stats import most_relevant_words_for_topic, \\\n",
    "    least_relevant_words_for_topic\n",
    "\n",
    "most_relevant_words_for_topic(vocab, topic_word_rel, topic=4, n=10)"
   ]
  },
  {
   "cell_type": "code",
   "execution_count": 39,
   "metadata": {},
   "outputs": [
    {
     "name": "stdout",
     "output_type": "stream",
     "text": [
      "commissioner_attorney_county\n",
      "commissioner attorney county cook litigation subcommittee dean state chairman silvestri civil vice collins suffredin expense carry case tobolski schneider motion\n",
      "\n",
      "school_student_support\n",
      "school student support community transition serve high family program grade parent cooper cps education focus offer life academic january opportunity\n",
      "\n",
      "application_zone_applicant\n",
      "application zone applicant affect subject owner setback variation reduce toia premise foot district rear residence sercye yard flores ward use\n",
      "\n",
      "permit_avenue_disable\n",
      "permit avenue disable street west south point side disabled park foot north thereof zone repeal load ward east amend tow\n",
      "\n",
      "med_death_annuity\n",
      "med death annuity employee update re marry inv disability hold eff note monthly spouse annuitant ordinary municipal reversionary asst error\n",
      "\n",
      "interior_historic_mechanical\n",
      "interior historic mechanical exterior work electrical stamp window exist permit new district landmark date match preservation replacement masonry color replace\n",
      "\n",
      "maintain_adjacent_premise\n",
      "maintain adjacent premise public know rightofway construct cafe sidewalk way locate north sign avenue portion west street awning attached use\n",
      "\n",
      "compliance_information_director\n",
      "compliance information director resource county audit position human committee provide policy program report include chief cook body employee cchhs countycare\n",
      "\n",
      "health_hospital_thru\n",
      "health hospital thru cook care contract cch request county service system provident center page stroger active methodology medicaid product number\n",
      "\n",
      "service_total_inc\n",
      "service total inc vehicle june chicago dispose network mile center illinois hundred cameron foundation year vendor corporation recommendation capital connection\n",
      "\n",
      "tax_bond_project\n",
      "tax bond project area redevelopment city ordinance authorize agreement bowen interest smith levy loan series revenue financing transaction propose council\n",
      "\n",
      "propose_plan_locate\n",
      "propose plan locate land property stop street storefront development west cityowned finish alderman south lake north ward multiunit retail kenwood\n",
      "\n",
      "housing_cha_resolution\n",
      "housing cha resolution authority contract commissioner board item chas designee nottoexceed chicago executive execute resident hud letter apartment resolve development\n",
      "\n",
      "county_cook_whereas\n",
      "county cook whereas property class abandon circumstance real president value assessment resolution municipality economic commissioner store estate number job board\n",
      "\n",
      "contract_board_increase\n",
      "contract board increase period procurement agreement account request technology service management software maintenance chicago main equipment item authorization extension bradford\n",
      "\n",
      "commissioner_preserve_forest\n",
      "commissioner preserve forest goslin daley silvestri testimony sims suffredin steele county cook board district gainer fritchey tobolski schneider arroyo boykin\n",
      "\n",
      "board_member_motion\n",
      "board member motion game move casino chairman second license wright state session meeting administrator licensee call vote approve rule illinois\n",
      "\n",
      "contractor_amendment_demolition\n",
      "contractor amendment demolition commissioner authorize section business board brewer forth write transmit follow notice agent meeting set general amey pursuant\n",
      "\n",
      "budget_victim_committee\n",
      "budget victim committee meeting illinois violence chicago justice fund council designation police program act director call minute vawa crime criminal\n",
      "\n",
      "representation_respondent_minor\n",
      "representation respondent minor case render presenter courtappointed attorneypayee indigent name fee legal service mother gal father payable claim settlement fix\n",
      "\n",
      "ave_residential_common\n",
      "ave residential common applicant district space refer neighborhood building llc unit commercial change address dwell document rt4 shop b32 purpose\n",
      "\n",
      "attorney_payment_submit\n",
      "attorney payment submit defendant defense indictment juvenile court order invoice indigent fee case comm part total account approve child purchase\n",
      "\n",
      "quality_patient_health\n",
      "quality patient health care safety effective system medicine physician governance reappointment institute hospital social medical experience healthcare improvement category leader\n",
      "\n",
      "trustee_annuity_benefit\n",
      "trustee annuity benefit fund cfd retire ent disability begin widow keane deduction summer second roll pension decease withdrawwaiting investment refund\n",
      "\n",
      "amount_reclamation_water\n",
      "amount reclamation water exceed purchase account authority requisition attachment order metropolitan great furnish recommend plant deliver district mcgowan debra issue\n",
      "\n",
      "get_go_think\n",
      "get go think lease state say ask take want look people come next know make need cm bedore reply question\n",
      "\n"
     ]
    }
   ],
   "source": [
    "for i in range(26):\n",
    "    print(topic_labels[i])\n",
    "    print(' '.join(most_relevant_words_for_topic(vocab, topic_word_rel, topic=i, n=20)))\n",
    "    print()"
   ]
  },
  {
   "cell_type": "code",
   "execution_count": 40,
   "metadata": {
    "colab": {
     "base_uri": "https://localhost:8080/",
     "height": 52
    },
    "colab_type": "code",
    "id": "1RmwUmXc0vkw",
    "outputId": "801a0b05-3fd7-4890-b8d4-9fe3c5718c07",
    "pycharm": {
     "is_executing": false
    }
   },
   "outputs": [
    {
     "data": {
      "text/plain": [
       "array(['board', 'county', 'commissioner', 'district', 'cook', 'contract',\n",
       "       'approve', 'motion', 'avenue', 'attorney'], dtype='<U19')"
      ]
     },
     "execution_count": 40,
     "metadata": {},
     "output_type": "execute_result"
    }
   ],
   "source": [
    "least_relevant_words_for_topic(vocab, topic_word_rel, topic=4, n=10)"
   ]
  },
  {
   "cell_type": "markdown",
   "metadata": {
    "colab_type": "text",
    "id": "fbH4u_Du0vkz"
   },
   "source": [
    "### Topic coherence\n",
    "\n",
    "We already used the *coherence* metric ([Mimno et al. 2011](https://dl.acm.org/citation.cfm?id=2145462)) for topic model evaluation. However, this metric cannot only be used to assess the overall quality of a topic model, but also to evaluate the individual topics' coherence."
   ]
  },
  {
   "cell_type": "code",
   "execution_count": 41,
   "metadata": {
    "colab": {
     "base_uri": "https://localhost:8080/",
     "height": 69
    },
    "colab_type": "code",
    "id": "tmZddOgG0vkz",
    "outputId": "654a876d-f2ae-4d56-c7dd-1d1b927603de"
   },
   "outputs": [
    {
     "data": {
      "text/plain": [
       "array([-0.80555, -0.72153, -0.99879, -1.31452, -1.25409, -1.26732,\n",
       "       -1.51853, -0.80316, -0.87214, -0.71452, -0.78188, -0.84375,\n",
       "       -0.60583, -1.03974, -0.61386, -0.94632, -0.96036, -0.84885,\n",
       "       -0.56195, -1.10554, -0.96257, -0.84218, -1.41654, -0.82912,\n",
       "       -0.62568, -0.74317])"
      ]
     },
     "execution_count": 41,
     "metadata": {},
     "output_type": "execute_result"
    }
   ],
   "source": [
    "from tmtoolkit.topicmod.evaluate import metric_coherence_mimno_2011\n",
    "\n",
    "# use top 20 words per topic for metric\n",
    "coh = metric_coherence_mimno_2011(best_tm.topic_word_, dtm, top_n=20)\n",
    "coh"
   ]
  },
  {
   "cell_type": "markdown",
   "metadata": {
    "colab_type": "text",
    "id": "aqdkXk7E0vk3"
   },
   "source": [
    "This generates a coherence value for each topic. Let's show the distribution of these values:"
   ]
  },
  {
   "cell_type": "code",
   "execution_count": 42,
   "metadata": {
    "colab": {
     "base_uri": "https://localhost:8080/",
     "height": 279
    },
    "colab_type": "code",
    "id": "BS5UKf2T0vk3",
    "outputId": "942be437-fffb-4d9b-96be-5ed8e657db92",
    "scrolled": true
   },
   "outputs": [
    {
     "data": {
      "image/png": "[encoded data removed]",
      "text/plain": [
       "<Figure size 432x288 with 1 Axes>"
      ]
     },
     "metadata": {},
     "output_type": "display_data"
    }
   ],
   "source": [
    "import matplotlib.pyplot as plt\n",
    "\n",
    "plt.hist(coh, bins=20)\n",
    "plt.xlabel('coherence')\n",
    "plt.ylabel('n')\n",
    "plt.show();"
   ]
  },
  {
   "cell_type": "markdown",
   "metadata": {
    "colab_type": "text",
    "id": "xpHcb9Yk0vk8"
   },
   "source": [
    "And print the best and worst topics according to this metric:"
   ]
  },
  {
   "cell_type": "code",
   "execution_count": 43,
   "metadata": {
    "colab": {
     "base_uri": "https://localhost:8080/",
     "height": 52
    },
    "colab_type": "code",
    "id": "kJ7Nf0hJ0vk9",
    "outputId": "51263c36-51dd-4848-b07d-4738f78f80eb"
   },
   "outputs": [
    {
     "data": {
      "text/plain": [
       "array(['budget_victim_committee', 'housing_cha_resolution',\n",
       "       'contract_board_increase', 'amount_reclamation_water',\n",
       "       'service_total_inc'], dtype='<U31')"
      ]
     },
     "execution_count": 43,
     "metadata": {},
     "output_type": "execute_result"
    }
   ],
   "source": [
    "import numpy as np\n",
    "\n",
    "top10_t_indices = np.argsort(coh)[::-1][:5]\n",
    "bottom10_t_indices = np.argsort(coh)[:5]\n",
    "\n",
    "topic_labels[top10_t_indices]"
   ]
  },
  {
   "cell_type": "code",
   "execution_count": 44,
   "metadata": {
    "colab": {
     "base_uri": "https://localhost:8080/",
     "height": 52
    },
    "colab_type": "code",
    "id": "ce4osHrF0vk_",
    "outputId": "101d2681-428c-4da8-ecd5-1dd14954341c"
   },
   "outputs": [
    {
     "data": {
      "text/plain": [
       "array(['maintain_adjacent_premise', 'quality_patient_health',\n",
       "       'permit_avenue_disable', 'interior_historic_mechanical',\n",
       "       'med_death_annuity'], dtype='<U31')"
      ]
     },
     "execution_count": 44,
     "metadata": {},
     "output_type": "execute_result"
    }
   ],
   "source": [
    "topic_labels[bottom10_t_indices]"
   ]
  },
  {
   "cell_type": "markdown",
   "metadata": {
    "colab_type": "text",
    "id": "akxEPKhF0vlD"
   },
   "source": [
    "More coherence metrics can be used with the function [metric_coherence_gensim()](api.rst#tmtoolkit.topicmod.evaluate.metric_coherence_gensim). This requires that [gensim](https://radimrehurek.com/gensim/) is installed. Furthemore, most metrics require that a parameter `texts` is passed which is the tokenized text that was used to create the document-term matrix."
   ]
  },
  {
   "cell_type": "markdown",
   "metadata": {
    "colab_type": "text",
    "id": "ELRVUOaj0vlD"
   },
   "source": [
    "### Filtering topics\n",
    "\n",
    "With the function [filter_topics()](api.rst#tmtoolkit.topicmod.model_stats.filter_topics), you can filter the topics according to their topic-word distribution and the following search criteria:\n",
    "\n",
    "- `search_pattern`: one or more search patterns according to the [common parameters for pattern matching](preprocessing.ipynb#Common-parameters-for-pattern-matching-functions)\n",
    "- `top_n`: pattern match(es) must occur in the first `top_n` most probable words in the topic\n",
    "- `thresh`: matched words' probability must be above this threshold\n",
    "\n",
    "You must specify at least one of `top_n` and `thresh`, but you can also specify both. The function returns an array of topic indices (which start with zero!).\n",
    "\n",
    "Let's find all topics that have the word \"police\" in the top 5 most probable words:"
   ]
  },
  {
   "cell_type": "code",
   "execution_count": 45,
   "metadata": {
    "colab": {
     "base_uri": "https://localhost:8080/",
     "height": 34
    },
    "colab_type": "code",
    "id": "A691x2-h0vlE",
    "outputId": "a2fc745d-ce8b-4881-8126-134560725ea3",
    "pycharm": {
     "is_executing": false
    }
   },
   "outputs": [
    {
     "data": {
      "text/plain": [
       "array([], dtype=int64)"
      ]
     },
     "execution_count": 45,
     "metadata": {},
     "output_type": "execute_result"
    }
   ],
   "source": [
    "from tmtoolkit.topicmod.model_stats import filter_topics\n",
    "\n",
    "found_topics = filter_topics('finance', vocab,\n",
    "                             best_tm.topic_word_, top_n=5)\n",
    "found_topics"
   ]
  },
  {
   "cell_type": "markdown",
   "metadata": {
    "colab_type": "text",
    "id": "VfQJTQJG0vlI"
   },
   "source": [
    "We can use these indices with our `topic_labels`:"
   ]
  },
  {
   "cell_type": "code",
   "execution_count": 46,
   "metadata": {
    "colab": {
     "base_uri": "https://localhost:8080/",
     "height": 34
    },
    "colab_type": "code",
    "id": "GuLta7XH0vlI",
    "outputId": "6b196e14-e439-466e-9611-e595730122af",
    "pycharm": {
     "is_executing": false
    }
   },
   "outputs": [
    {
     "data": {
      "text/plain": [
       "array([], dtype='<U31')"
      ]
     },
     "execution_count": 46,
     "metadata": {},
     "output_type": "execute_result"
    }
   ],
   "source": [
    "topic_labels[found_topics]"
   ]
  },
  {
   "cell_type": "markdown",
   "metadata": {
    "colab_type": "text",
    "id": "fGWIPUYx0vlM"
   },
   "source": [
    "Next, we want to select all topics where *any* of the words matched by the glob patterns (`match_type='glob'`) `\"trump\"` *or* `\"russia*\"` achieve at least a probability of 0.01 (`thresh=0.01`):"
   ]
  },
  {
   "cell_type": "code",
   "execution_count": 47,
   "metadata": {
    "colab": {
     "base_uri": "https://localhost:8080/",
     "height": 86
    },
    "colab_type": "code",
    "id": "l0YXN2zW0vlN",
    "outputId": "b2d63b36-9130-4750-892f-3bf6cfcf8ea7",
    "pycharm": {
     "is_executing": false
    }
   },
   "outputs": [
    {
     "data": {
      "text/plain": [
       "array(['commissioner_attorney_county', 'health_hospital_thru',\n",
       "       'housing_cha_resolution', 'contract_board_increase',\n",
       "       'contractor_amendment_demolition', 'attorney_payment_submit'],\n",
       "      dtype='<U31')"
      ]
     },
     "execution_count": 47,
     "metadata": {},
     "output_type": "execute_result"
    }
   ],
   "source": [
    "found_topics = filter_topics(['finance', 'contract*'], vocab,\n",
    "                             best_tm.topic_word_, thresh=0.01, match_type='glob')\n",
    "topic_labels[found_topics]"
   ]
  },
  {
   "cell_type": "markdown",
   "metadata": {
    "colab_type": "text",
    "id": "kUJONQqr0vlR"
   },
   "source": [
    "When we specify `cond='all'`, *all* patterns must have at least one match (here in the top 50 list of words per topic):"
   ]
  },
  {
   "cell_type": "code",
   "execution_count": 48,
   "metadata": {
    "colab": {
     "base_uri": "https://localhost:8080/",
     "height": 52
    },
    "colab_type": "code",
    "id": "Gqkpf4Vn0vlT",
    "outputId": "7a22c2c1-2a4b-4f66-c07c-026a27abb4b6",
    "pycharm": {
     "is_executing": false
    }
   },
   "outputs": [
    {
     "data": {
      "text/plain": [
       "array(['health_hospital_thru', 'attorney_payment_submit'], dtype='<U31')"
      ]
     },
     "execution_count": 48,
     "metadata": {},
     "output_type": "execute_result"
    }
   ],
   "source": [
    "found_topics = filter_topics(['finance', 'contract*'], vocab,\n",
    "                             best_tm.topic_word_, top_n=50, match_type='glob',\n",
    "                             cond='all')\n",
    "topic_labels[found_topics]"
   ]
  },
  {
   "cell_type": "markdown",
   "metadata": {
    "colab_type": "text",
    "id": "PgIsGwaS0vlg"
   },
   "source": [
    "### Excluding topics\n",
    "\n",
    "It is often the case that some topics of a topic model rank a lot of uninformative (e.g. very common) words the highest. This results in some uninformative topics, which you may want to exclude from further analysis. Note that if a large fraction of topics seems uninformative, it points to a problem with your topic model and/or your preprocessing steps. You should [evaluate](#Evaluation-of-topic-models) your candidate models carefully with the mentioned metrics and/or adjust your text preprocessing pipeline.\n",
    "\n",
    "The function [exclude_topics()](api.rst#tmtoolkit.topicmod.model_stats.exclude_topics) allows to remove a specified set of topics from the document-topic and topic-word distributions. You need to pass the **zero-based** indices of the topics that you want to remove, and both distributions.\n",
    "\n",
    "In this example, I identified the following topics as uninformative (by looking at the top ranked words either by topic-word distribution or topic-word relevance):"
   ]
  },
  {
   "cell_type": "code",
   "execution_count": 49,
   "metadata": {
    "colab": {
     "base_uri": "https://localhost:8080/",
     "height": 52
    },
    "colab_type": "code",
    "id": "l4nywyY40vlq",
    "outputId": "405cbbee-3c59-4af8-c78a-59d473350f5f",
    "pycharm": {
     "is_executing": false
    }
   },
   "outputs": [
    {
     "data": {
      "text/plain": [
       "array(['maintain_adjacent_premise', 'quality_patient_health',\n",
       "       'permit_avenue_disable', 'interior_historic_mechanical',\n",
       "       'med_death_annuity'], dtype='<U31')"
      ]
     },
     "execution_count": 49,
     "metadata": {},
     "output_type": "execute_result"
    }
   ],
   "source": [
    "topic_labels[bottom10_t_indices]"
   ]
  },
  {
   "cell_type": "markdown",
   "metadata": {
    "colab_type": "text",
    "id": "FwrGKNPO0vls"
   },
   "source": [
    "We can now pass these indices to [exclude_topics()](api.rst#tmtoolkit.topicmod.model_stats.exclude_topics) along with the topic model distributions. We'll get back new, filtered, distributions."
   ]
  },
  {
   "cell_type": "code",
   "execution_count": 50,
   "metadata": {
    "colab": {
     "base_uri": "https://localhost:8080/",
     "height": 34
    },
    "colab_type": "code",
    "id": "f-3F96J90vlu",
    "outputId": "629b6a3d-091a-44e0-f6d1-879ed8384ccb",
    "pycharm": {
     "is_executing": false
    }
   },
   "outputs": [],
   "source": [
    "#from tmtoolkit.topicmod.model_stats import exclude_topics\n",
    "\n",
    "#new_doc_topic, new_topic_word, new_topic_mapping = \\\n",
    "#    exclude_topics(uninform_topics, best_tm.doc_topic_,\n",
    "#                best_tm.topic_word_, return_new_topic_mapping=True)\n",
    "#new_doc_topic.shape, new_topic_word.shape"
   ]
  },
  {
   "cell_type": "markdown",
   "metadata": {
    "colab_type": "text",
    "id": "o2k_bwA20vlw"
   },
   "source": [
    "We can see in the new distributions' shapes that we now have 45 instead of 50 topics, because we removed five of them. We shouldn't forget to also update the topic labels and remove the unwanted topics:"
   ]
  },
  {
   "cell_type": "code",
   "execution_count": 51,
   "metadata": {
    "colab": {
     "base_uri": "https://localhost:8080/",
     "height": 104
    },
    "colab_type": "code",
    "id": "laksfCZx0vlx",
    "outputId": "7329d157-2f3e-4c05-8d93-83414a26cef9",
    "pycharm": {
     "is_executing": false
    }
   },
   "outputs": [
    {
     "ename": "NameError",
     "evalue": "name 'uninform_topics' is not defined",
     "output_type": "error",
     "traceback": [
      "\u001b[0;31m---------------------------------------------------------------------------\u001b[0m",
      "\u001b[0;31mNameError\u001b[0m                                 Traceback (most recent call last)",
      "\u001b[0;32m<ipython-input-51-3a274af16b14>\u001b[0m in \u001b[0;36m<module>\u001b[0;34m()\u001b[0m\n\u001b[0;32m----> 1\u001b[0;31m \u001b[0mnew_topic_labels\u001b[0m \u001b[0;34m=\u001b[0m \u001b[0mnp\u001b[0m\u001b[0;34m.\u001b[0m\u001b[0mdelete\u001b[0m\u001b[0;34m(\u001b[0m\u001b[0mtopic_labels\u001b[0m\u001b[0;34m,\u001b[0m \u001b[0muninform_topics\u001b[0m\u001b[0;34m)\u001b[0m\u001b[0;34m\u001b[0m\u001b[0m\n\u001b[0m\u001b[1;32m      2\u001b[0m \u001b[0mnew_topic_labels\u001b[0m\u001b[0;34m\u001b[0m\u001b[0m\n",
      "\u001b[0;31mNameError\u001b[0m: name 'uninform_topics' is not defined"
     ]
    }
   ],
   "source": [
    "#new_topic_labels = np.delete(topic_labels, uninform_topics)\n",
    "#new_topic_labels"
   ]
  },
  {
   "cell_type": "markdown",
   "metadata": {
    "colab_type": "text",
    "id": "2uES92CG0vl0"
   },
   "source": [
    "## Displaying topic modeling results\n",
    "\n",
    "The [topicmod.model_io](api.rst#module-tmtoolkit.topicmod.model_io) module provides several functions for displaying and exporting topic modeling results, i.e. results derived from the document-topic and topic-word distribution of a given topic model.\n",
    "\n",
    "We already used [ldamodel_top_topic_words()](api.rst#tmtoolkit.topicmod.model_io.ldamodel_top_topic_words) briefly, which generates a dataframe with the top words from a topic-word distribution. You can also use the topic-word relevance matrix instead. With `top_n` we can control the number of top words:"
   ]
  },
  {
   "cell_type": "code",
   "execution_count": 53,
   "metadata": {
    "colab": {
     "base_uri": "https://localhost:8080/",
     "height": 175
    },
    "colab_type": "code",
    "id": "pra_Fppa0vl1",
    "outputId": "f2c9ab46-2746-4316-8da3-4f8ba44e14e0",
    "pycharm": {
     "is_executing": false
    }
   },
   "outputs": [
    {
     "data": {
      "text/html": [
       "<div>\n",
       "<style scoped>\n",
       "    .dataframe tbody tr th:only-of-type {\n",
       "        vertical-align: middle;\n",
       "    }\n",
       "\n",
       "    .dataframe tbody tr th {\n",
       "        vertical-align: top;\n",
       "    }\n",
       "\n",
       "    .dataframe thead th {\n",
       "        text-align: right;\n",
       "    }\n",
       "</style>\n",
       "<table border=\"1\" class=\"dataframe\">\n",
       "  <thead>\n",
       "    <tr style=\"text-align: right;\">\n",
       "      <th></th>\n",
       "      <th>rank_1</th>\n",
       "      <th>rank_2</th>\n",
       "      <th>rank_3</th>\n",
       "      <th>rank_4</th>\n",
       "      <th>rank_5</th>\n",
       "    </tr>\n",
       "    <tr>\n",
       "      <th>topic</th>\n",
       "      <th></th>\n",
       "      <th></th>\n",
       "      <th></th>\n",
       "      <th></th>\n",
       "      <th></th>\n",
       "    </tr>\n",
       "  </thead>\n",
       "  <tbody>\n",
       "    <tr>\n",
       "      <th>topic_1</th>\n",
       "      <td>commissioner (-1.204)</td>\n",
       "      <td>attorney (-1.347)</td>\n",
       "      <td>county (-1.404)</td>\n",
       "      <td>cook (-1.542)</td>\n",
       "      <td>litigation (-1.545)</td>\n",
       "    </tr>\n",
       "    <tr>\n",
       "      <th>topic_2</th>\n",
       "      <td>school (-0.766)</td>\n",
       "      <td>student (-1.007)</td>\n",
       "      <td>support (-1.112)</td>\n",
       "      <td>community (-1.289)</td>\n",
       "      <td>transition (-1.526)</td>\n",
       "    </tr>\n",
       "    <tr>\n",
       "      <th>topic_3</th>\n",
       "      <td>application (-0.8626)</td>\n",
       "      <td>zone (-0.8824)</td>\n",
       "      <td>applicant (-0.9615)</td>\n",
       "      <td>affect (-0.9791)</td>\n",
       "      <td>subject (-1.038)</td>\n",
       "    </tr>\n",
       "    <tr>\n",
       "      <th>topic_4</th>\n",
       "      <td>permit (-0.322)</td>\n",
       "      <td>avenue (-0.3345)</td>\n",
       "      <td>disable (-0.5672)</td>\n",
       "      <td>street (-0.7733)</td>\n",
       "      <td>west (-0.9179)</td>\n",
       "    </tr>\n",
       "    <tr>\n",
       "      <th>topic_5</th>\n",
       "      <td>med (-1.026)</td>\n",
       "      <td>death (-1.044)</td>\n",
       "      <td>annuity (-1.121)</td>\n",
       "      <td>employee (-1.254)</td>\n",
       "      <td>update (-1.263)</td>\n",
       "    </tr>\n",
       "    <tr>\n",
       "      <th>topic_6</th>\n",
       "      <td>interior (-1.044)</td>\n",
       "      <td>historic (-1.095)</td>\n",
       "      <td>mechanical (-1.177)</td>\n",
       "      <td>exterior (-1.196)</td>\n",
       "      <td>work (-1.261)</td>\n",
       "    </tr>\n",
       "    <tr>\n",
       "      <th>topic_7</th>\n",
       "      <td>maintain (-0.1731)</td>\n",
       "      <td>adjacent (-0.2624)</td>\n",
       "      <td>premise (-0.4404)</td>\n",
       "      <td>public (-0.5506)</td>\n",
       "      <td>know (-0.5768)</td>\n",
       "    </tr>\n",
       "    <tr>\n",
       "      <th>topic_8</th>\n",
       "      <td>compliance (-1.602)</td>\n",
       "      <td>information (-1.775)</td>\n",
       "      <td>director (-1.831)</td>\n",
       "      <td>resource (-1.841)</td>\n",
       "      <td>county (-1.88)</td>\n",
       "    </tr>\n",
       "    <tr>\n",
       "      <th>topic_9</th>\n",
       "      <td>health (-0.9059)</td>\n",
       "      <td>hospital (-1.323)</td>\n",
       "      <td>thru (-1.496)</td>\n",
       "      <td>cook (-1.592)</td>\n",
       "      <td>care (-1.609)</td>\n",
       "    </tr>\n",
       "    <tr>\n",
       "      <th>topic_10</th>\n",
       "      <td>service (-1.671)</td>\n",
       "      <td>total (-1.673)</td>\n",
       "      <td>inc (-1.678)</td>\n",
       "      <td>vehicle (-1.931)</td>\n",
       "      <td>june (-2.081)</td>\n",
       "    </tr>\n",
       "    <tr>\n",
       "      <th>topic_11</th>\n",
       "      <td>tax (-1.194)</td>\n",
       "      <td>bond (-1.371)</td>\n",
       "      <td>project (-1.5)</td>\n",
       "      <td>area (-1.568)</td>\n",
       "      <td>redevelopment (-1.679)</td>\n",
       "    </tr>\n",
       "    <tr>\n",
       "      <th>topic_12</th>\n",
       "      <td>propose (-1.259)</td>\n",
       "      <td>plan (-1.377)</td>\n",
       "      <td>locate (-1.459)</td>\n",
       "      <td>land (-1.57)</td>\n",
       "      <td>property (-1.642)</td>\n",
       "    </tr>\n",
       "    <tr>\n",
       "      <th>topic_13</th>\n",
       "      <td>housing (-1.205)</td>\n",
       "      <td>cha (-1.262)</td>\n",
       "      <td>resolution (-1.733)</td>\n",
       "      <td>authority (-1.904)</td>\n",
       "      <td>contract (-1.908)</td>\n",
       "    </tr>\n",
       "    <tr>\n",
       "      <th>topic_14</th>\n",
       "      <td>county (-0.8473)</td>\n",
       "      <td>cook (-1.143)</td>\n",
       "      <td>whereas (-1.15)</td>\n",
       "      <td>property (-1.218)</td>\n",
       "      <td>class (-1.377)</td>\n",
       "    </tr>\n",
       "    <tr>\n",
       "      <th>topic_15</th>\n",
       "      <td>contract (-0.9043)</td>\n",
       "      <td>board (-1.439)</td>\n",
       "      <td>increase (-1.676)</td>\n",
       "      <td>period (-1.771)</td>\n",
       "      <td>procurement (-1.813)</td>\n",
       "    </tr>\n",
       "    <tr>\n",
       "      <th>topic_16</th>\n",
       "      <td>commissioner (-1.218)</td>\n",
       "      <td>preserve (-1.262)</td>\n",
       "      <td>forest (-1.458)</td>\n",
       "      <td>goslin (-1.796)</td>\n",
       "      <td>daley (-1.806)</td>\n",
       "    </tr>\n",
       "    <tr>\n",
       "      <th>topic_17</th>\n",
       "      <td>board (-0.9225)</td>\n",
       "      <td>member (-0.9704)</td>\n",
       "      <td>motion (-1.396)</td>\n",
       "      <td>game (-1.469)</td>\n",
       "      <td>move (-1.553)</td>\n",
       "    </tr>\n",
       "    <tr>\n",
       "      <th>topic_18</th>\n",
       "      <td>contractor (-1.54)</td>\n",
       "      <td>amendment (-1.793)</td>\n",
       "      <td>demolition (-1.851)</td>\n",
       "      <td>commissioner (-1.934)</td>\n",
       "      <td>authorize (-1.96)</td>\n",
       "    </tr>\n",
       "    <tr>\n",
       "      <th>topic_19</th>\n",
       "      <td>budget (-1.65)</td>\n",
       "      <td>victim (-1.695)</td>\n",
       "      <td>committee (-1.799)</td>\n",
       "      <td>meeting (-1.83)</td>\n",
       "      <td>illinois (-1.876)</td>\n",
       "    </tr>\n",
       "    <tr>\n",
       "      <th>topic_20</th>\n",
       "      <td>representation (-0.3351)</td>\n",
       "      <td>respondent (-0.3546)</td>\n",
       "      <td>minor (-0.3873)</td>\n",
       "      <td>case (-0.6918)</td>\n",
       "      <td>render (-0.7345)</td>\n",
       "    </tr>\n",
       "    <tr>\n",
       "      <th>topic_21</th>\n",
       "      <td>ave (-1.016)</td>\n",
       "      <td>residential (-1.072)</td>\n",
       "      <td>common (-1.14)</td>\n",
       "      <td>applicant (-1.275)</td>\n",
       "      <td>district (-1.303)</td>\n",
       "    </tr>\n",
       "    <tr>\n",
       "      <th>topic_22</th>\n",
       "      <td>attorney (-0.4513)</td>\n",
       "      <td>payment (-0.6463)</td>\n",
       "      <td>submit (-0.742)</td>\n",
       "      <td>defendant (-0.8832)</td>\n",
       "      <td>defense (-0.8949)</td>\n",
       "    </tr>\n",
       "    <tr>\n",
       "      <th>topic_23</th>\n",
       "      <td>quality (-0.6406)</td>\n",
       "      <td>patient (-0.865)</td>\n",
       "      <td>health (-1.014)</td>\n",
       "      <td>care (-1.153)</td>\n",
       "      <td>safety (-1.214)</td>\n",
       "    </tr>\n",
       "    <tr>\n",
       "      <th>topic_24</th>\n",
       "      <td>trustee (-0.4342)</td>\n",
       "      <td>annuity (-0.9374)</td>\n",
       "      <td>benefit (-1.152)</td>\n",
       "      <td>fund (-1.23)</td>\n",
       "      <td>cfd (-1.495)</td>\n",
       "    </tr>\n",
       "    <tr>\n",
       "      <th>topic_25</th>\n",
       "      <td>amount (-1.092)</td>\n",
       "      <td>reclamation (-1.155)</td>\n",
       "      <td>water (-1.229)</td>\n",
       "      <td>exceed (-1.244)</td>\n",
       "      <td>purchase (-1.338)</td>\n",
       "    </tr>\n",
       "    <tr>\n",
       "      <th>topic_26</th>\n",
       "      <td>get (-1.617)</td>\n",
       "      <td>go (-1.645)</td>\n",
       "      <td>think (-1.697)</td>\n",
       "      <td>lease (-1.827)</td>\n",
       "      <td>state (-1.838)</td>\n",
       "    </tr>\n",
       "  </tbody>\n",
       "</table>\n",
       "</div>"
      ],
      "text/plain": [
       "                            rank_1                rank_2               rank_3  \\\n",
       "topic                                                                           \n",
       "topic_1      commissioner (-1.204)     attorney (-1.347)      county (-1.404)   \n",
       "topic_2            school (-0.766)      student (-1.007)     support (-1.112)   \n",
       "topic_3      application (-0.8626)        zone (-0.8824)  applicant (-0.9615)   \n",
       "topic_4            permit (-0.322)      avenue (-0.3345)    disable (-0.5672)   \n",
       "topic_5               med (-1.026)        death (-1.044)     annuity (-1.121)   \n",
       "topic_6          interior (-1.044)     historic (-1.095)  mechanical (-1.177)   \n",
       "topic_7         maintain (-0.1731)    adjacent (-0.2624)    premise (-0.4404)   \n",
       "topic_8        compliance (-1.602)  information (-1.775)    director (-1.831)   \n",
       "topic_9           health (-0.9059)     hospital (-1.323)        thru (-1.496)   \n",
       "topic_10          service (-1.671)        total (-1.673)         inc (-1.678)   \n",
       "topic_11              tax (-1.194)         bond (-1.371)       project (-1.5)   \n",
       "topic_12          propose (-1.259)         plan (-1.377)      locate (-1.459)   \n",
       "topic_13          housing (-1.205)          cha (-1.262)  resolution (-1.733)   \n",
       "topic_14          county (-0.8473)         cook (-1.143)      whereas (-1.15)   \n",
       "topic_15        contract (-0.9043)        board (-1.439)    increase (-1.676)   \n",
       "topic_16     commissioner (-1.218)     preserve (-1.262)      forest (-1.458)   \n",
       "topic_17           board (-0.9225)      member (-0.9704)      motion (-1.396)   \n",
       "topic_18        contractor (-1.54)    amendment (-1.793)  demolition (-1.851)   \n",
       "topic_19            budget (-1.65)       victim (-1.695)   committee (-1.799)   \n",
       "topic_20  representation (-0.3351)  respondent (-0.3546)      minor (-0.3873)   \n",
       "topic_21              ave (-1.016)  residential (-1.072)       common (-1.14)   \n",
       "topic_22        attorney (-0.4513)     payment (-0.6463)      submit (-0.742)   \n",
       "topic_23         quality (-0.6406)      patient (-0.865)      health (-1.014)   \n",
       "topic_24         trustee (-0.4342)     annuity (-0.9374)     benefit (-1.152)   \n",
       "topic_25           amount (-1.092)  reclamation (-1.155)       water (-1.229)   \n",
       "topic_26              get (-1.617)           go (-1.645)       think (-1.697)   \n",
       "\n",
       "                         rank_4                  rank_5  \n",
       "topic                                                    \n",
       "topic_1           cook (-1.542)     litigation (-1.545)  \n",
       "topic_2      community (-1.289)     transition (-1.526)  \n",
       "topic_3        affect (-0.9791)        subject (-1.038)  \n",
       "topic_4        street (-0.7733)          west (-0.9179)  \n",
       "topic_5       employee (-1.254)         update (-1.263)  \n",
       "topic_6       exterior (-1.196)           work (-1.261)  \n",
       "topic_7        public (-0.5506)          know (-0.5768)  \n",
       "topic_8       resource (-1.841)          county (-1.88)  \n",
       "topic_9           cook (-1.592)           care (-1.609)  \n",
       "topic_10       vehicle (-1.931)           june (-2.081)  \n",
       "topic_11          area (-1.568)  redevelopment (-1.679)  \n",
       "topic_12           land (-1.57)       property (-1.642)  \n",
       "topic_13     authority (-1.904)       contract (-1.908)  \n",
       "topic_14      property (-1.218)          class (-1.377)  \n",
       "topic_15        period (-1.771)    procurement (-1.813)  \n",
       "topic_16        goslin (-1.796)          daley (-1.806)  \n",
       "topic_17          game (-1.469)           move (-1.553)  \n",
       "topic_18  commissioner (-1.934)       authorize (-1.96)  \n",
       "topic_19        meeting (-1.83)       illinois (-1.876)  \n",
       "topic_20         case (-0.6918)        render (-0.7345)  \n",
       "topic_21     applicant (-1.275)       district (-1.303)  \n",
       "topic_22    defendant (-0.8832)       defense (-0.8949)  \n",
       "topic_23          care (-1.153)         safety (-1.214)  \n",
       "topic_24           fund (-1.23)            cfd (-1.495)  \n",
       "topic_25        exceed (-1.244)       purchase (-1.338)  \n",
       "topic_26         lease (-1.827)          state (-1.838)  "
      ]
     },
     "execution_count": 53,
     "metadata": {},
     "output_type": "execute_result"
    }
   ],
   "source": [
    "# using relevance matrix here\n",
    "ldamodel_top_topic_words(topic_word_rel, vocab, top_n=5)"
   ]
  },
  {
   "cell_type": "markdown",
   "metadata": {
    "colab_type": "text",
    "id": "vL0bSpoL0vl3"
   },
   "source": [
    "Note that the values in parantheses are the corresponding values from the matrix for that word in that topic. They're negative because of the log transformation that is applied in the topic-word relevance measure.\n",
    "\n",
    "A similar function can be used for the document-topic distribution: [ldamodel_top_doc_topics()](api.rst#tmtoolkit.topicmod.model_io.ldamodel_top_doc_topics). Here, `top_n` controls the number of top-ranked topics to export. This time, we use the filtered document-topic distribution `new_doc_topics`:"
   ]
  },
  {
   "cell_type": "code",
   "execution_count": 54,
   "metadata": {
    "colab": {
     "base_uri": "https://localhost:8080/",
     "height": 238
    },
    "colab_type": "code",
    "id": "xInkNFyD0vl4",
    "outputId": "28ab6bae-0364-44f3-9e3f-6e2c488fe1cf",
    "pycharm": {
     "is_executing": false
    }
   },
   "outputs": [
    {
     "data": {
      "text/html": [
       "<div>\n",
       "<style scoped>\n",
       "    .dataframe tbody tr th:only-of-type {\n",
       "        vertical-align: middle;\n",
       "    }\n",
       "\n",
       "    .dataframe tbody tr th {\n",
       "        vertical-align: top;\n",
       "    }\n",
       "\n",
       "    .dataframe thead th {\n",
       "        text-align: right;\n",
       "    }\n",
       "</style>\n",
       "<table border=\"1\" class=\"dataframe\">\n",
       "  <thead>\n",
       "    <tr style=\"text-align: right;\">\n",
       "      <th></th>\n",
       "      <th>rank_1</th>\n",
       "      <th>rank_2</th>\n",
       "      <th>rank_3</th>\n",
       "    </tr>\n",
       "    <tr>\n",
       "      <th>document</th>\n",
       "      <th></th>\n",
       "      <th></th>\n",
       "      <th></th>\n",
       "    </tr>\n",
       "  </thead>\n",
       "  <tbody>\n",
       "    <tr>\n",
       "      <th>5015774-Minutes</th>\n",
       "      <td>get_go_think (0.03846)</td>\n",
       "      <td>amount_reclamation_water (0.03846)</td>\n",
       "      <td>school_student_support (0.03846)</td>\n",
       "    </tr>\n",
       "    <tr>\n",
       "      <th>5015821-Agenda</th>\n",
       "      <td>budget_victim_committee (0.3032)</td>\n",
       "      <td>tax_bond_project (0.2014)</td>\n",
       "      <td>contractor_amendment_demolition (0.1629)</td>\n",
       "    </tr>\n",
       "    <tr>\n",
       "      <th>5015824-Agenda</th>\n",
       "      <td>compliance_information_director (0.2475)</td>\n",
       "      <td>contract_board_increase (0.2355)</td>\n",
       "      <td>tax_bond_project (0.1916)</td>\n",
       "    </tr>\n",
       "    <tr>\n",
       "      <th>5015859-Committee-on-Finance-Audit-amp-Budget-2018-10-10</th>\n",
       "      <td>service_total_inc (0.3149)</td>\n",
       "      <td>housing_cha_resolution (0.2553)</td>\n",
       "      <td>budget_victim_committee (0.1362)</td>\n",
       "    </tr>\n",
       "    <tr>\n",
       "      <th>5015860-Regular-Commission-Meeting-2018-08-23-Minutes</th>\n",
       "      <td>service_total_inc (0.3196)</td>\n",
       "      <td>get_go_think (0.2244)</td>\n",
       "      <td>budget_victim_committee (0.1472)</td>\n",
       "    </tr>\n",
       "  </tbody>\n",
       "</table>\n",
       "</div>"
      ],
      "text/plain": [
       "                                                                                      rank_1  \\\n",
       "document                                                                                       \n",
       "5015774-Minutes                                                       get_go_think (0.03846)   \n",
       "5015821-Agenda                                              budget_victim_committee (0.3032)   \n",
       "5015824-Agenda                                      compliance_information_director (0.2475)   \n",
       "5015859-Committee-on-Finance-Audit-amp-Budget-2...                service_total_inc (0.3149)   \n",
       "5015860-Regular-Commission-Meeting-2018-08-23-M...                service_total_inc (0.3196)   \n",
       "\n",
       "                                                                                rank_2  \\\n",
       "document                                                                                 \n",
       "5015774-Minutes                                     amount_reclamation_water (0.03846)   \n",
       "5015821-Agenda                                               tax_bond_project (0.2014)   \n",
       "5015824-Agenda                                        contract_board_increase (0.2355)   \n",
       "5015859-Committee-on-Finance-Audit-amp-Budget-2...     housing_cha_resolution (0.2553)   \n",
       "5015860-Regular-Commission-Meeting-2018-08-23-M...               get_go_think (0.2244)   \n",
       "\n",
       "                                                                                      rank_3  \n",
       "document                                                                                      \n",
       "5015774-Minutes                                             school_student_support (0.03846)  \n",
       "5015821-Agenda                                      contractor_amendment_demolition (0.1629)  \n",
       "5015824-Agenda                                                     tax_bond_project (0.1916)  \n",
       "5015859-Committee-on-Finance-Audit-amp-Budget-2...          budget_victim_committee (0.1362)  \n",
       "5015860-Regular-Commission-Meeting-2018-08-23-M...          budget_victim_committee (0.1472)  "
      ]
     },
     "execution_count": 54,
     "metadata": {},
     "output_type": "execute_result"
    }
   ],
   "source": [
    "from tmtoolkit.topicmod.model_io import ldamodel_top_doc_topics\n",
    "\n",
    "ldamodel_top_doc_topics(best_tm.doc_topic_, doc_labels, top_n=3,\n",
    "                        topic_labels=topic_labels)[:5]"
   ]
  },
  {
   "cell_type": "markdown",
   "metadata": {
    "colab_type": "text",
    "id": "CmE58wRl0vl6"
   },
   "source": [
    "Let's have a look at one of these documents:"
   ]
  },
  {
   "cell_type": "code",
   "execution_count": 59,
   "metadata": {},
   "outputs": [],
   "source": [
    "doc_topics = ldamodel_top_doc_topics(best_tm.doc_topic_, doc_labels, top_n=3,\n",
    "                        topic_labels=topic_labels)"
   ]
  },
  {
   "cell_type": "code",
   "execution_count": 66,
   "metadata": {},
   "outputs": [],
   "source": [
    "doc_frames = {}\n",
    "for label in topic_labels:\n",
    "    doc_frames[label] = doc_topics.loc[doc_topics.rank_1.str.startswith(label)]"
   ]
  },
  {
   "cell_type": "code",
   "execution_count": 82,
   "metadata": {
    "scrolled": false
   },
   "outputs": [],
   "source": [
    "import shutil\n",
    "\n",
    "TOPICSDIR = '../../data/documenters/topics'\n",
    "\n",
    "for label, frame in doc_frames.items():\n",
    "    with open(os.path.join(TOPICSDIR, '%s.txt' % label), 'w') as docfile:\n",
    "        for doc in frame.index:\n",
    "            docfile.write(doc)\n",
    "            docfile.write('\\n')\n",
    "            os.makedirs(os.path.join(TOPICSDIR, label), exist_ok=True)\n",
    "            shutil.copyfile(os.path.join(DATADIR, '%s.txt' % doc), os.path.join(TOPICSDIR, label, '%s.txt' %  doc))"
   ]
  },
  {
   "cell_type": "code",
   "execution_count": 105,
   "metadata": {},
   "outputs": [],
   "source": [
    "DOCCLOUD_ROOT = 'https://www.documentcloud.org/documents/'\n",
    "\n",
    "with open('topics.html', 'w') as topicindex:\n",
    "    for label, frame in doc_frames.items():\n",
    "        topicindex.write(f'<h3>{label}</h3>')\n",
    "        topicindex.write('<ul>')\n",
    "        for doc in frame.index:\n",
    "            topicindex.write(f'<li><a href=\"{DOCCLOUD_ROOT}{doc}.html\" target=\"_blank\">{doc}</a></li>')\n",
    "            topicindex.write('\\n')\n",
    "        topicindex.write('</ul>')"
   ]
  },
  {
   "cell_type": "code",
   "execution_count": 75,
   "metadata": {},
   "outputs": [
    {
     "name": "stdout",
     "output_type": "stream",
     "text": [
      "Collecting textdistance[Hamming]\n",
      "  Downloading https://files.pythonhosted.org/packages/3f/18/31397b687f50ffae65469175f07faa68f288e27fcd8716276004c42e5637/textdistance-4.1.5-py3-none-any.whl\n",
      "Collecting python-Levenshtein; extra == \"hamming\"\n",
      "\u001b[?25l  Downloading https://files.pythonhosted.org/packages/42/a9/d1785c85ebf9b7dfacd08938dd028209c34a0ea3b1bcdb895208bd40a67d/python-Levenshtein-0.12.0.tar.gz (48kB)\n",
      "\u001b[K     |████████████████████████████████| 51kB 8.1MB/s  eta 0:00:01\n",
      "\u001b[?25hCollecting distance; extra == \"hamming\"\n",
      "\u001b[?25l  Downloading https://files.pythonhosted.org/packages/5c/1a/883e47df323437aefa0d0a92ccfb38895d9416bd0b56262c2e46a47767b8/Distance-0.1.3.tar.gz (180kB)\n",
      "\u001b[K     |████████████████████████████████| 184kB 24.8MB/s eta 0:00:01\n",
      "\u001b[?25hCollecting abydos; extra == \"hamming\"\n",
      "\u001b[?25l  Downloading https://files.pythonhosted.org/packages/7f/a5/ca258a571997be1c9483d6075bbc1b9487ae80f3bb3bf1f60db0b29f5aa6/abydos-0.5.0-py2.py3-none-any.whl (886kB)\n",
      "\u001b[K     |████████████████████████████████| 890kB 16.4MB/s eta 0:00:01\n",
      "\u001b[?25hCollecting jellyfish; extra == \"hamming\"\n",
      "\u001b[?25l  Downloading https://files.pythonhosted.org/packages/3f/80/bcacc7affb47be7279d7d35225e1a932416ed051b315a7f9df20acf04cbe/jellyfish-0.7.2.tar.gz (133kB)\n",
      "\u001b[K     |████████████████████████████████| 143kB 88.2MB/s eta 0:00:01\n",
      "\u001b[?25hRequirement already satisfied: setuptools in /home/ec2-user/anaconda3/envs/tensorflow_p36/lib/python3.6/site-packages (from python-Levenshtein; extra == \"hamming\"->textdistance[Hamming]) (41.6.0)\n",
      "Requirement already satisfied: deprecation in /home/ec2-user/anaconda3/envs/tensorflow_p36/lib/python3.6/site-packages (from abydos; extra == \"hamming\"->textdistance[Hamming]) (2.0.7)\n",
      "Requirement already satisfied: numpy in /home/ec2-user/anaconda3/envs/tensorflow_p36/lib/python3.6/site-packages (from abydos; extra == \"hamming\"->textdistance[Hamming]) (1.18.1)\n",
      "Requirement already satisfied: packaging in /home/ec2-user/anaconda3/envs/tensorflow_p36/lib/python3.6/site-packages (from deprecation->abydos; extra == \"hamming\"->textdistance[Hamming]) (20.1)\n",
      "Requirement already satisfied: pyparsing>=2.0.2 in /home/ec2-user/anaconda3/envs/tensorflow_p36/lib/python3.6/site-packages (from packaging->deprecation->abydos; extra == \"hamming\"->textdistance[Hamming]) (2.2.0)\n",
      "Requirement already satisfied: six in /home/ec2-user/anaconda3/envs/tensorflow_p36/lib/python3.6/site-packages (from packaging->deprecation->abydos; extra == \"hamming\"->textdistance[Hamming]) (1.11.0)\n",
      "Building wheels for collected packages: python-Levenshtein, distance, jellyfish\n",
      "  Building wheel for python-Levenshtein (setup.py) ... \u001b[?25ldone\n",
      "\u001b[?25h  Created wheel for python-Levenshtein: filename=python_Levenshtein-0.12.0-cp36-cp36m-linux_x86_64.whl size=144492 sha256=5c1e6a1d6b6c6f2af7ff786d5cc4ff1922df27afc838f6f1703748e4af195fe6\n",
      "  Stored in directory: /home/ec2-user/.cache/pip/wheels/de/c2/93/660fd5f7559049268ad2dc6d81c4e39e9e36518766eaf7e342\n",
      "  Building wheel for distance (setup.py) ... \u001b[?25ldone\n",
      "\u001b[?25h  Created wheel for distance: filename=Distance-0.1.3-cp36-none-any.whl size=8849 sha256=f119aa86bc896a1fb5060758acabd858df23f26ace930c22a739dab27c46de40\n",
      "  Stored in directory: /home/ec2-user/.cache/pip/wheels/d5/aa/e1/dbba9e7b6d397d645d0f12db1c66dbae9c5442b39b001db18e\n",
      "  Building wheel for jellyfish (setup.py) ... \u001b[?25ldone\n",
      "\u001b[?25h  Created wheel for jellyfish: filename=jellyfish-0.7.2-cp36-cp36m-linux_x86_64.whl size=59662 sha256=9a5979c2f5bfab8236c06420ee21177f56192d8ac0c0923a4b149902971a5700\n",
      "  Stored in directory: /home/ec2-user/.cache/pip/wheels/e8/fe/99/d8fa8f2ef7b82a625b0b77a84d319b0b50693659823c4effb4\n",
      "Successfully built python-Levenshtein distance jellyfish\n",
      "Installing collected packages: python-Levenshtein, distance, abydos, jellyfish, textdistance\n",
      "Successfully installed abydos-0.5.0 distance-0.1.3 jellyfish-0.7.2 python-Levenshtein-0.12.0 textdistance-4.1.5\n",
      "\u001b[33mWARNING: You are using pip version 19.3.1; however, version 20.0.2 is available.\n",
      "You should consider upgrading via the 'pip install --upgrade pip' command.\u001b[0m\n"
     ]
    }
   ],
   "source": [
    "!pip install \"textdistance[Hamming]\""
   ]
  },
  {
   "cell_type": "code",
   "execution_count": 78,
   "metadata": {},
   "outputs": [],
   "source": [
    "import textdistance\n",
    "\n",
    "similarities = []\n",
    "for label, frame in doc_frames.items():\n",
    "    docs = [doc for doc in frame.index]\n",
    "    similarities.append( (textdistance.hamming.normalized_similarity(*docs), label) )"
   ]
  },
  {
   "cell_type": "code",
   "execution_count": 80,
   "metadata": {},
   "outputs": [
    {
     "name": "stdout",
     "output_type": "stream",
     "text": [
      "0.017241 board_member_motion\n",
      "0.017241 budget_victim_committee\n",
      "0.017241 compliance_information_director\n",
      "0.017241 contractor_amendment_demolition\n",
      "0.017241 get_go_think\n",
      "0.017241 housing_cha_resolution\n",
      "0.017241 interior_historic_mechanical\n",
      "0.017241 tax_bond_project\n",
      "0.017544 commissioner_attorney_county\n",
      "0.017544 commissioner_preserve_forest\n",
      "0.017544 contract_board_increase\n",
      "0.017544 trustee_annuity_benefit\n",
      "0.017857 amount_reclamation_water\n",
      "0.017857 county_cook_whereas\n",
      "0.017857 health_hospital_thru\n",
      "0.017857 propose_plan_locate\n",
      "0.017857 quality_patient_health\n",
      "0.017857 school_student_support\n",
      "0.017857 service_total_inc\n",
      "0.018182 ave_residential_common\n",
      "0.018519 application_zone_applicant\n",
      "0.018519 med_death_annuity\n",
      "0.035714 attorney_payment_submit\n",
      "0.035714 maintain_adjacent_premise\n",
      "0.035714 permit_avenue_disable\n",
      "0.821429 representation_respondent_minor\n"
     ]
    }
   ],
   "source": [
    "for score, label in sorted(similarities):\n",
    "    print('{:f}'.format(score), label)"
   ]
  },
  {
   "cell_type": "markdown",
   "metadata": {
    "colab_type": "text",
    "id": "JyZxl5gt0vl-"
   },
   "source": [
    "There are also two functions that generate datatables for the full topic-word and document-topic distributions: [ldamodel_full_topic_words()](api.rst#tmtoolkit.topicmod.model_io.ldamodel_full_topic_words) and [ldamodel_full_doc_topics()](api.rst#tmtoolkit.topicmod.model_io.ldamodel_full_doc_topics). The output of both functions is naturally quite big, as long as you're not working with a \"toy dataset\"."
   ]
  },
  {
   "cell_type": "code",
   "execution_count": 83,
   "metadata": {
    "colab": {
     "base_uri": "https://localhost:8080/",
     "height": 256
    },
    "colab_type": "code",
    "id": "lSFNH2sj0vl-",
    "outputId": "6092260c-0dd0-46e5-8026-387f638bf7c3",
    "pycharm": {
     "is_executing": false
    }
   },
   "outputs": [
    {
     "data": {
      "text/html": [
       "<div>\n",
       "<style scoped>\n",
       "    .dataframe tbody tr th:only-of-type {\n",
       "        vertical-align: middle;\n",
       "    }\n",
       "\n",
       "    .dataframe tbody tr th {\n",
       "        vertical-align: top;\n",
       "    }\n",
       "\n",
       "    .dataframe thead th {\n",
       "        text-align: right;\n",
       "    }\n",
       "</style>\n",
       "<table border=\"1\" class=\"dataframe\">\n",
       "  <thead>\n",
       "    <tr style=\"text-align: right;\">\n",
       "      <th></th>\n",
       "      <th>_topic</th>\n",
       "      <th>100th</th>\n",
       "      <th>107th</th>\n",
       "      <th>10th</th>\n",
       "      <th>115th</th>\n",
       "      <th>125th</th>\n",
       "      <th>127th</th>\n",
       "      <th>134th</th>\n",
       "      <th>135th</th>\n",
       "      <th>13th</th>\n",
       "      <th>...</th>\n",
       "      <th>zero</th>\n",
       "      <th>zimmerman</th>\n",
       "      <th>zip</th>\n",
       "      <th>zone</th>\n",
       "      <th>zoned</th>\n",
       "      <th>zones</th>\n",
       "      <th>zoning</th>\n",
       "      <th>zoo</th>\n",
       "      <th>zoological</th>\n",
       "      <th>zopp</th>\n",
       "    </tr>\n",
       "  </thead>\n",
       "  <tbody>\n",
       "    <tr>\n",
       "      <th>0</th>\n",
       "      <td>commissioner_attorney_county</td>\n",
       "      <td>1.908816e-08</td>\n",
       "      <td>1.908816e-08</td>\n",
       "      <td>1.908816e-08</td>\n",
       "      <td>1.908816e-08</td>\n",
       "      <td>1.908816e-08</td>\n",
       "      <td>1.908816e-08</td>\n",
       "      <td>1.908816e-08</td>\n",
       "      <td>1.908816e-08</td>\n",
       "      <td>1.908816e-08</td>\n",
       "      <td>...</td>\n",
       "      <td>1.908816e-08</td>\n",
       "      <td>1.908816e-08</td>\n",
       "      <td>1.908816e-08</td>\n",
       "      <td>1.908816e-08</td>\n",
       "      <td>1.908816e-08</td>\n",
       "      <td>1.908816e-08</td>\n",
       "      <td>1.908816e-08</td>\n",
       "      <td>1.908816e-08</td>\n",
       "      <td>1.908816e-08</td>\n",
       "      <td>1.908816e-08</td>\n",
       "    </tr>\n",
       "    <tr>\n",
       "      <th>1</th>\n",
       "      <td>school_student_support</td>\n",
       "      <td>1.965853e-08</td>\n",
       "      <td>1.965853e-08</td>\n",
       "      <td>1.965853e-08</td>\n",
       "      <td>1.965853e-08</td>\n",
       "      <td>1.965853e-08</td>\n",
       "      <td>1.965853e-08</td>\n",
       "      <td>1.965853e-08</td>\n",
       "      <td>1.965853e-08</td>\n",
       "      <td>1.965853e-08</td>\n",
       "      <td>...</td>\n",
       "      <td>1.965853e-08</td>\n",
       "      <td>1.965853e-08</td>\n",
       "      <td>1.965853e-08</td>\n",
       "      <td>1.965853e-08</td>\n",
       "      <td>7.865378e-05</td>\n",
       "      <td>1.965853e-08</td>\n",
       "      <td>1.965853e-08</td>\n",
       "      <td>1.965853e-08</td>\n",
       "      <td>1.965853e-08</td>\n",
       "      <td>1.965853e-08</td>\n",
       "    </tr>\n",
       "    <tr>\n",
       "      <th>2</th>\n",
       "      <td>application_zone_applicant</td>\n",
       "      <td>1.365439e-08</td>\n",
       "      <td>2.732244e-05</td>\n",
       "      <td>1.365439e-08</td>\n",
       "      <td>1.365439e-08</td>\n",
       "      <td>1.365439e-08</td>\n",
       "      <td>2.732244e-05</td>\n",
       "      <td>1.365439e-08</td>\n",
       "      <td>1.365439e-08</td>\n",
       "      <td>1.365439e-08</td>\n",
       "      <td>...</td>\n",
       "      <td>1.365439e-08</td>\n",
       "      <td>1.365439e-08</td>\n",
       "      <td>1.365439e-08</td>\n",
       "      <td>3.662110e-02</td>\n",
       "      <td>1.365439e-08</td>\n",
       "      <td>1.365439e-08</td>\n",
       "      <td>1.365439e-08</td>\n",
       "      <td>1.365439e-08</td>\n",
       "      <td>1.365439e-08</td>\n",
       "      <td>1.365439e-08</td>\n",
       "    </tr>\n",
       "    <tr>\n",
       "      <th>3</th>\n",
       "      <td>permit_avenue_disable</td>\n",
       "      <td>9.661994e-05</td>\n",
       "      <td>1.932012e-08</td>\n",
       "      <td>1.932012e-08</td>\n",
       "      <td>1.932012e-08</td>\n",
       "      <td>1.932012e-08</td>\n",
       "      <td>1.932012e-08</td>\n",
       "      <td>1.932012e-08</td>\n",
       "      <td>1.932012e-08</td>\n",
       "      <td>3.865957e-05</td>\n",
       "      <td>...</td>\n",
       "      <td>1.932012e-08</td>\n",
       "      <td>1.932012e-08</td>\n",
       "      <td>1.932012e-08</td>\n",
       "      <td>2.387969e-02</td>\n",
       "      <td>1.932012e-08</td>\n",
       "      <td>1.933944e-05</td>\n",
       "      <td>1.932206e-04</td>\n",
       "      <td>1.932012e-08</td>\n",
       "      <td>1.932012e-08</td>\n",
       "      <td>1.932012e-08</td>\n",
       "    </tr>\n",
       "    <tr>\n",
       "      <th>4</th>\n",
       "      <td>med_death_annuity</td>\n",
       "      <td>2.183191e-08</td>\n",
       "      <td>2.183191e-08</td>\n",
       "      <td>2.185375e-05</td>\n",
       "      <td>2.183191e-08</td>\n",
       "      <td>2.183191e-08</td>\n",
       "      <td>2.183191e-08</td>\n",
       "      <td>2.183191e-08</td>\n",
       "      <td>2.183191e-08</td>\n",
       "      <td>2.183191e-08</td>\n",
       "      <td>...</td>\n",
       "      <td>2.183191e-08</td>\n",
       "      <td>2.183191e-08</td>\n",
       "      <td>2.183191e-08</td>\n",
       "      <td>1.091814e-04</td>\n",
       "      <td>2.183191e-08</td>\n",
       "      <td>2.183191e-08</td>\n",
       "      <td>2.183191e-08</td>\n",
       "      <td>2.183191e-08</td>\n",
       "      <td>2.183191e-08</td>\n",
       "      <td>2.183191e-08</td>\n",
       "    </tr>\n",
       "  </tbody>\n",
       "</table>\n",
       "<p>5 rows × 7504 columns</p>\n",
       "</div>"
      ],
      "text/plain": [
       "                         _topic         100th         107th          10th  \\\n",
       "0  commissioner_attorney_county  1.908816e-08  1.908816e-08  1.908816e-08   \n",
       "1        school_student_support  1.965853e-08  1.965853e-08  1.965853e-08   \n",
       "2    application_zone_applicant  1.365439e-08  2.732244e-05  1.365439e-08   \n",
       "3         permit_avenue_disable  9.661994e-05  1.932012e-08  1.932012e-08   \n",
       "4             med_death_annuity  2.183191e-08  2.183191e-08  2.185375e-05   \n",
       "\n",
       "          115th         125th         127th         134th         135th  \\\n",
       "0  1.908816e-08  1.908816e-08  1.908816e-08  1.908816e-08  1.908816e-08   \n",
       "1  1.965853e-08  1.965853e-08  1.965853e-08  1.965853e-08  1.965853e-08   \n",
       "2  1.365439e-08  1.365439e-08  2.732244e-05  1.365439e-08  1.365439e-08   \n",
       "3  1.932012e-08  1.932012e-08  1.932012e-08  1.932012e-08  1.932012e-08   \n",
       "4  2.183191e-08  2.183191e-08  2.183191e-08  2.183191e-08  2.183191e-08   \n",
       "\n",
       "           13th  ...          zero     zimmerman           zip          zone  \\\n",
       "0  1.908816e-08  ...  1.908816e-08  1.908816e-08  1.908816e-08  1.908816e-08   \n",
       "1  1.965853e-08  ...  1.965853e-08  1.965853e-08  1.965853e-08  1.965853e-08   \n",
       "2  1.365439e-08  ...  1.365439e-08  1.365439e-08  1.365439e-08  3.662110e-02   \n",
       "3  3.865957e-05  ...  1.932012e-08  1.932012e-08  1.932012e-08  2.387969e-02   \n",
       "4  2.183191e-08  ...  2.183191e-08  2.183191e-08  2.183191e-08  1.091814e-04   \n",
       "\n",
       "          zoned         zones        zoning           zoo    zoological  \\\n",
       "0  1.908816e-08  1.908816e-08  1.908816e-08  1.908816e-08  1.908816e-08   \n",
       "1  7.865378e-05  1.965853e-08  1.965853e-08  1.965853e-08  1.965853e-08   \n",
       "2  1.365439e-08  1.365439e-08  1.365439e-08  1.365439e-08  1.365439e-08   \n",
       "3  1.932012e-08  1.933944e-05  1.932206e-04  1.932012e-08  1.932012e-08   \n",
       "4  2.183191e-08  2.183191e-08  2.183191e-08  2.183191e-08  2.183191e-08   \n",
       "\n",
       "           zopp  \n",
       "0  1.908816e-08  \n",
       "1  1.965853e-08  \n",
       "2  1.365439e-08  \n",
       "3  1.932012e-08  \n",
       "4  2.183191e-08  \n",
       "\n",
       "[5 rows x 7504 columns]"
      ]
     },
     "execution_count": 83,
     "metadata": {},
     "output_type": "execute_result"
    }
   ],
   "source": [
    "from tmtoolkit.topicmod.model_io import ldamodel_full_topic_words\n",
    "\n",
    "datatable_topic_word = ldamodel_full_topic_words(best_tm.topic_word_,\n",
    "                                                 vocab,\n",
    "                                                 row_labels=topic_labels)\n",
    "# displaying only the first 5 topics with the first\n",
    "# 10 words from the vocabulary (which are all numbers)\n",
    "#datatable_topic_word[:5, :10]\n",
    "datatable_topic_word[:5]"
   ]
  },
  {
   "cell_type": "code",
   "execution_count": 84,
   "metadata": {
    "colab": {
     "base_uri": "https://localhost:8080/",
     "height": 163
    },
    "colab_type": "code",
    "id": "WVwFOblv0vmB",
    "outputId": "754d37dd-8ae5-4d44-dbb8-37a19bce67ca",
    "pycharm": {
     "is_executing": false
    }
   },
   "outputs": [
    {
     "data": {
      "text/html": [
       "<div>\n",
       "<style scoped>\n",
       "    .dataframe tbody tr th:only-of-type {\n",
       "        vertical-align: middle;\n",
       "    }\n",
       "\n",
       "    .dataframe tbody tr th {\n",
       "        vertical-align: top;\n",
       "    }\n",
       "\n",
       "    .dataframe thead th {\n",
       "        text-align: right;\n",
       "    }\n",
       "</style>\n",
       "<table border=\"1\" class=\"dataframe\">\n",
       "  <thead>\n",
       "    <tr style=\"text-align: right;\">\n",
       "      <th></th>\n",
       "      <th>_doc</th>\n",
       "      <th>commissioner_attorney_county</th>\n",
       "      <th>school_student_support</th>\n",
       "      <th>application_zone_applicant</th>\n",
       "      <th>permit_avenue_disable</th>\n",
       "      <th>med_death_annuity</th>\n",
       "      <th>interior_historic_mechanical</th>\n",
       "      <th>maintain_adjacent_premise</th>\n",
       "      <th>compliance_information_director</th>\n",
       "      <th>health_hospital_thru</th>\n",
       "      <th>...</th>\n",
       "      <th>board_member_motion</th>\n",
       "      <th>contractor_amendment_demolition</th>\n",
       "      <th>budget_victim_committee</th>\n",
       "      <th>representation_respondent_minor</th>\n",
       "      <th>ave_residential_common</th>\n",
       "      <th>attorney_payment_submit</th>\n",
       "      <th>quality_patient_health</th>\n",
       "      <th>trustee_annuity_benefit</th>\n",
       "      <th>amount_reclamation_water</th>\n",
       "      <th>get_go_think</th>\n",
       "    </tr>\n",
       "  </thead>\n",
       "  <tbody>\n",
       "    <tr>\n",
       "      <th>0</th>\n",
       "      <td>5015774-Minutes</td>\n",
       "      <td>3.846154e-02</td>\n",
       "      <td>3.846154e-02</td>\n",
       "      <td>3.846154e-02</td>\n",
       "      <td>3.846154e-02</td>\n",
       "      <td>3.846154e-02</td>\n",
       "      <td>3.846154e-02</td>\n",
       "      <td>3.846154e-02</td>\n",
       "      <td>0.038462</td>\n",
       "      <td>3.846154e-02</td>\n",
       "      <td>...</td>\n",
       "      <td>3.846154e-02</td>\n",
       "      <td>0.038462</td>\n",
       "      <td>3.846154e-02</td>\n",
       "      <td>3.846154e-02</td>\n",
       "      <td>3.846154e-02</td>\n",
       "      <td>3.846154e-02</td>\n",
       "      <td>3.846154e-02</td>\n",
       "      <td>3.846154e-02</td>\n",
       "      <td>3.846154e-02</td>\n",
       "      <td>3.846154e-02</td>\n",
       "    </tr>\n",
       "    <tr>\n",
       "      <th>1</th>\n",
       "      <td>5015821-Agenda</td>\n",
       "      <td>2.262443e-29</td>\n",
       "      <td>2.262443e-29</td>\n",
       "      <td>2.262443e-29</td>\n",
       "      <td>2.262443e-29</td>\n",
       "      <td>2.262443e-29</td>\n",
       "      <td>2.262443e-29</td>\n",
       "      <td>2.262443e-29</td>\n",
       "      <td>0.162896</td>\n",
       "      <td>1.153846e-01</td>\n",
       "      <td>...</td>\n",
       "      <td>5.429864e-02</td>\n",
       "      <td>0.162896</td>\n",
       "      <td>3.031674e-01</td>\n",
       "      <td>2.262443e-29</td>\n",
       "      <td>2.262443e-29</td>\n",
       "      <td>2.262443e-29</td>\n",
       "      <td>2.262443e-29</td>\n",
       "      <td>2.262443e-29</td>\n",
       "      <td>2.262443e-29</td>\n",
       "      <td>2.262443e-29</td>\n",
       "    </tr>\n",
       "    <tr>\n",
       "      <th>2</th>\n",
       "      <td>5015824-Agenda</td>\n",
       "      <td>1.996008e-29</td>\n",
       "      <td>2.994012e-02</td>\n",
       "      <td>1.996008e-29</td>\n",
       "      <td>1.996008e-29</td>\n",
       "      <td>1.996008e-29</td>\n",
       "      <td>9.980040e-03</td>\n",
       "      <td>1.996008e-29</td>\n",
       "      <td>0.247505</td>\n",
       "      <td>1.996008e-29</td>\n",
       "      <td>...</td>\n",
       "      <td>1.996008e-29</td>\n",
       "      <td>0.167665</td>\n",
       "      <td>1.996008e-29</td>\n",
       "      <td>1.996008e-29</td>\n",
       "      <td>1.996008e-29</td>\n",
       "      <td>1.996008e-29</td>\n",
       "      <td>1.996008e-29</td>\n",
       "      <td>1.996008e-29</td>\n",
       "      <td>1.996008e-29</td>\n",
       "      <td>1.197605e-02</td>\n",
       "    </tr>\n",
       "  </tbody>\n",
       "</table>\n",
       "<p>3 rows × 27 columns</p>\n",
       "</div>"
      ],
      "text/plain": [
       "              _doc  commissioner_attorney_county  school_student_support  \\\n",
       "0  5015774-Minutes                  3.846154e-02            3.846154e-02   \n",
       "1   5015821-Agenda                  2.262443e-29            2.262443e-29   \n",
       "2   5015824-Agenda                  1.996008e-29            2.994012e-02   \n",
       "\n",
       "   application_zone_applicant  permit_avenue_disable  med_death_annuity  \\\n",
       "0                3.846154e-02           3.846154e-02       3.846154e-02   \n",
       "1                2.262443e-29           2.262443e-29       2.262443e-29   \n",
       "2                1.996008e-29           1.996008e-29       1.996008e-29   \n",
       "\n",
       "   interior_historic_mechanical  maintain_adjacent_premise  \\\n",
       "0                  3.846154e-02               3.846154e-02   \n",
       "1                  2.262443e-29               2.262443e-29   \n",
       "2                  9.980040e-03               1.996008e-29   \n",
       "\n",
       "   compliance_information_director  health_hospital_thru  ...  \\\n",
       "0                         0.038462          3.846154e-02  ...   \n",
       "1                         0.162896          1.153846e-01  ...   \n",
       "2                         0.247505          1.996008e-29  ...   \n",
       "\n",
       "   board_member_motion  contractor_amendment_demolition  \\\n",
       "0         3.846154e-02                         0.038462   \n",
       "1         5.429864e-02                         0.162896   \n",
       "2         1.996008e-29                         0.167665   \n",
       "\n",
       "   budget_victim_committee  representation_respondent_minor  \\\n",
       "0             3.846154e-02                     3.846154e-02   \n",
       "1             3.031674e-01                     2.262443e-29   \n",
       "2             1.996008e-29                     1.996008e-29   \n",
       "\n",
       "   ave_residential_common  attorney_payment_submit  quality_patient_health  \\\n",
       "0            3.846154e-02             3.846154e-02            3.846154e-02   \n",
       "1            2.262443e-29             2.262443e-29            2.262443e-29   \n",
       "2            1.996008e-29             1.996008e-29            1.996008e-29   \n",
       "\n",
       "   trustee_annuity_benefit  amount_reclamation_water  get_go_think  \n",
       "0             3.846154e-02              3.846154e-02  3.846154e-02  \n",
       "1             2.262443e-29              2.262443e-29  2.262443e-29  \n",
       "2             1.996008e-29              1.996008e-29  1.197605e-02  \n",
       "\n",
       "[3 rows x 27 columns]"
      ]
     },
     "execution_count": 84,
     "metadata": {},
     "output_type": "execute_result"
    }
   ],
   "source": [
    "from tmtoolkit.topicmod.model_io import ldamodel_full_doc_topics\n",
    "\n",
    "datatable_doc_topic = ldamodel_full_doc_topics(best_tm.doc_topic_,\n",
    "                                               doc_labels,\n",
    "                                               topic_labels=topic_labels)\n",
    "# displaying only the first 3 documents with the first\n",
    "# 5 topics\n",
    "#datatable_doc_topic[:3, :5]\n",
    "datatable_doc_topic[:3]"
   ]
  },
  {
   "cell_type": "markdown",
   "metadata": {
    "colab_type": "text",
    "id": "CPD3eOTS0vmE"
   },
   "source": [
    "For quick inspection of topics there's also a pair of print functions. We already used [print_ldamodel_topic_words()](api.rst#tmtoolkit.topicmod.model_io.print_ldamodel_topic_words), but we haven't tried [print_ldamodel_doc_topics()](api.rst#tmtoolkit.topicmod.model_io.print_ldamodel_doc_topics) yet. This prints the `top_n` most probable topics for each document:"
   ]
  },
  {
   "cell_type": "code",
   "execution_count": 85,
   "metadata": {
    "colab": {
     "base_uri": "https://localhost:8080/",
     "height": 364
    },
    "colab_type": "code",
    "id": "sLtMhP8S0vmG",
    "outputId": "b5c11d57-c000-4566-abd0-0df6e8078823",
    "pycharm": {
     "is_executing": false
    }
   },
   "outputs": [
    {
     "name": "stdout",
     "output_type": "stream",
     "text": [
      "5015774-Minutes\n",
      "> #1. get_go_think (0.038462)\n",
      "> #2. amount_reclamation_water (0.038462)\n",
      "> #3. school_student_support (0.038462)\n",
      "5015821-Agenda\n",
      "> #1. budget_victim_committee (0.303167)\n",
      "> #2. tax_bond_project (0.201357)\n",
      "> #3. contractor_amendment_demolition (0.162896)\n",
      "5015824-Agenda\n",
      "> #1. compliance_information_director (0.247505)\n",
      "> #2. contract_board_increase (0.235529)\n",
      "> #3. tax_bond_project (0.191617)\n",
      "5015859-Committee-on-Finance-Audit-amp-Budget-2018-10-10\n",
      "> #1. service_total_inc (0.314894)\n",
      "> #2. housing_cha_resolution (0.255319)\n",
      "> #3. budget_victim_committee (0.136170)\n",
      "5015860-Regular-Commission-Meeting-2018-08-23-Minutes\n",
      "> #1. service_total_inc (0.319569)\n",
      "> #2. get_go_think (0.224417)\n",
      "> #3. budget_victim_committee (0.147217)\n"
     ]
    }
   ],
   "source": [
    "from tmtoolkit.topicmod.model_io import print_ldamodel_doc_topics\n",
    "\n",
    "# subsetting new_doc_topic and doc_labels to get only the first\n",
    "# five documents\n",
    "print_ldamodel_doc_topics(best_tm.doc_topic_[:5, :], doc_labels[:5],\n",
    "                          val_labels=topic_labels)"
   ]
  },
  {
   "cell_type": "markdown",
   "metadata": {
    "colab_type": "text",
    "id": "ma1CFeoy0vmQ"
   },
   "source": [
    "## Visualizing topic models\n",
    "\n",
    "The [topicmod.visualize](api.rst#visualize-topic-models-and-topic-model-evaluation-results) module contains several functions to visualize topic models and evaluation results. We've already used [plot_eval_results()](api.rst#tmtoolkit.topicmod.visualize.plot_eval_results) during [topic model evaluation](#Evaluation-of-topic-models) so we'll now focus on visualizing topic models.\n",
    "\n",
    "### Heatmaps\n",
    "\n",
    "Let's start with heatmap visualizations of document-topic or topic-word distributions from our topic model. This can be done with [plot_doc_topic_heatmap()](api.rst#tmtoolkit.topicmod.visualize.plot_doc_topic_heatmap) and [plot_topic_word_heatmap()](api.rst#tmtoolkit.topicmod.visualize.plot_topic_word_heatmap) respectively. Both functions draw on a [matplotlib](https://matplotlib.org/) figure and *Axes* object, which you must create before using these functions.\n",
    "\n",
    "Heatmap visualizations essentially shade cells in a 2D matrix (like the document-topic or topic-word distributions) according to their value, i.e. the respective probability for a topic in a given document or a word in a given topic. Since these matrices are usually quite large, i.e. with hundreds of rows and/or columns, it doesn't make sense to plot a heatmap of the whole matrix, but rather a certain subset of interest. When we want to visualize a document-topic distribution, we can optionally select a subset of the documents with the `which_documents` parameter and a subset of the topics with the `which_topics` parameter. Let's draw a heatmap of a subset of documents across all topics at first:"
   ]
  },
  {
   "cell_type": "code",
   "execution_count": 99,
   "metadata": {
    "colab": {
     "base_uri": "https://localhost:8080/",
     "height": 611
    },
    "colab_type": "code",
    "id": "rQp-hJNj0vmS",
    "outputId": "0b87cfb7-90c9-43e3-a687-566764cac7d2",
    "pycharm": {
     "is_executing": false
    }
   },
   "outputs": [],
   "source": [
    "import matplotlib.pyplot as plt\n",
    "from tmtoolkit.topicmod.visualize import plot_doc_topic_heatmap\n",
    "\n",
    "which_docs = list(corpus.keys())[:20]\n",
    "which_topics = [label for score, label in sorted(similarities)][:10]"
   ]
  },
  {
   "cell_type": "code",
   "execution_count": 100,
   "metadata": {
    "colab": {
     "base_uri": "https://localhost:8080/",
     "height": 600
    },
    "colab_type": "code",
    "id": "STAB54dJ0vmV",
    "outputId": "f0039f5c-1c8f-41ef-e79d-9f51436984d1",
    "pycharm": {
     "is_executing": false
    }
   },
   "outputs": [
    {
     "data": {
      "image/png": "[encoded data removed]",
      "text/plain": [
       "<Figure size 432x576 with 1 Axes>"
      ]
     },
     "metadata": {},
     "output_type": "display_data"
    }
   ],
   "source": [
    "fig, ax = plt.subplots(figsize=(6, 8))\n",
    "\n",
    "\n",
    "\n",
    "plot_doc_topic_heatmap(fig, ax, best_tm.doc_topic_, doc_labels,\n",
    "                       topic_labels=topic_labels,\n",
    "                       which_documents=which_docs,\n",
    "                       which_topics=which_topics);"
   ]
  },
  {
   "cell_type": "markdown",
   "metadata": {
    "colab_type": "text",
    "id": "MWkeljpQ0vmW",
    "pycharm": {
     "is_executing": false,
     "name": "#%% md\n"
    }
   },
   "source": [
    "Similarily, we can work with [plot_topic_word_heatmap()](api.rst#tmtoolkit.topicmod.visualize.plot_topic_word_heatmap) to visualize a topic-word distribution. We can also select a subset of topics and words from the vocabulary:"
   ]
  },
  {
   "cell_type": "code",
   "execution_count": 101,
   "metadata": {
    "colab": {
     "base_uri": "https://localhost:8080/",
     "height": 524
    },
    "colab_type": "code",
    "id": "673Z1am90vmX",
    "outputId": "66ac9209-d7e5-4252-b85a-254ec59e6c98",
    "pycharm": {
     "name": "#%%\n"
    }
   },
   "outputs": [
    {
     "data": {
      "image/png": "[encoded data removed]",
      "text/plain": [
       "<Figure size 864x576 with 1 Axes>"
      ]
     },
     "metadata": {},
     "output_type": "display_data"
    }
   ],
   "source": [
    "from tmtoolkit.topicmod.visualize import plot_topic_word_heatmap\n",
    "\n",
    "fig, ax = plt.subplots(figsize=(12, 8))\n",
    "\n",
    "which_words = ['finance', 'budget', 'project', 'contract']\n",
    "\n",
    "plot_topic_word_heatmap(fig, ax, best_tm.topic_word_, vocab,\n",
    "                        topic_labels=topic_labels,\n",
    "                        which_topics=which_topics,\n",
    "                        which_words=which_words);"
   ]
  },
  {
   "cell_type": "markdown",
   "metadata": {
    "colab_type": "text",
    "id": "Yv6qhC0I0vmZ"
   },
   "source": [
    "Note that there's also a generic heatmap plotting function [plot_heatmap()](api.rst#plot-heatmaps-for-topic-models) for any kind of 2D matrices. "
   ]
  }
 ],
 "metadata": {
  "colab": {
   "name": "topic_modeling_Russian_FB_ads.ipynb",
   "provenance": []
  },
  "kernelspec": {
   "display_name": "conda_tensorflow_p36",
   "language": "python",
   "name": "conda_tensorflow_p36"
  },
  "language_info": {
   "codemirror_mode": {
    "name": "ipython",
    "version": 3
   },
   "file_extension": ".py",
   "mimetype": "text/x-python",
   "name": "python",
   "nbconvert_exporter": "python",
   "pygments_lexer": "ipython3",
   "version": "3.6.5"
  },
  "pycharm": {
   "stem_cell": {
    "cell_type": "raw",
    "metadata": {
     "collapsed": false
    },
    "source": []
   }
  }
 },
 "nbformat": 4,
 "nbformat_minor": 4
}
