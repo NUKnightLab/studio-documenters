{
 "cells": [
  {
   "cell_type": "markdown",
   "metadata": {},
   "source": [
    "* [TinyDB Docs](https://tinydb.readthedocs.io/en/latest/usage.html)\n",
    "* [Pillow docs](https://pillow.readthedocs.io/en/stable/)"
   ]
  },
  {
   "cell_type": "code",
   "execution_count": 57,
   "metadata": {},
   "outputs": [],
   "source": [
    "from tinydb import TinyDB, Query\n",
    "import webbrowser\n",
    "from collections import Counter\n",
    "from IPython.core.display import display, HTML"
   ]
  },
  {
   "cell_type": "code",
   "execution_count": 32,
   "metadata": {},
   "outputs": [],
   "source": [
    "import json\n",
    "from collections import Counter\n",
    "\n",
    "STOP_WORDS = ['Detroit', 'Cleveland', 'Akron', 'Ohio', 'Allegheny', 'Cuyahoga', 'Summit County', 'Wayne County', 'Michigan' ]\n",
    "KEEP_WORDS = ['Chicago', 'Cook County', 'Illinois']\n",
    "\n",
    "def source_filter(doc_json):\n",
    "    for word in STOP_WORDS:\n",
    "        if word.lower() in doc_json['source'].lower():\n",
    "            return False\n",
    "    return True\n",
    "\n",
    "def inverse_source_filter(doc_json):\n",
    "    return not(source_filter(doc_json))\n",
    "    \n",
    "docs = json.load(open('../data/DocumentCloud/documents.json'))\n",
    "# c = Counter(x['source'] for x in filter(source_filter, docs))\n",
    "# sorted(c)\n",
    "chicago_docs = filter(source_filter,docs)\n",
    "json.dump(list(chicago_docs),open(\"../data/DocumentCloud/filtered_documents.json\",'w'))\n",
    "\n",
    "        "
   ]
  },
  {
   "cell_type": "code",
   "execution_count": 29,
   "metadata": {},
   "outputs": [
    {
     "data": {
      "text/plain": [
       "[('Cook County Government', 3404),\n",
       " ('Chicago City Council', 3144),\n",
       " ('Chicago Housing Authority', 2187),\n",
       " ('Cook County Health and Hospitals System', 1744),\n",
       " ('Chicago Department of Planning and Development', 1376),\n",
       " ('Metropolitan Water Reclamation District of Greater Chicago', 908),\n",
       " ('Cook County Forest Preserves District', 788),\n",
       " ('Illinois Gaming Board', 683),\n",
       " ('Chicago Transit Authority', 380),\n",
       " ('Illinois Labor Relations Board', 372),\n",
       " ('Chicago Public Schools', 293),\n",
       " ('Cook County Pension Fund', 291),\n",
       " ('Illinois Department of Public Health', 253),\n",
       " ('Chicago Special Service Area #33 Wicker Park/Bucktown', 193),\n",
       " ('Illinois Criminal Justice Information Authority', 192),\n",
       " ('Chicago Park District', 187),\n",
       " (\"Municipal Employees' Annuity and Benefit Fund of Chicago\", 178),\n",
       " ('Cook County Board of Commissioners', 149),\n",
       " (\"Chicago Firemen's Annuity and Benefit Fund\", 142),\n",
       " ('Public Building Commission of Chicago', 133),\n",
       " (\"Policemen's Annuity and Benefit Fund of Chicago\", 133),\n",
       " ('City Bureau', 125),\n",
       " ('Illinois Procurement Policy Board', 123),\n",
       " ('Chicago Department of Public Health', 107),\n",
       " ('Chicago Metropolitan Pier and Exposition Authority', 106),\n",
       " ('Illinois Commission on Environmental Justice', 103),\n",
       " ('Chicago Special Service Area #19 Howard Street', 99),\n",
       " ('Chicago Infrastructure Trust', 98),\n",
       " ('Illinois Investment Policy Board', 87),\n",
       " ('Illinois Board of Examiners', 80),\n",
       " ('Cook County Electoral Board (Suburban Cook)', 79),\n",
       " ('Illinois Medical District Commission', 76),\n",
       " ('Chicago Special Service Area #42 71st St/Stony Island', 73),\n",
       " ('Chicago Special Service Area #24 Clark/Morse/Glenwood', 69),\n",
       " ('Chicago Special Service Area #54 Sheridan Road', 61),\n",
       " ('Chicago Special Service Area #43 Devon Avenue', 60),\n",
       " ('Chicago Midway Noise Compatibility Commission', 59),\n",
       " (\"Laborers' & Retirement Board Employees' Annuity & Benefit Fund\", 53),\n",
       " ('Chicago Board of Elections', 50),\n",
       " ('Cook County Land Bank Authority', 43),\n",
       " ('Illinois Lottery Control Board', 41),\n",
       " (\"Chicago Mayor's Pedestrian Advisory Council\", 40),\n",
       " ('Cook County Local Records Commission', 40),\n",
       " ('Chicago Police Department', 39),\n",
       " (\"Mayor's Bicycle Advisory Council\", 39),\n",
       " ('Illinois Opioid Crisis Response Advisory Council', 38),\n",
       " ('Chicago Teachers Pension Fund', 33),\n",
       " ('Chicago Special Service Area #34 Uptown', 32),\n",
       " ('Chicago Special Service Area #5 Commercial Ave', 30),\n",
       " (\"Chicago Mayor's Bicycle Advisory Council\", 23),\n",
       " ('Illinois Liquor Control Commission', 21),\n",
       " ('Illinois Pollution Control Board', 21),\n",
       " ('Chicago Special Service Area #25 Little Village', 21),\n",
       " ('Chicago Special Service Are #2 Belmont/Central', 21),\n",
       " ('Cook County North Shore Mosquito Abatement District', 20),\n",
       " ('City Colleges of Chicago', 20),\n",
       " ('Chicago Special Service Area #1-2015', 20),\n",
       " ('Illinois Complete Count Commission', 20),\n",
       " ('Chicago Zoning Board of Appeals', 19),\n",
       " ('Chicago Special Service Area #29 2014 West Town', 19),\n",
       " ('Chicago Plan Commission', 18),\n",
       " ('Chicago Special Service Area #73 Chinatown', 17),\n",
       " ('Chicago Special Service Area #21 Lincoln Square Ravenswood', 17),\n",
       " ('Illinois Capital Development Board', 16),\n",
       " ('Housing Authority of the City of Pittsburgh', 16),\n",
       " ('Cook County Juvenile Temporary Detention Center Advisory Board', 15),\n",
       " ('Chicago Special Service Area #26 Broadway Commercial District', 15),\n",
       " ('Chicago Special Service Area #14 Marquette Park', 15),\n",
       " ('Illinois International Port District', 13),\n",
       " ('Commission on Chicago Landmarks', 12),\n",
       " ('METRO Regional Transit Authority', 11),\n",
       " ('Chicago Committee on Standards and Tests', 10),\n",
       " ('Chicago Board of Ethics', 9),\n",
       " ('South Cook County Mosquito Abatement District', 9),\n",
       " ('Chicago Community Land Trust', 9),\n",
       " ('Chicago Special Service Area #27 Lakeview West', 8),\n",
       " ('Chicago Police Board', 8),\n",
       " ('Chicago Special Service Area #28 Six Corners', 7),\n",
       " ('Regional Transportation Authority', 7),\n",
       " ('Illinois Arts Council', 6),\n",
       " ('Pace Suburban Bus Services', 6),\n",
       " ('Cook County Zoning Board of Appeals', 5),\n",
       " ('Chicago Commission on Human Relations', 5),\n",
       " ('Chicago Community Development Commission', 3),\n",
       " ('Chicago Special Service Area #72 Austin', 3),\n",
       " ('Chicago Special Service Area #2 Belmont/Central', 3),\n",
       " ('Chicago Special Service Area #62 Sauganash', 2),\n",
       " ('Cook County Housing Authority', 2),\n",
       " ('Chicago Emergency Telephone System Fund', 2),\n",
       " ('Chicago Public Schools Community Action Councils', 2),\n",
       " ('Chicago Low-Income Housing Trust Fund', 2),\n",
       " ('Chicago Animal Care and Control', 2),\n",
       " ('Illinois Attorney General - Public Access Bureau', 1),\n",
       " ('Chicago Public Library', 1)]"
      ]
     },
     "execution_count": 29,
     "metadata": {},
     "output_type": "execute_result"
    }
   ],
   "source": [
    "c.most_common()"
   ]
  },
  {
   "cell_type": "code",
   "execution_count": 5,
   "metadata": {},
   "outputs": [
    {
     "data": {
      "text/plain": [
       "{'id': '6572198-Committee-on-License-and-Consumer-Protection',\n",
       " 'title': 'Committee on License and Consumer Protection 2019-12-12 - Notice',\n",
       " 'access': 'public',\n",
       " 'pages': 1,\n",
       " 'description': None,\n",
       " 'source': 'Chicago City Council',\n",
       " 'created_at': 'Tue, 10 Dec 2019 12:34:30 +0000',\n",
       " 'updated_at': 'Tue, 10 Dec 2019 12:34:35 +0000',\n",
       " 'canonical_url': 'https://www.documentcloud.org/documents/6572198-Committee-on-License-and-Consumer-Protection.html',\n",
       " 'language': 'eng',\n",
       " 'file_hash': '25511fc244dab7114fd8d94721bea4b14b225716',\n",
       " 'display_language': 'eng',\n",
       " 'resources': {'pdf': 'https://assets.documentcloud.org/documents/6572198/Committee-on-License-and-Consumer-Protection.pdf',\n",
       "  'text': 'https://assets.documentcloud.org/documents/6572198/Committee-on-License-and-Consumer-Protection.txt',\n",
       "  'thumbnail': 'https://assets.documentcloud.org/documents/6572198/pages/Committee-on-License-and-Consumer-Protection-p1-thumbnail.gif',\n",
       "  'search': 'https://www.documentcloud.org/documents/6572198/search.json?q={query}',\n",
       "  'print_annotations': 'https://www.documentcloud.org/notes/print?docs[]=6572198',\n",
       "  'translations_url': 'https://www.documentcloud.org/translations/{realm}/{language}',\n",
       "  'page': {'image': 'https://assets.documentcloud.org/documents/6572198/pages/Committee-on-License-and-Consumer-Protection-p{page}-{size}.gif',\n",
       "   'text': 'https://www.documentcloud.org/documents/6572198/pages/Committee-on-License-and-Consumer-Protection-p{page}.txt'},\n",
       "  'published_url': 'https://www.documentcloud.org/documents/6572198-Committee-on-License-and-Consumer-Protection.html'}}"
      ]
     },
     "execution_count": 5,
     "metadata": {},
     "output_type": "execute_result"
    }
   ],
   "source": [
    "docs[0]"
   ]
  },
  {
   "cell_type": "code",
   "execution_count": 30,
   "metadata": {},
   "outputs": [],
   "source": [
    "db = TinyDB('../data/DocumentCloud/db.json')\n",
    "empty_file_ids = !find ../data/DocumentCloud/text -size 0 | awk -F/ '{print $5}' | awk -F. '{print $1}'\n",
    "recs = db.search(Query().id.one_of(empty_file_ids))"
   ]
  },
  {
   "cell_type": "code",
   "execution_count": 53,
   "metadata": {},
   "outputs": [
    {
     "data": {
      "text/plain": [
       "[(1, 54),\n",
       " (2, 30),\n",
       " (3, 18),\n",
       " (7, 13),\n",
       " (4, 13),\n",
       " (11, 9),\n",
       " (10, 8),\n",
       " (5, 6),\n",
       " (14, 5),\n",
       " (8, 4)]"
      ]
     },
     "execution_count": 53,
     "metadata": {},
     "output_type": "execute_result"
    }
   ],
   "source": [
    "Counter(x['pages'] for x in recs).most_common(10)"
   ]
  },
  {
   "cell_type": "code",
   "execution_count": 124,
   "metadata": {},
   "outputs": [
    {
     "data": {
      "text/html": [
       "<div style='display: grid;'>\n",
       "        <div style=\"display: inline-grid; width: 200px\">\n",
       "        <a href=\"https://www.documentcloud.org/documents/6568796-Six-Corners-Commission-2019-12-02-Agenda.html\"><img style=\"border: 1px solid black\" src=\"https://assets.documentcloud.org/documents/6568796/pages/Six-Corners-Commission-2019-12-02-Agenda-p1-thumbnail.gif\"></a>\n",
       "        Six Corners Commission 2019-12-02 - Agenda <a href=\"https://assets.documentcloud.org/documents/6568796/Six-Corners-Commission-2019-12-02-Agenda.txt\">[ TXT ]</a> \n",
       "        </div>\n",
       "         \n",
       "        <div style=\"display: inline-grid; width: 200px\">\n",
       "        <a href=\"https://www.documentcloud.org/documents/6564528-Board-of-Directors-2019-07-18-Minutes.html\"><img style=\"border: 1px solid black\" src=\"https://assets.documentcloud.org/documents/6564528/pages/Board-of-Directors-2019-07-18-Minutes-p1-thumbnail.gif\"></a>\n",
       "        Board of Directors 2019-07-18 - Minutes <a href=\"https://assets.documentcloud.org/documents/6564528/Board-of-Directors-2019-07-18-Minutes.txt\">[ TXT ]</a> \n",
       "        </div>\n",
       "         \n",
       "        <div style=\"display: inline-grid; width: 200px\">\n",
       "        <a href=\"https://www.documentcloud.org/documents/6564304-Annual-Board-of-Directors-Meeting-2019-01-29.html\"><img style=\"border: 1px solid black\" src=\"https://assets.documentcloud.org/documents/6564304/pages/Annual-Board-of-Directors-Meeting-2019-01-29-p1-thumbnail.gif\"></a>\n",
       "        Annual Board of Directors Meeting 2019-01-29 - Minutes <a href=\"https://assets.documentcloud.org/documents/6564304/Annual-Board-of-Directors-Meeting-2019-01-29.txt\">[ TXT ]</a> \n",
       "        </div>\n",
       "        </div>"
      ],
      "text/plain": [
       "<__main__.DocList at 0x10e0d4a10>"
      ]
     },
     "execution_count": 124,
     "metadata": {},
     "output_type": "execute_result"
    }
   ],
   "source": [
    "class DocDisplayWidget:\n",
    "    def __init__(self, data):\n",
    "        self.data = data\n",
    "    def _repr_html_(self):\n",
    "        html = f\"\"\"\n",
    "        <div style=\"display: inline-grid; width: 200px\">\n",
    "        <a href=\\\"{self.data['canonical_url']}\\\"><img style=\"border: 1px solid black\" src=\"{self.data['resources']['thumbnail']}\"></a>\n",
    "        {self.data['title']} <a href=\\\"{self.data['resources']['text']}\\\">[ TXT ]</a> \n",
    "        </div>\n",
    "        \"\"\"\n",
    "        return html\n",
    "    def __repr__(self):\n",
    "        return f\"{self.data['title']} ({self.data['id']})\"\n",
    "\n",
    "    \n",
    "class DocList:\n",
    "    def __init__(self,docs=None):\n",
    "        if docs is None:\n",
    "            docs = []\n",
    "        self.docs = docs\n",
    "    def add(self, doc):\n",
    "        self.docs.append(doc)\n",
    "    def _repr_html_(self):\n",
    "        concat = \" \".join(x._repr_html_() for x in self.docs)\n",
    "        return f\"<div style='display: grid;'>{concat}</div>\"\n",
    "\n",
    "DocList([DocDisplayWidget(x) for x in recs[:3]])    "
   ]
  },
  {
   "cell_type": "code",
   "execution_count": null,
   "metadata": {},
   "outputs": [],
   "source": [
    "import requests\n",
    "from PIL import Image\n",
    "from io import BytesIO\n",
    "\n",
    "\n",
    "def getimage(doc):\n",
    "    \"\"\"Return the colors for the thumbnail in this document record\"\"\"\n",
    "    thumb_url = doc['resources']['thumbnail']\n",
    "    r = requests.get(thumb_url)\n",
    "    i = Image.open(BytesIO(r.content))\n",
    "    return i\n",
    "\n",
    "for x in recs:\n",
    "    x['image'] = getimage(x)\n",
    "    print(x['title'])\n",
    "    "
   ]
  },
  {
   "cell_type": "code",
   "execution_count": 174,
   "metadata": {},
   "outputs": [
    {
     "data": {
      "image/png": "[encoded data removed]",
      "text/plain": [
       "<PIL.GifImagePlugin.GifImageFile image mode=P size=60x75 at 0x10E143910>"
      ]
     },
     "metadata": {},
     "output_type": "display_data"
    },
    {
     "name": "stdout",
     "output_type": "stream",
     "text": [
      "Six Corners Commission 2019-12-02 - Agenda\n"
     ]
    },
    {
     "data": {
      "image/png": "[encoded data removed]",
      "text/plain": [
       "<PIL.GifImagePlugin.GifImageFile image mode=P size=60x75 at 0x1103D4ED0>"
      ]
     },
     "metadata": {},
     "output_type": "display_data"
    },
    {
     "name": "stdout",
     "output_type": "stream",
     "text": [
      "Board of Directors 2019-07-18 - Minutes\n"
     ]
    },
    {
     "data": {
      "image/png": "[encoded data removed]",
      "text/plain": [
       "<PIL.GifImagePlugin.GifImageFile image mode=P size=60x75 at 0x10E075090>"
      ]
     },
     "metadata": {},
     "output_type": "display_data"
    },
    {
     "name": "stdout",
     "output_type": "stream",
     "text": [
      "Annual Board of Directors Meeting 2019-01-29 - Minutes\n"
     ]
    },
    {
     "data": {
      "image/png": "[encoded data removed]",
      "text/plain": [
       "<PIL.GifImagePlugin.GifImageFile image mode=P size=60x75 at 0x10E0A5290>"
      ]
     },
     "metadata": {},
     "output_type": "display_data"
    },
    {
     "name": "stdout",
     "output_type": "stream",
     "text": [
      "Board of Directors 2019-05-16 - Agenda\n"
     ]
    },
    {
     "data": {
      "image/png": "[encoded data removed]",
      "text/plain": [
       "<PIL.GifImagePlugin.GifImageFile image mode=P size=60x75 at 0x10E0E0810>"
      ]
     },
     "metadata": {},
     "output_type": "display_data"
    },
    {
     "name": "stdout",
     "output_type": "stream",
     "text": [
      "Board of Directors Special Meeting 2019-09-05 - Agenda\n"
     ]
    },
    {
     "data": {
      "image/png": "[encoded data removed]",
      "text/plain": [
       "<PIL.GifImagePlugin.GifImageFile image mode=P size=60x75 at 0x11095F250>"
      ]
     },
     "metadata": {},
     "output_type": "display_data"
    },
    {
     "name": "stdout",
     "output_type": "stream",
     "text": [
      "Board of Directors 2019-07-18 - Agenda\n"
     ]
    },
    {
     "data": {
      "image/png": "[encoded data removed]",
      "text/plain": [
       "<PIL.GifImagePlugin.GifImageFile image mode=P size=60x75 at 0x10E0BC810>"
      ]
     },
     "metadata": {},
     "output_type": "display_data"
    },
    {
     "name": "stdout",
     "output_type": "stream",
     "text": [
      "Board of Directors Meeting and Retreat 2019-03-29 - Agenda\n"
     ]
    },
    {
     "data": {
      "image/png": "[encoded data removed]",
      "text/plain": [
       "<PIL.GifImagePlugin.GifImageFile image mode=P size=60x75 at 0x10E0BCC10>"
      ]
     },
     "metadata": {},
     "output_type": "display_data"
    },
    {
     "name": "stdout",
     "output_type": "stream",
     "text": [
      "Board of Directors 2019-05-16 - Minutes\n"
     ]
    },
    {
     "data": {
      "image/png": "[encoded data removed]",
      "text/plain": [
       "<PIL.GifImagePlugin.GifImageFile image mode=P size=60x75 at 0x10E1434D0>"
      ]
     },
     "metadata": {},
     "output_type": "display_data"
    },
    {
     "name": "stdout",
     "output_type": "stream",
     "text": [
      "Annual Board of Directors Meeting 2019-01-29 - Agenda\n"
     ]
    },
    {
     "data": {
      "image/png": "[encoded data removed]",
      "text/plain": [
       "<PIL.GifImagePlugin.GifImageFile image mode=P size=60x75 at 0x10E0BCE10>"
      ]
     },
     "metadata": {},
     "output_type": "display_data"
    },
    {
     "name": "stdout",
     "output_type": "stream",
     "text": [
      "Board of Directors Special Meeting 2019-09-05 - Minutes\n"
     ]
    },
    {
     "data": {
      "image/png": "[encoded data removed]",
      "text/plain": [
       "<PIL.GifImagePlugin.GifImageFile image mode=P size=60x75 at 0x10E0B1990>"
      ]
     },
     "metadata": {},
     "output_type": "display_data"
    },
    {
     "name": "stdout",
     "output_type": "stream",
     "text": [
      "Board of Directors Meeting and Retreat 2019-03-29 - Minutes\n"
     ]
    },
    {
     "data": {
      "image/png": "[encoded data removed]",
      "text/plain": [
       "<PIL.GifImagePlugin.GifImageFile image mode=P size=60x75 at 0x10E0E0AD0>"
      ]
     },
     "metadata": {},
     "output_type": "display_data"
    },
    {
     "name": "stdout",
     "output_type": "stream",
     "text": [
      "Board of Directors 2019-11-21 - Agenda\n"
     ]
    },
    {
     "data": {
      "image/png": "[encoded data removed]",
      "text/plain": [
       "<PIL.GifImagePlugin.GifImageFile image mode=P size=60x75 at 0x10E0A57D0>"
      ]
     },
     "metadata": {},
     "output_type": "display_data"
    },
    {
     "name": "stdout",
     "output_type": "stream",
     "text": [
      "Detroit City Council Formal Session 2019-11-12 - PED FORMAL AGENDA REFERRAL 11-12-2019.Pdf\n"
     ]
    },
    {
     "data": {
      "image/png": "[encoded data removed]",
      "text/plain": [
       "<PIL.GifImagePlugin.GifImageFile image mode=P size=60x75 at 0x10F379E10>"
      ]
     },
     "metadata": {},
     "output_type": "display_data"
    },
    {
     "name": "stdout",
     "output_type": "stream",
     "text": [
      "Six Corners Commission 2019-10-17 - Agenda\n"
     ]
    },
    {
     "data": {
      "image/png": "[encoded data removed]",
      "text/plain": [
       "<PIL.GifImagePlugin.GifImageFile image mode=P size=60x75 at 0x10F379E90>"
      ]
     },
     "metadata": {},
     "output_type": "display_data"
    },
    {
     "name": "stdout",
     "output_type": "stream",
     "text": [
      "Six Corners Commission 2019-07-11 - Agenda\n"
     ]
    },
    {
     "data": {
      "image/png": "[encoded data removed]",
      "text/plain": [
       "<PIL.GifImagePlugin.GifImageFile image mode=P size=60x75 at 0x10E3EC7D0>"
      ]
     },
     "metadata": {},
     "output_type": "display_data"
    },
    {
     "name": "stdout",
     "output_type": "stream",
     "text": [
      "Six Corners Commission 2019-07-11 - Minutes\n"
     ]
    },
    {
     "data": {
      "image/png": "[encoded data removed]",
      "text/plain": [
       "<PIL.GifImagePlugin.GifImageFile image mode=P size=60x75 at 0x10F357150>"
      ]
     },
     "metadata": {},
     "output_type": "display_data"
    },
    {
     "name": "stdout",
     "output_type": "stream",
     "text": [
      "Six Corners Commission 2019-04-18 - Minutes\n"
     ]
    },
    {
     "data": {
      "image/png": "[encoded data removed]",
      "text/plain": [
       "<PIL.GifImagePlugin.GifImageFile image mode=P size=60x75 at 0x1103C9310>"
      ]
     },
     "metadata": {},
     "output_type": "display_data"
    },
    {
     "name": "stdout",
     "output_type": "stream",
     "text": [
      "Six Corners Commission 2019-04-18 - Agenda\n"
     ]
    },
    {
     "data": {
      "image/png": "[encoded data removed]",
      "text/plain": [
       "<PIL.GifImagePlugin.GifImageFile image mode=P size=60x75 at 0x10EDDB110>"
      ]
     },
     "metadata": {},
     "output_type": "display_data"
    },
    {
     "name": "stdout",
     "output_type": "stream",
     "text": [
      "Six Corners Commission 2019-01-17 - Minutes\n"
     ]
    },
    {
     "data": {
      "image/png": "[encoded data removed]",
      "text/plain": [
       "<PIL.GifImagePlugin.GifImageFile image mode=P size=60x75 at 0x10E0F8BD0>"
      ]
     },
     "metadata": {},
     "output_type": "display_data"
    },
    {
     "name": "stdout",
     "output_type": "stream",
     "text": [
      "New Business Council Session 2019-01-15 - NEW BUSINESS VOTING 1-15-19.Pdf\n"
     ]
    },
    {
     "data": {
      "text/plain": [
       "20"
      ]
     },
     "execution_count": 174,
     "metadata": {},
     "output_type": "execute_result"
    }
   ],
   "source": [
    "# '6544125-Detroit-City-Council-Formal-Session-2019-11-12' has 11 colors, but one of them is 96% of pixels in the thumbnail and clearly doesn't have naything interesting\n",
    "# find more like that.\n",
    "chk = []\n",
    "for i,x in enumerate(recs):\n",
    "    for count, color in x['image'].getcolors():\n",
    "        if count / 4500 > .96:\n",
    "            chk.append(x)\n",
    "            display(x['image'])\n",
    "            print(x['title'])\n",
    "len(chk)"
   ]
  },
  {
   "cell_type": "code",
   "execution_count": 162,
   "metadata": {},
   "outputs": [
    {
     "data": {
      "text/plain": [
       "11"
      ]
     },
     "execution_count": 162,
     "metadata": {},
     "output_type": "execute_result"
    }
   ],
   "source": [
    "len(recs[14]['image'].getcolors())"
   ]
  },
  {
   "cell_type": "code",
   "execution_count": 115,
   "metadata": {},
   "outputs": [
    {
     "data": {
      "text/html": [
       "\n",
       "        <div style=\"width: 200px\">\n",
       "        <a href=\"https://www.documentcloud.org/documents/6544125-Detroit-City-Council-Formal-Session-2019-11-12.html\"><img style=\"border: 1px solid black\" src=\"https://assets.documentcloud.org/documents/6544125/pages/Detroit-City-Council-Formal-Session-2019-11-12-p1-thumbnail.gif\"></a>\n",
       "        <br>Detroit City Council Formal Session 2019-11-12 - PED FORMAL AGENDA REFERRAL 11-12-2019.Pdf [<a href=\"https://assets.documentcloud.org/documents/6544125/Detroit-City-Council-Formal-Session-2019-11-12.txt\">TXT</a>]\n",
       "        </div>\n",
       "        "
      ],
      "text/plain": [
       "Detroit City Council Formal Session 2019-11-12 - PED FORMAL AGENDA REFERRAL 11-12-2019.Pdf (6544125-Detroit-City-Council-Formal-Session-2019-11-12)"
      ]
     },
     "execution_count": 115,
     "metadata": {},
     "output_type": "execute_result"
    }
   ],
   "source": [
    "# TODO: maybe something more than colors, because there are a couple that are nearly blank but have \n",
    "# just a little schmutz in them, like...\n",
    "DocDisplayWidget(chk[2])"
   ]
  },
  {
   "cell_type": "code",
   "execution_count": 111,
   "metadata": {},
   "outputs": [
    {
     "data": {
      "text/html": [
       "\n",
       "        <div style=\"width: 200px\">\n",
       "        <a href=\"https://www.documentcloud.org/documents/6531993-Detroit-City-Council-New-Business-Session-2019.html\"><img style=\"border: 1px solid black\" src=\"https://assets.documentcloud.org/documents/6531993/pages/Detroit-City-Council-New-Business-Session-2019-p1-thumbnail.gif\"></a>\n",
       "        <br>Detroit City Council New Business Session 2019-10-29 - NEW BUSINESS VOTING 10-29-19.Pdf [<a href=\"https://assets.documentcloud.org/documents/6531993/Detroit-City-Council-New-Business-Session-2019.txt\">TXT</a>]\n",
       "        </div>\n",
       "        <hr>\n",
       "        <div style=\"width: 200px\">\n",
       "        <a href=\"https://www.documentcloud.org/documents/6523829-Board-of-Directors-2019-09-24-MPEA-Board-Minutes.html\"><img style=\"border: 1px solid black\" src=\"https://assets.documentcloud.org/documents/6523829/pages/Board-of-Directors-2019-09-24-MPEA-Board-Minutes-p1-thumbnail.gif\"></a>\n",
       "        <br>Board of Directors 2019-09-24 - MPEA_Board_Minutes_Regular_Session_September_24_2019_Final [<a href=\"https://assets.documentcloud.org/documents/6523829/Board-of-Directors-2019-09-24-MPEA-Board-Minutes.txt\">TXT</a>]\n",
       "        </div>\n",
       "        <hr>\n",
       "        <div style=\"width: 200px\">\n",
       "        <a href=\"https://www.documentcloud.org/documents/6512077-Special-board-meeting-2019-09-18-Agenda-For-The.html\"><img style=\"border: 1px solid black\" src=\"https://assets.documentcloud.org/documents/6512077/pages/Special-board-meeting-2019-09-18-Agenda-For-The-p1-thumbnail.gif\"></a>\n",
       "        <br>Special board meeting 2019-09-18 - Agenda For The Special Board Meeting Of The Board Of Education [<a href=\"https://assets.documentcloud.org/documents/6512077/Special-board-meeting-2019-09-18-Agenda-For-The.txt\">TXT</a>]\n",
       "        </div>\n",
       "        <hr>\n",
       "        <div style=\"width: 200px\">\n",
       "        <a href=\"https://www.documentcloud.org/documents/6512072-Board-of-Police-Commissioners-2019-10-24-Agenda.html\"><img style=\"border: 1px solid black\" src=\"https://assets.documentcloud.org/documents/6512072/pages/Board-of-Police-Commissioners-2019-10-24-Agenda-p1-thumbnail.gif\"></a>\n",
       "        <br>Board of Police Commissioners 2019-10-24 - Agenda-October-24Th-2019_Original.Pdf [<a href=\"https://assets.documentcloud.org/documents/6512072/Board-of-Police-Commissioners-2019-10-24-Agenda.txt\">TXT</a>]\n",
       "        </div>\n",
       "        <hr>\n",
       "        <div style=\"width: 200px\">\n",
       "        <a href=\"https://www.documentcloud.org/documents/6512061-Board-of-Police-Commissioners-2019-10-17-Agenda.html\"><img style=\"border: 1px solid black\" src=\"https://assets.documentcloud.org/documents/6512061/pages/Board-of-Police-Commissioners-2019-10-17-Agenda-p1-thumbnail.gif\"></a>\n",
       "        <br>Board of Police Commissioners 2019-10-17 - Agenda-Oct-17Th-2019_Original.Pdf [<a href=\"https://assets.documentcloud.org/documents/6512061/Board-of-Police-Commissioners-2019-10-17-Agenda.txt\">TXT</a>]\n",
       "        </div>\n",
       "        <hr>\n",
       "        <div style=\"width: 200px\">\n",
       "        <a href=\"https://www.documentcloud.org/documents/6512054-Finance-and-Audit-Committee-2019-07-24-Agenda.html\"><img style=\"border: 1px solid black\" src=\"https://assets.documentcloud.org/documents/6512054/pages/Finance-and-Audit-Committee-2019-07-24-Agenda-p1-thumbnail.gif\"></a>\n",
       "        <br>Finance and Audit Committee 2019-07-24 - Agenda For The Chicago Board Of Education Finance And Audit Committee Meeting [<a href=\"https://assets.documentcloud.org/documents/6512054/Finance-and-Audit-Committee-2019-07-24-Agenda.txt\">TXT</a>]\n",
       "        </div>\n",
       "        <hr>\n",
       "        <div style=\"width: 200px\">\n",
       "        <a href=\"https://www.documentcloud.org/documents/6512050-Finance-and-Audit-Committee-2019-04-24-Agenda.html\"><img style=\"border: 1px solid black\" src=\"https://assets.documentcloud.org/documents/6512050/pages/Finance-and-Audit-Committee-2019-04-24-Agenda-p1-thumbnail.gif\"></a>\n",
       "        <br>Finance and Audit Committee 2019-04-24 - Agenda For The Chicago Board Of Education Finance And Audit Committee Meeting [<a href=\"https://assets.documentcloud.org/documents/6512050/Finance-and-Audit-Committee-2019-04-24-Agenda.txt\">TXT</a>]\n",
       "        </div>\n",
       "        <hr>\n",
       "        <div style=\"width: 200px\">\n",
       "        <a href=\"https://www.documentcloud.org/documents/6512047-Finance-and-Audit-Committee-2018-10-24-Agenda.html\"><img style=\"border: 1px solid black\" src=\"https://assets.documentcloud.org/documents/6512047/pages/Finance-and-Audit-Committee-2018-10-24-Agenda-p1-thumbnail.gif\"></a>\n",
       "        <br>Finance and Audit Committee 2018-10-24 - Agenda For The Chicago Board Of Education Finance And Audit Committee Meeting [<a href=\"https://assets.documentcloud.org/documents/6512047/Finance-and-Audit-Committee-2018-10-24-Agenda.txt\">TXT</a>]\n",
       "        </div>\n",
       "        <hr>\n",
       "        <div style=\"width: 200px\">\n",
       "        <a href=\"https://www.documentcloud.org/documents/6512030-Finance-and-Audit-Committee-2018-01-24-Agenda.html\"><img style=\"border: 1px solid black\" src=\"https://assets.documentcloud.org/documents/6512030/pages/Finance-and-Audit-Committee-2018-01-24-Agenda-p1-thumbnail.gif\"></a>\n",
       "        <br>Finance and Audit Committee 2018-01-24 - Agenda For The Chicago Board Of Education Finance And Audit Committee Meeting [<a href=\"https://assets.documentcloud.org/documents/6512030/Finance-and-Audit-Committee-2018-01-24-Agenda.txt\">TXT</a>]\n",
       "        </div>\n",
       "        <hr>\n",
       "        <div style=\"width: 200px\">\n",
       "        <a href=\"https://www.documentcloud.org/documents/6509437-City-Planning-Commission-2019-11-07-PH-2019-11.html\"><img style=\"border: 1px solid black\" src=\"https://assets.documentcloud.org/documents/6509437/pages/City-Planning-Commission-2019-11-07-PH-2019-11-p1-thumbnail.gif\"></a>\n",
       "        <br>City Planning Commission 2019-11-07 - PH 2019-11-07 615PM.pdf [<a href=\"https://assets.documentcloud.org/documents/6509437/City-Planning-Commission-2019-11-07-PH-2019-11.txt\">TXT</a>]\n",
       "        </div>\n",
       "        "
      ],
      "text/plain": [
       "<__main__.DocList at 0x110b3cc50>"
      ]
     },
     "execution_count": 111,
     "metadata": {},
     "output_type": "execute_result"
    }
   ],
   "source": [
    "DocList([DocDisplayWidget(x) for x in chk[10:20]])"
   ]
  },
  {
   "cell_type": "code",
   "execution_count": null,
   "metadata": {},
   "outputs": [],
   "source": []
  }
 ],
 "metadata": {
  "kernelspec": {
   "display_name": "Python 3",
   "language": "python",
   "name": "python3"
  },
  "language_info": {
   "codemirror_mode": {
    "name": "ipython",
    "version": 3
   },
   "file_extension": ".py",
   "mimetype": "text/x-python",
   "name": "python",
   "nbconvert_exporter": "python",
   "pygments_lexer": "ipython3",
   "version": "3.7.5"
  }
 },
 "nbformat": 4,
 "nbformat_minor": 4
}
