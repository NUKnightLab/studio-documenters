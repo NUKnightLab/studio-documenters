{
 "cells": [
  {
   "cell_type": "markdown",
   "metadata": {},
   "source": [
    "* [TinyDB Docs](https://tinydb.readthedocs.io/en/latest/usage.html)\n",
    "* [Pillow docs](https://pillow.readthedocs.io/en/stable/)"
   ]
  },
  {
   "cell_type": "code",
   "execution_count": 57,
   "metadata": {},
   "outputs": [],
   "source": [
    "from tinydb import TinyDB, Query\n",
    "import webbrowser\n",
    "from collections import Counter\n",
    "from IPython.core.display import display, HTML"
   ]
  },
  {
   "cell_type": "code",
   "execution_count": 30,
   "metadata": {},
   "outputs": [],
   "source": [
    "db = TinyDB('../data/DocumentCloud/db.json')\n",
    "empty_file_ids = !find ../data/DocumentCloud/text -size 0 | awk -F/ '{print $5}' | awk -F. '{print $1}'\n",
    "recs = db.search(Query().id.one_of(empty_file_ids))"
   ]
  },
  {
   "cell_type": "code",
   "execution_count": 33,
   "metadata": {},
   "outputs": [
    {
     "data": {
      "text/plain": [
       "[('Detroit City Council', 62),\n",
       " ('Detroit Economic Development Corporation', 26),\n",
       " ('Detroit Land Bank Authority', 19),\n",
       " ('Detroit Downtown Development Authority', 19),\n",
       " ('Chicago City Council', 16),\n",
       " ('Summit County Land Bank', 11),\n",
       " ('Chicago Department of Planning and Development', 8),\n",
       " ('Chicago Special Service Area #28 Six Corners', 7),\n",
       " ('Chicago Public Schools', 7),\n",
       " ('Wayne County Government', 7),\n",
       " ('Cook County Health and Hospitals System', 5),\n",
       " ('Detroit City Planning Commission', 4),\n",
       " ('Detroit General Retirement System', 4),\n",
       " ('Detroit Local Development Finance Authority', 4),\n",
       " ('Cook County Government', 3),\n",
       " ('Detroit Eight Mile Woodward Corridor Improvement Authority', 3),\n",
       " ('Chicago Police Department', 3),\n",
       " ('Public Building Commission of Chicago', 2),\n",
       " ('Detroit Police Department', 2),\n",
       " ('Detroit Police and Fire Retirement System', 2),\n",
       " ('Chicago Special Service Area #5 Commercial Ave', 2),\n",
       " ('City Bureau', 2),\n",
       " ('Chicago Committee on Standards and Tests', 1),\n",
       " ('Illinois Arts Council', 1),\n",
       " ('Chicago Metropolitan Pier and Exposition Authority', 1),\n",
       " ('Detroit Next Michigan Development Corporation', 1)]"
      ]
     },
     "execution_count": 33,
     "metadata": {},
     "output_type": "execute_result"
    }
   ],
   "source": [
    "Counter(x['source'] for x in recs).most_common()"
   ]
  },
  {
   "cell_type": "code",
   "execution_count": 53,
   "metadata": {},
   "outputs": [
    {
     "data": {
      "text/plain": [
       "[(1, 54),\n",
       " (2, 30),\n",
       " (3, 18),\n",
       " (7, 13),\n",
       " (4, 13),\n",
       " (11, 9),\n",
       " (10, 8),\n",
       " (5, 6),\n",
       " (14, 5),\n",
       " (8, 4)]"
      ]
     },
     "execution_count": 53,
     "metadata": {},
     "output_type": "execute_result"
    }
   ],
   "source": [
    "Counter(x['pages'] for x in recs).most_common(10)"
   ]
  },
  {
   "cell_type": "code",
   "execution_count": 96,
   "metadata": {},
   "outputs": [],
   "source": [
    "class DocDisplayWidget:\n",
    "    def __init__(self, data):\n",
    "        self.data = data\n",
    "    def _repr_html_(self):\n",
    "        html = f\"\"\"\n",
    "        <div style=\"width: 200px\">\n",
    "        <a href=\\\"{self.data['canonical_url']}\\\"><img style=\"border: 1px solid black\" src=\"{self.data['resources']['thumbnail']}\"></a>\n",
    "        <br>{self.data['title']} [<a href=\\\"{self.data['resources']['text']}\\\">TXT</a>]\n",
    "        </div>\n",
    "        \"\"\"\n",
    "        return html\n",
    "    def __repr__(self):\n",
    "        return f\"{self.data['title']} ({self.data['id']})\"\n",
    "\n",
    "    \n",
    "class DocList:\n",
    "    def __init__(self,docs=None):\n",
    "        if docs is None:\n",
    "            docs = []\n",
    "        self.docs = docs\n",
    "    def add(self, doc):\n",
    "        self.docs.append(doc)\n",
    "    def _repr_html_(self):\n",
    "        return \"<hr>\".join(x._repr_html_() for x in self.docs)\n",
    "    "
   ]
  },
  {
   "cell_type": "code",
   "execution_count": 97,
   "metadata": {},
   "outputs": [
    {
     "data": {
      "text/html": [
       "\n",
       "        <div style=\"width: 200px\">\n",
       "        <a href=\"https://www.documentcloud.org/documents/6568796-Six-Corners-Commission-2019-12-02-Agenda.html\"><img style=\"border: 1px solid black\" src=\"https://assets.documentcloud.org/documents/6568796/pages/Six-Corners-Commission-2019-12-02-Agenda-p1-thumbnail.gif\"></a>\n",
       "        <br>Six Corners Commission 2019-12-02 - Agenda [<a href=\"https://assets.documentcloud.org/documents/6568796/Six-Corners-Commission-2019-12-02-Agenda.txt\">TXT</a>]\n",
       "        </div>\n",
       "        <hr>\n",
       "        <div style=\"width: 200px\">\n",
       "        <a href=\"https://www.documentcloud.org/documents/6564528-Board-of-Directors-2019-07-18-Minutes.html\"><img style=\"border: 1px solid black\" src=\"https://assets.documentcloud.org/documents/6564528/pages/Board-of-Directors-2019-07-18-Minutes-p1-thumbnail.gif\"></a>\n",
       "        <br>Board of Directors 2019-07-18 - Minutes [<a href=\"https://assets.documentcloud.org/documents/6564528/Board-of-Directors-2019-07-18-Minutes.txt\">TXT</a>]\n",
       "        </div>\n",
       "        <hr>\n",
       "        <div style=\"width: 200px\">\n",
       "        <a href=\"https://www.documentcloud.org/documents/6564304-Annual-Board-of-Directors-Meeting-2019-01-29.html\"><img style=\"border: 1px solid black\" src=\"https://assets.documentcloud.org/documents/6564304/pages/Annual-Board-of-Directors-Meeting-2019-01-29-p1-thumbnail.gif\"></a>\n",
       "        <br>Annual Board of Directors Meeting 2019-01-29 - Minutes [<a href=\"https://assets.documentcloud.org/documents/6564304/Annual-Board-of-Directors-Meeting-2019-01-29.txt\">TXT</a>]\n",
       "        </div>\n",
       "        "
      ],
      "text/plain": [
       "<__main__.DocList at 0x111e75d50>"
      ]
     },
     "execution_count": 97,
     "metadata": {},
     "output_type": "execute_result"
    }
   ],
   "source": [
    "DocList([DocDisplayWidget(x) for x in recs[:3]])"
   ]
  },
  {
   "cell_type": "code",
   "execution_count": 109,
   "metadata": {},
   "outputs": [
    {
     "name": "stdout",
     "output_type": "stream",
     "text": [
      "Done, 204 worth checking\n"
     ]
    }
   ],
   "source": [
    "import requests\n",
    "from PIL import Image\n",
    "from io import BytesIO\n",
    "\n",
    "\n",
    "def getcolors(doc):\n",
    "    \"\"\"Return the colors for the thumbnail in this document record\"\"\"\n",
    "    thumb_url = doc['resources']['thumbnail']\n",
    "    r = requests.get(thumb_url)\n",
    "    i = Image.open(BytesIO(r.content))\n",
    "    return i.getcolors()\n",
    "\n",
    "chk = []\n",
    "blank = []\n",
    "\n",
    "for x in recs:\n",
    "    if len(getcolors(x)) > 1:\n",
    "        chk.append(x)\n",
    "    else:\n",
    "        blank.append(x)\n",
    "print(f\"Done, {len(chk)} worth checking\")        \n"
   ]
  },
  {
   "cell_type": "code",
   "execution_count": 115,
   "metadata": {},
   "outputs": [
    {
     "data": {
      "text/html": [
       "\n",
       "        <div style=\"width: 200px\">\n",
       "        <a href=\"https://www.documentcloud.org/documents/6544125-Detroit-City-Council-Formal-Session-2019-11-12.html\"><img style=\"border: 1px solid black\" src=\"https://assets.documentcloud.org/documents/6544125/pages/Detroit-City-Council-Formal-Session-2019-11-12-p1-thumbnail.gif\"></a>\n",
       "        <br>Detroit City Council Formal Session 2019-11-12 - PED FORMAL AGENDA REFERRAL 11-12-2019.Pdf [<a href=\"https://assets.documentcloud.org/documents/6544125/Detroit-City-Council-Formal-Session-2019-11-12.txt\">TXT</a>]\n",
       "        </div>\n",
       "        "
      ],
      "text/plain": [
       "Detroit City Council Formal Session 2019-11-12 - PED FORMAL AGENDA REFERRAL 11-12-2019.Pdf (6544125-Detroit-City-Council-Formal-Session-2019-11-12)"
      ]
     },
     "execution_count": 115,
     "metadata": {},
     "output_type": "execute_result"
    }
   ],
   "source": [
    "# TODO: maybe something more than colors, because there are a couple that are nearly blank but have \n",
    "# just a little schmutz in them, like...\n",
    "DocDisplayWidget(chk[2])"
   ]
  },
  {
   "cell_type": "code",
   "execution_count": 111,
   "metadata": {},
   "outputs": [
    {
     "data": {
      "text/html": [
       "\n",
       "        <div style=\"width: 200px\">\n",
       "        <a href=\"https://www.documentcloud.org/documents/6531993-Detroit-City-Council-New-Business-Session-2019.html\"><img style=\"border: 1px solid black\" src=\"https://assets.documentcloud.org/documents/6531993/pages/Detroit-City-Council-New-Business-Session-2019-p1-thumbnail.gif\"></a>\n",
       "        <br>Detroit City Council New Business Session 2019-10-29 - NEW BUSINESS VOTING 10-29-19.Pdf [<a href=\"https://assets.documentcloud.org/documents/6531993/Detroit-City-Council-New-Business-Session-2019.txt\">TXT</a>]\n",
       "        </div>\n",
       "        <hr>\n",
       "        <div style=\"width: 200px\">\n",
       "        <a href=\"https://www.documentcloud.org/documents/6523829-Board-of-Directors-2019-09-24-MPEA-Board-Minutes.html\"><img style=\"border: 1px solid black\" src=\"https://assets.documentcloud.org/documents/6523829/pages/Board-of-Directors-2019-09-24-MPEA-Board-Minutes-p1-thumbnail.gif\"></a>\n",
       "        <br>Board of Directors 2019-09-24 - MPEA_Board_Minutes_Regular_Session_September_24_2019_Final [<a href=\"https://assets.documentcloud.org/documents/6523829/Board-of-Directors-2019-09-24-MPEA-Board-Minutes.txt\">TXT</a>]\n",
       "        </div>\n",
       "        <hr>\n",
       "        <div style=\"width: 200px\">\n",
       "        <a href=\"https://www.documentcloud.org/documents/6512077-Special-board-meeting-2019-09-18-Agenda-For-The.html\"><img style=\"border: 1px solid black\" src=\"https://assets.documentcloud.org/documents/6512077/pages/Special-board-meeting-2019-09-18-Agenda-For-The-p1-thumbnail.gif\"></a>\n",
       "        <br>Special board meeting 2019-09-18 - Agenda For The Special Board Meeting Of The Board Of Education [<a href=\"https://assets.documentcloud.org/documents/6512077/Special-board-meeting-2019-09-18-Agenda-For-The.txt\">TXT</a>]\n",
       "        </div>\n",
       "        <hr>\n",
       "        <div style=\"width: 200px\">\n",
       "        <a href=\"https://www.documentcloud.org/documents/6512072-Board-of-Police-Commissioners-2019-10-24-Agenda.html\"><img style=\"border: 1px solid black\" src=\"https://assets.documentcloud.org/documents/6512072/pages/Board-of-Police-Commissioners-2019-10-24-Agenda-p1-thumbnail.gif\"></a>\n",
       "        <br>Board of Police Commissioners 2019-10-24 - Agenda-October-24Th-2019_Original.Pdf [<a href=\"https://assets.documentcloud.org/documents/6512072/Board-of-Police-Commissioners-2019-10-24-Agenda.txt\">TXT</a>]\n",
       "        </div>\n",
       "        <hr>\n",
       "        <div style=\"width: 200px\">\n",
       "        <a href=\"https://www.documentcloud.org/documents/6512061-Board-of-Police-Commissioners-2019-10-17-Agenda.html\"><img style=\"border: 1px solid black\" src=\"https://assets.documentcloud.org/documents/6512061/pages/Board-of-Police-Commissioners-2019-10-17-Agenda-p1-thumbnail.gif\"></a>\n",
       "        <br>Board of Police Commissioners 2019-10-17 - Agenda-Oct-17Th-2019_Original.Pdf [<a href=\"https://assets.documentcloud.org/documents/6512061/Board-of-Police-Commissioners-2019-10-17-Agenda.txt\">TXT</a>]\n",
       "        </div>\n",
       "        <hr>\n",
       "        <div style=\"width: 200px\">\n",
       "        <a href=\"https://www.documentcloud.org/documents/6512054-Finance-and-Audit-Committee-2019-07-24-Agenda.html\"><img style=\"border: 1px solid black\" src=\"https://assets.documentcloud.org/documents/6512054/pages/Finance-and-Audit-Committee-2019-07-24-Agenda-p1-thumbnail.gif\"></a>\n",
       "        <br>Finance and Audit Committee 2019-07-24 - Agenda For The Chicago Board Of Education Finance And Audit Committee Meeting [<a href=\"https://assets.documentcloud.org/documents/6512054/Finance-and-Audit-Committee-2019-07-24-Agenda.txt\">TXT</a>]\n",
       "        </div>\n",
       "        <hr>\n",
       "        <div style=\"width: 200px\">\n",
       "        <a href=\"https://www.documentcloud.org/documents/6512050-Finance-and-Audit-Committee-2019-04-24-Agenda.html\"><img style=\"border: 1px solid black\" src=\"https://assets.documentcloud.org/documents/6512050/pages/Finance-and-Audit-Committee-2019-04-24-Agenda-p1-thumbnail.gif\"></a>\n",
       "        <br>Finance and Audit Committee 2019-04-24 - Agenda For The Chicago Board Of Education Finance And Audit Committee Meeting [<a href=\"https://assets.documentcloud.org/documents/6512050/Finance-and-Audit-Committee-2019-04-24-Agenda.txt\">TXT</a>]\n",
       "        </div>\n",
       "        <hr>\n",
       "        <div style=\"width: 200px\">\n",
       "        <a href=\"https://www.documentcloud.org/documents/6512047-Finance-and-Audit-Committee-2018-10-24-Agenda.html\"><img style=\"border: 1px solid black\" src=\"https://assets.documentcloud.org/documents/6512047/pages/Finance-and-Audit-Committee-2018-10-24-Agenda-p1-thumbnail.gif\"></a>\n",
       "        <br>Finance and Audit Committee 2018-10-24 - Agenda For The Chicago Board Of Education Finance And Audit Committee Meeting [<a href=\"https://assets.documentcloud.org/documents/6512047/Finance-and-Audit-Committee-2018-10-24-Agenda.txt\">TXT</a>]\n",
       "        </div>\n",
       "        <hr>\n",
       "        <div style=\"width: 200px\">\n",
       "        <a href=\"https://www.documentcloud.org/documents/6512030-Finance-and-Audit-Committee-2018-01-24-Agenda.html\"><img style=\"border: 1px solid black\" src=\"https://assets.documentcloud.org/documents/6512030/pages/Finance-and-Audit-Committee-2018-01-24-Agenda-p1-thumbnail.gif\"></a>\n",
       "        <br>Finance and Audit Committee 2018-01-24 - Agenda For The Chicago Board Of Education Finance And Audit Committee Meeting [<a href=\"https://assets.documentcloud.org/documents/6512030/Finance-and-Audit-Committee-2018-01-24-Agenda.txt\">TXT</a>]\n",
       "        </div>\n",
       "        <hr>\n",
       "        <div style=\"width: 200px\">\n",
       "        <a href=\"https://www.documentcloud.org/documents/6509437-City-Planning-Commission-2019-11-07-PH-2019-11.html\"><img style=\"border: 1px solid black\" src=\"https://assets.documentcloud.org/documents/6509437/pages/City-Planning-Commission-2019-11-07-PH-2019-11-p1-thumbnail.gif\"></a>\n",
       "        <br>City Planning Commission 2019-11-07 - PH 2019-11-07 615PM.pdf [<a href=\"https://assets.documentcloud.org/documents/6509437/City-Planning-Commission-2019-11-07-PH-2019-11.txt\">TXT</a>]\n",
       "        </div>\n",
       "        "
      ],
      "text/plain": [
       "<__main__.DocList at 0x110b3cc50>"
      ]
     },
     "execution_count": 111,
     "metadata": {},
     "output_type": "execute_result"
    }
   ],
   "source": [
    "DocList([DocDisplayWidget(x) for x in chk[10:20]])"
   ]
  }
 ],
 "metadata": {
  "kernelspec": {
   "display_name": "Python 3",
   "language": "python",
   "name": "python3"
  },
  "language_info": {
   "codemirror_mode": {
    "name": "ipython",
    "version": 3
   },
   "file_extension": ".py",
   "mimetype": "text/x-python",
   "name": "python",
   "nbconvert_exporter": "python",
   "pygments_lexer": "ipython3",
   "version": "3.7.5"
  }
 },
 "nbformat": 4,
 "nbformat_minor": 4
}
