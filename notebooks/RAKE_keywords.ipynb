{
 "cells": [
  {
   "cell_type": "markdown",
   "metadata": {},
   "source": [
    "# Using RAKE to extract keywords from documents\n",
    "\n",
    "There is some quirkiness here because the python-rake implementation considers newlines just to be standard whitespace, whereas newlines in the OCR docs may or may not indicate semantic breaks.\n",
    "\n",
    "This is a quick way to get a sense of a small corpus. Rake's keywords tend to be more informative than single-token approaches such as a unigram tf-idf.\n",
    "\n",
    "Here, we round rake's keyword scores so they can be used as counts for a crude weighting mechanism for measuring keyword importance."
   ]
  },
  {
   "cell_type": "code",
   "execution_count": 22,
   "metadata": {},
   "outputs": [],
   "source": [
    "import os\n",
    "\n",
    "DATADIR = '../data/DocumentCloud/subset'\n",
    "\n",
    "def documents(datadir=DATADIR):\n",
    "    for fn in os.listdir(datadir):\n",
    "        yield open(os.path.join(datadir, fn)).read()\n",
    "docs = [doc for doc in documents()]"
   ]
  },
  {
   "cell_type": "code",
   "execution_count": 21,
   "metadata": {},
   "outputs": [
    {
     "name": "stdout",
     "output_type": "stream",
     "text": [
      "['chicago transit authority office', 'chicago transit authority', '567 west lake street', 'unanimous voice vote', 'sales award recommendations', 'chicago', 'employee retirement review committee', 'ordinance authorizing', 'cta related policy matters', 'employee retirement review committee 567', 'secretary notice', 'committee', 'transit board', 'lake street board room', 'meeting', 'regular meeting', '“transit board meetings”', 'chicago transit board', '“meeting notices', 'public comment', 'directors terry peterson', 'posted agenda', 'strategic planning', 'sales award recommendations 2', 'executive session', 'real estate matters', 'capital construction projects', 'general operations issues 4', 'chairman peterson asked', 'arabel alva rosales']\n"
     ]
    }
   ],
   "source": [
    "import RAKE\n",
    "from collections import Counter\n",
    "\n",
    "keywords = Counter()\n",
    "rake = RAKE.Rake(RAKE.SmartStopList())\n",
    "for doc in docs:\n",
    "    keywords.update({k:round(v) for k,v in rake.run(doc) if '\\n\\n' not in k})\n",
    "print([k.replace('\\n', ' ') for k,v in keywords.most_common(30)])"
   ]
  },
  {
   "cell_type": "code",
   "execution_count": null,
   "metadata": {},
   "outputs": [],
   "source": []
  }
 ],
 "metadata": {
  "kernelspec": {
   "display_name": "Python 3",
   "language": "python",
   "name": "python3"
  },
  "language_info": {
   "codemirror_mode": {
    "name": "ipython",
    "version": 3
   },
   "file_extension": ".py",
   "mimetype": "text/x-python",
   "name": "python",
   "nbconvert_exporter": "python",
   "pygments_lexer": "ipython3",
   "version": "3.7.2"
  }
 },
 "nbformat": 4,
 "nbformat_minor": 2
}
